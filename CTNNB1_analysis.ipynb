{
 "cells": [
  {
   "cell_type": "code",
   "execution_count": 1,
   "metadata": {},
   "outputs": [
    {
     "data": {
      "text/plain": [
       "RendererRegistry.enable('notebook')"
      ]
     },
     "execution_count": 1,
     "metadata": {},
     "output_type": "execute_result"
    }
   ],
   "source": [
    "import pandas as pd\n",
    "import numpy as np\n",
    "import scipy.stats\n",
    "from scipy.stats import pearsonr\n",
    "import matplotlib.pyplot as plt\n",
    "import seaborn as sns\n",
    "import altair as alt\n",
    "\n",
    "alt.renderers.enable('notebook')"
   ]
  },
  {
   "cell_type": "code",
   "execution_count": 2,
   "metadata": {},
   "outputs": [
    {
     "name": "stdout",
     "output_type": "stream",
     "text": [
      "Loading Clinical Data...\n",
      "Loading Proteomics Data...\n",
      "Loading Transcriptomics Data...\n",
      "Loading CNA Data...\n",
      "Loading Phosphoproteomics Data...\n",
      "Loading Somatic Data...\n",
      "\n",
      " ******PLEASE READ******\n",
      "WARNING: This data is under a publication embargo until July 1, 2019. CPTAC is a community resource project and data are made available rapidly after generation for community research use. The embargo allows exploring and utilizing the data, but the data may not be in a publication until July 1, 2019. Please see https://proteomics.cancer.gov/data-portal/about/data-use-agreement, or enter CPTAC.embargo() to open the webpage for more details.\n"
     ]
    }
   ],
   "source": [
    "import CPTAC"
   ]
  },
  {
   "cell_type": "code",
   "execution_count": 3,
   "metadata": {},
   "outputs": [],
   "source": [
    "somatic_mutations = CPTAC.get_somatic()\n",
    "proteomics = CPTAC.get_proteomics()\n",
    "phos = CPTAC.get_phosphoproteomics()"
   ]
  },
  {
   "cell_type": "markdown",
   "metadata": {},
   "source": [
    "Test for protein levels (mutation in a gene with protein levels of any protein)"
   ]
  },
  {
   "cell_type": "code",
   "execution_count": 32,
   "metadata": {},
   "outputs": [
    {
     "name": "stdout",
     "output_type": "stream",
     "text": [
      "0.05\n",
      "Test for APC: \n",
      "Ttest_indResult(statistic=2.3788061421962734, pvalue=0.019306819408921982)\n"
     ]
    }
   ],
   "source": [
    "gene = 'CTNNB1'\n",
    "protList = ['APC']\n",
    "\n",
    "pcutoff = 0.05/len(protList)\n",
    "print(pcutoff)\n",
    "\n",
    "genedf = somatic_mutations[gene].to_frame()\n",
    "for protein in protList:\n",
    "    if protein in proteomics.columns:\n",
    "        proteindf = proteomics[protein].to_frame()\n",
    "        cross = genedf.add(proteindf, fill_value=0).dropna(axis=0)\n",
    "        mutated = cross.loc[cross[gene] == 1.0]\n",
    "        wt = cross.loc[cross[gene] == 0.0]\n",
    "        ttest = scipy.stats.ttest_ind(mutated[protein], wt[protein])\n",
    "        print(\"Test for \" + protein + \": \")\n",
    "        print(ttest)"
   ]
  },
  {
   "cell_type": "markdown",
   "metadata": {},
   "source": [
    "Boxplot"
   ]
  },
  {
   "cell_type": "code",
   "execution_count": 33,
   "metadata": {},
   "outputs": [
    {
     "data": {
      "text/plain": [
       "[Text(0, 0.5, 'Proteomics'), Text(0.5, 0, 'Somatic Gene Mutation')]"
      ]
     },
     "execution_count": 33,
     "metadata": {},
     "output_type": "execute_result"
    },
    {
     "data": {
      "image/png": "[encoded data removed]",
      "text/plain": [
       "<Figure size 432x288 with 1 Axes>"
      ]
     },
     "metadata": {
      "needs_background": "light"
     },
     "output_type": "display_data"
    }
   ],
   "source": [
    "somatic_boxplot = sns.boxplot(data=cross, x=gene ,y=protList[0])\n",
    "somatic_boxplot.set_title(gene + \" gene mutation and \" + protList[0] + \" protein abundance\")\n",
    "somatic_boxplot = sns.stripplot(data=cross, x=gene, y=protList[0],jitter=True, color=\".3\")\n",
    "somatic_boxplot.set(xlabel=\"Somatic Gene Mutation\",ylabel=\"Proteomics\")"
   ]
  },
  {
   "cell_type": "markdown",
   "metadata": {},
   "source": [
    "Test for phosphorylation levels (mutation in a gene with phosphorylation of any protein)"
   ]
  },
  {
   "cell_type": "code",
   "execution_count": 21,
   "metadata": {},
   "outputs": [
    {
     "name": "stdout",
     "output_type": "stream",
     "text": [
      "      CTNNB1  CTNNB1-S191  CTNNB1-S552\n",
      "S001     0.0        -0.10        -0.04\n",
      "S002     0.0         0.39         0.13\n",
      "S003     0.0        -0.34         0.47\n",
      "S004     0.0         1.08         0.47\n",
      "S005     0.0         0.82        -0.08\n",
      "S006     1.0         1.00         0.52\n",
      "S007     1.0         0.57         1.19\n",
      "S008     0.0         0.08        -0.59\n",
      "S009     0.0         0.30         0.07\n",
      "S010     1.0         0.03        -0.20\n",
      "S011     1.0        -0.18         0.22\n",
      "S012     0.0        -0.99        -0.71\n",
      "S013     0.0         0.55        -0.54\n",
      "S014     0.0        -0.17        -0.91\n",
      "S015     0.0         0.25        -0.55\n",
      "S016     0.0         0.48        -0.07\n",
      "S017     1.0         0.55        -0.42\n",
      "S018     1.0        -0.05         1.35\n",
      "S019     0.0        -1.73         0.40\n",
      "S020     1.0         0.62         0.70\n",
      "S021     1.0         0.67        -0.11\n",
      "S022     1.0         0.50         0.21\n",
      "S023     1.0         0.38         0.08\n",
      "S024     1.0         0.83         0.50\n",
      "S025     1.0         0.19        -0.04\n",
      "S026     1.0        -0.69         0.41\n",
      "S027     1.0         0.03        -0.25\n",
      "S028     0.0        -6.12         0.29\n",
      "S029     0.0         0.09         0.12\n",
      "S030     0.0         0.40         0.20\n",
      "...      ...          ...          ...\n",
      "S111     NaN        -0.42        -0.66\n",
      "S112     NaN        -0.40         0.24\n",
      "S113     NaN         0.26         0.05\n",
      "S114     NaN        -0.38        -0.14\n",
      "S115     NaN        -0.05        -0.07\n",
      "S116     NaN        -0.51        -0.18\n",
      "S117     NaN        -0.34        -0.03\n",
      "S118     NaN        -0.18        -0.76\n",
      "S119     NaN         0.45        -0.83\n",
      "S120     NaN        -0.86         0.42\n",
      "S121     NaN         0.15        -0.16\n",
      "S122     NaN         0.55         1.22\n",
      "S123     NaN        -0.55         0.12\n",
      "S124     NaN         0.51        -0.26\n",
      "S125     NaN        -0.13         0.24\n",
      "S126     NaN        -0.05         0.36\n",
      "S127     NaN         0.14         0.94\n",
      "S128     NaN         0.48         1.16\n",
      "S129     NaN        -0.22         0.91\n",
      "S130     NaN        -0.18         0.02\n",
      "S131     NaN        -0.42         0.39\n",
      "S132     NaN        -0.10         1.23\n",
      "S133     NaN        -0.09         0.97\n",
      "S134     NaN         0.26         0.74\n",
      "S135     NaN         0.32        -0.57\n",
      "S136     NaN         0.05        -0.09\n",
      "S137     NaN         0.10         0.16\n",
      "S138     NaN        -0.01         0.27\n",
      "S139     NaN         0.29        -0.09\n",
      "S140     NaN        -0.73        -0.81\n",
      "\n",
      "[140 rows x 3 columns]\n",
      "0.016666666666666666\n",
      "Results for CTNNB1-S191: \n",
      "Ttest_indResult(statistic=2.2692264290923103, pvalue=0.02544664965354751)\n",
      "Results for CTNNB1-S552: \n",
      "Ttest_indResult(statistic=2.163602875652791, pvalue=0.0329258305710386)\n"
     ]
    }
   ],
   "source": [
    "gene = 'CTNNB1'\n",
    "sites = phos.filter(regex='CTNNB1')\n",
    "sigResults = [];\n",
    "\n",
    "genedf = somatic_mutations[gene].to_frame()\n",
    "cross = genedf.add(sites, fill_value=0)\n",
    "mutated = cross.loc[cross[gene] == 1.0]\n",
    "wt = cross.loc[cross[gene] == 0.0]\n",
    "\n",
    "pcutoff = 0.05/len(cross.columns)\n",
    "print(cross)\n",
    "print(pcutoff)\n",
    "\n",
    "for loc in cross.columns:\n",
    "    if not loc == gene:\n",
    "        mutsitedf = mutated[[gene, loc]].dropna()\n",
    "        wtsitedf = wt[[gene, loc]].dropna()\n",
    "        ttest = scipy.stats.ttest_ind(mutsitedf[loc], wtsitedf[loc])\n",
    "    #if ttest[1] <= pcutoff:\n",
    "        sigResults.append(loc)\n",
    "        print('Results for ' + loc + ': ')\n",
    "        print(ttest)"
   ]
  },
  {
   "cell_type": "code",
   "execution_count": null,
   "metadata": {},
   "outputs": [],
   "source": []
  }
 ],
 "metadata": {
  "kernelspec": {
   "display_name": "Python 3",
   "language": "python",
   "name": "python3"
  },
  "language_info": {
   "codemirror_mode": {
    "name": "ipython",
    "version": 3
   },
   "file_extension": ".py",
   "mimetype": "text/x-python",
   "name": "python",
   "nbconvert_exporter": "python",
   "pygments_lexer": "ipython3",
   "version": "3.7.0"
  }
 },
 "nbformat": 4,
 "nbformat_minor": 2
}
