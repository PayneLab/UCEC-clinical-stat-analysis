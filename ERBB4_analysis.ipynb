{
 "cells": [
  {
   "cell_type": "code",
   "execution_count": 1,
   "metadata": {},
   "outputs": [],
   "source": [
    "import pandas as pd\n",
    "import numpy as np\n",
    "import matplotlib.pyplot as plt\n",
    "import seaborn as sns"
   ]
  },
  {
   "cell_type": "code",
   "execution_count": 2,
   "metadata": {},
   "outputs": [
    {
     "name": "stdout",
     "output_type": "stream",
     "text": [
      "Loading Clinical Data...\n",
      "Loading Proteomics Data...\n",
      "Loading Transcriptomics Data...\n",
      "Loading CNA Data...\n",
      "Loading Phosphoproteomics Data...\n",
      "Loading Somatic Data...\n",
      "\n",
      " ******PLEASE READ******\n",
      "WARNING: This data is under a publication embargo until July 1, 2019. CPTAC is a community resource project and data are made available rapidly after generation for community research use. The embargo allows exploring and utilizing the data, but the data may not be in a publication until July 1, 2019. Please see https://proteomics.cancer.gov/data-portal/about/data-use-agreement, or enter CPTAC.embargo() to open the webpage for more details.\n"
     ]
    }
   ],
   "source": [
    "import CPTAC"
   ]
  },
  {
   "cell_type": "code",
   "execution_count": 9,
   "metadata": {},
   "outputs": [
    {
     "data": {
      "text/html": [
       "<div>\n",
       "<style scoped>\n",
       "    .dataframe tbody tr th:only-of-type {\n",
       "        vertical-align: middle;\n",
       "    }\n",
       "\n",
       "    .dataframe tbody tr th {\n",
       "        vertical-align: top;\n",
       "    }\n",
       "\n",
       "    .dataframe thead th {\n",
       "        text-align: right;\n",
       "    }\n",
       "</style>\n",
       "<table border=\"1\" class=\"dataframe\">\n",
       "  <thead>\n",
       "    <tr style=\"text-align: right;\">\n",
       "      <th>idx</th>\n",
       "      <th>AAAS-S495</th>\n",
       "      <th>AAK1-S18</th>\n",
       "      <th>AAK1-S20</th>\n",
       "      <th>AAK1-S21</th>\n",
       "      <th>AAK1-S624</th>\n",
       "      <th>AAK1-S637</th>\n",
       "      <th>AAK1-S670</th>\n",
       "      <th>AAK1-S678</th>\n",
       "      <th>AAK1-S682</th>\n",
       "      <th>AAK1-S731</th>\n",
       "      <th>...</th>\n",
       "      <th>ZZEF1-S1464</th>\n",
       "      <th>ZZEF1-S1488</th>\n",
       "      <th>ZZEF1-S1501</th>\n",
       "      <th>ZZEF1-S1518</th>\n",
       "      <th>ZZEF1-S2444</th>\n",
       "      <th>ZZEF1-T1477</th>\n",
       "      <th>ZZEF1-T1512</th>\n",
       "      <th>ZZEF1-T1521</th>\n",
       "      <th>ZZZ3-S397</th>\n",
       "      <th>ZZZ3-S426</th>\n",
       "    </tr>\n",
       "  </thead>\n",
       "  <tbody>\n",
       "    <tr>\n",
       "      <th>S001</th>\n",
       "      <td>NaN</td>\n",
       "      <td>-0.28</td>\n",
       "      <td>0.44</td>\n",
       "      <td>0.52</td>\n",
       "      <td>-0.70</td>\n",
       "      <td>-0.68</td>\n",
       "      <td>-0.49</td>\n",
       "      <td>-0.43</td>\n",
       "      <td>-0.93</td>\n",
       "      <td>NaN</td>\n",
       "      <td>...</td>\n",
       "      <td>-0.28</td>\n",
       "      <td>-0.20</td>\n",
       "      <td>-0.11</td>\n",
       "      <td>-0.11</td>\n",
       "      <td>-0.08</td>\n",
       "      <td>-0.27</td>\n",
       "      <td>NaN</td>\n",
       "      <td>0.24</td>\n",
       "      <td>0.42</td>\n",
       "      <td>-0.26</td>\n",
       "    </tr>\n",
       "    <tr>\n",
       "      <th>S002</th>\n",
       "      <td>NaN</td>\n",
       "      <td>-0.53</td>\n",
       "      <td>-1.14</td>\n",
       "      <td>0.10</td>\n",
       "      <td>-0.66</td>\n",
       "      <td>-0.42</td>\n",
       "      <td>-0.43</td>\n",
       "      <td>-0.29</td>\n",
       "      <td>-0.39</td>\n",
       "      <td>-0.25</td>\n",
       "      <td>...</td>\n",
       "      <td>0.44</td>\n",
       "      <td>0.37</td>\n",
       "      <td>0.60</td>\n",
       "      <td>0.33</td>\n",
       "      <td>NaN</td>\n",
       "      <td>1.13</td>\n",
       "      <td>1.00</td>\n",
       "      <td>0.34</td>\n",
       "      <td>-0.19</td>\n",
       "      <td>-0.55</td>\n",
       "    </tr>\n",
       "    <tr>\n",
       "      <th>S003</th>\n",
       "      <td>-0.29</td>\n",
       "      <td>0.42</td>\n",
       "      <td>-0.05</td>\n",
       "      <td>-0.06</td>\n",
       "      <td>-0.03</td>\n",
       "      <td>0.80</td>\n",
       "      <td>NaN</td>\n",
       "      <td>-1.41</td>\n",
       "      <td>0.16</td>\n",
       "      <td>-0.09</td>\n",
       "      <td>...</td>\n",
       "      <td>1.05</td>\n",
       "      <td>0.61</td>\n",
       "      <td>NaN</td>\n",
       "      <td>0.36</td>\n",
       "      <td>0.53</td>\n",
       "      <td>0.52</td>\n",
       "      <td>0.28</td>\n",
       "      <td>-0.27</td>\n",
       "      <td>NaN</td>\n",
       "      <td>NaN</td>\n",
       "    </tr>\n",
       "    <tr>\n",
       "      <th>S004</th>\n",
       "      <td>0.15</td>\n",
       "      <td>NaN</td>\n",
       "      <td>-0.54</td>\n",
       "      <td>-0.17</td>\n",
       "      <td>0.21</td>\n",
       "      <td>-0.17</td>\n",
       "      <td>0.58</td>\n",
       "      <td>0.50</td>\n",
       "      <td>NaN</td>\n",
       "      <td>-0.52</td>\n",
       "      <td>...</td>\n",
       "      <td>0.03</td>\n",
       "      <td>-0.18</td>\n",
       "      <td>NaN</td>\n",
       "      <td>0.68</td>\n",
       "      <td>0.28</td>\n",
       "      <td>NaN</td>\n",
       "      <td>0.85</td>\n",
       "      <td>-0.32</td>\n",
       "      <td>0.03</td>\n",
       "      <td>-0.75</td>\n",
       "    </tr>\n",
       "    <tr>\n",
       "      <th>S005</th>\n",
       "      <td>0.60</td>\n",
       "      <td>0.64</td>\n",
       "      <td>-0.05</td>\n",
       "      <td>-0.08</td>\n",
       "      <td>0.14</td>\n",
       "      <td>0.63</td>\n",
       "      <td>0.52</td>\n",
       "      <td>-0.76</td>\n",
       "      <td>-0.30</td>\n",
       "      <td>-0.01</td>\n",
       "      <td>...</td>\n",
       "      <td>-0.54</td>\n",
       "      <td>0.48</td>\n",
       "      <td>-0.70</td>\n",
       "      <td>0.26</td>\n",
       "      <td>-0.59</td>\n",
       "      <td>-0.66</td>\n",
       "      <td>-0.13</td>\n",
       "      <td>-0.21</td>\n",
       "      <td>-0.10</td>\n",
       "      <td>0.15</td>\n",
       "    </tr>\n",
       "  </tbody>\n",
       "</table>\n",
       "<p>5 rows × 20534 columns</p>\n",
       "</div>"
      ],
      "text/plain": [
       "idx   AAAS-S495  AAK1-S18  AAK1-S20  AAK1-S21  AAK1-S624  AAK1-S637  \\\n",
       "S001        NaN     -0.28      0.44      0.52      -0.70      -0.68   \n",
       "S002        NaN     -0.53     -1.14      0.10      -0.66      -0.42   \n",
       "S003      -0.29      0.42     -0.05     -0.06      -0.03       0.80   \n",
       "S004       0.15       NaN     -0.54     -0.17       0.21      -0.17   \n",
       "S005       0.60      0.64     -0.05     -0.08       0.14       0.63   \n",
       "\n",
       "idx   AAK1-S670  AAK1-S678  AAK1-S682  AAK1-S731    ...      ZZEF1-S1464  \\\n",
       "S001      -0.49      -0.43      -0.93        NaN    ...            -0.28   \n",
       "S002      -0.43      -0.29      -0.39      -0.25    ...             0.44   \n",
       "S003        NaN      -1.41       0.16      -0.09    ...             1.05   \n",
       "S004       0.58       0.50        NaN      -0.52    ...             0.03   \n",
       "S005       0.52      -0.76      -0.30      -0.01    ...            -0.54   \n",
       "\n",
       "idx   ZZEF1-S1488  ZZEF1-S1501  ZZEF1-S1518  ZZEF1-S2444  ZZEF1-T1477  \\\n",
       "S001        -0.20        -0.11        -0.11        -0.08        -0.27   \n",
       "S002         0.37         0.60         0.33          NaN         1.13   \n",
       "S003         0.61          NaN         0.36         0.53         0.52   \n",
       "S004        -0.18          NaN         0.68         0.28          NaN   \n",
       "S005         0.48        -0.70         0.26        -0.59        -0.66   \n",
       "\n",
       "idx   ZZEF1-T1512  ZZEF1-T1521  ZZZ3-S397  ZZZ3-S426  \n",
       "S001          NaN         0.24       0.42      -0.26  \n",
       "S002         1.00         0.34      -0.19      -0.55  \n",
       "S003         0.28        -0.27        NaN        NaN  \n",
       "S004         0.85        -0.32       0.03      -0.75  \n",
       "S005        -0.13        -0.21      -0.10       0.15  \n",
       "\n",
       "[5 rows x 20534 columns]"
      ]
     },
     "execution_count": 9,
     "metadata": {},
     "output_type": "execute_result"
    }
   ],
   "source": [
    "somatic_mutations = CPTAC.get_somatic()\n",
    "proteomics = CPTAC.get_proteomics()\n",
    "phos = CPTAC.get_phosphoproteomics()\n",
    "phos.head()"
   ]
  },
  {
   "cell_type": "code",
   "execution_count": 5,
   "metadata": {},
   "outputs": [
    {
     "name": "stdout",
     "output_type": "stream",
     "text": [
      "ERBB4\n"
     ]
    }
   ],
   "source": [
    "high = somatic_mutations.sum() == max(somatic_mutations.sum())\n",
    "gene = \"ERBB4\"\n",
    "print(gene)"
   ]
  },
  {
   "cell_type": "code",
   "execution_count": 6,
   "metadata": {},
   "outputs": [],
   "source": [
    "cross = CPTAC.compare_gene(somatic_mutations, proteomics, gene)"
   ]
  },
  {
   "cell_type": "code",
   "execution_count": 8,
   "metadata": {},
   "outputs": [
    {
     "data": {
      "image/png": "[encoded data removed]",
      "text/plain": [
       "<Figure size 432x288 with 1 Axes>"
      ]
     },
     "metadata": {
      "needs_background": "light"
     },
     "output_type": "display_data"
    }
   ],
   "source": [
    "somatic_boxplot = sns.boxplot(data=cross, x=\"somatic\",y=\"proteomics\")\n",
    "somatic_boxplot.set_title(\"ERBB4 gene mutation protein abundance\")\n",
    "somatic_boxplot = sns.stripplot(data=cross, x=\"somatic\", y=\"proteomics\",jitter=True, color=\".3\")\n",
    "somatic_boxplot.set(xlabel=\"Somatic Gene Mutation\",ylabel=\"Proteomics\")\n",
    "plt.savefig(\"uc4PTEN.pdf\",dpi = 300)"
   ]
  },
  {
   "cell_type": "code",
   "execution_count": null,
   "metadata": {},
   "outputs": [],
   "source": [
    "pcutoff = 0.05 / len(proteomics.columns)\n",
    "pcutoff"
   ]
  }
 ],
 "metadata": {
  "kernelspec": {
   "display_name": "Python 3",
   "language": "python",
   "name": "python3"
  },
  "language_info": {
   "codemirror_mode": {
    "name": "ipython",
    "version": 3
   },
   "file_extension": ".py",
   "mimetype": "text/x-python",
   "name": "python",
   "nbconvert_exporter": "python",
   "pygments_lexer": "ipython3",
   "version": "3.7.0"
  }
 },
 "nbformat": 4,
 "nbformat_minor": 2
}
