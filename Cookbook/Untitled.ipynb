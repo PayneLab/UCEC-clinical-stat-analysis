{
 "cells": [
  {
   "cell_type": "code",
   "execution_count": null,
   "metadata": {},
   "outputs": [],
   "source": [
    "'''Edit Below'''\n",
    "gene = \n",
    "\n",
    "hotspot = True # true or false\n",
    "proteomics = True #true or false\n",
    "phosphoproteomics  = True #true or false\n",
    "transcriptomics = True #true or false\n",
    "subtype = True #true or false\n",
    "dataset = 'Endometrial' #options are Endometrial, Ovarian, etc.\n",
    "\n",
    "if dataset == 'Endometrial':\n",
    "    import CPTAC.Endometrial as CPTAC\n",
    "if dataset == 'Ovarian':\n",
    "    pass"
   ]
  }
 ],
 "metadata": {
  "kernelspec": {
   "display_name": "Python 3",
   "language": "python",
   "name": "python3"
  },
  "language_info": {
   "codemirror_mode": {
    "name": "ipython",
    "version": 3
   },
   "file_extension": ".py",
   "mimetype": "text/x-python",
   "name": "python",
   "nbconvert_exporter": "python",
   "pygments_lexer": "ipython3",
   "version": "3.6.8"
  }
 },
 "nbformat": 4,
 "nbformat_minor": 2
}
