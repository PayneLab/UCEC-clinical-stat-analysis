{
 "cells": [
  {
   "cell_type": "markdown",
   "metadata": {},
   "source": [
    "This notebook is being used to build the part of the cookbook that will perform the analyses. This will be merged in the future once all parts of the cookbook are complete. "
   ]
  },
  {
   "cell_type": "markdown",
   "metadata": {},
   "source": [
    "## Import packages"
   ]
  },
  {
   "cell_type": "code",
   "execution_count": 39,
   "metadata": {},
   "outputs": [
    {
     "name": "stdout",
     "output_type": "stream",
     "text": [
      "Welcome to the CPTAC data service package. Available datasets may be\n",
      "viewed using CPTAC.list(). In order to access a specific data set,\n",
      "import a CPTAC subfolder using either 'import CPTAC.Dataset' or 'from\n",
      "CPTAC import Dataset'.\n",
      "******\n",
      "Version: 0.2.5\n",
      "******\n",
      "Loading Endometrial CPTAC data:\n",
      "Loading Dictionary...\n",
      "Loading Clinical Data...\n",
      "Loading Acetylation Proteomics Data...\n",
      "Loading Proteomics Data...\n",
      "Loading Transcriptomics Data...\n",
      "Loading CNA Data...\n",
      "Loading Phosphoproteomics Data...\n",
      "Loading Somatic Mutation Data...\n",
      "\n",
      " ******PLEASE READ******\n",
      "WARNING: This data is under a publication embargo until July 1, 2019.\n",
      "CPTAC is a community resource project and data are made available\n",
      "rapidly after generation for community research use. The embargo\n",
      "allows exploring and utilizing the data, but the data may not be in a\n",
      "publication until July 1, 2019. Please see\n",
      "https://proteomics.cancer.gov/data-portal/about/data-use-agreement or\n",
      "enter embargo() to open the webpage for more details.\n"
     ]
    }
   ],
   "source": [
    "import pandas as pd\n",
    "import numpy as np\n",
    "import scipy.stats\n",
    "from scipy.stats import pearsonr\n",
    "import matplotlib.pyplot as plt\n",
    "import re\n",
    "import seaborn as sns\n",
    "import statsmodels.stats.multitest\n",
    "import sys\n",
    "import urllib3\n",
    "import json\n",
    "\n",
    "import CPTAC.Endometrial as CPTAC"
   ]
  },
  {
   "cell_type": "markdown",
   "metadata": {},
   "source": [
    "## Edit desired variables"
   ]
  },
  {
   "cell_type": "code",
   "execution_count": 40,
   "metadata": {},
   "outputs": [],
   "source": [
    "'''Mutated gene of interest'''\n",
    "gene = 'PIK3CA'\n",
    "\n",
    "'''Database of interest'''\n",
    "database = 'Endometrial'\n",
    "\n",
    "'''Select which dataframes you want to analyze '''\n",
    "proteomics = True\n",
    "phosphoproteomics = True\n",
    "transcriptomics = True\n",
    "sub_type = True"
   ]
  },
  {
   "cell_type": "markdown",
   "metadata": {},
   "source": [
    "## Get the dataframes"
   ]
  },
  {
   "cell_type": "code",
   "execution_count": 42,
   "metadata": {},
   "outputs": [],
   "source": [
    "somatic = CPTAC.get_somatic()\n",
    "proteomics = CPTAC.get_proteomics()\n",
    "phos = CPTAC.get_phosphoproteomics()"
   ]
  },
  {
   "cell_type": "markdown",
   "metadata": {},
   "source": [
    "## General gene statistics"
   ]
  },
  {
   "cell_type": "code",
   "execution_count": 51,
   "metadata": {},
   "outputs": [
    {
     "name": "stdout",
     "output_type": "stream",
     "text": [
      "Patients with hotspot mutations: \n",
      "\n",
      "160      S001\n",
      "1147     S003\n",
      "1357     S009\n",
      "4630     S021\n",
      "16486    S023\n",
      "19061    S024\n",
      "21259    S032\n",
      "21516    S033\n",
      "22497    S038\n",
      "37421    S061\n",
      "38155    S063\n",
      "39522    S066\n",
      "43391    S067\n",
      "43490    S068\n",
      "46662    S084\n",
      "47360    S088\n",
      "47857    S090\n",
      "49362    S097\n",
      "49475    S098\n",
      "Name: Clinical_Patient_Key, dtype: object\n"
     ]
    }
   ],
   "source": [
    "'''Get the hotspot3D output '''\n",
    "hotspot_data = pd.ExcelFile('../HotSpot3D_Output/HotSpot3DOutput.xlsx')\n",
    "\n",
    "'''Get the sheet name called Clusters to find the protein hotspot'''\n",
    "clusters = hotspot_data.parse('Clusters')\n",
    "\n",
    "\n",
    "try:\n",
    "    '''Check if the gene of interest has a hotspot'''\n",
    "    hotspot_areas = clusters.loc[clusters['Gene/Drug'] == gene]\n",
    "    hotspot_mutations = hotspot_areas['Mutation/Gene']\n",
    "    hotspot_mutations = hotspot_mutations.tolist()\n",
    "\n",
    "    '''A list of mutations present in the hotspot according to our Hotspot3D output'''\n",
    "    mutated_hotspot = somatic.loc[(somatic['Location'].isin(hotspot_mutations)) & (somatic['Gene'] == gene)]\n",
    "    hotspot_patients = mutated_hotspot['Clinical_Patient_Key']\n",
    "    print('Patients with hotspot mutations: \\n')\n",
    "    print(hotspot_patients)\n",
    "    \n",
    "except:\n",
    "    print('{}' '{}'.format(gene, ' does not have a hotspot in our data.'))\n",
    "    hotspot = False"
   ]
  },
  {
   "cell_type": "code",
   "execution_count": null,
   "metadata": {},
   "outputs": [],
   "source": []
  }
 ],
 "metadata": {
  "kernelspec": {
   "display_name": "Python 3",
   "language": "python",
   "name": "python3"
  },
  "language_info": {
   "codemirror_mode": {
    "name": "ipython",
    "version": 3
   },
   "file_extension": ".py",
   "mimetype": "text/x-python",
   "name": "python",
   "nbconvert_exporter": "python",
   "pygments_lexer": "ipython3",
   "version": "3.7.1"
  }
 },
 "nbformat": 4,
 "nbformat_minor": 2
}
