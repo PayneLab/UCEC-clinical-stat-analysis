{
 "cells": [
  {
   "cell_type": "markdown",
   "metadata": {},
   "source": [
    "This notebook is being used to build the part of the cookbook that will perform the analyses. This will be merged in the future once all parts of the cookbook are complete. "
   ]
  },
  {
   "cell_type": "markdown",
   "metadata": {},
   "source": [
    "## Import packages"
   ]
  },
  {
   "cell_type": "code",
   "execution_count": 1,
   "metadata": {},
   "outputs": [
    {
     "name": "stdout",
     "output_type": "stream",
     "text": [
      "Welcome to the CPTAC data service package. Available datasets may be\n",
      "viewed using CPTAC.list(). In order to access a specific data set,\n",
      "import a CPTAC subfolder using either 'import CPTAC.Dataset' or 'from\n",
      "CPTAC import Dataset'.\n",
      "******\n",
      "Version: 0.2.5\n",
      "******\n",
      "Loading Endometrial CPTAC data:\n",
      "Loading Dictionary...\n",
      "Loading Clinical Data...\n",
      "Loading Acetylation Proteomics Data...\n",
      "Loading Proteomics Data...\n",
      "Loading Transcriptomics Data...\n",
      "Loading CNA Data...\n",
      "Loading Phosphoproteomics Data...\n",
      "Loading Somatic Mutation Data...\n",
      "\n",
      " ******PLEASE READ******\n",
      "WARNING: This data is under a publication embargo until July 1, 2019.\n",
      "CPTAC is a community resource project and data are made available\n",
      "rapidly after generation for community research use. The embargo\n",
      "allows exploring and utilizing the data, but the data may not be in a\n",
      "publication until July 1, 2019. Please see\n",
      "https://proteomics.cancer.gov/data-portal/about/data-use-agreement or\n",
      "enter embargo() to open the webpage for more details.\n"
     ]
    }
   ],
   "source": [
    "import pandas as pd\n",
    "import numpy as np\n",
    "import scipy.stats\n",
    "from scipy.stats import pearsonr\n",
    "import matplotlib.pyplot as plt\n",
    "import re\n",
    "import seaborn as sns\n",
    "import statsmodels.stats.multitest\n",
    "import sys\n",
    "import urllib3\n",
    "import json\n",
    "\n",
    "import CPTAC.Endometrial as CPTAC"
   ]
  },
  {
   "cell_type": "markdown",
   "metadata": {},
   "source": [
    "## Edit desired variables"
   ]
  },
  {
   "cell_type": "code",
   "execution_count": 2,
   "metadata": {},
   "outputs": [],
   "source": [
    "'''Mutated gene of interest'''\n",
    "gene = 'PIK3CA'\n",
    "\n",
    "'''Database of interest'''\n",
    "database = 'Endometrial'\n",
    "\n",
    "'''Select which dataframes you want to analyze '''\n",
    "proteomics = True\n",
    "phosphoproteomics = True\n",
    "transcriptomics = True\n",
    "sub_type = True"
   ]
  },
  {
   "cell_type": "markdown",
   "metadata": {},
   "source": [
    "## Get the dataframes"
   ]
  },
  {
   "cell_type": "code",
   "execution_count": 3,
   "metadata": {},
   "outputs": [],
   "source": [
    "somatic = CPTAC.get_somatic()\n",
    "proteomics = CPTAC.get_proteomics()\n",
    "phos = CPTAC.get_phosphoproteomics()"
   ]
  },
  {
   "cell_type": "markdown",
   "metadata": {},
   "source": [
    "## General gene statistics"
   ]
  },
  {
   "cell_type": "markdown",
   "metadata": {},
   "source": [
    "<b> Please enter the filename of your HotSpot 3D output (in excel form) </b>"
   ]
  },
  {
   "cell_type": "code",
   "execution_count": 9,
   "metadata": {},
   "outputs": [],
   "source": [
    "filename = '../HotSpot3D_Output/HotSpot3DOutput.xlsx'"
   ]
  },
  {
   "cell_type": "markdown",
   "metadata": {},
   "source": [
    "<b> Convert the HotSpot3D output to a dataframe </b>"
   ]
  },
  {
   "cell_type": "code",
   "execution_count": 11,
   "metadata": {},
   "outputs": [],
   "source": [
    "hotspot_data = pd.ExcelFile('../HotSpot3D_Output/HotSpot3DOutput.xlsx')"
   ]
  },
  {
   "cell_type": "markdown",
   "metadata": {},
   "source": [
    "<b> Get the sheet name called 'Clusters' to find the protein hotspot </b>"
   ]
  },
  {
   "cell_type": "code",
   "execution_count": 12,
   "metadata": {},
   "outputs": [],
   "source": [
    "clusters = hotspot_data.parse('Clusters')"
   ]
  },
  {
   "cell_type": "markdown",
   "metadata": {},
   "source": [
    "<b> Get the list of mutations in the hotspot </b>"
   ]
  },
  {
   "cell_type": "code",
   "execution_count": 13,
   "metadata": {},
   "outputs": [
    {
     "name": "stdout",
     "output_type": "stream",
     "text": [
      "['p.E545A', 'p.E545K', 'p.E545V', 'p.Q546P', 'p.Q546R', 'p.E542K']\n"
     ]
    }
   ],
   "source": [
    "try:\n",
    "    '''Check if the gene of interest has a hotspot'''\n",
    "    hotspot_areas = clusters.loc[clusters['Gene/Drug'] == gene]\n",
    "    hotspot_mutations = hotspot_areas['Mutation/Gene']\n",
    "    hotspot_mutations = hotspot_mutations.tolist()\n",
    "    print(hotspot_mutations)\n",
    "except:\n",
    "    print('{}' '{}'.format(gene, ' does not have a hotspot in our data.'))\n",
    "    hotspot = False\n",
    "\n",
    "\n",
    "    \n"
   ]
  },
  {
   "cell_type": "markdown",
   "metadata": {},
   "source": [
    "<b> Get all the patients who have mutations at these locations in the hotspot </b>"
   ]
  },
  {
   "cell_type": "code",
   "execution_count": 14,
   "metadata": {},
   "outputs": [
    {
     "name": "stdout",
     "output_type": "stream",
     "text": [
      "Patients with hotspot mutations: \n",
      "\n",
      "160      S001\n",
      "1147     S003\n",
      "1357     S009\n",
      "4630     S021\n",
      "16486    S023\n",
      "19061    S024\n",
      "21259    S032\n",
      "21516    S033\n",
      "22497    S038\n",
      "37421    S061\n",
      "38155    S063\n",
      "39522    S066\n",
      "43391    S067\n",
      "43490    S068\n",
      "46662    S084\n",
      "47360    S088\n",
      "47857    S090\n",
      "49362    S097\n",
      "49475    S098\n",
      "Name: Clinical_Patient_Key, dtype: object\n"
     ]
    }
   ],
   "source": [
    "'''A list of mutations present in the hotspot according to our Hotspot3D output'''\n",
    "mutated_hotspot = somatic.loc[(somatic['Location'].isin(hotspot_mutations)) & (somatic['Gene'] == gene)]\n",
    "hotspot_patients = mutated_hotspot['Clinical_Patient_Key']\n",
    "print('Patients with hotspot mutations: \\n')\n",
    "print(hotspot_patients)\n",
    "\n",
    "#Convert to a list for further statistical analysis\n",
    "hotspot_patients = hotspot_patients.tolist()"
   ]
  },
  {
   "cell_type": "markdown",
   "metadata": {},
   "source": [
    "### Calculate Mutation Frequency"
   ]
  },
  {
   "cell_type": "code",
   "execution_count": 5,
   "metadata": {},
   "outputs": [
    {
     "name": "stdout",
     "output_type": "stream",
     "text": [
      "Total number of patients with PIK3CA mutations: 46\n",
      "Total number of instances of PIK3CA mutation: 62\n",
      "\n",
      "                   Mutation Count\n",
      "Missense_Mutation              58\n",
      "In_Frame_Del                    3\n",
      "Frame_Shift_Ins                 1\n"
     ]
    },
    {
     "data": {
      "image/png": "[encoded data removed]",
      "text/plain": [
       "<Figure size 432x288 with 1 Axes>"
      ]
     },
     "metadata": {
      "needs_background": "light"
     },
     "output_type": "display_data"
    }
   ],
   "source": [
    "'''Get the data for mutated patients'''\n",
    "gene_mutated = somatic.loc[somatic['Gene'] == gene]\n",
    "\n",
    "\n",
    "'''This naturally includes a value that is 'NA' so we subtract 1'''\n",
    "num_mutated = len(set(gene_mutated['Clinical_Patient_Key'])) - 1\n",
    "\n",
    "'''Some people have more than one mutation so we need to grab the unique values'''\n",
    "print('{}' '{}' '{}' '{}' .format('Total number of patients with ' , gene, ' mutations: ', num_mutated))\n",
    "total_mutations = len(gene_mutated)\n",
    "print('{}' '{}' '{}' '{}' '{}'.format('Total number of instances of ' , gene, ' mutation: ', total_mutations, '\\n'))\n",
    "\n",
    "'''Count the number of instances of various mutation types in the column 'Mutation' in the gene_mutated dataframe.'''\n",
    "mut_counts = gene_mutated['Mutation'].value_counts()\n",
    "\n",
    "'''The previous function returns a series. Convert the series to a dataframe'''\n",
    "counts_df = mut_counts.to_frame()\n",
    "\n",
    "'''Rename the column to clarify the number of mutations'''\n",
    "counts_df = counts_df.rename(index=str, columns = { 'Mutation' : 'Mutation Count'})\n",
    "print(counts_df)\n",
    "\n",
    "'''Plot the frequencies'''\n",
    "fig = mut_counts.plot.bar()\n",
    "fig.set_title('{}' '{}' '{}'.format('Total ', gene, ' Mutation Count'), size = 20)\n",
    "fig.set_ylabel('Total Mutation Count', size = 15)\n",
    "fig.set_xlabel('Mutation Type', size = 15)\n",
    "plt.show()"
   ]
  },
  {
   "cell_type": "markdown",
   "metadata": {},
   "source": [
    "### Hotspot Mutation Frequency"
   ]
  },
  {
   "cell_type": "code",
   "execution_count": 6,
   "metadata": {},
   "outputs": [
    {
     "data": {
      "image/png": "[encoded data removed]",
      "text/plain": [
       "<Figure size 432x288 with 1 Axes>"
      ]
     },
     "metadata": {
      "needs_background": "light"
     },
     "output_type": "display_data"
    }
   ],
   "source": [
    "all_mutations = somatic['Clinical_Patient_Key']\n",
    "\n",
    "all_patients = []\n",
    "'''Get all the unique paitients in the somatic mutation data '''\n",
    "for name in all_mutations:\n",
    "    if name not in all_patients:\n",
    "        all_patients.append(name)\n",
    "\n",
    "'''Get the data for mutated patients'''\n",
    "gene_mutated = somatic.loc[somatic['Gene'] == gene]\n",
    "\n",
    "\n",
    "'''Get all the unique patients in the mutation list '''\n",
    "mutated_patients = []\n",
    "\n",
    "for name in gene_mutated['Clinical_Patient_Key']:\n",
    "    if name not in mutated_patients:\n",
    "        mutated_patients.append(name)\n",
    "\n",
    "hotspot_indices = []      \n",
    "for i in range(0, len(mutated_patients)):\n",
    "    if mutated_patients[i] in hotspot_patients:\n",
    "        hotspot_indices.append(i)\n",
    "\n",
    "mutated_indices = []\n",
    "for i in range(0, len(mutated_patients)):\n",
    "    mutated_indices.append(i)\n",
    "        \n",
    "\n",
    "patients_df = pd.DataFrame()\n",
    "patients_df['Patient_ID'] = all_patients\n",
    "\n",
    "patients_df['Hotspot_Mutation'] = 'Cancer_Wildtype'\n",
    "\n",
    "patients_df.loc[mutated_indices, 'Hotspot_Mutation'] = 'No'\n",
    "\n",
    "patients_df.loc[hotspot_indices, 'Hotspot_Mutation'] = 'Yes'\n",
    "\n",
    "\n",
    "patient_counts = patients_df['Hotspot_Mutation'].value_counts()\n",
    "fig = patient_counts.plot.bar()\n",
    "fig.set_title('Patients and Mutation Type')\n",
    "fig.set_ylabel('Patient Count')\n",
    "fig.set_xlabel('Hotspot Mutation')\n",
    "plt.show()"
   ]
  },
  {
   "cell_type": "markdown",
   "metadata": {},
   "source": [
    "## Playing with dataframes to format uniform dataframe for analysis"
   ]
  },
  {
   "cell_type": "code",
   "execution_count": 8,
   "metadata": {},
   "outputs": [
    {
     "name": "stdout",
     "output_type": "stream",
     "text": [
      "      AKT1_omics    PIK3CA_Mutation PIK3CA_Sample_Status\n",
      "S001    -0.25500  Missense_Mutation                Tumor\n",
      "S002     0.04530     Wildtype_Tumor                Tumor\n",
      "S003    -0.07220  Missense_Mutation                Tumor\n",
      "S005     0.09680     Wildtype_Tumor                Tumor\n",
      "S006    -0.64100     Wildtype_Tumor                Tumor\n",
      "S007    -0.41900     Wildtype_Tumor                Tumor\n",
      "S008     0.14300     Wildtype_Tumor                Tumor\n",
      "S009    -0.72500  Missense_Mutation                Tumor\n",
      "S010    -0.09480  Missense_Mutation                Tumor\n",
      "S011    -0.05910     Wildtype_Tumor                Tumor\n",
      "S012    -0.34800  Missense_Mutation                Tumor\n",
      "S014    -0.29100  Missense_Mutation                Tumor\n",
      "S016    -0.69900     Wildtype_Tumor                Tumor\n",
      "S017    -0.16200     Wildtype_Tumor                Tumor\n",
      "S018     0.08090  Missense_Mutation                Tumor\n",
      "S019    -0.09330     Wildtype_Tumor                Tumor\n",
      "S020     0.25700     Wildtype_Tumor                Tumor\n",
      "S021    -0.79900  Missense_Mutation                Tumor\n",
      "S022    -0.27000  Missense_Mutation                Tumor\n",
      "S023     0.25800  Missense_Mutation                Tumor\n",
      "S024     0.00236  Missense_Mutation                Tumor\n",
      "S025    -0.29600     Wildtype_Tumor                Tumor\n",
      "S026    -0.06280  Missense_Mutation                Tumor\n",
      "S027     0.01990  Missense_Mutation                Tumor\n",
      "S028     0.03990  Missense_Mutation                Tumor\n",
      "S029     0.40000     Wildtype_Tumor                Tumor\n",
      "S030    -0.08340  Missense_Mutation                Tumor\n",
      "S031     0.49800  Missense_Mutation                Tumor\n",
      "S032     0.09560  Missense_Mutation                Tumor\n",
      "S033    -0.06270  Missense_Mutation                Tumor\n",
      "...          ...                ...                  ...\n",
      "S124     0.01150    Wildtype_Normal               Normal\n",
      "S125     0.06480    Wildtype_Normal               Normal\n",
      "S126     0.04870    Wildtype_Normal               Normal\n",
      "S127     0.12200    Wildtype_Normal               Normal\n",
      "S128     0.01080    Wildtype_Normal               Normal\n",
      "S129     0.15600    Wildtype_Normal               Normal\n",
      "S130     0.11900    Wildtype_Normal               Normal\n",
      "S131     0.15100    Wildtype_Normal               Normal\n",
      "S132     0.12200    Wildtype_Normal               Normal\n",
      "S133     0.35200    Wildtype_Normal               Normal\n",
      "S134     0.35000    Wildtype_Normal               Normal\n",
      "S135     0.46500    Wildtype_Normal               Normal\n",
      "S136     0.25800    Wildtype_Normal               Normal\n",
      "S137     0.03960    Wildtype_Normal               Normal\n",
      "S138    -0.01670    Wildtype_Normal               Normal\n",
      "S139    -0.08480    Wildtype_Normal               Normal\n",
      "S140    -0.37300    Wildtype_Normal               Normal\n",
      "S141     0.21300    Wildtype_Normal               Normal\n",
      "S142    -0.07770    Wildtype_Normal               Normal\n",
      "S143     0.00433    Wildtype_Normal               Normal\n",
      "S144     0.17700    Wildtype_Normal               Normal\n",
      "S145     0.23500    Wildtype_Normal               Normal\n",
      "S146     0.07930    Wildtype_Normal               Normal\n",
      "S147     0.08580    Wildtype_Normal               Normal\n",
      "S148     0.21300    Wildtype_Normal               Normal\n",
      "S149    -0.09570    Wildtype_Normal               Normal\n",
      "S150     0.21100    Wildtype_Normal               Normal\n",
      "S151     0.14300    Wildtype_Normal               Normal\n",
      "S152    -0.00314    Wildtype_Normal               Normal\n",
      "S153     0.20300    Wildtype_Normal               Normal\n",
      "\n",
      "[144 rows x 3 columns]\n",
      "      TP53_omics    PIK3CA_Mutation PIK3CA_Sample_Status\n",
      "S001    0.295000  Missense_Mutation                Tumor\n",
      "S002    0.277000     Wildtype_Tumor                Tumor\n",
      "S003   -0.871000  Missense_Mutation                Tumor\n",
      "S005   -0.343000     Wildtype_Tumor                Tumor\n",
      "S006    3.010000     Wildtype_Tumor                Tumor\n",
      "S007   -0.148000     Wildtype_Tumor                Tumor\n",
      "S008    0.441000     Wildtype_Tumor                Tumor\n",
      "S009   -1.220000  Missense_Mutation                Tumor\n",
      "S010   -0.082500  Missense_Mutation                Tumor\n",
      "S011   -0.181000     Wildtype_Tumor                Tumor\n",
      "S012   -0.000425  Missense_Mutation                Tumor\n",
      "S014   -0.203000  Missense_Mutation                Tumor\n",
      "S016    2.120000     Wildtype_Tumor                Tumor\n",
      "S017   -0.243000     Wildtype_Tumor                Tumor\n",
      "S018   -0.000950  Missense_Mutation                Tumor\n",
      "S019    0.021300     Wildtype_Tumor                Tumor\n",
      "S020    0.353000     Wildtype_Tumor                Tumor\n",
      "S021   -0.403000  Missense_Mutation                Tumor\n",
      "S022   -0.154000  Missense_Mutation                Tumor\n",
      "S023   -0.056600  Missense_Mutation                Tumor\n",
      "S024   -0.280000  Missense_Mutation                Tumor\n",
      "S025   -0.519000     Wildtype_Tumor                Tumor\n",
      "S026   -0.455000  Missense_Mutation                Tumor\n",
      "S027    0.098000  Missense_Mutation                Tumor\n",
      "S028   -0.209000  Missense_Mutation                Tumor\n",
      "S029   -0.081900     Wildtype_Tumor                Tumor\n",
      "S030    0.709000  Missense_Mutation                Tumor\n",
      "S031    1.560000  Missense_Mutation                Tumor\n",
      "S032   -0.033800  Missense_Mutation                Tumor\n",
      "S033   -0.433000  Missense_Mutation                Tumor\n",
      "...          ...                ...                  ...\n",
      "S124   -0.237000    Wildtype_Normal               Normal\n",
      "S125   -0.729000    Wildtype_Normal               Normal\n",
      "S126    0.112000    Wildtype_Normal               Normal\n",
      "S127         NaN    Wildtype_Normal               Normal\n",
      "S128         NaN    Wildtype_Normal               Normal\n",
      "S129   -0.078800    Wildtype_Normal               Normal\n",
      "S130   -0.688000    Wildtype_Normal               Normal\n",
      "S131   -0.747000    Wildtype_Normal               Normal\n",
      "S132   -0.333000    Wildtype_Normal               Normal\n",
      "S133   -0.174000    Wildtype_Normal               Normal\n",
      "S134   -1.010000    Wildtype_Normal               Normal\n",
      "S135    0.024300    Wildtype_Normal               Normal\n",
      "S136   -1.080000    Wildtype_Normal               Normal\n",
      "S137   -0.256000    Wildtype_Normal               Normal\n",
      "S138    0.105000    Wildtype_Normal               Normal\n",
      "S139   -0.819000    Wildtype_Normal               Normal\n",
      "S140   -0.530000    Wildtype_Normal               Normal\n",
      "S141   -0.899000    Wildtype_Normal               Normal\n",
      "S142   -0.809000    Wildtype_Normal               Normal\n",
      "S143   -0.124000    Wildtype_Normal               Normal\n",
      "S144    0.071900    Wildtype_Normal               Normal\n",
      "S145         NaN    Wildtype_Normal               Normal\n",
      "S146         NaN    Wildtype_Normal               Normal\n",
      "S147         NaN    Wildtype_Normal               Normal\n",
      "S148         NaN    Wildtype_Normal               Normal\n",
      "S149         NaN    Wildtype_Normal               Normal\n",
      "S150         NaN    Wildtype_Normal               Normal\n",
      "S151         NaN    Wildtype_Normal               Normal\n",
      "S152         NaN    Wildtype_Normal               Normal\n",
      "S153         NaN    Wildtype_Normal               Normal\n",
      "\n",
      "[144 rows x 3 columns]\n",
      "      AKT2_omics    PIK3CA_Mutation PIK3CA_Sample_Status\n",
      "S001    -0.43000  Missense_Mutation                Tumor\n",
      "S002    -0.13400     Wildtype_Tumor                Tumor\n",
      "S003    -0.21600  Missense_Mutation                Tumor\n",
      "S005     0.04400     Wildtype_Tumor                Tumor\n",
      "S006    -0.10500     Wildtype_Tumor                Tumor\n",
      "S007    -0.63200     Wildtype_Tumor                Tumor\n",
      "S008    -0.16100     Wildtype_Tumor                Tumor\n",
      "S009    -0.16200  Missense_Mutation                Tumor\n",
      "S010    -0.09700  Missense_Mutation                Tumor\n",
      "S011    -0.07690     Wildtype_Tumor                Tumor\n",
      "S012    -0.61900  Missense_Mutation                Tumor\n",
      "S014    -0.33900  Missense_Mutation                Tumor\n",
      "S016     0.20300     Wildtype_Tumor                Tumor\n",
      "S017    -0.09270     Wildtype_Tumor                Tumor\n",
      "S018    -0.36500  Missense_Mutation                Tumor\n",
      "S019    -0.63600     Wildtype_Tumor                Tumor\n",
      "S020     0.15500     Wildtype_Tumor                Tumor\n",
      "S021    -0.64100  Missense_Mutation                Tumor\n",
      "S022    -0.56800  Missense_Mutation                Tumor\n",
      "S023    -0.15600  Missense_Mutation                Tumor\n",
      "S024    -0.11200  Missense_Mutation                Tumor\n",
      "S025    -0.26200     Wildtype_Tumor                Tumor\n",
      "S026    -0.05080  Missense_Mutation                Tumor\n",
      "S027    -0.23700  Missense_Mutation                Tumor\n",
      "S028     0.50800  Missense_Mutation                Tumor\n",
      "S029     0.16700     Wildtype_Tumor                Tumor\n",
      "S030    -0.24500  Missense_Mutation                Tumor\n",
      "S031    -0.97200  Missense_Mutation                Tumor\n",
      "S032     0.07850  Missense_Mutation                Tumor\n",
      "S033    -0.24300  Missense_Mutation                Tumor\n",
      "...          ...                ...                  ...\n",
      "S124     0.32700    Wildtype_Normal               Normal\n",
      "S125     0.03820    Wildtype_Normal               Normal\n",
      "S126     0.58400    Wildtype_Normal               Normal\n",
      "S127     0.60400    Wildtype_Normal               Normal\n",
      "S128     0.54900    Wildtype_Normal               Normal\n",
      "S129     0.59300    Wildtype_Normal               Normal\n",
      "S130     0.29300    Wildtype_Normal               Normal\n",
      "S131     0.45100    Wildtype_Normal               Normal\n",
      "S132     0.67600    Wildtype_Normal               Normal\n",
      "S133     0.60600    Wildtype_Normal               Normal\n",
      "S134     0.92000    Wildtype_Normal               Normal\n",
      "S135     0.61600    Wildtype_Normal               Normal\n",
      "S136     0.33900    Wildtype_Normal               Normal\n",
      "S137     0.17800    Wildtype_Normal               Normal\n",
      "S138     0.30200    Wildtype_Normal               Normal\n",
      "S139     0.28800    Wildtype_Normal               Normal\n",
      "S140     0.08640    Wildtype_Normal               Normal\n",
      "S141     0.23800    Wildtype_Normal               Normal\n",
      "S142     0.05370    Wildtype_Normal               Normal\n",
      "S143     0.26500    Wildtype_Normal               Normal\n",
      "S144     0.34900    Wildtype_Normal               Normal\n",
      "S145     0.12700    Wildtype_Normal               Normal\n",
      "S146    -0.04490    Wildtype_Normal               Normal\n",
      "S147     0.05740    Wildtype_Normal               Normal\n",
      "S148     0.05010    Wildtype_Normal               Normal\n",
      "S149    -0.17700    Wildtype_Normal               Normal\n",
      "S150    -0.00105    Wildtype_Normal               Normal\n",
      "S151     0.33700    Wildtype_Normal               Normal\n",
      "S152     0.14100    Wildtype_Normal               Normal\n",
      "S153     0.08240    Wildtype_Normal               Normal\n",
      "\n",
      "[144 rows x 3 columns]\n",
      "Index(['AKT2_omics', 'PIK3CA_Mutation', 'PIK3CA_Sample_Status'], dtype='object')\n"
     ]
    },
    {
     "ename": "KeyError",
     "evalue": "1",
     "output_type": "error",
     "traceback": [
      "\u001b[0;31m---------------------------------------------------------------------------\u001b[0m",
      "\u001b[0;31mKeyError\u001b[0m                                  Traceback (most recent call last)",
      "\u001b[0;32m~/anaconda3/envs/research/lib/python3.7/site-packages/pandas/core/indexes/base.py\u001b[0m in \u001b[0;36mget_loc\u001b[0;34m(self, key, method, tolerance)\u001b[0m\n\u001b[1;32m   3077\u001b[0m             \u001b[0;32mtry\u001b[0m\u001b[0;34m:\u001b[0m\u001b[0;34m\u001b[0m\u001b[0;34m\u001b[0m\u001b[0m\n\u001b[0;32m-> 3078\u001b[0;31m                 \u001b[0;32mreturn\u001b[0m \u001b[0mself\u001b[0m\u001b[0;34m.\u001b[0m\u001b[0m_engine\u001b[0m\u001b[0;34m.\u001b[0m\u001b[0mget_loc\u001b[0m\u001b[0;34m(\u001b[0m\u001b[0mkey\u001b[0m\u001b[0;34m)\u001b[0m\u001b[0;34m\u001b[0m\u001b[0;34m\u001b[0m\u001b[0m\n\u001b[0m\u001b[1;32m   3079\u001b[0m             \u001b[0;32mexcept\u001b[0m \u001b[0mKeyError\u001b[0m\u001b[0;34m:\u001b[0m\u001b[0;34m\u001b[0m\u001b[0;34m\u001b[0m\u001b[0m\n",
      "\u001b[0;32mpandas/_libs/index.pyx\u001b[0m in \u001b[0;36mpandas._libs.index.IndexEngine.get_loc\u001b[0;34m()\u001b[0m\n",
      "\u001b[0;32mpandas/_libs/index.pyx\u001b[0m in \u001b[0;36mpandas._libs.index.IndexEngine.get_loc\u001b[0;34m()\u001b[0m\n",
      "\u001b[0;32mpandas/_libs/hashtable_class_helper.pxi\u001b[0m in \u001b[0;36mpandas._libs.hashtable.PyObjectHashTable.get_item\u001b[0;34m()\u001b[0m\n",
      "\u001b[0;32mpandas/_libs/hashtable_class_helper.pxi\u001b[0m in \u001b[0;36mpandas._libs.hashtable.PyObjectHashTable.get_item\u001b[0;34m()\u001b[0m\n",
      "\u001b[0;31mKeyError\u001b[0m: 1",
      "\nDuring handling of the above exception, another exception occurred:\n",
      "\u001b[0;31mKeyError\u001b[0m                                  Traceback (most recent call last)",
      "\u001b[0;32m<ipython-input-8-9a7e5c0341ba>\u001b[0m in \u001b[0;36m<module>\u001b[0;34m\u001b[0m\n\u001b[1;32m     21\u001b[0m \u001b[0;31m#print(df_analysis)\u001b[0m\u001b[0;34m\u001b[0m\u001b[0;34m\u001b[0m\u001b[0;34m\u001b[0m\u001b[0m\n\u001b[1;32m     22\u001b[0m \u001b[0mprint\u001b[0m\u001b[0;34m(\u001b[0m\u001b[0mdf_analysis\u001b[0m\u001b[0;34m.\u001b[0m\u001b[0mcolumns\u001b[0m\u001b[0;34m)\u001b[0m\u001b[0;34m\u001b[0m\u001b[0;34m\u001b[0m\u001b[0m\n\u001b[0;32m---> 23\u001b[0;31m \u001b[0mprint\u001b[0m\u001b[0;34m(\u001b[0m\u001b[0mdf_analysis\u001b[0m\u001b[0;34m[\u001b[0m\u001b[0;36m1\u001b[0m\u001b[0;34m]\u001b[0m\u001b[0;34m)\u001b[0m\u001b[0;34m\u001b[0m\u001b[0;34m\u001b[0m\u001b[0m\n\u001b[0m\u001b[1;32m     24\u001b[0m \u001b[0;34m\u001b[0m\u001b[0m\n\u001b[1;32m     25\u001b[0m \u001b[0;34m\u001b[0m\u001b[0m\n",
      "\u001b[0;32m~/anaconda3/envs/research/lib/python3.7/site-packages/pandas/core/frame.py\u001b[0m in \u001b[0;36m__getitem__\u001b[0;34m(self, key)\u001b[0m\n\u001b[1;32m   2686\u001b[0m             \u001b[0;32mreturn\u001b[0m \u001b[0mself\u001b[0m\u001b[0;34m.\u001b[0m\u001b[0m_getitem_multilevel\u001b[0m\u001b[0;34m(\u001b[0m\u001b[0mkey\u001b[0m\u001b[0;34m)\u001b[0m\u001b[0;34m\u001b[0m\u001b[0;34m\u001b[0m\u001b[0m\n\u001b[1;32m   2687\u001b[0m         \u001b[0;32melse\u001b[0m\u001b[0;34m:\u001b[0m\u001b[0;34m\u001b[0m\u001b[0;34m\u001b[0m\u001b[0m\n\u001b[0;32m-> 2688\u001b[0;31m             \u001b[0;32mreturn\u001b[0m \u001b[0mself\u001b[0m\u001b[0;34m.\u001b[0m\u001b[0m_getitem_column\u001b[0m\u001b[0;34m(\u001b[0m\u001b[0mkey\u001b[0m\u001b[0;34m)\u001b[0m\u001b[0;34m\u001b[0m\u001b[0;34m\u001b[0m\u001b[0m\n\u001b[0m\u001b[1;32m   2689\u001b[0m \u001b[0;34m\u001b[0m\u001b[0m\n\u001b[1;32m   2690\u001b[0m     \u001b[0;32mdef\u001b[0m \u001b[0m_getitem_column\u001b[0m\u001b[0;34m(\u001b[0m\u001b[0mself\u001b[0m\u001b[0;34m,\u001b[0m \u001b[0mkey\u001b[0m\u001b[0;34m)\u001b[0m\u001b[0;34m:\u001b[0m\u001b[0;34m\u001b[0m\u001b[0;34m\u001b[0m\u001b[0m\n",
      "\u001b[0;32m~/anaconda3/envs/research/lib/python3.7/site-packages/pandas/core/frame.py\u001b[0m in \u001b[0;36m_getitem_column\u001b[0;34m(self, key)\u001b[0m\n\u001b[1;32m   2693\u001b[0m         \u001b[0;31m# get column\u001b[0m\u001b[0;34m\u001b[0m\u001b[0;34m\u001b[0m\u001b[0;34m\u001b[0m\u001b[0m\n\u001b[1;32m   2694\u001b[0m         \u001b[0;32mif\u001b[0m \u001b[0mself\u001b[0m\u001b[0;34m.\u001b[0m\u001b[0mcolumns\u001b[0m\u001b[0;34m.\u001b[0m\u001b[0mis_unique\u001b[0m\u001b[0;34m:\u001b[0m\u001b[0;34m\u001b[0m\u001b[0;34m\u001b[0m\u001b[0m\n\u001b[0;32m-> 2695\u001b[0;31m             \u001b[0;32mreturn\u001b[0m \u001b[0mself\u001b[0m\u001b[0;34m.\u001b[0m\u001b[0m_get_item_cache\u001b[0m\u001b[0;34m(\u001b[0m\u001b[0mkey\u001b[0m\u001b[0;34m)\u001b[0m\u001b[0;34m\u001b[0m\u001b[0;34m\u001b[0m\u001b[0m\n\u001b[0m\u001b[1;32m   2696\u001b[0m \u001b[0;34m\u001b[0m\u001b[0m\n\u001b[1;32m   2697\u001b[0m         \u001b[0;31m# duplicate columns & possible reduce dimensionality\u001b[0m\u001b[0;34m\u001b[0m\u001b[0;34m\u001b[0m\u001b[0;34m\u001b[0m\u001b[0m\n",
      "\u001b[0;32m~/anaconda3/envs/research/lib/python3.7/site-packages/pandas/core/generic.py\u001b[0m in \u001b[0;36m_get_item_cache\u001b[0;34m(self, item)\u001b[0m\n\u001b[1;32m   2487\u001b[0m         \u001b[0mres\u001b[0m \u001b[0;34m=\u001b[0m \u001b[0mcache\u001b[0m\u001b[0;34m.\u001b[0m\u001b[0mget\u001b[0m\u001b[0;34m(\u001b[0m\u001b[0mitem\u001b[0m\u001b[0;34m)\u001b[0m\u001b[0;34m\u001b[0m\u001b[0;34m\u001b[0m\u001b[0m\n\u001b[1;32m   2488\u001b[0m         \u001b[0;32mif\u001b[0m \u001b[0mres\u001b[0m \u001b[0;32mis\u001b[0m \u001b[0;32mNone\u001b[0m\u001b[0;34m:\u001b[0m\u001b[0;34m\u001b[0m\u001b[0;34m\u001b[0m\u001b[0m\n\u001b[0;32m-> 2489\u001b[0;31m             \u001b[0mvalues\u001b[0m \u001b[0;34m=\u001b[0m \u001b[0mself\u001b[0m\u001b[0;34m.\u001b[0m\u001b[0m_data\u001b[0m\u001b[0;34m.\u001b[0m\u001b[0mget\u001b[0m\u001b[0;34m(\u001b[0m\u001b[0mitem\u001b[0m\u001b[0;34m)\u001b[0m\u001b[0;34m\u001b[0m\u001b[0;34m\u001b[0m\u001b[0m\n\u001b[0m\u001b[1;32m   2490\u001b[0m             \u001b[0mres\u001b[0m \u001b[0;34m=\u001b[0m \u001b[0mself\u001b[0m\u001b[0;34m.\u001b[0m\u001b[0m_box_item_values\u001b[0m\u001b[0;34m(\u001b[0m\u001b[0mitem\u001b[0m\u001b[0;34m,\u001b[0m \u001b[0mvalues\u001b[0m\u001b[0;34m)\u001b[0m\u001b[0;34m\u001b[0m\u001b[0;34m\u001b[0m\u001b[0m\n\u001b[1;32m   2491\u001b[0m             \u001b[0mcache\u001b[0m\u001b[0;34m[\u001b[0m\u001b[0mitem\u001b[0m\u001b[0;34m]\u001b[0m \u001b[0;34m=\u001b[0m \u001b[0mres\u001b[0m\u001b[0;34m\u001b[0m\u001b[0;34m\u001b[0m\u001b[0m\n",
      "\u001b[0;32m~/anaconda3/envs/research/lib/python3.7/site-packages/pandas/core/internals.py\u001b[0m in \u001b[0;36mget\u001b[0;34m(self, item, fastpath)\u001b[0m\n\u001b[1;32m   4113\u001b[0m \u001b[0;34m\u001b[0m\u001b[0m\n\u001b[1;32m   4114\u001b[0m             \u001b[0;32mif\u001b[0m \u001b[0;32mnot\u001b[0m \u001b[0misna\u001b[0m\u001b[0;34m(\u001b[0m\u001b[0mitem\u001b[0m\u001b[0;34m)\u001b[0m\u001b[0;34m:\u001b[0m\u001b[0;34m\u001b[0m\u001b[0;34m\u001b[0m\u001b[0m\n\u001b[0;32m-> 4115\u001b[0;31m                 \u001b[0mloc\u001b[0m \u001b[0;34m=\u001b[0m \u001b[0mself\u001b[0m\u001b[0;34m.\u001b[0m\u001b[0mitems\u001b[0m\u001b[0;34m.\u001b[0m\u001b[0mget_loc\u001b[0m\u001b[0;34m(\u001b[0m\u001b[0mitem\u001b[0m\u001b[0;34m)\u001b[0m\u001b[0;34m\u001b[0m\u001b[0;34m\u001b[0m\u001b[0m\n\u001b[0m\u001b[1;32m   4116\u001b[0m             \u001b[0;32melse\u001b[0m\u001b[0;34m:\u001b[0m\u001b[0;34m\u001b[0m\u001b[0;34m\u001b[0m\u001b[0m\n\u001b[1;32m   4117\u001b[0m                 \u001b[0mindexer\u001b[0m \u001b[0;34m=\u001b[0m \u001b[0mnp\u001b[0m\u001b[0;34m.\u001b[0m\u001b[0marange\u001b[0m\u001b[0;34m(\u001b[0m\u001b[0mlen\u001b[0m\u001b[0;34m(\u001b[0m\u001b[0mself\u001b[0m\u001b[0;34m.\u001b[0m\u001b[0mitems\u001b[0m\u001b[0;34m)\u001b[0m\u001b[0;34m)\u001b[0m\u001b[0;34m[\u001b[0m\u001b[0misna\u001b[0m\u001b[0;34m(\u001b[0m\u001b[0mself\u001b[0m\u001b[0;34m.\u001b[0m\u001b[0mitems\u001b[0m\u001b[0;34m)\u001b[0m\u001b[0;34m]\u001b[0m\u001b[0;34m\u001b[0m\u001b[0;34m\u001b[0m\u001b[0m\n",
      "\u001b[0;32m~/anaconda3/envs/research/lib/python3.7/site-packages/pandas/core/indexes/base.py\u001b[0m in \u001b[0;36mget_loc\u001b[0;34m(self, key, method, tolerance)\u001b[0m\n\u001b[1;32m   3078\u001b[0m                 \u001b[0;32mreturn\u001b[0m \u001b[0mself\u001b[0m\u001b[0;34m.\u001b[0m\u001b[0m_engine\u001b[0m\u001b[0;34m.\u001b[0m\u001b[0mget_loc\u001b[0m\u001b[0;34m(\u001b[0m\u001b[0mkey\u001b[0m\u001b[0;34m)\u001b[0m\u001b[0;34m\u001b[0m\u001b[0;34m\u001b[0m\u001b[0m\n\u001b[1;32m   3079\u001b[0m             \u001b[0;32mexcept\u001b[0m \u001b[0mKeyError\u001b[0m\u001b[0;34m:\u001b[0m\u001b[0;34m\u001b[0m\u001b[0;34m\u001b[0m\u001b[0m\n\u001b[0;32m-> 3080\u001b[0;31m                 \u001b[0;32mreturn\u001b[0m \u001b[0mself\u001b[0m\u001b[0;34m.\u001b[0m\u001b[0m_engine\u001b[0m\u001b[0;34m.\u001b[0m\u001b[0mget_loc\u001b[0m\u001b[0;34m(\u001b[0m\u001b[0mself\u001b[0m\u001b[0;34m.\u001b[0m\u001b[0m_maybe_cast_indexer\u001b[0m\u001b[0;34m(\u001b[0m\u001b[0mkey\u001b[0m\u001b[0;34m)\u001b[0m\u001b[0;34m)\u001b[0m\u001b[0;34m\u001b[0m\u001b[0;34m\u001b[0m\u001b[0m\n\u001b[0m\u001b[1;32m   3081\u001b[0m \u001b[0;34m\u001b[0m\u001b[0m\n\u001b[1;32m   3082\u001b[0m         \u001b[0mindexer\u001b[0m \u001b[0;34m=\u001b[0m \u001b[0mself\u001b[0m\u001b[0;34m.\u001b[0m\u001b[0mget_indexer\u001b[0m\u001b[0;34m(\u001b[0m\u001b[0;34m[\u001b[0m\u001b[0mkey\u001b[0m\u001b[0;34m]\u001b[0m\u001b[0;34m,\u001b[0m \u001b[0mmethod\u001b[0m\u001b[0;34m=\u001b[0m\u001b[0mmethod\u001b[0m\u001b[0;34m,\u001b[0m \u001b[0mtolerance\u001b[0m\u001b[0;34m=\u001b[0m\u001b[0mtolerance\u001b[0m\u001b[0;34m)\u001b[0m\u001b[0;34m\u001b[0m\u001b[0;34m\u001b[0m\u001b[0m\n",
      "\u001b[0;32mpandas/_libs/index.pyx\u001b[0m in \u001b[0;36mpandas._libs.index.IndexEngine.get_loc\u001b[0;34m()\u001b[0m\n",
      "\u001b[0;32mpandas/_libs/index.pyx\u001b[0m in \u001b[0;36mpandas._libs.index.IndexEngine.get_loc\u001b[0;34m()\u001b[0m\n",
      "\u001b[0;32mpandas/_libs/hashtable_class_helper.pxi\u001b[0m in \u001b[0;36mpandas._libs.hashtable.PyObjectHashTable.get_item\u001b[0;34m()\u001b[0m\n",
      "\u001b[0;32mpandas/_libs/hashtable_class_helper.pxi\u001b[0m in \u001b[0;36mpandas._libs.hashtable.PyObjectHashTable.get_item\u001b[0;34m()\u001b[0m\n",
      "\u001b[0;31mKeyError\u001b[0m: 1"
     ]
    }
   ],
   "source": [
    "# play around with proteoimcs data\n",
    "\n",
    "df = CPTAC.get_proteomics()\n",
    "gene = 'PIK3CA'\n",
    "category = 'Mutation'\n",
    "\n",
    "cis = False\n",
    "trans = True\n",
    "\n",
    "prot_list = ['AKT1', 'TP53', 'AKT2']\n",
    "\n",
    "#clinical variables will have to be processed differently than mutation. For clinical, use 'compare_clinical' and for mutation, used 'compare_mutation\n",
    "\n",
    "big_df = pd.Dataframe()\n",
    "\n",
    "for protein in prot_list:\n",
    "    df_analysis = CPTAC.compare_mutations(df, protein, gene)\n",
    "    print(df_analysis)\n",
    "\n",
    "\n",
    "\n",
    "\n",
    "\n"
   ]
  },
  {
   "cell_type": "code",
   "execution_count": null,
   "metadata": {},
   "outputs": [],
   "source": [
    "def analyze_data(df, variable, cat1, cat2, protein):\n",
    "    \n",
    "    '''Create a list of the column names''' \n",
    "    col_names = df.columns()\n",
    "    \n",
    "    '''Remove the two categorical columns that do not include continuous variables'''\n",
    "    col_names.remove('{}' '{}'.format(protein, '_Mutation'))\n",
    "    col_names.remove('{}' '{}'.format(protein, '_Sample_Status'))\n",
    "    \n",
    "    '''Create two dictionaries to store significant and unsignificant results'''\n",
    "    sigResults = {}\n",
    "    nonsigResults = {}\n",
    "    \n",
    "    '''Separate the main dataframe into two separate dataframes by the selected categories'''\n",
    "    df_1 = df.loc[df[variable] == cat1]\n",
    "    df_2 = df.loc[df[variable] == cat2]\n",
    "    \n",
    "    '''Create lists for test statistics and the corresponding p-values'''\n",
    "    tstats = []\n",
    "    pvals = []\n",
    "    \n",
    "    '''Parse through each column and perform a ttest comparing the two selected categories'''\n",
    "    for i in range(0, len(col_names)):\n",
    "        #if col != '{}' '{}'.format(protein, '_Mutation') | col != '{}' '{}'.format(protein, '_Sample_Status'):\n",
    "        tstat, pvalue = scipy.stats.ttest_ind(df_1[col_names[i]], df_2[col_names[i]])\n",
    "\n",
    "        '''Append the results to the lists'''\n",
    "        tstats.append(tstats)\n",
    "        pvals.append(pvalue)\n",
    "    \n",
    "    \n",
    "    '''Use a Bonferroni correction to filter significant results'''\n",
    "    alpha = 0.05\n",
    "    bonf_correction = alpha/len(pvals)\n",
    "    \n",
    "    '''Loop through the p-values to find those that are below the p-value cutoff (Bonferroni correction)'''\n",
    "    for i in range(0, len(pvals)):\n",
    "        if pvals[i] < bonf_correction:\n",
    "            sigResults[col_names[i]] = pvals[i]\n",
    "        else:\n",
    "            nonsigResults[col_names[i]] = pvals[i]\n",
    "            \n",
    "    '''**** ~~~~ Put in the plots!!! *** ~~~'''\n",
    "            \n",
    "    return sigResults, nonsigResults\n",
    "    \n",
    "    \n",
    "        \n",
    "    \n",
    "    "
   ]
  }
 ],
 "metadata": {
  "kernelspec": {
   "display_name": "Python 3",
   "language": "python",
   "name": "python3"
  },
  "language_info": {
   "codemirror_mode": {
    "name": "ipython",
    "version": 3
   },
   "file_extension": ".py",
   "mimetype": "text/x-python",
   "name": "python",
   "nbconvert_exporter": "python",
   "pygments_lexer": "ipython3",
   "version": "3.7.1"
  }
 },
 "nbformat": 4,
 "nbformat_minor": 2
}
