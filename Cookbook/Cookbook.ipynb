{
 "cells": [
  {
   "cell_type": "code",
   "execution_count": 1,
   "metadata": {},
   "outputs": [
    {
     "name": "stdout",
     "output_type": "stream",
     "text": [
      "Welcome to the CPTAC data service package. Available datasets may be\n",
      "viewed using CPTAC.list(). In order to access a specific data set,\n",
      "import a CPTAC subfolder using either 'import CPTAC.Dataset' or 'from\n",
      "CPTAC import Dataset'.\n",
      "******\n",
      "Version: 0.2.5\n",
      "******\n",
      "Loading Endometrial CPTAC data:\n",
      "Loading Dictionary...\n",
      "Loading Clinical Data...\n",
      "Loading Acetylation Proteomics Data...\n",
      "Loading Proteomics Data...\n",
      "Loading Transcriptomics Data...\n",
      "Loading CNA Data...\n",
      "Loading Phosphoproteomics Data...\n",
      "Loading Somatic Mutation Data...\n",
      "\n",
      " ******PLEASE READ******\n",
      "WARNING: This data is under a publication embargo until July 1, 2019.\n",
      "CPTAC is a community resource project and data are made available\n",
      "rapidly after generation for community research use. The embargo\n",
      "allows exploring and utilizing the data, but the data may not be in a\n",
      "publication until July 1, 2019. Please see\n",
      "https://proteomics.cancer.gov/data-portal/about/data-use-agreement or\n",
      "enter embargo() to open the webpage for more details.\n"
     ]
    }
   ],
   "source": [
    "import pandas as pd\n",
    "import numpy as np\n",
    "import scipy.stats\n",
    "from scipy.stats import pearsonr\n",
    "import matplotlib.pyplot as plt\n",
    "import re\n",
    "import seaborn as sns\n",
    "import statsmodels.stats.multitest\n",
    "import sys\n",
    "import urllib3\n",
    "import json\n",
    "\n",
    "import CPTAC.Endometrial as CPTAC"
   ]
  },
  {
   "cell_type": "markdown",
   "metadata": {},
   "source": [
    "## Edit the following to configure the notebook"
   ]
  },
  {
   "cell_type": "code",
   "execution_count": 21,
   "metadata": {},
   "outputs": [],
   "source": [
    "'''Edit Below'''\n",
    "\n",
    "gene = \"PTEN\" #The gene you want to examine\n",
    "\n",
    "number_of_interacting_proteins_to_examine = 30 #The number of interacting proteins you want to look at\n",
    "\n",
    "hotspot = True #(True or False) Whether you want to examine the effect of hotspot mutations in this gene\n",
    "\n",
    "proteomics = True #(True or False) Whether you want to see results of proteomic data\n",
    "\n",
    "phosphoproteomics  = True #(True or False) Whether you want to see results of phosphoproteomic data\n",
    "\n",
    "transcriptomics = True #(True or False) Whether you want to see results of transcriptomic data\n",
    "\n",
    "subtype = True #(True or False) Whether you want to examine impact of subtype\n",
    "\n",
    "dataset = 'Endometrial' #options are Endometrial, Ovarian, etc."
   ]
  },
  {
   "cell_type": "code",
   "execution_count": 22,
   "metadata": {},
   "outputs": [
    {
     "name": "stdout",
     "output_type": "stream",
     "text": [
      "Accessing String database, response status:  200\n",
      "\n",
      "Top 30 PTEN interacting proteins: \n",
      "\n",
      "MDM2\n",
      "CSNK2A1\n",
      "STUB1\n",
      "PDGFRB\n",
      "PIK3R2\n",
      "PIK3C3\n",
      "CSNK2A2\n",
      "SLC9A3R1\n",
      "PIK3R3\n",
      "USP13\n",
      "PIK3CA\n",
      "TP53\n",
      "EGFR\n",
      "PIK3CB\n",
      "INPPL1\n",
      "PTK2\n",
      "USP7\n",
      "WWP2\n",
      "XIAP\n",
      "PTEN\n",
      "PREX2\n",
      "MAST2\n",
      "OTUD3\n",
      "PIK3CD\n",
      "ROCK1\n",
      "SHC1\n",
      "ITPKB\n",
      "NEDD4\n",
      "INPP4B\n",
      "PIK3R1\n",
      "AKT1\n"
     ]
    }
   ],
   "source": [
    "'''Use urllib3 to access the string database api, gather list of interacting proteins'''\n",
    "urllib3.disable_warnings()\n",
    "string_api_url = \"https://string-db.org/api\"\n",
    "output_format = \"json\"\n",
    "method = \"network\"\n",
    "\n",
    "'''Use the specified gene and homo sapiens species code'''\n",
    "my_gene = [gene]\n",
    "species = \"9606\"\n",
    "\n",
    "'''format the api request to collect the appropriate information'''\n",
    "request_url = string_api_url + \"/\" + output_format + \"/\" + method + \"?\"\n",
    "request_url += \"identifiers=%s\" % \"%0d\".join(my_gene)\n",
    "request_url += \"&\" + \"species=\" + species\n",
    "request_url += \"&\" + \"limit=\" + str(number_of_interacting_proteins_to_examine)\n",
    "\n",
    "'''Send a request to the API, print the response status'''\n",
    "try:\n",
    "    http = urllib3.PoolManager()\n",
    "    response = http.request('GET',request_url)\n",
    "    print(\"Accessing String database, response status: \", response.status)\n",
    "except urllib3.HTTPError as err:\n",
    "    error_message = err.read()\n",
    "    print(error_message)\n",
    "    sys.exit()\n",
    "     \n",
    "'''Get the data from the API's response'''\n",
    "data = response.data\n",
    "y = json.loads(data)\n",
    "\n",
    "'''Make a list of the resulting interacting proteins'''\n",
    "interacting_proteins = []\n",
    "for entry in y:\n",
    "    if entry[\"preferredName_A\"] not in interacting_proteins:\n",
    "        interacting_proteins.append(entry[\"preferredName_A\"])\n",
    "    if entry[\"preferredName_B\"] not in interacting_proteins:\n",
    "        interacting_proteins.append(entry[\"preferredName_B\"])\n",
    "\n",
    "print(\"\\nTop \" + str(number_of_interacting_proteins_to_examine) + \" \" + gene + \" interacting proteins: \\n\")\n",
    "for ip in interacting_proteins:\n",
    "    print(ip)"
   ]
  },
  {
   "cell_type": "code",
   "execution_count": null,
   "metadata": {},
   "outputs": [],
   "source": []
  }
 ],
 "metadata": {
  "kernelspec": {
   "display_name": "Python 3",
   "language": "python",
   "name": "python3"
  },
  "language_info": {
   "codemirror_mode": {
    "name": "ipython",
    "version": 3
   },
   "file_extension": ".py",
   "mimetype": "text/x-python",
   "name": "python",
   "nbconvert_exporter": "python",
   "pygments_lexer": "ipython3",
   "version": "3.6.8"
  }
 },
 "nbformat": 4,
 "nbformat_minor": 2
}
