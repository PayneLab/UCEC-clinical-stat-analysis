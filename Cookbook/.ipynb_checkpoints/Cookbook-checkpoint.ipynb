{
 "cells": [
  {
   "cell_type": "code",
   "execution_count": 1,
   "metadata": {},
   "outputs": [
    {
     "name": "stdout",
     "output_type": "stream",
     "text": [
      "Welcome to the CPTAC data service package. Available datasets may be\n",
      "viewed using CPTAC.list(). In order to access a specific data set,\n",
      "import a CPTAC subfolder using either 'import CPTAC.Dataset' or 'from\n",
      "CPTAC import Dataset'.\n",
      "******\n",
      "Version: 0.2.5\n",
      "******\n",
      "Loading Endometrial CPTAC data:\n",
      "Loading Dictionary...\n",
      "Loading Clinical Data...\n",
      "Loading Acetylation Proteomics Data...\n",
      "Loading Proteomics Data...\n",
      "Loading Transcriptomics Data...\n",
      "Loading CNA Data...\n",
      "Loading Phosphoproteomics Data...\n",
      "Loading Somatic Mutation Data...\n",
      "\n",
      " ******PLEASE READ******\n",
      "WARNING: This data is under a publication embargo until July 1, 2019.\n",
      "CPTAC is a community resource project and data are made available\n",
      "rapidly after generation for community research use. The embargo\n",
      "allows exploring and utilizing the data, but the data may not be in a\n",
      "publication until July 1, 2019. Please see\n",
      "https://proteomics.cancer.gov/data-portal/about/data-use-agreement or\n",
      "enter embargo() to open the webpage for more details.\n"
     ]
    }
   ],
   "source": [
    "import pandas as pd\n",
    "import numpy as np\n",
    "import scipy.stats\n",
    "from scipy.stats import pearsonr\n",
    "import matplotlib.pyplot as plt\n",
    "import re\n",
    "import seaborn as sns\n",
    "import statsmodels.stats.multitest\n",
    "import sys\n",
    "import urllib3\n",
    "import json\n",
    "import operator\n",
    "import collections\n",
    "\n",
    "import CPTAC.Endometrial as CPTAC"
   ]
  },
  {
   "cell_type": "markdown",
   "metadata": {},
   "source": [
    "## Edit the following to configure the notebook"
   ]
  },
  {
   "cell_type": "code",
   "execution_count": 2,
   "metadata": {},
   "outputs": [],
   "source": [
    "'''Edit Below'''\n",
    "\n",
    "gene = \"PIK3CA\" #The gene you want to examine\n",
    "\n",
    "number_of_interacting_proteins_to_examine = 30 #The number of interacting proteins you want to look at\n",
    "\n",
    "hotspot = True #(True or False) Whether you want to examine the effect of hotspot mutations in this gene\n",
    "\n",
    "proteomics = True #(True or False) Whether you want to see results of proteomic data\n",
    "\n",
    "phosphoproteomics  = True #(True or False) Whether you want to see results of phosphoproteomic data\n",
    "\n",
    "transcriptomics = True #(True or False) Whether you want to see results of transcriptomic data\n",
    "\n",
    "subtype = True #(True or False) Whether you want to examine impact of subtype\n",
    "\n",
    "dataset = 'Endometrial' #options are Endometrial, Ovarian, etc."
   ]
  },
  {
   "cell_type": "markdown",
   "metadata": {},
   "source": [
    "## Get the dataframes"
   ]
  },
  {
   "cell_type": "code",
   "execution_count": 3,
   "metadata": {},
   "outputs": [],
   "source": [
    "somatic = CPTAC.get_somatic()\n",
    "proteomics = CPTAC.get_proteomics()\n",
    "phos = CPTAC.get_phosphoproteomics()"
   ]
  },
  {
   "cell_type": "markdown",
   "metadata": {},
   "source": [
    "## General gene statistics"
   ]
  },
  {
   "cell_type": "code",
   "execution_count": 4,
   "metadata": {},
   "outputs": [
    {
     "name": "stdout",
     "output_type": "stream",
     "text": [
      "Patients with hotspot mutations: \n",
      "\n",
      "160      S001\n",
      "1147     S003\n",
      "1357     S009\n",
      "4630     S021\n",
      "16486    S023\n",
      "19061    S024\n",
      "21259    S032\n",
      "21516    S033\n",
      "22497    S038\n",
      "37421    S061\n",
      "38155    S063\n",
      "39522    S066\n",
      "43391    S067\n",
      "43490    S068\n",
      "46662    S084\n",
      "47360    S088\n",
      "47857    S090\n",
      "49362    S097\n",
      "49475    S098\n",
      "Name: Clinical_Patient_Key, dtype: object\n"
     ]
    }
   ],
   "source": [
    "'''Get the hotspot3D output '''\n",
    "hotspot_data = pd.ExcelFile('../HotSpot3D_Output/HotSpot3DOutput.xlsx')\n",
    "\n",
    "'''Get the sheet name called Clusters to find the protein hotspot'''\n",
    "clusters = hotspot_data.parse('Clusters')\n",
    "\n",
    "\n",
    "try:\n",
    "    '''Check if the gene of interest has a hotspot'''\n",
    "    hotspot_areas = clusters.loc[clusters['Gene/Drug'] == gene]\n",
    "    hotspot_mutations = hotspot_areas['Mutation/Gene']\n",
    "    hotspot_mutations = hotspot_mutations.tolist()\n",
    "\n",
    "    '''A list of mutations present in the hotspot according to our Hotspot3D output'''\n",
    "    mutated_hotspot = somatic.loc[(somatic['Location'].isin(hotspot_mutations)) & (somatic['Gene'] == gene)]\n",
    "    hotspot_patients = mutated_hotspot['Clinical_Patient_Key']\n",
    "    print('Patients with hotspot mutations: \\n')\n",
    "    print(hotspot_patients)\n",
    "    \n",
    "except:\n",
    "    print('{}' '{}'.format(gene, ' does not have a hotspot in our data.'))\n",
    "    hotspot = False"
   ]
  },
  {
   "cell_type": "markdown",
   "metadata": {},
   "source": [
    "## Mutation frequency"
   ]
  },
  {
   "cell_type": "code",
   "execution_count": 5,
   "metadata": {},
   "outputs": [
    {
     "name": "stdout",
     "output_type": "stream",
     "text": [
      "Total number of patients with PIK3CA mutations: 47\n",
      "Total number of PIK3CA mutation instances: 62\n",
      "\n",
      "                   Mutation Count\n",
      "Missense_Mutation              58\n",
      "In_Frame_Del                    3\n",
      "Frame_Shift_Ins                 1\n"
     ]
    },
    {
     "data": {
      "image/png": "[encoded data removed]",
      "text/plain": [
       "<Figure size 432x288 with 1 Axes>"
      ]
     },
     "metadata": {
      "needs_background": "light"
     },
     "output_type": "display_data"
    }
   ],
   "source": [
    "gene_mutated = somatic.loc[somatic['Gene'] == gene]\n",
    "\n",
    "'''Select from the dataframe all patients with a Mutation in the gene'''\n",
    "genedf = CPTAC.compare_mutations(proteomics, gene, gene)\n",
    "mutdf = genedf.loc[genedf['Sample_Status'] == 'Tumor']\n",
    "mutdf = mutdf.loc[genedf[gene+\"_Mutation\"] != 'Wildtype_Tumor']\n",
    "\n",
    "'''See how many patients have a mutation in the given gene'''\n",
    "num_mutated = len(mutdf)\n",
    "\n",
    "print('{}' '{}' '{}' '{}' .format('Total number of patients with ' , gene, ' mutations: ', num_mutated))\n",
    "total_mutations = len(gene_mutated)\n",
    "print('{}' '{}' '{}' '{}' '{}'.format('Total number of ' , gene, ' mutation instances: ', total_mutations, '\\n'))\n",
    "\n",
    "'''Count the number of instances of various mutation types in the column 'Mutation' in the gene_mutated dataframe.'''\n",
    "\n",
    "mut_counts = gene_mutated['Mutation'].value_counts()\n",
    "\n",
    "'''The previous function returns a series. Convert the series to a dataframe'''\n",
    "counts_df = mut_counts.to_frame()\n",
    "\n",
    "'''Rename the column to clarify the number of mutations'''\n",
    "counts_df = counts_df.rename(index=str, columns = { 'Mutation' : 'Mutation Count'})\n",
    "print(counts_df)\n",
    "\n",
    "'''Plot the frequencies'''\n",
    "mut_counts.plot.bar()\n",
    "plt.show()"
   ]
  },
  {
   "cell_type": "markdown",
   "metadata": {},
   "source": [
    "## Cis effect on protein abundance"
   ]
  },
  {
   "cell_type": "code",
   "execution_count": 6,
   "metadata": {},
   "outputs": [
    {
     "data": {
      "image/png": "[encoded data removed]",
      "text/plain": [
       "<Figure size 842.4x595.44 with 1 Axes>"
      ]
     },
     "metadata": {
      "needs_background": "light"
     },
     "output_type": "display_data"
    }
   ],
   "source": [
    "'''Use CPTAC compare mutations to compare'''\n",
    "cis_df = CPTAC.compare_mutations(proteomics, gene, gene)\n",
    "cis_df = cis_df.loc[cis_df['Sample_Status'] == 'Tumor']\n",
    "mutated_df = cis_df.loc[cis_df[gene+'_Mutation'] != 'Wildytpe_Tumor']\n",
    "wildtype_df = cis_df.loc[cis_df[gene+'_Mutation'] == 'Wildtype_Tumor']\n",
    "ttest, p_val = scipy.stats.ttest_ind(mutated_df[gene+'_omics'], wildtype_df[gene+'_omics'])\n",
    "\n",
    "'''Classify all mutations as \"mutated\" for the plot'''\n",
    "for i, row in cis_df.iterrows():\n",
    "    if row[gene + '_Mutation'] != 'Wildtype_Tumor':\n",
    "        cis_df.at[i,gene+'_Mutation'] = 'Mutated'\n",
    "\n",
    "'''Generate the plot'''\n",
    "a4_dims = (11.7, 8.27)\n",
    "fig, ax = plt.subplots(figsize = a4_dims)\n",
    "phos_boxplot = sns.boxplot(data=cis_df, x=gene+\"_Mutation\",y=gene+\"_omics\")\n",
    "phos_boxplot.set_title(gene + \" mutation and \" + gene + \" proteomics \\n P-Value = \" + str(p_val))\n",
    "phos_boxplot = sns.stripplot(data=cis_df, x=gene+\"_Mutation\", y=gene+\"_omics\",jitter=True, color=\".3\")\n",
    "phos_boxplot.set(xlabel=\"Mutation\",ylabel=\"Protein abundance\")\n",
    "plt.show()"
   ]
  },
  {
   "cell_type": "markdown",
   "metadata": {},
   "source": [
    "## Access STRING database to compile list of interacting proteins"
   ]
  },
  {
   "cell_type": "code",
   "execution_count": 7,
   "metadata": {},
   "outputs": [
    {
     "name": "stdout",
     "output_type": "stream",
     "text": [
      "Accessing String database, response status:  200\n",
      "\n",
      "Top 30 PIK3CA interacting proteins: \n",
      "\n",
      "PIK3R2\n",
      "TNS1\n",
      "RPS6KB1\n",
      "KRAS\n",
      "PDGFRA\n",
      "PIK3R3\n",
      "AKT3\n",
      "PIK3CA\n",
      "ERBB3\n",
      "IGF1R\n",
      "ERBB2\n",
      "EGFR\n",
      "GNAQ\n",
      "KIT\n",
      "MRAS\n",
      "MAP2K1\n",
      "IRS1\n",
      "RHOG\n",
      "FGFR3\n",
      "PDPK1\n",
      "CTNNB1\n",
      "NRAS\n",
      "PTEN\n",
      "IRS2\n",
      "AKT2\n",
      "CDC42\n",
      "ESR1\n",
      "HRAS\n",
      "CDKN2A\n",
      "PIK3R1\n",
      "AKT1\n"
     ]
    }
   ],
   "source": [
    "'''Use urllib3 to access the string database api, gather list of interacting proteins'''\n",
    "urllib3.disable_warnings()\n",
    "string_api_url = \"https://string-db.org/api\"\n",
    "output_format = \"json\"\n",
    "method = \"network\"\n",
    "\n",
    "'''Use the specified gene and homo sapiens species code'''\n",
    "my_gene = [gene]\n",
    "species = \"9606\"\n",
    "\n",
    "'''Format the api request to collect the appropriate information'''\n",
    "request_url = string_api_url + \"/\" + output_format + \"/\" + method + \"?\"\n",
    "request_url += \"identifiers=%s\" % \"%0d\".join(my_gene)\n",
    "request_url += \"&\" + \"species=\" + species\n",
    "request_url += \"&\" + \"limit=\" + str(number_of_interacting_proteins_to_examine)\n",
    "\n",
    "'''Send a request to the API, print the response status'''\n",
    "try:\n",
    "    http = urllib3.PoolManager()\n",
    "    response = http.request('GET',request_url)\n",
    "    print(\"Accessing String database, response status: \", response.status)\n",
    "except urllib3.HTTPError as err:\n",
    "    error_message = err.read()\n",
    "    print(error_message)\n",
    "    sys.exit()\n",
    "\n",
    "interacting_proteins = []\n",
    "if response.status == 200: \n",
    "    '''Get the data from the API's response'''\n",
    "    data = response.data\n",
    "    y = json.loads(data)\n",
    "\n",
    "    '''Make a list of the resulting interacting proteins'''\n",
    "    for entry in y:\n",
    "        if entry[\"preferredName_A\"] not in interacting_proteins:\n",
    "            interacting_proteins.append(entry[\"preferredName_A\"])\n",
    "        if entry[\"preferredName_B\"] not in interacting_proteins:\n",
    "            interacting_proteins.append(entry[\"preferredName_B\"])\n",
    "\n",
    "    print(\"\\nTop \" + str(number_of_interacting_proteins_to_examine) + \" \" + gene + \" interacting proteins: \\n\")\n",
    "    for ip in interacting_proteins:\n",
    "        print(ip)\n",
    "else:\n",
    "    print(\"\\nSpecified gene was not found in String database, double check that you have it correctly!\")\n",
    "    interacting_proteins.append(gene)"
   ]
  },
  {
   "cell_type": "markdown",
   "metadata": {},
   "source": [
    "## Examine proteomic levels of interacting protiens"
   ]
  },
  {
   "cell_type": "code",
   "execution_count": 8,
   "metadata": {},
   "outputs": [
    {
     "name": "stdout",
     "output_type": "stream",
     "text": [
      "Gene  PIK3R3  not found in proteomics data!\n",
      "Gene  KIT  not found in proteomics data!\n",
      "{\n",
      "PIK3R2: 0.5575225253756861\n",
      "TNS1: 0.6066414020829691\n",
      "RPS6KB1: 0.03640034709316176\n",
      "KRAS: 0.14704204560833292\n",
      "AKT3: 0.2615322639482637\n",
      "PIK3CA: 0.031678136854719985\n",
      "ERBB3: 0.1362646413913762\n",
      "IGF1R: 0.5163491660226889\n",
      "ERBB2: 0.3480140566754707\n",
      "EGFR: 0.6434331547758831\n",
      "GNAQ: 0.9428382746032486\n",
      "MRAS: 0.9632485924650018\n",
      "MAP2K1: 0.895804264506247\n",
      "IRS1: 0.3589749294393514\n",
      "RHOG: 0.16002290986668524\n",
      "PDPK1: 0.8187456305226849\n",
      "CTNNB1: 0.31009212443890405\n",
      "NRAS: 0.6924641618069217\n",
      "PTEN: 0.29705786646798127\n",
      "IRS2: 0.22216155850981723\n",
      "AKT2: 0.026902041515640015\n",
      "CDC42: 0.18362428499038155\n",
      "ESR1: 0.1506939007189892\n",
      "CDKN2A: 0.8447788200076005\n",
      "PIK3R1: 0.024327730118996492\n",
      "AKT1: 0.26274510752451385\n",
      "}\n"
     ]
    }
   ],
   "source": [
    "'''Use list of interacting proteins as our protein list'''\n",
    "protein_list = interacting_proteins\n",
    "\n",
    "p_values = {}\n",
    "'''Loop through every protein in the list'''\n",
    "for protein in protein_list:\n",
    "    if protein in proteomics.columns:\n",
    "        '''Use CPTAC compare_mutations to compare proteomic levels when gene is mutated'''\n",
    "        protdf = CPTAC.compare_mutations(proteomics, protein, gene)\n",
    "        '''Look only at Tumor types'''\n",
    "        protdf = protdf.loc[protdf['Sample_Status'] == 'Tumor']\n",
    "        '''Split into mutated and wildtype dataframes'''\n",
    "        mutateddf = protdf.loc[protdf[gene+\"_Mutation\"] != 'Wildtype_Tumor']\n",
    "        wildtypedf = protdf.loc[protdf[gene+\"_Mutation\"] == 'Wildtype_Tumor']\n",
    "        '''Do a t-test to compare the mutated and wildtype groups, see if they show a significant difference'''\n",
    "        ttest, p_val = scipy.stats.ttest_ind(mutateddf[protein+\"_omics\"], wildtypedf[protein+\"_omics\"])\n",
    "        '''Store protein and p-value in a dictionary, if it is a real value'''\n",
    "        if not np.isnan(p_val):\n",
    "            p_values[protein] = p_val\n",
    "    else:\n",
    "        print(\"Gene \", protein, \" not found in proteomics data!\")\n",
    "        \n",
    "'''Display all the interacting proteins and their p-value'''\n",
    "print(\"{\\n\" + \"\\n\".join(\"{}: {}\".format(k, v) for k, v in p_values.items()) + \"\\n}\")"
   ]
  },
  {
   "cell_type": "markdown",
   "metadata": {},
   "source": [
    "## Adjust for multiple testing with a Bonferroni correction"
   ]
  },
  {
   "cell_type": "code",
   "execution_count": 9,
   "metadata": {},
   "outputs": [
    {
     "name": "stdout",
     "output_type": "stream",
     "text": [
      "Bonferroni Corrected P-Value Cutoff:  0.0019231\n"
     ]
    }
   ],
   "source": [
    "alpha = .05\n",
    "bonferroni_adjusted_cutoff = alpha/len(p_values)\n",
    "print('Bonferroni Corrected P-Value Cutoff: {0:10.7f}'.format(bonferroni_adjusted_cutoff))"
   ]
  },
  {
   "cell_type": "markdown",
   "metadata": {},
   "source": [
    "## Determine which interacting proteins' proteomic abundance are significantly different when gene is mutated"
   ]
  },
  {
   "cell_type": "code",
   "execution_count": 10,
   "metadata": {},
   "outputs": [
    {
     "name": "stdout",
     "output_type": "stream",
     "text": [
      "Significant values: \n",
      "{\n",
      "\n",
      "}\n",
      "\n",
      "Insignificant values: \n",
      "{\n",
      "PIK3R2: 0.5575225253756861\n",
      "TNS1: 0.6066414020829691\n",
      "RPS6KB1: 0.03640034709316176\n",
      "KRAS: 0.14704204560833292\n",
      "AKT3: 0.2615322639482637\n",
      "PIK3CA: 0.031678136854719985\n",
      "ERBB3: 0.1362646413913762\n",
      "IGF1R: 0.5163491660226889\n",
      "ERBB2: 0.3480140566754707\n",
      "EGFR: 0.6434331547758831\n",
      "GNAQ: 0.9428382746032486\n",
      "MRAS: 0.9632485924650018\n",
      "MAP2K1: 0.895804264506247\n",
      "IRS1: 0.3589749294393514\n",
      "RHOG: 0.16002290986668524\n",
      "PDPK1: 0.8187456305226849\n",
      "CTNNB1: 0.31009212443890405\n",
      "NRAS: 0.6924641618069217\n",
      "PTEN: 0.29705786646798127\n",
      "IRS2: 0.22216155850981723\n",
      "AKT2: 0.026902041515640015\n",
      "CDC42: 0.18362428499038155\n",
      "ESR1: 0.1506939007189892\n",
      "CDKN2A: 0.8447788200076005\n",
      "PIK3R1: 0.024327730118996492\n",
      "AKT1: 0.26274510752451385\n",
      "}\n"
     ]
    }
   ],
   "source": [
    "significant_interacting_proteins = {}\n",
    "unsignificant_interacting_proteins = {}\n",
    "for key, val in p_values.items():\n",
    "    if val <= bonferroni_adjusted_cutoff:\n",
    "        significant_interacting_proteins[key] = val\n",
    "    else:\n",
    "        unsignificant_interacting_proteins[key] = val\n",
    "\n",
    "print(\"Significant values: \")\n",
    "print(\"{\\n\" + \"\\n\".join(\"{}: {}\".format(k, v) for k, v in significant_interacting_proteins.items()) + \"\\n}\")\n",
    "\n",
    "print(\"\\nInsignificant values: \")\n",
    "print(\"{\\n\" + \"\\n\".join(\"{}: {}\".format(k, v) for k, v in unsignificant_interacting_proteins.items()) + \"\\n}\")"
   ]
  },
  {
   "cell_type": "markdown",
   "metadata": {},
   "source": [
    "## Make a plot showing proteomic difference for most significant protein"
   ]
  },
  {
   "cell_type": "code",
   "execution_count": 11,
   "metadata": {},
   "outputs": [
    {
     "data": {
      "image/png": "[encoded data removed]",
      "text/plain": [
       "<Figure size 842.4x595.44 with 1 Axes>"
      ]
     },
     "metadata": {
      "needs_background": "light"
     },
     "output_type": "display_data"
    }
   ],
   "source": [
    "'''Sort p-value dictionary to order most significant p-values first'''\n",
    "sorted_dict = dict(sorted(p_values.items(), key=lambda x: x[1]))\n",
    "#print(\"{\\n\" + \"\\n\".join(\"{}: {}\".format(k, v) for k, v in sorted_dict.items()) + \"\\n}\")\n",
    "\n",
    "'''Get the most significant protein'''\n",
    "most_significant_protein = (next(iter(sorted_dict)))\n",
    "p_value_of_most_significant = p_values[most_significant_protein]\n",
    "'''Get dataframe comparing protein abundance with gene mutation'''\n",
    "most_sig_df = CPTAC.compare_mutations(proteomics, most_significant_protein, gene)\n",
    "'''Select only tumor type'''\n",
    "most_sig_df = most_sig_df.loc[most_sig_df['Sample_Status'] == 'Tumor']\n",
    "\n",
    "'''Classify all mutations as \"mutated\" for the plot'''\n",
    "for i, row in most_sig_df.iterrows():\n",
    "    if row[gene + '_Mutation'] != 'Wildtype_Tumor':\n",
    "        most_sig_df.at[i,gene+'_Mutation'] = 'Mutated'\n",
    "\n",
    "\n",
    "'''Generate the plot'''\n",
    "a4_dims = (11.7, 8.27)\n",
    "fig, ax = plt.subplots(figsize = a4_dims)\n",
    "phos_boxplot = sns.boxplot(data=most_sig_df, x=gene+\"_Mutation\",y=most_significant_protein+\"_omics\")\n",
    "phos_boxplot.set_title(gene + \" mutation and \" + most_significant_protein + \" proteomics \\n P-Value = \" + str(p_value_of_most_significant))\n",
    "phos_boxplot = sns.stripplot(data=most_sig_df, x=gene+\"_Mutation\", y=most_significant_protein+\"_omics\",jitter=True, color=\".3\")\n",
    "phos_boxplot.set(xlabel=\"Mutation\",ylabel=\"Protein abundance\")\n",
    "plt.show()"
   ]
  },
  {
   "cell_type": "code",
   "execution_count": null,
   "metadata": {},
   "outputs": [],
   "source": []
  }
 ],
 "metadata": {
  "kernelspec": {
   "display_name": "Python 3",
   "language": "python",
   "name": "python3"
  },
  "language_info": {
   "codemirror_mode": {
    "name": "ipython",
    "version": 3
   },
   "file_extension": ".py",
   "mimetype": "text/x-python",
   "name": "python",
   "nbconvert_exporter": "python",
   "pygments_lexer": "ipython3",
   "version": "3.6.8"
  }
 },
 "nbformat": 4,
 "nbformat_minor": 2
}
