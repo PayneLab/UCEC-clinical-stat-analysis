{
 "cells": [
  {
   "cell_type": "code",
   "execution_count": 1,
   "metadata": {},
   "outputs": [
    {
     "name": "stdout",
     "output_type": "stream",
     "text": [
      "Welcome to the CPTAC data service package. Available datasets may be\n",
      "viewed using CPTAC.list(). In order to access a specific data set,\n",
      "import a CPTAC subfolder using either 'import CPTAC.Dataset' or 'from\n",
      "CPTAC import Dataset'.\n",
      "******\n",
      "Version: 0.2.5\n",
      "******\n",
      "Loading Endometrial CPTAC data:\n",
      "Loading Dictionary...\n",
      "Loading Clinical Data...\n",
      "Loading Acetylation Proteomics Data...\n",
      "Loading Proteomics Data...\n",
      "Loading Transcriptomics Data...\n",
      "Loading CNA Data...\n",
      "Loading Phosphoproteomics Data...\n",
      "Loading Somatic Mutation Data...\n",
      "\n",
      " ******PLEASE READ******\n",
      "WARNING: This data is under a publication embargo until July 1, 2019.\n",
      "CPTAC is a community resource project and data are made available\n",
      "rapidly after generation for community research use. The embargo\n",
      "allows exploring and utilizing the data, but the data may not be in a\n",
      "publication until July 1, 2019. Please see\n",
      "https://proteomics.cancer.gov/data-portal/about/data-use-agreement or\n",
      "enter embargo() to open the webpage for more details.\n"
     ]
    }
   ],
   "source": [
    "import pandas as pd\n",
    "import numpy as np\n",
    "import scipy.stats\n",
    "from scipy.stats import pearsonr\n",
    "import matplotlib.pyplot as plt\n",
    "import re\n",
    "import seaborn as sns\n",
    "import statsmodels.stats.multitest\n",
    "import sys\n",
    "import urllib3\n",
    "import json\n",
    "\n",
    "import CPTAC.Endometrial as CPTAC"
   ]
  },
  {
   "cell_type": "code",
   "execution_count": 11,
   "metadata": {},
   "outputs": [
    {
     "name": "stderr",
     "output_type": "stream",
     "text": [
      "/anaconda3/lib/python3.6/site-packages/urllib3/connectionpool.py:847: InsecureRequestWarning: Unverified HTTPS request is being made. Adding certificate verification is strongly advised. See: https://urllib3.readthedocs.io/en/latest/advanced-usage.html#ssl-warnings\n",
      "  InsecureRequestWarning)\n"
     ]
    },
    {
     "name": "stdout",
     "output_type": "stream",
     "text": [
      "STATUS:  200\n",
      "['SMARCC1', 'CCND1', 'SMARCD3', 'CREBBP', 'SMARCB1', 'SMARCA2', 'SMARCC2', 'KMT2D', 'ARID1A', 'SMARCE1', 'PHF10', 'ARID1B', 'NF1', 'CDC5L', 'SMARCD1', 'SMARCD2', 'SMARCA4', 'ACTL6A', 'SS18', 'DPF2', 'DPF3']\n"
     ]
    }
   ],
   "source": [
    "number_of_interacting_proteins_to_examine = 20\n",
    "\n",
    "urllib3.disable_warnings()\n",
    "string_api_url = \"https://string-db.org/api\"\n",
    "output_format = \"json\"\n",
    "method = \"network\"\n",
    "\n",
    "my_gene = [\"ARID1A\"]\n",
    "species = \"9606\"\n",
    "\n",
    "request_url = string_api_url + \"/\" + output_format + \"/\" + method + \"?\"\n",
    "request_url += \"identifiers=%s\" % \"%0d\".join(my_gene)\n",
    "request_url += \"&\" + \"species=\" + species\n",
    "request_url += \"&\" + \"limit=\" + str(number_of_interacting_proteins_to_examine)\n",
    "#request_url += \"&\" + \"caller_identity=\" + \n",
    "\n",
    "try:\n",
    "    http = urllib3.PoolManager()\n",
    "    response = http.request('GET',request_url)\n",
    "    print(\"STATUS: \", response.status)\n",
    "except urllib3.HTTPError as err:\n",
    "    error_message = err.read()\n",
    "    print(error_message)\n",
    "    sys.exit()\n",
    "    \n",
    "    \n",
    "data = response.data\n",
    "#print(data)\n",
    "\n",
    "y = json.loads(data)\n",
    "\n",
    "interacting_proteins = []\n",
    "for entry in y:\n",
    "    if entry[\"preferredName_A\"] not in interacting_proteins:\n",
    "        interacting_proteins.append(entry[\"preferredName_A\"])\n",
    "    if entry[\"preferredName_B\"] not in interacting_proteins:\n",
    "        interacting_proteins.append(entry[\"preferredName_B\"])\n",
    "\n",
    "print(interacting_proteins)\n"
   ]
  },
  {
   "cell_type": "code",
   "execution_count": null,
   "metadata": {},
   "outputs": [],
   "source": [
    "'''Edit Below'''\n",
    "gene = \n",
    "\n",
    "hotspot = True # true or false\n",
    "proteomics = True #true or false\n",
    "phosphoproteomics  = True #true or false\n",
    "transcriptomics = True #true or false\n",
    "subtype = True #true or false\n",
    "dataset = 'Endometrial' #options are Endometrial, Ovarian, etc.\n",
    "\n",
    "if dataset == 'Endometrial':\n",
    "    import CPTAC.Endometrial as CPTAC\n",
    "if dataset == 'Ovarian':\n",
    "    pass"
   ]
  }
 ],
 "metadata": {
  "kernelspec": {
   "display_name": "Python 3",
   "language": "python",
   "name": "python3"
  },
  "language_info": {
   "codemirror_mode": {
    "name": "ipython",
    "version": 3
   },
   "file_extension": ".py",
   "mimetype": "text/x-python",
   "name": "python",
   "nbconvert_exporter": "python",
   "pygments_lexer": "ipython3",
   "version": "3.6.8"
  }
 },
 "nbformat": 4,
 "nbformat_minor": 2
}
