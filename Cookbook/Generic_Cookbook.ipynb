{
 "cells": [
  {
   "cell_type": "code",
   "execution_count": 1,
   "metadata": {},
   "outputs": [
    {
     "name": "stdout",
     "output_type": "stream",
     "text": [
      "Welcome to the CPTAC data service package. Available datasets may be\n",
      "viewed using CPTAC.list(). In order to access a specific data set,\n",
      "import a CPTAC subfolder using either 'import CPTAC.Dataset' or 'from\n",
      "CPTAC import Dataset'.\n",
      "******\n",
      "Version: 0.2.5\n",
      "******\n",
      "Loading Endometrial CPTAC data:\n",
      "Loading Dictionary...\n",
      "Loading Clinical Data...\n",
      "Loading Acetylation Proteomics Data...\n",
      "Loading Proteomics Data...\n",
      "Loading Transcriptomics Data...\n",
      "Loading CNA Data...\n",
      "Loading Phosphoproteomics Data...\n",
      "Loading Somatic Mutation Data...\n",
      "\n",
      " ******PLEASE READ******\n",
      "WARNING: This data is under a publication embargo until July 1, 2019.\n",
      "CPTAC is a community resource project and data are made available\n",
      "rapidly after generation for community research use. The embargo\n",
      "allows exploring and utilizing the data, but the data may not be in a\n",
      "publication until July 1, 2019. Please see\n",
      "https://proteomics.cancer.gov/data-portal/about/data-use-agreement or\n",
      "enter embargo() to open the webpage for more details.\n"
     ]
    }
   ],
   "source": [
    "import pandas as pd\n",
    "import numpy as np\n",
    "import scipy.stats\n",
    "import matplotlib.pyplot as plt\n",
    "import re\n",
    "import seaborn as sns\n",
    "import sys\n",
    "import urllib3\n",
    "import json\n",
    "import operator\n",
    "import collections\n",
    "\n",
    "import CPTAC.Endometrial as CPTAC"
   ]
  },
  {
   "cell_type": "code",
   "execution_count": 2,
   "metadata": {},
   "outputs": [],
   "source": [
    "somatic = CPTAC.get_somatic()\n",
    "proteomics = CPTAC.get_proteomics()\n",
    "phos = CPTAC.get_phosphoproteomics()"
   ]
  },
  {
   "cell_type": "markdown",
   "metadata": {},
   "source": [
    "# Part 1: Formatting Data"
   ]
  },
  {
   "cell_type": "markdown",
   "metadata": {},
   "source": [
    "## Step 1: Enter gene name\n",
    "# INPUT: "
   ]
  },
  {
   "cell_type": "code",
   "execution_count": 3,
   "metadata": {},
   "outputs": [],
   "source": [
    "gene = \"PTEN\" #Name of any gene of which you are interested in examing the effects of mutation"
   ]
  },
  {
   "cell_type": "markdown",
   "metadata": {},
   "source": [
    "## Step 2: Select type of data\n",
    "Set \"data_type\" to \"proteomics\" for proteomic abundance data <br><br>\n",
    "Set \"data_type\" to \"phosphoproteomics\" for phosphoproteomic data <br><br>\n",
    "Set \"data_type\" to \"transcriptomics\" for transcription data\n",
    "# INPUT:"
   ]
  },
  {
   "cell_type": "code",
   "execution_count": 4,
   "metadata": {},
   "outputs": [],
   "source": [
    "data_type = \"phosphoproteomics\" #Options are \"proteomics\", \"phosphoproteomics\", \"transcriptomics\""
   ]
  },
  {
   "cell_type": "markdown",
   "metadata": {},
   "source": [
    "## Step 3: Select scope of data analysis\n",
    "Set \"scope\" to \"cis\" to examine cis effect of gene mutation on the protein it codes for <br> <br>\n",
    "Set \"scope\" to \"interacting\" to examine the effect of gene mutation on known interacting proteins (interacting proteins are automatically generated through interacting with STRING database API). If using scope=\"interacting\", set \"number_of_interacting_proteins\" to the number of interacting proteins you want to pull from the STRING database <br><br>\n",
    "Set \"scope\" to \"all\" to look at the effect on all proteins in our dataset\n",
    "# INPUT:"
   ]
  },
  {
   "cell_type": "code",
   "execution_count": 5,
   "metadata": {},
   "outputs": [],
   "source": [
    "scope = \"cis\" #Options are \"cis\", \"interacting\", \"all\"\n",
    "number_of_interacting_proteins = 20 #Parameter only necessary if examining \"interacting\", it will otherwise be ignored"
   ]
  },
  {
   "cell_type": "markdown",
   "metadata": {},
   "source": [
    "## Step 4: Select Question\n",
    "\n",
    "Set \"question\" to \"mutated_vs_wildtype\" to compare mutated and wildtype groups<br><br>\n",
    "Set \"question\" to \"hotspot_vs_wildtype\" to compare individuals with a hotspot mutation <br><br>\n",
    "Set \"question\" to \"truncation_vs_wildtype\" to compare individuals with a truncating mutation\n",
    "# INPUT:"
   ]
  },
  {
   "cell_type": "code",
   "execution_count": 6,
   "metadata": {},
   "outputs": [],
   "source": [
    "question = \"truncation_vs_wildtype\" #Options are ....."
   ]
  },
  {
   "cell_type": "markdown",
   "metadata": {},
   "source": [
    "## Step 5: Set Dataframe to Selected Data"
   ]
  },
  {
   "cell_type": "code",
   "execution_count": 7,
   "metadata": {},
   "outputs": [],
   "source": [
    "if data_type == \"proteomics\":\n",
    "    dataframe = CPTAC.get_proteomics()\n",
    "    \n",
    "elif data_type == \"phosphoproteomics\":\n",
    "    dataframe = CPTAC.get_phosphoproteomics()\n",
    "    \n",
    "elif data_type == \"transcriptomics\":\n",
    "    dataframe = CPTAC.get_transcriptomics()\n",
    "    \n",
    "else:\n",
    "    print(\"Invalid data_type value entered! See step 2 above.\")"
   ]
  },
  {
   "cell_type": "markdown",
   "metadata": {},
   "source": [
    "## Step 6: Generate Protein List Based on the Selected Scope"
   ]
  },
  {
   "cell_type": "code",
   "execution_count": 8,
   "metadata": {},
   "outputs": [
    {
     "name": "stdout",
     "output_type": "stream",
     "text": [
      "Protein List: \n",
      "\n",
      "PTEN\n"
     ]
    }
   ],
   "source": [
    "protein_list = []    \n",
    "\n",
    "'''Just add the gene itself if cis'''\n",
    "if scope == \"cis\":\n",
    "    protein_list = [gene]\n",
    "    \n",
    "    '''If interacting, get interacting proteins from STRING database'''\n",
    "elif scope == \"interacting\":\n",
    "    \n",
    "    '''Use urllib3 to access the string database api, gather list of interacting proteins'''\n",
    "    urllib3.disable_warnings()\n",
    "    string_api_url = \"https://string-db.org/api\"\n",
    "    output_format = \"json\"\n",
    "    method = \"network\"\n",
    "\n",
    "    '''Use the specified gene and homo sapiens species code'''\n",
    "    my_gene = [gene]\n",
    "    species = \"9606\"\n",
    "\n",
    "    '''Format the api request to collect the appropriate information'''\n",
    "    request_url = string_api_url + \"/\" + output_format + \"/\" + method + \"?\"\n",
    "    request_url += \"identifiers=%s\" % \"%0d\".join(my_gene)\n",
    "    request_url += \"&\" + \"species=\" + species\n",
    "    request_url += \"&\" + \"limit=\" + str(number_of_interacting_proteins)\n",
    "\n",
    "    '''Send a request to the API, print the response status'''\n",
    "    try:\n",
    "        http = urllib3.PoolManager()\n",
    "        response = http.request('GET',request_url)\n",
    "        #print(\"Accessing String database, response status: \", response.status)\n",
    "    except urllib3.HTTPError as err:\n",
    "        error_message = err.read()\n",
    "        print(error_message)\n",
    "        sys.exit()\n",
    "\n",
    "    interacting_proteins = []\n",
    "    if response.status == 200: \n",
    "        '''Get the data from the API's response'''\n",
    "        data = response.data\n",
    "        y = json.loads(data)\n",
    "\n",
    "        '''Make a list of the resulting interacting proteins'''\n",
    "        for entry in y:\n",
    "            if entry[\"preferredName_A\"] not in interacting_proteins:\n",
    "                interacting_proteins.append(entry[\"preferredName_A\"])\n",
    "            if entry[\"preferredName_B\"] not in interacting_proteins:\n",
    "                interacting_proteins.append(entry[\"preferredName_B\"])\n",
    "                \n",
    "        for ip in interacting_proteins:\n",
    "            protein_list.append(ip)\n",
    "    else:\n",
    "        print(\"\\nSpecified gene was not found in String database, double check that you have it correctly!\")\n",
    "        protein_list.append(gene)\n",
    "\n",
    "    '''If all, add all proteins in our dataset'''\n",
    "elif scope == \"all\":\n",
    "    protein_list = proteomics.columns\n",
    "\n",
    "    '''If none of these, invalid'''\n",
    "else:\n",
    "    print(\"Invalid scope value entered! See step 3 above.\")\n",
    "    \n",
    "'''Display list of proteins selected'''\n",
    "print(\"Protein List: \\n\")\n",
    "for pro in protein_list:\n",
    "    print(pro)"
   ]
  },
  {
   "cell_type": "markdown",
   "metadata": {},
   "source": [
    "## Step 7: Format Dataframe Based on Question"
   ]
  },
  {
   "cell_type": "markdown",
   "metadata": {},
   "source": [
    "This will generate a dataframe with the gene mutation, sample status, and columns for either proteomics, phosphoproteomics, or transcriptomics for every protein (or every site in every protein, if phosphorylation)."
   ]
  },
  {
   "cell_type": "markdown",
   "metadata": {},
   "source": [
    "#### Question: Mutated vs. Wildtype\n",
    "Places either a 'Mutated' or 'Wildtype' value in the category column, based on gene mutation"
   ]
  },
  {
   "cell_type": "code",
   "execution_count": 9,
   "metadata": {},
   "outputs": [],
   "source": [
    "if question == \"mutated_vs_wildtype\":\n",
    "    '''Get dataframe for mutations, select sample status and gene mutation only'''\n",
    "    genedf = CPTAC.compare_mutations(dataframe, protein_list[0], gene)\n",
    "    genedf = genedf[[gene+\"_Mutation\", \"Sample_Status\"]]\n",
    "    '''Loop through every protein in protein list, add in omics'''\n",
    "    for protein in protein_list:\n",
    "        protdf = CPTAC.compare_mutations(dataframe, protein, gene)\n",
    "        if protdf is not None:\n",
    "            for col in protdf.columns:\n",
    "                if col not in genedf.columns:\n",
    "                    genedf[col] = protdf[col]\n",
    "                    \n",
    "    '''Define category variable for mutated or wildtype'''                \n",
    "    for ind, row in genedf.iterrows():\n",
    "        if row[gene+\"_Mutation\"] != 'Wildtype_Tumor' and row[gene+\"_Mutation\"] != 'Wildtype':\n",
    "            genedf.at[ind, 'Category'] = 'Mutated'\n",
    "        else:\n",
    "            genedf.at[ind, 'Category'] = 'Wildtype'\n",
    "        "
   ]
  },
  {
   "cell_type": "markdown",
   "metadata": {},
   "source": [
    "#### Question: Truncation Mutation vs Wildtype\n",
    "Places either 'Truncating_Mutation', 'Non_Truncating_Mutation', or 'Wildtype' in the Category column, depending on gene mutation"
   ]
  },
  {
   "cell_type": "code",
   "execution_count": 10,
   "metadata": {},
   "outputs": [],
   "source": [
    "if question == \"truncation_vs_wildtype\":\n",
    "    '''Get dataframe for mutations, select sample status and gene mutation only'''\n",
    "    genedf = CPTAC.compare_mutations(dataframe, gene, gene)\n",
    "    genedf = genedf[[gene+\"_Mutation\", \"Sample_Status\"]]\n",
    "    '''Loop through every protein in protein list, add in omics'''\n",
    "    for protein in protein_list:\n",
    "        protdf = CPTAC.compare_mutations(dataframe, protein, gene)\n",
    "        if protdf is not None:\n",
    "            for col in protdf.columns:\n",
    "                if col not in genedf.columns:\n",
    "                    genedf[col] = protdf[col]\n",
    "                    \n",
    "    truncating_mutations = ['Nonsense_Mutation', 'Frame_Shift_Del','Frame_Shift_Ins',]\n",
    "    for ind, row in genedf.iterrows():\n",
    "        if row[gene+\"_Mutation\"] in truncating_mutations:\n",
    "            genedf.at[ind, 'Category'] = 'Truncating_Mutation'\n",
    "        elif row[gene+\"_Mutation\"] == 'Wildtype' or row[gene+\"_Mutation\"] == 'Wildtype_Tumor':\n",
    "            genedf.at[ind, 'Category'] = 'Wildtype'\n",
    "        else:\n",
    "            genedf.at[ind, 'Category'] = 'Non_Truncating_Mutation'"
   ]
  },
  {
   "cell_type": "markdown",
   "metadata": {},
   "source": [
    "#### Show formatting"
   ]
  },
  {
   "cell_type": "code",
   "execution_count": 11,
   "metadata": {},
   "outputs": [
    {
     "data": {
      "text/html": [
       "<div>\n",
       "<style scoped>\n",
       "    .dataframe tbody tr th:only-of-type {\n",
       "        vertical-align: middle;\n",
       "    }\n",
       "\n",
       "    .dataframe tbody tr th {\n",
       "        vertical-align: top;\n",
       "    }\n",
       "\n",
       "    .dataframe thead th {\n",
       "        text-align: right;\n",
       "    }\n",
       "</style>\n",
       "<table border=\"1\" class=\"dataframe\">\n",
       "  <thead>\n",
       "    <tr style=\"text-align: right;\">\n",
       "      <th></th>\n",
       "      <th>PTEN_Mutation</th>\n",
       "      <th>Sample_Status</th>\n",
       "      <th>PTEN-S467</th>\n",
       "      <th>PTEN-S475</th>\n",
       "      <th>PTEN-S478</th>\n",
       "      <th>PTEN-S537</th>\n",
       "      <th>PTEN-S543</th>\n",
       "      <th>PTEN-S558</th>\n",
       "      <th>PTEN-T539</th>\n",
       "      <th>PTEN-T555</th>\n",
       "      <th>PTEN-T556</th>\n",
       "      <th>Category</th>\n",
       "    </tr>\n",
       "  </thead>\n",
       "  <tbody>\n",
       "    <tr>\n",
       "      <th>S001</th>\n",
       "      <td>Nonsense_Mutation</td>\n",
       "      <td>Tumor</td>\n",
       "      <td>0.1950</td>\n",
       "      <td>0.1175</td>\n",
       "      <td>0.175</td>\n",
       "      <td>NaN</td>\n",
       "      <td>NaN</td>\n",
       "      <td>-0.4280</td>\n",
       "      <td>NaN</td>\n",
       "      <td>NaN</td>\n",
       "      <td>NaN</td>\n",
       "      <td>Truncating_Mutation</td>\n",
       "    </tr>\n",
       "    <tr>\n",
       "      <th>S002</th>\n",
       "      <td>Missense_Mutation</td>\n",
       "      <td>Tumor</td>\n",
       "      <td>-0.0611</td>\n",
       "      <td>-0.0751</td>\n",
       "      <td>NaN</td>\n",
       "      <td>NaN</td>\n",
       "      <td>-0.2560</td>\n",
       "      <td>-0.0996</td>\n",
       "      <td>NaN</td>\n",
       "      <td>NaN</td>\n",
       "      <td>-0.2375</td>\n",
       "      <td>Non_Truncating_Mutation</td>\n",
       "    </tr>\n",
       "    <tr>\n",
       "      <th>S003</th>\n",
       "      <td>Nonsense_Mutation</td>\n",
       "      <td>Tumor</td>\n",
       "      <td>0.4160</td>\n",
       "      <td>NaN</td>\n",
       "      <td>NaN</td>\n",
       "      <td>NaN</td>\n",
       "      <td>NaN</td>\n",
       "      <td>-0.8655</td>\n",
       "      <td>NaN</td>\n",
       "      <td>NaN</td>\n",
       "      <td>-0.5510</td>\n",
       "      <td>Truncating_Mutation</td>\n",
       "    </tr>\n",
       "    <tr>\n",
       "      <th>S005</th>\n",
       "      <td>Missense_Mutation</td>\n",
       "      <td>Tumor</td>\n",
       "      <td>1.7700</td>\n",
       "      <td>NaN</td>\n",
       "      <td>NaN</td>\n",
       "      <td>NaN</td>\n",
       "      <td>NaN</td>\n",
       "      <td>1.0200</td>\n",
       "      <td>NaN</td>\n",
       "      <td>NaN</td>\n",
       "      <td>0.8600</td>\n",
       "      <td>Non_Truncating_Mutation</td>\n",
       "    </tr>\n",
       "    <tr>\n",
       "      <th>S006</th>\n",
       "      <td>Wildtype_Tumor</td>\n",
       "      <td>Tumor</td>\n",
       "      <td>0.0258</td>\n",
       "      <td>NaN</td>\n",
       "      <td>NaN</td>\n",
       "      <td>-0.128</td>\n",
       "      <td>-0.0901</td>\n",
       "      <td>-0.2725</td>\n",
       "      <td>-0.0901</td>\n",
       "      <td>NaN</td>\n",
       "      <td>-0.2910</td>\n",
       "      <td>Wildtype</td>\n",
       "    </tr>\n",
       "  </tbody>\n",
       "</table>\n",
       "</div>"
      ],
      "text/plain": [
       "          PTEN_Mutation Sample_Status  PTEN-S467  PTEN-S475  PTEN-S478  \\\n",
       "S001  Nonsense_Mutation         Tumor     0.1950     0.1175      0.175   \n",
       "S002  Missense_Mutation         Tumor    -0.0611    -0.0751        NaN   \n",
       "S003  Nonsense_Mutation         Tumor     0.4160        NaN        NaN   \n",
       "S005  Missense_Mutation         Tumor     1.7700        NaN        NaN   \n",
       "S006     Wildtype_Tumor         Tumor     0.0258        NaN        NaN   \n",
       "\n",
       "      PTEN-S537  PTEN-S543  PTEN-S558  PTEN-T539  PTEN-T555  PTEN-T556  \\\n",
       "S001        NaN        NaN    -0.4280        NaN        NaN        NaN   \n",
       "S002        NaN    -0.2560    -0.0996        NaN        NaN    -0.2375   \n",
       "S003        NaN        NaN    -0.8655        NaN        NaN    -0.5510   \n",
       "S005        NaN        NaN     1.0200        NaN        NaN     0.8600   \n",
       "S006     -0.128    -0.0901    -0.2725    -0.0901        NaN    -0.2910   \n",
       "\n",
       "                     Category  \n",
       "S001      Truncating_Mutation  \n",
       "S002  Non_Truncating_Mutation  \n",
       "S003      Truncating_Mutation  \n",
       "S005  Non_Truncating_Mutation  \n",
       "S006                 Wildtype  "
      ]
     },
     "execution_count": 11,
     "metadata": {},
     "output_type": "execute_result"
    }
   ],
   "source": [
    "genedf.head()"
   ]
  },
  {
   "cell_type": "markdown",
   "metadata": {},
   "source": [
    "## Step 8: Select Desired Information from Dataframe\n",
    "Set \"drop_non_tumor\" to \"True\" to look only at tumor patients. Set it to false to keep them in our comparison.\n",
    "# INPUT: "
   ]
  },
  {
   "cell_type": "code",
   "execution_count": 12,
   "metadata": {},
   "outputs": [],
   "source": [
    "'''Select whether or not you want to drop non-tumor patients'''\n",
    "drop_non_tumor = True #Options are True, False"
   ]
  },
  {
   "cell_type": "code",
   "execution_count": 13,
   "metadata": {},
   "outputs": [],
   "source": [
    "'''Select only the Tumor patients if they have selected \"drop_non_tumor\"'''\n",
    "if drop_non_tumor:\n",
    "    genedf = genedf.loc[genedf['Sample_Status'] == 'Tumor']\n",
    "    \n",
    "'''Drop Columns that arent \"Category\" or omics data'''\n",
    "genedf = genedf.drop('Sample_Status', axis = 1)\n",
    "genedf = genedf.drop(gene+\"_Mutation\", axis = 1)"
   ]
  },
  {
   "cell_type": "markdown",
   "metadata": {},
   "source": [
    "## Step 9: Select Variables for Comparison\n",
    "Set \"variable_a\" and \"variable_b\" to two of the Options listed below for comparison"
   ]
  },
  {
   "cell_type": "code",
   "execution_count": 14,
   "metadata": {},
   "outputs": [
    {
     "name": "stdout",
     "output_type": "stream",
     "text": [
      "Options for comparison (and number of): \n",
      "\n",
      "Non_Truncating_Mutation  ( 22 )\n",
      "Truncating_Mutation  ( 53 )\n",
      "Wildtype  ( 20 )\n"
     ]
    }
   ],
   "source": [
    "possible_choices = list(set(genedf['Category']))\n",
    "print(\"Options for comparison (and number of): \\n\")\n",
    "for choice in possible_choices:\n",
    "    choicedf = genedf.loc[genedf['Category']==choice]\n",
    "    print(choice, \" (\", len(choicedf), \")\")"
   ]
  },
  {
   "cell_type": "markdown",
   "metadata": {},
   "source": [
    "# INPUT: "
   ]
  },
  {
   "cell_type": "code",
   "execution_count": 15,
   "metadata": {},
   "outputs": [],
   "source": [
    "'''select 2 variables to do comparison'''\n",
    "variable_a = 'Truncating_Mutation' #See options from list above\n",
    "variable_b = 'Wildtype' #See options from list above"
   ]
  },
  {
   "cell_type": "markdown",
   "metadata": {},
   "source": [
    "# Part 2: Comparison"
   ]
  },
  {
   "cell_type": "markdown",
   "metadata": {},
   "source": [
    "## Step 1: Collect P-Values"
   ]
  },
  {
   "cell_type": "code",
   "execution_count": 16,
   "metadata": {},
   "outputs": [
    {
     "name": "stdout",
     "output_type": "stream",
     "text": [
      "P-Values: \n",
      "\n",
      "{\n",
      "PTEN-S467: 0.1904318008037339\n",
      "}\n"
     ]
    }
   ],
   "source": [
    "sites = genedf.columns\n",
    "p_values = {}\n",
    "a_df = genedf.loc[genedf['Category'] == variable_a]\n",
    "b_df = genedf.loc[genedf['Category'] == variable_b]\n",
    "for site in sites:\n",
    "    if site != 'Category':\n",
    "        test_stat, p_val = scipy.stats.ttest_ind(a_df[site], b_df[site])\n",
    "        if not np.isnan(p_val):\n",
    "            p_values[site] = p_val\n",
    "          \n",
    "print(\"P-Values: \\n\")\n",
    "print(\"{\\n\" + \"\\n\".join(\"{}: {}\".format(k, v) for k, v in p_values.items()) + \"\\n}\")"
   ]
  },
  {
   "cell_type": "markdown",
   "metadata": {},
   "source": [
    "## Step 2: Adjust for multiple testing with a bonferroni correction"
   ]
  },
  {
   "cell_type": "code",
   "execution_count": 17,
   "metadata": {},
   "outputs": [
    {
     "name": "stdout",
     "output_type": "stream",
     "text": [
      "Bonferroni Adjusted P-Value Cutoff for Significance: \n",
      "0.05\n"
     ]
    }
   ],
   "source": [
    "alpha = .05\n",
    "bonferroni_cutoff = alpha / len(p_values)\n",
    "print(\"Bonferroni Adjusted P-Value Cutoff for Significance: \")\n",
    "print(bonferroni_cutoff)"
   ]
  },
  {
   "cell_type": "markdown",
   "metadata": {},
   "source": [
    "## Step 3: Sort into significant and insignificant groups"
   ]
  },
  {
   "cell_type": "code",
   "execution_count": 18,
   "metadata": {},
   "outputs": [
    {
     "name": "stdout",
     "output_type": "stream",
     "text": [
      "Significant Values: \n",
      "\n",
      "{\n",
      "\n",
      "}\n",
      "\n",
      "Insignificant Values: \n",
      "\n",
      "{\n",
      "PTEN-S467: 0.1904318008037339\n",
      "}\n"
     ]
    }
   ],
   "source": [
    "significant = {}\n",
    "insignificant = {}\n",
    "for key, val in p_values.items():\n",
    "    if val <= bonferroni_cutoff:\n",
    "        significant[key] = val\n",
    "    else:\n",
    "        insignificant[key] = val\n",
    "        \n",
    "print(\"Significant Values: \\n\")\n",
    "print(\"{\\n\" + \"\\n\".join(\"{}: {}\".format(k, v) for k, v in significant.items()) + \"\\n}\")\n",
    "\n",
    "print(\"\\nInsignificant Values: \\n\")\n",
    "print(\"{\\n\" + \"\\n\".join(\"{}: {}\".format(k, v) for k, v in insignificant.items()) + \"\\n}\")"
   ]
  },
  {
   "cell_type": "code",
   "execution_count": null,
   "metadata": {},
   "outputs": [],
   "source": []
  }
 ],
 "metadata": {
  "kernelspec": {
   "display_name": "Python 3",
   "language": "python",
   "name": "python3"
  },
  "language_info": {
   "codemirror_mode": {
    "name": "ipython",
    "version": 3
   },
   "file_extension": ".py",
   "mimetype": "text/x-python",
   "name": "python",
   "nbconvert_exporter": "python",
   "pygments_lexer": "ipython3",
   "version": "3.6.8"
  }
 },
 "nbformat": 4,
 "nbformat_minor": 2
}
