{
 "cells": [
  {
   "cell_type": "code",
   "execution_count": 1,
   "metadata": {},
   "outputs": [
    {
     "name": "stdout",
     "output_type": "stream",
     "text": [
      "Welcome to the CPTAC data service package. Available datasets may be\n",
      "viewed using CPTAC.list(). In order to access a specific data set,\n",
      "import a CPTAC subfolder using either 'import CPTAC.Dataset' or 'from\n",
      "CPTAC import Dataset'.\n",
      "******\n",
      "Version: 0.2.5\n",
      "******\n",
      "Loading Endometrial CPTAC data:\n",
      "Loading Dictionary...\n",
      "Loading Clinical Data...\n",
      "Loading Acetylation Proteomics Data...\n",
      "Loading Proteomics Data...\n",
      "Loading Transcriptomics Data...\n",
      "Loading CNA Data...\n",
      "Loading Phosphoproteomics Data...\n",
      "Loading Somatic Mutation Data...\n",
      "\n",
      " ******PLEASE READ******\n",
      "WARNING: This data is under a publication embargo until July 1, 2019.\n",
      "CPTAC is a community resource project and data are made available\n",
      "rapidly after generation for community research use. The embargo\n",
      "allows exploring and utilizing the data, but the data may not be in a\n",
      "publication until July 1, 2019. Please see\n",
      "https://proteomics.cancer.gov/data-portal/about/data-use-agreement or\n",
      "enter embargo() to open the webpage for more details.\n"
     ]
    }
   ],
   "source": [
    "import pandas as pd\n",
    "import numpy as np\n",
    "import scipy.stats\n",
    "import matplotlib.pyplot as plt\n",
    "import re\n",
    "import seaborn as sns\n",
    "import sys\n",
    "import urllib3\n",
    "import json\n",
    "import operator\n",
    "import collections\n",
    "\n",
    "import CPTAC.Endometrial as CPTAC"
   ]
  },
  {
   "cell_type": "code",
   "execution_count": 2,
   "metadata": {},
   "outputs": [],
   "source": [
    "somatic = CPTAC.get_somatic()\n",
    "proteomics = CPTAC.get_proteomics()\n",
    "phos = CPTAC.get_phosphoproteomics()"
   ]
  },
  {
   "cell_type": "markdown",
   "metadata": {},
   "source": [
    "## Step 1: Enter gene name\n",
    "# INPUT: "
   ]
  },
  {
   "cell_type": "code",
   "execution_count": 3,
   "metadata": {},
   "outputs": [],
   "source": [
    "gene = \"ARID1A\" #Name of any gene of which you are interested in examing the effects of mutation"
   ]
  },
  {
   "cell_type": "markdown",
   "metadata": {},
   "source": [
    "## Step 2: Select type of data\n",
    "Set \"data_type\" to \"proteomics\" for proteomic abundance data <br><br>\n",
    "Set \"data_type\" to \"phosphoproteomics\" for phosphoproteomic data <br><br>\n",
    "Set \"data_type\" to \"transcriptomics\" for transcription data\n",
    "# INPUT:"
   ]
  },
  {
   "cell_type": "code",
   "execution_count": 4,
   "metadata": {},
   "outputs": [],
   "source": [
    "data_type = \"proteomics\" #Options are \"proteomics\", \"phosphoproteomics\", \"transcriptomics\""
   ]
  },
  {
   "cell_type": "markdown",
   "metadata": {},
   "source": [
    "## Step 3: Select scope of data analysis\n",
    "Set \"scope\" to \"cis\" to examine cis effect of gene mutation on the protein it codes for <br> <br>\n",
    "Set \"scope\" to \"interacting\" to examine the effect of gene mutation on known interacting proteins (interacting proteins are automatically generated through interacting with STRING database API). If using scope, set \"number_of_interacting_proteins\" to the number of interacting proteins you want to pull from the STRING database <br><br>\n",
    "Set \"scope\" to \"all\" to look at the effect on all proteins in our dataset\n",
    "# INPUT:"
   ]
  },
  {
   "cell_type": "code",
   "execution_count": 5,
   "metadata": {},
   "outputs": [],
   "source": [
    "scope = \"interacting\" #Options are \"cis\", \"interacting\", \"all\"\n",
    "number_of_interacting_proteins = 10 #Parameter only necessary if examining \"interacting\", else set to 0"
   ]
  },
  {
   "cell_type": "markdown",
   "metadata": {},
   "source": [
    "## Step 4: Select Question\n",
    "\n",
    "Set \"question\" to \"mutated_vs_wildtype\" to compare mutated and wildtype groups <br><br>\n",
    "Set \"question\" to \"hotspot_vs_wildtype\" to compare individuals with a hotspot mutation with wildtype <br><br>\n",
    "Set \"question\" to \"truncation_vs_wildtype\" to compare individuals with a truncating mutation with wildtype\n",
    "# INPUT:"
   ]
  },
  {
   "cell_type": "code",
   "execution_count": 6,
   "metadata": {},
   "outputs": [],
   "source": [
    "question = \"mutated_vs_wildtype\" #Options are ....."
   ]
  },
  {
   "cell_type": "markdown",
   "metadata": {},
   "source": [
    "## Step 5: Set Dataframe to Selected Data"
   ]
  },
  {
   "cell_type": "code",
   "execution_count": 7,
   "metadata": {},
   "outputs": [],
   "source": [
    "if data_type == \"proteomics\":\n",
    "    dataframe = CPTAC.get_proteomics()\n",
    "    \n",
    "elif data_type == \"phosphoproteomics\":\n",
    "    dataframe = CPTAC.get_phosphoproteomics()\n",
    "    \n",
    "elif data_type == \"transcriptomics\":\n",
    "    dataframe = CPTAC.get_transcriptomics()\n",
    "    \n",
    "else:\n",
    "    print(\"Invalid data_type value entered! See step 2 above.\")"
   ]
  },
  {
   "cell_type": "markdown",
   "metadata": {},
   "source": [
    "## Step 6: Generate Protein List Based on the Selected Scope"
   ]
  },
  {
   "cell_type": "code",
   "execution_count": 8,
   "metadata": {},
   "outputs": [
    {
     "name": "stdout",
     "output_type": "stream",
     "text": [
      "Protein List: \n",
      "\n",
      "SMARCB1\n",
      "SMARCC1\n",
      "SMARCA2\n",
      "SMARCC2\n",
      "ARID1A\n",
      "SMARCE1\n",
      "PHF10\n",
      "ARID1B\n",
      "SMARCD1\n",
      "SMARCD2\n",
      "SMARCA4\n"
     ]
    }
   ],
   "source": [
    "protein_list = []    \n",
    "\n",
    "'''Just add the gene itself if cis'''\n",
    "if scope == \"cis\":\n",
    "    protein_list = [gene]\n",
    "    \n",
    "    '''If interacting, get interacting proteins from STRING database'''\n",
    "elif scope == \"interacting\":\n",
    "    \n",
    "    '''Use urllib3 to access the string database api, gather list of interacting proteins'''\n",
    "    urllib3.disable_warnings()\n",
    "    string_api_url = \"https://string-db.org/api\"\n",
    "    output_format = \"json\"\n",
    "    method = \"network\"\n",
    "\n",
    "    '''Use the specified gene and homo sapiens species code'''\n",
    "    my_gene = [gene]\n",
    "    species = \"9606\"\n",
    "\n",
    "    '''Format the api request to collect the appropriate information'''\n",
    "    request_url = string_api_url + \"/\" + output_format + \"/\" + method + \"?\"\n",
    "    request_url += \"identifiers=%s\" % \"%0d\".join(my_gene)\n",
    "    request_url += \"&\" + \"species=\" + species\n",
    "    request_url += \"&\" + \"limit=\" + str(number_of_interacting_proteins)\n",
    "\n",
    "    '''Send a request to the API, print the response status'''\n",
    "    try:\n",
    "        http = urllib3.PoolManager()\n",
    "        response = http.request('GET',request_url)\n",
    "        #print(\"Accessing String database, response status: \", response.status)\n",
    "    except urllib3.HTTPError as err:\n",
    "        error_message = err.read()\n",
    "        print(error_message)\n",
    "        sys.exit()\n",
    "\n",
    "    interacting_proteins = []\n",
    "    if response.status == 200: \n",
    "        '''Get the data from the API's response'''\n",
    "        data = response.data\n",
    "        y = json.loads(data)\n",
    "\n",
    "        '''Make a list of the resulting interacting proteins'''\n",
    "        for entry in y:\n",
    "            if entry[\"preferredName_A\"] not in interacting_proteins:\n",
    "                interacting_proteins.append(entry[\"preferredName_A\"])\n",
    "            if entry[\"preferredName_B\"] not in interacting_proteins:\n",
    "                interacting_proteins.append(entry[\"preferredName_B\"])\n",
    "                \n",
    "        for ip in interacting_proteins:\n",
    "            protein_list.append(ip)\n",
    "    else:\n",
    "        print(\"\\nSpecified gene was not found in String database, double check that you have it correctly!\")\n",
    "        protein_list.append(gene)\n",
    "\n",
    "    '''If all, add all proteins in our dataset'''\n",
    "elif scope == \"all\":\n",
    "    protein_list = proteomics.columns\n",
    "\n",
    "    '''If none of these, invalid'''\n",
    "else:\n",
    "    print(\"Invalid scope value entered! See step 3 above.\")\n",
    "    \n",
    "'''Display list of proteins selected'''\n",
    "print(\"Protein List: \\n\")\n",
    "for pro in protein_list:\n",
    "    print(pro)"
   ]
  },
  {
   "cell_type": "markdown",
   "metadata": {},
   "source": [
    "## Step 7: Format Dataframe Based on Question"
   ]
  },
  {
   "cell_type": "markdown",
   "metadata": {},
   "source": [
    "#### Question: Mutated vs. Wildtype"
   ]
  },
  {
   "cell_type": "markdown",
   "metadata": {},
   "source": [
    "This will generate a dataframe with the gene mutation, sample status, and columns for either proteomics, phosphoproteomics, or transcriptomics for every protein (or every site in every protein, if phosphorylation)."
   ]
  },
  {
   "cell_type": "code",
   "execution_count": 9,
   "metadata": {},
   "outputs": [
    {
     "data": {
      "text/html": [
       "<div>\n",
       "<style scoped>\n",
       "    .dataframe tbody tr th:only-of-type {\n",
       "        vertical-align: middle;\n",
       "    }\n",
       "\n",
       "    .dataframe tbody tr th {\n",
       "        vertical-align: top;\n",
       "    }\n",
       "\n",
       "    .dataframe thead th {\n",
       "        text-align: right;\n",
       "    }\n",
       "</style>\n",
       "<table border=\"1\" class=\"dataframe\">\n",
       "  <thead>\n",
       "    <tr style=\"text-align: right;\">\n",
       "      <th></th>\n",
       "      <th>ARID1A_Mutation</th>\n",
       "      <th>Sample_Status</th>\n",
       "      <th>SMARCB1_omics</th>\n",
       "      <th>SMARCC1_omics</th>\n",
       "      <th>SMARCA2_omics</th>\n",
       "      <th>SMARCC2_omics</th>\n",
       "      <th>ARID1A_omics</th>\n",
       "      <th>SMARCE1_omics</th>\n",
       "      <th>PHF10_omics</th>\n",
       "      <th>ARID1B_omics</th>\n",
       "      <th>SMARCD1_omics</th>\n",
       "      <th>SMARCD2_omics</th>\n",
       "      <th>SMARCA4_omics</th>\n",
       "    </tr>\n",
       "  </thead>\n",
       "  <tbody>\n",
       "    <tr>\n",
       "      <th>S001</th>\n",
       "      <td>Missense_Mutation</td>\n",
       "      <td>Tumor</td>\n",
       "      <td>-0.111</td>\n",
       "      <td>0.0426</td>\n",
       "      <td>-0.9270</td>\n",
       "      <td>-0.451</td>\n",
       "      <td>-0.8790</td>\n",
       "      <td>-0.3950</td>\n",
       "      <td>0.0372</td>\n",
       "      <td>-0.0204</td>\n",
       "      <td>-0.328</td>\n",
       "      <td>-0.453</td>\n",
       "      <td>0.21700</td>\n",
       "    </tr>\n",
       "    <tr>\n",
       "      <th>S002</th>\n",
       "      <td>Nonsense_Mutation</td>\n",
       "      <td>Tumor</td>\n",
       "      <td>-0.639</td>\n",
       "      <td>0.0112</td>\n",
       "      <td>-1.1000</td>\n",
       "      <td>-0.627</td>\n",
       "      <td>-1.4100</td>\n",
       "      <td>-0.5560</td>\n",
       "      <td>0.0288</td>\n",
       "      <td>-0.3690</td>\n",
       "      <td>-0.418</td>\n",
       "      <td>-0.364</td>\n",
       "      <td>0.05670</td>\n",
       "    </tr>\n",
       "    <tr>\n",
       "      <th>S003</th>\n",
       "      <td>Wildtype_Tumor</td>\n",
       "      <td>Tumor</td>\n",
       "      <td>-0.352</td>\n",
       "      <td>-0.2320</td>\n",
       "      <td>-0.3560</td>\n",
       "      <td>-0.537</td>\n",
       "      <td>-1.0400</td>\n",
       "      <td>-0.5400</td>\n",
       "      <td>-0.2710</td>\n",
       "      <td>0.0225</td>\n",
       "      <td>-0.648</td>\n",
       "      <td>-0.409</td>\n",
       "      <td>-0.40200</td>\n",
       "    </tr>\n",
       "    <tr>\n",
       "      <th>S005</th>\n",
       "      <td>Wildtype_Tumor</td>\n",
       "      <td>Tumor</td>\n",
       "      <td>0.190</td>\n",
       "      <td>0.7800</td>\n",
       "      <td>-0.7170</td>\n",
       "      <td>-0.102</td>\n",
       "      <td>0.3850</td>\n",
       "      <td>0.0968</td>\n",
       "      <td>-0.1500</td>\n",
       "      <td>-0.1130</td>\n",
       "      <td>0.186</td>\n",
       "      <td>0.340</td>\n",
       "      <td>0.82900</td>\n",
       "    </tr>\n",
       "    <tr>\n",
       "      <th>S006</th>\n",
       "      <td>Wildtype_Tumor</td>\n",
       "      <td>Tumor</td>\n",
       "      <td>-0.829</td>\n",
       "      <td>-0.7890</td>\n",
       "      <td>0.0593</td>\n",
       "      <td>-0.432</td>\n",
       "      <td>0.0106</td>\n",
       "      <td>0.0897</td>\n",
       "      <td>-0.9080</td>\n",
       "      <td>-0.8190</td>\n",
       "      <td>-0.599</td>\n",
       "      <td>-0.186</td>\n",
       "      <td>-0.00505</td>\n",
       "    </tr>\n",
       "  </tbody>\n",
       "</table>\n",
       "</div>"
      ],
      "text/plain": [
       "        ARID1A_Mutation Sample_Status  SMARCB1_omics  SMARCC1_omics  \\\n",
       "S001  Missense_Mutation         Tumor         -0.111         0.0426   \n",
       "S002  Nonsense_Mutation         Tumor         -0.639         0.0112   \n",
       "S003     Wildtype_Tumor         Tumor         -0.352        -0.2320   \n",
       "S005     Wildtype_Tumor         Tumor          0.190         0.7800   \n",
       "S006     Wildtype_Tumor         Tumor         -0.829        -0.7890   \n",
       "\n",
       "      SMARCA2_omics  SMARCC2_omics  ARID1A_omics  SMARCE1_omics  PHF10_omics  \\\n",
       "S001        -0.9270         -0.451       -0.8790        -0.3950       0.0372   \n",
       "S002        -1.1000         -0.627       -1.4100        -0.5560       0.0288   \n",
       "S003        -0.3560         -0.537       -1.0400        -0.5400      -0.2710   \n",
       "S005        -0.7170         -0.102        0.3850         0.0968      -0.1500   \n",
       "S006         0.0593         -0.432        0.0106         0.0897      -0.9080   \n",
       "\n",
       "      ARID1B_omics  SMARCD1_omics  SMARCD2_omics  SMARCA4_omics  \n",
       "S001       -0.0204         -0.328         -0.453        0.21700  \n",
       "S002       -0.3690         -0.418         -0.364        0.05670  \n",
       "S003        0.0225         -0.648         -0.409       -0.40200  \n",
       "S005       -0.1130          0.186          0.340        0.82900  \n",
       "S006       -0.8190         -0.599         -0.186       -0.00505  "
      ]
     },
     "execution_count": 9,
     "metadata": {},
     "output_type": "execute_result"
    }
   ],
   "source": [
    "if question == \"mutated_vs_wildtype\":\n",
    "    '''Get dataframe for mutations, select sample status and gene mutation only'''\n",
    "    genedf = CPTAC.compare_mutations(dataframe, protein_list[0], gene)\n",
    "    genedf = genedf[[gene+\"_Mutation\", \"Sample_Status\"]]\n",
    "    '''Loop through every protein in protein list, add in omics'''\n",
    "    for protein in protein_list:\n",
    "        protdf = CPTAC.compare_mutations(dataframe, protein, gene)\n",
    "        if protdf is not None:\n",
    "            for col in protdf.columns:\n",
    "                if col not in genedf.columns:\n",
    "                    genedf[col] = protdf[col]\n",
    "\n",
    "genedf.head()"
   ]
  },
  {
   "cell_type": "code",
   "execution_count": null,
   "metadata": {},
   "outputs": [],
   "source": []
  }
 ],
 "metadata": {
  "kernelspec": {
   "display_name": "Python 3",
   "language": "python",
   "name": "python3"
  },
  "language_info": {
   "codemirror_mode": {
    "name": "ipython",
    "version": 3
   },
   "file_extension": ".py",
   "mimetype": "text/x-python",
   "name": "python",
   "nbconvert_exporter": "python",
   "pygments_lexer": "ipython3",
   "version": "3.6.8"
  }
 },
 "nbformat": 4,
 "nbformat_minor": 2
}
