{
 "cells": [
  {
   "cell_type": "code",
   "execution_count": 1,
   "metadata": {},
   "outputs": [
    {
     "name": "stdout",
     "output_type": "stream",
     "text": [
      "Welcome to the CPTAC data service package. Available datasets may be\n",
      "viewed using CPTAC.list(). In order to access a specific data set,\n",
      "import a CPTAC subfolder using either 'import CPTAC.Dataset' or 'from\n",
      "CPTAC import Dataset'.\n",
      "******\n",
      "Version: 0.2.5\n",
      "******\n",
      "Loading Endometrial CPTAC data:\n",
      "Loading Dictionary...\n",
      "Loading Clinical Data...\n",
      "Loading Acetylation Proteomics Data...\n",
      "Loading Proteomics Data...\n",
      "Loading Transcriptomics Data...\n",
      "Loading CNA Data...\n",
      "Loading Phosphoproteomics Data...\n",
      "Loading Somatic Mutation Data...\n",
      "\n",
      " ******PLEASE READ******\n",
      "WARNING: This data is under a publication embargo until July 1, 2019.\n",
      "CPTAC is a community resource project and data are made available\n",
      "rapidly after generation for community research use. The embargo\n",
      "allows exploring and utilizing the data, but the data may not be in a\n",
      "publication until July 1, 2019. Please see\n",
      "https://proteomics.cancer.gov/data-portal/about/data-use-agreement or\n",
      "enter embargo() to open the webpage for more details.\n"
     ]
    }
   ],
   "source": [
    "import pandas as pd\n",
    "import numpy as np\n",
    "import scipy.stats\n",
    "from scipy.stats import pearsonr\n",
    "import matplotlib.pyplot as plt\n",
    "import re\n",
    "import seaborn as sns\n",
    "import statsmodels.stats.multitest\n",
    "import sys\n",
    "import urllib3\n",
    "import json\n",
    "import operator\n",
    "import collections\n",
    "\n",
    "import CPTAC.Endometrial as CPTAC"
   ]
  },
  {
   "cell_type": "code",
   "execution_count": 23,
   "metadata": {},
   "outputs": [],
   "source": [
    "somatic = CPTAC.get_somatic()\n",
    "proteomics = CPTAC.get_proteomics()\n",
    "phos = CPTAC.get_phosphoproteomics()"
   ]
  },
  {
   "cell_type": "markdown",
   "metadata": {},
   "source": [
    "## Step 1: Enter gene name"
   ]
  },
  {
   "cell_type": "code",
   "execution_count": 24,
   "metadata": {},
   "outputs": [],
   "source": [
    "gene = \"ARID1A\" #Name of any gene of which you are interested in examing the effects of mutation"
   ]
  },
  {
   "cell_type": "markdown",
   "metadata": {},
   "source": [
    "## Step 2: Select type of data\n",
    "Set \"data_type\" to \"proteomics\" for proteomic abundance data <br><br>\n",
    "Set \"data_type\" to \"phosphoproteomics\" for phosphoproteomic data <br><br>\n",
    "Set \"data_type\" to \"transcriptomics\" for transcription data"
   ]
  },
  {
   "cell_type": "code",
   "execution_count": 25,
   "metadata": {},
   "outputs": [],
   "source": [
    "data_type = \"proteomics\" #Options are \"proteomics\", \"phosphoproteomics\", \"transcriptomics\""
   ]
  },
  {
   "cell_type": "markdown",
   "metadata": {},
   "source": [
    "## Step 3: Select scope of data analysis\n",
    "Set \"scope\" to \"cis\" to examine cis effect of gene mutation on the protein it codes for <br> <br>\n",
    "Set \"scope\" to \"interacting\" to examine the effect of gene mutation on known interacting proteins (interacting proteins are automatically generated through interacting with STRING database API). If using scope, set \"number_of_interacting_proteins\" to the number of interacting proteins you want to pull from the STRING database <br><br>\n",
    "Set \"scope\" to \"all\" to look at the effect on all proteins in our dataset"
   ]
  },
  {
   "cell_type": "code",
   "execution_count": 34,
   "metadata": {},
   "outputs": [],
   "source": [
    "scope = \"interacting\" #Options are \"cis\", \"interacting\", \"all\"\n",
    "number_of_interacting_proteins = 25 #Parameter only necessary if examining \"interacting\", else set to 0"
   ]
  },
  {
   "cell_type": "markdown",
   "metadata": {},
   "source": [
    "## Step 4: Select Question\n",
    "Set \"question\" to \"mutated_vs_wildtype\" to compare mutated and wildtype groups <br><br>\n",
    "Set \"question\" to \"hotspot_vs_wildtype\" to compare individuals with a hotspot mutation with wildtype <br><br>\n",
    "Set \"question\" to \"truncation_vs_wildtype\" to compare individuals with a truncating mutation with wildtype"
   ]
  },
  {
   "cell_type": "code",
   "execution_count": 35,
   "metadata": {},
   "outputs": [],
   "source": [
    "question = \"mutated_vs_wildtype\" #Options are ....."
   ]
  },
  {
   "cell_type": "markdown",
   "metadata": {},
   "source": [
    "### Set dataframe to that of the seleted data type"
   ]
  },
  {
   "cell_type": "code",
   "execution_count": 36,
   "metadata": {},
   "outputs": [],
   "source": [
    "if data_type == \"proteomics\":\n",
    "    dataframe = CPTAC.get_proteomics\n",
    "    \n",
    "elif data_type == \"phosphoproteomics\":\n",
    "    dataframe = CPTAC.get_phosphoproteomics\n",
    "    \n",
    "elif data_type == \"transcriptomics\":\n",
    "    dataframe = CPTAC.get_transcriptomics\n",
    "    \n",
    "else:\n",
    "    print(\"Invalid data_type value entered! See step 2 above.\")"
   ]
  },
  {
   "cell_type": "markdown",
   "metadata": {},
   "source": [
    "### Generate protein list based on the selected scope"
   ]
  },
  {
   "cell_type": "code",
   "execution_count": 37,
   "metadata": {},
   "outputs": [
    {
     "name": "stdout",
     "output_type": "stream",
     "text": [
      "Protein List: \n",
      "\n",
      "SMARCC1\n",
      "SUPT16H\n",
      "CCND1\n",
      "SMARCD3\n",
      "CREBBP\n",
      "SMARCB1\n",
      "KAT2B\n",
      "DNMT3A\n",
      "SMARCA2\n",
      "SMARCC2\n",
      "KMT2D\n",
      "ARID1A\n",
      "SMARCE1\n",
      "PHF10\n",
      "BAZ1B\n",
      "ARID1B\n",
      "NF1\n",
      "CDC5L\n",
      "SMARCD1\n",
      "SMARCD2\n",
      "SMARCA4\n",
      "ACTL6A\n",
      "BCL7B\n",
      "SS18\n",
      "DPF2\n",
      "DPF3\n"
     ]
    }
   ],
   "source": [
    "protein_list = []    \n",
    "\n",
    "'''Just add the gene itself if cis'''\n",
    "if scope == \"cis\":\n",
    "    protein_list = [gene]\n",
    "\n",
    "'''If interacting, get interacting proteins from STRING database'''\n",
    "elif scope == \"interacting\":\n",
    "    '''Use urllib3 to access the string database api, gather list of interacting proteins'''\n",
    "    urllib3.disable_warnings()\n",
    "    string_api_url = \"https://string-db.org/api\"\n",
    "    output_format = \"json\"\n",
    "    method = \"network\"\n",
    "\n",
    "    '''Use the specified gene and homo sapiens species code'''\n",
    "    my_gene = [gene]\n",
    "    species = \"9606\"\n",
    "\n",
    "    '''Format the api request to collect the appropriate information'''\n",
    "    request_url = string_api_url + \"/\" + output_format + \"/\" + method + \"?\"\n",
    "    request_url += \"identifiers=%s\" % \"%0d\".join(my_gene)\n",
    "    request_url += \"&\" + \"species=\" + species\n",
    "    request_url += \"&\" + \"limit=\" + str(number_of_interacting_proteins)\n",
    "\n",
    "    '''Send a request to the API, print the response status'''\n",
    "    try:\n",
    "        http = urllib3.PoolManager()\n",
    "        response = http.request('GET',request_url)\n",
    "        #print(\"Accessing String database, response status: \", response.status)\n",
    "    except urllib3.HTTPError as err:\n",
    "        error_message = err.read()\n",
    "        print(error_message)\n",
    "        sys.exit()\n",
    "\n",
    "    interacting_proteins = []\n",
    "    if response.status == 200: \n",
    "        '''Get the data from the API's response'''\n",
    "        data = response.data\n",
    "        y = json.loads(data)\n",
    "\n",
    "        '''Make a list of the resulting interacting proteins'''\n",
    "        for entry in y:\n",
    "            if entry[\"preferredName_A\"] not in interacting_proteins:\n",
    "                interacting_proteins.append(entry[\"preferredName_A\"])\n",
    "            if entry[\"preferredName_B\"] not in interacting_proteins:\n",
    "                interacting_proteins.append(entry[\"preferredName_B\"])\n",
    "                \n",
    "        for ip in interacting_proteins:\n",
    "            protein_list.append(ip)\n",
    "    else:\n",
    "        print(\"\\nSpecified gene was not found in String database, double check that you have it correctly!\")\n",
    "        protein_list.append(gene)\n",
    "\n",
    "'''If all, add all proteins in our dataset'''\n",
    "elif scope == \"all\":\n",
    "    protein_list = proteomics.columns\n",
    "\n",
    "'''If none of these, invalid'''\n",
    "else:\n",
    "    print(\"Invalid scope value entered! See step 3 above.\")\n",
    "    \n",
    "'''Display list of proteins selected'''\n",
    "print(\"Protein List: \\n\")\n",
    "for pro in protein_list:\n",
    "    print(pro)"
   ]
  },
  {
   "cell_type": "code",
   "execution_count": null,
   "metadata": {},
   "outputs": [],
   "source": []
  }
 ],
 "metadata": {
  "kernelspec": {
   "display_name": "Python 3",
   "language": "python",
   "name": "python3"
  },
  "language_info": {
   "codemirror_mode": {
    "name": "ipython",
    "version": 3
   },
   "file_extension": ".py",
   "mimetype": "text/x-python",
   "name": "python",
   "nbconvert_exporter": "python",
   "pygments_lexer": "ipython3",
   "version": "3.6.8"
  }
 },
 "nbformat": 4,
 "nbformat_minor": 2
}
