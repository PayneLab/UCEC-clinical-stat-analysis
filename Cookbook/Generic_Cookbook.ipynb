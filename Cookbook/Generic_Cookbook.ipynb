{
 "cells": [
  {
   "cell_type": "code",
   "execution_count": 1,
   "metadata": {},
   "outputs": [
    {
     "name": "stdout",
     "output_type": "stream",
     "text": [
      "Welcome to the CPTAC data service package. Available datasets may be\n",
      "viewed using CPTAC.list(). In order to access a specific data set,\n",
      "import a CPTAC subfolder using either 'import CPTAC.Dataset' or 'from\n",
      "CPTAC import Dataset'.\n",
      "******\n",
      "Version: 0.2.5\n",
      "******\n",
      "Loading Endometrial CPTAC data:\n",
      "Loading Dictionary...\n",
      "Loading Clinical Data...\n",
      "Loading Acetylation Proteomics Data...\n",
      "Loading Proteomics Data...\n",
      "Loading Transcriptomics Data...\n",
      "Loading CNA Data...\n",
      "Loading Phosphoproteomics Data...\n",
      "Loading Somatic Mutation Data...\n",
      "\n",
      " ******PLEASE READ******\n",
      "WARNING: This data is under a publication embargo until July 1, 2019.\n",
      "CPTAC is a community resource project and data are made available\n",
      "rapidly after generation for community research use. The embargo\n",
      "allows exploring and utilizing the data, but the data may not be in a\n",
      "publication until July 1, 2019. Please see\n",
      "https://proteomics.cancer.gov/data-portal/about/data-use-agreement or\n",
      "enter embargo() to open the webpage for more details.\n"
     ]
    }
   ],
   "source": [
    "import pandas as pd\n",
    "import numpy as np\n",
    "import scipy.stats\n",
    "import matplotlib.pyplot as plt\n",
    "import re\n",
    "import seaborn as sns\n",
    "import sys\n",
    "import urllib3\n",
    "import json\n",
    "import operator\n",
    "import collections\n",
    "\n",
    "import CPTAC.Endometrial as CPTAC"
   ]
  },
  {
   "cell_type": "code",
   "execution_count": 2,
   "metadata": {},
   "outputs": [],
   "source": [
    "somatic = CPTAC.get_somatic()\n",
    "proteomics = CPTAC.get_proteomics()\n",
    "phos = CPTAC.get_phosphoproteomics()"
   ]
  },
  {
   "cell_type": "markdown",
   "metadata": {},
   "source": [
    "# Part 1: Formatting Data"
   ]
  },
  {
   "cell_type": "markdown",
   "metadata": {},
   "source": [
    "## Step 1: Enter gene name\n",
    "# INPUT: "
   ]
  },
  {
   "cell_type": "code",
   "execution_count": 3,
   "metadata": {},
   "outputs": [],
   "source": [
    "gene = \"ARID1A\" #Name of any gene of which you are interested in examing the effects of mutation"
   ]
  },
  {
   "cell_type": "markdown",
   "metadata": {},
   "source": [
    "## Step 2: Select type of data\n",
    "Set \"data_type\" to \"proteomics\" for proteomic abundance data <br><br>\n",
    "Set \"data_type\" to \"phosphoproteomics\" for phosphoproteomic data <br><br>\n",
    "Set \"data_type\" to \"transcriptomics\" for transcription data\n",
    "# INPUT:"
   ]
  },
  {
   "cell_type": "code",
   "execution_count": 4,
   "metadata": {},
   "outputs": [],
   "source": [
    "data_type = \"transcriptomics\" #Options are \"proteomics\", \"phosphoproteomics\", \"transcriptomics\""
   ]
  },
  {
   "cell_type": "markdown",
   "metadata": {},
   "source": [
    "## Step 3: Select scope of data analysis\n",
    "Set \"scope\" to \"cis\" to examine cis effect of gene mutation on the protein it codes for <br> <br>\n",
    "Set \"scope\" to \"interacting\" to examine the effect of gene mutation on known interacting proteins (interacting proteins are automatically generated through interacting with STRING database API). If using scope=\"interacting\", set \"number_of_interacting_proteins\" to the number of interacting proteins you want to pull from the STRING database <br><br>\n",
    "Set \"scope\" to \"all\" to look at the effect on all proteins in our dataset\n",
    "# INPUT:"
   ]
  },
  {
   "cell_type": "code",
   "execution_count": 5,
   "metadata": {},
   "outputs": [],
   "source": [
    "scope = \"interacting\" #Options are \"cis\", \"interacting\", \"all\"\n",
    "number_of_interacting_proteins = 20 #Parameter only necessary if examining \"interacting\", it will otherwise be ignored"
   ]
  },
  {
   "cell_type": "markdown",
   "metadata": {},
   "source": [
    "## Step 4: Select Question\n",
    "\n",
    "Set \"question\" to \"mutated_vs_wildtype\" to compare mutated and wildtype groups<br><br>\n",
    "Set \"question\" to \"hotspot_vs_wildtype\" to compare individuals with a hotspot mutation <br><br>\n",
    "Set \"question\" to \"truncation_vs_wildtype\" to compare individuals with a truncating mutation\n",
    "# INPUT:"
   ]
  },
  {
   "cell_type": "code",
   "execution_count": 6,
   "metadata": {},
   "outputs": [],
   "source": [
    "question = \"mutated_vs_wildtype\" #Options are ....."
   ]
  },
  {
   "cell_type": "markdown",
   "metadata": {},
   "source": [
    "## Step 5: Set Dataframe to Selected Data"
   ]
  },
  {
   "cell_type": "code",
   "execution_count": 7,
   "metadata": {},
   "outputs": [],
   "source": [
    "if data_type == \"proteomics\":\n",
    "    dataframe = CPTAC.get_proteomics()\n",
    "    \n",
    "elif data_type == \"phosphoproteomics\":\n",
    "    dataframe = CPTAC.get_phosphoproteomics()\n",
    "    \n",
    "elif data_type == \"transcriptomics\":\n",
    "    dataframe = CPTAC.get_transcriptomics()\n",
    "    \n",
    "else:\n",
    "    print(\"Invalid data_type value entered! See step 2 above.\")"
   ]
  },
  {
   "cell_type": "markdown",
   "metadata": {},
   "source": [
    "## Step 6: Generate Protein List Based on the Selected Scope"
   ]
  },
  {
   "cell_type": "code",
   "execution_count": 8,
   "metadata": {},
   "outputs": [
    {
     "name": "stdout",
     "output_type": "stream",
     "text": [
      "Protein List: \n",
      "\n",
      "SMARCC1\n",
      "CCND1\n",
      "SMARCD3\n",
      "CREBBP\n",
      "SMARCB1\n",
      "SMARCA2\n",
      "SMARCC2\n",
      "KMT2D\n",
      "ARID1A\n",
      "SMARCE1\n",
      "PHF10\n",
      "ARID1B\n",
      "NF1\n",
      "CDC5L\n",
      "SMARCD1\n",
      "SMARCD2\n",
      "SMARCA4\n",
      "ACTL6A\n",
      "SS18\n",
      "DPF2\n",
      "DPF3\n"
     ]
    }
   ],
   "source": [
    "protein_list = []    \n",
    "\n",
    "'''Just add the gene itself if cis'''\n",
    "if scope == \"cis\":\n",
    "    protein_list = [gene]\n",
    "    \n",
    "    '''If interacting, get interacting proteins from STRING database'''\n",
    "elif scope == \"interacting\":\n",
    "    \n",
    "    '''Use urllib3 to access the string database api, gather list of interacting proteins'''\n",
    "    urllib3.disable_warnings()\n",
    "    string_api_url = \"https://string-db.org/api\"\n",
    "    output_format = \"json\"\n",
    "    method = \"network\"\n",
    "\n",
    "    '''Use the specified gene and homo sapiens species code'''\n",
    "    my_gene = [gene]\n",
    "    species = \"9606\"\n",
    "\n",
    "    '''Format the api request to collect the appropriate information'''\n",
    "    request_url = string_api_url + \"/\" + output_format + \"/\" + method + \"?\"\n",
    "    request_url += \"identifiers=%s\" % \"%0d\".join(my_gene)\n",
    "    request_url += \"&\" + \"species=\" + species\n",
    "    request_url += \"&\" + \"limit=\" + str(number_of_interacting_proteins)\n",
    "\n",
    "    '''Send a request to the API, print the response status'''\n",
    "    try:\n",
    "        http = urllib3.PoolManager()\n",
    "        response = http.request('GET',request_url)\n",
    "        #print(\"Accessing String database, response status: \", response.status)\n",
    "    except urllib3.HTTPError as err:\n",
    "        error_message = err.read()\n",
    "        print(error_message)\n",
    "        sys.exit()\n",
    "\n",
    "    interacting_proteins = []\n",
    "    if response.status == 200: \n",
    "        '''Get the data from the API's response'''\n",
    "        data = response.data\n",
    "        y = json.loads(data)\n",
    "\n",
    "        '''Make a list of the resulting interacting proteins'''\n",
    "        for entry in y:\n",
    "            if entry[\"preferredName_A\"] not in interacting_proteins:\n",
    "                interacting_proteins.append(entry[\"preferredName_A\"])\n",
    "            if entry[\"preferredName_B\"] not in interacting_proteins:\n",
    "                interacting_proteins.append(entry[\"preferredName_B\"])\n",
    "                \n",
    "        for ip in interacting_proteins:\n",
    "            protein_list.append(ip)\n",
    "    else:\n",
    "        print(\"\\nSpecified gene was not found in String database, double check that you have it correctly!\")\n",
    "        protein_list.append(gene)\n",
    "\n",
    "    '''If all, add all proteins in our dataset'''\n",
    "elif scope == \"all\":\n",
    "    protein_list = proteomics.columns\n",
    "\n",
    "    '''If none of these, invalid'''\n",
    "else:\n",
    "    print(\"Invalid scope value entered! See step 3 above.\")\n",
    "    \n",
    "'''Display list of proteins selected'''\n",
    "print(\"Protein List: \\n\")\n",
    "for pro in protein_list:\n",
    "    print(pro)"
   ]
  },
  {
   "cell_type": "markdown",
   "metadata": {},
   "source": [
    "## Step 7: Format Dataframe Based on Question"
   ]
  },
  {
   "cell_type": "markdown",
   "metadata": {},
   "source": [
    "This will generate a dataframe with the gene mutation, sample status, and columns for either proteomics, phosphoproteomics, or transcriptomics for every protein (or every site in every protein, if phosphorylation)."
   ]
  },
  {
   "cell_type": "markdown",
   "metadata": {},
   "source": [
    "#### Question: Mutated vs. Wildtype\n",
    "Places either a 'Mutated' or 'Wildtype' value in the category column, based on gene mutation"
   ]
  },
  {
   "cell_type": "code",
   "execution_count": 9,
   "metadata": {},
   "outputs": [],
   "source": [
    "if question == \"mutated_vs_wildtype\":\n",
    "    '''Get dataframe for mutations, select sample status and gene mutation only'''\n",
    "    genedf = CPTAC.compare_mutations(dataframe, protein_list[0], gene)\n",
    "    genedf = genedf[[gene+\"_Mutation\", \"Sample_Status\"]]\n",
    "    '''Loop through every protein in protein list, add in omics'''\n",
    "    for protein in protein_list:\n",
    "        protdf = CPTAC.compare_mutations(dataframe, protein, gene)\n",
    "        if protdf is not None:\n",
    "            for col in protdf.columns:\n",
    "                if col not in genedf.columns:\n",
    "                    genedf[col] = protdf[col]\n",
    "                    \n",
    "    '''Define category variable for mutated or wildtype'''                \n",
    "    for ind, row in genedf.iterrows():\n",
    "        if row[gene+\"_Mutation\"] != 'Wildtype_Tumor' and row[gene+\"_Mutation\"] != 'Wildtype':\n",
    "            genedf.at[ind, 'Category'] = 'Mutated'\n",
    "        else:\n",
    "            genedf.at[ind, 'Category'] = 'Wildtype'\n",
    "        "
   ]
  },
  {
   "cell_type": "markdown",
   "metadata": {},
   "source": [
    "#### Question: Truncation Mutation vs Wildtype\n",
    "Places either 'Truncating_Mutation', 'Non_Truncating_Mutation', or 'Wildtype' in the Category column, depending on gene mutation"
   ]
  },
  {
   "cell_type": "code",
   "execution_count": 10,
   "metadata": {},
   "outputs": [],
   "source": [
    "if question == \"truncation_vs_wildtype\":\n",
    "    '''Get dataframe for mutations, select sample status and gene mutation only'''\n",
    "    genedf = CPTAC.compare_mutations(dataframe, gene, gene)\n",
    "    genedf = genedf[[gene+\"_Mutation\", \"Sample_Status\"]]\n",
    "    '''Loop through every protein in protein list, add in omics'''\n",
    "    for protein in protein_list:\n",
    "        protdf = CPTAC.compare_mutations(dataframe, protein, gene)\n",
    "        if protdf is not None:\n",
    "            for col in protdf.columns:\n",
    "                if col not in genedf.columns:\n",
    "                    genedf[col] = protdf[col]\n",
    "                    \n",
    "    truncating_mutations = ['Nonsense_Mutation', 'Frame_Shift_Del','Frame_Shift_Ins',]\n",
    "    for ind, row in genedf.iterrows():\n",
    "        if row[gene+\"_Mutation\"] in truncating_mutations:\n",
    "            genedf.at[ind, 'Category'] = 'Truncating_Mutation'\n",
    "        elif row[gene+\"_Mutation\"] == 'Wildtype' or row[gene+\"_Mutation\"] == 'Wildtype_Tumor':\n",
    "            genedf.at[ind, 'Category'] = 'Wildtype'\n",
    "        else:\n",
    "            genedf.at[ind, 'Category'] = 'Non_Truncating_Mutation'"
   ]
  },
  {
   "cell_type": "markdown",
   "metadata": {},
   "source": [
    "#### Show formatting"
   ]
  },
  {
   "cell_type": "code",
   "execution_count": 11,
   "metadata": {},
   "outputs": [
    {
     "data": {
      "text/html": [
       "<div>\n",
       "<style scoped>\n",
       "    .dataframe tbody tr th:only-of-type {\n",
       "        vertical-align: middle;\n",
       "    }\n",
       "\n",
       "    .dataframe tbody tr th {\n",
       "        vertical-align: top;\n",
       "    }\n",
       "\n",
       "    .dataframe thead th {\n",
       "        text-align: right;\n",
       "    }\n",
       "</style>\n",
       "<table border=\"1\" class=\"dataframe\">\n",
       "  <thead>\n",
       "    <tr style=\"text-align: right;\">\n",
       "      <th></th>\n",
       "      <th>ARID1A_Mutation</th>\n",
       "      <th>Sample_Status</th>\n",
       "      <th>SMARCC1_omics</th>\n",
       "      <th>CCND1_omics</th>\n",
       "      <th>SMARCD3_omics</th>\n",
       "      <th>CREBBP_omics</th>\n",
       "      <th>SMARCB1_omics</th>\n",
       "      <th>SMARCA2_omics</th>\n",
       "      <th>SMARCC2_omics</th>\n",
       "      <th>KMT2D_omics</th>\n",
       "      <th>...</th>\n",
       "      <th>NF1_omics</th>\n",
       "      <th>CDC5L_omics</th>\n",
       "      <th>SMARCD1_omics</th>\n",
       "      <th>SMARCD2_omics</th>\n",
       "      <th>SMARCA4_omics</th>\n",
       "      <th>ACTL6A_omics</th>\n",
       "      <th>SS18_omics</th>\n",
       "      <th>DPF2_omics</th>\n",
       "      <th>DPF3_omics</th>\n",
       "      <th>Category</th>\n",
       "    </tr>\n",
       "  </thead>\n",
       "  <tbody>\n",
       "    <tr>\n",
       "      <th>S001</th>\n",
       "      <td>Missense_Mutation</td>\n",
       "      <td>Tumor</td>\n",
       "      <td>13.24</td>\n",
       "      <td>12.18</td>\n",
       "      <td>8.86</td>\n",
       "      <td>11.27</td>\n",
       "      <td>10.78</td>\n",
       "      <td>10.80</td>\n",
       "      <td>11.47</td>\n",
       "      <td>11.71</td>\n",
       "      <td>...</td>\n",
       "      <td>13.23</td>\n",
       "      <td>11.92</td>\n",
       "      <td>11.18</td>\n",
       "      <td>11.85</td>\n",
       "      <td>12.41</td>\n",
       "      <td>11.14</td>\n",
       "      <td>12.26</td>\n",
       "      <td>10.05</td>\n",
       "      <td>3.53</td>\n",
       "      <td>Mutated</td>\n",
       "    </tr>\n",
       "    <tr>\n",
       "      <th>S002</th>\n",
       "      <td>Nonsense_Mutation</td>\n",
       "      <td>Tumor</td>\n",
       "      <td>13.54</td>\n",
       "      <td>11.53</td>\n",
       "      <td>6.70</td>\n",
       "      <td>11.27</td>\n",
       "      <td>11.43</td>\n",
       "      <td>11.71</td>\n",
       "      <td>11.86</td>\n",
       "      <td>11.12</td>\n",
       "      <td>...</td>\n",
       "      <td>12.88</td>\n",
       "      <td>12.43</td>\n",
       "      <td>11.33</td>\n",
       "      <td>12.27</td>\n",
       "      <td>13.23</td>\n",
       "      <td>11.54</td>\n",
       "      <td>12.66</td>\n",
       "      <td>10.27</td>\n",
       "      <td>1.89</td>\n",
       "      <td>Mutated</td>\n",
       "    </tr>\n",
       "    <tr>\n",
       "      <th>S003</th>\n",
       "      <td>Wildtype_Tumor</td>\n",
       "      <td>Tumor</td>\n",
       "      <td>12.73</td>\n",
       "      <td>12.04</td>\n",
       "      <td>8.03</td>\n",
       "      <td>10.51</td>\n",
       "      <td>10.76</td>\n",
       "      <td>12.53</td>\n",
       "      <td>11.04</td>\n",
       "      <td>10.65</td>\n",
       "      <td>...</td>\n",
       "      <td>12.71</td>\n",
       "      <td>11.78</td>\n",
       "      <td>10.06</td>\n",
       "      <td>11.89</td>\n",
       "      <td>11.99</td>\n",
       "      <td>10.93</td>\n",
       "      <td>12.74</td>\n",
       "      <td>9.76</td>\n",
       "      <td>4.16</td>\n",
       "      <td>Wildtype</td>\n",
       "    </tr>\n",
       "    <tr>\n",
       "      <th>S005</th>\n",
       "      <td>Wildtype_Tumor</td>\n",
       "      <td>Tumor</td>\n",
       "      <td>12.65</td>\n",
       "      <td>10.73</td>\n",
       "      <td>8.27</td>\n",
       "      <td>11.11</td>\n",
       "      <td>10.55</td>\n",
       "      <td>11.07</td>\n",
       "      <td>11.49</td>\n",
       "      <td>12.13</td>\n",
       "      <td>...</td>\n",
       "      <td>13.16</td>\n",
       "      <td>11.97</td>\n",
       "      <td>10.22</td>\n",
       "      <td>11.49</td>\n",
       "      <td>12.10</td>\n",
       "      <td>10.70</td>\n",
       "      <td>12.21</td>\n",
       "      <td>9.72</td>\n",
       "      <td>3.97</td>\n",
       "      <td>Wildtype</td>\n",
       "    </tr>\n",
       "    <tr>\n",
       "      <th>S006</th>\n",
       "      <td>Wildtype_Tumor</td>\n",
       "      <td>Tumor</td>\n",
       "      <td>12.50</td>\n",
       "      <td>9.27</td>\n",
       "      <td>8.37</td>\n",
       "      <td>12.14</td>\n",
       "      <td>11.14</td>\n",
       "      <td>12.99</td>\n",
       "      <td>11.85</td>\n",
       "      <td>11.11</td>\n",
       "      <td>...</td>\n",
       "      <td>14.39</td>\n",
       "      <td>11.77</td>\n",
       "      <td>9.86</td>\n",
       "      <td>12.18</td>\n",
       "      <td>13.43</td>\n",
       "      <td>11.30</td>\n",
       "      <td>13.00</td>\n",
       "      <td>9.33</td>\n",
       "      <td>1.80</td>\n",
       "      <td>Wildtype</td>\n",
       "    </tr>\n",
       "  </tbody>\n",
       "</table>\n",
       "<p>5 rows × 24 columns</p>\n",
       "</div>"
      ],
      "text/plain": [
       "        ARID1A_Mutation Sample_Status  SMARCC1_omics  CCND1_omics  \\\n",
       "S001  Missense_Mutation         Tumor          13.24        12.18   \n",
       "S002  Nonsense_Mutation         Tumor          13.54        11.53   \n",
       "S003     Wildtype_Tumor         Tumor          12.73        12.04   \n",
       "S005     Wildtype_Tumor         Tumor          12.65        10.73   \n",
       "S006     Wildtype_Tumor         Tumor          12.50         9.27   \n",
       "\n",
       "      SMARCD3_omics  CREBBP_omics  SMARCB1_omics  SMARCA2_omics  \\\n",
       "S001           8.86         11.27          10.78          10.80   \n",
       "S002           6.70         11.27          11.43          11.71   \n",
       "S003           8.03         10.51          10.76          12.53   \n",
       "S005           8.27         11.11          10.55          11.07   \n",
       "S006           8.37         12.14          11.14          12.99   \n",
       "\n",
       "      SMARCC2_omics  KMT2D_omics    ...     NF1_omics  CDC5L_omics  \\\n",
       "S001          11.47        11.71    ...         13.23        11.92   \n",
       "S002          11.86        11.12    ...         12.88        12.43   \n",
       "S003          11.04        10.65    ...         12.71        11.78   \n",
       "S005          11.49        12.13    ...         13.16        11.97   \n",
       "S006          11.85        11.11    ...         14.39        11.77   \n",
       "\n",
       "      SMARCD1_omics  SMARCD2_omics  SMARCA4_omics  ACTL6A_omics  SS18_omics  \\\n",
       "S001          11.18          11.85          12.41         11.14       12.26   \n",
       "S002          11.33          12.27          13.23         11.54       12.66   \n",
       "S003          10.06          11.89          11.99         10.93       12.74   \n",
       "S005          10.22          11.49          12.10         10.70       12.21   \n",
       "S006           9.86          12.18          13.43         11.30       13.00   \n",
       "\n",
       "      DPF2_omics  DPF3_omics  Category  \n",
       "S001       10.05        3.53   Mutated  \n",
       "S002       10.27        1.89   Mutated  \n",
       "S003        9.76        4.16  Wildtype  \n",
       "S005        9.72        3.97  Wildtype  \n",
       "S006        9.33        1.80  Wildtype  \n",
       "\n",
       "[5 rows x 24 columns]"
      ]
     },
     "execution_count": 11,
     "metadata": {},
     "output_type": "execute_result"
    }
   ],
   "source": [
    "genedf.head()"
   ]
  },
  {
   "cell_type": "markdown",
   "metadata": {},
   "source": [
    "# Part 2: Comparison"
   ]
  },
  {
   "cell_type": "markdown",
   "metadata": {},
   "source": [
    "## Step 1: Select Desired Information from Dataframe\n",
    "Set \"drop_non_tumor\" to \"True\" to look only at tumor patients. Set it to false to keep them in our comparison.\n",
    "# INPUT: "
   ]
  },
  {
   "cell_type": "code",
   "execution_count": 12,
   "metadata": {},
   "outputs": [],
   "source": [
    "'''Select whether or not you want to drop non-tumor patients'''\n",
    "drop_non_tumor = True #Options are True, False"
   ]
  },
  {
   "cell_type": "code",
   "execution_count": 13,
   "metadata": {},
   "outputs": [],
   "source": [
    "'''Select only the Tumor patients if they have selected \"drop_non_tumor\"'''\n",
    "if drop_non_tumor:\n",
    "    genedf = genedf.loc[genedf['Sample_Status'] == 'Tumor']\n",
    "    \n",
    "'''Drop Columns that arent \"Category\" or omics data'''\n",
    "genedf = genedf.drop('Sample_Status', axis = 1)\n",
    "genedf = genedf.drop(gene+\"_Mutation\", axis = 1)"
   ]
  },
  {
   "cell_type": "markdown",
   "metadata": {},
   "source": [
    "## Step 2: Select Variables for Comparison\n",
    "Set \"variable_a\" and \"variable_b\" to two of the Options listed below for comparison"
   ]
  },
  {
   "cell_type": "code",
   "execution_count": 14,
   "metadata": {},
   "outputs": [
    {
     "name": "stdout",
     "output_type": "stream",
     "text": [
      "Options for comparison (and number of): \n",
      "\n",
      "Mutated  ( 43 )\n",
      "Wildtype  ( 52 )\n"
     ]
    }
   ],
   "source": [
    "possible_choices = list(set(genedf['Category']))\n",
    "print(\"Options for comparison (and number of): \\n\")\n",
    "for choice in possible_choices:\n",
    "    choicedf = genedf.loc[genedf['Category']==choice]\n",
    "    print(choice, \" (\", len(choicedf), \")\")"
   ]
  },
  {
   "cell_type": "markdown",
   "metadata": {},
   "source": [
    "# INPUT: "
   ]
  },
  {
   "cell_type": "code",
   "execution_count": 15,
   "metadata": {},
   "outputs": [],
   "source": [
    "'''select 2 variables to do comparison'''\n",
    "variable_a = 'Mutated' #See options from list above\n",
    "variable_b = 'Wildtype' #See options from list above"
   ]
  },
  {
   "cell_type": "markdown",
   "metadata": {},
   "source": [
    "## Step 3: Collect P-Values"
   ]
  },
  {
   "cell_type": "code",
   "execution_count": 16,
   "metadata": {},
   "outputs": [
    {
     "name": "stdout",
     "output_type": "stream",
     "text": [
      "P-Values: \n",
      "\n",
      "{\n",
      "SMARCC1_omics: 0.03818000998497696\n",
      "CCND1_omics: 0.26465516183197113\n",
      "SMARCD3_omics: 0.0023588510726379195\n",
      "CREBBP_omics: 0.7858560144352269\n",
      "SMARCB1_omics: 0.08032724495382437\n",
      "SMARCA2_omics: 0.48533815358894716\n",
      "SMARCC2_omics: 0.026144713069129223\n",
      "KMT2D_omics: 0.35349552293806574\n",
      "ARID1A_omics: 0.3785693405806204\n",
      "SMARCE1_omics: 0.05451641386469496\n",
      "PHF10_omics: 0.058071979893612666\n",
      "ARID1B_omics: 0.1380664204429325\n",
      "NF1_omics: 0.23381115168299504\n",
      "CDC5L_omics: 0.6746533053987078\n",
      "SMARCD1_omics: 0.690941006229377\n",
      "SMARCD2_omics: 0.102644565523063\n",
      "SMARCA4_omics: 0.15375805697493475\n",
      "ACTL6A_omics: 0.8562335281707476\n",
      "SS18_omics: 0.17161240053891882\n",
      "DPF2_omics: 0.10964309201738814\n",
      "DPF3_omics: 0.0036397779246435825\n",
      "}\n"
     ]
    }
   ],
   "source": [
    "sites = genedf.columns\n",
    "p_values = {}\n",
    "a_df = genedf.loc[genedf['Category'] == variable_a]\n",
    "b_df = genedf.loc[genedf['Category'] == variable_b]\n",
    "for site in sites:\n",
    "    if site != 'Category':\n",
    "        test_stat, p_val = scipy.stats.ttest_ind(a_df[site], b_df[site])\n",
    "        if not np.isnan(p_val):\n",
    "            p_values[site] = p_val\n",
    "          \n",
    "print(\"P-Values: \\n\")\n",
    "print(\"{\\n\" + \"\\n\".join(\"{}: {}\".format(k, v) for k, v in p_values.items()) + \"\\n}\")"
   ]
  },
  {
   "cell_type": "markdown",
   "metadata": {},
   "source": [
    "## Step 4: Adjust for multiple testing with a bonferroni correction"
   ]
  },
  {
   "cell_type": "code",
   "execution_count": 17,
   "metadata": {},
   "outputs": [
    {
     "name": "stdout",
     "output_type": "stream",
     "text": [
      "Bonferroni Adjusted P-Value Cutoff for Significance: \n",
      "0.002380952380952381\n"
     ]
    }
   ],
   "source": [
    "alpha = .05\n",
    "bonferroni_cutoff = alpha / len(p_values)\n",
    "print(\"Bonferroni Adjusted P-Value Cutoff for Significance: \")\n",
    "print(bonferroni_cutoff)"
   ]
  },
  {
   "cell_type": "markdown",
   "metadata": {},
   "source": [
    "## Step 5: Sort into significant and insignificant groups"
   ]
  },
  {
   "cell_type": "code",
   "execution_count": 18,
   "metadata": {},
   "outputs": [
    {
     "name": "stdout",
     "output_type": "stream",
     "text": [
      "Significant Values: \n",
      "\n",
      "{\n",
      "SMARCD3_omics: 0.0023588510726379195\n",
      "}\n",
      "\n",
      "Insignificant Values: \n",
      "\n",
      "{\n",
      "SMARCC1_omics: 0.03818000998497696\n",
      "CCND1_omics: 0.26465516183197113\n",
      "CREBBP_omics: 0.7858560144352269\n",
      "SMARCB1_omics: 0.08032724495382437\n",
      "SMARCA2_omics: 0.48533815358894716\n",
      "SMARCC2_omics: 0.026144713069129223\n",
      "KMT2D_omics: 0.35349552293806574\n",
      "ARID1A_omics: 0.3785693405806204\n",
      "SMARCE1_omics: 0.05451641386469496\n",
      "PHF10_omics: 0.058071979893612666\n",
      "ARID1B_omics: 0.1380664204429325\n",
      "NF1_omics: 0.23381115168299504\n",
      "CDC5L_omics: 0.6746533053987078\n",
      "SMARCD1_omics: 0.690941006229377\n",
      "SMARCD2_omics: 0.102644565523063\n",
      "SMARCA4_omics: 0.15375805697493475\n",
      "ACTL6A_omics: 0.8562335281707476\n",
      "SS18_omics: 0.17161240053891882\n",
      "DPF2_omics: 0.10964309201738814\n",
      "DPF3_omics: 0.0036397779246435825\n",
      "}\n"
     ]
    }
   ],
   "source": [
    "significant = {}\n",
    "insignificant = {}\n",
    "for key, val in p_values.items():\n",
    "    if val <= bonferroni_cutoff:\n",
    "        significant[key] = val\n",
    "    else:\n",
    "        insignificant[key] = val\n",
    "        \n",
    "print(\"Significant Values: \\n\")\n",
    "print(\"{\\n\" + \"\\n\".join(\"{}: {}\".format(k, v) for k, v in significant.items()) + \"\\n}\")\n",
    "\n",
    "print(\"\\nInsignificant Values: \\n\")\n",
    "print(\"{\\n\" + \"\\n\".join(\"{}: {}\".format(k, v) for k, v in insignificant.items()) + \"\\n}\")"
   ]
  },
  {
   "cell_type": "code",
   "execution_count": null,
   "metadata": {},
   "outputs": [],
   "source": []
  }
 ],
 "metadata": {
  "kernelspec": {
   "display_name": "Python 3",
   "language": "python",
   "name": "python3"
  },
  "language_info": {
   "codemirror_mode": {
    "name": "ipython",
    "version": 3
   },
   "file_extension": ".py",
   "mimetype": "text/x-python",
   "name": "python",
   "nbconvert_exporter": "python",
   "pygments_lexer": "ipython3",
   "version": "3.6.8"
  }
 },
 "nbformat": 4,
 "nbformat_minor": 2
}
