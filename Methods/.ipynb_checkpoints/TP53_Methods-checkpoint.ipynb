{
 "cells": [
  {
   "cell_type": "markdown",
   "metadata": {},
   "source": [
    "# TP53 Exploratory Notebook"
   ]
  },
  {
   "cell_type": "code",
   "execution_count": 1,
   "metadata": {},
   "outputs": [
    {
     "name": "stdout",
     "output_type": "stream",
     "text": [
      "Loading Endometrial CPTAC data:\n",
      "Loading Dictionary...\n",
      "Loading Clinical Data...\n",
      "Loading Proteomics Data...\n",
      "Loading Transcriptomics Data...\n",
      "Loading CNA Data...\n",
      "Loading Phosphoproteomics Data...\n",
      "Loading Somatic Mutation Data...\n",
      "\n",
      " ******PLEASE READ******\n",
      "WARNING: This data is under a publication embargo until July 1, 2019.\n",
      "CPTAC is a community resource project and data are made available\n",
      "rapidly after generation for community research use. The embargo\n",
      "allows exploring and utilizing the data, but the data may not be in a\n",
      "publication until July 1, 2019. Please see\n",
      "https://proteomics.cancer.gov/data-portal/about/data-use-agreement or\n",
      "enter embargo() to open the webpage for more details.\n"
     ]
    }
   ],
   "source": [
    "import pandas as pd\n",
    "import numpy as np\n",
    "import re\n",
    "import scipy.stats\n",
    "import statsmodels.stats.multitest\n",
    "import matplotlib.pyplot as plt\n",
    "import seaborn as sns\n",
    "import CPTAC.Endometrial as CPTAC"
   ]
  },
  {
   "cell_type": "markdown",
   "metadata": {},
   "source": [
    "## Set up initial dataframes and variables"
   ]
  },
  {
   "cell_type": "code",
   "execution_count": 13,
   "metadata": {},
   "outputs": [],
   "source": [
    "gene='TP53'\n",
    "somatic = CPTAC.get_somatic()\n",
    "proteomics = CPTAC.get_proteomics()\n",
    "phos = CPTAC.get_phosphoproteomics()\n",
    "transcriptomics = CPTAC.get_transcriptomics()\n",
    "\n",
    "#A list of mutations present in the hotspot according to our Hotspot3D output\n",
    "hotspot_mutations = ['p.P250L', 'p.R248W', 'p.S241C', 'p.K164E', 'p.R249S', 'p.R273H', 'p.R282W',\n",
    "                    'p.S127Y', 'p.G244D', 'p.A159P']\n",
    "mutated_hotspot = somatic.loc[(somatic['Location'].isin(hotspot_mutations)) & (somatic['Gene'] == gene)]\n",
    "hotspot_patients_both_keys = mutated_hotspot[['Clinical_Patient_Key', 'Patient_Id']]\n",
    "hotspot_patients = hotspot_patients_both_keys['Clinical_Patient_Key']"
   ]
  },
  {
   "cell_type": "code",
   "execution_count": 14,
   "metadata": {},
   "outputs": [
    {
     "data": {
      "text/plain": [
       "586      S001\n",
       "1318     S006\n",
       "1404     S008\n",
       "4019     S015\n",
       "4089     S016\n",
       "4736     S020\n",
       "44973    S071\n",
       "45005    S072\n",
       "46785    S082\n",
       "49867    S096\n",
       "49948    S097\n",
       "Name: Clinical_Patient_Key, dtype: object"
      ]
     },
     "execution_count": 14,
     "metadata": {},
     "output_type": "execute_result"
    }
   ],
   "source": [
    "hotspot_patients"
   ]
  },
  {
   "cell_type": "markdown",
   "metadata": {},
   "source": [
    "## Test and plot a single protein (proteomics)"
   ]
  },
  {
   "cell_type": "code",
   "execution_count": 16,
   "metadata": {},
   "outputs": [
    {
     "name": "stdout",
     "output_type": "stream",
     "text": [
      "          TP53           Mutation Patient_Type Within_Hotspot\n",
      "S001  0.295000  Missense_Mutation        Tumor           True\n",
      "S002  0.277000           Wildtype        Tumor       Wildtype\n",
      "S003 -0.871000           Wildtype        Tumor       Wildtype\n",
      "S004  1.430000  Missense_Mutation        Tumor          False\n",
      "S005 -0.343000           Wildtype        Tumor       Wildtype\n",
      "S006  3.010000  Missense_Mutation        Tumor           True\n",
      "S007 -0.148000           Wildtype        Tumor       Wildtype\n",
      "S008  0.441000  Missense_Mutation        Tumor           True\n",
      "S009 -1.220000  Nonsense_Mutation        Tumor          False\n",
      "S010 -0.082500           Wildtype        Tumor       Wildtype\n",
      "S011 -0.181000           Wildtype        Tumor       Wildtype\n",
      "S012 -0.000425           Wildtype        Tumor       Wildtype\n",
      "S013  0.489000    Frame_Shift_Del        Tumor          False\n",
      "S014 -0.203000           Wildtype        Tumor       Wildtype\n",
      "S015  3.310000  Missense_Mutation        Tumor           True\n",
      "S016  2.120000  Missense_Mutation        Tumor           True\n",
      "S017 -0.243000           Wildtype        Tumor       Wildtype\n",
      "S018 -0.000950           Wildtype        Tumor       Wildtype\n",
      "S019  0.021300           Wildtype        Tumor       Wildtype\n",
      "S020  0.353000  Missense_Mutation        Tumor           True\n",
      "S021 -0.403000           Wildtype        Tumor       Wildtype\n",
      "S022 -0.154000  Nonsense_Mutation        Tumor          False\n",
      "S023 -0.056600           Wildtype        Tumor       Wildtype\n",
      "S024 -0.280000           Wildtype        Tumor       Wildtype\n",
      "S025 -0.519000           Wildtype        Tumor       Wildtype\n",
      "S026 -0.455000           Wildtype        Tumor       Wildtype\n",
      "S027  0.098000           Wildtype        Tumor       Wildtype\n",
      "S028 -0.209000           Wildtype        Tumor       Wildtype\n",
      "S029 -0.081900           Wildtype        Tumor       Wildtype\n",
      "S030  0.709000           Wildtype        Tumor       Wildtype\n",
      "...        ...                ...          ...            ...\n",
      "S124 -0.237000           Wildtype       Normal       Wildtype\n",
      "S125 -0.729000           Wildtype       Normal       Wildtype\n",
      "S126  0.112000           Wildtype       Normal       Wildtype\n",
      "S127       NaN           Wildtype       Normal       Wildtype\n",
      "S128       NaN           Wildtype       Normal       Wildtype\n",
      "S129 -0.078800           Wildtype       Normal       Wildtype\n",
      "S130 -0.688000           Wildtype       Normal       Wildtype\n",
      "S131 -0.747000           Wildtype       Normal       Wildtype\n",
      "S132 -0.333000           Wildtype       Normal       Wildtype\n",
      "S133 -0.174000           Wildtype       Normal       Wildtype\n",
      "S134 -1.010000           Wildtype       Normal       Wildtype\n",
      "S135  0.024300           Wildtype       Normal       Wildtype\n",
      "S136 -1.080000           Wildtype       Normal       Wildtype\n",
      "S137 -0.256000           Wildtype       Normal       Wildtype\n",
      "S138  0.105000           Wildtype       Normal       Wildtype\n",
      "S139 -0.819000           Wildtype       Normal       Wildtype\n",
      "S140 -0.530000           Wildtype       Normal       Wildtype\n",
      "S141 -0.899000           Wildtype       Normal       Wildtype\n",
      "S142 -0.809000           Wildtype       Normal       Wildtype\n",
      "S143 -0.124000           Wildtype       Normal       Wildtype\n",
      "S144  0.071900           Wildtype       Normal       Wildtype\n",
      "S145       NaN           Wildtype       Normal       Wildtype\n",
      "S146       NaN           Wildtype       Normal       Wildtype\n",
      "S147       NaN           Wildtype       Normal       Wildtype\n",
      "S148       NaN           Wildtype       Normal       Wildtype\n",
      "S149       NaN           Wildtype       Normal       Wildtype\n",
      "S150       NaN           Wildtype       Normal       Wildtype\n",
      "S151       NaN           Wildtype       Normal       Wildtype\n",
      "S152       NaN           Wildtype       Normal       Wildtype\n",
      "S153       NaN           Wildtype       Normal       Wildtype\n",
      "\n",
      "[153 rows x 4 columns]\n",
      "11\n",
      "TP53: 1.0042676146795402e-13\n"
     ]
    },
    {
     "data": {
      "image/png": "[encoded data removed]",
      "text/plain": [
       "<Figure size 842.4x595.44 with 1 Axes>"
      ]
     },
     "metadata": {
      "needs_background": "light"
     },
     "output_type": "display_data"
    }
   ],
   "source": [
    "gene = 'TP53'\n",
    "protein = 'TP53'\n",
    "#1.  merge the mutation status of P53 and the proteomics data of P53\n",
    "p53_mutations_protein = CPTAC.compare_mutations(proteomics, protein, gene)\n",
    "#2. now set up a new column for mutations that are within the hotspot\n",
    "p53_mutations_protein['Within_Hotspot'] = False\n",
    "p53_mutations_protein.loc[hotspot_patients, 'Within_Hotspot'] = True\n",
    "p53_mutations_protein.loc[p53_mutations_protein['Mutation'] == 'Wildtype', 'Within_Hotspot'] = 'Wildtype'\n",
    "print(p53_mutations_protein)\n",
    "p53_mutations_protein = p53_mutations_protein.loc[p53_mutations_protein['Patient_Type'] == 'Tumor'].dropna(axis=0)\n",
    "#3.  now make two new DFs, one for people with a hotspot mutation, one for all the wildtype cancer patients.\n",
    "mutated = p53_mutations_protein.loc[p53_mutations_protein['Within_Hotspot'] == True]\n",
    "wt = p53_mutations_protein.loc[p53_mutations_protein['Within_Hotspot'] == 'Wildtype']\n",
    "print(len(mutated))\n",
    "if len(mutated) > 2:\n",
    "        ttest = scipy.stats.ttest_ind(mutated[protein], wt[protein])\n",
    "        print(protein + \": \" + str(ttest[1]))\n",
    "else:\n",
    "    print(\"There are not enough mutations within the hotspot to do a t-test\")\n",
    "    \n",
    "a4_dims = (11.7, 8.27)\n",
    "fig, ax = plt.subplots(figsize = a4_dims)\n",
    "boxplt = sns.boxplot(data = p53_mutations_protein, x = 'Within_Hotspot', y = protein, ax = ax)\n",
    "boxplt = sns.stripplot(data = p53_mutations_protein, x = 'Within_Hotspot', y = protein, jitter = True, color = '.3')\n",
    "boxplt.set_xlabel('Mutation Within Hotspot', fontsize='20')\n",
    "boxplt.set_ylabel('Protein Level', fontsize='20')\n",
    "boxplt.set_title(\"Effect of \" + gene + \" mutation on \" + protein + \" protein levels\", fontsize='22')\n",
    "plt.show()"
   ]
  },
  {
   "cell_type": "markdown",
   "metadata": {},
   "source": [
    "## Test and plot a single protein (phosphoproteomics)"
   ]
  },
  {
   "cell_type": "code",
   "execution_count": 19,
   "metadata": {},
   "outputs": [
    {
     "name": "stdout",
     "output_type": "stream",
     "text": [
      "Site BORA-S212: 0.0006559580884698737\n",
      "Not enough mutated values for site BORA-S321\n",
      "Not enough mutated values for site BORA-S327\n",
      "Not enough mutated values for site BORA-S374\n",
      "Not enough mutated values for site BORA-S400\n"
     ]
    },
    {
     "data": {
      "image/png": "[encoded data removed]",
      "text/plain": [
       "<Figure size 1684.8x1190.88 with 1 Axes>"
      ]
     },
     "metadata": {
      "needs_background": "light"
     },
     "output_type": "display_data"
    }
   ],
   "source": [
    "gene = 'TP53'\n",
    "protein = 'BORA'\n",
    "\n",
    "pattern = re.compile(protein)\n",
    "\n",
    "p53_mutations_protein = CPTAC.compare_mutations(phos, protein, gene)\n",
    "p53_mutations_protein = p53_mutations_protein.loc[p53_mutations_protein['Patient_Type'] == 'Tumor'].drop('Patient_Type', axis=1)\n",
    "p53_mutations_protein['Within_Hotspot'] = False\n",
    "p53_mutations_protein.loc[hotspot_patients, 'Within_Hotspot'] = True\n",
    "p53_mutations_protein.loc[p53_mutations_protein['Mutation'] == 'Wildtype', 'Within_Hotspot'] = 'Wildtype'\n",
    "p53_mutations_protein.drop('Mutation', axis=1)\n",
    "\n",
    "plotdf = p53_mutations_protein[['Within_Hotspot']]\n",
    "\n",
    "pcutoff = 0.05/len(p53_mutations_protein.columns)\n",
    "\n",
    "for site in p53_mutations_protein.columns:\n",
    "    if (site != 'Within_Hotspot' and site != 'Mutation'):\n",
    "        sitedf = p53_mutations_protein[[site, 'Within_Hotspot']].dropna(axis=0)\n",
    "        mutated = sitedf.loc[sitedf['Within_Hotspot'] == False]\n",
    "        wt = sitedf.loc[sitedf['Within_Hotspot'] == 'Wildtype']\n",
    "        if mutated.empty:\n",
    "            print(\"Not enough mutated values for site \" + site)\n",
    "            continue\n",
    "        if wt.empty:\n",
    "            print(\"Not enough wildtype values for site \" + site)\n",
    "            continue\n",
    "        if len(mutated[site]) < 2:\n",
    "            print(\"Not enough mutated values for site \" + site)\n",
    "            continue\n",
    "        ttest = scipy.stats.ttest_ind(mutated[site], wt[site])\n",
    "        if ttest[1] < pcutoff:\n",
    "            print(\"Site \" + site + \": \" + str(ttest[1]))\n",
    "            plotdf = plotdf.join(p53_mutations_protein[site])\n",
    "        else:\n",
    "            continue\n",
    "            print(site + \" not significant\")\n",
    "            \n",
    "plotdf = pd.melt(plotdf, id_vars = ['Within_Hotspot'], var_name = 'Site', value_name = 'Phos')\n",
    "plotdf = plotdf.dropna(axis = 0)\n",
    "            \n",
    "a4_dims = (23.4, 16.54)\n",
    "fig, ax = plt.subplots(figsize=a4_dims)\n",
    "\n",
    "#Create the plot\n",
    "boxplt = sns.boxplot(x='Site', y='Phos', hue='Within_Hotspot', data=plotdf)\n",
    "boxplt = sns.stripplot(data=plotdf, x='Site', y='Phos', hue='Within_Hotspot', dodge=True, jitter=True, color='.3')\n",
    "\n",
    "#Add styling\n",
    "boxplt.set_xlabel('')\n",
    "boxplt.set_ylabel('Phosphoproteome Level', fontsize='40')\n",
    "boxplt.tick_params(labelsize='10')\n"
   ]
  },
  {
   "cell_type": "markdown",
   "metadata": {},
   "source": [
    "## Transcriptome differences"
   ]
  },
  {
   "cell_type": "code",
   "execution_count": 211,
   "metadata": {},
   "outputs": [
    {
     "name": "stdout",
     "output_type": "stream",
     "text": [
      "Ttest_indResult(statistic=-6.5389792687128505, pvalue=4.568704702162206e-09)\n"
     ]
    },
    {
     "data": {
      "image/png": "[encoded data removed]",
      "text/plain": [
       "<Figure size 842.4x595.44 with 1 Axes>"
      ]
     },
     "metadata": {
      "needs_background": "light"
     },
     "output_type": "display_data"
    }
   ],
   "source": [
    "gene = 'TP53'\n",
    "protein = 'MDM2'\n",
    "\n",
    "p53_transcript_mut = CPTAC.compare_mutations(proteomics, gene)\n",
    "p53_transcript_mut['Within_Hotspot'] = False\n",
    "p53_transcript_mut.loc[hotspot_patients, 'Within_Hotspot'] = True\n",
    "p53_transcript_mut.loc[p53_transcript_mut['Mutation'] == 'Wildtype', 'Within_Hotspot'] = 'Wildtype'\n",
    "p53_transcript_mut = p53_transcript_mut.loc[p53_transcript_mut['Patient_Type'] == 'Tumor'].dropna(axis=0)\n",
    "prot_transcript = pd.DataFrame(transcriptomics[protein])\n",
    "prot_transcript.columns = [protein + '_transcript']\n",
    "protein = protein + '_transcript'\n",
    "\n",
    "transcript_analysis = p53_transcript_mut.join(prot_transcript).drop(gene, axis=1).dropna(axis=0)\n",
    "transcript_analysis = transcript_analysis.loc[transcript_analysis['Patient_Type'] == 'Tumor']\n",
    "\n",
    "in_hotspot = transcript_analysis.loc[transcript_analysis['Within_Hotspot'] != 'Wildtype']\n",
    "outside_hotspot = transcript_analysis.loc[transcript_analysis['Within_Hotspot'] == 'Wildtype']\n",
    "print(scipy.stats.ttest_ind(in_hotspot[protein], outside_hotspot[protein]))\n",
    "\n",
    "a4_dims = (11.7, 8.27)\n",
    "fig, ax = plt.subplots(figsize = a4_dims)\n",
    "boxplt = sns.boxplot(data = transcript_analysis, x = 'Within_Hotspot', y = protein, ax = ax)\n",
    "boxplt = sns.stripplot(data = transcript_analysis, x = 'Within_Hotspot', y = protein, jitter = True, color = '.3')\n",
    "boxplt.set_xlabel('Mutation Within Hotspot', fontsize='20')\n",
    "boxplt.set_ylabel('Protein Level', fontsize='20')\n",
    "boxplt.set_title(\"Effect of \" + gene + \" mutation on \" + protein, fontsize='22')\n",
    "plt.show()"
   ]
  },
  {
   "cell_type": "markdown",
   "metadata": {},
   "source": [
    "## Census of p53 target genes\n",
    "PMID: 28288132"
   ]
  },
  {
   "cell_type": "code",
   "execution_count": 34,
   "metadata": {},
   "outputs": [],
   "source": [
    "target_genes = ['ABCA12', 'ABCB1', 'ACAD11', 'ACTA2', 'AEN', 'AFP', 'AGT', 'AGTR1', 'AIFM1', 'AIFM2', 'ALOX5', 'ANLN', 'ANXA1', 'APAF1', 'APC', 'APEX1', 'APOB', 'APOBEC1', 'AR', 'ARID3A', 'ARNT2', 'ATF3', 'ATR', 'BAK1', 'BANP', 'BAX', 'BBC3', 'BCL2', 'BCL2L14', 'BCL6', 'BDKRB2', 'BID', 'BIRC5', 'BNIP3', 'BNIP3L', 'BRCA2', 'BTG2', 'BTG3', 'C10orf54', 'CASP1', 'CASP10', 'CASP6', 'CAV1', 'CBL', 'CCNB1', 'CCNB2', 'CCNG1', 'CCNK', 'CD44', 'CD82', 'CDC20', 'CDC25B', 'CDC25C', 'CDIP1', 'CDK1', 'CDKN1A', 'CDKN2A', 'CEL', 'CERS6', 'CES2', 'CGB7', 'CHEK1', 'CHMP4C', 'CKM', 'CKS2', 'COL18A1', 'COMT', 'CPT1C', 'CRYZ', 'CSF1', 'CST3', 'CST5', 'CTF1', 'CTSD', 'CX3CL1', 'CYFIP2', 'CYP21A2', 'NSG1', 'DAPK1', 'DDB2', 'DDR1', 'DEC1', 'DEF6', 'DGKZ', 'DHRS3', 'DKK1', 'DNMT1', 'DRAM1', 'DSP', 'DUSP1', 'DUSP2', 'DUSP4', 'DUSP5', 'DUSP6', 'DUT', 'E2F7', 'ECT2', 'EDA2R', 'EDN2', 'EGFR', 'EGR2', 'EPCAM', 'EPHA2', 'ERAP1', 'ERCC1', 'ESR1', 'F2R', 'FANCC', 'FAS', 'FBXO22', 'FDFT1', 'FDPS', 'FDXR', 'FLT1', 'FOS', 'FOXF1', 'FOXP3', 'FUCA1', 'FZD2', 'GAD2', 'GADD45A', 'GAMT', 'GBP1', 'GCH1', 'GDF15', 'GDF9', 'GFI1', 'GLS2', 'GPR87', 'GPX1', 'GSTP1', 'HAMP', 'HDC', 'HIC1', 'HMGCLL1', 'HMGCR', 'HNF4A', 'HPSE', 'HRAS', 'HSP90AB1', 'HSPA8', 'HTT', 'ID2', 'IER3', 'IER5', 'IFI16', 'IGF1R', 'IGFBP3', 'IRF2BP2', 'IRF5', 'IRF9', 'ISCU', 'KIAA0513', 'KITLG', 'KLLN', 'KRT14', 'KRT8', 'LARP1', 'LASP1', 'LDLR', 'LGALS3', 'LIF', 'LIMK2', 'LMNA', 'LONP1', 'LPIN1', 'MAD1L1', 'MAP4', 'MAP4K4', 'MAPK8', 'MB', 'MDM2', 'ME1', 'ME2', 'ME3', 'MET', 'MFN2', 'MLH1', 'MMP2', 'MPZL2', 'MSH2', 'MTA1', 'MVK', 'MYC', 'MYOG', 'NANOG', 'NCF2', 'NDRG1', 'NEK2', 'NINJ1', 'NLRC4', 'NOL3', 'NOS3', 'NOTCH1', 'NOV', 'NR0B2', 'ODC1', 'OGN', 'ORM2', 'PADI4', 'PANK1', 'PARK2', 'PAX2', 'PCBP4', 'PCDH10', 'PCNA', 'PEBP1', 'PERP', 'PGF', 'PHF1', 'PHLDA3', 'PIDD1', 'PIK3CA', 'PKD1', 'PLAGL1', 'PLK1', 'PLK2', 'PLK3', 'PLTP', 'PMAIP1', 'PML', 'PMS2', 'POLD1', 'POLH', 'POMC', 'PPARGC1A', 'PPARGC1B', 'PPM1D', 'PPM1J', 'PRAP1', 'PRC1', 'PRDM1', 'PRKAB1', 'PRODH', 'PROM1', 'PSRC1', 'PTCHD4', 'PTEN', 'PTGS2', 'PTK2', 'PTP4A1', 'PTPN6', 'PTPRVP', 'PTTG1', 'PYCARD', 'RAB6C', 'RABGGTA', 'RAD17', 'RAD23A', 'RAD51', 'RAP2B', 'RARA', 'RARRES3', 'RB1', 'RBM38', 'RBPJ', 'RECQL4', 'RFC4', 'RGCC', 'RHOC', 'RND3', 'RNF144B', 'RPS27L', 'RRAD', 'RRM2B', 'RTN4', 'RCHY1', 'S100A2', 'S100A9', 'SALL2', 'SCD', 'SCN3B', 'SEMA3B', 'SEMA3F', 'SERPINA6', 'SERPINB5', 'SERPINE1', 'SESN1', 'SGK1', 'SH2D1A', 'SHBG', 'SIAH1', 'SIVA1', 'SLC2A4', 'SLC38A2', 'SLC6A6', 'SLC7A11', 'SOD2', 'SPATA18', 'STAG1', 'STX6', 'SUB1', 'SULF2', 'SUSD6', 'SYK', 'TBXAS1', 'TDG', 'TFAP2A', 'TFAP2C', 'TFF2', 'TGFA', 'TGM2', 'TIGAR', 'TLR10', 'TLR2', 'TLR3', 'TLR4', 'TLR5', 'TLR6', 'TLR8', 'RP11-330H6.5', 'TNFRSF10A', 'TNFRSF10B', 'TNFSF9', 'TP53AIP1', 'TP53BP1', 'TP53I3', 'TP53INP1', 'TP63', 'TP73', 'TPT1', 'TRAF4', 'TRIAP1', 'TRIM22', 'TRIM32', 'TRPC7', 'TSC2', 'TYRP1', 'UBD', 'UBTD1', 'ULK1', 'ULK2', 'UNC5A', 'UTF1', 'VCAN', 'VDR', 'XPC', 'XPO1', 'YPEL3', 'YWHAG', 'ZFP36', 'ZMAT3', 'ZNF79']"
   ]
  },
  {
   "cell_type": "markdown",
   "metadata": {},
   "source": [
    "### Proteomic analysis"
   ]
  },
  {
   "cell_type": "code",
   "execution_count": 35,
   "metadata": {},
   "outputs": [],
   "source": [
    "proteomic_significant = []\n",
    "proteomic_nochange = []\n",
    "for protein in target_genes:\n",
    "    if protein in proteomics.columns:\n",
    "        p53_mutations_protein = CPTAC.compare_mutations(proteomics, protein, gene)\n",
    "        p53_mutations_protein['Within_Hotspot'] = False\n",
    "        p53_mutations_protein.loc[hotspot_patients, 'Within_Hotspot'] = True\n",
    "        p53_mutations_protein.loc[p53_mutations_protein['Mutation'] == 'Wildtype', 'Within_Hotspot'] = 'Wildtype'\n",
    "        p53_mutations_protein = p53_mutations_protein.loc[p53_mutations_protein['Patient_Type'] == 'Tumor'].dropna(axis=0)\n",
    "        mutated = p53_mutations_protein.loc[p53_mutations_protein['Within_Hotspot'] != 'Wildtype']\n",
    "        wt = p53_mutations_protein.loc[p53_mutations_protein['Within_Hotspot'] == 'Wildtype']\n",
    "        if len(mutated) > 2:\n",
    "                ttest = scipy.stats.ttest_ind(mutated[protein], wt[protein])\n",
    "                if(ttest[1] < 0.001):\n",
    "                    proteomic_significant.append(protein)\n",
    "                else:\n",
    "                    proteomic_nochange.append(protein)"
   ]
  },
  {
   "cell_type": "code",
   "execution_count": 40,
   "metadata": {},
   "outputs": [],
   "source": [
    "transcript_significant = []\n",
    "transcript_nochange = []\n",
    "for protein in target_genes:\n",
    "    if protein in transcriptomics.columns:\n",
    "        p53_transcript_mut = CPTAC.compare_mutations(proteomics, gene)\n",
    "        p53_transcript_mut['Within_Hotspot'] = False\n",
    "        p53_transcript_mut.loc[hotspot_patients, 'Within_Hotspot'] = True\n",
    "        p53_transcript_mut.loc[p53_transcript_mut['Mutation'] == 'Wildtype', 'Within_Hotspot'] = 'Wildtype'\n",
    "        p53_transcript_mut = p53_transcript_mut.loc[p53_transcript_mut['Patient_Type'] == 'Tumor'].dropna(axis=0)\n",
    "        prot_transcript = transcriptomics[protein]\n",
    "\n",
    "        transcript_analysis = p53_transcript_mut.join(prot_transcript).drop(gene, axis=1).dropna(axis=0)\n",
    "        transcript_analysis = transcript_analysis.loc[transcript_analysis['Patient_Type'] == 'Tumor']\n",
    "\n",
    "        in_hotspot = transcript_analysis.loc[transcript_analysis['Within_Hotspot'] != 'Wildtype']\n",
    "        outside_hotspot = transcript_analysis.loc[transcript_analysis['Within_Hotspot'] == 'Wildtype']\n",
    "        if len(in_hotspot) > 2:\n",
    "            ttest = scipy.stats.ttest_ind(in_hotspot[protein], outside_hotspot[protein])\n",
    "            if(ttest[1] < 0.001):\n",
    "                transcript_significant.append(protein)\n",
    "            else:\n",
    "                transcript_nochange.append(protein)"
   ]
  },
  {
   "cell_type": "code",
   "execution_count": 37,
   "metadata": {},
   "outputs": [
    {
     "data": {
      "text/plain": [
       "['ANLN',\n",
       " 'BIRC5',\n",
       " 'CCNB1',\n",
       " 'CCNK',\n",
       " 'CDC20',\n",
       " 'CDK1',\n",
       " 'CDKN2A',\n",
       " 'DDB2',\n",
       " 'ECT2',\n",
       " 'ESR1',\n",
       " 'FAS',\n",
       " 'FBXO22',\n",
       " 'FDXR',\n",
       " 'FUCA1',\n",
       " 'HSP90AB1',\n",
       " 'IRF9',\n",
       " 'MB',\n",
       " 'MSH2',\n",
       " 'PCNA',\n",
       " 'PLK1',\n",
       " 'PROM1',\n",
       " 'RFC4',\n",
       " 'RPS27L',\n",
       " 'SALL2',\n",
       " 'SLC38A2',\n",
       " 'SPATA18',\n",
       " 'TRIM32',\n",
       " 'XPC',\n",
       " 'XPO1']"
      ]
     },
     "execution_count": 37,
     "metadata": {},
     "output_type": "execute_result"
    }
   ],
   "source": [
    "proteomic_significant"
   ]
  },
  {
   "cell_type": "code",
   "execution_count": 42,
   "metadata": {},
   "outputs": [
    {
     "data": {
      "text/plain": [
       "['AEN',\n",
       " 'APC',\n",
       " 'BAK1',\n",
       " 'BBC3',\n",
       " 'BIRC5',\n",
       " 'CDC20',\n",
       " 'CDC25B',\n",
       " 'CDC25C',\n",
       " 'CDKN1A',\n",
       " 'CDKN2A',\n",
       " 'DDB2',\n",
       " 'ECT2',\n",
       " 'ESR1',\n",
       " 'FAS',\n",
       " 'FDXR',\n",
       " 'GBP1',\n",
       " 'HSP90AB1',\n",
       " 'ID2',\n",
       " 'IRF9',\n",
       " 'MB',\n",
       " 'MDM2',\n",
       " 'MPZL2',\n",
       " 'MSH2',\n",
       " 'PIK3CA',\n",
       " 'PLK1',\n",
       " 'PLTP',\n",
       " 'POLD1',\n",
       " 'PRAP1',\n",
       " 'PRKAB1',\n",
       " 'PSRC1',\n",
       " 'RB1',\n",
       " 'RBM38',\n",
       " 'RECQL4',\n",
       " 'RFC4',\n",
       " 'RPS27L',\n",
       " 'SESN1',\n",
       " 'SPATA18',\n",
       " 'SYK',\n",
       " 'TLR3',\n",
       " 'TNFRSF10B',\n",
       " 'TP53AIP1',\n",
       " 'TPT1',\n",
       " 'TRIM32',\n",
       " 'ULK2',\n",
       " 'XPC',\n",
       " 'XPO1',\n",
       " 'ZMAT3']"
      ]
     },
     "execution_count": 42,
     "metadata": {},
     "output_type": "execute_result"
    }
   ],
   "source": [
    "transcript_significant"
   ]
  },
  {
   "cell_type": "markdown",
   "metadata": {},
   "source": [
    "## Proteins where both the proteome and the transcriptome are affected"
   ]
  },
  {
   "cell_type": "code",
   "execution_count": 46,
   "metadata": {
    "scrolled": true
   },
   "outputs": [
    {
     "data": {
      "text/plain": [
       "['TRIM32',\n",
       " 'CDC20',\n",
       " 'DDB2',\n",
       " 'FAS',\n",
       " 'BIRC5',\n",
       " 'ESR1',\n",
       " 'SPATA18',\n",
       " 'HSP90AB1',\n",
       " 'ECT2',\n",
       " 'RFC4',\n",
       " 'CDKN2A',\n",
       " 'MSH2',\n",
       " 'XPC',\n",
       " 'FDXR',\n",
       " 'PLK1',\n",
       " 'XPO1',\n",
       " 'IRF9',\n",
       " 'MB',\n",
       " 'RPS27L']"
      ]
     },
     "execution_count": 46,
     "metadata": {},
     "output_type": "execute_result"
    }
   ],
   "source": [
    "list(set(transcript_significant) & set(proteomic_significant))"
   ]
  },
  {
   "cell_type": "markdown",
   "metadata": {},
   "source": [
    "## Proteome affected, transcriptome not"
   ]
  },
  {
   "cell_type": "code",
   "execution_count": 47,
   "metadata": {},
   "outputs": [
    {
     "data": {
      "text/plain": [
       "['CCNB1',\n",
       " 'FUCA1',\n",
       " 'SLC38A2',\n",
       " 'PROM1',\n",
       " 'FBXO22',\n",
       " 'CCNK',\n",
       " 'ANLN',\n",
       " 'PCNA',\n",
       " 'SALL2',\n",
       " 'CDK1']"
      ]
     },
     "execution_count": 47,
     "metadata": {},
     "output_type": "execute_result"
    }
   ],
   "source": [
    "list(set(proteomic_significant) - set(transcript_significant))"
   ]
  },
  {
   "cell_type": "markdown",
   "metadata": {},
   "source": [
    "## Transcriptome affected, proteome not"
   ]
  },
  {
   "cell_type": "code",
   "execution_count": 48,
   "metadata": {},
   "outputs": [
    {
     "data": {
      "text/plain": [
       "['TLR3',\n",
       " 'TNFRSF10B',\n",
       " 'CDKN1A',\n",
       " 'MPZL2',\n",
       " 'APC',\n",
       " 'PLTP',\n",
       " 'RBM38',\n",
       " 'MDM2',\n",
       " 'BAK1',\n",
       " 'PIK3CA',\n",
       " 'GBP1',\n",
       " 'CDC25C',\n",
       " 'BBC3',\n",
       " 'PRKAB1',\n",
       " 'TP53AIP1',\n",
       " 'RECQL4',\n",
       " 'ULK2',\n",
       " 'ZMAT3',\n",
       " 'PSRC1',\n",
       " 'AEN',\n",
       " 'TPT1',\n",
       " 'POLD1',\n",
       " 'PRAP1',\n",
       " 'RB1',\n",
       " 'CDC25B',\n",
       " 'SESN1',\n",
       " 'SYK',\n",
       " 'ID2']"
      ]
     },
     "execution_count": 48,
     "metadata": {},
     "output_type": "execute_result"
    }
   ],
   "source": [
    "list(set(transcript_significant) - set(proteomic_significant))"
   ]
  },
  {
   "cell_type": "markdown",
   "metadata": {},
   "source": [
    "# Hotspot/transcriptome analysis"
   ]
  },
  {
   "cell_type": "code",
   "execution_count": 61,
   "metadata": {},
   "outputs": [],
   "source": [
    "hp_proteomic_significant = []\n",
    "hp_proteomic_nochange = []\n",
    "for protein in target_genes:\n",
    "    if protein in proteomics.columns:\n",
    "        p53_mutations_protein = CPTAC.compare_mutations(proteomics, protein, gene)\n",
    "        p53_mutations_protein['Within_Hotspot'] = False\n",
    "        p53_mutations_protein.loc[hotspot_patients, 'Within_Hotspot'] = True\n",
    "        p53_mutations_protein.loc[p53_mutations_protein['Mutation'] == 'Wildtype', 'Within_Hotspot'] = 'Wildtype'\n",
    "        p53_mutations_protein = p53_mutations_protein.loc[p53_mutations_protein['Patient_Type'] == 'Tumor'].dropna(axis=0)\n",
    "        mutated = p53_mutations_protein.loc[p53_mutations_protein['Within_Hotspot'] == True]\n",
    "        wt = p53_mutations_protein.loc[p53_mutations_protein['Within_Hotspot'] == 'Wildtype']\n",
    "        if len(mutated) > 2:\n",
    "                ttest = scipy.stats.ttest_ind(mutated[protein], wt[protein])\n",
    "                if(ttest[1] < 0.001):\n",
    "                    hp_proteomic_significant.append(protein)\n",
    "                else:\n",
    "                    hp_proteomic_nochange.append(protein)"
   ]
  },
  {
   "cell_type": "code",
   "execution_count": 62,
   "metadata": {},
   "outputs": [],
   "source": [
    "hp_transcript_significant = []\n",
    "hp_transcript_nochange = []\n",
    "for protein in target_genes:\n",
    "    if protein in transcriptomics.columns:\n",
    "        p53_transcript_mut = CPTAC.compare_mutations(proteomics, gene)\n",
    "        p53_transcript_mut['Within_Hotspot'] = False\n",
    "        p53_transcript_mut.loc[hotspot_patients, 'Within_Hotspot'] = True\n",
    "        p53_transcript_mut.loc[p53_transcript_mut['Mutation'] == 'Wildtype', 'Within_Hotspot'] = 'Wildtype'\n",
    "        p53_transcript_mut = p53_transcript_mut.loc[p53_transcript_mut['Patient_Type'] == 'Tumor'].dropna(axis=0)\n",
    "        prot_transcript = transcriptomics[protein]\n",
    "\n",
    "        transcript_analysis = p53_transcript_mut.join(prot_transcript).drop(gene, axis=1).dropna(axis=0)\n",
    "        transcript_analysis = transcript_analysis.loc[transcript_analysis['Patient_Type'] == 'Tumor']\n",
    "\n",
    "        in_hotspot = transcript_analysis.loc[transcript_analysis['Within_Hotspot'] == True]\n",
    "        outside_hotspot = transcript_analysis.loc[transcript_analysis['Within_Hotspot'] == 'Wildtype']\n",
    "        if len(in_hotspot) > 2:\n",
    "            ttest = scipy.stats.ttest_ind(in_hotspot[protein], outside_hotspot[protein])\n",
    "            if(ttest[1] < 0.001):\n",
    "                hp_transcript_significant.append(protein)\n",
    "            else:\n",
    "                hp_transcript_nochange.append(protein)"
   ]
  },
  {
   "cell_type": "code",
   "execution_count": 63,
   "metadata": {},
   "outputs": [
    {
     "data": {
      "text/plain": [
       "['ANLN',\n",
       " 'CCNB1',\n",
       " 'CCNK',\n",
       " 'CDC20',\n",
       " 'CDK1',\n",
       " 'CDKN2A',\n",
       " 'DDB2',\n",
       " 'ECT2',\n",
       " 'FAS',\n",
       " 'FBXO22',\n",
       " 'FDXR',\n",
       " 'GBP1',\n",
       " 'HSP90AB1',\n",
       " 'IRF9',\n",
       " 'MSH2',\n",
       " 'PLK1',\n",
       " 'RFC4',\n",
       " 'SLC38A2',\n",
       " 'SPATA18',\n",
       " 'TRIM32',\n",
       " 'XPC',\n",
       " 'XPO1']"
      ]
     },
     "execution_count": 63,
     "metadata": {},
     "output_type": "execute_result"
    }
   ],
   "source": [
    "hp_proteomic_significant"
   ]
  },
  {
   "cell_type": "code",
   "execution_count": 64,
   "metadata": {},
   "outputs": [
    {
     "data": {
      "text/plain": [
       "['AEN',\n",
       " 'APC',\n",
       " 'BAK1',\n",
       " 'CDKN1A',\n",
       " 'DDB2',\n",
       " 'ERCC1',\n",
       " 'ESR1',\n",
       " 'FDXR',\n",
       " 'GBP1',\n",
       " 'GSTP1',\n",
       " 'HSP90AB1',\n",
       " 'ID2',\n",
       " 'IRF9',\n",
       " 'MDM2',\n",
       " 'MPZL2',\n",
       " 'MSH2',\n",
       " 'PIK3CA',\n",
       " 'PLK1',\n",
       " 'RAD23A',\n",
       " 'RBM38',\n",
       " 'RECQL4',\n",
       " 'RFC4',\n",
       " 'RPS27L',\n",
       " 'SESN1',\n",
       " 'SPATA18',\n",
       " 'TPT1',\n",
       " 'TRIM32',\n",
       " 'ULK2',\n",
       " 'XPC',\n",
       " 'XPO1']"
      ]
     },
     "execution_count": 64,
     "metadata": {},
     "output_type": "execute_result"
    }
   ],
   "source": [
    "hp_transcript_significant"
   ]
  },
  {
   "cell_type": "code",
   "execution_count": null,
   "metadata": {},
   "outputs": [],
   "source": []
  }
 ],
 "metadata": {
  "kernelspec": {
   "display_name": "Python 3",
   "language": "python",
   "name": "python3"
  },
  "language_info": {
   "codemirror_mode": {
    "name": "ipython",
    "version": 3
   },
   "file_extension": ".py",
   "mimetype": "text/x-python",
   "name": "python",
   "nbconvert_exporter": "python",
   "pygments_lexer": "ipython3",
   "version": "3.7.0"
  }
 },
 "nbformat": 4,
 "nbformat_minor": 2
}
