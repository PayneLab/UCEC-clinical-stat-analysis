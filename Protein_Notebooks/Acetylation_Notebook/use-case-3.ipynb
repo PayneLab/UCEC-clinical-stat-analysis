{
 "cells": [
  {
   "cell_type": "markdown",
   "metadata": {},
   "source": [
    "# Use Case 3: Associating Clinical Variables with Acetylation"
   ]
  },
  {
   "cell_type": "markdown",
   "metadata": {},
   "source": [
    "Write some here about how we will use this case, etc."
   ]
  },
  {
   "cell_type": "markdown",
   "metadata": {},
   "source": [
    "# Step 1: Import necessary packages"
   ]
  },
  {
   "cell_type": "markdown",
   "metadata": {},
   "source": [
    "This use case will guide you through an example in using the acetylation data included in our package.\n",
    "We will start by importing the endometrial data, along with the tools that we need to analyze it."
   ]
  },
  {
   "cell_type": "code",
   "execution_count": 1,
   "metadata": {},
   "outputs": [
    {
     "name": "stdout",
     "output_type": "stream",
     "text": [
      "Welcome to the CPTAC data service package. This import contains\n",
      "information about the package. In order to access a specific data set,\n",
      "import a CPTAC subfolder by either 'import CPTAC.DataName' or 'from\n",
      "CPTAC import DataName'.\n",
      "Loading Endometrial CPTAC data:\n",
      "Loading Dictionary...\n",
      "Loading Clinical Data...\n",
      "Loading Acetylation Proteomics Data...\n",
      "Loading Proteomics Data...\n",
      "Loading Transcriptomics Data...\n",
      "Loading CNA Data...\n",
      "Loading Phosphoproteomics Data...\n",
      "Loading Somatic Mutation Data...\n",
      "\n",
      " ******PLEASE READ******\n",
      "WARNING: This data is under a publication embargo until July 1, 2019.\n",
      "CPTAC is a community resource project and data are made available\n",
      "rapidly after generation for community research use. The embargo\n",
      "allows exploring and utilizing the data, but the data may not be in a\n",
      "publication until July 1, 2019. Please see\n",
      "https://proteomics.cancer.gov/data-portal/about/data-use-agreement or\n",
      "enter embargo() to open the webpage for more details.\n"
     ]
    }
   ],
   "source": [
    "import pandas as pd\n",
    "import numpy as np\n",
    "import scipy.stats\n",
    "import statsmodels.stats.multitest\n",
    "import matplotlib.pyplot as plt\n",
    "import seaborn as sns\n",
    "import CPTAC.Endometrial as en\n",
    "import math"
   ]
  },
  {
   "cell_type": "code",
   "execution_count": 2,
   "metadata": {},
   "outputs": [],
   "source": [
    "#Get acetylation data\n",
    "acetyl = en.get_acetylproteomics()"
   ]
  },
  {
   "cell_type": "code",
   "execution_count": 3,
   "metadata": {},
   "outputs": [
    {
     "data": {
      "text/plain": [
       "['Proteomics_Participant_ID',\n",
       " 'Case_excluded',\n",
       " 'Proteomics_TMT_batch',\n",
       " 'Proteomics_TMT_plex',\n",
       " 'Proteomics_TMT_channel',\n",
       " 'Proteomics_Parent_Sample_IDs',\n",
       " 'Proteomics_Aliquot_ID',\n",
       " 'Proteomics_Tumor_Normal',\n",
       " 'Proteomics_OCT',\n",
       " 'Country',\n",
       " 'Histologic_Grade_FIGO',\n",
       " 'Myometrial_invasion_Specify',\n",
       " 'Histologic_type',\n",
       " 'Treatment_naive',\n",
       " 'Tumor_purity',\n",
       " 'Path_Stage_Primary_Tumor-pT',\n",
       " 'Path_Stage_Reg_Lymph_Nodes-pN',\n",
       " 'Clin_Stage_Dist_Mets-cM',\n",
       " 'Path_Stage_Dist_Mets-pM',\n",
       " 'tumor_Stage-Pathological',\n",
       " 'FIGO_stage',\n",
       " 'LVSI',\n",
       " 'BMI',\n",
       " 'Age',\n",
       " 'Diabetes',\n",
       " 'Race',\n",
       " 'Ethnicity',\n",
       " 'Gender',\n",
       " 'Tumor_Site',\n",
       " 'Tumor_Site_Other',\n",
       " 'Tumor_Focality',\n",
       " 'Tumor_Size_cm',\n",
       " 'Estrogen_Receptor',\n",
       " 'Estrogen_Receptor_%',\n",
       " 'Progesterone_Receptor',\n",
       " 'Progesterone_Receptor_%',\n",
       " 'MLH1',\n",
       " 'MLH2',\n",
       " 'MSH6',\n",
       " 'PMS2',\n",
       " 'p53',\n",
       " 'Other_IHC_specify',\n",
       " 'MLH1_Promoter_Hypermethylation',\n",
       " 'Num_full_term_pregnancies',\n",
       " 'EPIC_Bcells',\n",
       " 'EPIC_CAFs',\n",
       " 'EPIC_CD4_Tcells',\n",
       " 'EPIC_CD8_Tcells',\n",
       " 'EPIC_Endothelial',\n",
       " 'EPIC_Macrophages',\n",
       " 'EPIC_NKcells',\n",
       " 'EPIC_otherCells',\n",
       " 'CIBERSORT_B _cells _naive',\n",
       " 'CIBERSORT_B _cells _memory',\n",
       " 'CIBERSORT_Plasma _cells',\n",
       " 'CIBERSORT_T _cells _CD8',\n",
       " 'CIBERSORT_T _cells _CD4 _naive',\n",
       " 'CIBERSORT_T _cells _CD4 _memory _resting',\n",
       " 'CIBERSORT_T _cells _CD4 _memory _activated',\n",
       " 'CIBERSORT_T _cells _follicular _helper',\n",
       " 'CIBERSORT_T _cells _regulatory _(Tregs)',\n",
       " 'CIBERSORT_T _cells _gamma _delta',\n",
       " 'CIBERSORT_NK _cells _resting',\n",
       " 'CIBERSORT_NK _cells _activated',\n",
       " 'CIBERSORT_Monocytes',\n",
       " 'CIBERSORT_Macrophages _M0',\n",
       " 'CIBERSORT_Macrophages _M1',\n",
       " 'CIBERSORT_Macrophages _M2',\n",
       " 'CIBERSORT_Dendritic _cells _resting',\n",
       " 'CIBERSORT_Dendritic _cells _activated',\n",
       " 'CIBERSORT_Mast _cells _resting',\n",
       " 'CIBERSORT_Mast _cells _activated',\n",
       " 'CIBERSORT_Eosinophils',\n",
       " 'CIBERSORT_Neutrophils',\n",
       " 'CIBERSORT_Absolute _score',\n",
       " 'ESTIMATE_StromalScore',\n",
       " 'ESTIMATE_ImmuneScore',\n",
       " 'ESTIMATE_ESTIMATEScore',\n",
       " 'Stemness_score',\n",
       " 'ER_ESR1',\n",
       " 'PR_PGR',\n",
       " 'Pathway_activity_EGFR',\n",
       " 'Pathway_activity_Hypoxia',\n",
       " 'Pathway_activity_JAK.STAT',\n",
       " 'Pathway_activity_MAPK',\n",
       " 'Pathway_activity_NFkB',\n",
       " 'Pathway_activity_PI3K',\n",
       " 'Pathway_activity_TGFb',\n",
       " 'Pathway_activity_TNFa',\n",
       " 'Pathway_activity_Trail',\n",
       " 'Pathway_activity_VEGF',\n",
       " 'Pathway_activity_p53',\n",
       " 'TP53_ATM',\n",
       " 'TP53_CHEK2',\n",
       " 'TP53_MDM4',\n",
       " 'TP53_RPS6KA3',\n",
       " 'TP53_TP53',\n",
       " 'TP53_pathway',\n",
       " 'PI3K_AKT1',\n",
       " 'PI3K_AKT2',\n",
       " 'PI3K_AKT3',\n",
       " 'PI3K_DEPDC5',\n",
       " 'PI3K_DEPTOR',\n",
       " 'PI3K_INPP4B',\n",
       " 'PI3K_MAPKAP1',\n",
       " 'PI3K_MLST8',\n",
       " 'PI3K_MTOR',\n",
       " 'PI3K_NPRL2',\n",
       " 'PI3K_NPRL3',\n",
       " 'PI3K_PDK1',\n",
       " 'PI3K_PIK3CA',\n",
       " 'PI3K_PIK3CB',\n",
       " 'PI3K_PIK3R1',\n",
       " 'PI3K_PIK3R2',\n",
       " 'PI3K_PPP2R1A',\n",
       " 'PI3K_PTEN',\n",
       " 'PI3K_RHEB',\n",
       " 'PI3K_RICTOR',\n",
       " 'PI3K_RPS6',\n",
       " 'PI3K_RPS6KB1',\n",
       " 'PI3K_RPTOR',\n",
       " 'PI3K_STK11',\n",
       " 'PI3K_TSC1',\n",
       " 'PI3K_TSC2',\n",
       " 'PI3K_pathway',\n",
       " 'HRD_BRCA1',\n",
       " 'HRD_BRCA2',\n",
       " 'HRD_BRCA1_or_BRCA2',\n",
       " 'CNV_clustering',\n",
       " 'CNV_1q_amplification',\n",
       " 'CNV_index',\n",
       " 'Purity_Immune',\n",
       " 'Purity_Cancer',\n",
       " 'Purity_Stroma',\n",
       " 'MSI_status',\n",
       " 'POLE_subtype',\n",
       " 'JAK1_MS_INDEL',\n",
       " 'JAK1_Mutation',\n",
       " 'Genomic_subtype',\n",
       " 'Log2_variant_per_Mbp',\n",
       " 'Log2_SNP_per_Mbp',\n",
       " 'Log2_INDEL_per_Mbp',\n",
       " 'Log2_variant_total',\n",
       " 'Log2_SNP_total',\n",
       " 'Log2_INDEL_total',\n",
       " 'Mutation_signature_C>A',\n",
       " 'Mutation_signature_C>G',\n",
       " 'Mutation_signature_C>T',\n",
       " 'Mutation_signature_T>C',\n",
       " 'Mutation_signature_T>A',\n",
       " 'Mutation_signature_T>G',\n",
       " 'WXS_normal_sample_type',\n",
       " 'WXS_normal_filename',\n",
       " 'WXS_normal_UUID',\n",
       " 'WXS_tumor_sample_type',\n",
       " 'WXS_tumor_filename',\n",
       " 'WXS_tumor_UUID',\n",
       " 'WGS_normal_sample_type',\n",
       " 'WGS_normal_UUID',\n",
       " 'WGS_tumor_sample_type',\n",
       " 'WGS_tumor_UUID',\n",
       " 'RNAseq_R1_sample_type',\n",
       " 'RNAseq_R1_filename',\n",
       " 'RNAseq_R1_UUID',\n",
       " 'RNAseq_R2_sample_type',\n",
       " 'RNAseq_R2_filename',\n",
       " 'RNAseq_R2_UUID',\n",
       " 'miRNAseq_sample_type',\n",
       " 'miRNAseq_UUID',\n",
       " 'Methylation_available',\n",
       " 'Methylation_quality']"
      ]
     },
     "execution_count": 3,
     "metadata": {},
     "output_type": "execute_result"
    }
   ],
   "source": [
    "#Show a list of clinical attributes that can be tested with acetylation data\n",
    "list(en.get_clinical().columns)"
   ]
  },
  {
   "cell_type": "markdown",
   "metadata": {},
   "source": [
    "# Step 2: Choose Clinical Attribute and Merge Dataframe"
   ]
  },
  {
   "cell_type": "markdown",
   "metadata": {},
   "source": [
    "For this use case, we will use the 'Histologic_type' clinical attribute in order to find differences in acetylation sites between \"endometrioid\" and \"serous\" cancer cells."
   ]
  },
  {
   "cell_type": "code",
   "execution_count": 4,
   "metadata": {},
   "outputs": [],
   "source": [
    "#Set desired attribute to variable 'clinical_attribute'\n",
    "clinical_attribute = \"Histologic_type\"\n",
    "clinical = en.get_clinical()"
   ]
  },
  {
   "cell_type": "markdown",
   "metadata": {},
   "source": [
    "Here we will merge our desired clinical attribute with our acetylation dataframe using \"en.compare\""
   ]
  },
  {
   "cell_type": "code",
   "execution_count": 5,
   "metadata": {},
   "outputs": [
    {
     "data": {
      "text/html": [
       "<div>\n",
       "<style scoped>\n",
       "    .dataframe tbody tr th:only-of-type {\n",
       "        vertical-align: middle;\n",
       "    }\n",
       "\n",
       "    .dataframe tbody tr th {\n",
       "        vertical-align: top;\n",
       "    }\n",
       "\n",
       "    .dataframe thead th {\n",
       "        text-align: right;\n",
       "    }\n",
       "</style>\n",
       "<table border=\"1\" class=\"dataframe\">\n",
       "  <thead>\n",
       "    <tr style=\"text-align: right;\">\n",
       "      <th>idx</th>\n",
       "      <th>Histologic_type</th>\n",
       "      <th>A2M-K1168</th>\n",
       "      <th>A2M-K1176</th>\n",
       "      <th>A2M-K135</th>\n",
       "      <th>A2M-K145</th>\n",
       "      <th>A2M-K516</th>\n",
       "      <th>A2M-K664</th>\n",
       "      <th>A2M-K682</th>\n",
       "      <th>AACS-K391</th>\n",
       "      <th>AAGAB-K290</th>\n",
       "      <th>...</th>\n",
       "      <th>ZSCAN31-K215</th>\n",
       "      <th>ZSCAN32-K659</th>\n",
       "      <th>ZW10-K634</th>\n",
       "      <th>ZYX-K24</th>\n",
       "      <th>ZYX-K25</th>\n",
       "      <th>ZYX-K265</th>\n",
       "      <th>ZYX-K272</th>\n",
       "      <th>ZYX-K279</th>\n",
       "      <th>ZYX-K533</th>\n",
       "      <th>ZZZ3-K117</th>\n",
       "    </tr>\n",
       "  </thead>\n",
       "  <tbody>\n",
       "    <tr>\n",
       "      <th>S001</th>\n",
       "      <td>Endometrioid</td>\n",
       "      <td>NaN</td>\n",
       "      <td>1.080</td>\n",
       "      <td>NaN</td>\n",
       "      <td>NaN</td>\n",
       "      <td>NaN</td>\n",
       "      <td>NaN</td>\n",
       "      <td>NaN</td>\n",
       "      <td>NaN</td>\n",
       "      <td>0.461</td>\n",
       "      <td>...</td>\n",
       "      <td>NaN</td>\n",
       "      <td>NaN</td>\n",
       "      <td>NaN</td>\n",
       "      <td>NaN</td>\n",
       "      <td>NaN</td>\n",
       "      <td>NaN</td>\n",
       "      <td>NaN</td>\n",
       "      <td>NaN</td>\n",
       "      <td>NaN</td>\n",
       "      <td>NaN</td>\n",
       "    </tr>\n",
       "    <tr>\n",
       "      <th>S002</th>\n",
       "      <td>Endometrioid</td>\n",
       "      <td>NaN</td>\n",
       "      <td>0.477</td>\n",
       "      <td>NaN</td>\n",
       "      <td>NaN</td>\n",
       "      <td>NaN</td>\n",
       "      <td>NaN</td>\n",
       "      <td>NaN</td>\n",
       "      <td>NaN</td>\n",
       "      <td>1.770</td>\n",
       "      <td>...</td>\n",
       "      <td>-0.104</td>\n",
       "      <td>-0.80300</td>\n",
       "      <td>NaN</td>\n",
       "      <td>-0.988</td>\n",
       "      <td>-0.343</td>\n",
       "      <td>-0.307</td>\n",
       "      <td>NaN</td>\n",
       "      <td>-0.0955</td>\n",
       "      <td>NaN</td>\n",
       "      <td>NaN</td>\n",
       "    </tr>\n",
       "    <tr>\n",
       "      <th>S003</th>\n",
       "      <td>Endometrioid</td>\n",
       "      <td>NaN</td>\n",
       "      <td>NaN</td>\n",
       "      <td>NaN</td>\n",
       "      <td>NaN</td>\n",
       "      <td>NaN</td>\n",
       "      <td>NaN</td>\n",
       "      <td>NaN</td>\n",
       "      <td>NaN</td>\n",
       "      <td>-0.815</td>\n",
       "      <td>...</td>\n",
       "      <td>NaN</td>\n",
       "      <td>NaN</td>\n",
       "      <td>NaN</td>\n",
       "      <td>-0.459</td>\n",
       "      <td>-1.170</td>\n",
       "      <td>NaN</td>\n",
       "      <td>NaN</td>\n",
       "      <td>-0.7050</td>\n",
       "      <td>0.089</td>\n",
       "      <td>NaN</td>\n",
       "    </tr>\n",
       "    <tr>\n",
       "      <th>S004</th>\n",
       "      <td>NaN</td>\n",
       "      <td>NaN</td>\n",
       "      <td>3.340</td>\n",
       "      <td>NaN</td>\n",
       "      <td>NaN</td>\n",
       "      <td>1.9155</td>\n",
       "      <td>0.566</td>\n",
       "      <td>NaN</td>\n",
       "      <td>NaN</td>\n",
       "      <td>NaN</td>\n",
       "      <td>...</td>\n",
       "      <td>NaN</td>\n",
       "      <td>-0.63600</td>\n",
       "      <td>NaN</td>\n",
       "      <td>0.223</td>\n",
       "      <td>-0.232</td>\n",
       "      <td>NaN</td>\n",
       "      <td>0.751</td>\n",
       "      <td>NaN</td>\n",
       "      <td>NaN</td>\n",
       "      <td>NaN</td>\n",
       "    </tr>\n",
       "    <tr>\n",
       "      <th>S005</th>\n",
       "      <td>Endometrioid</td>\n",
       "      <td>NaN</td>\n",
       "      <td>-0.608</td>\n",
       "      <td>NaN</td>\n",
       "      <td>NaN</td>\n",
       "      <td>-0.9190</td>\n",
       "      <td>NaN</td>\n",
       "      <td>NaN</td>\n",
       "      <td>NaN</td>\n",
       "      <td>NaN</td>\n",
       "      <td>...</td>\n",
       "      <td>-0.457</td>\n",
       "      <td>-0.00175</td>\n",
       "      <td>-0.33</td>\n",
       "      <td>NaN</td>\n",
       "      <td>-0.537</td>\n",
       "      <td>NaN</td>\n",
       "      <td>NaN</td>\n",
       "      <td>-0.3700</td>\n",
       "      <td>NaN</td>\n",
       "      <td>NaN</td>\n",
       "    </tr>\n",
       "  </tbody>\n",
       "</table>\n",
       "<p>5 rows × 10863 columns</p>\n",
       "</div>"
      ],
      "text/plain": [
       "idx  Histologic_type  A2M-K1168  A2M-K1176  A2M-K135  A2M-K145  A2M-K516  \\\n",
       "S001    Endometrioid        NaN      1.080       NaN       NaN       NaN   \n",
       "S002    Endometrioid        NaN      0.477       NaN       NaN       NaN   \n",
       "S003    Endometrioid        NaN        NaN       NaN       NaN       NaN   \n",
       "S004             NaN        NaN      3.340       NaN       NaN    1.9155   \n",
       "S005    Endometrioid        NaN     -0.608       NaN       NaN   -0.9190   \n",
       "\n",
       "idx   A2M-K664  A2M-K682  AACS-K391  AAGAB-K290    ...      ZSCAN31-K215  \\\n",
       "S001       NaN       NaN        NaN       0.461    ...               NaN   \n",
       "S002       NaN       NaN        NaN       1.770    ...            -0.104   \n",
       "S003       NaN       NaN        NaN      -0.815    ...               NaN   \n",
       "S004     0.566       NaN        NaN         NaN    ...               NaN   \n",
       "S005       NaN       NaN        NaN         NaN    ...            -0.457   \n",
       "\n",
       "idx   ZSCAN32-K659  ZW10-K634  ZYX-K24  ZYX-K25  ZYX-K265  ZYX-K272  ZYX-K279  \\\n",
       "S001           NaN        NaN      NaN      NaN       NaN       NaN       NaN   \n",
       "S002      -0.80300        NaN   -0.988   -0.343    -0.307       NaN   -0.0955   \n",
       "S003           NaN        NaN   -0.459   -1.170       NaN       NaN   -0.7050   \n",
       "S004      -0.63600        NaN    0.223   -0.232       NaN     0.751       NaN   \n",
       "S005      -0.00175      -0.33      NaN   -0.537       NaN       NaN   -0.3700   \n",
       "\n",
       "idx   ZYX-K533  ZZZ3-K117  \n",
       "S001       NaN        NaN  \n",
       "S002       NaN        NaN  \n",
       "S003     0.089        NaN  \n",
       "S004       NaN        NaN  \n",
       "S005       NaN        NaN  \n",
       "\n",
       "[5 rows x 10863 columns]"
      ]
     },
     "execution_count": 5,
     "metadata": {},
     "output_type": "execute_result"
    }
   ],
   "source": [
    "#Merge attribute with acetylation dataframe\n",
    "merged1 = en.compare_clinical(acetyl, clinical_attribute)\n",
    "merged1.head()"
   ]
  },
  {
   "cell_type": "code",
   "execution_count": 6,
   "metadata": {},
   "outputs": [
    {
     "data": {
      "text/html": [
       "<div>\n",
       "<style scoped>\n",
       "    .dataframe tbody tr th:only-of-type {\n",
       "        vertical-align: middle;\n",
       "    }\n",
       "\n",
       "    .dataframe tbody tr th {\n",
       "        vertical-align: top;\n",
       "    }\n",
       "\n",
       "    .dataframe thead th {\n",
       "        text-align: right;\n",
       "    }\n",
       "</style>\n",
       "<table border=\"1\" class=\"dataframe\">\n",
       "  <thead>\n",
       "    <tr style=\"text-align: right;\">\n",
       "      <th></th>\n",
       "      <th>Histologic_type</th>\n",
       "    </tr>\n",
       "    <tr>\n",
       "      <th>idx</th>\n",
       "      <th></th>\n",
       "    </tr>\n",
       "  </thead>\n",
       "  <tbody>\n",
       "    <tr>\n",
       "      <th>S001</th>\n",
       "      <td>Endometrioid</td>\n",
       "    </tr>\n",
       "    <tr>\n",
       "      <th>S002</th>\n",
       "      <td>Endometrioid</td>\n",
       "    </tr>\n",
       "    <tr>\n",
       "      <th>S003</th>\n",
       "      <td>Endometrioid</td>\n",
       "    </tr>\n",
       "    <tr>\n",
       "      <th>S005</th>\n",
       "      <td>Endometrioid</td>\n",
       "    </tr>\n",
       "    <tr>\n",
       "      <th>S006</th>\n",
       "      <td>Serous</td>\n",
       "    </tr>\n",
       "    <tr>\n",
       "      <th>S007</th>\n",
       "      <td>Endometrioid</td>\n",
       "    </tr>\n",
       "    <tr>\n",
       "      <th>S008</th>\n",
       "      <td>Endometrioid</td>\n",
       "    </tr>\n",
       "    <tr>\n",
       "      <th>S009</th>\n",
       "      <td>Serous</td>\n",
       "    </tr>\n",
       "    <tr>\n",
       "      <th>S010</th>\n",
       "      <td>Endometrioid</td>\n",
       "    </tr>\n",
       "    <tr>\n",
       "      <th>S011</th>\n",
       "      <td>Endometrioid</td>\n",
       "    </tr>\n",
       "    <tr>\n",
       "      <th>S012</th>\n",
       "      <td>Endometrioid</td>\n",
       "    </tr>\n",
       "    <tr>\n",
       "      <th>S014</th>\n",
       "      <td>Endometrioid</td>\n",
       "    </tr>\n",
       "    <tr>\n",
       "      <th>S016</th>\n",
       "      <td>Serous</td>\n",
       "    </tr>\n",
       "    <tr>\n",
       "      <th>S017</th>\n",
       "      <td>Endometrioid</td>\n",
       "    </tr>\n",
       "    <tr>\n",
       "      <th>S018</th>\n",
       "      <td>Endometrioid</td>\n",
       "    </tr>\n",
       "    <tr>\n",
       "      <th>S019</th>\n",
       "      <td>Endometrioid</td>\n",
       "    </tr>\n",
       "    <tr>\n",
       "      <th>S020</th>\n",
       "      <td>Endometrioid</td>\n",
       "    </tr>\n",
       "    <tr>\n",
       "      <th>S021</th>\n",
       "      <td>Endometrioid</td>\n",
       "    </tr>\n",
       "    <tr>\n",
       "      <th>S022</th>\n",
       "      <td>Endometrioid</td>\n",
       "    </tr>\n",
       "    <tr>\n",
       "      <th>S023</th>\n",
       "      <td>Endometrioid</td>\n",
       "    </tr>\n",
       "    <tr>\n",
       "      <th>S024</th>\n",
       "      <td>Endometrioid</td>\n",
       "    </tr>\n",
       "    <tr>\n",
       "      <th>S025</th>\n",
       "      <td>Endometrioid</td>\n",
       "    </tr>\n",
       "    <tr>\n",
       "      <th>S026</th>\n",
       "      <td>Endometrioid</td>\n",
       "    </tr>\n",
       "    <tr>\n",
       "      <th>S027</th>\n",
       "      <td>Endometrioid</td>\n",
       "    </tr>\n",
       "    <tr>\n",
       "      <th>S028</th>\n",
       "      <td>Endometrioid</td>\n",
       "    </tr>\n",
       "    <tr>\n",
       "      <th>S029</th>\n",
       "      <td>Endometrioid</td>\n",
       "    </tr>\n",
       "    <tr>\n",
       "      <th>S030</th>\n",
       "      <td>Endometrioid</td>\n",
       "    </tr>\n",
       "    <tr>\n",
       "      <th>S031</th>\n",
       "      <td>Endometrioid</td>\n",
       "    </tr>\n",
       "    <tr>\n",
       "      <th>S032</th>\n",
       "      <td>Endometrioid</td>\n",
       "    </tr>\n",
       "    <tr>\n",
       "      <th>S033</th>\n",
       "      <td>Endometrioid</td>\n",
       "    </tr>\n",
       "    <tr>\n",
       "      <th>...</th>\n",
       "      <td>...</td>\n",
       "    </tr>\n",
       "    <tr>\n",
       "      <th>S124</th>\n",
       "      <td>NaN</td>\n",
       "    </tr>\n",
       "    <tr>\n",
       "      <th>S125</th>\n",
       "      <td>NaN</td>\n",
       "    </tr>\n",
       "    <tr>\n",
       "      <th>S126</th>\n",
       "      <td>NaN</td>\n",
       "    </tr>\n",
       "    <tr>\n",
       "      <th>S127</th>\n",
       "      <td>NaN</td>\n",
       "    </tr>\n",
       "    <tr>\n",
       "      <th>S128</th>\n",
       "      <td>NaN</td>\n",
       "    </tr>\n",
       "    <tr>\n",
       "      <th>S129</th>\n",
       "      <td>NaN</td>\n",
       "    </tr>\n",
       "    <tr>\n",
       "      <th>S130</th>\n",
       "      <td>NaN</td>\n",
       "    </tr>\n",
       "    <tr>\n",
       "      <th>S131</th>\n",
       "      <td>NaN</td>\n",
       "    </tr>\n",
       "    <tr>\n",
       "      <th>S132</th>\n",
       "      <td>NaN</td>\n",
       "    </tr>\n",
       "    <tr>\n",
       "      <th>S133</th>\n",
       "      <td>NaN</td>\n",
       "    </tr>\n",
       "    <tr>\n",
       "      <th>S134</th>\n",
       "      <td>NaN</td>\n",
       "    </tr>\n",
       "    <tr>\n",
       "      <th>S135</th>\n",
       "      <td>NaN</td>\n",
       "    </tr>\n",
       "    <tr>\n",
       "      <th>S136</th>\n",
       "      <td>NaN</td>\n",
       "    </tr>\n",
       "    <tr>\n",
       "      <th>S137</th>\n",
       "      <td>NaN</td>\n",
       "    </tr>\n",
       "    <tr>\n",
       "      <th>S138</th>\n",
       "      <td>NaN</td>\n",
       "    </tr>\n",
       "    <tr>\n",
       "      <th>S139</th>\n",
       "      <td>NaN</td>\n",
       "    </tr>\n",
       "    <tr>\n",
       "      <th>S140</th>\n",
       "      <td>NaN</td>\n",
       "    </tr>\n",
       "    <tr>\n",
       "      <th>S141</th>\n",
       "      <td>NaN</td>\n",
       "    </tr>\n",
       "    <tr>\n",
       "      <th>S142</th>\n",
       "      <td>NaN</td>\n",
       "    </tr>\n",
       "    <tr>\n",
       "      <th>S143</th>\n",
       "      <td>NaN</td>\n",
       "    </tr>\n",
       "    <tr>\n",
       "      <th>S144</th>\n",
       "      <td>NaN</td>\n",
       "    </tr>\n",
       "    <tr>\n",
       "      <th>S145</th>\n",
       "      <td>NaN</td>\n",
       "    </tr>\n",
       "    <tr>\n",
       "      <th>S146</th>\n",
       "      <td>NaN</td>\n",
       "    </tr>\n",
       "    <tr>\n",
       "      <th>S147</th>\n",
       "      <td>NaN</td>\n",
       "    </tr>\n",
       "    <tr>\n",
       "      <th>S148</th>\n",
       "      <td>NaN</td>\n",
       "    </tr>\n",
       "    <tr>\n",
       "      <th>S149</th>\n",
       "      <td>NaN</td>\n",
       "    </tr>\n",
       "    <tr>\n",
       "      <th>S150</th>\n",
       "      <td>NaN</td>\n",
       "    </tr>\n",
       "    <tr>\n",
       "      <th>S151</th>\n",
       "      <td>NaN</td>\n",
       "    </tr>\n",
       "    <tr>\n",
       "      <th>S152</th>\n",
       "      <td>NaN</td>\n",
       "    </tr>\n",
       "    <tr>\n",
       "      <th>S153</th>\n",
       "      <td>NaN</td>\n",
       "    </tr>\n",
       "  </tbody>\n",
       "</table>\n",
       "<p>144 rows × 1 columns</p>\n",
       "</div>"
      ],
      "text/plain": [
       "     Histologic_type\n",
       "idx                 \n",
       "S001    Endometrioid\n",
       "S002    Endometrioid\n",
       "S003    Endometrioid\n",
       "S005    Endometrioid\n",
       "S006          Serous\n",
       "S007    Endometrioid\n",
       "S008    Endometrioid\n",
       "S009          Serous\n",
       "S010    Endometrioid\n",
       "S011    Endometrioid\n",
       "S012    Endometrioid\n",
       "S014    Endometrioid\n",
       "S016          Serous\n",
       "S017    Endometrioid\n",
       "S018    Endometrioid\n",
       "S019    Endometrioid\n",
       "S020    Endometrioid\n",
       "S021    Endometrioid\n",
       "S022    Endometrioid\n",
       "S023    Endometrioid\n",
       "S024    Endometrioid\n",
       "S025    Endometrioid\n",
       "S026    Endometrioid\n",
       "S027    Endometrioid\n",
       "S028    Endometrioid\n",
       "S029    Endometrioid\n",
       "S030    Endometrioid\n",
       "S031    Endometrioid\n",
       "S032    Endometrioid\n",
       "S033    Endometrioid\n",
       "...              ...\n",
       "S124             NaN\n",
       "S125             NaN\n",
       "S126             NaN\n",
       "S127             NaN\n",
       "S128             NaN\n",
       "S129             NaN\n",
       "S130             NaN\n",
       "S131             NaN\n",
       "S132             NaN\n",
       "S133             NaN\n",
       "S134             NaN\n",
       "S135             NaN\n",
       "S136             NaN\n",
       "S137             NaN\n",
       "S138             NaN\n",
       "S139             NaN\n",
       "S140             NaN\n",
       "S141             NaN\n",
       "S142             NaN\n",
       "S143             NaN\n",
       "S144             NaN\n",
       "S145             NaN\n",
       "S146             NaN\n",
       "S147             NaN\n",
       "S148             NaN\n",
       "S149             NaN\n",
       "S150             NaN\n",
       "S151             NaN\n",
       "S152             NaN\n",
       "S153             NaN\n",
       "\n",
       "[144 rows x 1 columns]"
      ]
     },
     "execution_count": 6,
     "metadata": {},
     "output_type": "execute_result"
    }
   ],
   "source": [
    "#Show possible variations of Histologic_type\n",
    "clinical[[clinical_attribute]]"
   ]
  },
  {
   "cell_type": "markdown",
   "metadata": {},
   "source": [
    "# Step 3: Make Different Dataframes and Establish Threshold"
   ]
  },
  {
   "cell_type": "markdown",
   "metadata": {},
   "source": [
    "In this step, we will make two different dataframes for \"Endometrioid\" and \"Serous\" cancer types, as well as fill the NaN columns with \"Normal,\" as they are non-tumor."
   ]
  },
  {
   "cell_type": "code",
   "execution_count": 7,
   "metadata": {},
   "outputs": [],
   "source": [
    "#Make dataframes with only endometrioid and only serous data in order to compare \n",
    "endom = merged1.loc[merged1[clinical_attribute] == \"Endometrioid\"]\n",
    "serous = merged1.loc[merged1[clinical_attribute] == \"Serous\"]\n",
    "#Here is where we set the NaN values to \"Normal\"\n",
    "merged1[[clinical_attribute]] = merged1[[clinical_attribute]].fillna(value=\"Non_Tumor\")"
   ]
  },
  {
   "cell_type": "markdown",
   "metadata": {},
   "source": [
    "Now that we have our different dataframes, we want to make sure that the amount of data we are using for each site is significant. Since there are fewer patients with \"serous\" tumors than with \"endometrioid,\" we will check to make sure that we have at least five values for each acetylation site that we are comparing that have a measurement of intensity for serous patients."
   ]
  },
  {
   "cell_type": "code",
   "execution_count": 8,
   "metadata": {},
   "outputs": [
    {
     "name": "stdout",
     "output_type": "stream",
     "text": [
      "Number of significant sites:  3936\n",
      "Threshold:  1.2703252032520325e-05\n"
     ]
    }
   ],
   "source": [
    "numSigSites = 0 #Change to number of sites with enough data\n",
    "for num in range(1,len(merged1.columns)): #Don't use merged 1, use serous\n",
    "    site = merged1.columns[num]\n",
    "    oneSite = merged1[[clinical_attribute, site]]\n",
    "    needNum = 0 #Number that we need to reach of values so that we can call the values significant\n",
    "    for index, row in oneSite.iterrows(): #Here you can count na and subtract length, or you can count isalpha instead\n",
    "        if row[clinical_attribute] == 'Serous' and not math.isnan(row[site]):\n",
    "            needNum += 1\n",
    "            if needNum == 5: #If we have more than 5 values that aren't NaN, we will use this column as significant.\n",
    "                numSigSites += 1\n",
    "                break\n",
    "print(\"Number of significant sites: \", numSigSites)\n",
    "threshold = .05 / numSigSites\n",
    "print(\"Threshold: \", threshold) #Multiple hypothesis adjusted threshold."
   ]
  },
  {
   "cell_type": "markdown",
   "metadata": {},
   "source": [
    "# Step 4: Compare Endometrioid and Serous Values"
   ]
  },
  {
   "cell_type": "markdown",
   "metadata": {},
   "source": [
    "Now that we have a calculated threshold value, we will loop through the data and compare endometrioid versus serous data for each acetylation site. If we find a site that is significantly different, we will add it to a list."
   ]
  },
  {
   "cell_type": "code",
   "execution_count": 9,
   "metadata": {},
   "outputs": [
    {
     "name": "stdout",
     "output_type": "stream",
     "text": [
      "8\n"
     ]
    }
   ],
   "source": [
    "significantTests = []\n",
    "significantSites = []\n",
    "sigSiteCount = 0\n",
    "for num in range(1,len(merged1.columns)):\n",
    "    site = merged1.columns[num]\n",
    "    #oneSite = merged1[[clinical_attribute, site]]\n",
    "    ttestRes = scipy.stats.ttest_ind(endom[site], serous[site])\n",
    "    #Catch this as a tuple, and then find the second value. Don't have the magic number 1.\n",
    "    if (ttestRes[1] <= threshold): #Check if there is a significant enough difference between data points\n",
    "        sigSiteCount += 1\n",
    "        significantTests.append(ttestRes)\n",
    "        significantSites.append(site)\n",
    "print(sigSiteCount)"
   ]
  },
  {
   "cell_type": "code",
   "execution_count": 10,
   "metadata": {},
   "outputs": [
    {
     "name": "stdout",
     "output_type": "stream",
     "text": [
      "['FOXA2-K280', 'FUS-K332', 'JADE3-K32', 'MCRS1-K136', 'MEAF6-K69', 'NCL-K398', 'SUPT16H-K674', 'TBL1XR1-K102']\n"
     ]
    }
   ],
   "source": [
    "print(significantSites)"
   ]
  },
  {
   "cell_type": "markdown",
   "metadata": {},
   "source": [
    "Now that we have a list of eight acetylation sites that differ between endometrioid and serous intensities, we will graph them using a boxplot and a stripplot in order to visually see the difference, as well as compare it with normal cells."
   ]
  },
  {
   "cell_type": "code",
   "execution_count": 11,
   "metadata": {},
   "outputs": [
    {
     "name": "stdout",
     "output_type": "stream",
     "text": [
      "Ttest_indResult(statistic=5.991702127182772, pvalue=3.89570439448459e-08)\n"
     ]
    },
    {
     "data": {
      "text/plain": [
       "<matplotlib.axes._subplots.AxesSubplot at 0x1a1e24d4a8>"
      ]
     },
     "execution_count": 11,
     "metadata": {},
     "output_type": "execute_result"
    },
    {
     "data": {
      "image/png": "[encoded data removed]",
      "text/plain": [
       "<Figure size 432x288 with 1 Axes>"
      ]
     },
     "metadata": {
      "needs_background": "light"
     },
     "output_type": "display_data"
    }
   ],
   "source": [
    "#Add Step 5 for graphing, order them differently. Do Non_tumor, endometrioid and then serous.\n",
    "graphingSite = 'FOXA2-K280'\n",
    "print(scipy.stats.ttest_ind(endom[graphingSite], serous[graphingSite]))\n",
    "sns.boxplot(x=clinical_attribute, y=graphingSite, data = merged1, showfliers = False)\n",
    "sns.stripplot(x=clinical_attribute, y=graphingSite, data = merged1, color = '.3') #Color '.3' makes the dots black."
   ]
  },
  {
   "cell_type": "code",
   "execution_count": 12,
   "metadata": {},
   "outputs": [
    {
     "name": "stdout",
     "output_type": "stream",
     "text": [
      "Ttest_indResult(statistic=-4.69713782197463, pvalue=9.090116393624886e-06)\n"
     ]
    },
    {
     "data": {
      "text/plain": [
       "<matplotlib.axes._subplots.AxesSubplot at 0x1a1e2ccbe0>"
      ]
     },
     "execution_count": 12,
     "metadata": {},
     "output_type": "execute_result"
    },
    {
     "data": {
      "image/png": "[encoded data removed]",
      "text/plain": [
       "<Figure size 432x288 with 1 Axes>"
      ]
     },
     "metadata": {
      "needs_background": "light"
     },
     "output_type": "display_data"
    }
   ],
   "source": [
    "graphingSite = 'FUS-K332'\n",
    "print(scipy.stats.ttest_ind(endom[graphingSite], serous[graphingSite]))\n",
    "sns.boxplot(x=clinical_attribute, y=graphingSite, data = merged1, showfliers = False)\n",
    "sns.stripplot(x=clinical_attribute, y=graphingSite, data = merged1, color = '.3')"
   ]
  },
  {
   "cell_type": "code",
   "execution_count": 13,
   "metadata": {},
   "outputs": [
    {
     "name": "stdout",
     "output_type": "stream",
     "text": [
      "Ttest_indResult(statistic=-5.264353282778082, pvalue=9.009261990390327e-07)\n"
     ]
    },
    {
     "data": {
      "text/plain": [
       "<matplotlib.axes._subplots.AxesSubplot at 0x1a2da55400>"
      ]
     },
     "execution_count": 13,
     "metadata": {},
     "output_type": "execute_result"
    },
    {
     "data": {
      "image/png": "[encoded data removed]",
      "text/plain": [
       "<Figure size 432x288 with 1 Axes>"
      ]
     },
     "metadata": {
      "needs_background": "light"
     },
     "output_type": "display_data"
    }
   ],
   "source": [
    "graphingSite = 'JADE3-K32'\n",
    "print(scipy.stats.ttest_ind(endom[graphingSite], serous[graphingSite]))\n",
    "sns.boxplot(x=clinical_attribute, y=graphingSite, data = merged1, showfliers = False)\n",
    "sns.stripplot(x=clinical_attribute, y=graphingSite, data = merged1, color = '.3')"
   ]
  },
  {
   "cell_type": "code",
   "execution_count": 14,
   "metadata": {},
   "outputs": [
    {
     "name": "stdout",
     "output_type": "stream",
     "text": [
      "Ttest_indResult(statistic=-4.905999919645725, pvalue=3.94259188205917e-06)\n"
     ]
    },
    {
     "data": {
      "text/plain": [
       "<matplotlib.axes._subplots.AxesSubplot at 0x1a296c87f0>"
      ]
     },
     "execution_count": 14,
     "metadata": {},
     "output_type": "execute_result"
    },
    {
     "data": {
      "image/png": "[encoded data removed]",
      "text/plain": [
       "<Figure size 432x288 with 1 Axes>"
      ]
     },
     "metadata": {
      "needs_background": "light"
     },
     "output_type": "display_data"
    }
   ],
   "source": [
    "graphingSite = 'MCRS1-K136'\n",
    "print(scipy.stats.ttest_ind(endom[graphingSite], serous[graphingSite]))\n",
    "sns.boxplot(x=clinical_attribute, y=graphingSite, data = merged1, showfliers = False)\n",
    "sns.stripplot(x=clinical_attribute, y=graphingSite, data = merged1, color = '.3')"
   ]
  },
  {
   "cell_type": "code",
   "execution_count": 15,
   "metadata": {},
   "outputs": [
    {
     "name": "stdout",
     "output_type": "stream",
     "text": [
      "Ttest_indResult(statistic=-5.3886215048866974, pvalue=5.336611006090782e-07)\n"
     ]
    },
    {
     "data": {
      "text/plain": [
       "<matplotlib.axes._subplots.AxesSubplot at 0x1a38808080>"
      ]
     },
     "execution_count": 15,
     "metadata": {},
     "output_type": "execute_result"
    },
    {
     "data": {
      "image/png": "[encoded data removed]",
      "text/plain": [
       "<Figure size 432x288 with 1 Axes>"
      ]
     },
     "metadata": {
      "needs_background": "light"
     },
     "output_type": "display_data"
    }
   ],
   "source": [
    "graphingSite = 'MEAF6-K69'\n",
    "print(scipy.stats.ttest_ind(endom[graphingSite], serous[graphingSite]))\n",
    "sns.boxplot(x=clinical_attribute, y=graphingSite, data = merged1, showfliers = False)\n",
    "sns.stripplot(x=clinical_attribute, y=graphingSite, data = merged1, color = '.3')"
   ]
  },
  {
   "cell_type": "code",
   "execution_count": 16,
   "metadata": {},
   "outputs": [
    {
     "name": "stdout",
     "output_type": "stream",
     "text": [
      "Ttest_indResult(statistic=-5.517844309062241, pvalue=3.0773084577689524e-07)\n"
     ]
    },
    {
     "data": {
      "text/plain": [
       "<matplotlib.axes._subplots.AxesSubplot at 0x1a3916a860>"
      ]
     },
     "execution_count": 16,
     "metadata": {},
     "output_type": "execute_result"
    },
    {
     "data": {
      "image/png": "[encoded data removed]",
      "text/plain": [
       "<Figure size 432x288 with 1 Axes>"
      ]
     },
     "metadata": {
      "needs_background": "light"
     },
     "output_type": "display_data"
    }
   ],
   "source": [
    "graphingSite = 'NCL-K398'\n",
    "print(scipy.stats.ttest_ind(endom[graphingSite], serous[graphingSite]))\n",
    "sns.boxplot(x=clinical_attribute, y=graphingSite, data = merged1, showfliers = False)\n",
    "sns.stripplot(x=clinical_attribute, y=graphingSite, data = merged1, color = '.3')"
   ]
  },
  {
   "cell_type": "code",
   "execution_count": 17,
   "metadata": {},
   "outputs": [
    {
     "name": "stdout",
     "output_type": "stream",
     "text": [
      "Ttest_indResult(statistic=-4.690071539871116, pvalue=9.34749100983442e-06)\n"
     ]
    },
    {
     "data": {
      "text/plain": [
       "<matplotlib.axes._subplots.AxesSubplot at 0x1a38240b70>"
      ]
     },
     "execution_count": 17,
     "metadata": {},
     "output_type": "execute_result"
    },
    {
     "data": {
      "image/png": "[encoded data removed]",
      "text/plain": [
       "<Figure size 432x288 with 1 Axes>"
      ]
     },
     "metadata": {
      "needs_background": "light"
     },
     "output_type": "display_data"
    }
   ],
   "source": [
    "graphingSite = 'SUPT16H-K674'\n",
    "print(scipy.stats.ttest_ind(endom[graphingSite], serous[graphingSite]))\n",
    "sns.boxplot(x=clinical_attribute, y=graphingSite, data = merged1, showfliers = False)\n",
    "sns.stripplot(x=clinical_attribute, y=graphingSite, data = merged1, color = '.3')"
   ]
  },
  {
   "cell_type": "code",
   "execution_count": 18,
   "metadata": {},
   "outputs": [
    {
     "name": "stdout",
     "output_type": "stream",
     "text": [
      "Ttest_indResult(statistic=-6.058405376720225, pvalue=2.8961545616585784e-08)\n"
     ]
    },
    {
     "data": {
      "text/plain": [
       "<matplotlib.axes._subplots.AxesSubplot at 0x1a39461198>"
      ]
     },
     "execution_count": 18,
     "metadata": {},
     "output_type": "execute_result"
    },
    {
     "data": {
      "image/png": "[encoded data removed]",
      "text/plain": [
       "<Figure size 432x288 with 1 Axes>"
      ]
     },
     "metadata": {
      "needs_background": "light"
     },
     "output_type": "display_data"
    }
   ],
   "source": [
    "graphingSite = 'TBL1XR1-K102'\n",
    "print(scipy.stats.ttest_ind(endom[graphingSite], serous[graphingSite]))\n",
    "sns.boxplot(x=clinical_attribute, y=graphingSite, data = merged1, showfliers = False)\n",
    "sns.stripplot(x=clinical_attribute, y=graphingSite, data = merged1, color = '.3')"
   ]
  },
  {
   "cell_type": "code",
   "execution_count": null,
   "metadata": {},
   "outputs": [],
   "source": []
  }
 ],
 "metadata": {
  "kernelspec": {
   "display_name": "Python 3",
   "language": "python",
   "name": "python3"
  },
  "language_info": {
   "codemirror_mode": {
    "name": "ipython",
    "version": 3
   },
   "file_extension": ".py",
   "mimetype": "text/x-python",
   "name": "python",
   "nbconvert_exporter": "python",
   "pygments_lexer": "ipython3",
   "version": "3.7.1"
  }
 },
 "nbformat": 4,
 "nbformat_minor": 2
}
