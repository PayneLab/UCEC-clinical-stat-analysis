{
 "cells": [
  {
   "cell_type": "markdown",
   "metadata": {},
   "source": [
    "# Comparing Tumor and Non-Tumor Acetylation Sites"
   ]
  },
  {
   "cell_type": "markdown",
   "metadata": {},
   "source": [
    "# Step 1: Import necessary data and tools"
   ]
  },
  {
   "cell_type": "markdown",
   "metadata": {},
   "source": [
    "Here we import the data we will be working with as well as the tools that we need to process it."
   ]
  },
  {
   "cell_type": "code",
   "execution_count": 1,
   "metadata": {},
   "outputs": [
    {
     "name": "stdout",
     "output_type": "stream",
     "text": [
      "Welcome to the CPTAC data service package. This import contains\n",
      "information about the package. In order to access a specific data set,\n",
      "import a CPTAC subfolder by either 'import CPTAC.DataName' or 'from\n",
      "CPTAC import DataName'.\n",
      "Loading Endometrial CPTAC data:\n",
      "Loading Dictionary...\n",
      "Loading Clinical Data...\n",
      "Loading Acetylation Proteomics Data...\n",
      "Loading Proteomics Data...\n",
      "Loading Transcriptomics Data...\n",
      "Loading CNA Data...\n",
      "Loading Phosphoproteomics Data...\n",
      "Loading Somatic Mutation Data...\n",
      "\n",
      " ******PLEASE READ******\n",
      "WARNING: This data is under a publication embargo until July 1, 2019.\n",
      "CPTAC is a community resource project and data are made available\n",
      "rapidly after generation for community research use. The embargo\n",
      "allows exploring and utilizing the data, but the data may not be in a\n",
      "publication until July 1, 2019. Please see\n",
      "https://proteomics.cancer.gov/data-portal/about/data-use-agreement or\n",
      "enter embargo() to open the webpage for more details.\n"
     ]
    }
   ],
   "source": [
    "import pandas as pd\n",
    "import numpy as np\n",
    "import scipy.stats\n",
    "import statsmodels.stats.multitest\n",
    "import matplotlib.pyplot as plt\n",
    "import seaborn as sns\n",
    "import CPTAC.Endometrial as en\n",
    "import math"
   ]
  },
  {
   "cell_type": "code",
   "execution_count": 2,
   "metadata": {},
   "outputs": [],
   "source": [
    "#Get acetylation data\n",
    "acetyl = en.get_acetylproteomics()"
   ]
  },
  {
   "cell_type": "code",
   "execution_count": 3,
   "metadata": {},
   "outputs": [],
   "source": [
    "#Show a list of clinical attributes that can be tested with acetylation data\n",
    "list(en.get_clinical().columns)\n",
    "clinical = en.get_clinical()"
   ]
  },
  {
   "cell_type": "markdown",
   "metadata": {},
   "source": [
    "For this use case we want to compare tumor and non-tumor cells, and will therefore set the clinical attribute to \"Proteomics_Tumor_Normal.\""
   ]
  },
  {
   "cell_type": "code",
   "execution_count": 4,
   "metadata": {},
   "outputs": [],
   "source": [
    "clinical_attribute = \"Proteomics_Tumor_Normal\""
   ]
  },
  {
   "cell_type": "markdown",
   "metadata": {},
   "source": [
    "# Step 2: Make Tumor and Non-Tumor Dataframes"
   ]
  },
  {
   "cell_type": "markdown",
   "metadata": {},
   "source": [
    "In order to make our tumor and non-tumor dataframes, we first need to merged the acetylation data with our clinical attribute."
   ]
  },
  {
   "cell_type": "code",
   "execution_count": 5,
   "metadata": {},
   "outputs": [
    {
     "data": {
      "text/html": [
       "<div>\n",
       "<style scoped>\n",
       "    .dataframe tbody tr th:only-of-type {\n",
       "        vertical-align: middle;\n",
       "    }\n",
       "\n",
       "    .dataframe tbody tr th {\n",
       "        vertical-align: top;\n",
       "    }\n",
       "\n",
       "    .dataframe thead th {\n",
       "        text-align: right;\n",
       "    }\n",
       "</style>\n",
       "<table border=\"1\" class=\"dataframe\">\n",
       "  <thead>\n",
       "    <tr style=\"text-align: right;\">\n",
       "      <th>idx</th>\n",
       "      <th>Proteomics_Tumor_Normal</th>\n",
       "      <th>A2M-K1168</th>\n",
       "      <th>A2M-K1176</th>\n",
       "      <th>A2M-K135</th>\n",
       "      <th>A2M-K145</th>\n",
       "      <th>A2M-K516</th>\n",
       "      <th>A2M-K664</th>\n",
       "      <th>A2M-K682</th>\n",
       "      <th>AACS-K391</th>\n",
       "      <th>AAGAB-K290</th>\n",
       "      <th>...</th>\n",
       "      <th>ZSCAN31-K215</th>\n",
       "      <th>ZSCAN32-K659</th>\n",
       "      <th>ZW10-K634</th>\n",
       "      <th>ZYX-K24</th>\n",
       "      <th>ZYX-K25</th>\n",
       "      <th>ZYX-K265</th>\n",
       "      <th>ZYX-K272</th>\n",
       "      <th>ZYX-K279</th>\n",
       "      <th>ZYX-K533</th>\n",
       "      <th>ZZZ3-K117</th>\n",
       "    </tr>\n",
       "  </thead>\n",
       "  <tbody>\n",
       "    <tr>\n",
       "      <th>S001</th>\n",
       "      <td>Tumor</td>\n",
       "      <td>NaN</td>\n",
       "      <td>1.080</td>\n",
       "      <td>NaN</td>\n",
       "      <td>NaN</td>\n",
       "      <td>NaN</td>\n",
       "      <td>NaN</td>\n",
       "      <td>NaN</td>\n",
       "      <td>NaN</td>\n",
       "      <td>0.461</td>\n",
       "      <td>...</td>\n",
       "      <td>NaN</td>\n",
       "      <td>NaN</td>\n",
       "      <td>NaN</td>\n",
       "      <td>NaN</td>\n",
       "      <td>NaN</td>\n",
       "      <td>NaN</td>\n",
       "      <td>NaN</td>\n",
       "      <td>NaN</td>\n",
       "      <td>NaN</td>\n",
       "      <td>NaN</td>\n",
       "    </tr>\n",
       "    <tr>\n",
       "      <th>S002</th>\n",
       "      <td>Tumor</td>\n",
       "      <td>NaN</td>\n",
       "      <td>0.477</td>\n",
       "      <td>NaN</td>\n",
       "      <td>NaN</td>\n",
       "      <td>NaN</td>\n",
       "      <td>NaN</td>\n",
       "      <td>NaN</td>\n",
       "      <td>NaN</td>\n",
       "      <td>1.770</td>\n",
       "      <td>...</td>\n",
       "      <td>-0.104</td>\n",
       "      <td>-0.80300</td>\n",
       "      <td>NaN</td>\n",
       "      <td>-0.988</td>\n",
       "      <td>-0.343</td>\n",
       "      <td>-0.307</td>\n",
       "      <td>NaN</td>\n",
       "      <td>-0.0955</td>\n",
       "      <td>NaN</td>\n",
       "      <td>NaN</td>\n",
       "    </tr>\n",
       "    <tr>\n",
       "      <th>S003</th>\n",
       "      <td>Tumor</td>\n",
       "      <td>NaN</td>\n",
       "      <td>NaN</td>\n",
       "      <td>NaN</td>\n",
       "      <td>NaN</td>\n",
       "      <td>NaN</td>\n",
       "      <td>NaN</td>\n",
       "      <td>NaN</td>\n",
       "      <td>NaN</td>\n",
       "      <td>-0.815</td>\n",
       "      <td>...</td>\n",
       "      <td>NaN</td>\n",
       "      <td>NaN</td>\n",
       "      <td>NaN</td>\n",
       "      <td>-0.459</td>\n",
       "      <td>-1.170</td>\n",
       "      <td>NaN</td>\n",
       "      <td>NaN</td>\n",
       "      <td>-0.7050</td>\n",
       "      <td>0.089</td>\n",
       "      <td>NaN</td>\n",
       "    </tr>\n",
       "    <tr>\n",
       "      <th>S004</th>\n",
       "      <td>NaN</td>\n",
       "      <td>NaN</td>\n",
       "      <td>3.340</td>\n",
       "      <td>NaN</td>\n",
       "      <td>NaN</td>\n",
       "      <td>1.9155</td>\n",
       "      <td>0.566</td>\n",
       "      <td>NaN</td>\n",
       "      <td>NaN</td>\n",
       "      <td>NaN</td>\n",
       "      <td>...</td>\n",
       "      <td>NaN</td>\n",
       "      <td>-0.63600</td>\n",
       "      <td>NaN</td>\n",
       "      <td>0.223</td>\n",
       "      <td>-0.232</td>\n",
       "      <td>NaN</td>\n",
       "      <td>0.751</td>\n",
       "      <td>NaN</td>\n",
       "      <td>NaN</td>\n",
       "      <td>NaN</td>\n",
       "    </tr>\n",
       "    <tr>\n",
       "      <th>S005</th>\n",
       "      <td>Tumor</td>\n",
       "      <td>NaN</td>\n",
       "      <td>-0.608</td>\n",
       "      <td>NaN</td>\n",
       "      <td>NaN</td>\n",
       "      <td>-0.9190</td>\n",
       "      <td>NaN</td>\n",
       "      <td>NaN</td>\n",
       "      <td>NaN</td>\n",
       "      <td>NaN</td>\n",
       "      <td>...</td>\n",
       "      <td>-0.457</td>\n",
       "      <td>-0.00175</td>\n",
       "      <td>-0.33</td>\n",
       "      <td>NaN</td>\n",
       "      <td>-0.537</td>\n",
       "      <td>NaN</td>\n",
       "      <td>NaN</td>\n",
       "      <td>-0.3700</td>\n",
       "      <td>NaN</td>\n",
       "      <td>NaN</td>\n",
       "    </tr>\n",
       "  </tbody>\n",
       "</table>\n",
       "<p>5 rows × 10863 columns</p>\n",
       "</div>"
      ],
      "text/plain": [
       "idx  Proteomics_Tumor_Normal  A2M-K1168  A2M-K1176  A2M-K135  A2M-K145  \\\n",
       "S001                   Tumor        NaN      1.080       NaN       NaN   \n",
       "S002                   Tumor        NaN      0.477       NaN       NaN   \n",
       "S003                   Tumor        NaN        NaN       NaN       NaN   \n",
       "S004                     NaN        NaN      3.340       NaN       NaN   \n",
       "S005                   Tumor        NaN     -0.608       NaN       NaN   \n",
       "\n",
       "idx   A2M-K516  A2M-K664  A2M-K682  AACS-K391  AAGAB-K290    ...      \\\n",
       "S001       NaN       NaN       NaN        NaN       0.461    ...       \n",
       "S002       NaN       NaN       NaN        NaN       1.770    ...       \n",
       "S003       NaN       NaN       NaN        NaN      -0.815    ...       \n",
       "S004    1.9155     0.566       NaN        NaN         NaN    ...       \n",
       "S005   -0.9190       NaN       NaN        NaN         NaN    ...       \n",
       "\n",
       "idx   ZSCAN31-K215  ZSCAN32-K659  ZW10-K634  ZYX-K24  ZYX-K25  ZYX-K265  \\\n",
       "S001           NaN           NaN        NaN      NaN      NaN       NaN   \n",
       "S002        -0.104      -0.80300        NaN   -0.988   -0.343    -0.307   \n",
       "S003           NaN           NaN        NaN   -0.459   -1.170       NaN   \n",
       "S004           NaN      -0.63600        NaN    0.223   -0.232       NaN   \n",
       "S005        -0.457      -0.00175      -0.33      NaN   -0.537       NaN   \n",
       "\n",
       "idx   ZYX-K272  ZYX-K279  ZYX-K533  ZZZ3-K117  \n",
       "S001       NaN       NaN       NaN        NaN  \n",
       "S002       NaN   -0.0955       NaN        NaN  \n",
       "S003       NaN   -0.7050     0.089        NaN  \n",
       "S004     0.751       NaN       NaN        NaN  \n",
       "S005       NaN   -0.3700       NaN        NaN  \n",
       "\n",
       "[5 rows x 10863 columns]"
      ]
     },
     "execution_count": 5,
     "metadata": {},
     "output_type": "execute_result"
    }
   ],
   "source": [
    "#Merge attribute with acetylation dataframe\n",
    "merged1 = en.compare_clinical(acetyl, clinical_attribute)\n",
    "merged1.head()"
   ]
  },
  {
   "cell_type": "code",
   "execution_count": 6,
   "metadata": {},
   "outputs": [
    {
     "data": {
      "text/html": [
       "<div>\n",
       "<style scoped>\n",
       "    .dataframe tbody tr th:only-of-type {\n",
       "        vertical-align: middle;\n",
       "    }\n",
       "\n",
       "    .dataframe tbody tr th {\n",
       "        vertical-align: top;\n",
       "    }\n",
       "\n",
       "    .dataframe thead th {\n",
       "        text-align: right;\n",
       "    }\n",
       "</style>\n",
       "<table border=\"1\" class=\"dataframe\">\n",
       "  <thead>\n",
       "    <tr style=\"text-align: right;\">\n",
       "      <th></th>\n",
       "      <th>Proteomics_Tumor_Normal</th>\n",
       "    </tr>\n",
       "    <tr>\n",
       "      <th>idx</th>\n",
       "      <th></th>\n",
       "    </tr>\n",
       "  </thead>\n",
       "  <tbody>\n",
       "    <tr>\n",
       "      <th>S001</th>\n",
       "      <td>Tumor</td>\n",
       "    </tr>\n",
       "    <tr>\n",
       "      <th>S002</th>\n",
       "      <td>Tumor</td>\n",
       "    </tr>\n",
       "    <tr>\n",
       "      <th>S003</th>\n",
       "      <td>Tumor</td>\n",
       "    </tr>\n",
       "    <tr>\n",
       "      <th>S005</th>\n",
       "      <td>Tumor</td>\n",
       "    </tr>\n",
       "    <tr>\n",
       "      <th>S006</th>\n",
       "      <td>Tumor</td>\n",
       "    </tr>\n",
       "    <tr>\n",
       "      <th>S007</th>\n",
       "      <td>Tumor</td>\n",
       "    </tr>\n",
       "    <tr>\n",
       "      <th>S008</th>\n",
       "      <td>Tumor</td>\n",
       "    </tr>\n",
       "    <tr>\n",
       "      <th>S009</th>\n",
       "      <td>Tumor</td>\n",
       "    </tr>\n",
       "    <tr>\n",
       "      <th>S010</th>\n",
       "      <td>Tumor</td>\n",
       "    </tr>\n",
       "    <tr>\n",
       "      <th>S011</th>\n",
       "      <td>Tumor</td>\n",
       "    </tr>\n",
       "    <tr>\n",
       "      <th>S012</th>\n",
       "      <td>Tumor</td>\n",
       "    </tr>\n",
       "    <tr>\n",
       "      <th>S014</th>\n",
       "      <td>Tumor</td>\n",
       "    </tr>\n",
       "    <tr>\n",
       "      <th>S016</th>\n",
       "      <td>Tumor</td>\n",
       "    </tr>\n",
       "    <tr>\n",
       "      <th>S017</th>\n",
       "      <td>Tumor</td>\n",
       "    </tr>\n",
       "    <tr>\n",
       "      <th>S018</th>\n",
       "      <td>Tumor</td>\n",
       "    </tr>\n",
       "    <tr>\n",
       "      <th>S019</th>\n",
       "      <td>Tumor</td>\n",
       "    </tr>\n",
       "    <tr>\n",
       "      <th>S020</th>\n",
       "      <td>Tumor</td>\n",
       "    </tr>\n",
       "    <tr>\n",
       "      <th>S021</th>\n",
       "      <td>Tumor</td>\n",
       "    </tr>\n",
       "    <tr>\n",
       "      <th>S022</th>\n",
       "      <td>Tumor</td>\n",
       "    </tr>\n",
       "    <tr>\n",
       "      <th>S023</th>\n",
       "      <td>Tumor</td>\n",
       "    </tr>\n",
       "    <tr>\n",
       "      <th>S024</th>\n",
       "      <td>Tumor</td>\n",
       "    </tr>\n",
       "    <tr>\n",
       "      <th>S025</th>\n",
       "      <td>Tumor</td>\n",
       "    </tr>\n",
       "    <tr>\n",
       "      <th>S026</th>\n",
       "      <td>Tumor</td>\n",
       "    </tr>\n",
       "    <tr>\n",
       "      <th>S027</th>\n",
       "      <td>Tumor</td>\n",
       "    </tr>\n",
       "    <tr>\n",
       "      <th>S028</th>\n",
       "      <td>Tumor</td>\n",
       "    </tr>\n",
       "    <tr>\n",
       "      <th>S029</th>\n",
       "      <td>Tumor</td>\n",
       "    </tr>\n",
       "    <tr>\n",
       "      <th>S030</th>\n",
       "      <td>Tumor</td>\n",
       "    </tr>\n",
       "    <tr>\n",
       "      <th>S031</th>\n",
       "      <td>Tumor</td>\n",
       "    </tr>\n",
       "    <tr>\n",
       "      <th>S032</th>\n",
       "      <td>Tumor</td>\n",
       "    </tr>\n",
       "    <tr>\n",
       "      <th>S033</th>\n",
       "      <td>Tumor</td>\n",
       "    </tr>\n",
       "    <tr>\n",
       "      <th>...</th>\n",
       "      <td>...</td>\n",
       "    </tr>\n",
       "    <tr>\n",
       "      <th>S124</th>\n",
       "      <td>Adjacent_normal</td>\n",
       "    </tr>\n",
       "    <tr>\n",
       "      <th>S125</th>\n",
       "      <td>Adjacent_normal</td>\n",
       "    </tr>\n",
       "    <tr>\n",
       "      <th>S126</th>\n",
       "      <td>Adjacent_normal</td>\n",
       "    </tr>\n",
       "    <tr>\n",
       "      <th>S127</th>\n",
       "      <td>Adjacent_normal</td>\n",
       "    </tr>\n",
       "    <tr>\n",
       "      <th>S128</th>\n",
       "      <td>Adjacent_normal</td>\n",
       "    </tr>\n",
       "    <tr>\n",
       "      <th>S129</th>\n",
       "      <td>Adjacent_normal</td>\n",
       "    </tr>\n",
       "    <tr>\n",
       "      <th>S130</th>\n",
       "      <td>Myometrium_normal</td>\n",
       "    </tr>\n",
       "    <tr>\n",
       "      <th>S131</th>\n",
       "      <td>Myometrium_normal</td>\n",
       "    </tr>\n",
       "    <tr>\n",
       "      <th>S132</th>\n",
       "      <td>Myometrium_normal</td>\n",
       "    </tr>\n",
       "    <tr>\n",
       "      <th>S133</th>\n",
       "      <td>Myometrium_normal</td>\n",
       "    </tr>\n",
       "    <tr>\n",
       "      <th>S134</th>\n",
       "      <td>Myometrium_normal</td>\n",
       "    </tr>\n",
       "    <tr>\n",
       "      <th>S135</th>\n",
       "      <td>Myometrium_normal</td>\n",
       "    </tr>\n",
       "    <tr>\n",
       "      <th>S136</th>\n",
       "      <td>Enriched_normal</td>\n",
       "    </tr>\n",
       "    <tr>\n",
       "      <th>S137</th>\n",
       "      <td>Enriched_normal</td>\n",
       "    </tr>\n",
       "    <tr>\n",
       "      <th>S138</th>\n",
       "      <td>Enriched_normal</td>\n",
       "    </tr>\n",
       "    <tr>\n",
       "      <th>S139</th>\n",
       "      <td>Enriched_normal</td>\n",
       "    </tr>\n",
       "    <tr>\n",
       "      <th>S140</th>\n",
       "      <td>Enriched_normal</td>\n",
       "    </tr>\n",
       "    <tr>\n",
       "      <th>S141</th>\n",
       "      <td>Enriched_normal</td>\n",
       "    </tr>\n",
       "    <tr>\n",
       "      <th>S142</th>\n",
       "      <td>Enriched_normal</td>\n",
       "    </tr>\n",
       "    <tr>\n",
       "      <th>S143</th>\n",
       "      <td>Enriched_normal</td>\n",
       "    </tr>\n",
       "    <tr>\n",
       "      <th>S144</th>\n",
       "      <td>Enriched_normal</td>\n",
       "    </tr>\n",
       "    <tr>\n",
       "      <th>S145</th>\n",
       "      <td>Enriched_normal</td>\n",
       "    </tr>\n",
       "    <tr>\n",
       "      <th>S146</th>\n",
       "      <td>Enriched_normal</td>\n",
       "    </tr>\n",
       "    <tr>\n",
       "      <th>S147</th>\n",
       "      <td>Enriched_normal</td>\n",
       "    </tr>\n",
       "    <tr>\n",
       "      <th>S148</th>\n",
       "      <td>Enriched_normal</td>\n",
       "    </tr>\n",
       "    <tr>\n",
       "      <th>S149</th>\n",
       "      <td>Enriched_normal</td>\n",
       "    </tr>\n",
       "    <tr>\n",
       "      <th>S150</th>\n",
       "      <td>Enriched_normal</td>\n",
       "    </tr>\n",
       "    <tr>\n",
       "      <th>S151</th>\n",
       "      <td>Enriched_normal</td>\n",
       "    </tr>\n",
       "    <tr>\n",
       "      <th>S152</th>\n",
       "      <td>Enriched_normal</td>\n",
       "    </tr>\n",
       "    <tr>\n",
       "      <th>S153</th>\n",
       "      <td>Enriched_normal</td>\n",
       "    </tr>\n",
       "  </tbody>\n",
       "</table>\n",
       "<p>144 rows × 1 columns</p>\n",
       "</div>"
      ],
      "text/plain": [
       "     Proteomics_Tumor_Normal\n",
       "idx                         \n",
       "S001                   Tumor\n",
       "S002                   Tumor\n",
       "S003                   Tumor\n",
       "S005                   Tumor\n",
       "S006                   Tumor\n",
       "S007                   Tumor\n",
       "S008                   Tumor\n",
       "S009                   Tumor\n",
       "S010                   Tumor\n",
       "S011                   Tumor\n",
       "S012                   Tumor\n",
       "S014                   Tumor\n",
       "S016                   Tumor\n",
       "S017                   Tumor\n",
       "S018                   Tumor\n",
       "S019                   Tumor\n",
       "S020                   Tumor\n",
       "S021                   Tumor\n",
       "S022                   Tumor\n",
       "S023                   Tumor\n",
       "S024                   Tumor\n",
       "S025                   Tumor\n",
       "S026                   Tumor\n",
       "S027                   Tumor\n",
       "S028                   Tumor\n",
       "S029                   Tumor\n",
       "S030                   Tumor\n",
       "S031                   Tumor\n",
       "S032                   Tumor\n",
       "S033                   Tumor\n",
       "...                      ...\n",
       "S124         Adjacent_normal\n",
       "S125         Adjacent_normal\n",
       "S126         Adjacent_normal\n",
       "S127         Adjacent_normal\n",
       "S128         Adjacent_normal\n",
       "S129         Adjacent_normal\n",
       "S130       Myometrium_normal\n",
       "S131       Myometrium_normal\n",
       "S132       Myometrium_normal\n",
       "S133       Myometrium_normal\n",
       "S134       Myometrium_normal\n",
       "S135       Myometrium_normal\n",
       "S136         Enriched_normal\n",
       "S137         Enriched_normal\n",
       "S138         Enriched_normal\n",
       "S139         Enriched_normal\n",
       "S140         Enriched_normal\n",
       "S141         Enriched_normal\n",
       "S142         Enriched_normal\n",
       "S143         Enriched_normal\n",
       "S144         Enriched_normal\n",
       "S145         Enriched_normal\n",
       "S146         Enriched_normal\n",
       "S147         Enriched_normal\n",
       "S148         Enriched_normal\n",
       "S149         Enriched_normal\n",
       "S150         Enriched_normal\n",
       "S151         Enriched_normal\n",
       "S152         Enriched_normal\n",
       "S153         Enriched_normal\n",
       "\n",
       "[144 rows x 1 columns]"
      ]
     },
     "execution_count": 6,
     "metadata": {},
     "output_type": "execute_result"
    }
   ],
   "source": [
    "#Show possible variations of clinical_attribute\n",
    "clinical[[clinical_attribute]]"
   ]
  },
  {
   "cell_type": "markdown",
   "metadata": {},
   "source": [
    "Now we want to set our normal values to \"normal,\" without any names or underscores before it in order to better compare them with tumor types. Because of the somewhat inaccurate nature of collecting data from myometrium samples, we will disregard data labeled \"Myometrium_normal\" and replace them with NaN values."
   ]
  },
  {
   "cell_type": "code",
   "execution_count": 7,
   "metadata": {},
   "outputs": [],
   "source": [
    "merged1.loc[merged1.Proteomics_Tumor_Normal == 'Adjacent_normal', 'Proteomics_Tumor_Normal'] = 'Normal'\n",
    "merged1.loc[merged1.Proteomics_Tumor_Normal == 'Enriched_normal', 'Proteomics_Tumor_Normal'] = 'Normal'\n",
    "merged1.replace('Myometrium_normal', np.nan, inplace = True) # Set 'Myometrium_normal' to NaN "
   ]
  },
  {
   "cell_type": "markdown",
   "metadata": {},
   "source": [
    "Now we will make our two dataframes with tumor data and normal cell data."
   ]
  },
  {
   "cell_type": "code",
   "execution_count": 8,
   "metadata": {},
   "outputs": [],
   "source": [
    "tumor = merged1.loc[merged1[clinical_attribute] == \"Tumor\"]\n",
    "non_tumor = merged1.loc[merged1[clinical_attribute] == \"Normal\"]"
   ]
  },
  {
   "cell_type": "markdown",
   "metadata": {},
   "source": [
    "# Step 3: Compare Data and Find Significant Sites"
   ]
  },
  {
   "cell_type": "markdown",
   "metadata": {},
   "source": [
    "First we will establish a significant threshold to work with by dividing .05 by the number of acetylation sites we are working with. Then we use a t-test to compare intensities between tumor and non-tumor cells, and add any significant sites to a list."
   ]
  },
  {
   "cell_type": "code",
   "execution_count": 9,
   "metadata": {},
   "outputs": [
    {
     "name": "stdout",
     "output_type": "stream",
     "text": [
      "Threshold: 4.602780079167818e-06\n",
      "Number of significant sites:  290\n"
     ]
    }
   ],
   "source": [
    "threshold = .05 / len(merged1.columns) #Here we find the significant p-value that we want to work with\n",
    "print(\"Threshold:\", threshold)\n",
    "significantTests = []\n",
    "significantSites = []\n",
    "sigSiteCount = 0\n",
    "for num in range(1,len(merged1.columns)):\n",
    "    site = merged1.columns[num]\n",
    "    oneSite = merged1[[clinical_attribute, site]]\n",
    "    ttestRes = scipy.stats.ttest_ind(tumor[site], non_tumor[site])\n",
    "    if (ttestRes[1] < threshold): #Check if there is a significant enough difference between data points\n",
    "        significantTests.append(ttestRes)\n",
    "        significantSites.append(site)\n",
    "        sigSiteCount += 1\n",
    "print(\"Number of significant sites: \", sigSiteCount)"
   ]
  },
  {
   "cell_type": "markdown",
   "metadata": {},
   "source": [
    "# Step 4: Print Significant Sites and Graph Results"
   ]
  },
  {
   "cell_type": "markdown",
   "metadata": {},
   "source": [
    "Now that we have our list of significant sites, we can print it to see the sites that we want to work with."
   ]
  },
  {
   "cell_type": "code",
   "execution_count": 10,
   "metadata": {},
   "outputs": [
    {
     "name": "stdout",
     "output_type": "stream",
     "text": [
      "['ACIN1-K359', 'ADIRF-K70', 'AHCYL1-K246', 'AK2-K181', 'ALB-K117', 'ALB-K130', 'ALB-K160', 'ALB-K161', 'ALB-K183', 'ALB-K186', 'ALB-K198', 'ALB-K236', 'ALB-K264', 'ALB-K298', 'ALB-K305', 'ALB-K310', 'ALB-K341', 'ALB-K36', 'ALB-K383', 'ALB-K396', 'ALB-K402', 'ALB-K413', 'ALB-K426', 'ALB-K44', 'ALB-K463', 'ALB-K549', 'ALB-K558', 'ALB-K581', 'ALB-K584', 'ALB-K588', 'ALB-K597', 'ALB-K88', 'ALB-K97', 'ALDOA-K384', 'ALDOA-K96', 'ANXA5-K309', 'ANXA5-K70', 'ANXA5-K76', 'ANXA5-K79', 'ANXA5-K97', 'ANXA6-K314', 'APCS-K162', 'APOA1-K131', 'APOA2-K77', 'ASH2L-K312', 'ASPN-K230', 'ATP5PF-K113', 'BGN-K219', 'BGN-K82', 'BRPF1-K902', 'CCAR2-K215', 'CCDC86-K225', 'CDK1-K33', 'COX17-K30', 'CREBBP-K1216', 'CREBBP-K1837', 'CSRP1-K112', 'CSRP1-K131', 'CSRP1-K161', 'CSRP1-K168', 'CSRP1-K84', 'CSTB-K30', 'CTTN-K87', 'CYB5R1-K167', 'DBI-K114', 'DBI-K116', 'DCN-K200', 'DCN-K280', 'DCN-K74', 'DDAH2-K51', 'DDX5-K40', 'DES-K193', 'DES-K240', 'DES-K339', 'DHX15-K17', 'DSP-K1593', 'EEF1A1-K179', 'EEF1A1-K392', 'EEF1A1-K439', 'EEF1G-K434', 'ENO1-K81', 'EP300-K1542', 'EP300-K1546', 'EP300-K1549', 'EP300-K1550', 'EP300-K1551', 'EP300-K1554', 'EP300-K1555', 'EP300-K1558', 'EP300-K1560', 'EP400-K345', 'EPRS-K300', 'EPRS-K497', 'FASN-K673', 'FEN1-K375', 'FHL1-K86', 'FLNA-K2513', 'FLNA-K2569', 'FLNA-K2607', 'FLNA-K299', 'FLNA-K578', 'FLNA-K700', 'FLNA-K874', 'FTSJ3-K233', 'FUS-K332', 'GAPDH-K219', 'GAPDH-K66', 'GRHL2-K453', 'GSN-K548', 'GSN-K728', 'GSTK1-K225', 'GTF2E1-K67', 'GTF2F2-K137', 'H2AFJ-K10', 'H2AFJ-K6', 'H2AFV-K12', 'H2AFV-K14', 'H2AFY-K123', 'HADHA-K350', 'HIST1H2AB-K96', 'HIST1H2BD-K12', 'HIST1H2BD-K13', 'HIST1H2BD-K6', 'HIST1H2BL-K6', 'HIST2H2BF-K12', 'HIST2H2BF-K6', 'HIST3H2BB-K6', 'HMGA1-K15', 'HMGCL-K48', 'HMGCL-K93', 'HMGN1-K27', 'HMGN2-K11', 'HMGN2-K64', 'HMGN2-K82', 'HMGN2-K90', 'HMGN4-K31', 'HMGN4-K64', 'HNRNPA1-K350', 'HNRNPA2B1-K112', 'HNRNPA2B1-K59', 'HNRNPC-K243', 'HNRNPK-K60', 'HNRNPM-K698', 'HSPA1A-K246', 'HSPA4-K477', 'HSPA8-K601', 'HSPD1-K202', 'HSPD1-K364', 'IDH1-K224', 'IDH1-K236', 'IDH1-K81', 'IL33-K23', 'ILK-K426', 'INTS4-K26', 'JADE2-K48', 'JADE2-K54', 'KMT2C-K1766', 'KMT2C-K1772', 'KMT2C-K2809', 'KMT2C-K2814', 'KMT2C-K2832', 'KMT2C-K2836', 'KMT2C-K3860', 'KMT2C-K758', 'KMT2D-K2468', 'LDHA-K251', 'LGALS1-K128', 'LMNA-K108', 'LMNA-K114', 'LMNA-K155', 'LMNA-K171', 'LMNA-K180', 'LMNA-K233', 'LMNA-K265', 'LMNA-K270', 'LMNA-K316', 'LMNA-K470', 'LMNA-K78', 'LMNB2-K195', 'LMNB2-K200', 'LMNB2-K285', 'LMNB2-K290', 'LMNB2-K298', 'LUM-K181', 'MATR3-K711', 'ME2-K156', 'MEAF6-K74', 'MEF2A-K247', 'MLLT6-K1084', 'MTREX-K51', 'MTREX-K78', 'MYBBP1A-K158', 'MYH10-K1483', 'MYH11-K1028', 'MYH11-K1263', 'MYH11-K1338', 'MYH11-K1662', 'MYH11-K554', 'MYH11-K579', 'NADK2-K397', 'NANS-K290', 'NASP-K417', 'NBN-K544', 'NCL-K109', 'NCL-K138', 'NCL-K646', 'NCL-K87', 'NCL-K95', 'NOLC1-K406', 'NOLC1-K76', 'NPM1-K150', 'NPM1-K154', 'NPM1-K250', 'NPM1-K27', 'NSUN2-K586', 'NT5DC1-K171', 'NUCKS1-K35', 'NUDT21-K23', 'NUP88-K608', 'PABPC3-K108', 'PARP1-K105', 'PBRM1-K414', 'PFKM-K781', 'PGK1-K139', 'PGP-K300', 'PKM-K280', 'PPP4R3A-K642', 'PRDX1-K168', 'PRKDC-K3241', 'PSMA6-K104', 'PSMA6-K181', 'PSMB3-K77', 'PSMC4-K418', 'PSMD1-K720', 'PTGES3-K37', 'PTMS-K15', 'PURA-K273', 'RBBP7-K163', 'RBM14-K149', 'REPIN1-K90', 'RNF40-K20', 'RPN1-K538', 'RPS11-K45', 'RPS18-K94', 'RPS27A-K152', 'RPS3-K62', 'RPS3A-K109', 'RSF1-K1386', 'SAMHD1-K11', 'SELENOH-K20', 'SERF2-K23', 'SF3A1-K486', 'SFPQ-K208', 'SFPQ-K703', 'SMARCC1-K354', 'SNX1-K237', 'SOD1-K123', 'SON-K2055', 'SP3-K6', 'SSB-K354', 'SSB-K360', 'STIP1-K442', 'SUB1-K53', 'TAGLN-K17', 'TAGLN2-K38', 'TALDO1-K286', 'TALDO1-K314', 'TALDO1-K337', 'TCOF1-K393', 'TF-K659', 'TMSB10-K15', 'TMSB10-K4', 'TOP2B-K1427', 'TOX4-K207', 'TRIM33-K953', 'TRIR-K146', 'UBA6-K544', 'UBN2-K1148', 'VCL-K387', 'VCL-K699', 'VCL-K992', 'VDAC2-K89', 'VDAC3-K64', 'VIM-K120', 'VIM-K235', 'WDR75-K466', 'XPNPEP1-K330', 'YLPM1-K317', 'ZFR-K509', 'ZNF638-K1477']\n"
     ]
    }
   ],
   "source": [
    "print(significantSites)"
   ]
  },
  {
   "cell_type": "markdown",
   "metadata": {},
   "source": [
    "Now we can pick sites that we want to graph. Not all of the graphs will be shown here, but rather we selected two to show."
   ]
  },
  {
   "cell_type": "code",
   "execution_count": 11,
   "metadata": {},
   "outputs": [
    {
     "name": "stdout",
     "output_type": "stream",
     "text": [
      "Ttest_indResult(statistic=-6.04242088478341, pvalue=1.3729943442296388e-08)\n"
     ]
    },
    {
     "data": {
      "text/plain": [
       "<matplotlib.axes._subplots.AxesSubplot at 0x103817908>"
      ]
     },
     "execution_count": 11,
     "metadata": {},
     "output_type": "execute_result"
    },
    {
     "data": {
      "image/png": "[encoded data removed]",
      "text/plain": [
       "<Figure size 432x288 with 1 Axes>"
      ]
     },
     "metadata": {
      "needs_background": "light"
     },
     "output_type": "display_data"
    }
   ],
   "source": [
    "useSite = 'CREBBP-K1216'\n",
    "print(scipy.stats.ttest_ind(tumor[useSite], non_tumor[useSite]))\n",
    "sns.boxplot(x=clinical_attribute, y=useSite, data = merged1, showfliers = False)\n",
    "sns.stripplot(x=clinical_attribute, y=useSite, data = merged1, color = '.3')"
   ]
  },
  {
   "cell_type": "code",
   "execution_count": 12,
   "metadata": {},
   "outputs": [
    {
     "name": "stdout",
     "output_type": "stream",
     "text": [
      "Ttest_indResult(statistic=5.046992457833309, pvalue=1.4123978531619245e-06)\n"
     ]
    },
    {
     "data": {
      "text/plain": [
       "<matplotlib.axes._subplots.AxesSubplot at 0x1a28486f60>"
      ]
     },
     "execution_count": 12,
     "metadata": {},
     "output_type": "execute_result"
    },
    {
     "data": {
      "image/png": "[encoded data removed]",
      "text/plain": [
       "<Figure size 432x288 with 1 Axes>"
      ]
     },
     "metadata": {
      "needs_background": "light"
     },
     "output_type": "display_data"
    }
   ],
   "source": [
    "useSite = 'FUS-K332'\n",
    "print(scipy.stats.ttest_ind(tumor[useSite], non_tumor[useSite]))\n",
    "sns.boxplot(x=clinical_attribute, y=useSite, data = merged1, showfliers = False)\n",
    "sns.stripplot(x=clinical_attribute, y=useSite, data = merged1, color = '.3')"
   ]
  },
  {
   "cell_type": "code",
   "execution_count": null,
   "metadata": {},
   "outputs": [],
   "source": []
  }
 ],
 "metadata": {
  "kernelspec": {
   "display_name": "Python 3",
   "language": "python",
   "name": "python3"
  },
  "language_info": {
   "codemirror_mode": {
    "name": "ipython",
    "version": 3
   },
   "file_extension": ".py",
   "mimetype": "text/x-python",
   "name": "python",
   "nbconvert_exporter": "python",
   "pygments_lexer": "ipython3",
   "version": "3.7.1"
  }
 },
 "nbformat": 4,
 "nbformat_minor": 2
}
