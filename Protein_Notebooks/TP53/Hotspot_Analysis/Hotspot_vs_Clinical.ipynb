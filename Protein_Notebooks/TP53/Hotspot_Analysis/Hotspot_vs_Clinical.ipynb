{
 "cells": [
  {
   "cell_type": "code",
   "execution_count": 1,
   "metadata": {
    "scrolled": true
   },
   "outputs": [
    {
     "name": "stdout",
     "output_type": "stream",
     "text": [
      "Loading CPTAC data:\n",
      "Loading Dictionary...\n",
      "Loading Clinical Data...\n",
      "Loading Proteomics Data...\n",
      "Loading Transcriptomics Data...\n",
      "Loading CNA Data...\n",
      "Loading Phosphoproteomics Data...\n",
      "Loading Somatic Mutation Data...\n",
      "\n",
      " ******PLEASE READ******\n",
      "WARNING: This data is under a publication embargo until July 1, 2019.\n",
      "CPTAC is a community resource project and data are made available\n",
      "rapidly after generation for community research use. The embargo\n",
      "allows exploring and utilizing the data, but the data may not be in a\n",
      "publication until July 1, 2019. Please see\n",
      "https://proteomics.cancer.gov/data-portal/about/data-use-agreement or\n",
      "enter CPTAC.embargo() to open the webpage for more details.\n"
     ]
    }
   ],
   "source": [
    "import pandas as pd\n",
    "import numpy as np\n",
    "import re\n",
    "import scipy.stats\n",
    "import statsmodels.stats.multitest\n",
    "import matplotlib.pyplot as plt\n",
    "import math\n",
    "import seaborn as sns\n",
    "import CPTAC"
   ]
  },
  {
   "cell_type": "code",
   "execution_count": null,
   "metadata": {},
   "outputs": [],
   "source": []
  },
  {
   "cell_type": "code",
   "execution_count": 23,
   "metadata": {},
   "outputs": [],
   "source": [
    "clinical = CPTAC.get_clinical()\n",
    "somatic = CPTAC.get_somatic()\n",
    "\n",
    "\n",
    "gene = 'TP53'\n",
    "protein = 'TP53'\n",
    "\n",
    "pd.options.display.max_columns = 4000\n",
    "pd.options.display.max_rows = 4000\n",
    "\n",
    "\n"
   ]
  },
  {
   "cell_type": "code",
   "execution_count": 3,
   "metadata": {
    "scrolled": true
   },
   "outputs": [],
   "source": [
    "hotspot_mutations = ['p.P250L', 'p.R248W', 'p.S241C', 'p.S241del', 'p.K164E', 'p.R249S', 'p.R273H', 'p.R282W',\n",
    "                    'p.S127Y', 'p.G244D', 'p.A159P']\n",
    "mutated_hotspot = somatic.loc[(somatic['Location'].isin(hotspot_mutations)) & (somatic['Gene'] == gene)]\n",
    "hotspot_patients = mutated_hotspot['Clinical_Patient_Key']\n"
   ]
  },
  {
   "cell_type": "code",
   "execution_count": 45,
   "metadata": {
    "scrolled": true
   },
   "outputs": [
    {
     "ename": "IndentationError",
     "evalue": "expected an indented block (<ipython-input-45-8cea9f0c1897>, line 18)",
     "output_type": "error",
     "traceback": [
      "\u001b[0;36m  File \u001b[0;32m\"<ipython-input-45-8cea9f0c1897>\"\u001b[0;36m, line \u001b[0;32m18\u001b[0m\n\u001b[0;31m    print(TTest)\u001b[0m\n\u001b[0m                ^\u001b[0m\n\u001b[0;31mIndentationError\u001b[0m\u001b[0;31m:\u001b[0m expected an indented block\n"
     ]
    }
   ],
   "source": [
    "clinical['Within_Hotspot'] = False\n",
    "clinical.loc[hotspot_patients, 'Within_Hotspot'] = True\n",
    "\n",
    "hotspot = clinical.loc[clinical['Within_Hotspot'] == True]\n",
    "non_hotspot = clinical.loc[clinical['Within_Hotspot'] == False]\n",
    "TTest = 0\n",
    "ChiSquared = 0\n",
    "for feature in clinical:\n",
    "    if str(clinical[feature].dtypes) == 'float64' or str(clinical[feature].dtypes) == 'int64':\n",
    "        ttest = scipy.stats.ttest_ind(hotspot[feature].dropna(axis=0), non_hotspot[feature].dropna(axis = 0))\n",
    "        print(feature)\n",
    "        print(ttest)\n",
    "        TTest += 1\n",
    "    elif str(clinical[feature].dtype) == 'object':\n",
    "        \n",
    "\n",
    "        \n",
    "print(TTest)\n",
    "print(ChiSquared)\n",
    "\n",
    "    \n",
    "        \n",
    "\n",
    "\n",
    "\n"
   ]
  },
  {
   "cell_type": "code",
   "execution_count": null,
   "metadata": {},
   "outputs": [],
   "source": [
    "LVSI\n",
    "Stemness_Score\n",
    "Pathway_activity_p53\n",
    "PI3K_PTEN\n",
    "Mutation_signature_C>G\n",
    "Mutation_signature_T>A"
   ]
  },
  {
   "cell_type": "code",
   "execution_count": 78,
   "metadata": {},
   "outputs": [],
   "source": [
    "###Tumor Attributes"
   ]
  },
  {
   "cell_type": "code",
   "execution_count": 120,
   "metadata": {
    "scrolled": true
   },
   "outputs": [
    {
     "name": "stderr",
     "output_type": "stream",
     "text": [
      "/Users/jonjarman/anaconda3/lib/python3.7/site-packages/ipykernel_launcher.py:8: SettingWithCopyWarning: \n",
      "A value is trying to be set on a copy of a slice from a DataFrame.\n",
      "Try using .loc[row_indexer,col_indexer] = value instead\n",
      "\n",
      "See the caveats in the documentation: http://pandas.pydata.org/pandas-docs/stable/indexing.html#indexing-view-versus-copy\n",
      "  \n"
     ]
    }
   ],
   "source": [
    "interest = list()\n",
    "for header in columns:\n",
    "    if header[0:5] == 'Tumor':\n",
    "        interest.append(header)\n",
    "        \n",
    "        \n",
    "p53_mutation = CPTAC.get_cohort_clinical(interest)\n",
    "p53_mutation['Within_Hotspot'] = False\n",
    "p53_mutation.loc[hotspot_patients, 'Within_Hotspot'] = True\n",
    "\n"
   ]
  },
  {
   "cell_type": "code",
   "execution_count": 113,
   "metadata": {
    "scrolled": true
   },
   "outputs": [
    {
     "name": "stdout",
     "output_type": "stream",
     "text": [
      "Ttest_indResult(statistic=0.38204990429970553, pvalue=0.7035655006095476)\n"
     ]
    }
   ],
   "source": [
    "hotspot = p53_mutation.loc[p53_mutation['Within_Hotspot'] == True]\n",
    "non_hotspot = p53_mutation.loc[p53_mutation['Within_Hotspot'] == False]\n",
    "#hotspot = hotspot.dropna(axis=0,how = 'any')\n",
    "#non_hotspsot = non_hotspot.dropna(axis=0, how = 'any')\n",
    "ttest = scipy.stats.ttest_ind(hotspot['Tumor_Size_cm'], non_hotspot['Tumor_Size_cm'])\n",
    "print(ttest)\n"
   ]
  },
  {
   "cell_type": "code",
   "execution_count": null,
   "metadata": {},
   "outputs": [],
   "source": [
    "\n",
    "    "
   ]
  },
  {
   "cell_type": "code",
   "execution_count": null,
   "metadata": {},
   "outputs": [],
   "source": []
  }
 ],
 "metadata": {
  "kernelspec": {
   "display_name": "Python 3",
   "language": "python",
   "name": "python3"
  },
  "language_info": {
   "codemirror_mode": {
    "name": "ipython",
    "version": 3
   },
   "file_extension": ".py",
   "mimetype": "text/x-python",
   "name": "python",
   "nbconvert_exporter": "python",
   "pygments_lexer": "ipython3",
   "version": "3.7.1"
  }
 },
 "nbformat": 4,
 "nbformat_minor": 2
}
