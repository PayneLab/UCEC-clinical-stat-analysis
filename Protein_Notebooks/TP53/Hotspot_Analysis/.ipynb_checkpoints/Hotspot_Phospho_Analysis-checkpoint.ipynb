{
 "cells": [
  {
   "cell_type": "markdown",
   "metadata": {},
   "source": [
    "# TP53 Hotspot Phosphoproteomic Analysis"
   ]
  },
  {
   "cell_type": "markdown",
   "metadata": {},
   "source": [
    "## All mutations vs wildtype"
   ]
  },
  {
   "cell_type": "code",
   "execution_count": 111,
   "metadata": {},
   "outputs": [
    {
     "data": {
      "text/plain": [
       "{'BCL2L12-S273': 0.01595262598239566,\n",
       " 'CLASP1-S572': 0.012982087946777021,\n",
       " 'CTDSP1-T74': 0.032625891703090396,\n",
       " 'LASP1-T104': 0.032933589316956446,\n",
       " 'SP100-S157': 0.00010674105443492965,\n",
       " 'SP100-S223': 0.004112207588010277,\n",
       " 'SP100-S228': 0.0026881513503528814,\n",
       " 'SP100-S231': 4.679164997306459e-05,\n",
       " 'SP110-S244': 0.0026881513503528814,\n",
       " 'SP110-S380': 0.004112207588010277,\n",
       " 'USP11-S648': 0.009217027484735641,\n",
       " 'RYBP-S193': 0.020067029266601363,\n",
       " 'NOC2L-S49': 0.0009882801246996684,\n",
       " 'NOC2L-S56': 0.006364124261150357,\n",
       " 'FOXO3-S43': 0.0016182401268920261,\n",
       " 'CHD8-S549': 0.030286647174017287,\n",
       " 'NPM1-S70': 0.038878505182900966,\n",
       " 'TP53BP1-S1004': 0.032625891703090396,\n",
       " 'TP53BP1-S1431': 0.0008643140003929224,\n",
       " 'TP53BP1-S1435': 0.0008643140003929224,\n",
       " 'TP53BP1-S1683': 0.0009882801246996684,\n",
       " 'TP53BP1-S1706': 7.899210519341453e-05,\n",
       " 'TP53BP1-S1763': 6.901183518862966e-07,\n",
       " 'TP53BP1-S1764': 0.0026881513503528814,\n",
       " 'TP53BP1-S403': 0.032625891703090396,\n",
       " 'TP53BP1-S640': 0.04139829057587989,\n",
       " 'TP53BP1-S867': 0.0030048347848826654,\n",
       " 'PLK1-T210': 0.0026881513503528814,\n",
       " 'CREBBP-T974': 0.009217027484735641,\n",
       " 'NCL-S619': 0.00012500884984881675,\n",
       " 'NCL-S67': 9.942767345260665e-06,\n",
       " 'PARP1-S782': 0.014140455703340167}"
      ]
     },
     "execution_count": 111,
     "metadata": {},
     "output_type": "execute_result"
    }
   ],
   "source": [
    "sites = phos.columns\n",
    "p_values = []\n",
    "site_names = []\n",
    "\n",
    "for protein in protList:\n",
    "    pattern = re.compile(protein)\n",
    "    isInList = filter(pattern.search, sites)\n",
    "    if next(isInList, None) is not None:\n",
    "        phosphositesdf = CPTAC.compare_mutations(phos, protein, gene)\n",
    "        phosphositesdf = phosphositesdf.loc[phosphositesdf['Patient_Type'] == 'Tumor'].drop('Patient_Type', axis=1)\n",
    "        phosphositesdf['Within_Hotspot'] = False\n",
    "        phosphositesdf.loc[hotspot_patients, 'Within_Hotspot'] = True\n",
    "        phosphositesdf.loc[phosphositesdf['Mutation'] == 'Wildtype', 'Within_Hotspot'] = 'Wildtype'\n",
    "        phosphositesdf.drop('Mutation', axis=1)\n",
    "        for site in phosphositesdf.columns:\n",
    "            if (site != 'Within_Hotspot' and site != 'Mutation'):\n",
    "                sitedf = phosphositesdf[[site, 'Within_Hotspot']].dropna(axis=0)\n",
    "                mutated = sitedf.loc[sitedf['Within_Hotspot'] != 'Wildtype']\n",
    "                wt = sitedf.loc[sitedf['Within_Hotspot'] == 'Wildtype']\n",
    "                ttest = scipy.stats.ttest_ind(mutated[site], wt[site])\n",
    "                p_values.append(ttest[1])\n",
    "                site_names.append(site)\n",
    "                \n",
    "areSignificant = statsmodels.stats.multitest.fdrcorrection(p_values)[0]\n",
    "pvals = statsmodels.stats.multitest.fdrcorrection(p_values)[1]\n",
    "significant_proteins = np.array(site_names)[np.array(areSignificant)]\n",
    "significant_pvals = np.array(pvals)[np.array(areSignificant)]\n",
    "significant_vals = dict(zip(significant_proteins, significant_pvals))\n",
    "significant_vals"
   ]
  },
  {
   "cell_type": "markdown",
   "metadata": {},
   "source": [
    "## Mutations within hotspot vs wildtype"
   ]
  },
  {
   "cell_type": "code",
   "execution_count": 113,
   "metadata": {
    "scrolled": true
   },
   "outputs": [
    {
     "data": {
      "text/plain": [
       "{'PIAS2-S499': 0.04594812104477181,\n",
       " 'CLASP1-S572': 0.005185397859035873,\n",
       " 'SP100-S157': 0.009311601609255192,\n",
       " 'SP100-S223': 0.001681146675364001,\n",
       " 'SP100-S228': 0.01084611970435412,\n",
       " 'SP100-S231': 0.0002414574679697111,\n",
       " 'SP110-S244': 0.00022715594852941022,\n",
       " 'SP110-S380': 0.013026843951616126,\n",
       " 'USP11-S648': 0.0219367226210614,\n",
       " 'RYBP-S190': 0.003466463721526021,\n",
       " 'RYBP-S193': 0.007259414870953549,\n",
       " 'NOC2L-S49': 0.03537019612696443,\n",
       " 'FOXO3-S43': 0.019025958067335855,\n",
       " 'HUWE1-S3808': 0.023035547134485423,\n",
       " 'HUWE1-S3818': 0.022558704623591275,\n",
       " 'TP53BP1-S1431': 0.0011162671079661052,\n",
       " 'TP53BP1-S1435': 0.001501726880253013,\n",
       " 'TP53BP1-S1683': 0.021475996183742276,\n",
       " 'TP53BP1-S1706': 0.0002414574679697111,\n",
       " 'TP53BP1-S1763': 0.0005262666326208138,\n",
       " 'TP53BP1-S227': 0.01490006977908907,\n",
       " 'TP53BP1-S867': 0.005189706313447883,\n",
       " 'CREBBP-T974': 0.040748452536135515,\n",
       " 'NCL-S619': 2.8857022530986562e-05,\n",
       " 'NCL-S67': 0.0002414574679697111}"
      ]
     },
     "execution_count": 113,
     "metadata": {},
     "output_type": "execute_result"
    }
   ],
   "source": [
    "sites = phos.columns\n",
    "p_values = []\n",
    "site_names = []\n",
    "\n",
    "for protein in protList:\n",
    "    pattern = re.compile(protein)\n",
    "    isInList = filter(pattern.search, sites)\n",
    "    if next(isInList, None) is not None:\n",
    "        phosphositesdf = CPTAC.compare_mutations(phos, protein, gene)\n",
    "        phosphositesdf = phosphositesdf.loc[phosphositesdf['Patient_Type'] == 'Tumor'].drop('Patient_Type', axis=1)\n",
    "        phosphositesdf['Within_Hotspot'] = False\n",
    "        phosphositesdf.loc[hotspot_patients, 'Within_Hotspot'] = True\n",
    "        phosphositesdf.loc[phosphositesdf['Mutation'] == 'Wildtype', 'Within_Hotspot'] = 'Wildtype'\n",
    "        phosphositesdf.drop('Mutation', axis=1)\n",
    "        for site in phosphositesdf.columns:\n",
    "            if (site != 'Within_Hotspot' and site != 'Mutation'):\n",
    "                sitedf = phosphositesdf[[site, 'Within_Hotspot']].dropna(axis=0)\n",
    "                mutated = sitedf.loc[sitedf['Within_Hotspot'] == True]\n",
    "                wt = sitedf.loc[sitedf['Within_Hotspot'] == 'Wildtype']\n",
    "                ttest = scipy.stats.ttest_ind(mutated[site], wt[site])\n",
    "                p_values.append(ttest[1])\n",
    "                site_names.append(site)\n",
    "                \n",
    "areSignificant = statsmodels.stats.multitest.fdrcorrection(p_values)[0]\n",
    "pvals = statsmodels.stats.multitest.fdrcorrection(p_values)[1]\n",
    "significant_proteins = np.array(site_names)[np.array(areSignificant)]\n",
    "significant_pvals = np.array(pvals)[np.array(areSignificant)]\n",
    "significant_vals = dict(zip(significant_proteins, significant_pvals))\n",
    "significant_vals"
   ]
  },
  {
   "cell_type": "markdown",
   "metadata": {},
   "source": [
    "## Mutations outside of hotspot vs wildtype"
   ]
  },
  {
   "cell_type": "code",
   "execution_count": 114,
   "metadata": {},
   "outputs": [
    {
     "data": {
      "text/plain": [
       "{'SP100-S157': 0.01926525300150349,\n",
       " 'TP53BP1-S1763': 3.730212327832176e-05,\n",
       " 'NCL-S67': 0.01926525300150349}"
      ]
     },
     "execution_count": 114,
     "metadata": {},
     "output_type": "execute_result"
    }
   ],
   "source": [
    "sites = phos.columns\n",
    "p_values = []\n",
    "site_names = []\n",
    "\n",
    "for protein in protList:\n",
    "    pattern = re.compile(protein)\n",
    "    isInList = filter(pattern.search, sites)\n",
    "    if next(isInList, None) is not None:\n",
    "        phosphositesdf = CPTAC.compare_mutations(phos, protein, gene)\n",
    "        phosphositesdf = phosphositesdf.loc[phosphositesdf['Patient_Type'] == 'Tumor'].drop('Patient_Type', axis=1)\n",
    "        phosphositesdf['Within_Hotspot'] = False\n",
    "        phosphositesdf.loc[hotspot_patients, 'Within_Hotspot'] = True\n",
    "        phosphositesdf.loc[phosphositesdf['Mutation'] == 'Wildtype', 'Within_Hotspot'] = 'Wildtype'\n",
    "        phosphositesdf.drop('Mutation', axis=1)\n",
    "        for site in phosphositesdf.columns:\n",
    "            if (site != 'Within_Hotspot' and site != 'Mutation'):\n",
    "                sitedf = phosphositesdf[[site, 'Within_Hotspot']].dropna(axis=0)\n",
    "                mutated = sitedf.loc[sitedf['Within_Hotspot'] == False]\n",
    "                wt = sitedf.loc[sitedf['Within_Hotspot'] == 'Wildtype']\n",
    "                ttest = scipy.stats.ttest_ind(mutated[site], wt[site])\n",
    "                p_values.append(ttest[1])\n",
    "                site_names.append(site)\n",
    "                \n",
    "areSignificant = statsmodels.stats.multitest.fdrcorrection(p_values)[0]\n",
    "pvals = statsmodels.stats.multitest.fdrcorrection(p_values)[1]\n",
    "significant_proteins = np.array(site_names)[np.array(areSignificant)]\n",
    "significant_pvals = np.array(pvals)[np.array(areSignificant)]\n",
    "significant_vals = dict(zip(significant_proteins, significant_pvals))\n",
    "significant_vals"
   ]
  },
  {
   "cell_type": "markdown",
   "metadata": {},
   "source": [
    "## Mutations outside of hotspot vs mutations within hotspot"
   ]
  },
  {
   "cell_type": "code",
   "execution_count": 115,
   "metadata": {},
   "outputs": [
    {
     "data": {
      "text/plain": [
       "{}"
      ]
     },
     "execution_count": 115,
     "metadata": {},
     "output_type": "execute_result"
    }
   ],
   "source": [
    "sites = phos.columns\n",
    "p_values = []\n",
    "site_names = []\n",
    "\n",
    "for protein in protList:\n",
    "    pattern = re.compile(protein)\n",
    "    isInList = filter(pattern.search, sites)\n",
    "    if next(isInList, None) is not None:\n",
    "        phosphositesdf = CPTAC.compare_mutations(phos, protein, gene)\n",
    "        phosphositesdf = phosphositesdf.loc[phosphositesdf['Patient_Type'] == 'Tumor'].drop('Patient_Type', axis=1)\n",
    "        phosphositesdf['Within_Hotspot'] = False\n",
    "        phosphositesdf.loc[hotspot_patients, 'Within_Hotspot'] = True\n",
    "        phosphositesdf.loc[phosphositesdf['Mutation'] == 'Wildtype', 'Within_Hotspot'] = 'Wildtype'\n",
    "        phosphositesdf.drop('Mutation', axis=1)\n",
    "        for site in phosphositesdf.columns:\n",
    "            if (site != 'Within_Hotspot' and site != 'Mutation'):\n",
    "                sitedf = phosphositesdf[[site, 'Within_Hotspot']].dropna(axis=0)\n",
    "                mutated = sitedf.loc[sitedf['Within_Hotspot'] == False]\n",
    "                wt = sitedf.loc[sitedf['Within_Hotspot'] == True]\n",
    "                ttest = scipy.stats.ttest_ind(mutated[site], wt[site])\n",
    "                p_values.append(ttest[1])\n",
    "                site_names.append(site)\n",
    "                \n",
    "areSignificant = statsmodels.stats.multitest.fdrcorrection(p_values)[0]\n",
    "pvals = statsmodels.stats.multitest.fdrcorrection(p_values)[1]\n",
    "significant_proteins = np.array(site_names)[np.array(areSignificant)]\n",
    "significant_pvals = np.array(pvals)[np.array(areSignificant)]\n",
    "significant_vals = dict(zip(significant_proteins, significant_pvals))\n",
    "significant_vals"
   ]
  },
  {
   "cell_type": "code",
   "execution_count": null,
   "metadata": {},
   "outputs": [],
   "source": []
  }
 ],
 "metadata": {
  "kernelspec": {
   "display_name": "Python 3",
   "language": "python",
   "name": "python3"
  },
  "language_info": {
   "codemirror_mode": {
    "name": "ipython",
    "version": 3
   },
   "file_extension": ".py",
   "mimetype": "text/x-python",
   "name": "python",
   "nbconvert_exporter": "python",
   "pygments_lexer": "ipython3",
   "version": "3.7.0"
  }
 },
 "nbformat": 4,
 "nbformat_minor": 2
}
