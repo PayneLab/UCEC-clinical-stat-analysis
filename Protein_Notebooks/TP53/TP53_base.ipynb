{
 "cells": [
  {
   "cell_type": "markdown",
   "metadata": {},
   "source": [
    "   # PI3KCA: Effects of Mutation on IRS1"
   ]
  },
  {
   "cell_type": "markdown",
   "metadata": {},
   "source": [
    "<b>Standard imports for playing with and plotting data frames.</b>"
   ]
  },
  {
   "cell_type": "code",
   "execution_count": 9,
   "metadata": {},
   "outputs": [],
   "source": [
    "import pandas as pd\n",
    "import numpy as np\n",
    "import scipy.stats\n",
    "import matplotlib.pyplot as plt\n",
    "import seaborn as sns"
   ]
  },
  {
   "cell_type": "markdown",
   "metadata": {},
   "source": [
    "<b>Import CPTAC data</b>"
   ]
  },
  {
   "cell_type": "code",
   "execution_count": 10,
   "metadata": {
    "scrolled": true
   },
   "outputs": [],
   "source": [
    "import CPTAC"
   ]
  },
  {
   "cell_type": "code",
   "execution_count": 11,
   "metadata": {},
   "outputs": [],
   "source": [
    "somatic_mutations = CPTAC.get_somatic()\n",
    "proteomics = CPTAC.get_proteomics()\n",
    "phos = CPTAC.get_phosphoproteomics()"
   ]
  },
  {
   "cell_type": "markdown",
   "metadata": {},
   "source": [
    "### IRS1 protein abundance with PI3KCA mutation"
   ]
  },
  {
   "cell_type": "code",
   "execution_count": 1,
   "metadata": {
    "scrolled": false
   },
   "outputs": [
    {
     "ename": "NameError",
     "evalue": "name 'protList' is not defined",
     "output_type": "error",
     "traceback": [
      "\u001b[0;31m---------------------------------------------------------------------------\u001b[0m",
      "\u001b[0;31mNameError\u001b[0m                                 Traceback (most recent call last)",
      "\u001b[0;32m<ipython-input-1-f85e55c8daa9>\u001b[0m in \u001b[0;36m<module>\u001b[0;34m\u001b[0m\n\u001b[0;32m----> 1\u001b[0;31m \u001b[0mpcutoff\u001b[0m \u001b[0;34m=\u001b[0m \u001b[0;36m0.05\u001b[0m \u001b[0;34m/\u001b[0m \u001b[0mlen\u001b[0m\u001b[0;34m(\u001b[0m\u001b[0mprotList\u001b[0m\u001b[0;34m)\u001b[0m\u001b[0;34m\u001b[0m\u001b[0m\n\u001b[0m\u001b[1;32m      2\u001b[0m \u001b[0mgene\u001b[0m \u001b[0;34m=\u001b[0m \u001b[0;34m'PIK3CA'\u001b[0m\u001b[0;34m\u001b[0m\u001b[0m\n\u001b[1;32m      3\u001b[0m \u001b[0;34m\u001b[0m\u001b[0m\n\u001b[1;32m      4\u001b[0m \u001b[0msigResults\u001b[0m \u001b[0;34m=\u001b[0m \u001b[0;34m[\u001b[0m\u001b[0;34m]\u001b[0m\u001b[0;34m;\u001b[0m\u001b[0;34m\u001b[0m\u001b[0m\n\u001b[1;32m      5\u001b[0m \u001b[0;32mfor\u001b[0m \u001b[0mprotein\u001b[0m \u001b[0;32min\u001b[0m \u001b[0mprotList\u001b[0m\u001b[0;34m:\u001b[0m\u001b[0;34m\u001b[0m\u001b[0m\n",
      "\u001b[0;31mNameError\u001b[0m: name 'protList' is not defined"
     ]
    }
   ],
   "source": [
    "protList = [\"IRS1\"]\n",
    "pcutoff = 0.05 / len(protList)\n",
    "gene = 'PIK3CA'\n",
    "\n",
    "sigResults = [];\n",
    "for protein in protList: \n",
    "    if protein in proteomics.columns:\n",
    "        cross = CPTAC.compare_mutations(proteomics, protein, gene)\n",
    "        cross = cross[[\"Mutation\", protein]].dropna(axis=0)\n",
    "        mutated = cross.loc[cross[\"Mutation\"] == \"Missense_Mutation\"]\n",
    "        wt = cross.loc[cross[\"Mutation\"] == \"Wildtype\"]\n",
    "        ttest = scipy.stats.ttest_ind(mutated[protein], wt[protein])\n",
    "        if(ttest[1] <= pcutoff):\n",
    "            sigResults.append(protein)\n",
    "            print(\"Test for \" + protein + \": \")\n",
    "            print(ttest) "
   ]
  },
  {
   "cell_type": "markdown",
   "metadata": {},
   "source": [
    "### We see that TP53 has a higher abundance when mutated"
   ]
  },
  {
   "cell_type": "code",
   "execution_count": 13,
   "metadata": {},
   "outputs": [
    {
     "data": {
      "text/plain": [
       "[Text(0,0.5,'Proteomics'), Text(0.5,0,'Somatic Gene Mutation')]"
      ]
     },
     "execution_count": 13,
     "metadata": {},
     "output_type": "execute_result"
    },
    {
     "data": {
      "image/png": "[encoded data removed]",
      "text/plain": [
       "<Figure size 432x288 with 1 Axes>"
      ]
     },
     "metadata": {
      "needs_background": "light"
     },
     "output_type": "display_data"
    }
   ],
   "source": [
    "somatic_boxplot = sns.boxplot(data=cross, x=gene ,y=proteindfName)\n",
    "somatic_boxplot.set_title(gene + \" gene mutation and \" + protList[0] + \" protein abundance\")\n",
    "somatic_boxplot = sns.stripplot(data=cross, x=gene, y=proteindfName,jitter=True, color=\".3\")\n",
    "somatic_boxplot.set(xlabel=\"Somatic Gene Mutation\",ylabel=\"Proteomics\")"
   ]
  },
  {
   "cell_type": "markdown",
   "metadata": {},
   "source": [
    "### TP53 phosphorylation levels and TP53 Mutation"
   ]
  },
  {
   "cell_type": "code",
   "execution_count": 6,
   "metadata": {},
   "outputs": [
    {
     "name": "stdout",
     "output_type": "stream",
     "text": [
      "Results for TP53-S315: \n",
      "Ttest_indResult(statistic=4.5116732692720705, pvalue=2.81407273681229e-05)\n"
     ]
    }
   ],
   "source": [
    "#Specify the gene and a general pattern for the sites you want to capture\n",
    "#In this case, we want all the sites that begin with 'TP53'\n",
    "gene = 'TP53'\n",
    "sites = phos.filter(regex='TP53-')\n",
    "sigResults = [];\n",
    "\n",
    "#Create two dataframes: mutated and non-mutated with the sites specified\n",
    "genedf = somatic_mutations[gene].to_frame()\n",
    "cross = genedf.add(sites, fill_value=0)\n",
    "mutated = cross.loc[cross[gene] == 1.0]\n",
    "wt = cross.loc[cross[gene] == 0.0]\n",
    "\n",
    "#Bonferroni correction for multiple tests (we are testing multiple sites)\n",
    "pcutoff = 0.05/len(cross.columns)\n",
    "\n",
    "#Loop through all of the sites found and print out the ones with significant p-values\n",
    "for loc in cross.columns:\n",
    "    if not loc == gene:\n",
    "        mutsitedf = mutated[[gene, loc]].dropna()\n",
    "        wtsitedf = wt[[gene, loc]].dropna()\n",
    "        ttest = scipy.stats.ttest_ind(mutsitedf[loc], wtsitedf[loc])\n",
    "        if ttest[1] <= pcutoff:\n",
    "            sigResults.append(loc)\n",
    "            print('Results for ' + loc + ': ')\n",
    "            print(ttest)"
   ]
  },
  {
   "cell_type": "markdown",
   "metadata": {},
   "source": [
    "### We see that this site is generally phosphorylated at higher levels when TP53 is mutated"
   ]
  },
  {
   "cell_type": "code",
   "execution_count": 7,
   "metadata": {
    "scrolled": true
   },
   "outputs": [
    {
     "data": {
      "text/plain": [
       "[Text(0,0.5,'Phosphoproteomics'), Text(0.5,0,'Somatic Gene Mutation')]"
      ]
     },
     "execution_count": 7,
     "metadata": {},
     "output_type": "execute_result"
    },
    {
     "data": {
      "image/png": "[encoded data removed]",
      "text/plain": [
       "<Figure size 432x288 with 1 Axes>"
      ]
     },
     "metadata": {
      "needs_background": "light"
     },
     "output_type": "display_data"
    }
   ],
   "source": [
    "#sigResults is a list with all of the significant sites from the previous calculation (in this case there is only 1).\n",
    "#Specify the index of the site you wish to visualize with x\n",
    "\n",
    "x = 0\n",
    "somatic_boxplot = sns.boxplot(data=cross, x=gene ,y=sigResults[x])\n",
    "somatic_boxplot.set_title(gene + \" gene mutation and \" + sigResults[x] + \" phosphorylation levels\")\n",
    "somatic_boxplot = sns.stripplot(data=cross, x=gene, y=sigResults[x],jitter=True, color=\".3\")\n",
    "somatic_boxplot.set(xlabel=\"Somatic Gene Mutation\",ylabel=\"Phosphoproteomics\")"
   ]
  },
  {
   "cell_type": "code",
   "execution_count": null,
   "metadata": {},
   "outputs": [],
   "source": []
  }
 ],
 "metadata": {
  "kernelspec": {
   "display_name": "Python 3",
   "language": "python",
   "name": "python3"
  },
  "language_info": {
   "codemirror_mode": {
    "name": "ipython",
    "version": 3
   },
   "file_extension": ".py",
   "mimetype": "text/x-python",
   "name": "python",
   "nbconvert_exporter": "python",
   "pygments_lexer": "ipython3",
   "version": "3.7.0"
  }
 },
 "nbformat": 4,
 "nbformat_minor": 2
}
