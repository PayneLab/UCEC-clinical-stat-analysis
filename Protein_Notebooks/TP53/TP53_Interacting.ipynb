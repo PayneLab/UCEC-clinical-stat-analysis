{
 "cells": [
  {
   "cell_type": "markdown",
   "metadata": {},
   "source": [
    "   # TP53: Effects of Mutation"
   ]
  },
  {
   "cell_type": "markdown",
   "metadata": {},
   "source": [
    "<b>Standard imports for playing with and plotting data frames.</b>"
   ]
  },
  {
   "cell_type": "code",
   "execution_count": 2,
   "metadata": {},
   "outputs": [
    {
     "data": {
      "text/plain": [
       "RendererRegistry.enable('notebook')"
      ]
     },
     "execution_count": 2,
     "metadata": {},
     "output_type": "execute_result"
    }
   ],
   "source": [
    "import pandas as pd\n",
    "import numpy as np\n",
    "import scipy.stats\n",
    "from scipy.stats import pearsonr\n",
    "import matplotlib.pyplot as plt\n",
    "import seaborn as sns\n",
    "import altair as alt\n",
    "\n",
    "alt.renderers.enable('notebook')"
   ]
  },
  {
   "cell_type": "markdown",
   "metadata": {},
   "source": [
    "<b>Import CPTAC data</b>"
   ]
  },
  {
   "cell_type": "code",
   "execution_count": 3,
   "metadata": {
    "scrolled": true
   },
   "outputs": [
    {
     "name": "stdout",
     "output_type": "stream",
     "text": [
      "Loading Clinical Data...\n",
      "Loading Proteomics Data...\n",
      "Loading Transcriptomics Data...\n",
      "Loading CNA Data...\n",
      "Loading Phosphoproteomics Data...\n",
      "Loading Somatic Data...\n",
      "\n",
      " ******PLEASE READ******\n",
      "WARNING: This data is under a publication embargo until July 1, 2019. CPTAC is a community resource project and data are made available rapidly after generation for community research use. The embargo allows exploring and utilizing the data, but the data may not be in a publication until July 1, 2019. Please see https://proteomics.cancer.gov/data-portal/about/data-use-agreement or enter CPTAC.embargo() to open the webpage for more details.\n"
     ]
    }
   ],
   "source": [
    "import CPTAC"
   ]
  },
  {
   "cell_type": "code",
   "execution_count": 4,
   "metadata": {},
   "outputs": [],
   "source": [
    "somatic_mutations = CPTAC.get_somatic()\n",
    "proteomics = CPTAC.get_proteomics()\n",
    "phos = CPTAC.get_phosphoproteomics()"
   ]
  },
  {
   "cell_type": "markdown",
   "metadata": {},
   "source": [
    "### List of proteins that interact with TP53 (according to Uniprot)"
   ]
  },
  {
   "cell_type": "code",
   "execution_count": 13,
   "metadata": {},
   "outputs": [],
   "source": [
    "protList = ['AXIN1', 'EP300', 'HRMT1L2', 'CARM1', 'TAF1', 'ING4', 'CABLES1', \n",
    "            'TP73', 'HIPK1', 'HIPK2', 'TP53INP1', 'WWOX', 'HCV', 'USP7', 'SYVN1', 'HSP90AB1',\n",
    "           'CHD8', 'ARMC10', 'BANP', 'CDKN2AIP', 'NUAK1', 'STK11', 'LKB1', 'UHRF2', 'E4F1', 'YWHAZ',\n",
    "           'MAML1', 'MKRN1', 'PML', 'MDM2', 'FBXO42', 'ATM', 'PP2R2A', 'AURKA', 'DAXX', 'BRD7', 'TRIM24',\n",
    "           'L3MBTL1', 'GRK5', 'CAK', 'PTK2B', 'PYK2', 'MDM2', 'PRKCG', 'PPIF', 'KAT6A', 'UBC9', 'ZNF385B',\n",
    "           'ZNF385A', 'ANKRD2', 'RFFL', 'RNF34', 'MTA1', 'COP1', 'CCAR2', 'MORC3', 'POU4F2', 'AFG1L', 'UBD',\n",
    "           'TAF6', 'HPV', 'UL123', 'E1B-55K']"
   ]
  },
  {
   "cell_type": "markdown",
   "metadata": {},
   "source": [
    "### Proteome abundance of proteins that interact with TP53"
   ]
  },
  {
   "cell_type": "code",
   "execution_count": 14,
   "metadata": {},
   "outputs": [
    {
     "name": "stdout",
     "output_type": "stream",
     "text": [
      "Test for CABLES1: \n",
      "Ttest_indResult(statistic=-4.533885225055603, pvalue=1.6398425638878636e-05)\n",
      "Test for HSP90AB1: \n",
      "Ttest_indResult(statistic=3.775761395509814, pvalue=0.000273573248009503)\n",
      "Test for CHD8: \n",
      "Ttest_indResult(statistic=4.65599574118626, pvalue=1.0132380205138297e-05)\n",
      "Test for AURKA: \n",
      "Ttest_indResult(statistic=4.2121494006965365, pvalue=8.335995102753076e-05)\n",
      "Test for DAXX: \n",
      "Ttest_indResult(statistic=4.139121723641875, pvalue=7.383403320014249e-05)\n"
     ]
    }
   ],
   "source": [
    "gene = 'TP53'\n",
    "sigList = [];\n",
    "\n",
    "pcutoff = 0.05/len(protList)\n",
    "\n",
    "genedf = somatic_mutations[gene].to_frame()\n",
    "for protein in protList:\n",
    "    if protein in proteomics.columns:\n",
    "        proteindf = proteomics[protein].to_frame()\n",
    "        proteindfName = protein + \" protein\"\n",
    "        proteindf.columns = [proteindfName]\n",
    "        cross = genedf.add(proteindf, fill_value=0).dropna(axis=0)\n",
    "        mutated = cross.loc[cross[gene] == 1.0]\n",
    "        wt = cross.loc[cross[gene] == 0.0]\n",
    "        ttest = scipy.stats.ttest_ind(mutated[proteindfName], wt[proteindfName])\n",
    "        if ttest[1] <= pcutoff:\n",
    "            sigList.append(protein)\n",
    "            print(\"Test for \" + protein + \": \")\n",
    "            print(ttest)"
   ]
  },
  {
   "cell_type": "markdown",
   "metadata": {},
   "source": [
    "### List of significantly affected proteins"
   ]
  },
  {
   "cell_type": "code",
   "execution_count": 15,
   "metadata": {},
   "outputs": [
    {
     "name": "stdout",
     "output_type": "stream",
     "text": [
      "['CABLES1', 'HSP90AB1', 'CHD8', 'AURKA', 'DAXX']\n"
     ]
    }
   ],
   "source": [
    "print(sigList)"
   ]
  },
  {
   "cell_type": "markdown",
   "metadata": {},
   "source": [
    "### Phosphoproteome abundance of interacting proteins"
   ]
  },
  {
   "cell_type": "code",
   "execution_count": 26,
   "metadata": {},
   "outputs": [
    {
     "name": "stdout",
     "output_type": "stream",
     "text": [
      "Results for HSP90AB1-S226: \n",
      "Ttest_indResult(statistic=4.83818141889424, pvalue=4.875355910124854e-06)\n",
      "Results for HSP90AB1-S255: \n",
      "Ttest_indResult(statistic=5.523615626841696, pvalue=2.7326572771063515e-07)\n",
      "Results for HSP90AB1-S261: \n",
      "Ttest_indResult(statistic=5.578991724475906, pvalue=2.147645387372064e-07)\n"
     ]
    }
   ],
   "source": [
    "gene = 'TP53'\n",
    "genedf = somatic_mutations[gene].to_frame()\n",
    "sigPhosResults = [];\n",
    "\n",
    "for protein in protList:\n",
    "    sites = phos.filter(regex=protein)\n",
    "    genedf = genedf.add(sites, fill_value=0)\n",
    "\n",
    "mutated = genedf.loc[genedf[gene] == 1.0]\n",
    "wt = genedf.loc[genedf[gene] == 0.0]\n",
    "\n",
    "pcutoff = 0.05 / len(genedf.columns)\n",
    "\n",
    "for loc in genedf.columns:\n",
    "    if not loc == gene:\n",
    "        mutsitedf = mutated[[gene, loc]].dropna()\n",
    "        wtsitedf = wt[[gene, loc]].dropna()\n",
    "        ttest = scipy.stats.ttest_ind(mutsitedf[loc], wtsitedf[loc])\n",
    "        if(ttest[1] <= pcutoff):\n",
    "            sigPhosResults.append(loc)\n",
    "            print('Results for ' + loc + ': ')\n",
    "            print(ttest)\n",
    " "
   ]
  },
  {
   "cell_type": "markdown",
   "metadata": {},
   "source": [
    "### List of significantly affected phosphorylation sites"
   ]
  },
  {
   "cell_type": "code",
   "execution_count": 27,
   "metadata": {},
   "outputs": [
    {
     "name": "stdout",
     "output_type": "stream",
     "text": [
      "['HSP90AB1-S226', 'HSP90AB1-S255', 'HSP90AB1-S261']\n"
     ]
    }
   ],
   "source": [
    "print(sigPhosResults)"
   ]
  },
  {
   "cell_type": "code",
   "execution_count": null,
   "metadata": {},
   "outputs": [],
   "source": []
  }
 ],
 "metadata": {
  "kernelspec": {
   "display_name": "Python 3",
   "language": "python",
   "name": "python3"
  },
  "language_info": {
   "codemirror_mode": {
    "name": "ipython",
    "version": 3
   },
   "file_extension": ".py",
   "mimetype": "text/x-python",
   "name": "python",
   "nbconvert_exporter": "python",
   "pygments_lexer": "ipython3",
   "version": "3.7.0"
  }
 },
 "nbformat": 4,
 "nbformat_minor": 2
}
