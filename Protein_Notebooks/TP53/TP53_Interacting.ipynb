{
 "cells": [
  {
   "cell_type": "markdown",
   "metadata": {},
   "source": [
    "   # TP53: Effects of Mutation on Interacting Proteins"
   ]
  },
  {
   "cell_type": "markdown",
   "metadata": {},
   "source": [
    "<b>Standard imports for playing with and plotting data frames.</b>"
   ]
  },
  {
   "cell_type": "code",
   "execution_count": 1,
   "metadata": {},
   "outputs": [],
   "source": [
    "import pandas as pd\n",
    "import numpy as np\n",
    "import scipy.stats\n",
    "import matplotlib.pyplot as plt\n",
    "import seaborn as sns"
   ]
  },
  {
   "cell_type": "markdown",
   "metadata": {},
   "source": [
    "<b>Import CPTAC data</b>"
   ]
  },
  {
   "cell_type": "code",
   "execution_count": 2,
   "metadata": {
    "scrolled": true
   },
   "outputs": [
    {
     "name": "stdout",
     "output_type": "stream",
     "text": [
      "Loading Clinical Data...\n",
      "Loading Proteomics Data...\n",
      "Loading Transcriptomics Data...\n",
      "Loading CNA Data...\n",
      "Loading Phosphoproteomics Data...\n",
      "Loading Somatic Data...\n",
      "\n",
      " ******PLEASE READ******\n",
      "WARNING: This data is under a publication embargo until July 1, 2019. CPTAC is a community resource project and data are made available rapidly after generation for community research use. The embargo allows exploring and utilizing the data, but the data may not be in a publication until July 1, 2019. Please see https://proteomics.cancer.gov/data-portal/about/data-use-agreement or enter CPTAC.embargo() to open the webpage for more details.\n"
     ]
    }
   ],
   "source": [
    "import CPTAC"
   ]
  },
  {
   "cell_type": "code",
   "execution_count": 3,
   "metadata": {},
   "outputs": [],
   "source": [
    "somatic_mutations = CPTAC.get_somatic()\n",
    "proteomics = CPTAC.get_proteomics()\n",
    "phos = CPTAC.get_phosphoproteomics()"
   ]
  },
  {
   "cell_type": "markdown",
   "metadata": {},
   "source": [
    "### List of proteins that interact with TP53 (according to Uniprot)"
   ]
  },
  {
   "cell_type": "code",
   "execution_count": 4,
   "metadata": {},
   "outputs": [],
   "source": [
    "protList = ['AXIN1', 'EP300', 'HRMT1L2', 'CARM1', 'TAF1', 'ING4', 'CABLES1', \n",
    "            'TP73', 'HIPK1', 'HIPK2', 'TP53INP1', 'WWOX', 'HCV', 'USP7', 'SYVN1', 'HSP90AB1',\n",
    "           'CHD8', 'ARMC10', 'BANP', 'CDKN2AIP', 'NUAK1', 'STK11', 'LKB1', 'UHRF2', 'E4F1', 'YWHAZ',\n",
    "           'MAML1', 'MKRN1', 'PML', 'MDM2', 'FBXO42', 'ATM', 'PP2R2A', 'AURKA', 'DAXX', 'BRD7', 'TRIM24',\n",
    "           'L3MBTL1', 'GRK5', 'CAK', 'PTK2B', 'PYK2', 'MDM2', 'PRKCG', 'PPIF', 'KAT6A', 'UBC9', 'ZNF385B',\n",
    "           'ZNF385A', 'ANKRD2', 'RFFL', 'RNF34', 'MTA1', 'COP1', 'CCAR2', 'MORC3', 'POU4F2', 'AFG1L', 'UBD',\n",
    "           'TAF6', 'HPV', 'UL123', 'E1B-55K']"
   ]
  },
  {
   "cell_type": "markdown",
   "metadata": {},
   "source": [
    "### Proteome abundance of proteins that interact with TP53"
   ]
  },
  {
   "cell_type": "code",
   "execution_count": 5,
   "metadata": {},
   "outputs": [
    {
     "name": "stdout",
     "output_type": "stream",
     "text": [
      "Test for CABLES1: \n",
      "Ttest_indResult(statistic=-4.533885225055603, pvalue=1.6398425638878636e-05)\n",
      "Test for HSP90AB1: \n",
      "Ttest_indResult(statistic=3.775761395509814, pvalue=0.000273573248009503)\n",
      "Test for CHD8: \n",
      "Ttest_indResult(statistic=4.65599574118626, pvalue=1.0132380205138297e-05)\n",
      "Test for AURKA: \n",
      "Ttest_indResult(statistic=4.2121494006965365, pvalue=8.335995102753076e-05)\n",
      "Test for DAXX: \n",
      "Ttest_indResult(statistic=4.139121723641875, pvalue=7.383403320014249e-05)\n"
     ]
    }
   ],
   "source": [
    "#Specify the gene you want to analyze\n",
    "gene = 'TP53'\n",
    "sigList = [];\n",
    "\n",
    "#Bonferroni correction since we are testing multiple proteins at once\n",
    "pcutoff = 0.05/len(protList)\n",
    "\n",
    "#Create a basic dataframe that contains T/F values for mutation at TP53\n",
    "genedf = somatic_mutations[gene].to_frame()\n",
    "\n",
    "#Loop through all interacting proteins to find ones with significant changes in protein levels\n",
    "#when TP53 is mutated\n",
    "for protein in protList:\n",
    "    if protein in proteomics.columns:\n",
    "        proteindf = proteomics[protein].to_frame()\n",
    "        proteindfName = protein + \" protein\" #Necessary when the gene and protein have the same name\n",
    "        proteindf.columns = [proteindfName]\n",
    "        \n",
    "        cross = genedf.add(proteindf, fill_value=0).dropna(axis=0)\n",
    "        mutated = cross.loc[cross[gene] == 1.0]\n",
    "        wt = cross.loc[cross[gene] == 0.0]\n",
    "        \n",
    "        ttest = scipy.stats.ttest_ind(mutated[proteindfName], wt[proteindfName])\n",
    "        if ttest[1] <= pcutoff:\n",
    "            sigList.append(protein)\n",
    "            print(\"Test for \" + protein + \": \")\n",
    "            print(ttest)"
   ]
  },
  {
   "cell_type": "markdown",
   "metadata": {},
   "source": [
    "### List of significantly affected proteins"
   ]
  },
  {
   "cell_type": "code",
   "execution_count": 6,
   "metadata": {},
   "outputs": [
    {
     "name": "stdout",
     "output_type": "stream",
     "text": [
      "['CABLES1', 'HSP90AB1', 'CHD8', 'AURKA', 'DAXX']\n"
     ]
    }
   ],
   "source": [
    "print(sigList)"
   ]
  },
  {
   "cell_type": "markdown",
   "metadata": {},
   "source": [
    "### Phosphoproteome abundance of interacting proteins"
   ]
  },
  {
   "cell_type": "code",
   "execution_count": 10,
   "metadata": {},
   "outputs": [],
   "source": [
    "#This is the same list as before, with some of the end numbers of the proteins removed\n",
    "#Less specificity in protein names captures more potentially significant results in the phosphoproteomic data\n",
    "\n",
    "phosProtList = ['AXIN', 'EP', 'HRMT', 'CARM', 'TAF', 'ING', 'CABLES', \n",
    "            'TP73', 'HIPK', 'TP53INP', 'WWOX', 'HCV', 'USP', 'SYVN', 'HSP90AB1',\n",
    "           'CHD', 'ARMC', 'BANP', 'CDKN', 'NUAK', 'STK', 'LKB', 'UHRF', 'E4F', 'YWHAZ',\n",
    "           'MAML', 'MKRN', 'PML', 'MDM', 'FBXO', 'ATM', 'PP2R', 'AURKA', 'DAXX', 'BRD', 'TRIM',\n",
    "           'L3MBTL', 'GRK', 'CAK', 'PTK', 'PYK', 'PRKCG', 'PPIF', 'KAT', 'UBC', 'ZNF',\n",
    "            'ANKRD', 'RFFL', 'RNF', 'MTA', 'COP', 'CCAR', 'MORC', 'POU4F', 'AFG1L', 'UBD',\n",
    "           'TAF', 'HPV', 'UL1', 'E1B']"
   ]
  },
  {
   "cell_type": "code",
   "execution_count": 13,
   "metadata": {},
   "outputs": [
    {
     "name": "stdout",
     "output_type": "stream",
     "text": [
      "Results for CHD4-S1570: \n",
      "Ttest_indResult(statistic=4.526056608333135, pvalue=2.4823987834174773e-05)\n",
      "Results for FBXO4-S12: \n",
      "Ttest_indResult(statistic=-4.650620461853634, pvalue=1.0350987175380954e-05)\n",
      "Results for HSP90AB1-S226: \n",
      "Ttest_indResult(statistic=4.83818141889424, pvalue=4.875355910124854e-06)\n",
      "Results for HSP90AB1-S255: \n",
      "Ttest_indResult(statistic=5.523615626841696, pvalue=2.7326572771063515e-07)\n",
      "Results for HSP90AB1-S261: \n",
      "Ttest_indResult(statistic=5.578991724475906, pvalue=2.147645387372064e-07)\n",
      "Results for RNF219-S210: \n",
      "Ttest_indResult(statistic=4.518769532753358, pvalue=1.8262572900673308e-05)\n",
      "Results for TRIM2-S402: \n",
      "Ttest_indResult(statistic=-5.126605963336591, pvalue=1.7944947572117115e-06)\n",
      "Results for USP39-S82: \n",
      "Ttest_indResult(statistic=4.90729235100044, pvalue=4.270008173957158e-06)\n",
      "Results for USP43-S625: \n",
      "Ttest_indResult(statistic=-4.480420316051711, pvalue=2.01997291739303e-05)\n",
      "Results for USP47-S1013: \n",
      "Ttest_indResult(statistic=-4.355314891888761, pvalue=3.271581599187835e-05)\n",
      "Results for ZNF318-S1043: \n",
      "Ttest_indResult(statistic=5.164453827068578, pvalue=1.595985378802817e-06)\n",
      "Results for ZNF318-S1243: \n",
      "Ttest_indResult(statistic=4.92856122989055, pvalue=5.470972205994044e-06)\n",
      "Results for ZNF326-S478: \n",
      "Ttest_indResult(statistic=4.477443029087665, pvalue=2.4796367751122294e-05)\n",
      "Results for ZNF638-S1401: \n",
      "Ttest_indResult(statistic=4.7503196557662175, pvalue=1.0078944867957849e-05)\n"
     ]
    }
   ],
   "source": [
    "#Specify gene of interest\n",
    "gene = 'TP53'\n",
    "genedf = somatic_mutations[gene].to_frame()\n",
    "sigPhosResults = [];\n",
    "\n",
    "#Build the dataframe with all the phosphorylation sites on the proteins listed above\n",
    "for protein in phosProtList:\n",
    "    sites = phos.filter(regex=protein)\n",
    "    genedf = genedf.add(sites, fill_value=0)\n",
    "\n",
    "mutated = genedf.loc[genedf[gene] == 1.0]\n",
    "wt = genedf.loc[genedf[gene] == 0.0]\n",
    "\n",
    "#Bonferroni correction for all the sites we are testing at once\n",
    "pcutoff = 0.05 / len(genedf.columns)\n",
    "\n",
    "#Test each location one by one and print significant results\n",
    "for loc in genedf.columns:\n",
    "    if not loc == gene:\n",
    "        \n",
    "        mutsitedf = mutated[[gene, loc]].dropna()\n",
    "        wtsitedf = wt[[gene, loc]].dropna()\n",
    "        \n",
    "        ttest = scipy.stats.ttest_ind(mutsitedf[loc], wtsitedf[loc])\n",
    "        if(ttest[1] <= pcutoff):\n",
    "            sigPhosResults.append(loc)\n",
    "            print('Results for ' + loc + ': ')\n",
    "            print(ttest)"
   ]
  },
  {
   "cell_type": "markdown",
   "metadata": {},
   "source": [
    "### List of significantly affected phosphorylation sites"
   ]
  },
  {
   "cell_type": "code",
   "execution_count": 14,
   "metadata": {
    "scrolled": true
   },
   "outputs": [
    {
     "name": "stdout",
     "output_type": "stream",
     "text": [
      "['CHD4-S1570', 'FBXO4-S12', 'HSP90AB1-S226', 'HSP90AB1-S255', 'HSP90AB1-S261', 'RNF219-S210', 'TRIM2-S402', 'USP39-S82', 'USP43-S625', 'USP47-S1013', 'ZNF318-S1043', 'ZNF318-S1243', 'ZNF326-S478', 'ZNF638-S1401']\n"
     ]
    }
   ],
   "source": [
    "print(sigPhosResults)"
   ]
  }
 ],
 "metadata": {
  "kernelspec": {
   "display_name": "Python 3",
   "language": "python",
   "name": "python3"
  },
  "language_info": {
   "codemirror_mode": {
    "name": "ipython",
    "version": 3
   },
   "file_extension": ".py",
   "mimetype": "text/x-python",
   "name": "python",
   "nbconvert_exporter": "python",
   "pygments_lexer": "ipython3",
   "version": "3.7.0"
  }
 },
 "nbformat": 4,
 "nbformat_minor": 2
}
