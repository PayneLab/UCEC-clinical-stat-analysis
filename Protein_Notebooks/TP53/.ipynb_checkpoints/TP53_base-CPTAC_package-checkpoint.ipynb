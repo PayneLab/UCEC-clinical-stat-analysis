{
 "cells": [
  {
   "cell_type": "markdown",
   "metadata": {},
   "source": [
    "   # TP53: Effects of Mutation on TP53"
   ]
  },
  {
   "cell_type": "markdown",
   "metadata": {},
   "source": [
    "<b>Standard imports for playing with and plotting data frames.</b>"
   ]
  },
  {
   "cell_type": "code",
   "execution_count": 1,
   "metadata": {},
   "outputs": [],
   "source": [
    "import pandas as pd\n",
    "import numpy as np\n",
    "import scipy.stats\n",
    "import matplotlib.pyplot as plt\n",
    "import seaborn as sns"
   ]
  },
  {
   "cell_type": "markdown",
   "metadata": {},
   "source": [
    "<b>Import CPTAC data</b>"
   ]
  },
  {
   "cell_type": "code",
   "execution_count": 2,
   "metadata": {
    "scrolled": true
   },
   "outputs": [
    {
     "name": "stdout",
     "output_type": "stream",
     "text": [
      "Loading Dictionary...\n",
      "Loading Clinical Data...\n",
      "Loading Proteomics Data...\n",
      "Loading Transcriptomics Data...\n",
      "Loading CNA Data...\n",
      "Loading Phosphoproteomics Data...\n",
      "Loading Somatic Data...\n",
      "\n",
      " ******PLEASE READ******\n",
      "WARNING: This data is under a publication embargo until July 1, 2019.\n",
      "CPTAC is a community resource project and data are made available\n",
      "rapidly after generation for community research use. The embargo\n",
      "allows exploring and utilizing the data, but the data may not be in a\n",
      "publication until July 1, 2019. Please see\n",
      "https://proteomics.cancer.gov/data-portal/about/data-use-agreement or\n",
      "enter CPTAC.embargo() to open the webpage for more details.\n"
     ]
    }
   ],
   "source": [
    "import CPTAC"
   ]
  },
  {
   "cell_type": "code",
   "execution_count": 3,
   "metadata": {},
   "outputs": [],
   "source": [
    "somatic_mutations = CPTAC.get_somatic()\n",
    "proteomics = CPTAC.get_proteomics()\n",
    "phos = CPTAC.get_phosphoproteomics()"
   ]
  },
  {
   "cell_type": "markdown",
   "metadata": {},
   "source": [
    "## TP53 protein abundance with TP53 mutation"
   ]
  },
  {
   "cell_type": "markdown",
   "metadata": {},
   "source": [
    "### Set gene and protein(s) of interest--in this case we are only looking at TP53--and then create the \"cross\" dataframe, which contains all the information we need for plotting this gene"
   ]
  },
  {
   "cell_type": "code",
   "execution_count": 28,
   "metadata": {},
   "outputs": [],
   "source": [
    "gene = \"TP53\"\n",
    "protList = [\"TP53\"]\n",
    "cross = CPTAC.compare_mutations(proteomics, gene)\n",
    "cross = cross[[\"Mutation\", protein]].dropna(axis=0)"
   ]
  },
  {
   "cell_type": "markdown",
   "metadata": {},
   "source": [
    "### Perform a t-test with mutated and non-mutated protein levels"
   ]
  },
  {
   "cell_type": "code",
   "execution_count": 31,
   "metadata": {
    "scrolled": false
   },
   "outputs": [
    {
     "name": "stdout",
     "output_type": "stream",
     "text": [
      "Test for TP53: \n",
      "Ttest_indResult(statistic=7.0566713806073675, pvalue=1.1550787698945065e-10)\n"
     ]
    }
   ],
   "source": [
    "for protein in protList:\n",
    "    mutated = cross.loc[cross[\"Mutation\"] != \"Wildtype\"]\n",
    "    wt = cross.loc[cross[\"Mutation\"] == \"Wildtype\"]\n",
    "    ttest = scipy.stats.ttest_ind(mutated[protein], wt[protein])\n",
    "    print(\"Test for \" + protein + \": \")\n",
    "    print(ttest)"
   ]
  },
  {
   "cell_type": "markdown",
   "metadata": {},
   "source": [
    "### We can now plot the data and see that TP53 has a significantly higher abundance when it is mutated (missense mutations specifically)"
   ]
  },
  {
   "cell_type": "code",
   "execution_count": 36,
   "metadata": {},
   "outputs": [
    {
     "data": {
      "image/png": "[encoded data removed]",
      "text/plain": [
       "<Figure size 842.4x595.44 with 1 Axes>"
      ]
     },
     "metadata": {
      "needs_background": "light"
     },
     "output_type": "display_data"
    }
   ],
   "source": [
    "a4_dims = (11.7, 8.27)\n",
    "fig, ax = plt.subplots(figsize=a4_dims)\n",
    "somatic_boxplot = sns.boxplot(data=cross, x=\"Mutation\",y=gene, ax = ax)\n",
    "somatic_boxplot.set_title(\"TP53 gene mutation protein abundance\")\n",
    "somatic_boxplot = sns.stripplot(data=cross, x=\"Mutation\", y=gene,jitter=True, color=\".3\")\n",
    "somatic_boxplot.set(xlabel=\"Somatic Gene Mutation\",ylabel=\"Proteomics\")\n",
    "plt.show()"
   ]
  },
  {
   "cell_type": "markdown",
   "metadata": {},
   "source": [
    "### TP53 phosphorylation levels and TP53 Mutation"
   ]
  },
  {
   "cell_type": "code",
   "execution_count": 12,
   "metadata": {},
   "outputs": [
    {
     "name": "stdout",
     "output_type": "stream",
     "text": [
      "Results for TP53-S315: \n",
      "Ttest_indResult(statistic=4.5116732692720705, pvalue=2.81407273681229e-05)\n"
     ]
    }
   ],
   "source": [
    "#Specify the gene and a general pattern for the sites you want to capture\n",
    "#In this case, we want all the sites that begin with 'TP53'\n",
    "gene = 'TP53'\n",
    "sites = phos.filter(regex='TP53-')\n",
    "sigResults = [];\n",
    "\n",
    "#Create two dataframes: mutated and non-mutated with the sites specified\n",
    "genedf = somatic_mutations[gene].to_frame()\n",
    "cross = genedf.add(sites, fill_value=0)\n",
    "mutated = cross.loc[cross[gene] == 1.0]\n",
    "wt = cross.loc[cross[gene] == 0.0]\n",
    "\n",
    "#Bonferroni correction for multiple tests (we are testing multiple sites)\n",
    "pcutoff = 0.05/len(cross.columns)\n",
    "\n",
    "#Loop through all of the sites found and print out the ones with significant p-values\n",
    "for loc in cross.columns:\n",
    "    if not loc == gene:\n",
    "        mutsitedf = mutated[[gene, loc]].dropna()\n",
    "        wtsitedf = wt[[gene, loc]].dropna()\n",
    "        ttest = scipy.stats.ttest_ind(mutsitedf[loc], wtsitedf[loc])\n",
    "        if ttest[1] <= pcutoff:\n",
    "            sigResults.append(loc)\n",
    "            print('Results for ' + loc + ': ')\n",
    "            print(ttest)"
   ]
  },
  {
   "cell_type": "markdown",
   "metadata": {},
   "source": [
    "### We see that this site is generally phosphorylated at higher levels when TP53 is mutated"
   ]
  },
  {
   "cell_type": "code",
   "execution_count": 15,
   "metadata": {
    "scrolled": true
   },
   "outputs": [
    {
     "data": {
      "text/plain": [
       "[Text(0,0.5,'Phosphoproteomics'), Text(0.5,0,'Somatic Gene Mutation')]"
      ]
     },
     "execution_count": 15,
     "metadata": {},
     "output_type": "execute_result"
    },
    {
     "data": {
      "image/png": "[encoded data removed]",
      "text/plain": [
       "<Figure size 432x288 with 1 Axes>"
      ]
     },
     "metadata": {
      "needs_background": "light"
     },
     "output_type": "display_data"
    }
   ],
   "source": [
    "#sigResults is a list with all of the significant sites from the previous calculation (in this case there is only 1).\n",
    "#Specify the index of the site you wish to visualize with x\n",
    "\n",
    "x = 0\n",
    "somatic_boxplot = sns.boxplot(data=cross, x=gene ,y=sigResults[x])\n",
    "somatic_boxplot.set_title(gene + \" gene mutation and \" + sigResults[x] + \" phosphorylation levels\")\n",
    "somatic_boxplot = sns.stripplot(data=cross, x=gene, y=sigResults[x],jitter=True, color=\".3\")\n",
    "somatic_boxplot.set(xlabel=\"Somatic Gene Mutation\",ylabel=\"Phosphoproteomics\")"
   ]
  },
  {
   "cell_type": "code",
   "execution_count": null,
   "metadata": {},
   "outputs": [],
   "source": []
  }
 ],
 "metadata": {
  "kernelspec": {
   "display_name": "Python 3",
   "language": "python",
   "name": "python3"
  },
  "language_info": {
   "codemirror_mode": {
    "name": "ipython",
    "version": 3
   },
   "file_extension": ".py",
   "mimetype": "text/x-python",
   "name": "python",
   "nbconvert_exporter": "python",
   "pygments_lexer": "ipython3",
   "version": "3.7.0"
  }
 },
 "nbformat": 4,
 "nbformat_minor": 2
}
