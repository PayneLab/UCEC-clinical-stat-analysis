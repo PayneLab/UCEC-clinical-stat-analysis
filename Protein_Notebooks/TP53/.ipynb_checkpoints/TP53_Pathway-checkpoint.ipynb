{
 "cells": [
  {
   "cell_type": "markdown",
   "metadata": {},
   "source": [
    "   # TP53: Effects of Mutation"
   ]
  },
  {
   "cell_type": "markdown",
   "metadata": {},
   "source": [
    "<b>Standard imports for playing with and plotting data frames.</b>"
   ]
  },
  {
   "cell_type": "code",
   "execution_count": 3,
   "metadata": {},
   "outputs": [
    {
     "data": {
      "text/plain": [
       "RendererRegistry.enable('notebook')"
      ]
     },
     "execution_count": 3,
     "metadata": {},
     "output_type": "execute_result"
    }
   ],
   "source": [
    "import pandas as pd\n",
    "import numpy as np\n",
    "import scipy.stats\n",
    "from scipy.stats import pearsonr\n",
    "import matplotlib.pyplot as plt\n",
    "import seaborn as sns\n",
    "import altair as alt\n",
    "\n",
    "alt.renderers.enable('notebook')"
   ]
  },
  {
   "cell_type": "markdown",
   "metadata": {},
   "source": [
    "<b>Import CPTAC data</b>"
   ]
  },
  {
   "cell_type": "code",
   "execution_count": 4,
   "metadata": {
    "scrolled": true
   },
   "outputs": [
    {
     "name": "stdout",
     "output_type": "stream",
     "text": [
      "Loading Clinical Data...\n",
      "Loading Proteomics Data...\n",
      "Loading Transcriptomics Data...\n",
      "Loading CNA Data...\n",
      "Loading Phosphoproteomics Data...\n",
      "Loading Somatic Data...\n",
      "\n",
      " ******PLEASE READ******\n",
      "WARNING: This data is under a publication embargo until July 1, 2019. CPTAC is a community resource project and data are made available rapidly after generation for community research use. The embargo allows exploring and utilizing the data, but the data may not be in a publication until July 1, 2019. Please see https://proteomics.cancer.gov/data-portal/about/data-use-agreement or enter CPTAC.embargo() to open the webpage for more details.\n"
     ]
    }
   ],
   "source": [
    "import CPTAC"
   ]
  },
  {
   "cell_type": "code",
   "execution_count": 5,
   "metadata": {},
   "outputs": [],
   "source": [
    "somatic_mutations = CPTAC.get_somatic()\n",
    "proteomics = CPTAC.get_proteomics()\n",
    "phos = CPTAC.get_phosphoproteomics()"
   ]
  },
  {
   "cell_type": "markdown",
   "metadata": {},
   "source": [
    "### List of proteins that are affected by TP53 (somewhere along the pathway)"
   ]
  },
  {
   "cell_type": "code",
   "execution_count": 10,
   "metadata": {},
   "outputs": [],
   "source": [
    "protList = ['BAX', 'FAS', 'BCL2', 'CREBBP', 'CDK2', 'MDM2', 'CDKN2A', 'CDKN1A', 'ATM', 'MDM4']"
   ]
  },
  {
   "cell_type": "markdown",
   "metadata": {},
   "source": [
    "### Proteome abundance"
   ]
  },
  {
   "cell_type": "code",
   "execution_count": 12,
   "metadata": {},
   "outputs": [
    {
     "name": "stdout",
     "output_type": "stream",
     "text": [
      "Test for FAS: \n",
      "Ttest_indResult(statistic=-5.5103825350041875, pvalue=2.894104669939677e-07)\n",
      "Test for CDK2: \n",
      "Ttest_indResult(statistic=3.5157649029196443, pvalue=0.0006658078140619433)\n",
      "Test for CDKN2A: \n",
      "Ttest_indResult(statistic=4.344971931273746, pvalue=3.583610475413602e-05)\n",
      "Test for CDKN1A: \n",
      "Ttest_indResult(statistic=-3.2487489884354845, pvalue=0.0016136342251464122)\n"
     ]
    }
   ],
   "source": [
    "gene = 'TP53'\n",
    "sigList = [];\n",
    "\n",
    "pcutoff = 0.05/len(protList)\n",
    "\n",
    "genedf = somatic_mutations[gene].to_frame()\n",
    "for protein in protList:\n",
    "    if protein in proteomics.columns:\n",
    "        proteindf = proteomics[protein].to_frame()\n",
    "        proteindfName = protein + \" protein\"\n",
    "        proteindf.columns = [proteindfName]\n",
    "        cross = genedf.add(proteindf, fill_value=0).dropna(axis=0)\n",
    "        mutated = cross.loc[cross[gene] == 1.0]\n",
    "        wt = cross.loc[cross[gene] == 0.0]\n",
    "        ttest = scipy.stats.ttest_ind(mutated[proteindfName], wt[proteindfName])\n",
    "        if ttest[1] <= pcutoff:\n",
    "            sigList.append(protein)\n",
    "            print(\"Test for \" + protein + \": \")\n",
    "            print(ttest)"
   ]
  },
  {
   "cell_type": "markdown",
   "metadata": {},
   "source": [
    "### List of significantly affected proteins"
   ]
  },
  {
   "cell_type": "code",
   "execution_count": 13,
   "metadata": {},
   "outputs": [
    {
     "name": "stdout",
     "output_type": "stream",
     "text": [
      "['FAS', 'CDK2', 'CDKN2A', 'CDKN1A']\n"
     ]
    }
   ],
   "source": [
    "print(sigList)"
   ]
  },
  {
   "cell_type": "markdown",
   "metadata": {},
   "source": [
    "### Phosphoproteome abundance of pathway proteins"
   ]
  },
  {
   "cell_type": "code",
   "execution_count": 14,
   "metadata": {},
   "outputs": [
    {
     "name": "stdout",
     "output_type": "stream",
     "text": [
      "Results for BCL2L12-S273: \n",
      "Ttest_indResult(statistic=3.6925070055844387, pvalue=0.0004158661622105229)\n",
      "Results for CREBBP-T974: \n",
      "Ttest_indResult(statistic=-3.9777257442589176, pvalue=0.0002018327186438462)\n"
     ]
    }
   ],
   "source": [
    "gene = 'TP53'\n",
    "genedf = somatic_mutations[gene].to_frame()\n",
    "sigPhosResults = [];\n",
    "\n",
    "for protein in protList:\n",
    "    sites = phos.filter(regex=protein)\n",
    "    genedf = genedf.add(sites, fill_value=0)\n",
    "\n",
    "mutated = genedf.loc[genedf[gene] == 1.0]\n",
    "wt = genedf.loc[genedf[gene] == 0.0]\n",
    "\n",
    "pcutoff = 0.05 / len(genedf.columns)\n",
    "\n",
    "for loc in genedf.columns:\n",
    "    if not loc == gene:\n",
    "        mutsitedf = mutated[[gene, loc]].dropna()\n",
    "        wtsitedf = wt[[gene, loc]].dropna()\n",
    "        ttest = scipy.stats.ttest_ind(mutsitedf[loc], wtsitedf[loc])\n",
    "        if(ttest[1] <= pcutoff):\n",
    "            sigPhosResults.append(loc)\n",
    "            print('Results for ' + loc + ': ')\n",
    "            print(ttest)\n",
    " "
   ]
  },
  {
   "cell_type": "markdown",
   "metadata": {},
   "source": [
    "### List of significantly affected phosphorylation sites"
   ]
  },
  {
   "cell_type": "code",
   "execution_count": 15,
   "metadata": {},
   "outputs": [
    {
     "name": "stdout",
     "output_type": "stream",
     "text": [
      "['BCL2L12-S273', 'CREBBP-T974']\n"
     ]
    }
   ],
   "source": [
    "print(sigPhosResults)"
   ]
  },
  {
   "cell_type": "code",
   "execution_count": null,
   "metadata": {},
   "outputs": [],
   "source": []
  }
 ],
 "metadata": {
  "kernelspec": {
   "display_name": "Python 3",
   "language": "python",
   "name": "python3"
  },
  "language_info": {
   "codemirror_mode": {
    "name": "ipython",
    "version": 3
   },
   "file_extension": ".py",
   "mimetype": "text/x-python",
   "name": "python",
   "nbconvert_exporter": "python",
   "pygments_lexer": "ipython3",
   "version": "3.7.0"
  }
 },
 "nbformat": 4,
 "nbformat_minor": 2
}
