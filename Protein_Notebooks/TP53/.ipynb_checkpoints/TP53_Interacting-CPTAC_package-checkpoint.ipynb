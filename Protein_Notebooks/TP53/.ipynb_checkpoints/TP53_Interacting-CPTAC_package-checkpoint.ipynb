{
 "cells": [
  {
   "cell_type": "markdown",
   "metadata": {},
   "source": [
    "   # TP53: Effects of Mutation on Interacting Proteins"
   ]
  },
  {
   "cell_type": "markdown",
   "metadata": {},
   "source": [
    "<b>Standard imports for playing with and plotting data frames.</b>"
   ]
  },
  {
   "cell_type": "code",
   "execution_count": 2,
   "metadata": {},
   "outputs": [],
   "source": [
    "import pandas as pd\n",
    "import numpy as np\n",
    "import scipy.stats\n",
    "import matplotlib.pyplot as plt\n",
    "import seaborn as sns"
   ]
  },
  {
   "cell_type": "markdown",
   "metadata": {},
   "source": [
    "<b>Import CPTAC data</b>"
   ]
  },
  {
   "cell_type": "code",
   "execution_count": 3,
   "metadata": {
    "scrolled": true
   },
   "outputs": [
    {
     "name": "stdout",
     "output_type": "stream",
     "text": [
      "Loading Dictionary...\n",
      "Loading Clinical Data...\n",
      "Loading Proteomics Data...\n",
      "Loading Transcriptomics Data...\n",
      "Loading CNA Data...\n",
      "Loading Phosphoproteomics Data...\n",
      "Loading Somatic Data...\n",
      "\n",
      " ******PLEASE READ******\n",
      "WARNING: This data is under a publication embargo until July 1, 2019.\n",
      "CPTAC is a community resource project and data are made available\n",
      "rapidly after generation for community research use. The embargo\n",
      "allows exploring and utilizing the data, but the data may not be in a\n",
      "publication until July 1, 2019. Please see\n",
      "https://proteomics.cancer.gov/data-portal/about/data-use-agreement or\n",
      "enter CPTAC.embargo() to open the webpage for more details.\n"
     ]
    }
   ],
   "source": [
    "import CPTAC"
   ]
  },
  {
   "cell_type": "code",
   "execution_count": 4,
   "metadata": {},
   "outputs": [],
   "source": [
    "somatic_mutations = CPTAC.get_somatic()\n",
    "proteomics = CPTAC.get_proteomics()\n",
    "phos = CPTAC.get_phosphoproteomics()"
   ]
  },
  {
   "cell_type": "markdown",
   "metadata": {},
   "source": [
    "### List of proteins that interact with TP53 (according to Uniprot)"
   ]
  },
  {
   "cell_type": "code",
   "execution_count": 5,
   "metadata": {},
   "outputs": [],
   "source": [
    "gene = 'TP53'\n",
    "protList = ['AXIN1', 'EP300', 'HRMT1L2', 'CARM1', 'TAF1', 'ING4', 'CABLES1', \n",
    "            'TP73', 'HIPK1', 'HIPK2', 'TP53INP1', 'WWOX', 'HCV', 'USP7', 'SYVN1', 'HSP90AB1',\n",
    "           'CHD8', 'ARMC10', 'BANP', 'CDKN2AIP', 'NUAK1', 'STK11', 'LKB1', 'UHRF2', 'E4F1', 'YWHAZ',\n",
    "           'MAML1', 'MKRN1', 'PML', 'MDM2', 'FBXO42', 'ATM', 'PP2R2A', 'AURKA', 'DAXX', 'BRD7', 'TRIM24',\n",
    "           'L3MBTL1', 'GRK5', 'CAK', 'PTK2B', 'PYK2', 'MDM2', 'PRKCG', 'PPIF', 'KAT6A', 'UBC9', 'ZNF385B',\n",
    "           'ZNF385A', 'ANKRD2', 'RFFL', 'RNF34', 'MTA1', 'COP1', 'CCAR2', 'MORC3', 'POU4F2', 'AFG1L', 'UBD',\n",
    "           'TAF6', 'HPV', 'UL123', 'E1B-55K']"
   ]
  },
  {
   "cell_type": "markdown",
   "metadata": {},
   "source": [
    "### t-test for proteome abundance of proteins that interact with TP53"
   ]
  },
  {
   "cell_type": "code",
   "execution_count": 19,
   "metadata": {},
   "outputs": [
    {
     "name": "stdout",
     "output_type": "stream",
     "text": [
      "Test for CABLES1: \n",
      "Ttest_indResult(statistic=-5.526113212981582, pvalue=1.5642179112840962e-07)\n",
      "Test for HSP90AB1: \n",
      "Ttest_indResult(statistic=5.882643787428492, pvalue=2.8715928322728835e-08)\n",
      "Test for CHD8: \n",
      "Ttest_indResult(statistic=6.016457254749829, pvalue=1.4970849577603897e-08)\n",
      "Test for CDKN2AIP: \n",
      "Ttest_indResult(statistic=-4.095413977269885, pvalue=7.119358825626157e-05)\n",
      "Test for STK11: \n",
      "Ttest_indResult(statistic=-4.607534734884108, pvalue=9.4861625780165e-06)\n",
      "Test for UHRF2: \n",
      "Ttest_indResult(statistic=-4.24635111185497, pvalue=3.952804257074046e-05)\n",
      "Test for AURKA: \n",
      "Ttest_indResult(statistic=5.649258571642828, pvalue=2.0459530007128353e-07)\n",
      "Test for DAXX: \n",
      "Ttest_indResult(statistic=4.273350216461426, pvalue=3.5524645128219265e-05)\n",
      "Test for PPIF: \n",
      "Ttest_indResult(statistic=4.613868921919725, pvalue=8.88734334262369e-06)\n",
      "Test for AFG1L: \n",
      "Ttest_indResult(statistic=-4.06931638012967, pvalue=8.132503764345396e-05)\n"
     ]
    }
   ],
   "source": [
    "sigList = [];\n",
    "\n",
    "#Bonferroni correction since we are testing multiple proteins at once\n",
    "pcutoff = 0.05/len(protList)\n",
    "\n",
    "for protein in protList: \n",
    "    if protein in proteomics.columns:\n",
    "        cross = CPTAC.compare_mutations(proteomics, protein, gene)\n",
    "        cross = cross[[\"Mutation\", protein]].dropna(axis=0)\n",
    "        mutated = cross.loc[cross[\"Mutation\"] != \"Wildtype\"]\n",
    "        wt = cross.loc[cross[\"Mutation\"] == \"Wildtype\"]\n",
    "        ttest = scipy.stats.ttest_ind(mutated[protein], wt[protein])\n",
    "        if(ttest[1] <= pcutoff):\n",
    "            sigList.append(protein)\n",
    "            print(\"Test for \" + protein + \": \")\n",
    "            print(ttest) "
   ]
  },
  {
   "cell_type": "markdown",
   "metadata": {},
   "source": [
    "### List of significantly affected proteins"
   ]
  },
  {
   "cell_type": "code",
   "execution_count": 18,
   "metadata": {},
   "outputs": [
    {
     "name": "stdout",
     "output_type": "stream",
     "text": [
      "['CABLES1', 'HSP90AB1', 'CHD8', 'CDKN2AIP', 'STK11', 'UHRF2', 'AURKA', 'DAXX', 'PPIF', 'AFG1L']\n"
     ]
    }
   ],
   "source": [
    "print(sigList)"
   ]
  },
  {
   "cell_type": "markdown",
   "metadata": {},
   "source": [
    "### Phosphoproteome abundance of interacting proteins"
   ]
  },
  {
   "cell_type": "code",
   "execution_count": 7,
   "metadata": {},
   "outputs": [],
   "source": [
    "#This is the same list as before, with some of the end numbers of the proteins removed\n",
    "#Less specificity in protein names captures more potentially significant results in the phosphoproteomic data\n",
    "\n",
    "phosProtList = ['AXIN', 'EP', 'HRMT', 'CARM', 'TAF', 'ING', 'CABLES', \n",
    "            'TP73', 'HIPK', 'TP53INP', 'WWOX', 'HCV', 'USP', 'SYVN', 'HSP90AB1',\n",
    "           'CHD', 'ARMC', 'BANP', 'CDKN', 'NUAK', 'STK', 'LKB', 'UHRF', 'E4F', 'YWHAZ',\n",
    "           'MAML', 'MKRN', 'PML', 'MDM', 'FBXO', 'ATM', 'PP2R', 'AURKA', 'DAXX', 'BRD', 'TRIM',\n",
    "           'L3MBTL', 'GRK', 'CAK', 'PTK', 'PYK', 'PRKCG', 'PPIF', 'KAT', 'UBC', 'ZNF',\n",
    "            'ANKRD', 'RFFL', 'RNF', 'MTA', 'COP', 'CCAR', 'MORC', 'POU4F', 'AFG1L', 'UBD',\n",
    "           'TAF', 'HPV', 'UL1', 'E1B']"
   ]
  },
  {
   "cell_type": "code",
   "execution_count": 8,
   "metadata": {},
   "outputs": [],
   "source": [
    "sigPhosResults = [];\n",
    "\n",
    "#Bonferroni correction for all the sites we are testing at once\n",
    "#pcutoff = 0.05 / len(genedf.columns)\n",
    "\n",
    "#Test each protein one by one and print significant results\n",
    "for pattern in phosProtList:\n",
    "    if(len(testResults) > 0):\n",
    "        for result in testResults:\n",
    "            print(result)"
   ]
  },
  {
   "cell_type": "markdown",
   "metadata": {},
   "source": [
    "### List of significantly affected phosphorylation sites"
   ]
  },
  {
   "cell_type": "code",
   "execution_count": 14,
   "metadata": {
    "scrolled": true
   },
   "outputs": [
    {
     "name": "stdout",
     "output_type": "stream",
     "text": [
      "['CHD4-S1570', 'FBXO4-S12', 'HSP90AB1-S226', 'HSP90AB1-S255', 'HSP90AB1-S261', 'RNF219-S210', 'TRIM2-S402', 'USP39-S82', 'USP43-S625', 'USP47-S1013', 'ZNF318-S1043', 'ZNF318-S1243', 'ZNF326-S478', 'ZNF638-S1401']\n"
     ]
    }
   ],
   "source": [
    "print(sigPhosResults)"
   ]
  }
 ],
 "metadata": {
  "kernelspec": {
   "display_name": "Python 3",
   "language": "python",
   "name": "python3"
  },
  "language_info": {
   "codemirror_mode": {
    "name": "ipython",
    "version": 3
   },
   "file_extension": ".py",
   "mimetype": "text/x-python",
   "name": "python",
   "nbconvert_exporter": "python",
   "pygments_lexer": "ipython3",
   "version": "3.7.0"
  }
 },
 "nbformat": 4,
 "nbformat_minor": 2
}
