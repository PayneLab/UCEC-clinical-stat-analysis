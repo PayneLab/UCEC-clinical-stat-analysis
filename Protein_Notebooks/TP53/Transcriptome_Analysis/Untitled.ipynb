{
 "cells": [
  {
   "cell_type": "code",
   "execution_count": null,
   "metadata": {},
   "outputs": [],
   "source": []
  },
  {
   "cell_type": "code",
   "execution_count": null,
   "metadata": {},
   "outputs": [],
   "source": [
    "for protein in all_mut_unique_array:\n",
    "    prot_df = CPTAC.compare_mutations(proteomics, protein, gene)\n",
    "    prot_df.loc[prot_df['Sample_Status'] == 'Tumor', 'Designation'] = 'non_hospot'\n",
    "    prot_df.loc[hotspot_patients, 'Designation'] = 'hotspot'\n",
    "    prot_df.loc[prot_df['Mutation'] == 'Wildtype_Tumor', 'Designation'] = 'wildtype'\n",
    "    prot_df = prot_df.loc[prot_df['Sample_Status'] == 'Tumor'].dropna(axis=0)\n",
    "    mut_mean = prot_df.loc[prot_df['Designation'] != 'wildtype', protein].mean()\n",
    "    wt_mean = prot_df.loc[prot_df['Designation'] == 'wildtype', protein].mean()\n",
    "    prot = wt_mean - mut_mean\n",
    "    all_mut_unique_df.loc[all_mut_unique_df['Protein'] == protein, 'Δprot'] = prot\n",
    "    mut_ttest = prot_df.loc[prot_df['Designation'] != 'wildtype']\n",
    "    wt_ttest = prot_df.loc[prot_df['Designation'] == 'wildtype']\n",
    "    ttest = scipy.stats.ttest_ind(mut_ttest[protein], wt_ttest[protein])\n",
    "    all_mut_unique_df.loc[all_mut_unique_df['Protein'] == protein, 'prot p'] = ttest[1]\n",
    "   \n",
    "    prot_df = CPTAC.compare_mutations(transcriptomics, protein, gene)\n",
    "    prot_df.loc[prot_df['Sample_Status'] == 'Tumor', 'Designation'] = 'non_hospot'\n",
    "    prot_df.loc[hotspot_patients, 'Designation'] = 'hotspot'\n",
    "    prot_df.loc[prot_df['Mutation'] == 'Wildtype_Tumor', 'Designation'] = 'wildtype'\n",
    "    prot_df = prot_df.loc[prot_df['Sample_Status'] == 'Tumor'].dropna(axis=0)\n",
    "    mut_mean = prot_df.loc[prot_df['Designation'] != 'wildtype', protein].mean()\n",
    "    wt_mean = prot_df.loc[prot_df['Designation'] == 'wildtype', protein].mean()\n",
    "    prot = wt_mean - mut_mean\n",
    "    all_mut_unique_df.loc[all_mut_unique_df['Protein'] == protein, 'Δprot'] = prot\n",
    "    mut_ttest = prot_df.loc[prot_df['Designation'] != 'wildtype']\n",
    "    wt_ttest = prot_df.loc[prot_df['Designation'] == 'wildtype']\n",
    "    ttest = scipy.stats.ttest_ind(mut_ttest[protein], wt_ttest[protein])\n",
    "    all_mut_unique_df.loc[all_mut_unique_df['Protein'] == protein, 'prot p'] = ttest[1] "
   ]
  }
 ],
 "metadata": {
  "kernelspec": {
   "display_name": "Python 3",
   "language": "python",
   "name": "python3"
  },
  "language_info": {
   "codemirror_mode": {
    "name": "ipython",
    "version": 3
   },
   "file_extension": ".py",
   "mimetype": "text/x-python",
   "name": "python",
   "nbconvert_exporter": "python",
   "pygments_lexer": "ipython3",
   "version": "3.7.2"
  }
 },
 "nbformat": 4,
 "nbformat_minor": 2
}
