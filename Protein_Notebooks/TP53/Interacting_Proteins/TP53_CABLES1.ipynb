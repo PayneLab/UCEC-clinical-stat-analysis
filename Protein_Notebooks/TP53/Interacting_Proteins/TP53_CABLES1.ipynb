{
 "cells": [
  {
   "cell_type": "markdown",
   "metadata": {},
   "source": [
    "   # TP53: Effects of Mutation on CABLES1"
   ]
  },
  {
   "cell_type": "markdown",
   "metadata": {},
   "source": [
    "<b>Standard imports for playing with and plotting data frames.</b>"
   ]
  },
  {
   "cell_type": "code",
   "execution_count": 1,
   "metadata": {},
   "outputs": [],
   "source": [
    "import pandas as pd\n",
    "import numpy as np\n",
    "import scipy.stats\n",
    "from scipy.stats import pearsonr\n",
    "import matplotlib.pyplot as plt\n",
    "import seaborn as sns"
   ]
  },
  {
   "cell_type": "markdown",
   "metadata": {},
   "source": [
    "<b>Import CPTAC data</b>"
   ]
  },
  {
   "cell_type": "code",
   "execution_count": 2,
   "metadata": {
    "scrolled": true
   },
   "outputs": [
    {
     "name": "stdout",
     "output_type": "stream",
     "text": [
      "Loading Dictionary...\n",
      "Loading Clinical Data...\n",
      "Loading Proteomics Data...\n",
      "Loading Transcriptomics Data...\n",
      "Loading CNA Data...\n",
      "Loading Phosphoproteomics Data...\n",
      "Loading Somatic Mutation Data...\n",
      "\n",
      " ******PLEASE READ******\n",
      "WARNING: This data is under a publication embargo until July 1, 2019.\n",
      "CPTAC is a community resource project and data are made available\n",
      "rapidly after generation for community research use. The embargo\n",
      "allows exploring and utilizing the data, but the data may not be in a\n",
      "publication until July 1, 2019. Please see\n",
      "https://proteomics.cancer.gov/data-portal/about/data-use-agreement or\n",
      "enter CPTAC.embargo() to open the webpage for more details.\n"
     ]
    }
   ],
   "source": [
    "import CPTAC"
   ]
  },
  {
   "cell_type": "code",
   "execution_count": 3,
   "metadata": {},
   "outputs": [],
   "source": [
    "somatic_mutations = CPTAC.get_somatic()\n",
    "proteomics = CPTAC.get_proteomics()\n",
    "phos = CPTAC.get_phosphoproteomics()"
   ]
  },
  {
   "cell_type": "markdown",
   "metadata": {},
   "source": [
    "### We originally tested 78 proteins, so our adjusted p-value is:"
   ]
  },
  {
   "cell_type": "code",
   "execution_count": 12,
   "metadata": {},
   "outputs": [
    {
     "data": {
      "text/plain": [
       "0.000641025641025641"
      ]
     },
     "execution_count": 12,
     "metadata": {},
     "output_type": "execute_result"
    }
   ],
   "source": [
    "p_cutoff = 0.05 / 78\n",
    "p_cutoff"
   ]
  },
  {
   "cell_type": "markdown",
   "metadata": {},
   "source": [
    "### CABLES1 mutation and CABLES1 proteome abundance\n",
    "<b>Note: We are doing this as a check to make sure the changes we're seeing in CABLES1 aren't due to mutations in CABLES1 itself</b>"
   ]
  },
  {
   "cell_type": "code",
   "execution_count": 4,
   "metadata": {},
   "outputs": [
    {
     "name": "stdout",
     "output_type": "stream",
     "text": [
      "Test for CABLES1: \n",
      "Ttest_indResult(statistic=-1.2891769317093178, pvalue=0.20037119557275473)\n"
     ]
    }
   ],
   "source": [
    "gene = \"CABLES1\"\n",
    "protein = \"CABLES1\"\n",
    "\n",
    "cablesCross = CPTAC.compare_mutations(proteomics, gene)\n",
    "cablesCross = cablesCross.loc[cablesCross['Patient_Type'] == 'Tumor'][[\"Mutation\", protein]].dropna(axis=0)\n",
    "\n",
    "CABLES1mutated = cablesCross.loc[cablesCross[\"Mutation\"] != \"Wildtype\"]\n",
    "CABLES1wt = cablesCross.loc[cablesCross[\"Mutation\"] == \"Wildtype\"]\n",
    "ttest = scipy.stats.ttest_ind(CABLES1mutated[protein], CABLES1wt[protein])\n",
    "print(\"Test for \" + protein + \": \")\n",
    "print(ttest)"
   ]
  },
  {
   "cell_type": "code",
   "execution_count": 5,
   "metadata": {},
   "outputs": [
    {
     "data": {
      "text/plain": [
       "2"
      ]
     },
     "execution_count": 5,
     "metadata": {},
     "output_type": "execute_result"
    }
   ],
   "source": [
    "len(CABLES1mutated)"
   ]
  },
  {
   "cell_type": "code",
   "execution_count": 6,
   "metadata": {},
   "outputs": [
    {
     "data": {
      "image/png": "[encoded data removed]",
      "text/plain": [
       "<Figure size 842.4x595.44 with 1 Axes>"
      ]
     },
     "metadata": {
      "needs_background": "light"
     },
     "output_type": "display_data"
    }
   ],
   "source": [
    "a4_dims = (11.7, 8.27)\n",
    "fig, ax = plt.subplots(figsize=a4_dims)\n",
    "somatic_boxplot = sns.boxplot(data=cablesCross, x=\"Mutation\",y=protein, ax = ax)\n",
    "somatic_boxplot.set_title(\"CABLES1 gene mutation and \" + protein + \" protein abundance\")\n",
    "somatic_boxplot = sns.stripplot(data=cablesCross, x=\"Mutation\", y=protein,jitter=True, color=\".3\")\n",
    "somatic_boxplot.set(xlabel=\"Somatic Gene Mutation\",ylabel=\"Proteomics\")\n",
    "plt.show()"
   ]
  },
  {
   "cell_type": "markdown",
   "metadata": {},
   "source": [
    "### TP53 mutation and CABLES1 proteome abundance (missense only)"
   ]
  },
  {
   "cell_type": "code",
   "execution_count": 10,
   "metadata": {},
   "outputs": [
    {
     "name": "stdout",
     "output_type": "stream",
     "text": [
      "Test for CABLES1: \n",
      "Ttest_indResult(statistic=-3.3890816898821754, pvalue=0.0010467531155504196)\n"
     ]
    }
   ],
   "source": [
    "gene = \"TP53\"\n",
    "protein = \"CABLES1\"\n",
    "\n",
    "cablesCross = CPTAC.compare_mutations(proteomics, protein, gene)\n",
    "cablesCross = cablesCross.loc[cablesCross['Patient_Type'] == 'Tumor'][[\"Mutation\", protein]].dropna(axis=0)\n",
    "\n",
    "CABLES1mutated = cablesCross.loc[cablesCross[\"Mutation\"] == \"Missense_Mutation\"]\n",
    "CABLES1wt = cablesCross.loc[cablesCross[\"Mutation\"] == \"Wildtype\"]\n",
    "ttest = scipy.stats.ttest_ind(CABLES1mutated[protein], CABLES1wt[protein])\n",
    "print(\"Test for \" + protein + \": \")\n",
    "print(ttest)"
   ]
  },
  {
   "cell_type": "markdown",
   "metadata": {},
   "source": [
    "### TP53 mutation and CABLES1 proteome abundance (truncation only) *below p-cutoff"
   ]
  },
  {
   "cell_type": "code",
   "execution_count": 11,
   "metadata": {},
   "outputs": [
    {
     "name": "stdout",
     "output_type": "stream",
     "text": [
      "Test for CABLES1: \n",
      "Ttest_indResult(statistic=-3.7356442692900407, pvalue=0.0003471526801904925)\n"
     ]
    }
   ],
   "source": [
    "gene = \"TP53\"\n",
    "protein = \"CABLES1\"\n",
    "\n",
    "cablesCross = CPTAC.compare_mutations(proteomics, protein, gene)\n",
    "cablesCross = cablesCross.loc[cablesCross['Patient_Type'] == 'Tumor'][[\"Mutation\", protein]].dropna(axis=0)\n",
    "\n",
    "CABLES1mutated = cablesCross.loc[(cablesCross[\"Mutation\"] == \"Frame_Shift_Del\") | (cablesCross[\"Mutation\"] == \"Frame_Shift_Ins\") | (cablesCross[\"Mutation\"] == \"Nonsense_Mutation\")]\n",
    "CABLES1wt = cablesCross.loc[cablesCross[\"Mutation\"] == \"Wildtype\"]\n",
    "ttest = scipy.stats.ttest_ind(CABLES1mutated[protein], CABLES1wt[protein])\n",
    "print(\"Test for \" + protein + \": \")\n",
    "print(ttest)"
   ]
  },
  {
   "cell_type": "markdown",
   "metadata": {},
   "source": [
    "### TP53 mutation and CABLES1 proteome abundance (all mutation) *below p-cutoff"
   ]
  },
  {
   "cell_type": "code",
   "execution_count": 13,
   "metadata": {},
   "outputs": [
    {
     "name": "stdout",
     "output_type": "stream",
     "text": [
      "Test for CABLES1: \n",
      "Ttest_indResult(statistic=-4.533885225055603, pvalue=1.6398425638878636e-05)\n"
     ]
    }
   ],
   "source": [
    "gene = \"TP53\"\n",
    "protein = \"CABLES1\"\n",
    "\n",
    "cablesCross = CPTAC.compare_mutations(proteomics, protein, gene)\n",
    "cablesCross = cablesCross.loc[cablesCross['Patient_Type'] == 'Tumor'][[\"Mutation\", protein]].dropna(axis=0)\n",
    "\n",
    "CABLES1mutated = cablesCross.loc[cablesCross[\"Mutation\"] != \"Wildtype\"]\n",
    "CABLES1wt = cablesCross.loc[cablesCross[\"Mutation\"] == \"Wildtype\"]\n",
    "ttest = scipy.stats.ttest_ind(CABLES1mutated[protein], CABLES1wt[protein])\n",
    "print(\"Test for \" + protein + \": \")\n",
    "print(ttest)"
   ]
  },
  {
   "cell_type": "markdown",
   "metadata": {},
   "source": [
    "### TP53 mutation and CABLES1 phosphoproteomics (missense only)"
   ]
  },
  {
   "cell_type": "code",
   "execution_count": 14,
   "metadata": {},
   "outputs": [
    {
     "name": "stdout",
     "output_type": "stream",
     "text": [
      "0.008333333333333333\n",
      "Test for CABLES1-S290: \n",
      "Ttest_indResult(statistic=-2.8992625458884373, pvalue=0.0044490598821727055)\n",
      "Test for CABLES1-S373: \n",
      "Ttest_indResult(statistic=-3.0707852050942472, pvalue=0.002679683456145554)\n"
     ]
    }
   ],
   "source": [
    "phosdf = CPTAC.compare_mutations(phos, protein, gene)\n",
    "phosdf = phosdf.loc[phosdf['Patient_Type'] == 'Tumor'].drop('Patient_Type', axis=1)\n",
    "pcutoff = 0.05 / (len(phosdf.columns) - 1)\n",
    "print(pcutoff)\n",
    "\n",
    "for site in phosdf.columns:\n",
    "    if site is not 'Mutation':\n",
    "        sitedf = CPTAC.compare_mutations(phos, site, gene)\n",
    "        mutateddf = sitedf.loc[sitedf['Mutation'] == 'Missense_Mutation'].dropna(axis=0)\n",
    "        wtdf = sitedf.loc[sitedf['Mutation'] == 'Wildtype'].dropna(axis=0)\n",
    "        ttest = scipy.stats.ttest_ind(mutateddf[site], wtdf[site])\n",
    "        if(ttest[1] <= pcutoff):\n",
    "            print(\"Test for \" + site + \": \")\n",
    "            print(ttest) "
   ]
  },
  {
   "cell_type": "markdown",
   "metadata": {},
   "source": [
    "### TP53 mutation and CABLES1 phosphoproteomics (truncation only)"
   ]
  },
  {
   "cell_type": "code",
   "execution_count": 18,
   "metadata": {},
   "outputs": [],
   "source": [
    "phosdf = CPTAC.compare_mutations(phos, protein, gene)\n",
    "phosdf = phosdf.loc[phosdf['Patient_Type'] == 'Tumor'].drop('Patient_Type', axis=1)\n",
    "pcutoff = 0.05 / (len(phosdf.columns) - 1)\n",
    "\n",
    "for site in phosdf.columns:\n",
    "    if site is not 'Mutation':\n",
    "        sitedf = CPTAC.compare_mutations(phos, site, gene)\n",
    "        mutateddf = sitedf.loc[(sitedf[\"Mutation\"] == \"Frame_Shift_Del\") | (sitedf[\"Mutation\"] == \"Frame_Shift_Ins\") | (sitedf[\"Mutation\"] == \"Nonsense_Mutation\")]\n",
    "        wtdf = sitedf.loc[sitedf['Mutation'] == 'Wildtype'].dropna(axis=0)\n",
    "        ttest = scipy.stats.ttest_ind(mutateddf[site], wtdf[site])\n",
    "        if(ttest[1] <= pcutoff):\n",
    "            print(\"Test for \" + site + \": \")\n",
    "            print(ttest) "
   ]
  },
  {
   "cell_type": "markdown",
   "metadata": {},
   "source": [
    "### TP53 mutation and CABLES1 phosphoproteomics (all mutation)"
   ]
  },
  {
   "cell_type": "code",
   "execution_count": 20,
   "metadata": {},
   "outputs": [
    {
     "name": "stdout",
     "output_type": "stream",
     "text": [
      "Test for CABLES1-S109: \n",
      "Ttest_indResult(statistic=-2.8247532434645106, pvalue=0.0061595777630189565)\n",
      "Test for CABLES1-S290: \n",
      "Ttest_indResult(statistic=-2.9522248123674846, pvalue=0.003749361674479724)\n",
      "Test for CABLES1-S373: \n",
      "Ttest_indResult(statistic=-3.6581663782611518, pvalue=0.00037860542601428343)\n",
      "Test for CABLES1-S418: \n",
      "Ttest_indResult(statistic=-3.102072399785268, pvalue=0.0023961534820213853)\n",
      "Test for CABLES1-T415: \n",
      "Ttest_indResult(statistic=-3.601529706958785, pvalue=0.0004511904785864429)\n"
     ]
    }
   ],
   "source": [
    "phosdf = CPTAC.compare_mutations(phos, protein, gene)\n",
    "phosdf = phosdf.loc[phosdf['Patient_Type'] == 'Tumor'].drop('Patient_Type', axis=1)\n",
    "pcutoff = 0.05 / (len(phosdf.columns) - 1)\n",
    "\n",
    "for site in phosdf.columns:\n",
    "    if site is not 'Mutation':\n",
    "        sitedf = CPTAC.compare_mutations(phos, site, gene)\n",
    "        mutateddf = sitedf.loc[sitedf['Mutation'] != 'Wildtype'].dropna(axis=0)\n",
    "        wtdf = sitedf.loc[sitedf['Mutation'] == 'Wildtype'].dropna(axis=0)\n",
    "        ttest = scipy.stats.ttest_ind(mutateddf[site], wtdf[site])\n",
    "        if(ttest[1] <= pcutoff):\n",
    "            print(\"Test for \" + site + \": \")\n",
    "            print(ttest) "
   ]
  },
  {
   "cell_type": "code",
   "execution_count": null,
   "metadata": {},
   "outputs": [],
   "source": []
  }
 ],
 "metadata": {
  "kernelspec": {
   "display_name": "Python 3",
   "language": "python",
   "name": "python3"
  },
  "language_info": {
   "codemirror_mode": {
    "name": "ipython",
    "version": 3
   },
   "file_extension": ".py",
   "mimetype": "text/x-python",
   "name": "python",
   "nbconvert_exporter": "python",
   "pygments_lexer": "ipython3",
   "version": "3.7.1"
  }
 },
 "nbformat": 4,
 "nbformat_minor": 2
}
