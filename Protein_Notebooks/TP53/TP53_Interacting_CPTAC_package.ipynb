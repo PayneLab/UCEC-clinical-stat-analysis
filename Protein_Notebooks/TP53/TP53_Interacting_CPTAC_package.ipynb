{
 "cells": [
  {
   "cell_type": "markdown",
   "metadata": {},
   "source": [
    "   # TP53: Effects of Mutation on Interacting Proteins"
   ]
  },
  {
   "cell_type": "markdown",
   "metadata": {},
   "source": [
    "<b>Standard imports for playing with and plotting data frames.</b>"
   ]
  },
  {
   "cell_type": "code",
   "execution_count": 1,
   "metadata": {},
   "outputs": [],
   "source": [
    "import pandas as pd\n",
    "import numpy as np\n",
    "import re\n",
    "import scipy.stats\n",
    "import matplotlib.pyplot as plt\n",
    "import seaborn as sns"
   ]
  },
  {
   "cell_type": "markdown",
   "metadata": {},
   "source": [
    "<b>Import CPTAC data</b>"
   ]
  },
  {
   "cell_type": "code",
   "execution_count": 2,
   "metadata": {
    "scrolled": true
   },
   "outputs": [
    {
     "name": "stdout",
     "output_type": "stream",
     "text": [
      "Loading Dictionary...\n",
      "Loading Clinical Data...\n",
      "Loading Proteomics Data...\n",
      "Loading Transcriptomics Data...\n",
      "Loading CNA Data...\n",
      "Loading Phosphoproteomics Data...\n",
      "Loading Somatic Mutation Data...\n",
      "\n",
      " ******PLEASE READ******\n",
      "WARNING: This data is under a publication embargo until July 1, 2019.\n",
      "CPTAC is a community resource project and data are made available\n",
      "rapidly after generation for community research use. The embargo\n",
      "allows exploring and utilizing the data, but the data may not be in a\n",
      "publication until July 1, 2019. Please see\n",
      "https://proteomics.cancer.gov/data-portal/about/data-use-agreement or\n",
      "enter CPTAC.embargo() to open the webpage for more details.\n"
     ]
    }
   ],
   "source": [
    "import CPTAC"
   ]
  },
  {
   "cell_type": "code",
   "execution_count": 3,
   "metadata": {},
   "outputs": [],
   "source": [
    "somatic_mutations = CPTAC.get_somatic()\n",
    "proteomics = CPTAC.get_proteomics()\n",
    "phos = CPTAC.get_phosphoproteomics()"
   ]
  },
  {
   "cell_type": "markdown",
   "metadata": {},
   "source": [
    "### List of proteins that interact with TP53 (according to Uniprot and String)"
   ]
  },
  {
   "cell_type": "code",
   "execution_count": 4,
   "metadata": {},
   "outputs": [],
   "source": [
    "gene = 'TP53'\n",
    "protList = ['TGFB1', 'AXIN1', 'EP300', 'HRMT1L2', 'CARM1', 'TAF1', 'ING4', 'CABLES1', \n",
    "            'TP73', 'HIPK1', 'HIPK2', 'TP53INP1', 'TP53BP', 'WWOX', 'HCV', 'USP7', 'SYVN1', 'HSP90AB1',\n",
    "           'CHD8', 'ARMC10', 'BANP', 'CDKN2AIP', 'NUAK1', 'STK11', 'LKB1', 'UHRF2', 'E4F1', 'YWHAZ',\n",
    "           'MAML1', 'MKRN1', 'PML', 'MDM2', 'FBXO42', 'ATM', 'PP2R2A', 'AURKA', 'DAXX', 'BRD7', 'TRIM24',\n",
    "           'L3MBTL1', 'GRK5', 'CAK', 'PTK2B', 'PYK2', 'MDM2', 'PRKCG', 'PPIF', 'KAT6A', 'UBC9', 'ZNF385B',\n",
    "           'ZNF385A', 'ANKRD2', 'RFFL', 'RNF34', 'MTA1', 'COP1', 'CCAR2', 'MORC3', 'POU4F2', 'AFG1L', 'UBD',\n",
    "           'TAF6', 'HPV', 'UL123', 'E1B-55K', 'BAX', 'FAS', 'BCL2', 'CREBBP', 'CDK2', 'MDM2', 'CDKN2A', 'ATM',\n",
    "            'CCNB1', 'TERT', 'IGF1R', 'ALB', 'MMP1']"
   ]
  },
  {
   "cell_type": "markdown",
   "metadata": {},
   "source": [
    "### t-test for proteome abundance of these proteins when TP53 is mutated\n",
    "<b>Note: We are only interested in looking at proteins whose abundance is significantly affected by TP53 mutation, and we must do a Bonferroni correction on our p-value</b>"
   ]
  },
  {
   "cell_type": "code",
   "execution_count": 5,
   "metadata": {},
   "outputs": [],
   "source": [
    "pcutoff = 0.05 / len(protList)\n",
    "#pcutoff = 1"
   ]
  },
  {
   "cell_type": "code",
   "execution_count": 12,
   "metadata": {},
   "outputs": [
    {
     "name": "stdout",
     "output_type": "stream",
     "text": [
      "Test for CABLES1: \n",
      "Ttest_indResult(statistic=-4.533885225055603, pvalue=1.6398425638878636e-05)\n",
      "Test for HSP90AB1: \n",
      "Ttest_indResult(statistic=3.775761395509814, pvalue=0.000273573248009503)\n",
      "Test for CHD8: \n",
      "Ttest_indResult(statistic=4.65599574118626, pvalue=1.0132380205138297e-05)\n",
      "Test for AURKA: \n",
      "Ttest_indResult(statistic=4.2121494006965365, pvalue=8.335995102753076e-05)\n",
      "Test for DAXX: \n",
      "Ttest_indResult(statistic=4.139121723641875, pvalue=7.383403320014249e-05)\n",
      "Test for FAS: \n",
      "Ttest_indResult(statistic=-5.5103825350041875, pvalue=2.894104669939677e-07)\n",
      "Test for CDKN2A: \n",
      "Ttest_indResult(statistic=4.344971931273746, pvalue=3.583610475413602e-05)\n",
      "Test for CCNB1: \n",
      "Ttest_indResult(statistic=4.205828399957831, pvalue=5.7589441814949935e-05)\n"
     ]
    }
   ],
   "source": [
    "significantResults = [];\n",
    "for protein in protList: \n",
    "    if protein in proteomics.columns:\n",
    "        cross = CPTAC.compare_mutations(proteomics, protein, gene)\n",
    "        cross = cross.loc[cross['Patient_Type'] == 'Tumor'][[\"Mutation\", protein]].dropna(axis=0)\n",
    "        mutated = cross.loc[cross[\"Mutation\"] != \"Wildtype\"]\n",
    "        wt = cross.loc[cross[\"Mutation\"] == \"Wildtype\"]\n",
    "        ttest = scipy.stats.ttest_ind(mutated[protein], wt[protein])\n",
    "        if(ttest[1] <= pcutoff):\n",
    "            significantResults.append(protein)\n",
    "            print(\"Test for \" + protein + \": \")\n",
    "            print(ttest) "
   ]
  },
  {
   "cell_type": "markdown",
   "metadata": {},
   "source": [
    "### List of significantly affected proteins"
   ]
  },
  {
   "cell_type": "code",
   "execution_count": 45,
   "metadata": {},
   "outputs": [
    {
     "name": "stdout",
     "output_type": "stream",
     "text": [
      "['TGFB1', 'AXIN1', 'EP300', 'CARM1', 'TAF1', 'ING4', 'CABLES1', 'WWOX', 'USP7', 'SYVN1', 'HSP90AB1', 'CHD8', 'ARMC10', 'BANP', 'CDKN2AIP', 'STK11', 'UHRF2', 'E4F1', 'YWHAZ', 'MAML1', 'MKRN1', 'PML', 'FBXO42', 'ATM', 'AURKA', 'DAXX', 'BRD7', 'TRIM24', 'GRK5', 'PTK2B', 'PPIF', 'KAT6A', 'ZNF385A', 'RFFL', 'RNF34', 'MTA1', 'COP1', 'CCAR2', 'MORC3', 'AFG1L', 'TAF6', 'BAX', 'FAS', 'BCL2', 'CREBBP', 'CDK2', 'CDKN2A', 'ATM', 'CCNB1', 'IGF1R', 'ALB']\n"
     ]
    }
   ],
   "source": [
    "print(significantResults)"
   ]
  },
  {
   "cell_type": "markdown",
   "metadata": {},
   "source": [
    "### t-test for effects of frame shift and nonsense mutations of TP53 on protein levels of the above 5 proteins"
   ]
  },
  {
   "cell_type": "code",
   "execution_count": 46,
   "metadata": {},
   "outputs": [
    {
     "name": "stdout",
     "output_type": "stream",
     "text": [
      "Test for TGFB1: \n",
      "Ttest_indResult(statistic=1.9825129599758367, pvalue=0.05081216790049328)\n",
      "Test for AXIN1: \n",
      "Ttest_indResult(statistic=-1.427023770784033, pvalue=0.15884410766512902)\n",
      "Test for EP300: \n",
      "Ttest_indResult(statistic=1.2692974888346118, pvalue=0.20796997367491624)\n",
      "Test for CARM1: \n",
      "Ttest_indResult(statistic=0.24930799253313413, pvalue=0.8037536664864771)\n",
      "Test for TAF1: \n",
      "Ttest_indResult(statistic=2.7048130253722187, pvalue=0.008328380771354348)\n",
      "Test for ING4: \n",
      "Ttest_indResult(statistic=-0.07148071091431717, pvalue=0.9432313416673633)\n",
      "Test for CABLES1: \n",
      "Ttest_indResult(statistic=-3.7356442692900407, pvalue=0.0003471526801904925)\n",
      "Test for WWOX: \n",
      "Ttest_indResult(statistic=0.6793408809482863, pvalue=0.4988586179525666)\n",
      "Test for USP7: \n",
      "Ttest_indResult(statistic=0.6953698472987885, pvalue=0.48881372939754775)\n",
      "Test for SYVN1: \n",
      "Ttest_indResult(statistic=0.5628496546973896, pvalue=0.5750918895987001)\n",
      "Test for HSP90AB1: \n",
      "Ttest_indResult(statistic=2.566923200743245, pvalue=0.01210061151694271)\n",
      "Test for CHD8: \n",
      "Ttest_indResult(statistic=4.869448871286981, pvalue=5.449783253172982e-06)\n",
      "Test for ARMC10: \n",
      "Ttest_indResult(statistic=-2.174016434002693, pvalue=0.032622864075444014)\n",
      "Test for BANP: \n",
      "Ttest_indResult(statistic=-1.213219416344724, pvalue=0.22857208420388608)\n",
      "Test for CDKN2AIP: \n",
      "Ttest_indResult(statistic=-2.018871900328079, pvalue=0.04680895567301764)\n",
      "Test for STK11: \n",
      "Ttest_indResult(statistic=-1.6242075816011758, pvalue=0.10841839767038816)\n",
      "Test for UHRF2: \n",
      "Ttest_indResult(statistic=-0.0315972919612471, pvalue=0.9748709314649148)\n",
      "Test for E4F1: \n",
      "Ttest_indResult(statistic=0.15906281439477815, pvalue=0.8740647259159572)\n",
      "Test for YWHAZ: \n",
      "Ttest_indResult(statistic=0.497507703237043, pvalue=0.6201789687870353)\n",
      "Test for MAML1: \n",
      "Ttest_indResult(statistic=2.3244950112867304, pvalue=0.02273662421307224)\n",
      "Test for MKRN1: \n",
      "Ttest_indResult(statistic=-2.1338233511618268, pvalue=0.03588216110057895)\n",
      "Test for PML: \n",
      "Ttest_indResult(statistic=-1.8646165526072116, pvalue=0.06585723838997096)\n",
      "Test for FBXO42: \n",
      "Ttest_indResult(statistic=0.12657565775539056, pvalue=0.8996062070664193)\n",
      "Test for ATM: \n",
      "Ttest_indResult(statistic=0.5538480233793106, pvalue=0.5812086193262533)\n",
      "Test for AURKA: \n",
      "Ttest_indResult(statistic=1.546894506800206, pvalue=0.12845716324678694)\n",
      "Test for DAXX: \n",
      "Ttest_indResult(statistic=2.5195030635489104, pvalue=0.013718108989125715)\n",
      "Test for BRD7: \n",
      "Ttest_indResult(statistic=0.49340333080634124, pvalue=0.623062769624797)\n",
      "Test for TRIM24: \n",
      "Ttest_indResult(statistic=-0.5343112993057814, pvalue=0.5945896976958778)\n",
      "Test for GRK5: \n",
      "Ttest_indResult(statistic=-0.3950561594719905, pvalue=0.6942506233282182)\n",
      "Test for PTK2B: \n",
      "Ttest_indResult(statistic=-0.6892763080377383, pvalue=0.4926192441446049)\n",
      "Test for PPIF: \n",
      "Ttest_indResult(statistic=1.628745232766422, pvalue=0.10725041242376579)\n",
      "Test for KAT6A: \n",
      "Ttest_indResult(statistic=0.33064108661061925, pvalue=0.7418499640614421)\n",
      "Test for ZNF385A: \n",
      "Ttest_indResult(statistic=-0.13056218119931012, pvalue=0.8966068401778922)\n",
      "Test for RFFL: \n",
      "Ttest_indResult(statistic=-1.3967145313953173, pvalue=0.16679000580866762)\n",
      "Test for RNF34: \n",
      "Ttest_indResult(statistic=1.7735273860471739, pvalue=0.07989995409825804)\n",
      "Test for MTA1: \n",
      "Ttest_indResult(statistic=1.3610142475311375, pvalue=0.1772838006679953)\n",
      "Test for COP1: \n",
      "Ttest_indResult(statistic=-1.0060236494464212, pvalue=0.3174000957027757)\n",
      "Test for CCAR2: \n",
      "Ttest_indResult(statistic=-0.2672530180196276, pvalue=0.7899536426273117)\n",
      "Test for MORC3: \n",
      "Ttest_indResult(statistic=0.9661169437502524, pvalue=0.33686139142596183)\n",
      "Test for AFG1L: \n",
      "Ttest_indResult(statistic=-1.2303558703850217, pvalue=0.22235852261962558)\n",
      "Test for TAF6: \n",
      "Ttest_indResult(statistic=2.0091691381463637, pvalue=0.04784989230373087)\n",
      "Test for BAX: \n",
      "Ttest_indResult(statistic=-0.6370296338982911, pvalue=0.525901935979912)\n",
      "Test for FAS: \n",
      "Ttest_indResult(statistic=-3.829441499847755, pvalue=0.00025208573820088387)\n",
      "Test for BCL2: \n",
      "Ttest_indResult(statistic=-0.30563692322917657, pvalue=0.760904952839875)\n",
      "Test for CREBBP: \n",
      "Ttest_indResult(statistic=0.9804846182039696, pvalue=0.3297664619169982)\n",
      "Test for CDK2: \n",
      "Ttest_indResult(statistic=2.8997555412438674, pvalue=0.004805164865877703)\n",
      "Test for CDKN2A: \n",
      "Ttest_indResult(statistic=3.6451080444347967, pvalue=0.0004902137428383342)\n",
      "Test for ATM: \n",
      "Ttest_indResult(statistic=0.5538480233793106, pvalue=0.5812086193262533)\n",
      "Test for CCNB1: \n",
      "Ttest_indResult(statistic=3.4652364267660474, pvalue=0.0008499210495091121)\n",
      "Test for IGF1R: \n",
      "Ttest_indResult(statistic=0.14491824436183362, pvalue=0.8851354139390666)\n",
      "Test for ALB: \n",
      "Ttest_indResult(statistic=-0.043356008489000765, pvalue=0.9655244461843346)\n",
      "Test for TP53: \n",
      "Ttest_indResult(statistic=-1.2000743790136965, pvalue=0.2342146748939528)\n"
     ]
    }
   ],
   "source": [
    "significantResults.append(gene)\n",
    "for protein in significantResults: \n",
    "    if protein in proteomics.columns:\n",
    "        cross = CPTAC.merge_mutations(proteomics, protein, gene)\n",
    "        cross = cross[:100]\n",
    "        cross = cross[[\"Mutation\", protein]].dropna(axis=0)\n",
    "        mutated = cross.loc[(cross[\"Mutation\"] == \"Frame_Shift_Del\") | \n",
    "                            (cross[\"Mutation\"] == \"Frame_Shift_Ins\") |\n",
    "                            (cross[\"Mutation\"] == 'Nonsense_Mutation')]\n",
    "        wt = cross.loc[cross[\"Mutation\"] == \"Wildtype\"]\n",
    "        ttest = scipy.stats.ttest_ind(mutated[protein], wt[protein])\n",
    "        print(\"Test for \" + protein + \": \")\n",
    "        print(ttest) "
   ]
  },
  {
   "cell_type": "markdown",
   "metadata": {},
   "source": [
    "### Build the dataframe for plotting"
   ]
  },
  {
   "cell_type": "code",
   "execution_count": 47,
   "metadata": {},
   "outputs": [
    {
     "ename": "ValueError",
     "evalue": "columns overlap but no suffix specified: Index(['ATM'], dtype='object')",
     "output_type": "error",
     "traceback": [
      "\u001b[0;31m---------------------------------------------------------------------------\u001b[0m",
      "\u001b[0;31mValueError\u001b[0m                                Traceback (most recent call last)",
      "\u001b[0;32m<ipython-input-47-e54b7e92d39c>\u001b[0m in \u001b[0;36m<module>\u001b[0;34m()\u001b[0m\n\u001b[1;32m      4\u001b[0m     \u001b[0;32mif\u001b[0m\u001b[0;34m(\u001b[0m\u001b[0mprotein\u001b[0m \u001b[0;32mis\u001b[0m \u001b[0;32mnot\u001b[0m \u001b[0;34m'TP53'\u001b[0m\u001b[0;34m)\u001b[0m\u001b[0;34m:\u001b[0m\u001b[0;34m\u001b[0m\u001b[0m\n\u001b[1;32m      5\u001b[0m         \u001b[0mproteindf\u001b[0m \u001b[0;34m=\u001b[0m \u001b[0mCPTAC\u001b[0m\u001b[0;34m.\u001b[0m\u001b[0mmerge_mutations\u001b[0m\u001b[0;34m(\u001b[0m\u001b[0mproteomics\u001b[0m\u001b[0;34m,\u001b[0m \u001b[0mprotein\u001b[0m\u001b[0;34m,\u001b[0m \u001b[0mgene\u001b[0m\u001b[0;34m)\u001b[0m\u001b[0;34m[\u001b[0m\u001b[0;34m[\u001b[0m\u001b[0mprotein\u001b[0m\u001b[0;34m]\u001b[0m\u001b[0;34m]\u001b[0m\u001b[0;34m\u001b[0m\u001b[0m\n\u001b[0;32m----> 6\u001b[0;31m         \u001b[0mplotdf\u001b[0m \u001b[0;34m=\u001b[0m \u001b[0mplotdf\u001b[0m\u001b[0;34m.\u001b[0m\u001b[0mjoin\u001b[0m\u001b[0;34m(\u001b[0m\u001b[0mproteindf\u001b[0m\u001b[0;34m)\u001b[0m\u001b[0;34m\u001b[0m\u001b[0m\n\u001b[0m",
      "\u001b[0;32m/anaconda3/envs/ptmresearch/lib/python3.7/site-packages/pandas/core/frame.py\u001b[0m in \u001b[0;36mjoin\u001b[0;34m(self, other, on, how, lsuffix, rsuffix, sort)\u001b[0m\n\u001b[1;32m   6334\u001b[0m         \u001b[0;31m# For SparseDataFrame's benefit\u001b[0m\u001b[0;34m\u001b[0m\u001b[0;34m\u001b[0m\u001b[0m\n\u001b[1;32m   6335\u001b[0m         return self._join_compat(other, on=on, how=how, lsuffix=lsuffix,\n\u001b[0;32m-> 6336\u001b[0;31m                                  rsuffix=rsuffix, sort=sort)\n\u001b[0m\u001b[1;32m   6337\u001b[0m \u001b[0;34m\u001b[0m\u001b[0m\n\u001b[1;32m   6338\u001b[0m     def _join_compat(self, other, on=None, how='left', lsuffix='', rsuffix='',\n",
      "\u001b[0;32m/anaconda3/envs/ptmresearch/lib/python3.7/site-packages/pandas/core/frame.py\u001b[0m in \u001b[0;36m_join_compat\u001b[0;34m(self, other, on, how, lsuffix, rsuffix, sort)\u001b[0m\n\u001b[1;32m   6349\u001b[0m             return merge(self, other, left_on=on, how=how,\n\u001b[1;32m   6350\u001b[0m                          \u001b[0mleft_index\u001b[0m\u001b[0;34m=\u001b[0m\u001b[0mon\u001b[0m \u001b[0;32mis\u001b[0m \u001b[0;32mNone\u001b[0m\u001b[0;34m,\u001b[0m \u001b[0mright_index\u001b[0m\u001b[0;34m=\u001b[0m\u001b[0;32mTrue\u001b[0m\u001b[0;34m,\u001b[0m\u001b[0;34m\u001b[0m\u001b[0m\n\u001b[0;32m-> 6351\u001b[0;31m                          suffixes=(lsuffix, rsuffix), sort=sort)\n\u001b[0m\u001b[1;32m   6352\u001b[0m         \u001b[0;32melse\u001b[0m\u001b[0;34m:\u001b[0m\u001b[0;34m\u001b[0m\u001b[0m\n\u001b[1;32m   6353\u001b[0m             \u001b[0;32mif\u001b[0m \u001b[0mon\u001b[0m \u001b[0;32mis\u001b[0m \u001b[0;32mnot\u001b[0m \u001b[0;32mNone\u001b[0m\u001b[0;34m:\u001b[0m\u001b[0;34m\u001b[0m\u001b[0m\n",
      "\u001b[0;32m/anaconda3/envs/ptmresearch/lib/python3.7/site-packages/pandas/core/reshape/merge.py\u001b[0m in \u001b[0;36mmerge\u001b[0;34m(left, right, how, on, left_on, right_on, left_index, right_index, sort, suffixes, copy, indicator, validate)\u001b[0m\n\u001b[1;32m     60\u001b[0m                          \u001b[0mcopy\u001b[0m\u001b[0;34m=\u001b[0m\u001b[0mcopy\u001b[0m\u001b[0;34m,\u001b[0m \u001b[0mindicator\u001b[0m\u001b[0;34m=\u001b[0m\u001b[0mindicator\u001b[0m\u001b[0;34m,\u001b[0m\u001b[0;34m\u001b[0m\u001b[0m\n\u001b[1;32m     61\u001b[0m                          validate=validate)\n\u001b[0;32m---> 62\u001b[0;31m     \u001b[0;32mreturn\u001b[0m \u001b[0mop\u001b[0m\u001b[0;34m.\u001b[0m\u001b[0mget_result\u001b[0m\u001b[0;34m(\u001b[0m\u001b[0;34m)\u001b[0m\u001b[0;34m\u001b[0m\u001b[0m\n\u001b[0m\u001b[1;32m     63\u001b[0m \u001b[0;34m\u001b[0m\u001b[0m\n\u001b[1;32m     64\u001b[0m \u001b[0;34m\u001b[0m\u001b[0m\n",
      "\u001b[0;32m/anaconda3/envs/ptmresearch/lib/python3.7/site-packages/pandas/core/reshape/merge.py\u001b[0m in \u001b[0;36mget_result\u001b[0;34m(self)\u001b[0m\n\u001b[1;32m    572\u001b[0m \u001b[0;34m\u001b[0m\u001b[0m\n\u001b[1;32m    573\u001b[0m         llabels, rlabels = items_overlap_with_suffix(ldata.items, lsuf,\n\u001b[0;32m--> 574\u001b[0;31m                                                      rdata.items, rsuf)\n\u001b[0m\u001b[1;32m    575\u001b[0m \u001b[0;34m\u001b[0m\u001b[0m\n\u001b[1;32m    576\u001b[0m         \u001b[0mlindexers\u001b[0m \u001b[0;34m=\u001b[0m \u001b[0;34m{\u001b[0m\u001b[0;36m1\u001b[0m\u001b[0;34m:\u001b[0m \u001b[0mleft_indexer\u001b[0m\u001b[0;34m}\u001b[0m \u001b[0;32mif\u001b[0m \u001b[0mleft_indexer\u001b[0m \u001b[0;32mis\u001b[0m \u001b[0;32mnot\u001b[0m \u001b[0;32mNone\u001b[0m \u001b[0;32melse\u001b[0m \u001b[0;34m{\u001b[0m\u001b[0;34m}\u001b[0m\u001b[0;34m\u001b[0m\u001b[0m\n",
      "\u001b[0;32m/anaconda3/envs/ptmresearch/lib/python3.7/site-packages/pandas/core/internals.py\u001b[0m in \u001b[0;36mitems_overlap_with_suffix\u001b[0;34m(left, lsuffix, right, rsuffix)\u001b[0m\n\u001b[1;32m   5242\u001b[0m         \u001b[0;32mif\u001b[0m \u001b[0;32mnot\u001b[0m \u001b[0mlsuffix\u001b[0m \u001b[0;32mand\u001b[0m \u001b[0;32mnot\u001b[0m \u001b[0mrsuffix\u001b[0m\u001b[0;34m:\u001b[0m\u001b[0;34m\u001b[0m\u001b[0m\n\u001b[1;32m   5243\u001b[0m             raise ValueError('columns overlap but no suffix specified: '\n\u001b[0;32m-> 5244\u001b[0;31m                              '{rename}'.format(rename=to_rename))\n\u001b[0m\u001b[1;32m   5245\u001b[0m \u001b[0;34m\u001b[0m\u001b[0m\n\u001b[1;32m   5246\u001b[0m         \u001b[0;32mdef\u001b[0m \u001b[0mlrenamer\u001b[0m\u001b[0;34m(\u001b[0m\u001b[0mx\u001b[0m\u001b[0;34m)\u001b[0m\u001b[0;34m:\u001b[0m\u001b[0;34m\u001b[0m\u001b[0m\n",
      "\u001b[0;31mValueError\u001b[0m: columns overlap but no suffix specified: Index(['ATM'], dtype='object')"
     ]
    }
   ],
   "source": [
    "plotdf = CPTAC.merge_mutations(proteomics, gene)[['Mutation', gene]]\n",
    "\n",
    "for protein in significantResults:\n",
    "    if(protein is not 'TP53'):\n",
    "        proteindf = CPTAC.merge_mutations(proteomics, protein, gene)[[protein]]\n",
    "        plotdf = plotdf.join(proteindf)"
   ]
  },
  {
   "cell_type": "code",
   "execution_count": null,
   "metadata": {},
   "outputs": [],
   "source": [
    "plotdf = plotdf.replace({'Mutation': {'Frame_Shift_Del': 'Truncating',\n",
    "                                      'Frame_Shift_Ins': 'Truncating',\n",
    "                                      'Nonsense_Mutation': 'Truncating',\n",
    "                                      'Wildtype': 'Control',\n",
    "                                      'Missense_Mutation': 'Missense'\n",
    "                                     }})"
   ]
  },
  {
   "cell_type": "code",
   "execution_count": null,
   "metadata": {},
   "outputs": [],
   "source": [
    "plotdf = pd.melt(plotdf, id_vars=['Mutation'], var_name='Protein', value_name='Proteomics')\n",
    "plotdf = plotdf.loc[(plotdf[\"Mutation\"] == \"Control\") | (plotdf[\"Mutation\"] == \"Missense\") | (plotdf[\"Mutation\"] == \"Truncating\")]\n",
    "plotdf = plotdf.dropna(axis=0)"
   ]
  },
  {
   "cell_type": "code",
   "execution_count": null,
   "metadata": {},
   "outputs": [],
   "source": [
    "a4_dims = (23.4, 16.54)\n",
    "fig, ax = plt.subplots(figsize=a4_dims)\n",
    "my_pal = {\"Missense\": \"#6C906D\", \"Control\": \"#596B94\", \"Truncating\": \"#A35857\"}\n",
    "\n",
    "#Create the plot\n",
    "boxplt = sns.boxplot(x='Protein', y='Proteomics', hue='Mutation', data=plotdf, palette=my_pal)\n",
    "boxplt = sns.stripplot(data=plotdf, x='Protein', y='Proteomics', hue='Mutation', dodge=True, jitter=True, color='.3')\n",
    "\n",
    "#Add styling\n",
    "boxplt.set_xlabel('')\n",
    "boxplt.set_ylabel('Protein Level', fontsize='40')\n",
    "boxplt.tick_params(labelsize='20')\n",
    "\n",
    "#Adjust legend\n",
    "handles, labels = ax.get_legend_handles_labels()\n",
    "plt.legend(handles[0:3], ['Missense', 'Control', 'Truncating'], title='TP53 Status', fontsize='20', frameon=False)\n",
    "boxplt.get_legend().get_title().set_fontsize('20')\n",
    "boxplt.get_legend().set_bbox_to_anchor((0.15, 0.15, 0, 0))\n",
    "\n",
    "#Add significance indicator: TP53/Missense\n",
    "x1, x2 = -0.25, -0.05\n",
    "y, h, col = 4.45, .3, 'k'\n",
    "plt.plot([x1, x1, x2, x2], [y+h, y+h, y+h, y+h], lw=1.5, c=col)\n",
    "plt.text((x1+x2)*.5, y+h, \"****\", ha='center', va='bottom', color=col, fontsize='23')\n",
    "\n",
    "#Add significance indicator: TP53/Truncation\n",
    "x1, x2 = 0.05, 0.25\n",
    "y, h, col = 4.25, .3, 'k'\n",
    "plt.plot([x1, x1, x2, x2], [y+h, y+h, y+h, y+h], lw=1.5, c=col)\n",
    "plt.text((x1+x2)*.5, y+h, \"ns\", ha='center', va='bottom', color=col, fontsize='23')\n",
    "\n",
    "#Add significance indicator: CABLES1/Missense\n",
    "x1, x2 = 0.75, 0.95\n",
    "y, h, col = 1.3, .3, 'k'\n",
    "plt.plot([x1, x1, x2, x2], [y+h, y+h, y+h, y+h], lw=1.5, c=col)\n",
    "plt.text((x1+x2)*.5, y+h, \"***\", ha='center', va='bottom', color=col, fontsize='23')\n",
    "\n",
    "#Add significance indicator: CABLES1/Truncation\n",
    "x1, x2 = 1.05, 1.25\n",
    "y, h, col = 0.8 + .3, .3, 'k'\n",
    "plt.plot([x1, x1, x2, x2], [y+h, y+h, y+h, y+h], lw=1.5, c=col)\n",
    "plt.text((x1+x2)*.5, y+h, \"****\", ha='center', va='bottom', color=col, fontsize='23')\n",
    "\n",
    "#Add significance indicator: HSP90AB1/Missense\n",
    "x1, x2 = 1.75, 1.95\n",
    "y, h, col = 1 + .3, .3, 'k'\n",
    "plt.plot([x1, x1, x2, x2], [y+h, y+h, y+h, y+h], lw=1.5, c=col)\n",
    "plt.text((x1+x2)*.5, y+h, \"****\", ha='center', va='bottom', color=col, fontsize='23')\n",
    "\n",
    "#Add significance indicator: HSP90AB1/Truncation\n",
    "x1, x2 = 2.05, 2.25\n",
    "y, h, col = 0.8 + .3, .3, 'k'\n",
    "plt.plot([x1, x1, x2, x2], [y+h, y+h, y+h, y+h], lw=1.5, c=col)\n",
    "plt.text((x1+x2)*.5, y+h, \"***\", ha='center', va='bottom', color=col, fontsize='23')\n",
    "\n",
    "#Add significance indicator: CHD8/Missense\n",
    "x1, x2 = 2.75, 2.95\n",
    "y, h, col = 1 + .3, .3, 'k'\n",
    "plt.plot([x1, x1, x2, x2], [y+h, y+h, y+h, y+h], lw=1.5, c=col)\n",
    "plt.text((x1+x2)*.5, y+h, \"****\", ha='center', va='bottom', color=col, fontsize='23')\n",
    "\n",
    "#Add significance indicator: CHD8/Truncation\n",
    "x1, x2 = 3.05, 3.25\n",
    "y, h, col = 0.8 + .3, .3, 'k'\n",
    "plt.plot([x1, x1, x2, x2], [y+h, y+h, y+h, y+h], lw=1.5, c=col)\n",
    "plt.text((x1+x2)*.5, y+h, \"****\", ha='center', va='bottom', color=col, fontsize='23')\n",
    "\n",
    "#Add significance indicator: UHRF2/Missense\n",
    "x1, x2 = 3.75, 3.95\n",
    "y, h, col = 1 + .3, .3, 'k'\n",
    "plt.plot([x1, x1, x2, x2], [y+h, y+h, y+h, y+h], lw=1.5, c=col)\n",
    "plt.text((x1+x2)*.5, y+h, \"****\", ha='center', va='bottom', color=col, fontsize='23')\n",
    "\n",
    "#Add significance indicator: UHRF2/Truncation\n",
    "x1, x2 = 4.05, 4.25\n",
    "y, h, col = 0.8 + .3, .3, 'k'\n",
    "plt.plot([x1, x1, x2, x2], [y+h, y+h, y+h, y+h], lw=1.5, c=col)\n",
    "plt.text((x1+x2)*.5, y+h, \"ns\", ha='center', va='bottom', color=col, fontsize='23')\n",
    "\n",
    "#Add significance indicator: AURKA/Missense\n",
    "x1, x2 = 4.75, 4.95\n",
    "y, h, col = 3 + .3, .3, 'k'\n",
    "plt.plot([x1, x1, x2, x2], [y+h, y+h, y+h, y+h], lw=1.5, c=col)\n",
    "plt.text((x1+x2)*.5, y+h, \"****\", ha='center', va='bottom', color=col, fontsize='23')\n",
    "\n",
    "#Add significance indicator: AURKA/Truncation\n",
    "x1, x2 = 5.05, 5.25\n",
    "y, h, col = 2.8 + .3, .3, 'k'\n",
    "plt.plot([x1, x1, x2, x2], [y+h, y+h, y+h, y+h], lw=1.5, c=col)\n",
    "plt.text((x1+x2)*.5, y+h, \"*\", ha='center', va='bottom', color=col, fontsize='23')\n",
    "\n",
    "fig = boxplt.get_figure()\n",
    "fig.savefig('p53_trans.png', dpi=300)\n",
    "plt.show()"
   ]
  },
  {
   "cell_type": "markdown",
   "metadata": {},
   "source": [
    "## Phosphoproteome abundance of interacting proteins"
   ]
  },
  {
   "cell_type": "markdown",
   "metadata": {},
   "source": [
    "### This is the same list as before, with some of the end numbers of the proteins removed; less specificity in protein names captures more potentially significant results in the phosphoproteomic data"
   ]
  },
  {
   "cell_type": "code",
   "execution_count": null,
   "metadata": {},
   "outputs": [],
   "source": [
    "phosProtList = ['TGFB', 'AXIN1', 'EP300', 'HRMT1L2', 'CARM1', 'TAF1', 'ING4', 'CABLES1', \n",
    "            'TP73', 'HIPK1', 'HIPK2', 'TP53INP1', 'TP53BP', 'WWOX', 'HCV', 'USP7', 'SYVN1', 'HSP90AB1',\n",
    "           'CHD8', 'ARMC10', 'BANP', 'CDKN2AIP', 'NUAK1', 'STK11', 'LKB1', 'UHRF2', 'E4F1', 'YWHAZ',\n",
    "           'MAML1', 'MKRN1', 'PML', 'MDM2', 'FBXO42', 'ATM', 'PP2R2A', 'AURKA', 'DAXX', 'BRD7', 'TRIM24',\n",
    "           'L3MBTL1', 'GRK5', 'CAK', 'PTK2B', 'PYK2', 'MDM2', 'PRKCG', 'PPIF', 'KAT6A', 'UBC9', 'ZNF385B',\n",
    "           'ZNF385A', 'ANKRD2', 'RFFL', 'RNF34', 'MTA1', 'COP1', 'CCAR2', 'MORC3', 'POU4F2', 'AFG1L', 'UBD',\n",
    "           'TAF6', 'HPV', 'UL123', 'E1B-55K', 'BAX', 'FAS', 'BCL2', 'CREBBP', 'CDK2', 'MDM2', 'CDKN2A', \n",
    "            'CDKN1A', 'ATM', 'MDM4']"
   ]
  },
  {
   "cell_type": "code",
   "execution_count": null,
   "metadata": {},
   "outputs": [],
   "source": [
    "sites = phos.columns;\n",
    "significantPhosResults = [];\n",
    "totalSites = 0\n",
    "\n",
    "for protein in phosProtList:\n",
    "    matchesdf = phos.filter(regex=protein)\n",
    "    totalSites += len(matchesdf.columns)\n",
    "\n",
    "pcutoff = 0.05 / totalSites   \n",
    "\n",
    "for protein in phosProtList:\n",
    "    pattern = re.compile(protein)\n",
    "    isInList = filter(pattern.search, sites)\n",
    "    if next(isInList, None) is not None:\n",
    "        phosphositesdf = CPTAC.merge_mutations(phos, protein, gene)\n",
    "        for site in phosphositesdf.columns:\n",
    "            if (site is not 'Mutation'):\n",
    "                sitedf = CPTAC.merge_mutations(phos, site, gene)\n",
    "                mutateddf = sitedf.loc[sitedf['Mutation'] == 'Missense_Mutation'].dropna(axis=0)\n",
    "                wtdf = sitedf.loc[sitedf['Mutation'] == 'Wildtype'].dropna(axis=0)\n",
    "                ttest = scipy.stats.ttest_ind(mutateddf[site], wtdf[site])\n",
    "                if(ttest[1] <= pcutoff):\n",
    "                    significantPhosResults.append(site)\n",
    "                    print(\"Test for \" + site + \": \")\n",
    "                    print(ttest) "
   ]
  },
  {
   "cell_type": "markdown",
   "metadata": {},
   "source": [
    "### List of significantly affected phosphorylation sites"
   ]
  },
  {
   "cell_type": "code",
   "execution_count": null,
   "metadata": {
    "scrolled": true
   },
   "outputs": [],
   "source": [
    "print(significantPhosResults)"
   ]
  },
  {
   "cell_type": "code",
   "execution_count": null,
   "metadata": {},
   "outputs": [],
   "source": []
  }
 ],
 "metadata": {
  "kernelspec": {
   "display_name": "Python 3",
   "language": "python",
   "name": "python3"
  },
  "language_info": {
   "codemirror_mode": {
    "name": "ipython",
    "version": 3
   },
   "file_extension": ".py",
   "mimetype": "text/x-python",
   "name": "python",
   "nbconvert_exporter": "python",
   "pygments_lexer": "ipython3",
   "version": "3.7.0"
  }
 },
 "nbformat": 4,
 "nbformat_minor": 2
}
