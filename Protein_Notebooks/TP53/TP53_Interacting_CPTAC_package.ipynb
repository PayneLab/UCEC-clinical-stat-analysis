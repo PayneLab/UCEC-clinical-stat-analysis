{
 "cells": [
  {
   "cell_type": "markdown",
   "metadata": {},
   "source": [
    "   # TP53: Effects of Mutation on Interacting Proteins"
   ]
  },
  {
   "cell_type": "markdown",
   "metadata": {},
   "source": [
    "<b>Standard imports for playing with and plotting data frames.</b>"
   ]
  },
  {
   "cell_type": "code",
   "execution_count": 1,
   "metadata": {},
   "outputs": [],
   "source": [
    "import pandas as pd\n",
    "import numpy as np\n",
    "import re\n",
    "import scipy.stats\n",
    "import statsmodels.stats.multitest\n",
    "import matplotlib.pyplot as plt\n",
    "import seaborn as sns"
   ]
  },
  {
   "cell_type": "markdown",
   "metadata": {},
   "source": [
    "<b>Import CPTAC data</b>"
   ]
  },
  {
   "cell_type": "code",
   "execution_count": 2,
   "metadata": {
    "scrolled": true
   },
   "outputs": [
    {
     "name": "stdout",
     "output_type": "stream",
     "text": [
      "Loading Dictionary...\n",
      "Loading Clinical Data...\n",
      "Loading Proteomics Data...\n",
      "Loading Transcriptomics Data...\n",
      "Loading CNA Data...\n",
      "Loading Phosphoproteomics Data...\n",
      "Loading Somatic Mutation Data...\n",
      "\n",
      " ******PLEASE READ******\n",
      "WARNING: This data is under a publication embargo until July 1, 2019.\n",
      "CPTAC is a community resource project and data are made available\n",
      "rapidly after generation for community research use. The embargo\n",
      "allows exploring and utilizing the data, but the data may not be in a\n",
      "publication until July 1, 2019. Please see\n",
      "https://proteomics.cancer.gov/data-portal/about/data-use-agreement or\n",
      "enter CPTAC.embargo() to open the webpage for more details.\n"
     ]
    }
   ],
   "source": [
    "import CPTAC"
   ]
  },
  {
   "cell_type": "code",
   "execution_count": 3,
   "metadata": {},
   "outputs": [],
   "source": [
    "somatic_mutations = CPTAC.get_somatic()\n",
    "proteomics = CPTAC.get_proteomics()\n",
    "phos = CPTAC.get_phosphoproteomics()"
   ]
  },
  {
   "cell_type": "markdown",
   "metadata": {},
   "source": [
    "### List of proteins that interact with TP53 (according to Uniprot and String)"
   ]
  },
  {
   "cell_type": "code",
   "execution_count": 4,
   "metadata": {},
   "outputs": [],
   "source": [
    "gene = 'TP53'\n",
    "protList = ['TGFB1', 'AXIN1', 'EP300', 'HRMT1L2', 'CARM1', 'TAF1', 'ING4', 'CABLES1', \n",
    "            'TP73', 'HIPK1', 'HIPK2', 'TP53INP1', 'TP53BP', 'WWOX', 'HCV', 'USP7', 'SYVN1', 'HSP90AB1',\n",
    "           'CHD8', 'ARMC10', 'BANP', 'CDKN2AIP', 'NUAK1', 'STK11', 'LKB1', 'UHRF2', 'E4F1', 'YWHAZ',\n",
    "           'MAML1', 'MKRN1', 'PML', 'MDM2', 'FBXO42', 'ATM', 'PP2R2A', 'AURKA', 'DAXX', 'BRD7', 'TRIM24',\n",
    "           'L3MBTL1', 'GRK5', 'CAK', 'PTK2B', 'PYK2', 'MDM2', 'PRKCG', 'PPIF', 'KAT6A', 'UBC9', 'ZNF385B',\n",
    "           'ZNF385A', 'ANKRD2', 'RFFL', 'RNF34', 'MTA1', 'COP1', 'CCAR2', 'MORC3', 'POU4F2', 'AFG1L', 'UBD',\n",
    "           'TAF6', 'HPV', 'UL123', 'E1B-55K', 'BAX', 'FAS', 'BCL2', 'CREBBP', 'CDK2', 'MDM2', 'CDKN2A', 'ATM',\n",
    "            'CCNB1', 'TERT', 'IGF1R', 'ALB', 'MMP1']"
   ]
  },
  {
   "cell_type": "markdown",
   "metadata": {},
   "source": [
    "## t-test for effects of missense mutations"
   ]
  },
  {
   "cell_type": "code",
   "execution_count": 5,
   "metadata": {},
   "outputs": [],
   "source": [
    "tested = [];\n",
    "p_vals = [];\n",
    "for protein in protList: \n",
    "    if protein in proteomics.columns:\n",
    "        tested.append(protein)\n",
    "        cross = CPTAC.compare_mutations(proteomics, protein, gene)\n",
    "        cross = cross.loc[cross['Patient_Type'] == 'Tumor'][[\"Mutation\", protein]].dropna(axis=0)\n",
    "        mutated = cross.loc[cross[\"Mutation\"] == \"Missense_Mutation\"]\n",
    "        wt = cross.loc[cross[\"Mutation\"] == \"Wildtype\"]\n",
    "        ttest = scipy.stats.ttest_ind(mutated[protein], wt[protein])\n",
    "        p_vals.append(ttest[1])"
   ]
  },
  {
   "cell_type": "code",
   "execution_count": 6,
   "metadata": {},
   "outputs": [],
   "source": [
    "areSignificant = statsmodels.stats.multitest.fdrcorrection(p_vals)[0]\n",
    "pvals = statsmodels.stats.multitest.fdrcorrection(p_vals)[1]\n",
    "significant_proteins = np.array(tested)[np.array(areSignificant)]\n",
    "significant_pvals = np.array(pvals)[np.array(areSignificant)]"
   ]
  },
  {
   "cell_type": "markdown",
   "metadata": {},
   "source": [
    "### List of significantly affected proteins and their respective p-values (FDR adjusted)"
   ]
  },
  {
   "cell_type": "code",
   "execution_count": 7,
   "metadata": {
    "scrolled": true
   },
   "outputs": [
    {
     "name": "stdout",
     "output_type": "stream",
     "text": [
      "['CABLES1' 'HSP90AB1' 'CHD8' 'CDKN2AIP' 'UHRF2' 'YWHAZ' 'AURKA' 'DAXX'\n",
      " 'AFG1L' 'TAF6' 'FAS' 'CDKN2A']\n",
      "[0.01198163 0.02933247 0.01198163 0.03426805 0.02920811 0.01198163\n",
      " 0.01036627 0.01554115 0.03943006 0.03426805 0.00441439 0.02874655]\n"
     ]
    }
   ],
   "source": [
    "print(significant_proteins)\n",
    "print(significant_pvals)"
   ]
  },
  {
   "cell_type": "markdown",
   "metadata": {},
   "source": [
    "## t-test for effects of frame shift and nonsense mutations (truncating)"
   ]
  },
  {
   "cell_type": "code",
   "execution_count": 8,
   "metadata": {},
   "outputs": [],
   "source": [
    "tested = [];\n",
    "p_vals = [];\n",
    "for protein in protList: \n",
    "    if protein in proteomics.columns:\n",
    "        tested.append(protein)\n",
    "        cross = CPTAC.compare_mutations(proteomics, protein, gene)\n",
    "        cross = cross.loc[cross['Patient_Type'] == 'Tumor'][[\"Mutation\", protein]].dropna(axis=0)\n",
    "        mutated = cross.loc[(cross[\"Mutation\"] == \"Frame_Shift_Del\") | \n",
    "                            (cross[\"Mutation\"] == \"Frame_Shift_Ins\") |\n",
    "                            (cross[\"Mutation\"] == 'Nonsense_Mutation')]\n",
    "        wt = cross.loc[cross[\"Mutation\"] == \"Wildtype\"]\n",
    "        ttest = scipy.stats.ttest_ind(mutated[protein], wt[protein])\n",
    "        p_vals.append(ttest[1])"
   ]
  },
  {
   "cell_type": "code",
   "execution_count": 9,
   "metadata": {},
   "outputs": [],
   "source": [
    "areSignificant = statsmodels.stats.multitest.fdrcorrection(p_vals)[0]\n",
    "pvals = statsmodels.stats.multitest.fdrcorrection(p_vals)[1]\n",
    "significant_proteins = np.array(tested)[np.array(areSignificant)]\n",
    "significant_pvals = np.array(pvals)[np.array(areSignificant)]"
   ]
  },
  {
   "cell_type": "code",
   "execution_count": 10,
   "metadata": {
    "scrolled": false
   },
   "outputs": [
    {
     "name": "stdout",
     "output_type": "stream",
     "text": [
      "['CABLES1' 'CHD8' 'FAS' 'CDK2' 'CDKN2A' 'CCNB1']\n",
      "[0.0059016  0.00027794 0.0059016  0.0408439  0.00625023 0.00866919]\n"
     ]
    }
   ],
   "source": [
    "print(significant_proteins)\n",
    "print(significant_pvals)"
   ]
  },
  {
   "cell_type": "markdown",
   "metadata": {},
   "source": [
    "## t-test for effects of missense and truncating mutations combined"
   ]
  },
  {
   "cell_type": "code",
   "execution_count": 11,
   "metadata": {},
   "outputs": [],
   "source": [
    "tested = [];\n",
    "p_vals = [];\n",
    "for protein in protList: \n",
    "    if protein in proteomics.columns:\n",
    "        tested.append(protein)\n",
    "        cross = CPTAC.compare_mutations(proteomics, protein, gene)\n",
    "        cross = cross.loc[cross['Patient_Type'] == 'Tumor'][[\"Mutation\", protein]].dropna(axis=0)\n",
    "        mutated = cross.loc[(cross[\"Mutation\"] == \"Frame_Shift_Del\") | \n",
    "                            (cross[\"Mutation\"] == \"Frame_Shift_Ins\") |\n",
    "                            (cross[\"Mutation\"] == 'Nonsense_Mutation') |\n",
    "                            (cross[\"Mutation\"] == 'Missense_Mutation')]\n",
    "        wt = cross.loc[cross[\"Mutation\"] == \"Wildtype\"]\n",
    "        ttest = scipy.stats.ttest_ind(mutated[protein], wt[protein])\n",
    "        p_vals.append(ttest[1])"
   ]
  },
  {
   "cell_type": "code",
   "execution_count": 12,
   "metadata": {},
   "outputs": [],
   "source": [
    "areSignificant = statsmodels.stats.multitest.fdrcorrection(p_vals)[0]\n",
    "pvals = statsmodels.stats.multitest.fdrcorrection(p_vals)[1]\n",
    "significant_proteins = np.array(tested)[np.array(areSignificant)]\n",
    "significant_pvals = np.array(pvals)[np.array(areSignificant)]"
   ]
  },
  {
   "cell_type": "code",
   "execution_count": 13,
   "metadata": {
    "scrolled": true
   },
   "outputs": [
    {
     "name": "stdout",
     "output_type": "stream",
     "text": [
      "['TAF1' 'CABLES1' 'HSP90AB1' 'CHD8' 'CDKN2AIP' 'YWHAZ' 'AURKA' 'DAXX'\n",
      " 'AFG1L' 'TAF6' 'FAS' 'CDK2' 'CDKN2A' 'CCNB1']\n",
      "[3.34175606e-02 4.03994861e-04 3.14875026e-03 1.76268430e-04\n",
      " 1.01630359e-02 1.71636933e-02 2.56707953e-03 2.56707953e-03\n",
      " 2.98265751e-02 9.46604364e-03 5.39752132e-05 1.25904262e-02\n",
      " 1.83899711e-03 2.56707953e-03]\n"
     ]
    }
   ],
   "source": [
    "print(significant_proteins)\n",
    "print(significant_pvals)"
   ]
  },
  {
   "cell_type": "markdown",
   "metadata": {},
   "source": [
    "## t-test for effects of all mutations"
   ]
  },
  {
   "cell_type": "code",
   "execution_count": 14,
   "metadata": {},
   "outputs": [],
   "source": [
    "tested = [];\n",
    "p_vals = [];\n",
    "for protein in protList: \n",
    "    if protein in proteomics.columns:\n",
    "        tested.append(protein)\n",
    "        cross = CPTAC.compare_mutations(proteomics, protein, gene)\n",
    "        cross = cross.loc[cross['Patient_Type'] == 'Tumor'][[\"Mutation\", protein]].dropna(axis=0)\n",
    "        mutated = cross.loc[cross[\"Mutation\"] != \"Wildtype\"]\n",
    "        wt = cross.loc[cross[\"Mutation\"] == \"Wildtype\"]\n",
    "        ttest = scipy.stats.ttest_ind(mutated[protein], wt[protein])\n",
    "        p_vals.append(ttest[1])"
   ]
  },
  {
   "cell_type": "code",
   "execution_count": 15,
   "metadata": {},
   "outputs": [],
   "source": [
    "areSignificant = statsmodels.stats.multitest.fdrcorrection(p_vals)[0]\n",
    "pvals = statsmodels.stats.multitest.fdrcorrection(p_vals)[1]\n",
    "significant_proteins = np.array(tested)[np.array(areSignificant)]\n",
    "significant_pvals = np.array(pvals)[np.array(areSignificant)]"
   ]
  },
  {
   "cell_type": "code",
   "execution_count": 16,
   "metadata": {
    "scrolled": true
   },
   "outputs": [
    {
     "name": "stdout",
     "output_type": "stream",
     "text": [
      "['CABLES1' 'HSP90AB1' 'CHD8' 'CDKN2AIP' 'STK11' 'YWHAZ' 'AURKA' 'DAXX'\n",
      " 'AFG1L' 'FAS' 'CDK2' 'CDKN2A' 'CCNB1']\n",
      "[2.78773236e-04 1.74402946e-03 2.58375695e-04 7.19163403e-03\n",
      " 1.54582617e-02 4.39318009e-03 6.07336786e-04 6.07336786e-04\n",
      " 1.04749693e-02 1.47599338e-05 3.77291095e-03 4.56910336e-04\n",
      " 5.87412307e-04]\n"
     ]
    }
   ],
   "source": [
    "print(significant_proteins)\n",
    "print(significant_pvals)"
   ]
  },
  {
   "cell_type": "markdown",
   "metadata": {},
   "source": [
    "### Build the dataframe for plotting"
   ]
  },
  {
   "cell_type": "code",
   "execution_count": 17,
   "metadata": {},
   "outputs": [
    {
     "ename": "NameError",
     "evalue": "name 'significantResults' is not defined",
     "output_type": "error",
     "traceback": [
      "\u001b[0;31m---------------------------------------------------------------------------\u001b[0m",
      "\u001b[0;31mNameError\u001b[0m                                 Traceback (most recent call last)",
      "\u001b[0;32m<ipython-input-17-f7556d7cce86>\u001b[0m in \u001b[0;36m<module>\u001b[0;34m()\u001b[0m\n\u001b[1;32m      2\u001b[0m \u001b[0mplotdf\u001b[0m \u001b[0;34m=\u001b[0m \u001b[0mplotdf\u001b[0m\u001b[0;34m.\u001b[0m\u001b[0mloc\u001b[0m\u001b[0;34m[\u001b[0m\u001b[0mplotdf\u001b[0m\u001b[0;34m[\u001b[0m\u001b[0;34m'Patient_Type'\u001b[0m\u001b[0;34m]\u001b[0m \u001b[0;34m==\u001b[0m \u001b[0;34m'Tumor'\u001b[0m\u001b[0;34m]\u001b[0m\u001b[0;34m[\u001b[0m\u001b[0;34m[\u001b[0m\u001b[0;34m'Mutation'\u001b[0m\u001b[0;34m,\u001b[0m \u001b[0mgene\u001b[0m\u001b[0;34m]\u001b[0m\u001b[0;34m]\u001b[0m\u001b[0;34m\u001b[0m\u001b[0m\n\u001b[1;32m      3\u001b[0m \u001b[0;34m\u001b[0m\u001b[0m\n\u001b[0;32m----> 4\u001b[0;31m \u001b[0;32mfor\u001b[0m \u001b[0mprotein\u001b[0m \u001b[0;32min\u001b[0m \u001b[0msignificantResults\u001b[0m\u001b[0;34m:\u001b[0m\u001b[0;34m\u001b[0m\u001b[0m\n\u001b[0m\u001b[1;32m      5\u001b[0m     \u001b[0;32mif\u001b[0m\u001b[0;34m(\u001b[0m\u001b[0mprotein\u001b[0m \u001b[0;34m!=\u001b[0m \u001b[0;34m'TP53'\u001b[0m\u001b[0;34m)\u001b[0m\u001b[0;34m:\u001b[0m\u001b[0;34m\u001b[0m\u001b[0m\n\u001b[1;32m      6\u001b[0m         \u001b[0mproteindf\u001b[0m \u001b[0;34m=\u001b[0m \u001b[0mCPTAC\u001b[0m\u001b[0;34m.\u001b[0m\u001b[0mcompare_mutations\u001b[0m\u001b[0;34m(\u001b[0m\u001b[0mproteomics\u001b[0m\u001b[0;34m,\u001b[0m \u001b[0mprotein\u001b[0m\u001b[0;34m,\u001b[0m \u001b[0mgene\u001b[0m\u001b[0;34m)\u001b[0m\u001b[0;34m[\u001b[0m\u001b[0;34m[\u001b[0m\u001b[0mprotein\u001b[0m\u001b[0;34m]\u001b[0m\u001b[0;34m]\u001b[0m\u001b[0;34m\u001b[0m\u001b[0m\n",
      "\u001b[0;31mNameError\u001b[0m: name 'significantResults' is not defined"
     ]
    }
   ],
   "source": [
    "plotdf = CPTAC.compare_mutations(proteomics, gene)\n",
    "plotdf = plotdf.loc[plotdf['Patient_Type'] == 'Tumor'][['Mutation', gene]]\n",
    "\n",
    "for protein in significantResults:\n",
    "    if(protein != 'TP53'):\n",
    "        proteindf = CPTAC.compare_mutations(proteomics, protein, gene)[[protein]]\n",
    "        plotdf = plotdf.join(proteindf)"
   ]
  },
  {
   "cell_type": "code",
   "execution_count": null,
   "metadata": {},
   "outputs": [],
   "source": [
    "plotdf = plotdf.replace({'Mutation': {'Frame_Shift_Del': 'Truncating',\n",
    "                                      'Frame_Shift_Ins': 'Truncating',\n",
    "                                      'Nonsense_Mutation': 'Truncating',\n",
    "                                      'Wildtype': 'Control',\n",
    "                                      'Missense_Mutation': 'Missense'\n",
    "                                     }})"
   ]
  },
  {
   "cell_type": "code",
   "execution_count": null,
   "metadata": {},
   "outputs": [],
   "source": [
    "plotdf = pd.melt(plotdf, id_vars=['Mutation'], var_name='Protein', value_name='Proteomics')\n",
    "plotdf = plotdf.loc[(plotdf[\"Mutation\"] == \"Control\") | (plotdf[\"Mutation\"] == \"Missense\") | (plotdf[\"Mutation\"] == \"Truncating\")]\n",
    "plotdf = plotdf.dropna(axis=0)"
   ]
  },
  {
   "cell_type": "code",
   "execution_count": null,
   "metadata": {},
   "outputs": [],
   "source": [
    "a4_dims = (23.4, 16.54)\n",
    "fig, ax = plt.subplots(figsize=a4_dims)\n",
    "my_pal = {\"Missense\": \"#6C906D\", \"Control\": \"#596B94\", \"Truncating\": \"#A35857\"}\n",
    "\n",
    "#Create the plot\n",
    "boxplt = sns.boxplot(x='Protein', y='Proteomics', hue='Mutation', data=plotdf, palette=my_pal)\n",
    "boxplt = sns.stripplot(data=plotdf, x='Protein', y='Proteomics', hue='Mutation', dodge=True, jitter=True, color='.3')\n",
    "\n",
    "#Add styling\n",
    "boxplt.set_xlabel('')\n",
    "boxplt.set_ylabel('Protein Level', fontsize='40')\n",
    "boxplt.tick_params(labelsize='20')\n",
    "\n",
    "#Adjust legend\n",
    "handles, labels = ax.get_legend_handles_labels()\n",
    "plt.legend(handles[0:3], ['Missense', 'Control', 'Truncating'], title='TP53 Status', fontsize='20', frameon=False)\n",
    "boxplt.get_legend().get_title().set_fontsize('20')\n",
    "boxplt.get_legend().set_bbox_to_anchor((0.15, 0.15, 0, 0))\n",
    "\n",
    "#Add significance indicator: TP53/Missense\n",
    "x1, x2 = -0.25, -0.05\n",
    "y, h, col = 4.45, .3, 'k'\n",
    "plt.plot([x1, x1, x2, x2], [y+h, y+h, y+h, y+h], lw=1.5, c=col)\n",
    "plt.text((x1+x2)*.5, y+h, \"****\", ha='center', va='bottom', color=col, fontsize='23')\n",
    "\n",
    "#Add significance indicator: TP53/Truncation\n",
    "x1, x2 = 0.05, 0.25\n",
    "y, h, col = 4.25, .3, 'k'\n",
    "plt.plot([x1, x1, x2, x2], [y+h, y+h, y+h, y+h], lw=1.5, c=col)\n",
    "plt.text((x1+x2)*.5, y+h, \"ns\", ha='center', va='bottom', color=col, fontsize='23')\n",
    "\n",
    "#Add significance indicator: CABLES1/Missense\n",
    "x1, x2 = 0.75, 0.95\n",
    "y, h, col = 1.3, .3, 'k'\n",
    "plt.plot([x1, x1, x2, x2], [y+h, y+h, y+h, y+h], lw=1.5, c=col)\n",
    "plt.text((x1+x2)*.5, y+h, \"***\", ha='center', va='bottom', color=col, fontsize='23')\n",
    "\n",
    "#Add significance indicator: CABLES1/Truncation\n",
    "x1, x2 = 1.05, 1.25\n",
    "y, h, col = 0.8 + .3, .3, 'k'\n",
    "plt.plot([x1, x1, x2, x2], [y+h, y+h, y+h, y+h], lw=1.5, c=col)\n",
    "plt.text((x1+x2)*.5, y+h, \"****\", ha='center', va='bottom', color=col, fontsize='23')\n",
    "\n",
    "#Add significance indicator: HSP90AB1/Missense\n",
    "x1, x2 = 1.75, 1.95\n",
    "y, h, col = 1 + .3, .3, 'k'\n",
    "plt.plot([x1, x1, x2, x2], [y+h, y+h, y+h, y+h], lw=1.5, c=col)\n",
    "plt.text((x1+x2)*.5, y+h, \"****\", ha='center', va='bottom', color=col, fontsize='23')\n",
    "\n",
    "#Add significance indicator: HSP90AB1/Truncation\n",
    "x1, x2 = 2.05, 2.25\n",
    "y, h, col = 0.8 + .3, .3, 'k'\n",
    "plt.plot([x1, x1, x2, x2], [y+h, y+h, y+h, y+h], lw=1.5, c=col)\n",
    "plt.text((x1+x2)*.5, y+h, \"***\", ha='center', va='bottom', color=col, fontsize='23')\n",
    "\n",
    "#Add significance indicator: CHD8/Missense\n",
    "x1, x2 = 2.75, 2.95\n",
    "y, h, col = 1 + .3, .3, 'k'\n",
    "plt.plot([x1, x1, x2, x2], [y+h, y+h, y+h, y+h], lw=1.5, c=col)\n",
    "plt.text((x1+x2)*.5, y+h, \"****\", ha='center', va='bottom', color=col, fontsize='23')\n",
    "\n",
    "#Add significance indicator: CHD8/Truncation\n",
    "x1, x2 = 3.05, 3.25\n",
    "y, h, col = 0.8 + .3, .3, 'k'\n",
    "plt.plot([x1, x1, x2, x2], [y+h, y+h, y+h, y+h], lw=1.5, c=col)\n",
    "plt.text((x1+x2)*.5, y+h, \"****\", ha='center', va='bottom', color=col, fontsize='23')\n",
    "\n",
    "#Add significance indicator: UHRF2/Missense\n",
    "x1, x2 = 3.75, 3.95\n",
    "y, h, col = 1 + .3, .3, 'k'\n",
    "plt.plot([x1, x1, x2, x2], [y+h, y+h, y+h, y+h], lw=1.5, c=col)\n",
    "plt.text((x1+x2)*.5, y+h, \"****\", ha='center', va='bottom', color=col, fontsize='23')\n",
    "\n",
    "#Add significance indicator: UHRF2/Truncation\n",
    "x1, x2 = 4.05, 4.25\n",
    "y, h, col = 0.8 + .3, .3, 'k'\n",
    "plt.plot([x1, x1, x2, x2], [y+h, y+h, y+h, y+h], lw=1.5, c=col)\n",
    "plt.text((x1+x2)*.5, y+h, \"ns\", ha='center', va='bottom', color=col, fontsize='23')\n",
    "\n",
    "#Add significance indicator: AURKA/Missense\n",
    "x1, x2 = 4.75, 4.95\n",
    "y, h, col = 3 + .3, .3, 'k'\n",
    "plt.plot([x1, x1, x2, x2], [y+h, y+h, y+h, y+h], lw=1.5, c=col)\n",
    "plt.text((x1+x2)*.5, y+h, \"****\", ha='center', va='bottom', color=col, fontsize='23')\n",
    "\n",
    "#Add significance indicator: AURKA/Truncation\n",
    "x1, x2 = 5.05, 5.25\n",
    "y, h, col = 2.8 + .3, .3, 'k'\n",
    "plt.plot([x1, x1, x2, x2], [y+h, y+h, y+h, y+h], lw=1.5, c=col)\n",
    "plt.text((x1+x2)*.5, y+h, \"*\", ha='center', va='bottom', color=col, fontsize='23')\n",
    "\n",
    "fig = boxplt.get_figure()\n",
    "fig.savefig('p53_trans.png', dpi=300)\n",
    "plt.show()"
   ]
  },
  {
   "cell_type": "markdown",
   "metadata": {},
   "source": [
    "## Phosphoproteome abundance of interacting proteins"
   ]
  },
  {
   "cell_type": "markdown",
   "metadata": {},
   "source": [
    "### This is the same list as before, with some of the end numbers of the proteins removed; less specificity in protein names captures more potentially significant results in the phosphoproteomic data"
   ]
  },
  {
   "cell_type": "code",
   "execution_count": 46,
   "metadata": {},
   "outputs": [],
   "source": [
    "gene = 'TP53'\n",
    "phosProtList = ['TGFB1', 'AXIN1', 'EP300', 'HRMT1L2', 'CARM1', 'TAF1', 'ING4', 'CABLES1', \n",
    "            'TP73', 'HIPK1', 'HIPK2', 'TP53INP1', 'TP53BP', 'WWOX', 'HCV', 'USP7', 'SYVN1', 'HSP90AB1',\n",
    "           'CHD8', 'ARMC10', 'BANP', 'CDKN2AIP', 'NUAK1', 'STK11', 'LKB1', 'UHRF2', 'E4F1', 'YWHAZ',\n",
    "           'MAML1', 'MKRN1', 'PML', 'MDM2', 'FBXO42', 'ATM', 'PP2R2A', 'AURKA', 'DAXX', 'BRD7', 'TRIM24',\n",
    "           'L3MBTL1', 'GRK5', 'CAK', 'PTK2B', 'PYK2', 'MDM2', 'PRKCG', 'PPIF', 'KAT6A', 'UBC9', 'ZNF385B',\n",
    "           'ZNF385A', 'ANKRD2', 'RFFL', 'RNF34', 'MTA1', 'COP1', 'CCAR2', 'MORC3', 'POU4F2', 'AFG1L', 'UBD',\n",
    "           'TAF6', 'HPV', 'UL123', 'E1B-55K', 'BAX', 'FAS', 'BCL2', 'CREBBP', 'CDK2', 'MDM2', 'CDKN2A', 'ATM',\n",
    "            'CCNB1', 'TERT', 'IGF1R', 'ALB', 'MMP1']"
   ]
  },
  {
   "cell_type": "code",
   "execution_count": 47,
   "metadata": {},
   "outputs": [
    {
     "name": "stdout",
     "output_type": "stream",
     "text": [
      "['TP53BP1-S1431' 'TP53BP1-S1435' 'TP53BP1-S1683' 'TP53BP1-S1706'\n",
      " 'TP53BP1-S1763' 'TP53BP1-S1764' 'TP53BP1-S867' 'HSP90AB1-S226'\n",
      " 'HSP90AB1-S255' 'HSP90AB1-S261' 'HSP90AB1-S445' 'CDKN2AIP-S131'\n",
      " 'CREBBP-T974' 'CDKN2AIP-S131']\n",
      "[3.38126648e-04 8.74993877e-04 3.86169349e-03 6.45050474e-06\n",
      " 3.27620938e-04 2.19398978e-02 3.64259923e-04 5.06456035e-03\n",
      " 1.34927660e-04 4.93202061e-03 1.62167798e-02 1.62167798e-02\n",
      " 2.19257961e-02 1.62167798e-02]\n"
     ]
    }
   ],
   "source": [
    "sites = phos.columns\n",
    "p_values = []\n",
    "site_names = []\n",
    "\n",
    "for protein in phosProtList:\n",
    "    pattern = re.compile(protein)\n",
    "    isInList = filter(pattern.search, sites)\n",
    "    if next(isInList, None) is not None:\n",
    "        phosphositesdf = CPTAC.compare_mutations(phos, protein, gene)\n",
    "        phosphositesdf = phosphositesdf.loc[phosphositesdf['Patient_Type'] == 'Tumor'].drop('Patient_Type', axis = 1)\n",
    "        for site in phosphositesdf.columns:\n",
    "            if (site is not 'Mutation'):\n",
    "                sitedf = CPTAC.compare_mutations(phos, site, gene)\n",
    "                mutateddf = sitedf.loc[sitedf['Mutation'] == 'Missense_Mutation'].dropna(axis=0)\n",
    "                wtdf = sitedf.loc[sitedf['Mutation'] == 'Wildtype'].dropna(axis=0)\n",
    "                ttest = scipy.stats.ttest_ind(mutateddf[site], wtdf[site])\n",
    "                p_values.append(ttest[1])\n",
    "                site_names.append(site)     \n",
    "                \n",
    "areSignificant = statsmodels.stats.multitest.fdrcorrection(p_values)[0]\n",
    "pvalues = statsmodels.stats.multitest.fdrcorrection(p_values)[1]\n",
    "significant_sites = np.array(site_names)[np.array(areSignificant)]\n",
    "significant_pvalues = np.array(pvalues)[np.array(areSignificant)]\n",
    "\n",
    "print(significant_sites)\n",
    "print(significant_pvalues)"
   ]
  },
  {
   "cell_type": "markdown",
   "metadata": {},
   "source": [
    "### Look at truncating mutations"
   ]
  },
  {
   "cell_type": "code",
   "execution_count": 48,
   "metadata": {},
   "outputs": [
    {
     "name": "stdout",
     "output_type": "stream",
     "text": [
      "['TAF1D-S206' 'HIPK1-T1027' 'TP53BP1-S1431' 'TP53BP1-S1683'\n",
      " 'TP53BP1-S1706' 'TP53BP1-S1763' 'TP53BP1-S1764' 'TP53BP1-S867'\n",
      " 'HSP90AB1-S226' 'HSP90AB1-S255' 'HSP90AB1-S261' 'CHD8-S1420' 'CHD8-S1424'\n",
      " 'CHD8-S1995' 'CHD8-S549' 'FASN-S2198' 'FASN-T2204' 'BCL2L12-S273']\n",
      "[0.04492884 0.03343621 0.04492884 0.03343621 0.03271287 0.00202\n",
      " 0.04503339 0.03558846 0.0272901  0.00202    0.00498404 0.03343621\n",
      " 0.03558846 0.03343621 0.03271287 0.02017401 0.03271287 0.03343621]\n"
     ]
    }
   ],
   "source": [
    "sites = phos.columns\n",
    "p_values = []\n",
    "site_names = []\n",
    "\n",
    "for protein in phosProtList:\n",
    "    pattern = re.compile(protein)\n",
    "    isInList = filter(pattern.search, sites)\n",
    "    if next(isInList, None) is not None:\n",
    "        phosphositesdf = CPTAC.compare_mutations(phos, protein, gene)\n",
    "        phosphositesdf = phosphositesdf.loc[phosphositesdf['Patient_Type'] == 'Tumor'].drop('Patient_Type', axis = 1)\n",
    "        for site in phosphositesdf.columns:\n",
    "            if (site is not 'Mutation'):\n",
    "                sitedf = CPTAC.compare_mutations(phos, site, gene)\n",
    "                mutateddf = sitedf.loc[(sitedf[\"Mutation\"] == \"Frame_Shift_Del\") | \n",
    "                            (sitedf[\"Mutation\"] == \"Frame_Shift_Ins\") |\n",
    "                            (sitedf[\"Mutation\"] == 'Nonsense_Mutation')].dropna(axis=0)\n",
    "                wtdf = sitedf.loc[sitedf['Mutation'] == 'Wildtype'].dropna(axis=0)\n",
    "                ttest = scipy.stats.ttest_ind(mutateddf[site], wtdf[site])\n",
    "                p_values.append(ttest[1])\n",
    "                site_names.append(site)     \n",
    "                \n",
    "areSignificant = statsmodels.stats.multitest.fdrcorrection(p_values)[0]\n",
    "pvalues = statsmodels.stats.multitest.fdrcorrection(p_values)[1]\n",
    "significant_sites = np.array(site_names)[np.array(areSignificant)]\n",
    "significant_pvalues = np.array(pvalues)[np.array(areSignificant)]\n",
    "\n",
    "print(significant_sites)\n",
    "print(significant_pvalues)"
   ]
  },
  {
   "cell_type": "markdown",
   "metadata": {},
   "source": [
    "## Missense and truncating"
   ]
  },
  {
   "cell_type": "code",
   "execution_count": 50,
   "metadata": {},
   "outputs": [
    {
     "name": "stdout",
     "output_type": "stream",
     "text": [
      "['TGFB1I1-S192' 'CABLES1-S373' 'CABLES1-T415' 'HIPK1-S1200' 'HIPK1-T1027'\n",
      " 'TP53BP1-S1109' 'TP53BP1-S1431' 'TP53BP1-S1435' 'TP53BP1-S1683'\n",
      " 'TP53BP1-S1706' 'TP53BP1-S1763' 'TP53BP1-S1764' 'TP53BP1-S400'\n",
      " 'TP53BP1-S403' 'TP53BP1-S557' 'TP53BP1-S640' 'TP53BP1-S644'\n",
      " 'TP53BP1-S645' 'TP53BP1-S776' 'TP53BP1-S867' 'TP53BP1-S998'\n",
      " 'TP53BP1-T1653' 'HSP90AB1-S226' 'HSP90AB1-S255' 'HSP90AB1-S261'\n",
      " 'HSP90AB1-S445' 'CHD8-S1420' 'CHD8-S1995' 'CHD8-S2008' 'CHD8-S549'\n",
      " 'CHD8-S562' 'CHD8-T1982' 'CDKN2AIP-S131' 'DAXX-S680' 'MTA1-T564'\n",
      " 'FASN-S207' 'FASN-T2204' 'BCL2L12-S273' 'BCL2L13-S444' 'CREBBP-T974'\n",
      " 'CDKN2AIP-S131' 'RALBP1-S30']\n",
      "[4.83396943e-02 1.02748279e-02 1.71077907e-02 2.26293623e-02\n",
      " 3.31176397e-03 5.10409707e-03 1.59419677e-05 3.56867481e-05\n",
      " 4.05486152e-05 4.91755490e-07 7.77961292e-07 1.04397887e-03\n",
      " 3.86388492e-02 5.10409707e-03 3.98470422e-02 9.00020989e-03\n",
      " 4.27340920e-02 1.18523003e-02 3.14587547e-02 1.59419677e-05\n",
      " 4.91988605e-02 1.07792725e-02 4.05486152e-05 4.91755490e-07\n",
      " 2.38123612e-05 4.18215372e-03 3.11044243e-03 3.31176397e-03\n",
      " 1.58587568e-02 5.21294131e-03 1.13654894e-02 2.21669234e-02\n",
      " 5.10409707e-03 4.06499687e-02 1.58587568e-02 9.92360295e-03\n",
      " 1.72933722e-02 1.92222507e-03 1.18523003e-02 9.35659272e-03\n",
      " 5.10409707e-03 4.06499687e-02]\n"
     ]
    }
   ],
   "source": [
    "sites = phos.columns\n",
    "p_values = []\n",
    "site_names = []\n",
    "\n",
    "for protein in phosProtList:\n",
    "    pattern = re.compile(protein)\n",
    "    isInList = filter(pattern.search, sites)\n",
    "    if next(isInList, None) is not None:\n",
    "        phosphositesdf = CPTAC.compare_mutations(phos, protein, gene)\n",
    "        phosphositesdf = phosphositesdf.loc[phosphositesdf['Patient_Type'] == 'Tumor'].drop('Patient_Type', axis = 1)\n",
    "        for site in phosphositesdf.columns:\n",
    "            if (site is not 'Mutation'):\n",
    "                sitedf = CPTAC.compare_mutations(phos, site, gene)\n",
    "                mutateddf = sitedf.loc[(sitedf[\"Mutation\"] == \"Frame_Shift_Del\") | \n",
    "                        (sitedf[\"Mutation\"] == \"Frame_Shift_Ins\") |\n",
    "                        (sitedf[\"Mutation\"] == 'Nonsense_Mutation') |\n",
    "                        (sitedf[\"Mutation\"] == 'Missense_Mutation')            ].dropna(axis=0)\n",
    "                wtdf = sitedf.loc[sitedf['Mutation'] == 'Wildtype'].dropna(axis=0)\n",
    "                ttest = scipy.stats.ttest_ind(mutateddf[site], wtdf[site])\n",
    "                p_values.append(ttest[1])\n",
    "                site_names.append(site)       \n",
    "\n",
    "areSignificant = statsmodels.stats.multitest.fdrcorrection(p_values)[0]\n",
    "pvalues = statsmodels.stats.multitest.fdrcorrection(p_values)[1]\n",
    "significant_sites = np.array(site_names)[np.array(areSignificant)]\n",
    "significant_pvalues = np.array(pvalues)[np.array(areSignificant)]\n",
    "\n",
    "print(significant_sites)\n",
    "print(significant_pvalues)"
   ]
  },
  {
   "cell_type": "markdown",
   "metadata": {},
   "source": [
    "### Look at all mutations"
   ]
  },
  {
   "cell_type": "code",
   "execution_count": 49,
   "metadata": {},
   "outputs": [
    {
     "name": "stdout",
     "output_type": "stream",
     "text": [
      "['TGFB1I1-S137' 'TGFB1I1-S143' 'TGFB1I1-S192' 'TGFB1I1-S68' 'TAF15-S97'\n",
      " 'CABLES1-S109' 'CABLES1-S290' 'CABLES1-S373' 'CABLES1-S418'\n",
      " 'CABLES1-T415' 'HIPK1-S1200' 'HIPK1-T1027' 'TP53BP1-S1004'\n",
      " 'TP53BP1-S1099' 'TP53BP1-S1109' 'TP53BP1-S1431' 'TP53BP1-S1435'\n",
      " 'TP53BP1-S1683' 'TP53BP1-S1706' 'TP53BP1-S1763' 'TP53BP1-S1764'\n",
      " 'TP53BP1-S400' 'TP53BP1-S403' 'TP53BP1-S525' 'TP53BP1-S557'\n",
      " 'TP53BP1-S640' 'TP53BP1-S644' 'TP53BP1-S645' 'TP53BP1-S776'\n",
      " 'TP53BP1-S867' 'TP53BP1-T1653' 'TP53BP1-T307' 'HSP90AB1-S226'\n",
      " 'HSP90AB1-S255' 'HSP90AB1-S261' 'HSP90AB1-S445' 'CHD8-S1420' 'CHD8-S1995'\n",
      " 'CHD8-S2008' 'CHD8-S549' 'CHD8-S562' 'CHD8-T1982' 'CDKN2AIP-S131'\n",
      " 'STK11IP-S599' 'DAXX-S680' 'TRIM24-S1025' 'TRIM24-S1028' 'ANKRD26-S631'\n",
      " 'MTA1-T564' 'TAF6-S673' 'FASN-S207' 'FASN-S2198' 'FASN-T2204'\n",
      " 'BCL2L12-S273' 'BCL2L13-S444' 'CREBBP-S121' 'CREBBP-T974' 'CDKN2AIP-S131'\n",
      " 'RALBP1-S30']\n",
      "[4.73928331e-02 4.24683358e-02 1.30612019e-02 1.96788056e-02\n",
      " 4.87173544e-02 4.04222291e-02 2.81107614e-02 5.42094133e-03\n",
      " 2.09663430e-02 6.17934786e-03 2.55412949e-02 9.99937979e-03\n",
      " 3.78259978e-02 2.81107614e-02 1.49026382e-03 7.90494374e-07\n",
      " 1.57438520e-06 2.41290803e-06 3.73010059e-08 3.73010059e-08\n",
      " 7.78857041e-05 1.47993669e-02 2.15188496e-03 4.73928331e-02\n",
      " 4.87173544e-02 3.08885029e-03 4.43785531e-02 1.14420067e-02\n",
      " 3.32173526e-02 1.79499077e-06 2.00013985e-03 3.35051783e-02\n",
      " 6.37779242e-06 3.73010059e-08 3.50570262e-06 9.23826549e-04\n",
      " 3.08885029e-03 1.49026382e-03 2.37495864e-02 3.08885029e-03\n",
      " 7.37469189e-03 2.55412949e-02 6.19448264e-03 4.87173544e-02\n",
      " 1.53392569e-02 4.87173544e-02 4.73928331e-02 2.37495864e-02\n",
      " 2.00013985e-03 3.32173526e-02 6.48376054e-03 4.87173544e-02\n",
      " 8.66561436e-03 6.71318064e-04 1.72393000e-02 4.94488928e-02\n",
      " 3.08885029e-03 6.19448264e-03 2.37495864e-02]\n"
     ]
    }
   ],
   "source": [
    "sites = phos.columns\n",
    "p_values = []\n",
    "site_names = []\n",
    "\n",
    "for protein in phosProtList:\n",
    "    pattern = re.compile(protein)\n",
    "    isInList = filter(pattern.search, sites)\n",
    "    if next(isInList, None) is not None:\n",
    "        phosphositesdf = CPTAC.compare_mutations(phos, protein, gene)\n",
    "        phosphositesdf = phosphositesdf.loc[phosphositesdf['Patient_Type'] == 'Tumor'].drop('Patient_Type', axis = 1)\n",
    "        for site in phosphositesdf.columns:\n",
    "            if (site is not 'Mutation'):\n",
    "                sitedf = CPTAC.compare_mutations(phos, site, gene)\n",
    "                mutateddf = sitedf.loc[sitedf[\"Mutation\"] != 'Wildtype'].dropna(axis=0)\n",
    "                wtdf = sitedf.loc[sitedf['Mutation'] == 'Wildtype'].dropna(axis=0)\n",
    "                ttest = scipy.stats.ttest_ind(mutateddf[site], wtdf[site])\n",
    "                p_values.append(ttest[1])\n",
    "                site_names.append(site)       \n",
    "\n",
    "areSignificant = statsmodels.stats.multitest.fdrcorrection(p_values)[0]\n",
    "pvalues = statsmodels.stats.multitest.fdrcorrection(p_values)[1]\n",
    "significant_sites = np.array(site_names)[np.array(areSignificant)]\n",
    "significant_pvalues = np.array(pvalues)[np.array(areSignificant)]\n",
    "\n",
    "print(significant_sites)\n",
    "print(significant_pvalues)"
   ]
  },
  {
   "cell_type": "code",
   "execution_count": null,
   "metadata": {},
   "outputs": [],
   "source": []
  }
 ],
 "metadata": {
  "kernelspec": {
   "display_name": "Python 3",
   "language": "python",
   "name": "python3"
  },
  "language_info": {
   "codemirror_mode": {
    "name": "ipython",
    "version": 3
   },
   "file_extension": ".py",
   "mimetype": "text/x-python",
   "name": "python",
   "nbconvert_exporter": "python",
   "pygments_lexer": "ipython3",
   "version": "3.7.0"
  }
 },
 "nbformat": 4,
 "nbformat_minor": 2
}
