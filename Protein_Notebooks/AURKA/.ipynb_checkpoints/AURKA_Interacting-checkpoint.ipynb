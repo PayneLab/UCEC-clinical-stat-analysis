{
 "cells": [
  {
   "cell_type": "markdown",
   "metadata": {},
   "source": [
    "## Standard Imports"
   ]
  },
  {
   "cell_type": "code",
   "execution_count": 1,
   "metadata": {},
   "outputs": [],
   "source": [
    "import pandas as pd\n",
    "import numpy as np\n",
    "import scipy.stats\n",
    "from scipy.stats import pearsonr\n",
    "import matplotlib.pyplot as plt\n",
    "import re\n",
    "import seaborn as sns\n",
    "import statsmodels.stats.multitest"
   ]
  },
  {
   "cell_type": "code",
   "execution_count": 2,
   "metadata": {},
   "outputs": [
    {
     "name": "stdout",
     "output_type": "stream",
     "text": [
      "Loading CPTAC data:\n",
      "Loading Dictionary...\n",
      "Loading Clinical Data...\n",
      "Loading Proteomics Data...\n",
      "Loading Transcriptomics Data...\n",
      "Loading CNA Data...\n",
      "Loading Phosphoproteomics Data...\n",
      "Loading Somatic Mutation Data...\n",
      "\n",
      " ******PLEASE READ******\n",
      "WARNING: This data is under a publication embargo until July 1, 2019.\n",
      "CPTAC is a community resource project and data are made available\n",
      "rapidly after generation for community research use. The embargo\n",
      "allows exploring and utilizing the data, but the data may not be in a\n",
      "publication until July 1, 2019. Please see\n",
      "https://proteomics.cancer.gov/data-portal/about/data-use-agreement or\n",
      "enter CPTAC.embargo() to open the webpage for more details.\n"
     ]
    }
   ],
   "source": [
    "import CPTAC"
   ]
  },
  {
   "cell_type": "code",
   "execution_count": 3,
   "metadata": {},
   "outputs": [],
   "source": [
    "somatic_mutations = CPTAC.get_somatic()\n",
    "proteomics = CPTAC.get_proteomics()\n",
    "phos = CPTAC.get_phosphoproteomics()"
   ]
  },
  {
   "cell_type": "markdown",
   "metadata": {},
   "source": [
    "## T-Test for affect of mutation on protein abundance"
   ]
  },
  {
   "cell_type": "markdown",
   "metadata": {},
   "source": [
    "#### Use interacting proteins for protlist"
   ]
  },
  {
   "cell_type": "code",
   "execution_count": 4,
   "metadata": {},
   "outputs": [],
   "source": [
    "all_proteins = list(proteomics.columns.values)\n",
    "protList= [\"CPEB1\", \"JTB\", \"TACC1\", \"TPX2\", \"PPP2CA\",\"PP1\",\"PPP1CA\",\"PPP1CB\",\"PPP1CC\",\"ARHGEF2\",\"BORA\", \"BRCA1\", \"KIF2A\", \"PARD3\",\"p53\",\"TP53\",\"PLK1\",\"PIFO\",\"GADD45A\",\"AUNIP\",\"NIN\",\"FRY\",\"SIRT2\",\"MYCN\",\"FBXW7\",\"MYCN\",\"HNRNPU\",\"TACC3\",\"UBE2C\",\"BIRC5\",\"DLGAP5\",\"TPX2\",\"CDK1\",\"CDC20\",\"CENPA\",\"CCNB2\"]"
   ]
  },
  {
   "cell_type": "markdown",
   "metadata": {},
   "source": [
    "#### Perform T-Test"
   ]
  },
  {
   "cell_type": "code",
   "execution_count": 5,
   "metadata": {},
   "outputs": [
    {
     "name": "stderr",
     "output_type": "stream",
     "text": [
      "/anaconda3/lib/python3.6/site-packages/numpy/core/fromnumeric.py:3157: RuntimeWarning: Degrees of freedom <= 0 for slice\n",
      "  **kwargs)\n",
      "/anaconda3/lib/python3.6/site-packages/numpy/core/_methods.py:132: RuntimeWarning: invalid value encountered in double_scalars\n",
      "  ret = ret.dtype.type(ret / rcount)\n"
     ]
    }
   ],
   "source": [
    "gene = 'AURKA'\n",
    "tested = [];\n",
    "p_vals = [];\n",
    "for protein in protList: \n",
    "    if protein in proteomics.columns:\n",
    "        tested.append(protein)\n",
    "        cross = CPTAC.compare_mutations(proteomics, protein, gene)\n",
    "        cross = cross[:100]\n",
    "        cross = cross[[\"Mutation\", protein]].dropna(axis=0)\n",
    "        mutated = cross.loc[cross[\"Mutation\"] != \"Wildtype\"]\n",
    "        wt = cross.loc[cross[\"Mutation\"] == \"Wildtype\"]\n",
    "        ttest = scipy.stats.ttest_ind(mutated[protein], wt[protein])\n",
    "        p_vals.append(ttest[1])"
   ]
  },
  {
   "cell_type": "markdown",
   "metadata": {},
   "source": [
    "### See if P-values are significant using fdr correction"
   ]
  },
  {
   "cell_type": "code",
   "execution_count": 6,
   "metadata": {},
   "outputs": [
    {
     "name": "stderr",
     "output_type": "stream",
     "text": [
      "/anaconda3/lib/python3.6/site-packages/statsmodels/stats/multitest.py:320: RuntimeWarning: invalid value encountered in less_equal\n",
      "  reject = pvals_sorted <= ecdffactor*alpha\n"
     ]
    }
   ],
   "source": [
    "areSignificant = statsmodels.stats.multitest.fdrcorrection(p_vals)[0]\n",
    "pvals = statsmodels.stats.multitest.fdrcorrection(p_vals)[1]\n",
    "significant_proteins = np.array(tested)[np.array(areSignificant)]\n",
    "significant_pvals = np.array(pvals)[np.array(areSignificant)]"
   ]
  },
  {
   "cell_type": "markdown",
   "metadata": {},
   "source": [
    "### Print Significant P-values and their corresponding proteins"
   ]
  },
  {
   "cell_type": "code",
   "execution_count": 7,
   "metadata": {},
   "outputs": [
    {
     "name": "stdout",
     "output_type": "stream",
     "text": [
      "[]\n",
      "[]\n"
     ]
    }
   ],
   "source": [
    "print(significant_proteins)\n",
    "print(significant_pvals)"
   ]
  },
  {
   "cell_type": "markdown",
   "metadata": {},
   "source": [
    "# Test for phosphorylation levels"
   ]
  },
  {
   "cell_type": "markdown",
   "metadata": {},
   "source": [
    "#### We will use all proteins again"
   ]
  },
  {
   "cell_type": "code",
   "execution_count": 8,
   "metadata": {},
   "outputs": [],
   "source": [
    "phosProtList = protList"
   ]
  },
  {
   "cell_type": "code",
   "execution_count": 9,
   "metadata": {},
   "outputs": [
    {
     "name": "stdout",
     "output_type": "stream",
     "text": [
      "[0.36880837022107027, 0.10533615483605772, 0.5282239026568312, 0.4311617130222527, 0.8312987286021523, 0.07610858945399845, 0.007631874847793643, 0.7249169741034017, 0.28985452615455715, 0.8237271194551231, 0.0001777351529621046, 0.40270655377963716, 0.2059011382154486, 0.06585936645773272, 0.5818716760793893, 0.2515228110968836, 0.21315643688446625, 0.4553339079988249, 0.4047117808523285, 0.03742601870980346, 0.4745940086737651, 0.6362242536366376, 0.09328183427244217, 0.9562119275034813, 0.7858286613654919, 0.943390438783714, 0.20665283912695223, 0.7859634639999156, 0.5551019843790959, 0.5968201534228672, 0.34744657100684784, 0.29845728852361253, 0.6473246067912157, 0.871639076222802, 0.8638625569939554, 0.09494909554478458, 0.49193843126479586, 0.801749584188487, 0.7556114822319573, 0.10099558527138851, 0.2266563732415546, 0.9588667324489621, 0.8552105849383433, 0.9199559800729479, 0.3773713097840439, 0.07555741258834422, 0.8456948727537471, 0.3237032322354991, 0.17284853117884258, 0.6765785880594328, 0.0994811513306346, 0.603420421408206, 0.19422860992656094, 0.31762118555216695, 0.8948501736422145, 0.8044926812496443, 0.8380942388487296, 0.6599987078529632, 0.412405609322992, 0.7975173345752338, 0.6489277124623161, 0.42283432967970613, 0.7473029636390187, 0.23510699868202922, 0.36504797048319193, 0.25649545690815984, 0.8738429289027423, 0.2917928947073379, 0.5207306328139105, 0.8160801412358502, 0.6732213914160359, 0.3119105814882449, 0.24815362772485425, 0.7737119716017353, 0.5296743490658458, 0.19941547445003832, 0.365507425218757, 0.6875752870573832, 0.4114113687611295, 0.8002513592908875, 0.7725129317794466, 0.4148017281392413, 0.7285159261489513, 0.9907372375137569, 0.3791995592601518, 0.8521723236102147, 0.4816014850419825, 0.7945004221479821, 0.32289467098095304, 0.7865963982635766, 0.41510252471394926, 0.7952786107175673, 0.7816669703532817, 0.24973096084631086, 0.9538127721348254, 0.9549196587103504, 0.2775234292422536, 0.5659452532788632, 0.6771027450553733, 0.7784847781973417, 0.36250467713127743, 0.494971963698569, 0.2890886796186881, 0.01710739314952085, 0.2069590257480386, 0.7030771110550311, 0.7298137514506804, 0.7424170722431493, 0.5838535890947639, 0.5061659880847451, 0.49837929160908345, 0.962011883190994, 0.6771998678126021, 0.2609381465698991, 0.191009348353554, 0.8963931209710961, 0.49315861612271916, 0.8459833345945625, 0.3274574323692421, 0.9800585516058289, 0.23351604953954352, 0.708796383142209, 0.7995454234828306, 0.7957967770908422, 0.6136724670093991, 0.48507251734852275, 0.848740967328902, 0.5001946591333246, 0.43207773611294464, 0.6959705420166061, 0.7180220659917944, 0.7321317374069015, 0.40270655377963716, 0.2059011382154486, 0.9307916957141671, 0.5018131260122136, 0.5467210646391383, 0.7729157019050136, 0.8851454866529911, 0.6381763703883541, 0.27002899892393495, 0.6596352856942821, 0.6567636273123814, 0.6317688439928116, 0.561291890355605, 0.8916763980586843, 0.8735120586627798, 0.5455390218692238, 0.3023155172929119, 0.825944057010758, 0.3468942213179035, 0.22859834170905174, 0.08960339429156274, 0.06397863110983322, 0.20707829166643213, 0.30871615410245185, 0.1470790887429905, 0.043497579732890077, 0.3059654476195911, 0.8585757975000967, 0.6588470504065143, 0.08976829029864108, 0.01592990068887408, 0.047382409142987365, 0.019568762448667107, 0.40218213723270413, 0.40218213723270413, 0.8143896102814643, 0.1691520731507721, 0.19055983963862985, 0.20939511155814716, 0.654104292841097, 0.7168134939848922, 0.21370535963597934, 0.12772131847996954, 0.4107582016859097, 0.8486444737186014, 0.3920774012378978, 0.9868134120699852, 0.9974965353651657, 0.6823460746364496, 0.5902453507656833, 0.6667701536981614, 0.5784461532598966, 0.9509835113492697, 0.1613102942444386, 0.2660364982304306, 0.7650177219579164, 0.8800454523793837, 0.12080742201670168, 0.9703327113564246, 0.3890237561594646, 0.586231866203362, 0.8453584614665692, 0.6027392752675965, 0.7881494250334077, 0.9559512440658979, 0.5283822564310132, 0.09416814800455799, 0.9893655950911187, 0.4301850466773748, 0.8296805486209589, 0.8938753085056483, 0.9180485678094324, 0.9823442672205558, 0.8800679170322474, 0.8130983666604868, 0.7249467492016002, 0.7235302113694158, 0.8528217586854211, 0.6478000732277576, 0.9972571632947393, 0.01132224134657388, 0.908715282572224, 0.20040134906164325, 0.27997390568677943, 0.9798899991614902, 0.7901569228983638, 0.4073303663417017, 0.6288113625060866, 0.21513807195790552, 0.012254001579673374, 0.32238426795657316, 0.7214609943518641, 0.4726002117466581, 0.0630581789418006, 0.23719903930523353, 0.39479399022446937, 0.01606728072985768, 0.2432318162976933, 0.37416327623501244, 0.7056592435200741, 0.5265722913845158, 0.8755230863442481, 0.7341281788143033, 0.4320379181161359, 0.46574065290528543, 0.028468716367794234, 0.11213415389585363, 0.2763165751007567, 0.3044628923257727, 0.9816645529916939, 0.636976822960253, 0.901418734227006, 0.6826645620486094, 0.9376712797517963, 0.05934610535652028, 0.5435832518403677, 0.6900291126468909, 0.5582715788852365, 0.3693287258908522, 0.9193812336875431, 0.5454106868056368, 0.910499500779669, 0.36120068079195244, 0.7626819139154799, 0.29425278917330944, 0.7309022472171339, 0.5755141139118722, 0.3804572383702164, 0.025524739835056917, 0.5967743366532903, 0.8148729954568018, 0.8502040528368507, 0.44318466782831967, 0.6536883469720884, 0.5145436241870984, 0.7850170352391944, 0.7980063011123492, 0.7548729590635548, 0.7329381625767881, 0.8440979631930243, 0.7431820776819593, 0.8366750630235227, 0.22738941532460016, 0.41428797052707367, 0.7068416510088802, 0.6471600338792212, 0.42048700929706806, 0.9106763014306034, 0.4542512994437773, 0.6182545761339988, 0.40004637280362376, 0.1704496053928017, 0.9178293756732505, 0.5935809078727003, 0.6246545058149608, 0.8039477642276637, 0.596311241884405, 0.6348663739714729, 0.21378677516174657, 0.08707877685009728, 0.34272420857757846, 0.354716400074371, 0.34272420857757846, 0.354716400074371, 0.19105840664265783, 0.6508148453593794, 0.7230591881670774, 0.7128958540869634, 0.9206945361033088, 0.577274766150963, 0.8873069443884178, 0.7370873157599966, 0.24102632395640178, 0.25588288775665086, 0.8518140730118118, 0.6727958954267415, 0.4162793921520078, 0.2659478576079493, 0.012273997468006503, 0.32688161476881916, 0.31062982679267664, 0.09023419275171553, 0.19000764048825713, 0.4590831612678218, 0.6617998618978636, 0.10533615483605772, 0.8543586700059861, 0.15190995799509527, 0.44636857029825405, 0.42998065240879557, 0.5203335941550602, 0.6492637779649655, 0.10928980273373255, 0.3450375193822157, 0.4973439050318428, 0.028993414760902638, 0.9469714670207718, 0.4328417547104413, 0.9782172533341709, 0.298925705294095, 0.3664073338626235, 0.32615281021101616, 0.5808072658596346, 0.7825884672591878, 0.43042842778187673, 0.27281857138791227, 0.47340843104534236, 0.16249175225039703, 0.27504045991272547, 0.8479414582829702, 0.16045556197954833, 0.8937595703308094, 0.44681646511666206, 0.38185112274185107, 0.06556549420676844, 0.9707646503129138, 0.7562081211316694, 0.3450480086130544, 0.17307556911548838, 0.5218388754909589, 0.16494545482765952, 0.10830149616796962, 0.25185448306313685, 0.05129913798932464, 0.19110099948450218, 0.9167587623078104, 0.1558913149475218, 0.35949905135263305, 0.49211812073912264, 0.6883202137206688, 0.9885811305392969, 0.5523079760151866, 0.8721211871933613, 0.8554827434200742, 0.4423665103306593, 0.12740419437273662, 0.15191778519160506, 0.7552980379347617, 0.7898943457334919, 0.9472227493978725, 0.7141454530987299, 0.42797941576744447, 0.7301098015234633, 0.6955944314801257, 0.6198098730914485, 0.8014786243261005, 0.8688779272487919]\n",
      "['TACC1-S234', 'TPX2-T369', 'PPP2CA-S26', 'ARPP19-S123', 'CSPP1-S492', 'CSPP1-S847', 'CSPP1-S866', 'CSPP1-S931', 'GPALPP1-S141', 'MPP1-S243', 'PHLPP1-S317', 'PPP1CA-T331', 'PPP1CB-T316', 'PPP1R10-S313', 'PPP1R10-S382', 'PPP1R10-S471', 'PPP1R10-T315', 'PPP1R11-S74', 'PPP1R11-S77', 'PPP1R11-T109', 'PPP1R11-T75', 'PPP1R12A-S299', 'PPP1R12A-S409', 'PPP1R12A-S422', 'PPP1R12A-S445', 'PPP1R12A-S477', 'PPP1R12A-S479', 'PPP1R12A-S507', 'PPP1R12A-S509', 'PPP1R12A-S525', 'PPP1R12A-S542', 'PPP1R12A-S618', 'PPP1R12A-S668', 'PPP1R12A-S695', 'PPP1R12A-S852', 'PPP1R12A-S862', 'PPP1R12A-S871', 'PPP1R12A-S877', 'PPP1R12A-S910', 'PPP1R12A-T305', 'PPP1R12A-T443', 'PPP1R12A-T696', 'PPP1R12A-T873', 'PPP1R12A-Y446', 'PPP1R12A-Y901', 'PPP1R12B-S447', 'PPP1R12B-S900', 'PPP1R12B-S903', 'PPP1R12B-S916', 'PPP1R12C-S407', 'PPP1R12C-S427', 'PPP1R12C-S428', 'PPP1R12C-S509', 'PPP1R12C-S532', 'PPP1R12C-S559', 'PPP1R12C-T560', 'PPP1R13B-S332', 'PPP1R13B-S335', 'PPP1R13B-S671', 'PPP1R13B-S681', 'PPP1R13L-S102', 'PPP1R13L-S110', 'PPP1R13L-S113', 'PPP1R13L-S134', 'PPP1R13L-S158', 'PPP1R13L-S187', 'PPP1R13L-S280', 'PPP1R13L-S358', 'PPP1R13L-S567', 'PPP1R13L-T105', 'PPP1R13L-T173', 'PPP1R14A-S128', 'PPP1R14A-S130', 'PPP1R14A-S134', 'PPP1R14A-S136', 'PPP1R14A-S26', 'PPP1R14C-S33', 'PPP1R15B-S508', 'PPP1R18-S125', 'PPP1R18-S133', 'PPP1R18-S195', 'PPP1R18-S224', 'PPP1R18-S308', 'PPP1R18-S401', 'PPP1R18-S432', 'PPP1R18-S490', 'PPP1R18-T493', 'PPP1R1B-S46', 'PPP1R2-S121', 'PPP1R2-S122', 'PPP1R2-S20', 'PPP1R2-S87', 'PPP1R2-Y75', 'PPP1R21-S653', 'PPP1R35-S47', 'PPP1R35-S52', 'PPP1R35-S91', 'PPP1R37-S50', 'PPP1R3D-S133', 'PPP1R3D-S25', 'PPP1R3D-S28', 'PPP1R3E-S16', 'PPP1R3E-S33', 'PPP1R3G-S86', 'PPP1R7-S12', 'PPP1R7-S24', 'PPP1R7-S27', 'PPP1R7-S37', 'PPP1R7-S47', 'PPP1R9A-S1153', 'PPP1R9A-S1217', 'PPP1R9A-S1218', 'PPP1R9A-S187', 'PPP1R9A-S291', 'PPP1R9A-S338', 'PPP1R9A-S862', 'PPP1R9A-S937', 'PPP1R9A-T277', 'PPP1R9A-T287', 'PPP1R9B-S100', 'PPP1R9B-S205', 'SGPP1-S112', 'SPP1-S208', 'SPP1-S232', 'SPP1-S247', 'SPP1-S267', 'SPP1-S271', 'SPP1-S276', 'SPP1-S75', 'SPP1-S76', 'SPP1-T203', 'SPP1-T240', 'PPP1CA-T331', 'PPP1CB-T316', 'ARHGEF2-S122', 'ARHGEF2-S163', 'ARHGEF2-S172', 'ARHGEF2-S174', 'ARHGEF2-S177', 'ARHGEF2-S696', 'ARHGEF2-S711', 'ARHGEF2-S886', 'ARHGEF2-S932', 'ARHGEF2-S941', 'ARHGEF2-S947', 'ARHGEF2-S952', 'ARHGEF2-S953', 'ARHGEF2-S956', 'ARHGEF2-S960', 'ARHGEF2-T153', 'ARHGEF2-T679', 'ARHGEF25-S595', 'ARHGEF25-S599', 'ARHGEF25-T604', 'ARHGEF26-S22', 'ARHGEF26-S222', 'ARHGEF26-S392', 'ARHGEF26-S422', 'ARHGEF26-S80', 'ARHGEF28-S1538', 'ARHGEF28-S513', 'ARHGEF28-S535', 'ARHGEF28-S560', 'ARHGEF28-S624', 'BRCA1-S1481', 'BRCA1-S395', 'BRCA1-S398', 'KIF2A-S135', 'KIF2A-S140', 'PARD3-S1139', 'PARD3-S1178', 'PARD3-S1261', 'PARD3-S1335', 'PARD3-S144', 'PARD3-S174', 'PARD3-S383', 'PARD3-S692', 'PARD3-S695', 'PARD3-S715', 'PARD3-S717', 'PARD3-S728', 'PARD3-S809', 'PARD3-S827', 'PARD3-S837', 'PARD3-S852', 'PARD3-S962', 'PARD3B-S364', 'PARD3B-S403', 'PARD3B-S710', 'PARD3B-S746', 'TP53-S315', 'TP53BP1-S1004', 'TP53BP1-S1033', 'TP53BP1-S1072', 'TP53BP1-S1073', 'TP53BP1-S1099', 'TP53BP1-S1106', 'TP53BP1-S1109', 'TP53BP1-S124', 'TP53BP1-S1295', 'TP53BP1-S1300', 'TP53BP1-S132', 'TP53BP1-S1325', 'TP53BP1-S1327', 'TP53BP1-S1347', 'TP53BP1-S1431', 'TP53BP1-S1435', 'TP53BP1-S1467', 'TP53BP1-S1486', 'TP53BP1-S1640', 'TP53BP1-S1683', 'TP53BP1-S1706', 'TP53BP1-S213', 'TP53BP1-S227', 'TP53BP1-S299', 'TP53BP1-S315', 'TP53BP1-S320', 'TP53BP1-S338', 'TP53BP1-S354', 'TP53BP1-S364', 'TP53BP1-S365', 'TP53BP1-S371', 'TP53BP1-S384', 'TP53BP1-S385', 'TP53BP1-S505', 'TP53BP1-S512', 'TP53BP1-S517', 'TP53BP1-S525', 'TP53BP1-S528', 'TP53BP1-S557', 'TP53BP1-S571', 'TP53BP1-S585', 'TP53BP1-S644', 'TP53BP1-S645', 'TP53BP1-S664', 'TP53BP1-S665', 'TP53BP1-S667', 'TP53BP1-S729', 'TP53BP1-S732', 'TP53BP1-S776', 'TP53BP1-S789', 'TP53BP1-S791', 'TP53BP1-S814', 'TP53BP1-S836', 'TP53BP1-S839', 'TP53BP1-S867', 'TP53BP1-S998', 'TP53BP1-T1061', 'TP53BP1-T1297', 'TP53BP1-T1377', 'TP53BP1-T1614', 'TP53BP1-T1643', 'TP53BP1-T1653', 'TP53BP1-T307', 'TP53BP1-T326', 'TP53BP1-T339', 'TP53BP1-T378', 'TP53BP1-T387', 'TP53BP1-T524', 'TP53BP1-T548', 'TP53BP1-T927', 'TP53BP2-S487', 'TP53BP2-S564', 'TP53BP2-S575', 'TP53BP2-S582', 'TP53BP2-S743', 'TP53BP2-T592', 'TP53BP2-T745', 'TP53I11-S14', 'TP53INP1-S156', 'TP53RK-T8', 'PLK1-T210', 'NIN-S269', 'NIN-S812', 'NIN-T2128', 'NIN-T254', 'FRY-S1380', 'FRY-S1383', 'FRY-S1940', 'FRY-T947', 'FRYL-S1914', 'FRYL-S1923', 'FRYL-S1957', 'FRYL-S2272', 'FRYL-S2338', 'FRYL-S844', 'FRYL-S889', 'FRYL-T1959', 'FRYL-T2334', 'SIRT2-S23', 'SIRT2-S27', 'SIRT2-S368', 'MYCN-S62', 'MYCN-T58', 'MYCN-S62', 'MYCN-T58', 'HNRNPU-S192', 'HNRNPU-S271', 'HNRNPU-S59', 'HNRNPU-S66', 'HNRNPU-T191', 'HNRNPUL1-S194', 'HNRNPUL1-S512', 'HNRNPUL1-S718', 'HNRNPUL2-S161', 'HNRNPUL2-S168', 'HNRNPUL2-S185', 'HNRNPUL2-S188', 'HNRNPUL2-S193', 'HNRNPUL2-S226', 'HNRNPUL2-S228', 'HNRNPUL2-T165', 'TACC3-S250', 'TACC3-S317', 'TACC3-S402', 'TACC3-S434', 'DLGAP5-S662', 'TPX2-T369', 'CDK1-S39', 'CDK11A-T583', 'CDK11B-S115', 'CDK11B-S47', 'CDK11B-T595', 'CDK12-S1083', 'CDK12-S236', 'CDK12-S249', 'CDK12-S274', 'CDK12-S276', 'CDK12-S301', 'CDK12-S303', 'CDK12-S332', 'CDK12-S333', 'CDK12-S334', 'CDK12-S357', 'CDK12-S359', 'CDK12-S383', 'CDK12-S385', 'CDK12-S423', 'CDK12-T514', 'CDK12-T57', 'CDK12-T692', 'CDK13-S315', 'CDK13-S317', 'CDK13-S325', 'CDK13-S342', 'CDK13-S349', 'CDK13-S367', 'CDK13-S383', 'CDK13-S395', 'CDK13-S397', 'CDK13-S400', 'CDK13-S413', 'CDK13-S437', 'CDK13-S439', 'CDK13-S525', 'CDK13-T1058', 'CDK13-T1147', 'CDK13-T1246', 'CDK13-T871', 'CDK14-S78', 'CDK14-S95', 'CDK16-S139', 'CDK16-S184', 'CDK16-S227', 'CDK16-S229', 'CDK17-S137', 'CDK17-S146', 'CDK17-S165', 'CDK17-S180', 'CDK17-S92', 'CDK18-S128', 'CDK18-S14', 'CDK18-S162', 'CDK18-S74', 'CDC20-S41', 'CDC20-T106', 'CDC20-T70', 'CENPA-S17', 'CENPA-S19']\n",
      "AVG p_val =  0.5265007721334628\n"
     ]
    }
   ],
   "source": [
    "sites = phos.columns\n",
    "p_values = []\n",
    "site_names = []\n",
    "\n",
    "for protein in phosProtList:\n",
    "    pattern = re.compile(protein)\n",
    "    isInList = filter(pattern.search, sites)\n",
    "    if next(isInList, None) is not None:\n",
    "        phosphositesdf = CPTAC.compare_mutations(phos, protein, gene)\n",
    "        phosphositesdf = phosphositesdf.loc[phosphositesdf['Patient_Type'] == 'Tumor'].drop('Patient_Type', axis = 1)\n",
    "        for site in phosphositesdf.columns:\n",
    "            if (site is not 'Mutation'):\n",
    "                sitedf = CPTAC.compare_mutations(phos, site, gene)\n",
    "                mutateddf = sitedf.loc[sitedf['Mutation'] != 'Wildtype'].dropna(axis=0)\n",
    "                wtdf = sitedf.loc[sitedf['Mutation'] == 'Wildtype'].dropna(axis=0)\n",
    "                ttest = scipy.stats.ttest_ind(mutateddf[site], wtdf[site])\n",
    "                p_values.append(ttest[1])\n",
    "                site_names.append(site)     \n",
    "\n",
    "\n",
    "\n",
    "#We need to remove all 'nan' p-values and their corresponding site names before passing it in for the fdr correction\n",
    "indexesToRemove=[]\n",
    "\n",
    "for index in range(0, len(p_values)):\n",
    "    if np.isnan(p_values[index]):\n",
    "        indexesToRemove.append(index)\n",
    "\n",
    "for rem in range( len(indexesToRemove)-1, -1, -1):\n",
    "    p_values.pop(indexesToRemove[rem])\n",
    "    site_names.pop(indexesToRemove[rem])\n",
    "#p_values and site names have now had all entries removed where the corresponding p-value is 'nan'\n",
    "\n",
    "print(p_values)\n",
    "print(site_names)\n",
    "\n",
    "sum = 0\n",
    "for p in p_values:\n",
    "    sum += p\n",
    "avg = sum/len(p_values)\n",
    "\n",
    "print(\"AVG p_val = \", avg)"
   ]
  },
  {
   "cell_type": "markdown",
   "metadata": {},
   "source": [
    "### See significance of P-Values using Bonferroni correction"
   ]
  },
  {
   "cell_type": "code",
   "execution_count": 10,
   "metadata": {},
   "outputs": [
    {
     "name": "stdout",
     "output_type": "stream",
     "text": [
      "threshold_pval:  0.001388888888888889\n"
     ]
    }
   ],
   "source": [
    "threshold_pval = .05/len(site_names)\n",
    "print(\"threshold_pval: \", threshold_pval)\n",
    "bonferonni_corrected_pvals = list()\n",
    "bonferonni_sig_sites = list()\n",
    "\n",
    "for ind in range(0, len(p_values)):\n",
    "    if p_values[ind] <= threshold_pval:\n",
    "        bonferonni_corrected_pvals.append(p_values[ind])\n",
    "        bonferonni_sig_sites.append(site_names[ind])\n",
    "        \n",
    "#print(\"\\nBonferonni corrected significant Pvals: \", bonferonni_corrected_pvals, \"\\n\")\n",
    "        \n"
   ]
  },
  {
   "cell_type": "markdown",
   "metadata": {},
   "source": [
    "### Print significant sites and pvalues "
   ]
  },
  {
   "cell_type": "code",
   "execution_count": 11,
   "metadata": {},
   "outputs": [
    {
     "name": "stdout",
     "output_type": "stream",
     "text": [
      "\n",
      "Significant Sites:  ['PHLPP1-S317']\n",
      "\n",
      "Significant P-Values:  [0.0001777351529621046]\n"
     ]
    }
   ],
   "source": [
    "print(\"\\nSignificant Sites: \", bonferonni_sig_sites)\n",
    "print(\"\\nSignificant P-Values: \", bonferonni_corrected_pvals)\n",
    "#print(significant_vals)"
   ]
  },
  {
   "cell_type": "markdown",
   "metadata": {},
   "source": [
    "### Now try FDR correction"
   ]
  },
  {
   "cell_type": "code",
   "execution_count": 12,
   "metadata": {},
   "outputs": [],
   "source": [
    "pvalues = statsmodels.stats.multitest.fdrcorrection(p_values,alpha=0.05, method='indep')[1]         \n",
    "areSignificant = statsmodels.stats.multitest.fdrcorrection(p_values,alpha=0.05, method='indep')[0]\n",
    "\n",
    "significant_sites = np.array(site_names)[np.array(areSignificant)]\n",
    "significant_pvalues = np.array(pvalues)[np.array(areSignificant)]\n",
    "\n",
    "significant_vals = dict(zip(significant_sites, significant_pvalues))"
   ]
  },
  {
   "cell_type": "markdown",
   "metadata": {},
   "source": [
    "### Print significant sites and pvalues"
   ]
  },
  {
   "cell_type": "code",
   "execution_count": 13,
   "metadata": {},
   "outputs": [
    {
     "name": "stdout",
     "output_type": "stream",
     "text": [
      "[]\n",
      "[]\n",
      "{}\n"
     ]
    }
   ],
   "source": [
    "print(significant_sites)\n",
    "print(significant_pvalues)\n",
    "print(significant_vals)"
   ]
  },
  {
   "cell_type": "code",
   "execution_count": 14,
   "metadata": {},
   "outputs": [
    {
     "name": "stdout",
     "output_type": "stream",
     "text": [
      "36\n"
     ]
    }
   ],
   "source": [
    "print(len(phosProtList))"
   ]
  },
  {
   "cell_type": "code",
   "execution_count": null,
   "metadata": {},
   "outputs": [],
   "source": []
  }
 ],
 "metadata": {
  "kernelspec": {
   "display_name": "Python 3",
   "language": "python",
   "name": "python3"
  },
  "language_info": {
   "codemirror_mode": {
    "name": "ipython",
    "version": 3
   },
   "file_extension": ".py",
   "mimetype": "text/x-python",
   "name": "python",
   "nbconvert_exporter": "python",
   "pygments_lexer": "ipython3",
   "version": "3.6.8"
  }
 },
 "nbformat": 4,
 "nbformat_minor": 2
}
