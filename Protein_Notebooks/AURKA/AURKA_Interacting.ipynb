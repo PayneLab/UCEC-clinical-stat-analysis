{
 "cells": [
  {
   "cell_type": "markdown",
   "metadata": {},
   "source": [
    "## Standard Imports"
   ]
  },
  {
   "cell_type": "code",
   "execution_count": 2,
   "metadata": {},
   "outputs": [],
   "source": [
    "import pandas as pd\n",
    "import numpy as np\n",
    "import scipy.stats\n",
    "from scipy.stats import pearsonr\n",
    "import matplotlib.pyplot as plt\n",
    "import re\n",
    "import seaborn as sns\n",
    "import statsmodels.stats.multitest"
   ]
  },
  {
   "cell_type": "code",
   "execution_count": 3,
   "metadata": {},
   "outputs": [
    {
     "name": "stdout",
     "output_type": "stream",
     "text": [
      "Loading CPTAC data:\n",
      "Loading Dictionary...\n",
      "Loading Clinical Data...\n",
      "Loading Proteomics Data...\n",
      "Loading Transcriptomics Data...\n",
      "Loading CNA Data...\n",
      "Loading Phosphoproteomics Data...\n",
      "Loading Somatic Mutation Data...\n",
      "\n",
      " ******PLEASE READ******\n",
      "WARNING: This data is under a publication embargo until July 1, 2019.\n",
      "CPTAC is a community resource project and data are made available\n",
      "rapidly after generation for community research use. The embargo\n",
      "allows exploring and utilizing the data, but the data may not be in a\n",
      "publication until July 1, 2019. Please see\n",
      "https://proteomics.cancer.gov/data-portal/about/data-use-agreement or\n",
      "enter CPTAC.embargo() to open the webpage for more details.\n"
     ]
    }
   ],
   "source": [
    "import CPTAC"
   ]
  },
  {
   "cell_type": "code",
   "execution_count": 4,
   "metadata": {},
   "outputs": [],
   "source": [
    "somatic_mutations = CPTAC.get_somatic()\n",
    "proteomics = CPTAC.get_proteomics()\n",
    "phos = CPTAC.get_phosphoproteomics()"
   ]
  },
  {
   "cell_type": "markdown",
   "metadata": {},
   "source": [
    "## T-Test for affect of mutation on protein abundance"
   ]
  },
  {
   "cell_type": "markdown",
   "metadata": {},
   "source": [
    "#### Use interacting proteins for protlist"
   ]
  },
  {
   "cell_type": "code",
   "execution_count": 5,
   "metadata": {},
   "outputs": [],
   "source": [
    "all_proteins = list(proteomics.columns.values)\n",
    "protList= [\"CPEB1\", \"JTB\", \"TACC1\", \"TPX2\", \"PPP2CA\",\"PP1\",\"PPP1CA\",\"PPP1CB\",\"PPP1CC\",\"PPP1R2\",\"ARHGEF2\",\"BORA\", \"BRCA1\", \"KIF2A\", \"PARD3\",\"p53\",\"TP53\",\"PLK1\",\"PIFO\",\"GADD45A\",\"AUNIP\",\"NIN\",\"MLN8054\",\"FRY\",\"SIRT2\",\"MYCN\",\"FBXW7\",\"MYCN\",\"HNRNPU\",\"TACC3\",\"UBE2C\",\"BIRC5\",\"DLGAP5\",\"TPX2\",\"CDK1\",\"CDC20\",\"CENPA\",\"CCNB2\"]"
   ]
  },
  {
   "cell_type": "markdown",
   "metadata": {},
   "source": [
    "#### Perform T-Test"
   ]
  },
  {
   "cell_type": "code",
   "execution_count": 9,
   "metadata": {},
   "outputs": [
    {
     "name": "stdout",
     "output_type": "stream",
     "text": [
      "               Mutation    JTB\n",
      "S055  Missense_Mutation  0.438\n",
      "S059  Missense_Mutation  0.206\n",
      "               Mutation  TACC1\n",
      "S055  Missense_Mutation  0.077\n",
      "S059  Missense_Mutation -0.361\n",
      "               Mutation   TPX2\n",
      "S055  Missense_Mutation  0.179\n",
      "S059  Missense_Mutation  0.850\n",
      "               Mutation  PPP2CA\n",
      "S055  Missense_Mutation -0.0716\n",
      "S059  Missense_Mutation -0.2550\n",
      "               Mutation  PPP1CA\n",
      "S055  Missense_Mutation   0.104\n",
      "S059  Missense_Mutation   0.323\n",
      "               Mutation  PPP1CB\n",
      "S055  Missense_Mutation  -0.373\n",
      "S059  Missense_Mutation   0.353\n",
      "               Mutation  PPP1CC\n",
      "S055  Missense_Mutation -0.0832\n",
      "S059  Missense_Mutation -0.1480\n",
      "               Mutation  PPP1R2\n",
      "S055  Missense_Mutation -0.0101\n",
      "S059  Missense_Mutation -0.1710\n",
      "               Mutation  ARHGEF2\n",
      "S055  Missense_Mutation   0.0549\n",
      "S059  Missense_Mutation   0.0355\n",
      "               Mutation  KIF2A\n",
      "S055  Missense_Mutation  0.551\n",
      "S059  Missense_Mutation  0.181\n",
      "               Mutation  PARD3\n",
      "S055  Missense_Mutation -0.647\n",
      "S059  Missense_Mutation -0.453\n",
      "               Mutation     TP53\n",
      "S055  Missense_Mutation  0.00332\n",
      "S059  Missense_Mutation  0.31500\n",
      "               Mutation   PLK1\n",
      "S055  Missense_Mutation -0.104\n",
      "S059  Missense_Mutation  0.837\n",
      "               Mutation     NIN\n",
      "S055  Missense_Mutation -0.1530\n",
      "S059  Missense_Mutation -0.0469\n",
      "               Mutation  SIRT2\n",
      "S055  Missense_Mutation -0.351\n",
      "S059  Missense_Mutation  0.410\n",
      "               Mutation  HNRNPU\n",
      "S055  Missense_Mutation -0.0483\n",
      "S059  Missense_Mutation  0.0832\n",
      "               Mutation  TACC3\n",
      "S055  Missense_Mutation  0.138\n",
      "S059  Missense_Mutation  1.450\n",
      "               Mutation  UBE2C\n",
      "S055  Missense_Mutation   0.20\n",
      "S059  Missense_Mutation   1.07\n",
      "Empty DataFrame\n",
      "Columns: [Mutation, BIRC5]\n",
      "Index: []\n",
      "               Mutation  DLGAP5\n",
      "S055  Missense_Mutation -0.0293\n",
      "S059  Missense_Mutation  0.9620\n",
      "               Mutation   TPX2\n",
      "S055  Missense_Mutation  0.179\n",
      "S059  Missense_Mutation  0.850\n",
      "               Mutation   CDK1\n",
      "S055  Missense_Mutation  0.292\n",
      "S059  Missense_Mutation  0.593\n",
      "               Mutation  CDC20\n",
      "S055  Missense_Mutation  0.114\n",
      "S059  Missense_Mutation -0.796\n",
      "               Mutation  CCNB2\n",
      "S059  Missense_Mutation  0.864\n"
     ]
    }
   ],
   "source": [
    "gene = 'AURKA'\n",
    "tested = [];\n",
    "p_vals = [];\n",
    "for protein in protList: \n",
    "    if protein in proteomics.columns:\n",
    "        tested.append(protein)\n",
    "        cross = CPTAC.compare_mutations(proteomics, protein, gene)\n",
    "        #print(cross)\n",
    "        cross = cross[:100]\n",
    "        cross = cross[[\"Mutation\", protein]].dropna(axis=0)\n",
    "        mutated = cross.loc[cross[\"Mutation\"] != \"Wildtype\"]\n",
    "        print(mutated)\n",
    "        wt = cross.loc[cross[\"Mutation\"] == \"Wildtype\"]\n",
    "        ttest = scipy.stats.ttest_ind(mutated[protein], wt[protein])\n",
    "        p_vals.append(ttest[1])"
   ]
  },
  {
   "cell_type": "markdown",
   "metadata": {},
   "source": [
    "### See if P-values are significant using fdr correction"
   ]
  },
  {
   "cell_type": "code",
   "execution_count": 19,
   "metadata": {},
   "outputs": [
    {
     "name": "stdout",
     "output_type": "stream",
     "text": [
      "78\n"
     ]
    }
   ],
   "source": [
    "testersss = CPTAC.compare_mutations(proteomics, 'PTEN', 'PTEN')\n",
    "#testersss.head(10)\n",
    "mutated222 = testersss.loc[testersss[\"Mutation\"] != \"Wildtype\"]\n",
    "print(len(mutated222))"
   ]
  },
  {
   "cell_type": "code",
   "execution_count": 7,
   "metadata": {},
   "outputs": [
    {
     "name": "stderr",
     "output_type": "stream",
     "text": [
      "/anaconda3/lib/python3.6/site-packages/statsmodels/stats/multitest.py:320: RuntimeWarning: invalid value encountered in less_equal\n",
      "  reject = pvals_sorted <= ecdffactor*alpha\n"
     ]
    }
   ],
   "source": [
    "areSignificant = statsmodels.stats.multitest.fdrcorrection(p_vals)[0]\n",
    "pvals = statsmodels.stats.multitest.fdrcorrection(p_vals)[1]\n",
    "significant_proteins = np.array(tested)[np.array(areSignificant)]\n",
    "significant_pvals = np.array(pvals)[np.array(areSignificant)]"
   ]
  },
  {
   "cell_type": "markdown",
   "metadata": {},
   "source": [
    "### Print Significant P-values and their corresponding proteins"
   ]
  },
  {
   "cell_type": "code",
   "execution_count": null,
   "metadata": {},
   "outputs": [],
   "source": [
    "print(significant_proteins)\n",
    "print(significant_pvals)"
   ]
  },
  {
   "cell_type": "markdown",
   "metadata": {},
   "source": [
    "# Test for phosphorylation levels"
   ]
  },
  {
   "cell_type": "markdown",
   "metadata": {},
   "source": [
    "#### We will use all proteins again"
   ]
  },
  {
   "cell_type": "code",
   "execution_count": null,
   "metadata": {},
   "outputs": [],
   "source": [
    "phosProtList = protList"
   ]
  },
  {
   "cell_type": "code",
   "execution_count": null,
   "metadata": {},
   "outputs": [],
   "source": [
    "sites = phos.columns\n",
    "p_values = []\n",
    "site_names = []\n",
    "\n",
    "for protein in phosProtList:\n",
    "    pattern = re.compile(protein)\n",
    "    isInList = filter(pattern.search, sites)\n",
    "    if next(isInList, None) is not None:\n",
    "        phosphositesdf = CPTAC.compare_mutations(phos, protein, gene)\n",
    "        phosphositesdf = phosphositesdf.loc[phosphositesdf['Patient_Type'] == 'Tumor'].drop('Patient_Type', axis = 1)\n",
    "        for site in phosphositesdf.columns:\n",
    "            if (site is not 'Mutation'):\n",
    "                sitedf = CPTAC.compare_mutations(phos, site, gene)\n",
    "                mutateddf = sitedf.loc[sitedf['Mutation'] != 'Wildtype'].dropna(axis=0)\n",
    "                wtdf = sitedf.loc[sitedf['Mutation'] == 'Wildtype'].dropna(axis=0)\n",
    "                ttest = scipy.stats.ttest_ind(mutateddf[site], wtdf[site])\n",
    "                p_values.append(ttest[1])\n",
    "                site_names.append(site)     \n",
    "\n",
    "\n",
    "\n",
    "#We need to remove all 'nan' p-values and their corresponding site names before passing it in for the fdr correction\n",
    "indexesToRemove=[]\n",
    "\n",
    "for index in range(0, len(p_values)):\n",
    "    if np.isnan(p_values[index]):\n",
    "        indexesToRemove.append(index)\n",
    "\n",
    "for rem in range( len(indexesToRemove)-1, -1, -1):\n",
    "    p_values.pop(indexesToRemove[rem])\n",
    "    site_names.pop(indexesToRemove[rem])\n",
    "#p_values and site names have now had all entries removed where the corresponding p-value is 'nan'\n",
    "\n",
    "print(p_values)\n",
    "print(site_names)\n",
    "\n",
    "sum = 0\n",
    "for p in p_values:\n",
    "    sum += p\n",
    "avg = sum/len(p_values)\n",
    "\n",
    "print(\"AVG p_val = \", avg)\n",
    "\n",
    "index_min = p_values.index(min(p_values))\n",
    "print(\"INDEX MIN: \", index_min, \" PVAL: \", p_values[index_min])\n",
    "print(\"SITE OF MIN: \", site_names[index_min])"
   ]
  },
  {
   "cell_type": "markdown",
   "metadata": {},
   "source": [
    "### See significance of P-Values using Bonferroni correction"
   ]
  },
  {
   "cell_type": "code",
   "execution_count": null,
   "metadata": {},
   "outputs": [],
   "source": [
    "threshold_pval = .05/len(site_names)\n",
    "print(\"threshold_pval: \", threshold_pval)\n",
    "bonferonni_corrected_pvals = list()\n",
    "bonferonni_sig_sites = list()\n",
    "\n",
    "for ind in range(0, len(p_values)):\n",
    "    if p_values[ind] <= threshold_pval:\n",
    "        bonferonni_corrected_pvals.append(p_values[ind])\n",
    "        bonferonni_sig_sites.append(site_names[ind])\n",
    "        \n",
    "#print(\"\\nBonferonni corrected significant Pvals: \", bonferonni_corrected_pvals, \"\\n\")\n",
    "        \n"
   ]
  },
  {
   "cell_type": "markdown",
   "metadata": {},
   "source": [
    "### Print significant sites and pvalues "
   ]
  },
  {
   "cell_type": "code",
   "execution_count": null,
   "metadata": {},
   "outputs": [],
   "source": [
    "print(\"\\nSignificant Sites: \", bonferonni_sig_sites)\n",
    "print(\"\\nSignificant P-Values: \", bonferonni_corrected_pvals)\n",
    "#print(significant_vals)"
   ]
  },
  {
   "cell_type": "markdown",
   "metadata": {},
   "source": [
    "### Now try FDR correction"
   ]
  },
  {
   "cell_type": "code",
   "execution_count": null,
   "metadata": {},
   "outputs": [],
   "source": [
    "pvalues = statsmodels.stats.multitest.fdrcorrection(p_values,alpha=0.05, method='indep')[1]         \n",
    "areSignificant = statsmodels.stats.multitest.fdrcorrection(p_values,alpha=0.05, method='indep')[0]\n",
    "\n",
    "significant_sites = np.array(site_names)[np.array(areSignificant)]\n",
    "significant_pvalues = np.array(pvalues)[np.array(areSignificant)]\n",
    "\n",
    "significant_vals = dict(zip(significant_sites, significant_pvalues))"
   ]
  },
  {
   "cell_type": "markdown",
   "metadata": {},
   "source": [
    "### Print significant sites and pvalues"
   ]
  },
  {
   "cell_type": "code",
   "execution_count": null,
   "metadata": {},
   "outputs": [],
   "source": [
    "print(significant_sites)\n",
    "print(significant_pvalues)\n",
    "print(significant_vals)"
   ]
  },
  {
   "cell_type": "code",
   "execution_count": null,
   "metadata": {},
   "outputs": [],
   "source": []
  }
 ],
 "metadata": {
  "kernelspec": {
   "display_name": "Python 3",
   "language": "python",
   "name": "python3"
  },
  "language_info": {
   "codemirror_mode": {
    "name": "ipython",
    "version": 3
   },
   "file_extension": ".py",
   "mimetype": "text/x-python",
   "name": "python",
   "nbconvert_exporter": "python",
   "pygments_lexer": "ipython3",
   "version": "3.6.8"
  }
 },
 "nbformat": 4,
 "nbformat_minor": 2
}
