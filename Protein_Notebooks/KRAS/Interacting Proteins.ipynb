{
 "cells": [
  {
   "cell_type": "markdown",
   "metadata": {},
   "source": [
    "# KRAS: Effects of Mutation"
   ]
  },
  {
   "cell_type": "markdown",
   "metadata": {},
   "source": [
    "<b> Standard imports for playing with and plotting data frames. </b>"
   ]
  },
  {
   "cell_type": "code",
   "execution_count": 9,
   "metadata": {},
   "outputs": [
    {
     "data": {
      "text/plain": [
       "RendererRegistry.enable('notebook')"
      ]
     },
     "execution_count": 9,
     "metadata": {},
     "output_type": "execute_result"
    }
   ],
   "source": [
    "import pandas as pd\n",
    "import numpy as np\n",
    "import scipy.stats\n",
    "from scipy.stats import pearsonr\n",
    "import matplotlib.pyplot as plt\n",
    "import seaborn as sns\n",
    "import altair as alt\n",
    "\n",
    "alt.renderers.enable('notebook')"
   ]
  },
  {
   "cell_type": "markdown",
   "metadata": {},
   "source": [
    "<b> Import CPTAC </b>"
   ]
  },
  {
   "cell_type": "code",
   "execution_count": 10,
   "metadata": {},
   "outputs": [],
   "source": [
    "import CPTAC"
   ]
  },
  {
   "cell_type": "code",
   "execution_count": 11,
   "metadata": {},
   "outputs": [],
   "source": [
    "somatic_mutations = CPTAC.get_somatic()\n",
    "proteomics = CPTAC.get_proteomics()\n",
    "phos = CPTAC.get_phosphoproteomics()"
   ]
  },
  {
   "cell_type": "markdown",
   "metadata": {},
   "source": [
    "<b> List of proteins that interact with KRAS (according to STRING) </b>"
   ]
  },
  {
   "cell_type": "code",
   "execution_count": 12,
   "metadata": {},
   "outputs": [],
   "source": [
    "protList = ['EGRF', 'PIK3CA', 'ERBB2', 'ARAF', 'BRAF', 'MAPK1', 'MAPK3', 'MAP2K1', 'SOS1', 'RAF1']"
   ]
  },
  {
   "cell_type": "markdown",
   "metadata": {},
   "source": [
    "### Proteome abundance of proteins that interact with KRAS"
   ]
  },
  {
   "cell_type": "code",
   "execution_count": 13,
   "metadata": {},
   "outputs": [
    {
     "name": "stdout",
     "output_type": "stream",
     "text": [
      "0.005\n",
      "Test for PIK3CA: \n",
      "Ttest_indResult(statistic=-0.7641503920005918, pvalue=0.44661359816697277)\n",
      "Test for ERBB2: \n",
      "Ttest_indResult(statistic=-0.17062703303108165, pvalue=0.864868819822983)\n",
      "Test for ARAF: \n",
      "Ttest_indResult(statistic=-0.3722176071624872, pvalue=0.7105345313274455)\n",
      "Test for BRAF: \n",
      "Ttest_indResult(statistic=-0.6718701507432219, pvalue=0.5032471990259206)\n",
      "Test for MAPK1: \n",
      "Ttest_indResult(statistic=0.2904176595402326, pvalue=0.7721103995980599)\n",
      "Test for MAPK3: \n",
      "Ttest_indResult(statistic=0.3170397340391074, pvalue=0.7518878736991584)\n",
      "Test for MAP2K1: \n",
      "Ttest_indResult(statistic=-0.4028611650203923, pvalue=0.687927857065211)\n",
      "Test for SOS1: \n",
      "Ttest_indResult(statistic=0.2223721467553348, pvalue=0.824486974866286)\n",
      "Test for RAF1: \n",
      "Ttest_indResult(statistic=2.6230493388008855, pvalue=0.010106929596048609)\n"
     ]
    }
   ],
   "source": [
    "gene = 'KRAS'\n",
    "sigList = [];\n",
    "\n",
    "pcutoff = 0.05/len(protList)\n",
    "print(pcutoff)\n",
    "pcutoff = 1\n",
    "\n",
    "\n",
    "genedf = somatic_mutations[gene].to_frame()\n",
    "for protein in protList:\n",
    "    if protein in proteomics.columns:\n",
    "        proteindf = proteomics[protein].to_frame()\n",
    "        proteindfName = protein + \" protein\"\n",
    "        proteindf.columns = [proteindfName]\n",
    "        cross = genedf.add(proteindf, fill_value=0).dropna(axis=0)\n",
    "        mutated = cross.loc[cross[gene] == 1.0]\n",
    "        wt = cross.loc[cross[gene] == 0.0]\n",
    "        ttest = scipy.stats.ttest_ind(mutated[proteindfName], wt[proteindfName])\n",
    "        if ttest[1] <= pcutoff:\n",
    "            sigList.append(protein)\n",
    "            print(\"Test for \" + protein + \": \")\n",
    "            print(ttest)"
   ]
  },
  {
   "cell_type": "markdown",
   "metadata": {},
   "source": [
    "### Phosphoproteome abundance of interacting proteins"
   ]
  },
  {
   "cell_type": "code",
   "execution_count": 14,
   "metadata": {},
   "outputs": [],
   "source": [
    "phosProtList = ['EGRF', 'PIK3CA', 'ERBB', 'ARAF', 'BRAF', 'MAPK', 'MAPK', 'MAP2K', 'SOS', 'RAF']"
   ]
  },
  {
   "cell_type": "code",
   "execution_count": 15,
   "metadata": {},
   "outputs": [
    {
     "name": "stdout",
     "output_type": "stream",
     "text": [
      "0.0006172839506172839\n",
      "Results for ARAF-S175: \n",
      "Ttest_indResult(statistic=2.0930363361187676, pvalue=0.04007913981271484)\n",
      "Results for ARAF-S189: \n",
      "Ttest_indResult(statistic=2.8717268608189164, pvalue=0.00500365376694708)\n",
      "Results for ARAF-S260: \n",
      "Ttest_indResult(statistic=5.1539316473499825, pvalue=1.665516443552024e-06)\n",
      "Results for ARAF-S272: \n",
      "Ttest_indResult(statistic=-0.07863367799951307, pvalue=0.9375856630651855)\n",
      "Results for ARAF-S275: \n",
      "Ttest_indResult(statistic=-0.07863367799951307, pvalue=0.9375856630651855)\n",
      "Results for ARAF-T184: \n",
      "Ttest_indResult(statistic=1.8602349698111367, pvalue=0.06611822401968898)\n",
      "Results for ARAF-T256: \n",
      "Ttest_indResult(statistic=3.638629367252144, pvalue=0.0005162594349961674)\n",
      "Results for BRAF-S151: \n",
      "Ttest_indResult(statistic=2.7908693118026804, pvalue=0.00647445466466053)\n",
      "Results for BRAF-S365: \n",
      "Ttest_indResult(statistic=-0.5101650927252876, pvalue=0.6114962612343113)\n",
      "Results for BRAF-S446: \n",
      "Ttest_indResult(statistic=0.20449767889983983, pvalue=0.8385754538197959)\n",
      "Results for BRAF-S729: \n",
      "Ttest_indResult(statistic=-0.9398139334140839, pvalue=0.3520186012828542)\n",
      "Results for BRAF-T401: \n",
      "Ttest_indResult(statistic=1.9786944527963508, pvalue=0.05065717328601015)\n",
      "Results for BRAF-T753: \n",
      "Ttest_indResult(statistic=3.0309058901123787, pvalue=0.0032512850383725686)\n",
      "Results for ERBB2-S1054: \n",
      "Ttest_indResult(statistic=-1.414599429831807, pvalue=0.1617487956123887)\n",
      "Results for ERBB2-S1078: \n",
      "Ttest_indResult(statistic=1.1839344455074823, pvalue=0.23985966747329343)\n",
      "Results for ERBB2-S1083: \n",
      "Ttest_indResult(statistic=-0.13957763830132938, pvalue=0.8892801605544293)\n",
      "Results for ERBB2-S1107: \n",
      "Ttest_indResult(statistic=-0.11040822684667144, pvalue=0.9123458987618831)\n",
      "Results for ERBB2-S1151: \n",
      "Ttest_indResult(statistic=1.6744027402826616, pvalue=0.09983447274406626)\n",
      "Results for ERBB2-S998: \n",
      "Ttest_indResult(statistic=2.7565816184765612, pvalue=0.007869685490278338)\n",
      "Results for ERBB2-T1166: \n",
      "Ttest_indResult(statistic=0.41574946981379984, pvalue=0.678780507065204)\n",
      "Results for ERBB2-T701: \n",
      "Ttest_indResult(statistic=1.4421883444355286, pvalue=0.1537731178521469)\n",
      "Results for ERBB3-S686: \n",
      "Ttest_indResult(statistic=-0.8505810467097185, pvalue=0.3975728223255476)\n",
      "Results for MAP2K2-T394: \n",
      "Ttest_indResult(statistic=1.735900690461886, pvalue=0.08763036925376821)\n",
      "Results for MAP2K4-S101: \n",
      "Ttest_indResult(statistic=-1.8561399261753666, pvalue=0.06789847549559322)\n",
      "Results for MAP2K4-S268: \n",
      "Ttest_indResult(statistic=0.8500156196015276, pvalue=0.39900156903976736)\n",
      "Results for MAP2K4-S91: \n",
      "Ttest_indResult(statistic=2.0857463177339386, pvalue=0.03993041967150128)\n",
      "Results for MAP2K6-T28: \n",
      "Ttest_indResult(statistic=0.5198935823493088, pvalue=0.6049038860078144)\n",
      "Results for MAPK1-T181: \n",
      "Ttest_indResult(statistic=1.5128818196558165, pvalue=0.13539075649809568)\n",
      "Results for MAPK1-T185: \n",
      "Ttest_indResult(statistic=1.5832617398750757, pvalue=0.11920159898250897)\n",
      "Results for MAPK1-Y187: \n",
      "Ttest_indResult(statistic=2.4827633437926315, pvalue=0.014736065249955747)\n",
      "Results for MAPK14-Y182: \n",
      "Ttest_indResult(statistic=0.6245452175452086, pvalue=0.5338153956979443)\n",
      "Results for MAPK3-Y204: \n",
      "Ttest_indResult(statistic=1.6003136182037436, pvalue=0.11274797926964623)\n",
      "Results for MAPK6-S189: \n",
      "Ttest_indResult(statistic=0.7213587867791625, pvalue=0.47251805099940314)\n",
      "Results for MAPK7-S731: \n",
      "Ttest_indResult(statistic=0.4004014509301792, pvalue=0.6900144704475368)\n",
      "Results for MAPK7-T733: \n",
      "Ttest_indResult(statistic=1.1678428886757644, pvalue=0.2460976742123398)\n",
      "Results for MAPK8IP3-T276: \n",
      "Ttest_indResult(statistic=1.1424239499962354, pvalue=0.2576010713736917)\n",
      "Results for MAPK8IP3-T287: \n",
      "Ttest_indResult(statistic=1.052878706184212, pvalue=0.2962360905735282)\n",
      "Results for MAPK9-Y185: \n",
      "Ttest_indResult(statistic=1.6317871884634032, pvalue=0.10843767558818758)\n",
      "Results for MAPKAP1-S510: \n",
      "Ttest_indResult(statistic=-0.32707432404099457, pvalue=0.7444064414797432)\n",
      "Results for MAPKAPK2-T222: \n",
      "Ttest_indResult(statistic=-0.16283242719178284, pvalue=0.871258212025714)\n",
      "Results for MAPKAPK3-T201: \n",
      "Ttest_indResult(statistic=1.8517708503162074, pvalue=0.06860143912816333)\n",
      "Results for MAPKAPK5-S212: \n",
      "Ttest_indResult(statistic=1.949504276013884, pvalue=0.05409361156481458)\n",
      "Results for MAPKAPK5-S354: \n",
      "Ttest_indResult(statistic=0.5979503823461145, pvalue=0.5524684993458928)\n",
      "Results for MAPKAPK5-T182: \n",
      "Ttest_indResult(statistic=-0.278564890010774, pvalue=0.7814910685372913)\n",
      "Results for MAPKBP1-S1198: \n",
      "Ttest_indResult(statistic=0.7046248098245372, pvalue=0.48345013719862096)\n",
      "Results for MAPKBP1-S1314: \n",
      "Ttest_indResult(statistic=2.8507039617280907, pvalue=0.005864306697322664)\n",
      "Results for MAPKBP1-S761: \n",
      "Ttest_indResult(statistic=0.7839122530927645, pvalue=0.43556037596614094)\n",
      "Results for PIK3CA-S312: \n",
      "Ttest_indResult(statistic=0.11370922891522928, pvalue=0.9098900077202032)\n",
      "Results for PIK3CA-T313: \n",
      "Ttest_indResult(statistic=0.41296340511812285, pvalue=0.6814349821406698)\n",
      "Results for RAF1-S29: \n",
      "Ttest_indResult(statistic=3.4533934494586878, pvalue=0.0009135865238605134)\n",
      "Results for RAF1-S311: \n",
      "Ttest_indResult(statistic=-0.7692181725440059, pvalue=0.4450547212283751)\n",
      "Results for RAF1-S316: \n",
      "Ttest_indResult(statistic=-0.22504809016492114, pvalue=0.8227759372900668)\n",
      "Results for RAF1-S641: \n",
      "Ttest_indResult(statistic=-0.671455483971521, pvalue=0.503510102940562)\n",
      "Results for RAF1-S662: \n",
      "Ttest_indResult(statistic=1.8985249053621345, pvalue=0.061934858475219345)\n",
      "Results for RAF1-T260: \n",
      "Ttest_indResult(statistic=-0.29194096028753264, pvalue=0.7709552316395684)\n",
      "Results for RAF1-T330: \n",
      "Ttest_indResult(statistic=3.5167298995299086, pvalue=0.0009157374755429156)\n",
      "Results for SOS1-S1082: \n",
      "Ttest_indResult(statistic=-0.9576961749488757, pvalue=0.3417646566680028)\n",
      "Results for SOS1-S1134: \n",
      "Ttest_indResult(statistic=1.0396536288453424, pvalue=0.3029689362796903)\n",
      "Results for SOS1-S1161: \n",
      "Ttest_indResult(statistic=2.8510498595033607, pvalue=0.005681381246324836)\n",
      "Results for SOS1-S1178: \n",
      "Ttest_indResult(statistic=1.629038344081476, pvalue=0.1073373563902294)\n",
      "Results for SOS1-S1210: \n",
      "Ttest_indResult(statistic=0.15541561130411524, pvalue=0.8768133449917862)\n",
      "Results for SOS1-S1229: \n",
      "Ttest_indResult(statistic=3.937102285266522, pvalue=0.00018474397689668083)\n",
      "Results for SOS1-S1275: \n",
      "Ttest_indResult(statistic=0.5230008000548416, pvalue=0.6024951842282272)\n",
      "Results for SOS1-S401: \n",
      "Ttest_indResult(statistic=1.522395978334931, pvalue=0.1314158748179466)\n",
      "Results for SOS2-S1047: \n",
      "Ttest_indResult(statistic=1.7793816698340046, pvalue=0.07964585200937413)\n",
      "Results for SOS2-S1315: \n",
      "Ttest_indResult(statistic=1.5277683131825552, pvalue=0.13313354720099696)\n",
      "Results for TRAF2-S102: \n",
      "Ttest_indResult(statistic=3.5556715706580255, pvalue=0.0005978116991508809)\n",
      "Results for TRAF3-S26: \n",
      "Ttest_indResult(statistic=1.4416265751679358, pvalue=0.15590058222784553)\n",
      "Results for TRAF3-S9: \n",
      "Ttest_indResult(statistic=1.5343504362730058, pvalue=0.12898991067693513)\n",
      "Results for TRAF3IP1-S476: \n",
      "Ttest_indResult(statistic=0.6147461105933868, pvalue=0.5406081209242901)\n",
      "Results for TRAF3IP2-S383: \n",
      "Ttest_indResult(statistic=-0.18513466138695642, pvalue=0.8536745012822934)\n",
      "Results for TRAF4-S426: \n",
      "Ttest_indResult(statistic=-0.2305707263239931, pvalue=0.8182089396558359)\n",
      "Results for TRAF6-S188: \n",
      "Ttest_indResult(statistic=0.7270936024315957, pvalue=0.47030916509847376)\n",
      "Results for TRAF7-S108: \n",
      "Ttest_indResult(statistic=1.3606866240165536, pvalue=0.17861923449226294)\n",
      "Results for TRAF7-S61: \n",
      "Ttest_indResult(statistic=0.04238529837129798, pvalue=0.96630570580557)\n",
      "Results for TRAFD1-S327: \n",
      "Ttest_indResult(statistic=0.970241885778776, pvalue=0.33508659722054046)\n",
      "Results for TRAFD1-S409: \n",
      "Ttest_indResult(statistic=-0.09966152130264558, pvalue=0.9208825506523246)\n",
      "Results for TRAFD1-S415: \n",
      "Ttest_indResult(statistic=-0.08144093949228744, pvalue=0.9352573899498853)\n",
      "Results for TRAFD1-S470: \n",
      "Ttest_indResult(statistic=2.918294372520608, pvalue=0.004365285761840834)\n",
      "Results for TRAFD1-S480: \n",
      "Ttest_indResult(statistic=3.9254242658334673, pvalue=0.0002471818737979513)\n"
     ]
    }
   ],
   "source": [
    "gene = 'KRAS'\n",
    "genedf = somatic_mutations[gene].to_frame()\n",
    "sigPhosResults = [];\n",
    "\n",
    "for protein in phosProtList:\n",
    "    sites = phos.filter(regex=protein)\n",
    "    genedf = genedf.add(sites, fill_value=0)\n",
    "\n",
    "mutated = genedf.loc[genedf[gene] == 1.0]\n",
    "wt = genedf.loc[genedf[gene] == 0.0]\n",
    "\n",
    "pcutoff = 0.05 / len(genedf.columns)\n",
    "print(pcutoff)\n",
    "pcutoff = 1\n",
    "\n",
    "for loc in genedf.columns:\n",
    "    if not loc == gene:\n",
    "        mutsitedf = mutated[[gene, loc]].dropna()\n",
    "        wtsitedf = wt[[gene, loc]].dropna()\n",
    "        ttest = scipy.stats.ttest_ind(mutsitedf[loc], wtsitedf[loc])\n",
    "        if(ttest[1] <= pcutoff):\n",
    "            sigPhosResults.append(loc)\n",
    "            print('Results for ' + loc + ': ')\n",
    "            print(ttest)\n",
    " "
   ]
  },
  {
   "cell_type": "code",
   "execution_count": null,
   "metadata": {},
   "outputs": [],
   "source": []
  }
 ],
 "metadata": {
  "kernelspec": {
   "display_name": "Python 3",
   "language": "python",
   "name": "python3"
  },
  "language_info": {
   "codemirror_mode": {
    "name": "ipython",
    "version": 3
   },
   "file_extension": ".py",
   "mimetype": "text/x-python",
   "name": "python",
   "nbconvert_exporter": "python",
   "pygments_lexer": "ipython3",
   "version": "3.7.0"
  }
 },
 "nbformat": 4,
 "nbformat_minor": 2
}
