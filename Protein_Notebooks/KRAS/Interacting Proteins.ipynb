{
 "cells": [
  {
   "cell_type": "markdown",
   "metadata": {},
   "source": [
    "# KRAS: Effects of Mutation"
   ]
  },
  {
   "cell_type": "markdown",
   "metadata": {},
   "source": [
    "<b> Standard imports for playing with and plotting data frames. </b>"
   ]
  },
  {
   "cell_type": "code",
   "execution_count": 8,
   "metadata": {},
   "outputs": [
    {
     "data": {
      "text/plain": [
       "RendererRegistry.enable('notebook')"
      ]
     },
     "execution_count": 8,
     "metadata": {},
     "output_type": "execute_result"
    }
   ],
   "source": [
    "import pandas as pd\n",
    "import numpy as np\n",
    "import scipy.stats\n",
    "from scipy.stats import pearsonr\n",
    "import matplotlib.pyplot as plt\n",
    "import seaborn as sns\n",
    "import altair as alt\n",
    "\n",
    "alt.renderers.enable('notebook')"
   ]
  },
  {
   "cell_type": "markdown",
   "metadata": {},
   "source": [
    "<b> Import CPTAC </b>"
   ]
  },
  {
   "cell_type": "code",
   "execution_count": 9,
   "metadata": {},
   "outputs": [],
   "source": [
    "import CPTAC"
   ]
  },
  {
   "cell_type": "code",
   "execution_count": 10,
   "metadata": {},
   "outputs": [],
   "source": [
    "somatic_mutations = CPTAC.get_somatic()\n",
    "proteomics = CPTAC.get_proteomics()\n",
    "phos = CPTAC.get_phosphoproteomics()"
   ]
  },
  {
   "cell_type": "markdown",
   "metadata": {},
   "source": [
    "<b> List of proteins that interact with KRAS (according to STRING) </b>"
   ]
  },
  {
   "cell_type": "code",
   "execution_count": 11,
   "metadata": {},
   "outputs": [],
   "source": [
    "protList = ['EGRF', 'PIK3CA', 'ERBB2', 'ARAF', 'BRAF', 'MAPK1', 'MAPK3', 'MAP2K1', 'SOS1', 'RAF1']"
   ]
  },
  {
   "cell_type": "markdown",
   "metadata": {},
   "source": [
    "### Proteome abundance of proteins that interact with KRAS"
   ]
  },
  {
   "cell_type": "code",
   "execution_count": 14,
   "metadata": {},
   "outputs": [
    {
     "name": "stdout",
     "output_type": "stream",
     "text": [
      "0.005\n",
      "Test for PIK3CA: \n",
      "Ttest_indResult(statistic=-0.7641503920005918, pvalue=0.44661359816697277)\n",
      "Test for ERBB2: \n",
      "Ttest_indResult(statistic=-0.17062703303108165, pvalue=0.864868819822983)\n",
      "Test for ARAF: \n",
      "Ttest_indResult(statistic=-0.3722176071624872, pvalue=0.7105345313274455)\n",
      "Test for BRAF: \n",
      "Ttest_indResult(statistic=-0.6718701507432219, pvalue=0.5032471990259206)\n",
      "Test for MAPK1: \n",
      "Ttest_indResult(statistic=0.2904176595402326, pvalue=0.7721103995980599)\n",
      "Test for MAPK3: \n",
      "Ttest_indResult(statistic=0.3170397340391074, pvalue=0.7518878736991584)\n",
      "Test for MAP2K1: \n",
      "Ttest_indResult(statistic=-0.4028611650203923, pvalue=0.687927857065211)\n",
      "Test for SOS1: \n",
      "Ttest_indResult(statistic=0.2223721467553348, pvalue=0.824486974866286)\n",
      "Test for RAF1: \n",
      "Ttest_indResult(statistic=2.6230493388008855, pvalue=0.010106929596048609)\n"
     ]
    }
   ],
   "source": [
    "gene = 'KRAS'\n",
    "sigList = [];\n",
    "\n",
    "pcutoff = 0.05/len(protList)\n",
    "print(pcutoff)\n",
    "pcutoff = 1\n",
    "\n",
    "genedf = somatic_mutations[gene].to_frame()\n",
    "for protein in protList:\n",
    "    if protein in proteomics.columns:\n",
    "        proteindf = proteomics[protein].to_frame()\n",
    "        proteindfName = protein + \" protein\"\n",
    "        proteindf.columns = [proteindfName]\n",
    "        cross = genedf.add(proteindf, fill_value=0).dropna(axis=0)\n",
    "        mutated = cross.loc[cross[gene] == 1.0]\n",
    "        wt = cross.loc[cross[gene] == 0.0]\n",
    "        ttest = scipy.stats.ttest_ind(mutated[proteindfName], wt[proteindfName])\n",
    "        if ttest[1] <= pcutoff:\n",
    "            sigList.append(protein)\n",
    "            print(\"Test for \" + protein + \": \")\n",
    "            print(ttest)"
   ]
  },
  {
   "cell_type": "markdown",
   "metadata": {},
   "source": [
    "### Phosphoproteome abundance of interacting proteins"
   ]
  },
  {
   "cell_type": "code",
   "execution_count": 15,
   "metadata": {},
   "outputs": [],
   "source": [
    "phosProtList = ['EGRF', 'PIK3CA', 'ERBB', 'ARAF', 'BRAF', 'MAPK', 'MAPK', 'MAP2K', 'SOS', 'RAF']"
   ]
  },
  {
   "cell_type": "code",
   "execution_count": 16,
   "metadata": {},
   "outputs": [
    {
     "name": "stdout",
     "output_type": "stream",
     "text": [
      "0.0006172839506172839\n",
      "Results for ARAF-S260: \n",
      "Ttest_indResult(statistic=5.1539316473499825, pvalue=1.665516443552024e-06)\n",
      "Results for ARAF-T256: \n",
      "Ttest_indResult(statistic=3.638629367252144, pvalue=0.0005162594349961674)\n",
      "Results for SOS1-S1229: \n",
      "Ttest_indResult(statistic=3.937102285266522, pvalue=0.00018474397689668083)\n",
      "Results for TRAF2-S102: \n",
      "Ttest_indResult(statistic=3.5556715706580255, pvalue=0.0005978116991508809)\n",
      "Results for TRAFD1-S480: \n",
      "Ttest_indResult(statistic=3.9254242658334673, pvalue=0.0002471818737979513)\n"
     ]
    }
   ],
   "source": [
    "gene = 'KRAS'\n",
    "genedf = somatic_mutations[gene].to_frame()\n",
    "sigPhosResults = [];\n",
    "\n",
    "for protein in phosProtList:\n",
    "    sites = phos.filter(regex=protein)\n",
    "    genedf = genedf.add(sites, fill_value=0)\n",
    "\n",
    "mutated = genedf.loc[genedf[gene] == 1.0]\n",
    "wt = genedf.loc[genedf[gene] == 0.0]\n",
    "\n",
    "pcutoff = 0.05 / len(genedf.columns)\n",
    "print(pcutoff)\n",
    "#pcutoff = 1\n",
    "\n",
    "for loc in genedf.columns:\n",
    "    if not loc == gene:\n",
    "        mutsitedf = mutated[[gene, loc]].dropna()\n",
    "        wtsitedf = wt[[gene, loc]].dropna()\n",
    "        ttest = scipy.stats.ttest_ind(mutsitedf[loc], wtsitedf[loc])\n",
    "        if(ttest[1] <= pcutoff):\n",
    "            sigPhosResults.append(loc)\n",
    "            print('Results for ' + loc + ': ')\n",
    "            print(ttest)\n",
    " "
   ]
  },
  {
   "cell_type": "code",
   "execution_count": null,
   "metadata": {},
   "outputs": [],
   "source": []
  }
 ],
 "metadata": {
  "kernelspec": {
   "display_name": "Python 3",
   "language": "python",
   "name": "python3"
  },
  "language_info": {
   "codemirror_mode": {
    "name": "ipython",
    "version": 3
   },
   "file_extension": ".py",
   "mimetype": "text/x-python",
   "name": "python",
   "nbconvert_exporter": "python",
   "pygments_lexer": "ipython3",
   "version": "3.7.0"
  }
 },
 "nbformat": 4,
 "nbformat_minor": 2
}
