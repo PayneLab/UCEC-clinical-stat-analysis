{
 "cells": [
  {
   "cell_type": "markdown",
   "metadata": {},
   "source": [
    "# Protein Abundance and Phosphorylation Analysis"
   ]
  },
  {
   "cell_type": "code",
   "execution_count": 1,
   "metadata": {},
   "outputs": [
    {
     "name": "stdout",
     "output_type": "stream",
     "text": [
      "Loading Clinical Data...\n",
      "Loading Proteomics Data...\n",
      "Loading Transcriptomics Data...\n",
      "Loading CNA Data...\n",
      "Loading Phosphoproteomics Data...\n",
      "Loading Somatic Data...\n",
      "\n",
      " ******PLEASE READ******\n",
      "WARNING: This data is under a publication embargo until July 1, 2019. CPTAC is a community resource project and data are made available rapidly after generation for community research use. The embargo allows exploring and utilizing the data, but the data may not be in a publication until July 1, 2019. Please see https://proteomics.cancer.gov/data-portal/about/data-use-agreement, or enter CPTAC.embargo() to open the webpage for more details.\n"
     ]
    }
   ],
   "source": [
    "import pandas as pd\n",
    "import numpy as np\n",
    "import scipy.stats\n",
    "from scipy.stats import pearsonr\n",
    "import matplotlib.pyplot as plt\n",
    "import seaborn as sns\n",
    "import altair as alt\n",
    "\n",
    "alt.renderers.enable('notebook')\n",
    "import CPTAC"
   ]
  },
  {
   "cell_type": "code",
   "execution_count": 2,
   "metadata": {},
   "outputs": [],
   "source": [
    "somatic_mutations = CPTAC.get_somatic()\n",
    "proteomics = CPTAC.get_proteomics()\n",
    "phos = CPTAC.get_phosphoproteomics()"
   ]
  },
  {
   "cell_type": "markdown",
   "metadata": {},
   "source": [
    "# Protein Abundance"
   ]
  },
  {
   "cell_type": "code",
   "execution_count": 3,
   "metadata": {},
   "outputs": [
    {
     "name": "stdout",
     "output_type": "stream",
     "text": [
      "0.05\n",
      "Test for AKT1: \n",
      "Ttest_indResult(statistic=-0.8003450633178396, pvalue=0.4254468321094339)\n"
     ]
    }
   ],
   "source": [
    "gene = 'PIK3CA'\n",
    "protList = ['AKT1']\n",
    "\n",
    "pcutoff = 0.05/len(protList)\n",
    "print(pcutoff)\n",
    "\n",
    "genedf = somatic_mutations[gene].to_frame()\n",
    "for protein in protList:\n",
    "    if protein in proteomics.columns:\n",
    "        proteindf = proteomics[protein].to_frame()\n",
    "        proteinfindName = protein + \"protein\"\n",
    "        proteindf.columns = [proteinfindName]\n",
    "        cross = genedf.add(proteindf, fill_value=0).dropna(axis=0)\n",
    "        mutated = cross.loc[cross[gene] == 1.0]\n",
    "        wt = cross.loc[cross[gene] == 0.0]\n",
    "        ttest = scipy.stats.ttest_ind(mutated[proteinfindName], wt[proteinfindName])\n",
    "        print(\"Test for \" + protein + \": \")\n",
    "        print(ttest)"
   ]
  },
  {
   "cell_type": "code",
   "execution_count": 4,
   "metadata": {},
   "outputs": [
    {
     "data": {
      "text/plain": [
       "[Text(0, 0.5, 'Proteomics'), Text(0.5, 0, 'Somatic Gene Mutation')]"
      ]
     },
     "execution_count": 4,
     "metadata": {},
     "output_type": "execute_result"
    },
    {
     "data": {
      "image/png": "[encoded data removed]",
      "text/plain": [
       "<Figure size 432x288 with 1 Axes>"
      ]
     },
     "metadata": {
      "needs_background": "light"
     },
     "output_type": "display_data"
    }
   ],
   "source": [
    "somatic_boxplot = sns.boxplot(data=cross, x=gene ,y=proteinfindName)\n",
    "somatic_boxplot.set_title(gene + \" gene mutation and \" + protList[0] + \" protein abundance\")\n",
    "somatic_boxplot = sns.stripplot(data=cross, x=gene, y=proteinfindName,jitter=True, color=\".3\")\n",
    "somatic_boxplot.set(xlabel=\"Somatic Gene Mutation\",ylabel=\"Proteomics\")"
   ]
  },
  {
   "cell_type": "markdown",
   "metadata": {},
   "source": [
    "Note: protein abundance of AKT1 when PIK3CA mutated not significantly different than non-mutated PIK3CA"
   ]
  },
  {
   "cell_type": "markdown",
   "metadata": {},
   "source": [
    "# Phosphorylation "
   ]
  },
  {
   "cell_type": "code",
   "execution_count": 10,
   "metadata": {},
   "outputs": [
    {
     "name": "stdout",
     "output_type": "stream",
     "text": [
      "0.0038461538461538464\n",
      "Results for AKT1-S124\n",
      "Ttest_indResult(statistic=0.6280425387291785, pvalue=0.531640346649029)\n",
      "Results for AKT1-S126\n",
      "Ttest_indResult(statistic=-0.4020064075926627, pvalue=0.6886117295962362)\n",
      "Results for AKT1-S129\n",
      "Ttest_indResult(statistic=-0.2234741976843904, pvalue=0.823661935424068)\n",
      "Results for AKT1S1-S108\n",
      "Ttest_indResult(statistic=0.6077698447464415, pvalue=0.5448214268347861)\n",
      "Results for AKT1S1-S112\n",
      "Ttest_indResult(statistic=0.7954185284994514, pvalue=0.42839555932400375)\n",
      "Results for AKT1S1-S203\n",
      "Ttest_indResult(statistic=0.010600747915174496, pvalue=0.9915765794177508)\n",
      "Results for AKT1S1-S222\n",
      "Ttest_indResult(statistic=1.4145532745878184, pvalue=0.1603689302651402)\n",
      "Results for AKT1S1-S223\n",
      "Ttest_indResult(statistic=0.8122994826348905, pvalue=0.4185886232556425)\n",
      "Results for AKT1S1-S231\n",
      "Ttest_indResult(statistic=0.18718518910376322, pvalue=0.8519232020592304)\n",
      "Results for AKT1S1-S232\n",
      "Ttest_indResult(statistic=0.6588293281774983, pvalue=0.5116332761545239)\n",
      "Results for AKT1S1-T110\n",
      "Ttest_indResult(statistic=0.7326320547042833, pvalue=0.46658879758068583)\n",
      "Results for AKT1S1-T266\n",
      "Ttest_indResult(statistic=0.9439592887107385, pvalue=0.3478659074157382)\n"
     ]
    }
   ],
   "source": [
    "phosProt = phos.filter(regex='AKT1')\n",
    "gene = 'PIK3CA'\n",
    "\n",
    "genedf = somatic_mutations[gene].to_frame()\n",
    "cross = genedf.add(phosProt, fill_value = 0)\n",
    "sigResults = []\n",
    "#print(cross.head())\n",
    "\n",
    "pcutoff = 0.05/len(cross.columns)\n",
    "print(pcutoff)\n",
    "\n",
    "mutated = cross.loc[cross[gene] == 1.0]\n",
    "#print(mutated.head())\n",
    "wt = cross.loc[cross[gene] == 0.0]\n",
    "#print(wt.head())\n",
    "\n",
    "for loc in cross.columns:\n",
    "    if not loc == gene:\n",
    "        oneSitedf_m = mutated[[gene, loc]].dropna()\n",
    "        oneSitedf_wt = wt[[gene, loc]].dropna()\n",
    "        ttest = scipy.stats.ttest_ind(oneSitedf_m[loc], oneSitedf_wt[loc])\n",
    "        sigResults.append(loc)\n",
    "        print(\"Results for \" + loc)\n",
    "        print(ttest)"
   ]
  },
  {
   "cell_type": "code",
   "execution_count": 11,
   "metadata": {},
   "outputs": [
    {
     "data": {
      "text/plain": [
       "[Text(0, 0.5, 'Phosphoproteomics'), Text(0.5, 0, 'Somatic Gene Mutation')]"
      ]
     },
     "execution_count": 11,
     "metadata": {},
     "output_type": "execute_result"
    },
    {
     "data": {
      "image/png": "[encoded data removed]",
      "text/plain": [
       "<Figure size 432x288 with 1 Axes>"
      ]
     },
     "metadata": {
      "needs_background": "light"
     },
     "output_type": "display_data"
    }
   ],
   "source": [
    "somatic_boxplot = sns.boxplot(data=cross, x=gene ,y=sigResults[5])\n",
    "somatic_boxplot.set_title(gene + \" gene mutation and \" + sigResults[5] + \" phosphorylation levels\")\n",
    "somatic_boxplot = sns.stripplot(data=cross, x=gene, y=sigResults[5],jitter=True, color=\".3\")\n",
    "somatic_boxplot.set(xlabel=\"Somatic Gene Mutation\",ylabel=\"Phosphoproteomics\")"
   ]
  },
  {
   "cell_type": "markdown",
   "metadata": {},
   "source": [
    "Checking the phosphorylation level of any form of AKT"
   ]
  },
  {
   "cell_type": "code",
   "execution_count": 12,
   "metadata": {},
   "outputs": [
    {
     "name": "stdout",
     "output_type": "stream",
     "text": [
      "0.0033333333333333335\n",
      "Results for AKT1-S124\n",
      "Ttest_indResult(statistic=0.6280425387291785, pvalue=0.531640346649029)\n",
      "Results for AKT1-S126\n",
      "Ttest_indResult(statistic=-0.4020064075926627, pvalue=0.6886117295962362)\n",
      "Results for AKT1-S129\n",
      "Ttest_indResult(statistic=-0.2234741976843904, pvalue=0.823661935424068)\n",
      "Results for AKT1S1-S108\n",
      "Ttest_indResult(statistic=0.6077698447464415, pvalue=0.5448214268347861)\n",
      "Results for AKT1S1-S112\n",
      "Ttest_indResult(statistic=0.7954185284994514, pvalue=0.42839555932400375)\n",
      "Results for AKT1S1-S203\n",
      "Ttest_indResult(statistic=0.010600747915174496, pvalue=0.9915765794177508)\n",
      "Results for AKT1S1-S222\n",
      "Ttest_indResult(statistic=1.4145532745878184, pvalue=0.1603689302651402)\n",
      "Results for AKT1S1-S223\n",
      "Ttest_indResult(statistic=0.8122994826348905, pvalue=0.4185886232556425)\n",
      "Results for AKT1S1-S231\n",
      "Ttest_indResult(statistic=0.18718518910376322, pvalue=0.8519232020592304)\n",
      "Results for AKT1S1-S232\n",
      "Ttest_indResult(statistic=0.6588293281774983, pvalue=0.5116332761545239)\n",
      "Results for AKT1S1-T110\n",
      "Ttest_indResult(statistic=0.7326320547042833, pvalue=0.46658879758068583)\n",
      "Results for AKT1S1-T266\n",
      "Ttest_indResult(statistic=0.9439592887107385, pvalue=0.3478659074157382)\n",
      "Results for AKT2-T451\n",
      "Ttest_indResult(statistic=0.855503944721534, pvalue=0.3947351291789549)\n",
      "Results for AKT3-T447\n",
      "Ttest_indResult(statistic=0.49735501169829277, pvalue=0.6200642520351043)\n"
     ]
    }
   ],
   "source": [
    "phosProt = phos.filter(regex='AKT')\n",
    "gene = 'PIK3CA'\n",
    "\n",
    "genedf = somatic_mutations[gene].to_frame()\n",
    "cross = genedf.add(phosProt, fill_value = 0)\n",
    "sigResults = []\n",
    "#print(cross.head())\n",
    "\n",
    "pcutoff = 0.05/len(cross.columns)\n",
    "print(pcutoff)\n",
    "\n",
    "mutated = cross.loc[cross[gene] == 1.0]\n",
    "#print(mutated.head())\n",
    "wt = cross.loc[cross[gene] == 0.0]\n",
    "#print(wt.head())\n",
    "\n",
    "for loc in cross.columns:\n",
    "    if not loc == gene:\n",
    "        oneSitedf_m = mutated[[gene, loc]].dropna()\n",
    "        oneSitedf_wt = wt[[gene, loc]].dropna()\n",
    "        ttest = scipy.stats.ttest_ind(oneSitedf_m[loc], oneSitedf_wt[loc])\n",
    "        sigResults.append(loc)\n",
    "        print(\"Results for \" + loc)\n",
    "        print(ttest)"
   ]
  },
  {
   "cell_type": "code",
   "execution_count": null,
   "metadata": {},
   "outputs": [],
   "source": []
  }
 ],
 "metadata": {
  "kernelspec": {
   "display_name": "Python 3",
   "language": "python",
   "name": "python3"
  },
  "language_info": {
   "codemirror_mode": {
    "name": "ipython",
    "version": 3
   },
   "file_extension": ".py",
   "mimetype": "text/x-python",
   "name": "python",
   "nbconvert_exporter": "python",
   "pygments_lexer": "ipython3",
   "version": "3.7.0"
  }
 },
 "nbformat": 4,
 "nbformat_minor": 2
}
