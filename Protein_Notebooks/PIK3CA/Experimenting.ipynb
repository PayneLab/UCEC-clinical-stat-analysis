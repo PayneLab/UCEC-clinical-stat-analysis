{
 "cells": [
  {
   "cell_type": "code",
   "execution_count": 4,
   "metadata": {},
   "outputs": [
    {
     "name": "stdout",
     "output_type": "stream",
     "text": [
      "Loading Endometrial CPTAC data:\n",
      "Loading Dictionary...\n",
      "Loading Clinical Data...\n",
      "Loading Proteomics Data...\n",
      "Loading Transcriptomics Data...\n",
      "Loading CNA Data...\n",
      "Loading Phosphoproteomics Data...\n",
      "Loading Somatic Mutation Data...\n",
      "\n",
      " ******PLEASE READ******\n",
      "WARNING: This data is under a publication embargo until July 1, 2019.\n",
      "CPTAC is a community resource project and data are made available\n",
      "rapidly after generation for community research use. The embargo\n",
      "allows exploring and utilizing the data, but the data may not be in a\n",
      "publication until July 1, 2019. Please see\n",
      "https://proteomics.cancer.gov/data-portal/about/data-use-agreement or\n",
      "enter embargo() to open the webpage for more details.\n"
     ]
    }
   ],
   "source": [
    "import pandas as pd\n",
    "import numpy as np\n",
    "import scipy.stats\n",
    "from scipy.stats import pearsonr\n",
    "import matplotlib.pyplot as plt\n",
    "#import seaborn as sns\n",
    "#import altair as alt\n",
    "\n",
    "#alt.renderers.enable('notebook')\n",
    "import CPTAC.Endometrial as CPTAC"
   ]
  },
  {
   "cell_type": "code",
   "execution_count": 5,
   "metadata": {},
   "outputs": [],
   "source": [
    "somatic_mutations = CPTAC.get_somatic()\n",
    "proteomics = CPTAC.get_proteomics()\n",
    "phos = CPTAC.get_phosphoproteomics()"
   ]
  },
  {
   "cell_type": "code",
   "execution_count": 63,
   "metadata": {},
   "outputs": [
    {
     "name": "stdout",
     "output_type": "stream",
     "text": [
      "0.0125\n",
      "Results for PTEN-S467\n",
      "Ttest_indResult(statistic=0.1988775346087565, pvalue=0.8428279682684179)\n",
      "Results for PTEN-S558\n",
      "Ttest_indResult(statistic=-1.4855618668050925, pvalue=0.14176062835390138)\n",
      "Results for PTEN-T556\n",
      "Ttest_indResult(statistic=-1.3565706740507137, pvalue=0.17953994968192138)\n"
     ]
    }
   ],
   "source": [
    "protein_check = 'PTEN'\n",
    "phosProt = phos.filter(regex=protein_check)\n",
    "gene = 'PIK3CA'\n",
    "\n",
    "genedf = somatic_mutations[gene].to_frame()\n",
    "cross = genedf.add(phosProt, fill_value = 0)\n",
    "#print(cross.head())\n",
    "\n",
    "pcutoff = 0.05/len(cross.columns)\n",
    "print(pcutoff)\n",
    "\n",
    "mutated = cross.loc[cross[gene] == 1.0]\n",
    "wt = cross.loc[cross[gene] == 0.0]\n",
    "\n",
    "for loc in cross.columns:\n",
    "    if not loc == gene:\n",
    "        oneSitedf_m = mutated[[loc, gene]].dropna(axis=0)\n",
    "        oneSitedf_wt = wt[[loc, gene]].dropna(axis=0)\n",
    "        ttest = scipy.stats.ttest_ind(oneSitedf_m[loc], oneSitedf_wt[loc])\n",
    "        print(\"Results for \" + loc)\n",
    "        print(ttest)\n",
    "\n"
   ]
  },
  {
   "cell_type": "code",
   "execution_count": 12,
   "metadata": {},
   "outputs": [
    {
     "data": {
      "text/plain": [
       "[Text(0, 0.5, 'Proteomics'), Text(0.5, 0, 'Somatic Gene Mutation')]"
      ]
     },
     "execution_count": 12,
     "metadata": {},
     "output_type": "execute_result"
    },
    {
     "data": {
      "image/png": "[encoded data removed]",
      "text/plain": [
       "<Figure size 432x288 with 1 Axes>"
      ]
     },
     "metadata": {
      "needs_background": "light"
     },
     "output_type": "display_data"
    }
   ],
   "source": [
    "somatic_boxplot = sns.boxplot(data=cross, x=gene)\n",
    "somatic_boxplot.set_title(gene + \" gene mutation and \" + protein_check + \" protein abundance\")\n",
    "somatic_boxplot = sns.stripplot(data=cross, x=gene,jitter=True, color=\".3\")\n",
    "somatic_boxplot.set(xlabel=\"Somatic Gene Mutation\",ylabel=\"Proteomics\")"
   ]
  },
  {
   "cell_type": "code",
   "execution_count": 5,
   "metadata": {},
   "outputs": [
    {
     "name": "stdout",
     "output_type": "stream",
     "text": [
      "0.05\n"
     ]
    }
   ],
   "source": [
    "phosProt = phos.filter(regex='PDK')\n",
    "gene = 'PIK3CA'\n",
    "\n",
    "genedf = somatic_mutations[gene].to_frame()\n",
    "cross = genedf.add(phosProt, fill_value = 0)\n",
    "sigResults = []\n",
    "#print(cross.head())\n",
    "\n",
    "pcutoff = 0.05/len(cross.columns)\n",
    "print(pcutoff)\n",
    "\n",
    "mutated = cross.loc[cross[gene] == 1.0]\n",
    "#print(mutated.head())\n",
    "wt = cross.loc[cross[gene] == 0.0]\n",
    "#print(wt.head())\n",
    "\n",
    "for loc in cross.columns:\n",
    "    if not loc == gene:\n",
    "        oneSitedf_m = mutated[[gene, loc]].dropna()\n",
    "        oneSitedf_wt = wt[[gene, loc]].dropna()\n",
    "        ttest = scipy.stats.ttest_ind(oneSitedf_m[loc], oneSitedf_wt[loc])\n",
    "        sigResults.append(loc)\n",
    "        print(\"Results for \" + loc)\n",
    "        print(ttest)\n"
   ]
  },
  {
   "cell_type": "code",
   "execution_count": 9,
   "metadata": {},
   "outputs": [
    {
     "name": "stdout",
     "output_type": "stream",
     "text": [
      "0.0038461538461538464\n",
      "Results for IRS2-S1100\n",
      "Ttest_indResult(statistic=-1.1228415172362924, pvalue=0.26551235764242587)\n",
      "Results for IRS2-S365\n",
      "Ttest_indResult(statistic=0.38985281829235874, pvalue=0.6975563462560624)\n",
      "Results for IRS2-S388\n",
      "Ttest_indResult(statistic=-0.6119418458313213, pvalue=0.5425588109981629)\n",
      "Results for IRS2-S391\n",
      "Ttest_indResult(statistic=-2.176253606263746, pvalue=0.03341833321656063)\n",
      "Results for IRS2-S560\n",
      "Ttest_indResult(statistic=-2.3097211799375055, pvalue=0.024755067981666396)\n",
      "Results for IRS2-S577\n",
      "Ttest_indResult(statistic=-0.9262059196071508, pvalue=0.35793035131055373)\n",
      "Results for IRS2-S620\n",
      "Ttest_indResult(statistic=-0.3642074443063041, pvalue=0.717270090953648)\n",
      "Results for IRS2-S679\n",
      "Ttest_indResult(statistic=0.6439070830781372, pvalue=0.5217703298207741)\n",
      "Results for IRS2-S731\n",
      "Ttest_indResult(statistic=-0.15079785621987576, pvalue=0.8806169797454081)\n",
      "Results for IRS2-S736\n",
      "Ttest_indResult(statistic=-0.5265066454392469, pvalue=0.6002749777969532)\n",
      "Results for IRS2-S915\n",
      "Ttest_indResult(statistic=-0.9177672991928157, pvalue=0.3627479001082471)\n",
      "Results for IRS2-S973\n",
      "Ttest_indResult(statistic=-1.5700871091437252, pvalue=0.12077944594971743)\n"
     ]
    }
   ],
   "source": [
    "phosProt = phos.filter(regex='IRS2')\n",
    "gene = 'PIK3CA'\n",
    "\n",
    "genedf = somatic_mutations[gene].to_frame()\n",
    "cross = genedf.add(phosProt, fill_value = 0)\n",
    "sigResults = []\n",
    "#print(cross.head())\n",
    "\n",
    "pcutoff = 0.05/len(cross.columns)\n",
    "print(pcutoff)\n",
    "\n",
    "mutated = cross.loc[cross[gene] == 1.0]\n",
    "#print(mutated.head())\n",
    "wt = cross.loc[cross[gene] == 0.0]\n",
    "#print(wt.head())\n",
    "\n",
    "for loc in cross.columns:\n",
    "    if not loc == gene:\n",
    "        oneSitedf_m = mutated[[gene, loc]].dropna()\n",
    "        oneSitedf_wt = wt[[gene, loc]].dropna()\n",
    "        ttest = scipy.stats.ttest_ind(oneSitedf_m[loc], oneSitedf_wt[loc])\n",
    "        sigResults.append(loc)\n",
    "        print(\"Results for \" + loc)\n",
    "        print(ttest)"
   ]
  },
  {
   "cell_type": "code",
   "execution_count": 11,
   "metadata": {},
   "outputs": [
    {
     "data": {
      "text/plain": [
       "[Text(0, 0.5, 'Phosphoproteomics'), Text(0.5, 0, 'Somatic Gene Mutation')]"
      ]
     },
     "execution_count": 11,
     "metadata": {},
     "output_type": "execute_result"
    },
    {
     "data": {
      "image/png": "[encoded data removed]",
      "text/plain": [
       "<Figure size 432x288 with 1 Axes>"
      ]
     },
     "metadata": {
      "needs_background": "light"
     },
     "output_type": "display_data"
    }
   ],
   "source": [
    "somatic_boxplot = sns.boxplot(data=cross, x=gene ,y=sigResults[1])\n",
    "somatic_boxplot.set_title(gene + \" gene mutation and \" + sigResults[1] + \" phosphorylation levels\")\n",
    "somatic_boxplot = sns.stripplot(data=cross, x=gene, y=sigResults[1],jitter=True, color=\".3\")\n",
    "somatic_boxplot.set(xlabel=\"Somatic Gene Mutation\",ylabel=\"Phosphoproteomics\")"
   ]
  },
  {
   "cell_type": "code",
   "execution_count": 21,
   "metadata": {},
   "outputs": [
    {
     "name": "stdout",
     "output_type": "stream",
     "text": [
      "Results for IRS1-S1005: \n",
      "Ttest_indResult(statistic=-0.9690977556578986, pvalue=0.3365203953002731)\n",
      "Results for IRS1-S1100: \n",
      "Ttest_indResult(statistic=-2.144151151356816, pvalue=0.035056594434805)\n",
      "Results for IRS1-S1101: \n",
      "Ttest_indResult(statistic=-2.098899731593709, pvalue=0.038979458432090074)\n",
      "Results for IRS1-S1134: \n",
      "Ttest_indResult(statistic=-1.770797347381606, pvalue=0.08055195840145042)\n",
      "Results for IRS1-S270: \n",
      "Ttest_indResult(statistic=-0.7860248714648148, pvalue=0.4337493578683552)\n",
      "Results for IRS1-S312: \n",
      "Ttest_indResult(statistic=1.3429173455723695, pvalue=0.18561470344519224)\n",
      "Results for IRS1-S323: \n",
      "Ttest_indResult(statistic=-0.5485686919133093, pvalue=0.5847228047850945)\n",
      "Results for IRS1-S330: \n",
      "Ttest_indResult(statistic=-1.093938678842869, pvalue=0.27814694985592836)\n",
      "Results for IRS1-S337: \n",
      "Ttest_indResult(statistic=0.4798182866151812, pvalue=0.6325746861136163)\n",
      "Results for IRS1-S348: \n",
      "Ttest_indResult(statistic=-0.14935866809247728, pvalue=0.881733079425064)\n",
      "Results for IRS1-S374: \n",
      "Ttest_indResult(statistic=-0.10191057508786826, pvalue=0.9191565374601931)\n",
      "Results for IRS1-S413: \n",
      "Ttest_indResult(statistic=-0.43227024778175394, pvalue=0.6674808458992423)\n",
      "Results for IRS1-S415: \n",
      "Ttest_indResult(statistic=-1.8418771356736203, pvalue=0.07020092773381807)\n",
      "Results for IRS1-S419: \n",
      "Ttest_indResult(statistic=-1.184904276685606, pvalue=0.23914057981493891)\n",
      "Results for IRS1-S421: \n",
      "Ttest_indResult(statistic=-0.9846121562463936, pvalue=0.32764219023746255)\n",
      "Results for IRS1-S527: \n",
      "Ttest_indResult(statistic=0.020008118223419125, pvalue=0.9840802262632453)\n",
      "Results for IRS1-S531: \n",
      "Ttest_indResult(statistic=-0.6797082767342767, pvalue=0.4983959003978983)\n",
      "Results for IRS1-S629: \n",
      "Ttest_indResult(statistic=-0.7425871881562727, pvalue=0.45977894043451784)\n",
      "Results for IRS1-S636: \n",
      "Ttest_indResult(statistic=0.45170761264623555, pvalue=0.6530067422791852)\n",
      "Results for IRS1-S672: \n",
      "Ttest_indResult(statistic=-1.0221910151234592, pvalue=0.3117108171458467)\n",
      "Results for IRS2-S1100: \n",
      "Ttest_indResult(statistic=-1.1228415172362924, pvalue=0.26551235764242587)\n",
      "Results for IRS2-S365: \n",
      "Ttest_indResult(statistic=0.38985281829235874, pvalue=0.6975563462560624)\n",
      "Results for IRS2-S388: \n",
      "Ttest_indResult(statistic=-0.6119418458313213, pvalue=0.5425588109981629)\n",
      "Results for IRS2-S391: \n",
      "Ttest_indResult(statistic=-2.176253606263746, pvalue=0.03341833321656063)\n",
      "Results for IRS2-S560: \n",
      "Ttest_indResult(statistic=-2.3097211799375055, pvalue=0.024755067981666396)\n",
      "Results for IRS2-S577: \n",
      "Ttest_indResult(statistic=-0.9262059196071508, pvalue=0.35793035131055373)\n",
      "Results for IRS2-S620: \n",
      "Ttest_indResult(statistic=-0.3642074443063041, pvalue=0.717270090953648)\n",
      "Results for IRS2-S679: \n",
      "Ttest_indResult(statistic=0.6439070830781372, pvalue=0.5217703298207741)\n",
      "Results for IRS2-S731: \n",
      "Ttest_indResult(statistic=-0.15079785621987576, pvalue=0.8806169797454081)\n",
      "Results for IRS2-S736: \n",
      "Ttest_indResult(statistic=-0.5265066454392469, pvalue=0.6002749777969532)\n",
      "Results for IRS2-S915: \n",
      "Ttest_indResult(statistic=-0.9177672991928157, pvalue=0.3627479001082471)\n",
      "Results for IRS2-S973: \n",
      "Ttest_indResult(statistic=-1.5700871091437252, pvalue=0.12077944594971743)\n"
     ]
    }
   ],
   "source": [
    "gene = 'PIK3CA'\n",
    "sites = phos.filter(regex='IRS')\n",
    "sigResults = [];\n",
    "\n",
    "genedf = somatic_mutations[gene].to_frame()\n",
    "cross = genedf.add(sites, fill_value=0)\n",
    "mutated = cross.loc[cross[gene] == 1.0]\n",
    "wt = cross.loc[cross[gene] == 0.0]\n",
    "\n",
    "#pcutoff = 0.05/len(cross.columns)\n",
    "pcutoff = 1\n",
    "\n",
    "for loc in cross.columns:\n",
    "    if not loc == gene:\n",
    "        mutsitedf = mutated[[gene, loc]].dropna()\n",
    "        wtsitedf = wt[[gene, loc]].dropna()\n",
    "        ttest = scipy.stats.ttest_ind(mutsitedf[loc], wtsitedf[loc])\n",
    "        if ttest[1] <= pcutoff:\n",
    "            sigResults.append(loc)\n",
    "            print('Results for ' + loc + ': ')\n",
    "            print(ttest)"
   ]
  },
  {
   "cell_type": "code",
   "execution_count": 17,
   "metadata": {},
   "outputs": [
    {
     "data": {
      "text/plain": [
       "[Text(0, 0.5, 'Phosphoproteomics'), Text(0.5, 0, 'Somatic Gene Mutation')]"
      ]
     },
     "execution_count": 17,
     "metadata": {},
     "output_type": "execute_result"
    },
    {
     "data": {
      "image/png": "[encoded data removed]",
      "text/plain": [
       "<Figure size 432x288 with 1 Axes>"
      ]
     },
     "metadata": {
      "needs_background": "light"
     },
     "output_type": "display_data"
    }
   ],
   "source": [
    "somatic_boxplot = sns.boxplot(data=cross, x=gene ,y=sigResults[3])\n",
    "somatic_boxplot.set_title(gene + \" gene mutation and \" + sigResults[3] + \" phosphorylation levels\")\n",
    "somatic_boxplot = sns.stripplot(data=cross, x=gene, y=sigResults[3],jitter=True, color=\".3\")\n",
    "somatic_boxplot.set(xlabel=\"Somatic Gene Mutation\",ylabel=\"Phosphoproteomics\")"
   ]
  },
  {
   "cell_type": "code",
   "execution_count": 47,
   "metadata": {},
   "outputs": [
    {
     "name": "stdout",
     "output_type": "stream",
     "text": [
      "idx   AAAS-S495  AAK1-S18  AAK1-S20  AAK1-S21  AAK1-S624  AAK1-S637  \\\n",
      "S001        NaN     -0.28      0.44      0.52      -0.70      -0.68   \n",
      "S002        NaN     -0.53     -1.14      0.10      -0.66      -0.42   \n",
      "S003      -0.29      0.42     -0.05     -0.06      -0.03       0.80   \n",
      "S004       0.15       NaN     -0.54     -0.17       0.21      -0.17   \n",
      "S005       0.60      0.64     -0.05     -0.08       0.14       0.63   \n",
      "S006        NaN     -0.18     -0.52     -0.13       1.02       0.23   \n",
      "S007       0.27     -0.46     -1.09     -1.58      -0.43      -0.49   \n",
      "S008       0.50      0.42      0.38      0.31      -0.22       0.32   \n",
      "S009      -0.20     -0.46     -0.18     -0.80       0.16       0.55   \n",
      "S010       0.28      0.46      0.07       NaN       0.21       0.55   \n",
      "S011      -0.08      0.28     -0.24     -0.79      -0.36      -1.27   \n",
      "S012      -1.55      0.71      0.23       NaN      -0.20        NaN   \n",
      "S013       0.61     -0.59     -0.42       NaN      -0.25      -0.32   \n",
      "S014       1.00     -0.31      0.00      0.71       1.27       0.10   \n",
      "S015       1.42       NaN      0.86     -0.38       1.01      -0.85   \n",
      "S016       0.71     -0.76     -0.92     -0.54      -0.49      -0.44   \n",
      "S017        NaN     -0.37      0.40      0.11      -0.20      -0.18   \n",
      "S018       0.14     -0.51     -0.17       NaN       0.14      -0.02   \n",
      "S019        NaN      0.62      0.47     -0.07       0.23       0.45   \n",
      "S020       0.42     -0.14      0.26     -0.90      -0.06      -0.85   \n",
      "S021       0.59     -0.41     -0.72     -0.51       0.54      -0.24   \n",
      "S022       0.55     -0.14     -0.54     -0.61       0.06      -0.22   \n",
      "S023       0.26       NaN     -0.81     -0.23       0.10      -0.45   \n",
      "S024       0.08       NaN     -0.13      0.12       0.51      -0.22   \n",
      "S025        NaN     -0.09      0.52      0.17      -0.06       0.48   \n",
      "S026      -0.78      0.41     -0.20       NaN      -0.11      -1.28   \n",
      "S027      -0.02      0.05      0.35      1.20       0.56       0.90   \n",
      "S028      -0.91      0.11      0.31      0.20       0.08      -0.48   \n",
      "S029        NaN      0.01     -0.96      0.30      -1.92      -0.74   \n",
      "S030       0.87      0.36      0.30      0.04       0.00      -0.41   \n",
      "...         ...       ...       ...       ...        ...        ...   \n",
      "S111      -0.52     -0.22      0.87     -0.30       0.61       1.62   \n",
      "S112      -0.78     -0.21     -0.39       NaN      -0.36       0.06   \n",
      "S113      -0.57       NaN       NaN     -0.43      -0.42       0.98   \n",
      "S114       0.09      0.24      0.67      0.07       0.09       0.84   \n",
      "S115       0.03       NaN      0.07     -0.21       0.14       1.05   \n",
      "S116      -0.58       NaN      0.47      0.28       0.45       1.10   \n",
      "S117      -0.21       NaN      0.26      0.23       0.32       1.38   \n",
      "S118      -0.59       NaN      0.41      1.44      -0.28       0.97   \n",
      "S119      -0.67       NaN       NaN     -0.49      -0.16       0.51   \n",
      "S120        NaN     -0.26     -0.02     -0.11      -0.18       0.51   \n",
      "S121      -0.15     -0.27     -0.36     -0.75       0.12       0.70   \n",
      "S122      -0.21      0.07     -0.52     -0.35      -0.17      -0.57   \n",
      "S123      -0.33     -0.56       NaN       NaN      -0.65       0.68   \n",
      "S124      -0.15     -0.46      0.23     -0.01      -0.54       0.58   \n",
      "S125      -0.03      0.22      0.93       NaN       0.06       0.59   \n",
      "S126        NaN      0.50     -0.11      0.01      -0.48       0.22   \n",
      "S127        NaN      1.00      0.90      0.41       0.50       0.74   \n",
      "S128      -0.22     -0.28      0.22     -0.61       0.09       0.13   \n",
      "S129      -0.82     -0.10     -0.05       NaN       0.07      -0.59   \n",
      "S130      -0.61      0.75      0.43       NaN      -0.15      -0.42   \n",
      "S131      -0.79      0.30      0.72      0.12       0.07       0.75   \n",
      "S132      -0.08      0.19     -0.04     -0.60      -0.07       0.44   \n",
      "S133      -0.76     -0.22     -0.05     -0.85      -0.27      -0.13   \n",
      "S134       0.05     -0.59     -0.86     -0.76      -0.39      -0.17   \n",
      "S135      -0.29      0.36     -0.73       NaN      -0.17       0.34   \n",
      "S136       0.20       NaN     -0.16     -0.26       0.03       0.38   \n",
      "S137      -0.56       NaN      0.13       NaN      -0.81       0.50   \n",
      "S138      -0.14     -0.64      0.41      0.81       0.25       1.04   \n",
      "S139      -0.38      0.60      0.56       NaN       0.15       1.02   \n",
      "S140      -1.37     -0.29      0.28      0.03      -0.09       0.86   \n",
      "\n",
      "idx   AAK1-S670  AAK1-S678  AAK1-S682  AAK1-S731    ...      ZZEF1-S1464  \\\n",
      "S001      -0.49      -0.43      -0.93        NaN    ...            -0.28   \n",
      "S002      -0.43      -0.29      -0.39      -0.25    ...             0.44   \n",
      "S003        NaN      -1.41       0.16      -0.09    ...             1.05   \n",
      "S004       0.58       0.50        NaN      -0.52    ...             0.03   \n",
      "S005       0.52      -0.76      -0.30      -0.01    ...            -0.54   \n",
      "S006       0.00       0.51       0.56       0.07    ...            -0.12   \n",
      "S007      -0.50      -0.51      -0.45      -0.58    ...             0.47   \n",
      "S008      -0.22      -0.12        NaN       0.29    ...            -0.25   \n",
      "S009       0.16      -0.10       0.18      -0.63    ...            -0.10   \n",
      "S010       0.16       0.26        NaN      -0.39    ...            -0.11   \n",
      "S011      -0.74      -0.74      -1.07      -0.82    ...            -0.43   \n",
      "S012       1.75      -0.73      -0.29      -0.79    ...             0.08   \n",
      "S013      -0.65       0.69      -0.81      -0.88    ...            -0.49   \n",
      "S014       0.32       0.51        NaN       0.68    ...            -0.23   \n",
      "S015        NaN       0.80      -0.34      -0.60    ...            -0.28   \n",
      "S016        NaN       0.19      -0.99      -1.56    ...            -0.86   \n",
      "S017      -0.03      -0.21      -0.60        NaN    ...             0.34   \n",
      "S018      -0.29      -0.02       0.25      -0.43    ...             0.54   \n",
      "S019       0.73       0.61       0.17        NaN    ...             0.45   \n",
      "S020      -1.00      -0.90        NaN      -1.00    ...            -0.02   \n",
      "S021       0.78        NaN      -0.40      -0.26    ...            -0.12   \n",
      "S022       0.58        NaN       0.00       0.01    ...            -0.26   \n",
      "S023       0.09       0.05        NaN      -1.16    ...             0.01   \n",
      "S024       0.23       0.53        NaN      -0.83    ...            -0.78   \n",
      "S025      -0.20       0.04      -0.24        NaN    ...             0.08   \n",
      "S026      -0.44      -0.34        NaN      -0.37    ...             0.22   \n",
      "S027      -0.10       0.11        NaN       0.89    ...             0.10   \n",
      "S028       0.38       0.24       0.01       0.28    ...             0.83   \n",
      "S029      -0.29      -0.16      -0.37       0.03    ...             0.24   \n",
      "S030       0.36       0.51        NaN      -0.11    ...              NaN   \n",
      "...         ...        ...        ...        ...    ...              ...   \n",
      "S111        NaN      -0.02       0.07       0.78    ...            -0.51   \n",
      "S112        NaN      -0.86        NaN      -0.05    ...             0.15   \n",
      "S113        NaN      -0.41       0.14       0.50    ...             0.87   \n",
      "S114       0.82       0.68       0.35       0.49    ...             0.10   \n",
      "S115        NaN        NaN       0.54       0.42    ...            -0.53   \n",
      "S116        NaN        NaN       0.21       0.41    ...            -1.02   \n",
      "S117        NaN        NaN       0.56       0.68    ...            -0.85   \n",
      "S118        NaN      -0.74       0.49       0.30    ...             0.39   \n",
      "S119        NaN       0.36        NaN        NaN    ...             0.91   \n",
      "S120      -0.50      -0.35       0.43        NaN    ...             0.54   \n",
      "S121        NaN      -0.31       0.21       0.57    ...             0.26   \n",
      "S122      -0.07        NaN       0.10      -0.36    ...             0.43   \n",
      "S123        NaN      -0.02        NaN       0.45    ...             0.71   \n",
      "S124      -0.31      -0.21        NaN       0.41    ...            -0.05   \n",
      "S125       1.28       0.59       0.74       0.66    ...            -0.05   \n",
      "S126      -0.19       0.19       0.01       0.19    ...             0.26   \n",
      "S127       0.07       0.50       0.88       0.69    ...             0.35   \n",
      "S128      -1.04       0.44      -0.11       0.32    ...            -0.48   \n",
      "S129      -0.13       0.03       0.04       0.13    ...             0.99   \n",
      "S130       1.10       0.12      -0.46       0.41    ...            -0.01   \n",
      "S131      -0.10       0.10       0.27       0.59    ...             0.15   \n",
      "S132       0.08       0.10       0.18       0.28    ...             0.71   \n",
      "S133      -0.47      -0.26      -0.89       0.20    ...             0.67   \n",
      "S134      -0.57      -0.33      -0.18      -0.30    ...             0.13   \n",
      "S135      -0.13      -0.11        NaN       0.94    ...             0.19   \n",
      "S136       0.60       0.26        NaN      -0.67    ...             0.16   \n",
      "S137      -0.46      -0.55        NaN        NaN    ...            -0.75   \n",
      "S138      -0.01       0.22        NaN       0.80    ...             0.39   \n",
      "S139       0.18       0.28        NaN       0.27    ...            -0.03   \n",
      "S140      -0.20       0.50        NaN       0.60    ...              NaN   \n",
      "\n",
      "idx   ZZEF1-S1488  ZZEF1-S1501  ZZEF1-S1518  ZZEF1-S2444  ZZEF1-T1477  \\\n",
      "S001        -0.20        -0.11        -0.11        -0.08        -0.27   \n",
      "S002         0.37         0.60         0.33          NaN         1.13   \n",
      "S003         0.61          NaN         0.36         0.53         0.52   \n",
      "S004        -0.18          NaN         0.68         0.28          NaN   \n",
      "S005         0.48        -0.70         0.26        -0.59        -0.66   \n",
      "S006        -0.19         0.87         0.11          NaN        -0.01   \n",
      "S007         0.34          NaN         0.87        -0.21         0.81   \n",
      "S008        -0.15         0.18         2.42        -0.20        -0.18   \n",
      "S009        -0.29        -0.51         0.33         0.55        -0.04   \n",
      "S010         0.06         0.30        -0.07         0.25         0.00   \n",
      "S011         0.34          NaN         0.90         0.92        -0.32   \n",
      "S012        -0.19        -0.30         0.06         0.28         0.20   \n",
      "S013        -0.51        -0.16        -0.30         0.67        -1.57   \n",
      "S014         0.04         0.32         2.04        -0.18        -0.50   \n",
      "S015        -1.20        -0.27        -0.14          NaN          NaN   \n",
      "S016        -0.85          NaN         0.31        -0.16        -0.66   \n",
      "S017         0.64         0.05        -0.20         0.00         0.55   \n",
      "S018        -0.20         0.40        -0.02         0.28         0.65   \n",
      "S019         1.07        -0.12        -0.25         0.33         0.83   \n",
      "S020         0.07         0.86         2.91        -0.07         0.09   \n",
      "S021        -0.16         0.18        -0.16          NaN        -0.01   \n",
      "S022        -0.20         0.03        -0.34          NaN        -0.51   \n",
      "S023         0.32          NaN         0.85         0.55          NaN   \n",
      "S024        -0.45          NaN         0.42         0.11          NaN   \n",
      "S025         0.31        -0.02        -0.09        -0.24         0.52   \n",
      "S026         0.47         0.43        -0.01         0.48        -0.63   \n",
      "S027         0.08         0.01         2.37        -0.03         0.21   \n",
      "S028         2.36        -0.17         0.58         0.68         1.19   \n",
      "S029         0.03         0.58        -0.18          NaN         0.55   \n",
      "S030          NaN        -0.49         0.31          NaN          NaN   \n",
      "...           ...          ...          ...          ...          ...   \n",
      "S111        -0.04          NaN        -0.33        -0.32        -0.20   \n",
      "S112         0.62        -1.29         0.05          NaN         0.49   \n",
      "S113         0.01          NaN         0.01          NaN          NaN   \n",
      "S114        -0.16        -0.50         0.24        -0.48        -0.01   \n",
      "S115         0.14          NaN        -0.22        -0.46        -0.51   \n",
      "S116        -0.19          NaN         0.57        -0.92        -1.08   \n",
      "S117         0.25          NaN        -0.81        -0.53        -0.80   \n",
      "S118        -0.59          NaN         0.08          NaN          NaN   \n",
      "S119          NaN          NaN         0.11          NaN          NaN   \n",
      "S120         0.48         0.27         0.42         0.06         0.15   \n",
      "S121         0.26          NaN        -0.10        -0.17        -0.10   \n",
      "S122        -0.11         0.30         0.45          NaN         0.63   \n",
      "S123         0.42          NaN        -0.23          NaN         0.46   \n",
      "S124         0.06        -0.56        -0.20          NaN         1.27   \n",
      "S125        -0.45         0.54        -0.19        -0.26         0.06   \n",
      "S126        -0.39         0.56        -0.02          NaN         0.37   \n",
      "S127         0.05        -0.37        -0.48          NaN         0.46   \n",
      "S128        -0.19        -0.13        -0.57        -0.82        -0.50   \n",
      "S129         0.60         0.10        -0.26        -0.26         1.10   \n",
      "S130        -1.36        -0.27        -0.19        -0.65         0.10   \n",
      "S131        -0.09          NaN         0.92        -0.84         0.26   \n",
      "S132         0.45          NaN         0.77        -0.01         0.77   \n",
      "S133         0.27          NaN         0.45        -1.08         0.46   \n",
      "S134         0.46        -0.43         0.23         0.49         0.24   \n",
      "S135        -0.34        -0.15          NaN        -0.14         0.37   \n",
      "S136         0.39          NaN         0.42        -0.20          NaN   \n",
      "S137          NaN          NaN        -0.13        -0.54        -0.64   \n",
      "S138         0.44         0.02         2.26         0.37         0.50   \n",
      "S139        -0.18         0.68         0.37         0.04         0.18   \n",
      "S140          NaN        -0.13         0.05          NaN          NaN   \n",
      "\n",
      "idx   ZZEF1-T1512  ZZEF1-T1521  ZZZ3-S397  ZZZ3-S426  \n",
      "S001          NaN         0.24       0.42      -0.26  \n",
      "S002         1.00         0.34      -0.19      -0.55  \n",
      "S003         0.28        -0.27        NaN        NaN  \n",
      "S004         0.85        -0.32       0.03      -0.75  \n",
      "S005        -0.13        -0.21      -0.10       0.15  \n",
      "S006         0.53         0.02       0.09      -0.14  \n",
      "S007          NaN         0.25      -0.19      -0.20  \n",
      "S008          NaN         2.44       0.05       0.38  \n",
      "S009         0.06        -0.46      -0.44      -0.35  \n",
      "S010          NaN         0.00      -0.35        NaN  \n",
      "S011          NaN         1.19      -0.10      -0.45  \n",
      "S012         0.41         0.26      -0.54      -0.31  \n",
      "S013        -0.03        -0.20       0.04       0.27  \n",
      "S014          NaN         2.05      -0.06       0.56  \n",
      "S015          NaN        -0.71        NaN      -0.15  \n",
      "S016         0.42         0.25        NaN        NaN  \n",
      "S017          NaN         0.33       0.27      -0.14  \n",
      "S018        -0.01        -0.15       0.19       0.24  \n",
      "S019          NaN         0.65       0.07      -0.52  \n",
      "S020          NaN         2.92      -0.02       0.59  \n",
      "S021        -0.11         0.00       0.32       2.10  \n",
      "S022        -0.01        -0.18       0.26       1.67  \n",
      "S023         0.67         0.04       0.17       0.26  \n",
      "S024         0.81        -0.38       0.32      -0.19  \n",
      "S025          NaN         0.26       0.46      -0.27  \n",
      "S026          NaN         0.71      -0.06        NaN  \n",
      "S027          NaN         2.38      -0.33       0.45  \n",
      "S028        -0.12         0.29      -0.22      -0.53  \n",
      "S029         0.59         0.06       0.27       0.05  \n",
      "S030         0.36         0.64      -0.33      -0.34  \n",
      "...           ...          ...        ...        ...  \n",
      "S111        -1.70         0.55        NaN        NaN  \n",
      "S112        -0.01         2.52       0.96       0.95  \n",
      "S113          NaN        -0.35        NaN      -0.01  \n",
      "S114        -1.09        -0.58       0.57      -0.31  \n",
      "S115        -0.17        -0.76      -0.19       0.00  \n",
      "S116         0.02        -0.47      -0.21      -0.35  \n",
      "S117        -0.87        -0.76       0.15       0.04  \n",
      "S118          NaN        -0.29        NaN      -0.41  \n",
      "S119          NaN          NaN        NaN      -0.29  \n",
      "S120          NaN        -0.05      -0.07      -0.52  \n",
      "S121        -1.17        -0.43        NaN        NaN  \n",
      "S122        -0.41        -0.04      -0.11       0.29  \n",
      "S123         0.16          NaN      -0.65      -0.66  \n",
      "S124          NaN        -0.51      -0.58       0.15  \n",
      "S125          NaN        -0.46       0.28       0.54  \n",
      "S126         0.15        -0.19      -0.01      -0.48  \n",
      "S127         0.34        -0.45      -0.20      -0.19  \n",
      "S128        -0.75        -0.69      -0.08       0.01  \n",
      "S129         0.52        -0.39      -0.54       0.98  \n",
      "S130        -0.02        -0.42       0.39       0.38  \n",
      "S131          NaN         0.48      -0.32      -0.33  \n",
      "S132          NaN        -0.22      -0.15      -0.15  \n",
      "S133          NaN         0.03      -0.05      -0.35  \n",
      "S134        -0.52        -0.19      -0.42      -0.04  \n",
      "S135          NaN          NaN      -0.36       0.14  \n",
      "S136         0.52        -0.49      -0.20       0.05  \n",
      "S137          NaN          NaN        NaN        NaN  \n",
      "S138          NaN         2.27      -0.27       0.52  \n",
      "S139          NaN        -0.82        NaN        NaN  \n",
      "S140         0.23         0.15       0.15       0.14  \n",
      "\n",
      "[140 rows x 20534 columns]\n",
      "0.01\n",
      "Results for RASGRP2-S576: \n",
      "Ttest_indResult(statistic=-2.7634597445770646, pvalue=0.0072339541033929694)\n",
      "Results for RASGRP2-T399: \n",
      "Ttest_indResult(statistic=-2.886615526438224, pvalue=0.005101191914800728)\n"
     ]
    }
   ],
   "source": [
    "gene = 'PIK3CA'\n",
    "print(phos)\n",
    "sites = phos.filter(regex='RASGRP2')\n",
    "sigResults = [];\n",
    "\n",
    "genedf = somatic_mutations[gene].to_frame()\n",
    "cross = genedf.add(sites, fill_value=0)\n",
    "mutated = cross.loc[cross[gene] == 1.0]\n",
    "wt = cross.loc[cross[gene] == 0.0]\n",
    "\n",
    "\n",
    "pcutoff = 0.05/len(cross.columns)\n",
    "print(pcutoff)\n",
    "\n",
    "for loc in cross.columns:\n",
    "    if not loc == gene:\n",
    "        mutsitedf = mutated[[gene, loc]].dropna()\n",
    "        #print(mutsitedf)\n",
    "        #print(len(mutsitedf))\n",
    "        wtsitedf = wt[[gene, loc]].dropna()\n",
    "        #print(wtsitedf)\n",
    "        #print(len(wtsitedf))\n",
    "        ttest = scipy.stats.ttest_ind(mutsitedf[loc], wtsitedf[loc])\n",
    "        if ttest[1] <= pcutoff:\n",
    "            sigResults.append(loc)\n",
    "            print('Results for ' + loc + ': ')\n",
    "            print(ttest)"
   ]
  },
  {
   "cell_type": "code",
   "execution_count": 48,
   "metadata": {},
   "outputs": [
    {
     "data": {
      "text/plain": [
       "[Text(0, 0.5, 'Phosphoproteomics'), Text(0.5, 0, 'Somatic Gene Mutation')]"
      ]
     },
     "execution_count": 48,
     "metadata": {},
     "output_type": "execute_result"
    },
    {
     "data": {
      "image/png": "[encoded data removed]",
      "text/plain": [
       "<Figure size 432x288 with 1 Axes>"
      ]
     },
     "metadata": {
      "needs_background": "light"
     },
     "output_type": "display_data"
    }
   ],
   "source": [
    "somatic_boxplot = sns.boxplot(data=cross, x=gene ,y=sigResults[0])\n",
    "somatic_boxplot.set_title(gene + \" gene mutation and \" + sigResults[0] + \" phosphorylation levels\")\n",
    "somatic_boxplot = sns.stripplot(data=cross, x=gene, y=sigResults[0],jitter=True, color=\".3\")\n",
    "somatic_boxplot.set(xlabel=\"Somatic Gene Mutation\",ylabel=\"Phosphoproteomics\")"
   ]
  },
  {
   "cell_type": "code",
   "execution_count": 62,
   "metadata": {},
   "outputs": [
    {
     "name": "stdout",
     "output_type": "stream",
     "text": [
      "Results for PTEN-S467: \n",
      "Ttest_indResult(statistic=0.1988775346087565, pvalue=0.8428279682684179)\n",
      "Results for PTEN-S558: \n",
      "Ttest_indResult(statistic=-1.4855618668050925, pvalue=0.14176062835390138)\n",
      "Results for PTEN-T556: \n",
      "Ttest_indResult(statistic=-1.3565706740507137, pvalue=0.17953994968192138)\n"
     ]
    }
   ],
   "source": [
    "gene = 'PIK3CA'\n",
    "#print(phos)\n",
    "sites = phos.filter(regex='PTEN')\n",
    "sigResults = [];\n",
    "\n",
    "genedf = somatic_mutations[gene].to_frame()\n",
    "cross = genedf.add(sites, fill_value=0)\n",
    "mutated = cross.loc[cross[gene] == 1.0]\n",
    "wt = cross.loc[cross[gene] == 0.0]\n",
    "\n",
    "\n",
    "#pcutoff = 0.05/len(cross.columns)\n",
    "#print(pcutoff)\n",
    "pcutoff = 1\n",
    "\n",
    "for loc in cross.columns:\n",
    "    if not loc == gene:\n",
    "        mutsitedf = mutated[[gene, loc]].dropna()\n",
    "        #print(mutsitedf)\n",
    "        #print(len(mutsitedf))\n",
    "        wtsitedf = wt[[gene, loc]].dropna()\n",
    "        #print(wtsitedf)\n",
    "        #print(len(wtsitedf))\n",
    "        ttest = scipy.stats.ttest_ind(mutsitedf[loc], wtsitedf[loc])\n",
    "        if ttest[1] <= pcutoff:\n",
    "            sigResults.append(loc)\n",
    "            print('Results for ' + loc + ': ')\n",
    "            print(ttest)"
   ]
  },
  {
   "cell_type": "code",
   "execution_count": 68,
   "metadata": {},
   "outputs": [
    {
     "name": "stdout",
     "output_type": "stream",
     "text": [
      "0.05\n",
      "Test for BTK: \n",
      "Ttest_indResult(statistic=-2.03971425856399, pvalue=0.044069911371210434)\n"
     ]
    }
   ],
   "source": [
    "gene = 'PIK3CA'\n",
    "protList = ['BTK']\n",
    "\n",
    "pcutoff = 0.05/len(protList)\n",
    "print(pcutoff)\n",
    "\n",
    "genedf = somatic_mutations[gene].to_frame()\n",
    "for protein in protList:\n",
    "    if protein in proteomics.columns:\n",
    "        proteindf = proteomics[protein].to_frame()\n",
    "        proteinfindName = protein + \"protein\"\n",
    "        proteindf.columns = [proteinfindName]\n",
    "        cross = genedf.add(proteindf, fill_value=0).dropna(axis=0)\n",
    "        mutated = cross.loc[cross[gene] == 1.0]\n",
    "        wt = cross.loc[cross[gene] == 0.0]\n",
    "        ttest = scipy.stats.ttest_ind(mutated[proteinfindName], wt[proteinfindName])\n",
    "        print(\"Test for \" + protein + \": \")\n",
    "        print(ttest)"
   ]
  },
  {
   "cell_type": "code",
   "execution_count": 70,
   "metadata": {},
   "outputs": [
    {
     "data": {
      "text/plain": [
       "[Text(0, 0.5, 'Proteomics'), Text(0.5, 0, 'Somatic Gene Mutation')]"
      ]
     },
     "execution_count": 70,
     "metadata": {},
     "output_type": "execute_result"
    },
    {
     "data": {
      "image/png": "[encoded data removed]",
      "text/plain": [
       "<Figure size 432x288 with 1 Axes>"
      ]
     },
     "metadata": {
      "needs_background": "light"
     },
     "output_type": "display_data"
    }
   ],
   "source": [
    "somatic_boxplot = sns.boxplot(data=cross, x=gene ,y=proteinfindName)\n",
    "somatic_boxplot.set_title(gene + \" gene mutation and \" + protList[0] + \" protein abundance\")\n",
    "somatic_boxplot = sns.stripplot(data=cross, x=gene, y=proteinfindName,jitter=True, color=\".3\")\n",
    "somatic_boxplot.set(xlabel=\"Somatic Gene Mutation\",ylabel=\"Proteomics\")"
   ]
  },
  {
   "cell_type": "code",
   "execution_count": 73,
   "metadata": {},
   "outputs": [],
   "source": [
    "gene = 'PIK3CA'\n",
    "#print(phos)\n",
    "sites = phos.filter(regex='PIP2')\n",
    "sigResults = [];\n",
    "\n",
    "genedf = somatic_mutations[gene].to_frame()\n",
    "cross = genedf.add(sites, fill_value=0)\n",
    "mutated = cross.loc[cross[gene] == 1.0]\n",
    "wt = cross.loc[cross[gene] == 0.0]\n",
    "\n",
    "\n",
    "#pcutoff = 0.05/len(cross.columns)\n",
    "#print(pcutoff)\n",
    "pcutoff = 1\n",
    "\n",
    "for loc in cross.columns:\n",
    "    if not loc == gene:\n",
    "        mutsitedf = mutated[[gene, loc]].dropna()\n",
    "        #print(mutsitedf)\n",
    "        #print(len(mutsitedf))\n",
    "        wtsitedf = wt[[gene, loc]].dropna()\n",
    "        #print(wtsitedf)\n",
    "        #print(len(wtsitedf))\n",
    "        ttest = scipy.stats.ttest_ind(mutsitedf[loc], wtsitedf[loc])\n",
    "        if ttest[1] <= pcutoff:\n",
    "            sigResults.append(loc)\n",
    "            print('Results for ' + loc + ': ')\n",
    "            print(ttest)"
   ]
  },
  {
   "cell_type": "code",
   "execution_count": 75,
   "metadata": {},
   "outputs": [
    {
     "name": "stdout",
     "output_type": "stream",
     "text": [
      "0.05\n",
      "Test for BAX: \n",
      "Ttest_indResult(statistic=2.4183934744101427, pvalue=0.01743565224974825)\n"
     ]
    }
   ],
   "source": [
    "gene = 'PIK3CA'\n",
    "protList = ['BAX']\n",
    "\n",
    "pcutoff = 0.05/len(protList)\n",
    "print(pcutoff)\n",
    "\n",
    "genedf = somatic_mutations[gene].to_frame()\n",
    "for protein in protList:\n",
    "    if protein in proteomics.columns:\n",
    "        proteindf = proteomics[protein].to_frame()\n",
    "        proteinfindName = protein + \"protein\"\n",
    "        proteindf.columns = [proteinfindName]\n",
    "        cross = genedf.add(proteindf, fill_value=0).dropna(axis=0)\n",
    "        mutated = cross.loc[cross[gene] == 1.0]\n",
    "        wt = cross.loc[cross[gene] == 0.0]\n",
    "        ttest = scipy.stats.ttest_ind(mutated[proteinfindName], wt[proteinfindName])\n",
    "        print(\"Test for \" + protein + \": \")\n",
    "        print(ttest)"
   ]
  },
  {
   "cell_type": "code",
   "execution_count": 76,
   "metadata": {},
   "outputs": [
    {
     "data": {
      "text/plain": [
       "[Text(0, 0.5, 'Proteomics'), Text(0.5, 0, 'Somatic Gene Mutation')]"
      ]
     },
     "execution_count": 76,
     "metadata": {},
     "output_type": "execute_result"
    },
    {
     "data": {
      "image/png": "[encoded data removed]",
      "text/plain": [
       "<Figure size 432x288 with 1 Axes>"
      ]
     },
     "metadata": {
      "needs_background": "light"
     },
     "output_type": "display_data"
    }
   ],
   "source": [
    "somatic_boxplot = sns.boxplot(data=cross, x=gene ,y=proteinfindName)\n",
    "somatic_boxplot.set_title(gene + \" gene mutation and \" + protList[0] + \" protein abundance\")\n",
    "somatic_boxplot = sns.stripplot(data=cross, x=gene, y=proteinfindName,jitter=True, color=\".3\")\n",
    "somatic_boxplot.set(xlabel=\"Somatic Gene Mutation\",ylabel=\"Proteomics\")"
   ]
  },
  {
   "cell_type": "markdown",
   "metadata": {},
   "source": [
    "## Number of patients with PIK3CA mutations"
   ]
  },
  {
   "cell_type": "code",
   "execution_count": 11,
   "metadata": {},
   "outputs": [
    {
     "name": "stdout",
     "output_type": "stream",
     "text": [
      "49\n",
      "['C3L-00006' 'C3L-00032' 'C3L-00139' 'C3L-00143' 'C3L-00156' 'C3L-00161'\n",
      " 'C3L-00362' 'C3L-00563' 'C3L-00586' 'C3L-00601' 'C3L-00605' 'C3L-00769'\n",
      " 'C3L-00770' 'C3L-00771' 'C3L-00781' 'C3L-00905' 'C3L-00918' 'C3L-00921'\n",
      " 'C3L-00942' 'C3L-00947' 'C3L-00961' 'C3L-01247' 'C3L-01304' 'C3L-01311'\n",
      " 'C3N-00200' 'C3N-00321' 'C3N-00323' 'C3N-00324' 'C3N-00326' 'C3N-00328'\n",
      " 'C3N-00333' 'C3N-00334' 'C3N-00337' 'C3N-00379' 'C3N-00383' 'C3N-00388'\n",
      " 'C3N-00743' 'C3N-00848' 'C3N-00858' 'C3N-00880' 'C3N-01001' 'C3N-01003'\n",
      " 'C3N-01212' 'C3N-01267' 'C3N-01346' 'C3N-01349' 'C3N-01510' 'C3N-01520'\n",
      " 'C3N-01825']\n"
     ]
    }
   ],
   "source": [
    "pik3_mutation = somatic_mutations.loc[somatic_mutations['Gene'] == 'PIK3CA']\n",
    "\n",
    "patients = pik3_mutation['Patient_Id']\n",
    "patients = patients.unique()\n",
    "print(len(patients))\n",
    "print(patients)"
   ]
  },
  {
   "cell_type": "code",
   "execution_count": null,
   "metadata": {},
   "outputs": [],
   "source": []
  }
 ],
 "metadata": {
  "kernelspec": {
   "display_name": "Python 3",
   "language": "python",
   "name": "python3"
  },
  "language_info": {
   "codemirror_mode": {
    "name": "ipython",
    "version": 3
   },
   "file_extension": ".py",
   "mimetype": "text/x-python",
   "name": "python",
   "nbconvert_exporter": "python",
   "pygments_lexer": "ipython3",
   "version": "3.7.1"
  }
 },
 "nbformat": 4,
 "nbformat_minor": 2
}
