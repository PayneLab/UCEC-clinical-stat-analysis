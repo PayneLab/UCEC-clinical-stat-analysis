{
 "cells": [
  {
   "cell_type": "markdown",
   "metadata": {},
   "source": [
    "# Diabetes: Correlation with protein abundance of IRS1 and PIK3CA "
   ]
  },
  {
   "cell_type": "markdown",
   "metadata": {},
   "source": [
    "### The purpose of this analysis is to find out if diabetes is correlated with mutations in PIK3CA. "
   ]
  },
  {
   "cell_type": "markdown",
   "metadata": {},
   "source": [
    "### IRS1 and PIK3CA are part of a pathway that help maintain insulin levels. Studies have shown that lack of IRS1 tend to lead to diabetes (https://www.sciencedirect.com/science/article/pii/S0968000404002932)"
   ]
  },
  {
   "cell_type": "markdown",
   "metadata": {},
   "source": [
    "<b> Standard imports for playing with and plotting data frames. </b>"
   ]
  },
  {
   "cell_type": "code",
   "execution_count": 76,
   "metadata": {},
   "outputs": [],
   "source": [
    "import pandas as pd\n",
    "import numpy as np\n",
    "import scipy.stats\n",
    "import matplotlib.pyplot as plt\n",
    "import seaborn as sns"
   ]
  },
  {
   "cell_type": "markdown",
   "metadata": {},
   "source": [
    "<b> Import CPTAC data </b>"
   ]
  },
  {
   "cell_type": "code",
   "execution_count": 77,
   "metadata": {},
   "outputs": [],
   "source": [
    "import CPTAC"
   ]
  },
  {
   "cell_type": "code",
   "execution_count": 78,
   "metadata": {},
   "outputs": [],
   "source": [
    "somatic_mutations = CPTAC.get_somatic()\n",
    "proteomics = CPTAC.get_proteomics()\n",
    "#proteomics = proteomics[:100]\n",
    "phos = CPTAC.get_phosphoproteomics()\n",
    "clinical = CPTAC.get_clinical()"
   ]
  },
  {
   "cell_type": "markdown",
   "metadata": {},
   "source": [
    "## Create a database of IRS1 protein abundance and diabetic information. We can do that by merging columns from the clinical and proteomics dataframes."
   ]
  },
  {
   "cell_type": "code",
   "execution_count": 79,
   "metadata": {},
   "outputs": [],
   "source": [
    "diabetic_data = CPTAC.compare_clinical(clinical, proteomics, \"Diabetes\")\n",
    "diabetic_data = diabetic_data[['Diabetes', 'IRS1']]\n",
    "diabetic_data = diabetic_data[:100]"
   ]
  },
  {
   "cell_type": "markdown",
   "metadata": {},
   "source": [
    "## Divide data into two groups: diabetic and non-diabetic patients"
   ]
  },
  {
   "cell_type": "code",
   "execution_count": 80,
   "metadata": {},
   "outputs": [],
   "source": [
    "diabetic = diabetic_data.loc[diabetic_data[\"Diabetes\"] == \"Yes\"]\n",
    "non_diabetic = diabetic_data.loc[diabetic_data[\"Diabetes\"] == \"No\"]"
   ]
  },
  {
   "cell_type": "markdown",
   "metadata": {},
   "source": [
    "## Perform a t test to compare IRS1 abundance levels "
   ]
  },
  {
   "cell_type": "code",
   "execution_count": 81,
   "metadata": {},
   "outputs": [
    {
     "name": "stdout",
     "output_type": "stream",
     "text": [
      "Unsignificant results: \n",
      "Ttest_indResult(statistic=-0.26829426355707425, pvalue=0.7890484901861422)\n"
     ]
    }
   ],
   "source": [
    "pcutoff = 0.05\n",
    "protein = 'IRS1'\n",
    "ttest = scipy.stats.ttest_ind(diabetic[protein], non_diabetic[protein])\n",
    "if(ttest[1] <= pcutoff):\n",
    "    sigResults.append(protein)\n",
    "    print(\"Test for \" + protein + \": \")\n",
    "    print(ttest) \n",
    "else: \n",
    "    print(\"Unsignificant results: \")\n",
    "    print(ttest)"
   ]
  },
  {
   "cell_type": "markdown",
   "metadata": {},
   "source": [
    "# PIK3CA mutation correlation with diabetes"
   ]
  },
  {
   "cell_type": "markdown",
   "metadata": {},
   "source": [
    "## Create a database of PIK3CA protein abundance and diabetic information."
   ]
  },
  {
   "cell_type": "code",
   "execution_count": 82,
   "metadata": {},
   "outputs": [],
   "source": [
    "diabetic_data = CPTAC.compare_clinical(clinical, proteomics, \"Diabetes\")\n",
    "diabetic_data = diabetic_data[['Diabetes', 'PIK3CA']]\n",
    "diabetic_data = diabetic_data[:100]"
   ]
  },
  {
   "cell_type": "markdown",
   "metadata": {},
   "source": [
    "## Divide data into two groups: diabetic and non-diabetic patients"
   ]
  },
  {
   "cell_type": "code",
   "execution_count": 83,
   "metadata": {},
   "outputs": [],
   "source": [
    "diabetic = diabetic_data.loc[diabetic_data[\"Diabetes\"] == \"Yes\"]\n",
    "non_diabetic = diabetic_data.loc[diabetic_data[\"Diabetes\"] == \"No\"]"
   ]
  },
  {
   "cell_type": "markdown",
   "metadata": {},
   "source": [
    "## Perform a t test to compare IRS1 abundance levels "
   ]
  },
  {
   "cell_type": "code",
   "execution_count": 84,
   "metadata": {},
   "outputs": [
    {
     "name": "stdout",
     "output_type": "stream",
     "text": [
      "Unsignificant results: \n",
      "Ttest_indResult(statistic=-1.2806933282044277, pvalue=0.2033868977823787)\n"
     ]
    }
   ],
   "source": [
    "pcutoff = 0.05\n",
    "protein = 'PIK3CA'\n",
    "ttest = scipy.stats.ttest_ind(diabetic[protein], non_diabetic[protein])\n",
    "if(ttest[1] <= pcutoff):\n",
    "    sigResults.append(protein)\n",
    "    print(\"Test for \" + protein + \": \")\n",
    "    print(ttest) \n",
    "else: \n",
    "    print(\"Unsignificant results: \")\n",
    "    print(ttest)"
   ]
  },
  {
   "cell_type": "markdown",
   "metadata": {},
   "source": [
    "## Conclusion: The data does not seem to show a significant difference in protein abundance levels for IRS1 or PIK3CA"
   ]
  },
  {
   "cell_type": "code",
   "execution_count": null,
   "metadata": {},
   "outputs": [],
   "source": []
  }
 ],
 "metadata": {
  "kernelspec": {
   "display_name": "Python 3",
   "language": "python",
   "name": "python3"
  },
  "language_info": {
   "codemirror_mode": {
    "name": "ipython",
    "version": 3
   },
   "file_extension": ".py",
   "mimetype": "text/x-python",
   "name": "python",
   "nbconvert_exporter": "python",
   "pygments_lexer": "ipython3",
   "version": "3.7.0"
  }
 },
 "nbformat": 4,
 "nbformat_minor": 2
}
