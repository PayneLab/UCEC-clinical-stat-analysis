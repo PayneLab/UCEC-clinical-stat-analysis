{
 "cells": [
  {
   "cell_type": "markdown",
   "metadata": {},
   "source": [
    "# Statistical Testing Templates for CPTAC Data"
   ]
  },
  {
   "cell_type": "markdown",
   "metadata": {},
   "source": [
    "<b>Standard imports for playing with and plotting data frames.</b>"
   ]
  },
  {
   "cell_type": "code",
   "execution_count": 1,
   "metadata": {},
   "outputs": [],
   "source": [
    "import pandas as pd\n",
    "import numpy as np\n",
    "import scipy.stats\n",
    "from scipy.stats import pearsonr\n",
    "import matplotlib.pyplot as plt\n",
    "import re\n",
    "import seaborn as sns\n",
    "import statsmodels.stats.multitest\n",
    "#import altair as alt\n",
    "#alt.renderers.enable('notebook') #Necessary for Altair to work"
   ]
  },
  {
   "cell_type": "code",
   "execution_count": 2,
   "metadata": {
    "scrolled": true
   },
   "outputs": [
    {
     "name": "stdout",
     "output_type": "stream",
     "text": [
      "Loading CPTAC data:\n",
      "Loading Dictionary...\n",
      "Loading Clinical Data...\n",
      "Loading Proteomics Data...\n",
      "Loading Transcriptomics Data...\n",
      "Loading CNA Data...\n",
      "Loading Phosphoproteomics Data...\n",
      "Loading Somatic Mutation Data...\n",
      "\n",
      " ******PLEASE READ******\n",
      "WARNING: This data is under a publication embargo until July 1, 2019.\n",
      "CPTAC is a community resource project and data are made available\n",
      "rapidly after generation for community research use. The embargo\n",
      "allows exploring and utilizing the data, but the data may not be in a\n",
      "publication until July 1, 2019. Please see\n",
      "https://proteomics.cancer.gov/data-portal/about/data-use-agreement or\n",
      "enter CPTAC.embargo() to open the webpage for more details.\n"
     ]
    }
   ],
   "source": [
    "import CPTAC"
   ]
  },
  {
   "cell_type": "code",
   "execution_count": 3,
   "metadata": {},
   "outputs": [
    {
     "name": "stdout",
     "output_type": "stream",
     "text": [
      "idx   AAAS-S495  AAAS-S541  AAAS-Y485  AACS-S618  AAED1-S12  AAGAB-S310  \\\n",
      "S001        NaN        NaN        NaN    -0.8810    -1.8100         NaN   \n",
      "S002        NaN        NaN        NaN        NaN     0.0840         NaN   \n",
      "S003   -0.20200        NaN        NaN        NaN    -1.8800         NaN   \n",
      "S004    0.25000        NaN        NaN        NaN        NaN         NaN   \n",
      "S005   -0.00200        NaN     -0.407        NaN        NaN         NaN   \n",
      "S006    0.55600    -0.0461        NaN        NaN     0.9410         NaN   \n",
      "S007        NaN        NaN        NaN        NaN     0.0796         NaN   \n",
      "S008    0.30000        NaN        NaN    -0.3710    -1.1400         NaN   \n",
      "S009    0.49000        NaN        NaN        NaN        NaN         NaN   \n",
      "S010   -0.23100     0.0108        NaN        NaN     0.2420         NaN   \n",
      "S011    0.26800        NaN        NaN        NaN    -0.1120         NaN   \n",
      "S012   -0.06200        NaN        NaN     1.8600    -1.4000         NaN   \n",
      "S013   -1.49000        NaN        NaN        NaN    -2.5900         NaN   \n",
      "S014    0.65400        NaN        NaN        NaN    -0.8780         NaN   \n",
      "S015    1.05000        NaN        NaN        NaN        NaN         NaN   \n",
      "S016    1.48000        NaN        NaN        NaN        NaN         NaN   \n",
      "S017    0.78900        NaN        NaN        NaN    -1.8500         NaN   \n",
      "S018        NaN        NaN        NaN     0.8440     0.2790         NaN   \n",
      "S019    0.15000        NaN        NaN        NaN    -0.3490         NaN   \n",
      "S020        NaN        NaN        NaN    -0.0311     0.8050         NaN   \n",
      "S021    0.46600        NaN        NaN        NaN        NaN         NaN   \n",
      "S022    0.62700        NaN        NaN     1.4000     0.6020       0.109   \n",
      "S023    0.59400        NaN        NaN     0.0000    -0.9820      -0.276   \n",
      "S024   -0.16200        NaN      0.140        NaN        NaN         NaN   \n",
      "S025    0.02400        NaN     -0.160        NaN        NaN         NaN   \n",
      "S026        NaN        NaN        NaN     0.2500    -0.7790         NaN   \n",
      "S027   -0.76900        NaN        NaN        NaN    -0.5320         NaN   \n",
      "S028   -0.01320        NaN        NaN        NaN        NaN         NaN   \n",
      "S029   -0.95700        NaN        NaN        NaN     0.2720         NaN   \n",
      "S030        NaN        NaN        NaN        NaN    -0.5100         NaN   \n",
      "...         ...        ...        ...        ...        ...         ...   \n",
      "S124        NaN        NaN        NaN    -0.6000     0.0738         NaN   \n",
      "S125   -0.27900        NaN        NaN        NaN    -1.5700         NaN   \n",
      "S126   -0.27000        NaN        NaN    -1.9800     0.0638      -0.397   \n",
      "S127   -0.34400        NaN        NaN        NaN    -0.9230         NaN   \n",
      "S128   -0.17000        NaN        NaN        NaN     0.5470         NaN   \n",
      "S129    0.00143        NaN        NaN        NaN     0.0314         NaN   \n",
      "S130   -0.30700        NaN        NaN        NaN        NaN         NaN   \n",
      "S131   -0.06095        NaN     -1.270        NaN        NaN         NaN   \n",
      "S132   -0.52200        NaN        NaN        NaN    -0.2160         NaN   \n",
      "S133   -0.15300        NaN        NaN        NaN        NaN         NaN   \n",
      "S134   -0.45100        NaN        NaN        NaN    -0.3900         NaN   \n",
      "S135   -1.43000        NaN        NaN        NaN        NaN         NaN   \n",
      "S136   -0.57700        NaN        NaN        NaN     0.8600         NaN   \n",
      "S137   -0.77700        NaN        NaN        NaN     0.4510         NaN   \n",
      "S138   -0.23800     0.0178        NaN        NaN     0.6310         NaN   \n",
      "S139    0.04210    -0.1220        NaN        NaN     0.2010         NaN   \n",
      "S140   -0.06860        NaN        NaN     0.0516     0.3260         NaN   \n",
      "S141   -0.77300        NaN        NaN     0.1650    -0.0185         NaN   \n",
      "S142   -0.67600        NaN        NaN    -0.2760    -0.4930         NaN   \n",
      "S143        NaN        NaN        NaN        NaN     0.3950         NaN   \n",
      "S144        NaN        NaN        NaN        NaN     0.5940         NaN   \n",
      "S145   -0.51000     0.0681        NaN        NaN     1.2000         NaN   \n",
      "S146    0.21500    -0.3010        NaN        NaN     0.7370         NaN   \n",
      "S147   -0.35900    -0.1910        NaN        NaN     0.1720         NaN   \n",
      "S148    0.06060    -0.1870        NaN        NaN     1.0400         NaN   \n",
      "S149   -0.27200    -0.1910        NaN        NaN     0.6310         NaN   \n",
      "S150    0.22300    -0.5170        NaN        NaN     0.5220         NaN   \n",
      "S151   -0.39400    -0.0108        NaN        NaN     1.0600         NaN   \n",
      "S152    0.14900     0.2560        NaN        NaN     0.9510         NaN   \n",
      "S153    0.07740    -0.1580        NaN        NaN    -0.3430         NaN   \n",
      "\n",
      "idx   AAGAB-S311  AAK1-S14  AAK1-S18  AAK1-S20    ...      ZZZ3-S397  \\\n",
      "S001         NaN       NaN -0.242000  -0.24200    ...       0.184000   \n",
      "S002         NaN  -1.11000 -0.383000  -1.09000    ...      -0.171000   \n",
      "S003         NaN       NaN  0.382000  -0.04160    ...            NaN   \n",
      "S004         NaN       NaN  0.634000   0.41840    ...       1.066000   \n",
      "S005         NaN       NaN       NaN  -0.55500    ...       0.139700   \n",
      "S006     0.42900   0.36200  0.697000  -0.05290    ...      -0.158750   \n",
      "S007         NaN  -1.09000 -0.090000  -0.47500    ...       0.104000   \n",
      "S008    -0.04130  -0.89900 -0.444000  -1.03000    ...      -0.165000   \n",
      "S009         NaN       NaN  0.398000   0.36500    ...       0.591850   \n",
      "S010    -0.71000  -0.25495 -0.398000  -0.17500    ...      -0.491500   \n",
      "S011         NaN       NaN  0.444000   0.08950    ...      -0.366000   \n",
      "S012     1.30000   0.16100  0.292000  -0.18800    ...      -0.423000   \n",
      "S013         NaN   0.96600  0.895000   0.31800    ...      -0.780000   \n",
      "S014         NaN  -0.73200 -0.423500  -0.33600    ...       0.036200   \n",
      "S015         NaN       NaN -0.272000   0.02850    ...       0.819050   \n",
      "S016         NaN       NaN       NaN   0.90600    ...       1.350000   \n",
      "S017         NaN       NaN -0.715000  -0.83600    ...            NaN   \n",
      "S018         NaN       NaN -0.355000   0.13400    ...       0.080500   \n",
      "S019         NaN  -0.26000 -0.383000  -0.13100    ...       0.199000   \n",
      "S020         NaN       NaN  0.578000   0.21100    ...      -0.221500   \n",
      "S021         NaN       NaN -0.098000   0.07750    ...       0.809850   \n",
      "S022         NaN       NaN -0.379000  -0.64700    ...       0.200500   \n",
      "S023         NaN       NaN -0.109000  -0.46400    ...       0.134000   \n",
      "S024         NaN       NaN       NaN  -0.83150    ...       0.189000   \n",
      "S025         NaN       NaN       NaN  -0.03192    ...       0.483500   \n",
      "S026         NaN       NaN -0.098200   0.32100    ...       0.166500   \n",
      "S027         NaN       NaN  0.410000  -0.15000    ...      -0.058400   \n",
      "S028         NaN       NaN  0.053100   0.35500    ...       0.247000   \n",
      "S029         NaN       NaN -0.077000   0.29700    ...      -0.264000   \n",
      "S030         NaN  -1.94000  0.125500  -0.89300    ...       0.303000   \n",
      "...          ...       ...       ...       ...    ...            ...   \n",
      "S124         NaN       NaN -0.343000  -0.29100    ...      -0.285535   \n",
      "S125         NaN       NaN -0.327000  -0.38600    ...            NaN   \n",
      "S126         NaN       NaN  0.000153  -0.54200    ...      -0.773500   \n",
      "S127         NaN       NaN -0.587000  -1.07000    ...      -0.663000   \n",
      "S128         NaN       NaN -0.482000   0.02300    ...      -0.592000   \n",
      "S129         NaN   0.41800  0.391500   1.00000    ...       0.315000   \n",
      "S130         NaN       NaN  0.336000  -0.34550    ...       0.285500   \n",
      "S131         NaN       NaN       NaN  -0.19800    ...      -0.171300   \n",
      "S132         NaN       NaN -0.579000   0.24900    ...      -0.305000   \n",
      "S133         NaN       NaN -0.651000   0.41250    ...       0.630500   \n",
      "S134         NaN       NaN  0.529000   0.52500    ...      -0.692000   \n",
      "S135         NaN   0.28700 -0.343000   0.26000    ...       0.097000   \n",
      "S136         NaN   0.47600  0.909000   0.49500    ...       0.427000   \n",
      "S137         NaN   0.00000  0.050050   0.02680    ...      -0.558000   \n",
      "S138    -1.04000   0.13950 -0.182000   0.23800    ...      -0.133300   \n",
      "S139    -0.64000  -0.50350 -0.460500  -0.83300    ...      -0.424000   \n",
      "S140    -1.22000  -0.26900  0.193000   0.01430    ...      -0.374000   \n",
      "S141    -0.44300   0.71600  0.318000   0.78000    ...      -0.298000   \n",
      "S142    -0.59200  -0.11900 -0.141000   0.07670    ...       0.032600   \n",
      "S143         NaN   0.25300  0.624000  -0.06630    ...      -0.009930   \n",
      "S144         NaN   0.99400  1.038500   0.88300    ...      -0.255000   \n",
      "S145    -0.29000       NaN -0.276000   0.00150    ...       0.135300   \n",
      "S146     0.45200       NaN  0.161000  -0.00150    ...       0.277000   \n",
      "S147     0.47900       NaN -0.027100   0.26200    ...       0.363700   \n",
      "S148     0.48900       NaN  0.591000  -0.23400    ...      -0.065000   \n",
      "S149     0.00947       NaN -0.466000   0.00761    ...       0.347000   \n",
      "S150     0.03120       NaN  0.473000  -0.19000    ...       0.249000   \n",
      "S151    -0.77300       NaN -0.290000   0.51900    ...       0.438500   \n",
      "S152    -0.17500       NaN -0.270000   0.44500    ...      -0.093050   \n",
      "S153     0.30200       NaN  0.193000   0.07340    ...       0.085450   \n",
      "\n",
      "idx   ZZZ3-S411  ZZZ3-S420  ZZZ3-S424  ZZZ3-S426  ZZZ3-S468  ZZZ3-S89  \\\n",
      "S001        NaN        NaN        NaN   -0.20500        NaN       NaN   \n",
      "S002        NaN        NaN    -0.3930   -0.17100        NaN    0.2900   \n",
      "S003        NaN        NaN        NaN        NaN        NaN       NaN   \n",
      "S004        NaN        NaN        NaN    0.32400        NaN       NaN   \n",
      "S005        NaN        NaN        NaN   -0.55900        NaN       NaN   \n",
      "S006        NaN        NaN     0.1960    0.06175        NaN       NaN   \n",
      "S007        NaN        NaN     0.0600    0.02640        NaN   -0.0895   \n",
      "S008        NaN        NaN        NaN   -0.16500        NaN       NaN   \n",
      "S009        NaN        NaN        NaN    0.21785        NaN       NaN   \n",
      "S010        NaN        NaN    -0.3020   -0.43400        NaN       NaN   \n",
      "S011        NaN        NaN        NaN        NaN        NaN       NaN   \n",
      "S012        NaN        NaN        NaN   -0.42300        NaN       NaN   \n",
      "S013        NaN   -2.61000        NaN   -0.24700        NaN       NaN   \n",
      "S014        NaN    0.03620        NaN    0.33300        NaN       NaN   \n",
      "S015        NaN        NaN        NaN    0.39005        NaN       NaN   \n",
      "S016     0.3640    1.35000        NaN    0.06600        NaN       NaN   \n",
      "S017        NaN        NaN        NaN        NaN        NaN       NaN   \n",
      "S018        NaN        NaN        NaN   -0.10900        NaN       NaN   \n",
      "S019        NaN   -0.50500        NaN    0.26100        NaN       NaN   \n",
      "S020        NaN        NaN        NaN   -0.54500        NaN       NaN   \n",
      "S021        NaN        NaN        NaN    0.42435        NaN       NaN   \n",
      "S022        NaN        NaN     0.2710    0.27100        NaN       NaN   \n",
      "S023        NaN        NaN     0.3200    0.32000        NaN       NaN   \n",
      "S024        NaN        NaN        NaN    0.38600        NaN       NaN   \n",
      "S025        NaN        NaN        NaN    0.05310        NaN       NaN   \n",
      "S026        NaN        NaN        NaN   -0.25300        NaN       NaN   \n",
      "S027        NaN        NaN        NaN        NaN        NaN       NaN   \n",
      "S028        NaN        NaN        NaN    0.19150        NaN       NaN   \n",
      "S029        NaN    0.00287    -1.1200   -1.12000        NaN       NaN   \n",
      "S030        NaN        NaN    -0.8970    0.14400        NaN   -0.8340   \n",
      "...         ...        ...        ...        ...        ...       ...   \n",
      "S124        NaN        NaN        NaN   -0.58100        NaN       NaN   \n",
      "S125        NaN        NaN        NaN        NaN        NaN       NaN   \n",
      "S126        NaN        NaN    -1.6200   -1.34000        NaN       NaN   \n",
      "S127        NaN        NaN        NaN   -0.66300        NaN       NaN   \n",
      "S128        NaN        NaN     0.6040    0.29300        NaN       NaN   \n",
      "S129        NaN   -0.24100        NaN    0.58500        NaN       NaN   \n",
      "S130        NaN        NaN        NaN    0.14950        NaN       NaN   \n",
      "S131        NaN        NaN        NaN    0.16400        NaN       NaN   \n",
      "S132        NaN        NaN        NaN        NaN        NaN       NaN   \n",
      "S133        NaN        NaN        NaN    0.25100        NaN       NaN   \n",
      "S134        NaN        NaN        NaN        NaN        NaN       NaN   \n",
      "S135        NaN        NaN        NaN    0.09700        NaN       NaN   \n",
      "S136        NaN   -0.51500        NaN    0.42700        NaN       NaN   \n",
      "S137        NaN   -0.55800        NaN    1.03000        NaN       NaN   \n",
      "S138        NaN        NaN    -0.0636   -0.05550        NaN       NaN   \n",
      "S139        NaN        NaN     0.1180   -0.11450        NaN       NaN   \n",
      "S140        NaN        NaN        NaN   -0.12700        NaN       NaN   \n",
      "S141        NaN        NaN        NaN   -0.29800        NaN       NaN   \n",
      "S142        NaN        NaN        NaN   -0.25000        NaN       NaN   \n",
      "S143        NaN        NaN    -0.2540   -0.23400        NaN    0.0149   \n",
      "S144        NaN        NaN     0.0158   -0.10700        NaN    0.1090   \n",
      "S145     0.3710        NaN        NaN   -0.15870        NaN       NaN   \n",
      "S146     0.3250        NaN        NaN    0.16085        NaN       NaN   \n",
      "S147    -0.1200        NaN        NaN    0.26100        NaN       NaN   \n",
      "S148    -0.4130        NaN        NaN   -0.13200        NaN       NaN   \n",
      "S149     0.0000        NaN        NaN   -0.05100        NaN       NaN   \n",
      "S150     0.1790        NaN        NaN   -0.03150        NaN       NaN   \n",
      "S151    -0.1220        NaN        NaN    0.24050        NaN       NaN   \n",
      "S152    -0.3540        NaN        NaN   -0.01490        NaN       NaN   \n",
      "S153     0.0216        NaN        NaN   -0.06500        NaN       NaN   \n",
      "\n",
      "idx   ZZZ3-T415  ZZZ3-T418  ZZZ3-Y399  \n",
      "S001        NaN        NaN        NaN  \n",
      "S002        NaN     0.1605   -0.06350  \n",
      "S003        NaN        NaN        NaN  \n",
      "S004        NaN        NaN        NaN  \n",
      "S005        NaN        NaN    0.29800  \n",
      "S006        NaN        NaN   -0.29000  \n",
      "S007        NaN    -0.1335   -0.13350  \n",
      "S008  -0.027500        NaN   -0.11600  \n",
      "S009        NaN        NaN        NaN  \n",
      "S010        NaN        NaN   -0.64300  \n",
      "S011        NaN        NaN        NaN  \n",
      "S012  -0.218000        NaN   -0.50400  \n",
      "S013        NaN        NaN        NaN  \n",
      "S014        NaN        NaN        NaN  \n",
      "S015        NaN        NaN        NaN  \n",
      "S016        NaN        NaN        NaN  \n",
      "S017        NaN        NaN        NaN  \n",
      "S018        NaN        NaN        NaN  \n",
      "S019        NaN        NaN        NaN  \n",
      "S020        NaN        NaN        NaN  \n",
      "S021        NaN        NaN        NaN  \n",
      "S022        NaN        NaN        NaN  \n",
      "S023        NaN        NaN        NaN  \n",
      "S024        NaN        NaN    0.59600  \n",
      "S025        NaN        NaN    0.69300  \n",
      "S026        NaN        NaN        NaN  \n",
      "S027        NaN        NaN        NaN  \n",
      "S028        NaN        NaN        NaN  \n",
      "S029        NaN    -1.4600    0.00287  \n",
      "S030        NaN     0.5500    0.28550  \n",
      "...         ...        ...        ...  \n",
      "S124        NaN        NaN        NaN  \n",
      "S125        NaN        NaN        NaN  \n",
      "S126        NaN        NaN        NaN  \n",
      "S127        NaN        NaN        NaN  \n",
      "S128        NaN        NaN        NaN  \n",
      "S129        NaN        NaN        NaN  \n",
      "S130        NaN        NaN        NaN  \n",
      "S131        NaN        NaN    0.02040  \n",
      "S132        NaN        NaN        NaN  \n",
      "S133        NaN        NaN        NaN  \n",
      "S134        NaN        NaN        NaN  \n",
      "S135        NaN        NaN    0.06290  \n",
      "S136        NaN        NaN        NaN  \n",
      "S137        NaN        NaN        NaN  \n",
      "S138        NaN        NaN   -0.24600  \n",
      "S139        NaN        NaN   -0.50100  \n",
      "S140   0.092800        NaN   -0.37400  \n",
      "S141  -0.063700        NaN    0.00000  \n",
      "S142  -0.000028        NaN    0.03260  \n",
      "S143        NaN    -0.3685   -0.26350  \n",
      "S144        NaN    -0.4385   -0.22950  \n",
      "S145        NaN        NaN    0.37100  \n",
      "S146        NaN        NaN    0.32500  \n",
      "S147        NaN        NaN   -0.12000  \n",
      "S148        NaN        NaN   -0.41300  \n",
      "S149        NaN        NaN    0.00000  \n",
      "S150        NaN        NaN    0.17900  \n",
      "S151        NaN        NaN   -0.12200  \n",
      "S152        NaN        NaN   -0.35400  \n",
      "S153        NaN        NaN    0.02160  \n",
      "\n",
      "[153 rows x 73212 columns]\n"
     ]
    }
   ],
   "source": [
    "somatic_mutations = CPTAC.get_somatic()\n",
    "proteomics = CPTAC.get_proteomics()\n",
    "phos = CPTAC.get_phosphoproteomics()\n",
    "\n",
    "print(phos)\n",
    "\n",
    "#Try Looking at all proteins, not just interacting proteins\n",
    "all_proteins = list(proteomics.columns.values)\n",
    "#print(len(all_proteins))\n",
    "#print(all_proteins)"
   ]
  },
  {
   "cell_type": "markdown",
   "metadata": {},
   "source": [
    "## t-test for effects of all mutations combined\n",
    "<b>Note:</b> You can put any number of proteins in the list and it will compare that gene with the protein levels of all of them"
   ]
  },
  {
   "cell_type": "markdown",
   "metadata": {},
   "source": [
    "### List of interacting proteins (according to STRING and Uniprot)"
   ]
  },
  {
   "cell_type": "code",
   "execution_count": 4,
   "metadata": {},
   "outputs": [],
   "source": [
    "#Build the protein list; this may have only a single protein if desired\n",
    "protList = ['IRS1', 'IRS2', 'RRAS', 'AKT2', 'NRAS', 'PTEN', 'AKT1', 'MRAS', 'HRAS', 'RPS6KB1', 'PIK3R1', 'PKC', 'MTOR', 'S6K', 'MAPK', 'ERBB3', 'P85A', 'P55G', 'CDK5']\n",
    "protList = all_proteins"
   ]
  },
  {
   "cell_type": "code",
   "execution_count": null,
   "metadata": {
    "scrolled": false
   },
   "outputs": [
    {
     "name": "stderr",
     "output_type": "stream",
     "text": [
      "/anaconda3/lib/python3.6/site-packages/numpy/core/fromnumeric.py:3157: RuntimeWarning: Degrees of freedom <= 0 for slice\n",
      "  **kwargs)\n",
      "/anaconda3/lib/python3.6/site-packages/numpy/core/_methods.py:132: RuntimeWarning: invalid value encountered in double_scalars\n",
      "  ret = ret.dtype.type(ret / rcount)\n"
     ]
    }
   ],
   "source": [
    "gene = 'PIK3CA'\n",
    "tested = [];\n",
    "p_vals = [];\n",
    "for protein in protList: \n",
    "    if protein in proteomics.columns:\n",
    "        tested.append(protein)\n",
    "        cross = CPTAC.compare_mutations(proteomics, protein, gene)\n",
    "        cross = cross[:100]\n",
    "        cross = cross[[\"Mutation\", protein]].dropna(axis=0)\n",
    "        mutated = cross.loc[cross[\"Mutation\"] != \"Wildtype\"]\n",
    "        wt = cross.loc[cross[\"Mutation\"] == \"Wildtype\"]\n",
    "        ttest = scipy.stats.ttest_ind(mutated[protein], wt[protein])\n",
    "        p_vals.append(ttest[1])"
   ]
  },
  {
   "cell_type": "code",
   "execution_count": null,
   "metadata": {},
   "outputs": [
    {
     "name": "stderr",
     "output_type": "stream",
     "text": [
      "/anaconda3/lib/python3.6/site-packages/statsmodels/stats/multitest.py:320: RuntimeWarning: invalid value encountered in less_equal\n",
      "  reject = pvals_sorted <= ecdffactor*alpha\n"
     ]
    }
   ],
   "source": [
    "areSignificant = statsmodels.stats.multitest.fdrcorrection(p_vals)[0]\n",
    "pvals = statsmodels.stats.multitest.fdrcorrection(p_vals)[1]\n",
    "significant_proteins = np.array(tested)[np.array(areSignificant)]\n",
    "significant_pvals = np.array(pvals)[np.array(areSignificant)]"
   ]
  },
  {
   "cell_type": "code",
   "execution_count": null,
   "metadata": {},
   "outputs": [
    {
     "name": "stdout",
     "output_type": "stream",
     "text": [
      "[]\n",
      "[]\n"
     ]
    }
   ],
   "source": [
    "print(significant_proteins)\n",
    "print(significant_pvals)"
   ]
  },
  {
   "cell_type": "markdown",
   "metadata": {},
   "source": [
    "### Test for phosphorylation levels (mutation in any gene with phosphorylation of any protein)"
   ]
  },
  {
   "cell_type": "code",
   "execution_count": null,
   "metadata": {},
   "outputs": [],
   "source": [
    "#List of proteins (will test all phosphorylation sites on these proteins)\n",
    "phosProtList = protList"
   ]
  },
  {
   "cell_type": "code",
   "execution_count": null,
   "metadata": {},
   "outputs": [],
   "source": [
    "sites = phos.columns\n",
    "p_values = []\n",
    "site_names = []\n",
    "\n",
    "for protein in phosProtList:\n",
    "    pattern = re.compile(protein)\n",
    "    isInList = filter(pattern.search, sites)\n",
    "    if next(isInList, None) is not None:\n",
    "        phosphositesdf = CPTAC.compare_mutations(phos, protein, gene)\n",
    "        phosphositesdf = phosphositesdf.loc[phosphositesdf['Patient_Type'] == 'Tumor'].drop('Patient_Type', axis = 1)\n",
    "        for site in phosphositesdf.columns:\n",
    "            if (site is not 'Mutation'):\n",
    "                sitedf = CPTAC.compare_mutations(phos, site, gene)\n",
    "                mutateddf = sitedf.loc[sitedf['Mutation'] != 'Wildtype'].dropna(axis=0)\n",
    "                wtdf = sitedf.loc[sitedf['Mutation'] == 'Wildtype'].dropna(axis=0)\n",
    "                ttest = scipy.stats.ttest_ind(mutateddf[site], wtdf[site])\n",
    "                p_values.append(ttest[1])\n",
    "                site_names.append(site)     \n",
    "\n",
    "\n",
    "\n",
    "#We need to remove all 'nan' p-values and their corresponding site names before passing it in for the fdr correction\n",
    "indexesToRemove=[]\n",
    "\n",
    "for index in range(0, len(p_values)):\n",
    "    if np.isnan(p_values[index]):\n",
    "        indexesToRemove.append(index)\n",
    "\n",
    "for rem in range( len(indexesToRemove)-1, -1, -1):\n",
    "    p_values.pop(indexesToRemove[rem])\n",
    "    site_names.pop(indexesToRemove[rem])\n",
    "#p_values and site names have now had all entries removed where the corresponding p-value is 'nan'\n",
    "\n",
    "print(p_values)\n",
    "print(site_names)\n",
    "\n",
    "sum = 0\n",
    "for p in p_values:\n",
    "    sum += p\n",
    "avg = sum/len(p_values)\n",
    "\n",
    "print(\"AVG p_val = \", avg)\n",
    "        \n"
   ]
  },
  {
   "cell_type": "markdown",
   "metadata": {},
   "source": [
    "### Seeing significance of P values using bonferroni correction"
   ]
  },
  {
   "cell_type": "code",
   "execution_count": null,
   "metadata": {},
   "outputs": [],
   "source": [
    "threshold_pval = .05/len(phosProtList)\n",
    "print(\"threshold_pval: \", threshold_pval)\n",
    "bonferonni_corrected_pvals = list()\n",
    "bonferonni_sig_sites = list()\n",
    "for ind in range(0, len(p_values)):\n",
    "    if p_values[ind] <= threshold_pval:\n",
    "        bonferonni_corrected_pvals.append(p_values[ind])\n",
    "        bonferonni_sig_sites.append(site_names[ind])\n",
    "        \n",
    "\n",
    "        \n",
    "bf_significant_vals = dict(zip(bonferonni_sig_sites, bonferonni_corrected_pvals))"
   ]
  },
  {
   "cell_type": "markdown",
   "metadata": {},
   "source": [
    "### Print signifcant p-values"
   ]
  },
  {
   "cell_type": "code",
   "execution_count": null,
   "metadata": {},
   "outputs": [],
   "source": [
    "print(\"\\nSignificant P-values from Bonferroni: \", bonferonni_corrected_pvals)\n",
    "print(\"\\nSignificant Sites from Bonferroni: \", bonferonni_sig_sites)\n",
    "print(\"\\nSignificant values: \", bf_significant_vals)"
   ]
  },
  {
   "cell_type": "markdown",
   "metadata": {},
   "source": [
    "### Use FDR Correction"
   ]
  },
  {
   "cell_type": "code",
   "execution_count": null,
   "metadata": {},
   "outputs": [],
   "source": [
    "pvalues = statsmodels.stats.multitest.fdrcorrection(p_values,alpha=0.05, method='indep')[1]         \n",
    "areSignificant = statsmodels.stats.multitest.fdrcorrection(p_values,alpha=0.05, method='indep')[0]\n",
    "\n",
    "significant_sites = np.array(site_names)[np.array(areSignificant)]\n",
    "significant_pvalues = np.array(pvalues)[np.array(areSignificant)]\n",
    "significant_vals = dict(zip(significant_sites, significant_pvalues))\n",
    "\n",
    "\n",
    "print(\"\\nSignificant P-vals (FDR): \", significant_pvalues)\n",
    "print(\"\\nSignificant sites (FDR): \", significant_sites)\n",
    "print(\"\\nSignificant values (FDR): \", significant_vals)"
   ]
  },
  {
   "cell_type": "markdown",
   "metadata": {},
   "source": [
    "### Plot phosphorylation levels and gene mutation\n",
    "<b>Note:</b> There may be fewer data points due to NA values"
   ]
  },
  {
   "cell_type": "code",
   "execution_count": null,
   "metadata": {},
   "outputs": [],
   "source": [
    "#Specify the gene and the site; you may use a string to specify the site or reference the significant results above\n",
    "\n",
    "index_min = significant_pvalues.tolist().index(min(significant_pvalues))\n",
    "print(\"INDEX MIN: \", index_min, \" PVAL: \", significant_pvalues[index_min])\n",
    "gene = 'PIK3CA'\n",
    "site = significant_sites[index_min]\n",
    "print(\"SIGNIFICANT SITES LENGTH: \", len(significant_sites))\n",
    "\n",
    "#print(somatic_mutations)\n",
    "\n",
    "#Build the dataframe for plotting\n",
    "#genedf = somatic_mutations[gene].to_frame()\n",
    "genedf = CPTAC.compare_mutations(phos, site, gene)\n",
    "\n",
    "print(genedf)\n",
    "#sites = phos.filter(regex=site)\n",
    "#genedf = genedf.add(sites, fill_value=0)\n",
    "\n",
    "phos_boxplot = sns.boxplot(data=genedf, x=\"Mutation\" ,y=site)\n",
    "phos_boxplot.set_title(gene + \" gene mutation and \" + site + \" phosphorylation levels\")\n",
    "phos_boxplot = sns.stripplot(data=genedf, x=\"Mutation\", y=site,jitter=True, color=\".3\")\n",
    "phos_boxplot.set(xlabel=\"Somatic Gene Mutation\",ylabel=\"Phosphoproteomics\")"
   ]
  },
  {
   "cell_type": "code",
   "execution_count": null,
   "metadata": {},
   "outputs": [],
   "source": []
  }
 ],
 "metadata": {
  "kernelspec": {
   "display_name": "Python 3",
   "language": "python",
   "name": "python3"
  },
  "language_info": {
   "codemirror_mode": {
    "name": "ipython",
    "version": 3
   },
   "file_extension": ".py",
   "mimetype": "text/x-python",
   "name": "python",
   "nbconvert_exporter": "python",
   "pygments_lexer": "ipython3",
   "version": "3.6.8"
  }
 },
 "nbformat": 4,
 "nbformat_minor": 2
}
