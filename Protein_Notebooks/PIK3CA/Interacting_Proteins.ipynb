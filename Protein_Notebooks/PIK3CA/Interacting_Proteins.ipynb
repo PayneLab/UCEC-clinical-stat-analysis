{
 "cells": [
  {
   "cell_type": "markdown",
   "metadata": {},
   "source": [
    "# Statistical Testing Templates for CPTAC Data"
   ]
  },
  {
   "cell_type": "markdown",
   "metadata": {},
   "source": [
    "<b>Standard imports for playing with and plotting data frames.</b>"
   ]
  },
  {
   "cell_type": "code",
   "execution_count": 1,
   "metadata": {},
   "outputs": [],
   "source": [
    "import pandas as pd\n",
    "import numpy as np\n",
    "import scipy.stats\n",
    "from scipy.stats import pearsonr\n",
    "import matplotlib.pyplot as plt\n",
    "import re\n",
    "import seaborn as sns\n",
    "import statsmodels.stats.multitest\n",
    "#import altair as alt\n",
    "#alt.renderers.enable('notebook') #Necessary for Altair to work"
   ]
  },
  {
   "cell_type": "code",
   "execution_count": 2,
   "metadata": {
    "scrolled": true
   },
   "outputs": [
    {
     "name": "stdout",
     "output_type": "stream",
     "text": [
      "Loading CPTAC data:\n",
      "Loading Dictionary...\n",
      "Loading Clinical Data...\n",
      "Loading Proteomics Data...\n",
      "Loading Transcriptomics Data...\n",
      "Loading CNA Data...\n",
      "Loading Phosphoproteomics Data...\n",
      "Loading Somatic Mutation Data...\n",
      "\n",
      " ******PLEASE READ******\n",
      "WARNING: This data is under a publication embargo until July 1, 2019.\n",
      "CPTAC is a community resource project and data are made available\n",
      "rapidly after generation for community research use. The embargo\n",
      "allows exploring and utilizing the data, but the data may not be in a\n",
      "publication until July 1, 2019. Please see\n",
      "https://proteomics.cancer.gov/data-portal/about/data-use-agreement or\n",
      "enter CPTAC.embargo() to open the webpage for more details.\n"
     ]
    }
   ],
   "source": [
    "import CPTAC"
   ]
  },
  {
   "cell_type": "code",
   "execution_count": 3,
   "metadata": {},
   "outputs": [],
   "source": [
    "somatic_mutations = CPTAC.get_somatic()\n",
    "proteomics = CPTAC.get_proteomics()\n",
    "phos = CPTAC.get_phosphoproteomics()\n",
    "\n",
    "#print(phos)\n",
    "\n",
    "#Try Looking at all proteins, not just interacting proteins\n",
    "all_proteins = list(proteomics.columns.values)"
   ]
  },
  {
   "cell_type": "markdown",
   "metadata": {},
   "source": [
    "## t-test for effects of all mutations combined\n",
    "<b>Note:</b> You can put any number of proteins in the list and it will compare that gene with the protein levels of all of them"
   ]
  },
  {
   "cell_type": "markdown",
   "metadata": {},
   "source": [
    "### List of interacting proteins (according to STRING and Uniprot)"
   ]
  },
  {
   "cell_type": "code",
   "execution_count": 4,
   "metadata": {},
   "outputs": [],
   "source": [
    "#Build the protein list; this may have only a single protein if desired\n",
    "#protList = ['IRS1', 'IRS2', 'RRAS', 'AKT2', 'NRAS', 'PTEN', 'AKT1', 'MRAS', 'HRAS', 'RPS6KB1', 'PIK3R1', 'PKC', 'MTOR', 'S6K', 'MAPK', 'ERBB3', 'P85A', 'P55G', 'CDK5']\n",
    "protList = all_proteins\n",
    "#protList = ['AHNAK','PPP1R12A']"
   ]
  },
  {
   "cell_type": "code",
   "execution_count": 7,
   "metadata": {
    "scrolled": false
   },
   "outputs": [
    {
     "ename": "KeyboardInterrupt",
     "evalue": "",
     "output_type": "error",
     "traceback": [
      "\u001b[0;31m---------------------------------------------------------------------------\u001b[0m",
      "\u001b[0;31mKeyboardInterrupt\u001b[0m                         Traceback (most recent call last)",
      "\u001b[0;32m<ipython-input-7-ff5187654496>\u001b[0m in \u001b[0;36m<module>\u001b[0;34m\u001b[0m\n\u001b[1;32m      5\u001b[0m     \u001b[0;32mif\u001b[0m \u001b[0mprotein\u001b[0m \u001b[0;32min\u001b[0m \u001b[0mproteomics\u001b[0m\u001b[0;34m.\u001b[0m\u001b[0mcolumns\u001b[0m\u001b[0;34m:\u001b[0m\u001b[0;34m\u001b[0m\u001b[0;34m\u001b[0m\u001b[0m\n\u001b[1;32m      6\u001b[0m         \u001b[0mtested\u001b[0m\u001b[0;34m.\u001b[0m\u001b[0mappend\u001b[0m\u001b[0;34m(\u001b[0m\u001b[0mprotein\u001b[0m\u001b[0;34m)\u001b[0m\u001b[0;34m\u001b[0m\u001b[0;34m\u001b[0m\u001b[0m\n\u001b[0;32m----> 7\u001b[0;31m         \u001b[0mcross\u001b[0m \u001b[0;34m=\u001b[0m \u001b[0mCPTAC\u001b[0m\u001b[0;34m.\u001b[0m\u001b[0mcompare_mutations\u001b[0m\u001b[0;34m(\u001b[0m\u001b[0mproteomics\u001b[0m\u001b[0;34m,\u001b[0m \u001b[0mprotein\u001b[0m\u001b[0;34m,\u001b[0m \u001b[0mgene\u001b[0m\u001b[0;34m)\u001b[0m\u001b[0;34m\u001b[0m\u001b[0;34m\u001b[0m\u001b[0m\n\u001b[0m\u001b[1;32m      8\u001b[0m         \u001b[0mcross\u001b[0m \u001b[0;34m=\u001b[0m \u001b[0mcross\u001b[0m\u001b[0;34m[\u001b[0m\u001b[0;34m:\u001b[0m\u001b[0;36m100\u001b[0m\u001b[0;34m]\u001b[0m\u001b[0;34m\u001b[0m\u001b[0;34m\u001b[0m\u001b[0m\n\u001b[1;32m      9\u001b[0m         \u001b[0mcross\u001b[0m \u001b[0;34m=\u001b[0m \u001b[0mcross\u001b[0m\u001b[0;34m[\u001b[0m\u001b[0;34m[\u001b[0m\u001b[0;34m\"Mutation\"\u001b[0m\u001b[0;34m,\u001b[0m \u001b[0mprotein\u001b[0m\u001b[0;34m]\u001b[0m\u001b[0;34m]\u001b[0m\u001b[0;34m.\u001b[0m\u001b[0mdropna\u001b[0m\u001b[0;34m(\u001b[0m\u001b[0maxis\u001b[0m\u001b[0;34m=\u001b[0m\u001b[0;36m0\u001b[0m\u001b[0;34m)\u001b[0m\u001b[0;34m\u001b[0m\u001b[0;34m\u001b[0m\u001b[0m\n",
      "\u001b[0;32m~/anaconda3/envs/research/lib/python3.7/site-packages/CPTAC/__init__.py\u001b[0m in \u001b[0;36mcompare_mutations\u001b[0;34m(omics_data, omics_gene, mutations_gene)\u001b[0m\n\u001b[1;32m    356\u001b[0m     \"\"\"\n\u001b[1;32m    357\u001b[0m     \u001b[0;32mif\u001b[0m \u001b[0mmutations_gene\u001b[0m\u001b[0;34m:\u001b[0m\u001b[0;34m\u001b[0m\u001b[0;34m\u001b[0m\u001b[0m\n\u001b[0;32m--> 358\u001b[0;31m         \u001b[0;32mreturn\u001b[0m \u001b[0mUtilities\u001b[0m\u001b[0;34m(\u001b[0m\u001b[0;34m)\u001b[0m\u001b[0;34m.\u001b[0m\u001b[0mmerge_mutations_trans\u001b[0m\u001b[0;34m(\u001b[0m\u001b[0momics_data\u001b[0m\u001b[0;34m,\u001b[0m \u001b[0momics_gene\u001b[0m\u001b[0;34m,\u001b[0m \u001b[0msomatic_maf\u001b[0m\u001b[0;34m,\u001b[0m \u001b[0mmutations_gene\u001b[0m\u001b[0;34m)\u001b[0m\u001b[0;34m\u001b[0m\u001b[0;34m\u001b[0m\u001b[0m\n\u001b[0m\u001b[1;32m    359\u001b[0m     \u001b[0;32melse\u001b[0m\u001b[0;34m:\u001b[0m\u001b[0;34m\u001b[0m\u001b[0;34m\u001b[0m\u001b[0m\n\u001b[1;32m    360\u001b[0m         \u001b[0;32mreturn\u001b[0m \u001b[0mUtilities\u001b[0m\u001b[0;34m(\u001b[0m\u001b[0;34m)\u001b[0m\u001b[0;34m.\u001b[0m\u001b[0mmerge_mutations\u001b[0m\u001b[0;34m(\u001b[0m\u001b[0momics_data\u001b[0m\u001b[0;34m,\u001b[0m \u001b[0msomatic_maf\u001b[0m\u001b[0;34m,\u001b[0m \u001b[0momics_gene\u001b[0m\u001b[0;34m)\u001b[0m\u001b[0;34m\u001b[0m\u001b[0;34m\u001b[0m\u001b[0m\n",
      "\u001b[0;32m~/anaconda3/envs/research/lib/python3.7/site-packages/CPTAC/utilities.py\u001b[0m in \u001b[0;36mmerge_mutations_trans\u001b[0;34m(self, omics, omicsGene, somatic, somaticGene, duplicates)\u001b[0m\n\u001b[1;32m    161\u001b[0m                 \u001b[0;32mreturn\u001b[0m \u001b[0mself\u001b[0m\u001b[0;34m.\u001b[0m\u001b[0mmerge_somatic\u001b[0m\u001b[0;34m(\u001b[0m\u001b[0msomatic\u001b[0m\u001b[0;34m,\u001b[0m \u001b[0msomaticGene\u001b[0m\u001b[0;34m,\u001b[0m \u001b[0momics_gene_df\u001b[0m\u001b[0;34m,\u001b[0m \u001b[0mmultiple_mutations\u001b[0m \u001b[0;34m=\u001b[0m \u001b[0;32mTrue\u001b[0m\u001b[0;34m)\u001b[0m\u001b[0;34m\u001b[0m\u001b[0;34m\u001b[0m\u001b[0m\n\u001b[1;32m    162\u001b[0m             \u001b[0;32melse\u001b[0m\u001b[0;34m:\u001b[0m\u001b[0;34m\u001b[0m\u001b[0;34m\u001b[0m\u001b[0m\n\u001b[0;32m--> 163\u001b[0;31m                 \u001b[0;32mreturn\u001b[0m \u001b[0mself\u001b[0m\u001b[0;34m.\u001b[0m\u001b[0mmerge_somatic\u001b[0m\u001b[0;34m(\u001b[0m\u001b[0msomatic\u001b[0m\u001b[0;34m,\u001b[0m \u001b[0msomaticGene\u001b[0m\u001b[0;34m,\u001b[0m \u001b[0momics_gene_df\u001b[0m\u001b[0;34m)\u001b[0m\u001b[0;34m[\u001b[0m\u001b[0;34m[\u001b[0m\u001b[0momicsGene\u001b[0m\u001b[0;34m,\u001b[0m \u001b[0;34m\"Mutation\"\u001b[0m\u001b[0;34m,\u001b[0m \u001b[0;34m\"Patient_Type\"\u001b[0m\u001b[0;34m]\u001b[0m\u001b[0;34m]\u001b[0m\u001b[0;34m\u001b[0m\u001b[0;34m\u001b[0m\u001b[0m\n\u001b[0m\u001b[1;32m    164\u001b[0m         \u001b[0;32melif\u001b[0m \u001b[0momics\u001b[0m\u001b[0;34m.\u001b[0m\u001b[0mname\u001b[0m\u001b[0;34m.\u001b[0m\u001b[0msplit\u001b[0m\u001b[0;34m(\u001b[0m\u001b[0;34m\"_\"\u001b[0m\u001b[0;34m)\u001b[0m\u001b[0;34m[\u001b[0m\u001b[0;36m0\u001b[0m\u001b[0;34m]\u001b[0m \u001b[0;34m==\u001b[0m \u001b[0;34m\"phosphoproteomics\"\u001b[0m\u001b[0;34m:\u001b[0m\u001b[0;34m\u001b[0m\u001b[0;34m\u001b[0m\u001b[0m\n\u001b[1;32m    165\u001b[0m             \u001b[0mphosphosites\u001b[0m \u001b[0;34m=\u001b[0m \u001b[0mself\u001b[0m\u001b[0;34m.\u001b[0m\u001b[0mget_phosphosites\u001b[0m\u001b[0;34m(\u001b[0m\u001b[0momics\u001b[0m\u001b[0;34m,\u001b[0m \u001b[0momicsGene\u001b[0m\u001b[0;34m)\u001b[0m\u001b[0;34m\u001b[0m\u001b[0;34m\u001b[0m\u001b[0m\n",
      "\u001b[0;32m~/anaconda3/envs/research/lib/python3.7/site-packages/CPTAC/utilities.py\u001b[0m in \u001b[0;36mmerge_somatic\u001b[0;34m(self, somatic, gene, df_gene, multiple_mutations)\u001b[0m\n\u001b[1;32m     48\u001b[0m         \u001b[0mDataframe\u001b[0m \u001b[0mof\u001b[0m \u001b[0mmerged\u001b[0m \u001b[0msomatic\u001b[0m \u001b[0;32mand\u001b[0m \u001b[0momics\u001b[0m \u001b[0mdataframes\u001b[0m \u001b[0mbased\u001b[0m \u001b[0mon\u001b[0m \u001b[0mgene\u001b[0m \u001b[0mprovided\u001b[0m\u001b[0;34m\u001b[0m\u001b[0;34m\u001b[0m\u001b[0m\n\u001b[1;32m     49\u001b[0m         \"\"\"\n\u001b[0;32m---> 50\u001b[0;31m         \u001b[0;32mif\u001b[0m \u001b[0msum\u001b[0m\u001b[0;34m(\u001b[0m\u001b[0msomatic\u001b[0m\u001b[0;34m[\u001b[0m\u001b[0;34m\"Gene\"\u001b[0m\u001b[0;34m]\u001b[0m \u001b[0;34m==\u001b[0m \u001b[0mgene\u001b[0m\u001b[0;34m)\u001b[0m \u001b[0;34m>\u001b[0m \u001b[0;36m0\u001b[0m\u001b[0;34m:\u001b[0m\u001b[0;34m\u001b[0m\u001b[0;34m\u001b[0m\u001b[0m\n\u001b[0m\u001b[1;32m     51\u001b[0m             \u001b[0msomatic_gene\u001b[0m \u001b[0;34m=\u001b[0m \u001b[0msomatic\u001b[0m\u001b[0;34m[\u001b[0m\u001b[0msomatic\u001b[0m\u001b[0;34m[\u001b[0m\u001b[0;34m\"Gene\"\u001b[0m\u001b[0;34m]\u001b[0m \u001b[0;34m==\u001b[0m \u001b[0mgene\u001b[0m\u001b[0;34m]\u001b[0m\u001b[0;34m\u001b[0m\u001b[0;34m\u001b[0m\u001b[0m\n\u001b[1;32m     52\u001b[0m             \u001b[0msomatic_gene\u001b[0m \u001b[0;34m=\u001b[0m \u001b[0msomatic_gene\u001b[0m\u001b[0;34m.\u001b[0m\u001b[0mdrop\u001b[0m\u001b[0;34m(\u001b[0m\u001b[0mcolumns\u001b[0m \u001b[0;34m=\u001b[0m \u001b[0;34m[\u001b[0m\u001b[0;34m\"Gene\"\u001b[0m\u001b[0;34m]\u001b[0m\u001b[0;34m)\u001b[0m\u001b[0;34m\u001b[0m\u001b[0;34m\u001b[0m\u001b[0m\n",
      "\u001b[0;31mKeyboardInterrupt\u001b[0m: "
     ]
    }
   ],
   "source": [
    "gene = 'PIK3CA'\n",
    "tested = [];\n",
    "p_vals = [];\n",
    "for protein in protList: \n",
    "    if protein in proteomics.columns:\n",
    "        tested.append(protein)\n",
    "        cross = CPTAC.compare_mutations(proteomics, protein, gene)\n",
    "        cross = cross[:100]\n",
    "        cross = cross[[\"Mutation\", protein]].dropna(axis=0)\n",
    "        mutated = cross.loc[cross[\"Mutation\"] != \"Wildtype\"]\n",
    "        wt = cross.loc[cross[\"Mutation\"] == \"Wildtype\"]\n",
    "        ttest = scipy.stats.ttest_ind(mutated[protein], wt[protein])\n",
    "        p_vals.append(ttest[1])"
   ]
  },
  {
   "cell_type": "code",
   "execution_count": null,
   "metadata": {},
   "outputs": [],
   "source": [
    "areSignificant = statsmodels.stats.multitest.fdrcorrection(p_vals)[0]\n",
    "pvals = statsmodels.stats.multitest.fdrcorrection(p_vals)[1]\n",
    "significant_proteins = np.array(tested)[np.array(areSignificant)]\n",
    "significant_pvals = np.array(pvals)[np.array(areSignificant)]"
   ]
  },
  {
   "cell_type": "code",
   "execution_count": null,
   "metadata": {},
   "outputs": [],
   "source": [
    "print(significant_proteins)\n",
    "print(significant_pvals)"
   ]
  },
  {
   "cell_type": "markdown",
   "metadata": {},
   "source": [
    "### Test for phosphorylation levels (mutation in any gene with phosphorylation of any protein)"
   ]
  },
  {
   "cell_type": "code",
   "execution_count": 5,
   "metadata": {},
   "outputs": [],
   "source": [
    "#List of proteins (will test all phosphorylation sites on these proteins)\n",
    "phosProtList = protList"
   ]
  },
  {
   "cell_type": "code",
   "execution_count": 12,
   "metadata": {},
   "outputs": [
    {
     "name": "stderr",
     "output_type": "stream",
     "text": [
      "IOPub data rate exceeded.\n",
      "The notebook server will temporarily stop sending output\n",
      "to the client in order to avoid crashing it.\n",
      "To change this limit, set the config variable\n",
      "`--NotebookApp.iopub_data_rate_limit`.\n",
      "\n",
      "Current values:\n",
      "NotebookApp.iopub_data_rate_limit=1000000.0 (bytes/sec)\n",
      "NotebookApp.rate_limit_window=3.0 (secs)\n",
      "\n"
     ]
    }
   ],
   "source": [
    "sites = phos.columns\n",
    "p_values = []\n",
    "site_names = []\n",
    "gene = 'PIK3CA'\n",
    "\n",
    "for protein in phosProtList:\n",
    "    pattern = re.compile(protein)\n",
    "    isInList = filter(pattern.search, sites)\n",
    "    if next(isInList, None) is not None:\n",
    "        phosphositesdf = CPTAC.compare_mutations(phos, protein, gene)\n",
    "        phosphositesdf = phosphositesdf.loc[phosphositesdf['Patient_Type'] == 'Tumor'].drop('Patient_Type', axis = 1)\n",
    "       \n",
    "        for site in phosphositesdf.columns:\n",
    "            #just making sure not to do comparison on mutation column\n",
    "            if (site is not 'Mutation'):\n",
    "                sitedf = CPTAC.compare_mutations(phos, site, gene)\n",
    "                sitedf = sitedf.loc[sitedf['Patient_Type'] == 'Tumor'].drop('Patient_Type', axis = 1)\n",
    "                #print(sitedf[99:140])\n",
    "                mutateddf = sitedf.loc[sitedf['Mutation'] != 'Wildtype'].dropna(axis=0)\n",
    "                wtdf = sitedf.loc[sitedf['Mutation'] == 'Wildtype'].dropna(axis=0)\n",
    "                #if len(mutateddf) > 20:\n",
    "                ttest = scipy.stats.ttest_ind(mutateddf[site], wtdf[site])\n",
    "                p_values.append(ttest[1])\n",
    "                site_names.append(site)\n",
    "\n",
    "\n",
    "\n",
    "#We need to remove all 'nan' p-values and their corresponding site names before passing it in for the fdr correction\n",
    "indexesToRemove=[]\n",
    "\n",
    "for index in range(0, len(p_values)):\n",
    "    if np.isnan(p_values[index]):\n",
    "        indexesToRemove.append(index)\n",
    "\n",
    "for rem in range( len(indexesToRemove)-1, -1, -1):\n",
    "    p_values.pop(indexesToRemove[rem])\n",
    "    site_names.pop(indexesToRemove[rem])\n",
    "#p_values and site names have now had all entries removed where the corresponding p-value is 'nan'\n",
    "\n",
    "print(p_values)\n",
    "print(site_names)\n",
    "        \n"
   ]
  },
  {
   "cell_type": "markdown",
   "metadata": {},
   "source": [
    "### Seeing significance of P values using bonferroni correction"
   ]
  },
  {
   "cell_type": "code",
   "execution_count": 10,
   "metadata": {},
   "outputs": [
    {
     "name": "stdout",
     "output_type": "stream",
     "text": [
      "threshold_pval:  5.747787101965744e-06\n"
     ]
    }
   ],
   "source": [
    "threshold_pval = .05/len(site_names)\n",
    "print(\"threshold_pval: \", threshold_pval)\n",
    "bonferonni_corrected_pvals = list()\n",
    "bonferonni_sig_sites = list()\n",
    "for ind in range(0, len(p_values)):\n",
    "    if p_values[ind] <= threshold_pval:\n",
    "        bonferonni_corrected_pvals.append(p_values[ind])\n",
    "        bonferonni_sig_sites.append(site_names[ind])\n",
    "        \n",
    "        \n",
    "bf_significant_vals = dict(zip(bonferonni_sig_sites, bonferonni_corrected_pvals))"
   ]
  },
  {
   "cell_type": "markdown",
   "metadata": {},
   "source": [
    "### Print signifcant p-values"
   ]
  },
  {
   "cell_type": "code",
   "execution_count": 11,
   "metadata": {},
   "outputs": [
    {
     "name": "stdout",
     "output_type": "stream",
     "text": [
      "0\n",
      "0\n",
      "8699\n"
     ]
    }
   ],
   "source": [
    "#print(\"\\nSignificant P-values from Bonferroni: \", bonferonni_corrected_pvals)\n",
    "#print(\"\\nSignificant Sites from Bonferroni: \", bonferonni_sig_sites)\n",
    "#sortedkeys = sort(bf_significant_vals.keys())\n",
    "#for key in sortedkeys:\n",
    "#    print (key, bf_significant_vals[key])\n",
    "#print(\"\\nSignificant values: \", bf_significant_vals)\n",
    "\n",
    "for key in sorted(bf_significant_vals):\n",
    "    #print(%s: %s % (key, bf_significant_vals[key]))\n",
    "    print(key, bf_significant_vals[key])\n",
    "\n",
    "print(len(bonferonni_sig_sites))\n",
    "print(len(bonferonni_corrected_pvals))\n",
    "print(len(site_names))\n",
    "\n",
    "\n",
    "#indexMin = bonferonni_corrected_pvals.index(min(bonferonni_corrected_pvals))\n",
    "\n",
    "#print(\"Min P-val: \", bonferonni_corrected_pvals[index_min])\n",
    "#print(\"Site name at min: \", bonferonni_sig_sites[index_min])"
   ]
  },
  {
   "cell_type": "markdown",
   "metadata": {},
   "source": [
    "### Use FDR Correction"
   ]
  },
  {
   "cell_type": "code",
   "execution_count": 12,
   "metadata": {},
   "outputs": [
    {
     "name": "stdout",
     "output_type": "stream",
     "text": [
      "\n",
      "Significant P-vals (FDR):  []\n",
      "\n",
      "Significant sites (FDR):  []\n",
      "\n",
      "Significant values (FDR):  {}\n",
      "0\n"
     ]
    }
   ],
   "source": [
    "pvalues = statsmodels.stats.multitest.fdrcorrection(p_values,alpha=0.05, method='indep')[1]         \n",
    "areSignificant = statsmodels.stats.multitest.fdrcorrection(p_values,alpha=0.05, method='indep')[0]\n",
    "\n",
    "significant_sites = np.array(site_names)[np.array(areSignificant)]\n",
    "significant_pvalues = np.array(pvalues)[np.array(areSignificant)]\n",
    "significant_vals = dict(zip(significant_sites, significant_pvalues))\n",
    "\n",
    "\n",
    "print(\"\\nSignificant P-vals (FDR): \", significant_pvalues)\n",
    "print(\"\\nSignificant sites (FDR): \", significant_sites)\n",
    "print(\"\\nSignificant values (FDR): \", significant_vals)\n",
    "\n",
    "print(len(significant_sites))"
   ]
  },
  {
   "cell_type": "markdown",
   "metadata": {},
   "source": [
    "### Plot phosphorylation levels and gene mutation\n",
    "<b>Note:</b> There may be fewer data points due to NA values"
   ]
  },
  {
   "cell_type": "code",
   "execution_count": 13,
   "metadata": {},
   "outputs": [
    {
     "name": "stdout",
     "output_type": "stream",
     "text": [
      "\n",
      "\n"
     ]
    },
    {
     "data": {
      "text/plain": [
       "[Text(0, 0.5, 'Phosphoproteomics'), Text(0.5, 0, 'Somatic Gene Mutation')]"
      ]
     },
     "execution_count": 13,
     "metadata": {},
     "output_type": "execute_result"
    },
    {
     "data": {
      "image/png": "[encoded data removed]",
      "text/plain": [
       "<Figure size 432x288 with 1 Axes>"
      ]
     },
     "metadata": {
      "needs_background": "light"
     },
     "output_type": "display_data"
    }
   ],
   "source": [
    "#Specify the gene and the site; you may use a string to specify the site or reference the significant results above\n",
    "\n",
    "gene = 'PIK3CA'\n",
    "\n",
    "site=\"AKAP12-S629\"\n",
    "\n",
    "#Build the dataframe for plotting\n",
    "genedf = CPTAC.compare_mutations(phos, site, gene)\n",
    "genedf = genedf.loc[genedf['Patient_Type'] == 'Tumor'].drop('Patient_Type', axis = 1)\n",
    "\n",
    "#print(genedf)\n",
    "#sites = phos.filter(regex=site)\n",
    "#genedf = genedf.add(sites, fill_value=0)\n",
    "\n",
    "phos_boxplot = sns.boxplot(data=genedf, x=\"Mutation\" ,y=site)\n",
    "phos_boxplot.set_title(gene + \" gene mutation and \" + site + \" phosphorylation levels\")\n",
    "phos_boxplot = sns.stripplot(data=genedf, x=\"Mutation\", y=site,jitter=True, color=\".3\")\n",
    "phos_boxplot.set(xlabel=\"Somatic Gene Mutation\",ylabel=\"Phosphoproteomics\")\n",
    "\n",
    "print(\"\\n\")\n",
    "\n",
    "phos_boxplot = sns.boxplot(data=genedf, x=\"Mutation\" ,y=site)\n",
    "phos_boxplot.set_title(gene + \" gene mutation and \" + site + \" phosphorylation levels\")\n",
    "phos_boxplot = sns.stripplot(data=genedf, x=\"Mutation\", y=site,jitter=True, color=\".3\")\n",
    "phos_boxplot.set(xlabel=\"Somatic Gene Mutation\",ylabel=\"Phosphoproteomics\")"
   ]
  },
  {
   "cell_type": "code",
   "execution_count": null,
   "metadata": {},
   "outputs": [],
   "source": []
  }
 ],
 "metadata": {
  "kernelspec": {
   "display_name": "Python 3",
   "language": "python",
   "name": "python3"
  },
  "language_info": {
   "codemirror_mode": {
    "name": "ipython",
    "version": 3
   },
   "file_extension": ".py",
   "mimetype": "text/x-python",
   "name": "python",
   "nbconvert_exporter": "python",
   "pygments_lexer": "ipython3",
   "version": "3.6.8"
  }
 },
 "nbformat": 4,
 "nbformat_minor": 2
}
