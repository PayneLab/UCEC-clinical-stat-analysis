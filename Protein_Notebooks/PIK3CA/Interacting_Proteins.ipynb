{
 "cells": [
  {
   "cell_type": "markdown",
   "metadata": {},
   "source": [
    "# Statistical Testing Templates for CPTAC Data"
   ]
  },
  {
   "cell_type": "markdown",
   "metadata": {},
   "source": [
    "<b>Standard imports for playing with and plotting data frames.</b>"
   ]
  },
  {
   "cell_type": "code",
   "execution_count": 1,
   "metadata": {},
   "outputs": [],
   "source": [
    "import pandas as pd\n",
    "import numpy as np\n",
    "import scipy.stats\n",
    "from scipy.stats import pearsonr\n",
    "import matplotlib.pyplot as plt\n",
    "import re\n",
    "import seaborn as sns\n",
    "import statsmodels.stats.multitest\n",
    "#import altair as alt\n",
    "#alt.renderers.enable('notebook') #Necessary for Altair to work"
   ]
  },
  {
   "cell_type": "code",
   "execution_count": 2,
   "metadata": {
    "scrolled": true
   },
   "outputs": [
    {
     "name": "stdout",
     "output_type": "stream",
     "text": [
      "Loading Dictionary...\n",
      "Loading Clinical Data...\n",
      "Loading Proteomics Data...\n",
      "Loading Transcriptomics Data...\n",
      "Loading CNA Data...\n",
      "Loading Phosphoproteomics Data...\n",
      "Loading Somatic Mutation Data...\n",
      "\n",
      " ******PLEASE READ******\n",
      "WARNING: This data is under a publication embargo until July 1, 2019.\n",
      "CPTAC is a community resource project and data are made available\n",
      "rapidly after generation for community research use. The embargo\n",
      "allows exploring and utilizing the data, but the data may not be in a\n",
      "publication until July 1, 2019. Please see\n",
      "https://proteomics.cancer.gov/data-portal/about/data-use-agreement or\n",
      "enter CPTAC.embargo() to open the webpage for more details.\n"
     ]
    }
   ],
   "source": [
    "import CPTAC"
   ]
  },
  {
   "cell_type": "code",
   "execution_count": 15,
   "metadata": {},
   "outputs": [],
   "source": [
    "somatic_mutations = CPTAC.get_somatic()\n",
    "proteomics = CPTAC.get_proteomics()\n",
    "phos = CPTAC.get_phosphoproteomics()"
   ]
  },
  {
   "cell_type": "markdown",
   "metadata": {},
   "source": [
    "## t-test for effects of all mutations combined\n",
    "<b>Note:</b> You can put any number of proteins in the list and it will compare that gene with the protein levels of all of them"
   ]
  },
  {
   "cell_type": "markdown",
   "metadata": {},
   "source": [
    "### List of interacting proteins (according to STRING and Uniprot)"
   ]
  },
  {
   "cell_type": "code",
   "execution_count": 16,
   "metadata": {},
   "outputs": [],
   "source": [
    "#Build the protein list; this may have only a single protein if desired\n",
    "protList = ['IRS1', 'IRS2', 'RRAS', 'AKT2', 'NRAS', 'PTEN', 'AKT1', 'MRAS', 'HRAS', 'RPS6KB1', 'PIK3R1', 'PKC', 'MTOR', 'S6K', 'MAPK', 'ERBB3', 'P85A', 'P55G', 'CDK5']"
   ]
  },
  {
   "cell_type": "code",
   "execution_count": 17,
   "metadata": {
    "scrolled": false
   },
   "outputs": [],
   "source": [
    "gene = 'PIK3CA'\n",
    "tested = [];\n",
    "p_vals = [];\n",
    "for protein in protList: \n",
    "    if protein in proteomics.columns:\n",
    "        tested.append(protein)\n",
    "        cross = CPTAC.compare_mutations(proteomics, protein, gene)\n",
    "        cross = cross[:100]\n",
    "        cross = cross[[\"Mutation\", protein]].dropna(axis=0)\n",
    "        mutated = cross.loc[cross[\"Mutation\"] != \"Wildtype\"]\n",
    "        wt = cross.loc[cross[\"Mutation\"] == \"Wildtype\"]\n",
    "        ttest = scipy.stats.ttest_ind(mutated[protein], wt[protein])\n",
    "        p_vals.append(ttest[1])"
   ]
  },
  {
   "cell_type": "code",
   "execution_count": 18,
   "metadata": {},
   "outputs": [],
   "source": [
    "areSignificant = statsmodels.stats.multitest.fdrcorrection(p_vals)[0]\n",
    "pvals = statsmodels.stats.multitest.fdrcorrection(p_vals)[1]\n",
    "significant_proteins = np.array(tested)[np.array(areSignificant)]\n",
    "significant_pvals = np.array(pvals)[np.array(areSignificant)]"
   ]
  },
  {
   "cell_type": "code",
   "execution_count": 19,
   "metadata": {},
   "outputs": [
    {
     "name": "stdout",
     "output_type": "stream",
     "text": [
      "[]\n",
      "[]\n"
     ]
    }
   ],
   "source": [
    "print(significant_proteins)\n",
    "print(significant_pvals)"
   ]
  },
  {
   "cell_type": "markdown",
   "metadata": {},
   "source": [
    "### Test for phosphorylation levels (mutation in any gene with phosphorylation of any protein)"
   ]
  },
  {
   "cell_type": "code",
   "execution_count": 20,
   "metadata": {},
   "outputs": [],
   "source": [
    "#List of proteins (will test all phosphorylation sites on these proteins)\n",
    "phosProtList = protList"
   ]
  },
  {
   "cell_type": "code",
   "execution_count": 23,
   "metadata": {},
   "outputs": [
    {
     "name": "stdout",
     "output_type": "stream",
     "text": [
      "['IRS1-S1005' 'IRS1-S1100' 'IRS1-S1101' 'IRS1-S1134' 'IRS1-S270'\n",
      " 'IRS1-S323' 'IRS1-S330' 'IRS1-S374' 'IRS1-S413' 'IRS1-S415' 'IRS1-S419'\n",
      " 'IRS1-S421' 'IRS1-S527' 'IRS1-S531' 'IRS1-S629' 'IRS1-S672' 'IRS2-S1100'\n",
      " 'IRS2-S391' 'IRS2-S560' 'IRS2-S577' 'IRS2-S915' 'IRS2-S973' 'AKT1-S126'\n",
      " 'LAMTOR1-S27' 'RPS6KA3-S375' 'RPS6KA4-S682' 'RPS6KA4-S737' 'RPS6KA5-S448'\n",
      " 'RPS6KC1-S449' 'RPS6KC1-S872' 'MAPK1-T181' 'MAPK1-T185' 'MAPK1-Y187'\n",
      " 'MAPK14-Y182' 'MAPK3-Y204' 'MAPKAPK2-T222' 'MAPKAPK5-S212'\n",
      " 'CDK5RAP2-S1061']\n",
      "[0.03631657 0.00081908 0.00081908 0.0253361  0.00774579 0.01174608\n",
      " 0.00976855 0.0253361  0.03486571 0.00156808 0.04694581 0.04538642\n",
      " 0.02026713 0.00446233 0.00867113 0.02509466 0.00774579 0.00931712\n",
      " 0.00143854 0.04165474 0.03671707 0.0253361  0.03777013 0.00551934\n",
      " 0.02527061 0.00143854 0.00205041 0.03671707 0.04908903 0.01344663\n",
      " 0.02527061 0.03342095 0.00823201 0.02026713 0.00446233 0.02509466\n",
      " 0.01444741 0.04526765]\n",
      "{'IRS1-S1005': 0.03631656835504609, 'IRS1-S1100': 0.000819084373460178, 'IRS1-S1101': 0.000819084373460178, 'IRS1-S1134': 0.02533609575418035, 'IRS1-S270': 0.007745793839884731, 'IRS1-S323': 0.011746081360583627, 'IRS1-S330': 0.009768551993815728, 'IRS1-S374': 0.02533609575418035, 'IRS1-S413': 0.03486571208442985, 'IRS1-S415': 0.001568083781871714, 'IRS1-S419': 0.04694580831880599, 'IRS1-S421': 0.045386424099852794, 'IRS1-S527': 0.020267134946437854, 'IRS1-S531': 0.004462326790338968, 'IRS1-S629': 0.008671128731264409, 'IRS1-S672': 0.025094655497018104, 'IRS2-S1100': 0.007745793839884731, 'IRS2-S391': 0.009317115673282677, 'IRS2-S560': 0.0014385399098486367, 'IRS2-S577': 0.04165474249245196, 'IRS2-S915': 0.036717073582868576, 'IRS2-S973': 0.02533609575418035, 'AKT1-S126': 0.03777013008134275, 'LAMTOR1-S27': 0.005519337267505011, 'RPS6KA3-S375': 0.02527061443469496, 'RPS6KA4-S682': 0.0014385399098486367, 'RPS6KA4-S737': 0.002050412798099084, 'RPS6KA5-S448': 0.036717073582868576, 'RPS6KC1-S449': 0.049089031336604166, 'RPS6KC1-S872': 0.013446632363389185, 'MAPK1-T181': 0.02527061443469496, 'MAPK1-T185': 0.03342095118645366, 'MAPK1-Y187': 0.00823201365832846, 'MAPK14-Y182': 0.020267134946437854, 'MAPK3-Y204': 0.004462326790338968, 'MAPKAPK2-T222': 0.025094655497018104, 'MAPKAPK5-S212': 0.014447409789165797, 'CDK5RAP2-S1061': 0.045267651791684536}\n"
     ]
    }
   ],
   "source": [
    "sites = phos.columns\n",
    "p_values = []\n",
    "site_names = []\n",
    "\n",
    "for protein in phosProtList:\n",
    "    pattern = re.compile(protein)\n",
    "    isInList = filter(pattern.search, sites)\n",
    "    if next(isInList, None) is not None:\n",
    "        phosphositesdf = CPTAC.compare_mutations(phos, protein, gene)\n",
    "        phosphositesdf = phosphositesdf.loc[phosphositesdf['Patient_Type'] == 'Tumor'].drop('Patient_Type', axis = 1)\n",
    "        for site in phosphositesdf.columns:\n",
    "            if (site is not 'Mutation'):\n",
    "                sitedf = CPTAC.compare_mutations(phos, site, gene)\n",
    "                mutateddf = sitedf.loc[sitedf['Mutation'] != 'Wildtype'].dropna(axis=0)\n",
    "                wtdf = sitedf.loc[sitedf['Mutation'] == 'Wildtype'].dropna(axis=0)\n",
    "                ttest = scipy.stats.ttest_ind(mutateddf[site], wtdf[site])\n",
    "                p_values.append(ttest[1])\n",
    "                site_names.append(site)     \n",
    "                \n",
    "areSignificant = statsmodels.stats.multitest.fdrcorrection(p_values)[0]\n",
    "pvalues = statsmodels.stats.multitest.fdrcorrection(p_values)[1]\n",
    "significant_sites = np.array(site_names)[np.array(areSignificant)]\n",
    "significant_pvalues = np.array(pvalues)[np.array(areSignificant)]\n",
    "\n",
    "significant_vals = dict(zip(significant_sites, significant_pvalues))\n",
    "\n",
    "print(significant_sites)\n",
    "print(significant_pvalues)\n",
    "print(significant_vals)"
   ]
  },
  {
   "cell_type": "markdown",
   "metadata": {},
   "source": [
    "### Plot phosphorylation levels and gene mutation\n",
    "<b>Note:</b> There may be fewer data points due to NA values"
   ]
  },
  {
   "cell_type": "code",
   "execution_count": null,
   "metadata": {},
   "outputs": [],
   "source": [
    "#Specify the gene and the site; you may use a string to specify the site or reference the significant results above\n",
    "gene = 'PIK3CA'\n",
    "site = sigPhosResults[0]\n",
    "\n",
    "#Build the dataframe for plotting\n",
    "genedf = somatic_mutations[gene].to_frame()\n",
    "sites = phos.filter(regex=site)\n",
    "genedf = genedf.add(sites, fill_value=0)\n",
    "\n",
    "phos_boxplot = sns.boxplot(data=genedf, x=gene ,y=site)\n",
    "phos_boxplot.set_title(gene + \" gene mutation and \" + site + \" phosphorylation levels\")\n",
    "phos_boxplot = sns.stripplot(data=genedf, x=gene, y=site,jitter=True, color=\".3\")\n",
    "phos_boxplot.set(xlabel=\"Somatic Gene Mutation\",ylabel=\"Phosphoproteomics\")"
   ]
  },
  {
   "cell_type": "markdown",
   "metadata": {},
   "source": [
    "### Test for phosphorylation levels and protein abundance"
   ]
  },
  {
   "cell_type": "code",
   "execution_count": null,
   "metadata": {},
   "outputs": [],
   "source": [
    "#Specify the pattern for all phosphorylation sites as well as the protein of interest\n",
    "phosProt = phos.filter(regex='PIK3CA') \n",
    "protein = 'PIK3CA'\n",
    "sigPhosProtResults = []\n",
    "\n",
    "#Build dataframe with protein levels and phosphorylation levels\n",
    "proteindf = proteomics[protein].to_frame()\n",
    "phosProtCross = proteindf.add(phosProt, fill_value=0)\n",
    "\n",
    "#Bonferroni correction\n",
    "pcutoff = 0.05/len(cross.columns)\n",
    "\n",
    "#Test each site for significance and print the results\n",
    "for loc in phosProtCross.columns:\n",
    "    if not loc == protein:\n",
    "        oneSitedf = phosProtCross[[loc, protein]].dropna(axis=0)\n",
    "        pearsonresult = pearsonr(oneSitedf[loc], oneSitedf[protein])\n",
    "        if(pearsonresult[1] < pcutoff):\n",
    "            sigPhosProtResults.append(loc)\n",
    "            print(\"Results for \" + loc)\n",
    "            print(pearsonresult)"
   ]
  },
  {
   "cell_type": "markdown",
   "metadata": {},
   "source": [
    "### Scatterplot of phosphorylation levels vs. protein abundance (mutation included)"
   ]
  },
  {
   "cell_type": "code",
   "execution_count": null,
   "metadata": {},
   "outputs": [],
   "source": [
    "#Specify a protein, a gene and a site; you may use a string to specify the site or reference sigPhosProtResults above\n",
    "protein = 'CTNNB1'\n",
    "gene = 'CTNNB1'\n",
    "site = sigPhosProtResults[1]\n",
    "\n",
    "#Build the dataframe for plotting\n",
    "protdf = proteomics[protein].to_frame()\n",
    "protdfName = protein + \" protein levels\" #Technically only necessary when the gene and the protein have the same name\n",
    "protdf.columns = [protdfName]\n",
    "sites = phos.filter(regex=site)\n",
    "protdf = protdf.add(sites, fill_value=0)\n",
    "\n",
    "genedf = somatic_mutations[gene].to_frame()\n",
    "genedfName = gene + \" mutation\"\n",
    "genedf.columns = [genedfName]\n",
    "finaldf = protdf.add(genedf, fill_value=0)\n",
    "\n",
    "alt.Chart(finaldf).mark_point().encode(\n",
    "    alt.X(protdfName),\n",
    "    alt.Y(site),\n",
    "    alt.Color(genedfName, type='nominal')\n",
    ").interactive()"
   ]
  },
  {
   "cell_type": "code",
   "execution_count": null,
   "metadata": {},
   "outputs": [],
   "source": []
  }
 ],
 "metadata": {
  "kernelspec": {
   "display_name": "Python 3",
   "language": "python",
   "name": "python3"
  },
  "language_info": {
   "codemirror_mode": {
    "name": "ipython",
    "version": 3
   },
   "file_extension": ".py",
   "mimetype": "text/x-python",
   "name": "python",
   "nbconvert_exporter": "python",
   "pygments_lexer": "ipython3",
   "version": "3.7.0"
  }
 },
 "nbformat": 4,
 "nbformat_minor": 2
}
