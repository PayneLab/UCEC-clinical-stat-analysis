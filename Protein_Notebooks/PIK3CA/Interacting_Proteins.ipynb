{
 "cells": [
  {
   "cell_type": "markdown",
   "metadata": {},
   "source": [
    "# Statistical Testing Templates for CPTAC Data"
   ]
  },
  {
   "cell_type": "markdown",
   "metadata": {},
   "source": [
    "<b>Standard imports for playing with and plotting data frames.</b>"
   ]
  },
  {
   "cell_type": "code",
   "execution_count": 1,
   "metadata": {},
   "outputs": [],
   "source": [
    "import pandas as pd\n",
    "import numpy as np\n",
    "import scipy.stats\n",
    "from scipy.stats import pearsonr\n",
    "import matplotlib.pyplot as plt\n",
    "import re\n",
    "import seaborn as sns\n",
    "import statsmodels.stats.multitest\n",
    "#import altair as alt\n",
    "#alt.renderers.enable('notebook') #Necessary for Altair to work"
   ]
  },
  {
   "cell_type": "code",
   "execution_count": 2,
   "metadata": {
    "scrolled": true
   },
   "outputs": [
    {
     "name": "stdout",
     "output_type": "stream",
     "text": [
      "Loading CPTAC data:\n",
      "Loading Dictionary...\n",
      "Loading Clinical Data...\n",
      "Loading Proteomics Data...\n",
      "Loading Transcriptomics Data...\n",
      "Loading CNA Data...\n",
      "Loading Phosphoproteomics Data...\n",
      "Loading Somatic Mutation Data...\n",
      "\n",
      " ******PLEASE READ******\n",
      "WARNING: This data is under a publication embargo until July 1, 2019.\n",
      "CPTAC is a community resource project and data are made available\n",
      "rapidly after generation for community research use. The embargo\n",
      "allows exploring and utilizing the data, but the data may not be in a\n",
      "publication until July 1, 2019. Please see\n",
      "https://proteomics.cancer.gov/data-portal/about/data-use-agreement or\n",
      "enter CPTAC.embargo() to open the webpage for more details.\n"
     ]
    }
   ],
   "source": [
    "import CPTAC"
   ]
  },
  {
   "cell_type": "code",
   "execution_count": 3,
   "metadata": {},
   "outputs": [],
   "source": [
    "somatic_mutations = CPTAC.get_somatic()\n",
    "proteomics = CPTAC.get_proteomics()\n",
    "phos = CPTAC.get_phosphoproteomics()"
   ]
  },
  {
   "cell_type": "markdown",
   "metadata": {},
   "source": [
    "## t-test for effects of all mutations combined\n",
    "<b>Note:</b> You can put any number of proteins in the list and it will compare that gene with the protein levels of all of them"
   ]
  },
  {
   "cell_type": "markdown",
   "metadata": {},
   "source": [
    "### List of interacting proteins (according to STRING and Uniprot)"
   ]
  },
  {
   "cell_type": "code",
   "execution_count": 4,
   "metadata": {},
   "outputs": [],
   "source": [
    "#Build the protein list; this may have only a single protein if desired\n",
    "protList = ['IRS1', 'IRS2', 'RRAS', 'AKT2', 'NRAS', 'PTEN', 'AKT1', 'MRAS', 'HRAS', 'RPS6KB1', 'PIK3R1', 'PKC', 'MTOR', 'S6K', 'MAPK', 'ERBB3', 'P85A', 'P55G', 'CDK5']"
   ]
  },
  {
   "cell_type": "code",
   "execution_count": 5,
   "metadata": {
    "scrolled": false
   },
   "outputs": [],
   "source": [
    "gene = 'PIK3CA'\n",
    "tested = [];\n",
    "p_vals = [];\n",
    "for protein in protList: \n",
    "    if protein in proteomics.columns:\n",
    "        tested.append(protein)\n",
    "        cross = CPTAC.compare_mutations(proteomics, protein, gene)\n",
    "        cross = cross[:100]\n",
    "        cross = cross[[\"Mutation\", protein]].dropna(axis=0)\n",
    "        mutated = cross.loc[cross[\"Mutation\"] != \"Wildtype\"]\n",
    "        wt = cross.loc[cross[\"Mutation\"] == \"Wildtype\"]\n",
    "        ttest = scipy.stats.ttest_ind(mutated[protein], wt[protein])\n",
    "        p_vals.append(ttest[1])"
   ]
  },
  {
   "cell_type": "code",
   "execution_count": 6,
   "metadata": {},
   "outputs": [],
   "source": [
    "areSignificant = statsmodels.stats.multitest.fdrcorrection(p_vals)[0]\n",
    "pvals = statsmodels.stats.multitest.fdrcorrection(p_vals)[1]\n",
    "significant_proteins = np.array(tested)[np.array(areSignificant)]\n",
    "significant_pvals = np.array(pvals)[np.array(areSignificant)]"
   ]
  },
  {
   "cell_type": "code",
   "execution_count": 7,
   "metadata": {},
   "outputs": [
    {
     "name": "stdout",
     "output_type": "stream",
     "text": [
      "[]\n",
      "[]\n"
     ]
    }
   ],
   "source": [
    "print(significant_proteins)\n",
    "print(significant_pvals)"
   ]
  },
  {
   "cell_type": "markdown",
   "metadata": {},
   "source": [
    "### Test for phosphorylation levels (mutation in any gene with phosphorylation of any protein)"
   ]
  },
  {
   "cell_type": "code",
   "execution_count": 8,
   "metadata": {},
   "outputs": [],
   "source": [
    "#List of proteins (will test all phosphorylation sites on these proteins)\n",
    "phosProtList = protList"
   ]
  },
  {
   "cell_type": "code",
   "execution_count": 32,
   "metadata": {},
   "outputs": [
    {
     "name": "stdout",
     "output_type": "stream",
     "text": [
      "Found nan, removing site name and pval\n",
      "Found nan, removing site name and pval\n",
      "Found nan, removing site name and pval\n",
      "Found nan, removing site name and pval\n",
      "Found nan, removing site name and pval\n",
      "Found nan, removing site name and pval\n",
      "Found nan, removing site name and pval\n",
      "Found nan, removing site name and pval\n",
      "Found nan, removing site name and pval\n",
      "Found nan, removing site name and pval\n",
      "Found nan, removing site name and pval\n",
      "Found nan, removing site name and pval\n",
      "Found nan, removing site name and pval\n",
      "Found nan, removing site name and pval\n",
      "Found nan, removing site name and pval\n",
      "Found nan, removing site name and pval\n",
      "Found nan, removing site name and pval\n",
      "Found nan, removing site name and pval\n",
      "Found nan, removing site name and pval\n",
      "Found nan, removing site name and pval\n",
      "Found nan, removing site name and pval\n",
      "Found nan, removing site name and pval\n",
      "Found nan, removing site name and pval\n",
      "Found nan, removing site name and pval\n",
      "Found nan, removing site name and pval\n",
      "Found nan, removing site name and pval\n",
      "Found nan, removing site name and pval\n",
      "Found nan, removing site name and pval\n",
      "Found nan, removing site name and pval\n",
      "AFTER REMOVING nans:\n",
      "['IRS1-S1005', 'IRS1-S1078', 'IRS1-S1100', 'IRS1-S1101', 'IRS1-S1131', 'IRS1-S1132', 'IRS1-S1133', 'IRS1-S1134', 'IRS1-S1135', 'IRS1-S1143', 'IRS1-S1145', 'IRS1-S1222', 'IRS1-S1223', 'IRS1-S1227', 'IRS1-S270', 'IRS1-S274', 'IRS1-S303', 'IRS1-S307', 'IRS1-S312', 'IRS1-S315', 'IRS1-S323', 'IRS1-S330', 'IRS1-S337', 'IRS1-S341', 'IRS1-S345', 'IRS1-S348', 'IRS1-S374', 'IRS1-S413', 'IRS1-S415', 'IRS1-S417', 'IRS1-S419', 'IRS1-S421', 'IRS1-S427', 'IRS1-S428', 'IRS1-S434', 'IRS1-S444', 'IRS1-S449', 'IRS1-S463', 'IRS1-S503', 'IRS1-S527', 'IRS1-S531', 'IRS1-S541', 'IRS1-S543', 'IRS1-S544', 'IRS1-S547', 'IRS1-S574', 'IRS1-S581', 'IRS1-S629', 'IRS1-S636', 'IRS1-S641', 'IRS1-S668', 'IRS1-S672', 'IRS1-S736', 'IRS1-S741', 'IRS1-S744', 'IRS1-S745', 'IRS1-S766', 'IRS1-S925', 'IRS1-T1103', 'IRS1-T305', 'IRS1-T309', 'IRS1-T311', 'IRS1-T335', 'IRS1-T446', 'IRS1-T453', 'IRS1-T525', 'IRS1-T530', 'IRS1-T533', 'IRS1-T552', 'IRS1-T859', 'IRS1-Y465', 'IRS1-Y551', 'IRS1-Y582', 'IRS1-Y632', 'IRS1-Y662', 'IRS1-Y750', 'IRS2-S1100', 'IRS2-S1149', 'IRS2-S1162', 'IRS2-S1174', 'IRS2-S1176', 'IRS2-S1181', 'IRS2-S1186', 'IRS2-S1203', 'IRS2-S1237', 'IRS2-S166', 'IRS2-S306', 'IRS2-S346', 'IRS2-S365', 'IRS2-S384', 'IRS2-S388', 'IRS2-S391', 'IRS2-S560', 'IRS2-S577', 'IRS2-S591', 'IRS2-S592', 'IRS2-S594', 'IRS2-S608', 'IRS2-S620', 'IRS2-S643', 'IRS2-S672', 'IRS2-S679', 'IRS2-S731', 'IRS2-S736', 'IRS2-S752', 'IRS2-S805', 'IRS2-S827', 'IRS2-S828', 'IRS2-S915', 'IRS2-S932', 'IRS2-S947', 'IRS2-S973', 'IRS2-S984', 'IRS2-T1151', 'IRS2-T1157', 'IRS2-T1159', 'IRS2-T1202', 'IRS2-T1221', 'IRS2-T363', 'IRS2-T404', 'IRS2-T520', 'IRS2-T527', 'IRS2-T575', 'IRS2-T776', 'IRS2-T779', 'IRS2-T962', 'IRS2-Y653', 'IRS2-Y675', 'IRS2-Y823', 'IRS2-Y919', 'RRAS-S201', 'RRAS2-S186', 'RRAS2-T190', 'AKT2-S126', 'AKT2-S128', 'AKT2-S302', 'AKT2-S34', 'AKT2-S474', 'AKT2-T449', 'AKT2-T451', 'PTEN-S467', 'PTEN-S475', 'PTEN-S478', 'PTEN-S537', 'PTEN-S543', 'PTEN-S558', 'PTEN-T539', 'PTEN-T555', 'PTEN-T556', 'AKT1-S122', 'AKT1-S124', 'AKT1-S126', 'AKT1-S129', 'AKT1-T450', 'AKT1S1-S108', 'AKT1S1-S112', 'AKT1S1-S203', 'AKT1S1-S222', 'AKT1S1-S223', 'AKT1S1-S231', 'AKT1S1-S232', 'AKT1S1-S241', 'AKT1S1-S267', 'AKT1S1-T110', 'AKT1S1-T117', 'AKT1S1-T218', 'AKT1S1-T266', 'AKT1S1-T93', 'RPS6KB1-S441', 'RPS6KB1-S447', 'RPS6KB1-S452', 'RPS6KB1-T444', 'PIK3R1-S154', 'PIK3R1-S690', 'PIK3R1-S83', 'PIK3R1-T86', 'PIK3R1-Y452', 'PIK3R1-Y556', 'PIK3R1-Y580', 'ITPKC-S222', 'ITPKC-S322', 'ITPKC-S362', 'ITPKC-S378', 'ITPKC-S548', 'ITPKC-S84', 'ITPKC-S9', 'ITPKC-T333', 'ITPKC-T336', 'ITPKC-T547', 'ITPKC-T549', 'ITPKC-T91', 'LAMTOR1-S27', 'LAMTOR1-S42', 'LAMTOR1-S45', 'LAMTOR1-S63', 'LAMTOR1-S98', 'LAMTOR1-T48', 'LAMTOR1-T61', 'LAMTOR5-S108', 'LAMTOR5-S99', 'MTOR-S1261', 'MTOR-S1821', 'MTOR-S1849', 'MTOR-S1851', 'MTOR-S2069', 'MTOR-S2450', 'MTOR-S2478', 'MTOR-S2481', 'MTOR-T1826', 'MTOR-T1834', 'MTOR-T2471', 'MTOR-T2473', 'MTOR-T2474', 'MTOR-Y2449', 'RPS6KA1-S230', 'RPS6KA1-S31', 'RPS6KA1-S316', 'RPS6KA1-S372', 'RPS6KA1-S378', 'RPS6KA1-S389', 'RPS6KA1-S437', 'RPS6KA1-S522', 'RPS6KA1-S646', 'RPS6KA1-S696', 'RPS6KA1-T234', 'RPS6KA1-T30', 'RPS6KA1-T368', 'RPS6KA1-T56', 'RPS6KA1-Y237', 'RPS6KA2-S243', 'RPS6KA2-S704', 'RPS6KA2-T247', 'RPS6KA2-T595', 'RPS6KA2-T599', 'RPS6KA2-Y250', 'RPS6KA3-S17', 'RPS6KA3-S19', 'RPS6KA3-S21', 'RPS6KA3-S369', 'RPS6KA3-S375', 'RPS6KA3-S386', 'RPS6KA3-S415', 'RPS6KA3-S639', 'RPS6KA3-S715', 'RPS6KA3-S724', 'RPS6KA3-T365', 'RPS6KA3-T725', 'RPS6KA3-Y644', 'RPS6KA4-S343', 'RPS6KA4-S347', 'RPS6KA4-S634', 'RPS6KA4-S678', 'RPS6KA4-S681', 'RPS6KA4-S682', 'RPS6KA4-S721', 'RPS6KA4-S737', 'RPS6KA4-S745', 'RPS6KA4-T22', 'RPS6KA4-T542', 'RPS6KA4-T687', 'RPS6KA4-Y342', 'RPS6KA5-S212', 'RPS6KA5-S360', 'RPS6KA5-S376', 'RPS6KA5-S438', 'RPS6KA5-S448', 'RPS6KA5-S517', 'RPS6KA5-S628', 'RPS6KA5-S695', 'RPS6KA5-S750', 'RPS6KA5-S752', 'RPS6KA5-T216', 'RPS6KA5-T38', 'RPS6KA5-T630', 'RPS6KA5-T749', 'RPS6KA5-T751', 'RPS6KA5-T753', 'RPS6KA5-Y359', 'RPS6KA6-S389', 'RPS6KB1-S441', 'RPS6KB1-S447', 'RPS6KB1-S452', 'RPS6KB1-T444', 'RPS6KB2-S370', 'RPS6KB2-S416', 'RPS6KB2-S417', 'RPS6KB2-S423', 'RPS6KC1-S199', 'RPS6KC1-S201', 'RPS6KC1-S202', 'RPS6KC1-S209', 'RPS6KC1-S282', 'RPS6KC1-S302', 'RPS6KC1-S304', 'RPS6KC1-S423', 'RPS6KC1-S427', 'RPS6KC1-S449', 'RPS6KC1-S453', 'RPS6KC1-S454', 'RPS6KC1-S455', 'RPS6KC1-S461', 'RPS6KC1-S475', 'RPS6KC1-S484', 'RPS6KC1-S528', 'RPS6KC1-S560', 'RPS6KC1-S582', 'RPS6KC1-S583', 'RPS6KC1-S596', 'RPS6KC1-S605', 'RPS6KC1-S608', 'RPS6KC1-S610', 'RPS6KC1-S642', 'RPS6KC1-S644', 'RPS6KC1-S661', 'RPS6KC1-S664', 'RPS6KC1-S667', 'RPS6KC1-S762', 'RPS6KC1-S823', 'RPS6KC1-S826', 'RPS6KC1-S834', 'RPS6KC1-S872', 'RPS6KC1-T284', 'RPS6KC1-T659', 'RPS6KC1-T684', 'RPS6KC1-Y307', 'MAPK1-T181', 'MAPK1-T185', 'MAPK1-T190', 'MAPK1-Y187', 'MAPK12-S350', 'MAPK12-T344', 'MAPK12-Y185', 'MAPK12-Y345', 'MAPK13-S350', 'MAPK13-T265', 'MAPK13-Y182', 'MAPK14-S143', 'MAPK14-S252', 'MAPK14-S28', 'MAPK14-S32', 'MAPK14-T180', 'MAPK14-T185', 'MAPK14-Y182', 'MAPK14-Y24', 'MAPK15-S415', 'MAPK15-T421', 'MAPK15-Y177', 'MAPK1IP1L-S15', 'MAPK1IP1L-S2', 'MAPK3-T198', 'MAPK3-T202', 'MAPK3-T207', 'MAPK3-Y204', 'MAPK4-S186', 'MAPK4-S386', 'MAPK6-S189', 'MAPK6-S386', 'MAPK6-S441', 'MAPK6-S450', 'MAPK6-S452', 'MAPK6-S556', 'MAPK6-T389', 'MAPK7-S720', 'MAPK7-S731', 'MAPK7-S803', 'MAPK7-T733', 'MAPK8IP2-T274', 'MAPK8IP3-S1192', 'MAPK8IP3-S208', 'MAPK8IP3-S280', 'MAPK8IP3-S283', 'MAPK8IP3-S292', 'MAPK8IP3-S366', 'MAPK8IP3-S586', 'MAPK8IP3-S603', 'MAPK8IP3-T276', 'MAPK8IP3-T278', 'MAPK8IP3-T287', 'MAPK8IP3-T363', 'MAPK8IP3-Y695', 'MAPK9-T183', 'MAPK9-Y185', 'MAPKAP1-S116', 'MAPKAP1-S185', 'MAPKAP1-S186', 'MAPKAP1-S270', 'MAPKAP1-S510', 'MAPKAP1-S512', 'MAPKAP1-T274', 'MAPKAP1-T509', 'MAPKAPK2-S67', 'MAPKAPK2-T221', 'MAPKAPK2-T222', 'MAPKAPK2-T226', 'MAPKAPK2-T334', 'MAPKAPK2-Y225', 'MAPKAPK2-Y229', 'MAPKAPK3-T201', 'MAPKAPK3-T205', 'MAPKAPK3-Y204', 'MAPKAPK3-Y207', 'MAPKAPK3-Y208', 'MAPKAPK5-S212', 'MAPKAPK5-S354', 'MAPKAPK5-S472', 'MAPKAPK5-T182', 'MAPKAPK5-T211', 'MAPKBP1-S1159', 'MAPKBP1-S1188', 'MAPKBP1-S1198', 'MAPKBP1-S1263', 'MAPKBP1-S1314', 'MAPKBP1-S1366', 'MAPKBP1-S1367', 'MAPKBP1-S1377', 'MAPKBP1-S18', 'MAPKBP1-S484', 'MAPKBP1-S488', 'MAPKBP1-S761', 'MAPKBP1-S819', 'MAPKBP1-S935', 'MAPKBP1-T796', 'ERBB3-S1044', 'ERBB3-S1049', 'ERBB3-S1315', 'ERBB3-S686', 'ERBB3-S717', 'ERBB3-S846', 'ERBB3-S982', 'CDK5-S229', 'CDK5-Y15', 'CDK5RAP2-S1020', 'CDK5RAP2-S1061', 'CDK5RAP2-S1064', 'CDK5RAP2-S1074', 'CDK5RAP2-S1102', 'CDK5RAP2-S1238', 'CDK5RAP2-S1350', 'CDK5RAP2-S1490', 'CDK5RAP2-S1666', 'CDK5RAP2-S1887', 'CDK5RAP2-S576', 'CDK5RAP2-S841', 'CDK5RAP2-S947', 'CDK5RAP2-T1076', 'CDK5RAP2-T1677', 'CDK5RAP2-T698']\n",
      "[0.0017526411204853653, 0.9300202434886575, 2.656286624870231e-06, 1.3763103685217164e-05, 0.5468127475864677, 0.10708339983015239, 0.003377775540662641, 6.1031347922955216e-05, 0.5741658705058675, 0.09223108945021641, 0.09223108945021641, 0.41184997830214065, 0.9383915441504235, 0.6218827782919412, 8.355473113480254e-05, 0.3399313752580967, 0.10353024077315506, 0.01367040540929479, 0.47038821532904584, 0.6863785052161939, 0.0021175263875349687, 0.0018694332313960067, 0.006736366775428391, 0.01393248399859912, 0.06003044515689196, 0.029245952986431498, 9.330416811151142e-05, 0.02191253718675557, 0.00042039541332139973, 0.04061081034096042, 0.05201886607074671, 0.10624585684160295, 0.17226382379345875, 0.6510021910316491, 0.8224793224876055, 0.030180245376204607, 0.047329939883956326, 0.15882381330538223, 0.5520487585871732, 0.002442844231854368, 0.00018042378592695454, 0.35200950027848976, 0.33005355422880545, 0.062497259120420874, 0.12018943493394266, 0.5848218476233406, 0.22997240131503946, 3.618487779454685e-05, 0.0002839780551756683, 0.5607659236430377, 0.7215465176733533, 0.0015622986663196867, 0.7486383116780807, 0.66814464402486, 0.2810020068785837, 0.12303422298156108, 0.00031826426559244584, 0.2020804323948268, 0.9525038698857127, 0.00032739972868389006, 0.0018458778138727868, 0.025159727916260453, 0.8790100784162204, 0.09919819508682373, 0.028458908163422177, 0.03709818730622765, 0.006153986009813643, 0.057214718862865825, 0.7016602330728035, 0.04356560092810863, 0.10831633263902592, 0.29759445606760526, 0.739654732377824, 0.5238816963307187, 0.558400729149905, 0.025968027320520375, 6.822032233581489e-06, 0.025429918532131234, 0.19296628071837924, 0.006164465648688626, 0.03718674246586094, 0.06454156305703371, 0.06605539613867822, 0.01658677052846615, 0.7147242713112805, 0.021910434182021918, 0.01983594426481182, 0.8479148599980724, 0.17904586293803484, 0.0986280908349297, 0.10721672093215114, 2.402982048306407e-05, 0.0001078473485633849, 0.0005114742645635147, 0.37385238994191927, 0.3335098217030133, 0.21014551847218318, 0.10062785584663311, 0.010212327993051044, 0.007214791501701745, 0.2749647556861618, 0.19903481038248627, 0.0011034891761851514, 0.0001575963542207698, 0.09222757865881703, 0.01356502781395652, 0.6983675936820115, 0.2722342890972984, 0.016169622710389922, 0.9587674139317608, 0.48785271779045114, 0.003303217111491632, 0.24501366104516498, 0.025429918532131234, 0.1299472697750335, 0.1299472697750335, 0.05845291924275577, 0.09635460982288925, 0.6704178804220864, 0.037738563791106294, 0.0033252693339436497, 0.6478283173214763, 0.02429816047510567, 0.16996308982067493, 0.6118250243407998, 0.8463700789322752, 0.9637197742013947, 0.018028753016173352, 0.20720571191858517, 0.8683777327023668, 0.20455964033829802, 0.8224234068355972, 0.6667774127457513, 0.21428600529899652, 0.6351890118481629, 0.8016007112775642, 0.015350052539826556, 0.5709377941057088, 0.36813657099245267, 0.5495432744738258, 0.42859834163202737, 0.7947776046875931, 0.5935320920508396, 0.8338047974555126, 0.6698138968320677, 0.677787559753076, 0.3122151991482254, 0.001851194039462642, 0.7756716217299039, 0.29932086476697745, 0.1308492467856509, 0.023423505395118623, 0.005909207294914503, 0.5003206024439252, 0.022249299700433694, 0.06260252993603717, 0.050277965314805675, 0.5616446939662936, 0.1662166322058958, 0.1442861131955789, 0.9715391427491051, 0.49783338573295943, 0.07228730415423365, 0.7059382196737403, 0.6020973402420462, 0.7381863377324804, 0.34974057916452816, 0.13250529757850515, 0.10618516140059497, 0.40192612643173387, 0.1035442672683791, 0.07648032371196528, 0.015130727189535478, 0.5268806942326167, 0.16995534594737519, 0.37097250724626896, 0.04005519612983162, 0.010035748018184534, 0.21977120170198733, 0.8969609530097007, 0.131800785602812, 0.22506911756231363, 0.8213579748452269, 0.8150095067414985, 0.3025116550894692, 0.06849840244282784, 0.5158918752934272, 0.0848912315080642, 0.8150095067414985, 0.8150095067414985, 0.04504263115130911, 5.502072547091202e-05, 0.4846822120818275, 0.3728496971980667, 0.3516733833239871, 0.972350872528652, 0.4942011734803172, 0.40105226408168315, 0.24050218604669305, 0.958287817617258, 0.3268339833209293, 0.0744023360886784, 0.5659955037760719, 0.43053655701531046, 0.4030882521472766, 0.339654238455952, 0.01754758517618663, 0.004944022748903206, 0.34789567054289694, 0.18479516275322605, 0.020437895478953073, 0.1324077248559471, 0.24071277935388855, 0.05970423342729161, 0.3588059129198927, 0.1268835252195009, 0.0960852024722534, 0.09595119288328992, 0.6753321124392315, 0.049173405369511286, 0.31539275253226867, 0.29582613297066834, 0.35838166728755866, 0.016345687433399925, 0.10005319991007222, 0.3159353833618171, 0.027538561105381023, 0.003586078291975221, 0.38424533519603243, 0.839719760968447, 0.8836870405095753, 0.008542088708040633, 0.011835723915369419, 0.9797609811991245, 0.40071460530113945, 0.9369252758077857, 0.21570377963541015, 0.8804916616433397, 0.013486772153517346, 0.0017998523054871228, 0.7791216439786779, 0.5562692270849707, 0.6368646567070425, 0.17808040619302862, 0.14497528903560541, 0.009844828258899997, 0.14497528903560541, 0.9968681919810101, 0.09101241471764683, 0.009694999444192531, 0.007705883422904128, 0.0409761644668466, 0.04736073764082919, 0.00012107685983468763, 0.008029422656944502, 9.923684178259014e-05, 0.15517285375446316, 0.0027688005851855806, 0.2046416048269116, 0.018456716126092128, 0.5965425015239841, 0.13655475323227037, 0.9819287864559629, 0.07199880147097898, 0.2299314611535165, 0.0004132885209559308, 0.15098899369489224, 0.3012327882283349, 0.08553129747744008, 0.5771945123823548, 0.5444995277682114, 0.7398315013878161, 0.8468235974240216, 0.6171159759985487, 0.6100403671418453, 0.8390214076724388, 0.6740074437326276, 0.7886475618729047, 0.46725211906826636, 0.10618516140059497, 0.40192612643173387, 0.1035442672683791, 0.07648032371196528, 0.7657312381642425, 0.5657549820257657, 0.5657549820257657, 0.6627849298964816, 0.8981494697287418, 0.5878376689645864, 0.31124396620053674, 0.7190040385552854, 0.0638867912613721, 0.24812875681793975, 0.7664648619978435, 0.7201340902794104, 0.08344912636429358, 0.010523142308011768, 0.8736822463133966, 0.9275566203523516, 0.8357359358968741, 0.5917178158456546, 0.18344398296311784, 0.18344398296311784, 0.009050072071245986, 0.17554303416968312, 0.4841045597889694, 0.3893414005255216, 0.09502234285411397, 0.015659373342257088, 0.012625356375603457, 0.5039196765626146, 0.23547943856407857, 0.09053702155435867, 0.9157532719060502, 0.820401021531569, 0.013252074246398843, 0.9634617494674601, 0.9215916211425607, 0.2581146747516004, 0.8670310234794574, 0.000794876466315344, 0.8867488390421145, 0.12025406542092817, 0.02884828713159842, 0.8319285504549883, 0.0017096476776249138, 0.04955299044796806, 0.11927763982245335, 0.008973590890902298, 0.9765913476859355, 0.9765913476859355, 0.0006309357350675998, 0.9765913476859355, 0.3103894906553223, 0.5939958954894673, 0.9320419649675548, 0.7840418063567927, 0.2202727082566925, 0.41861616056183726, 0.40173904023954243, 0.008792981017268857, 0.7083137211128994, 0.00014057238272665112, 0.5404407142779575, 0.06923477222605129, 0.060530728103385424, 0.22005297632515086, 0.31424145365708495, 0.39784917560639, 0.02131526589502548, 0.01595679836223944, 0.02856144283274567, 0.00048182524718748155, 0.1807575844497704, 0.9978202778393228, 0.40652976894699744, 0.6652564586280358, 0.11170991974153585, 0.035035513785951114, 0.3793407205152549, 0.993809989566986, 0.40023836310801997, 0.14291690821404357, 0.6691809750636291, 0.5343830865499017, 0.001292601220544507, 0.7230373300884689, 0.8773046669495468, 0.9721806975609616, 0.5629190262688564, 0.19607279898782126, 0.8486911764037847, 0.6450777984047431, 0.5886178077282964, 0.01842541925545548, 0.042118889748819915, 0.44595028895819466, 0.9721497987592063, 0.848462041040645, 0.7728864694779575, 0.022211085066097792, 0.14276154006286654, 0.03673932807886489, 0.4047433015568215, 0.07411536396263756, 0.005271282675052592, 0.0066892206642752555, 0.47873267238356754, 0.8488414225709289, 0.071024316566385, 0.09254574885657516, 0.277367150307548, 0.004628578336015051, 0.3884877616027913, 0.5911838389966615, 0.4258429351159574, 0.20096045250794006, 0.35548832766815497, 0.38910620533379237, 0.2267011984892154, 0.8771781589437201, 0.5175006750162017, 0.00035541733234536576, 0.9827208665929321, 0.2950373704555307, 0.27842623727294574, 0.15937998571803144, 0.8752451385846634, 0.6375433313254915, 0.20475683054985205, 4.4391553178805296e-05, 0.7302424004514116, 0.27848153756400773, 0.29906760828758616, 0.6325164066642768, 0.6286477792333287, 0.8727834541128117, 0.43611862662459466, 0.006588484905316918, 0.3135024649471577, 0.8590943467787411, 0.004871464089157732, 0.6422979769823495, 0.9356880772440843, 0.3959450762659976, 0.7793219920821487, 0.9399262837943313, 0.012631720129610948, 0.12796581521594358, 0.43054362564490745, 0.6619217764370315, 0.2001885436980758, 0.0819455488454138, 0.5170387946979189, 0.0004163410063282494, 0.49476439591704946, 0.08114525069490702, 0.10693809854630386, 0.036344486227008775, 0.5951676312532901, 0.08327826963867478, 0.6161142142347595, 0.0508170321948102, 0.16274966883604505, 0.2203257884083087, 0.0010574993668762548, 0.27973552388226663]\n",
      "['IRS1-S1005' 'IRS1-S1100' 'IRS1-S1101' 'IRS1-S1133' 'IRS1-S1134'\n",
      " 'IRS1-S270' 'IRS1-S323' 'IRS1-S330' 'IRS1-S374' 'IRS1-S415' 'IRS1-S527'\n",
      " 'IRS1-S531' 'IRS1-S629' 'IRS1-S636' 'IRS1-S672' 'IRS1-S766' 'IRS1-T305'\n",
      " 'IRS1-T309' 'IRS2-S1100' 'IRS2-S391' 'IRS2-S560' 'IRS2-S577' 'IRS2-S731'\n",
      " 'IRS2-S736' 'IRS2-S973' 'IRS2-T520' 'PTEN-T555' 'LAMTOR1-S27'\n",
      " 'MTOR-S2481' 'RPS6KA1-T56' 'RPS6KA3-S375' 'RPS6KA4-S682' 'RPS6KA4-S737'\n",
      " 'RPS6KA4-T22' 'RPS6KA5-S448' 'RPS6KC1-S872' 'MAPK1-T181' 'MAPK12-Y185'\n",
      " 'MAPK14-Y182' 'MAPK3-Y204' 'MAPK7-T733' 'MAPKAP1-S270' 'MAPKAPK2-T222'\n",
      " 'MAPKAPK5-S212' 'MAPKBP1-S1263' 'MAPKBP1-T796' 'CDK5RAP2-S1074'\n",
      " 'CDK5RAP2-T1677']\n",
      "[0.02258477 0.00118736 0.0020507  0.03511316 0.00341013 0.00401731\n",
      " 0.0249088  0.02258477 0.00401731 0.00817029 0.02799875 0.00504059\n",
      " 0.00323493 0.00746695 0.02252734 0.00770251 0.00770251 0.02258477\n",
      " 0.00152472 0.00268533 0.00401731 0.00914516 0.01700895 0.00469637\n",
      " 0.03511316 0.03511316 0.02258477 0.00341013 0.04702081 0.0364313\n",
      " 0.02258477 0.00416318 0.00401731 0.03094135 0.00817029 0.01315962\n",
      " 0.02258477 0.01084724 0.00448828 0.008974   0.01925976 0.04908882\n",
      " 0.04597721 0.00794358 0.00330717 0.04702081 0.00817029 0.01688222]\n",
      "{'IRS1-S1005': 0.022584774444162566, 'IRS1-S1100': 0.0011873601213169933, 'IRS1-S1101': 0.0020507024490973576, 'IRS1-S1133': 0.03511315503898141, 'IRS1-S1134': 0.0034101265651951228, 'IRS1-S270': 0.004017313733986088, 'IRS1-S323': 0.024908797242845553, 'IRS1-S330': 0.022584774444162566, 'IRS1-S374': 0.004017313733986088, 'IRS1-S415': 0.00817029346759416, 'IRS1-S527': 0.02799875311894622, 'IRS1-S531': 0.005040589519334292, 'IRS1-S629': 0.0032349280748324885, 'IRS1-S636': 0.007466952391971984, 'IRS1-S672': 0.02252733883370645, 'IRS1-S766': 0.007702509406405203, 'IRS1-T305': 0.007702509406405203, 'IRS1-T309': 0.022584774444162566, 'IRS2-S1100': 0.001524724204205463, 'IRS2-S391': 0.00268533243898241, 'IRS2-S560': 0.004017313733986088, 'IRS2-S577': 0.009145159850395643, 'IRS2-S731': 0.017008953853612507, 'IRS2-S736': 0.00469637135577894, 'IRS2-S973': 0.03511315503898141, 'IRS2-T520': 0.03511315503898141, 'PTEN-T555': 0.022584774444162566, 'LAMTOR1-S27': 0.0034101265651951228, 'MTOR-S2481': 0.04702081210127092, 'RPS6KA1-T56': 0.03643129537529372, 'RPS6KA3-S375': 0.022584774444162566, 'RPS6KA4-S682': 0.004163181257392721, 'RPS6KA4-S737': 0.004017313733986088, 'RPS6KA4-T22': 0.030941346539448862, 'RPS6KA5-S448': 0.00817029346759416, 'RPS6KC1-S872': 0.013159621497887361, 'MAPK1-T181': 0.022584774444162566, 'MAPK12-Y185': 0.010847241291354505, 'MAPK14-Y182': 0.004488275362772361, 'MAPK3-Y204': 0.008973995228866844, 'MAPK7-T733': 0.019259758186113154, 'MAPKAP1-S270': 0.049088819911427266, 'MAPKAPK2-T222': 0.04597721147108284, 'MAPKAPK5-S212': 0.007943577377918924, 'MAPKBP1-S1263': 0.0033071707118209944, 'MAPKBP1-T796': 0.04702081210127092, 'CDK5RAP2-S1074': 0.00817029346759416, 'CDK5RAP2-T1677': 0.01688222203548878}\n"
     ]
    }
   ],
   "source": [
    "sites = phos.columns\n",
    "p_values = []\n",
    "site_names = []\n",
    "\n",
    "for protein in phosProtList:\n",
    "    pattern = re.compile(protein)\n",
    "    isInList = filter(pattern.search, sites)\n",
    "    if next(isInList, None) is not None:\n",
    "        phosphositesdf = CPTAC.compare_mutations(phos, protein, gene)\n",
    "        phosphositesdf = phosphositesdf.loc[phosphositesdf['Patient_Type'] == 'Tumor'].drop('Patient_Type', axis = 1)\n",
    "        for site in phosphositesdf.columns:\n",
    "            if (site is not 'Mutation'):\n",
    "                sitedf = CPTAC.compare_mutations(phos, site, gene)\n",
    "                mutateddf = sitedf.loc[sitedf['Mutation'] != 'Wildtype'].dropna(axis=0)\n",
    "                wtdf = sitedf.loc[sitedf['Mutation'] == 'Wildtype'].dropna(axis=0)\n",
    "                ttest = scipy.stats.ttest_ind(mutateddf[site], wtdf[site])\n",
    "                p_values.append(ttest[1])\n",
    "                site_names.append(site)     \n",
    "\n",
    "\n",
    "\n",
    "#We need to remove all 'nan' p-values and their corresponding site names before passing it in for the fdr correction\n",
    "indexesToRemove=[]\n",
    "\n",
    "for index in range(0, len(p_values)):\n",
    "    if np.isnan(p_values[index]):\n",
    "        indexesToRemove.append(index)\n",
    "\n",
    "for rem in range( len(indexesToRemove)-1, -1, -1):\n",
    "    p_values.pop(indexesToRemove[rem])\n",
    "    site_names.pop(indexesToRemove[rem])\n",
    "#p_values and site names have now had all entries removed where the corresponding p-value is 'nan'\n",
    "        \n",
    "\n",
    "pvalues = statsmodels.stats.multitest.fdrcorrection(p_values,alpha=0.05, method='indep')[1]         \n",
    "areSignificant = statsmodels.stats.multitest.fdrcorrection(p_values,alpha=0.05, method='indep')[0]\n",
    "\n",
    "significant_sites = np.array(site_names)[np.array(areSignificant)]\n",
    "significant_pvalues = np.array(pvalues)[np.array(areSignificant)]\n",
    "\n",
    "significant_vals = dict(zip(significant_sites, significant_pvalues))\n",
    "\n",
    "print(significant_sites)\n",
    "print(significant_pvalues)\n",
    "print(significant_vals)"
   ]
  },
  {
   "cell_type": "markdown",
   "metadata": {},
   "source": [
    "### Plot phosphorylation levels and gene mutation\n",
    "<b>Note:</b> There may be fewer data points due to NA values"
   ]
  },
  {
   "cell_type": "code",
   "execution_count": 33,
   "metadata": {},
   "outputs": [
    {
     "ename": "NameError",
     "evalue": "name 'sigPhosResults' is not defined",
     "output_type": "error",
     "traceback": [
      "\u001b[0;31m---------------------------------------------------------------------------\u001b[0m",
      "\u001b[0;31mNameError\u001b[0m                                 Traceback (most recent call last)",
      "\u001b[0;32m<ipython-input-33-df8ae2708695>\u001b[0m in \u001b[0;36m<module>\u001b[0;34m\u001b[0m\n\u001b[1;32m      1\u001b[0m \u001b[0;31m#Specify the gene and the site; you may use a string to specify the site or reference the significant results above\u001b[0m\u001b[0;34m\u001b[0m\u001b[0;34m\u001b[0m\u001b[0;34m\u001b[0m\u001b[0m\n\u001b[1;32m      2\u001b[0m \u001b[0mgene\u001b[0m \u001b[0;34m=\u001b[0m \u001b[0;34m'PIK3CA'\u001b[0m\u001b[0;34m\u001b[0m\u001b[0;34m\u001b[0m\u001b[0m\n\u001b[0;32m----> 3\u001b[0;31m \u001b[0msite\u001b[0m \u001b[0;34m=\u001b[0m \u001b[0msigPhosResults\u001b[0m\u001b[0;34m[\u001b[0m\u001b[0;36m0\u001b[0m\u001b[0;34m]\u001b[0m\u001b[0;34m\u001b[0m\u001b[0;34m\u001b[0m\u001b[0m\n\u001b[0m\u001b[1;32m      4\u001b[0m \u001b[0;34m\u001b[0m\u001b[0m\n\u001b[1;32m      5\u001b[0m \u001b[0;31m#Build the dataframe for plotting\u001b[0m\u001b[0;34m\u001b[0m\u001b[0;34m\u001b[0m\u001b[0;34m\u001b[0m\u001b[0m\n",
      "\u001b[0;31mNameError\u001b[0m: name 'sigPhosResults' is not defined"
     ]
    }
   ],
   "source": [
    "#Specify the gene and the site; you may use a string to specify the site or reference the significant results above\n",
    "gene = 'PIK3CA'\n",
    "site = sigPhosResults[0]\n",
    "\n",
    "#Build the dataframe for plotting\n",
    "genedf = somatic_mutations[gene].to_frame()\n",
    "sites = phos.filter(regex=site)\n",
    "genedf = genedf.add(sites, fill_value=0)\n",
    "\n",
    "phos_boxplot = sns.boxplot(data=genedf, x=gene ,y=site)\n",
    "phos_boxplot.set_title(gene + \" gene mutation and \" + site + \" phosphorylation levels\")\n",
    "phos_boxplot = sns.stripplot(data=genedf, x=gene, y=site,jitter=True, color=\".3\")\n",
    "phos_boxplot.set(xlabel=\"Somatic Gene Mutation\",ylabel=\"Phosphoproteomics\")"
   ]
  },
  {
   "cell_type": "markdown",
   "metadata": {},
   "source": [
    "### Test for phosphorylation levels and protein abundance"
   ]
  },
  {
   "cell_type": "code",
   "execution_count": 16,
   "metadata": {},
   "outputs": [
    {
     "name": "stdout",
     "output_type": "stream",
     "text": [
      "Results for PIK3CA-S312\n",
      "(0.5597690804706072, 9.70607537359938e-09)\n",
      "Results for PIK3CA-T313\n",
      "(0.5795790014886743, 2.1587859293485523e-09)\n"
     ]
    }
   ],
   "source": [
    "#Specify the pattern for all phosphorylation sites as well as the protein of interest\n",
    "phosProt = phos.filter(regex='PIK3CA') \n",
    "protein = 'PIK3CA'\n",
    "sigPhosProtResults = []\n",
    "\n",
    "#Build dataframe with protein levels and phosphorylation levels\n",
    "proteindf = proteomics[protein].to_frame()\n",
    "phosProtCross = proteindf.add(phosProt, fill_value=0)\n",
    "\n",
    "#Bonferroni correction\n",
    "pcutoff = 0.05/len(cross.columns)\n",
    "\n",
    "#Test each site for significance and print the results\n",
    "for loc in phosProtCross.columns:\n",
    "    if not loc == protein:\n",
    "        oneSitedf = phosProtCross[[loc, protein]].dropna(axis=0)\n",
    "        pearsonresult = pearsonr(oneSitedf[loc], oneSitedf[protein])\n",
    "        if(pearsonresult[1] < pcutoff):\n",
    "            sigPhosProtResults.append(loc)\n",
    "            print(\"Results for \" + loc)\n",
    "            print(pearsonresult)"
   ]
  },
  {
   "cell_type": "markdown",
   "metadata": {},
   "source": [
    "### Scatterplot of phosphorylation levels vs. protein abundance (mutation included)"
   ]
  },
  {
   "cell_type": "code",
   "execution_count": 17,
   "metadata": {},
   "outputs": [
    {
     "ename": "KeyError",
     "evalue": "'CTNNB1'",
     "output_type": "error",
     "traceback": [
      "\u001b[0;31m---------------------------------------------------------------------------\u001b[0m",
      "\u001b[0;31mKeyError\u001b[0m                                  Traceback (most recent call last)",
      "\u001b[0;32m/anaconda3/lib/python3.6/site-packages/pandas/core/indexes/base.py\u001b[0m in \u001b[0;36mget_loc\u001b[0;34m(self, key, method, tolerance)\u001b[0m\n\u001b[1;32m   3077\u001b[0m             \u001b[0;32mtry\u001b[0m\u001b[0;34m:\u001b[0m\u001b[0;34m\u001b[0m\u001b[0;34m\u001b[0m\u001b[0m\n\u001b[0;32m-> 3078\u001b[0;31m                 \u001b[0;32mreturn\u001b[0m \u001b[0mself\u001b[0m\u001b[0;34m.\u001b[0m\u001b[0m_engine\u001b[0m\u001b[0;34m.\u001b[0m\u001b[0mget_loc\u001b[0m\u001b[0;34m(\u001b[0m\u001b[0mkey\u001b[0m\u001b[0;34m)\u001b[0m\u001b[0;34m\u001b[0m\u001b[0;34m\u001b[0m\u001b[0m\n\u001b[0m\u001b[1;32m   3079\u001b[0m             \u001b[0;32mexcept\u001b[0m \u001b[0mKeyError\u001b[0m\u001b[0;34m:\u001b[0m\u001b[0;34m\u001b[0m\u001b[0;34m\u001b[0m\u001b[0m\n",
      "\u001b[0;32mpandas/_libs/index.pyx\u001b[0m in \u001b[0;36mpandas._libs.index.IndexEngine.get_loc\u001b[0;34m()\u001b[0m\n",
      "\u001b[0;32mpandas/_libs/index.pyx\u001b[0m in \u001b[0;36mpandas._libs.index.IndexEngine.get_loc\u001b[0;34m()\u001b[0m\n",
      "\u001b[0;32mpandas/_libs/hashtable_class_helper.pxi\u001b[0m in \u001b[0;36mpandas._libs.hashtable.PyObjectHashTable.get_item\u001b[0;34m()\u001b[0m\n",
      "\u001b[0;32mpandas/_libs/hashtable_class_helper.pxi\u001b[0m in \u001b[0;36mpandas._libs.hashtable.PyObjectHashTable.get_item\u001b[0;34m()\u001b[0m\n",
      "\u001b[0;31mKeyError\u001b[0m: 'CTNNB1'",
      "\nDuring handling of the above exception, another exception occurred:\n",
      "\u001b[0;31mKeyError\u001b[0m                                  Traceback (most recent call last)",
      "\u001b[0;32m<ipython-input-17-c062c484ab8c>\u001b[0m in \u001b[0;36m<module>\u001b[0;34m\u001b[0m\n\u001b[1;32m     11\u001b[0m \u001b[0mprotdf\u001b[0m \u001b[0;34m=\u001b[0m \u001b[0mprotdf\u001b[0m\u001b[0;34m.\u001b[0m\u001b[0madd\u001b[0m\u001b[0;34m(\u001b[0m\u001b[0msites\u001b[0m\u001b[0;34m,\u001b[0m \u001b[0mfill_value\u001b[0m\u001b[0;34m=\u001b[0m\u001b[0;36m0\u001b[0m\u001b[0;34m)\u001b[0m\u001b[0;34m\u001b[0m\u001b[0;34m\u001b[0m\u001b[0m\n\u001b[1;32m     12\u001b[0m \u001b[0;34m\u001b[0m\u001b[0m\n\u001b[0;32m---> 13\u001b[0;31m \u001b[0mgenedf\u001b[0m \u001b[0;34m=\u001b[0m \u001b[0msomatic_mutations\u001b[0m\u001b[0;34m[\u001b[0m\u001b[0mgene\u001b[0m\u001b[0;34m]\u001b[0m\u001b[0;34m.\u001b[0m\u001b[0mto_frame\u001b[0m\u001b[0;34m(\u001b[0m\u001b[0;34m)\u001b[0m\u001b[0;34m\u001b[0m\u001b[0;34m\u001b[0m\u001b[0m\n\u001b[0m\u001b[1;32m     14\u001b[0m \u001b[0mgenedfName\u001b[0m \u001b[0;34m=\u001b[0m \u001b[0mgene\u001b[0m \u001b[0;34m+\u001b[0m \u001b[0;34m\" mutation\"\u001b[0m\u001b[0;34m\u001b[0m\u001b[0;34m\u001b[0m\u001b[0m\n\u001b[1;32m     15\u001b[0m \u001b[0mgenedf\u001b[0m\u001b[0;34m.\u001b[0m\u001b[0mcolumns\u001b[0m \u001b[0;34m=\u001b[0m \u001b[0;34m[\u001b[0m\u001b[0mgenedfName\u001b[0m\u001b[0;34m]\u001b[0m\u001b[0;34m\u001b[0m\u001b[0;34m\u001b[0m\u001b[0m\n",
      "\u001b[0;32m/anaconda3/lib/python3.6/site-packages/pandas/core/frame.py\u001b[0m in \u001b[0;36m__getitem__\u001b[0;34m(self, key)\u001b[0m\n\u001b[1;32m   2686\u001b[0m             \u001b[0;32mreturn\u001b[0m \u001b[0mself\u001b[0m\u001b[0;34m.\u001b[0m\u001b[0m_getitem_multilevel\u001b[0m\u001b[0;34m(\u001b[0m\u001b[0mkey\u001b[0m\u001b[0;34m)\u001b[0m\u001b[0;34m\u001b[0m\u001b[0;34m\u001b[0m\u001b[0m\n\u001b[1;32m   2687\u001b[0m         \u001b[0;32melse\u001b[0m\u001b[0;34m:\u001b[0m\u001b[0;34m\u001b[0m\u001b[0;34m\u001b[0m\u001b[0m\n\u001b[0;32m-> 2688\u001b[0;31m             \u001b[0;32mreturn\u001b[0m \u001b[0mself\u001b[0m\u001b[0;34m.\u001b[0m\u001b[0m_getitem_column\u001b[0m\u001b[0;34m(\u001b[0m\u001b[0mkey\u001b[0m\u001b[0;34m)\u001b[0m\u001b[0;34m\u001b[0m\u001b[0;34m\u001b[0m\u001b[0m\n\u001b[0m\u001b[1;32m   2689\u001b[0m \u001b[0;34m\u001b[0m\u001b[0m\n\u001b[1;32m   2690\u001b[0m     \u001b[0;32mdef\u001b[0m \u001b[0m_getitem_column\u001b[0m\u001b[0;34m(\u001b[0m\u001b[0mself\u001b[0m\u001b[0;34m,\u001b[0m \u001b[0mkey\u001b[0m\u001b[0;34m)\u001b[0m\u001b[0;34m:\u001b[0m\u001b[0;34m\u001b[0m\u001b[0;34m\u001b[0m\u001b[0m\n",
      "\u001b[0;32m/anaconda3/lib/python3.6/site-packages/pandas/core/frame.py\u001b[0m in \u001b[0;36m_getitem_column\u001b[0;34m(self, key)\u001b[0m\n\u001b[1;32m   2693\u001b[0m         \u001b[0;31m# get column\u001b[0m\u001b[0;34m\u001b[0m\u001b[0;34m\u001b[0m\u001b[0;34m\u001b[0m\u001b[0m\n\u001b[1;32m   2694\u001b[0m         \u001b[0;32mif\u001b[0m \u001b[0mself\u001b[0m\u001b[0;34m.\u001b[0m\u001b[0mcolumns\u001b[0m\u001b[0;34m.\u001b[0m\u001b[0mis_unique\u001b[0m\u001b[0;34m:\u001b[0m\u001b[0;34m\u001b[0m\u001b[0;34m\u001b[0m\u001b[0m\n\u001b[0;32m-> 2695\u001b[0;31m             \u001b[0;32mreturn\u001b[0m \u001b[0mself\u001b[0m\u001b[0;34m.\u001b[0m\u001b[0m_get_item_cache\u001b[0m\u001b[0;34m(\u001b[0m\u001b[0mkey\u001b[0m\u001b[0;34m)\u001b[0m\u001b[0;34m\u001b[0m\u001b[0;34m\u001b[0m\u001b[0m\n\u001b[0m\u001b[1;32m   2696\u001b[0m \u001b[0;34m\u001b[0m\u001b[0m\n\u001b[1;32m   2697\u001b[0m         \u001b[0;31m# duplicate columns & possible reduce dimensionality\u001b[0m\u001b[0;34m\u001b[0m\u001b[0;34m\u001b[0m\u001b[0;34m\u001b[0m\u001b[0m\n",
      "\u001b[0;32m/anaconda3/lib/python3.6/site-packages/pandas/core/generic.py\u001b[0m in \u001b[0;36m_get_item_cache\u001b[0;34m(self, item)\u001b[0m\n\u001b[1;32m   2487\u001b[0m         \u001b[0mres\u001b[0m \u001b[0;34m=\u001b[0m \u001b[0mcache\u001b[0m\u001b[0;34m.\u001b[0m\u001b[0mget\u001b[0m\u001b[0;34m(\u001b[0m\u001b[0mitem\u001b[0m\u001b[0;34m)\u001b[0m\u001b[0;34m\u001b[0m\u001b[0;34m\u001b[0m\u001b[0m\n\u001b[1;32m   2488\u001b[0m         \u001b[0;32mif\u001b[0m \u001b[0mres\u001b[0m \u001b[0;32mis\u001b[0m \u001b[0;32mNone\u001b[0m\u001b[0;34m:\u001b[0m\u001b[0;34m\u001b[0m\u001b[0;34m\u001b[0m\u001b[0m\n\u001b[0;32m-> 2489\u001b[0;31m             \u001b[0mvalues\u001b[0m \u001b[0;34m=\u001b[0m \u001b[0mself\u001b[0m\u001b[0;34m.\u001b[0m\u001b[0m_data\u001b[0m\u001b[0;34m.\u001b[0m\u001b[0mget\u001b[0m\u001b[0;34m(\u001b[0m\u001b[0mitem\u001b[0m\u001b[0;34m)\u001b[0m\u001b[0;34m\u001b[0m\u001b[0;34m\u001b[0m\u001b[0m\n\u001b[0m\u001b[1;32m   2490\u001b[0m             \u001b[0mres\u001b[0m \u001b[0;34m=\u001b[0m \u001b[0mself\u001b[0m\u001b[0;34m.\u001b[0m\u001b[0m_box_item_values\u001b[0m\u001b[0;34m(\u001b[0m\u001b[0mitem\u001b[0m\u001b[0;34m,\u001b[0m \u001b[0mvalues\u001b[0m\u001b[0;34m)\u001b[0m\u001b[0;34m\u001b[0m\u001b[0;34m\u001b[0m\u001b[0m\n\u001b[1;32m   2491\u001b[0m             \u001b[0mcache\u001b[0m\u001b[0;34m[\u001b[0m\u001b[0mitem\u001b[0m\u001b[0;34m]\u001b[0m \u001b[0;34m=\u001b[0m \u001b[0mres\u001b[0m\u001b[0;34m\u001b[0m\u001b[0;34m\u001b[0m\u001b[0m\n",
      "\u001b[0;32m/anaconda3/lib/python3.6/site-packages/pandas/core/internals.py\u001b[0m in \u001b[0;36mget\u001b[0;34m(self, item, fastpath)\u001b[0m\n\u001b[1;32m   4113\u001b[0m \u001b[0;34m\u001b[0m\u001b[0m\n\u001b[1;32m   4114\u001b[0m             \u001b[0;32mif\u001b[0m \u001b[0;32mnot\u001b[0m \u001b[0misna\u001b[0m\u001b[0;34m(\u001b[0m\u001b[0mitem\u001b[0m\u001b[0;34m)\u001b[0m\u001b[0;34m:\u001b[0m\u001b[0;34m\u001b[0m\u001b[0;34m\u001b[0m\u001b[0m\n\u001b[0;32m-> 4115\u001b[0;31m                 \u001b[0mloc\u001b[0m \u001b[0;34m=\u001b[0m \u001b[0mself\u001b[0m\u001b[0;34m.\u001b[0m\u001b[0mitems\u001b[0m\u001b[0;34m.\u001b[0m\u001b[0mget_loc\u001b[0m\u001b[0;34m(\u001b[0m\u001b[0mitem\u001b[0m\u001b[0;34m)\u001b[0m\u001b[0;34m\u001b[0m\u001b[0;34m\u001b[0m\u001b[0m\n\u001b[0m\u001b[1;32m   4116\u001b[0m             \u001b[0;32melse\u001b[0m\u001b[0;34m:\u001b[0m\u001b[0;34m\u001b[0m\u001b[0;34m\u001b[0m\u001b[0m\n\u001b[1;32m   4117\u001b[0m                 \u001b[0mindexer\u001b[0m \u001b[0;34m=\u001b[0m \u001b[0mnp\u001b[0m\u001b[0;34m.\u001b[0m\u001b[0marange\u001b[0m\u001b[0;34m(\u001b[0m\u001b[0mlen\u001b[0m\u001b[0;34m(\u001b[0m\u001b[0mself\u001b[0m\u001b[0;34m.\u001b[0m\u001b[0mitems\u001b[0m\u001b[0;34m)\u001b[0m\u001b[0;34m)\u001b[0m\u001b[0;34m[\u001b[0m\u001b[0misna\u001b[0m\u001b[0;34m(\u001b[0m\u001b[0mself\u001b[0m\u001b[0;34m.\u001b[0m\u001b[0mitems\u001b[0m\u001b[0;34m)\u001b[0m\u001b[0;34m]\u001b[0m\u001b[0;34m\u001b[0m\u001b[0;34m\u001b[0m\u001b[0m\n",
      "\u001b[0;32m/anaconda3/lib/python3.6/site-packages/pandas/core/indexes/base.py\u001b[0m in \u001b[0;36mget_loc\u001b[0;34m(self, key, method, tolerance)\u001b[0m\n\u001b[1;32m   3078\u001b[0m                 \u001b[0;32mreturn\u001b[0m \u001b[0mself\u001b[0m\u001b[0;34m.\u001b[0m\u001b[0m_engine\u001b[0m\u001b[0;34m.\u001b[0m\u001b[0mget_loc\u001b[0m\u001b[0;34m(\u001b[0m\u001b[0mkey\u001b[0m\u001b[0;34m)\u001b[0m\u001b[0;34m\u001b[0m\u001b[0;34m\u001b[0m\u001b[0m\n\u001b[1;32m   3079\u001b[0m             \u001b[0;32mexcept\u001b[0m \u001b[0mKeyError\u001b[0m\u001b[0;34m:\u001b[0m\u001b[0;34m\u001b[0m\u001b[0;34m\u001b[0m\u001b[0m\n\u001b[0;32m-> 3080\u001b[0;31m                 \u001b[0;32mreturn\u001b[0m \u001b[0mself\u001b[0m\u001b[0;34m.\u001b[0m\u001b[0m_engine\u001b[0m\u001b[0;34m.\u001b[0m\u001b[0mget_loc\u001b[0m\u001b[0;34m(\u001b[0m\u001b[0mself\u001b[0m\u001b[0;34m.\u001b[0m\u001b[0m_maybe_cast_indexer\u001b[0m\u001b[0;34m(\u001b[0m\u001b[0mkey\u001b[0m\u001b[0;34m)\u001b[0m\u001b[0;34m)\u001b[0m\u001b[0;34m\u001b[0m\u001b[0;34m\u001b[0m\u001b[0m\n\u001b[0m\u001b[1;32m   3081\u001b[0m \u001b[0;34m\u001b[0m\u001b[0m\n\u001b[1;32m   3082\u001b[0m         \u001b[0mindexer\u001b[0m \u001b[0;34m=\u001b[0m \u001b[0mself\u001b[0m\u001b[0;34m.\u001b[0m\u001b[0mget_indexer\u001b[0m\u001b[0;34m(\u001b[0m\u001b[0;34m[\u001b[0m\u001b[0mkey\u001b[0m\u001b[0;34m]\u001b[0m\u001b[0;34m,\u001b[0m \u001b[0mmethod\u001b[0m\u001b[0;34m=\u001b[0m\u001b[0mmethod\u001b[0m\u001b[0;34m,\u001b[0m \u001b[0mtolerance\u001b[0m\u001b[0;34m=\u001b[0m\u001b[0mtolerance\u001b[0m\u001b[0;34m)\u001b[0m\u001b[0;34m\u001b[0m\u001b[0;34m\u001b[0m\u001b[0m\n",
      "\u001b[0;32mpandas/_libs/index.pyx\u001b[0m in \u001b[0;36mpandas._libs.index.IndexEngine.get_loc\u001b[0;34m()\u001b[0m\n",
      "\u001b[0;32mpandas/_libs/index.pyx\u001b[0m in \u001b[0;36mpandas._libs.index.IndexEngine.get_loc\u001b[0;34m()\u001b[0m\n",
      "\u001b[0;32mpandas/_libs/hashtable_class_helper.pxi\u001b[0m in \u001b[0;36mpandas._libs.hashtable.PyObjectHashTable.get_item\u001b[0;34m()\u001b[0m\n",
      "\u001b[0;32mpandas/_libs/hashtable_class_helper.pxi\u001b[0m in \u001b[0;36mpandas._libs.hashtable.PyObjectHashTable.get_item\u001b[0;34m()\u001b[0m\n",
      "\u001b[0;31mKeyError\u001b[0m: 'CTNNB1'"
     ]
    }
   ],
   "source": [
    "#Specify a protein, a gene and a site; you may use a string to specify the site or reference sigPhosProtResults above\n",
    "protein = 'CTNNB1'\n",
    "gene = 'CTNNB1'\n",
    "site = sigPhosProtResults[1]\n",
    "\n",
    "#Build the dataframe for plotting\n",
    "protdf = proteomics[protein].to_frame()\n",
    "protdfName = protein + \" protein levels\" #Technically only necessary when the gene and the protein have the same name\n",
    "protdf.columns = [protdfName]\n",
    "sites = phos.filter(regex=site)\n",
    "protdf = protdf.add(sites, fill_value=0)\n",
    "\n",
    "genedf = somatic_mutations[gene].to_frame()\n",
    "genedfName = gene + \" mutation\"\n",
    "genedf.columns = [genedfName]\n",
    "finaldf = protdf.add(genedf, fill_value=0)\n",
    "\n",
    "alt.Chart(finaldf).mark_point().encode(\n",
    "    alt.X(protdfName),\n",
    "    alt.Y(site),\n",
    "    alt.Color(genedfName, type='nominal')\n",
    ").interactive()"
   ]
  },
  {
   "cell_type": "code",
   "execution_count": null,
   "metadata": {},
   "outputs": [],
   "source": []
  }
 ],
 "metadata": {
  "kernelspec": {
   "display_name": "Python 3",
   "language": "python",
   "name": "python3"
  },
  "language_info": {
   "codemirror_mode": {
    "name": "ipython",
    "version": 3
   },
   "file_extension": ".py",
   "mimetype": "text/x-python",
   "name": "python",
   "nbconvert_exporter": "python",
   "pygments_lexer": "ipython3",
   "version": "3.6.8"
  }
 },
 "nbformat": 4,
 "nbformat_minor": 2
}
