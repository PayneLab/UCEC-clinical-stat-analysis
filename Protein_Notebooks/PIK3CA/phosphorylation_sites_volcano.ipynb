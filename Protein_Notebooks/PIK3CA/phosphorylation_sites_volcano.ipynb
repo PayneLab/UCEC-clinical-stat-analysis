{
 "cells": [
  {
   "cell_type": "markdown",
   "metadata": {},
   "source": [
    "# Statistical Testing Templates for CPTAC Data"
   ]
  },
  {
   "cell_type": "markdown",
   "metadata": {},
   "source": [
    "<b>Standard imports for playing with and plotting data frames.</b>"
   ]
  },
  {
   "cell_type": "code",
   "execution_count": 1,
   "metadata": {},
   "outputs": [],
   "source": [
    "import pandas as pd\n",
    "import numpy as np\n",
    "import scipy.stats\n",
    "from scipy.stats import pearsonr\n",
    "import matplotlib.pyplot as plt\n",
    "import re\n",
    "import seaborn as sns\n",
    "import statsmodels.stats.multitest\n",
    "import copy\n",
    "#import altair as alt\n",
    "#alt.renderers.enable('notebook') #Necessary for Altair to work"
   ]
  },
  {
   "cell_type": "code",
   "execution_count": 2,
   "metadata": {
    "scrolled": true
   },
   "outputs": [
    {
     "name": "stdout",
     "output_type": "stream",
     "text": [
      "Loading CPTAC data:\n",
      "Loading Dictionary...\n",
      "Loading Clinical Data...\n",
      "Loading Proteomics Data...\n",
      "Loading Transcriptomics Data...\n",
      "Loading CNA Data...\n",
      "Loading Phosphoproteomics Data...\n",
      "Loading Somatic Mutation Data...\n",
      "\n",
      " ******PLEASE READ******\n",
      "WARNING: This data is under a publication embargo until July 1, 2019.\n",
      "CPTAC is a community resource project and data are made available\n",
      "rapidly after generation for community research use. The embargo\n",
      "allows exploring and utilizing the data, but the data may not be in a\n",
      "publication until July 1, 2019. Please see\n",
      "https://proteomics.cancer.gov/data-portal/about/data-use-agreement or\n",
      "enter CPTAC.embargo() to open the webpage for more details.\n"
     ]
    }
   ],
   "source": [
    "import CPTAC"
   ]
  },
  {
   "cell_type": "code",
   "execution_count": 3,
   "metadata": {},
   "outputs": [],
   "source": [
    "somatic_mutations = CPTAC.get_somatic()\n",
    "proteomics = CPTAC.get_proteomics()\n",
    "phos = CPTAC.get_phosphoproteomics()\n",
    "\n",
    "#print(phos)\n",
    "\n",
    "#Try Looking at all proteins, not just interacting proteins\n",
    "all_proteins = list(proteomics.columns.values)"
   ]
  },
  {
   "cell_type": "markdown",
   "metadata": {},
   "source": [
    "### Test for phosphorylation levels (mutation in any gene with phosphorylation of any protein)"
   ]
  },
  {
   "cell_type": "code",
   "execution_count": 4,
   "metadata": {},
   "outputs": [],
   "source": [
    "#List of proteins (will test all phosphorylation sites on these proteins)\n",
    "phosProtList = all_proteins"
   ]
  },
  {
   "cell_type": "code",
   "execution_count": 5,
   "metadata": {},
   "outputs": [
    {
     "name": "stderr",
     "output_type": "stream",
     "text": [
      "/anaconda3/lib/python3.6/site-packages/numpy/core/fromnumeric.py:3157: RuntimeWarning: Degrees of freedom <= 0 for slice\n",
      "  **kwargs)\n",
      "/anaconda3/lib/python3.6/site-packages/numpy/core/_methods.py:132: RuntimeWarning: invalid value encountered in double_scalars\n",
      "  ret = ret.dtype.type(ret / rcount)\n",
      "IOPub data rate exceeded.\n",
      "The notebook server will temporarily stop sending output\n",
      "to the client in order to avoid crashing it.\n",
      "To change this limit, set the config variable\n",
      "`--NotebookApp.iopub_data_rate_limit`.\n",
      "\n",
      "Current values:\n",
      "NotebookApp.iopub_data_rate_limit=1000000.0 (bytes/sec)\n",
      "NotebookApp.rate_limit_window=3.0 (secs)\n",
      "\n"
     ]
    }
   ],
   "source": [
    "sites = phos.columns\n",
    "p_values = []\n",
    "site_names = []\n",
    "gene = 'PIK3CA'\n",
    "\n",
    "for protein in phosProtList:\n",
    "    pattern = re.compile(protein)\n",
    "    isInList = filter(pattern.search, sites)\n",
    "    if next(isInList, None) is not None:\n",
    "        phosphositesdf = CPTAC.compare_mutations(phos, protein, gene)\n",
    "        phosphositesdf = phosphositesdf.loc[phosphositesdf['Patient_Type'] == 'Tumor'].drop('Patient_Type', axis = 1)\n",
    "       \n",
    "        for site in phosphositesdf.columns:\n",
    "            #just making sure not to do comparison on mutation column\n",
    "            if (site is not 'Mutation'):\n",
    "                sitedf = CPTAC.compare_mutations(phos, site, gene)\n",
    "                sitedf = sitedf.loc[sitedf['Patient_Type'] == 'Tumor'].drop('Patient_Type', axis = 1)\n",
    "                #print(sitedf[99:140])\n",
    "                mutateddf = sitedf.loc[sitedf['Mutation'] != 'Wildtype'].dropna(axis=0)\n",
    "                wtdf = sitedf.loc[sitedf['Mutation'] == 'Wildtype'].dropna(axis=0)\n",
    "                #if len(mutateddf) > 20:\n",
    "                ttest = scipy.stats.ttest_ind(mutateddf[site], wtdf[site])\n",
    "                p_values.append(ttest[1])\n",
    "                site_names.append(site)\n",
    "\n",
    "\n",
    "\n",
    "#We need to remove all 'nan' p-values and their corresponding site names before passing it in for the fdr correction\n",
    "indexesToRemove=[]\n",
    "\n",
    "for index in range(0, len(p_values)):\n",
    "    if np.isnan(p_values[index]):\n",
    "        indexesToRemove.append(index)\n",
    "\n",
    "for rem in range( len(indexesToRemove)-1, -1, -1):\n",
    "    p_values.pop(indexesToRemove[rem])\n",
    "    site_names.pop(indexesToRemove[rem])\n",
    "#p_values and site names have now had all entries removed where the corresponding p-value is 'nan'\n",
    "\n",
    "print(p_values)\n",
    "print(site_names)\n",
    "        \n"
   ]
  },
  {
   "cell_type": "code",
   "execution_count": 26,
   "metadata": {},
   "outputs": [
    {
     "name": "stdout",
     "output_type": "stream",
     "text": [
      "[('EXOC4-S468', 6.924481714683101e-06), ('KIDINS220-S1717', 2.926159917347794e-05), ('RAPH1-S1160', 5.169228002798576e-05), ('NCKAP5L-T1262', 6.453414191741867e-05), ('USP6NL-S757', 6.505037671143995e-05), ('USP54-S1425', 8.929603927003307e-05), ('SETD1B-S1659', 0.00010816757838408726), ('GATAD1-S235', 0.00013585610818085095), ('TNS2-S1257', 0.00013676606237397352), ('ERCC6L2-S1374', 0.00015250610818667756), ('ERCC6L2-T1375', 0.00015250610818667756), ('KIAA1217-S1329', 0.00016986116619984766), ('NT5C2-S535', 0.0001928061605925224), ('PRRC2A-S159', 0.0002289208698491465), ('LTB4R-S313', 0.0002562530408621131), ('CARD11-S448', 0.0002658892492140297), ('PLEKHN1-S571', 0.0003019890249829488), ('FAM120A-Y395', 0.0003432439478581016), ('MPHOSPH6-T147', 0.00036840094175859885), ('TCF7L2-S58', 0.0003997753495677089), ('MYBBP1A-T16', 0.000406584894660094), ('ATXN2-S684', 0.0004143865925924668), ('PLCE1-T2270', 0.0004419399597415622), ('ASPSCR1-T30', 0.00047179858914922387), ('IPCEF1-S335', 0.0005347403130513619), ('RAF1-S316', 0.0005669994538310606), ('CGN-S168', 0.0005975148332866843), ('NFATC2-S221', 0.0006083028816033578), ('MAP1B-S1988', 0.0006551174503884761), ('ARAP1-Y231', 0.0006556216015682425), ('LRBA-S1005', 0.0006636042418640248), ('DSC3-S859', 0.0006944688197355868), ('SEC16A-Y1202', 0.0006972825066863732), ('NOLC1-T188', 0.0007096991699040373), ('PCM1-S1412', 0.0007202168715041542), ('IFI16-T114', 0.0007219116033165132), ('KIAA0355-S723', 0.000743248141662276), ('CTNNB1-T41', 0.0007442445738937455), ('BECN1-S93', 0.0007473449916461761), ('KMT2A-S3514', 0.0007774937844088817), ('NES-S1016', 0.0007809992210136065), ('DES-S47', 0.0008697834923291664), ('DAXX-T420', 0.0008811556706892382), ('SPATS2-S391', 0.0008817991201324417), ('NUFIP2-T335', 0.0009419912332621163), ('TNS1-T1173', 0.0009427823869010998), ('FERMT2-S673', 0.0009447398272045617), ('SAMD4B-S172', 0.0009548067444037111), ('HELZ-S1767', 0.0009739278142552264), ('PKP1-T180', 0.0009743483107887519), ('PPP6R2-T431', 0.0009903071581002234), ('BRD3-T249', 0.0010197261023701663), ('NBEAL1-T2686', 0.0010469550911503301), ('USP24-T1289', 0.001071683634906542), ('TRPM7-S1352', 0.001117676997966431), ('FBXO46-Y190', 0.0011587090724924029), ('TBC1D12-S770', 0.001202048772358331), ('FAM129B-S609', 0.0012145128117613394), ('EMX2-S221', 0.0012268510994522144), ('KDM5B-S1492', 0.0012483716797784664), ('DYRK1B-S451', 0.0012962489196648977), ('H1F0-T2', 0.0013336134659097563), ('YTHDC1-S35', 0.001343495337730786), ('LAMB1-S1666', 0.0013474630548161398), ('MAVS-S100', 0.001378688766122105), ('PYGO2-S97', 0.001387908611651193), ('KIAA1210-S793', 0.001402095393887693), ('PPP1R12A-Y769', 0.0014351700990603627), ('KIAA0753-S826', 0.0014414699746616636), ('HUWE1-S2735', 0.001454830293383558), ('OXR1-S7', 0.0014695811040098786), ('LRCH3-T586', 0.0015003483388551038), ('LRCH3-T588', 0.0015003483388551038), ('KANK2-T535', 0.001501418955710473), ('NBEAL1-T1844', 0.00150940052200424), ('ARHGEF40-S1491', 0.0015115037235412527), ('TPR-S379', 0.0015147094499984924), ('DIP2A-T155', 0.0015186609679889204), ('BTAF1-S234', 0.0015269373010726249), ('AVL9-S586', 0.0015347190279012318), ('SNRNP70-S417', 0.0015405829815600294), ('GPATCH2-S359', 0.0015640975439490483), ('ARHGAP31-S689', 0.0015719898464647947), ('GIGYF1-T610', 0.0016037452010496656), ('SOX17-S302', 0.0016171450205075923), ('RIPOR1-S362', 0.0016186694588184486), ('NEDD1-S418', 0.0016328457892331755), ('CPEB3-T44', 0.0016428432609805206), ('PHC1-T918', 0.001647549195236468), ('AUTS2-T1237', 0.0016844154235291198), ('MAP3K4-S178', 0.001685900347171666), ('GAPVD1-S930', 0.001690411204949388), ('NUMA1-S1844', 0.0016949637214701383), ('CHD1-S1100', 0.0017084893047102725), ('NFATC3-S95', 0.0017168740714581102), ('TNS1-T1088', 0.0017467171463929935), ('ZC3H13-S204', 0.0017999775158528282), ('ZC3H14-S134', 0.0018000473727655588), ('SMARCA5-S47', 0.001825778498234779), ('RAPGEF2-S1362', 0.001833504609456015)]\n"
     ]
    }
   ],
   "source": [
    "copy_site_names = copy.deepcopy(site_names)\n",
    "copy_p_values = copy.deepcopy(p_values)\n",
    "\n",
    "pvalDict = dict(zip(copy_site_names, copy_p_values))\n",
    "orig_sorted_dict = sorted(pvalDict.items(), key=lambda kv: kv[1])\n",
    "\n",
    "sorted_dict = copy.deepcopy(orig_sorted_dict)\n",
    "sorted_dict = sorted_dict[0:100]\n",
    "\n",
    "print(sorted_dict)"
   ]
  },
  {
   "cell_type": "code",
   "execution_count": 27,
   "metadata": {},
   "outputs": [],
   "source": [
    "gene = \"PIK3CA\"\n",
    "diffMeans = []\n",
    "for val in sorted_dict:\n",
    "    df = CPTAC.compare_mutations(phos, val[0], gene)\n",
    "    df = df.loc[df[\"Patient_Type\"] == \"Tumor\"].drop(\"Patient_Type\", axis = 1)\n",
    "    #print(df)\n",
    "    mutatedf = df.loc[df[\"Mutation\"]!=\"Wildtype\"]\n",
    "    wtdf= df.loc[df[\"Mutation\"] ==\"Wildtype\"]\n",
    "    meanMutated = np.mean(mutatedf[val[0]])\n",
    "    #print(\"MEAN MUT: \", meanMutated)\n",
    "    meanWt = np.mean(wtdf[val[0]])\n",
    "    #print(\"MEAN WT: \", meanWt)\n",
    "    diffMean = meanMutated - meanWt\n",
    "    #print(\"Diff mean: \", diffMean)\n",
    "    diffMeans.append(diffMean)"
   ]
  },
  {
   "cell_type": "code",
   "execution_count": 28,
   "metadata": {},
   "outputs": [
    {
     "name": "stdout",
     "output_type": "stream",
     "text": [
      "{-0.4036686153846155: 5.1596127272276595, 0.28563842500000003: 4.533701942966728, -1.0445833333333334: 4.286574311675709, 1.108266666666667: 4.1902104601965675, 0.541: 4.1867501840643335, 1.46830675: 4.049167803836162, -0.2920183333333334: 3.9659028930084568, 0.4525613333333333: 3.866920830638785, -0.6185064935064936: 3.864021656652788, 1.1548975: 3.816712761571991, 1.4616666666666667: 3.769905898546202, -1.8268720000000003: 3.714879093521399, -0.8203750000000001: 3.6403146125366406, -0.45896993006993003: 3.5913309722901396, -0.6243333333333334: 3.5752992222826245, -0.5634333333333333: 3.52000884007581, 0.6827000000000001: 3.4643971115857517, 0.7049445187165775: 3.4336792682687824, -0.613: 3.3981839882988663, 2.4120000000000004: 3.3908487601978026, 0.39217546474358966: 3.3825943045594076, 1.8987946666666666: 3.354636728216714, 1.3867500000000001: 3.3262433621482255, -0.7103: 3.271857074033564, -0.3539001225490196: 3.2464173594461956, 2.0725021666666668: 3.2236513088993335, 0.44744500000000004: 3.2158801262274053, 1.54095: 3.1836808320953303, -1.059: 3.1833467456333637, 0.3542725602968459: 3.178090846559294, -2.3951333333333333: 3.158347248444387, -0.41044: 3.156591230169923, 1.5866333333333333: 3.14892570274111, 0.43203292682926825: 3.142536709241694, -0.32566877272727274: 3.1415159776965154, -0.2879979545454545: 3.1288661679848855, -0.9445: 3.128284323005181, 1.02975: 3.126478871570283, -0.24470715544871796: 3.109303074208153, -0.4241837144837145: 3.1073493992976817, -1.9195000000000002: 3.0605888390923703, -0.8272714285714284: 3.054947359523208, -0.6978500000000001: 3.0546303388526495, 1.8126666666666664: 3.025953138994388, -0.308138064516129: 3.0255885395791022, -0.48341230496453913: 3.0246877757938115, -0.4814864033613445: 3.0200845219579406, 0.2269913237179487: 3.0114732310396555, -3.1513340433333332: 3.0112857634372374, 0.5319883333333333: 3.0042300817879615, 0.7347514311270124: 2.9915164637312692, -0.9302676767676769: 2.980071946863561, -1.1216166666666667: 2.9699334011098673, -0.4962619047619048: 2.951683686850871, 0.8620084415584417: 2.936025592570957, 0.749: 2.9200779107555985, 1.4516666666666664: 2.915597899510225, -1.0076080666666667: 2.9112081435568853, 0.3698824582560298: 2.9036560921818464, -0.3962833333333333: 2.887311592557594, -1.5572666666666666: 2.874970027951515, -0.7598638888888889: 2.871763836340084, -0.4204162134442134: 2.87048313360649, -0.4082558333333333: 2.860533763128969, 0.6492721153846156: 2.8576391295312114, -0.6517333333333334: 2.8532224374181094, 0.5299311111111111: 2.8430966224802807, 0.36082628014842294: 2.8411943993906283, -0.7596000000000002: 2.837187664372658, -4.0329999999999995: 2.832806440859161, 0.7973333333333332: 2.823807898224609, 0.9653566666666666: 2.823498105381521, 1.02575: 2.8211955041501584, 0.40174999999999994: 2.8205907786142306, 0.38888657051282055: 2.8196706650916203, -0.2626937171052631: 2.818539168971693, -0.5615678285714285: 2.8161787955285336, 1.8283666666666665: 2.81397112233751, 0.8746666666666667: 2.8123149039922724, 0.819931: 2.805736165932294, -0.8792250000000001: 2.8035502634101936, 1.3375555555555554: 2.7948646301716633, -1.0512000000000001: 2.7912510321763886, -0.46328282051282066: 2.7908418275080633, 0.553771304347826: 2.7870548293769515, 1.5946666666666667: 2.7844038693941418, -0.3432858246187364: 2.7831616086606585, -0.5168485714285714: 2.773550790569915, -0.5368833333333334: 2.7731680999084993, 0.8384355555555556: 2.7720076372101436, -0.6891583333333334: 2.7708395928791547, -0.3626999629629629: 2.767387735577451, 0.5068857142857143: 2.76526155811602, -0.5783937321937321: 2.7577774165433007, -0.64743: 2.744732919786713, 0.8930291666666667: 2.744716065196723, -1.5276833333333333: 2.7385519118123423, -0.38933492063492064: 2.736717993879656}\n"
     ]
    }
   ],
   "source": [
    "pvals = []\n",
    "for item in sorted_dict:\n",
    "    pvals.append(-1 * np.log10(item[1]))\n",
    "    #_values.append(item[1])\n",
    "\n",
    "pvalsAndMeanDiffDict = dict(zip(diffMeans, pvals))\n",
    "print(pvalsAndMeanDiffDict)"
   ]
  },
  {
   "cell_type": "code",
   "execution_count": 29,
   "metadata": {},
   "outputs": [],
   "source": [
    "df = pd.DataFrame({'-Log10(PValue)': pvals, 'Mean Difference':diffMeans})"
   ]
  },
  {
   "cell_type": "code",
   "execution_count": 30,
   "metadata": {},
   "outputs": [
    {
     "data": {
      "text/plain": [
       "Text(0.5, 1.0, 'Difference in mean phosphorylation levels when PIK3CA is mutated (mutated mean - wildtype mean) for top 100 phosphorylation sites')"
      ]
     },
     "execution_count": 30,
     "metadata": {},
     "output_type": "execute_result"
    },
    {
     "data": {
      "image/png": "[encoded data removed]",
      "text/plain": [
       "<Figure size 432x288 with 1 Axes>"
      ]
     },
     "metadata": {
      "needs_background": "light"
     },
     "output_type": "display_data"
    }
   ],
   "source": [
    "ax = sns.scatterplot(x = \"Mean Difference\", y = \"-Log10(PValue)\", data =df)\n",
    "ax.set_title(\"Difference in mean phosphorylation levels when PIK3CA is mutated (mutated mean - wildtype mean) for top \" + str(len(pvals)) + \" phosphorylation sites\")"
   ]
  },
  {
   "cell_type": "code",
   "execution_count": null,
   "metadata": {},
   "outputs": [],
   "source": []
  }
 ],
 "metadata": {
  "kernelspec": {
   "display_name": "Python 3",
   "language": "python",
   "name": "python3"
  },
  "language_info": {
   "codemirror_mode": {
    "name": "ipython",
    "version": 3
   },
   "file_extension": ".py",
   "mimetype": "text/x-python",
   "name": "python",
   "nbconvert_exporter": "python",
   "pygments_lexer": "ipython3",
   "version": "3.6.8"
  }
 },
 "nbformat": 4,
 "nbformat_minor": 2
}
