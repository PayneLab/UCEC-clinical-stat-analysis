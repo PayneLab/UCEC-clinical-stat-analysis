{
 "cells": [
  {
   "cell_type": "markdown",
   "metadata": {},
   "source": [
    "<b> Standard imports for playing with and plotting data frames. </b>"
   ]
  },
  {
   "cell_type": "code",
   "execution_count": 1,
   "metadata": {},
   "outputs": [],
   "source": [
    "import pandas as pd\n",
    "import numpy as np\n",
    "import scipy.stats\n",
    "import matplotlib.pyplot as plt\n",
    "import seaborn as sns\n",
    "import re\n",
    "import statsmodels.stats.multitest\n",
    "import random"
   ]
  },
  {
   "cell_type": "markdown",
   "metadata": {},
   "source": [
    "<b> Import CPTAC data </b>"
   ]
  },
  {
   "cell_type": "code",
   "execution_count": 2,
   "metadata": {},
   "outputs": [
    {
     "name": "stdout",
     "output_type": "stream",
     "text": [
      "Loading CPTAC data:\n",
      "Loading Dictionary...\n",
      "Loading Clinical Data...\n",
      "Loading Proteomics Data...\n",
      "Loading Transcriptomics Data...\n",
      "Loading CNA Data...\n",
      "Loading Phosphoproteomics Data...\n",
      "Loading Somatic Mutation Data...\n",
      "\n",
      " ******PLEASE READ******\n",
      "WARNING: This data is under a publication embargo until July 1, 2019.\n",
      "CPTAC is a community resource project and data are made available\n",
      "rapidly after generation for community research use. The embargo\n",
      "allows exploring and utilizing the data, but the data may not be in a\n",
      "publication until July 1, 2019. Please see\n",
      "https://proteomics.cancer.gov/data-portal/about/data-use-agreement or\n",
      "enter CPTAC.embargo() to open the webpage for more details.\n"
     ]
    }
   ],
   "source": [
    "import CPTAC"
   ]
  },
  {
   "cell_type": "code",
   "execution_count": 3,
   "metadata": {},
   "outputs": [],
   "source": [
    "somatic_mutations = CPTAC.get_somatic()\n",
    "proteomics = CPTAC.get_proteomics()\n",
    "phos = CPTAC.get_phosphoproteomics()\n",
    "\n",
    "random.seed(0)"
   ]
  },
  {
   "cell_type": "markdown",
   "metadata": {},
   "source": [
    "## Get the patients who have mutations in both PTEN and PIK3CA "
   ]
  },
  {
   "cell_type": "code",
   "execution_count": 32,
   "metadata": {},
   "outputs": [
    {
     "name": "stdout",
     "output_type": "stream",
     "text": [
      "      Patient_Id    Gene           Mutation        Location  \\\n",
      "1147   C3L-00032  PIK3CA  Missense_Mutation         p.E545K   \n",
      "1426   C3L-00139  PIK3CA  Missense_Mutation         p.Q546P   \n",
      "1574   C3L-00143  PIK3CA  Missense_Mutation         p.R115L   \n",
      "2260   C3L-00156  PIK3CA  Missense_Mutation         p.L628R   \n",
      "2261   C3L-00156  PIK3CA  Missense_Mutation        p.T1025A   \n",
      "3417   C3L-00161  PIK3CA  Missense_Mutation          p.R38C   \n",
      "3418   C3L-00161  PIK3CA  Missense_Mutation         p.V344M   \n",
      "4648   C3L-00362  PIK3CA  Missense_Mutation        p.H1047R   \n",
      "4756   C3L-00563  PIK3CA  Missense_Mutation         p.G118D   \n",
      "4757   C3L-00563  PIK3CA  Missense_Mutation         p.E545V   \n",
      "7216   C3L-00586  PIK3CA  Missense_Mutation          p.F83S   \n",
      "7217   C3L-00586  PIK3CA  Missense_Mutation          p.R88Q   \n",
      "7218   C3L-00586  PIK3CA  Missense_Mutation         p.K111N   \n",
      "7219   C3L-00586  PIK3CA  Missense_Mutation        p.Y1021C   \n",
      "16613  C3L-00601  PIK3CA  Missense_Mutation         p.E545K   \n",
      "16614  C3L-00601  PIK3CA  Missense_Mutation         p.F667L   \n",
      "19188  C3L-00605  PIK3CA  Missense_Mutation         p.E545K   \n",
      "19290  C3L-00769  PIK3CA  Missense_Mutation         p.C420R   \n",
      "19525  C3L-00770  PIK3CA  Missense_Mutation          p.R93W   \n",
      "19526  C3L-00770  PIK3CA  Missense_Mutation        p.N1044K   \n",
      "20178  C3L-00771  PIK3CA  Missense_Mutation        p.M1043L   \n",
      "20505  C3L-00781  PIK3CA  Missense_Mutation         p.R108H   \n",
      "21286  C3L-00905  PIK3CA  Missense_Mutation         p.K111E   \n",
      "21386  C3L-00918  PIK3CA  Missense_Mutation         p.E545A   \n",
      "21643  C3L-00921  PIK3CA  Missense_Mutation         p.E542K   \n",
      "21849  C3L-00942  PIK3CA  Missense_Mutation         p.K111E   \n",
      "22656  C3L-00947  PIK3CA  Missense_Mutation         p.E545K   \n",
      "22746  C3L-00961  PIK3CA  Missense_Mutation          p.R88Q   \n",
      "22747  C3L-00961  PIK3CA  Missense_Mutation        p.Y1021H   \n",
      "22865  C3L-01247  PIK3CA  Missense_Mutation          p.F83S   \n",
      "...          ...     ...                ...             ...   \n",
      "37617  C3N-00321  PIK3CA  Missense_Mutation         p.G106D   \n",
      "37618  C3N-00321  PIK3CA  Missense_Mutation         p.E542K   \n",
      "38352  C3N-00323  PIK3CA  Missense_Mutation         p.E545K   \n",
      "38401  C3N-00324  PIK3CA  Missense_Mutation        p.H1047R   \n",
      "38445  C3N-00326  PIK3CA       In_Frame_Del  p.P449_L452del   \n",
      "39718  C3N-00328  PIK3CA  Missense_Mutation          p.E81K   \n",
      "39719  C3N-00328  PIK3CA  Missense_Mutation         p.E542K   \n",
      "43587  C3N-00333  PIK3CA  Missense_Mutation         p.I112F   \n",
      "43588  C3N-00333  PIK3CA  Missense_Mutation         p.E545K   \n",
      "43687  C3N-00334  PIK3CA  Missense_Mutation         p.Q546R   \n",
      "44911  C3N-00337  PIK3CA  Missense_Mutation          p.R38S   \n",
      "44912  C3N-00337  PIK3CA       In_Frame_Del  p.E103_V105del   \n",
      "45433  C3N-00379  PIK3CA       In_Frame_Del       p.E110del   \n",
      "45469  C3N-00383  PIK3CA  Missense_Mutation        p.H1047R   \n",
      "45590  C3N-00388  PIK3CA  Missense_Mutation          p.R88Q   \n",
      "46555  C3N-00743  PIK3CA  Missense_Mutation        p.H1047Y   \n",
      "46858  C3N-00848  PIK3CA  Missense_Mutation         p.G106S   \n",
      "46859  C3N-00848  PIK3CA  Missense_Mutation         p.Q546P   \n",
      "47303  C3N-00858  PIK3CA  Missense_Mutation        p.M1043V   \n",
      "47557  C3N-00880  PIK3CA  Missense_Mutation         p.Q546R   \n",
      "48112  C3N-01001  PIK3CA  Missense_Mutation         p.E453K   \n",
      "48398  C3N-01003  PIK3CA  Missense_Mutation         p.E542K   \n",
      "48845  C3N-01212  PIK3CA  Missense_Mutation        p.H1047R   \n",
      "49828  C3N-01267  PIK3CA  Missense_Mutation         p.E453K   \n",
      "49849  C3N-01346  PIK3CA  Missense_Mutation         p.V344G   \n",
      "49902  C3N-01349  PIK3CA  Missense_Mutation          p.R93Q   \n",
      "49903  C3N-01349  PIK3CA  Missense_Mutation         p.E545K   \n",
      "50016  C3N-01510  PIK3CA  Missense_Mutation         p.E545K   \n",
      "50841  C3N-01520  PIK3CA  Missense_Mutation         p.E726K   \n",
      "53076  C3N-01825  PIK3CA  Missense_Mutation         p.K111E   \n",
      "\n",
      "      Clinical_Patient_Key  \n",
      "1147                  S003  \n",
      "1426                  S009  \n",
      "1574                  S010  \n",
      "2260                  S012  \n",
      "2261                  S012  \n",
      "3417                  S014  \n",
      "3418                  S014  \n",
      "4648                  S018  \n",
      "4756                  S021  \n",
      "4757                  S021  \n",
      "7216                  S022  \n",
      "7217                  S022  \n",
      "7218                  S022  \n",
      "7219                  S022  \n",
      "16613                 S023  \n",
      "16614                 S023  \n",
      "19188                 S024  \n",
      "19290                 S026  \n",
      "19525                 S027  \n",
      "19526                 S027  \n",
      "20178                 S028  \n",
      "20505                 S030  \n",
      "21286                 S031  \n",
      "21386                 S032  \n",
      "21643                 S033  \n",
      "21849                 S036  \n",
      "22656                 S038  \n",
      "22746                 S040  \n",
      "22747                 S040  \n",
      "22865                 S043  \n",
      "...                    ...  \n",
      "37617                 S061  \n",
      "37618                 S061  \n",
      "38352                 S063  \n",
      "38401                 S064  \n",
      "38445                 S065  \n",
      "39718                 S066  \n",
      "39719                 S066  \n",
      "43587                 S067  \n",
      "43588                 S067  \n",
      "43687                 S068  \n",
      "44911                 S070  \n",
      "44912                 S070  \n",
      "45433                 S074  \n",
      "45469                 S075  \n",
      "45590                 S077  \n",
      "46555                 S081  \n",
      "46858                 S084  \n",
      "46859                 S084  \n",
      "47303                 S086  \n",
      "47557                 S088  \n",
      "48112                 S089  \n",
      "48398                 S090  \n",
      "48845                 S092  \n",
      "49828                 S095  \n",
      "49849                 S096  \n",
      "49902                 S097  \n",
      "49903                 S097  \n",
      "50016                 S098  \n",
      "50841                 S099  \n",
      "53076                   NA  \n",
      "\n",
      "[63 rows x 5 columns]\n",
      "41\n"
     ]
    }
   ],
   "source": [
    "#create a dataframe with both mutations included \n",
    "\n",
    "mutation_1 = 'PIK3CA'\n",
    "mutation_2 = 'PTEN'\n",
    "common_mutated = somatic_mutations.loc[(somatic_mutations['Gene'] == mutation_1) | (somatic_mutations['Gene'] == mutation_2)]\n",
    "\n",
    "mutations_first = somatic_mutations.loc[(somatic_mutations['Gene'] == mutation_1)]\n",
    "print(mutations_first[1:100])\n",
    "#print(mutations_first['Clinical_Patient_Key'])\n",
    "\n",
    "patients_first = mutations_first['Clinical_Patient_Key']\n",
    "first_list = patients_first.tolist()\n",
    "mutations_second = somatic_mutations.loc[somatic_mutations['Gene'] == mutation_2]\n",
    "#print(mutations_second)\n",
    "patients_second = mutations_second['Clinical_Patient_Key']\n",
    "second_list = patients_second.tolist()\n",
    "\n",
    "#get the number of unique patients in the pik3ca mutation list\n",
    "unique_1 = list()\n",
    "for person in first_list:\n",
    "    if person not in unique_1:\n",
    "        unique_1.append(person)\n",
    "\n",
    "#check for the overlaps \n",
    "common_list = list()\n",
    "for person in second_list:\n",
    "    if person in unique_1:\n",
    "        if person not in common_list:\n",
    "            common_list.append(person)\n",
    "\n",
    "print(len(common_list))\n",
    "#print(common_list)"
   ]
  },
  {
   "cell_type": "markdown",
   "metadata": {},
   "source": [
    "# Compare AKT1 Phosphoproteomics "
   ]
  },
  {
   "cell_type": "markdown",
   "metadata": {},
   "source": [
    "### Create a dataframe showing PTEN and PIK3CA mutations "
   ]
  },
  {
   "cell_type": "code",
   "execution_count": 28,
   "metadata": {},
   "outputs": [],
   "source": [
    "def combine_dataframes(gene_1, gene_2, site, dataframe):\n",
    "\n",
    "    #create a dataframe for PIK3CA mutations\n",
    "    phosdf_pik = CPTAC.compare_mutations(dataframe, site, gene_1)\n",
    "    phosdf_pik = phosdf_pik.rename(index=str, columns={'Mutation' : 'Gene_1_Mutation'})\n",
    "\n",
    "    #create a dataframe for PTEN mutations\n",
    "    phosdf_pten = CPTAC.compare_mutations(dataframe, site, gene_2)\n",
    "    phosdf_pten = phosdf_pten.rename(index=str, columns={'Mutation' : 'Gene_2_Mutation'})\n",
    "\n",
    "    #extract the mutation column in PTEN that will be added to a combined dataframe\n",
    "    pten_col = phosdf_pten['Gene_2_Mutation']\n",
    "\n",
    "    #add the PTEN column to create a combined dataframe \n",
    "    phos_combined = phosdf_pik\n",
    "    phos_combined['Gene_2_Mutation'] = pten_col\n",
    "\n",
    "    #create new column to indicate if patient has mutations in both PIK3CA and PTEN\n",
    "    phos_combined['Both_Mutations'] = False\n",
    "    phos_combined.loc[common_list, 'Both_Mutations'] = True\n",
    "    phos_combined.loc[(phos_combined['Gene_1_Mutation'] == 'Wildtype') & (phos_combined['Gene_2_Mutation'] == 'Wildtype'), 'Both_Mutations'] = 'Wildtype'\n",
    "    #phos_combined.loc[(phos_combined['Gene_1_Mutation'] == 'Wildtype') | (phos_combined['Gene_2_Mutation'] == 'Wildtype') ]\n",
    "    phos_combined.loc[(phos_combined['Gene_1_Mutation'] == 'Wildtype') & (phos_combined['Gene_2_Mutation'] != 'Wildtype'), 'Both_Mutations'] = (gene_2 + '_Only')\n",
    "    #print(phos_combined)\n",
    "    phos_combined.loc[(phos_combined['Gene_1_Mutation'] != 'Wildtype') & (phos_combined['Gene_2_Mutation'] == 'Wildtype'), 'Both_Mutations'] =  (gene_1 + '_Only')\n",
    "    #print(phos_combined)\n",
    "    #take out the control\n",
    "    phos_combined.loc[phos_combined['Patient_Type'] == 'Normal', 'Both_Mutations'] = 'Normal'\n",
    "    \n",
    "    return phos_combined\n"
   ]
  },
  {
   "cell_type": "markdown",
   "metadata": {},
   "source": [
    "### Both Mutations vs. Non-tumor"
   ]
  },
  {
   "cell_type": "code",
   "execution_count": 29,
   "metadata": {},
   "outputs": [
    {
     "name": "stdout",
     "output_type": "stream",
     "text": [
      "AKT1-S124   3.0973830825097156e-09\n",
      "AKT1-S126   7.200404066034409e-07\n",
      "AKT1-S129   1.639942257243254e-08\n",
      "AKT1S1-S108   6.808557683501523e-05\n",
      "AKT1S1-S112   0.001083569901724981\n",
      "AKT1S1-S203   4.958249091904489e-05\n"
     ]
    }
   ],
   "source": [
    "gene_1 = 'PIK3CA'\n",
    "gene_2 = 'PTEN'\n",
    "protein = 'AKT1'\n",
    "\n",
    "phos_df = CPTAC.compare_mutations(phos, protein, gene_1)\n",
    "#print(phos_df)\n",
    "\n",
    "cutoff = 0.05/len(phos_df.columns)\n",
    "\n",
    "\n",
    "#phos_df = phos_df['Patient_Type'].dropna(axis=0)\n",
    "for site in phos_df.columns:\n",
    "    if (site is not 'Mutation' and site is not 'Patient_Type'):\n",
    "        \n",
    "        sitedf = combine_dataframes(gene_1, gene_2,  site, phos)\n",
    "        #print(sitedf)\n",
    "        #print(sitedf)\n",
    "        #mutateddf = sitedf.loc[(sitedf['Gene_1_Mutation'] != 'Wildtype') | (sitedf['Gene_2_Mutation'] != 'Wildtype') ].dropna(axis=1)\n",
    "        #print(mutateddf)\n",
    "        mutateddf = sitedf.loc[sitedf['Both_Mutations'] == True].dropna(axis = 0)\n",
    "        #print(mutateddf)\n",
    "        #print(mutateddf)\n",
    "        #print(mutateddf)\n",
    "        wtdf = sitedf.loc[(sitedf['Both_Mutations'] == 'Normal')].dropna(axis = 0)\n",
    "        \n",
    "        #print(wtdf)\n",
    "        #wtdf = sitedf.loc[sitedf['Both_Mutations'] == False].dropna(axis=0)\n",
    "        #wtdf = wtdf.loc[wtdf['Gene_1_Mutation'] == 'Wildtype']\n",
    "        #wtdf = wtdf.loc[wtdf['Gene_2_Mutation'] == 'Wildtype']\n",
    "        \n",
    "        #print(wtdf[site])\n",
    "        if site in wtdf.columns and site in mutateddf.columns:\n",
    "            ttest = scipy.stats.ttest_ind(mutateddf[site], wtdf[site])\n",
    "            #print(ttest)\n",
    "            if ttest[1] < cutoff:\n",
    "                print(site, \" \", ttest[1])\n",
    "        #else: print(\"Unsignificant Results\" , site, \" \", ttest[1])\n",
    "\n"
   ]
  },
  {
   "cell_type": "code",
   "execution_count": 30,
   "metadata": {},
   "outputs": [
    {
     "data": {
      "image/png": "[encoded data removed]",
      "text/plain": [
       "<Figure size 842.4x595.44 with 1 Axes>"
      ]
     },
     "metadata": {
      "needs_background": "light"
     },
     "output_type": "display_data"
    }
   ],
   "source": [
    "site = 'AKT1-S124'\n",
    "sitedf = combine_dataframes(gene_1, gene_2, site, phos)\n",
    "\n",
    "a4_dims = (11.7, 8.27)\n",
    "fig, ax = plt.subplots(figsize=a4_dims)\n",
    "\n",
    "boxplt = sns.boxplot(data = sitedf, x = 'Both_Mutations', y = site)\n",
    "boxplt = sns.stripplot(data = sitedf, x = 'Both_Mutations', y = site, jitter = True, color = '.3')\n",
    "plt.show()"
   ]
  },
  {
   "cell_type": "markdown",
   "metadata": {},
   "source": [
    "### Both Mutations vs. Wildtype_1 (PTEN Mutations Only)"
   ]
  },
  {
   "cell_type": "code",
   "execution_count": 8,
   "metadata": {},
   "outputs": [
    {
     "name": "stderr",
     "output_type": "stream",
     "text": [
      "/Users/emilyhosk/anaconda3/envs/research/lib/python3.7/site-packages/numpy/core/fromnumeric.py:3157: RuntimeWarning: Degrees of freedom <= 0 for slice\n",
      "  **kwargs)\n",
      "/Users/emilyhosk/anaconda3/envs/research/lib/python3.7/site-packages/numpy/core/_methods.py:132: RuntimeWarning: invalid value encountered in double_scalars\n",
      "  ret = ret.dtype.type(ret / rcount)\n"
     ]
    }
   ],
   "source": [
    "\n",
    "\n",
    "phos_df = CPTAC.compare_mutations(phos, protein, gene_1)\n",
    "#print(phos_df)\n",
    "\n",
    "cutoff = 0.05/len(phos_df.columns)\n",
    "\n",
    "for site in phos_df.columns:\n",
    "    #print(\"site: \", site)\n",
    "    if (site is not 'Mutation' and site is not 'Patient_Type'):\n",
    "        #print(site)\n",
    "        sitedf = combine_dataframes(gene_1, gene_2,  site, phos)\n",
    "        #print(sitedf)\n",
    "        #mutateddf = sitedf.loc[(sitedf['Gene_1_Mutation'] != 'Wildtype') | (sitedf['Gene_2_Mutation'] != 'Wildtype') ].dropna(axis=1)\n",
    "        #print(mutateddf)\n",
    "        mutateddf = sitedf.loc[sitedf['Both_Mutations'] == True].dropna(axis = 0)\n",
    "        #print(mutateddf)\n",
    "        #print(mutateddf)\n",
    "        wtdf = sitedf.loc[(sitedf['Both_Mutations'] == (gene_2 + '_Only'))].dropna(axis = 0)\n",
    "        #print(wtdf)\n",
    "        #print(wtdf)\n",
    "        #wtdf = sitedf.loc[sitedf['Both_Mutations'] == False].dropna(axis=0)\n",
    "        #wtdf = wtdf.loc[wtdf['Gene_1_Mutation'] == 'Wildtype']\n",
    "        #wtdf = wtdf.loc[wtdf['Gene_2_Mutation'] == 'Wildtype']\n",
    "        \n",
    "        #print(wtdf[site])\n",
    "        if site in wtdf.columns and site in mutateddf.columns:\n",
    "            ttest = scipy.stats.ttest_ind(mutateddf[site], wtdf[site])\n",
    "            #print(ttest)\n",
    "            if ttest[1] < cutoff:\n",
    "                print(site, \" \", ttest[1])\n",
    "            #else: print(\"Unsignificant Results\" , site, \" \", ttest)\n",
    "\n"
   ]
  },
  {
   "cell_type": "markdown",
   "metadata": {},
   "source": [
    "### Both Mutations vs. Wildtype_2 (PIK3CA Mutations Only)"
   ]
  },
  {
   "cell_type": "code",
   "execution_count": 9,
   "metadata": {},
   "outputs": [],
   "source": [
    "\n",
    "\n",
    "phos_df = CPTAC.compare_mutations(phos, protein, gene_1)\n",
    "#print(phos_df)\n",
    "\n",
    "cutoff = 0.05/len(phos_df.columns)\n",
    "#print(cutoff)\n",
    "\n",
    "for site in phos_df.columns:\n",
    "    if (site is not 'Mutation'and site is not 'Patient_Type'):\n",
    "        \n",
    "        sitedf = combine_dataframes(gene_1, gene_2, site, phos)\n",
    "        #print(sitedf)\n",
    "        #mutateddf = sitedf.loc[(sitedf['Gene_1_Mutation'] != 'Wildtype') | (sitedf['Gene_2_Mutation'] != 'Wildtype') ].dropna(axis=1)\n",
    "        #print(mutateddf)\n",
    "        mutateddf = sitedf.loc[sitedf['Both_Mutations'] == True].dropna(axis=0)\n",
    "        #print(mutateddf)\n",
    "        #print(mutateddf)\n",
    "        wtdf = sitedf.loc[(sitedf['Both_Mutations'] == (gene_1 + '_Only'))].dropna(axis=0)\n",
    "        \n",
    "        #print(wtdf)\n",
    "        #wtdf = sitedf.loc[sitedf['Both_Mutations'] == False].dropna(axis=0)\n",
    "        #wtdf = wtdf.loc[wtdf['Gene_1_Mutation'] == 'Wildtype']\n",
    "        #wtdf = wtdf.loc[wtdf['Gene_2_Mutation'] == 'Wildtype']\n",
    "        \n",
    "        #print(wtdf[site])\n",
    "        \n",
    "        if site in wtdf.columns and site in mutateddf.columns:\n",
    "            ttest = scipy.stats.ttest_ind(mutateddf[site], wtdf[site])\n",
    "            #print(ttest)\n",
    "            if ttest[1] < cutoff:\n",
    "                print(site, \" \", ttest[1])\n",
    "        else: print(\"Unsignificant Results\" , site, \" \", ttest[1])\n",
    "\n",
    "\n"
   ]
  },
  {
   "cell_type": "markdown",
   "metadata": {},
   "source": [
    "### Wildtype_1 vs. Wildtype_2 (PTEN Mutations Only v PIK3CA Mutations Only)"
   ]
  },
  {
   "cell_type": "code",
   "execution_count": 10,
   "metadata": {},
   "outputs": [],
   "source": [
    "\n",
    "phos_df = CPTAC.compare_mutations(phos, protein, gene_1)\n",
    "#print(phos_df)\n",
    "\n",
    "cutoff = 0.05/len(phos_df.columns)\n",
    "\n",
    "for site in phos_df.columns:\n",
    "    if (site is not 'Mutation'and site is not 'Patient_Type'):\n",
    "        \n",
    "        sitedf = combine_dataframes(gene_1, gene_2,  site, phos)\n",
    "        #print(sitedf)\n",
    "        #mutateddf = sitedf.loc[(sitedf['Gene_1_Mutation'] != 'Wildtype') | (sitedf['Gene_2_Mutation'] != 'Wildtype') ].dropna(axis=1)\n",
    "        #print(mutateddf)\n",
    "        mutateddf = sitedf.loc[sitedf['Both_Mutations'] == (gene_1 + '_Only')].dropna(axis=0)\n",
    "        #print(mutateddf)\n",
    "        #print(mutateddf)\n",
    "        wtdf = sitedf.loc[(sitedf['Both_Mutations'] == (gene_2 + '_Only'))].dropna(axis=0)\n",
    "        #print(wtdf)\n",
    "        #print(wtdf)\n",
    "        #wtdf = sitedf.loc[sitedf['Both_Mutations'] == False].dropna(axis=0)\n",
    "        #wtdf = wtdf.loc[wtdf['Gene_1_Mutation'] == 'Wildtype']\n",
    "        #wtdf = wtdf.loc[wtdf['Gene_2_Mutation'] == 'Wildtype']\n",
    "        \n",
    "        #print(wtdf[site])\n",
    "        if site in wtdf.columns and site in mutateddf.columns:\n",
    "            ttest = scipy.stats.ttest_ind(mutateddf[site], wtdf[site])\n",
    "            #print(ttest)\n",
    "            if ttest[1] < cutoff:\n",
    "                print(site, \" \", ttest[1])\n",
    "        else: print(\"Unsignificant Results\" , site, \" \", ttest[1])\n",
    "\n",
    "\n"
   ]
  },
  {
   "cell_type": "markdown",
   "metadata": {},
   "source": [
    "### Both Mutations vs. Wildtype (No PTEN or PIK3CA mutations)"
   ]
  },
  {
   "cell_type": "code",
   "execution_count": 11,
   "metadata": {},
   "outputs": [],
   "source": [
    "\n",
    "phos_df = CPTAC.compare_mutations(phos, protein, gene_1)\n",
    "#print(phos_df)\n",
    "\n",
    "cutoff = 0.05/len(phos_df.columns)\n",
    "\n",
    "for site in phos_df.columns:\n",
    "    if (site is not 'Mutation'and site is not 'Patient_Type'):\n",
    "        \n",
    "        sitedf = combine_dataframes(gene_1, gene_2,  site, phos)\n",
    "        #print(sitedf)\n",
    "        #mutateddf = sitedf.loc[(sitedf['Gene_1_Mutation'] != 'Wildtype') | (sitedf['Gene_2_Mutation'] != 'Wildtype') ].dropna(axis=1)\n",
    "        #print(mutateddf)\n",
    "        mutateddf = sitedf.loc[sitedf['Both_Mutations'] == True].dropna(axis=0)\n",
    "        #print(mutateddf)\n",
    "        #print(mutateddf)\n",
    "        wtdf = sitedf.loc[(sitedf['Both_Mutations'] == 'Wildtype')].dropna(axis=0)\n",
    "        \n",
    "        #print(wtdf)\n",
    "        #wtdf = sitedf.loc[sitedf['Both_Mutations'] == False].dropna(axis=0)\n",
    "        #wtdf = wtdf.loc[wtdf['Gene_1_Mutation'] == 'Wildtype']\n",
    "        #wtdf = wtdf.loc[wtdf['Gene_2_Mutation'] == 'Wildtype']\n",
    "        \n",
    "        #print(wtdf[site])\n",
    "        if site in wtdf.columns and site in mutateddf.columns:\n",
    "            ttest = scipy.stats.ttest_ind(mutateddf[site], wtdf[site])\n",
    "            #print(ttest)\n",
    "            if ttest[1] < cutoff:\n",
    "                print(site, \" \", ttest[1])\n",
    "        else: print(\"Unsignificant Results\" , site, \" \", ttest[1])\n",
    "\n",
    "\n"
   ]
  },
  {
   "cell_type": "markdown",
   "metadata": {},
   "source": [
    "## PIK3CA Only vs Wildtype"
   ]
  },
  {
   "cell_type": "code",
   "execution_count": 12,
   "metadata": {},
   "outputs": [
    {
     "name": "stdout",
     "output_type": "stream",
     "text": [
      "Unsignificant Results AKT1-S122   0.28545105646724306\n",
      "Unsignificant Results AKT1-S124   0.166752300317427\n",
      "Unsignificant Results AKT1-S126   0.11577748215509524\n",
      "Unsignificant Results AKT1-S129   0.44376887891748107\n",
      "Unsignificant Results AKT1-T450   nan\n",
      "Unsignificant Results AKT1S1-S108   0.14250499539882358\n",
      "Unsignificant Results AKT1S1-S112   0.2785437970784738\n",
      "Unsignificant Results AKT1S1-S203   0.4963409602397756\n",
      "Unsignificant Results AKT1S1-S222   0.2587642313687414\n",
      "Unsignificant Results AKT1S1-S223   0.5782290553999969\n",
      "Unsignificant Results AKT1S1-S231   0.39448680073333375\n",
      "Unsignificant Results AKT1S1-S232   0.476939083576872\n",
      "Unsignificant Results AKT1S1-S241   nan\n",
      "Unsignificant Results AKT1S1-S267   0.3831846118940655\n",
      "Unsignificant Results AKT1S1-T110   0.8219915066851784\n",
      "Unsignificant Results AKT1S1-T117   0.2172786600084698\n",
      "Unsignificant Results AKT1S1-T218   nan\n",
      "Unsignificant Results AKT1S1-T266   0.9152078942825035\n",
      "Unsignificant Results AKT1S1-T93   nan\n"
     ]
    }
   ],
   "source": [
    "\n",
    "phos_df = CPTAC.compare_mutations(phos, protein, gene_1)\n",
    "#print(phos_df)\n",
    "\n",
    "cutoff = 0.05/len(phos_df.columns)\n",
    "\n",
    "for site in phos_df.columns:\n",
    "    if (site is not 'Mutation'and site is not 'Patient_Type'):\n",
    "        \n",
    "        sitedf = combine_dataframes(gene_1, gene_2,  site, phos)\n",
    "        #print(sitedf)\n",
    "        #mutateddf = sitedf.loc[(sitedf['Gene_1_Mutation'] != 'Wildtype') | (sitedf['Gene_2_Mutation'] != 'Wildtype') ].dropna(axis=1)\n",
    "        #print(mutateddf)\n",
    "        mutateddf = sitedf.loc[sitedf['Both_Mutations'] == (gene_1 + '_Only')].dropna(axis=0)\n",
    "        #print(mutateddf)\n",
    "        #print(mutateddf)\n",
    "        wtdf = sitedf.loc[(sitedf['Both_Mutations'] == 'Wildtype')].dropna(axis=0)\n",
    "        #print(wtdf)\n",
    "        #wtdf = sitedf.loc[sitedf['Both_Mutations'] == False].dropna(axis=0)\n",
    "        #wtdf = wtdf.loc[wtdf['Gene_1_Mutation'] == 'Wildtype']\n",
    "        #wtdf = wtdf.loc[wtdf['Gene_2_Mutation'] == 'Wildtype']\n",
    "        \n",
    "        #print(wtdf[site])\n",
    "        if site in wtdf.columns and site in mutateddf.columns:\n",
    "            ttest = scipy.stats.ttest_ind(mutateddf[site], wtdf[site])\n",
    "            #print(\"Unsig\", site, \" \",ttest)\n",
    "            if ttest[1] < cutoff:\n",
    "                print(site, \" \", ttest[1])\n",
    "            else: print(\"Unsignificant Results\" , site, \" \", ttest[1])\n",
    "\n"
   ]
  },
  {
   "cell_type": "markdown",
   "metadata": {},
   "source": [
    "# Protein Abundance Comparison"
   ]
  },
  {
   "cell_type": "code",
   "execution_count": 39,
   "metadata": {},
   "outputs": [
    {
     "name": "stdout",
     "output_type": "stream",
     "text": [
      "PIK3CA   0.005259772856355996\n"
     ]
    }
   ],
   "source": [
    "gene_1 = 'PIK3CA'\n",
    "gene_2 = 'PTEN'\n",
    "protein = 'PIK3CA'\n",
    "\n",
    "prot_df = CPTAC.compare_mutations(proteomics, protein, gene_1)\n",
    "#print(phos_df)\n",
    "\n",
    "cutoff = 0.05/len(prot_df.columns)\n",
    "\n",
    "\n",
    "        \n",
    "sitedf = combine_dataframes(gene_1, gene_2, protein, proteomics)\n",
    "\n",
    "\n",
    "sitedf = sitedf.dropna(axis = 0)\n",
    "\n",
    "        \n",
    "mutateddf = sitedf.loc[sitedf['Both_Mutations'] == 'Wildtype']\n",
    "#print(mutateddf)\n",
    "        \n",
    "wtdf = sitedf.loc[(sitedf['Both_Mutations'] == gene_2 + '_Only')]\n",
    "#print(wtdf)\n",
    "\n",
    "\n",
    "\n",
    "ttest = scipy.stats.ttest_ind(mutateddf[protein], wtdf[protein])\n",
    "        #print(ttest)\n",
    "if ttest[1] < cutoff:\n",
    "    print(protein, \" \", ttest[1])\n",
    "else: print(\"Unsignificant Results\" , protein, \" \", ttest[1])\n"
   ]
  },
  {
   "cell_type": "code",
   "execution_count": 40,
   "metadata": {},
   "outputs": [
    {
     "data": {
      "image/png": "[encoded data removed]",
      "text/plain": [
       "<Figure size 842.4x595.44 with 1 Axes>"
      ]
     },
     "metadata": {
      "needs_background": "light"
     },
     "output_type": "display_data"
    }
   ],
   "source": [
    "protein = 'PIK3CA'\n",
    "sitedf = combine_dataframes(gene_1, gene_2, protein, proteomics)\n",
    "#print(sitedf)\n",
    "\n",
    "a4_dims = (11.7, 8.27)\n",
    "fig, ax = plt.subplots(figsize=a4_dims)\n",
    "\n",
    "boxplt = sns.boxplot(data = sitedf, x = 'Both_Mutations', y = protein)\n",
    "boxplt = sns.stripplot(data = sitedf, x = 'Both_Mutations', y = protein, jitter = True, color = '.3')\n",
    "plt.show()"
   ]
  },
  {
   "cell_type": "code",
   "execution_count": 33,
   "metadata": {},
   "outputs": [
    {
     "data": {
      "image/png": "[encoded data removed]",
      "text/plain": [
       "<Figure size 842.4x595.44 with 1 Axes>"
      ]
     },
     "metadata": {
      "needs_background": "light"
     },
     "output_type": "display_data"
    }
   ],
   "source": [
    "protein = 'PTEN'\n",
    "sitedf = combine_dataframes(gene_1, gene_2, protein, proteomics)\n",
    "#print(sitedf)\n",
    "\n",
    "a4_dims = (11.7, 8.27)\n",
    "fig, ax = plt.subplots(figsize=a4_dims)\n",
    "\n",
    "boxplt = sns.boxplot(data = sitedf, x = 'Both_Mutations', y = protein)\n",
    "boxplt = sns.stripplot(data = sitedf, x = 'Both_Mutations', y = protein, jitter = True, color = '.3')\n",
    "plt.show()"
   ]
  },
  {
   "cell_type": "code",
   "execution_count": null,
   "metadata": {},
   "outputs": [],
   "source": []
  }
 ],
 "metadata": {
  "kernelspec": {
   "display_name": "Python 3",
   "language": "python",
   "name": "python3"
  },
  "language_info": {
   "codemirror_mode": {
    "name": "ipython",
    "version": 3
   },
   "file_extension": ".py",
   "mimetype": "text/x-python",
   "name": "python",
   "nbconvert_exporter": "python",
   "pygments_lexer": "ipython3",
   "version": "3.7.1"
  }
 },
 "nbformat": 4,
 "nbformat_minor": 2
}
