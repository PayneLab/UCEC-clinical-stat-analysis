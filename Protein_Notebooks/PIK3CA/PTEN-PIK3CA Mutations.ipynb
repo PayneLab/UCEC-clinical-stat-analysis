{
 "cells": [
  {
   "cell_type": "markdown",
   "metadata": {},
   "source": [
    "<b> Standard imports for playing with and plotting data frames. </b>"
   ]
  },
  {
   "cell_type": "code",
   "execution_count": 35,
   "metadata": {},
   "outputs": [],
   "source": [
    "import pandas as pd\n",
    "import numpy as np\n",
    "import scipy.stats\n",
    "import matplotlib.pyplot as plt\n",
    "import seaborn as sns\n",
    "import re\n",
    "import statsmodels.stats.multitest\n",
    "import random"
   ]
  },
  {
   "cell_type": "markdown",
   "metadata": {},
   "source": [
    "<b> Import CPTAC data </b>"
   ]
  },
  {
   "cell_type": "code",
   "execution_count": 36,
   "metadata": {},
   "outputs": [],
   "source": [
    "import CPTAC"
   ]
  },
  {
   "cell_type": "code",
   "execution_count": 37,
   "metadata": {},
   "outputs": [],
   "source": [
    "somatic_mutations = CPTAC.get_somatic()\n",
    "proteomics = CPTAC.get_proteomics()\n",
    "phos = CPTAC.get_phosphoproteomics()\n",
    "\n",
    "random.seed(0)"
   ]
  },
  {
   "cell_type": "markdown",
   "metadata": {},
   "source": [
    "## Get the patients who have mutations in both PTEN and PIK3CA "
   ]
  },
  {
   "cell_type": "code",
   "execution_count": 38,
   "metadata": {},
   "outputs": [
    {
     "name": "stdout",
     "output_type": "stream",
     "text": [
      "41\n"
     ]
    }
   ],
   "source": [
    "#create a dataframe with both mutations included \n",
    "\n",
    "mutation_1 = 'PIK3CA'\n",
    "mutation_2 = 'PTEN'\n",
    "common_mutated = somatic_mutations.loc[(somatic_mutations['Gene'] == mutation_1) | (somatic_mutations['Gene'] == mutation_2)]\n",
    "\n",
    "mutations_first = somatic_mutations.loc[(somatic_mutations['Gene'] == mutation_1)]\n",
    "#print(mutations_first['Clinical_Patient_Key'])\n",
    "\n",
    "patients_first = mutations_first['Clinical_Patient_Key']\n",
    "first_list = patients_first.tolist()\n",
    "mutations_second = somatic_mutations.loc[somatic_mutations['Gene'] == mutation_2]\n",
    "#print(mutations_second)\n",
    "patients_second = mutations_second['Clinical_Patient_Key']\n",
    "second_list = patients_second.tolist()\n",
    "\n",
    "#get the number of unique patients in the pik3ca mutation list\n",
    "unique_1 = list()\n",
    "for person in first_list:\n",
    "    if person not in unique_1:\n",
    "        unique_1.append(person)\n",
    "\n",
    "#check for the overlaps \n",
    "common_list = list()\n",
    "for person in second_list:\n",
    "    if person in unique_1:\n",
    "        if person not in common_list:\n",
    "            common_list.append(person)\n",
    "\n",
    "print(len(common_list))\n",
    "#print(common_list)"
   ]
  },
  {
   "cell_type": "markdown",
   "metadata": {},
   "source": [
    "# Compare AKT1 Phosphoproteomics "
   ]
  },
  {
   "cell_type": "markdown",
   "metadata": {},
   "source": [
    "### Create a dataframe showing PTEN and PIK3CA mutations "
   ]
  },
  {
   "cell_type": "code",
   "execution_count": 39,
   "metadata": {},
   "outputs": [],
   "source": [
    "def combine_dataframes(gene_1, gene_2, site):\n",
    "\n",
    "    #create a dataframe for PIK3CA mutations\n",
    "    phosdf_pik = CPTAC.compare_mutations(phos, site, gene_1)\n",
    "    phosdf_pik = phosdf_pik.rename(index=str, columns={'Mutation' : 'Gene_1_Mutation'})\n",
    "\n",
    "    #create a dataframe for PTEN mutations\n",
    "    phosdf_pten = CPTAC.compare_mutations(phos, site, gene_2)\n",
    "    phosdf_pten = phosdf_pten.rename(index=str, columns={'Mutation' : 'Gene_2_Mutation'})\n",
    "\n",
    "    #extract the mutation column in PTEN that will be added to a combined dataframe\n",
    "    pten_col = phosdf_pten['Gene_2_Mutation']\n",
    "\n",
    "    #add the PTEN column to create a combined dataframe \n",
    "    phos_combined = phosdf_pik\n",
    "    phos_combined['Gene_2_Mutation'] = pten_col\n",
    "\n",
    "    #create new column to indicate if patient has mutations in both PIK3CA and PTEN\n",
    "    phos_combined['Both_Mutations'] = False\n",
    "    phos_combined.loc[common_list, 'Both_Mutations'] = True\n",
    "    phos_combined.loc[(phos_combined['Gene_1_Mutation'] == 'Wildtype') & (phos_combined['Gene_2_Mutation'] == 'Wildtype'), 'Both_Mutations'] = 'Wildtype'\n",
    "    #phos_combined.loc[(phos_combined['Gene_1_Mutation'] == 'Wildtype') | (phos_combined['Gene_2_Mutation'] == 'Wildtype') ]\n",
    "    phos_combined.loc[(phos_combined['Gene_1_Mutation'] == 'Wildtype') & (phos_combined['Gene_2_Mutation'] != 'Wildtype'), 'Both_Mutations'] = (gene_2 + '_Only')\n",
    "    #print(phos_combined)\n",
    "    phos_combined.loc[(phos_combined['Gene_1_Mutation'] != 'Wildtype') & (phos_combined['Gene_2_Mutation'] == 'Wildtype'), 'Both_Mutations'] =  (gene_1 + '_Only')\n",
    "    #print(phos_combined)\n",
    "    #take out the control\n",
    "    phos_combined.loc[phos_combined['Patient_Type'] == 'Normal', 'Both_Mutations'] = 'Normal'\n",
    "    \n",
    "    return phos_combined\n"
   ]
  },
  {
   "cell_type": "markdown",
   "metadata": {},
   "source": [
    "### Both Mutations vs. Non-tumor"
   ]
  },
  {
   "cell_type": "code",
   "execution_count": 40,
   "metadata": {},
   "outputs": [
    {
     "name": "stdout",
     "output_type": "stream",
     "text": [
      "AKT1-S124   3.0973830825097156e-09\n",
      "AKT1-S126   7.200404066034409e-07\n",
      "AKT1-S129   1.639942257243254e-08\n",
      "AKT1S1-S108   6.808557683501523e-05\n",
      "AKT1S1-S112   0.001083569901724981\n",
      "AKT1S1-S203   4.958249091904489e-05\n"
     ]
    }
   ],
   "source": [
    "gene_1 = 'PIK3CA'\n",
    "gene_2 = 'PTEN'\n",
    "protein = 'AKT1'\n",
    "\n",
    "phos_df = CPTAC.compare_mutations(phos, protein, gene_1)\n",
    "#print(phos_df)\n",
    "\n",
    "cutoff = 0.05/len(phos_df.columns)\n",
    "\n",
    "\n",
    "#phos_df = phos_df['Patient_Type'].dropna(axis=0)\n",
    "for site in phos_df.columns:\n",
    "    if (site is not 'Mutation' and site is not 'Patient_Type'):\n",
    "        \n",
    "        sitedf = combine_dataframes(gene_1, gene_2,  site)\n",
    "        #print(sitedf)\n",
    "        #print(sitedf)\n",
    "        #mutateddf = sitedf.loc[(sitedf['Gene_1_Mutation'] != 'Wildtype') | (sitedf['Gene_2_Mutation'] != 'Wildtype') ].dropna(axis=1)\n",
    "        #print(mutateddf)\n",
    "        mutateddf = sitedf.loc[sitedf['Both_Mutations'] == True].dropna(axis = 0)\n",
    "        #print(mutateddf)\n",
    "        #print(mutateddf)\n",
    "        #print(mutateddf)\n",
    "        wtdf = sitedf.loc[(sitedf['Both_Mutations'] == 'Normal')].dropna(axis = 0)\n",
    "        \n",
    "        #print(wtdf)\n",
    "        #wtdf = sitedf.loc[sitedf['Both_Mutations'] == False].dropna(axis=0)\n",
    "        #wtdf = wtdf.loc[wtdf['Gene_1_Mutation'] == 'Wildtype']\n",
    "        #wtdf = wtdf.loc[wtdf['Gene_2_Mutation'] == 'Wildtype']\n",
    "        \n",
    "        #print(wtdf[site])\n",
    "        if site in wtdf.columns and site in mutateddf.columns:\n",
    "            ttest = scipy.stats.ttest_ind(mutateddf[site], wtdf[site])\n",
    "            #print(ttest)\n",
    "            if ttest[1] < cutoff:\n",
    "                print(site, \" \", ttest[1])\n",
    "        #else: print(\"Unsignificant Results\" , site, \" \", ttest[1])\n",
    "\n"
   ]
  },
  {
   "cell_type": "code",
   "execution_count": 41,
   "metadata": {},
   "outputs": [
    {
     "data": {
      "image/png": "[encoded data removed]",
      "text/plain": [
       "<Figure size 842.4x595.44 with 1 Axes>"
      ]
     },
     "metadata": {
      "needs_background": "light"
     },
     "output_type": "display_data"
    }
   ],
   "source": [
    "site = 'AKT1-S126'\n",
    "sitedf = combine_dataframes(gene_1, gene_2, site)\n",
    "\n",
    "a4_dims = (11.7, 8.27)\n",
    "fig, ax = plt.subplots(figsize=a4_dims)\n",
    "\n",
    "boxplt = sns.boxplot(data = sitedf, x = 'Both_Mutations', y = site)\n",
    "boxplt = sns.stripplot(data = sitedf, x = 'Both_Mutations', y = site, jitter = True, color = '.3')\n",
    "plt.show()"
   ]
  },
  {
   "cell_type": "markdown",
   "metadata": {},
   "source": [
    "### Both Mutations vs. Wildtype_1 (PTEN Mutations Only)"
   ]
  },
  {
   "cell_type": "code",
   "execution_count": 42,
   "metadata": {},
   "outputs": [],
   "source": [
    "\n",
    "\n",
    "phos_df = CPTAC.compare_mutations(phos, protein, gene_1)\n",
    "#print(phos_df)\n",
    "\n",
    "cutoff = 0.05/len(phos_df.columns)\n",
    "\n",
    "for site in phos_df.columns:\n",
    "    #print(\"site: \", site)\n",
    "    if (site is not 'Mutation' and site is not 'Patient_Type'):\n",
    "        #print(site)\n",
    "        sitedf = combine_dataframes(gene_1, gene_2,  site)\n",
    "        #print(sitedf)\n",
    "        #mutateddf = sitedf.loc[(sitedf['Gene_1_Mutation'] != 'Wildtype') | (sitedf['Gene_2_Mutation'] != 'Wildtype') ].dropna(axis=1)\n",
    "        #print(mutateddf)\n",
    "        mutateddf = sitedf.loc[sitedf['Both_Mutations'] == True].dropna(axis = 0)\n",
    "        #print(mutateddf)\n",
    "        #print(mutateddf)\n",
    "        wtdf = sitedf.loc[(sitedf['Both_Mutations'] == (gene_2 + '_Only'))].dropna(axis = 0)\n",
    "        #print(wtdf)\n",
    "        #print(wtdf)\n",
    "        #wtdf = sitedf.loc[sitedf['Both_Mutations'] == False].dropna(axis=0)\n",
    "        #wtdf = wtdf.loc[wtdf['Gene_1_Mutation'] == 'Wildtype']\n",
    "        #wtdf = wtdf.loc[wtdf['Gene_2_Mutation'] == 'Wildtype']\n",
    "        \n",
    "        #print(wtdf[site])\n",
    "        if site in wtdf.columns and site in mutateddf.columns:\n",
    "            ttest = scipy.stats.ttest_ind(mutateddf[site], wtdf[site])\n",
    "            #print(ttest)\n",
    "            if ttest[1] < cutoff:\n",
    "                print(site, \" \", ttest[1])\n",
    "        #else: print(\"Unsignificant Results\" , site, \" \")\n",
    "\n"
   ]
  },
  {
   "cell_type": "markdown",
   "metadata": {},
   "source": [
    "### Both Mutations vs. Wildtype_2 (PIK3CA Mutations Only)"
   ]
  },
  {
   "cell_type": "code",
   "execution_count": 43,
   "metadata": {},
   "outputs": [],
   "source": [
    "\n",
    "\n",
    "phos_df = CPTAC.compare_mutations(phos, protein, gene_1)\n",
    "#print(phos_df)\n",
    "\n",
    "cutoff = 0.05/len(phos_df.columns)\n",
    "#print(cutoff)\n",
    "\n",
    "for site in phos_df.columns:\n",
    "    if (site is not 'Mutation'and site is not 'Patient_Type'):\n",
    "        \n",
    "        sitedf = combine_dataframes(gene_1, gene_2, site)\n",
    "        #print(sitedf)\n",
    "        #mutateddf = sitedf.loc[(sitedf['Gene_1_Mutation'] != 'Wildtype') | (sitedf['Gene_2_Mutation'] != 'Wildtype') ].dropna(axis=1)\n",
    "        #print(mutateddf)\n",
    "        mutateddf = sitedf.loc[sitedf['Both_Mutations'] == True].dropna(axis=0)\n",
    "        #print(mutateddf)\n",
    "        #print(mutateddf)\n",
    "        wtdf = sitedf.loc[(sitedf['Both_Mutations'] == (gene_1 + '_Only'))].dropna(axis=0)\n",
    "        \n",
    "        #print(wtdf)\n",
    "        #wtdf = sitedf.loc[sitedf['Both_Mutations'] == False].dropna(axis=0)\n",
    "        #wtdf = wtdf.loc[wtdf['Gene_1_Mutation'] == 'Wildtype']\n",
    "        #wtdf = wtdf.loc[wtdf['Gene_2_Mutation'] == 'Wildtype']\n",
    "        \n",
    "        #print(wtdf[site])\n",
    "        \n",
    "        if site in wtdf.columns and site in mutateddf.columns:\n",
    "            ttest = scipy.stats.ttest_ind(mutateddf[site], wtdf[site])\n",
    "            #print(ttest)\n",
    "            if ttest[1] < cutoff:\n",
    "                print(site, \" \", ttest[1])\n",
    "        else: print(\"Unsignificant Results\" , site, \" \", ttest[1])\n",
    "\n",
    "\n"
   ]
  },
  {
   "cell_type": "markdown",
   "metadata": {},
   "source": [
    "### Wildtype_1 vs. Wildtype_2 (PTEN Mutations Only v PIK3CA Mutations Only)"
   ]
  },
  {
   "cell_type": "code",
   "execution_count": 44,
   "metadata": {},
   "outputs": [],
   "source": [
    "\n",
    "phos_df = CPTAC.compare_mutations(phos, protein, gene_1)\n",
    "#print(phos_df)\n",
    "\n",
    "cutoff = 0.05/len(phos_df.columns)\n",
    "\n",
    "for site in phos_df.columns:\n",
    "    if (site is not 'Mutation'and site is not 'Patient_Type'):\n",
    "        \n",
    "        sitedf = combine_dataframes(gene_1, gene_2,  site)\n",
    "        #print(sitedf)\n",
    "        #mutateddf = sitedf.loc[(sitedf['Gene_1_Mutation'] != 'Wildtype') | (sitedf['Gene_2_Mutation'] != 'Wildtype') ].dropna(axis=1)\n",
    "        #print(mutateddf)\n",
    "        mutateddf = sitedf.loc[sitedf['Both_Mutations'] == (gene_1 + '_Only')].dropna(axis=0)\n",
    "        #print(mutateddf)\n",
    "        #print(mutateddf)\n",
    "        wtdf = sitedf.loc[(sitedf['Both_Mutations'] == (gene_2 + '_Only'))].dropna(axis=0)\n",
    "        \n",
    "        #print(wtdf)\n",
    "        #wtdf = sitedf.loc[sitedf['Both_Mutations'] == False].dropna(axis=0)\n",
    "        #wtdf = wtdf.loc[wtdf['Gene_1_Mutation'] == 'Wildtype']\n",
    "        #wtdf = wtdf.loc[wtdf['Gene_2_Mutation'] == 'Wildtype']\n",
    "        \n",
    "        #print(wtdf[site])\n",
    "        if site in wtdf.columns and site in mutateddf.columns:\n",
    "            ttest = scipy.stats.ttest_ind(mutateddf[site], wtdf[site])\n",
    "            #print(ttest)\n",
    "            if ttest[1] < cutoff:\n",
    "                print(site, \" \", ttest[1])\n",
    "        else: print(\"Unsignificant Results\" , site, \" \", ttest[1])\n",
    "\n",
    "\n"
   ]
  },
  {
   "cell_type": "markdown",
   "metadata": {},
   "source": [
    "### Both Mutations vs. Wildtype (No PTEN or PIK3CA mutations)"
   ]
  },
  {
   "cell_type": "code",
   "execution_count": 45,
   "metadata": {},
   "outputs": [],
   "source": [
    "\n",
    "phos_df = CPTAC.compare_mutations(phos, protein, gene_1)\n",
    "#print(phos_df)\n",
    "\n",
    "cutoff = 0.05/len(phos_df.columns)\n",
    "\n",
    "for site in phos_df.columns:\n",
    "    if (site is not 'Mutation'and site is not 'Patient_Type'):\n",
    "        \n",
    "        sitedf = combine_dataframes(gene_1, gene_2,  site)\n",
    "        #print(sitedf)\n",
    "        #mutateddf = sitedf.loc[(sitedf['Gene_1_Mutation'] != 'Wildtype') | (sitedf['Gene_2_Mutation'] != 'Wildtype') ].dropna(axis=1)\n",
    "        #print(mutateddf)\n",
    "        mutateddf = sitedf.loc[sitedf['Both_Mutations'] == True].dropna(axis=0)\n",
    "        #print(mutateddf)\n",
    "        #print(mutateddf)\n",
    "        wtdf = sitedf.loc[(sitedf['Both_Mutations'] == 'Wildtype')].dropna(axis=0)\n",
    "        \n",
    "        #print(wtdf)\n",
    "        #wtdf = sitedf.loc[sitedf['Both_Mutations'] == False].dropna(axis=0)\n",
    "        #wtdf = wtdf.loc[wtdf['Gene_1_Mutation'] == 'Wildtype']\n",
    "        #wtdf = wtdf.loc[wtdf['Gene_2_Mutation'] == 'Wildtype']\n",
    "        \n",
    "        #print(wtdf[site])\n",
    "        if site in wtdf.columns and site in mutateddf.columns:\n",
    "            ttest = scipy.stats.ttest_ind(mutateddf[site], wtdf[site])\n",
    "            #print(ttest)\n",
    "            if ttest[1] < cutoff:\n",
    "                print(site, \" \", ttest[1])\n",
    "        else: print(\"Unsignificant Results\" , site, \" \", ttest[1])\n",
    "\n",
    "\n"
   ]
  },
  {
   "cell_type": "markdown",
   "metadata": {},
   "source": [
    "# Protein Abundance Comparison"
   ]
  },
  {
   "cell_type": "code",
   "execution_count": 46,
   "metadata": {},
   "outputs": [
    {
     "name": "stdout",
     "output_type": "stream",
     "text": [
      "Empty DataFrame\n",
      "Columns: [AKT1-S122, AKT1-S124, AKT1-S126, AKT1-S129, AKT1-T450, AKT1S1-S108, AKT1S1-S112, AKT1S1-S203, AKT1S1-S222, AKT1S1-S223, AKT1S1-S231, AKT1S1-S232, AKT1S1-S241, AKT1S1-S267, AKT1S1-T110, AKT1S1-T117, AKT1S1-T218, AKT1S1-T266, AKT1S1-T93, Gene_1_Mutation, Patient_Type, Gene_2_Mutation, Both_Mutations]\n",
      "Index: []\n",
      "\n",
      "[0 rows x 23 columns]\n"
     ]
    }
   ],
   "source": [
    "gene_1 = 'PIK3CA'\n",
    "gene_2 = 'PTEN'\n",
    "protein = 'AKT1'\n",
    "\n",
    "prot_df = CPTAC.compare_mutations(proteomics, protein, gene_1)\n",
    "#print(phos_df)\n",
    "\n",
    "cutoff = 0.05/len(prot_df.columns)\n",
    "\n",
    "\n",
    "        \n",
    "sitedf = combine_dataframes(gene_1, gene_2,  protein)\n",
    "        \n",
    "mutateddf = sitedf.loc[sitedf['Both_Mutations'] == True].dropna(axis = 0)\n",
    "        \n",
    "wtdf = sitedf.loc[(sitedf['Both_Mutations'] == 'Normal')].dropna(axis = 0)\n",
    "print(wtdf)\n",
    "\n",
    "if site in wtdf.columns and site in mutateddf.columns:\n",
    "    ttest = scipy.stats.ttest_ind(mutateddf[site], wtdf[site])\n",
    "            #print(ttest)\n",
    "    if ttest[1] < cutoff:\n",
    "        print(site, \" \", ttest[1])\n",
    "        #else: print(\"Unsignificant Results\" , site, \" \", ttest[1])\n"
   ]
  },
  {
   "cell_type": "code",
   "execution_count": null,
   "metadata": {},
   "outputs": [],
   "source": []
  }
 ],
 "metadata": {
  "kernelspec": {
   "display_name": "Python 3",
   "language": "python",
   "name": "python3"
  },
  "language_info": {
   "codemirror_mode": {
    "name": "ipython",
    "version": 3
   },
   "file_extension": ".py",
   "mimetype": "text/x-python",
   "name": "python",
   "nbconvert_exporter": "python",
   "pygments_lexer": "ipython3",
   "version": "3.7.1"
  }
 },
 "nbformat": 4,
 "nbformat_minor": 2
}
