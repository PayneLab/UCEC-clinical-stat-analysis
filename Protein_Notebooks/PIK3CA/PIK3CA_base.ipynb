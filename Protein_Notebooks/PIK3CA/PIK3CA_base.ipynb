{
 "cells": [
  {
   "cell_type": "markdown",
   "metadata": {},
   "source": [
    "# PIK3CA: Effects of Mutation on PIK3CA"
   ]
  },
  {
   "cell_type": "code",
   "execution_count": 2,
   "metadata": {},
   "outputs": [],
   "source": [
    "import pandas as pd\n",
    "import numpy as np\n",
    "import scipy.stats\n",
    "from scipy.stats import pearsonr\n",
    "import matplotlib.pyplot as plt\n",
    "import seaborn as sns"
   ]
  },
  {
   "cell_type": "markdown",
   "metadata": {},
   "source": [
    "<b> Import CPTAC </b>"
   ]
  },
  {
   "cell_type": "code",
   "execution_count": 3,
   "metadata": {},
   "outputs": [
    {
     "name": "stdout",
     "output_type": "stream",
     "text": [
      "Loading Dictionary...\n",
      "Loading Clinical Data...\n",
      "Loading Proteomics Data...\n",
      "Loading Transcriptomics Data...\n",
      "Loading CNA Data...\n",
      "Loading Phosphoproteomics Data...\n",
      "Loading Somatic Mutation Data...\n",
      "\n",
      " ******PLEASE READ******\n",
      "WARNING: This data is under a publication embargo until July 1, 2019.\n",
      "CPTAC is a community resource project and data are made available\n",
      "rapidly after generation for community research use. The embargo\n",
      "allows exploring and utilizing the data, but the data may not be in a\n",
      "publication until July 1, 2019. Please see\n",
      "https://proteomics.cancer.gov/data-portal/about/data-use-agreement or\n",
      "enter CPTAC.embargo() to open the webpage for more details.\n"
     ]
    }
   ],
   "source": [
    "import CPTAC"
   ]
  },
  {
   "cell_type": "code",
   "execution_count": 4,
   "metadata": {},
   "outputs": [],
   "source": [
    "somatic_mutations = CPTAC.get_somatic()\n",
    "proteomics = CPTAC.get_proteomics()\n",
    "phos = CPTAC.get_phosphoproteomics()"
   ]
  },
  {
   "cell_type": "markdown",
   "metadata": {},
   "source": [
    "### PIK3CA protein abundance with PIK3CA mutation"
   ]
  },
  {
   "cell_type": "markdown",
   "metadata": {},
   "source": [
    "### Set gene and protein(s) of interest--in this case we are only looking at PIK3CA--and then create the \"cross\" dataframe, which contains all the information we need for plotting this gene"
   ]
  },
  {
   "cell_type": "code",
   "execution_count": 5,
   "metadata": {},
   "outputs": [
    {
     "name": "stdout",
     "output_type": "stream",
     "text": [
      "      PIK3CA           Mutation Patient_Type\n",
      "S001   -0.51  Missense_Mutation        Tumor\n",
      "S002   -0.19           Wildtype        Tumor\n",
      "S003   -0.20  Missense_Mutation        Tumor\n",
      "S004   -0.65           Wildtype        Tumor\n",
      "S005    0.39           Wildtype        Tumor\n",
      "S006   -0.15           Wildtype        Tumor\n",
      "S007   -0.35           Wildtype        Tumor\n",
      "S008    0.27  Missense_Mutation        Tumor\n",
      "S009   -0.11           Wildtype        Tumor\n",
      "S010   -0.13           Wildtype        Tumor\n",
      "S011   -0.79  Missense_Mutation        Tumor\n",
      "S012   -0.56           Wildtype        Tumor\n",
      "S013   -0.27  Missense_Mutation        Tumor\n",
      "S014    0.05           Wildtype        Tumor\n",
      "S015    0.23           Wildtype        Tumor\n",
      "S016   -0.46           Wildtype        Tumor\n",
      "S017   -0.54  Missense_Mutation        Tumor\n",
      "S018   -0.27           Wildtype        Tumor\n",
      "S019   -0.11           Wildtype        Tumor\n",
      "S020   -0.64  Missense_Mutation        Tumor\n",
      "S021   -0.61  Missense_Mutation        Tumor\n",
      "S022   -0.76  Missense_Mutation        Tumor\n",
      "S023   -0.47  Missense_Mutation        Tumor\n",
      "S024   -0.26           Wildtype        Tumor\n",
      "S025    0.04           Wildtype        Tumor\n",
      "S026   -0.69  Missense_Mutation        Tumor\n",
      "S027    0.61  Missense_Mutation        Tumor\n",
      "S028   -0.31           Wildtype        Tumor\n",
      "S029   -0.19           Wildtype        Tumor\n",
      "S030    0.24  Missense_Mutation        Tumor\n",
      "...      ...                ...          ...\n",
      "S111    0.79           Wildtype       Normal\n",
      "S112    0.11           Wildtype       Normal\n",
      "S113    0.31           Wildtype       Normal\n",
      "S114    0.27           Wildtype       Normal\n",
      "S115    0.46           Wildtype       Normal\n",
      "S116    0.52           Wildtype       Normal\n",
      "S117    0.59           Wildtype       Normal\n",
      "S118    0.15           Wildtype       Normal\n",
      "S119    0.63           Wildtype       Normal\n",
      "S120    0.80           Wildtype       Normal\n",
      "S121    0.39           Wildtype       Normal\n",
      "S122    0.17           Wildtype       Normal\n",
      "S123    0.22           Wildtype       Normal\n",
      "S124    0.31           Wildtype       Normal\n",
      "S125    0.71           Wildtype       Normal\n",
      "S126    0.10           Wildtype       Normal\n",
      "S127    0.50           Wildtype       Normal\n",
      "S128   -0.02           Wildtype       Normal\n",
      "S129    0.55           Wildtype       Normal\n",
      "S130   -0.01           Wildtype       Normal\n",
      "S131    0.31           Wildtype       Normal\n",
      "S132    0.28           Wildtype       Normal\n",
      "S133    0.23           Wildtype       Normal\n",
      "S134   -0.04           Wildtype       Normal\n",
      "S135    0.18           Wildtype       Normal\n",
      "S136    0.18           Wildtype       Normal\n",
      "S137    0.44           Wildtype       Normal\n",
      "S138    0.47           Wildtype       Normal\n",
      "S139    0.89           Wildtype       Normal\n",
      "S140    0.73           Wildtype       Normal\n",
      "\n",
      "[140 rows x 3 columns]\n"
     ]
    }
   ],
   "source": [
    "gene = \"PIK3CA\"\n",
    "protList = [\"PIK3CA\"]\n",
    "cross = CPTAC.compare_mutations(proteomics, protList[0], gene)\n",
    "\n",
    "print(cross)\n",
    "cross = cross[[\"Mutation\", protList[0]]].dropna(axis=0)"
   ]
  },
  {
   "cell_type": "markdown",
   "metadata": {},
   "source": [
    "### Take out the control group (patients 101 - 140)"
   ]
  },
  {
   "cell_type": "code",
   "execution_count": 6,
   "metadata": {},
   "outputs": [],
   "source": [
    "cross = cross[:100]"
   ]
  },
  {
   "cell_type": "markdown",
   "metadata": {},
   "source": [
    "### Number of mutations in the cohort"
   ]
  },
  {
   "cell_type": "code",
   "execution_count": 7,
   "metadata": {},
   "outputs": [
    {
     "name": "stdout",
     "output_type": "stream",
     "text": [
      "42\n"
     ]
    }
   ],
   "source": [
    "mutations = cross.loc[cross[\"Mutation\"] != \"Wildtype\"]\n",
    "print(len(mutations))"
   ]
  },
  {
   "cell_type": "markdown",
   "metadata": {},
   "source": [
    "### Perform a t-test with mutated and non-mutated protein levels"
   ]
  },
  {
   "cell_type": "markdown",
   "metadata": {},
   "source": [
    "<b> Note: This analysis also includes the control group of healthy patients </b>"
   ]
  },
  {
   "cell_type": "code",
   "execution_count": 8,
   "metadata": {},
   "outputs": [
    {
     "name": "stdout",
     "output_type": "stream",
     "text": [
      "Test for PIK3CA: \n",
      "Ttest_indResult(statistic=-2.3709474235794348, pvalue=0.019698800138688424)\n"
     ]
    }
   ],
   "source": [
    "for protein in protList:\n",
    "    mutated = cross.loc[cross[\"Mutation\"] != \"Wildtype\"]\n",
    "    wt = cross.loc[cross[\"Mutation\"] == \"Wildtype\"]\n",
    "    ttest = scipy.stats.ttest_ind(mutated[protein], wt[protein])\n",
    "    print(\"Test for \" + protein + \": \")\n",
    "    print(ttest)"
   ]
  },
  {
   "cell_type": "markdown",
   "metadata": {},
   "source": [
    "### We can now plot the data and see that PIK3CA has a significantly lower abundance when it is mutated "
   ]
  },
  {
   "cell_type": "code",
   "execution_count": 29,
   "metadata": {},
   "outputs": [
    {
     "data": {
      "image/png": "[encoded data removed]",
      "text/plain": [
       "<Figure size 842.4x595.44 with 1 Axes>"
      ]
     },
     "metadata": {
      "needs_background": "light"
     },
     "output_type": "display_data"
    }
   ],
   "source": [
    "a4_dims = (11.7, 8.27)\n",
    "fig, ax = plt.subplots(figsize=a4_dims)\n",
    "somatic_boxplot = sns.boxplot(data=cross, x=\"Mutation\",y=gene, ax = ax)\n",
    "somatic_boxplot.set_title(\"PIK3CA gene mutation protein abundance\")\n",
    "somatic_boxplot = sns.stripplot(data=cross, x=\"Mutation\", y=gene,jitter=True, color=\".3\")\n",
    "somatic_boxplot.set(xlabel=\"Somatic Gene Mutation\",ylabel=\"Proteomics\")\n",
    "plt.show()"
   ]
  },
  {
   "cell_type": "markdown",
   "metadata": {},
   "source": [
    "### Let's look at the p-value and plot for missense mutations specifically"
   ]
  },
  {
   "cell_type": "code",
   "execution_count": 30,
   "metadata": {},
   "outputs": [
    {
     "name": "stdout",
     "output_type": "stream",
     "text": [
      "Test for PIK3CA: \n",
      "Ttest_indResult(statistic=-2.3402474422953436, pvalue=0.021363570581694177)\n"
     ]
    }
   ],
   "source": [
    "mutated = cross.loc[cross[\"Mutation\"] == \"Missense_Mutation\"]\n",
    "wt = cross.loc[cross[\"Mutation\"] == \"Wildtype\"]\n",
    "ttest = scipy.stats.ttest_ind(mutated[protein], wt[protein])\n",
    "print(\"Test for \" + protein + \": \")\n",
    "print(ttest)"
   ]
  },
  {
   "cell_type": "code",
   "execution_count": 31,
   "metadata": {},
   "outputs": [],
   "source": [
    "missense_only = cross.loc[(cross[\"Mutation\"] == \"Wildtype\") | (cross[\"Mutation\"] == \"Missense_Mutation\")]"
   ]
  },
  {
   "cell_type": "code",
   "execution_count": 32,
   "metadata": {},
   "outputs": [
    {
     "data": {
      "image/png": "[encoded data removed]",
      "text/plain": [
       "<Figure size 842.4x595.44 with 1 Axes>"
      ]
     },
     "metadata": {
      "needs_background": "light"
     },
     "output_type": "display_data"
    }
   ],
   "source": [
    "a4_dims = (11.7, 8.27)\n",
    "fig, ax = plt.subplots(figsize=a4_dims)\n",
    "somatic_boxplot = sns.boxplot(data=missense_only, x=\"Mutation\",y=gene, ax = ax)\n",
    "somatic_boxplot.set_title(\"PIK3CA gene mutation protein abundance\")\n",
    "somatic_boxplot = sns.stripplot(data=missense_only, x=\"Mutation\", y=gene,jitter=True, color=\".3\")\n",
    "somatic_boxplot.set(xlabel=\"Somatic Gene Mutation\",ylabel=\"Proteomics\")\n",
    "plt.show()"
   ]
  },
  {
   "cell_type": "code",
   "execution_count": null,
   "metadata": {},
   "outputs": [],
   "source": []
  }
 ],
 "metadata": {
  "kernelspec": {
   "display_name": "Python 3",
   "language": "python",
   "name": "python3"
  },
  "language_info": {
   "codemirror_mode": {
    "name": "ipython",
    "version": 3
   },
   "file_extension": ".py",
   "mimetype": "text/x-python",
   "name": "python",
   "nbconvert_exporter": "python",
   "pygments_lexer": "ipython3",
   "version": "3.7.1"
  }
 },
 "nbformat": 4,
 "nbformat_minor": 2
}
