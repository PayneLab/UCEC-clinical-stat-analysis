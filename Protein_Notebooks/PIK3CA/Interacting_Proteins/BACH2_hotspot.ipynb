{
 "cells": [
  {
   "cell_type": "markdown",
   "metadata": {},
   "source": [
    "# PIK3CA: Effects of Hotspot Mutation on AKT1"
   ]
  },
  {
   "cell_type": "code",
   "execution_count": 1,
   "metadata": {},
   "outputs": [],
   "source": [
    "import pandas as pd\n",
    "import numpy as np\n",
    "import scipy.stats\n",
    "import matplotlib.pyplot as plt\n",
    "import seaborn as sns\n",
    "import re\n",
    "import statsmodels.stats.multitest"
   ]
  },
  {
   "cell_type": "markdown",
   "metadata": {},
   "source": [
    "### Import CPTAC"
   ]
  },
  {
   "cell_type": "code",
   "execution_count": 2,
   "metadata": {},
   "outputs": [
    {
     "name": "stdout",
     "output_type": "stream",
     "text": [
      "Loading CPTAC data:\n",
      "Loading Dictionary...\n",
      "Loading Clinical Data...\n",
      "Loading Proteomics Data...\n",
      "Loading Transcriptomics Data...\n",
      "Loading CNA Data...\n",
      "Loading Phosphoproteomics Data...\n",
      "Loading Somatic Mutation Data...\n",
      "\n",
      " ******PLEASE READ******\n",
      "WARNING: This data is under a publication embargo until July 1, 2019.\n",
      "CPTAC is a community resource project and data are made available\n",
      "rapidly after generation for community research use. The embargo\n",
      "allows exploring and utilizing the data, but the data may not be in a\n",
      "publication until July 1, 2019. Please see\n",
      "https://proteomics.cancer.gov/data-portal/about/data-use-agreement or\n",
      "enter CPTAC.embargo() to open the webpage for more details.\n"
     ]
    }
   ],
   "source": [
    "import CPTAC"
   ]
  },
  {
   "cell_type": "code",
   "execution_count": 3,
   "metadata": {},
   "outputs": [],
   "source": [
    "somatic = CPTAC.get_somatic()\n",
    "proteomics = CPTAC.get_proteomics()\n",
    "phos = CPTAC.get_phosphoproteomics()"
   ]
  },
  {
   "cell_type": "code",
   "execution_count": 4,
   "metadata": {},
   "outputs": [],
   "source": [
    "protein = 'BACH2'\n",
    "gene = 'PIK3CA'"
   ]
  },
  {
   "cell_type": "markdown",
   "metadata": {},
   "source": [
    "## Extract the data for hotspot mutations only "
   ]
  },
  {
   "cell_type": "code",
   "execution_count": 5,
   "metadata": {},
   "outputs": [],
   "source": [
    "#A list of mutations present in the hotspot according to our Hotspot3D output\n",
    "hotspot_mutations = ['p.E545A', 'p.E545K', 'p.E545V', 'p.Q546P', 'p.Q546R', 'p.E542K']\n",
    "mutated_hotspot = somatic.loc[(somatic['Location'].isin(hotspot_mutations)) & (somatic['Gene'] == gene)]\n",
    "hotspot_patients = mutated_hotspot['Clinical_Patient_Key']"
   ]
  },
  {
   "cell_type": "code",
   "execution_count": 6,
   "metadata": {},
   "outputs": [
    {
     "name": "stdout",
     "output_type": "stream",
     "text": [
      "Gene BACH2 not found in proteomics data\n"
     ]
    },
    {
     "ename": "TypeError",
     "evalue": "'NoneType' object does not support item assignment",
     "output_type": "error",
     "traceback": [
      "\u001b[0;31m---------------------------------------------------------------------------\u001b[0m",
      "\u001b[0;31mTypeError\u001b[0m                                 Traceback (most recent call last)",
      "\u001b[0;32m<ipython-input-6-9c4b08630642>\u001b[0m in \u001b[0;36m<module>\u001b[0;34m\u001b[0m\n\u001b[1;32m      1\u001b[0m \u001b[0mp10_mutations\u001b[0m \u001b[0;34m=\u001b[0m \u001b[0mCPTAC\u001b[0m\u001b[0;34m.\u001b[0m\u001b[0mcompare_mutations\u001b[0m\u001b[0;34m(\u001b[0m\u001b[0mproteomics\u001b[0m\u001b[0;34m,\u001b[0m \u001b[0mprotein\u001b[0m\u001b[0;34m,\u001b[0m \u001b[0mgene\u001b[0m\u001b[0;34m)\u001b[0m\u001b[0;34m\u001b[0m\u001b[0;34m\u001b[0m\u001b[0m\n\u001b[1;32m      2\u001b[0m \u001b[0;31m#print(p10_mutations)\u001b[0m\u001b[0;34m\u001b[0m\u001b[0;34m\u001b[0m\u001b[0;34m\u001b[0m\u001b[0m\n\u001b[0;32m----> 3\u001b[0;31m \u001b[0mp10_mutations\u001b[0m\u001b[0;34m[\u001b[0m\u001b[0;34m'Within_Hotspot'\u001b[0m\u001b[0;34m]\u001b[0m \u001b[0;34m=\u001b[0m \u001b[0;32mFalse\u001b[0m\u001b[0;34m\u001b[0m\u001b[0;34m\u001b[0m\u001b[0m\n\u001b[0m\u001b[1;32m      4\u001b[0m \u001b[0mp10_mutations\u001b[0m\u001b[0;34m.\u001b[0m\u001b[0mloc\u001b[0m\u001b[0;34m[\u001b[0m\u001b[0mhotspot_patients\u001b[0m\u001b[0;34m,\u001b[0m \u001b[0;34m'Within_Hotspot'\u001b[0m\u001b[0;34m]\u001b[0m \u001b[0;34m=\u001b[0m \u001b[0;32mTrue\u001b[0m\u001b[0;34m\u001b[0m\u001b[0;34m\u001b[0m\u001b[0m\n\u001b[1;32m      5\u001b[0m \u001b[0mp10_mutations\u001b[0m\u001b[0;34m.\u001b[0m\u001b[0mloc\u001b[0m\u001b[0;34m[\u001b[0m\u001b[0mp10_mutations\u001b[0m\u001b[0;34m[\u001b[0m\u001b[0;34m'Mutation'\u001b[0m\u001b[0;34m]\u001b[0m \u001b[0;34m==\u001b[0m \u001b[0;34m'Wildtype'\u001b[0m\u001b[0;34m,\u001b[0m \u001b[0;34m'Within_Hotspot'\u001b[0m\u001b[0;34m]\u001b[0m \u001b[0;34m=\u001b[0m \u001b[0;34m'Wildtype'\u001b[0m\u001b[0;34m\u001b[0m\u001b[0;34m\u001b[0m\u001b[0m\n",
      "\u001b[0;31mTypeError\u001b[0m: 'NoneType' object does not support item assignment"
     ]
    }
   ],
   "source": [
    "p10_mutations = CPTAC.compare_mutations(proteomics, protein, gene)\n",
    "#print(p10_mutations)\n",
    "p10_mutations['Within_Hotspot'] = False\n",
    "p10_mutations.loc[hotspot_patients, 'Within_Hotspot'] = True\n",
    "p10_mutations.loc[p10_mutations['Mutation'] == 'Wildtype', 'Within_Hotspot'] = 'Wildtype'\n",
    "p10_mutations = p10_mutations.loc[p10_mutations['Patient_Type'] == 'Tumor'].dropna(axis=0)\n",
    "print(len(p10_mutations.loc[(p10_mutations['Within_Hotspot'] == True)]))"
   ]
  },
  {
   "cell_type": "markdown",
   "metadata": {},
   "source": [
    "## Hotspot mutation vs non-hotspot mutation"
   ]
  },
  {
   "cell_type": "code",
   "execution_count": null,
   "metadata": {},
   "outputs": [],
   "source": [
    "in_hotspot = p10_mutations.loc[p10_mutations['Within_Hotspot'] == True]\n",
    "out_hotspot = p10_mutations.loc[p10_mutations['Within_Hotspot'] == False]\n",
    "ttest = scipy.stats.ttest_ind(in_hotspot[protein], out_hotspot[protein])\n",
    "print(ttest)"
   ]
  },
  {
   "cell_type": "markdown",
   "metadata": {},
   "source": [
    "## Hotspot mutation vs other mutations and wildtype"
   ]
  },
  {
   "cell_type": "code",
   "execution_count": null,
   "metadata": {},
   "outputs": [],
   "source": [
    "mutated = p10_mutations.loc[p10_mutations['Within_Hotspot'] == True]\n",
    "wt = p10_mutations.loc[p10_mutations['Within_Hotspot'] != True]\n",
    "ttest = scipy.stats.ttest_ind(mutated[protein], wt[protein])\n",
    "print(ttest)"
   ]
  },
  {
   "cell_type": "markdown",
   "metadata": {},
   "source": [
    "## All mutations vs wildtype"
   ]
  },
  {
   "cell_type": "code",
   "execution_count": null,
   "metadata": {},
   "outputs": [],
   "source": [
    "mutated = p10_mutations.loc[p10_mutations['Within_Hotspot'] != 'Wildtype']\n",
    "wt = p10_mutations.loc[p10_mutations['Within_Hotspot'] == 'Wildtype']\n",
    "ttest = scipy.stats.ttest_ind(mutated[protein], wt[protein])\n",
    "print(ttest)"
   ]
  },
  {
   "cell_type": "markdown",
   "metadata": {},
   "source": [
    "## Hotspot mutation v wildtype"
   ]
  },
  {
   "cell_type": "code",
   "execution_count": null,
   "metadata": {},
   "outputs": [],
   "source": [
    "mutated = p10_mutations.loc[p10_mutations['Within_Hotspot'] == True]\n",
    "wt = p10_mutations.loc[p10_mutations['Within_Hotspot'] == 'Wildtype']\n",
    "ttest = scipy.stats.ttest_ind(mutated[protein], wt[protein])\n",
    "print(ttest)"
   ]
  },
  {
   "cell_type": "code",
   "execution_count": null,
   "metadata": {},
   "outputs": [],
   "source": [
    "a4_dims = (11.7, 8.27)\n",
    "fig, ax = plt.subplots(figsize = a4_dims)\n",
    "boxplt = sns.boxplot(data = p10_mutations, x = 'Within_Hotspot', y = protein, ax = ax)\n",
    "boxplt = sns.stripplot(data = p10_mutations, x = 'Within_Hotspot', y = protein, jitter = True, color = '.3')\n",
    "boxplt.set_title('Mutation location effect on AKT1 abundance', fontsize='25')\n",
    "boxplt.set_xlabel('Mutation Within Hotspot', fontsize='20')\n",
    "boxplt.set_ylabel('Protein Level', fontsize='20')\n",
    "plt.show()"
   ]
  },
  {
   "cell_type": "markdown",
   "metadata": {},
   "source": [
    "# Phosphoproteomic Abundance"
   ]
  },
  {
   "cell_type": "code",
   "execution_count": 7,
   "metadata": {},
   "outputs": [
    {
     "name": "stdout",
     "output_type": "stream",
     "text": [
      "      BACH2-S159  BACH2-S315  BACH2-S337  BACH2-S367  BACH2-S409  BACH2-S510  \\\n",
      "S001         NaN     -0.8990         NaN         NaN         NaN         NaN   \n",
      "S002         NaN     -0.6565         NaN      0.1630         NaN         NaN   \n",
      "S003         NaN     -0.5450         NaN         NaN         NaN         NaN   \n",
      "S004         NaN     -0.0680      0.5840         NaN    0.860000      0.5920   \n",
      "S005         NaN         NaN         NaN         NaN         NaN         NaN   \n",
      "S006         NaN     -0.9210         NaN         NaN         NaN         NaN   \n",
      "S007         NaN     -0.9680         NaN     -0.4240         NaN         NaN   \n",
      "S008    -0.70300     -0.4990         NaN         NaN         NaN         NaN   \n",
      "S009         NaN     -0.1570      0.3420         NaN    0.603000      0.1220   \n",
      "S010         NaN     -0.0957         NaN         NaN         NaN         NaN   \n",
      "S011         NaN     -0.1880         NaN         NaN         NaN         NaN   \n",
      "S012    -1.41000     -0.0360         NaN         NaN         NaN         NaN   \n",
      "S013         NaN      0.5420         NaN         NaN         NaN         NaN   \n",
      "S014         NaN      0.0150         NaN         NaN         NaN         NaN   \n",
      "S015         NaN     -0.0486      0.7260         NaN    0.514000      0.7860   \n",
      "S016         NaN         NaN         NaN         NaN         NaN         NaN   \n",
      "S017         NaN     -1.1350         NaN         NaN         NaN         NaN   \n",
      "S018         NaN     -0.9710         NaN         NaN         NaN         NaN   \n",
      "S019         NaN      0.1335         NaN         NaN         NaN         NaN   \n",
      "S020         NaN     -0.4860         NaN         NaN         NaN         NaN   \n",
      "S021         NaN     -0.7220     -1.0300         NaN   -0.544000     -0.6380   \n",
      "S022    -0.72800      0.4870         NaN         NaN         NaN         NaN   \n",
      "S023     0.36500     -0.4280         NaN         NaN         NaN         NaN   \n",
      "S024         NaN         NaN         NaN         NaN         NaN         NaN   \n",
      "S025         NaN         NaN         NaN         NaN         NaN         NaN   \n",
      "S026         NaN      0.6210         NaN         NaN         NaN         NaN   \n",
      "S027         NaN     -0.7480         NaN         NaN         NaN         NaN   \n",
      "S028         NaN      0.3110     -0.0251         NaN    0.355000     -0.1310   \n",
      "S029    -0.14000         NaN         NaN         NaN         NaN         NaN   \n",
      "S030         NaN     -0.5365         NaN     -0.0283         NaN         NaN   \n",
      "...          ...         ...         ...         ...         ...         ...   \n",
      "S124         NaN      0.7770         NaN         NaN         NaN         NaN   \n",
      "S125         NaN      0.2020         NaN         NaN         NaN         NaN   \n",
      "S126    -0.32500      0.4460         NaN         NaN         NaN         NaN   \n",
      "S127         NaN         NaN         NaN         NaN         NaN         NaN   \n",
      "S128         NaN      0.9600         NaN         NaN         NaN         NaN   \n",
      "S129         NaN      0.1260         NaN         NaN         NaN         NaN   \n",
      "S130         NaN     -0.4540     -0.1600         NaN   -0.052300      0.5280   \n",
      "S131         NaN         NaN         NaN         NaN         NaN         NaN   \n",
      "S132         NaN      1.4400         NaN         NaN         NaN         NaN   \n",
      "S133         NaN     -0.0553     -0.1180         NaN    0.000189      0.0627   \n",
      "S134         NaN      1.2700         NaN         NaN         NaN         NaN   \n",
      "S135         NaN     -0.1910     -0.4320         NaN         NaN     -0.3420   \n",
      "S136         NaN      0.2584         NaN         NaN         NaN         NaN   \n",
      "S137         NaN      1.4900         NaN         NaN         NaN         NaN   \n",
      "S138         NaN      0.2520         NaN         NaN         NaN         NaN   \n",
      "S139         NaN      0.5610         NaN         NaN         NaN         NaN   \n",
      "S140     0.76100      0.2970         NaN         NaN         NaN         NaN   \n",
      "S141     0.42900      0.4390         NaN         NaN         NaN         NaN   \n",
      "S142     1.29000      0.6070         NaN         NaN         NaN         NaN   \n",
      "S143         NaN      0.5275         NaN      0.6370         NaN         NaN   \n",
      "S144         NaN      0.8285         NaN      1.0400         NaN         NaN   \n",
      "S145     0.02420     -0.3730         NaN         NaN         NaN         NaN   \n",
      "S146    -0.02570     -0.3460         NaN         NaN         NaN         NaN   \n",
      "S147    -0.00389     -0.6070         NaN         NaN         NaN         NaN   \n",
      "S148    -0.51200     -0.6300         NaN         NaN         NaN         NaN   \n",
      "S149    -0.03580     -0.2340         NaN         NaN         NaN         NaN   \n",
      "S150     0.00337     -0.3540         NaN         NaN         NaN         NaN   \n",
      "S151     0.67400      0.8850         NaN         NaN         NaN         NaN   \n",
      "S152    -0.02800      0.6670         NaN         NaN         NaN         NaN   \n",
      "S153     0.03560     -0.5380         NaN         NaN         NaN         NaN   \n",
      "\n",
      "      BACH2-T319           Mutation Patient_Type Within_Hotspot  \n",
      "S001      -0.899  Missense_Mutation        Tumor           True  \n",
      "S002      -0.760           Wildtype        Tumor       Wildtype  \n",
      "S003         NaN  Missense_Mutation        Tumor           True  \n",
      "S004         NaN           Wildtype        Tumor       Wildtype  \n",
      "S005         NaN           Wildtype        Tumor       Wildtype  \n",
      "S006      -0.921           Wildtype        Tumor       Wildtype  \n",
      "S007      -0.716           Wildtype        Tumor       Wildtype  \n",
      "S008      -0.499           Wildtype        Tumor       Wildtype  \n",
      "S009         NaN  Missense_Mutation        Tumor           True  \n",
      "S010      -0.227  Missense_Mutation        Tumor          False  \n",
      "S011      -0.188           Wildtype        Tumor       Wildtype  \n",
      "S012      -0.036  Missense_Mutation        Tumor          False  \n",
      "S013       2.060           Wildtype        Tumor       Wildtype  \n",
      "S014       1.060  Missense_Mutation        Tumor          False  \n",
      "S015         NaN           Wildtype        Tumor       Wildtype  \n",
      "S016         NaN           Wildtype        Tumor       Wildtype  \n",
      "S017      -1.170           Wildtype        Tumor       Wildtype  \n",
      "S018      -0.971  Missense_Mutation        Tumor          False  \n",
      "S019       0.638           Wildtype        Tumor       Wildtype  \n",
      "S020      -0.486           Wildtype        Tumor       Wildtype  \n",
      "S021         NaN  Missense_Mutation        Tumor           True  \n",
      "S022       0.487  Missense_Mutation        Tumor          False  \n",
      "S023      -0.428  Missense_Mutation        Tumor           True  \n",
      "S024         NaN  Missense_Mutation        Tumor           True  \n",
      "S025         NaN           Wildtype        Tumor       Wildtype  \n",
      "S026       0.621  Missense_Mutation        Tumor          False  \n",
      "S027      -0.748  Missense_Mutation        Tumor          False  \n",
      "S028         NaN  Missense_Mutation        Tumor          False  \n",
      "S029         NaN           Wildtype        Tumor       Wildtype  \n",
      "S030      -0.901  Missense_Mutation        Tumor          False  \n",
      "...          ...                ...          ...            ...  \n",
      "S124       0.777           Wildtype       Normal       Wildtype  \n",
      "S125         NaN           Wildtype       Normal       Wildtype  \n",
      "S126       0.446           Wildtype       Normal       Wildtype  \n",
      "S127         NaN           Wildtype       Normal       Wildtype  \n",
      "S128       0.960           Wildtype       Normal       Wildtype  \n",
      "S129      -0.888           Wildtype       Normal       Wildtype  \n",
      "S130         NaN           Wildtype       Normal       Wildtype  \n",
      "S131         NaN           Wildtype       Normal       Wildtype  \n",
      "S132       1.440           Wildtype       Normal       Wildtype  \n",
      "S133         NaN           Wildtype       Normal       Wildtype  \n",
      "S134       1.270           Wildtype       Normal       Wildtype  \n",
      "S135         NaN           Wildtype       Normal       Wildtype  \n",
      "S136       0.419           Wildtype       Normal       Wildtype  \n",
      "S137       1.160           Wildtype       Normal       Wildtype  \n",
      "S138       0.252           Wildtype       Normal       Wildtype  \n",
      "S139       0.561           Wildtype       Normal       Wildtype  \n",
      "S140       0.297           Wildtype       Normal       Wildtype  \n",
      "S141       0.439           Wildtype       Normal       Wildtype  \n",
      "S142       0.607           Wildtype       Normal       Wildtype  \n",
      "S143       0.588           Wildtype       Normal       Wildtype  \n",
      "S144       1.190           Wildtype       Normal       Wildtype  \n",
      "S145         NaN           Wildtype       Normal       Wildtype  \n",
      "S146         NaN           Wildtype       Normal       Wildtype  \n",
      "S147         NaN           Wildtype       Normal       Wildtype  \n",
      "S148         NaN           Wildtype       Normal       Wildtype  \n",
      "S149         NaN           Wildtype       Normal       Wildtype  \n",
      "S150         NaN           Wildtype       Normal       Wildtype  \n",
      "S151         NaN           Wildtype       Normal       Wildtype  \n",
      "S152         NaN           Wildtype       Normal       Wildtype  \n",
      "S153         NaN           Wildtype       Normal       Wildtype  \n",
      "\n",
      "[153 rows x 10 columns]\n"
     ]
    }
   ],
   "source": [
    "phos_mutations = CPTAC.compare_mutations(phos, protein, gene)\n",
    "phos_mutations['Within_Hotspot'] = False\n",
    "phos_mutations.loc[hotspot_patients, 'Within_Hotspot'] = True\n",
    "\n",
    "phos_mutations.loc[phos_mutations['Mutation'] == 'Wildtype', 'Within_Hotspot'] = 'Wildtype'\n",
    "print(phos_mutations)\n",
    "\n",
    "\n",
    "phos_mutations = phos_mutations.loc[phos_mutations['Patient_Type'] == 'Tumor']\n",
    "#phos_mutations = phos_mutations.dropna(axis = 0)\n",
    "#print(phos_mutations)\n",
    "phos_sites = list(phos_mutations)\n",
    "phos_sites = phos_sites[:(len(phos_sites) - 3)]"
   ]
  },
  {
   "cell_type": "markdown",
   "metadata": {},
   "source": [
    "## Hotspot mutation vs non-hotspot mutation"
   ]
  },
  {
   "cell_type": "code",
   "execution_count": 8,
   "metadata": {},
   "outputs": [
    {
     "name": "stdout",
     "output_type": "stream",
     "text": [
      "BACH2-S159   Ttest_indResult(statistic=2.396486164635067, pvalue=0.05355067776736488)\n",
      "BACH2-S315   Ttest_indResult(statistic=-0.04610990569877824, pvalue=0.9634774908825008)\n",
      "BACH2-S337   Ttest_indResult(statistic=-0.7063558264608434, pvalue=0.5064559292847948)\n",
      "BACH2-S367   Ttest_indResult(statistic=nan, pvalue=nan)\n",
      "BACH2-S409   Ttest_indResult(statistic=0.37724469647748776, pvalue=0.7422601185240458)\n",
      "BACH2-S510   Ttest_indResult(statistic=-0.2102031245692014, pvalue=0.8404655543143719)\n",
      "BACH2-T319   Ttest_indResult(statistic=-0.47646954285243825, pvalue=0.6378780100124739)\n"
     ]
    }
   ],
   "source": [
    "p_values = []\n",
    "site_names = []\n",
    "\n",
    "for site in phos_sites:\n",
    "    mutated = phos_mutations.loc[phos_mutations['Within_Hotspot'] == True]\n",
    "    mutated_list = mutated[site].tolist()\n",
    "    mutated_list = [x for x in mutated_list if str(x) != 'nan']\n",
    "    #print(mutated_list)\n",
    "    wt = phos_mutations.loc[phos_mutations['Within_Hotspot'] == False]\n",
    "    wt_list = wt[site].tolist()\n",
    "    wt_list = [x for x in wt_list if str(x) != 'nan']\n",
    "    \n",
    "    ttest = scipy.stats.ttest_ind(mutated_list, wt_list)\n",
    "    \n",
    "    print(site, \" \", ttest)\n",
    "    p_values.append(ttest[1])\n",
    "    site_names.append(site) \n",
    "    \n",
    "    \n",
    "#areSignificant = statsmodels.stats.multitest.fdrcorrection(p_values)[0]\n",
    "#pvalues = statsmodels.stats.multitest.fdrcorrection(p_values)[1]\n",
    "#significant_sites = np.array(site_names)[np.array(areSignificant)]\n",
    "#significant_pvalues = np.array(pvalues)[np.array(areSignificant)]\n",
    "\n",
    "#significant_vals = dict(zip(significant_sites, significant_pvalues))\n",
    "\n",
    "\n",
    "#print(significant_sites)\n",
    "#print(significant_pvalues)\n",
    "#print(significant_vals)"
   ]
  },
  {
   "cell_type": "markdown",
   "metadata": {},
   "source": [
    "## Hotspot mutation vs other mutations and wildtype"
   ]
  },
  {
   "cell_type": "code",
   "execution_count": 9,
   "metadata": {},
   "outputs": [
    {
     "name": "stdout",
     "output_type": "stream",
     "text": [
      "BACH2-S159   Ttest_indResult(statistic=0.15374726545094858, pvalue=0.8797314923564086)\n",
      "BACH2-S315   Ttest_indResult(statistic=0.5741489718217783, pvalue=0.5675404814117764)\n",
      "BACH2-S337   Ttest_indResult(statistic=-1.5178663601420808, pvalue=0.1549440624868545)\n",
      "BACH2-S367   Ttest_indResult(statistic=nan, pvalue=nan)\n",
      "BACH2-S409   Ttest_indResult(statistic=0.13930806753281114, pvalue=0.8946440570085852)\n",
      "BACH2-S510   Ttest_indResult(statistic=-1.4810030662884732, pvalue=0.16437912616654815)\n",
      "BACH2-T319   Ttest_indResult(statistic=0.24782919275626697, pvalue=0.8051730465574027)\n"
     ]
    }
   ],
   "source": [
    "p_values = []\n",
    "site_names = []\n",
    "\n",
    "for site in phos_sites:\n",
    "    mutated = phos_mutations.loc[phos_mutations['Within_Hotspot'] == True]\n",
    "    mutated_list = mutated[site].tolist()\n",
    "    mutated_list = [x for x in mutated_list if str(x) != 'nan']\n",
    "    #print(mutated_list)\n",
    "    wt = phos_mutations.loc[phos_mutations['Within_Hotspot'] != True]\n",
    "    wt_list = wt[site].tolist()\n",
    "    wt_list = [x for x in wt_list if str(x) != 'nan']\n",
    "    \n",
    "    ttest = scipy.stats.ttest_ind(mutated_list, wt_list)\n",
    "    print(site, \" \", ttest)\n",
    "    p_values.append(ttest[1])\n",
    "    site_names.append(site) \n",
    "    \n",
    "    \n",
    "#areSignificant = statsmodels.stats.multitest.fdrcorrection(p_values)[0]\n",
    "#pvalues = statsmodels.stats.multitest.fdrcorrection(p_values)[1]\n",
    "#significant_sites = np.array(site_names)[np.array(areSignificant)]\n",
    "#significant_pvalues = np.array(pvalues)[np.array(areSignificant)]\n",
    "\n",
    "#significant_vals = dict(zip(significant_sites, significant_pvalues))\n",
    "\n",
    "\n",
    "#print(significant_sites)\n",
    "#print(significant_pvalues)\n",
    "#print(significant_vals)"
   ]
  },
  {
   "cell_type": "markdown",
   "metadata": {},
   "source": [
    "## All mutations vs wildtype"
   ]
  },
  {
   "cell_type": "code",
   "execution_count": 10,
   "metadata": {},
   "outputs": [
    {
     "name": "stdout",
     "output_type": "stream",
     "text": [
      "BACH2-S159   Ttest_indResult(statistic=-1.9447473574029386, pvalue=0.06959874823515755)\n",
      "BACH2-S315   Ttest_indResult(statistic=1.2923173953978582, pvalue=0.20011213247243378)\n",
      "BACH2-S337   Ttest_indResult(statistic=-2.3865565105378717, pvalue=0.03435012387581085)\n",
      "BACH2-S367   Ttest_indResult(statistic=nan, pvalue=nan)\n",
      "BACH2-S409   Ttest_indResult(statistic=-0.30893950203144577, pvalue=0.7698259969018864)\n",
      "BACH2-S510   Ttest_indResult(statistic=-4.483054616952817, pvalue=0.0007484241489183486)\n",
      "BACH2-T319   Ttest_indResult(statistic=1.459422372631268, pvalue=0.15003595412972362)\n"
     ]
    },
    {
     "name": "stderr",
     "output_type": "stream",
     "text": [
      "/Users/emilyhosk/anaconda3/envs/research/lib/python3.7/site-packages/numpy/core/fromnumeric.py:3157: RuntimeWarning: Degrees of freedom <= 0 for slice\n",
      "  **kwargs)\n",
      "/Users/emilyhosk/anaconda3/envs/research/lib/python3.7/site-packages/numpy/core/_methods.py:132: RuntimeWarning: invalid value encountered in double_scalars\n",
      "  ret = ret.dtype.type(ret / rcount)\n"
     ]
    }
   ],
   "source": [
    "p_values = []\n",
    "site_names = []\n",
    "\n",
    "for site in phos_sites:\n",
    "    mutated = phos_mutations.loc[phos_mutations['Within_Hotspot'] != 'Wildtype']\n",
    "    mutated_list = mutated[site].tolist()\n",
    "    mutated_list = [x for x in mutated_list if str(x) != 'nan']\n",
    "    #print(mutated_list)\n",
    "    wt = phos_mutations.loc[phos_mutations['Within_Hotspot'] == 'Wildtype']\n",
    "    wt_list = wt[site].tolist()\n",
    "    wt_list = [x for x in wt_list if str(x) != 'nan']\n",
    "    \n",
    "    ttest = scipy.stats.ttest_ind(mutated_list, wt_list)\n",
    "    print(site, \" \", ttest)\n",
    "    p_values.append(ttest[1])\n",
    "    site_names.append(site) \n",
    "    \n",
    "    \n",
    "#areSignificant = statsmodels.stats.multitest.fdrcorrection(p_values)[0]\n",
    "#pvalues = statsmodels.stats.multitest.fdrcorrection(p_values)[1]\n",
    "#significant_sites = np.array(site_names)[np.array(areSignificant)]\n",
    "#significant_pvalues = np.array(pvalues)[np.array(areSignificant)]\n",
    "\n",
    "#significant_vals = dict(zip(significant_sites, significant_pvalues))\n",
    "\n",
    "\n",
    "#print(significant_sites)\n",
    "#print(significant_pvalues)\n",
    "#print(significant_vals)"
   ]
  },
  {
   "cell_type": "markdown",
   "metadata": {},
   "source": [
    "## Hotspot mutation v wildtype"
   ]
  },
  {
   "cell_type": "code",
   "execution_count": 11,
   "metadata": {},
   "outputs": [
    {
     "name": "stdout",
     "output_type": "stream",
     "text": [
      "BACH2-S159   Ttest_indResult(statistic=2.396486164635067, pvalue=0.05355067776736488)\n",
      "BACH2-S315   Ttest_indResult(statistic=-0.04610990569877824, pvalue=0.9634774908825008)\n",
      "BACH2-S337   Ttest_indResult(statistic=-0.7063558264608434, pvalue=0.5064559292847948)\n",
      "BACH2-S367   Ttest_indResult(statistic=nan, pvalue=nan)\n",
      "BACH2-S409   Ttest_indResult(statistic=0.37724469647748776, pvalue=0.7422601185240458)\n",
      "BACH2-S510   Ttest_indResult(statistic=-0.2102031245692014, pvalue=0.8404655543143719)\n",
      "BACH2-T319   Ttest_indResult(statistic=-0.47646954285243825, pvalue=0.6378780100124739)\n"
     ]
    }
   ],
   "source": [
    "p_values = []\n",
    "site_names = []\n",
    "\n",
    "for site in phos_sites:\n",
    "    mutated = phos_mutations.loc[phos_mutations['Within_Hotspot'] == True]\n",
    "    mutated_list = mutated[site].tolist()\n",
    "    mutated_list = [x for x in mutated_list if str(x) != 'nan']\n",
    "    #print(mutated_list)\n",
    "    wt = phos_mutations.loc[phos_mutations['Within_Hotspot'] == False]\n",
    "    wt_list = wt[site].tolist()\n",
    "    wt_list = [x for x in wt_list if str(x) != 'nan']\n",
    "    \n",
    "    ttest = scipy.stats.ttest_ind(mutated_list, wt_list)\n",
    "    print(site, \" \", ttest)\n",
    "    p_values.append(ttest[1])\n",
    "    site_names.append(site) \n",
    "    \n",
    "    \n",
    "#areSignificant = statsmodels.stats.multitest.fdrcorrection(p_values)[0]\n",
    "#pvalues = statsmodels.stats.multitest.fdrcorrection(p_values)[1]\n",
    "#significant_sites = np.array(site_names)[np.array(areSignificant)]\n",
    "#significant_pvalues = np.array(pvalues)[np.array(areSignificant)]\n",
    "\n",
    "#significant_vals = dict(zip(significant_sites, significant_pvalues))\n",
    "\n",
    "\n",
    "#print(significant_sites)\n",
    "#print(significant_pvalues)\n",
    "#print(significant_vals)"
   ]
  },
  {
   "cell_type": "code",
   "execution_count": 13,
   "metadata": {},
   "outputs": [
    {
     "data": {
      "image/png": "[encoded data removed]",
      "text/plain": [
       "<Figure size 842.4x595.44 with 1 Axes>"
      ]
     },
     "metadata": {
      "needs_background": "light"
     },
     "output_type": "display_data"
    }
   ],
   "source": [
    "a4_dims = (11.7, 8.27)\n",
    "fig, ax = plt.subplots(figsize = a4_dims)\n",
    "boxplt = sns.boxplot(data = phos_mutations, x = 'Within_Hotspot', y = 'BACH2-S510', ax = ax)\n",
    "boxplt = sns.stripplot(data = phos_mutations, x = 'Within_Hotspot', y = 'BACH2-S510', jitter = True, color = '.3')\n",
    "boxplt.set_title('Mutation location effect on BACH2 phosphoproteomic abundance', fontsize='25')\n",
    "boxplt.set_xlabel('Mutation Within Hotspot', fontsize='20')\n",
    "boxplt.set_ylabel('Protein Level', fontsize='20')\n",
    "plt.show()"
   ]
  },
  {
   "cell_type": "code",
   "execution_count": null,
   "metadata": {},
   "outputs": [],
   "source": []
  }
 ],
 "metadata": {
  "kernelspec": {
   "display_name": "Python 3",
   "language": "python",
   "name": "python3"
  },
  "language_info": {
   "codemirror_mode": {
    "name": "ipython",
    "version": 3
   },
   "file_extension": ".py",
   "mimetype": "text/x-python",
   "name": "python",
   "nbconvert_exporter": "python",
   "pygments_lexer": "ipython3",
   "version": "3.7.1"
  }
 },
 "nbformat": 4,
 "nbformat_minor": 2
}
