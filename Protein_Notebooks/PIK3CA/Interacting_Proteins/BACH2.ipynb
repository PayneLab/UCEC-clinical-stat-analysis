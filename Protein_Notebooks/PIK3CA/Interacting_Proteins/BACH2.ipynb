{
 "cells": [
  {
   "cell_type": "markdown",
   "metadata": {},
   "source": [
    "# PIK3CA: Effects of Mutation on BACH2"
   ]
  },
  {
   "cell_type": "markdown",
   "metadata": {},
   "source": [
    "<b> Standard imports for playing with and plotting data frames. </b>"
   ]
  },
  {
   "cell_type": "code",
   "execution_count": 1,
   "metadata": {},
   "outputs": [],
   "source": [
    "import pandas as pd\n",
    "import numpy as np\n",
    "import scipy.stats\n",
    "import matplotlib.pyplot as plt\n",
    "import seaborn as sns\n",
    "import re\n",
    "import statsmodels.stats.multitest"
   ]
  },
  {
   "cell_type": "markdown",
   "metadata": {},
   "source": [
    "<b> Import CPTAC data </b>"
   ]
  },
  {
   "cell_type": "code",
   "execution_count": 2,
   "metadata": {},
   "outputs": [
    {
     "name": "stdout",
     "output_type": "stream",
     "text": [
      "Loading CPTAC data:\n",
      "Loading Dictionary...\n",
      "Loading Clinical Data...\n",
      "Loading Proteomics Data...\n",
      "Loading Transcriptomics Data...\n",
      "Loading CNA Data...\n",
      "Loading Phosphoproteomics Data...\n",
      "Loading Somatic Mutation Data...\n",
      "\n",
      " ******PLEASE READ******\n",
      "WARNING: This data is under a publication embargo until July 1, 2019.\n",
      "CPTAC is a community resource project and data are made available\n",
      "rapidly after generation for community research use. The embargo\n",
      "allows exploring and utilizing the data, but the data may not be in a\n",
      "publication until July 1, 2019. Please see\n",
      "https://proteomics.cancer.gov/data-portal/about/data-use-agreement or\n",
      "enter CPTAC.embargo() to open the webpage for more details.\n"
     ]
    }
   ],
   "source": [
    "import CPTAC"
   ]
  },
  {
   "cell_type": "code",
   "execution_count": 3,
   "metadata": {},
   "outputs": [],
   "source": [
    "somatic_mutations = CPTAC.get_somatic()\n",
    "proteomics = CPTAC.get_proteomics()\n",
    "phos = CPTAC.get_phosphoproteomics()"
   ]
  },
  {
   "cell_type": "markdown",
   "metadata": {},
   "source": [
    "# PI3KCA mutation and BACH2 proteome abundance "
   ]
  },
  {
   "cell_type": "markdown",
   "metadata": {},
   "source": [
    "### Perform a t-test with mutated and non-mutated protein levels"
   ]
  },
  {
   "cell_type": "code",
   "execution_count": 7,
   "metadata": {},
   "outputs": [
    {
     "ename": "NameError",
     "evalue": "name 'cross' is not defined",
     "output_type": "error",
     "traceback": [
      "\u001b[0;31m---------------------------------------------------------------------------\u001b[0m",
      "\u001b[0;31mNameError\u001b[0m                                 Traceback (most recent call last)",
      "\u001b[0;32m<ipython-input-7-b7cd8d93e16d>\u001b[0m in \u001b[0;36m<module>\u001b[0;34m\u001b[0m\n\u001b[1;32m     17\u001b[0m             \u001b[0mprint\u001b[0m\u001b[0;34m(\u001b[0m\u001b[0;34m\"Test for \"\u001b[0m \u001b[0;34m+\u001b[0m \u001b[0mprotein\u001b[0m \u001b[0;34m+\u001b[0m \u001b[0;34m\": \"\u001b[0m\u001b[0;34m)\u001b[0m\u001b[0;34m\u001b[0m\u001b[0;34m\u001b[0m\u001b[0m\n\u001b[1;32m     18\u001b[0m             \u001b[0mprint\u001b[0m\u001b[0;34m(\u001b[0m\u001b[0mttest\u001b[0m\u001b[0;34m)\u001b[0m\u001b[0;34m\u001b[0m\u001b[0;34m\u001b[0m\u001b[0m\n\u001b[0;32m---> 19\u001b[0;31m \u001b[0mprint\u001b[0m\u001b[0;34m(\u001b[0m\u001b[0mcross\u001b[0m\u001b[0;34m)\u001b[0m\u001b[0;34m\u001b[0m\u001b[0;34m\u001b[0m\u001b[0m\n\u001b[0m",
      "\u001b[0;31mNameError\u001b[0m: name 'cross' is not defined"
     ]
    }
   ],
   "source": [
    "protList = ['BACH2']\n",
    "pcutoff = 0.05 / len(protList)\n",
    "gene = 'PIK3CA'\n",
    "\n",
    "proteomics = proteomics[:100]\n",
    "\n",
    "sigResults = [];\n",
    "for protein in protList: \n",
    "    if protein in proteomics.columns:\n",
    "        cross = CPTAC.compare_mutations(proteomics, protein, gene)\n",
    "        cross = cross[[\"Mutation\", protein]].dropna(axis=0)\n",
    "        mutated = cross.loc[cross[\"Mutation\"] == \"Missense_Mutation\"]\n",
    "        wt = cross.loc[cross[\"Mutation\"] == \"Wildtype\"]\n",
    "        ttest = scipy.stats.ttest_ind(mutated[protein], wt[protein])\n",
    "        if(ttest[1] <= pcutoff):\n",
    "            sigResults.append(protein)\n",
    "            print(\"Test for \" + protein + \": \")\n",
    "            print(ttest) \n",
    "print(cross)"
   ]
  },
  {
   "cell_type": "markdown",
   "metadata": {},
   "source": [
    " ### We can now plot the data "
   ]
  },
  {
   "cell_type": "code",
   "execution_count": 5,
   "metadata": {},
   "outputs": [
    {
     "ename": "NameError",
     "evalue": "name 'cross' is not defined",
     "output_type": "error",
     "traceback": [
      "\u001b[0;31m---------------------------------------------------------------------------\u001b[0m",
      "\u001b[0;31mNameError\u001b[0m                                 Traceback (most recent call last)",
      "\u001b[0;32m<ipython-input-5-49e518d74f34>\u001b[0m in \u001b[0;36m<module>\u001b[0;34m\u001b[0m\n\u001b[1;32m      1\u001b[0m \u001b[0ma4_dims\u001b[0m \u001b[0;34m=\u001b[0m \u001b[0;34m(\u001b[0m\u001b[0;36m11.7\u001b[0m\u001b[0;34m,\u001b[0m \u001b[0;36m8.27\u001b[0m\u001b[0;34m)\u001b[0m\u001b[0;34m\u001b[0m\u001b[0;34m\u001b[0m\u001b[0m\n\u001b[1;32m      2\u001b[0m \u001b[0mfig\u001b[0m\u001b[0;34m,\u001b[0m \u001b[0max\u001b[0m \u001b[0;34m=\u001b[0m \u001b[0mplt\u001b[0m\u001b[0;34m.\u001b[0m\u001b[0msubplots\u001b[0m\u001b[0;34m(\u001b[0m\u001b[0mfigsize\u001b[0m\u001b[0;34m=\u001b[0m\u001b[0ma4_dims\u001b[0m\u001b[0;34m)\u001b[0m\u001b[0;34m\u001b[0m\u001b[0;34m\u001b[0m\u001b[0m\n\u001b[0;32m----> 3\u001b[0;31m \u001b[0msomatic_boxplot\u001b[0m \u001b[0;34m=\u001b[0m \u001b[0msns\u001b[0m\u001b[0;34m.\u001b[0m\u001b[0mboxplot\u001b[0m\u001b[0;34m(\u001b[0m\u001b[0mdata\u001b[0m\u001b[0;34m=\u001b[0m\u001b[0mcross\u001b[0m\u001b[0;34m,\u001b[0m \u001b[0mx\u001b[0m\u001b[0;34m=\u001b[0m\u001b[0;34m\"Mutation\"\u001b[0m\u001b[0;34m,\u001b[0m\u001b[0my\u001b[0m\u001b[0;34m=\u001b[0m\u001b[0mprotein\u001b[0m\u001b[0;34m,\u001b[0m \u001b[0max\u001b[0m \u001b[0;34m=\u001b[0m \u001b[0max\u001b[0m\u001b[0;34m)\u001b[0m\u001b[0;34m\u001b[0m\u001b[0;34m\u001b[0m\u001b[0m\n\u001b[0m\u001b[1;32m      4\u001b[0m \u001b[0msomatic_boxplot\u001b[0m\u001b[0;34m.\u001b[0m\u001b[0mset_title\u001b[0m\u001b[0;34m(\u001b[0m\u001b[0;34m\"PI3KCA gene mutation BACH protein abundance\"\u001b[0m\u001b[0;34m)\u001b[0m\u001b[0;34m\u001b[0m\u001b[0;34m\u001b[0m\u001b[0m\n\u001b[1;32m      5\u001b[0m \u001b[0msomatic_boxplot\u001b[0m \u001b[0;34m=\u001b[0m \u001b[0msns\u001b[0m\u001b[0;34m.\u001b[0m\u001b[0mstripplot\u001b[0m\u001b[0;34m(\u001b[0m\u001b[0mdata\u001b[0m\u001b[0;34m=\u001b[0m\u001b[0mcross\u001b[0m\u001b[0;34m,\u001b[0m \u001b[0mx\u001b[0m\u001b[0;34m=\u001b[0m\u001b[0;34m\"Mutation\"\u001b[0m\u001b[0;34m,\u001b[0m \u001b[0my\u001b[0m\u001b[0;34m=\u001b[0m\u001b[0mprotein\u001b[0m\u001b[0;34m,\u001b[0m\u001b[0mjitter\u001b[0m\u001b[0;34m=\u001b[0m\u001b[0;32mTrue\u001b[0m\u001b[0;34m,\u001b[0m \u001b[0mcolor\u001b[0m\u001b[0;34m=\u001b[0m\u001b[0;34m\".3\"\u001b[0m\u001b[0;34m)\u001b[0m\u001b[0;34m\u001b[0m\u001b[0;34m\u001b[0m\u001b[0m\n",
      "\u001b[0;31mNameError\u001b[0m: name 'cross' is not defined"
     ]
    },
    {
     "data": {
      "image/png": "[encoded data removed]",
      "text/plain": [
       "<Figure size 842.4x595.44 with 1 Axes>"
      ]
     },
     "metadata": {
      "needs_background": "light"
     },
     "output_type": "display_data"
    }
   ],
   "source": [
    "a4_dims = (11.7, 8.27)\n",
    "fig, ax = plt.subplots(figsize=a4_dims)\n",
    "somatic_boxplot = sns.boxplot(data=cross, x=\"Mutation\",y=protein, ax = ax)\n",
    "somatic_boxplot.set_title(\"PI3KCA gene mutation BACH protein abundance\")\n",
    "somatic_boxplot = sns.stripplot(data=cross, x=\"Mutation\", y=protein,jitter=True, color=\".3\")\n",
    "somatic_boxplot.set(xlabel=\"Somatic Gene Mutation\",ylabel=\"Proteomics\")\n",
    "plt.show()"
   ]
  },
  {
   "cell_type": "markdown",
   "metadata": {},
   "source": [
    "# PI3KCA mutation and BACH2 phosphoproteome abundance "
   ]
  },
  {
   "cell_type": "code",
   "execution_count": 9,
   "metadata": {},
   "outputs": [
    {
     "name": "stdout",
     "output_type": "stream",
     "text": [
      "BACH2-S159 [0.0007258474866574831]\n",
      "BACH2-S315 [0.0007258474866574831, 0.43612966470634973]\n",
      "BACH2-S337 [0.0007258474866574831, 0.43612966470634973, 0.09291752758989662]\n",
      "BACH2-S367 [0.0007258474866574831, 0.43612966470634973, 0.09291752758989662, nan]\n",
      "BACH2-S409 [0.0007258474866574831, 0.43612966470634973, 0.09291752758989662, nan, 0.7471180768608647]\n",
      "BACH2-S510 [0.0007258474866574831, 0.43612966470634973, 0.09291752758989662, nan, 0.7471180768608647, 0.00286270135944502]\n",
      "BACH2-T319 [0.0007258474866574831, 0.43612966470634973, 0.09291752758989662, nan, 0.7471180768608647, 0.00286270135944502, 0.6594532216068147]\n",
      "Adjusted p values: [0.00435508 0.6541945  0.18583506 0.74711808 0.0085881  0.74711808]\n",
      "['BACH2-S159' 'BACH2-S510']\n",
      "[0.00435508 0.0085881 ]\n",
      "{'BACH2-S159': 0.004355084919944899, 'BACH2-S510': 0.00858810407833506}\n"
     ]
    }
   ],
   "source": [
    "sites = phos.columns\n",
    "p_values = []\n",
    "site_names = []\n",
    "protein = 'BACH2'\n",
    "\n",
    "\n",
    "pattern = re.compile(protein)\n",
    "isInList = filter(pattern.search, sites)\n",
    "if next(isInList, None) is not None:\n",
    "    phosphositesdf = CPTAC.compare_mutations(phos, protein, gene)\n",
    "    phosphositesdf = phosphositesdf.loc[phosphositesdf['Patient_Type'] == 'Tumor'].drop('Patient_Type', axis = 1)\n",
    "    for site in phosphositesdf.columns:\n",
    "        if (site is not 'Mutation'):\n",
    "            sitedf = CPTAC.compare_mutations(phos, site, gene)\n",
    "            mutateddf = sitedf.loc[sitedf['Mutation'] != 'Wildtype'].dropna(axis=0)\n",
    "            wtdf = sitedf.loc[sitedf['Mutation'] == 'Wildtype'].dropna(axis=0)\n",
    "            ttest = scipy.stats.ttest_ind(mutateddf[site], wtdf[site])\n",
    "            p_values.append(ttest[1])\n",
    "            print(site, p_values)\n",
    "            site_names.append(site)     \n",
    "                \n",
    "#We need to remove all 'nan' p-values and their corresponding site names before passing it in for the fdr correction\n",
    "indexesToRemove=[]\n",
    "\n",
    "for index in range(0, len(p_values)):\n",
    "    if np.isnan(p_values[index]):\n",
    "        indexesToRemove.append(index)\n",
    "\n",
    "for rem in range( len(indexesToRemove)-1, -1, -1):\n",
    "    p_values.pop(indexesToRemove[rem])\n",
    "    site_names.pop(indexesToRemove[rem])\n",
    "#p_values and site names have now had all entries removed where the corresponding p-value is 'nan'\n",
    "        \n",
    "\n",
    "pvalues = statsmodels.stats.multitest.fdrcorrection(p_values,alpha=0.05, method='indep')[1] \n",
    "print(\"Adjusted p values: \" + str(pvalues))\n",
    "areSignificant = statsmodels.stats.multitest.fdrcorrection(p_values,alpha=0.05, method='indep')[0]\n",
    "\n",
    "\n",
    "significant_sites = np.array(site_names)[np.array(areSignificant)]\n",
    "significant_pvalues = np.array(pvalues)[np.array(areSignificant)]\n",
    "\n",
    "significant_vals = dict(zip(significant_sites, significant_pvalues))\n",
    "\n",
    "print(significant_sites)\n",
    "print(significant_pvalues)\n",
    "print(significant_vals)"
   ]
  },
  {
   "cell_type": "code",
   "execution_count": null,
   "metadata": {},
   "outputs": [],
   "source": [
    "phosdf = CPTAC.compare_mutations(phos, protein, gene)\n",
    "\n",
    "phosdf = phosdf.loc[phosdf['Patient_Type'] == 'Tumor']"
   ]
  },
  {
   "cell_type": "markdown",
   "metadata": {},
   "source": [
    "## Plot all of the phosphoproteomic measurements"
   ]
  },
  {
   "cell_type": "code",
   "execution_count": null,
   "metadata": {},
   "outputs": [],
   "source": [
    "protein = 'BACH2'\n",
    "gene = 'PIK3CA'\n",
    "phosdf = CPTAC.compare_mutations(phos, protein, gene)\n",
    "#print(phosdf)\n",
    "phosdf = phosdf.loc[phosdf['Patient_Type'] == 'Tumor'].drop('Patient_Type', axis=1)"
   ]
  },
  {
   "cell_type": "code",
   "execution_count": null,
   "metadata": {},
   "outputs": [],
   "source": [
    "phosdf.loc[(phosdf['Mutation'] == \"Wildtype\"), \"Mutation\"] = \"Control\"\n",
    "phosdf.loc[(phosdf['Mutation'] != \"Control\"), \"Mutation\"] = \"Mutated\"\n",
    "\n",
    "phosdf = pd.melt(phosdf, id_vars=['Mutation'], var_name='Type', value_name='Reading')\n",
    "phosdf = phosdf.loc[(phosdf[\"Mutation\"] == \"Control\") | (phosdf[\"Mutation\"] == \"Mutated\")]\n",
    "phosdf = phosdf.dropna(axis=0).sort_values(by=['Mutation'], ascending=False)\n",
    "#phosdf = phosdf.loc[(phosdf['Type'] == significant_sites)]\n",
    "plotdf = None"
   ]
  },
  {
   "cell_type": "code",
   "execution_count": null,
   "metadata": {},
   "outputs": [],
   "source": [
    "#interested_sites = ['IRS1-S1100', 'IRS1-S1101', 'IRS1-S1133', 'IRS1-S672', 'IRS1-S766']\n",
    "for site in significant_sites:\n",
    "    tempdf = phosdf.loc[(phosdf['Type'] == site)]\n",
    "    print(tempdf)\n",
    "    if plotdf is None:\n",
    "        plotdf = tempdf\n",
    "    else:\n",
    "        plotdf = plotdf.append(tempdf)\n",
    "        \n",
    "print(plotdf)"
   ]
  },
  {
   "cell_type": "code",
   "execution_count": null,
   "metadata": {},
   "outputs": [],
   "source": [
    "a4_dims = (40.4, 16.54)\n",
    "fig, ax = plt.subplots(figsize=a4_dims)\n",
    "my_pal = {\"Mutated\": \"#009933\", \"Control\": \"#008ae6\"}\n",
    "\n",
    "#Create the plot\n",
    "boxplt = sns.boxplot(x='Type', y='Reading', hue='Mutation', data=plotdf, palette=my_pal)\n",
    "boxplt = sns.stripplot(data=plotdf, x='Type', y='Reading', hue='Mutation', dodge=True, jitter=True, color='.3')\n",
    "\n",
    "#Add styling\n",
    "boxplt.set_xlabel('')\n",
    "boxplt.set_ylabel('Signal', fontsize='30')\n",
    "boxplt.tick_params(labelsize='20')\n",
    "\n",
    "#Adjust legend\n",
    "handles, labels = ax.get_legend_handles_labels()\n",
    "plt.legend(handles[0:2], ['Mutated', 'Control'], title='BACH2 Status', fontsize='20', frameon=False)\n",
    "boxplt.get_legend().get_title().set_fontsize('20')\n",
    "#boxplt.get_legend().set_bbox_to_anchor((1, 1, 0, 0))\n",
    "\n",
    "\n",
    "fig = boxplt.get_figure()\n",
    "plt.show()"
   ]
  },
  {
   "cell_type": "code",
   "execution_count": null,
   "metadata": {},
   "outputs": [],
   "source": []
  }
 ],
 "metadata": {
  "kernelspec": {
   "display_name": "Python 3",
   "language": "python",
   "name": "python3"
  },
  "language_info": {
   "codemirror_mode": {
    "name": "ipython",
    "version": 3
   },
   "file_extension": ".py",
   "mimetype": "text/x-python",
   "name": "python",
   "nbconvert_exporter": "python",
   "pygments_lexer": "ipython3",
   "version": "3.7.1"
  }
 },
 "nbformat": 4,
 "nbformat_minor": 2
}
