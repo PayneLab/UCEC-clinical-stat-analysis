{
 "cells": [
  {
   "cell_type": "markdown",
   "metadata": {},
   "source": [
    "# PIK3CA: Effects of Hotspot Mutation on IRS2"
   ]
  },
  {
   "cell_type": "code",
   "execution_count": null,
   "metadata": {},
   "outputs": [],
   "source": [
    "import pandas as pd\n",
    "import numpy as np\n",
    "import scipy.stats\n",
    "import matplotlib.pyplot as plt\n",
    "import seaborn as sns\n",
    "import re\n",
    "import statsmodels.stats.multitest"
   ]
  },
  {
   "cell_type": "markdown",
   "metadata": {},
   "source": [
    "### Import CPTAC"
   ]
  },
  {
   "cell_type": "code",
   "execution_count": null,
   "metadata": {},
   "outputs": [],
   "source": [
    "import CPTAC"
   ]
  },
  {
   "cell_type": "code",
   "execution_count": null,
   "metadata": {},
   "outputs": [],
   "source": [
    "somatic = CPTAC.get_somatic()\n",
    "proteomics = CPTAC.get_proteomics()\n",
    "phos = CPTAC.get_phosphoproteomics()"
   ]
  },
  {
   "cell_type": "code",
   "execution_count": null,
   "metadata": {},
   "outputs": [],
   "source": [
    "protein = 'IRS2'\n",
    "gene = 'PIK3CA'"
   ]
  },
  {
   "cell_type": "markdown",
   "metadata": {},
   "source": [
    "## Extract the data for hotspot mutations only "
   ]
  },
  {
   "cell_type": "code",
   "execution_count": null,
   "metadata": {},
   "outputs": [],
   "source": [
    "#A list of mutations present in the hotspot according to our Hotspot3D output\n",
    "hotspot_mutations = ['p.E545A', 'p.E545K', 'p.E545V', 'p.Q546P', 'p.Q546R', 'p.E542K']\n",
    "mutated_hotspot = somatic.loc[(somatic['Location'].isin(hotspot_mutations)) & (somatic['Gene'] == gene)]\n",
    "hotspot_patients = mutated_hotspot['Clinical_Patient_Key']"
   ]
  },
  {
   "cell_type": "code",
   "execution_count": null,
   "metadata": {},
   "outputs": [],
   "source": [
    "p10_mutations = CPTAC.compare_mutations(proteomics, protein, gene)\n",
    "#print(p10_mutations)\n",
    "p10_mutations['Within_Hotspot'] = False\n",
    "p10_mutations.loc[hotspot_patients, 'Within_Hotspot'] = True\n",
    "p10_mutations.loc[p10_mutations['Mutation'] == 'Wildtype', 'Within_Hotspot'] = 'Wildtype'\n",
    "p10_mutations = p10_mutations.loc[p10_mutations['Patient_Type'] == 'Tumor'].dropna(axis=0)\n",
    "print(len(p10_mutations.loc[(p10_mutations['Within_Hotspot'] == True)]))"
   ]
  },
  {
   "cell_type": "markdown",
   "metadata": {},
   "source": [
    "## Hotspot mutation vs non-hotspot mutation"
   ]
  },
  {
   "cell_type": "code",
   "execution_count": null,
   "metadata": {},
   "outputs": [],
   "source": [
    "in_hotspot = p10_mutations.loc[p10_mutations['Within_Hotspot'] == True]\n",
    "out_hotspot = p10_mutations.loc[p10_mutations['Within_Hotspot'] == False]\n",
    "ttest = scipy.stats.ttest_ind(in_hotspot[protein], out_hotspot[protein])\n",
    "print(ttest)"
   ]
  },
  {
   "cell_type": "markdown",
   "metadata": {},
   "source": [
    "## Hotspot mutation vs other mutations and wildtype"
   ]
  },
  {
   "cell_type": "code",
   "execution_count": null,
   "metadata": {},
   "outputs": [],
   "source": [
    "mutated = p10_mutations.loc[p10_mutations['Within_Hotspot'] == True]\n",
    "wt = p10_mutations.loc[p10_mutations['Within_Hotspot'] != True]\n",
    "ttest = scipy.stats.ttest_ind(mutated[protein], wt[protein])\n",
    "print(ttest)"
   ]
  },
  {
   "cell_type": "markdown",
   "metadata": {},
   "source": [
    "## All mutations vs wildtype"
   ]
  },
  {
   "cell_type": "code",
   "execution_count": null,
   "metadata": {},
   "outputs": [],
   "source": [
    "mutated = p10_mutations.loc[p10_mutations['Within_Hotspot'] != 'Wildtype']\n",
    "wt = p10_mutations.loc[p10_mutations['Within_Hotspot'] == 'Wildtype']\n",
    "ttest = scipy.stats.ttest_ind(mutated[protein], wt[protein])\n",
    "print(ttest)"
   ]
  },
  {
   "cell_type": "markdown",
   "metadata": {},
   "source": [
    "## Hotspot mutation v wildtype"
   ]
  },
  {
   "cell_type": "code",
   "execution_count": null,
   "metadata": {},
   "outputs": [],
   "source": [
    "mutated = p10_mutations.loc[p10_mutations['Within_Hotspot'] == True]\n",
    "wt = p10_mutations.loc[p10_mutations['Within_Hotspot'] == 'Wildtype']\n",
    "ttest = scipy.stats.ttest_ind(mutated[protein], wt[protein])\n",
    "print(ttest)"
   ]
  },
  {
   "cell_type": "code",
   "execution_count": null,
   "metadata": {},
   "outputs": [],
   "source": [
    "a4_dims = (11.7, 8.27)\n",
    "fig, ax = plt.subplots(figsize = a4_dims)\n",
    "boxplt = sns.boxplot(data = p10_mutations, x = 'Within_Hotspot', y = protein, ax = ax)\n",
    "boxplt = sns.stripplot(data = p10_mutations, x = 'Within_Hotspot', y = protein, jitter = True, color = '.3')\n",
    "boxplt.set_title('Mutation location effect on PIK3CA abundance', fontsize='25')\n",
    "boxplt.set_xlabel('Mutation Within Hotspot', fontsize='20')\n",
    "boxplt.set_ylabel('Protein Level', fontsize='20')\n",
    "plt.show()"
   ]
  },
  {
   "cell_type": "markdown",
   "metadata": {},
   "source": [
    "# Phosphoproteomic Abundance"
   ]
  },
  {
   "cell_type": "code",
   "execution_count": null,
   "metadata": {},
   "outputs": [],
   "source": [
    "phos_mutations = CPTAC.compare_mutations(phos, protein, gene)\n",
    "phos_mutations['Within_Hotspot'] = False\n",
    "phos_mutations.loc[hotspot_patients, 'Within_Hotspot'] = True\n",
    "\n",
    "phos_mutations.loc[phos_mutations['Mutation'] == 'Wildtype', 'Within_Hotspot'] = 'Wildtype'\n",
    "print(phos_mutations)\n",
    "\n",
    "\n",
    "phos_mutations = phos_mutations.loc[phos_mutations['Patient_Type'] == 'Tumor']\n",
    "#phos_mutations = phos_mutations.dropna(axis = 0)\n",
    "#print(phos_mutations)\n",
    "phos_sites = list(phos_mutations)\n",
    "phos_sites = sites[:(len(sites) - 3)]"
   ]
  },
  {
   "cell_type": "markdown",
   "metadata": {},
   "source": [
    "## Hotspot mutation vs non-hotspot mutation"
   ]
  },
  {
   "cell_type": "code",
   "execution_count": null,
   "metadata": {},
   "outputs": [],
   "source": [
    "for site in phos_sites:\n",
    "    mutated = phos_mutations.loc[phos_mutations['Within_Hotspot'] == True]\n",
    "    mutated_list = mutated[site].tolist()\n",
    "    mutated_list = [x for x in mutated_list if str(x) != 'nan']\n",
    "    #print(mutated_list)\n",
    "    wt = phos_mutations.loc[phos_mutations['Within_Hotspot'] == False]\n",
    "    wt_list = wt[site].tolist()\n",
    "    wt_list = [x for x in wt_list if str(x) != 'nan']\n",
    "    \n",
    "    ttest = scipy.stats.ttest_ind(mutated_list, wt_list)\n",
    "    print(\"Test for \" + site, ttest)"
   ]
  },
  {
   "cell_type": "markdown",
   "metadata": {},
   "source": [
    "## Hotspot mutation vs other mutations and wildtype"
   ]
  },
  {
   "cell_type": "code",
   "execution_count": null,
   "metadata": {},
   "outputs": [],
   "source": [
    "for site in phos_sites:\n",
    "    mutated = phos_mutations.loc[phos_mutations['Within_Hotspot'] == True]\n",
    "    mutated_list = mutated[site].tolist()\n",
    "    mutated_list = [x for x in mutated_list if str(x) != 'nan']\n",
    "    #print(mutated_list)\n",
    "    wt = phos_mutations.loc[phos_mutations['Within_Hotspot'] != True]\n",
    "    wt_list = wt[site].tolist()\n",
    "    wt_list = [x for x in wt_list if str(x) != 'nan']\n",
    "    \n",
    "    ttest = scipy.stats.ttest_ind(mutated_list, wt_list)\n",
    "    print(\"Test for \" + site, ttest)"
   ]
  },
  {
   "cell_type": "markdown",
   "metadata": {},
   "source": [
    "## All mutations vs wildtype"
   ]
  },
  {
   "cell_type": "code",
   "execution_count": null,
   "metadata": {},
   "outputs": [],
   "source": [
    "for site in phos_sites:\n",
    "    mutated = phos_mutations.loc[phos_mutations['Within_Hotspot'] != 'Wildtype']\n",
    "    mutated_list = mutated[site].tolist()\n",
    "    mutated_list = [x for x in mutated_list if str(x) != 'nan']\n",
    "    #print(mutated_list)\n",
    "    wt = phos_mutations.loc[phos_mutations['Within_Hotspot'] == 'Wildtype']\n",
    "    wt_list = wt[site].tolist()\n",
    "    wt_list = [x for x in wt_list if str(x) != 'nan']\n",
    "    \n",
    "    ttest = scipy.stats.ttest_ind(mutated_list, wt_list)\n",
    "    print(\"Test for \" + site, ttest)"
   ]
  },
  {
   "cell_type": "markdown",
   "metadata": {},
   "source": [
    "## Hotspot mutation v wildtype"
   ]
  },
  {
   "cell_type": "code",
   "execution_count": null,
   "metadata": {},
   "outputs": [],
   "source": [
    "for site in phos_sites:\n",
    "    mutated = phos_mutations.loc[phos_mutations['Within_Hotspot'] == True]\n",
    "    mutated_list = mutated[site].tolist()\n",
    "    mutated_list = [x for x in mutated_list if str(x) != 'nan']\n",
    "    #print(mutated_list)\n",
    "    wt = phos_mutations.loc[phos_mutations['Within_Hotspot'] == 'Wildtype']\n",
    "    wt_list = wt[site].tolist()\n",
    "    wt_list = [x for x in wt_list if str(x) != 'nan']\n",
    "    \n",
    "    ttest = scipy.stats.ttest_ind(mutated_list, wt_list)\n",
    "    print(\"Test for \" + site, ttest)"
   ]
  },
  {
   "cell_type": "code",
   "execution_count": null,
   "metadata": {},
   "outputs": [],
   "source": [
    "a4_dims = (11.7, 8.27)\n",
    "fig, ax = plt.subplots(figsize = a4_dims)\n",
    "boxplt = sns.boxplot(data = phos_mutations, x = 'Within_Hotspot', y = 'IRS2-S560', ax = ax)\n",
    "boxplt = sns.stripplot(data = phos_mutations, x = 'Within_Hotspot', y = 'IRS2-S560', jitter = True, color = '.3')\n",
    "boxplt.set_title('Mutation location effect on IRS2 phosphoproteomic abundance', fontsize='25')\n",
    "boxplt.set_xlabel('Mutation Within Hotspot', fontsize='20')\n",
    "boxplt.set_ylabel('Protein Level', fontsize='20')\n",
    "plt.show()"
   ]
  },
  {
   "cell_type": "code",
   "execution_count": null,
   "metadata": {},
   "outputs": [],
   "source": [
    "a4_dims = (11.7, 8.27)\n",
    "fig, ax = plt.subplots(figsize = a4_dims)\n",
    "boxplt = sns.boxplot(data = phos_mutations, x = 'Within_Hotspot', y = 'IRS2-S391', ax = ax)\n",
    "boxplt = sns.stripplot(data = phos_mutations, x = 'Within_Hotspot', y = 'IRS2-S391', jitter = True, color = '.3')\n",
    "boxplt.set_title('Mutation location effect on IRS2 phosphoproteomic abundance', fontsize='25')\n",
    "boxplt.set_xlabel('Mutation Within Hotspot', fontsize='20')\n",
    "boxplt.set_ylabel('Protein Level', fontsize='20')\n",
    "plt.show()"
   ]
  },
  {
   "cell_type": "code",
   "execution_count": null,
   "metadata": {},
   "outputs": [],
   "source": []
  }
 ],
 "metadata": {
  "kernelspec": {
   "display_name": "Python 3",
   "language": "python",
   "name": "python3"
  },
  "language_info": {
   "codemirror_mode": {
    "name": "ipython",
    "version": 3
   },
   "file_extension": ".py",
   "mimetype": "text/x-python",
   "name": "python",
   "nbconvert_exporter": "python",
   "pygments_lexer": "ipython3",
   "version": "3.7.1"
  }
 },
 "nbformat": 4,
 "nbformat_minor": 2
}
