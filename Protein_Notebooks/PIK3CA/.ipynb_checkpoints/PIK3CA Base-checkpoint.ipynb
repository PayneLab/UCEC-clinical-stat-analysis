{
 "cells": [
  {
   "cell_type": "code",
   "execution_count": 1,
   "metadata": {},
   "outputs": [
    {
     "data": {
      "text/plain": [
       "RendererRegistry.enable('notebook')"
      ]
     },
     "execution_count": 1,
     "metadata": {},
     "output_type": "execute_result"
    }
   ],
   "source": [
    "import pandas as pd\n",
    "import numpy as np\n",
    "import scipy.stats\n",
    "from scipy.stats import pearsonr\n",
    "import matplotlib.pyplot as plt\n",
    "import seaborn as sns\n",
    "import altair as alt\n",
    "\n",
    "alt.renderers.enable('notebook')"
   ]
  },
  {
   "cell_type": "markdown",
   "metadata": {},
   "source": [
    "Import CPTAC data"
   ]
  },
  {
   "cell_type": "code",
   "execution_count": 2,
   "metadata": {},
   "outputs": [
    {
     "name": "stdout",
     "output_type": "stream",
     "text": [
      "Loading Clinical Data...\n",
      "Loading Proteomics Data...\n",
      "Loading Transcriptomics Data...\n",
      "Loading CNA Data...\n",
      "Loading Phosphoproteomics Data...\n",
      "Loading Somatic Data...\n",
      "\n",
      " ******PLEASE READ******\n",
      "WARNING: This data is under a publication embargo until July 1, 2019. CPTAC is a community resource project and data are made available rapidly after generation for community research use. The embargo allows exploring and utilizing the data, but the data may not be in a publication until July 1, 2019. Please see https://proteomics.cancer.gov/data-portal/about/data-use-agreement, or enter CPTAC.embargo() to open the webpage for more details.\n"
     ]
    }
   ],
   "source": [
    "import CPTAC"
   ]
  },
  {
   "cell_type": "code",
   "execution_count": 3,
   "metadata": {},
   "outputs": [],
   "source": [
    "somatic_mutations = CPTAC.get_somatic()\n",
    "proteomics = CPTAC.get_proteomics()\n",
    "phos = CPTAC.get_phosphoproteomics()"
   ]
  },
  {
   "cell_type": "markdown",
   "metadata": {},
   "source": [
    "# Difference in protein abundance between mutated and non-mutated protein"
   ]
  },
  {
   "cell_type": "code",
   "execution_count": 7,
   "metadata": {},
   "outputs": [
    {
     "name": "stdout",
     "output_type": "stream",
     "text": [
      "Test for PIK3R1: \n",
      "Ttest_indResult(statistic=-1.273351607347664, pvalue=0.2059054106385045)\n"
     ]
    }
   ],
   "source": [
    "gene = 'PIK3R1'\n",
    "protList = ['PIK3R1']\n",
    "sigList = [];\n",
    "\n",
    "#pcutoff = 0.05/len(protList)\n",
    "pcutoff = 1\n",
    "\n",
    "genedf = somatic_mutations[gene].to_frame()\n",
    "for protein in protList:\n",
    "    if protein in proteomics.columns:\n",
    "        proteindf = proteomics[protein].to_frame()\n",
    "        proteindfName = protein + \" protein\"\n",
    "        proteindf.columns = [proteindfName]\n",
    "        cross = genedf.add(proteindf, fill_value=0).dropna(axis=0)\n",
    "        mutated = cross.loc[cross[gene] == 1.0]\n",
    "        wt = cross.loc[cross[gene] == 0.0]\n",
    "        ttest = scipy.stats.ttest_ind(mutated[proteindfName], wt[proteindfName])\n",
    "        if ttest[1] <= pcutoff:\n",
    "            sigList.append(protein)\n",
    "            print(\"Test for \" + protein + \": \")\n",
    "            print(ttest)"
   ]
  },
  {
   "cell_type": "markdown",
   "metadata": {},
   "source": [
    "<b> Plot the data </b>"
   ]
  },
  {
   "cell_type": "code",
   "execution_count": 9,
   "metadata": {},
   "outputs": [
    {
     "data": {
      "text/plain": [
       "[Text(0, 0.5, 'Proteomics'), Text(0.5, 0, 'Somatic Gene Mutation')]"
      ]
     },
     "execution_count": 9,
     "metadata": {},
     "output_type": "execute_result"
    },
    {
     "data": {
      "image/png": "[encoded data removed]",
      "text/plain": [
       "<Figure size 432x288 with 1 Axes>"
      ]
     },
     "metadata": {
      "needs_background": "light"
     },
     "output_type": "display_data"
    }
   ],
   "source": [
    "somatic_boxplot = sns.boxplot(data=cross, x=gene ,y=proteindfName)\n",
    "somatic_boxplot.set_title(gene + \" gene mutation and \" + protList[0] + \" protein abundance\")\n",
    "somatic_boxplot = sns.stripplot(data=cross, x=gene, y=proteindfName,jitter=True, color=\".3\")\n",
    "somatic_boxplot.set(xlabel=\"Somatic Gene Mutation\",ylabel=\"Proteomics\")"
   ]
  },
  {
   "cell_type": "markdown",
   "metadata": {},
   "source": [
    "# Difference in phosphoproteomics between mutated and non-mutated protein"
   ]
  },
  {
   "cell_type": "code",
   "execution_count": 10,
   "metadata": {},
   "outputs": [
    {
     "name": "stdout",
     "output_type": "stream",
     "text": [
      "0.025\n",
      "Results for PIK3R1-S154\n",
      "Ttest_indResult(statistic=1.207024147023664, pvalue=0.23249669909361637)\n"
     ]
    }
   ],
   "source": [
    "phosProt = phos.filter(regex='PIK3R1')\n",
    "gene = 'PIK3R1'\n",
    "\n",
    "genedf = somatic_mutations[gene].to_frame()\n",
    "cross = genedf.add(phosProt, fill_value = 0)\n",
    "sigResults = []\n",
    "#print(cross.head())\n",
    "\n",
    "pcutoff = 0.05/len(cross.columns)\n",
    "print(pcutoff)\n",
    "\n",
    "mutated = cross.loc[cross[gene] == 1.0]\n",
    "#print(mutated.head())\n",
    "wt = cross.loc[cross[gene] == 0.0]\n",
    "#print(wt.head())\n",
    "\n",
    "for loc in cross.columns:\n",
    "    if not loc == gene:\n",
    "        oneSitedf_m = mutated[[gene, loc]].dropna()\n",
    "        oneSitedf_wt = wt[[gene, loc]].dropna()\n",
    "        ttest = scipy.stats.ttest_ind(oneSitedf_m[loc], oneSitedf_wt[loc])\n",
    "        sigResults.append(loc)\n",
    "        print(\"Results for \" + loc)\n",
    "        print(ttest)"
   ]
  },
  {
   "cell_type": "markdown",
   "metadata": {},
   "source": [
    "<b> Plot the data </b>"
   ]
  },
  {
   "cell_type": "code",
   "execution_count": 12,
   "metadata": {},
   "outputs": [
    {
     "data": {
      "text/plain": [
       "[Text(0, 0.5, 'Phosphoproteomics'), Text(0.5, 0, 'Somatic Gene Mutation')]"
      ]
     },
     "execution_count": 12,
     "metadata": {},
     "output_type": "execute_result"
    },
    {
     "data": {
      "image/png": "[encoded data removed]",
      "text/plain": [
       "<Figure size 432x288 with 1 Axes>"
      ]
     },
     "metadata": {
      "needs_background": "light"
     },
     "output_type": "display_data"
    }
   ],
   "source": [
    "somatic_boxplot = sns.boxplot(data=cross, x=gene ,y=sigResults[0])\n",
    "somatic_boxplot.set_title(gene + \" gene mutation and \" + sigResults[0] + \" phosphorylation levels\")\n",
    "somatic_boxplot = sns.stripplot(data=cross, x=gene, y=sigResults[0],jitter=True, color=\".3\")\n",
    "somatic_boxplot.set(xlabel=\"Somatic Gene Mutation\",ylabel=\"Phosphoproteomics\")"
   ]
  },
  {
   "cell_type": "code",
   "execution_count": null,
   "metadata": {},
   "outputs": [],
   "source": []
  }
 ],
 "metadata": {
  "kernelspec": {
   "display_name": "Python 3",
   "language": "python",
   "name": "python3"
  },
  "language_info": {
   "codemirror_mode": {
    "name": "ipython",
    "version": 3
   },
   "file_extension": ".py",
   "mimetype": "text/x-python",
   "name": "python",
   "nbconvert_exporter": "python",
   "pygments_lexer": "ipython3",
   "version": "3.7.0"
  }
 },
 "nbformat": 4,
 "nbformat_minor": 2
}
