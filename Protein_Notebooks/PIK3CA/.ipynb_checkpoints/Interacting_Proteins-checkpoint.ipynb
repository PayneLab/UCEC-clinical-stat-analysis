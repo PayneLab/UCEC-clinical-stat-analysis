{
 "cells": [
  {
   "cell_type": "markdown",
   "metadata": {},
   "source": [
    "# Statistical Testing Templates for CPTAC Data"
   ]
  },
  {
   "cell_type": "markdown",
   "metadata": {},
   "source": [
    "<b>Standard imports for playing with and plotting data frames.</b>"
   ]
  },
  {
   "cell_type": "code",
   "execution_count": 3,
   "metadata": {},
   "outputs": [],
   "source": [
    "import pandas as pd\n",
    "import numpy as np\n",
    "import scipy.stats\n",
    "from scipy.stats import pearsonr\n",
    "import matplotlib.pyplot as plt\n",
    "import re\n",
    "import seaborn as sns\n",
    "import statsmodels.stats.multitest\n",
    "#import altair as alt\n",
    "#alt.renderers.enable('notebook') #Necessary for Altair to work"
   ]
  },
  {
   "cell_type": "code",
   "execution_count": 4,
   "metadata": {
    "scrolled": true
   },
   "outputs": [
    {
     "name": "stdout",
     "output_type": "stream",
     "text": [
      "Loading CPTAC data:\n",
      "Loading Dictionary...\n",
      "Loading Clinical Data...\n",
      "Loading Proteomics Data...\n",
      "Loading Transcriptomics Data...\n",
      "Loading CNA Data...\n",
      "Loading Phosphoproteomics Data...\n",
      "Loading Somatic Mutation Data...\n",
      "\n",
      " ******PLEASE READ******\n",
      "WARNING: This data is under a publication embargo until July 1, 2019.\n",
      "CPTAC is a community resource project and data are made available\n",
      "rapidly after generation for community research use. The embargo\n",
      "allows exploring and utilizing the data, but the data may not be in a\n",
      "publication until July 1, 2019. Please see\n",
      "https://proteomics.cancer.gov/data-portal/about/data-use-agreement or\n",
      "enter CPTAC.embargo() to open the webpage for more details.\n"
     ]
    }
   ],
   "source": [
    "import CPTAC"
   ]
  },
  {
   "cell_type": "code",
   "execution_count": 5,
   "metadata": {},
   "outputs": [
    {
     "name": "stdout",
     "output_type": "stream",
     "text": [
      "idx   AAAS-S495  AAAS-S541  AAAS-Y485  AACS-S618  AAED1-S12  AAGAB-S310  \\\n",
      "S001        NaN        NaN        NaN    -0.8810    -1.8100         NaN   \n",
      "S002        NaN        NaN        NaN        NaN     0.0840         NaN   \n",
      "S003   -0.20200        NaN        NaN        NaN    -1.8800         NaN   \n",
      "S004    0.25000        NaN        NaN        NaN        NaN         NaN   \n",
      "S005   -0.00200        NaN     -0.407        NaN        NaN         NaN   \n",
      "S006    0.55600    -0.0461        NaN        NaN     0.9410         NaN   \n",
      "S007        NaN        NaN        NaN        NaN     0.0796         NaN   \n",
      "S008    0.30000        NaN        NaN    -0.3710    -1.1400         NaN   \n",
      "S009    0.49000        NaN        NaN        NaN        NaN         NaN   \n",
      "S010   -0.23100     0.0108        NaN        NaN     0.2420         NaN   \n",
      "S011    0.26800        NaN        NaN        NaN    -0.1120         NaN   \n",
      "S012   -0.06200        NaN        NaN     1.8600    -1.4000         NaN   \n",
      "S013   -1.49000        NaN        NaN        NaN    -2.5900         NaN   \n",
      "S014    0.65400        NaN        NaN        NaN    -0.8780         NaN   \n",
      "S015    1.05000        NaN        NaN        NaN        NaN         NaN   \n",
      "S016    1.48000        NaN        NaN        NaN        NaN         NaN   \n",
      "S017    0.78900        NaN        NaN        NaN    -1.8500         NaN   \n",
      "S018        NaN        NaN        NaN     0.8440     0.2790         NaN   \n",
      "S019    0.15000        NaN        NaN        NaN    -0.3490         NaN   \n",
      "S020        NaN        NaN        NaN    -0.0311     0.8050         NaN   \n",
      "S021    0.46600        NaN        NaN        NaN        NaN         NaN   \n",
      "S022    0.62700        NaN        NaN     1.4000     0.6020       0.109   \n",
      "S023    0.59400        NaN        NaN     0.0000    -0.9820      -0.276   \n",
      "S024   -0.16200        NaN      0.140        NaN        NaN         NaN   \n",
      "S025    0.02400        NaN     -0.160        NaN        NaN         NaN   \n",
      "S026        NaN        NaN        NaN     0.2500    -0.7790         NaN   \n",
      "S027   -0.76900        NaN        NaN        NaN    -0.5320         NaN   \n",
      "S028   -0.01320        NaN        NaN        NaN        NaN         NaN   \n",
      "S029   -0.95700        NaN        NaN        NaN     0.2720         NaN   \n",
      "S030        NaN        NaN        NaN        NaN    -0.5100         NaN   \n",
      "...         ...        ...        ...        ...        ...         ...   \n",
      "S124        NaN        NaN        NaN    -0.6000     0.0738         NaN   \n",
      "S125   -0.27900        NaN        NaN        NaN    -1.5700         NaN   \n",
      "S126   -0.27000        NaN        NaN    -1.9800     0.0638      -0.397   \n",
      "S127   -0.34400        NaN        NaN        NaN    -0.9230         NaN   \n",
      "S128   -0.17000        NaN        NaN        NaN     0.5470         NaN   \n",
      "S129    0.00143        NaN        NaN        NaN     0.0314         NaN   \n",
      "S130   -0.30700        NaN        NaN        NaN        NaN         NaN   \n",
      "S131   -0.06095        NaN     -1.270        NaN        NaN         NaN   \n",
      "S132   -0.52200        NaN        NaN        NaN    -0.2160         NaN   \n",
      "S133   -0.15300        NaN        NaN        NaN        NaN         NaN   \n",
      "S134   -0.45100        NaN        NaN        NaN    -0.3900         NaN   \n",
      "S135   -1.43000        NaN        NaN        NaN        NaN         NaN   \n",
      "S136   -0.57700        NaN        NaN        NaN     0.8600         NaN   \n",
      "S137   -0.77700        NaN        NaN        NaN     0.4510         NaN   \n",
      "S138   -0.23800     0.0178        NaN        NaN     0.6310         NaN   \n",
      "S139    0.04210    -0.1220        NaN        NaN     0.2010         NaN   \n",
      "S140   -0.06860        NaN        NaN     0.0516     0.3260         NaN   \n",
      "S141   -0.77300        NaN        NaN     0.1650    -0.0185         NaN   \n",
      "S142   -0.67600        NaN        NaN    -0.2760    -0.4930         NaN   \n",
      "S143        NaN        NaN        NaN        NaN     0.3950         NaN   \n",
      "S144        NaN        NaN        NaN        NaN     0.5940         NaN   \n",
      "S145   -0.51000     0.0681        NaN        NaN     1.2000         NaN   \n",
      "S146    0.21500    -0.3010        NaN        NaN     0.7370         NaN   \n",
      "S147   -0.35900    -0.1910        NaN        NaN     0.1720         NaN   \n",
      "S148    0.06060    -0.1870        NaN        NaN     1.0400         NaN   \n",
      "S149   -0.27200    -0.1910        NaN        NaN     0.6310         NaN   \n",
      "S150    0.22300    -0.5170        NaN        NaN     0.5220         NaN   \n",
      "S151   -0.39400    -0.0108        NaN        NaN     1.0600         NaN   \n",
      "S152    0.14900     0.2560        NaN        NaN     0.9510         NaN   \n",
      "S153    0.07740    -0.1580        NaN        NaN    -0.3430         NaN   \n",
      "\n",
      "idx   AAGAB-S311  AAK1-S14  AAK1-S18  AAK1-S20    ...      ZZZ3-S397  \\\n",
      "S001         NaN       NaN -0.242000  -0.24200    ...       0.184000   \n",
      "S002         NaN  -1.11000 -0.383000  -1.09000    ...      -0.171000   \n",
      "S003         NaN       NaN  0.382000  -0.04160    ...            NaN   \n",
      "S004         NaN       NaN  0.634000   0.41840    ...       1.066000   \n",
      "S005         NaN       NaN       NaN  -0.55500    ...       0.139700   \n",
      "S006     0.42900   0.36200  0.697000  -0.05290    ...      -0.158750   \n",
      "S007         NaN  -1.09000 -0.090000  -0.47500    ...       0.104000   \n",
      "S008    -0.04130  -0.89900 -0.444000  -1.03000    ...      -0.165000   \n",
      "S009         NaN       NaN  0.398000   0.36500    ...       0.591850   \n",
      "S010    -0.71000  -0.25495 -0.398000  -0.17500    ...      -0.491500   \n",
      "S011         NaN       NaN  0.444000   0.08950    ...      -0.366000   \n",
      "S012     1.30000   0.16100  0.292000  -0.18800    ...      -0.423000   \n",
      "S013         NaN   0.96600  0.895000   0.31800    ...      -0.780000   \n",
      "S014         NaN  -0.73200 -0.423500  -0.33600    ...       0.036200   \n",
      "S015         NaN       NaN -0.272000   0.02850    ...       0.819050   \n",
      "S016         NaN       NaN       NaN   0.90600    ...       1.350000   \n",
      "S017         NaN       NaN -0.715000  -0.83600    ...            NaN   \n",
      "S018         NaN       NaN -0.355000   0.13400    ...       0.080500   \n",
      "S019         NaN  -0.26000 -0.383000  -0.13100    ...       0.199000   \n",
      "S020         NaN       NaN  0.578000   0.21100    ...      -0.221500   \n",
      "S021         NaN       NaN -0.098000   0.07750    ...       0.809850   \n",
      "S022         NaN       NaN -0.379000  -0.64700    ...       0.200500   \n",
      "S023         NaN       NaN -0.109000  -0.46400    ...       0.134000   \n",
      "S024         NaN       NaN       NaN  -0.83150    ...       0.189000   \n",
      "S025         NaN       NaN       NaN  -0.03192    ...       0.483500   \n",
      "S026         NaN       NaN -0.098200   0.32100    ...       0.166500   \n",
      "S027         NaN       NaN  0.410000  -0.15000    ...      -0.058400   \n",
      "S028         NaN       NaN  0.053100   0.35500    ...       0.247000   \n",
      "S029         NaN       NaN -0.077000   0.29700    ...      -0.264000   \n",
      "S030         NaN  -1.94000  0.125500  -0.89300    ...       0.303000   \n",
      "...          ...       ...       ...       ...    ...            ...   \n",
      "S124         NaN       NaN -0.343000  -0.29100    ...      -0.285535   \n",
      "S125         NaN       NaN -0.327000  -0.38600    ...            NaN   \n",
      "S126         NaN       NaN  0.000153  -0.54200    ...      -0.773500   \n",
      "S127         NaN       NaN -0.587000  -1.07000    ...      -0.663000   \n",
      "S128         NaN       NaN -0.482000   0.02300    ...      -0.592000   \n",
      "S129         NaN   0.41800  0.391500   1.00000    ...       0.315000   \n",
      "S130         NaN       NaN  0.336000  -0.34550    ...       0.285500   \n",
      "S131         NaN       NaN       NaN  -0.19800    ...      -0.171300   \n",
      "S132         NaN       NaN -0.579000   0.24900    ...      -0.305000   \n",
      "S133         NaN       NaN -0.651000   0.41250    ...       0.630500   \n",
      "S134         NaN       NaN  0.529000   0.52500    ...      -0.692000   \n",
      "S135         NaN   0.28700 -0.343000   0.26000    ...       0.097000   \n",
      "S136         NaN   0.47600  0.909000   0.49500    ...       0.427000   \n",
      "S137         NaN   0.00000  0.050050   0.02680    ...      -0.558000   \n",
      "S138    -1.04000   0.13950 -0.182000   0.23800    ...      -0.133300   \n",
      "S139    -0.64000  -0.50350 -0.460500  -0.83300    ...      -0.424000   \n",
      "S140    -1.22000  -0.26900  0.193000   0.01430    ...      -0.374000   \n",
      "S141    -0.44300   0.71600  0.318000   0.78000    ...      -0.298000   \n",
      "S142    -0.59200  -0.11900 -0.141000   0.07670    ...       0.032600   \n",
      "S143         NaN   0.25300  0.624000  -0.06630    ...      -0.009930   \n",
      "S144         NaN   0.99400  1.038500   0.88300    ...      -0.255000   \n",
      "S145    -0.29000       NaN -0.276000   0.00150    ...       0.135300   \n",
      "S146     0.45200       NaN  0.161000  -0.00150    ...       0.277000   \n",
      "S147     0.47900       NaN -0.027100   0.26200    ...       0.363700   \n",
      "S148     0.48900       NaN  0.591000  -0.23400    ...      -0.065000   \n",
      "S149     0.00947       NaN -0.466000   0.00761    ...       0.347000   \n",
      "S150     0.03120       NaN  0.473000  -0.19000    ...       0.249000   \n",
      "S151    -0.77300       NaN -0.290000   0.51900    ...       0.438500   \n",
      "S152    -0.17500       NaN -0.270000   0.44500    ...      -0.093050   \n",
      "S153     0.30200       NaN  0.193000   0.07340    ...       0.085450   \n",
      "\n",
      "idx   ZZZ3-S411  ZZZ3-S420  ZZZ3-S424  ZZZ3-S426  ZZZ3-S468  ZZZ3-S89  \\\n",
      "S001        NaN        NaN        NaN   -0.20500        NaN       NaN   \n",
      "S002        NaN        NaN    -0.3930   -0.17100        NaN    0.2900   \n",
      "S003        NaN        NaN        NaN        NaN        NaN       NaN   \n",
      "S004        NaN        NaN        NaN    0.32400        NaN       NaN   \n",
      "S005        NaN        NaN        NaN   -0.55900        NaN       NaN   \n",
      "S006        NaN        NaN     0.1960    0.06175        NaN       NaN   \n",
      "S007        NaN        NaN     0.0600    0.02640        NaN   -0.0895   \n",
      "S008        NaN        NaN        NaN   -0.16500        NaN       NaN   \n",
      "S009        NaN        NaN        NaN    0.21785        NaN       NaN   \n",
      "S010        NaN        NaN    -0.3020   -0.43400        NaN       NaN   \n",
      "S011        NaN        NaN        NaN        NaN        NaN       NaN   \n",
      "S012        NaN        NaN        NaN   -0.42300        NaN       NaN   \n",
      "S013        NaN   -2.61000        NaN   -0.24700        NaN       NaN   \n",
      "S014        NaN    0.03620        NaN    0.33300        NaN       NaN   \n",
      "S015        NaN        NaN        NaN    0.39005        NaN       NaN   \n",
      "S016     0.3640    1.35000        NaN    0.06600        NaN       NaN   \n",
      "S017        NaN        NaN        NaN        NaN        NaN       NaN   \n",
      "S018        NaN        NaN        NaN   -0.10900        NaN       NaN   \n",
      "S019        NaN   -0.50500        NaN    0.26100        NaN       NaN   \n",
      "S020        NaN        NaN        NaN   -0.54500        NaN       NaN   \n",
      "S021        NaN        NaN        NaN    0.42435        NaN       NaN   \n",
      "S022        NaN        NaN     0.2710    0.27100        NaN       NaN   \n",
      "S023        NaN        NaN     0.3200    0.32000        NaN       NaN   \n",
      "S024        NaN        NaN        NaN    0.38600        NaN       NaN   \n",
      "S025        NaN        NaN        NaN    0.05310        NaN       NaN   \n",
      "S026        NaN        NaN        NaN   -0.25300        NaN       NaN   \n",
      "S027        NaN        NaN        NaN        NaN        NaN       NaN   \n",
      "S028        NaN        NaN        NaN    0.19150        NaN       NaN   \n",
      "S029        NaN    0.00287    -1.1200   -1.12000        NaN       NaN   \n",
      "S030        NaN        NaN    -0.8970    0.14400        NaN   -0.8340   \n",
      "...         ...        ...        ...        ...        ...       ...   \n",
      "S124        NaN        NaN        NaN   -0.58100        NaN       NaN   \n",
      "S125        NaN        NaN        NaN        NaN        NaN       NaN   \n",
      "S126        NaN        NaN    -1.6200   -1.34000        NaN       NaN   \n",
      "S127        NaN        NaN        NaN   -0.66300        NaN       NaN   \n",
      "S128        NaN        NaN     0.6040    0.29300        NaN       NaN   \n",
      "S129        NaN   -0.24100        NaN    0.58500        NaN       NaN   \n",
      "S130        NaN        NaN        NaN    0.14950        NaN       NaN   \n",
      "S131        NaN        NaN        NaN    0.16400        NaN       NaN   \n",
      "S132        NaN        NaN        NaN        NaN        NaN       NaN   \n",
      "S133        NaN        NaN        NaN    0.25100        NaN       NaN   \n",
      "S134        NaN        NaN        NaN        NaN        NaN       NaN   \n",
      "S135        NaN        NaN        NaN    0.09700        NaN       NaN   \n",
      "S136        NaN   -0.51500        NaN    0.42700        NaN       NaN   \n",
      "S137        NaN   -0.55800        NaN    1.03000        NaN       NaN   \n",
      "S138        NaN        NaN    -0.0636   -0.05550        NaN       NaN   \n",
      "S139        NaN        NaN     0.1180   -0.11450        NaN       NaN   \n",
      "S140        NaN        NaN        NaN   -0.12700        NaN       NaN   \n",
      "S141        NaN        NaN        NaN   -0.29800        NaN       NaN   \n",
      "S142        NaN        NaN        NaN   -0.25000        NaN       NaN   \n",
      "S143        NaN        NaN    -0.2540   -0.23400        NaN    0.0149   \n",
      "S144        NaN        NaN     0.0158   -0.10700        NaN    0.1090   \n",
      "S145     0.3710        NaN        NaN   -0.15870        NaN       NaN   \n",
      "S146     0.3250        NaN        NaN    0.16085        NaN       NaN   \n",
      "S147    -0.1200        NaN        NaN    0.26100        NaN       NaN   \n",
      "S148    -0.4130        NaN        NaN   -0.13200        NaN       NaN   \n",
      "S149     0.0000        NaN        NaN   -0.05100        NaN       NaN   \n",
      "S150     0.1790        NaN        NaN   -0.03150        NaN       NaN   \n",
      "S151    -0.1220        NaN        NaN    0.24050        NaN       NaN   \n",
      "S152    -0.3540        NaN        NaN   -0.01490        NaN       NaN   \n",
      "S153     0.0216        NaN        NaN   -0.06500        NaN       NaN   \n",
      "\n",
      "idx   ZZZ3-T415  ZZZ3-T418  ZZZ3-Y399  \n",
      "S001        NaN        NaN        NaN  \n",
      "S002        NaN     0.1605   -0.06350  \n",
      "S003        NaN        NaN        NaN  \n",
      "S004        NaN        NaN        NaN  \n",
      "S005        NaN        NaN    0.29800  \n",
      "S006        NaN        NaN   -0.29000  \n",
      "S007        NaN    -0.1335   -0.13350  \n",
      "S008  -0.027500        NaN   -0.11600  \n",
      "S009        NaN        NaN        NaN  \n",
      "S010        NaN        NaN   -0.64300  \n",
      "S011        NaN        NaN        NaN  \n",
      "S012  -0.218000        NaN   -0.50400  \n",
      "S013        NaN        NaN        NaN  \n",
      "S014        NaN        NaN        NaN  \n",
      "S015        NaN        NaN        NaN  \n",
      "S016        NaN        NaN        NaN  \n",
      "S017        NaN        NaN        NaN  \n",
      "S018        NaN        NaN        NaN  \n",
      "S019        NaN        NaN        NaN  \n",
      "S020        NaN        NaN        NaN  \n",
      "S021        NaN        NaN        NaN  \n",
      "S022        NaN        NaN        NaN  \n",
      "S023        NaN        NaN        NaN  \n",
      "S024        NaN        NaN    0.59600  \n",
      "S025        NaN        NaN    0.69300  \n",
      "S026        NaN        NaN        NaN  \n",
      "S027        NaN        NaN        NaN  \n",
      "S028        NaN        NaN        NaN  \n",
      "S029        NaN    -1.4600    0.00287  \n",
      "S030        NaN     0.5500    0.28550  \n",
      "...         ...        ...        ...  \n",
      "S124        NaN        NaN        NaN  \n",
      "S125        NaN        NaN        NaN  \n",
      "S126        NaN        NaN        NaN  \n",
      "S127        NaN        NaN        NaN  \n",
      "S128        NaN        NaN        NaN  \n",
      "S129        NaN        NaN        NaN  \n",
      "S130        NaN        NaN        NaN  \n",
      "S131        NaN        NaN    0.02040  \n",
      "S132        NaN        NaN        NaN  \n",
      "S133        NaN        NaN        NaN  \n",
      "S134        NaN        NaN        NaN  \n",
      "S135        NaN        NaN    0.06290  \n",
      "S136        NaN        NaN        NaN  \n",
      "S137        NaN        NaN        NaN  \n",
      "S138        NaN        NaN   -0.24600  \n",
      "S139        NaN        NaN   -0.50100  \n",
      "S140   0.092800        NaN   -0.37400  \n",
      "S141  -0.063700        NaN    0.00000  \n",
      "S142  -0.000028        NaN    0.03260  \n",
      "S143        NaN    -0.3685   -0.26350  \n",
      "S144        NaN    -0.4385   -0.22950  \n",
      "S145        NaN        NaN    0.37100  \n",
      "S146        NaN        NaN    0.32500  \n",
      "S147        NaN        NaN   -0.12000  \n",
      "S148        NaN        NaN   -0.41300  \n",
      "S149        NaN        NaN    0.00000  \n",
      "S150        NaN        NaN    0.17900  \n",
      "S151        NaN        NaN   -0.12200  \n",
      "S152        NaN        NaN   -0.35400  \n",
      "S153        NaN        NaN    0.02160  \n",
      "\n",
      "[153 rows x 73212 columns]\n"
     ]
    }
   ],
   "source": [
    "somatic_mutations = CPTAC.get_somatic()\n",
    "proteomics = CPTAC.get_proteomics()\n",
    "phos = CPTAC.get_phosphoproteomics()\n",
    "\n",
    "print(phos)\n",
    "\n",
    "#Try Looking at all proteins, not just interacting proteins\n",
    "all_proteins = list(proteomics.columns.values)\n",
    "#print(len(all_proteins))\n",
    "#print(all_proteins)"
   ]
  },
  {
   "cell_type": "markdown",
   "metadata": {},
   "source": [
    "## t-test for effects of all mutations combined\n",
    "<b>Note:</b> You can put any number of proteins in the list and it will compare that gene with the protein levels of all of them"
   ]
  },
  {
   "cell_type": "markdown",
   "metadata": {},
   "source": [
    "### List of interacting proteins (according to STRING and Uniprot)"
   ]
  },
  {
   "cell_type": "code",
   "execution_count": 9,
   "metadata": {},
   "outputs": [],
   "source": [
    "#Build the protein list; this may have only a single protein if desired\n",
    "#protList = ['IRS1', 'IRS2', 'RRAS', 'AKT2', 'NRAS', 'PTEN', 'AKT1', 'MRAS', 'HRAS', 'RPS6KB1', 'PIK3R1', 'PKC', 'MTOR', 'S6K', 'MAPK', 'ERBB3', 'P85A', 'P55G', 'CDK5']\n",
    "#protList = all_proteins\n",
    "protList = ['AHNAK','PPP1R12A']"
   ]
  },
  {
   "cell_type": "code",
   "execution_count": 10,
   "metadata": {
    "scrolled": false
   },
   "outputs": [],
   "source": [
    "gene = 'PIK3CA'\n",
    "tested = [];\n",
    "p_vals = [];\n",
    "for protein in protList: \n",
    "    if protein in proteomics.columns:\n",
    "        tested.append(protein)\n",
    "        cross = CPTAC.compare_mutations(proteomics, protein, gene)\n",
    "        cross = cross[:100]\n",
    "        cross = cross[[\"Mutation\", protein]].dropna(axis=0)\n",
    "        mutated = cross.loc[cross[\"Mutation\"] != \"Wildtype\"]\n",
    "        wt = cross.loc[cross[\"Mutation\"] == \"Wildtype\"]\n",
    "        ttest = scipy.stats.ttest_ind(mutated[protein], wt[protein])\n",
    "        p_vals.append(ttest[1])"
   ]
  },
  {
   "cell_type": "code",
   "execution_count": 11,
   "metadata": {},
   "outputs": [],
   "source": [
    "areSignificant = statsmodels.stats.multitest.fdrcorrection(p_vals)[0]\n",
    "pvals = statsmodels.stats.multitest.fdrcorrection(p_vals)[1]\n",
    "significant_proteins = np.array(tested)[np.array(areSignificant)]\n",
    "significant_pvals = np.array(pvals)[np.array(areSignificant)]"
   ]
  },
  {
   "cell_type": "code",
   "execution_count": 12,
   "metadata": {},
   "outputs": [
    {
     "name": "stdout",
     "output_type": "stream",
     "text": [
      "[]\n",
      "[]\n"
     ]
    }
   ],
   "source": [
    "print(significant_proteins)\n",
    "print(significant_pvals)"
   ]
  },
  {
   "cell_type": "markdown",
   "metadata": {},
   "source": [
    "### Test for phosphorylation levels (mutation in any gene with phosphorylation of any protein)"
   ]
  },
  {
   "cell_type": "code",
   "execution_count": 13,
   "metadata": {},
   "outputs": [],
   "source": [
    "#List of proteins (will test all phosphorylation sites on these proteins)\n",
    "phosProtList = protList"
   ]
  },
  {
   "cell_type": "code",
   "execution_count": 24,
   "metadata": {},
   "outputs": [
    {
     "name": "stderr",
     "output_type": "stream",
     "text": [
      "/anaconda3/lib/python3.6/site-packages/numpy/core/fromnumeric.py:3157: RuntimeWarning: Degrees of freedom <= 0 for slice\n",
      "  **kwargs)\n",
      "/anaconda3/lib/python3.6/site-packages/numpy/core/_methods.py:132: RuntimeWarning: invalid value encountered in double_scalars\n",
      "  ret = ret.dtype.type(ret / rcount)\n"
     ]
    },
    {
     "name": "stdout",
     "output_type": "stream",
     "text": [
      "[0.03698162328955382, 0.06537114967136168, 0.6482265109802732, 0.7437593229334798, 0.20406242970801175, 0.31254706751687333, 0.07208096894115837, 0.7902480128721662, 0.8262950543597634, 0.11665125432611836, 0.9214644898859095, 0.1389827479340972, 0.1429078869830693, 0.2657174032109103, 0.16761277093936472, 0.5319595272895374, 0.39008183165945076, 0.1749412698064083, 0.27175015292636706, 0.30223087274684357, 0.0886133317420495, 0.14574103344918116, 0.002096691367289287, 0.08696314048080471, 0.15483950969356947, 0.04143886092030965, 0.11418235543821204, 0.0213526361208086, 0.12138171266843717, 0.32146684684268606, 0.42032817210343676, 0.8133055628506575, 0.025178358290441474, 0.5877701736307979, 0.37069679998046545, 0.14369426295145668, 0.4867198564855847, 0.5500492392283083, 0.38451235689436125, 0.8084685609644895, 0.5589794591971767, 0.11546797527952174, 0.07630875935520931, 0.07785816024195638, 0.4127812728193687, 0.06862053151997978, 0.7935866027057291, 0.4652518729254843, 0.5862695475583597, 0.1375149529937172, 0.41142735218203597, 0.6284328957350317, 0.7543929954786976, 0.13229598974362447, 0.9397506567688723, 0.032336370916343476, 0.07212161393405096, 0.0022453232625988394, 0.6213737126057284, 0.735836571888228, 0.07783224454735008, 0.2708677409862526, 0.48960893504949266, 0.036099498677962624, 0.03824750500378194, 0.17267976423751602, 0.02583828695882682, 0.7025591210209703, 0.08107832159870738, 0.7788322235339926, 0.13072578193845508, 0.8952599687649214, 0.7902547272684124, 0.113835981666115, 0.21397007394318124, 0.09772249779041245, 0.16653767261959068, 0.03639471435821925, 0.2957733046369467, 0.8685757583739424, 0.6187220236112341, 0.10502232347086761, 0.9913451108172614, 0.2817763775757407, 0.007139191249988121, 0.1701173744255699, 0.008824575507827176, 0.01650180973402939, 0.18395719650499245, 0.5690883605226205, 0.22437055983427645, 0.7653633249396912, 0.43559604164272325, 0.43559604164272325, 0.5103777360341704, 0.2830221933585393, 0.027337654310137228, 0.8580199114913823, 0.3212476229195509, 0.05289777250767396, 0.19238640849564467, 0.33789046587911953, 0.7740286116435411, 0.7584595509785679, 0.46060765317708074, 0.09346980522267306, 0.32500046365374313, 0.23965466045266692, 0.6422894010340467, 0.3828728854593053, 0.7220938154606504, 0.05470302445624624, 0.27906598644904007, 0.25517643375544496, 0.15999257260094393, 0.23292234946652962, 0.44543248899194143, 0.40410809376858525, 0.9876996593745105, 0.963328769738712, 0.657384581468998, 0.09046632522228963, 0.6114352257595816, 0.486630960425829, 0.3672399814401261, 0.1604952227290558, 0.4023442665573862, 0.030021832404658753, 0.9684168737062573, 0.019718284822281072, 0.8820429878073119, 0.4460126978947946, 0.6013872624949456, 0.7510421039732773, 0.8116827611451363, 0.9714013573330627, 0.346713174027129, 0.9843733657817513, 0.6422319063131287, 0.5971386594166439, 0.5467180953198865, 0.003139220940980808, 0.05195852059628002, 0.08195295301326119, 0.5490721241846803, 0.2000693582979353, 0.1673480156426705, 0.09158269340514746, 0.2231029283610128, 0.12073269322966368, 0.08814831797613179, 0.7735316677383495, 0.6915656485734223]\n",
      "['AHNAK-S1010', 'AHNAK-S109', 'AHNAK-S1138', 'AHNAK-S1367', 'AHNAK-S1414', 'AHNAK-S148', 'AHNAK-S1600', 'AHNAK-S1747', 'AHNAK-S1876', 'AHNAK-S1888', 'AHNAK-S193', 'AHNAK-S20', 'AHNAK-S2150', 'AHNAK-S230', 'AHNAK-S2333', 'AHNAK-S242', 'AHNAK-S2474', 'AHNAK-S2798', 'AHNAK-S283', 'AHNAK-S298', 'AHNAK-S2984', 'AHNAK-S3112', 'AHNAK-S3326', 'AHNAK-S3411', 'AHNAK-S3426', 'AHNAK-S3483', 'AHNAK-S3485', 'AHNAK-S3692', 'AHNAK-S4220', 'AHNAK-S442', 'AHNAK-S4614', 'AHNAK-S470', 'AHNAK-S4933', 'AHNAK-S4953', 'AHNAK-S5151', 'AHNAK-S5190', 'AHNAK-S521', 'AHNAK-S5261', 'AHNAK-S5279', 'AHNAK-S5289', 'AHNAK-S5321', 'AHNAK-S5369', 'AHNAK-S5430', 'AHNAK-S5500', 'AHNAK-S5542', 'AHNAK-S5577', 'AHNAK-S559', 'AHNAK-S5653', 'AHNAK-S5690', 'AHNAK-S5807', 'AHNAK-S613', 'AHNAK-S658', 'AHNAK-T1595', 'AHNAK-T1885', 'AHNAK-T204', 'AHNAK-T247', 'AHNAK-T2845', 'AHNAK-T376', 'AHNAK-T4999', 'AHNAK-T5184', 'AHNAK-T5415', 'AHNAK-T551', 'AHNAK-T553', 'AHNAK-T5729', 'AHNAK-T635', 'AHNAK2-S102', 'AHNAK2-S1181', 'AHNAK2-S1253', 'AHNAK2-S1363', 'AHNAK2-S1418', 'AHNAK2-S1583', 'AHNAK2-S1710', 'AHNAK2-S1913', 'AHNAK2-S2042', 'AHNAK2-S2132', 'AHNAK2-S2207', 'AHNAK2-S2372', 'AHNAK2-S2666', 'AHNAK2-S278', 'AHNAK2-S281', 'AHNAK2-S317', 'AHNAK2-S338', 'AHNAK2-S4046', 'AHNAK2-S4185', 'AHNAK2-S447', 'AHNAK2-S4477', 'AHNAK2-S4634', 'AHNAK2-S4636', 'AHNAK2-S466', 'AHNAK2-S4785', 'AHNAK2-S4894', 'AHNAK2-S4932', 'AHNAK2-S4962', 'AHNAK2-S4966', 'AHNAK2-S4987', 'AHNAK2-S5057', 'AHNAK2-S509', 'AHNAK2-S5144', 'AHNAK2-S5283', 'AHNAK2-S5395', 'AHNAK2-S5401', 'AHNAK2-S5428', 'AHNAK2-S5497', 'AHNAK2-S56', 'AHNAK2-S5712', 'AHNAK2-S5741', 'AHNAK2-S593', 'AHNAK2-S639', 'AHNAK2-S641', 'AHNAK2-S753', 'AHNAK2-S887', 'AHNAK2-S923', 'AHNAK2-T219', 'AHNAK2-T296', 'AHNAK2-T4635', 'AHNAK2-T4916', 'AHNAK2-T5129', 'AHNAK2-T5154', 'AHNAK2-T5284', 'AHNAK2-T5513', 'AHNAK2-T5715', 'AHNAK2-T727', 'AHNAK2-Y180', 'PPP1R12A-S20', 'PPP1R12A-S354', 'PPP1R12A-S367', 'PPP1R12A-S387', 'PPP1R12A-S470', 'PPP1R12A-S478', 'PPP1R12A-S526', 'PPP1R12A-S527', 'PPP1R12A-S547', 'PPP1R12A-S602', 'PPP1R12A-S608', 'PPP1R12A-S680', 'PPP1R12A-S886', 'PPP1R12A-S896', 'PPP1R12A-S978', 'PPP1R12A-T381', 'PPP1R12A-T397', 'PPP1R12A-T399', 'PPP1R12A-T508', 'PPP1R12A-T529', 'PPP1R12A-T605', 'PPP1R12A-T700', 'PPP1R12A-T702', 'PPP1R12A-Y528', 'PPP1R12A-Y669', 'PPP1R12A-Y762', 'PPP1R12A-Y766', 'PPP1R12A-Y769', 'PPP1R12A-Y911', 'PPP1R12A-Y913']\n",
      "AVG p_val =  0.3706720713747313\n"
     ]
    }
   ],
   "source": [
    "sites = phos.columns\n",
    "p_values = []\n",
    "site_names = []\n",
    "\n",
    "for protein in phosProtList:\n",
    "    pattern = re.compile(protein)\n",
    "    isInList = filter(pattern.search, sites)\n",
    "    if next(isInList, None) is not None:\n",
    "        phosphositesdf = CPTAC.compare_mutations(phos, protein, gene)\n",
    "        phosphositesdf = phosphositesdf.loc[phosphositesdf['Patient_Type'] == 'Tumor'].drop('Patient_Type', axis = 1)\n",
    "        for site in phosphositesdf.columns:\n",
    "            if (site is not 'Mutation'):\n",
    "                sitedf = CPTAC.compare_mutations(phos, site, gene)\n",
    "                mutateddf = sitedf.loc[sitedf['Mutation'] != 'Wildtype'].dropna(axis=0)\n",
    "                wtdf = sitedf.loc[sitedf['Mutation'] == 'Wildtype'].dropna(axis=0)\n",
    "                if len(mutateddf) > 20:\n",
    "                    ttest = scipy.stats.ttest_ind(mutateddf[site], wtdf[site])\n",
    "                    p_values.append(ttest[1])\n",
    "                    site_names.append(site)\n",
    "\n",
    "\n",
    "\n",
    "#We need to remove all 'nan' p-values and their corresponding site names before passing it in for the fdr correction\n",
    "indexesToRemove=[]\n",
    "\n",
    "for index in range(0, len(p_values)):\n",
    "    if np.isnan(p_values[index]):\n",
    "        indexesToRemove.append(index)\n",
    "\n",
    "for rem in range( len(indexesToRemove)-1, -1, -1):\n",
    "    p_values.pop(indexesToRemove[rem])\n",
    "    site_names.pop(indexesToRemove[rem])\n",
    "#p_values and site names have now had all entries removed where the corresponding p-value is 'nan'\n",
    "\n",
    "print(p_values)\n",
    "print(site_names)\n",
    "\n",
    "sum = 0\n",
    "for p in p_values:\n",
    "    sum += p\n",
    "avg = sum/len(p_values)\n",
    "\n",
    "print(\"AVG p_val = \", avg)\n",
    "        \n"
   ]
  },
  {
   "cell_type": "markdown",
   "metadata": {},
   "source": [
    "### Seeing significance of P values using bonferroni correction"
   ]
  },
  {
   "cell_type": "code",
   "execution_count": 25,
   "metadata": {},
   "outputs": [
    {
     "name": "stdout",
     "output_type": "stream",
     "text": [
      "threshold_pval:  0.00032679738562091506\n"
     ]
    }
   ],
   "source": [
    "threshold_pval = .05/len(site_names)\n",
    "print(\"threshold_pval: \", threshold_pval)\n",
    "bonferonni_corrected_pvals = list()\n",
    "bonferonni_sig_sites = list()\n",
    "for ind in range(0, len(p_values)):\n",
    "    if p_values[ind] <= threshold_pval:\n",
    "        bonferonni_corrected_pvals.append(p_values[ind])\n",
    "        bonferonni_sig_sites.append(site_names[ind])\n",
    "        \n",
    "        \n",
    "bf_significant_vals = dict(zip(bonferonni_sig_sites, bonferonni_corrected_pvals))"
   ]
  },
  {
   "cell_type": "markdown",
   "metadata": {},
   "source": [
    "### Print signifcant p-values"
   ]
  },
  {
   "cell_type": "code",
   "execution_count": 26,
   "metadata": {},
   "outputs": [
    {
     "name": "stdout",
     "output_type": "stream",
     "text": [
      "0\n",
      "0\n",
      "153\n"
     ]
    }
   ],
   "source": [
    "#print(\"\\nSignificant P-values from Bonferroni: \", bonferonni_corrected_pvals)\n",
    "#print(\"\\nSignificant Sites from Bonferroni: \", bonferonni_sig_sites)\n",
    "#sortedkeys = sort(bf_significant_vals.keys())\n",
    "#for key in sortedkeys:\n",
    "#    print (key, bf_significant_vals[key])\n",
    "#print(\"\\nSignificant values: \", bf_significant_vals)\n",
    "\n",
    "for key in sorted(bf_significant_vals):\n",
    "    #print(%s: %s % (key, bf_significant_vals[key]))\n",
    "    print(key, bf_significant_vals[key])\n",
    "\n",
    "print(len(bonferonni_sig_sites))\n",
    "print(len(bonferonni_corrected_pvals))\n",
    "print(len(site_names))\n",
    "\n",
    "\n",
    "#indexMin = bonferonni_corrected_pvals.index(min(bonferonni_corrected_pvals))\n",
    "\n",
    "#print(\"Min P-val: \", bonferonni_corrected_pvals[index_min])\n",
    "#print(\"Site name at min: \", bonferonni_sig_sites[index_min])"
   ]
  },
  {
   "cell_type": "markdown",
   "metadata": {},
   "source": [
    "### Use FDR Correction"
   ]
  },
  {
   "cell_type": "code",
   "execution_count": 23,
   "metadata": {},
   "outputs": [
    {
     "name": "stdout",
     "output_type": "stream",
     "text": [
      "\n",
      "Significant P-vals (FDR):  []\n",
      "\n",
      "Significant sites (FDR):  []\n",
      "\n",
      "Significant values (FDR):  {}\n",
      "0\n"
     ]
    }
   ],
   "source": [
    "pvalues = statsmodels.stats.multitest.fdrcorrection(p_values,alpha=0.05, method='indep')[1]         \n",
    "areSignificant = statsmodels.stats.multitest.fdrcorrection(p_values,alpha=0.05, method='indep')[0]\n",
    "\n",
    "significant_sites = np.array(site_names)[np.array(areSignificant)]\n",
    "significant_pvalues = np.array(pvalues)[np.array(areSignificant)]\n",
    "significant_vals = dict(zip(significant_sites, significant_pvalues))\n",
    "\n",
    "\n",
    "print(\"\\nSignificant P-vals (FDR): \", significant_pvalues)\n",
    "print(\"\\nSignificant sites (FDR): \", significant_sites)\n",
    "print(\"\\nSignificant values (FDR): \", significant_vals)\n",
    "\n",
    "print(len(significant_sites))"
   ]
  },
  {
   "cell_type": "markdown",
   "metadata": {},
   "source": [
    "### Plot phosphorylation levels and gene mutation\n",
    "<b>Note:</b> There may be fewer data points due to NA values"
   ]
  },
  {
   "cell_type": "code",
   "execution_count": 2,
   "metadata": {},
   "outputs": [
    {
     "ename": "NameError",
     "evalue": "name 'CPTAC' is not defined",
     "output_type": "error",
     "traceback": [
      "\u001b[0;31m---------------------------------------------------------------------------\u001b[0m",
      "\u001b[0;31mNameError\u001b[0m                                 Traceback (most recent call last)",
      "\u001b[0;32m<ipython-input-2-0e98e5ef683f>\u001b[0m in \u001b[0;36m<module>\u001b[0;34m\u001b[0m\n\u001b[1;32m     12\u001b[0m \u001b[0;31m#Build the dataframe for plotting\u001b[0m\u001b[0;34m\u001b[0m\u001b[0;34m\u001b[0m\u001b[0;34m\u001b[0m\u001b[0m\n\u001b[1;32m     13\u001b[0m \u001b[0;31m#genedf = somatic_mutations[gene].to_frame()\u001b[0m\u001b[0;34m\u001b[0m\u001b[0;34m\u001b[0m\u001b[0;34m\u001b[0m\u001b[0m\n\u001b[0;32m---> 14\u001b[0;31m \u001b[0mgenedf\u001b[0m \u001b[0;34m=\u001b[0m \u001b[0mCPTAC\u001b[0m\u001b[0;34m.\u001b[0m\u001b[0mcompare_mutations\u001b[0m\u001b[0;34m(\u001b[0m\u001b[0mphos\u001b[0m\u001b[0;34m,\u001b[0m \u001b[0msite\u001b[0m\u001b[0;34m,\u001b[0m \u001b[0mgene\u001b[0m\u001b[0;34m)\u001b[0m\u001b[0;34m\u001b[0m\u001b[0;34m\u001b[0m\u001b[0m\n\u001b[0m\u001b[1;32m     15\u001b[0m \u001b[0;34m\u001b[0m\u001b[0m\n\u001b[1;32m     16\u001b[0m \u001b[0;31m#print(genedf)\u001b[0m\u001b[0;34m\u001b[0m\u001b[0;34m\u001b[0m\u001b[0;34m\u001b[0m\u001b[0m\n",
      "\u001b[0;31mNameError\u001b[0m: name 'CPTAC' is not defined"
     ]
    }
   ],
   "source": [
    "#Specify the gene and the site; you may use a string to specify the site or reference the significant results above\n",
    "\n",
    "#index_min = significant_pvalues.tolist().index(min(significant_pvalues))\n",
    "#print(\"INDEX MIN: \", index_min, \" PVAL: \", significant_pvalues[index_min])\n",
    "gene = 'PIK3CA'\n",
    "#site = significant_sites[index_min]\n",
    "site=\"AKAP12-S629\"\n",
    "#print(\"SIGNIFICANT SITES LENGTH: \", len(significant_sites))\n",
    "\n",
    "#print(somatic_mutations)\n",
    "\n",
    "#Build the dataframe for plotting\n",
    "#genedf = somatic_mutations[gene].to_frame()\n",
    "genedf = CPTAC.compare_mutations(phos, site, gene)\n",
    "\n",
    "#print(genedf)\n",
    "#sites = phos.filter(regex=site)\n",
    "#genedf = genedf.add(sites, fill_value=0)\n",
    "\n",
    "phos_boxplot = sns.boxplot(data=genedf, x=\"Mutation\" ,y=site)\n",
    "phos_boxplot.set_title(gene + \" gene mutation and \" + site + \" phosphorylation levels\")\n",
    "phos_boxplot = sns.stripplot(data=genedf, x=\"Mutation\", y=site,jitter=True, color=\".3\")\n",
    "phos_boxplot.set(xlabel=\"Somatic Gene Mutation\",ylabel=\"Phosphoproteomics\")\n",
    "\n",
    "print(\"\\n\")\n",
    "\n",
    "phos_boxplot = sns.boxplot(data=genedf, x=\"Mutation\" ,y=site)\n",
    "phos_boxplot.set_title(gene + \" gene mutation and \" + site + \" phosphorylation levels\")\n",
    "phos_boxplot = sns.stripplot(data=genedf, x=\"Mutation\", y=site,jitter=True, color=\".3\")\n",
    "phos_boxplot.set(xlabel=\"Somatic Gene Mutation\",ylabel=\"Phosphoproteomics\")"
   ]
  },
  {
   "cell_type": "code",
   "execution_count": null,
   "metadata": {},
   "outputs": [],
   "source": []
  }
 ],
 "metadata": {
  "kernelspec": {
   "display_name": "Python 3",
   "language": "python",
   "name": "python3"
  },
  "language_info": {
   "codemirror_mode": {
    "name": "ipython",
    "version": 3
   },
   "file_extension": ".py",
   "mimetype": "text/x-python",
   "name": "python",
   "nbconvert_exporter": "python",
   "pygments_lexer": "ipython3",
   "version": "3.6.8"
  }
 },
 "nbformat": 4,
 "nbformat_minor": 2
}
