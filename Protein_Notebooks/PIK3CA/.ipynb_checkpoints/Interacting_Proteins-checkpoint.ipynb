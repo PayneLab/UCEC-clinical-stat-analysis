{
 "cells": [
  {
   "cell_type": "markdown",
   "metadata": {},
   "source": [
    "# Statistical Testing Templates for CPTAC Data"
   ]
  },
  {
   "cell_type": "markdown",
   "metadata": {},
   "source": [
    "<b>Standard imports for playing with and plotting data frames.</b>"
   ]
  },
  {
   "cell_type": "code",
   "execution_count": 1,
   "metadata": {},
   "outputs": [],
   "source": [
    "import pandas as pd\n",
    "import numpy as np\n",
    "import scipy.stats\n",
    "from scipy.stats import pearsonr\n",
    "import matplotlib.pyplot as plt\n",
    "import re\n",
    "import seaborn as sns\n",
    "import statsmodels.stats.multitest\n",
    "#import altair as alt\n",
    "#alt.renderers.enable('notebook') #Necessary for Altair to work"
   ]
  },
  {
   "cell_type": "code",
   "execution_count": 2,
   "metadata": {
    "scrolled": true
   },
   "outputs": [
    {
     "name": "stdout",
     "output_type": "stream",
     "text": [
      "Loading CPTAC data:\n",
      "Loading Dictionary...\n",
      "Loading Clinical Data...\n",
      "Loading Proteomics Data...\n",
      "Loading Transcriptomics Data...\n",
      "Loading CNA Data...\n",
      "Loading Phosphoproteomics Data...\n",
      "Loading Somatic Mutation Data...\n",
      "\n",
      " ******PLEASE READ******\n",
      "WARNING: This data is under a publication embargo until July 1, 2019.\n",
      "CPTAC is a community resource project and data are made available\n",
      "rapidly after generation for community research use. The embargo\n",
      "allows exploring and utilizing the data, but the data may not be in a\n",
      "publication until July 1, 2019. Please see\n",
      "https://proteomics.cancer.gov/data-portal/about/data-use-agreement or\n",
      "enter CPTAC.embargo() to open the webpage for more details.\n"
     ]
    }
   ],
   "source": [
    "import CPTAC"
   ]
  },
  {
   "cell_type": "code",
   "execution_count": 3,
   "metadata": {},
   "outputs": [],
   "source": [
    "somatic_mutations = CPTAC.get_somatic()\n",
    "proteomics = CPTAC.get_proteomics()\n",
    "phos = CPTAC.get_phosphoproteomics()"
   ]
  },
  {
   "cell_type": "markdown",
   "metadata": {},
   "source": [
    "## t-test for effects of all mutations combined\n",
    "<b>Note:</b> You can put any number of proteins in the list and it will compare that gene with the protein levels of all of them"
   ]
  },
  {
   "cell_type": "markdown",
   "metadata": {},
   "source": [
    "### List of interacting proteins (according to STRING and Uniprot)"
   ]
  },
  {
   "cell_type": "code",
   "execution_count": 4,
   "metadata": {},
   "outputs": [
    {
     "name": "stdout",
     "output_type": "stream",
     "text": [
      "Index(['A1BG', 'A2M', 'A2ML1', 'A4GALT', 'AAAS', 'AACS', 'AADAT', 'AAED1',\n",
      "       'AAGAB', 'AAK1',\n",
      "       ...\n",
      "       'ZSWIM8', 'ZSWIM9', 'ZW10', 'ZWILCH', 'ZWINT', 'ZXDC', 'ZYG11B', 'ZYX',\n",
      "       'ZZEF1', 'ZZZ3'],\n",
      "      dtype='object', name='idx', length=10999)\n"
     ]
    }
   ],
   "source": [
    "#Build the protein list; this may have only a single protein if desired\n",
    "protList = ['IRS1', 'IRS2', 'RRAS', 'AKT2', 'NRAS', 'PTEN', 'AKT1', 'MRAS', 'HRAS', 'RPS6KB1', 'PIK3R1', 'PKC', 'MTOR', 'S6K', 'MAPK', 'ERBB3', 'P85A', 'P55G', 'CDK5']\n",
    "\n",
    "names = proteomics.columns\n",
    "print(names)"
   ]
  },
  {
   "cell_type": "code",
   "execution_count": 5,
   "metadata": {
    "scrolled": false
   },
   "outputs": [],
   "source": [
    "gene = 'PIK3CA'\n",
    "tested = [];\n",
    "p_vals = [];\n",
    "for protein in protList: \n",
    "    if protein in proteomics.columns:\n",
    "        tested.append(protein)\n",
    "        cross = CPTAC.compare_mutations(proteomics, protein, gene)\n",
    "        cross = cross[:100]\n",
    "        cross = cross[[\"Mutation\", protein]].dropna(axis=0)\n",
    "        mutated = cross.loc[cross[\"Mutation\"] != \"Wildtype\"]\n",
    "        wt = cross.loc[cross[\"Mutation\"] == \"Wildtype\"]\n",
    "        ttest = scipy.stats.ttest_ind(mutated[protein], wt[protein])\n",
    "        p_vals.append(ttest[1])"
   ]
  },
  {
   "cell_type": "code",
   "execution_count": 6,
   "metadata": {},
   "outputs": [],
   "source": [
    "areSignificant = statsmodels.stats.multitest.fdrcorrection(p_vals)[0]\n",
    "pvals = statsmodels.stats.multitest.fdrcorrection(p_vals)[1]\n",
    "significant_proteins = np.array(tested)[np.array(areSignificant)]\n",
    "significant_pvals = np.array(pvals)[np.array(areSignificant)]"
   ]
  },
  {
   "cell_type": "code",
   "execution_count": 7,
   "metadata": {},
   "outputs": [
    {
     "name": "stdout",
     "output_type": "stream",
     "text": [
      "[]\n",
      "[]\n"
     ]
    }
   ],
   "source": [
    "print(significant_proteins)\n",
    "print(significant_pvals)"
   ]
  },
  {
   "cell_type": "markdown",
   "metadata": {},
   "source": [
    "### Test for phosphorylation levels (mutation in any gene with phosphorylation of any protein)"
   ]
  },
  {
   "cell_type": "code",
   "execution_count": 8,
   "metadata": {},
   "outputs": [],
   "source": [
    "#List of proteins (will test all phosphorylation sites on these proteins)\n",
    "phosProtList = protList"
   ]
  },
  {
   "cell_type": "code",
   "execution_count": 12,
   "metadata": {},
   "outputs": [
    {
     "name": "stderr",
     "output_type": "stream",
     "text": [
      "/anaconda3/lib/python3.6/site-packages/numpy/core/fromnumeric.py:3157: RuntimeWarning: Degrees of freedom <= 0 for slice\n",
      "  **kwargs)\n",
      "/anaconda3/lib/python3.6/site-packages/numpy/core/_methods.py:132: RuntimeWarning: invalid value encountered in double_scalars\n",
      "  ret = ret.dtype.type(ret / rcount)\n"
     ]
    },
    {
     "name": "stdout",
     "output_type": "stream",
     "text": [
      "[0.0017526411204853653, 0.9300202434886575, 2.656286624870231e-06, 1.3763103685217164e-05, 0.5468127475864677, 0.10708339983015239, 0.003377775540662641, 6.1031347922955216e-05, 0.5741658705058675, 0.09223108945021641, 0.09223108945021641, 0.41184997830214065, 0.9383915441504235, 0.6218827782919412, 8.355473113480254e-05, 0.3399313752580967, 0.10353024077315506, 0.01367040540929479, 0.47038821532904584, 0.6863785052161939, 0.0021175263875349687, 0.0018694332313960067, 0.006736366775428391, 0.01393248399859912, 0.06003044515689196, 0.029245952986431498, 9.330416811151142e-05, 0.02191253718675557, 0.00042039541332139973, 0.04061081034096042, 0.05201886607074671, 0.10624585684160295, 0.17226382379345875, 0.6510021910316491, 0.8224793224876055, 0.030180245376204607, 0.047329939883956326, 0.15882381330538223, 0.5520487585871732, 0.002442844231854368, 0.00018042378592695454, 0.35200950027848976, 0.33005355422880545, 0.062497259120420874, 0.12018943493394266, 0.5848218476233406, 0.22997240131503946, 3.618487779454685e-05, 0.0002839780551756683, 0.5607659236430377, 0.7215465176733533, 0.0015622986663196867, 0.7486383116780807, 0.66814464402486, 0.2810020068785837, 0.12303422298156108, 0.00031826426559244584, 0.2020804323948268, 0.9525038698857127, 0.00032739972868389006, 0.0018458778138727868, 0.025159727916260453, 0.8790100784162204, 0.09919819508682373, 0.028458908163422177, 0.03709818730622765, 0.006153986009813643, 0.057214718862865825, 0.7016602330728035, 0.04356560092810863, 0.10831633263902592, 0.29759445606760526, 0.739654732377824, 0.5238816963307187, 0.558400729149905, 0.025968027320520375, 6.822032233581489e-06, 0.025429918532131234, 0.19296628071837924, 0.006164465648688626, 0.03718674246586094, 0.06454156305703371, 0.06605539613867822, 0.01658677052846615, 0.7147242713112805, 0.021910434182021918, 0.01983594426481182, 0.8479148599980724, 0.17904586293803484, 0.0986280908349297, 0.10721672093215114, 2.402982048306407e-05, 0.0001078473485633849, 0.0005114742645635147, 0.37385238994191927, 0.3335098217030133, 0.21014551847218318, 0.10062785584663311, 0.010212327993051044, 0.007214791501701745, 0.2749647556861618, 0.19903481038248627, 0.0011034891761851514, 0.0001575963542207698, 0.09222757865881703, 0.01356502781395652, 0.6983675936820115, 0.2722342890972984, 0.016169622710389922, 0.9587674139317608, 0.48785271779045114, 0.003303217111491632, 0.24501366104516498, 0.025429918532131234, 0.1299472697750335, 0.1299472697750335, 0.05845291924275577, 0.09635460982288925, 0.6704178804220864, 0.037738563791106294, 0.0033252693339436497, 0.6478283173214763, 0.02429816047510567, 0.16996308982067493, 0.6118250243407998, 0.8463700789322752, 0.9637197742013947, 0.018028753016173352, 0.20720571191858517, 0.8683777327023668, 0.20455964033829802, 0.8224234068355972, 0.6667774127457513, 0.21428600529899652, 0.6351890118481629, 0.8016007112775642, 0.015350052539826556, 0.5709377941057088, 0.36813657099245267, 0.5495432744738258, 0.42859834163202737, 0.7947776046875931, 0.5935320920508396, 0.8338047974555126, 0.6698138968320677, 0.677787559753076, 0.3122151991482254, 0.001851194039462642, 0.7756716217299039, 0.29932086476697745, 0.1308492467856509, 0.023423505395118623, 0.005909207294914503, 0.5003206024439252, 0.022249299700433694, 0.06260252993603717, 0.050277965314805675, 0.5616446939662936, 0.1662166322058958, 0.1442861131955789, 0.9715391427491051, 0.49783338573295943, 0.07228730415423365, 0.7059382196737403, 0.6020973402420462, 0.7381863377324804, 0.34974057916452816, 0.13250529757850515, 0.10618516140059497, 0.40192612643173387, 0.1035442672683791, 0.07648032371196528, 0.015130727189535478, 0.5268806942326167, 0.16995534594737519, 0.37097250724626896, 0.04005519612983162, 0.010035748018184534, 0.21977120170198733, 0.8969609530097007, 0.131800785602812, 0.22506911756231363, 0.8213579748452269, 0.8150095067414985, 0.3025116550894692, 0.06849840244282784, 0.5158918752934272, 0.0848912315080642, 0.8150095067414985, 0.8150095067414985, 0.04504263115130911, 5.502072547091202e-05, 0.4846822120818275, 0.3728496971980667, 0.3516733833239871, 0.972350872528652, 0.4942011734803172, 0.40105226408168315, 0.24050218604669305, 0.958287817617258, 0.3268339833209293, 0.0744023360886784, 0.5659955037760719, 0.43053655701531046, 0.4030882521472766, 0.339654238455952, 0.01754758517618663, 0.004944022748903206, 0.34789567054289694, 0.18479516275322605, 0.020437895478953073, 0.1324077248559471, 0.24071277935388855, 0.05970423342729161, 0.3588059129198927, 0.1268835252195009, 0.0960852024722534, 0.09595119288328992, 0.6753321124392315, 0.049173405369511286, 0.31539275253226867, 0.29582613297066834, 0.35838166728755866, 0.016345687433399925, 0.10005319991007222, 0.3159353833618171, 0.027538561105381023, 0.003586078291975221, 0.38424533519603243, 0.839719760968447, 0.8836870405095753, 0.008542088708040633, 0.011835723915369419, 0.9797609811991245, 0.40071460530113945, 0.9369252758077857, 0.21570377963541015, 0.8804916616433397, 0.013486772153517346, 0.0017998523054871228, 0.7791216439786779, 0.5562692270849707, 0.6368646567070425, 0.17808040619302862, 0.14497528903560541, 0.009844828258899997, 0.14497528903560541, 0.9968681919810101, 0.09101241471764683, 0.009694999444192531, 0.007705883422904128, 0.0409761644668466, 0.04736073764082919, 0.00012107685983468763, 0.008029422656944502, 9.923684178259014e-05, 0.15517285375446316, 0.0027688005851855806, 0.2046416048269116, 0.018456716126092128, 0.5965425015239841, 0.13655475323227037, 0.9819287864559629, 0.07199880147097898, 0.2299314611535165, 0.0004132885209559308, 0.15098899369489224, 0.3012327882283349, 0.08553129747744008, 0.5771945123823548, 0.5444995277682114, 0.7398315013878161, 0.8468235974240216, 0.6171159759985487, 0.6100403671418453, 0.8390214076724388, 0.6740074437326276, 0.7886475618729047, 0.46725211906826636, 0.10618516140059497, 0.40192612643173387, 0.1035442672683791, 0.07648032371196528, 0.7657312381642425, 0.5657549820257657, 0.5657549820257657, 0.6627849298964816, 0.8981494697287418, 0.5878376689645864, 0.31124396620053674, 0.7190040385552854, 0.0638867912613721, 0.24812875681793975, 0.7664648619978435, 0.7201340902794104, 0.08344912636429358, 0.010523142308011768, 0.8736822463133966, 0.9275566203523516, 0.8357359358968741, 0.5917178158456546, 0.18344398296311784, 0.18344398296311784, 0.009050072071245986, 0.17554303416968312, 0.4841045597889694, 0.3893414005255216, 0.09502234285411397, 0.015659373342257088, 0.012625356375603457, 0.5039196765626146, 0.23547943856407857, 0.09053702155435867, 0.9157532719060502, 0.820401021531569, 0.013252074246398843, 0.9634617494674601, 0.9215916211425607, 0.2581146747516004, 0.8670310234794574, 0.000794876466315344, 0.8867488390421145, 0.12025406542092817, 0.02884828713159842, 0.8319285504549883, 0.0017096476776249138, 0.04955299044796806, 0.11927763982245335, 0.008973590890902298, 0.9765913476859355, 0.9765913476859355, 0.0006309357350675998, 0.9765913476859355, 0.3103894906553223, 0.5939958954894673, 0.9320419649675548, 0.7840418063567927, 0.2202727082566925, 0.41861616056183726, 0.40173904023954243, 0.008792981017268857, 0.7083137211128994, 0.00014057238272665112, 0.5404407142779575, 0.06923477222605129, 0.060530728103385424, 0.22005297632515086, 0.31424145365708495, 0.39784917560639, 0.02131526589502548, 0.01595679836223944, 0.02856144283274567, 0.00048182524718748155, 0.1807575844497704, 0.9978202778393228, 0.40652976894699744, 0.6652564586280358, 0.11170991974153585, 0.035035513785951114, 0.3793407205152549, 0.993809989566986, 0.40023836310801997, 0.14291690821404357, 0.6691809750636291, 0.5343830865499017, 0.001292601220544507, 0.7230373300884689, 0.8773046669495468, 0.9721806975609616, 0.5629190262688564, 0.19607279898782126, 0.8486911764037847, 0.6450777984047431, 0.5886178077282964, 0.01842541925545548, 0.042118889748819915, 0.44595028895819466, 0.9721497987592063, 0.848462041040645, 0.7728864694779575, 0.022211085066097792, 0.14276154006286654, 0.03673932807886489, 0.4047433015568215, 0.07411536396263756, 0.005271282675052592, 0.0066892206642752555, 0.47873267238356754, 0.8488414225709289, 0.071024316566385, 0.09254574885657516, 0.277367150307548, 0.004628578336015051, 0.3884877616027913, 0.5911838389966615, 0.4258429351159574, 0.20096045250794006, 0.35548832766815497, 0.38910620533379237, 0.2267011984892154, 0.8771781589437201, 0.5175006750162017, 0.00035541733234536576, 0.9827208665929321, 0.2950373704555307, 0.27842623727294574, 0.15937998571803144, 0.8752451385846634, 0.6375433313254915, 0.20475683054985205, 4.4391553178805296e-05, 0.7302424004514116, 0.27848153756400773, 0.29906760828758616, 0.6325164066642768, 0.6286477792333287, 0.8727834541128117, 0.43611862662459466, 0.006588484905316918, 0.3135024649471577, 0.8590943467787411, 0.004871464089157732, 0.6422979769823495, 0.9356880772440843, 0.3959450762659976, 0.7793219920821487, 0.9399262837943313, 0.012631720129610948, 0.12796581521594358, 0.43054362564490745, 0.6619217764370315, 0.2001885436980758, 0.0819455488454138, 0.5170387946979189, 0.0004163410063282494, 0.49476439591704946, 0.08114525069490702, 0.10693809854630386, 0.036344486227008775, 0.5951676312532901, 0.08327826963867478, 0.6161142142347595, 0.0508170321948102, 0.16274966883604505, 0.2203257884083087, 0.0010574993668762548, 0.27973552388226663]\n"
     ]
    },
    {
     "ename": "IndexError",
     "evalue": "boolean index did not match indexed array along dimension 0; dimension is 476 but corresponding boolean dimension is 447",
     "output_type": "error",
     "traceback": [
      "\u001b[0;31m---------------------------------------------------------------------------\u001b[0m",
      "\u001b[0;31mIndexError\u001b[0m                                Traceback (most recent call last)",
      "\u001b[0;32m<ipython-input-12-c2cfcd6b81e5>\u001b[0m in \u001b[0;36m<module>\u001b[0;34m\u001b[0m\n\u001b[1;32m     41\u001b[0m \u001b[0mpvalues\u001b[0m \u001b[0;34m=\u001b[0m \u001b[0mstatsmodels\u001b[0m\u001b[0;34m.\u001b[0m\u001b[0mstats\u001b[0m\u001b[0;34m.\u001b[0m\u001b[0mmultitest\u001b[0m\u001b[0;34m.\u001b[0m\u001b[0mfdrcorrection\u001b[0m\u001b[0;34m(\u001b[0m\u001b[0mp_values\u001b[0m\u001b[0;34m)\u001b[0m\u001b[0;34m[\u001b[0m\u001b[0;36m1\u001b[0m\u001b[0;34m]\u001b[0m\u001b[0;34m\u001b[0m\u001b[0;34m\u001b[0m\u001b[0m\n\u001b[1;32m     42\u001b[0m \u001b[0;31m#print(pvalues)\u001b[0m\u001b[0;34m\u001b[0m\u001b[0;34m\u001b[0m\u001b[0;34m\u001b[0m\u001b[0m\n\u001b[0;32m---> 43\u001b[0;31m \u001b[0msignificant_sites\u001b[0m \u001b[0;34m=\u001b[0m \u001b[0mnp\u001b[0m\u001b[0;34m.\u001b[0m\u001b[0marray\u001b[0m\u001b[0;34m(\u001b[0m\u001b[0msite_names\u001b[0m\u001b[0;34m)\u001b[0m\u001b[0;34m[\u001b[0m\u001b[0mnp\u001b[0m\u001b[0;34m.\u001b[0m\u001b[0marray\u001b[0m\u001b[0;34m(\u001b[0m\u001b[0mareSignificant\u001b[0m\u001b[0;34m)\u001b[0m\u001b[0;34m]\u001b[0m\u001b[0;34m\u001b[0m\u001b[0;34m\u001b[0m\u001b[0m\n\u001b[0m\u001b[1;32m     44\u001b[0m \u001b[0msignificant_pvalues\u001b[0m \u001b[0;34m=\u001b[0m \u001b[0mnp\u001b[0m\u001b[0;34m.\u001b[0m\u001b[0marray\u001b[0m\u001b[0;34m(\u001b[0m\u001b[0mpvalues\u001b[0m\u001b[0;34m)\u001b[0m\u001b[0;34m[\u001b[0m\u001b[0mnp\u001b[0m\u001b[0;34m.\u001b[0m\u001b[0marray\u001b[0m\u001b[0;34m(\u001b[0m\u001b[0mareSignificant\u001b[0m\u001b[0;34m)\u001b[0m\u001b[0;34m]\u001b[0m\u001b[0;34m\u001b[0m\u001b[0;34m\u001b[0m\u001b[0m\n\u001b[1;32m     45\u001b[0m \u001b[0;34m\u001b[0m\u001b[0m\n",
      "\u001b[0;31mIndexError\u001b[0m: boolean index did not match indexed array along dimension 0; dimension is 476 but corresponding boolean dimension is 447"
     ]
    }
   ],
   "source": [
    "sites = phos.columns\n",
    "p_values = []\n",
    "site_names = []\n",
    "\n",
    "for protein in phosProtList:\n",
    "    pattern = re.compile(protein)\n",
    "    isInList = filter(pattern.search, sites)\n",
    "    if next(isInList, None) is not None:\n",
    "        phosphositesdf = CPTAC.compare_mutations(phos, protein, gene)\n",
    "        phosphositesdf = phosphositesdf.loc[phosphositesdf['Patient_Type'] == 'Tumor'].drop('Patient_Type', axis = 1)\n",
    "        for site in phosphositesdf.columns:\n",
    "            if (site is not 'Mutation'):\n",
    "                sitedf = CPTAC.compare_mutations(phos, site, gene)\n",
    "                mutateddf = sitedf.loc[sitedf['Mutation'] != 'Wildtype'].dropna(axis=0)\n",
    "                wtdf = sitedf.loc[sitedf['Mutation'] == 'Wildtype'].dropna(axis=0)\n",
    "                #print(mutateddf)\n",
    "                ttest = scipy.stats.ttest_ind(mutateddf[site], wtdf[site])\n",
    "                p_values.append(ttest[1])\n",
    "                site_names.append(site)     \n",
    "\n",
    "#print(p_values)\n",
    "p_values = [x for x in p_values if str(x) != 'nan']\n",
    "#print(p_values)\n",
    "\n",
    "#We need to remove all 'nan' p-values and their corresponding site names before passing it in for the fdr correction\n",
    "indexesToRemove=[]\n",
    "\n",
    "for index in range(0, len(p_values)):\n",
    "    if np.isnan(p_values[index]):\n",
    "        indexesToRemove.append(index)\n",
    "        \n",
    "for rem in range( len(indexesToRemove)-1, -1, -1):\n",
    "    p_values.pop(indexesToRemove[rem])\n",
    "    site_names.pop(indexesToRemove[rem])\n",
    "      \n",
    "#p_values and site names have now had all entries removed where the corresponding p-value is 'nan'\n",
    "\n",
    "\n",
    "areSignificant = statsmodels.stats.multitest.fdrcorrection(p_values)[0]\n",
    "\n",
    "pvalues = statsmodels.stats.multitest.fdrcorrection(p_values)[1]\n",
    "#print(pvalues)\n",
    "significant_sites = np.array(site_names)[np.array(areSignificant)]\n",
    "significant_pvalues = np.array(pvalues)[np.array(areSignificant)]\n",
    "\n",
    "significant_vals = dict(zip(significant_sites, significant_pvalues))\n",
    "\n",
    "print(significant_sites)\n",
    "print(significant_pvalues)\n",
    "print(significant_vals)"
   ]
  },
  {
   "cell_type": "code",
   "execution_count": 10,
   "metadata": {},
   "outputs": [
    {
     "name": "stdout",
     "output_type": "stream",
     "text": [
      "2.656286624870231e-06\n"
     ]
    }
   ],
   "source": [
    "print(p_values[2])"
   ]
  },
  {
   "cell_type": "markdown",
   "metadata": {},
   "source": [
    "### Plot phosphorylation levels and gene mutation\n",
    "<b>Note:</b> There may be fewer data points due to NA values"
   ]
  },
  {
   "cell_type": "code",
   "execution_count": 11,
   "metadata": {},
   "outputs": [
    {
     "ename": "NameError",
     "evalue": "name 'significant_sites' is not defined",
     "output_type": "error",
     "traceback": [
      "\u001b[0;31m---------------------------------------------------------------------------\u001b[0m",
      "\u001b[0;31mNameError\u001b[0m                                 Traceback (most recent call last)",
      "\u001b[0;32m<ipython-input-11-01f07b71a2a3>\u001b[0m in \u001b[0;36m<module>\u001b[0;34m\u001b[0m\n\u001b[1;32m      1\u001b[0m \u001b[0;31m#Specify the gene and the site; you may use a string to specify the site or reference the significant results above\u001b[0m\u001b[0;34m\u001b[0m\u001b[0;34m\u001b[0m\u001b[0;34m\u001b[0m\u001b[0m\n\u001b[1;32m      2\u001b[0m \u001b[0mgene\u001b[0m \u001b[0;34m=\u001b[0m \u001b[0;34m'PIK3CA'\u001b[0m\u001b[0;34m\u001b[0m\u001b[0;34m\u001b[0m\u001b[0m\n\u001b[0;32m----> 3\u001b[0;31m \u001b[0msite\u001b[0m \u001b[0;34m=\u001b[0m \u001b[0msignificant_sites\u001b[0m\u001b[0;34m[\u001b[0m\u001b[0;36m0\u001b[0m\u001b[0;34m]\u001b[0m\u001b[0;34m\u001b[0m\u001b[0;34m\u001b[0m\u001b[0m\n\u001b[0m\u001b[1;32m      4\u001b[0m \u001b[0;34m\u001b[0m\u001b[0m\n\u001b[1;32m      5\u001b[0m \u001b[0;31m#Build the dataframe for plotting\u001b[0m\u001b[0;34m\u001b[0m\u001b[0;34m\u001b[0m\u001b[0;34m\u001b[0m\u001b[0m\n",
      "\u001b[0;31mNameError\u001b[0m: name 'significant_sites' is not defined"
     ]
    }
   ],
   "source": [
    "#Specify the gene and the site; you may use a string to specify the site or reference the significant results above\n",
    "gene = 'PIK3CA'\n",
    "site = significant_sites[0]\n",
    "\n",
    "#Build the dataframe for plotting\n",
    "#print(somatic_mutations)\n",
    "genedf = CPTAC.compare_mutations(phos, site, gene)\n",
    "#print(genedf)\n",
    "sites = phos.filter(regex=site)\n",
    "#genedf = genedf.add(sites, fill_value=0)\n",
    "\n",
    "phos_boxplot = sns.boxplot(data=genedf, x='Mutation' ,y=site)\n",
    "phos_boxplot.set_title(gene + \" gene mutation and \" + site + \" phosphorylation levels\")\n",
    "phos_boxplot = sns.stripplot(data=genedf, x='Mutation', y=site,jitter=True, color=\".3\")\n",
    "phos_boxplot.set(xlabel=\"Somatic Gene Mutation\",ylabel=\"Phosphoproteomics\")"
   ]
  },
  {
   "cell_type": "markdown",
   "metadata": {},
   "source": [
    "### Test for phosphorylation levels and protein abundance"
   ]
  },
  {
   "cell_type": "code",
   "execution_count": null,
   "metadata": {},
   "outputs": [],
   "source": [
    "#Specify the pattern for all phosphorylation sites as well as the protein of interest\n",
    "phosProt = phos.filter(regex='PIK3CA') \n",
    "protein = 'PIK3CA'\n",
    "sigPhosProtResults = []\n",
    "\n",
    "#Build dataframe with protein levels and phosphorylation levels\n",
    "proteindf = proteomics[protein].to_frame()\n",
    "phosProtCross = proteindf.add(phosProt, fill_value=0)\n",
    "\n",
    "#Bonferroni correction\n",
    "pcutoff = 0.05/len(cross.columns)\n",
    "\n",
    "#Test each site for significance and print the results\n",
    "for loc in phosProtCross.columns:\n",
    "    if not loc == protein:\n",
    "        oneSitedf = phosProtCross[[loc, protein]].dropna(axis=0)\n",
    "        pearsonresult = pearsonr(oneSitedf[loc], oneSitedf[protein])\n",
    "        if(pearsonresult[1] < pcutoff):\n",
    "            sigPhosProtResults.append(loc)\n",
    "            print(\"Results for \" + loc)\n",
    "            print(pearsonresult)"
   ]
  },
  {
   "cell_type": "markdown",
   "metadata": {},
   "source": [
    "### Scatterplot of phosphorylation levels vs. protein abundance (mutation included)"
   ]
  },
  {
   "cell_type": "code",
   "execution_count": null,
   "metadata": {},
   "outputs": [],
   "source": [
    "#Specify a protein, a gene and a site; you may use a string to specify the site or reference sigPhosProtResults above\n",
    "protein = 'CTNNB1'\n",
    "gene = 'CTNNB1'\n",
    "site = sigPhosProtResults[1]\n",
    "\n",
    "#Build the dataframe for plotting\n",
    "protdf = proteomics[protein].to_frame()\n",
    "protdfName = protein + \" protein levels\" #Technically only necessary when the gene and the protein have the same name\n",
    "protdf.columns = [protdfName]\n",
    "sites = phos.filter(regex=site)\n",
    "protdf = protdf.add(sites, fill_value=0)\n",
    "\n",
    "genedf = somatic_mutations[gene].to_frame()\n",
    "genedfName = gene + \" mutation\"\n",
    "genedf.columns = [genedfName]\n",
    "finaldf = protdf.add(genedf, fill_value=0)\n",
    "\n",
    "alt.Chart(finaldf).mark_point().encode(\n",
    "    alt.X(protdfName),\n",
    "    alt.Y(site),\n",
    "    alt.Color(genedfName, type='nominal')\n",
    ").interactive()"
   ]
  },
  {
   "cell_type": "code",
   "execution_count": null,
   "metadata": {},
   "outputs": [],
   "source": []
  }
 ],
 "metadata": {
  "kernelspec": {
   "display_name": "Python 3",
   "language": "python",
   "name": "python3"
  },
  "language_info": {
   "codemirror_mode": {
    "name": "ipython",
    "version": 3
   },
   "file_extension": ".py",
   "mimetype": "text/x-python",
   "name": "python",
   "nbconvert_exporter": "python",
   "pygments_lexer": "ipython3",
   "version": "3.6.8"
  }
 },
 "nbformat": 4,
 "nbformat_minor": 2
}
