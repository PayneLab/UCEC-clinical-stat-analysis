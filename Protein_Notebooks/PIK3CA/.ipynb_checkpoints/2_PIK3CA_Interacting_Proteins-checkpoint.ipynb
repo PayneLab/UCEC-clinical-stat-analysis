{
 "cells": [
  {
   "cell_type": "markdown",
   "metadata": {},
   "source": [
    "# PIK3CA trans effects on known interacting proteins"
   ]
  },
  {
   "cell_type": "markdown",
   "metadata": {},
   "source": [
    "We first investigated the effects of PIK3CA mutation on the proteomics and phosphoproteomic of known interacting proteins. This list primarily included proteins in the PI3K/AKT/MTOR signaling cascade that plays a key role in cell survival and cell proliferation."
   ]
  },
  {
   "cell_type": "markdown",
   "metadata": {},
   "source": [
    "## Standard Imports"
   ]
  },
  {
   "cell_type": "code",
   "execution_count": 7,
   "metadata": {},
   "outputs": [],
   "source": [
    "import pandas as pd\n",
    "import numpy as np\n",
    "import re\n",
    "import scipy.stats\n",
    "import statsmodels.stats.multitest\n",
    "import matplotlib.pyplot as plt\n",
    "import seaborn as sns\n",
    "\n",
    "#import the Endometrial data from CPTAC package\n",
    "import CPTAC.Endometrial as CPTAC"
   ]
  },
  {
   "cell_type": "markdown",
   "metadata": {},
   "source": [
    "### Set up initial dataframes and variables"
   ]
  },
  {
   "cell_type": "code",
   "execution_count": 8,
   "metadata": {},
   "outputs": [
    {
     "name": "stdout",
     "output_type": "stream",
     "text": [
      "160      S001\n",
      "1147     S003\n",
      "1426     S009\n",
      "4757     S021\n",
      "16613    S023\n",
      "19188    S024\n",
      "21386    S032\n",
      "21643    S033\n",
      "22656    S038\n",
      "37618    S061\n",
      "38352    S063\n",
      "39719    S066\n",
      "43588    S067\n",
      "43687    S068\n",
      "46859    S084\n",
      "47557    S088\n",
      "48398    S090\n",
      "49903    S097\n",
      "50016    S098\n",
      "Name: Clinical_Patient_Key, dtype: object\n"
     ]
    }
   ],
   "source": [
    "gene = 'PIK3CA'\n",
    "somatic = CPTAC.get_somatic()\n",
    "proteomics = CPTAC.get_proteomics()\n",
    "phos = CPTAC.get_phosphoproteomics()\n",
    "\n",
    "#A list of mutations present in the hotspot according to our Hotspot3D output\n",
    "hotspot_mutations = ['p.E545A', 'p.E545K', 'p.E545V', 'p.Q546P', 'p.Q546R', 'p.E542K']\n",
    "mutated_hotspot = somatic.loc[(somatic['Location'].isin(hotspot_mutations)) & (somatic['Gene'] == gene)]\n",
    "hotspot_patients = mutated_hotspot['Clinical_Patient_Key']\n",
    "\n",
    "hotspot_patients_both_keys = mutated_hotspot[['Clinical_Patient_Key', 'Patient_Id']]\n",
    "hotspot_patients = hotspot_patients_both_keys['Clinical_Patient_Key']\n",
    "print(hotspot_patients)\n",
    "\n",
    "#The pvalue cutoff used to find significance\n",
    "pcutoff = 0.05\n"
   ]
  },
  {
   "cell_type": "markdown",
   "metadata": {},
   "source": [
    "## Find number of patients with PIK3CA mutations in/outside of the hotspot"
   ]
  },
  {
   "cell_type": "code",
   "execution_count": 9,
   "metadata": {},
   "outputs": [
    {
     "name": "stdout",
     "output_type": "stream",
     "text": [
      "Mutations inside hotspot: 19\n",
      "Total number of patients with mutations: 48\n"
     ]
    }
   ],
   "source": [
    "print(\"Mutations inside hotspot: \" + str(len(hotspot_patients)))\n",
    "p110_mutated = somatic.loc[somatic['Gene'] == 'PIK3CA']\n",
    "#note: the gene PIK3CA encodes for the protein p110α, hence the variable 'p110_mutated'\n",
    "\n",
    "# This naturally includes a value that is 'NA' so we subtract 1\n",
    "# Some people have more than one mutation so we need to grab the unique values\n",
    "num_mutated = len(set(p110_mutated['Clinical_Patient_Key'])) - 1\n",
    "print(\"Total number of patients with mutations: \" + str(num_mutated))"
   ]
  },
  {
   "cell_type": "markdown",
   "metadata": {},
   "source": [
    "# Proteomic Abundance"
   ]
  },
  {
   "cell_type": "markdown",
   "metadata": {},
   "source": [
    "### List of proteins that interact with PIK3CA (according to Uniprot and STRING)"
   ]
  },
  {
   "cell_type": "code",
   "execution_count": 10,
   "metadata": {},
   "outputs": [],
   "source": [
    "#Build the protein list; this may have only a single protein if desired\n",
    "protList = ['IRS1', 'IRS2', 'RRAS', 'AKT2', 'NRAS', 'PTEN', 'AKT1', 'MRAS', 'HRAS', 'RPS6KB1', 'PIK3R1', 'PKC', 'MTOR', 'S6K', 'MAPK', 'ERBB3', 'P85A', 'P55G', 'CDK5']"
   ]
  },
  {
   "cell_type": "markdown",
   "metadata": {},
   "source": [
    "## Hotspot mutation vs non-hotspot mutation"
   ]
  },
  {
   "cell_type": "code",
   "execution_count": 11,
   "metadata": {},
   "outputs": [
    {
     "name": "stdout",
     "output_type": "stream",
     "text": [
      "Mutations inside hotspot: 19\n",
      "Unsignificant result for IRS1 0.8570734994915308\n",
      "Unsignificant result for IRS2 0.09674094347736001\n",
      "Unsignificant result for RRAS 0.025709117294969015\n",
      "Unsignificant result for AKT2 0.24486222824644044\n",
      "Unsignificant result for NRAS 0.579841867910798\n",
      "Unsignificant result for PTEN 0.0676976304099718\n",
      "Unsignificant result for AKT1 0.39764976429801524\n",
      "Unsignificant result for MRAS 0.17544373477828829\n",
      "Unsignificant result for HRAS 0.3114823476147295\n",
      "Unsignificant result for RPS6KB1 0.44079322936855947\n",
      "Unsignificant result for PIK3R1 0.9013685831466293\n",
      "Unsignificant result for MTOR 0.11458881422507551\n",
      "Unsignificant result for ERBB3 0.4097077317602019\n",
      "Unsignificant result for CDK5 0.6123211223904736\n"
     ]
    }
   ],
   "source": [
    "print(\"Mutations inside hotspot: \" + str(len(hotspot_patients)))\n",
    "p110_mutated = somatic.loc[somatic['Gene'] == 'PIK3CA']\n",
    "\n",
    "# 1. Use the Bonferonni correction to adjust the p-value by dividing alpha (0.05) by the number of tests. \n",
    "#   Because we are analyzing 19 proteins, we will have 19 tests. \n",
    "pcutoff = 0.05/len(protList)\n",
    "\n",
    "# 2. Loop through each protein to test for significant protein level\n",
    "for protein in protList: \n",
    "    if protein in proteomics.columns:\n",
    "        p10_mutations = CPTAC.compare_mutations(proteomics, protein, gene)\n",
    "        p10_mutations['Within_Hotspot'] = False\n",
    "        p10_mutations.loc[hotspot_patients, 'Within_Hotspot'] = True\n",
    "        p10_mutations.loc[p10_mutations['Mutation'] == 'Wildtype', 'Within_Hotspot'] = 'Wildtype'\n",
    "        p10_mutations = p10_mutations.loc[p10_mutations['Patient_Type'] == 'Tumor'].dropna(axis=0)\n",
    "\n",
    "        in_hotspot = p10_mutations.loc[p10_mutations['Within_Hotspot'] == True]\n",
    "        out_hotspot = p10_mutations.loc[p10_mutations['Within_Hotspot'] == False]\n",
    "        \n",
    "        ttest = scipy.stats.ttest_ind(in_hotspot[protein], out_hotspot[protein])\n",
    "        \n",
    "        if ttest[1] < pcutoff:\n",
    "            print(\"Test for \" + protein, ttest[1])\n",
    "        else:\n",
    "            print(\"Unsignificant result for \" + protein, ttest[1])\n"
   ]
  },
  {
   "cell_type": "markdown",
   "metadata": {},
   "source": [
    "## Hotspot mutation vs other mutations and cancer wildtype"
   ]
  },
  {
   "cell_type": "code",
   "execution_count": 15,
   "metadata": {},
   "outputs": [
    {
     "name": "stdout",
     "output_type": "stream",
     "text": [
      "0.5035367810301701\n",
      "0.02552212534819076\n",
      "0.01780099029991586\n",
      "0.021090262225409967\n",
      "0.5506198001682362\n",
      "0.01581066819387846\n",
      "0.481215853185884\n",
      "0.22843119672475806\n",
      "0.33068286815988157\n",
      "0.5440733573821175\n",
      "0.24882209547901762\n",
      "0.021477271861438874\n",
      "0.2347027612863359\n",
      "0.104981612666904\n"
     ]
    }
   ],
   "source": [
    "gene = 'PIK3CA'\n",
    "tested = [];\n",
    "p_vals = [];\n",
    "for protein in protList: \n",
    "    if protein in proteomics.columns:\n",
    "        p10_mutations = CPTAC.compare_mutations(proteomics, protein, gene)\n",
    "        p10_mutations['Within_Hotspot'] = False\n",
    "        p10_mutations.loc[hotspot_patients, 'Within_Hotspot'] = True\n",
    "        p10_mutations.loc[p10_mutations['Mutation'] == 'Wildtype', 'Within_Hotspot'] = 'Wildtype'\n",
    "        p10_mutations = p10_mutations.loc[p10_mutations['Patient_Type'] == 'Tumor'].dropna(axis=0)\n",
    "\n",
    "        in_hotspot = p10_mutations.loc[p10_mutations['Within_Hotspot'] == True]\n",
    "        out_hotspot = p10_mutations.loc[p10_mutations['Within_Hotspot'] != True]\n",
    "        ttest = scipy.stats.ttest_ind(in_hotspot[protein], out_hotspot[protein])\n",
    "        print(ttest[1])"
   ]
  },
  {
   "cell_type": "markdown",
   "metadata": {},
   "source": [
    "## All mutations vs cancer wildtype"
   ]
  },
  {
   "cell_type": "code",
   "execution_count": 17,
   "metadata": {},
   "outputs": [
    {
     "name": "stdout",
     "output_type": "stream",
     "text": [
      "Ttest_indResult(statistic=-1.03423533120962, pvalue=0.3035716066390899)\n",
      "Ttest_indResult(statistic=-1.8301221925077833, pvalue=0.07027134773500125)\n",
      "Ttest_indResult(statistic=-0.9008569682324885, pvalue=0.3698729088560708)\n",
      "Ttest_indResult(statistic=-2.9661965552998892, pvalue=0.0037875613802568534)\n",
      "Ttest_indResult(statistic=-0.20582735142192082, pvalue=0.8373527469808126)\n",
      "Ttest_indResult(statistic=-1.2815483105994718, pvalue=0.20302505456125847)\n",
      "Ttest_indResult(statistic=-0.2511526174289215, pvalue=0.8022219785434666)\n",
      "Ttest_indResult(statistic=-0.5109711210926665, pvalue=0.6105204981755263)\n",
      "Ttest_indResult(statistic=-0.58796394809874, pvalue=0.5580623705425318)\n",
      "Ttest_indResult(statistic=-2.186023742217226, pvalue=0.031195095038079188)\n",
      "Ttest_indResult(statistic=2.140936588230302, pvalue=0.03475975535096763)\n",
      "Ttest_indResult(statistic=-1.539219071353693, pvalue=0.12697356066680146)\n",
      "Ttest_indResult(statistic=-1.122785929088698, pvalue=0.26427162128979986)\n",
      "Ttest_indResult(statistic=2.454238055763402, pvalue=0.0158825119935403)\n"
     ]
    }
   ],
   "source": [
    "gene = 'PIK3CA'\n",
    "tested = [];\n",
    "p_vals = [];\n",
    "for protein in protList: \n",
    "    if protein in proteomics.columns:\n",
    "        p10_mutations = CPTAC.compare_mutations(proteomics, protein, gene)\n",
    "        p10_mutations['Within_Hotspot'] = False\n",
    "        p10_mutations.loc[hotspot_patients, 'Within_Hotspot'] = True\n",
    "        p10_mutations.loc[p10_mutations['Mutation'] == 'Wildtype', 'Within_Hotspot'] = 'Wildtype'\n",
    "        p10_mutations = p10_mutations.loc[p10_mutations['Patient_Type'] == 'Tumor'].dropna(axis=0)\n",
    "\n",
    "        in_hotspot = p10_mutations.loc[p10_mutations['Within_Hotspot'] != 'Wildtype']\n",
    "        out_hotspot = p10_mutations.loc[p10_mutations['Within_Hotspot'] == 'Wildtype']\n",
    "        ttest = scipy.stats.ttest_ind(in_hotspot[protein], out_hotspot[protein])\n",
    "        print(ttest)"
   ]
  },
  {
   "cell_type": "markdown",
   "metadata": {},
   "source": [
    "## Hotspot mutation vs cancer wildtype"
   ]
  },
  {
   "cell_type": "code",
   "execution_count": 19,
   "metadata": {},
   "outputs": [
    {
     "name": "stdout",
     "output_type": "stream",
     "text": [
      "Ttest_indResult(statistic=-0.890843404844897, pvalue=0.3761090199360049)\n",
      "Ttest_indResult(statistic=-2.262563451390232, pvalue=0.026813917170244287)\n",
      "Ttest_indResult(statistic=-2.1505692457019703, pvalue=0.03501593703277386)\n",
      "Ttest_indResult(statistic=-2.8140617355831394, pvalue=0.006368651254182193)\n",
      "Ttest_indResult(statistic=-0.5219962076543236, pvalue=0.6033447348230232)\n",
      "Ttest_indResult(statistic=-2.587654791753785, pvalue=0.011772080612918)\n",
      "Ttest_indResult(statistic=-0.5786084446758856, pvalue=0.5647373471984232)\n",
      "Ttest_indResult(statistic=-1.0427325095319402, pvalue=0.3007118768446411)\n",
      "Ttest_indResult(statistic=-0.8824110274023458, pvalue=0.3809091657475291)\n",
      "Ttest_indResult(statistic=-1.1482458638388393, pvalue=0.2548323796271675)\n",
      "Ttest_indResult(statistic=1.5449342509027786, pvalue=0.12693655956361294)\n",
      "Ttest_indResult(statistic=-2.2281772678220286, pvalue=0.0291306543732104)\n",
      "Ttest_indResult(statistic=-1.289284305590274, pvalue=0.20160459257809488)\n",
      "Ttest_indResult(statistic=2.1780025131349667, pvalue=0.03282656646082463)\n"
     ]
    }
   ],
   "source": [
    "gene = 'PIK3CA'\n",
    "tested = [];\n",
    "p_vals = [];\n",
    "for protein in protList: \n",
    "    if protein in proteomics.columns:\n",
    "        p10_mutations = CPTAC.compare_mutations(proteomics, protein, gene)\n",
    "        p10_mutations['Within_Hotspot'] = False\n",
    "        p10_mutations.loc[hotspot_patients, 'Within_Hotspot'] = True\n",
    "        p10_mutations.loc[p10_mutations['Mutation'] == 'Wildtype', 'Within_Hotspot'] = 'Wildtype'\n",
    "        p10_mutations = p10_mutations.loc[p10_mutations['Patient_Type'] == 'Tumor'].dropna(axis=0)\n",
    "\n",
    "        in_hotspot = p10_mutations.loc[p10_mutations['Within_Hotspot'] == True]\n",
    "        out_hotspot = p10_mutations.loc[p10_mutations['Within_Hotspot'] == 'Wildtype']\n",
    "        ttest = scipy.stats.ttest_ind(in_hotspot[protein], out_hotspot[protein])\n",
    "        print(ttest)"
   ]
  },
  {
   "cell_type": "markdown",
   "metadata": {},
   "source": [
    "# Phosphoproteomic Abundance"
   ]
  },
  {
   "cell_type": "code",
   "execution_count": 85,
   "metadata": {},
   "outputs": [],
   "source": [
    "p10_mutations = CPTAC.compare_mutations(phos, protein, gene)\n",
    "p10_mutations['Within_Hotspot'] = False\n",
    "p10_mutations.loc[hotspot_patients, 'Within_Hotspot'] = True\n",
    "p10_mutations.loc[p10_mutations['Mutation'] == 'Wildtype', 'Within_Hotspot'] = 'Wildtype'\n",
    "p10_mutations = p10_mutations.loc[p10_mutations['Patient_Type'] == 'Tumor'].dropna(axis=0)"
   ]
  },
  {
   "cell_type": "markdown",
   "metadata": {},
   "source": [
    "## Hotspot mutation vs non-hotspot mutation"
   ]
  },
  {
   "cell_type": "code",
   "execution_count": 86,
   "metadata": {},
   "outputs": [
    {
     "name": "stdout",
     "output_type": "stream",
     "text": [
      "Ttest_indResult(statistic=0.6011288158583877, pvalue=0.569751875874764)\n",
      "Ttest_indResult(statistic=-1.2062701350767784, pvalue=0.2731145388571341)\n"
     ]
    }
   ],
   "source": [
    "mutated = p10_mutations.loc[p10_mutations['Within_Hotspot'] == True]\n",
    "wt = p10_mutations.loc[p10_mutations['Within_Hotspot'] == False]\n",
    "phos_sites = ['PIK3CA-S312', 'PIK3CA-T313']\n",
    "for site in phos_sites:\n",
    "    ttest = scipy.stats.ttest_ind(mutated[site], wt[site])\n",
    "    print(ttest)"
   ]
  },
  {
   "cell_type": "markdown",
   "metadata": {},
   "source": [
    "## Hotspot mutation vs other mutations and wildtype"
   ]
  },
  {
   "cell_type": "code",
   "execution_count": 87,
   "metadata": {},
   "outputs": [
    {
     "name": "stdout",
     "output_type": "stream",
     "text": [
      "Ttest_indResult(statistic=-0.4465345522018853, pvalue=0.6611956862166855)\n",
      "Ttest_indResult(statistic=-2.682534083189739, pvalue=0.016346013548157515)\n"
     ]
    }
   ],
   "source": [
    "mutated = p10_mutations.loc[p10_mutations['Within_Hotspot'] == True]\n",
    "wt = p10_mutations.loc[p10_mutations['Within_Hotspot'] != True]\n",
    "phos_sites = ['PIK3CA-S312', 'PIK3CA-T313']\n",
    "for site in phos_sites:\n",
    "    ttest = scipy.stats.ttest_ind(mutated[site], wt[site])\n",
    "    print(ttest)"
   ]
  },
  {
   "cell_type": "markdown",
   "metadata": {},
   "source": [
    "## All mutations vs wildtype"
   ]
  },
  {
   "cell_type": "code",
   "execution_count": 88,
   "metadata": {},
   "outputs": [
    {
     "name": "stdout",
     "output_type": "stream",
     "text": [
      "Ttest_indResult(statistic=-2.097248963588519, pvalue=0.05221413286458461)\n",
      "Ttest_indResult(statistic=-2.6363611609994835, pvalue=0.0179617573755326)\n"
     ]
    }
   ],
   "source": [
    "mutated = p10_mutations.loc[p10_mutations['Within_Hotspot'] != 'Wildtype']\n",
    "wt = p10_mutations.loc[p10_mutations['Within_Hotspot'] == 'Wildtype']\n",
    "for site in phos_sites:\n",
    "    ttest = scipy.stats.ttest_ind(mutated[site], wt[site])\n",
    "    print(ttest)"
   ]
  },
  {
   "cell_type": "markdown",
   "metadata": {},
   "source": [
    "## Hotspot mutation v wildtype"
   ]
  },
  {
   "cell_type": "code",
   "execution_count": 89,
   "metadata": {},
   "outputs": [
    {
     "name": "stdout",
     "output_type": "stream",
     "text": [
      "Ttest_indResult(statistic=-1.106541217879592, pvalue=0.29210432413126164)\n",
      "Ttest_indResult(statistic=-3.7830268553444455, pvalue=0.0030311283738734484)\n"
     ]
    }
   ],
   "source": [
    "mutated = p10_mutations.loc[p10_mutations['Within_Hotspot'] == True]\n",
    "wt = p10_mutations.loc[p10_mutations['Within_Hotspot'] == 'Wildtype']\n",
    "for site in phos_sites:\n",
    "    ttest = scipy.stats.ttest_ind(mutated[site], wt[site])\n",
    "    print(ttest)"
   ]
  },
  {
   "cell_type": "code",
   "execution_count": 90,
   "metadata": {},
   "outputs": [
    {
     "data": {
      "image/png": "[encoded data removed]",
      "text/plain": [
       "<Figure size 842.4x595.44 with 1 Axes>"
      ]
     },
     "metadata": {
      "needs_background": "light"
     },
     "output_type": "display_data"
    }
   ],
   "source": [
    "a4_dims = (11.7, 8.27)\n",
    "fig, ax = plt.subplots(figsize = a4_dims)\n",
    "boxplt = sns.boxplot(data = p10_mutations, x = 'Within_Hotspot', y = 'PIK3CA-T313', ax = ax)\n",
    "boxplt = sns.stripplot(data = p10_mutations, x = 'Within_Hotspot', y = 'PIK3CA-T313', jitter = True, color = '.3')\n",
    "boxplt.set_title('Mutation location effect on PIK3CA phosphoproteomic abundance', fontsize='25')\n",
    "boxplt.set_xlabel('Mutation Within Hotspot', fontsize='20')\n",
    "boxplt.set_ylabel('Protein Level', fontsize='20')\n",
    "plt.show()"
   ]
  },
  {
   "cell_type": "code",
   "execution_count": null,
   "metadata": {},
   "outputs": [],
   "source": []
  }
 ],
 "metadata": {
  "kernelspec": {
   "display_name": "Python 3",
   "language": "python",
   "name": "python3"
  },
  "language_info": {
   "codemirror_mode": {
    "name": "ipython",
    "version": 3
   },
   "file_extension": ".py",
   "mimetype": "text/x-python",
   "name": "python",
   "nbconvert_exporter": "python",
   "pygments_lexer": "ipython3",
   "version": "3.7.1"
  }
 },
 "nbformat": 4,
 "nbformat_minor": 2
}
