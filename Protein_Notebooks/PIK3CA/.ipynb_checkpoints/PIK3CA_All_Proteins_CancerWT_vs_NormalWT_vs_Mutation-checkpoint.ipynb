{
 "cells": [
  {
   "cell_type": "markdown",
   "metadata": {},
   "source": [
    "# Statistical Testing Templates for CPTAC Data"
   ]
  },
  {
   "cell_type": "markdown",
   "metadata": {},
   "source": [
    "<b>Standard imports for playing with and plotting data frames.</b>"
   ]
  },
  {
   "cell_type": "code",
   "execution_count": 1,
   "metadata": {},
   "outputs": [],
   "source": [
    "import pandas as pd\n",
    "import numpy as np\n",
    "import scipy.stats\n",
    "from scipy.stats import pearsonr\n",
    "import matplotlib.pyplot as plt\n",
    "import re\n",
    "import seaborn as sns\n",
    "import statsmodels.stats.multitest\n",
    "#import altair as alt\n",
    "#alt.renderers.enable('notebook') #Necessary for Altair to work"
   ]
  },
  {
   "cell_type": "code",
   "execution_count": 2,
   "metadata": {
    "scrolled": true
   },
   "outputs": [
    {
     "name": "stdout",
     "output_type": "stream",
     "text": [
      "Loading CPTAC data:\n",
      "Loading Dictionary...\n",
      "Loading Clinical Data...\n",
      "Loading Proteomics Data...\n",
      "Loading Transcriptomics Data...\n",
      "Loading CNA Data...\n",
      "Loading Phosphoproteomics Data...\n",
      "Loading Somatic Mutation Data...\n",
      "\n",
      " ******PLEASE READ******\n",
      "WARNING: This data is under a publication embargo until July 1, 2019.\n",
      "CPTAC is a community resource project and data are made available\n",
      "rapidly after generation for community research use. The embargo\n",
      "allows exploring and utilizing the data, but the data may not be in a\n",
      "publication until July 1, 2019. Please see\n",
      "https://proteomics.cancer.gov/data-portal/about/data-use-agreement or\n",
      "enter CPTAC.embargo() to open the webpage for more details.\n"
     ]
    }
   ],
   "source": [
    "import CPTAC"
   ]
  },
  {
   "cell_type": "code",
   "execution_count": 3,
   "metadata": {},
   "outputs": [],
   "source": [
    "somatic_mutations = CPTAC.get_somatic()\n",
    "proteomics = CPTAC.get_proteomics()\n",
    "phos = CPTAC.get_phosphoproteomics()\n",
    "\n",
    "#Try Looking at all proteins, not just interacting proteins\n",
    "all_proteins = list(proteomics.columns.values)"
   ]
  },
  {
   "cell_type": "markdown",
   "metadata": {},
   "source": [
    "### List of interacting proteins (according to STRING and Uniprot)"
   ]
  },
  {
   "cell_type": "code",
   "execution_count": 4,
   "metadata": {},
   "outputs": [],
   "source": [
    "#Build the protein list; this may have only a single protein if desired\n",
    "protList = ['IRS1', 'IRS2', 'RRAS', 'AKT2', 'NRAS', 'PTEN', 'AKT1', 'MRAS', 'HRAS', 'RPS6KB1', 'PIK3R1', 'PKC', 'MTOR', 'S6K', 'MAPK', 'ERBB3', 'P85A', 'P55G', 'CDK5']\n",
    "#protList = all_proteins"
   ]
  },
  {
   "cell_type": "markdown",
   "metadata": {},
   "source": [
    "### Test for phosphorylation levels (difference between cancer wildtype and normal wildtype"
   ]
  },
  {
   "cell_type": "code",
   "execution_count": 5,
   "metadata": {},
   "outputs": [],
   "source": [
    "#List of proteins (will test all phosphorylation sites on these proteins (all proteins) )\n",
    "phosProtList = protList"
   ]
  },
  {
   "cell_type": "code",
   "execution_count": 17,
   "metadata": {},
   "outputs": [
    {
     "name": "stderr",
     "output_type": "stream",
     "text": [
      "/anaconda3/lib/python3.6/site-packages/numpy/core/fromnumeric.py:3157: RuntimeWarning: Degrees of freedom <= 0 for slice\n",
      "  **kwargs)\n",
      "/anaconda3/lib/python3.6/site-packages/numpy/core/_methods.py:132: RuntimeWarning: invalid value encountered in double_scalars\n",
      "  ret = ret.dtype.type(ret / rcount)\n"
     ]
    },
    {
     "name": "stdout",
     "output_type": "stream",
     "text": [
      "\n",
      "1:  [130, 13, 272, 403, 404, 151, 154, 287, 416, 39, 297, 301, 450, 451, 70, 198, 74, 203, 204, 79, 209, 466, 469, 89, 91, 222, 97, 225, 226, 228, 229, 103, 105, 106, 112, 242, 115, 251, 124]\n"
     ]
    },
    {
     "ename": "IndexError",
     "evalue": "pop index out of range",
     "output_type": "error",
     "traceback": [
      "\u001b[0;31m---------------------------------------------------------------------------\u001b[0m",
      "\u001b[0;31mIndexError\u001b[0m                                Traceback (most recent call last)",
      "\u001b[0;32m<ipython-input-17-465b606ca450>\u001b[0m in \u001b[0;36m<module>\u001b[0;34m\u001b[0m\n\u001b[1;32m     44\u001b[0m \u001b[0;34m\u001b[0m\u001b[0m\n\u001b[1;32m     45\u001b[0m \u001b[0;32mfor\u001b[0m \u001b[0mrem\u001b[0m \u001b[0;32min\u001b[0m \u001b[0mrange\u001b[0m\u001b[0;34m(\u001b[0m \u001b[0mlen\u001b[0m\u001b[0;34m(\u001b[0m\u001b[0mindexesToRemove\u001b[0m\u001b[0;34m)\u001b[0m\u001b[0;34m-\u001b[0m\u001b[0;36m1\u001b[0m\u001b[0;34m,\u001b[0m \u001b[0;34m-\u001b[0m\u001b[0;36m1\u001b[0m\u001b[0;34m,\u001b[0m \u001b[0;34m-\u001b[0m\u001b[0;36m1\u001b[0m\u001b[0;34m)\u001b[0m\u001b[0;34m:\u001b[0m\u001b[0;34m\u001b[0m\u001b[0;34m\u001b[0m\u001b[0m\n\u001b[0;32m---> 46\u001b[0;31m     \u001b[0mp_values\u001b[0m\u001b[0;34m.\u001b[0m\u001b[0mpop\u001b[0m\u001b[0;34m(\u001b[0m\u001b[0mindexesToRemove\u001b[0m\u001b[0;34m[\u001b[0m\u001b[0mrem\u001b[0m\u001b[0;34m]\u001b[0m\u001b[0;34m)\u001b[0m\u001b[0;34m\u001b[0m\u001b[0;34m\u001b[0m\u001b[0m\n\u001b[0m\u001b[1;32m     47\u001b[0m     \u001b[0msite_names\u001b[0m\u001b[0;34m.\u001b[0m\u001b[0mpop\u001b[0m\u001b[0;34m(\u001b[0m\u001b[0mindexesToRemove\u001b[0m\u001b[0;34m[\u001b[0m\u001b[0mrem\u001b[0m\u001b[0;34m]\u001b[0m\u001b[0;34m)\u001b[0m\u001b[0;34m\u001b[0m\u001b[0;34m\u001b[0m\u001b[0m\n\u001b[1;32m     48\u001b[0m \u001b[0;34m\u001b[0m\u001b[0m\n",
      "\u001b[0;31mIndexError\u001b[0m: pop index out of range"
     ]
    }
   ],
   "source": [
    "sites = phos.columns\n",
    "p_values = []\n",
    "p_values_wt_vs_mut_canc = []\n",
    "site_names = []\n",
    "gene = 'PIK3CA'\n",
    "\n",
    "for protein in phosProtList:\n",
    "    pattern = re.compile(protein)\n",
    "    isInList = filter(pattern.search, sites)\n",
    "    if next(isInList, None) is not None:\n",
    "        phosphositesdf = CPTAC.compare_mutations(phos, protein, gene).dropna(axis=0)\n",
    "        for site in phosphositesdf.columns:\n",
    "            '''just making sure not to do comparison on mutation column or patient_type column'''\n",
    "            if (site is not 'Mutation' and site is not 'Patient_Type'):\n",
    "                sitedf = CPTAC.compare_mutations(phos, site, gene).dropna(axis=0)\n",
    "                mutateddf = sitedf.loc[sitedf['Mutation'] != 'Wildtype'].dropna(axis=0)\n",
    "                wtdf = sitedf.loc[sitedf['Mutation'] == 'Wildtype'].dropna(axis=0)\n",
    "                '''Split the wildtype datafram into two, cancer wt vs normal wt'''\n",
    "                cancer_wtdf = wtdf.loc[wtdf['Patient_Type'] == \"Tumor\"].dropna(axis=0)\n",
    "                normal_wtdf = wtdf.loc[wtdf['Patient_Type'] == \"Normal\"].dropna(axis=0)\n",
    "                '''We do our t-test on these two datframes, comparing phosphorylation levels in cancer wt with normal wt'''\n",
    "                ttest = scipy.stats.ttest_ind(cancer_wtdf.dropna()[site], normal_wtdf.dropna()[site])\n",
    "                p_values.append(ttest[1])\n",
    "                site_names.append(site)\n",
    "                ttest_wt_v_mut_canc = scipy.stats.ttest_ind(mutateddf.dropna()[site], cancer_wtdf.dropna()[site])\n",
    "                p_values_wt_vs_mut_canc.append(ttest_wt_v_mut_canc[1])\n",
    "\n",
    "\n",
    "\n",
    "#We need to remove all 'nan' p-values and their corresponding site names before passing it in for the fdr correction\n",
    "\n",
    "indexesToRemove=[]\n",
    "\n",
    "\n",
    "for index in range(0, len(p_values)):\n",
    "    if np.isnan(p_values[index]):\n",
    "        indexesToRemove.append(index)\n",
    "\n",
    "#indexesToRemove = list(set(indexesToRemove))\n",
    "print(\"\\n1: \", indexesToRemove)\n",
    "\n",
    "\n",
    "for rem in range( len(indexesToRemove)-1, -1, -1):\n",
    "    p_values.pop(indexesToRemove[rem])\n",
    "    site_names.pop(indexesToRemove[rem])\n",
    "\n",
    "#p_values and site names have now had all entries removed where the corresponding p-value is 'nan'\n",
    "\n",
    "\n",
    "print(p_values)\n",
    "print(site_names)\n",
    "print(p_values_wt_vs_mut_canc)        \n"
   ]
  },
  {
   "cell_type": "markdown",
   "metadata": {},
   "source": [
    "### Seeing significance of P values using bonferroni correction"
   ]
  },
  {
   "cell_type": "code",
   "execution_count": 7,
   "metadata": {},
   "outputs": [
    {
     "name": "stdout",
     "output_type": "stream",
     "text": [
      "threshold_pval:  0.00011286681715575621\n"
     ]
    }
   ],
   "source": [
    "'''Account for multiple testing by adjusting the threshold p-value according to how many sites we tested (bonferroni correction)'''\n",
    "threshold_pval = .05/len(site_names)\n",
    "print(\"threshold_pval: \", threshold_pval)\n",
    "bonferonni_corrected_pvals = list()\n",
    "bonferonni_sig_sites = list()\n",
    "'''Add all the sites and p-values of the p-values that met our new threshold'''\n",
    "for ind in range(0, len(p_values)):\n",
    "    if p_values[ind] <= threshold_pval:\n",
    "        bonferonni_corrected_pvals.append(p_values[ind])\n",
    "        bonferonni_sig_sites.append(site_names[ind])\n",
    "        \n",
    "        \n",
    "bf_significant_vals = dict(zip(bonferonni_sig_sites, bonferonni_corrected_pvals))"
   ]
  },
  {
   "cell_type": "markdown",
   "metadata": {},
   "source": [
    "### Print signifcant site names and p-values"
   ]
  },
  {
   "cell_type": "code",
   "execution_count": 8,
   "metadata": {},
   "outputs": [
    {
     "name": "stdout",
     "output_type": "stream",
     "text": [
      "AKT1-S124 1.424660044115221e-05\n",
      "AKT1-S129 2.5573900217079467e-06\n",
      "AKT1S1-S203 4.819347359979767e-06\n",
      "IRS1-S1005 2.3114621398329754e-08\n",
      "IRS1-S1100 3.8178711059444505e-08\n",
      "IRS1-S1101 1.663359736655293e-05\n",
      "IRS1-S270 4.6202834024123743e-08\n",
      "IRS1-S323 1.4009678641284577e-10\n",
      "IRS1-S337 1.5004865137834438e-06\n",
      "IRS1-S348 1.958778724940985e-05\n",
      "IRS1-S374 2.8371640295526768e-12\n",
      "IRS1-S413 2.5890292491495306e-05\n",
      "IRS1-S415 5.041346667194253e-05\n",
      "IRS1-S527 1.0461873117138126e-05\n",
      "IRS1-S531 1.3768365062775717e-07\n",
      "IRS1-S629 5.879591182965903e-07\n",
      "IRS1-S636 4.621812404977059e-06\n",
      "IRS1-T305 2.363664736812987e-09\n",
      "IRS1-T309 1.9604051566565824e-08\n",
      "IRS2-S1100 1.0199437285981928e-11\n",
      "IRS2-S365 1.5473483113395632e-06\n",
      "IRS2-S384 9.116370940156488e-05\n",
      "IRS2-S560 3.9080252228978614e-07\n",
      "IRS2-S620 7.666013644173127e-05\n",
      "ITPKC-S9 9.039124286699483e-05\n",
      "LAMTOR1-S27 1.082107247360794e-05\n",
      "MAPK1-T181 5.82021117576729e-10\n",
      "MAPK1-Y187 4.5225990204708316e-08\n",
      "MAPK14-T180 3.8098971833081024e-11\n",
      "MAPK14-Y182 1.0993942589230114e-12\n",
      "MAPK3-T198 1.7732160794423504e-08\n",
      "MAPK3-Y204 2.1300891992039348e-10\n",
      "MAPK9-Y185 1.63354201403694e-07\n",
      "MAPKAP1-S510 1.7584767953893286e-10\n",
      "MAPKAP1-T509 5.318637589737322e-07\n",
      "MTOR-S2481 3.1260292718739956e-05\n",
      "RPS6KA3-S369 9.291913286174471e-05\n",
      "RPS6KA3-S375 1.5965660543309334e-05\n",
      "RPS6KA3-T365 2.9943930091600457e-08\n",
      "RPS6KA4-S681 6.3050833942958336e-06\n",
      "RPS6KA4-S721 1.3971407566147811e-06\n",
      "RPS6KA4-S737 5.682868591179831e-11\n",
      "RPS6KA4-T22 2.6042953129946963e-09\n",
      "RPS6KA5-S448 1.2997016625555066e-06\n",
      "RPS6KC1-S661 7.96117327197183e-06\n",
      "RPS6KC1-S872 4.016796501279426e-05\n",
      "46\n",
      "46\n",
      "443\n"
     ]
    }
   ],
   "source": [
    "for key in sorted(bf_significant_vals):\n",
    "    print(key, bf_significant_vals[key])\n",
    "\n",
    "print(len(bonferonni_sig_sites))\n",
    "print(len(bonferonni_corrected_pvals))\n",
    "print(len(site_names))"
   ]
  },
  {
   "cell_type": "markdown",
   "metadata": {},
   "source": [
    "### Use FDR Correction"
   ]
  },
  {
   "cell_type": "code",
   "execution_count": 9,
   "metadata": {},
   "outputs": [
    {
     "name": "stdout",
     "output_type": "stream",
     "text": [
      "\n",
      "Significant values (FDR):  {'IRS1-S1005': 7.314126628185772e-07, 'IRS1-S1100': 1.0570730624583699e-06, 'IRS1-S1101': 0.00019915361171305264, 'IRS1-S1134': 0.0479875194413819, 'IRS1-S270': 1.1371030818159343e-06, 'IRS1-S274': 0.016861957370968354, 'IRS1-S303': 0.0016427497934801678, 'IRS1-S307': 0.003964701172007976, 'IRS1-S312': 0.0012392442241548457, 'IRS1-S315': 0.005699638701090425, 'IRS1-S323': 1.0343812730148447e-08, 'IRS1-S330': 0.0016427497934801678, 'IRS1-S337': 2.538797414531209e-05, 'IRS1-S345': 0.03330438119787412, 'IRS1-S348': 0.000228352361881278, 'IRS1-S374': 6.28431832545918e-10, 'IRS1-S413': 0.0002940871685572416, 'IRS1-S415': 0.000531742041325489, 'IRS1-S444': 0.03284766396584149, 'IRS1-S463': 0.0025594607926736506, 'IRS1-S527': 0.00014044272093612697, 'IRS1-S531': 3.210203012005075e-06, 'IRS1-S629': 1.1324603887190849e-05, 'IRS1-S636': 7.060216880706335e-05, 'IRS1-S672': 0.0034261023476510957, 'IRS1-S744': 0.03601171703000481, 'IRS1-S745': 0.0343873127310162, 'IRS1-S766': 0.007550552948832707, 'IRS1-T305': 1.0471034784081532e-07, 'IRS1-T309': 6.680457572298969e-07, 'IRS1-T335': 0.007222634489078258, 'IRS1-T859': 0.011100253858464177, 'IRS1-Y632': 0.00903361714189046, 'IRS1-Y662': 0.0017341238755821718, 'IRS2-S1100': 1.5061169058966647e-09, 'IRS2-S1174': 0.017913688644309218, 'IRS2-S1186': 0.014521041066405747, 'IRS2-S1203': 0.0016427497934801678, 'IRS2-S365': 2.538797414531209e-05, 'IRS2-S384': 0.000894851649081585, 'IRS2-S560': 8.244072255922631e-06, 'IRS2-S577': 0.008180313864444625, 'IRS2-S591': 0.039587918955870445, 'IRS2-S594': 0.006341613273391358, 'IRS2-S608': 0.026722939980903648, 'IRS2-S620': 0.0007897776847369059, 'IRS2-S672': 0.029986530229480786, 'IRS2-S679': 0.0017341238755821718, 'IRS2-S731': 0.013203315184123625, 'IRS2-S736': 0.04403313638562685, 'IRS2-S828': 0.03601171703000481, 'IRS2-S915': 0.010017132898861358, 'IRS2-S932': 0.002835609221509997, 'IRS2-T1202': 0.0038956896561816727, 'IRS2-T404': 0.011064592510764337, 'IRS2-Y675': 0.015885812209221084, 'RRAS2-S186': 0.004425521773733778, 'AKT2-S34': 0.0012994517762343308, 'PTEN-S478': 0.04631548993002591, 'PTEN-S558': 0.021787461791672635, 'AKT1-S124': 0.00018032125701229797, 'AKT1-S126': 0.0010799695604535842, 'AKT1-S129': 4.046156355773644e-05, 'AKT1S1-S108': 0.0343873127310162, 'AKT1S1-S203': 7.116569601570122e-05, 'AKT1S1-S231': 0.004415388823526818, 'AKT1S1-S267': 0.017964871275943747, 'AKT1S1-T117': 0.030224556636499034, 'RPS6KB1-S447': 0.015339271424883116, 'PIK3R1-S154': 0.0012616741996452428, 'ITPKC-S222': 0.04403313638562685, 'ITPKC-S322': 0.044319050085403905, 'ITPKC-S9': 0.000894851649081585, 'ITPKC-T91': 0.03526340391464806, 'LAMTOR1-S27': 0.00014099220899436228, 'LAMTOR1-S42': 0.030442836998627053, 'LAMTOR1-S63': 0.005459061362799992, 'MTOR-S2478': 0.005304853706579747, 'MTOR-S2481': 0.000346207741860045, 'RPS6KA1-S372': 0.02045165394464633, 'RPS6KA1-S696': 0.007151672505783366, 'RPS6KA1-T234': 0.0010799695604535842, 'RPS6KA1-T56': 0.0022815747892961816, 'RPS6KA3-S19': 0.003474753392745348, 'RPS6KA3-S369': 0.000894851649081585, 'RPS6KA3-S375': 0.0001964663227968343, 'RPS6KA3-T365': 8.843440687052668e-07, 'RPS6KA4-S678': 0.010639140232972293, 'RPS6KA4-S681': 9.01016756023566e-05, 'RPS6KA4-S682': 0.0016600085297823687, 'RPS6KA4-S721': 2.4757334207213923e-05, 'RPS6KA4-S737': 5.03502157178533e-09, 'RPS6KA4-S745': 0.002835609221509997, 'RPS6KA4-T22': 1.0488207487787732e-07, 'RPS6KA5-S212': 0.02974139283599681, 'RPS6KA5-S376': 0.007314323401854141, 'RPS6KA5-S448': 2.399032652133706e-05, 'RPS6KA5-S628': 0.0021316954814847226, 'RPS6KA5-T38': 0.0343873127310162, 'RPS6KC1-S282': 0.01264744818567062, 'RPS6KC1-S302': 0.019130376894318506, 'RPS6KC1-S427': 0.004224989739133798, 'RPS6KC1-S461': 0.018512398539244312, 'RPS6KC1-S528': 0.024984750277623948, 'RPS6KC1-S605': 0.016615938098980383, 'RPS6KC1-S608': 0.004902089567218538, 'RPS6KC1-S661': 0.00011021249248386004, 'RPS6KC1-S667': 0.0015474798879469155, 'RPS6KC1-S872': 0.0004340099634309234, 'RPS6KC1-T284': 0.03827952642823722, 'MAPK1-T181': 2.864837278738788e-08, 'MAPK1-T185': 0.0014151217883996803, 'MAPK1-Y187': 1.1371030818159343e-06, 'MAPK12-Y185': 0.0015474798879469155, 'MAPK13-S350': 0.047327224037058795, 'MAPK14-S252': 0.012978855760354768, 'MAPK14-T180': 4.2194611305137235e-09, 'MAPK14-Y182': 4.87031656702894e-10, 'MAPK15-S415': 0.0343873127310162, 'MAPK3-T198': 6.546122693274677e-07, 'MAPK3-T202': 0.015339271424883116, 'MAPK3-Y204': 1.179536894059179e-08, 'MAPK9-T183': 0.001093147471171295, 'MAPK9-Y185': 3.6182955610918222e-06, 'MAPKAP1-S116': 0.02157162605080071, 'MAPKAP1-S270': 0.0014020401904985776, 'MAPKAP1-S510': 1.112864600510675e-08, 'MAPKAP1-T509': 1.0709802055698336e-05, 'MAPKAPK2-T222': 0.003941070224900824, 'MAPKAPK2-Y225': 0.009409988872088947, 'MAPKAPK5-S212': 0.0015020815157752805, 'MAPKAPK5-S472': 0.04544362338737912, 'MAPKBP1-S1263': 0.02256886608567636, 'MAPKBP1-S761': 0.004207122381329573, 'ERBB3-S686': 0.022367437493561064, 'ERBB3-S717': 0.014582072361505782, 'CDK5RAP2-S1020': 0.04873074718937668, 'CDK5RAP2-S1666': 0.04242804518502266, 'CDK5RAP2-T1677': 0.0016600085297823687, 'CDK5RAP2-T698': 0.00655960343957581}\n",
      "141\n"
     ]
    }
   ],
   "source": [
    "pvalues = statsmodels.stats.multitest.fdrcorrection(p_values,alpha=0.05, method='indep')[1]         \n",
    "areSignificant = statsmodels.stats.multitest.fdrcorrection(p_values,alpha=0.05, method='indep')[0]\n",
    "\n",
    "significant_sites = np.array(site_names)[np.array(areSignificant)]\n",
    "significant_pvalues = np.array(pvalues)[np.array(areSignificant)]\n",
    "significant_vals = dict(zip(significant_sites, significant_pvalues))\n",
    "\n",
    "print(\"\\nSignificant values (FDR): \", significant_vals)\n",
    "\n",
    "print(len(significant_sites))"
   ]
  },
  {
   "cell_type": "markdown",
   "metadata": {},
   "source": [
    "### Plot phosphorylation levels and gene mutation"
   ]
  },
  {
   "cell_type": "code",
   "execution_count": 11,
   "metadata": {},
   "outputs": [
    {
     "name": "stderr",
     "output_type": "stream",
     "text": [
      "/anaconda3/lib/python3.6/site-packages/ipykernel_launcher.py:18: FutureWarning: set_value is deprecated and will be removed in a future release. Please use .at[] or .iat[] accessors instead\n",
      "/anaconda3/lib/python3.6/site-packages/ipykernel_launcher.py:20: FutureWarning: set_value is deprecated and will be removed in a future release. Please use .at[] or .iat[] accessors instead\n",
      "/anaconda3/lib/python3.6/site-packages/ipykernel_launcher.py:25: FutureWarning: set_value is deprecated and will be removed in a future release. Please use .at[] or .iat[] accessors instead\n"
     ]
    },
    {
     "data": {
      "text/plain": [
       "[Text(0, 0.5, 'Phosphoproteomics'), Text(0.5, 0, 'Somatic Gene Mutation')]"
      ]
     },
     "execution_count": 11,
     "metadata": {},
     "output_type": "execute_result"
    },
    {
     "data": {
      "image/png": "[encoded data removed]",
      "text/plain": [
       "<Figure size 432x288 with 1 Axes>"
      ]
     },
     "metadata": {
      "needs_background": "light"
     },
     "output_type": "display_data"
    }
   ],
   "source": [
    "#Specify the gene and the site; you may use a string to specify the site or reference the significant results above\n",
    "\n",
    "gene = 'PIK3CA'\n",
    "\n",
    "site=\"MAPK14-Y182\"\n",
    "\n",
    "#Build the dataframe for plotting\n",
    "genedf = CPTAC.compare_mutations(phos, site, gene)\n",
    "\n",
    "'''First get all the instances where mutation != wildtype'''\n",
    "mutationdf = genedf.loc[genedf['Mutation'] != 'Wildtype'].drop('Mutation', axis = 1).dropna(axis=0)\n",
    "\n",
    "'''Get all wildtype cases, change name of patient type to wildtype tumor or wildtype normal depending on patienttype'''\n",
    "genedf = genedf.loc[genedf['Mutation'] == 'Wildtype'].drop('Mutation', axis = 1).dropna(axis=0)\n",
    "for i, row in genedf.iterrows():\n",
    "    id = i\n",
    "    if row['Patient_Type'] == 'Tumor':\n",
    "        genedf.set_value(id,'Patient_Type','Wildtype Tumor')\n",
    "    if row['Patient_Type'] == 'Normal':\n",
    "        genedf.set_value(id,'Patient_Type','Wildtype Normal')\n",
    "\n",
    "'''Change name of patient type in mutationdf to mutation tumor'''        \n",
    "for i, row in mutationdf.iterrows():\n",
    "    id = i\n",
    "    mutationdf.set_value(id,'Patient_Type','Mutation Tumor')\n",
    "\n",
    "'''Merge the two dataframes'''\n",
    "frames = [genedf, mutationdf]\n",
    "merged = pd.concat(frames)\n",
    "\n",
    "'''Plot the data, comparing wildtype cancer, wildtype normal, and mutated cancer'''\n",
    "phos_boxplot = sns.boxplot(data=merged, x=\"Patient_Type\",y=site)\n",
    "phos_boxplot.set_title(gene + \" WildType in Tumor and Normal Patients vs \" + site + \" phosphorylation levels\")\n",
    "phos_boxplot = sns.stripplot(data=merged, x=\"Patient_Type\", y=site,jitter=True, color=\".3\")\n",
    "phos_boxplot.set(xlabel=\"Somatic Gene Mutation\",ylabel=\"Phosphoproteomics\")\n"
   ]
  },
  {
   "cell_type": "code",
   "execution_count": null,
   "metadata": {},
   "outputs": [],
   "source": []
  }
 ],
 "metadata": {
  "kernelspec": {
   "display_name": "Python 3",
   "language": "python",
   "name": "python3"
  },
  "language_info": {
   "codemirror_mode": {
    "name": "ipython",
    "version": 3
   },
   "file_extension": ".py",
   "mimetype": "text/x-python",
   "name": "python",
   "nbconvert_exporter": "python",
   "pygments_lexer": "ipython3",
   "version": "3.6.8"
  }
 },
 "nbformat": 4,
 "nbformat_minor": 2
}
