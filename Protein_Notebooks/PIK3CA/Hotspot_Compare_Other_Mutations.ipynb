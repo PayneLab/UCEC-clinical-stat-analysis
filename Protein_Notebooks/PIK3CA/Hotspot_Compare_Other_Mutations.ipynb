{
 "cells": [
  {
   "cell_type": "markdown",
   "metadata": {},
   "source": [
    "# PIK3CA: Effects of mutation in the hotspot compared to other mutations"
   ]
  },
  {
   "cell_type": "code",
   "execution_count": 1,
   "metadata": {},
   "outputs": [
    {
     "name": "stdout",
     "output_type": "stream",
     "text": [
      "Loading CPTAC data:\n",
      "Loading Dictionary...\n",
      "Loading Clinical Data...\n",
      "Loading Proteomics Data...\n",
      "Loading Transcriptomics Data...\n",
      "Loading CNA Data...\n",
      "Loading Phosphoproteomics Data...\n",
      "Loading Somatic Mutation Data...\n",
      "\n",
      " ******PLEASE READ******\n",
      "WARNING: This data is under a publication embargo until July 1, 2019.\n",
      "CPTAC is a community resource project and data are made available\n",
      "rapidly after generation for community research use. The embargo\n",
      "allows exploring and utilizing the data, but the data may not be in a\n",
      "publication until July 1, 2019. Please see\n",
      "https://proteomics.cancer.gov/data-portal/about/data-use-agreement or\n",
      "enter CPTAC.embargo() to open the webpage for more details.\n"
     ]
    }
   ],
   "source": [
    "import pandas as pd\n",
    "import numpy as np\n",
    "import re\n",
    "import scipy.stats\n",
    "import statsmodels.stats.multitest\n",
    "import matplotlib.pyplot as plt\n",
    "import seaborn as sns\n",
    "import CPTAC"
   ]
  },
  {
   "cell_type": "code",
   "execution_count": 2,
   "metadata": {},
   "outputs": [],
   "source": [
    "somatic = CPTAC.get_somatic()\n",
    "proteomics = CPTAC.get_proteomics()\n",
    "phos = CPTAC.get_phosphoproteomics()\n",
    "gene = 'PIK3CA'\n",
    "protein = 'PIK3CA'"
   ]
  },
  {
   "cell_type": "code",
   "execution_count": 3,
   "metadata": {},
   "outputs": [
    {
     "name": "stdout",
     "output_type": "stream",
     "text": [
      "      Patient_Id    Gene           Mutation        Location  \\\n",
      "160    C3L-00006  PIK3CA  Missense_Mutation         p.E545K   \n",
      "1147   C3L-00032  PIK3CA  Missense_Mutation         p.E545K   \n",
      "1426   C3L-00139  PIK3CA  Missense_Mutation         p.Q546P   \n",
      "1574   C3L-00143  PIK3CA  Missense_Mutation         p.R115L   \n",
      "2260   C3L-00156  PIK3CA  Missense_Mutation         p.L628R   \n",
      "2261   C3L-00156  PIK3CA  Missense_Mutation        p.T1025A   \n",
      "3417   C3L-00161  PIK3CA  Missense_Mutation          p.R38C   \n",
      "3418   C3L-00161  PIK3CA  Missense_Mutation         p.V344M   \n",
      "4648   C3L-00362  PIK3CA  Missense_Mutation        p.H1047R   \n",
      "4756   C3L-00563  PIK3CA  Missense_Mutation         p.G118D   \n",
      "4757   C3L-00563  PIK3CA  Missense_Mutation         p.E545V   \n",
      "7216   C3L-00586  PIK3CA  Missense_Mutation          p.F83S   \n",
      "7217   C3L-00586  PIK3CA  Missense_Mutation          p.R88Q   \n",
      "7218   C3L-00586  PIK3CA  Missense_Mutation         p.K111N   \n",
      "7219   C3L-00586  PIK3CA  Missense_Mutation        p.Y1021C   \n",
      "16613  C3L-00601  PIK3CA  Missense_Mutation         p.E545K   \n",
      "16614  C3L-00601  PIK3CA  Missense_Mutation         p.F667L   \n",
      "19188  C3L-00605  PIK3CA  Missense_Mutation         p.E545K   \n",
      "19290  C3L-00769  PIK3CA  Missense_Mutation         p.C420R   \n",
      "19525  C3L-00770  PIK3CA  Missense_Mutation          p.R93W   \n",
      "19526  C3L-00770  PIK3CA  Missense_Mutation        p.N1044K   \n",
      "20178  C3L-00771  PIK3CA  Missense_Mutation        p.M1043L   \n",
      "20505  C3L-00781  PIK3CA  Missense_Mutation         p.R108H   \n",
      "21286  C3L-00905  PIK3CA  Missense_Mutation         p.K111E   \n",
      "21386  C3L-00918  PIK3CA  Missense_Mutation         p.E545A   \n",
      "21643  C3L-00921  PIK3CA  Missense_Mutation         p.E542K   \n",
      "21849  C3L-00942  PIK3CA  Missense_Mutation         p.K111E   \n",
      "22656  C3L-00947  PIK3CA  Missense_Mutation         p.E545K   \n",
      "22746  C3L-00961  PIK3CA  Missense_Mutation          p.R88Q   \n",
      "22747  C3L-00961  PIK3CA  Missense_Mutation        p.Y1021H   \n",
      "...          ...     ...                ...             ...   \n",
      "37617  C3N-00321  PIK3CA  Missense_Mutation         p.G106D   \n",
      "37618  C3N-00321  PIK3CA  Missense_Mutation         p.E542K   \n",
      "38352  C3N-00323  PIK3CA  Missense_Mutation         p.E545K   \n",
      "38401  C3N-00324  PIK3CA  Missense_Mutation        p.H1047R   \n",
      "38445  C3N-00326  PIK3CA       In_Frame_Del  p.P449_L452del   \n",
      "39718  C3N-00328  PIK3CA  Missense_Mutation          p.E81K   \n",
      "39719  C3N-00328  PIK3CA  Missense_Mutation         p.E542K   \n",
      "43587  C3N-00333  PIK3CA  Missense_Mutation         p.I112F   \n",
      "43588  C3N-00333  PIK3CA  Missense_Mutation         p.E545K   \n",
      "43687  C3N-00334  PIK3CA  Missense_Mutation         p.Q546R   \n",
      "44911  C3N-00337  PIK3CA  Missense_Mutation          p.R38S   \n",
      "44912  C3N-00337  PIK3CA       In_Frame_Del  p.E103_V105del   \n",
      "45433  C3N-00379  PIK3CA       In_Frame_Del       p.E110del   \n",
      "45469  C3N-00383  PIK3CA  Missense_Mutation        p.H1047R   \n",
      "45590  C3N-00388  PIK3CA  Missense_Mutation          p.R88Q   \n",
      "46555  C3N-00743  PIK3CA  Missense_Mutation        p.H1047Y   \n",
      "46858  C3N-00848  PIK3CA  Missense_Mutation         p.G106S   \n",
      "46859  C3N-00848  PIK3CA  Missense_Mutation         p.Q546P   \n",
      "47303  C3N-00858  PIK3CA  Missense_Mutation        p.M1043V   \n",
      "47557  C3N-00880  PIK3CA  Missense_Mutation         p.Q546R   \n",
      "48112  C3N-01001  PIK3CA  Missense_Mutation         p.E453K   \n",
      "48398  C3N-01003  PIK3CA  Missense_Mutation         p.E542K   \n",
      "48845  C3N-01212  PIK3CA  Missense_Mutation        p.H1047R   \n",
      "49828  C3N-01267  PIK3CA  Missense_Mutation         p.E453K   \n",
      "49849  C3N-01346  PIK3CA  Missense_Mutation         p.V344G   \n",
      "49902  C3N-01349  PIK3CA  Missense_Mutation          p.R93Q   \n",
      "49903  C3N-01349  PIK3CA  Missense_Mutation         p.E545K   \n",
      "50016  C3N-01510  PIK3CA  Missense_Mutation         p.E545K   \n",
      "50841  C3N-01520  PIK3CA  Missense_Mutation         p.E726K   \n",
      "53076  C3N-01825  PIK3CA  Missense_Mutation         p.K111E   \n",
      "\n",
      "      Clinical_Patient_Key  \n",
      "160                   S001  \n",
      "1147                  S003  \n",
      "1426                  S009  \n",
      "1574                  S010  \n",
      "2260                  S012  \n",
      "2261                  S012  \n",
      "3417                  S014  \n",
      "3418                  S014  \n",
      "4648                  S018  \n",
      "4756                  S021  \n",
      "4757                  S021  \n",
      "7216                  S022  \n",
      "7217                  S022  \n",
      "7218                  S022  \n",
      "7219                  S022  \n",
      "16613                 S023  \n",
      "16614                 S023  \n",
      "19188                 S024  \n",
      "19290                 S026  \n",
      "19525                 S027  \n",
      "19526                 S027  \n",
      "20178                 S028  \n",
      "20505                 S030  \n",
      "21286                 S031  \n",
      "21386                 S032  \n",
      "21643                 S033  \n",
      "21849                 S036  \n",
      "22656                 S038  \n",
      "22746                 S040  \n",
      "22747                 S040  \n",
      "...                    ...  \n",
      "37617                 S061  \n",
      "37618                 S061  \n",
      "38352                 S063  \n",
      "38401                 S064  \n",
      "38445                 S065  \n",
      "39718                 S066  \n",
      "39719                 S066  \n",
      "43587                 S067  \n",
      "43588                 S067  \n",
      "43687                 S068  \n",
      "44911                 S070  \n",
      "44912                 S070  \n",
      "45433                 S074  \n",
      "45469                 S075  \n",
      "45590                 S077  \n",
      "46555                 S081  \n",
      "46858                 S084  \n",
      "46859                 S084  \n",
      "47303                 S086  \n",
      "47557                 S088  \n",
      "48112                 S089  \n",
      "48398                 S090  \n",
      "48845                 S092  \n",
      "49828                 S095  \n",
      "49849                 S096  \n",
      "49902                 S097  \n",
      "49903                 S097  \n",
      "50016                 S098  \n",
      "50841                 S099  \n",
      "53076                   NA  \n",
      "\n",
      "[64 rows x 5 columns]\n"
     ]
    }
   ],
   "source": [
    "print(somatic.loc[(somatic['Gene'] == gene)])"
   ]
  },
  {
   "cell_type": "code",
   "execution_count": 4,
   "metadata": {},
   "outputs": [],
   "source": [
    "#A list of mutations present in the hotspot according to our Hotspot3D output\n",
    "hotspot_mutations = ['p.E545A', 'p.E545K', 'p.E545V', 'p.Q546P', 'p.Q546R', 'p.E542K']\n",
    "mutated_hotspot = somatic.loc[(somatic['Location'].isin(hotspot_mutations)) & (somatic['Gene'] == gene)]\n",
    "hotspot_patients = mutated_hotspot['Clinical_Patient_Key']"
   ]
  },
  {
   "cell_type": "code",
   "execution_count": 5,
   "metadata": {},
   "outputs": [
    {
     "data": {
      "text/html": [
       "<div>\n",
       "<style scoped>\n",
       "    .dataframe tbody tr th:only-of-type {\n",
       "        vertical-align: middle;\n",
       "    }\n",
       "\n",
       "    .dataframe tbody tr th {\n",
       "        vertical-align: top;\n",
       "    }\n",
       "\n",
       "    .dataframe thead th {\n",
       "        text-align: right;\n",
       "    }\n",
       "</style>\n",
       "<table border=\"1\" class=\"dataframe\">\n",
       "  <thead>\n",
       "    <tr style=\"text-align: right;\">\n",
       "      <th></th>\n",
       "      <th>Patient_Id</th>\n",
       "      <th>Gene</th>\n",
       "      <th>Mutation</th>\n",
       "      <th>Location</th>\n",
       "      <th>Clinical_Patient_Key</th>\n",
       "    </tr>\n",
       "  </thead>\n",
       "  <tbody>\n",
       "    <tr>\n",
       "      <th>160</th>\n",
       "      <td>C3L-00006</td>\n",
       "      <td>PIK3CA</td>\n",
       "      <td>Missense_Mutation</td>\n",
       "      <td>p.E545K</td>\n",
       "      <td>S001</td>\n",
       "    </tr>\n",
       "    <tr>\n",
       "      <th>1147</th>\n",
       "      <td>C3L-00032</td>\n",
       "      <td>PIK3CA</td>\n",
       "      <td>Missense_Mutation</td>\n",
       "      <td>p.E545K</td>\n",
       "      <td>S003</td>\n",
       "    </tr>\n",
       "    <tr>\n",
       "      <th>1426</th>\n",
       "      <td>C3L-00139</td>\n",
       "      <td>PIK3CA</td>\n",
       "      <td>Missense_Mutation</td>\n",
       "      <td>p.Q546P</td>\n",
       "      <td>S009</td>\n",
       "    </tr>\n",
       "    <tr>\n",
       "      <th>4757</th>\n",
       "      <td>C3L-00563</td>\n",
       "      <td>PIK3CA</td>\n",
       "      <td>Missense_Mutation</td>\n",
       "      <td>p.E545V</td>\n",
       "      <td>S021</td>\n",
       "    </tr>\n",
       "    <tr>\n",
       "      <th>16613</th>\n",
       "      <td>C3L-00601</td>\n",
       "      <td>PIK3CA</td>\n",
       "      <td>Missense_Mutation</td>\n",
       "      <td>p.E545K</td>\n",
       "      <td>S023</td>\n",
       "    </tr>\n",
       "    <tr>\n",
       "      <th>19188</th>\n",
       "      <td>C3L-00605</td>\n",
       "      <td>PIK3CA</td>\n",
       "      <td>Missense_Mutation</td>\n",
       "      <td>p.E545K</td>\n",
       "      <td>S024</td>\n",
       "    </tr>\n",
       "    <tr>\n",
       "      <th>21386</th>\n",
       "      <td>C3L-00918</td>\n",
       "      <td>PIK3CA</td>\n",
       "      <td>Missense_Mutation</td>\n",
       "      <td>p.E545A</td>\n",
       "      <td>S032</td>\n",
       "    </tr>\n",
       "    <tr>\n",
       "      <th>21643</th>\n",
       "      <td>C3L-00921</td>\n",
       "      <td>PIK3CA</td>\n",
       "      <td>Missense_Mutation</td>\n",
       "      <td>p.E542K</td>\n",
       "      <td>S033</td>\n",
       "    </tr>\n",
       "    <tr>\n",
       "      <th>22656</th>\n",
       "      <td>C3L-00947</td>\n",
       "      <td>PIK3CA</td>\n",
       "      <td>Missense_Mutation</td>\n",
       "      <td>p.E545K</td>\n",
       "      <td>S038</td>\n",
       "    </tr>\n",
       "    <tr>\n",
       "      <th>37618</th>\n",
       "      <td>C3N-00321</td>\n",
       "      <td>PIK3CA</td>\n",
       "      <td>Missense_Mutation</td>\n",
       "      <td>p.E542K</td>\n",
       "      <td>S061</td>\n",
       "    </tr>\n",
       "    <tr>\n",
       "      <th>38352</th>\n",
       "      <td>C3N-00323</td>\n",
       "      <td>PIK3CA</td>\n",
       "      <td>Missense_Mutation</td>\n",
       "      <td>p.E545K</td>\n",
       "      <td>S063</td>\n",
       "    </tr>\n",
       "    <tr>\n",
       "      <th>39719</th>\n",
       "      <td>C3N-00328</td>\n",
       "      <td>PIK3CA</td>\n",
       "      <td>Missense_Mutation</td>\n",
       "      <td>p.E542K</td>\n",
       "      <td>S066</td>\n",
       "    </tr>\n",
       "    <tr>\n",
       "      <th>43588</th>\n",
       "      <td>C3N-00333</td>\n",
       "      <td>PIK3CA</td>\n",
       "      <td>Missense_Mutation</td>\n",
       "      <td>p.E545K</td>\n",
       "      <td>S067</td>\n",
       "    </tr>\n",
       "    <tr>\n",
       "      <th>43687</th>\n",
       "      <td>C3N-00334</td>\n",
       "      <td>PIK3CA</td>\n",
       "      <td>Missense_Mutation</td>\n",
       "      <td>p.Q546R</td>\n",
       "      <td>S068</td>\n",
       "    </tr>\n",
       "    <tr>\n",
       "      <th>46859</th>\n",
       "      <td>C3N-00848</td>\n",
       "      <td>PIK3CA</td>\n",
       "      <td>Missense_Mutation</td>\n",
       "      <td>p.Q546P</td>\n",
       "      <td>S084</td>\n",
       "    </tr>\n",
       "    <tr>\n",
       "      <th>47557</th>\n",
       "      <td>C3N-00880</td>\n",
       "      <td>PIK3CA</td>\n",
       "      <td>Missense_Mutation</td>\n",
       "      <td>p.Q546R</td>\n",
       "      <td>S088</td>\n",
       "    </tr>\n",
       "    <tr>\n",
       "      <th>48398</th>\n",
       "      <td>C3N-01003</td>\n",
       "      <td>PIK3CA</td>\n",
       "      <td>Missense_Mutation</td>\n",
       "      <td>p.E542K</td>\n",
       "      <td>S090</td>\n",
       "    </tr>\n",
       "    <tr>\n",
       "      <th>49903</th>\n",
       "      <td>C3N-01349</td>\n",
       "      <td>PIK3CA</td>\n",
       "      <td>Missense_Mutation</td>\n",
       "      <td>p.E545K</td>\n",
       "      <td>S097</td>\n",
       "    </tr>\n",
       "    <tr>\n",
       "      <th>50016</th>\n",
       "      <td>C3N-01510</td>\n",
       "      <td>PIK3CA</td>\n",
       "      <td>Missense_Mutation</td>\n",
       "      <td>p.E545K</td>\n",
       "      <td>S098</td>\n",
       "    </tr>\n",
       "  </tbody>\n",
       "</table>\n",
       "</div>"
      ],
      "text/plain": [
       "      Patient_Id    Gene           Mutation Location Clinical_Patient_Key\n",
       "160    C3L-00006  PIK3CA  Missense_Mutation  p.E545K                 S001\n",
       "1147   C3L-00032  PIK3CA  Missense_Mutation  p.E545K                 S003\n",
       "1426   C3L-00139  PIK3CA  Missense_Mutation  p.Q546P                 S009\n",
       "4757   C3L-00563  PIK3CA  Missense_Mutation  p.E545V                 S021\n",
       "16613  C3L-00601  PIK3CA  Missense_Mutation  p.E545K                 S023\n",
       "19188  C3L-00605  PIK3CA  Missense_Mutation  p.E545K                 S024\n",
       "21386  C3L-00918  PIK3CA  Missense_Mutation  p.E545A                 S032\n",
       "21643  C3L-00921  PIK3CA  Missense_Mutation  p.E542K                 S033\n",
       "22656  C3L-00947  PIK3CA  Missense_Mutation  p.E545K                 S038\n",
       "37618  C3N-00321  PIK3CA  Missense_Mutation  p.E542K                 S061\n",
       "38352  C3N-00323  PIK3CA  Missense_Mutation  p.E545K                 S063\n",
       "39719  C3N-00328  PIK3CA  Missense_Mutation  p.E542K                 S066\n",
       "43588  C3N-00333  PIK3CA  Missense_Mutation  p.E545K                 S067\n",
       "43687  C3N-00334  PIK3CA  Missense_Mutation  p.Q546R                 S068\n",
       "46859  C3N-00848  PIK3CA  Missense_Mutation  p.Q546P                 S084\n",
       "47557  C3N-00880  PIK3CA  Missense_Mutation  p.Q546R                 S088\n",
       "48398  C3N-01003  PIK3CA  Missense_Mutation  p.E542K                 S090\n",
       "49903  C3N-01349  PIK3CA  Missense_Mutation  p.E545K                 S097\n",
       "50016  C3N-01510  PIK3CA  Missense_Mutation  p.E545K                 S098"
      ]
     },
     "execution_count": 5,
     "metadata": {},
     "output_type": "execute_result"
    }
   ],
   "source": [
    "mutated_hotspot.head(20)"
   ]
  },
  {
   "cell_type": "code",
   "execution_count": 6,
   "metadata": {},
   "outputs": [
    {
     "name": "stdout",
     "output_type": "stream",
     "text": [
      "19\n"
     ]
    }
   ],
   "source": [
    "print(len(mutated_hotspot))"
   ]
  },
  {
   "cell_type": "markdown",
   "metadata": {},
   "source": [
    "# Proteomic Abundance"
   ]
  },
  {
   "cell_type": "code",
   "execution_count": 7,
   "metadata": {},
   "outputs": [
    {
     "name": "stdout",
     "output_type": "stream",
     "text": [
      "        PIK3CA           Mutation Patient_Type Within_Hotspot\n",
      "S001 -0.450000  Missense_Mutation        Tumor           True\n",
      "S002 -0.215000           Wildtype        Tumor       Wildtype\n",
      "S003 -0.178000  Missense_Mutation        Tumor           True\n",
      "S004  0.470000           Wildtype        Tumor       Wildtype\n",
      "S005 -0.392000           Wildtype        Tumor       Wildtype\n",
      "S006  0.287000           Wildtype        Tumor       Wildtype\n",
      "S007 -0.349000           Wildtype        Tumor       Wildtype\n",
      "S008 -0.317000           Wildtype        Tumor       Wildtype\n",
      "S009  0.282000  Missense_Mutation        Tumor           True\n",
      "S010 -0.071400  Missense_Mutation        Tumor          False\n",
      "S011 -0.064000           Wildtype        Tumor       Wildtype\n",
      "S012 -0.743000  Missense_Mutation        Tumor          False\n",
      "S013 -0.555000           Wildtype        Tumor       Wildtype\n",
      "S014 -0.274000  Missense_Mutation        Tumor          False\n",
      "S015  0.203000           Wildtype        Tumor       Wildtype\n",
      "S016  0.270000           Wildtype        Tumor       Wildtype\n",
      "S017 -0.431000           Wildtype        Tumor       Wildtype\n",
      "S018 -0.469000  Missense_Mutation        Tumor          False\n",
      "S019 -0.243000           Wildtype        Tumor       Wildtype\n",
      "S020 -0.089000           Wildtype        Tumor       Wildtype\n",
      "S021 -0.472000  Missense_Mutation        Tumor           True\n",
      "S022 -0.535000  Missense_Mutation        Tumor          False\n",
      "S023 -0.752000  Missense_Mutation        Tumor           True\n",
      "S024 -0.503000  Missense_Mutation        Tumor           True\n",
      "S025 -0.249000           Wildtype        Tumor       Wildtype\n",
      "S026  0.072600  Missense_Mutation        Tumor          False\n",
      "S027 -0.809000  Missense_Mutation        Tumor          False\n",
      "S028  0.560000  Missense_Mutation        Tumor          False\n",
      "S029 -0.313000           Wildtype        Tumor       Wildtype\n",
      "S030 -0.126000  Missense_Mutation        Tumor          False\n",
      "...        ...                ...          ...            ...\n",
      "S071 -0.272000           Wildtype        Tumor       Wildtype\n",
      "S072  0.636000           Wildtype        Tumor       Wildtype\n",
      "S073  0.196000           Wildtype        Tumor       Wildtype\n",
      "S074 -0.003380       In_Frame_Del        Tumor          False\n",
      "S075 -0.311000  Missense_Mutation        Tumor          False\n",
      "S076 -0.106000           Wildtype        Tumor       Wildtype\n",
      "S077 -0.134000  Missense_Mutation        Tumor          False\n",
      "S078 -0.329000           Wildtype        Tumor       Wildtype\n",
      "S079  0.064400           Wildtype        Tumor       Wildtype\n",
      "S080 -0.227000           Wildtype        Tumor       Wildtype\n",
      "S081 -0.031000  Missense_Mutation        Tumor          False\n",
      "S082  0.184000           Wildtype        Tumor       Wildtype\n",
      "S083 -0.451000           Wildtype        Tumor       Wildtype\n",
      "S084 -0.132000  Missense_Mutation        Tumor           True\n",
      "S085 -0.490000           Wildtype        Tumor       Wildtype\n",
      "S086 -0.545000  Missense_Mutation        Tumor          False\n",
      "S087 -0.437000           Wildtype        Tumor       Wildtype\n",
      "S088 -0.342000  Missense_Mutation        Tumor           True\n",
      "S089  0.054600  Missense_Mutation        Tumor          False\n",
      "S090 -0.060900  Missense_Mutation        Tumor           True\n",
      "S091  0.073000           Wildtype        Tumor       Wildtype\n",
      "S092 -0.346000  Missense_Mutation        Tumor          False\n",
      "S093  0.012100           Wildtype        Tumor       Wildtype\n",
      "S094  0.000438           Wildtype        Tumor       Wildtype\n",
      "S095  0.037600  Missense_Mutation        Tumor          False\n",
      "S096  0.231000  Missense_Mutation        Tumor          False\n",
      "S097  0.157000  Missense_Mutation        Tumor           True\n",
      "S098 -0.373000  Missense_Mutation        Tumor           True\n",
      "S099 -0.486000  Missense_Mutation        Tumor          False\n",
      "S100  0.082000           Wildtype        Tumor       Wildtype\n",
      "\n",
      "[100 rows x 4 columns]\n"
     ]
    }
   ],
   "source": [
    "p10_mutations = CPTAC.compare_mutations(proteomics, protein, gene)\n",
    "#print(p10_mutations)\n",
    "p10_mutations['Within_Hotspot'] = False\n",
    "p10_mutations.loc[hotspot_patients, 'Within_Hotspot'] = True\n",
    "p10_mutations.loc[p10_mutations['Mutation'] == 'Wildtype', 'Within_Hotspot'] = 'Wildtype'\n",
    "p10_mutations = p10_mutations.loc[p10_mutations['Patient_Type'] == 'Tumor'].dropna(axis=0)\n",
    "print(p10_mutations)"
   ]
  },
  {
   "cell_type": "markdown",
   "metadata": {},
   "source": [
    "## Patients with mutation and patients with mutation in the hotspot"
   ]
  },
  {
   "cell_type": "code",
   "execution_count": 8,
   "metadata": {},
   "outputs": [
    {
     "name": "stdout",
     "output_type": "stream",
     "text": [
      "48\n",
      "19\n"
     ]
    }
   ],
   "source": [
    "print(len(p10_mutations.loc[p10_mutations['Within_Hotspot'] != 'Wildtype']))\n",
    "print(len(p10_mutations.loc[p10_mutations['Within_Hotspot'] == True]))"
   ]
  },
  {
   "cell_type": "code",
   "execution_count": 9,
   "metadata": {},
   "outputs": [],
   "source": [
    "#Build the protein list; this may have only a single protein if desired\n",
    "protList = ['IRS1', 'IRS2', 'RRAS', 'AKT2', 'NRAS', 'PTEN', 'AKT1', 'MRAS', 'HRAS', 'RPS6KB1', 'PIK3R1', 'PKC', 'MTOR', 'S6K', 'MAPK', 'ERBB3', 'P85A', 'P55G', 'CDK5']"
   ]
  },
  {
   "cell_type": "markdown",
   "metadata": {},
   "source": [
    "## Hotspot mutation vs non-hotspot mutation"
   ]
  },
  {
   "cell_type": "code",
   "execution_count": 10,
   "metadata": {},
   "outputs": [
    {
     "name": "stdout",
     "output_type": "stream",
     "text": [
      "Ttest_indResult(statistic=-1.2286446586536528, pvalue=0.22545390476387955)\n"
     ]
    }
   ],
   "source": [
    "in_hotspot = p10_mutations.loc[p10_mutations['Within_Hotspot'] == True]\n",
    "out_hotspot = p10_mutations.loc[p10_mutations['Within_Hotspot'] == False]\n",
    "ttest = scipy.stats.ttest_ind(in_hotspot[protein], out_hotspot[protein])\n",
    "print(ttest)"
   ]
  },
  {
   "cell_type": "markdown",
   "metadata": {},
   "source": [
    "## Hotspot mutation vs other mutations and wildtype"
   ]
  },
  {
   "cell_type": "code",
   "execution_count": 11,
   "metadata": {},
   "outputs": [
    {
     "name": "stdout",
     "output_type": "stream",
     "text": [
      "Ttest_indResult(statistic=-2.270602549581191, pvalue=0.025359967628122704)\n"
     ]
    }
   ],
   "source": [
    "mutated = p10_mutations.loc[p10_mutations['Within_Hotspot'] == True]\n",
    "wt = p10_mutations.loc[p10_mutations['Within_Hotspot'] != True]\n",
    "ttest = scipy.stats.ttest_ind(mutated[protein], wt[protein])\n",
    "print(ttest)"
   ]
  },
  {
   "cell_type": "markdown",
   "metadata": {},
   "source": [
    "## All mutations vs wildtype"
   ]
  },
  {
   "cell_type": "code",
   "execution_count": 12,
   "metadata": {},
   "outputs": [
    {
     "name": "stdout",
     "output_type": "stream",
     "text": [
      "Ttest_indResult(statistic=-2.5594983911383546, pvalue=0.012010830576504043)\n"
     ]
    }
   ],
   "source": [
    "mutated = p10_mutations.loc[p10_mutations['Within_Hotspot'] != 'Wildtype']\n",
    "wt = p10_mutations.loc[p10_mutations['Within_Hotspot'] == 'Wildtype']\n",
    "ttest = scipy.stats.ttest_ind(mutated[protein], wt[protein])\n",
    "print(ttest)"
   ]
  },
  {
   "cell_type": "markdown",
   "metadata": {},
   "source": [
    "## Hotspot mutation v wildtype"
   ]
  },
  {
   "cell_type": "code",
   "execution_count": 13,
   "metadata": {},
   "outputs": [
    {
     "name": "stdout",
     "output_type": "stream",
     "text": [
      "Ttest_indResult(statistic=-2.705132201045789, pvalue=0.008593903345120646)\n"
     ]
    }
   ],
   "source": [
    "mutated = p10_mutations.loc[p10_mutations['Within_Hotspot'] == True]\n",
    "wt = p10_mutations.loc[p10_mutations['Within_Hotspot'] == 'Wildtype']\n",
    "ttest = scipy.stats.ttest_ind(mutated[protein], wt[protein])\n",
    "print(ttest)"
   ]
  },
  {
   "cell_type": "code",
   "execution_count": 14,
   "metadata": {},
   "outputs": [
    {
     "data": {
      "image/png": "[encoded data removed]",
      "text/plain": [
       "<Figure size 842.4x595.44 with 1 Axes>"
      ]
     },
     "metadata": {
      "needs_background": "light"
     },
     "output_type": "display_data"
    }
   ],
   "source": [
    "a4_dims = (11.7, 8.27)\n",
    "fig, ax = plt.subplots(figsize = a4_dims)\n",
    "boxplt = sns.boxplot(data = p10_mutations, x = 'Within_Hotspot', y = protein, ax = ax)\n",
    "boxplt = sns.stripplot(data = p10_mutations, x = 'Within_Hotspot', y = protein, jitter = True, color = '.3')\n",
    "boxplt.set_title('Mutation location effect on PIK3CA abundance', fontsize='25')\n",
    "boxplt.set_xlabel('Mutation Within Hotspot', fontsize='20')\n",
    "boxplt.set_ylabel('Protein Level', fontsize='20')\n",
    "plt.show()"
   ]
  },
  {
   "cell_type": "markdown",
   "metadata": {},
   "source": [
    "# Phosphoproteomic Abundance"
   ]
  },
  {
   "cell_type": "code",
   "execution_count": 15,
   "metadata": {},
   "outputs": [],
   "source": [
    "p10_mutations = CPTAC.compare_mutations(phos, protein, gene)\n",
    "p10_mutations['Within_Hotspot'] = False\n",
    "p10_mutations.loc[hotspot_patients, 'Within_Hotspot'] = True\n",
    "p10_mutations.loc[p10_mutations['Mutation'] == 'Wildtype', 'Within_Hotspot'] = 'Wildtype'\n",
    "p10_mutations = p10_mutations.loc[p10_mutations['Patient_Type'] == 'Tumor'].dropna(axis=0)"
   ]
  },
  {
   "cell_type": "markdown",
   "metadata": {},
   "source": [
    "## Hotspot mutation vs non-hotspot mutation"
   ]
  },
  {
   "cell_type": "code",
   "execution_count": 16,
   "metadata": {},
   "outputs": [
    {
     "name": "stdout",
     "output_type": "stream",
     "text": [
      "PIK3CA-S312 Ttest_indResult(statistic=0.07815573255799868, pvalue=0.9392459295130927)\n",
      "PIK3CA-T313 Ttest_indResult(statistic=-0.720724676771127, pvalue=0.48758503533671316)\n"
     ]
    }
   ],
   "source": [
    "mutated = p10_mutations.loc[p10_mutations['Within_Hotspot'] == True]\n",
    "wt = p10_mutations.loc[p10_mutations['Within_Hotspot'] == False]\n",
    "phos_sites = ['PIK3CA-S312', 'PIK3CA-T313']\n",
    "for site in phos_sites:\n",
    "    ttest = scipy.stats.ttest_ind(mutated[site], wt[site])\n",
    "    print(site, ttest)"
   ]
  },
  {
   "cell_type": "markdown",
   "metadata": {},
   "source": [
    "## Hotspot mutation vs other mutations and wildtype"
   ]
  },
  {
   "cell_type": "code",
   "execution_count": 17,
   "metadata": {},
   "outputs": [
    {
     "name": "stdout",
     "output_type": "stream",
     "text": [
      "Ttest_indResult(statistic=-0.27882169992913575, pvalue=0.7831089209315338)\n",
      "Ttest_indResult(statistic=-1.2268996671628933, pvalue=0.2334383823483017)\n"
     ]
    }
   ],
   "source": [
    "mutated = p10_mutations.loc[p10_mutations['Within_Hotspot'] == True]\n",
    "wt = p10_mutations.loc[p10_mutations['Within_Hotspot'] != True]\n",
    "phos_sites = ['PIK3CA-S312', 'PIK3CA-T313']\n",
    "for site in phos_sites:\n",
    "    ttest = scipy.stats.ttest_ind(mutated[site], wt[site])\n",
    "    print(ttest)"
   ]
  },
  {
   "cell_type": "markdown",
   "metadata": {},
   "source": [
    "## All mutations vs wildtype"
   ]
  },
  {
   "cell_type": "code",
   "execution_count": 18,
   "metadata": {},
   "outputs": [
    {
     "name": "stdout",
     "output_type": "stream",
     "text": [
      "Ttest_indResult(statistic=-0.9282926192158756, pvalue=0.36380352488297274)\n",
      "Ttest_indResult(statistic=-1.1309017893812934, pvalue=0.27084703295497276)\n"
     ]
    }
   ],
   "source": [
    "mutated = p10_mutations.loc[p10_mutations['Within_Hotspot'] != 'Wildtype']\n",
    "wt = p10_mutations.loc[p10_mutations['Within_Hotspot'] == 'Wildtype']\n",
    "for site in phos_sites:\n",
    "    ttest = scipy.stats.ttest_ind(mutated[site], wt[site])\n",
    "    print(ttest)"
   ]
  },
  {
   "cell_type": "markdown",
   "metadata": {},
   "source": [
    "## Hotspot mutation v wildtype"
   ]
  },
  {
   "cell_type": "code",
   "execution_count": 19,
   "metadata": {},
   "outputs": [
    {
     "name": "stdout",
     "output_type": "stream",
     "text": [
      "Ttest_indResult(statistic=-0.48548827504596204, pvalue=0.6360731985694147)\n",
      "Ttest_indResult(statistic=-1.316863225403985, pvalue=0.21247893070988005)\n"
     ]
    }
   ],
   "source": [
    "mutated = p10_mutations.loc[p10_mutations['Within_Hotspot'] == True]\n",
    "wt = p10_mutations.loc[p10_mutations['Within_Hotspot'] == 'Wildtype']\n",
    "for site in phos_sites:\n",
    "    ttest = scipy.stats.ttest_ind(mutated[site], wt[site])\n",
    "    print(ttest)"
   ]
  },
  {
   "cell_type": "code",
   "execution_count": 20,
   "metadata": {},
   "outputs": [
    {
     "data": {
      "image/png": "[encoded data removed]",
      "text/plain": [
       "<Figure size 842.4x595.44 with 1 Axes>"
      ]
     },
     "metadata": {
      "needs_background": "light"
     },
     "output_type": "display_data"
    }
   ],
   "source": [
    "a4_dims = (11.7, 8.27)\n",
    "fig, ax = plt.subplots(figsize = a4_dims)\n",
    "boxplt = sns.boxplot(data = p10_mutations, x = 'Within_Hotspot', y = 'PIK3CA-T313', ax = ax)\n",
    "boxplt = sns.stripplot(data = p10_mutations, x = 'Within_Hotspot', y = 'PIK3CA-T313', jitter = True, color = '.3')\n",
    "boxplt.set_title('Mutation location effect on PIK3CA phosphoproteomic abundance', fontsize='25')\n",
    "boxplt.set_xlabel('Mutation Within Hotspot', fontsize='20')\n",
    "boxplt.set_ylabel('Protein Level', fontsize='20')\n",
    "plt.show()"
   ]
  },
  {
   "cell_type": "code",
   "execution_count": null,
   "metadata": {},
   "outputs": [],
   "source": []
  }
 ],
 "metadata": {
  "kernelspec": {
   "display_name": "Python 3",
   "language": "python",
   "name": "python3"
  },
  "language_info": {
   "codemirror_mode": {
    "name": "ipython",
    "version": 3
   },
   "file_extension": ".py",
   "mimetype": "text/x-python",
   "name": "python",
   "nbconvert_exporter": "python",
   "pygments_lexer": "ipython3",
   "version": "3.6.8"
  }
 },
 "nbformat": 4,
 "nbformat_minor": 2
}
