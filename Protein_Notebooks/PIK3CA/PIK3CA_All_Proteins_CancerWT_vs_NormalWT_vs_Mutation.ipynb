{
 "cells": [
  {
   "cell_type": "markdown",
   "metadata": {},
   "source": [
    "# Statistical Testing Templates for CPTAC Data"
   ]
  },
  {
   "cell_type": "markdown",
   "metadata": {},
   "source": [
    "<b>Standard imports for playing with and plotting data frames.</b>"
   ]
  },
  {
   "cell_type": "code",
   "execution_count": 1,
   "metadata": {},
   "outputs": [],
   "source": [
    "import pandas as pd\n",
    "import numpy as np\n",
    "import scipy.stats\n",
    "from scipy.stats import pearsonr\n",
    "import matplotlib.pyplot as plt\n",
    "import re\n",
    "import seaborn as sns\n",
    "import statsmodels.stats.multitest\n",
    "#import altair as alt\n",
    "#alt.renderers.enable('notebook') #Necessary for Altair to work"
   ]
  },
  {
   "cell_type": "code",
   "execution_count": 2,
   "metadata": {
    "scrolled": true
   },
   "outputs": [
    {
     "name": "stdout",
     "output_type": "stream",
     "text": [
      "Loading CPTAC data:\n",
      "Loading Dictionary...\n",
      "Loading Clinical Data...\n",
      "Loading Proteomics Data...\n",
      "Loading Transcriptomics Data...\n",
      "Loading CNA Data...\n",
      "Loading Phosphoproteomics Data...\n",
      "Loading Somatic Mutation Data...\n",
      "\n",
      " ******PLEASE READ******\n",
      "WARNING: This data is under a publication embargo until July 1, 2019.\n",
      "CPTAC is a community resource project and data are made available\n",
      "rapidly after generation for community research use. The embargo\n",
      "allows exploring and utilizing the data, but the data may not be in a\n",
      "publication until July 1, 2019. Please see\n",
      "https://proteomics.cancer.gov/data-portal/about/data-use-agreement or\n",
      "enter CPTAC.embargo() to open the webpage for more details.\n"
     ]
    }
   ],
   "source": [
    "import CPTAC"
   ]
  },
  {
   "cell_type": "code",
   "execution_count": 3,
   "metadata": {},
   "outputs": [],
   "source": [
    "somatic_mutations = CPTAC.get_somatic()\n",
    "proteomics = CPTAC.get_proteomics()\n",
    "phos = CPTAC.get_phosphoproteomics()\n",
    "\n",
    "#Try Looking at all proteins, not just interacting proteins\n",
    "all_proteins = list(proteomics.columns.values)"
   ]
  },
  {
   "cell_type": "markdown",
   "metadata": {},
   "source": [
    "### List of interacting proteins (according to STRING and Uniprot)"
   ]
  },
  {
   "cell_type": "code",
   "execution_count": 54,
   "metadata": {},
   "outputs": [],
   "source": [
    "#Build the protein list; this may have only a single protein if desired\n",
    "#protList = ['IRS1', 'IRS2', 'RRAS', 'AKT2', 'NRAS', 'PTEN', 'AKT1', 'MRAS', 'HRAS', 'RPS6KB1', 'PIK3R1', 'PKC', 'MTOR', 'S6K', 'MAPK', 'ERBB3', 'P85A', 'P55G', 'CDK5']\n",
    "protList = all_proteins"
   ]
  },
  {
   "cell_type": "markdown",
   "metadata": {},
   "source": [
    "### Test for phosphorylation levels (difference between cancer wildtype and normal wildtype"
   ]
  },
  {
   "cell_type": "code",
   "execution_count": 55,
   "metadata": {},
   "outputs": [],
   "source": [
    "#List of proteins (will test all phosphorylation sites on these proteins (all proteins) )\n",
    "phosProtList = protList"
   ]
  },
  {
   "cell_type": "code",
   "execution_count": null,
   "metadata": {},
   "outputs": [
    {
     "name": "stderr",
     "output_type": "stream",
     "text": [
      "/anaconda3/lib/python3.6/site-packages/numpy/core/fromnumeric.py:3157: RuntimeWarning: Degrees of freedom <= 0 for slice\n",
      "  **kwargs)\n",
      "/anaconda3/lib/python3.6/site-packages/numpy/core/_methods.py:132: RuntimeWarning: invalid value encountered in double_scalars\n",
      "  ret = ret.dtype.type(ret / rcount)\n"
     ]
    }
   ],
   "source": [
    "sites = phos.columns\n",
    "p_values = []\n",
    "p_values_wt_vs_mut_canc = []\n",
    "site_names = []\n",
    "gene = 'PIK3CA'\n",
    "\n",
    "for protein in phosProtList:\n",
    "    pattern = re.compile(protein)\n",
    "    isInList = filter(pattern.search, sites)\n",
    "    if next(isInList, None) is not None:\n",
    "        phosphositesdf = CPTAC.compare_mutations(phos, protein, gene).dropna(axis=0)\n",
    "        for site in phosphositesdf.columns:\n",
    "            '''just making sure not to do comparison on mutation column or patient_type column'''\n",
    "            if (site is not 'Mutation' and site is not 'Patient_Type'):\n",
    "                sitedf = CPTAC.compare_mutations(phos, site, gene).dropna(axis=0)\n",
    "                mutateddf = sitedf.loc[sitedf['Mutation'] != 'Wildtype'].dropna(axis=0)\n",
    "                wtdf = sitedf.loc[sitedf['Mutation'] == 'Wildtype'].dropna(axis=0)\n",
    "                '''Split the wildtype datafram into two, cancer wt vs normal wt'''\n",
    "                cancer_wtdf = wtdf.loc[wtdf['Patient_Type'] == \"Tumor\"].dropna(axis=0)\n",
    "                normal_wtdf = wtdf.loc[wtdf['Patient_Type'] == \"Normal\"].dropna(axis=0)\n",
    "                '''We do our t-test on these two datframes, comparing phosphorylation levels in cancer wt with normal wt'''\n",
    "                ttest = scipy.stats.ttest_ind(cancer_wtdf[site], normal_wtdf[site])\n",
    "                p_values.append(ttest[1])\n",
    "                site_names.append(site)\n",
    "                '''Do a second t-test to compare cancer mutation vs. cancer wildtype'''\n",
    "                ttest_wt_v_mut_canc = scipy.stats.ttest_ind(mutateddf[site], cancer_wtdf[site])\n",
    "                p_values_wt_vs_mut_canc.append(ttest_wt_v_mut_canc[1])\n",
    "\n",
    "\n",
    "#We need to remove all 'nan' p-values and their corresponding site names before passing it in for the fdr correction\n",
    "indexesToRemove=[]\n",
    "\n",
    "for index in range(0, len(p_values)):\n",
    "    if np.isnan(p_values[index]):\n",
    "        indexesToRemove.append(index)\n",
    "    if np.isnan(p_values_wt_vs_mut_canc[index]):\n",
    "        indexesToRemove.append(index)\n",
    "        \n",
    "indexesToRemove = list(set(indexesToRemove))\n",
    "indexesToRemove.sort()\n",
    "\n",
    "for rem in range( len(indexesToRemove)-1, -1, -1):\n",
    "    p_values.pop(indexesToRemove[rem])\n",
    "    p_values_wt_vs_mut_canc.pop(indexesToRemove[rem])\n",
    "    site_names.pop(indexesToRemove[rem])\n",
    "\n",
    "#p_values and site names have now had all entries removed where the corresponding p-value is 'nan'\n",
    "\n",
    "print(p_values)\n",
    "print(site_names)\n",
    "print(p_values_wt_vs_mut_canc)  \n",
    "\n",
    "print(len(p_values))\n",
    "print(len(p_values_wt_vs_mut_canc))\n",
    "print(len(site_names))"
   ]
  },
  {
   "cell_type": "markdown",
   "metadata": {},
   "source": [
    "### Seeing significance of P values using bonferroni correction"
   ]
  },
  {
   "cell_type": "code",
   "execution_count": null,
   "metadata": {},
   "outputs": [],
   "source": [
    "'''Account for multiple testing by adjusting the threshold p-value according to how many sites we tested (bonferroni correction)'''\n",
    "threshold_pval = .05/len(site_names)\n",
    "print(\"threshold_pval: \", threshold_pval)\n",
    "bonferonni_corrected_pvals = list()\n",
    "bonferonni_sig_sites = list()\n",
    "'''Add all the sites and p-values of the p-values that met our new threshold'''\n",
    "for ind in range(0, len(p_values)):\n",
    "    if p_values[ind] <= threshold_pval and p_values_wt_vs_mut_canc[ind] <= .05:\n",
    "        bonferonni_corrected_pvals.append(p_values[ind])\n",
    "        bonferonni_sig_sites.append(site_names[ind])\n",
    "        \n",
    "        \n",
    "bf_significant_vals = dict(zip(bonferonni_sig_sites, bonferonni_corrected_pvals))"
   ]
  },
  {
   "cell_type": "markdown",
   "metadata": {},
   "source": [
    "### Print signifcant site names and p-values"
   ]
  },
  {
   "cell_type": "code",
   "execution_count": null,
   "metadata": {},
   "outputs": [],
   "source": [
    "for key in sorted(bf_significant_vals):\n",
    "    print(key, bf_significant_vals[key])\n",
    "\n",
    "print(len(bonferonni_sig_sites))\n",
    "print(len(bonferonni_corrected_pvals))\n",
    "print(len(site_names))"
   ]
  },
  {
   "cell_type": "markdown",
   "metadata": {},
   "source": [
    "### Use FDR Correction"
   ]
  },
  {
   "cell_type": "code",
   "execution_count": null,
   "metadata": {},
   "outputs": [],
   "source": [
    "pvalues = statsmodels.stats.multitest.fdrcorrection(p_values,alpha=0.05, method='indep')[1]         \n",
    "areSignificant = statsmodels.stats.multitest.fdrcorrection(p_values,alpha=0.05, method='indep')[0]\n",
    "\n",
    "significant_sites = np.array(site_names)[np.array(areSignificant)]\n",
    "significant_pvalues = np.array(pvalues)[np.array(areSignificant)]\n",
    "significant_vals = dict(zip(significant_sites, significant_pvalues))\n",
    "\n",
    "print(\"\\nSignificant values (FDR): \", significant_vals)\n",
    "\n",
    "print(len(significant_sites))"
   ]
  },
  {
   "cell_type": "markdown",
   "metadata": {},
   "source": [
    "### Plot phosphorylation levels and gene mutation"
   ]
  },
  {
   "cell_type": "code",
   "execution_count": 53,
   "metadata": {},
   "outputs": [
    {
     "name": "stderr",
     "output_type": "stream",
     "text": [
      "/anaconda3/lib/python3.6/site-packages/ipykernel_launcher.py:18: FutureWarning: set_value is deprecated and will be removed in a future release. Please use .at[] or .iat[] accessors instead\n",
      "/anaconda3/lib/python3.6/site-packages/ipykernel_launcher.py:20: FutureWarning: set_value is deprecated and will be removed in a future release. Please use .at[] or .iat[] accessors instead\n",
      "/anaconda3/lib/python3.6/site-packages/ipykernel_launcher.py:25: FutureWarning: set_value is deprecated and will be removed in a future release. Please use .at[] or .iat[] accessors instead\n"
     ]
    },
    {
     "data": {
      "text/plain": [
       "[Text(0, 0.5, 'Phosphoproteomics'), Text(0.5, 0, 'Mutation and Patient Type')]"
      ]
     },
     "execution_count": 53,
     "metadata": {},
     "output_type": "execute_result"
    },
    {
     "data": {
      "image/png": "[encoded data removed]",
      "text/plain": [
       "<Figure size 432x288 with 1 Axes>"
      ]
     },
     "metadata": {
      "needs_background": "light"
     },
     "output_type": "display_data"
    }
   ],
   "source": [
    "#Specify the gene and the site; you may use a string to specify the site or reference the significant results above\n",
    "\n",
    "gene = 'PIK3CA'\n",
    "\n",
    "site=\"IRS1-S1100\"\n",
    "\n",
    "#Build the dataframe for plotting\n",
    "genedf = CPTAC.compare_mutations(phos, site, gene)\n",
    "\n",
    "'''First get all the instances where mutation != wildtype'''\n",
    "mutationdf = genedf.loc[genedf['Mutation'] != 'Wildtype'].drop('Mutation', axis = 1).dropna(axis=0)\n",
    "\n",
    "'''Get all wildtype cases, change name of patient type to wildtype tumor or wildtype normal depending on patienttype'''\n",
    "genedf = genedf.loc[genedf['Mutation'] == 'Wildtype'].drop('Mutation', axis = 1).dropna(axis=0)\n",
    "for i, row in genedf.iterrows():\n",
    "    id = i\n",
    "    if row['Patient_Type'] == 'Tumor':\n",
    "        genedf.set_value(id,'Patient_Type','Wildtype Tumor')\n",
    "    if row['Patient_Type'] == 'Normal':\n",
    "        genedf.set_value(id,'Patient_Type','Wildtype Normal')\n",
    "\n",
    "'''Change name of patient type in mutationdf to mutation tumor'''        \n",
    "for i, row in mutationdf.iterrows():\n",
    "    id = i\n",
    "    mutationdf.set_value(id,'Patient_Type','Mutation Tumor')\n",
    "\n",
    "'''Merge the two dataframes'''\n",
    "frames = [genedf, mutationdf]\n",
    "merged = pd.concat(frames)\n",
    "\n",
    "'''Plot the data, comparing wildtype cancer, wildtype normal, and mutated cancer'''\n",
    "phos_boxplot = sns.boxplot(data=merged, x=\"Patient_Type\",y=site)\n",
    "phos_boxplot.set_title(gene + \" WildType in Tumor and Normal Patients vs \" + site + \" phosphorylation levels\")\n",
    "phos_boxplot = sns.stripplot(data=merged, x=\"Patient_Type\", y=site,jitter=True, color=\".3\")\n",
    "phos_boxplot.set(xlabel=\"Mutation and Patient Type\",ylabel=\"Phosphoproteomics\")\n"
   ]
  },
  {
   "cell_type": "code",
   "execution_count": null,
   "metadata": {},
   "outputs": [],
   "source": []
  }
 ],
 "metadata": {
  "kernelspec": {
   "display_name": "Python 3",
   "language": "python",
   "name": "python3"
  },
  "language_info": {
   "codemirror_mode": {
    "name": "ipython",
    "version": 3
   },
   "file_extension": ".py",
   "mimetype": "text/x-python",
   "name": "python",
   "nbconvert_exporter": "python",
   "pygments_lexer": "ipython3",
   "version": "3.6.8"
  }
 },
 "nbformat": 4,
 "nbformat_minor": 2
}
