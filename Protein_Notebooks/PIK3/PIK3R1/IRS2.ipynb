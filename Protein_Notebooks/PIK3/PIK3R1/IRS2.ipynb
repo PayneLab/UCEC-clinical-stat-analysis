{
 "cells": [
  {
   "cell_type": "code",
   "execution_count": 1,
   "metadata": {},
   "outputs": [
    {
     "data": {
      "text/plain": [
       "RendererRegistry.enable('notebook')"
      ]
     },
     "execution_count": 1,
     "metadata": {},
     "output_type": "execute_result"
    }
   ],
   "source": [
    "import pandas as pd\n",
    "import numpy as np\n",
    "import scipy.stats\n",
    "from scipy.stats import pearsonr\n",
    "import matplotlib.pyplot as plt\n",
    "import seaborn as sns\n",
    "import altair as alt\n",
    "\n",
    "alt.renderers.enable('notebook')"
   ]
  },
  {
   "cell_type": "markdown",
   "metadata": {},
   "source": [
    "<b> Import CPTAC </b>"
   ]
  },
  {
   "cell_type": "code",
   "execution_count": 2,
   "metadata": {},
   "outputs": [
    {
     "name": "stdout",
     "output_type": "stream",
     "text": [
      "Loading Clinical Data...\n",
      "Loading Proteomics Data...\n",
      "Loading Transcriptomics Data...\n",
      "Loading CNA Data...\n",
      "Loading Phosphoproteomics Data...\n",
      "Loading Somatic Data...\n",
      "\n",
      " ******PLEASE READ******\n",
      "WARNING: This data is under a publication embargo until July 1, 2019. CPTAC is a community resource project and data are made available rapidly after generation for community research use. The embargo allows exploring and utilizing the data, but the data may not be in a publication until July 1, 2019. Please see https://proteomics.cancer.gov/data-portal/about/data-use-agreement, or enter CPTAC.embargo() to open the webpage for more details.\n"
     ]
    }
   ],
   "source": [
    "import CPTAC"
   ]
  },
  {
   "cell_type": "code",
   "execution_count": 3,
   "metadata": {},
   "outputs": [],
   "source": [
    "somatic_mutations = CPTAC.get_somatic()\n",
    "proteomics = CPTAC.get_proteomics()\n",
    "phos = CPTAC.get_phosphoproteomics()"
   ]
  },
  {
   "cell_type": "markdown",
   "metadata": {},
   "source": [
    "# Difference in protein abundance "
   ]
  },
  {
   "cell_type": "code",
   "execution_count": 5,
   "metadata": {},
   "outputs": [
    {
     "name": "stdout",
     "output_type": "stream",
     "text": [
      "0.05\n",
      "Test for IRS2: \n",
      "Ttest_indResult(statistic=-4.387580404733772, pvalue=3.20389610243306e-05)\n"
     ]
    }
   ],
   "source": [
    "gene = 'PIK3R1'\n",
    "protList = ['IRS2']\n",
    "\n",
    "pcutoff = 0.05/len(protList)\n",
    "print(pcutoff)\n",
    "\n",
    "genedf = somatic_mutations[gene].to_frame()\n",
    "for protein in protList:\n",
    "    if protein in proteomics.columns:\n",
    "        proteindf = proteomics[protein].to_frame()\n",
    "        proteinfindName = protein + \"protein\"\n",
    "        proteindf.columns = [proteinfindName]\n",
    "        cross = genedf.add(proteindf, fill_value=0).dropna(axis=0)\n",
    "        mutated = cross.loc[cross[gene] == 1.0]\n",
    "        wt = cross.loc[cross[gene] == 0.0]\n",
    "        ttest = scipy.stats.ttest_ind(mutated[proteinfindName], wt[proteinfindName])\n",
    "        print(\"Test for \" + protein + \": \")\n",
    "        print(ttest)"
   ]
  },
  {
   "cell_type": "markdown",
   "metadata": {},
   "source": [
    "<b> Plot the data </b>"
   ]
  },
  {
   "cell_type": "code",
   "execution_count": 6,
   "metadata": {},
   "outputs": [
    {
     "data": {
      "text/plain": [
       "[Text(0, 0.5, 'Proteomics'), Text(0.5, 0, 'Somatic Gene Mutation')]"
      ]
     },
     "execution_count": 6,
     "metadata": {},
     "output_type": "execute_result"
    },
    {
     "data": {
      "image/png": "[encoded data removed]",
      "text/plain": [
       "<Figure size 432x288 with 1 Axes>"
      ]
     },
     "metadata": {
      "needs_background": "light"
     },
     "output_type": "display_data"
    }
   ],
   "source": [
    "somatic_boxplot = sns.boxplot(data=cross, x=gene ,y=proteinfindName)\n",
    "somatic_boxplot.set_title(gene + \" gene mutation and \" + protList[0] + \" protein abundance\")\n",
    "somatic_boxplot = sns.stripplot(data=cross, x=gene, y=proteinfindName,jitter=True, color=\".3\")\n",
    "somatic_boxplot.set(xlabel=\"Somatic Gene Mutation\",ylabel=\"Proteomics\")"
   ]
  },
  {
   "cell_type": "markdown",
   "metadata": {},
   "source": [
    "# Difference in phosphoproteome abundance "
   ]
  },
  {
   "cell_type": "code",
   "execution_count": 9,
   "metadata": {},
   "outputs": [
    {
     "name": "stdout",
     "output_type": "stream",
     "text": [
      "0.0038461538461538464\n",
      "Results for IRS2-S1100: \n",
      "Ttest_indResult(statistic=-4.019029388226416, pvalue=0.0001505481884237998)\n",
      "Results for IRS2-S679: \n",
      "Ttest_indResult(statistic=-3.5414593756235186, pvalue=0.0007181350946428204)\n",
      "Results for IRS2-S731: \n",
      "Ttest_indResult(statistic=-4.2075513087547245, pvalue=8.333919696760065e-05)\n"
     ]
    }
   ],
   "source": [
    "gene = 'PIK3R1'\n",
    "sites = phos.filter(regex='IRS2')\n",
    "sigResults = [];\n",
    "\n",
    "genedf = somatic_mutations[gene].to_frame()\n",
    "cross = genedf.add(sites, fill_value=0)\n",
    "mutated = cross.loc[cross[gene] == 1.0]\n",
    "wt = cross.loc[cross[gene] == 0.0]\n",
    "\n",
    "pcutoff = 0.05/len(cross.columns)\n",
    "print(pcutoff)\n",
    "#pcutoff = 1\n",
    "\n",
    "for loc in cross.columns:\n",
    "    if not loc == gene:\n",
    "        mutsitedf = mutated[[gene, loc]].dropna()\n",
    "        wtsitedf = wt[[gene, loc]].dropna()\n",
    "        ttest = scipy.stats.ttest_ind(mutsitedf[loc], wtsitedf[loc])\n",
    "        if ttest[1] <= pcutoff:\n",
    "            sigResults.append(loc)\n",
    "            print('Results for ' + loc + ': ')\n",
    "            print(ttest)"
   ]
  },
  {
   "cell_type": "markdown",
   "metadata": {},
   "source": [
    "<b> Plot the data </b>"
   ]
  },
  {
   "cell_type": "code",
   "execution_count": 10,
   "metadata": {},
   "outputs": [
    {
     "data": {
      "text/plain": [
       "[Text(0, 0.5, 'Phosphoproteomics'), Text(0.5, 0, 'Somatic Gene Mutation')]"
      ]
     },
     "execution_count": 10,
     "metadata": {},
     "output_type": "execute_result"
    },
    {
     "data": {
      "image/png": "[encoded data removed]",
      "text/plain": [
       "<Figure size 432x288 with 1 Axes>"
      ]
     },
     "metadata": {
      "needs_background": "light"
     },
     "output_type": "display_data"
    }
   ],
   "source": [
    "x = 0\n",
    "somatic_boxplot = sns.boxplot(data=cross, x=gene ,y=sigResults[x])\n",
    "somatic_boxplot.set_title(gene + \" gene mutation and \" + sigResults[x] + \" phosphorylation levels\")\n",
    "somatic_boxplot = sns.stripplot(data=cross, x=gene, y=sigResults[x],jitter=True, color=\".3\")\n",
    "somatic_boxplot.set(xlabel=\"Somatic Gene Mutation\",ylabel=\"Phosphoproteomics\")"
   ]
  },
  {
   "cell_type": "markdown",
   "metadata": {},
   "source": [
    "<b> Conclusion: Protein and phosphoprotein abundance are lower when PIK3R1 is mutated </b>"
   ]
  },
  {
   "cell_type": "code",
   "execution_count": null,
   "metadata": {},
   "outputs": [],
   "source": []
  }
 ],
 "metadata": {
  "kernelspec": {
   "display_name": "Python 3",
   "language": "python",
   "name": "python3"
  },
  "language_info": {
   "codemirror_mode": {
    "name": "ipython",
    "version": 3
   },
   "file_extension": ".py",
   "mimetype": "text/x-python",
   "name": "python",
   "nbconvert_exporter": "python",
   "pygments_lexer": "ipython3",
   "version": "3.7.0"
  }
 },
 "nbformat": 4,
 "nbformat_minor": 2
}
