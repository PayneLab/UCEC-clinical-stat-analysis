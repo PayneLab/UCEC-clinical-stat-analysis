{
 "cells": [
  {
   "cell_type": "markdown",
   "metadata": {},
   "source": [
    "# PIK3CA: Effects of Mutation"
   ]
  },
  {
   "cell_type": "markdown",
   "metadata": {},
   "source": [
    "<b> Standard imports for playing with and plotting data frames. </b>"
   ]
  },
  {
   "cell_type": "code",
   "execution_count": 1,
   "metadata": {},
   "outputs": [],
   "source": [
    "import pandas as pd\n",
    "import numpy as np\n",
    "import scipy.stats\n",
    "from scipy.stats import pearsonr\n",
    "import matplotlib.pyplot as plt\n",
    "import seaborn as sns\n",
    "import re\n",
    "#import altair as alt\n",
    "\n",
    "#alt.renderers.enable('notebook')\n"
   ]
  },
  {
   "cell_type": "markdown",
   "metadata": {},
   "source": [
    "<b> Import CPTAC </b>"
   ]
  },
  {
   "cell_type": "code",
   "execution_count": 2,
   "metadata": {},
   "outputs": [
    {
     "name": "stdout",
     "output_type": "stream",
     "text": [
      "Loading Clinical Data...\n",
      "Loading Proteomics Data...\n",
      "Loading Transcriptomics Data...\n",
      "Loading CNA Data...\n",
      "Loading Phosphoproteomics Data...\n",
      "Loading Somatic Data...\n",
      "\n",
      " ******PLEASE READ******\n",
      "WARNING: This data is under a publication embargo until July 1, 2019. CPTAC is a community resource project and data are made available rapidly after generation for community research use. The embargo allows exploring and utilizing the data, but the data may not be in a publication until July 1, 2019. Please see https://proteomics.cancer.gov/data-portal/about/data-use-agreement or enter CPTAC.embargo() to open the webpage for more details.\n"
     ]
    }
   ],
   "source": [
    "import CPTAC"
   ]
  },
  {
   "cell_type": "code",
   "execution_count": 3,
   "metadata": {},
   "outputs": [],
   "source": [
    "somatic_mutations = CPTAC.get_somatic()\n",
    "proteomics = CPTAC.get_proteomics()\n",
    "phos = CPTAC.get_phosphoproteomics()"
   ]
  },
  {
   "cell_type": "markdown",
   "metadata": {},
   "source": [
    "<b> List of proteins that interact with PIK3R1 (according to STRING) </b>"
   ]
  },
  {
   "cell_type": "code",
   "execution_count": 4,
   "metadata": {},
   "outputs": [],
   "source": [
    "protList = ['IRS1', 'IRS2', 'AKT1', 'AKT2', 'CDK', 'P55G', 'ERBB3', 'P85A', 'MRAS', 'NRAS', 'RRAS', 'PDK1', 'CDK1', 'PTEN','PIK3R1']"
   ]
  },
  {
   "cell_type": "markdown",
   "metadata": {},
   "source": [
    "<b> Proteome abundance of proteins that interact with PIK3R1 </b>"
   ]
  },
  {
   "cell_type": "code",
   "execution_count": 5,
   "metadata": {},
   "outputs": [
    {
     "ename": "AttributeError",
     "evalue": "module 'CPTAC' has no attribute 'merge_mutations'",
     "output_type": "error",
     "traceback": [
      "\u001b[0;31m---------------------------------------------------------------------------\u001b[0m",
      "\u001b[0;31mAttributeError\u001b[0m                            Traceback (most recent call last)",
      "\u001b[0;32m<ipython-input-5-d9ae2b557802>\u001b[0m in \u001b[0;36m<module>\u001b[0;34m\u001b[0m\n\u001b[1;32m      5\u001b[0m \u001b[0;32mfor\u001b[0m \u001b[0mprotein\u001b[0m \u001b[0;32min\u001b[0m \u001b[0mprotList\u001b[0m\u001b[0;34m:\u001b[0m\u001b[0;34m\u001b[0m\u001b[0;34m\u001b[0m\u001b[0m\n\u001b[1;32m      6\u001b[0m     \u001b[0;32mif\u001b[0m \u001b[0mprotein\u001b[0m \u001b[0;32min\u001b[0m \u001b[0mproteomics\u001b[0m\u001b[0;34m.\u001b[0m\u001b[0mcolumns\u001b[0m\u001b[0;34m:\u001b[0m\u001b[0;34m\u001b[0m\u001b[0;34m\u001b[0m\u001b[0m\n\u001b[0;32m----> 7\u001b[0;31m         \u001b[0mcross\u001b[0m \u001b[0;34m=\u001b[0m \u001b[0mCPTAC\u001b[0m\u001b[0;34m.\u001b[0m\u001b[0mmerge_mutations\u001b[0m\u001b[0;34m(\u001b[0m\u001b[0mproteomics\u001b[0m\u001b[0;34m,\u001b[0m \u001b[0mprotein\u001b[0m\u001b[0;34m,\u001b[0m \u001b[0mgene\u001b[0m\u001b[0;34m)\u001b[0m\u001b[0;34m\u001b[0m\u001b[0;34m\u001b[0m\u001b[0m\n\u001b[0m\u001b[1;32m      8\u001b[0m         \u001b[0mcross\u001b[0m \u001b[0;34m=\u001b[0m \u001b[0mcross\u001b[0m\u001b[0;34m[\u001b[0m\u001b[0;34m[\u001b[0m\u001b[0;34m\"Mutation\"\u001b[0m\u001b[0;34m,\u001b[0m \u001b[0mprotein\u001b[0m\u001b[0;34m]\u001b[0m\u001b[0;34m]\u001b[0m\u001b[0;34m.\u001b[0m\u001b[0mdropna\u001b[0m\u001b[0;34m(\u001b[0m\u001b[0maxis\u001b[0m\u001b[0;34m=\u001b[0m\u001b[0;36m0\u001b[0m\u001b[0;34m)\u001b[0m\u001b[0;34m\u001b[0m\u001b[0;34m\u001b[0m\u001b[0m\n\u001b[1;32m      9\u001b[0m         \u001b[0mmutated\u001b[0m \u001b[0;34m=\u001b[0m \u001b[0mcross\u001b[0m\u001b[0;34m.\u001b[0m\u001b[0mloc\u001b[0m\u001b[0;34m[\u001b[0m\u001b[0mcross\u001b[0m\u001b[0;34m[\u001b[0m\u001b[0;34m\"Mutation\"\u001b[0m\u001b[0;34m]\u001b[0m \u001b[0;34m!=\u001b[0m \u001b[0;34m\"Wildtype\"\u001b[0m\u001b[0;34m]\u001b[0m\u001b[0;34m\u001b[0m\u001b[0;34m\u001b[0m\u001b[0m\n",
      "\u001b[0;31mAttributeError\u001b[0m: module 'CPTAC' has no attribute 'merge_mutations'"
     ]
    }
   ],
   "source": [
    "pcutoff = 0.05 / len(protList)\n",
    "gene = 'PIK3CA'\n",
    "\n",
    "sigResults = [];\n",
    "for protein in protList: \n",
    "    if protein in proteomics.columns:\n",
    "        cross = CPTAC.merge_mutations(proteomics, protein, gene)\n",
    "        cross = cross[[\"Mutation\", protein]].dropna(axis=0)\n",
    "        mutated = cross.loc[cross[\"Mutation\"] != \"Wildtype\"]\n",
    "        wt = cross.loc[cross[\"Mutation\"] == \"Wildtype\"]\n",
    "        ttest = scipy.stats.ttest_ind(mutated[protein], wt[protein])\n",
    "        if(ttest[1] <= pcutoff):\n",
    "            sigResults.append(protein)\n",
    "            print(\"Test for \" + protein + \": \")\n",
    "            print(ttest) "
   ]
  },
  {
   "cell_type": "markdown",
   "metadata": {},
   "source": [
    "<b> Print the list of proteins with significant results </b>"
   ]
  },
  {
   "cell_type": "code",
   "execution_count": null,
   "metadata": {},
   "outputs": [],
   "source": [
    "print(sigResults)"
   ]
  },
  {
   "cell_type": "markdown",
   "metadata": {},
   "source": [
    "### Phosphoproteome abundance of interacting proteins"
   ]
  },
  {
   "cell_type": "code",
   "execution_count": null,
   "metadata": {},
   "outputs": [],
   "source": [
    "phosProtList = ['IRS1', 'IRS2', 'AKT1', 'AKT2', 'P55G', 'ERBB3', 'P85A', 'MRAS', 'PTEN', 'RPS6KB1', 'PI3KR1']"
   ]
  },
  {
   "cell_type": "code",
   "execution_count": null,
   "metadata": {},
   "outputs": [],
   "source": [
    "sites = phos.columns;\n",
    "significantPhosResults = [];\n",
    "totalSites = 0\n",
    "\n",
    "for protein in phosProtList:\n",
    "    matchesdf = phos.filter(regex=protein)\n",
    "    totalSites += len(matchesdf.columns)\n",
    "\n",
    "pcutoff = 0.05 / totalSites\n",
    "print(pcutoff)\n",
    "#pcutoff = 1\n",
    "    \n",
    "    \n",
    "\n",
    "for protein in phosProtList:\n",
    "    pattern = re.compile(protein)\n",
    "    isInList = filter(pattern.search, sites)\n",
    "    if next(isInList, None) is not None:\n",
    "        phosphositesdf = CPTAC.merge_mutations(phos, protein, gene)\n",
    "        for site in phosphositesdf.columns:\n",
    "            if (site is not 'Mutation'):\n",
    "                sitedf = CPTAC.merge_mutations(phos, site, gene)\n",
    "                mutateddf = sitedf.loc[sitedf['Mutation'] == 'Missense_Mutation'].dropna(axis=0)\n",
    "                wtdf = sitedf.loc[sitedf['Mutation'] == 'Wildtype'].dropna(axis=0)\n",
    "                ttest = scipy.stats.ttest_ind(mutateddf[site], wtdf[site])\n",
    "                if(ttest[1] <= pcutoff):\n",
    "                    significantPhosResults.append(site)\n",
    "                    print(\"Test for \" + site + \": \")\n",
    "                    print(ttest)   "
   ]
  },
  {
   "cell_type": "markdown",
   "metadata": {},
   "source": [
    "## Let's investigate another protein that is involed with the PI3K signal pathway: PDK1"
   ]
  },
  {
   "cell_type": "markdown",
   "metadata": {},
   "source": [
    " One study shows that IRS1 recruits PDK1, which plays an important role in regulating regeneration and degeneration of PIP3 (https://academic.oup.com/mend/article/21/9/2294/2738656)"
   ]
  },
  {
   "cell_type": "code",
   "execution_count": null,
   "metadata": {},
   "outputs": [],
   "source": []
  }
 ],
 "metadata": {
  "kernelspec": {
   "display_name": "Python 3",
   "language": "python",
   "name": "python3"
  },
  "language_info": {
   "codemirror_mode": {
    "name": "ipython",
    "version": 3
   },
   "file_extension": ".py",
   "mimetype": "text/x-python",
   "name": "python",
   "nbconvert_exporter": "python",
   "pygments_lexer": "ipython3",
   "version": "3.7.0"
  }
 },
 "nbformat": 4,
 "nbformat_minor": 2
}
