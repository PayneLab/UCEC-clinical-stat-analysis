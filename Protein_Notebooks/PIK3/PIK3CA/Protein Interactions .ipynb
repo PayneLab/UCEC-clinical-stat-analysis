{
 "cells": [
  {
   "cell_type": "markdown",
   "metadata": {},
   "source": [
    "# PIK3R1: Effects of Mutation"
   ]
  },
  {
   "cell_type": "markdown",
   "metadata": {},
   "source": [
    "<b> Standard imports for playing with and plotting data frames. </b>"
   ]
  },
  {
   "cell_type": "code",
   "execution_count": 6,
   "metadata": {},
   "outputs": [
    {
     "data": {
      "text/plain": [
       "RendererRegistry.enable('notebook')"
      ]
     },
     "execution_count": 6,
     "metadata": {},
     "output_type": "execute_result"
    }
   ],
   "source": [
    "import pandas as pd\n",
    "import numpy as np\n",
    "import scipy.stats\n",
    "from scipy.stats import pearsonr\n",
    "import matplotlib.pyplot as plt\n",
    "import seaborn as sns\n",
    "import altair as alt\n",
    "\n",
    "alt.renderers.enable('notebook')\n"
   ]
  },
  {
   "cell_type": "markdown",
   "metadata": {},
   "source": [
    "<b> Import CPTAC </b>"
   ]
  },
  {
   "cell_type": "code",
   "execution_count": 7,
   "metadata": {},
   "outputs": [],
   "source": [
    "import CPTAC"
   ]
  },
  {
   "cell_type": "code",
   "execution_count": 8,
   "metadata": {},
   "outputs": [],
   "source": [
    "somatic_mutations = CPTAC.get_somatic()\n",
    "proteomics = CPTAC.get_proteomics()\n",
    "phos = CPTAC.get_phosphoproteomics()"
   ]
  },
  {
   "cell_type": "markdown",
   "metadata": {},
   "source": [
    "<b> List of proteins that interact with PIK3R1 (according to STRING) </b>"
   ]
  },
  {
   "cell_type": "code",
   "execution_count": 9,
   "metadata": {},
   "outputs": [],
   "source": [
    "protList = ['IRS1', 'IRS2', 'ATK1', 'P55G', 'ERBB3', 'P85A', 'MRAS', 'PTEN', 'RPS6KB1']"
   ]
  },
  {
   "cell_type": "markdown",
   "metadata": {},
   "source": [
    "<b> Proteome abundance of proteins that interact with PIK3R1 </b>"
   ]
  },
  {
   "cell_type": "code",
   "execution_count": 10,
   "metadata": {},
   "outputs": [
    {
     "name": "stdout",
     "output_type": "stream",
     "text": [
      "0.005555555555555556\n",
      "Test for IRS1: \n",
      "Ttest_indResult(statistic=-0.5083089884962738, pvalue=0.6123789928887791)\n",
      "Test for IRS2: \n",
      "Ttest_indResult(statistic=-1.968743995892205, pvalue=0.052165788180294895)\n",
      "Test for ERBB3: \n",
      "Ttest_indResult(statistic=-1.387261936761837, pvalue=0.16850875255007064)\n",
      "Test for MRAS: \n",
      "Ttest_indResult(statistic=-0.673913401424868, pvalue=0.5023089469279987)\n",
      "Test for PTEN: \n",
      "Ttest_indResult(statistic=-1.3001667298575024, pvalue=0.1965933724559433)\n",
      "Test for RPS6KB1: \n",
      "Ttest_indResult(statistic=-1.7815482303633114, pvalue=0.07792065877566294)\n"
     ]
    }
   ],
   "source": [
    "gene = 'PIK3CA'\n",
    "\n",
    "\n",
    "pcutoff = 0.05/len(protList)\n",
    "print(pcutoff)\n",
    "\n",
    "genedf = somatic_mutations[gene].to_frame()\n",
    "for protein in protList:\n",
    "    if protein in proteomics.columns:\n",
    "        proteindf = proteomics[protein].to_frame()\n",
    "        proteinfindName = protein + \"protein\"\n",
    "        proteindf.columns = [proteinfindName]\n",
    "        cross = genedf.add(proteindf, fill_value=0).dropna(axis=0)\n",
    "        mutated = cross.loc[cross[gene] == 1.0]\n",
    "        wt = cross.loc[cross[gene] == 0.0]\n",
    "        ttest = scipy.stats.ttest_ind(mutated[proteinfindName], wt[proteinfindName])\n",
    "        print(\"Test for \" + protein + \": \")\n",
    "        print(ttest)"
   ]
  },
  {
   "cell_type": "markdown",
   "metadata": {},
   "source": [
    "### Phosphoproteome abundance of interacting proteins"
   ]
  },
  {
   "cell_type": "code",
   "execution_count": 12,
   "metadata": {},
   "outputs": [],
   "source": [
    "phosProtList = ['IRS1', 'ATK1', 'P55G', 'ERBB3', 'P85A', 'MRAS', 'PTEN', 'RPS6KB1']"
   ]
  },
  {
   "cell_type": "code",
   "execution_count": 14,
   "metadata": {},
   "outputs": [
    {
     "name": "stdout",
     "output_type": "stream",
     "text": [
      "0.001851851851851852\n",
      "Results for ERBB3-S686: \n",
      "Ttest_indResult(statistic=-1.6715990106369498, pvalue=0.09856021027975978)\n",
      "Results for IRS1-S1005: \n",
      "Ttest_indResult(statistic=-0.9690977556578986, pvalue=0.3365203953002731)\n",
      "Results for IRS1-S1100: \n",
      "Ttest_indResult(statistic=-2.144151151356816, pvalue=0.035056594434805)\n",
      "Results for IRS1-S1101: \n",
      "Ttest_indResult(statistic=-2.098899731593709, pvalue=0.038979458432090074)\n",
      "Results for IRS1-S1134: \n",
      "Ttest_indResult(statistic=-1.770797347381606, pvalue=0.08055195840145042)\n",
      "Results for IRS1-S270: \n",
      "Ttest_indResult(statistic=-0.7860248714648148, pvalue=0.4337493578683552)\n",
      "Results for IRS1-S312: \n",
      "Ttest_indResult(statistic=1.3429173455723695, pvalue=0.18561470344519224)\n",
      "Results for IRS1-S323: \n",
      "Ttest_indResult(statistic=-0.5485686919133093, pvalue=0.5847228047850945)\n",
      "Results for IRS1-S330: \n",
      "Ttest_indResult(statistic=-1.093938678842869, pvalue=0.27814694985592836)\n",
      "Results for IRS1-S337: \n",
      "Ttest_indResult(statistic=0.4798182866151812, pvalue=0.6325746861136163)\n",
      "Results for IRS1-S348: \n",
      "Ttest_indResult(statistic=-0.14935866809247728, pvalue=0.881733079425064)\n",
      "Results for IRS1-S374: \n",
      "Ttest_indResult(statistic=-0.10191057508786826, pvalue=0.9191565374601931)\n",
      "Results for IRS1-S413: \n",
      "Ttest_indResult(statistic=-0.43227024778175394, pvalue=0.6674808458992423)\n",
      "Results for IRS1-S415: \n",
      "Ttest_indResult(statistic=-1.8418771356736203, pvalue=0.07020092773381807)\n",
      "Results for IRS1-S419: \n",
      "Ttest_indResult(statistic=-1.184904276685606, pvalue=0.23914057981493891)\n",
      "Results for IRS1-S421: \n",
      "Ttest_indResult(statistic=-0.9846121562463936, pvalue=0.32764219023746255)\n",
      "Results for IRS1-S527: \n",
      "Ttest_indResult(statistic=0.020008118223419125, pvalue=0.9840802262632453)\n",
      "Results for IRS1-S531: \n",
      "Ttest_indResult(statistic=-0.6797082767342767, pvalue=0.4983959003978983)\n",
      "Results for IRS1-S629: \n",
      "Ttest_indResult(statistic=-0.7425871881562727, pvalue=0.45977894043451784)\n",
      "Results for IRS1-S636: \n",
      "Ttest_indResult(statistic=0.45170761264623555, pvalue=0.6530067422791852)\n",
      "Results for IRS1-S672: \n",
      "Ttest_indResult(statistic=-1.0221910151234592, pvalue=0.3117108171458467)\n",
      "Results for PTEN-S467: \n",
      "Ttest_indResult(statistic=0.1988775346087565, pvalue=0.8428279682684179)\n",
      "Results for PTEN-S558: \n",
      "Ttest_indResult(statistic=-1.4855618668050925, pvalue=0.14176062835390138)\n",
      "Results for PTEN-T556: \n",
      "Ttest_indResult(statistic=-1.3565706740507137, pvalue=0.17953994968192138)\n",
      "Results for RPS6KB1-S447: \n",
      "Ttest_indResult(statistic=2.2714057984968563, pvalue=0.025952881164881553)\n",
      "Results for RPS6KB1-T444: \n",
      "Ttest_indResult(statistic=1.690606080691681, pvalue=0.09549137804812675)\n"
     ]
    }
   ],
   "source": [
    "gene = 'PIK3CA'\n",
    "genedf = somatic_mutations[gene].to_frame()\n",
    "sigPhosResults = [];\n",
    "\n",
    "for protein in phosProtList:\n",
    "    sites = phos.filter(regex=protein)\n",
    "    genedf = genedf.add(sites, fill_value=0)\n",
    "\n",
    "mutated = genedf.loc[genedf[gene] == 1.0]\n",
    "wt = genedf.loc[genedf[gene] == 0.0]\n",
    "\n",
    "pcutoff = 0.05 / len(genedf.columns)\n",
    "print(pcutoff)\n",
    "pcutoff = 1\n",
    "\n",
    "for loc in genedf.columns:\n",
    "    if not loc == gene:\n",
    "        mutsitedf = mutated[[gene, loc]].dropna()\n",
    "        wtsitedf = wt[[gene, loc]].dropna()\n",
    "        ttest = scipy.stats.ttest_ind(mutsitedf[loc], wtsitedf[loc])\n",
    "        if(ttest[1] <= pcutoff):\n",
    "            sigPhosResults.append(loc)\n",
    "            print('Results for ' + loc + ': ')\n",
    "            print(ttest)\n",
    " "
   ]
  },
  {
   "cell_type": "code",
   "execution_count": null,
   "metadata": {},
   "outputs": [],
   "source": []
  }
 ],
 "metadata": {
  "kernelspec": {
   "display_name": "Python 3",
   "language": "python",
   "name": "python3"
  },
  "language_info": {
   "codemirror_mode": {
    "name": "ipython",
    "version": 3
   },
   "file_extension": ".py",
   "mimetype": "text/x-python",
   "name": "python",
   "nbconvert_exporter": "python",
   "pygments_lexer": "ipython3",
   "version": "3.7.0"
  }
 },
 "nbformat": 4,
 "nbformat_minor": 2
}
