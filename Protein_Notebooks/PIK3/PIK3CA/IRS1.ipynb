{
 "cells": [
  {
   "cell_type": "code",
   "execution_count": 2,
   "metadata": {},
   "outputs": [
    {
     "name": "stdout",
     "output_type": "stream",
     "text": [
      "Loading Clinical Data...\n",
      "Loading Proteomics Data...\n",
      "Loading Transcriptomics Data...\n",
      "Loading CNA Data...\n",
      "Loading Phosphoproteomics Data...\n",
      "Loading Somatic Data...\n",
      "\n",
      " ******PLEASE READ******\n",
      "WARNING: This data is under a publication embargo until July 1, 2019. CPTAC is a community resource project and data are made available rapidly after generation for community research use. The embargo allows exploring and utilizing the data, but the data may not be in a publication until July 1, 2019. Please see https://proteomics.cancer.gov/data-portal/about/data-use-agreement, or enter CPTAC.embargo() to open the webpage for more details.\n"
     ]
    }
   ],
   "source": [
    "import pandas as pd\n",
    "import numpy as np\n",
    "import scipy.stats\n",
    "from scipy.stats import pearsonr\n",
    "import matplotlib.pyplot as plt\n",
    "import seaborn as sns\n",
    "import altair as alt\n",
    "\n",
    "alt.renderers.enable('notebook')\n",
    "import CPTAC"
   ]
  },
  {
   "cell_type": "code",
   "execution_count": 3,
   "metadata": {},
   "outputs": [],
   "source": [
    "somatic_mutations = CPTAC.get_somatic()\n",
    "proteomics = CPTAC.get_proteomics()\n",
    "phos = CPTAC.get_phosphoproteomics()"
   ]
  },
  {
   "cell_type": "markdown",
   "metadata": {},
   "source": [
    "#  Protein Abundance"
   ]
  },
  {
   "cell_type": "code",
   "execution_count": 4,
   "metadata": {},
   "outputs": [
    {
     "name": "stdout",
     "output_type": "stream",
     "text": [
      "0.05\n",
      "Test for IRS1: \n",
      "Ttest_indResult(statistic=-0.5083089884962738, pvalue=0.6123789928887791)\n"
     ]
    }
   ],
   "source": [
    "gene = 'PIK3CA'\n",
    "protList = ['IRS1']\n",
    "\n",
    "pcutoff = 0.05/len(protList)\n",
    "print(pcutoff)\n",
    "\n",
    "genedf = somatic_mutations[gene].to_frame()\n",
    "for protein in protList:\n",
    "    if protein in proteomics.columns:\n",
    "        proteindf = proteomics[protein].to_frame()\n",
    "        proteinfindName = protein + \"protein\"\n",
    "        proteindf.columns = [proteinfindName]\n",
    "        cross = genedf.add(proteindf, fill_value=0).dropna(axis=0)\n",
    "        mutated = cross.loc[cross[gene] == 1.0]\n",
    "        wt = cross.loc[cross[gene] == 0.0]\n",
    "        ttest = scipy.stats.ttest_ind(mutated[proteinfindName], wt[proteinfindName])\n",
    "        print(\"Test for \" + protein + \": \")\n",
    "        print(ttest)"
   ]
  },
  {
   "cell_type": "code",
   "execution_count": 5,
   "metadata": {},
   "outputs": [
    {
     "data": {
      "text/plain": [
       "[Text(0, 0.5, 'Proteomics'), Text(0.5, 0, 'Somatic Gene Mutation')]"
      ]
     },
     "execution_count": 5,
     "metadata": {},
     "output_type": "execute_result"
    },
    {
     "data": {
      "image/png": "[encoded data removed]",
      "text/plain": [
       "<Figure size 432x288 with 1 Axes>"
      ]
     },
     "metadata": {
      "needs_background": "light"
     },
     "output_type": "display_data"
    }
   ],
   "source": [
    "somatic_boxplot = sns.boxplot(data=cross, x=gene ,y=proteinfindName)\n",
    "somatic_boxplot.set_title(gene + \" gene mutation and \" + protList[0] + \" protein abundance\")\n",
    "somatic_boxplot = sns.stripplot(data=cross, x=gene, y=proteinfindName,jitter=True, color=\".3\")\n",
    "somatic_boxplot.set(xlabel=\"Somatic Gene Mutation\",ylabel=\"Proteomics\")"
   ]
  },
  {
   "cell_type": "markdown",
   "metadata": {},
   "source": [
    "# Phosphorylation"
   ]
  },
  {
   "cell_type": "code",
   "execution_count": 6,
   "metadata": {},
   "outputs": [
    {
     "name": "stdout",
     "output_type": "stream",
     "text": [
      "0.002380952380952381\n",
      "Results for IRS1-S1005\n",
      "Ttest_indResult(statistic=-0.9690977556578986, pvalue=0.3365203953002731)\n",
      "Results for IRS1-S1100\n",
      "Ttest_indResult(statistic=-2.144151151356816, pvalue=0.035056594434805)\n",
      "Results for IRS1-S1101\n",
      "Ttest_indResult(statistic=-2.098899731593709, pvalue=0.038979458432090074)\n",
      "Results for IRS1-S1134\n",
      "Ttest_indResult(statistic=-1.770797347381606, pvalue=0.08055195840145042)\n",
      "Results for IRS1-S270\n",
      "Ttest_indResult(statistic=-0.7860248714648148, pvalue=0.4337493578683552)\n",
      "Results for IRS1-S312\n",
      "Ttest_indResult(statistic=1.3429173455723695, pvalue=0.18561470344519224)\n",
      "Results for IRS1-S323\n",
      "Ttest_indResult(statistic=-0.5485686919133093, pvalue=0.5847228047850945)\n",
      "Results for IRS1-S330\n",
      "Ttest_indResult(statistic=-1.093938678842869, pvalue=0.27814694985592836)\n",
      "Results for IRS1-S337\n",
      "Ttest_indResult(statistic=0.4798182866151812, pvalue=0.6325746861136163)\n",
      "Results for IRS1-S348\n",
      "Ttest_indResult(statistic=-0.14935866809247728, pvalue=0.881733079425064)\n",
      "Results for IRS1-S374\n",
      "Ttest_indResult(statistic=-0.10191057508786826, pvalue=0.9191565374601931)\n",
      "Results for IRS1-S413\n",
      "Ttest_indResult(statistic=-0.43227024778175394, pvalue=0.6674808458992423)\n",
      "Results for IRS1-S415\n",
      "Ttest_indResult(statistic=-1.8418771356736203, pvalue=0.07020092773381807)\n",
      "Results for IRS1-S419\n",
      "Ttest_indResult(statistic=-1.184904276685606, pvalue=0.23914057981493891)\n",
      "Results for IRS1-S421\n",
      "Ttest_indResult(statistic=-0.9846121562463936, pvalue=0.32764219023746255)\n",
      "Results for IRS1-S527\n",
      "Ttest_indResult(statistic=0.020008118223419125, pvalue=0.9840802262632453)\n",
      "Results for IRS1-S531\n",
      "Ttest_indResult(statistic=-0.6797082767342767, pvalue=0.4983959003978983)\n",
      "Results for IRS1-S629\n",
      "Ttest_indResult(statistic=-0.7425871881562727, pvalue=0.45977894043451784)\n",
      "Results for IRS1-S636\n",
      "Ttest_indResult(statistic=0.45170761264623555, pvalue=0.6530067422791852)\n",
      "Results for IRS1-S672\n",
      "Ttest_indResult(statistic=-1.0221910151234592, pvalue=0.3117108171458467)\n"
     ]
    }
   ],
   "source": [
    "phosProt = phos.filter(regex='IRS1')\n",
    "gene = 'PIK3CA'\n",
    "\n",
    "genedf = somatic_mutations[gene].to_frame()\n",
    "cross = genedf.add(phosProt, fill_value = 0)\n",
    "sigResults = []\n",
    "#print(cross.head())\n",
    "\n",
    "pcutoff = 0.05/len(cross.columns)\n",
    "print(pcutoff)\n",
    "\n",
    "mutated = cross.loc[cross[gene] == 1.0]\n",
    "#print(mutated.head())\n",
    "wt = cross.loc[cross[gene] == 0.0]\n",
    "#print(wt.head())\n",
    "\n",
    "for loc in cross.columns:\n",
    "    if not loc == gene:\n",
    "        oneSitedf_m = mutated[[gene, loc]].dropna()\n",
    "        oneSitedf_wt = wt[[gene, loc]].dropna()\n",
    "        ttest = scipy.stats.ttest_ind(oneSitedf_m[loc], oneSitedf_wt[loc])\n",
    "        sigResults.append(loc)\n",
    "        print(\"Results for \" + loc)\n",
    "        print(ttest)"
   ]
  },
  {
   "cell_type": "code",
   "execution_count": 8,
   "metadata": {},
   "outputs": [
    {
     "data": {
      "text/plain": [
       "[Text(0, 0.5, 'Phosphoproteomics'), Text(0.5, 0, 'Somatic Gene Mutation')]"
      ]
     },
     "execution_count": 8,
     "metadata": {},
     "output_type": "execute_result"
    },
    {
     "data": {
      "image/png": "[encoded data removed]",
      "text/plain": [
       "<Figure size 432x288 with 1 Axes>"
      ]
     },
     "metadata": {
      "needs_background": "light"
     },
     "output_type": "display_data"
    }
   ],
   "source": [
    "somatic_boxplot = sns.boxplot(data=cross, x=gene ,y=sigResults[5])\n",
    "somatic_boxplot.set_title(gene + \" gene mutation and \" + sigResults[5] + \" phosphorylation levels\")\n",
    "somatic_boxplot = sns.stripplot(data=cross, x=gene, y=sigResults[5],jitter=True, color=\".3\")\n",
    "somatic_boxplot.set(xlabel=\"Somatic Gene Mutation\",ylabel=\"Phosphoproteomics\")"
   ]
  },
  {
   "cell_type": "code",
   "execution_count": 9,
   "metadata": {},
   "outputs": [],
   "source": [
    "df = CPTAC.get_CNA()\n"
   ]
  },
  {
   "cell_type": "code",
   "execution_count": 11,
   "metadata": {},
   "outputs": [
    {
     "data": {
      "text/plain": [
       "S001   -0.05\n",
       "S002    0.00\n",
       "S003   -0.01\n",
       "S004   -0.11\n",
       "S005    0.54\n",
       "S006   -0.05\n",
       "S007   -0.01\n",
       "S008    0.53\n",
       "S009    0.00\n",
       "S010    0.01\n",
       "S011    0.02\n",
       "S012   -0.03\n",
       "S013   -0.02\n",
       "S014    0.76\n",
       "S015    0.56\n",
       "S016   -0.04\n",
       "S017   -0.16\n",
       "S018   -0.03\n",
       "S019    0.00\n",
       "S020   -0.07\n",
       "S021    0.01\n",
       "S022   -0.03\n",
       "S023   -0.02\n",
       "S024   -0.03\n",
       "S025   -0.01\n",
       "S026   -0.01\n",
       "S027   -0.02\n",
       "S028   -0.04\n",
       "S029    0.00\n",
       "S030    0.20\n",
       "        ... \n",
       "S071   -0.01\n",
       "S072   -0.03\n",
       "S073    0.01\n",
       "S074   -0.05\n",
       "S075   -0.02\n",
       "S076    0.00\n",
       "S077    0.35\n",
       "S078   -0.01\n",
       "S079    0.01\n",
       "S080    0.16\n",
       "S081   -0.03\n",
       "S082    0.06\n",
       "S083   -0.02\n",
       "S084   -0.10\n",
       "S085    0.00\n",
       "S086   -0.03\n",
       "S087   -0.02\n",
       "S088    0.15\n",
       "S089    0.29\n",
       "S090    0.01\n",
       "S091    0.00\n",
       "S092   -0.08\n",
       "S093    0.65\n",
       "S094    0.46\n",
       "S095    0.09\n",
       "S096   -0.04\n",
       "S097    0.29\n",
       "S098    0.10\n",
       "S099    0.16\n",
       "S100    0.13\n",
       "Name: PIK3CA, Length: 100, dtype: float64"
      ]
     },
     "execution_count": 11,
     "metadata": {},
     "output_type": "execute_result"
    }
   ],
   "source": [
    "df['PIK3CA']\n"
   ]
  }
 ],
 "metadata": {
  "kernelspec": {
   "display_name": "Python 3",
   "language": "python",
   "name": "python3"
  },
  "language_info": {
   "codemirror_mode": {
    "name": "ipython",
    "version": 3
   },
   "file_extension": ".py",
   "mimetype": "text/x-python",
   "name": "python",
   "nbconvert_exporter": "python",
   "pygments_lexer": "ipython3",
   "version": "3.7.0"
  }
 },
 "nbformat": 4,
 "nbformat_minor": 2
}
