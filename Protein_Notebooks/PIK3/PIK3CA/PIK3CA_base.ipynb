{
 "cells": [
  {
   "cell_type": "code",
   "execution_count": 1,
   "metadata": {},
   "outputs": [
    {
     "name": "stdout",
     "output_type": "stream",
     "text": [
      "Loading Clinical Data...\n",
      "Loading Proteomics Data...\n",
      "Loading Transcriptomics Data...\n",
      "Loading CNA Data...\n",
      "Loading Phosphoproteomics Data...\n",
      "Loading Somatic Data...\n",
      "\n",
      " ******PLEASE READ******\n",
      "WARNING: This data is under a publication embargo until July 1, 2019. CPTAC is a community resource project and data are made available rapidly after generation for community research use. The embargo allows exploring and utilizing the data, but the data may not be in a publication until July 1, 2019. Please see https://proteomics.cancer.gov/data-portal/about/data-use-agreement, or enter CPTAC.embargo() to open the webpage for more details.\n"
     ]
    }
   ],
   "source": [
    "import pandas as pd\n",
    "import numpy as np\n",
    "import scipy.stats\n",
    "from scipy.stats import pearsonr\n",
    "import matplotlib.pyplot as plt\n",
    "import seaborn as sns\n",
    "import altair as alt\n",
    "\n",
    "alt.renderers.enable('notebook')\n",
    "import CPTAC"
   ]
  },
  {
   "cell_type": "code",
   "execution_count": 2,
   "metadata": {},
   "outputs": [],
   "source": [
    "somatic_mutations = CPTAC.get_somatic()\n",
    "proteomics = CPTAC.get_proteomics()\n",
    "phos = CPTAC.get_phosphoproteomics()"
   ]
  },
  {
   "cell_type": "markdown",
   "metadata": {},
   "source": [
    "Analyze the protein abundance of PIK3CA with and without mutation"
   ]
  },
  {
   "cell_type": "code",
   "execution_count": 3,
   "metadata": {},
   "outputs": [
    {
     "name": "stdout",
     "output_type": "stream",
     "text": [
      "0.05\n",
      "Test for PIK3CA: \n",
      "Ttest_indResult(statistic=-2.3709474235794348, pvalue=0.019698800138688424)\n"
     ]
    }
   ],
   "source": [
    "gene = 'PIK3CA'\n",
    "protList = ['PIK3CA']\n",
    "\n",
    "pcutoff = 0.05/len(protList)\n",
    "print(pcutoff)\n",
    "\n",
    "genedf = somatic_mutations[gene].to_frame()\n",
    "for protein in protList:\n",
    "    if protein in proteomics.columns:\n",
    "        proteindf = proteomics[protein].to_frame()\n",
    "        proteinfindName = protein + \"protein\"\n",
    "        proteindf.columns = [proteinfindName]\n",
    "        cross = genedf.add(proteindf, fill_value=0).dropna(axis=0)\n",
    "        mutated = cross.loc[cross[gene] == 1.0]\n",
    "        wt = cross.loc[cross[gene] == 0.0]\n",
    "        ttest = scipy.stats.ttest_ind(mutated[proteinfindName], wt[proteinfindName])\n",
    "        print(\"Test for \" + protein + \": \")\n",
    "        print(ttest)"
   ]
  },
  {
   "cell_type": "code",
   "execution_count": 4,
   "metadata": {},
   "outputs": [
    {
     "data": {
      "text/html": [
       "<div>\n",
       "<style scoped>\n",
       "    .dataframe tbody tr th:only-of-type {\n",
       "        vertical-align: middle;\n",
       "    }\n",
       "\n",
       "    .dataframe tbody tr th {\n",
       "        vertical-align: top;\n",
       "    }\n",
       "\n",
       "    .dataframe thead th {\n",
       "        text-align: right;\n",
       "    }\n",
       "</style>\n",
       "<table border=\"1\" class=\"dataframe\">\n",
       "  <thead>\n",
       "    <tr style=\"text-align: right;\">\n",
       "      <th></th>\n",
       "      <th>PIK3CA</th>\n",
       "      <th>PIK3CAprotein</th>\n",
       "    </tr>\n",
       "  </thead>\n",
       "  <tbody>\n",
       "    <tr>\n",
       "      <th>S001</th>\n",
       "      <td>1.0</td>\n",
       "      <td>-0.51</td>\n",
       "    </tr>\n",
       "    <tr>\n",
       "      <th>S002</th>\n",
       "      <td>0.0</td>\n",
       "      <td>-0.19</td>\n",
       "    </tr>\n",
       "    <tr>\n",
       "      <th>S003</th>\n",
       "      <td>1.0</td>\n",
       "      <td>-0.20</td>\n",
       "    </tr>\n",
       "    <tr>\n",
       "      <th>S004</th>\n",
       "      <td>0.0</td>\n",
       "      <td>-0.65</td>\n",
       "    </tr>\n",
       "    <tr>\n",
       "      <th>S005</th>\n",
       "      <td>0.0</td>\n",
       "      <td>0.39</td>\n",
       "    </tr>\n",
       "  </tbody>\n",
       "</table>\n",
       "</div>"
      ],
      "text/plain": [
       "      PIK3CA  PIK3CAprotein\n",
       "S001     1.0          -0.51\n",
       "S002     0.0          -0.19\n",
       "S003     1.0          -0.20\n",
       "S004     0.0          -0.65\n",
       "S005     0.0           0.39"
      ]
     },
     "execution_count": 4,
     "metadata": {},
     "output_type": "execute_result"
    }
   ],
   "source": [
    "cross.head()"
   ]
  },
  {
   "cell_type": "code",
   "execution_count": 5,
   "metadata": {},
   "outputs": [
    {
     "data": {
      "text/plain": [
       "PIK3CA           42.00\n",
       "PIK3CAprotein   -15.67\n",
       "dtype: float64"
      ]
     },
     "execution_count": 5,
     "metadata": {},
     "output_type": "execute_result"
    }
   ],
   "source": [
    "cross.sum(axis=0)"
   ]
  },
  {
   "cell_type": "code",
   "execution_count": 6,
   "metadata": {},
   "outputs": [
    {
     "data": {
      "text/plain": [
       "[Text(0, 0.5, 'Proteomics'), Text(0.5, 0, 'Somatic Gene Mutation')]"
      ]
     },
     "execution_count": 6,
     "metadata": {},
     "output_type": "execute_result"
    },
    {
     "data": {
      "image/png": "[encoded data removed]",
      "text/plain": [
       "<Figure size 432x288 with 1 Axes>"
      ]
     },
     "metadata": {
      "needs_background": "light"
     },
     "output_type": "display_data"
    }
   ],
   "source": [
    "somatic_boxplot = sns.boxplot(data=cross, x=gene ,y=proteinfindName)\n",
    "somatic_boxplot.set_title(gene + \" gene mutation and \" + protList[0] + \" protein abundance\")\n",
    "somatic_boxplot = sns.stripplot(data=cross, x=gene, y=proteinfindName,jitter=True, color=\".3\")\n",
    "somatic_boxplot.set(xlabel=\"Somatic Gene Mutation\",ylabel=\"Proteomics\")"
   ]
  },
  {
   "cell_type": "markdown",
   "metadata": {},
   "source": [
    "Analyze phosphorylation levels "
   ]
  },
  {
   "cell_type": "code",
   "execution_count": 7,
   "metadata": {},
   "outputs": [
    {
     "name": "stdout",
     "output_type": "stream",
     "text": [
      "0.016666666666666666\n",
      "Results for PIK3CA-S312\n",
      "Ttest_indResult(statistic=-2.0586037244067628, pvalue=0.04437026599246959)\n",
      "Results for PIK3CA-T313\n",
      "Ttest_indResult(statistic=-2.305191880117805, pvalue=0.02543138411734351)\n"
     ]
    }
   ],
   "source": [
    "phosProt = phos.filter(regex='PIK3CA')\n",
    "gene = 'PIK3CA'\n",
    "\n",
    "genedf = somatic_mutations[gene].to_frame()\n",
    "cross = genedf.add(phosProt, fill_value = 0)\n",
    "sigResults = []\n",
    "#print(cross.head())\n",
    "\n",
    "pcutoff = 0.05/len(cross.columns)\n",
    "print(pcutoff)\n",
    "\n",
    "mutated = cross.loc[cross[gene] == 1.0]\n",
    "#print(mutated.head())\n",
    "wt = cross.loc[cross[gene] == 0.0]\n",
    "#print(wt.head())\n",
    "\n",
    "for loc in cross.columns:\n",
    "    if not loc == gene:\n",
    "        oneSitedf_m = mutated[[gene, loc]].dropna()\n",
    "        oneSitedf_wt = wt[[gene, loc]].dropna()\n",
    "        ttest = scipy.stats.ttest_ind(oneSitedf_m[loc], oneSitedf_wt[loc])\n",
    "        sigResults.append(loc)\n",
    "        print(\"Results for \" + loc)\n",
    "        print(ttest)"
   ]
  },
  {
   "cell_type": "code",
   "execution_count": 8,
   "metadata": {},
   "outputs": [
    {
     "data": {
      "text/plain": [
       "PIK3CA         42.00\n",
       "PIK3CA-S312    -0.48\n",
       "PIK3CA-T313    -3.20\n",
       "dtype: float64"
      ]
     },
     "execution_count": 8,
     "metadata": {},
     "output_type": "execute_result"
    }
   ],
   "source": [
    "cross.sum(axis=0)"
   ]
  },
  {
   "cell_type": "code",
   "execution_count": 10,
   "metadata": {},
   "outputs": [
    {
     "data": {
      "text/html": [
       "<div>\n",
       "<style scoped>\n",
       "    .dataframe tbody tr th:only-of-type {\n",
       "        vertical-align: middle;\n",
       "    }\n",
       "\n",
       "    .dataframe tbody tr th {\n",
       "        vertical-align: top;\n",
       "    }\n",
       "\n",
       "    .dataframe thead th {\n",
       "        text-align: right;\n",
       "    }\n",
       "</style>\n",
       "<table border=\"1\" class=\"dataframe\">\n",
       "  <thead>\n",
       "    <tr style=\"text-align: right;\">\n",
       "      <th></th>\n",
       "      <th>PIK3CA</th>\n",
       "      <th>PIK3CA-S312</th>\n",
       "      <th>PIK3CA-T313</th>\n",
       "    </tr>\n",
       "  </thead>\n",
       "  <tbody>\n",
       "    <tr>\n",
       "      <th>S001</th>\n",
       "      <td>1.0</td>\n",
       "      <td>-0.06</td>\n",
       "      <td>-0.44</td>\n",
       "    </tr>\n",
       "    <tr>\n",
       "      <th>S002</th>\n",
       "      <td>0.0</td>\n",
       "      <td>-0.04</td>\n",
       "      <td>NaN</td>\n",
       "    </tr>\n",
       "    <tr>\n",
       "      <th>S003</th>\n",
       "      <td>1.0</td>\n",
       "      <td>NaN</td>\n",
       "      <td>0.18</td>\n",
       "    </tr>\n",
       "    <tr>\n",
       "      <th>S004</th>\n",
       "      <td>0.0</td>\n",
       "      <td>NaN</td>\n",
       "      <td>-0.81</td>\n",
       "    </tr>\n",
       "    <tr>\n",
       "      <th>S005</th>\n",
       "      <td>0.0</td>\n",
       "      <td>0.47</td>\n",
       "      <td>NaN</td>\n",
       "    </tr>\n",
       "    <tr>\n",
       "      <th>S006</th>\n",
       "      <td>0.0</td>\n",
       "      <td>0.19</td>\n",
       "      <td>NaN</td>\n",
       "    </tr>\n",
       "    <tr>\n",
       "      <th>S007</th>\n",
       "      <td>0.0</td>\n",
       "      <td>-0.12</td>\n",
       "      <td>NaN</td>\n",
       "    </tr>\n",
       "    <tr>\n",
       "      <th>S008</th>\n",
       "      <td>1.0</td>\n",
       "      <td>NaN</td>\n",
       "      <td>NaN</td>\n",
       "    </tr>\n",
       "    <tr>\n",
       "      <th>S009</th>\n",
       "      <td>0.0</td>\n",
       "      <td>0.04</td>\n",
       "      <td>NaN</td>\n",
       "    </tr>\n",
       "    <tr>\n",
       "      <th>S010</th>\n",
       "      <td>0.0</td>\n",
       "      <td>-0.20</td>\n",
       "      <td>NaN</td>\n",
       "    </tr>\n",
       "    <tr>\n",
       "      <th>S011</th>\n",
       "      <td>1.0</td>\n",
       "      <td>-1.36</td>\n",
       "      <td>NaN</td>\n",
       "    </tr>\n",
       "    <tr>\n",
       "      <th>S012</th>\n",
       "      <td>0.0</td>\n",
       "      <td>-0.63</td>\n",
       "      <td>0.27</td>\n",
       "    </tr>\n",
       "    <tr>\n",
       "      <th>S013</th>\n",
       "      <td>1.0</td>\n",
       "      <td>-0.38</td>\n",
       "      <td>-0.04</td>\n",
       "    </tr>\n",
       "    <tr>\n",
       "      <th>S014</th>\n",
       "      <td>0.0</td>\n",
       "      <td>NaN</td>\n",
       "      <td>NaN</td>\n",
       "    </tr>\n",
       "    <tr>\n",
       "      <th>S015</th>\n",
       "      <td>0.0</td>\n",
       "      <td>NaN</td>\n",
       "      <td>NaN</td>\n",
       "    </tr>\n",
       "    <tr>\n",
       "      <th>S016</th>\n",
       "      <td>0.0</td>\n",
       "      <td>NaN</td>\n",
       "      <td>-1.05</td>\n",
       "    </tr>\n",
       "    <tr>\n",
       "      <th>S017</th>\n",
       "      <td>1.0</td>\n",
       "      <td>-0.68</td>\n",
       "      <td>-0.61</td>\n",
       "    </tr>\n",
       "    <tr>\n",
       "      <th>S018</th>\n",
       "      <td>0.0</td>\n",
       "      <td>-0.04</td>\n",
       "      <td>0.41</td>\n",
       "    </tr>\n",
       "    <tr>\n",
       "      <th>S019</th>\n",
       "      <td>0.0</td>\n",
       "      <td>-0.22</td>\n",
       "      <td>0.48</td>\n",
       "    </tr>\n",
       "    <tr>\n",
       "      <th>S020</th>\n",
       "      <td>1.0</td>\n",
       "      <td>NaN</td>\n",
       "      <td>NaN</td>\n",
       "    </tr>\n",
       "    <tr>\n",
       "      <th>S021</th>\n",
       "      <td>1.0</td>\n",
       "      <td>-0.99</td>\n",
       "      <td>-0.83</td>\n",
       "    </tr>\n",
       "    <tr>\n",
       "      <th>S022</th>\n",
       "      <td>1.0</td>\n",
       "      <td>-0.65</td>\n",
       "      <td>-1.30</td>\n",
       "    </tr>\n",
       "    <tr>\n",
       "      <th>S023</th>\n",
       "      <td>1.0</td>\n",
       "      <td>NaN</td>\n",
       "      <td>-0.58</td>\n",
       "    </tr>\n",
       "    <tr>\n",
       "      <th>S024</th>\n",
       "      <td>0.0</td>\n",
       "      <td>NaN</td>\n",
       "      <td>-0.58</td>\n",
       "    </tr>\n",
       "    <tr>\n",
       "      <th>S025</th>\n",
       "      <td>0.0</td>\n",
       "      <td>0.17</td>\n",
       "      <td>0.03</td>\n",
       "    </tr>\n",
       "    <tr>\n",
       "      <th>S026</th>\n",
       "      <td>1.0</td>\n",
       "      <td>0.20</td>\n",
       "      <td>NaN</td>\n",
       "    </tr>\n",
       "    <tr>\n",
       "      <th>S027</th>\n",
       "      <td>1.0</td>\n",
       "      <td>NaN</td>\n",
       "      <td>NaN</td>\n",
       "    </tr>\n",
       "    <tr>\n",
       "      <th>S028</th>\n",
       "      <td>0.0</td>\n",
       "      <td>-0.20</td>\n",
       "      <td>NaN</td>\n",
       "    </tr>\n",
       "    <tr>\n",
       "      <th>S029</th>\n",
       "      <td>0.0</td>\n",
       "      <td>0.36</td>\n",
       "      <td>NaN</td>\n",
       "    </tr>\n",
       "    <tr>\n",
       "      <th>S030</th>\n",
       "      <td>1.0</td>\n",
       "      <td>NaN</td>\n",
       "      <td>-0.62</td>\n",
       "    </tr>\n",
       "    <tr>\n",
       "      <th>S031</th>\n",
       "      <td>1.0</td>\n",
       "      <td>-0.09</td>\n",
       "      <td>NaN</td>\n",
       "    </tr>\n",
       "    <tr>\n",
       "      <th>S032</th>\n",
       "      <td>1.0</td>\n",
       "      <td>0.26</td>\n",
       "      <td>NaN</td>\n",
       "    </tr>\n",
       "    <tr>\n",
       "      <th>S033</th>\n",
       "      <td>0.0</td>\n",
       "      <td>0.11</td>\n",
       "      <td>NaN</td>\n",
       "    </tr>\n",
       "    <tr>\n",
       "      <th>S034</th>\n",
       "      <td>0.0</td>\n",
       "      <td>0.00</td>\n",
       "      <td>NaN</td>\n",
       "    </tr>\n",
       "    <tr>\n",
       "      <th>S035</th>\n",
       "      <td>0.0</td>\n",
       "      <td>NaN</td>\n",
       "      <td>NaN</td>\n",
       "    </tr>\n",
       "    <tr>\n",
       "      <th>S036</th>\n",
       "      <td>0.0</td>\n",
       "      <td>NaN</td>\n",
       "      <td>0.23</td>\n",
       "    </tr>\n",
       "    <tr>\n",
       "      <th>S037</th>\n",
       "      <td>1.0</td>\n",
       "      <td>NaN</td>\n",
       "      <td>-0.88</td>\n",
       "    </tr>\n",
       "    <tr>\n",
       "      <th>S038</th>\n",
       "      <td>0.0</td>\n",
       "      <td>NaN</td>\n",
       "      <td>-0.30</td>\n",
       "    </tr>\n",
       "    <tr>\n",
       "      <th>S039</th>\n",
       "      <td>1.0</td>\n",
       "      <td>-0.28</td>\n",
       "      <td>NaN</td>\n",
       "    </tr>\n",
       "    <tr>\n",
       "      <th>S040</th>\n",
       "      <td>0.0</td>\n",
       "      <td>0.08</td>\n",
       "      <td>NaN</td>\n",
       "    </tr>\n",
       "  </tbody>\n",
       "</table>\n",
       "</div>"
      ],
      "text/plain": [
       "      PIK3CA  PIK3CA-S312  PIK3CA-T313\n",
       "S001     1.0        -0.06        -0.44\n",
       "S002     0.0        -0.04          NaN\n",
       "S003     1.0          NaN         0.18\n",
       "S004     0.0          NaN        -0.81\n",
       "S005     0.0         0.47          NaN\n",
       "S006     0.0         0.19          NaN\n",
       "S007     0.0        -0.12          NaN\n",
       "S008     1.0          NaN          NaN\n",
       "S009     0.0         0.04          NaN\n",
       "S010     0.0        -0.20          NaN\n",
       "S011     1.0        -1.36          NaN\n",
       "S012     0.0        -0.63         0.27\n",
       "S013     1.0        -0.38        -0.04\n",
       "S014     0.0          NaN          NaN\n",
       "S015     0.0          NaN          NaN\n",
       "S016     0.0          NaN        -1.05\n",
       "S017     1.0        -0.68        -0.61\n",
       "S018     0.0        -0.04         0.41\n",
       "S019     0.0        -0.22         0.48\n",
       "S020     1.0          NaN          NaN\n",
       "S021     1.0        -0.99        -0.83\n",
       "S022     1.0        -0.65        -1.30\n",
       "S023     1.0          NaN        -0.58\n",
       "S024     0.0          NaN        -0.58\n",
       "S025     0.0         0.17         0.03\n",
       "S026     1.0         0.20          NaN\n",
       "S027     1.0          NaN          NaN\n",
       "S028     0.0        -0.20          NaN\n",
       "S029     0.0         0.36          NaN\n",
       "S030     1.0          NaN        -0.62\n",
       "S031     1.0        -0.09          NaN\n",
       "S032     1.0         0.26          NaN\n",
       "S033     0.0         0.11          NaN\n",
       "S034     0.0         0.00          NaN\n",
       "S035     0.0          NaN          NaN\n",
       "S036     0.0          NaN         0.23\n",
       "S037     1.0          NaN        -0.88\n",
       "S038     0.0          NaN        -0.30\n",
       "S039     1.0        -0.28          NaN\n",
       "S040     0.0         0.08          NaN"
      ]
     },
     "execution_count": 10,
     "metadata": {},
     "output_type": "execute_result"
    }
   ],
   "source": [
    "cross.head(40)"
   ]
  },
  {
   "cell_type": "code",
   "execution_count": 12,
   "metadata": {},
   "outputs": [
    {
     "data": {
      "text/plain": [
       "[Text(0, 0.5, 'Phosphoproteomics'), Text(0.5, 0, 'Somatic Gene Mutation')]"
      ]
     },
     "execution_count": 12,
     "metadata": {},
     "output_type": "execute_result"
    },
    {
     "data": {
      "image/png": "[encoded data removed]",
      "text/plain": [
       "<Figure size 432x288 with 1 Axes>"
      ]
     },
     "metadata": {
      "needs_background": "light"
     },
     "output_type": "display_data"
    }
   ],
   "source": [
    "somatic_boxplot = sns.boxplot(data=cross, x=gene ,y=sigResults[1])\n",
    "somatic_boxplot.set_title(gene + \" gene mutation and \" + sigResults[1] + \" phosphorylation levels\")\n",
    "somatic_boxplot = sns.stripplot(data=cross, x=gene, y=sigResults[1],jitter=True, color=\".3\")\n",
    "somatic_boxplot.set(xlabel=\"Somatic Gene Mutation\",ylabel=\"Phosphoproteomics\")"
   ]
  },
  {
   "cell_type": "code",
   "execution_count": null,
   "metadata": {},
   "outputs": [],
   "source": []
  }
 ],
 "metadata": {
  "kernelspec": {
   "display_name": "Python 3",
   "language": "python",
   "name": "python3"
  },
  "language_info": {
   "codemirror_mode": {
    "name": "ipython",
    "version": 3
   },
   "file_extension": ".py",
   "mimetype": "text/x-python",
   "name": "python",
   "nbconvert_exporter": "python",
   "pygments_lexer": "ipython3",
   "version": "3.7.0"
  }
 },
 "nbformat": 4,
 "nbformat_minor": 2
}
