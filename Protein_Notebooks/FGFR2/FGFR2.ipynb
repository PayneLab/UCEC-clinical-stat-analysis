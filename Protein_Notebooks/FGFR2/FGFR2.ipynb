{
 "cells": [
  {
   "cell_type": "code",
   "execution_count": 1,
   "metadata": {},
   "outputs": [
    {
     "name": "stdout",
     "output_type": "stream",
     "text": [
      "Loading CPTAC data:\n",
      "Loading Dictionary...\n",
      "Loading Clinical Data...\n",
      "Loading Proteomics Data...\n",
      "Loading Transcriptomics Data...\n",
      "Loading CNA Data...\n",
      "Loading Phosphoproteomics Data...\n",
      "Loading Somatic Mutation Data...\n",
      "\n",
      " ******PLEASE READ******\n",
      "WARNING: This data is under a publication embargo until July 1, 2019.\n",
      "CPTAC is a community resource project and data are made available\n",
      "rapidly after generation for community research use. The embargo\n",
      "allows exploring and utilizing the data, but the data may not be in a\n",
      "publication until July 1, 2019. Please see\n",
      "https://proteomics.cancer.gov/data-portal/about/data-use-agreement or\n",
      "enter CPTAC.embargo() to open the webpage for more details.\n"
     ]
    }
   ],
   "source": [
    "import pandas as pd\n",
    "import numpy as np\n",
    "import scipy.stats\n",
    "from scipy.stats import pearsonr\n",
    "import matplotlib.pyplot as plt\n",
    "import seaborn as sns\n",
    "import re \n",
    "import CPTAC"
   ]
  },
  {
   "cell_type": "code",
   "execution_count": 2,
   "metadata": {},
   "outputs": [],
   "source": [
    "somatic_mutations = CPTAC.get_somatic()\n",
    "proteomics = CPTAC.get_proteomics()\n",
    "phos = CPTAC.get_phosphoproteomics()\n",
    "trans = CPTAC.get_transcriptomics()"
   ]
  },
  {
   "cell_type": "code",
   "execution_count": 3,
   "metadata": {},
   "outputs": [],
   "source": [
    "protList = ['FGFR2']"
   ]
  },
  {
   "cell_type": "code",
   "execution_count": 7,
   "metadata": {},
   "outputs": [
    {
     "name": "stdout",
     "output_type": "stream",
     "text": [
      "      FGFR2           Mutation Patient_Type\n",
      "S012  1.600  Missense_Mutation        Tumor\n",
      "S017  1.520  Missense_Mutation        Tumor\n",
      "S026 -0.474  Missense_Mutation        Tumor\n",
      "S027 -0.656  Missense_Mutation        Tumor\n",
      "S034  1.270  Missense_Mutation        Tumor\n",
      "S049  1.660  Missense_Mutation        Tumor\n",
      "S051  0.814  Missense_Mutation        Tumor\n",
      "S059 -0.178  Missense_Mutation        Tumor\n",
      "S062  0.803       In_Frame_Del        Tumor\n",
      "S064  0.446  Missense_Mutation        Tumor\n",
      "S073  0.321  Missense_Mutation        Tumor\n",
      "S079  2.500  Missense_Mutation        Tumor\n",
      "S080  0.499  Missense_Mutation        Tumor\n",
      "S094  1.320    Frame_Shift_Del        Tumor\n"
     ]
    }
   ],
   "source": [
    "p_values = []\n",
    "site_names = []\n",
    "gene = 'FGFR2'\n",
    "\n",
    "'''Perform a T-Test comparing protein levels when FGFR2 is mutated vs wildtype, in tumor patients only'''\n",
    "for prot in protList:\n",
    "        genedf = CPTAC.compare_mutations(proteomics, prot, gene)\n",
    "        genedf = genedf.loc[genedf[\"Patient_Type\"] == \"Tumor\"]\n",
    "        #print(genedf)\n",
    "        wtdf = genedf.loc[genedf[\"Mutation\"] == \"Wildtype\"]\n",
    "        mutateddf = genedf.loc[genedf[\"Mutation\"] != \"Wildtype\"]\n",
    "        print(mutateddf)\n",
    "        ttest = scipy.stats.ttest_ind(wtdf[prot], mutateddf[prot])\n",
    "        p_values.append(ttest[1])\n",
    "        site_names.append(prot)\n"
   ]
  },
  {
   "cell_type": "code",
   "execution_count": 8,
   "metadata": {},
   "outputs": [
    {
     "name": "stdout",
     "output_type": "stream",
     "text": [
      "[0.0004669293021734034]\n"
     ]
    }
   ],
   "source": [
    "print(p_values)"
   ]
  },
  {
   "cell_type": "markdown",
   "metadata": {},
   "source": [
    "### Plot base FGFR2 protein levels when mutated"
   ]
  },
  {
   "cell_type": "code",
   "execution_count": 9,
   "metadata": {},
   "outputs": [
    {
     "name": "stderr",
     "output_type": "stream",
     "text": [
      "/anaconda3/lib/python3.6/site-packages/ipykernel_launcher.py:12: FutureWarning: set_value is deprecated and will be removed in a future release. Please use .at[] or .iat[] accessors instead\n",
      "  if sys.path[0] == '':\n"
     ]
    },
    {
     "data": {
      "text/plain": [
       "[Text(0, 0.5, 'Transcriptomics'), Text(0.5, 0, 'Mutation')]"
      ]
     },
     "execution_count": 9,
     "metadata": {},
     "output_type": "execute_result"
    },
    {
     "data": {
      "image/png": "[encoded data removed]",
      "text/plain": [
       "<Figure size 432x288 with 1 Axes>"
      ]
     },
     "metadata": {
      "needs_background": "light"
     },
     "output_type": "display_data"
    }
   ],
   "source": [
    "gene = \"FGFR2\"\n",
    "site = \"FGFR2\"\n",
    "\n",
    "genedf = CPTAC.compare_mutations(proteomics, site, gene)\n",
    "genedf = genedf.loc[genedf[\"Patient_Type\"] == \"Tumor\"].drop(\"Patient_Type\", axis = 1)\n",
    "#print(genedf)\n",
    "\n",
    "\n",
    "for i, row in genedf.iterrows():\n",
    "    id = i\n",
    "    if row['Mutation'] != 'Wildtype':\n",
    "        genedf.set_value(id,'Mutation','Mutated')\n",
    "\n",
    "phos_boxplot = sns.boxplot(data=genedf, x=\"Mutation\",y=site)\n",
    "phos_boxplot.set_title(gene + \" mutation and \" + site + \" transcriptomics levels\")\n",
    "phos_boxplot = sns.stripplot(data=genedf, x=\"Mutation\", y=site,jitter=True, color=\".3\")\n",
    "phos_boxplot.set(xlabel=\"Mutation\",ylabel=\"Transcriptomics\")"
   ]
  },
  {
   "cell_type": "markdown",
   "metadata": {},
   "source": [
    "### Only 14 patients with mutation, may not be enough"
   ]
  }
 ],
 "metadata": {
  "kernelspec": {
   "display_name": "Python 3",
   "language": "python",
   "name": "python3"
  },
  "language_info": {
   "codemirror_mode": {
    "name": "ipython",
    "version": 3
   },
   "file_extension": ".py",
   "mimetype": "text/x-python",
   "name": "python",
   "nbconvert_exporter": "python",
   "pygments_lexer": "ipython3",
   "version": "3.6.8"
  }
 },
 "nbformat": 4,
 "nbformat_minor": 2
}
