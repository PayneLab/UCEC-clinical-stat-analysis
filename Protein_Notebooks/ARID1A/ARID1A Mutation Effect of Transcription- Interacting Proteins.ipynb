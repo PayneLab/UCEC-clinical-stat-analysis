{
 "cells": [
  {
   "cell_type": "code",
   "execution_count": 1,
   "metadata": {},
   "outputs": [],
   "source": [
    "import pandas as pd\n",
    "import numpy as np\n",
    "import scipy.stats\n",
    "from scipy.stats import pearsonr\n",
    "import matplotlib.pyplot as plt\n",
    "import re\n",
    "import seaborn as sns\n",
    "import statsmodels.stats.multitest\n",
    "#import altair as alt\n",
    "#alt.renderers.enable('notebook') #Necessary for Altair to work"
   ]
  },
  {
   "cell_type": "code",
   "execution_count": 2,
   "metadata": {},
   "outputs": [
    {
     "name": "stdout",
     "output_type": "stream",
     "text": [
      "Loading CPTAC data:\n",
      "Loading Dictionary...\n",
      "Loading Clinical Data...\n",
      "Loading Proteomics Data...\n",
      "Loading Transcriptomics Data...\n",
      "Loading CNA Data...\n",
      "Loading Phosphoproteomics Data...\n",
      "Loading Somatic Mutation Data...\n",
      "\n",
      " ******PLEASE READ******\n",
      "WARNING: This data is under a publication embargo until July 1, 2019.\n",
      "CPTAC is a community resource project and data are made available\n",
      "rapidly after generation for community research use. The embargo\n",
      "allows exploring and utilizing the data, but the data may not be in a\n",
      "publication until July 1, 2019. Please see\n",
      "https://proteomics.cancer.gov/data-portal/about/data-use-agreement or\n",
      "enter CPTAC.embargo() to open the webpage for more details.\n"
     ]
    }
   ],
   "source": [
    "import CPTAC"
   ]
  },
  {
   "cell_type": "code",
   "execution_count": 3,
   "metadata": {},
   "outputs": [],
   "source": [
    "somatic_mutations = CPTAC.get_somatic()\n",
    "proteomics = CPTAC.get_proteomics()\n",
    "phos = CPTAC.get_phosphoproteomics()\n",
    "transcriptomics = CPTAC.get_transcriptomics()\n",
    "transcriptomics_columns = CPTAC.get_transcriptomics_cols()\n",
    "\n",
    "#print(transcriptomics_columns)\n",
    "#print(transcriptomics)"
   ]
  },
  {
   "cell_type": "code",
   "execution_count": 4,
   "metadata": {},
   "outputs": [],
   "source": [
    "#List of some known interacting proteins\n",
    "siteList = ['CTCF','RUNX1','EZH2','TP53','ARID1B','BAF250B','SMARCA4','BRG1','BAF190A','SMARCA2','BRM','BAF190B','SMARCE1','ACTL6A','BAF53','SMARCC1','BAF155','SMARCC2','BAF170','SMARCB1','SNF5','BAF47','PHF10','SMARCA1','SMARCD1','SMARCD2','PTEN']"
   ]
  },
  {
   "cell_type": "markdown",
   "metadata": {},
   "source": [
    "### Look through our list of sites, test for difference in transcriptomics levels when ARID1A is mutated"
   ]
  },
  {
   "cell_type": "code",
   "execution_count": 5,
   "metadata": {},
   "outputs": [],
   "source": [
    "p_values = []\n",
    "site_names = []\n",
    "gene = 'ARID1A'\n",
    "\n",
    "'''Perform a T-Test comparing transcriptomics levels when ARID1A is mutated vs wildtype, in tumor patients only'''\n",
    "for site in siteList:\n",
    "    if site in transcriptomics_columns:\n",
    "        transdf = CPTAC.compare_mutations(transcriptomics, site, gene)\n",
    "        transdf = transdf.loc[transdf[\"Patient_Type\"] == \"Tumor\"]\n",
    "        #print(transdf)\n",
    "        wtdf = transdf.loc[transdf[\"Mutation\"] == \"Wildtype\"]\n",
    "        mutateddf = transdf.loc[transdf[\"Mutation\"] != \"Wildtype\"]\n",
    "        ttest = scipy.stats.ttest_ind(wtdf[site], mutateddf[site])\n",
    "        p_values.append(ttest[1])\n",
    "        site_names.append(site)\n"
   ]
  },
  {
   "cell_type": "code",
   "execution_count": 6,
   "metadata": {},
   "outputs": [
    {
     "name": "stdout",
     "output_type": "stream",
     "text": [
      "[0.02789329098317542, 0.7953490953394979, 0.01691587874891732, 0.00037328494313790787, 0.11980410049941591, 0.08331786938299397, 0.3468718377354182, 0.1045719604803765, 0.6272594654680055, 0.023700667818382565, 0.020919918961459713, 0.07811538963255547, 0.033210003634131194, 0.01618915206269221, 0.6183649357739911, 0.029864387341232635, 0.0742932465349621]\n",
      "['CTCF', 'RUNX1', 'EZH2', 'TP53', 'ARID1B', 'SMARCA4', 'SMARCA2', 'SMARCE1', 'ACTL6A', 'SMARCC1', 'SMARCC2', 'SMARCB1', 'PHF10', 'SMARCA1', 'SMARCD1', 'SMARCD2', 'PTEN']\n"
     ]
    }
   ],
   "source": [
    "print(p_values)\n",
    "print(site_names)"
   ]
  },
  {
   "cell_type": "markdown",
   "metadata": {},
   "source": [
    "### Adjust for multiple testing using Bonferroni correction"
   ]
  },
  {
   "cell_type": "code",
   "execution_count": 7,
   "metadata": {},
   "outputs": [
    {
     "name": "stdout",
     "output_type": "stream",
     "text": [
      "0.0029411764705882353\n"
     ]
    }
   ],
   "source": [
    "bonferroniCutoff = .05/ len(site_names)\n",
    "print(bonferroniCutoff)\n",
    "\n",
    "significantSites = []\n",
    "significantPvals = []\n",
    "\n",
    "for i in range(0, len(p_values)):\n",
    "    if p_values[i] <= bonferroniCutoff:\n",
    "        significantPvals.append(p_values[i])\n",
    "        significantSites.append(site_names[i])\n"
   ]
  },
  {
   "cell_type": "code",
   "execution_count": 8,
   "metadata": {},
   "outputs": [
    {
     "name": "stdout",
     "output_type": "stream",
     "text": [
      "['TP53']\n"
     ]
    }
   ],
   "source": [
    "#Print off significant sites\n",
    "print(significantSites)"
   ]
  },
  {
   "cell_type": "code",
   "execution_count": 9,
   "metadata": {},
   "outputs": [
    {
     "name": "stdout",
     "output_type": "stream",
     "text": [
      "[0.00037328494313790787]\n"
     ]
    }
   ],
   "source": [
    "#Print off significant p_values\n",
    "print(significantPvals)"
   ]
  },
  {
   "cell_type": "code",
   "execution_count": 10,
   "metadata": {},
   "outputs": [
    {
     "name": "stdout",
     "output_type": "stream",
     "text": [
      "{'TP53': 0.00037328494313790787}\n"
     ]
    }
   ],
   "source": [
    "#Make a dict of sites-p-values\n",
    "\n",
    "bfSignificantVals = dict(zip(significantSites, significantPvals))\n",
    "print(bfSignificantVals)"
   ]
  },
  {
   "cell_type": "markdown",
   "metadata": {},
   "source": [
    "### Plot the significant sites, Mutated vs Wildtype in cancer patients"
   ]
  },
  {
   "cell_type": "code",
   "execution_count": 11,
   "metadata": {},
   "outputs": [
    {
     "name": "stderr",
     "output_type": "stream",
     "text": [
      "/anaconda3/lib/python3.6/site-packages/ipykernel_launcher.py:12: FutureWarning: set_value is deprecated and will be removed in a future release. Please use .at[] or .iat[] accessors instead\n",
      "  if sys.path[0] == '':\n"
     ]
    },
    {
     "data": {
      "text/plain": [
       "[Text(0, 0.5, 'Transcriptomics'), Text(0.5, 0, 'Mutation')]"
      ]
     },
     "execution_count": 11,
     "metadata": {},
     "output_type": "execute_result"
    },
    {
     "data": {
      "image/png": "[encoded data removed]",
      "text/plain": [
       "<Figure size 432x288 with 1 Axes>"
      ]
     },
     "metadata": {
      "needs_background": "light"
     },
     "output_type": "display_data"
    }
   ],
   "source": [
    "gene = \"ARID1A\"\n",
    "site = \"TP53\"\n",
    "\n",
    "genedf = CPTAC.compare_mutations(transcriptomics, site, gene)\n",
    "genedf = genedf.loc[genedf[\"Patient_Type\"] == \"Tumor\"].drop(\"Patient_Type\", axis = 1)\n",
    "\n",
    "\n",
    "for i, row in genedf.iterrows():\n",
    "    id = i\n",
    "    if row['Mutation'] != 'Wildtype':\n",
    "        genedf.set_value(id,'Mutation','Mutated')\n",
    "\n",
    "phos_boxplot = sns.boxplot(data=genedf, x=\"Mutation\",y=site)\n",
    "phos_boxplot.set_title(gene + \" mutation and \" + site + \" transcriptomics levels\")\n",
    "phos_boxplot = sns.stripplot(data=genedf, x=\"Mutation\", y=site,jitter=True, color=\".3\")\n",
    "phos_boxplot.set(xlabel=\"Mutation\",ylabel=\"Transcriptomics\")"
   ]
  },
  {
   "cell_type": "markdown",
   "metadata": {},
   "source": [
    "### Plot significant sites, look at all mutations"
   ]
  },
  {
   "cell_type": "code",
   "execution_count": 12,
   "metadata": {},
   "outputs": [
    {
     "data": {
      "text/plain": [
       "[Text(0, 0.5, 'Transcriptomics'), Text(0.5, 0, 'Mutation Type')]"
      ]
     },
     "execution_count": 12,
     "metadata": {},
     "output_type": "execute_result"
    },
    {
     "data": {
      "image/png": "[encoded data removed]",
      "text/plain": [
       "<Figure size 432x288 with 1 Axes>"
      ]
     },
     "metadata": {
      "needs_background": "light"
     },
     "output_type": "display_data"
    }
   ],
   "source": [
    "\n",
    "genedf = CPTAC.compare_mutations(transcriptomics, site, gene)\n",
    "genedf = genedf.loc[genedf[\"Patient_Type\"] == \"Tumor\"].drop(\"Patient_Type\", axis = 1)\n",
    "#print(genedf)\n",
    "\n",
    "phos_boxplot = sns.boxplot(data=genedf, x=\"Mutation\",y=site)\n",
    "phos_boxplot.set_title(gene + \" mutation and \" + site + \" transcriptomics levels\")\n",
    "phos_boxplot = sns.stripplot(data=genedf, x=\"Mutation\", y=site,jitter=True, color=\".3\")\n",
    "phos_boxplot.set(xlabel=\"Mutation Type\",ylabel=\"Transcriptomics\")"
   ]
  },
  {
   "cell_type": "code",
   "execution_count": null,
   "metadata": {},
   "outputs": [],
   "source": []
  }
 ],
 "metadata": {
  "kernelspec": {
   "display_name": "Python 3",
   "language": "python",
   "name": "python3"
  },
  "language_info": {
   "codemirror_mode": {
    "name": "ipython",
    "version": 3
   },
   "file_extension": ".py",
   "mimetype": "text/x-python",
   "name": "python",
   "nbconvert_exporter": "python",
   "pygments_lexer": "ipython3",
   "version": "3.6.8"
  }
 },
 "nbformat": 4,
 "nbformat_minor": 2
}
