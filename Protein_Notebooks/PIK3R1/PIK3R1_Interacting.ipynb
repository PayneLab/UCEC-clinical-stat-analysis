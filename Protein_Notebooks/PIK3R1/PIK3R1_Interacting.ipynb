{
 "cells": [
  {
   "cell_type": "markdown",
   "metadata": {},
   "source": [
    "   # PIK3R1: Effects of Mutation"
   ]
  },
  {
   "cell_type": "markdown",
   "metadata": {},
   "source": [
    "<b>Standard imports for playing with and plotting data frames.</b>"
   ]
  },
  {
   "cell_type": "code",
   "execution_count": 23,
   "metadata": {},
   "outputs": [],
   "source": [
    "import pandas as pd\n",
    "import numpy as np\n",
    "import scipy.stats\n",
    "from scipy.stats import pearsonr\n",
    "import matplotlib.pyplot as plt\n",
    "import seaborn as sns\n",
    "import re as re\n",
    "import statsmodels.stats.multitest\n",
    "#import altair as alt\n",
    "\n",
    "#alt.renderers.enable('notebook')"
   ]
  },
  {
   "cell_type": "markdown",
   "metadata": {},
   "source": [
    "<b>Import CPTAC data</b>"
   ]
  },
  {
   "cell_type": "code",
   "execution_count": 16,
   "metadata": {
    "scrolled": true
   },
   "outputs": [],
   "source": [
    "import CPTAC"
   ]
  },
  {
   "cell_type": "code",
   "execution_count": 17,
   "metadata": {},
   "outputs": [],
   "source": [
    "somatic_mutations = CPTAC.get_somatic()\n",
    "proteomics = CPTAC.get_proteomics()\n",
    "phos = CPTAC.get_phosphoproteomics()"
   ]
  },
  {
   "cell_type": "markdown",
   "metadata": {},
   "source": [
    "### List of proteins that interact with PIK3R1 (according to Uniprot)"
   ]
  },
  {
   "cell_type": "code",
   "execution_count": 18,
   "metadata": {},
   "outputs": [],
   "source": [
    "protList = ['ABI1', 'ABL2', 'AR', 'CBL', 'EGFR', 'ERBB2', 'ERBB3', 'ESR1', 'FASLG', 'FGFR1', 'RRAS', 'NRAS', 'PTEN', 'IRS1', 'IRS2', 'KIT', 'HRAS', 'IRS1', 'PIK3R1', 'PIK3CA', 'PIK3CD' 'RPS6KB1', 'AKT1', 'MRAS']"
   ]
  },
  {
   "cell_type": "markdown",
   "metadata": {},
   "source": [
    "### Proteome abundance of proteins that interact with PIK3R1"
   ]
  },
  {
   "cell_type": "code",
   "execution_count": 19,
   "metadata": {},
   "outputs": [],
   "source": [
    "gene = 'PIK3CA'\n",
    "tested = [];\n",
    "p_vals = [];\n",
    "for protein in protList: \n",
    "    if protein in proteomics.columns:\n",
    "        tested.append(protein)\n",
    "        cross = CPTAC.compare_mutations(proteomics, protein, gene)\n",
    "        cross = cross[:100]\n",
    "        cross = cross[[\"Mutation\", protein]].dropna(axis=0)\n",
    "        mutated = cross.loc[cross[\"Mutation\"] != \"Wildtype\"]\n",
    "        wt = cross.loc[cross[\"Mutation\"] == \"Wildtype\"]\n",
    "        ttest = scipy.stats.ttest_ind(mutated[protein], wt[protein])\n",
    "        p_vals.append(ttest[1])"
   ]
  },
  {
   "cell_type": "markdown",
   "metadata": {},
   "source": [
    "### List of significantly affected proteins"
   ]
  },
  {
   "cell_type": "code",
   "execution_count": 20,
   "metadata": {},
   "outputs": [
    {
     "name": "stdout",
     "output_type": "stream",
     "text": [
      "[]\n"
     ]
    }
   ],
   "source": [
    "print(sigList)"
   ]
  },
  {
   "cell_type": "markdown",
   "metadata": {},
   "source": [
    "### Phosphoproteome abundance of interacting proteins"
   ]
  },
  {
   "cell_type": "code",
   "execution_count": 21,
   "metadata": {},
   "outputs": [],
   "source": [
    "phosProtList = ['ABI1', 'ABL2', 'EGFR', 'ERBB', 'ESR', 'FASLG', 'FGFR', 'RAS', 'PTEN', 'KIT', 'HRAS', 'IRS', 'PIK3R', 'PIK3CA', 'PIK3CD' 'RPS6KB', 'AKT', 'MRAS']"
   ]
  },
  {
   "cell_type": "code",
   "execution_count": 24,
   "metadata": {},
   "outputs": [
    {
     "name": "stdout",
     "output_type": "stream",
     "text": [
      "['ABI1-T200' 'EGFR-S1166' 'ERBB2-S1151' 'ESRP1-S543' 'ESRP2-S563'\n",
      " 'GORASP2-T415' 'GPRASP2-S328' 'GPRASP2-S330' 'GPRASP2-S512' 'GRASP-S94'\n",
      " 'RASAL2-S804' 'RASAL3-S228' 'RASGRF2-S746' 'RASGRF2-S852' 'RASGRP2-S117'\n",
      " 'RASGRP2-S576' 'RASGRP2-S578' 'RASGRP2-T399' 'RASIP1-S328' 'RASIP1-S331'\n",
      " 'RASIP1-S41' 'RASIP1-S419' 'RASL11A-S217' 'RASSF2-S145' 'RASSF4-S141'\n",
      " 'RASSF8-S129' 'IRS1-S1005' 'IRS1-S1100' 'IRS1-S1101' 'IRS1-S1134'\n",
      " 'IRS1-S270' 'IRS1-S323' 'IRS1-S330' 'IRS1-S374' 'IRS1-S413' 'IRS1-S415'\n",
      " 'IRS1-S419' 'IRS1-S421' 'IRS1-S527' 'IRS1-S531' 'IRS1-S629' 'IRS1-S672'\n",
      " 'IRS2-S1100' 'IRS2-S391' 'IRS2-S560' 'IRS2-S577' 'IRS2-S915' 'IRS2-S973'\n",
      " 'PIK3R4-S853' 'PIK3CA-S312' 'PIK3CA-T313' 'AKT1-S126' 'AKT3-T447']\n",
      "[8.09119151e-03 8.76162852e-03 4.27201453e-02 1.97540831e-03\n",
      " 1.07542253e-03 3.19593408e-02 2.39221732e-03 1.78812120e-02\n",
      " 1.07542253e-03 1.69880434e-02 8.76162852e-03 3.08331866e-02\n",
      " 1.34638584e-02 6.19370923e-03 8.09119151e-03 5.31322175e-05\n",
      " 1.22086873e-04 7.38571999e-04 1.07542253e-03 1.97540831e-03\n",
      " 4.53125181e-03 1.70219847e-03 3.74779155e-02 1.69880434e-02\n",
      " 1.53177324e-02 1.07542253e-03 3.04754420e-02 5.04051922e-04\n",
      " 4.88398188e-04 2.02982057e-02 4.76664236e-03 8.09119151e-03\n",
      " 6.93624994e-03 2.05350720e-02 2.89404122e-02 1.07219404e-03\n",
      " 4.11123055e-02 3.94307395e-02 1.43737668e-02 2.39221732e-03\n",
      " 6.03208955e-03 1.78812120e-02 4.76664236e-03 6.42164280e-03\n",
      " 8.85255329e-04 3.55732809e-02 3.14366918e-02 2.02982057e-02\n",
      " 8.85255329e-04 1.33944538e-03 7.38571999e-04 3.19593408e-02\n",
      " 2.19463219e-02]\n",
      "{'ABI1-T200': 0.00809119151479137, 'EGFR-S1166': 0.008761628524807056, 'ERBB2-S1151': 0.042720145345056644, 'ESRP1-S543': 0.0019754083119468426, 'ESRP2-S563': 0.0010754225266203085, 'GORASP2-T415': 0.03195934083805926, 'GPRASP2-S328': 0.002392217318154273, 'GPRASP2-S330': 0.01788121201406958, 'GPRASP2-S512': 0.0010754225266203085, 'GRASP-S94': 0.01698804341170528, 'RASAL2-S804': 0.008761628524807056, 'RASAL3-S228': 0.03083318660443348, 'RASGRF2-S746': 0.013463858416329405, 'RASGRF2-S852': 0.006193709228971256, 'RASGRP2-S117': 0.00809119151479137, 'RASGRP2-S576': 5.313221754963538e-05, 'RASGRP2-S578': 0.00012208687282736074, 'RASGRP2-T399': 0.0007385719987551405, 'RASIP1-S328': 0.0010754225266203085, 'RASIP1-S331': 0.0019754083119468426, 'RASIP1-S41': 0.004531251807086873, 'RASIP1-S419': 0.0017021984671251938, 'RASL11A-S217': 0.037477915479290747, 'RASSF2-S145': 0.01698804341170528, 'RASSF4-S141': 0.015317732385880628, 'RASSF8-S129': 0.0010754225266203085, 'IRS1-S1005': 0.030475441976262452, 'IRS1-S1100': 0.0005040519221293404, 'IRS1-S1101': 0.0004883981878978318, 'IRS1-S1134': 0.020298205705723535, 'IRS1-S270': 0.004766642363005988, 'IRS1-S323': 0.00809119151479137, 'IRS1-S330': 0.006936249936437203, 'IRS1-S374': 0.02053507198087413, 'IRS1-S413': 0.028940412177415838, 'IRS1-S415': 0.001072194038886642, 'IRS1-S419': 0.04111230550996027, 'IRS1-S421': 0.03943073948946487, 'IRS1-S527': 0.014373766840871138, 'IRS1-S531': 0.002392217318154273, 'IRS1-S629': 0.006032089552183936, 'IRS1-S672': 0.01788121201406958, 'IRS2-S1100': 0.004766642363005988, 'IRS2-S391': 0.006421642802508677, 'IRS2-S560': 0.0008852553291376228, 'IRS2-S577': 0.035573280872674834, 'IRS2-S915': 0.031436691763258716, 'IRS2-S973': 0.020298205705723535, 'PIK3R4-S853': 0.0008852553291376228, 'PIK3CA-S312': 0.0013394453814979171, 'PIK3CA-T313': 0.0007385719987551405, 'AKT1-S126': 0.03195934083805926, 'AKT3-T447': 0.021946321876691773}\n"
     ]
    }
   ],
   "source": [
    "sites = phos.columns\n",
    "p_values = []\n",
    "site_names = []\n",
    "\n",
    "\n",
    "alpha = 0.05\n",
    "p_value = alpha/len(phosProtList)\n",
    "\n",
    "\n",
    "\n",
    "for protein in phosProtList:\n",
    "    pattern = re.compile(protein)\n",
    "    isInList = filter(pattern.search, sites)\n",
    "    if next(isInList, None) is not None:\n",
    "        phosphositesdf = CPTAC.compare_mutations(phos, protein, gene)\n",
    "        phosphositesdf = phosphositesdf.loc[phosphositesdf['Patient_Type'] == 'Tumor'].drop('Patient_Type', axis = 1)\n",
    "        for site in phosphositesdf.columns:\n",
    "            if (site is not 'Mutation'):\n",
    "                sitedf = CPTAC.compare_mutations(phos, site, gene)\n",
    "                mutateddf = sitedf.loc[sitedf['Mutation'] != 'Wildtype'].dropna(axis=0)\n",
    "                wtdf = sitedf.loc[sitedf['Mutation'] == 'Wildtype'].dropna(axis=0)\n",
    "                ttest = scipy.stats.ttest_ind(mutateddf[site], wtdf[site])\n",
    "                p_values.append(ttest[1])\n",
    "                site_names.append(site)     \n",
    "                \n",
    "areSignificant = statsmodels.stats.multitest.fdrcorrection(p_values)[0]\n",
    "pvalues = statsmodels.stats.multitest.fdrcorrection(p_values)[1]\n",
    "significant_sites = np.array(site_names)[np.array(areSignificant)]\n",
    "significant_pvalues = np.array(pvalues)[np.array(areSignificant)]\n",
    "\n",
    "significant_vals = dict(zip(significant_sites, significant_pvalues))\n",
    "\n",
    "print(significant_sites)\n",
    "print(significant_pvalues)\n",
    "print(significant_vals)"
   ]
  },
  {
   "cell_type": "markdown",
   "metadata": {},
   "source": [
    "### List of significantly affected phosphorylation sites"
   ]
  },
  {
   "cell_type": "code",
   "execution_count": null,
   "metadata": {},
   "outputs": [],
   "source": [
    "print(sigPhosResults)"
   ]
  },
  {
   "cell_type": "code",
   "execution_count": null,
   "metadata": {},
   "outputs": [],
   "source": []
  }
 ],
 "metadata": {
  "kernelspec": {
   "display_name": "Python 3",
   "language": "python",
   "name": "python3"
  },
  "language_info": {
   "codemirror_mode": {
    "name": "ipython",
    "version": 3
   },
   "file_extension": ".py",
   "mimetype": "text/x-python",
   "name": "python",
   "nbconvert_exporter": "python",
   "pygments_lexer": "ipython3",
   "version": "3.7.1"
  }
 },
 "nbformat": 4,
 "nbformat_minor": 2
}
