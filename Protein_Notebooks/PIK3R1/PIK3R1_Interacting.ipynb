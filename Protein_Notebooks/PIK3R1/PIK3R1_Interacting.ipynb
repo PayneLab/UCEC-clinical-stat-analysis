{
 "cells": [
  {
   "cell_type": "markdown",
   "metadata": {},
   "source": [
    "   # PIK3R1: Effects of Mutation"
   ]
  },
  {
   "cell_type": "markdown",
   "metadata": {},
   "source": [
    "<b>Standard imports for playing with and plotting data frames.</b>"
   ]
  },
  {
   "cell_type": "code",
   "execution_count": 2,
   "metadata": {},
   "outputs": [],
   "source": [
    "import pandas as pd\n",
    "import numpy as np\n",
    "import scipy.stats\n",
    "from scipy.stats import pearsonr\n",
    "import matplotlib.pyplot as plt\n",
    "import seaborn as sns\n",
    "#import altair as alt\n",
    "\n",
    "#alt.renderers.enable('notebook')"
   ]
  },
  {
   "cell_type": "markdown",
   "metadata": {},
   "source": [
    "<b>Import CPTAC data</b>"
   ]
  },
  {
   "cell_type": "code",
   "execution_count": 3,
   "metadata": {
    "scrolled": true
   },
   "outputs": [
    {
     "name": "stdout",
     "output_type": "stream",
     "text": [
      "Loading Clinical Data...\n",
      "Loading Proteomics Data...\n",
      "Loading Transcriptomics Data...\n",
      "Loading CNA Data...\n",
      "Loading Phosphoproteomics Data...\n",
      "Loading Somatic Data...\n",
      "\n",
      " ******PLEASE READ******\n",
      "WARNING: This data is under a publication embargo until July 1, 2019. CPTAC is a community resource project and data are made available rapidly after generation for community research use. The embargo allows exploring and utilizing the data, but the data may not be in a publication until July 1, 2019. Please see https://proteomics.cancer.gov/data-portal/about/data-use-agreement or enter CPTAC.embargo() to open the webpage for more details.\n"
     ]
    }
   ],
   "source": [
    "import CPTAC"
   ]
  },
  {
   "cell_type": "code",
   "execution_count": 4,
   "metadata": {},
   "outputs": [],
   "source": [
    "somatic_mutations = CPTAC.get_somatic()\n",
    "proteomics = CPTAC.get_proteomics()\n",
    "phos = CPTAC.get_phosphoproteomics()"
   ]
  },
  {
   "cell_type": "markdown",
   "metadata": {},
   "source": [
    "### List of proteins that interact with PIK3R1 (according to Uniprot)"
   ]
  },
  {
   "cell_type": "code",
   "execution_count": 5,
   "metadata": {},
   "outputs": [],
   "source": [
    "protList = ['ABI1', 'ABL2', 'AR', 'CBL', 'EGFR', 'ERBB2', 'ERBB3', 'ESR1', 'FASLG', 'FGFR1', 'RRAS', 'NRAS', 'PTEN', 'IRS1', 'IRS2', 'KIT', 'HRAS', 'IRS1', 'PIK3R1', 'PIK3CA', 'PIK3CD' 'RPS6KB1', 'AKT1', 'MRAS']"
   ]
  },
  {
   "cell_type": "markdown",
   "metadata": {},
   "source": [
    "### Proteome abundance of proteins that interact with PIK3R1"
   ]
  },
  {
   "cell_type": "code",
   "execution_count": 6,
   "metadata": {},
   "outputs": [
    {
     "name": "stdout",
     "output_type": "stream",
     "text": [
      "Test for IRS2: \n",
      "Ttest_indResult(statistic=-4.387580404733772, pvalue=3.20389610243306e-05)\n",
      "Test for PIK3CA: \n",
      "Ttest_indResult(statistic=-3.4392766499323155, pvalue=0.0008580917991622051)\n"
     ]
    }
   ],
   "source": [
    "gene = 'PIK3R1'\n",
    "sigList = [];\n",
    "\n",
    "pcutoff = 0.05/len(protList)\n",
    "#pcutoff = 1\n",
    "\n",
    "genedf = somatic_mutations[gene].to_frame()\n",
    "for protein in protList:\n",
    "    if protein in proteomics.columns:\n",
    "        proteindf = proteomics[protein].to_frame()\n",
    "        proteindfName = protein + \" protein\"\n",
    "        proteindf.columns = [proteindfName]\n",
    "        cross = genedf.add(proteindf, fill_value=0).dropna(axis=0)\n",
    "        mutated = cross.loc[cross[gene] == 1.0]\n",
    "        wt = cross.loc[cross[gene] == 0.0]\n",
    "        ttest = scipy.stats.ttest_ind(mutated[proteindfName], wt[proteindfName])\n",
    "        if ttest[1] <= pcutoff:\n",
    "            sigList.append(protein)\n",
    "            print(\"Test for \" + protein + \": \")\n",
    "            print(ttest)"
   ]
  },
  {
   "cell_type": "markdown",
   "metadata": {},
   "source": [
    "### List of significantly affected proteins"
   ]
  },
  {
   "cell_type": "code",
   "execution_count": 7,
   "metadata": {},
   "outputs": [
    {
     "name": "stdout",
     "output_type": "stream",
     "text": [
      "['IRS2', 'PIK3CA']\n"
     ]
    }
   ],
   "source": [
    "print(sigList)"
   ]
  },
  {
   "cell_type": "markdown",
   "metadata": {},
   "source": [
    "### Phosphoproteome abundance of interacting proteins"
   ]
  },
  {
   "cell_type": "code",
   "execution_count": 8,
   "metadata": {},
   "outputs": [],
   "source": [
    "phosProtList = ['ABI1', 'ABL2', 'EGFR', 'ERBB', 'ESR', 'FASLG', 'FGFR', 'RAS', 'PTEN', 'KIT', 'HRAS', 'IRS', 'PIK3R', 'PIK3CA', 'PIK3CD' 'RPS6KB', 'AKT', 'MRAS']"
   ]
  },
  {
   "cell_type": "code",
   "execution_count": 11,
   "metadata": {},
   "outputs": [
    {
     "name": "stdout",
     "output_type": "stream",
     "text": [
      "0.0003448275862068966\n",
      "ABI1-S183\n",
      "ABI1-S216\n",
      "ABI1-S222\n",
      "ABI1-S225\n",
      "ABI1-S231\n",
      "ABI1-S323\n",
      "ABI1-T200\n",
      "ABI1-T229\n",
      "ABL2-S602\n",
      "ABL2-S620\n",
      "ABL2-S631\n",
      "ABL2-S817\n",
      "ABL2-S819\n",
      "ABL2-S820\n",
      "AKT1-S124\n",
      "AKT1-S126\n",
      "AKT1-S129\n",
      "AKT1S1-S108\n",
      "AKT1S1-S112\n",
      "AKT1S1-S203\n",
      "AKT1S1-S222\n",
      "AKT1S1-S223\n",
      "AKT1S1-S231\n",
      "AKT1S1-S232\n",
      "AKT1S1-T110\n",
      "AKT1S1-T266\n",
      "AKT2-T451\n",
      "AKT3-T447\n",
      "EGFR-S1039\n",
      "EGFR-S1042\n",
      "EGFR-S1064\n",
      "EGFR-S1166\n",
      "EGFR-T1041\n",
      "EGFR-T693\n",
      "ERBB2-S1054\n",
      "ERBB2-S1078\n",
      "ERBB2-S1083\n",
      "ERBB2-S1107\n",
      "ERBB2-S1151\n",
      "ERBB2-S998\n",
      "ERBB2-T1166\n",
      "ERBB2-T701\n",
      "ERBB3-S686\n",
      "ESR1-S167\n",
      "ESRP1-S237\n",
      "ESRP1-S543\n",
      "ESRP2-S563\n",
      "ESRRA-S19\n",
      "ESRRA-S22\n",
      "ESRRA-S26\n",
      "ESRRA-S27\n",
      "ESRRA-T29\n",
      "FGFR1OP-S152\n",
      "FGFR1OP-S156\n",
      "FGFR1OP-S160\n",
      "FGFR1OP-S279\n",
      "GORASP1-S220\n",
      "GORASP1-S241\n",
      "GORASP1-T216\n",
      "GORASP1-T237\n",
      "GORASP2-S214\n",
      "GORASP2-T222\n",
      "GORASP2-T225\n",
      "GORASP2-T411\n",
      "GORASP2-T415\n",
      "GORASP2-T433\n",
      "GPRASP2-S328\n",
      "GPRASP2-S330\n",
      "GPRASP2-S512\n",
      "GRASP-S94\n",
      "IRS1-S1005\n",
      "IRS1-S1100\n",
      "IRS1-S1101\n",
      "IRS1-S1134\n",
      "IRS1-S270\n",
      "IRS1-S312\n",
      "IRS1-S323\n",
      "IRS1-S330\n",
      "IRS1-S337\n",
      "IRS1-S348\n",
      "IRS1-S374\n",
      "IRS1-S413\n",
      "IRS1-S415\n",
      "IRS1-S419\n",
      "IRS1-S421\n",
      "IRS1-S527\n",
      "IRS1-S531\n",
      "IRS1-S629\n",
      "IRS1-S636\n",
      "IRS1-S672\n",
      "IRS2-S1100\n",
      "Results for IRS2-S1100: \n",
      "Ttest_indResult(statistic=-4.019029388226416, pvalue=0.0001505481884237998)\n",
      "IRS2-S365\n",
      "IRS2-S388\n",
      "IRS2-S391\n",
      "IRS2-S560\n",
      "IRS2-S577\n",
      "IRS2-S620\n",
      "IRS2-S679\n",
      "IRS2-S731\n",
      "Results for IRS2-S731: \n",
      "Ttest_indResult(statistic=-4.2075513087547245, pvalue=8.333919696760065e-05)\n",
      "IRS2-S736\n",
      "IRS2-S915\n",
      "IRS2-S973\n",
      "PIK3CA-S312\n",
      "PIK3CA-T313\n",
      "PIK3R1-S154\n",
      "PIK3R2-S263\n",
      "PIK3R4-S853\n",
      "PIK3R4-S895\n",
      "PIK3R5-S458\n",
      "PTEN-S467\n",
      "PTEN-S558\n",
      "PTEN-T556\n",
      "RASAL2-S1005\n",
      "RASAL2-S134\n",
      "RASAL2-S159\n",
      "RASAL2-S164\n",
      "RASAL2-S804\n",
      "RASAL2-T761\n",
      "RASAL3-S228\n",
      "RASAL3-S51\n",
      "RASAL3-S841\n",
      "RASAL3-S865\n",
      "RASAL3-S988\n",
      "RASAL3-T991\n",
      "RASGRF2-S726\n",
      "RASGRF2-S746\n",
      "RASGRF2-S852\n",
      "RASGRP2-S117\n",
      "RASGRP2-S576\n",
      "RASGRP2-S578\n",
      "RASGRP2-T399\n",
      "RASIP1-S328\n",
      "RASIP1-S331\n",
      "RASIP1-S41\n",
      "RASIP1-S419\n",
      "RASL11A-S217\n",
      "RASL11B-S224\n",
      "RASL12-S190\n",
      "RASSF2-S145\n",
      "RASSF4-S141\n",
      "RASSF7-S97\n",
      "RASSF8-S129\n",
      "RRAS2-S186\n",
      "RRAS2-T190\n"
     ]
    }
   ],
   "source": [
    "gene = 'PIK3R1'\n",
    "genedf = somatic_mutations[gene].to_frame()\n",
    "sigPhosResults = [];\n",
    "\n",
    "for protein in phosProtList:\n",
    "    sites = phos.filter(regex=protein)\n",
    "    genedf = genedf.add(sites, fill_value=0)\n",
    "\n",
    "mutated = genedf.loc[genedf[gene] == 1.0]\n",
    "wt = genedf.loc[genedf[gene] == 0.0]\n",
    "\n",
    "pcutoff = 0.05 / len(genedf.columns)\n",
    "print(pcutoff)\n",
    "#pcutoff = 1\n",
    "\n",
    "for loc in genedf.columns:\n",
    "    if not loc == gene:\n",
    "        print(loc)\n",
    "        mutsitedf = mutated[[gene, loc]].dropna()\n",
    "        wtsitedf = wt[[gene, loc]].dropna()\n",
    "        ttest = scipy.stats.ttest_ind(mutsitedf[loc], wtsitedf[loc])\n",
    "        if(ttest[1] <= pcutoff):\n",
    "            sigPhosResults.append(loc)\n",
    "            print('Results for ' + loc + ': ')\n",
    "            print(ttest)\n",
    " "
   ]
  },
  {
   "cell_type": "markdown",
   "metadata": {},
   "source": [
    "### List of significantly affected phosphorylation sites"
   ]
  },
  {
   "cell_type": "code",
   "execution_count": 10,
   "metadata": {},
   "outputs": [
    {
     "name": "stdout",
     "output_type": "stream",
     "text": [
      "['IRS2-S1100', 'IRS2-S731']\n"
     ]
    }
   ],
   "source": [
    "print(sigPhosResults)"
   ]
  },
  {
   "cell_type": "code",
   "execution_count": null,
   "metadata": {},
   "outputs": [],
   "source": []
  }
 ],
 "metadata": {
  "kernelspec": {
   "display_name": "Python 3",
   "language": "python",
   "name": "python3"
  },
  "language_info": {
   "codemirror_mode": {
    "name": "ipython",
    "version": 3
   },
   "file_extension": ".py",
   "mimetype": "text/x-python",
   "name": "python",
   "nbconvert_exporter": "python",
   "pygments_lexer": "ipython3",
   "version": "3.7.0"
  }
 },
 "nbformat": 4,
 "nbformat_minor": 2
}
