{
 "cells": [
  {
   "cell_type": "markdown",
   "metadata": {},
   "source": [
    "   # PTEN: Effects of Mutation on Interacting Proteins"
   ]
  },
  {
   "cell_type": "markdown",
   "metadata": {},
   "source": [
    "<b>Standard imports for playing with and plotting data frames.</b>"
   ]
  },
  {
   "cell_type": "code",
   "execution_count": 1,
   "metadata": {},
   "outputs": [],
   "source": [
    "import pandas as pd\n",
    "import numpy as np\n",
    "import re\n",
    "import scipy.stats\n",
    "import statsmodels.stats.multitest\n",
    "import matplotlib.pyplot as plt\n",
    "import seaborn as sns"
   ]
  },
  {
   "cell_type": "markdown",
   "metadata": {},
   "source": [
    "<b>Import CPTAC data</b>"
   ]
  },
  {
   "cell_type": "code",
   "execution_count": 2,
   "metadata": {
    "scrolled": true
   },
   "outputs": [
    {
     "name": "stdout",
     "output_type": "stream",
     "text": [
      "Loading CPTAC data:\n",
      "Loading Dictionary...\n",
      "Loading Clinical Data...\n",
      "Loading Proteomics Data...\n",
      "Loading Transcriptomics Data...\n",
      "Loading CNA Data...\n",
      "Loading Phosphoproteomics Data...\n",
      "Loading Somatic Mutation Data...\n",
      "\n",
      " ******PLEASE READ******\n",
      "WARNING: This data is under a publication embargo until July 1, 2019.\n",
      "CPTAC is a community resource project and data are made available\n",
      "rapidly after generation for community research use. The embargo\n",
      "allows exploring and utilizing the data, but the data may not be in a\n",
      "publication until July 1, 2019. Please see\n",
      "https://proteomics.cancer.gov/data-portal/about/data-use-agreement or\n",
      "enter CPTAC.embargo() to open the webpage for more details.\n"
     ]
    }
   ],
   "source": [
    "import CPTAC"
   ]
  },
  {
   "cell_type": "code",
   "execution_count": 3,
   "metadata": {},
   "outputs": [
    {
     "name": "stdout",
     "output_type": "stream",
     "text": [
      "idx     A1BG     A2M    A2ML1  A4GALT      AAAS    AACS    AADAT    AAED1  \\\n",
      "S001 -1.1800 -0.8630 -0.80200  0.2220  0.256000  0.6650  1.28000 -0.33900   \n",
      "S002 -0.6850 -1.0700 -0.68400  0.9840  0.135000  0.3340  1.30000  0.13900   \n",
      "S003 -0.5280 -1.3200  0.43500     NaN -0.240000  1.0400 -0.02130 -0.04790   \n",
      "S004  2.3500  2.8200 -1.47000     NaN  0.154000  0.0332  0.51300  0.67400   \n",
      "S005 -1.6700 -1.1900 -0.44300  0.2430 -0.099300  0.7570  0.74000 -0.92900   \n",
      "S006 -0.3740 -0.0206 -0.53700  0.3110  0.375000  0.0131 -1.10000      NaN   \n",
      "S007 -1.0800 -0.7080 -0.12600 -0.4260 -0.114000 -0.1110  0.89500  1.26000   \n",
      "S008 -1.3200 -0.7080 -0.80800 -0.0709  0.138000  0.6560 -0.28000 -0.12800   \n",
      "S009 -0.4670  0.3700 -0.33900     NaN  0.434000  0.0358 -0.17500  0.18100   \n",
      "S010 -1.1200 -1.3100  0.91200  0.4180 -0.076800  0.8460 -0.12100      NaN   \n",
      "S011 -0.7160 -0.8850  2.82000 -0.3430  0.147000  0.4450 -0.05650 -0.83800   \n",
      "S012 -0.2320 -0.0910  0.61800  1.6300 -0.250000  1.3300 -1.72000 -0.88900   \n",
      "S013  1.2600  1.5500  0.85900  0.6280 -0.524000  1.0500      NaN -1.34000   \n",
      "S014 -0.2690  0.0196  1.88000  0.0000  0.173000  0.2370      NaN  0.65200   \n",
      "S015 -0.2570  0.5140 -0.62000     NaN  0.093600 -0.1410  0.72800 -0.36500   \n",
      "S016 -0.7820 -0.6970 -1.53000 -1.1300  0.455000 -0.5950 -1.03000 -0.55000   \n",
      "S017 -1.3400 -1.8700 -0.25800     NaN  0.129000  2.5600  1.03000 -0.39600   \n",
      "S018 -0.9240 -0.4450  1.57000 -0.6780  0.173000  0.4360  0.22700 -0.00248   \n",
      "S019  0.1500  0.9870  5.07000  0.3020 -0.169000  0.3980      NaN -0.27400   \n",
      "S020  0.1810 -0.2830  0.68900  0.1040 -0.130000 -0.0683 -0.37600 -0.08380   \n",
      "S021 -0.5930  0.4140  1.89000     NaN -0.019000  1.3700  0.02980 -0.10700   \n",
      "S022 -0.9580 -0.3420      NaN     NaN -0.025900  0.1830  0.10900 -0.08130   \n",
      "S023 -0.4540 -0.2420      NaN     NaN  0.258000  0.2190 -0.24900 -1.33000   \n",
      "S024 -0.2400  0.5940  3.40000  0.1540  0.093200  0.2830 -0.07890 -0.61100   \n",
      "S025 -0.8310 -0.8110 -0.32000  0.2120 -0.057800  0.1680  0.42700 -0.75000   \n",
      "S026 -0.3270 -0.9530  0.54400 -0.2060 -0.200000  0.4130  0.32000  0.11700   \n",
      "S027  0.0499  0.0199 -0.12500  0.4770 -0.252000  0.8380 -0.10000 -0.85100   \n",
      "S028  0.7730  0.5460 -0.60300     NaN  0.055500 -0.6390 -0.39000  0.46700   \n",
      "S029  0.5510  0.2030      NaN     NaN -0.493000  0.2110  1.06000 -0.28000   \n",
      "S030 -0.2130  0.2780  1.43000  0.0224  0.451000  0.8730  0.90900  0.68300   \n",
      "...      ...     ...      ...     ...       ...     ...      ...      ...   \n",
      "S124  1.4700  1.0100  0.95400  0.1490  0.167000 -0.7740 -0.19500  0.31400   \n",
      "S125  0.5260 -0.0539  0.54600     NaN -0.102000  0.0273  0.09420  0.28700   \n",
      "S126  1.6900  1.3600      NaN     NaN  0.047200 -0.2140  0.14200  1.84000   \n",
      "S127  2.1400  1.1300  0.00896 -0.0781 -0.004360 -0.6580  0.46800  0.20100   \n",
      "S128  1.4000  1.8200 -0.05030  1.2200  0.156000 -0.8290 -0.54100 -0.79800   \n",
      "S129  1.5300  0.2450  0.78500 -0.4910 -0.104000 -0.7910      NaN -0.76200   \n",
      "S130  1.4300  1.0400 -0.18400     NaN -0.144000 -0.7970 -0.00384  1.08000   \n",
      "S131  0.6920  1.5600 -0.04860 -0.9520 -0.032100 -0.8340 -0.55400 -0.05310   \n",
      "S132  0.9160  0.2470 -0.06220 -0.3430 -0.169000 -0.5000  0.05210  0.87400   \n",
      "S133  1.0600  0.7650 -0.86900     NaN -0.061300 -0.9970 -0.27700  0.30400   \n",
      "S134  1.4100 -0.1740  0.32800 -0.5010 -0.252000 -0.6720  0.66400  0.91100   \n",
      "S135  2.1200  2.2100  0.29900     NaN -0.553000 -0.5950 -0.12600  0.55500   \n",
      "S136  0.7790  0.6810 -0.22700  0.0724 -0.174000 -0.2010      NaN -0.30800   \n",
      "S137 -0.0812  0.5230 -0.07770 -0.0572  0.019500 -0.2350      NaN -0.10500   \n",
      "S138  0.5200 -0.5270 -0.16800 -0.3280 -0.182000 -0.9600  0.14400      NaN   \n",
      "S139  0.7500  0.6030 -0.10800 -0.2400 -0.131000 -0.7720 -0.00473      NaN   \n",
      "S140 -0.0014  0.6160 -0.64100 -0.2040  0.027600 -1.4100 -0.40500 -0.56100   \n",
      "S141  0.2980  0.3950 -1.24000 -0.1780 -0.180000 -0.5910 -0.59800  0.40200   \n",
      "S142  0.1110  0.2100 -0.75100 -0.3350  0.000865 -1.3700 -0.27300  0.10600   \n",
      "S143  0.9280  0.9520 -1.38000 -0.3450 -0.002170 -0.6570 -0.36300  0.08070   \n",
      "S144  0.8990  0.1360 -1.63000 -0.4680 -0.293000 -1.1000 -0.71200 -0.26100   \n",
      "S145  1.6000  0.7600  0.68800     NaN  0.644000 -0.0780 -0.48700  1.39000   \n",
      "S146  1.3200  0.9540 -0.62800     NaN  1.020000 -0.3050 -0.52300  2.18000   \n",
      "S147  1.4400  1.7300 -0.22100     NaN  0.275000 -0.2700 -0.44000  2.12000   \n",
      "S148  1.4600  2.0000 -0.39400     NaN  0.544000 -0.4080 -0.47400  1.77000   \n",
      "S149  0.6500  0.2270  1.93000     NaN  0.239000 -0.3760 -0.11200  1.54000   \n",
      "S150  0.4580  0.5200 -0.29100     NaN  0.477000 -0.1510 -0.18700  1.64000   \n",
      "S151  1.1500  1.4600 -0.02290     NaN  0.252000 -0.2380 -0.59600  1.77000   \n",
      "S152  0.5470  1.2700 -0.19700     NaN  0.405000  0.2840 -0.14100  1.69000   \n",
      "S153  0.9400  0.9040 -0.08030     NaN  0.299000 -0.1760 -0.26700  1.31000   \n",
      "\n",
      "idx    AAGAB     AAK1    ...       ZSWIM8   ZSWIM9      ZW10  ZWILCH    ZWINT  \\\n",
      "S001  0.4120 -0.66400    ...    -0.087700      NaN  0.022900  0.1090      NaN   \n",
      "S002  1.3300 -0.36700    ...    -0.035600      NaN  0.363000  1.0700  0.73700   \n",
      "S003  0.4190 -0.50000    ...     0.001120 -0.14500  0.010500 -0.1160      NaN   \n",
      "S004  0.4310  0.03670    ...    -0.538000 -0.42700  0.092600  1.2800  1.08000   \n",
      "S005  0.2290 -0.22300    ...     0.072500 -0.05520 -0.071400  0.0933  0.15600   \n",
      "S006  0.5650 -0.10100    ...    -0.176000      NaN -1.220000 -0.5620  0.93700   \n",
      "S007  0.1570  0.72300    ...     0.455000      NaN  0.397000 -0.9990 -0.73000   \n",
      "S008  0.2170 -0.13300    ...     0.015800 -0.00491  0.180000  0.5130  0.54900   \n",
      "S009  0.1160 -0.05120    ...    -0.675000  0.23900  0.140000  1.0700  0.60700   \n",
      "S010 -0.3110  0.20700    ...    -0.002120      NaN -1.190000 -1.2700 -1.27000   \n",
      "S011  0.0490  0.17600    ...     0.084500 -0.64700  0.175000  0.2120 -0.32400   \n",
      "S012  0.6330 -0.37100    ...     0.065200 -0.23600  0.501000  0.3520  0.08390   \n",
      "S013  0.0102 -0.50300    ...     0.151000 -0.44600  0.105000  1.3500  1.26000   \n",
      "S014 -0.2270  0.02510    ...     0.137000 -0.69700  0.393000  0.6180  0.41800   \n",
      "S015  0.1470  0.39700    ...    -0.186000  0.43800  0.075400  0.4850  0.12600   \n",
      "S016  0.1510 -0.11900    ...    -0.050400 -0.27500  0.217000  0.6810  0.87100   \n",
      "S017 -0.0763 -0.47600    ...     0.033000 -0.41900  0.327000  0.1030      NaN   \n",
      "S018  0.4790 -0.22700    ...    -0.049600      NaN  0.108000 -0.1530      NaN   \n",
      "S019  1.0900  0.14700    ...     0.348000 -0.48400  0.142000  0.2500 -0.14200   \n",
      "S020  0.1600  0.27700    ...     0.228000      NaN  0.020600 -0.9700      NaN   \n",
      "S021 -0.1510 -0.55600    ...    -0.325000 -0.31100  0.332000 -0.4270 -0.49400   \n",
      "S022  0.4510  0.09430    ...     0.012600      NaN  0.329000  0.3540  0.32200   \n",
      "S023  0.2040 -0.00493    ...    -0.158000      NaN  0.667000  1.3000  0.44100   \n",
      "S024  0.3700 -0.50200    ...    -0.051100 -0.01360  0.214000  0.6830  0.43300   \n",
      "S025  0.1760 -0.01930    ...     0.000388  0.18400  0.086800  0.1440 -0.13700   \n",
      "S026  0.1430  0.12300    ...     0.147000      NaN  0.226000 -0.2850      NaN   \n",
      "S027  0.3510 -0.58200    ...     0.049100 -0.47900  0.054800  0.9330  0.00967   \n",
      "S028 -0.3660  0.42700    ...    -0.008350  0.11900 -0.296000 -0.2050 -0.07650   \n",
      "S029  0.2070  0.33400    ...     0.300000      NaN  0.142000 -0.5490      NaN   \n",
      "S030  0.6210 -0.01070    ...     0.160000      NaN  0.247000  0.8470  0.51600   \n",
      "...      ...      ...    ...          ...      ...       ...     ...      ...   \n",
      "S124 -0.4880  0.23500    ...    -0.065300      NaN -0.343000 -0.2820      NaN   \n",
      "S125 -0.0535  0.22400    ...    -0.188000  0.30000 -0.273000 -0.4350      NaN   \n",
      "S126 -0.6850 -0.02710    ...    -0.301000      NaN -0.255000 -0.6150 -0.34900   \n",
      "S127  0.0183  0.40200    ...    -0.326000  0.87800 -0.213000 -0.2230 -0.15600   \n",
      "S128 -0.6620  0.09680    ...    -0.271000  0.77800 -0.243000 -1.2600 -0.08230   \n",
      "S129 -0.0353  0.37900    ...     0.005600  0.80200 -0.554000 -0.9200 -1.18000   \n",
      "S130 -0.6400  0.27400    ...    -0.418000 -0.39000 -0.438000 -0.7450 -0.29600   \n",
      "S131 -0.5670  0.14200    ...    -0.285000 -0.06960 -0.471000 -0.8440 -0.57100   \n",
      "S132 -0.5980  0.18300    ...    -0.287000  0.36400 -0.304000 -0.0876 -0.74600   \n",
      "S133 -0.6930  0.40100    ...    -0.068100  0.23300 -0.390000 -0.5640 -0.33200   \n",
      "S134 -0.2150  0.55300    ...     0.015500  0.43100 -0.164000 -0.2760  0.18600   \n",
      "S135  0.5040  0.32200    ...     0.342000  0.32400 -0.266000 -0.0314 -1.05000   \n",
      "S136  0.5890 -0.23100    ...    -0.110000  0.35600 -0.034500 -0.2130 -0.27900   \n",
      "S137  0.3420 -0.00865    ...     0.328000  0.06560  0.030400 -0.5640 -1.17000   \n",
      "S138 -0.8770  0.17300    ...    -0.212000      NaN -1.430000 -1.0100 -1.41000   \n",
      "S139 -0.5680 -0.17600    ...    -0.093700      NaN -1.430000 -0.8510 -1.05000   \n",
      "S140 -0.3730  0.12400    ...     0.215000  0.10700 -0.190000 -1.3600 -1.10000   \n",
      "S141 -0.3840  0.15200    ...     0.054700  0.19800 -0.013900 -0.8080 -0.32400   \n",
      "S142 -0.7170  0.00865    ...     0.176000  0.39600 -0.364000 -1.6400 -1.48000   \n",
      "S143 -0.2000  0.03500    ...    -0.135000      NaN  0.092600 -0.1550  0.15100   \n",
      "S144 -0.4660  0.23100    ...    -0.009430      NaN -0.349000 -0.5490 -0.46800   \n",
      "S145 -0.4520  0.18500    ...     0.001340  0.12700 -0.416000 -0.1810  0.22100   \n",
      "S146 -0.1220 -0.34700    ...    -0.264000  0.26200 -0.000846  0.7470  0.85900   \n",
      "S147 -0.2300 -0.22900    ...    -0.002700  0.25800 -0.129000  0.6290  0.67300   \n",
      "S148 -0.1390 -0.27500    ...    -0.161000  0.33800 -0.026700  0.6890  1.03000   \n",
      "S149 -0.5660 -0.45900    ...    -0.204000  0.02970 -0.151000  0.0552  0.10500   \n",
      "S150 -0.2680 -0.29300    ...    -0.078200  0.22500  0.141000  0.7260  0.86800   \n",
      "S151 -0.1130  0.18100    ...     0.122000  0.25500 -0.380000 -0.2970  0.04620   \n",
      "S152 -0.1700 -0.00718    ...     0.060700 -0.18200 -0.126000 -0.0662 -0.01030   \n",
      "S153 -0.3890 -0.41900    ...    -0.130000  0.55200  0.023400  0.4250  0.67700   \n",
      "\n",
      "idx      ZXDC   ZYG11B       ZYX     ZZEF1      ZZZ3  \n",
      "S001 -0.33200 -0.43300 -1.020000 -0.123000 -0.085900  \n",
      "S002 -0.56400 -0.00461 -1.130000 -0.075700 -0.473000  \n",
      "S003  0.15100 -0.07400 -0.540000  0.320000 -0.419000  \n",
      "S004  0.06950  0.30300 -0.325000  0.236000  0.443000  \n",
      "S005 -0.39800 -0.07520 -0.797000 -0.030100 -0.467000  \n",
      "S006 -0.64600  0.20700 -1.850000 -0.176000  0.051300  \n",
      "S007 -0.02290 -0.33100 -1.160000 -0.116000  0.002500  \n",
      "S008 -0.68100 -0.28500 -0.564000 -0.087600  0.006980  \n",
      "S009  0.48600  0.16900 -0.632000 -0.203000 -0.068500  \n",
      "S010 -0.22200 -0.32000 -0.620000  0.363000 -0.463000  \n",
      "S011 -0.35000 -0.37700  0.388000  0.011000  0.134000  \n",
      "S012 -0.42800 -0.21200 -1.340000  0.317000 -0.943000  \n",
      "S013  0.32900  0.16700 -0.771000 -0.112000  2.240000  \n",
      "S014 -0.20100 -0.06660 -0.808000  0.026100 -0.285000  \n",
      "S015  0.77000  0.11000 -0.925000 -0.343000 -0.500000  \n",
      "S016  0.23900 -0.25900 -0.874000 -0.560000  0.248000  \n",
      "S017  0.63800 -0.51400 -1.420000  0.218000 -0.061100  \n",
      "S018  0.10900 -0.33600 -0.822000 -0.033800  0.121000  \n",
      "S019  0.07700 -0.15700 -0.872000 -0.006630 -0.017500  \n",
      "S020 -0.45200  0.17200  0.626000  0.342000 -0.203000  \n",
      "S021 -0.11400 -0.44200 -1.550000 -0.251000  0.193000  \n",
      "S022 -0.02850 -0.14200 -0.645000  0.245000  0.044700  \n",
      "S023  0.13000 -0.06590 -0.923000 -0.163000  0.112000  \n",
      "S024 -0.20800 -0.34700 -0.911000  0.069200 -0.232000  \n",
      "S025 -0.41800 -0.18300 -0.769000 -0.256000 -0.372000  \n",
      "S026  0.11100  0.08500  0.676000 -0.004570 -0.022900  \n",
      "S027 -1.14000 -0.54100 -0.838000  0.023800 -0.060200  \n",
      "S028  0.22800  0.23700  1.050000  0.018500  0.587000  \n",
      "S029 -0.39000 -0.09720  0.001080  0.200000 -0.194000  \n",
      "S030 -0.41200 -0.08090 -0.221000 -0.004300  1.560000  \n",
      "...       ...      ...       ...       ...       ...  \n",
      "S124  0.36300  0.23900  1.500000 -0.177000  0.209000  \n",
      "S125 -0.29000  0.01840  1.670000 -0.280000  0.203000  \n",
      "S126 -0.08570  0.24800  0.407000  0.185000  0.229000  \n",
      "S127 -1.03000  0.09500  0.608000 -0.104000  0.139000  \n",
      "S128  1.02000  0.16600  0.876000 -0.068800  0.390000  \n",
      "S129  0.42000  0.34100  1.730000 -0.151000  0.224000  \n",
      "S130  0.40000  0.11400  0.649000 -0.231000  1.000000  \n",
      "S131  0.27500  0.09570  1.300000 -0.060400  0.162000  \n",
      "S132  0.32600  0.25000  1.580000  0.110000  0.583000  \n",
      "S133  0.00086  0.14800  1.040000  0.025400  0.625000  \n",
      "S134  0.47100  0.44500  2.090000  0.216000  0.165000  \n",
      "S135  0.12600  0.45600  1.770000  0.120000  0.210000  \n",
      "S136  0.22200 -0.10400  0.336000 -0.000242 -0.002880  \n",
      "S137 -0.13500 -0.25500  0.653000  0.210000 -0.173000  \n",
      "S138  0.40800  0.02600  0.858000 -0.117000  0.131000  \n",
      "S139  0.13100  0.02870  0.365000 -0.033900  0.254000  \n",
      "S140 -0.19700 -0.30700  0.682000  0.098400 -0.020200  \n",
      "S141  0.16300 -0.14500  0.855000  0.116000 -0.000114  \n",
      "S142  0.45300 -0.16800  0.411000 -0.176000  0.218000  \n",
      "S143 -0.00177  0.05320  0.850000  0.044400  0.001660  \n",
      "S144 -0.15400  0.10800  1.730000  0.167000 -0.059000  \n",
      "S145  0.55400 -0.41700  0.955000  0.033400 -0.013400  \n",
      "S146  1.49000 -0.62300 -0.000941 -0.164000 -0.004900  \n",
      "S147  1.90000 -0.42800  0.191000  0.049300 -0.104000  \n",
      "S148  1.00000 -0.38600  0.035800 -0.142000 -0.083200  \n",
      "S149  1.33000 -0.67400 -0.840000 -0.269000  0.103000  \n",
      "S150  0.66200 -0.57000 -0.399000 -0.095900 -0.063500  \n",
      "S151  0.04500 -0.31900  0.835000  0.169000 -0.008090  \n",
      "S152  1.05000 -0.35600  0.416000  0.273000 -0.658000  \n",
      "S153  0.58700 -0.47700 -0.422000 -0.093100  0.055700  \n",
      "\n",
      "[153 rows x 10999 columns]\n"
     ]
    }
   ],
   "source": [
    "somatic_mutations = CPTAC.get_somatic()\n",
    "proteomics = CPTAC.get_proteomics()\n",
    "phos = CPTAC.get_phosphoproteomics()\n",
    "\n",
    "print(proteomics)"
   ]
  },
  {
   "cell_type": "markdown",
   "metadata": {},
   "source": [
    "### List of proteins that interact with PTEN (according to Uniprot and String)"
   ]
  },
  {
   "cell_type": "code",
   "execution_count": 4,
   "metadata": {},
   "outputs": [],
   "source": [
    "gene = 'PTEN'\n",
    "protList = ['AKT1', 'PIK3R2', 'PIK3R1', 'PIK3CB', 'PIK3CA', 'PTK2', 'USP7', 'TP53', 'PDGFRB', 'MAGI2', 'MAGI3', 'MAST1', 'MAST3', 'NDFIP1', 'NDFIP2',\n",
    "           'FRK', 'ROCK1', 'STK11']"
   ]
  },
  {
   "cell_type": "markdown",
   "metadata": {},
   "source": [
    "## t-test for effects of missense mutations"
   ]
  },
  {
   "cell_type": "code",
   "execution_count": 5,
   "metadata": {},
   "outputs": [],
   "source": [
    "tested = [];\n",
    "p_vals = [];\n",
    "\n",
    "cutoff = 0.05/len(protList)\n",
    "for protein in protList: \n",
    "    if protein in proteomics.columns:\n",
    "        tested.append(protein)\n",
    "        cross = CPTAC.compare_mutations(proteomics, protein, gene)\n",
    "        cross = cross.loc[cross['Patient_Type'] == 'Tumor'][[\"Mutation\", protein]].dropna(axis=0)\n",
    "        mutated = cross.loc[cross[\"Mutation\"] == \"Missense_Mutation\"]\n",
    "        wt = cross.loc[cross[\"Mutation\"] == \"Wildtype\"]\n",
    "        ttest = scipy.stats.ttest_ind(mutated[protein], wt[protein])\n",
    "        if ttest[1] < cutoff:\n",
    "            p_vals.append(ttest[1])\n",
    "            print(site, \" \", ttest[1])"
   ]
  },
  {
   "cell_type": "markdown",
   "metadata": {},
   "source": [
    "## t-test for effects of frame shift and nonsense mutations (truncating)"
   ]
  },
  {
   "cell_type": "code",
   "execution_count": 6,
   "metadata": {},
   "outputs": [],
   "source": [
    "tested = [];\n",
    "p_vals = [];\n",
    "for protein in protList: \n",
    "    if protein in proteomics.columns:\n",
    "        tested.append(protein)\n",
    "        cross = CPTAC.compare_mutations(proteomics, protein, gene)\n",
    "        cross = cross.loc[cross['Patient_Type'] == 'Tumor'][[\"Mutation\", protein]].dropna(axis=0)\n",
    "        mutated = cross.loc[(cross[\"Mutation\"] == \"Frame_Shift_Del\") | \n",
    "                            (cross[\"Mutation\"] == \"Frame_Shift_Ins\") |\n",
    "                            (cross[\"Mutation\"] == 'Nonsense_Mutation')]\n",
    "        wt = cross.loc[cross[\"Mutation\"] == \"Wildtype\"]\n",
    "        ttest = scipy.stats.ttest_ind(mutated[protein], wt[protein])\n",
    "        p_vals.append(ttest[1])"
   ]
  },
  {
   "cell_type": "markdown",
   "metadata": {},
   "source": [
    "## t-test for effects of missense and truncating mutations combined"
   ]
  },
  {
   "cell_type": "code",
   "execution_count": 7,
   "metadata": {},
   "outputs": [
    {
     "name": "stdout",
     "output_type": "stream",
     "text": [
      "PIK3CA   Ttest_indResult(statistic=-4.221717816045985, pvalue=5.466584409144104e-05)\n",
      "TP53   Ttest_indResult(statistic=-3.9533495380869828, pvalue=0.00015886590461962268)\n"
     ]
    }
   ],
   "source": [
    "tested = [];\n",
    "p_vals = [];\n",
    "for protein in protList: \n",
    "    if protein in proteomics.columns:\n",
    "        tested.append(protein)\n",
    "        cross = CPTAC.compare_mutations(proteomics, protein, gene)\n",
    "        cross = cross.loc[cross['Patient_Type'] == 'Tumor'][[\"Mutation\", protein]].dropna(axis=0)\n",
    "        mutated = cross.loc[(cross[\"Mutation\"] == \"Frame_Shift_Del\") | \n",
    "                            (cross[\"Mutation\"] == \"Frame_Shift_Ins\") |\n",
    "                            (cross[\"Mutation\"] == 'Nonsense_Mutation') |\n",
    "                            (cross[\"Mutation\"] == 'Missense_Mutation')]\n",
    "        wt = cross.loc[cross[\"Mutation\"] == \"Wildtype\"]\n",
    "        ttest = scipy.stats.ttest_ind(mutated[protein], wt[protein])\n",
    "        if ttest[1] < cutoff:\n",
    "            p_vals.append(ttest[1])\n",
    "            print(protein, \" \", ttest)"
   ]
  },
  {
   "cell_type": "markdown",
   "metadata": {},
   "source": [
    "# t-test for effects of all mutations"
   ]
  },
  {
   "cell_type": "code",
   "execution_count": 8,
   "metadata": {},
   "outputs": [
    {
     "name": "stdout",
     "output_type": "stream",
     "text": [
      "PIK3CA   Ttest_indResult(statistic=-4.214686821419194, pvalue=5.5710059173315194e-05)\n",
      "TP53   Ttest_indResult(statistic=-4.002755994610535, pvalue=0.00013232110188039883)\n"
     ]
    }
   ],
   "source": [
    "tested = [];\n",
    "p_vals = [];\n",
    "\n",
    "significantResults = []\n",
    "for protein in protList: \n",
    "    if protein in proteomics.columns:\n",
    "        tested.append(protein)\n",
    "        cross = CPTAC.compare_mutations(proteomics, protein, gene)\n",
    "        cross = cross.loc[cross['Patient_Type'] == 'Tumor'][[\"Mutation\", protein]].dropna(axis=0)\n",
    "        mutated = cross.loc[cross[\"Mutation\"] != \"Wildtype\"]\n",
    "        wt = cross.loc[cross[\"Mutation\"] == \"Wildtype\"]\n",
    "        #print(\"Wildtype \", len(wt))\n",
    "        #print(\"Mutated \", len(mutated))\n",
    "        ttest = scipy.stats.ttest_ind(mutated[protein], wt[protein])\n",
    "        if ttest[1] < cutoff:\n",
    "            p_vals.append(ttest[1])\n",
    "            significantResults.append(protein)\n",
    "            print(protein, \" \", ttest)"
   ]
  },
  {
   "cell_type": "markdown",
   "metadata": {},
   "source": [
    "### Build the dataframe for plotting"
   ]
  },
  {
   "cell_type": "code",
   "execution_count": 9,
   "metadata": {},
   "outputs": [],
   "source": [
    "plotdf = None\n",
    "for protein in significantResults:\n",
    "    tempdf = CPTAC.compare_mutations(proteomics, protein, gene)\n",
    "    tempdf = tempdf.loc[tempdf['Patient_Type'] == 'Tumor'].drop('Patient_Type', axis=1)\n",
    "    tempdf.loc[(tempdf['Mutation'] == \"Wildtype\"), \"Mutation\"] = \"Control\"\n",
    "    tempdf.loc[(tempdf['Mutation'] != \"Control\"), \"Mutation\"] = \"Mutated\"\n",
    "    tempdf = pd.melt(tempdf, id_vars=['Mutation'], var_name='Type', value_name='Reading')\n",
    "    tempdf = tempdf.loc[(tempdf[\"Mutation\"] == \"Control\") | (tempdf[\"Mutation\"] == \"Mutated\")]\n",
    "    tempdf = tempdf.dropna(axis=0).sort_values(by=['Mutation'], ascending=False)\n",
    "    #print(tempdf)\n",
    "    if plotdf is None:\n",
    "        plotdf = tempdf\n",
    "    else:\n",
    "        plotdf = plotdf.append(tempdf)"
   ]
  },
  {
   "cell_type": "code",
   "execution_count": 48,
   "metadata": {},
   "outputs": [
    {
     "data": {
      "image/png": "[encoded data removed]",
      "text/plain": [
       "<Figure size 2908.8x1190.88 with 1 Axes>"
      ]
     },
     "metadata": {
      "needs_background": "light"
     },
     "output_type": "display_data"
    }
   ],
   "source": [
    "a4_dims = (40.4, 16.54)\n",
    "fig, ax = plt.subplots(figsize=a4_dims)\n",
    "my_pal = {\"Mutated\": \"#009933\", \"Control\": \"#008ae6\"}\n",
    "\n",
    "#Create the plot\n",
    "boxplt = sns.boxplot(x= 'Type', y= 'Reading', hue='Mutation', data=plotdf, palette=my_pal)\n",
    "boxplt = sns.stripplot(data=plotdf, x='Type', y='Reading', hue='Mutation', dodge=True, jitter=True, color='.3')\n",
    "\n",
    "#Add styling\n",
    "boxplt.set_xlabel('')\n",
    "boxplt.set_ylabel('Signal', fontsize='30')\n",
    "boxplt.tick_params(labelsize='20')\n",
    "\n",
    "#Adjust legend\n",
    "handles, labels = ax.get_legend_handles_labels()\n",
    "plt.legend(handles[0:2], ['Mutated', 'Control'], title='Protein Status', fontsize='20', frameon=False)\n",
    "boxplt.get_legend().get_title().set_fontsize('20')\n",
    "#boxplt.get_legend().set_bbox_to_anchor((1, 1, 0, 0))\n",
    "\n",
    "\n",
    "fig = boxplt.get_figure()\n",
    "plt.show()"
   ]
  },
  {
   "cell_type": "code",
   "execution_count": 12,
   "metadata": {},
   "outputs": [],
   "source": [
    "site = 'TP53'\n",
    "phosdf = CPTAC.compare_mutations(proteomics, site, 'PTEN')\n",
    "phosdf = phosdf.loc[phosdf['Patient_Type'] == 'Tumor']"
   ]
  },
  {
   "cell_type": "code",
   "execution_count": 13,
   "metadata": {},
   "outputs": [
    {
     "data": {
      "image/png": "[encoded data removed]",
      "text/plain": [
       "<Figure size 842.4x595.44 with 1 Axes>"
      ]
     },
     "metadata": {
      "needs_background": "light"
     },
     "output_type": "display_data"
    }
   ],
   "source": [
    "a4_dims = (11.7, 8.27)\n",
    "fig, ax = plt.subplots(figsize=a4_dims)\n",
    "\n",
    "boxplt = sns.boxplot(data = phosdf, x = 'Mutation', y = site)\n",
    "boxplt = sns.stripplot(data = phosdf, x = 'Mutation', y = site, jitter = True, color = '.3')\n",
    "plt.show()"
   ]
  },
  {
   "cell_type": "code",
   "execution_count": null,
   "metadata": {},
   "outputs": [],
   "source": []
  },
  {
   "cell_type": "code",
   "execution_count": null,
   "metadata": {},
   "outputs": [],
   "source": []
  },
  {
   "cell_type": "markdown",
   "metadata": {},
   "source": [
    "## Phosphoproteome abundance of interacting proteins"
   ]
  },
  {
   "cell_type": "markdown",
   "metadata": {},
   "source": [
    "### This is the same list as before, with some of the end numbers of the proteins removed; less specificity in protein names captures more potentially significant results in the phosphoproteomic data"
   ]
  },
  {
   "cell_type": "code",
   "execution_count": 51,
   "metadata": {},
   "outputs": [],
   "source": [
    "gene = 'PTEN'\n",
    "phosProtList = protList"
   ]
  },
  {
   "cell_type": "code",
   "execution_count": 52,
   "metadata": {},
   "outputs": [
    {
     "ename": "NameError",
     "evalue": "name 'sites' is not defined",
     "output_type": "error",
     "traceback": [
      "\u001b[0;31m---------------------------------------------------------------------------\u001b[0m",
      "\u001b[0;31mNameError\u001b[0m                                 Traceback (most recent call last)",
      "\u001b[0;32m<ipython-input-52-b85d83119b08>\u001b[0m in \u001b[0;36m<module>\u001b[0;34m\u001b[0m\n\u001b[1;32m      9\u001b[0m \u001b[0;32mfor\u001b[0m \u001b[0mprotein\u001b[0m \u001b[0;32min\u001b[0m \u001b[0mphosProtList\u001b[0m\u001b[0;34m:\u001b[0m\u001b[0;34m\u001b[0m\u001b[0;34m\u001b[0m\u001b[0m\n\u001b[1;32m     10\u001b[0m     \u001b[0mpattern\u001b[0m \u001b[0;34m=\u001b[0m \u001b[0mre\u001b[0m\u001b[0;34m.\u001b[0m\u001b[0mcompile\u001b[0m\u001b[0;34m(\u001b[0m\u001b[0mprotein\u001b[0m\u001b[0;34m)\u001b[0m\u001b[0;34m\u001b[0m\u001b[0;34m\u001b[0m\u001b[0m\n\u001b[0;32m---> 11\u001b[0;31m     \u001b[0misInList\u001b[0m \u001b[0;34m=\u001b[0m \u001b[0mfilter\u001b[0m\u001b[0;34m(\u001b[0m\u001b[0mpattern\u001b[0m\u001b[0;34m.\u001b[0m\u001b[0msearch\u001b[0m\u001b[0;34m,\u001b[0m \u001b[0msites\u001b[0m\u001b[0;34m)\u001b[0m\u001b[0;34m\u001b[0m\u001b[0;34m\u001b[0m\u001b[0m\n\u001b[0m\u001b[1;32m     12\u001b[0m     \u001b[0;32mif\u001b[0m \u001b[0mnext\u001b[0m\u001b[0;34m(\u001b[0m\u001b[0misInList\u001b[0m\u001b[0;34m,\u001b[0m \u001b[0;32mNone\u001b[0m\u001b[0;34m)\u001b[0m \u001b[0;32mis\u001b[0m \u001b[0;32mnot\u001b[0m \u001b[0;32mNone\u001b[0m\u001b[0;34m:\u001b[0m\u001b[0;34m\u001b[0m\u001b[0;34m\u001b[0m\u001b[0m\n\u001b[1;32m     13\u001b[0m         \u001b[0mphosphositesdf\u001b[0m \u001b[0;34m=\u001b[0m \u001b[0mCPTAC\u001b[0m\u001b[0;34m.\u001b[0m\u001b[0mcompare_mutations\u001b[0m\u001b[0;34m(\u001b[0m\u001b[0mphos\u001b[0m\u001b[0;34m,\u001b[0m \u001b[0mprotein\u001b[0m\u001b[0;34m,\u001b[0m \u001b[0mgene\u001b[0m\u001b[0;34m)\u001b[0m\u001b[0;34m\u001b[0m\u001b[0;34m\u001b[0m\u001b[0m\n",
      "\u001b[0;31mNameError\u001b[0m: name 'sites' is not defined"
     ]
    }
   ],
   "source": [
    "\n",
    "p_values = []\n",
    "site_names = []\n",
    "\n",
    "\n",
    "#Get the total number of sites that will be tested\n",
    "total_sites = 0\n",
    "\n",
    "for protein in phosProtList:\n",
    "    pattern = re.compile(protein)\n",
    "    isInList = filter(pattern.search, sites)\n",
    "    if next(isInList, None) is not None:\n",
    "        phosphositesdf = CPTAC.compare_mutations(phos, protein, gene)\n",
    "        phosphositesdf = phosphositesdf.loc[phosphositesdf['Patient_Type'] == 'Tumor'].drop('Patient_Type', axis = 1)\n",
    "        for site in phosphositesdf.columns:\n",
    "            total_sites +=1\n",
    "\n",
    "cutoff = 0.05/total_sites\n",
    "\n",
    "for protein in phosProtList:\n",
    "    pattern = re.compile(protein)\n",
    "    isInList = filter(pattern.search, phosProtList)\n",
    "    if next(isInList, None) is not None:\n",
    "        phosdf = CPTAC.compare_mutations(phos, protein, gene)\n",
    "        for site in phosdf.columns:\n",
    "            if(site != gene and site != 'idx'):\n",
    "                sitedf = CPTAC.compare_mutations(phos, site, gene)\n",
    "                sitedf = sitedf.loc[sitedf['Patient_Type'] == 'Tumor'].dropna(axis=0)\n",
    "                mutated_site = sitedf.loc[sitedf['Mutation'] != 'Wildtype']\n",
    "                wt_site = sitedf.loc[sitedf['Mutation'] == 'Wildtype']\n",
    "                if len(mutated_site) > 2:\n",
    "                    ttest = scipy.stats.ttest_ind(mutated_site[site], wt_site[site])\n",
    "                    if ttest[1] <= pcutoff:\n",
    "                        print(site)\n",
    "                        print(ttest)                "
   ]
  },
  {
   "cell_type": "markdown",
   "metadata": {},
   "source": [
    "## Plot phosphorylation at one site"
   ]
  },
  {
   "cell_type": "code",
   "execution_count": null,
   "metadata": {},
   "outputs": [],
   "source": [
    "sitedf = CPTAC.compare_mutations(phos, site, gene)\n",
    "sitedf = sitedf.loc[sitedf['Patient_Type'] == 'Tumor'].dropna(axis=0)\n",
    "mutated_site = sitedf.loc[sitedf['Mutation'] != 'Wildtype']\n",
    "wt_site = sitedf.loc[sitedf['Mutation'] == 'Wildtype']\n",
    "ttest = scipy.stats.ttest_ind(mutated_site[site], wt_site[site])\n",
    "print(ttest)\n",
    "\n",
    "a4_dims = (11.7, 8.27)\n",
    "fig, ax = plt.subplots(figsize = a4_dims)\n",
    "boxplt = sns.boxplot(data = p53_mutations_protein, x = 'Within_Hotspot', y = protein, ax = ax)\n",
    "boxplt = sns.stripplot(data = p53_mutations_protein, x = 'Within_Hotspot', y = protein, jitter = True, color = '.3')\n",
    "boxplt.set_xlabel('Mutation Within Hotspot', fontsize='20')\n",
    "boxplt.set_ylabel('Protein Level', fontsize='20')\n",
    "boxplt.set_title(\"Effect of TP53 mutation on \" + protein + \" protein levels\", fontsize='22')\n",
    "plt.show()"
   ]
  },
  {
   "cell_type": "markdown",
   "metadata": {},
   "source": [
    "### Look at truncating mutations"
   ]
  },
  {
   "cell_type": "code",
   "execution_count": 56,
   "metadata": {},
   "outputs": [
    {
     "name": "stdout",
     "output_type": "stream",
     "text": [
      "AKT1-S124   Ttest_indResult(statistic=-4.197264306340348, pvalue=5.235627991954265e-05)\n",
      "AKT1-S126   Ttest_indResult(statistic=-4.606476806500214, pvalue=9.81847044727198e-06)\n",
      "AKT1-S129   Ttest_indResult(statistic=-5.079697894290569, pvalue=1.316039812638559e-06)\n",
      "PIK3CA-S312   Ttest_indResult(statistic=-5.215950581308962, pvalue=1.6862189170882383e-06)\n",
      "PTK2-S807   Ttest_indResult(statistic=-4.606770600219903, pvalue=1.1851786384314402e-05)\n",
      "PTK2-Y661   Ttest_indResult(statistic=-7.09958629472072, pvalue=1.216485461905824e-10)\n",
      "PTK2-Y662   Ttest_indResult(statistic=-6.509890406395231, pvalue=4.817642262998727e-09)\n",
      "TP53BP1-S1033   Ttest_indResult(statistic=4.432511197930399, pvalue=1.9918643841864058e-05)\n",
      "TP53BP1-S1072   Ttest_indResult(statistic=4.67558686997261, pvalue=7.857214776273573e-06)\n",
      "TP53BP1-S1099   Ttest_indResult(statistic=4.9688386484667735, pvalue=2.1301654693930482e-06)\n",
      "TP53BP1-S338   Ttest_indResult(statistic=4.434849611785817, pvalue=2.0542672537393225e-05)\n",
      "TP53BP1-S512   Ttest_indResult(statistic=-6.3753502979941965, pvalue=3.0877071110045737e-09)\n",
      "TP53BP1-S525   Ttest_indResult(statistic=-5.253575053903639, pvalue=6.105696185233877e-07)\n",
      "TP53BP1-S665   Ttest_indResult(statistic=6.842099708076877, pvalue=3.6034012460728846e-10)\n",
      "TP53BP1-S667   Ttest_indResult(statistic=6.557374764273333, pvalue=1.2485453888222368e-09)\n",
      "TP53BP1-S679   Ttest_indResult(statistic=7.5731872072227615, pvalue=6.560865725996083e-06)\n",
      "TP53BP1-S789   Ttest_indResult(statistic=-5.003091972665365, pvalue=1.8369147919463797e-06)\n",
      "TP53BP1-S791   Ttest_indResult(statistic=-4.658659452461188, pvalue=8.969548472869439e-06)\n",
      "TP53BP1-T1643   Ttest_indResult(statistic=5.795140623950512, pvalue=5.0880164315009934e-08)\n",
      "TP53BP1-T1645   Ttest_indResult(statistic=4.390560256480477, pvalue=3.4682917457084755e-05)\n",
      "TP53BP1-T1653   Ttest_indResult(statistic=4.9316330448789705, pvalue=2.500214991292968e-06)\n",
      "TP53BP1-T326   Ttest_indResult(statistic=4.479277630763777, pvalue=2.106246170940618e-05)\n",
      "TP53BP1-T339   Ttest_indResult(statistic=4.815004688305157, pvalue=4.336493816708172e-06)\n",
      "TP53BP1-T548   Ttest_indResult(statistic=-4.688428643270744, pvalue=1.207128629687705e-05)\n",
      "TP53BP1-T591   Ttest_indResult(statistic=-4.180999412862506, pvalue=0.0001049699687361494)\n",
      "TP53BP1-T675   Ttest_indResult(statistic=4.549629838743179, pvalue=1.7113254463204116e-05)\n",
      "TP53BP2-S704   Ttest_indResult(statistic=-5.350858502175663, pvalue=5.570758048300146e-07)\n",
      "TP53BP2-T592   Ttest_indResult(statistic=5.051792989914254, pvalue=2.6057068616967495e-06)\n",
      "TP53I11-S14   Ttest_indResult(statistic=4.153182970981033, pvalue=5.973587960463639e-05)\n",
      "PDGFRB-Y751   Ttest_indResult(statistic=-4.910001845554467, pvalue=3.0034484165590433e-05)\n",
      "MAGI2-S220   Ttest_indResult(statistic=-4.342006394622727, pvalue=5.6247547058500766e-05)\n",
      "MAST3-S348   Ttest_indResult(statistic=5.0538599650240235, pvalue=2.0110342419172163e-06)\n",
      "FRK-S40   Ttest_indResult(statistic=4.147143040475453, pvalue=6.889603143878961e-05)\n",
      "NFRKB-S372   Ttest_indResult(statistic=-5.412373932654863, pvalue=4.0754527029703266e-07)\n",
      "ROCK1-S1336   Ttest_indResult(statistic=-5.732221328626134, pvalue=9.094337110148932e-08)\n",
      "ROCK1-S1341   Ttest_indResult(statistic=-5.3394016328058775, pvalue=2.948658280787327e-06)\n",
      "STK11IP-S387   Ttest_indResult(statistic=4.056319984937939, pvalue=8.645316624483065e-05)\n"
     ]
    }
   ],
   "source": [
    "sites = phos.columns\n",
    "p_values = []\n",
    "site_names = []\n",
    "\n",
    "\n",
    "#Get the total number of sites that will be tested\n",
    "total_sites = 0\n",
    "\n",
    "for protein in phosProtList:\n",
    "    pattern = re.compile(protein)\n",
    "    isInList = filter(pattern.search, sites)\n",
    "    if next(isInList, None) is not None:\n",
    "        phosphositesdf = CPTAC.compare_mutations(phos, protein, gene)\n",
    "        phosphositesdf = phosphositesdf.loc[phosphositesdf['Patient_Type'] == 'Tumor'].drop('Patient_Type', axis = 1)\n",
    "        for site in phosphositesdf.columns:\n",
    "            total_sites +=1\n",
    "\n",
    "cutoff = 0.05/total_sites\n",
    "\n",
    "for protein in phosProtList:\n",
    "    pattern = re.compile(protein)\n",
    "    isInList = filter(pattern.search, sites)\n",
    "    if next(isInList, None) is not None:\n",
    "        phosphositesdf = CPTAC.compare_mutations(phos, protein, gene)\n",
    "        phosphositesdf = phosphositesdf.loc[phosphositesdf['Patient_Type'] == 'Tumor'].drop('Patient_Type', axis = 1)\n",
    "        #cutoff = 0.05/(len(phosphositesdf.columns) - 2)\n",
    "        for site in phosphositesdf.columns:\n",
    "            if (site is not 'Mutation'):\n",
    "                sitedf = CPTAC.compare_mutations(phos, site, gene)\n",
    "                mutateddf = sitedf.loc[(sitedf[\"Mutation\"] == \"Frame_Shift_Del\") | \n",
    "                            (sitedf[\"Mutation\"] == \"Frame_Shift_Ins\") |\n",
    "                            (sitedf[\"Mutation\"] == 'Nonsense_Mutation')].dropna(axis=0)\n",
    "                wtdf = sitedf.loc[sitedf['Mutation'] == 'Wildtype'].dropna(axis=0)\n",
    "                ttest = scipy.stats.ttest_ind(mutateddf[site], wtdf[site])\n",
    "                if ttest[1] < cutoff:\n",
    "                    p_values.append(ttest[1])\n",
    "                    site_names.append(site)     \n",
    "                    print(site, \" \", ttest)\n",
    "                \n"
   ]
  },
  {
   "cell_type": "markdown",
   "metadata": {},
   "source": [
    "## Missense and truncating"
   ]
  },
  {
   "cell_type": "code",
   "execution_count": 58,
   "metadata": {},
   "outputs": [
    {
     "name": "stdout",
     "output_type": "stream",
     "text": [
      "AKT1-S124   5.782239980115453e-06\n",
      "AKT1-S126   5.988885536569973e-07\n",
      "AKT1-S129   3.4571790280847676e-08\n",
      "PIK3R1-S154   4.324911905663183e-05\n",
      "PIK3CA-S312   1.882471025156517e-07\n",
      "PTK2-S807   7.60908358639563e-06\n",
      "PTK2-Y661   3.477400028601845e-13\n",
      "PTK2-Y662   1.6547585223126498e-10\n",
      "TP53BP1-S1004   2.6393196651591007e-05\n",
      "TP53BP1-S1033   2.5209606781200713e-05\n",
      "TP53BP1-S1072   7.331925442355188e-06\n",
      "TP53BP1-S1099   5.207652243319692e-07\n",
      "TP53BP1-S338   1.998875305942792e-06\n",
      "TP53BP1-S512   8.580846126435513e-11\n",
      "TP53BP1-S525   3.7429449576433537e-07\n",
      "TP53BP1-S665   1.133278013074344e-10\n",
      "TP53BP1-S667   3.781301460054111e-11\n",
      "TP53BP1-S679   4.349534252122473e-06\n",
      "TP53BP1-S789   1.19303798103777e-06\n",
      "TP53BP1-S791   7.538388544617765e-05\n",
      "TP53BP1-S814   1.7042600102456528e-05\n",
      "TP53BP1-T1643   7.384863429345417e-08\n",
      "TP53BP1-T1645   1.3886513001648708e-05\n",
      "TP53BP1-T1653   4.378423799809717e-06\n",
      "TP53BP1-T339   3.0788271393553404e-07\n",
      "TP53BP1-T548   1.4744525684569943e-06\n",
      "TP53BP1-T591   3.1940320448182394e-06\n",
      "TP53BP1-T675   2.186799136676497e-06\n",
      "TP53BP2-S704   1.352733755501768e-07\n",
      "TP53BP2-T592   1.7229682582069135e-06\n",
      "PDGFRB-S705   1.817030433558998e-05\n",
      "PDGFRB-Y751   1.4680875213960477e-05\n",
      "MAGI2-S220   2.7284940665611883e-05\n",
      "MAGI3-S235   0.0001164231002646805\n",
      "MAST3-S348   3.656264595228239e-08\n",
      "FRK-S40   4.0473880453604626e-05\n",
      "NFRKB-S372   5.7396888296618224e-08\n",
      "ROCK1-S1105   4.641788384901247e-05\n",
      "ROCK1-S1147   5.013487225781555e-05\n",
      "ROCK1-S1336   4.307209115802872e-09\n",
      "ROCK1-S1341   5.473833950041148e-07\n",
      "STK11IP-S387   2.4938123096513174e-05\n"
     ]
    }
   ],
   "source": [
    "sites = phos.columns\n",
    "p_values = []\n",
    "site_names = []\n",
    "\n",
    "#Get the total number of sites that will be tested\n",
    "total_sites = 0\n",
    "\n",
    "for protein in phosProtList:\n",
    "    pattern = re.compile(protein)\n",
    "    isInList = filter(pattern.search, sites)\n",
    "    if next(isInList, None) is not None:\n",
    "        phosphositesdf = CPTAC.compare_mutations(phos, protein, gene)\n",
    "        phosphositesdf = phosphositesdf.loc[phosphositesdf['Patient_Type'] == 'Tumor'].drop('Patient_Type', axis = 1)\n",
    "        for site in phosphositesdf.columns:\n",
    "            total_sites +=1\n",
    "\n",
    "cutoff = 0.05/total_sites\n",
    "\n",
    "\n",
    "for protein in phosProtList:\n",
    "    pattern = re.compile(protein)\n",
    "    isInList = filter(pattern.search, sites)\n",
    "    if next(isInList, None) is not None:\n",
    "        phosphositesdf = CPTAC.compare_mutations(phos, protein, gene)\n",
    "        phosphositesdf = phosphositesdf.loc[phosphositesdf['Patient_Type'] == 'Tumor'].drop('Patient_Type', axis = 1)\n",
    "        for site in phosphositesdf.columns:\n",
    "            if (site is not 'Mutation'):\n",
    "                sitedf = CPTAC.compare_mutations(phos, site, gene)\n",
    "                mutateddf = sitedf.loc[(sitedf[\"Mutation\"] == \"Frame_Shift_Del\") | \n",
    "                        (sitedf[\"Mutation\"] == \"Frame_Shift_Ins\") |\n",
    "                        (sitedf[\"Mutation\"] == 'Nonsense_Mutation') |\n",
    "                        (sitedf[\"Mutation\"] == 'Missense_Mutation')            ].dropna(axis=0)\n",
    "                wtdf = sitedf.loc[sitedf['Mutation'] == 'Wildtype'].dropna(axis=0)\n",
    "                ttest = scipy.stats.ttest_ind(mutateddf[site], wtdf[site])\n",
    "                if ttest[1] < cutoff:\n",
    "                    p_values.append(ttest[1])\n",
    "                    site_names.append(site)  \n",
    "                    print(site, \" \", ttest[1])\n"
   ]
  },
  {
   "cell_type": "markdown",
   "metadata": {},
   "source": [
    "### Look at all mutations"
   ]
  },
  {
   "cell_type": "code",
   "execution_count": 82,
   "metadata": {},
   "outputs": [
    {
     "name": "stdout",
     "output_type": "stream",
     "text": [
      "AKT1-S124   4.3878452856271334e-06\n",
      "AKT1-S126   6.502007928544618e-07\n",
      "AKT1-S129   3.0628964158401015e-08\n",
      "AKT1S1-S108   0.00010497800313945146\n",
      "PIK3R1-S154   2.5024667633889924e-05\n",
      "PIK3CA-S312   1.882471025156517e-07\n",
      "PIK3CA-T313   8.432875990279619e-05\n",
      "PTK2-S807   7.110204063419284e-06\n",
      "PTK2-Y661   2.324697103436591e-13\n",
      "PTK2-Y662   1.392372230028616e-10\n",
      "TP53BP1-S1004   2.011491512653496e-05\n",
      "TP53BP1-S1033   1.924601976170492e-05\n",
      "TP53BP1-S1072   7.499459353101512e-06\n",
      "TP53BP1-S1099   3.161179320719698e-07\n",
      "TP53BP1-S1683   9.816206781435526e-05\n",
      "TP53BP1-S338   1.2561334134065202e-06\n",
      "TP53BP1-S512   4.560452985918951e-11\n",
      "TP53BP1-S525   2.9168699535079006e-07\n",
      "TP53BP1-S665   7.008689378252958e-11\n",
      "TP53BP1-S667   2.1818067857860122e-11\n",
      "TP53BP1-S679   1.1371805012348104e-06\n",
      "TP53BP1-S789   2.7041027801347735e-06\n",
      "TP53BP1-S814   1.646837440523267e-05\n",
      "TP53BP1-T1643   4.288600352142869e-08\n",
      "TP53BP1-T1645   9.099401406817962e-06\n",
      "TP53BP1-T1653   2.7196864328969176e-06\n",
      "TP53BP1-T339   1.974271319966684e-07\n",
      "TP53BP1-T548   1.4744525684569943e-06\n",
      "TP53BP1-T591   1.938912628480892e-06\n",
      "TP53BP1-T675   1.4855357860554362e-06\n",
      "TP53BP2-S704   8.190235157008751e-08\n",
      "TP53BP2-T592   1.7229682582069135e-06\n",
      "PDGFRB-S705   1.817030433558998e-05\n",
      "PDGFRB-Y751   1.4680875213960477e-05\n",
      "MAGI2-S220   2.7284940665611883e-05\n",
      "MAGI3-S235   5.982006831590407e-05\n",
      "MAST3-S348   2.0890240872841893e-08\n",
      "FRK-S40   3.035095810206077e-05\n",
      "NFRKB-S372   5.071096086423504e-08\n",
      "ROCK1-S1105   5.9940117635289414e-05\n",
      "ROCK1-S1147   5.013487225781555e-05\n",
      "ROCK1-S1336   2.5590258350747756e-09\n",
      "ROCK1-S1341   2.9482073674871726e-07\n",
      "STK11IP-S387   5.463033269569972e-05\n"
     ]
    }
   ],
   "source": [
    "sites = phos.columns\n",
    "p_values = []\n",
    "site_names = []\n",
    "\n",
    "total_sites = 0\n",
    "\n",
    "for protein in phosProtList:\n",
    "    pattern = re.compile(protein)\n",
    "    isInList = filter(pattern.search, sites)\n",
    "    if next(isInList, None) is not None:\n",
    "        phosphositesdf = CPTAC.compare_mutations(phos, protein, gene)\n",
    "        phosphositesdf = phosphositesdf.loc[phosphositesdf['Patient_Type'] == 'Tumor'].drop('Patient_Type', axis = 1)\n",
    "        for site in phosphositesdf.columns:\n",
    "            total_sites +=1\n",
    "\n",
    "cutoff = 0.05/total_sites\n",
    "\n",
    "\n",
    "for protein in phosProtList:\n",
    "    pattern = re.compile(protein)\n",
    "    isInList = filter(pattern.search, sites)\n",
    "    if next(isInList, None) is not None:\n",
    "        phosphositesdf = CPTAC.compare_mutations(phos, protein, gene)\n",
    "        phosphositesdf = phosphositesdf.loc[phosphositesdf['Patient_Type'] == 'Tumor'].drop('Patient_Type', axis = 1)\n",
    "        for site in phosphositesdf.columns:\n",
    "            if (site is not 'Mutation' and site is not 'Patient_Type'):\n",
    "                sitedf = CPTAC.compare_mutations(phos, site, gene)\n",
    "                mutateddf = sitedf.loc[sitedf[\"Mutation\"] != 'Wildtype'].dropna(axis=0)\n",
    "                wtdf = sitedf.loc[sitedf['Mutation'] == 'Wildtype'].dropna(axis=0)\n",
    "                ttest = scipy.stats.ttest_ind(mutateddf[site], wtdf[site])\n",
    "                if ttest[1] < cutoff:\n",
    "                    p_values.append(ttest[1])\n",
    "                    site_names.append(site)\n",
    "                    print(site, \" \", ttest[1])\n",
    "\n"
   ]
  },
  {
   "cell_type": "code",
   "execution_count": 85,
   "metadata": {},
   "outputs": [
    {
     "name": "stdout",
     "output_type": "stream",
     "text": [
      "AKT1-S124   4.3878452856271334e-06\n",
      "AKT1-S126   6.502007928544618e-07\n",
      "AKT1-S129   3.0628964158401015e-08\n",
      "AKT1S1-S108   0.00010497800313945146\n"
     ]
    }
   ],
   "source": [
    "phosProtList = ['AKT1']\n",
    "\n",
    "for protein in phosProtList:\n",
    "    pattern = re.compile(protein)\n",
    "    isInList = filter(pattern.search, sites)\n",
    "    if next(isInList, None) is not None:\n",
    "        phosphositesdf = CPTAC.compare_mutations(phos, protein, gene)\n",
    "        phosphositesdf = phosphositesdf.loc[phosphositesdf['Patient_Type'] == 'Tumor'].drop('Patient_Type', axis = 1)\n",
    "        for site in phosphositesdf.columns:\n",
    "            if (site is not 'Mutation' and site is not 'Patient_Type'):\n",
    "                sitedf = CPTAC.compare_mutations(phos, site, gene)\n",
    "                mutateddf = sitedf.loc[sitedf[\"Mutation\"] != 'Wildtype'].dropna(axis=0)\n",
    "                wtdf = sitedf.loc[sitedf['Mutation'] == 'Wildtype'].dropna(axis=0)\n",
    "                ttest = scipy.stats.ttest_ind(mutateddf[site], wtdf[site])\n",
    "                if ttest[1] < cutoff:\n",
    "                    p_values.append(ttest[1])\n",
    "                    site_names.append(site)\n",
    "                    print(site, \" \", ttest[1])"
   ]
  },
  {
   "cell_type": "code",
   "execution_count": 92,
   "metadata": {},
   "outputs": [
    {
     "data": {
      "image/png": "[encoded data removed]",
      "text/plain": [
       "<Figure size 842.4x595.44 with 1 Axes>"
      ]
     },
     "metadata": {
      "needs_background": "light"
     },
     "output_type": "display_data"
    }
   ],
   "source": [
    "a4_dims = (11.7, 8.27)\n",
    "fig, ax = plt.subplots(figsize=a4_dims)\n",
    "\n",
    "site = 'AKT1S1-S108'\n",
    "sitedf = CPTAC.compare_mutations(phos, site, gene)\n",
    "\n",
    "boxplt = sns.boxplot(data = sitedf, x = 'Mutation', y = site)\n",
    "boxplt = sns.stripplot(data = sitedf, x = 'Mutation', y = site, jitter = True, color = '.3')\n",
    "plt.show()"
   ]
  },
  {
   "cell_type": "code",
   "execution_count": null,
   "metadata": {},
   "outputs": [],
   "source": []
  }
 ],
 "metadata": {
  "kernelspec": {
   "display_name": "Python 3",
   "language": "python",
   "name": "python3"
  },
  "language_info": {
   "codemirror_mode": {
    "name": "ipython",
    "version": 3
   },
   "file_extension": ".py",
   "mimetype": "text/x-python",
   "name": "python",
   "nbconvert_exporter": "python",
   "pygments_lexer": "ipython3",
   "version": "3.7.1"
  }
 },
 "nbformat": 4,
 "nbformat_minor": 2
}
