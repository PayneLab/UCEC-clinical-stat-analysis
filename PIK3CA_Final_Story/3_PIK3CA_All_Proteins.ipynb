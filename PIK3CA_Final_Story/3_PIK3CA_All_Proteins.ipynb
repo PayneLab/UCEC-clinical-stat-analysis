{
 "cells": [
  {
   "cell_type": "markdown",
   "metadata": {},
   "source": [
    "# PIK3CA trans effects on known interacting proteins"
   ]
  },
  {
   "cell_type": "markdown",
   "metadata": {},
   "source": [
    "We investigated the effects of PIK3CA mutation on the proteomics and phosphoproteomic of all proteins in our dataframes. \n",
    "\n",
    "We compare the proteomics and phosphoproteomics of patients with mutations in the PIK3CA hotspot with cancer patients with no PIK3CA mutation (cancer wildtype) and also all patients with any PIK3CA mutation with cancer wildtype."
   ]
  },
  {
   "cell_type": "markdown",
   "metadata": {},
   "source": [
    "## Standard Imports"
   ]
  },
  {
   "cell_type": "code",
   "execution_count": 6,
   "metadata": {},
   "outputs": [],
   "source": [
    "import pandas as pd\n",
    "import numpy as np\n",
    "import re\n",
    "import scipy.stats\n",
    "import statsmodels.stats.multitest\n",
    "import matplotlib.pyplot as plt\n",
    "import seaborn as sns\n",
    "import json\n",
    "import operator\n",
    "\n",
    "#import the Endometrial data from CPTAC package\n",
    "import CPTAC.Endometrial as CPTAC"
   ]
  },
  {
   "cell_type": "markdown",
   "metadata": {},
   "source": [
    "# 1. Set up initial dataframes and variables"
   ]
  },
  {
   "cell_type": "code",
   "execution_count": 7,
   "metadata": {},
   "outputs": [
    {
     "name": "stdout",
     "output_type": "stream",
     "text": [
      "160      S001\n",
      "1147     S003\n",
      "1426     S009\n",
      "4757     S021\n",
      "16613    S023\n",
      "19188    S024\n",
      "21386    S032\n",
      "21643    S033\n",
      "22656    S038\n",
      "37618    S061\n",
      "38352    S063\n",
      "39719    S066\n",
      "43588    S067\n",
      "43687    S068\n",
      "46859    S084\n",
      "47557    S088\n",
      "48398    S090\n",
      "49903    S097\n",
      "50016    S098\n",
      "Name: Clinical_Patient_Key, dtype: object\n"
     ]
    }
   ],
   "source": [
    "gene = 'PIK3CA'\n",
    "somatic = CPTAC.get_somatic()\n",
    "proteomics = CPTAC.get_proteomics()\n",
    "phos = CPTAC.get_phosphoproteomics()\n",
    "\n",
    "#A list of mutations present in the hotspot according to our Hotspot3D output\n",
    "hotspot_mutations = ['p.E545A', 'p.E545K', 'p.E545V', 'p.Q546P', 'p.Q546R', 'p.E542K']\n",
    "\n",
    "#\n",
    "mutated_hotspot = somatic.loc[(somatic['Location'].isin(hotspot_mutations)) & (somatic['Gene'] == gene)]\n",
    "hotspot_patients = mutated_hotspot['Clinical_Patient_Key']\n",
    "\n",
    "hotspot_patients_both_keys = mutated_hotspot[['Clinical_Patient_Key', 'Patient_Id']]\n",
    "hotspot_patients = hotspot_patients_both_keys['Clinical_Patient_Key']\n",
    "print(hotspot_patients)\n",
    "\n",
    "#The pvalue cutoff used to find significance\n",
    "pcutoff = 0.05\n"
   ]
  },
  {
   "cell_type": "markdown",
   "metadata": {},
   "source": [
    "# 2. Find number of patients with PIK3CA mutations in/outside of the hotspot"
   ]
  },
  {
   "cell_type": "code",
   "execution_count": 8,
   "metadata": {},
   "outputs": [
    {
     "name": "stdout",
     "output_type": "stream",
     "text": [
      "Mutations inside hotspot: 19\n",
      "Total number of patients with mutations: 48\n"
     ]
    }
   ],
   "source": [
    "print(\"Mutations inside hotspot: \" + str(len(hotspot_patients)))\n",
    "p110_mutated = somatic.loc[somatic['Gene'] == 'PIK3CA']\n",
    "#note: the gene PIK3CA encodes for the protein p110α, hence the variable 'p110_mutated'\n",
    "\n",
    "# This naturally includes a value that is 'NA' so we subtract 1\n",
    "# Some people have more than one mutation so we need to grab the unique values\n",
    "num_mutated = len(set(p110_mutated['Clinical_Patient_Key'])) - 1\n",
    "print(\"Total number of patients with mutations: \" + str(num_mutated))"
   ]
  },
  {
   "cell_type": "markdown",
   "metadata": {},
   "source": [
    "# 3. Create list for all proteins in proteomics dataframe and all phosphosites in phosphoproteomics dataframe"
   ]
  },
  {
   "cell_type": "code",
   "execution_count": 9,
   "metadata": {},
   "outputs": [],
   "source": [
    "#Build the protein list; this may have only a single protein if desired\n",
    "protList = proteomics.columns\n",
    "phosprotList = phos.columns"
   ]
  },
  {
   "cell_type": "markdown",
   "metadata": {},
   "source": [
    "# 4. Proteomic Abundance"
   ]
  },
  {
   "cell_type": "markdown",
   "metadata": {},
   "source": [
    "## 4a. Hotspot mutations vs cancer wildtype"
   ]
  },
  {
   "cell_type": "code",
   "execution_count": null,
   "metadata": {},
   "outputs": [
    {
     "name": "stdout",
     "output_type": "stream",
     "text": [
      "Mutations inside hotspot: 19\n"
     ]
    }
   ],
   "source": [
    "print(\"Mutations inside hotspot: \" + str(len(hotspot_patients)))\n",
    "p110_mutated = somatic.loc[somatic['Gene'] == 'PIK3CA']\n",
    "\n",
    "# 1. Use the Bonferonni correction to adjust the p-value by dividing alpha (0.05) by the number of tests. \n",
    "#   Because we are analyzing 19 proteins, we will have 19 tests. \n",
    "pcutoff = 0.05/len(protList)\n",
    "\n",
    "# 2. Create a dictionary for significant proteins with their prespective pvalues\n",
    "#    Create another dictionary for unsignificant results\n",
    "\n",
    "sigResults = {}\n",
    "unsigResults = {}\n",
    "\n",
    "# 3. Loop through each protein to test for significant protein level\n",
    "for protein in protList: \n",
    "    \n",
    "    #Check to make sure that the protein is in the proteomics dataframe that we are reading from\n",
    "    if protein in proteomics.columns:\n",
    "        # 4. Set up a new column for mutations that are within the hotspot\n",
    "        p10_mutations = CPTAC.compare_mutations(proteomics, protein, gene)\n",
    "        p10_mutations['Within_Hotspot'] = False\n",
    "        p10_mutations.loc[hotspot_patients, 'Within_Hotspot'] = True\n",
    "        p10_mutations.loc[p10_mutations['Mutation'] == 'Wildtype', 'Within_Hotspot'] = 'Wildtype'\n",
    "        p10_mutations = p10_mutations.loc[p10_mutations['Patient_Type'] == 'Tumor'].dropna(axis=0)\n",
    "\n",
    "        in_hotspot = p10_mutations.loc[p10_mutations['Within_Hotspot'] == True]\n",
    "        wt = p10_mutations.loc[p10_mutations['Within_Hotspot'] == 'Wildtype']\n",
    "        \n",
    "        # 5. Perform a two-sample ttest for mutations in hotspot vs mutations outside of the hotspot\n",
    "        ttest = scipy.stats.ttest_ind(in_hotspot[protein], wt[protein])\n",
    "        \n",
    "        if ttest[1] < pcutoff:\n",
    "            sigResults[protein] = ttest[1]\n",
    "        else:\n",
    "            unsigResults[protein] = ttest[1]\n",
    "            \n",
    "#5. Sort the dictionaries \n",
    "sigResults = sorted(sigResults.items(), key=operator.itemgetter(1))\n",
    "unsigResults = sorted(unsigResults.items(), key=operator.itemgetter(1))\n",
    "            \n",
    "# 6. Print the results\n",
    "print('SIGNIFICANT RESULTS:')\n",
    "# Json is a nice package that allows you to print items in the dictionary line by line\n",
    "print(json.dumps(sigResults, indent = 2))\n",
    "print(' ')\n",
    "print('UNSIGNIFICANT RESULTS:')\n",
    "print(json.dumps(unsigResults, indent = 2))\n"
   ]
  },
  {
   "cell_type": "markdown",
   "metadata": {},
   "source": [
    "## 4b. Plot the data for the most significant result"
   ]
  },
  {
   "cell_type": "markdown",
   "metadata": {},
   "source": [
    "## 4c. All mutations vs cancer wildtype"
   ]
  },
  {
   "cell_type": "code",
   "execution_count": null,
   "metadata": {},
   "outputs": [],
   "source": [
    "print(\"Mutations inside hotspot: \" + str(len(hotspot_patients)))\n",
    "p110_mutated = somatic.loc[somatic['Gene'] == 'PIK3CA']\n",
    "\n",
    "# 1. Use the Bonferonni correction to adjust the p-value by dividing alpha (0.05) by the number of tests. \n",
    "#   Because we are analyzing 19 proteins, we will have 19 tests. \n",
    "pcutoff = 0.05/len(protList)\n",
    "\n",
    "# 2. Create a dictionary for significant proteins with their prespective pvalues\n",
    "#    Create another dictionary for unsignificant results\n",
    "\n",
    "sigResults = {}\n",
    "unsigResults = {}\n",
    "\n",
    "# 3. Loop through each protein to test for significant protein level\n",
    "for protein in protList: \n",
    "    \n",
    "    #Check to make sure that the protein is in the proteomics dataframe that we are reading from\n",
    "    if protein in proteomics.columns:\n",
    "        # 4. Set up a new column for mutations that are within the hotspot\n",
    "        p10_mutations = CPTAC.compare_mutations(proteomics, protein, gene)\n",
    "        p10_mutations['Within_Hotspot'] = False\n",
    "        p10_mutations.loc[hotspot_patients, 'Within_Hotspot'] = True\n",
    "        p10_mutations.loc[p10_mutations['Mutation'] == 'Wildtype', 'Within_Hotspot'] = 'Wildtype'\n",
    "        p10_mutations = p10_mutations.loc[p10_mutations['Patient_Type'] == 'Tumor'].dropna(axis=0)\n",
    "\n",
    "        all_mut = p10_mutations.loc[p10_mutations['Within_Hotspot'] != 'Wildtype']\n",
    "        wt = p10_mutations.loc[p10_mutations['Within_Hotspot'] == 'Wildtype']\n",
    "        \n",
    "        # 5. Perform a two-sample ttest for mutations in hotspot vs mutations outside of the hotspot\n",
    "        ttest = scipy.stats.ttest_ind(all_mut[protein], wt[protein])\n",
    "        \n",
    "        if ttest[1] < pcutoff:\n",
    "            sigResults[protein] = ttest[1]\n",
    "            \n",
    "        else:\n",
    "            unsigResults[protein] = ttest[1]\n",
    "\n",
    "# 5. Sort the dictionaries \n",
    "sigResults = sorted(sigResults.iteritems())\n",
    "unsigResults = sorted(unsigResults.iteritems())\n",
    "            \n",
    "# 6. Print the results\n",
    "print('SIGNIFICANT RESULTS:')\n",
    "# Json is a nice package that allows you to print items in the dictionary line by line\n",
    "print(json.dumps(sigResults, indent = 2))\n",
    "print(' ')\n",
    "print('UNSIGNIFICANT RESULTS:')\n",
    "print(json.dumps(unsigResults, indent = 2))\n"
   ]
  },
  {
   "cell_type": "markdown",
   "metadata": {},
   "source": [
    "## 4d. Plot the data for the most significant result"
   ]
  },
  {
   "cell_type": "markdown",
   "metadata": {},
   "source": [
    "# 5. Phosphoproteomic Abundance"
   ]
  },
  {
   "cell_type": "markdown",
   "metadata": {},
   "source": [
    "## 5a. Hotspot mutation vs cancer wildtype"
   ]
  },
  {
   "cell_type": "code",
   "execution_count": null,
   "metadata": {},
   "outputs": [],
   "source": [
    "sites = []\n",
    "pvalues = []\n",
    "\n",
    "\n",
    "# 1. Loop through each of the proteins in the list of interacting proteins\n",
    "for protein in protList:\n",
    "   # 2. Loop through each phosphorylation site in that protein to find any that show any significant changes in phosphorylation level\n",
    "    #  Some proteins do not have recorded data in the phosphoproteomics data. If this is the case, we move on to the next protein in the list\n",
    "    try:\n",
    "        \n",
    "        # 3. Set up a new column for mutations that are within the hotspot\n",
    "        phos_mutations = CPTAC.compare_mutations(phos, protein, gene)\n",
    "        phos_mutations['Within_Hotspot'] = False\n",
    "        phos_mutations.loc[hotspot_patients, 'Within_Hotspot'] = True\n",
    "        phos_mutations.loc[phos_mutations['Mutation'] == 'Wildtype', 'Within_Hotspot'] = 'Wildtype'\n",
    "        \n",
    "        # 4. Select for tumor samples only \n",
    "        phos_mutations = phos_mutations.loc[phos_mutations['Patient_Type'] == 'Tumor']\n",
    "       \n",
    "        #5. Create a list of the phosphosites by selecting all the columns in the dataframe, excluding the last three which are categorical variables\n",
    "        phos_sites = list(phos_mutations)\n",
    "        # Take out the categorical variables, which are 'Mutation', 'Patient_Type', and 'Within_Hotspot'\n",
    "        phos_sites = phos_sites[:(len(phos_sites) - 3)]\n",
    "\n",
    "        # 6. Create two dataframes to test the two cases: one for phosphorylation levels when PIK3CA is mutated at a hotspot, the other when PIK3CA is mutated outside the hotspot\n",
    "        #    Drop any columns that contain values of 'Nan' which means for 'Not a number'\n",
    "        hotspot_mut = phos_mutations.loc[phos_mutations['Within_Hotspot'] == True].dropna(axis = 1)\n",
    "        wt = phos_mutations.loc[phos_mutations['Within_Hotspot'] == 'Wildtype'].dropna(axis = 1)\n",
    "\n",
    "        # 7. Loop through each site to test for significant difference in phosphorylation levels between the two tested cases\n",
    "        for site in phos_sites:\n",
    "\n",
    "        # 8. Check if the site is in both dataframes. That column may have been deleted in step 4\n",
    "            if site in hotspot_mut.columns and site in wt.columns:\n",
    "                \n",
    "                # 9. Perform a two-sample ttest for mutations in hotspot vs cancer wildtype\n",
    "                ttest = scipy.stats.ttest_ind(hotspot_mut[site], wt[site])\n",
    "                \n",
    "                # 10. Append site name and pvalue in two separate lists that will be used to calculate the pvalue adjustment using Bonferroni correction\n",
    "                sites.append(site)\n",
    "                pvalues.append(ttest[1])\n",
    "    #Error caught in the case that the protein had no data in the phosproteomics data\n",
    "    except:\n",
    "        print('')\n",
    "        \n",
    "        \n",
    "# 11. After looping through all of the phosphorylation sites of each protein, filter the list of pvalues with respective sites to find those with significant results\n",
    "#     Create a dictionary to pair the significant sites with their significant pvalues \n",
    "#     Create another dictionary for unsignificant results\n",
    "sigSites = {}\n",
    "unsigSites = {}\n",
    "\n",
    "#     The Bonferroni correction is alpha/number of sites tested\n",
    "alpha = 0.05\n",
    "pcutoff = alpha/len(sites)\n",
    "\n",
    "#     Loop through each pvalue to find those that are lower than the pcutoff\n",
    "for i in range(0, len(sites) - 1):\n",
    "    if pvalues[i] < pcutoff:\n",
    "        sigSites[sites[i]] = pvalues[i]\n",
    "    else:\n",
    "        unsigSites[sites[i]] = pvalues[i]\n",
    "\n",
    "# 12. Print your results\n",
    "print('SIGNIFICANT RESULTS:')\n",
    "print(json.dumps(sigSites, indent = 2))\n",
    "print(' ')\n",
    "print('UNSIGNIFICANT RESULTS:')\n",
    "print(json.dumps(unsigSites, indent = 2))"
   ]
  },
  {
   "cell_type": "markdown",
   "metadata": {},
   "source": [
    "## 5b. Plot the data for the most significant result"
   ]
  },
  {
   "cell_type": "code",
   "execution_count": null,
   "metadata": {},
   "outputs": [],
   "source": [
    "site = 'RPS6KC1-S423'\n",
    "protein = 'RPS6KC1'\n",
    "\n",
    "phos_mutations = CPTAC.compare_mutations(phos, protein, gene)\n",
    "phos_mutations['Within_Hotspot'] = False\n",
    "phos_mutations.loc[hotspot_patients, 'Within_Hotspot'] = True\n",
    "phos_mutations.loc[phos_mutations['Mutation'] == 'Wildtype', 'Within_Hotspot'] = 'Wildtype'\n",
    "\n",
    "# Select for tumor samples only \n",
    "phos_mutations = phos_mutations.loc[phos_mutations['Patient_Type'] == 'Tumor']\n",
    "\n",
    "#5. Create a list of the phosphosites by selecting all the columns in the dataframe, excluding the last three which are categorical variables\n",
    "phos_sites = list(phos_mutations)\n",
    "# Take out the categorical variables, which are 'Mutation', 'Patient_Type', and 'Within_Hotspot'\n",
    "phos_sites = phos_sites[:(len(phos_sites) - 3)]\n",
    "\n",
    "# 6. Create two dataframes to test the two cases: one for phosphorylation levels when PIK3CA is mutated at a hotspot, the other when PIK3CA is mutated outside the hotspot\n",
    "#    Drop any columns that contain values of 'Nan' which means for 'Not a number'\n",
    "hotspot_mut = phos_mutations.loc[phos_mutations['Within_Hotspot'] == True].dropna(axis = 1)\n",
    "wt = phos_mutations.loc[phos_mutations['Within_Hotspot'] == 'Wildtype'].dropna(axis = 1)\n",
    "\n",
    "\n",
    "ttest = scipy.stats.ttest_ind(hotspot_mut[site], wt[site])\n",
    "\n",
    "a4_dims = (11.7, 8.27)\n",
    "fig, ax = plt.subplots(figsize = a4_dims)\n",
    "boxplt = sns.boxplot(data = phos_mutations, x = 'Within_Hotspot', y = site, ax = ax)\n",
    "boxplt = sns.stripplot(data = phos_mutations, x = 'Within_Hotspot', y = site, jitter = True, color = '.3')\n",
    "boxplt.set_xlabel('Mutation Location', fontsize='20')\n",
    "boxplt.set_ylabel('Protein Expression', fontsize='20')\n",
    "boxplt.set_title(\"Effect of \" + gene + \" mutation on \" + site + \" proteomics\" + '\\nP-value = ' + str(round(ttest[1],  6)), fontsize='22')\n",
    "plt.show()\n",
    "\n"
   ]
  },
  {
   "cell_type": "markdown",
   "metadata": {},
   "source": [
    "## 5c. All mutations vs cancer wildtype"
   ]
  },
  {
   "cell_type": "code",
   "execution_count": null,
   "metadata": {},
   "outputs": [],
   "source": [
    "sites = []\n",
    "pvalues = []\n",
    "\n",
    "\n",
    "# 1. Loop through each of the proteins in the list of interacting proteins\n",
    "for protein in protList:\n",
    "   # 2. Loop through each phosphorylation site in that protein to find any that show any significant changes in phosphorylation level\n",
    "    #  Some proteins do not have recorded data in the phosphoproteomics data. If this is the case, we move on to the next protein in the list\n",
    "    try:\n",
    "        \n",
    "        # 3. Set up a new column for mutations that are within the hotspot\n",
    "        phos_mutations = CPTAC.compare_mutations(phos, protein, gene)\n",
    "        phos_mutations['Within_Hotspot'] = False\n",
    "        phos_mutations.loc[hotspot_patients, 'Within_Hotspot'] = True\n",
    "        phos_mutations.loc[phos_mutations['Mutation'] == 'Wildtype', 'Within_Hotspot'] = 'Wildtype'\n",
    "        \n",
    "        # 4. Select for tumor samples only \n",
    "        phos_mutations = phos_mutations.loc[phos_mutations['Patient_Type'] == 'Tumor']\n",
    "       \n",
    "        #5. Create a list of the phosphosites by selecting all the columns in the dataframe, excluding the last three which are categorical variables\n",
    "        phos_sites = list(phos_mutations)\n",
    "        # Take out the categorical variables, which are 'Mutation', 'Patient_Type', and 'Within_Hotspot'\n",
    "        phos_sites = phos_sites[:(len(phos_sites) - 3)]\n",
    "\n",
    "        # 6. Create two dataframes to test the two cases: one for phosphorylation levels when PIK3CA is mutated at a hotspot, the other when PIK3CA is mutated outside the hotspot\n",
    "        #    Drop any columns that contain values of 'Nan' which means for 'Not a number'\n",
    "        all_mut = phos_mutations.loc[phos_mutations['Within_Hotspot'] != 'Wildtype'].dropna(axis = 1)\n",
    "        wt = phos_mutations.loc[phos_mutations['Within_Hotspot'] == 'Wildtype'].dropna(axis = 1)\n",
    "\n",
    "        # 7. Loop through each site to test for significant difference in phosphorylation levels between the two tested cases\n",
    "        for site in phos_sites:\n",
    "\n",
    "        # 8. Check if the site is in both dataframes. That column may have been deleted in step 4\n",
    "            if site in all_mut.columns and site in wt.columns:\n",
    "                \n",
    "                # 9. Perform a two-sample ttest for all mutations vs cancer wildtype\n",
    "                ttest = scipy.stats.ttest_ind(all_mut[site], wt[site])\n",
    "                \n",
    "                # 10. Append site name and pvalue in two separate lists that will be used to calculate the pvalue adjustment using Bonferroni correction\n",
    "                sites.append(site)\n",
    "                pvalues.append(ttest[1])\n",
    "    #Error caught in the case that the protein had no data in the phosproteomics data\n",
    "    except:\n",
    "        print('')\n",
    "        \n",
    "        \n",
    "# 11. After looping through all of the phosphorylation sites of each protein, filter the list of pvalues with respective sites to find those with significant results\n",
    "#     Create a dictionary to pair the significant sites with their significant pvalues \n",
    "#     Create another dictionary for unsignificant results\n",
    "sigSites = {}\n",
    "unsigSites = {}\n",
    "\n",
    "#     The Bonferroni correction is alpha/number of sites tested\n",
    "alpha = 0.05\n",
    "pcutoff = alpha/len(sites)\n",
    "\n",
    "#     Loop through each pvalue to find those that are lower than the pcutoff\n",
    "for i in range(0, len(sites) - 1):\n",
    "    if pvalues[i] < pcutoff:\n",
    "        sigSites[sites[i]] = pvalues[i]\n",
    "    else:\n",
    "        unsigSites[sites[i]] = pvalues[i]\n",
    "\n",
    "# 12. Print your results\n",
    "print('SIGNIFICANT RESULTS:')\n",
    "print(json.dumps(sigSites, indent = 2))\n",
    "print(' ')\n",
    "print('UNSIGNIFICANT RESULTS:')\n",
    "print(json.dumps(unsigSites, indent = 2))"
   ]
  },
  {
   "cell_type": "markdown",
   "metadata": {},
   "source": [
    "## 5d. Plot the data for the most significant results"
   ]
  },
  {
   "cell_type": "code",
   "execution_count": null,
   "metadata": {},
   "outputs": [],
   "source": [
    "site = 'LAMTOR1-S27'\n",
    "protein = 'LAMTOR'\n",
    "\n",
    "phos_mutations = CPTAC.compare_mutations(phos, protein, gene)\n",
    "phos_mutations['Within_Hotspot'] = False\n",
    "phos_mutations.loc[hotspot_patients, 'Within_Hotspot'] = True\n",
    "phos_mutations.loc[phos_mutations['Mutation'] == 'Wildtype', 'Within_Hotspot'] = 'Wildtype'\n",
    "\n",
    "# Select for tumor samples only \n",
    "phos_mutations = phos_mutations.loc[phos_mutations['Patient_Type'] == 'Tumor']\n",
    "\n",
    "#5. Create a list of the phosphosites by selecting all the columns in the dataframe, excluding the last three which are categorical variables\n",
    "phos_sites = list(phos_mutations)\n",
    "# Take out the categorical variables, which are 'Mutation', 'Patient_Type', and 'Within_Hotspot'\n",
    "phos_sites = phos_sites[:(len(phos_sites) - 3)]\n",
    "\n",
    "# 6. Create two dataframes to test the two cases: one for phosphorylation levels when PIK3CA is mutated at a hotspot, the other when PIK3CA is mutated outside the hotspot\n",
    "#    Drop any columns that contain values of 'Nan' which means for 'Not a number'\n",
    "hotspot_mut = phos_mutations.loc[phos_mutations['Within_Hotspot'] != 'Wildtype'].dropna(axis = 1)\n",
    "wt = phos_mutations.loc[phos_mutations['Within_Hotspot'] == 'Wildtype'].dropna(axis = 1)\n",
    "\n",
    "\n",
    "ttest = scipy.stats.ttest_ind(hotspot_mut[site], wt[site])\n",
    "\n",
    "a4_dims = (11.7, 8.27)\n",
    "fig, ax = plt.subplots(figsize = a4_dims)\n",
    "boxplt = sns.boxplot(data = phos_mutations, x = 'Within_Hotspot', y = site, ax = ax)\n",
    "boxplt = sns.stripplot(data = phos_mutations, x = 'Within_Hotspot', y = site, jitter = True, color = '.3')\n",
    "boxplt.set_xlabel('Mutation Location', fontsize='20')\n",
    "boxplt.set_ylabel('Protein Expression', fontsize='20')\n",
    "boxplt.set_title(\"Effect of \" + gene + \" mutation on \" + site + \" phosphoproteomics\" + '\\nP-value = ' + str(round(ttest[1],  6)), fontsize='22')\n",
    "plt.show()\n"
   ]
  },
  {
   "cell_type": "markdown",
   "metadata": {},
   "source": [
    "### We can conclude from these results that PIK3CA mutation, neither hotspot no non-hotspot mutations, do not have a significant effect on the proteomics or phosproteomics of its interacting proteins"
   ]
  }
 ],
 "metadata": {
  "kernelspec": {
   "display_name": "Python 3",
   "language": "python",
   "name": "python3"
  },
  "language_info": {
   "codemirror_mode": {
    "name": "ipython",
    "version": 3
   },
   "file_extension": ".py",
   "mimetype": "text/x-python",
   "name": "python",
   "nbconvert_exporter": "python",
   "pygments_lexer": "ipython3",
   "version": "3.7.1"
  }
 },
 "nbformat": 4,
 "nbformat_minor": 2
}
