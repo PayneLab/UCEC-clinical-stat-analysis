{
 "cells": [
  {
   "cell_type": "markdown",
   "metadata": {},
   "source": [
    "# PIK3CA Methods - Analyzing the cis effects of PIK3CA mutation on p110"
   ]
  },
  {
   "cell_type": "markdown",
   "metadata": {},
   "source": [
    "## Standard Imports"
   ]
  },
  {
   "cell_type": "markdown",
   "metadata": {},
   "source": [
    "### Python packages used for analysis and plotting"
   ]
  },
  {
   "cell_type": "code",
   "execution_count": 1,
   "metadata": {},
   "outputs": [],
   "source": [
    "import pandas as pd\n",
    "import numpy as np\n",
    "import scipy.stats\n",
    "from scipy.stats import pearsonr\n",
    "import matplotlib.pyplot as plt\n",
    "import seaborn as sns\n",
    "import re "
   ]
  },
  {
   "cell_type": "markdown",
   "metadata": {},
   "source": [
    "<b> Import CPTAC data </b>"
   ]
  },
  {
   "cell_type": "code",
   "execution_count": 2,
   "metadata": {},
   "outputs": [
    {
     "name": "stdout",
     "output_type": "stream",
     "text": [
      "Welcome to the CPTAC data service package. Available datasets may be\n",
      "viewed using CPTAC.list(). In order to access a specific data set,\n",
      "import a CPTAC subfolder using either 'import CPTAC.Dataset' or 'from\n",
      "CPTAC import Dataset'.\n",
      "******\n",
      "Version: 0.2.5\n",
      "******\n",
      "Loading Endometrial CPTAC data:\n",
      "Loading Dictionary...\n",
      "Loading Clinical Data...\n",
      "Loading Acetylation Proteomics Data...\n",
      "Loading Proteomics Data...\n",
      "Loading Transcriptomics Data...\n",
      "Loading CNA Data...\n",
      "Loading Phosphoproteomics Data...\n",
      "Loading Somatic Mutation Data...\n",
      "\n",
      " ******PLEASE READ******\n",
      "WARNING: This data is under a publication embargo until July 1, 2019.\n",
      "CPTAC is a community resource project and data are made available\n",
      "rapidly after generation for community research use. The embargo\n",
      "allows exploring and utilizing the data, but the data may not be in a\n",
      "publication until July 1, 2019. Please see\n",
      "https://proteomics.cancer.gov/data-portal/about/data-use-agreement or\n",
      "enter embargo() to open the webpage for more details.\n"
     ]
    }
   ],
   "source": [
    "import CPTAC.Endometrial as CPTAC"
   ]
  },
  {
   "cell_type": "markdown",
   "metadata": {},
   "source": [
    "# 1. Set up initial dataframes and variables "
   ]
  },
  {
   "cell_type": "code",
   "execution_count": 3,
   "metadata": {},
   "outputs": [
    {
     "name": "stdout",
     "output_type": "stream",
     "text": [
      "160      S001\n",
      "1147     S003\n",
      "1357     S009\n",
      "4630     S021\n",
      "16486    S023\n",
      "19061    S024\n",
      "21259    S032\n",
      "21516    S033\n",
      "22497    S038\n",
      "37421    S061\n",
      "38155    S063\n",
      "39522    S066\n",
      "43391    S067\n",
      "43490    S068\n",
      "46662    S084\n",
      "47360    S088\n",
      "47857    S090\n",
      "49362    S097\n",
      "49475    S098\n",
      "Name: Clinical_Patient_Key, dtype: object\n"
     ]
    }
   ],
   "source": [
    "gene = 'PIK3CA'\n",
    "somatic = CPTAC.get_somatic()\n",
    "proteomics = CPTAC.get_proteomics()\n",
    "phos = CPTAC.get_phosphoproteomics()\n",
    "\n",
    "#A list of mutations present in the hotspot according to our Hotspot3D output\n",
    "hotspot_mutations = ['p.E545A', 'p.E545K', 'p.E545V', 'p.Q546P', 'p.Q546R', 'p.E542K']\n",
    "mutated_hotspot = somatic.loc[(somatic['Location'].isin(hotspot_mutations)) & (somatic['Gene'] == gene)]\n",
    "hotspot_patients = mutated_hotspot['Clinical_Patient_Key']\n",
    "\n",
    "hotspot_patients_both_keys = mutated_hotspot[['Clinical_Patient_Key', 'Patient_Id']]\n",
    "hotspot_patients = hotspot_patients_both_keys['Clinical_Patient_Key']\n",
    "print(hotspot_patients)\n",
    "\n",
    "#The pvalue cutoff used to find significance\n",
    "pcutoff = 0.05\n"
   ]
  },
  {
   "cell_type": "markdown",
   "metadata": {},
   "source": [
    "# 2. Find number of patients with PIK3CA mutations in/outside the hotspot"
   ]
  },
  {
   "cell_type": "code",
   "execution_count": 4,
   "metadata": {},
   "outputs": [
    {
     "name": "stdout",
     "output_type": "stream",
     "text": [
      "Mutations inside hotspot: 19\n",
      "Total number of patients with mutations: 46\n"
     ]
    }
   ],
   "source": [
    "print(\"Mutations inside hotspot: \" + str(len(hotspot_patients)))\n",
    "p110_mutated = somatic.loc[somatic['Gene'] == 'PIK3CA']\n",
    "#note: the gene PIK3CA encodes for the protein p110α, hence the variable 'p110_mutated'\n",
    "\n",
    "# This naturally includes a value that is 'NA' so we subtract 1\n",
    "# Some people have more than one mutation so we need to grab the unique values\n",
    "num_mutated = len(set(p110_mutated['Clinical_Patient_Key'])) - 1\n",
    "print(\"Total number of patients with mutations: \" + str(num_mutated))"
   ]
  },
  {
   "cell_type": "markdown",
   "metadata": {},
   "source": [
    "# 3. PIK3CA cis effects"
   ]
  },
  {
   "cell_type": "markdown",
   "metadata": {},
   "source": [
    "# 3a. Proteomics analysis"
   ]
  },
  {
   "cell_type": "code",
   "execution_count": 6,
   "metadata": {},
   "outputs": [
    {
     "name": "stdout",
     "output_type": "stream",
     "text": [
      "PIK3CA proteomics hotspot mutations vs wildtype: 0.01233605106007355 \n",
      "\n",
      "Non-hotspot mutations vs wildtype: 0.21730633159516427 \n",
      "\n",
      "PIK3CA proteomics all mutation vs wildtype: 0.21599910302109096 \n",
      "\n"
     ]
    }
   ],
   "source": [
    "protein = 'PIK3CA'\n",
    "# 1. Merge the mutation status of PIK3CA and the protemics data of PIK3CA\n",
    "p110_mutations_protein = CPTAC.compare_mutations(proteomics, protein)\n",
    "#note - CPTAC will return a dataframe of the mutation status and proteomics of the same gene \n",
    "#   if only two parameters are provided: the dataframe and the mutation/protein being analyzed\n",
    "\n",
    "# 2. Set up a new column for mutations that are within the hotspot\n",
    "p110_mutations_protein['Within_Hotspot'] = 'Outside Hotspot'\n",
    "p110_mutations_protein.loc[hotspot_patients, 'Within_Hotspot'] = 'Within Hotspot'\n",
    "p110_mutations_protein.loc[p110_mutations_protein['Mutation'] == 'Wildtype_Tumor', 'Within_Hotspot'] = 'Wildtype_Tumor'\n",
    "\n",
    "# 3. Select for tumor samples only \n",
    "p110_mutations_protein = p110_mutations_protein.loc[p110_mutations_protein['Sample_Status'] == 'Tumor'].dropna(axis=0)\n",
    "\n",
    "# 4. Make three new dataframes, one for people with a hotspot mutation, one for those with mutations outside the hotspot, and  one for all the wildtype cancer patients\n",
    "hotspot_mut = p110_mutations_protein.loc[p110_mutations_protein['Within_Hotspot'] == 'Within Hotspot'] \n",
    "non_hotspot_mut = p110_mutations_protein.loc[p110_mutations_protein['Within_Hotspot'] == 'Outside Hotspot']\n",
    "wt = p110_mutations_protein.loc[p110_mutations_protein['Within_Hotspot'] == 'Wildtype_Tumor']\n",
    "\n",
    "\n",
    "# 5. ttest for proteomics of PIK3CA between wildtype cancer and hotspot mutation\n",
    "ttest = scipy.stats.ttest_ind(hotspot_mut[protein], wt[protein])\n",
    "print(protein + ' proteomics hotspot mutations vs wildtype: ' + str(ttest[1]), '\\n')\n",
    "\n",
    "#Perform a ttest for non-hotspot mutations vs wildtype \n",
    "ttest = scipy.stats.ttest_ind(non_hotspot_mut[protein], wt[protein])\n",
    "print('Non-hotspot mutations vs wildtype: ' + str(ttest[1]), '\\n')\n",
    "\n",
    "# 6. Repeat for all mutations vs wildtype cancer\n",
    "all_mutated = p110_mutations_protein.loc[p110_mutations_protein['Within_Hotspot'] != 'Wildtype']\n",
    "ttest = scipy.stats.ttest_ind(all_mutated[protein], wt[protein])\n",
    "print(protein + \" proteomics all mutation vs wildtype: \" + str(ttest[1]), '\\n')"
   ]
  },
  {
   "cell_type": "markdown",
   "metadata": {},
   "source": [
    "# 3b. Plot the data "
   ]
  },
  {
   "cell_type": "code",
   "execution_count": null,
   "metadata": {},
   "outputs": [],
   "source": [
    "a4_dims = (11.7, 8.27)\n",
    "fig, ax = plt.subplots(figsize = a4_dims)\n",
    "boxplt = sns.boxplot(data = p110_mutations_protein, x = 'Within_Hotspot', order = ['Wildtype', 'Within Hotspot', 'Outside Hotspot'], y = protein, ax = ax)\n",
    "boxplt = sns.stripplot(data = p110_mutations_protein, x = 'Within_Hotspot', y = protein, order = ['Wildtype', 'Within Hotspot', 'Outside Hotspot'], jitter = True, color = '.3')\n",
    "boxplt.set_xlabel('Mutation Location', fontsize='20')\n",
    "boxplt.set_ylabel('Protein Expression', fontsize='20')\n",
    "boxplt.set_title(\"Effect of \" + gene + \" mutation on \" + protein + \" proteomics\", fontsize='22')\n",
    "plt.show()"
   ]
  },
  {
   "cell_type": "markdown",
   "metadata": {},
   "source": [
    "### We can conclude from these results that there are no significant changes in PIK3CA protein abundance when mutated, within or outside of the hotspot. "
   ]
  },
  {
   "cell_type": "markdown",
   "metadata": {},
   "source": [
    "# 4a. Phosphoproteomic analysis"
   ]
  },
  {
   "cell_type": "code",
   "execution_count": null,
   "metadata": {},
   "outputs": [],
   "source": [
    "protein = 'PIK3CA-'\n",
    "pattern = re.compile(protein)\n",
    "\n",
    "# 1. Create a dataframe combining phosphosite data with PIK3CA mutation status; select for tumor samples\n",
    "p110_mutations_phos = CPTAC.compare_mutations(phos, protein, gene)\n",
    "p110_mutations_phos = p110_mutations_phos.loc[p110_mutations_phos['Patient_Type'] == 'Tumor'].drop('Patient_Type', axis = 1)\n",
    "\n",
    "# 2. Make a new column for mutation location reative to hotspot \n",
    "p110_mutations_phos['Within_Hotspot'] = 'Outside Hotspot'\n",
    "p110_mutations_phos.loc[hotspot_patients, 'Within_Hotspot'] = 'Within Hotspot'\n",
    "p110_mutations_phos.loc[p110_mutations_phos['Mutation'] == 'Wildtype', 'Within_Hotspot'] = 'Wildtype'\n",
    "p110_mutations_phos.drop('Mutation', axis = 1)\n",
    "\n",
    "# 3. Begin constructing a dataframe for plotting, starting only with the mutation location \n",
    "plotdf = p110_mutations_phos[['Within_Hotspot']]\n",
    "\n",
    "# 4. Loop through each phosphosite to check for significance:\n",
    "for site in p110_mutations_phos.columns:\n",
    "    if (site != 'Within_Hotspot' and site != 'Mutation'):\n",
    "        sitedf = p110_mutations_phos[[site, 'Within_Hotspot']].dropna(axis=0)\n",
    "        hotspot_phos = sitedf.loc[sitedf['Within_Hotspot'] == 'Within Hotspot']\n",
    "        non_hotspot_phos = sitedf.loc[sitedf['Within_Hotspot'] == 'Outside Hotspot']\n",
    "        wt_phos = sitedf.loc[sitedf['Within_Hotspot'] == 'Wildtype']\n",
    "        all_phos_mut = sitedf.loc[sitedf['Within_Hotspot'] != 'Wildtype']\n",
    "        \n",
    "        #Perform a ttest for hotspot vs wildtype \n",
    "        ttest = scipy.stats.ttest_ind(hotspot_phos[site], wt_phos[site])\n",
    "        print('PIK3CA hotspot mutation and ' , site , \": \" +  str(ttest[1]), '\\n')\n",
    "        plotdf = plotdf.join(p110_mutations_phos[site])\n",
    "        \n",
    "        #Perform a ttest for all mutations vs wildtype\n",
    "        ttest = scipy.stats.ttest_ind(all_phos_mut[site], wt_phos[site])\n",
    "        print('All PIK3CA mutation and ',  site + \": \" + str(ttest[1]), '\\n')\n",
    "        \n",
    "        #Perform a ttest for non-hotspot mutations vs wildtype\n",
    "        ttest = scipy.stats.ttest_ind(non_hotspot_phos[site], wt_phos[site])\n",
    "        print('Non-hotspot PIK3CA mutation and ',  site , \": \" + str(ttest[1]), '\\n')"
   ]
  },
  {
   "cell_type": "markdown",
   "metadata": {},
   "source": [
    "# 4b. Plot the data"
   ]
  },
  {
   "cell_type": "code",
   "execution_count": null,
   "metadata": {},
   "outputs": [],
   "source": [
    "plotdf = pd.melt(plotdf, id_vars = ['Within_Hotspot'], var_name = 'Site', value_name = 'Phos')\n",
    "plotdf = plotdf.dropna(axis = 0)\n",
    "\n",
    "a4_dims = (23.4, 16.54)\n",
    "fig, ax = plt.subplots(figsize=a4_dims)\n",
    "\n",
    "#Create the plot\n",
    "boxplt = sns.boxplot(x='Site', y='Phos', hue = 'Within_Hotspot', hue_order = ['Wildtype', 'Within Hotspot', 'Outside Hotspot'], data=plotdf)\n",
    "boxplt = sns.stripplot(data=plotdf, x='Site', y='Phos', hue='Within_Hotspot', hue_order = ['Wildtype', 'Within Hotspot', 'Outside Hotspot'], dodge=True, jitter=True, color='.3')\n",
    "\n",
    "#Add styling\n",
    "boxplt.set_xlabel('')\n",
    "boxplt.set_ylabel('Phosphoproteome Level', fontsize='40')\n",
    "boxplt.tick_params(labelsize='25')\n",
    "handles, labels = ax.get_legend_handles_labels()\n",
    "plt.legend(handles[0:3], ['Wildtype', 'Within Hotspot', 'Outside Hotspot'], title='PIK3CA Mutation Location', fontsize='20', frameon=False)\n",
    "boxplt.get_legend().get_title().set_fontsize('20')\n",
    "boxplt.get_legend().set_bbox_to_anchor((0.95, 0.95, 0, 0))"
   ]
  },
  {
   "cell_type": "markdown",
   "metadata": {},
   "source": [
    "### We can conclude that PIK3CA mutation, within or outside of the hotspot, does not affect its phosphorylation levels "
   ]
  }
 ],
 "metadata": {
  "kernelspec": {
   "display_name": "Python 3",
   "language": "python",
   "name": "python3"
  },
  "language_info": {
   "codemirror_mode": {
    "name": "ipython",
    "version": 3
   },
   "file_extension": ".py",
   "mimetype": "text/x-python",
   "name": "python",
   "nbconvert_exporter": "python",
   "pygments_lexer": "ipython3",
   "version": "3.7.1"
  }
 },
 "nbformat": 4,
 "nbformat_minor": 2
}
