{
 "cells": [
  {
   "cell_type": "markdown",
   "metadata": {},
   "source": [
    "# Use Case 4: Comparing Mutation Protein Abundance"
   ]
  },
  {
   "cell_type": "markdown",
   "metadata": {},
   "source": [
    "<b>Standard imports for playing with and plotting data frames.</b>"
   ]
  },
  {
   "cell_type": "code",
   "execution_count": 104,
   "metadata": {},
   "outputs": [],
   "source": [
    "import pandas as pd\n",
    "import numpy as np\n",
    "import scipy.stats\n",
    "import matplotlib.pyplot as plt\n",
    "import seaborn as sns"
   ]
  },
  {
   "cell_type": "markdown",
   "metadata": {},
   "source": [
    "<b>Import CPTAC data</b>"
   ]
  },
  {
   "cell_type": "code",
   "execution_count": 2,
   "metadata": {
    "scrolled": true
   },
   "outputs": [
    {
     "name": "stdout",
     "output_type": "stream",
     "text": [
      "Loading Clinical Data...\n",
      "Loading Proteomics Data...\n",
      "Loading Transcriptomics Data...\n",
      "Loading CNA Data...\n",
      "Loading Phosphoproteomics Data...\n",
      "Loading Somatic Data...\n",
      "\n",
      " ******PLEASE READ******\n",
      "WARNING: This data is under a publication embargo until July 1, 2019. CPTAC is a community resource project and data are made available rapidly after generation for community research use. The embargo allows exploring and utilizing the data, but the data may not be in a publication until July 1, 2019. Please see https://proteomics.cancer.gov/data-portal/about/data-use-agreement or enter CPTAC.embargo() to open the webpage for more details.\n"
     ]
    }
   ],
   "source": [
    "import CPTAC"
   ]
  },
  {
   "cell_type": "markdown",
   "metadata": {},
   "source": [
    "<b>To begin, retrieve protein abudance and somatic gene mutations. The somatic data is represented in binary format: 0 if no mutation is present in the gene, 1 if the mutation is present.</b>"
   ]
  },
  {
   "cell_type": "code",
   "execution_count": 224,
   "metadata": {},
   "outputs": [
    {
     "data": {
      "text/html": [
       "<div>\n",
       "<style scoped>\n",
       "    .dataframe tbody tr th:only-of-type {\n",
       "        vertical-align: middle;\n",
       "    }\n",
       "\n",
       "    .dataframe tbody tr th {\n",
       "        vertical-align: top;\n",
       "    }\n",
       "\n",
       "    .dataframe thead th {\n",
       "        text-align: right;\n",
       "    }\n",
       "</style>\n",
       "<table border=\"1\" class=\"dataframe\">\n",
       "  <thead>\n",
       "    <tr style=\"text-align: right;\">\n",
       "      <th>idx</th>\n",
       "      <th>AAAS-S495</th>\n",
       "      <th>AAK1-S18</th>\n",
       "      <th>AAK1-S20</th>\n",
       "      <th>AAK1-S21</th>\n",
       "      <th>AAK1-S624</th>\n",
       "      <th>AAK1-S637</th>\n",
       "      <th>AAK1-S670</th>\n",
       "      <th>AAK1-S678</th>\n",
       "      <th>AAK1-S682</th>\n",
       "      <th>AAK1-S731</th>\n",
       "      <th>...</th>\n",
       "      <th>ZZEF1-S1464</th>\n",
       "      <th>ZZEF1-S1488</th>\n",
       "      <th>ZZEF1-S1501</th>\n",
       "      <th>ZZEF1-S1518</th>\n",
       "      <th>ZZEF1-S2444</th>\n",
       "      <th>ZZEF1-T1477</th>\n",
       "      <th>ZZEF1-T1512</th>\n",
       "      <th>ZZEF1-T1521</th>\n",
       "      <th>ZZZ3-S397</th>\n",
       "      <th>ZZZ3-S426</th>\n",
       "    </tr>\n",
       "  </thead>\n",
       "  <tbody>\n",
       "    <tr>\n",
       "      <th>S001</th>\n",
       "      <td>NaN</td>\n",
       "      <td>-0.28</td>\n",
       "      <td>0.44</td>\n",
       "      <td>0.52</td>\n",
       "      <td>-0.70</td>\n",
       "      <td>-0.68</td>\n",
       "      <td>-0.49</td>\n",
       "      <td>-0.43</td>\n",
       "      <td>-0.93</td>\n",
       "      <td>NaN</td>\n",
       "      <td>...</td>\n",
       "      <td>-0.28</td>\n",
       "      <td>-0.20</td>\n",
       "      <td>-0.11</td>\n",
       "      <td>-0.11</td>\n",
       "      <td>-0.08</td>\n",
       "      <td>-0.27</td>\n",
       "      <td>NaN</td>\n",
       "      <td>0.24</td>\n",
       "      <td>0.42</td>\n",
       "      <td>-0.26</td>\n",
       "    </tr>\n",
       "    <tr>\n",
       "      <th>S002</th>\n",
       "      <td>NaN</td>\n",
       "      <td>-0.53</td>\n",
       "      <td>-1.14</td>\n",
       "      <td>0.10</td>\n",
       "      <td>-0.66</td>\n",
       "      <td>-0.42</td>\n",
       "      <td>-0.43</td>\n",
       "      <td>-0.29</td>\n",
       "      <td>-0.39</td>\n",
       "      <td>-0.25</td>\n",
       "      <td>...</td>\n",
       "      <td>0.44</td>\n",
       "      <td>0.37</td>\n",
       "      <td>0.60</td>\n",
       "      <td>0.33</td>\n",
       "      <td>NaN</td>\n",
       "      <td>1.13</td>\n",
       "      <td>1.00</td>\n",
       "      <td>0.34</td>\n",
       "      <td>-0.19</td>\n",
       "      <td>-0.55</td>\n",
       "    </tr>\n",
       "    <tr>\n",
       "      <th>S003</th>\n",
       "      <td>-0.29</td>\n",
       "      <td>0.42</td>\n",
       "      <td>-0.05</td>\n",
       "      <td>-0.06</td>\n",
       "      <td>-0.03</td>\n",
       "      <td>0.80</td>\n",
       "      <td>NaN</td>\n",
       "      <td>-1.41</td>\n",
       "      <td>0.16</td>\n",
       "      <td>-0.09</td>\n",
       "      <td>...</td>\n",
       "      <td>1.05</td>\n",
       "      <td>0.61</td>\n",
       "      <td>NaN</td>\n",
       "      <td>0.36</td>\n",
       "      <td>0.53</td>\n",
       "      <td>0.52</td>\n",
       "      <td>0.28</td>\n",
       "      <td>-0.27</td>\n",
       "      <td>NaN</td>\n",
       "      <td>NaN</td>\n",
       "    </tr>\n",
       "    <tr>\n",
       "      <th>S004</th>\n",
       "      <td>0.15</td>\n",
       "      <td>NaN</td>\n",
       "      <td>-0.54</td>\n",
       "      <td>-0.17</td>\n",
       "      <td>0.21</td>\n",
       "      <td>-0.17</td>\n",
       "      <td>0.58</td>\n",
       "      <td>0.50</td>\n",
       "      <td>NaN</td>\n",
       "      <td>-0.52</td>\n",
       "      <td>...</td>\n",
       "      <td>0.03</td>\n",
       "      <td>-0.18</td>\n",
       "      <td>NaN</td>\n",
       "      <td>0.68</td>\n",
       "      <td>0.28</td>\n",
       "      <td>NaN</td>\n",
       "      <td>0.85</td>\n",
       "      <td>-0.32</td>\n",
       "      <td>0.03</td>\n",
       "      <td>-0.75</td>\n",
       "    </tr>\n",
       "    <tr>\n",
       "      <th>S005</th>\n",
       "      <td>0.60</td>\n",
       "      <td>0.64</td>\n",
       "      <td>-0.05</td>\n",
       "      <td>-0.08</td>\n",
       "      <td>0.14</td>\n",
       "      <td>0.63</td>\n",
       "      <td>0.52</td>\n",
       "      <td>-0.76</td>\n",
       "      <td>-0.30</td>\n",
       "      <td>-0.01</td>\n",
       "      <td>...</td>\n",
       "      <td>-0.54</td>\n",
       "      <td>0.48</td>\n",
       "      <td>-0.70</td>\n",
       "      <td>0.26</td>\n",
       "      <td>-0.59</td>\n",
       "      <td>-0.66</td>\n",
       "      <td>-0.13</td>\n",
       "      <td>-0.21</td>\n",
       "      <td>-0.10</td>\n",
       "      <td>0.15</td>\n",
       "    </tr>\n",
       "  </tbody>\n",
       "</table>\n",
       "<p>5 rows × 20534 columns</p>\n",
       "</div>"
      ],
      "text/plain": [
       "idx   AAAS-S495  AAK1-S18  AAK1-S20  AAK1-S21  AAK1-S624  AAK1-S637  \\\n",
       "S001        NaN     -0.28      0.44      0.52      -0.70      -0.68   \n",
       "S002        NaN     -0.53     -1.14      0.10      -0.66      -0.42   \n",
       "S003      -0.29      0.42     -0.05     -0.06      -0.03       0.80   \n",
       "S004       0.15       NaN     -0.54     -0.17       0.21      -0.17   \n",
       "S005       0.60      0.64     -0.05     -0.08       0.14       0.63   \n",
       "\n",
       "idx   AAK1-S670  AAK1-S678  AAK1-S682  AAK1-S731    ...      ZZEF1-S1464  \\\n",
       "S001      -0.49      -0.43      -0.93        NaN    ...            -0.28   \n",
       "S002      -0.43      -0.29      -0.39      -0.25    ...             0.44   \n",
       "S003        NaN      -1.41       0.16      -0.09    ...             1.05   \n",
       "S004       0.58       0.50        NaN      -0.52    ...             0.03   \n",
       "S005       0.52      -0.76      -0.30      -0.01    ...            -0.54   \n",
       "\n",
       "idx   ZZEF1-S1488  ZZEF1-S1501  ZZEF1-S1518  ZZEF1-S2444  ZZEF1-T1477  \\\n",
       "S001        -0.20        -0.11        -0.11        -0.08        -0.27   \n",
       "S002         0.37         0.60         0.33          NaN         1.13   \n",
       "S003         0.61          NaN         0.36         0.53         0.52   \n",
       "S004        -0.18          NaN         0.68         0.28          NaN   \n",
       "S005         0.48        -0.70         0.26        -0.59        -0.66   \n",
       "\n",
       "idx   ZZEF1-T1512  ZZEF1-T1521  ZZZ3-S397  ZZZ3-S426  \n",
       "S001          NaN         0.24       0.42      -0.26  \n",
       "S002         1.00         0.34      -0.19      -0.55  \n",
       "S003         0.28        -0.27        NaN        NaN  \n",
       "S004         0.85        -0.32       0.03      -0.75  \n",
       "S005        -0.13        -0.21      -0.10       0.15  \n",
       "\n",
       "[5 rows x 20534 columns]"
      ]
     },
     "execution_count": 224,
     "metadata": {},
     "output_type": "execute_result"
    }
   ],
   "source": [
    "somatic_mutations = CPTAC.get_somatic()\n",
    "proteomics = CPTAC.get_proteomics()\n",
    "phos = CPTAC.get_phosphoproteomics()\n",
    "phos.head()"
   ]
  },
  {
   "cell_type": "code",
   "execution_count": 175,
   "metadata": {},
   "outputs": [
    {
     "data": {
      "text/plain": [
       "5.216484089723526e-06"
      ]
     },
     "execution_count": 175,
     "metadata": {},
     "output_type": "execute_result"
    }
   ],
   "source": [
    "pcutoff = 0.05 / len(proteomics.columns)\n",
    "pcutoff"
   ]
  },
  {
   "cell_type": "code",
   "execution_count": 235,
   "metadata": {},
   "outputs": [],
   "source": [
    "gene = 'FBXW7'\n",
    "protein = 'TGFB1'"
   ]
  },
  {
   "cell_type": "markdown",
   "metadata": {},
   "source": [
    "<b>Once you have found your gene of interest, use the gene to compare somatic and protein abundance utilizing the <code>CPTAC.compare_gene()</code> function. (An array of genes can also be passed to this function). If you want to be reminded of what gene you are comparing, enter <code>cross.name</code> (Also, note the binary nature of the somatic data, 0 if no mutation is present for that sample in that gene, 1 if the mutation is present).</b> "
   ]
  },
  {
   "cell_type": "code",
   "execution_count": 227,
   "metadata": {},
   "outputs": [
    {
     "data": {
      "text/html": [
       "<div>\n",
       "<style scoped>\n",
       "    .dataframe tbody tr th:only-of-type {\n",
       "        vertical-align: middle;\n",
       "    }\n",
       "\n",
       "    .dataframe tbody tr th {\n",
       "        vertical-align: top;\n",
       "    }\n",
       "\n",
       "    .dataframe thead th {\n",
       "        text-align: right;\n",
       "    }\n",
       "</style>\n",
       "<table border=\"1\" class=\"dataframe\">\n",
       "  <thead>\n",
       "    <tr style=\"text-align: right;\">\n",
       "      <th>idx</th>\n",
       "      <th>TGFB1I1-S137</th>\n",
       "      <th>TGFB1I1-S140</th>\n",
       "      <th>TGFB1I1-S141</th>\n",
       "      <th>TGFB1I1-S143</th>\n",
       "      <th>TGFB1I1-S164</th>\n",
       "      <th>TGFB1I1-S186</th>\n",
       "      <th>TGFB1I1-S192</th>\n",
       "      <th>TGFB1I1-S194</th>\n",
       "      <th>TGFB1I1-S403</th>\n",
       "      <th>TGFB1I1-S68</th>\n",
       "      <th>TGFB1I1-S80</th>\n",
       "      <th>TGFB1I1-S81</th>\n",
       "      <th>TGFB1I1-S82</th>\n",
       "      <th>TGFB1I1-T180</th>\n",
       "      <th>TGFB1I1-T33</th>\n",
       "      <th>TGFB1I1-Y38</th>\n",
       "      <th>TGFB1I1-Y60</th>\n",
       "    </tr>\n",
       "  </thead>\n",
       "  <tbody>\n",
       "    <tr>\n",
       "      <th>S001</th>\n",
       "      <td>-0.50</td>\n",
       "      <td>-0.14</td>\n",
       "      <td>-0.29</td>\n",
       "      <td>-0.20</td>\n",
       "      <td>-0.58</td>\n",
       "      <td>0.03</td>\n",
       "      <td>-1.95</td>\n",
       "      <td>-1.13</td>\n",
       "      <td>-1.35</td>\n",
       "      <td>-1.27</td>\n",
       "      <td>-0.71</td>\n",
       "      <td>-1.39</td>\n",
       "      <td>-1.51</td>\n",
       "      <td>0.00</td>\n",
       "      <td>-0.87</td>\n",
       "      <td>0.42</td>\n",
       "      <td>-0.32</td>\n",
       "    </tr>\n",
       "    <tr>\n",
       "      <th>S002</th>\n",
       "      <td>-0.64</td>\n",
       "      <td>NaN</td>\n",
       "      <td>-0.50</td>\n",
       "      <td>-1.29</td>\n",
       "      <td>-0.57</td>\n",
       "      <td>-0.69</td>\n",
       "      <td>-1.22</td>\n",
       "      <td>-0.77</td>\n",
       "      <td>-0.70</td>\n",
       "      <td>0.68</td>\n",
       "      <td>0.76</td>\n",
       "      <td>NaN</td>\n",
       "      <td>0.28</td>\n",
       "      <td>-2.35</td>\n",
       "      <td>-1.24</td>\n",
       "      <td>-1.13</td>\n",
       "      <td>-0.63</td>\n",
       "    </tr>\n",
       "    <tr>\n",
       "      <th>S003</th>\n",
       "      <td>0.06</td>\n",
       "      <td>-0.76</td>\n",
       "      <td>-0.76</td>\n",
       "      <td>0.65</td>\n",
       "      <td>-0.57</td>\n",
       "      <td>-0.01</td>\n",
       "      <td>-0.16</td>\n",
       "      <td>-1.05</td>\n",
       "      <td>-2.20</td>\n",
       "      <td>-0.13</td>\n",
       "      <td>-0.64</td>\n",
       "      <td>-0.98</td>\n",
       "      <td>-0.90</td>\n",
       "      <td>-0.15</td>\n",
       "      <td>0.36</td>\n",
       "      <td>-1.89</td>\n",
       "      <td>NaN</td>\n",
       "    </tr>\n",
       "    <tr>\n",
       "      <th>S004</th>\n",
       "      <td>-0.93</td>\n",
       "      <td>-0.25</td>\n",
       "      <td>-0.53</td>\n",
       "      <td>-1.43</td>\n",
       "      <td>-0.91</td>\n",
       "      <td>-0.98</td>\n",
       "      <td>NaN</td>\n",
       "      <td>-0.91</td>\n",
       "      <td>-1.37</td>\n",
       "      <td>-2.01</td>\n",
       "      <td>-2.07</td>\n",
       "      <td>-1.62</td>\n",
       "      <td>NaN</td>\n",
       "      <td>-1.97</td>\n",
       "      <td>-1.89</td>\n",
       "      <td>-2.58</td>\n",
       "      <td>-1.61</td>\n",
       "    </tr>\n",
       "    <tr>\n",
       "      <th>S005</th>\n",
       "      <td>-1.28</td>\n",
       "      <td>-0.03</td>\n",
       "      <td>-0.87</td>\n",
       "      <td>-1.40</td>\n",
       "      <td>-0.02</td>\n",
       "      <td>-1.87</td>\n",
       "      <td>-3.47</td>\n",
       "      <td>-0.89</td>\n",
       "      <td>-1.25</td>\n",
       "      <td>-2.22</td>\n",
       "      <td>-0.20</td>\n",
       "      <td>NaN</td>\n",
       "      <td>-1.37</td>\n",
       "      <td>-2.26</td>\n",
       "      <td>-3.90</td>\n",
       "      <td>-1.97</td>\n",
       "      <td>-0.66</td>\n",
       "    </tr>\n",
       "  </tbody>\n",
       "</table>\n",
       "</div>"
      ],
      "text/plain": [
       "idx   TGFB1I1-S137  TGFB1I1-S140  TGFB1I1-S141  TGFB1I1-S143  TGFB1I1-S164  \\\n",
       "S001         -0.50         -0.14         -0.29         -0.20         -0.58   \n",
       "S002         -0.64           NaN         -0.50         -1.29         -0.57   \n",
       "S003          0.06         -0.76         -0.76          0.65         -0.57   \n",
       "S004         -0.93         -0.25         -0.53         -1.43         -0.91   \n",
       "S005         -1.28         -0.03         -0.87         -1.40         -0.02   \n",
       "\n",
       "idx   TGFB1I1-S186  TGFB1I1-S192  TGFB1I1-S194  TGFB1I1-S403  TGFB1I1-S68  \\\n",
       "S001          0.03         -1.95         -1.13         -1.35        -1.27   \n",
       "S002         -0.69         -1.22         -0.77         -0.70         0.68   \n",
       "S003         -0.01         -0.16         -1.05         -2.20        -0.13   \n",
       "S004         -0.98           NaN         -0.91         -1.37        -2.01   \n",
       "S005         -1.87         -3.47         -0.89         -1.25        -2.22   \n",
       "\n",
       "idx   TGFB1I1-S80  TGFB1I1-S81  TGFB1I1-S82  TGFB1I1-T180  TGFB1I1-T33  \\\n",
       "S001        -0.71        -1.39        -1.51          0.00        -0.87   \n",
       "S002         0.76          NaN         0.28         -2.35        -1.24   \n",
       "S003        -0.64        -0.98        -0.90         -0.15         0.36   \n",
       "S004        -2.07        -1.62          NaN         -1.97        -1.89   \n",
       "S005        -0.20          NaN        -1.37         -2.26        -3.90   \n",
       "\n",
       "idx   TGFB1I1-Y38  TGFB1I1-Y60  \n",
       "S001         0.42        -0.32  \n",
       "S002        -1.13        -0.63  \n",
       "S003        -1.89          NaN  \n",
       "S004        -2.58        -1.61  \n",
       "S005        -1.97        -0.66  "
      ]
     },
     "execution_count": 227,
     "metadata": {},
     "output_type": "execute_result"
    }
   ],
   "source": [
    "phosdf = phos.filter(regex=protein)\n",
    "phosdf.head()"
   ]
  },
  {
   "cell_type": "code",
   "execution_count": 214,
   "metadata": {},
   "outputs": [
    {
     "data": {
      "text/html": [
       "<div>\n",
       "<style scoped>\n",
       "    .dataframe tbody tr th:only-of-type {\n",
       "        vertical-align: middle;\n",
       "    }\n",
       "\n",
       "    .dataframe tbody tr th {\n",
       "        vertical-align: top;\n",
       "    }\n",
       "\n",
       "    .dataframe thead th {\n",
       "        text-align: right;\n",
       "    }\n",
       "</style>\n",
       "<table border=\"1\" class=\"dataframe\">\n",
       "  <thead>\n",
       "    <tr style=\"text-align: right;\">\n",
       "      <th></th>\n",
       "      <th>EIF1AX</th>\n",
       "    </tr>\n",
       "  </thead>\n",
       "  <tbody>\n",
       "    <tr>\n",
       "      <th>S001</th>\n",
       "      <td>0</td>\n",
       "    </tr>\n",
       "    <tr>\n",
       "      <th>S002</th>\n",
       "      <td>0</td>\n",
       "    </tr>\n",
       "    <tr>\n",
       "      <th>S003</th>\n",
       "      <td>0</td>\n",
       "    </tr>\n",
       "    <tr>\n",
       "      <th>S004</th>\n",
       "      <td>0</td>\n",
       "    </tr>\n",
       "    <tr>\n",
       "      <th>S005</th>\n",
       "      <td>0</td>\n",
       "    </tr>\n",
       "  </tbody>\n",
       "</table>\n",
       "</div>"
      ],
      "text/plain": [
       "      EIF1AX\n",
       "S001       0\n",
       "S002       0\n",
       "S003       0\n",
       "S004       0\n",
       "S005       0"
      ]
     },
     "execution_count": 214,
     "metadata": {},
     "output_type": "execute_result"
    }
   ],
   "source": [
    "genedf = somatic_mutations[gene].to_frame()\n",
    "genedf.head()"
   ]
  },
  {
   "cell_type": "code",
   "execution_count": 215,
   "metadata": {
    "scrolled": true
   },
   "outputs": [
    {
     "data": {
      "text/html": [
       "<div>\n",
       "<style scoped>\n",
       "    .dataframe tbody tr th:only-of-type {\n",
       "        vertical-align: middle;\n",
       "    }\n",
       "\n",
       "    .dataframe tbody tr th {\n",
       "        vertical-align: top;\n",
       "    }\n",
       "\n",
       "    .dataframe thead th {\n",
       "        text-align: right;\n",
       "    }\n",
       "</style>\n",
       "<table border=\"1\" class=\"dataframe\">\n",
       "  <thead>\n",
       "    <tr style=\"text-align: right;\">\n",
       "      <th></th>\n",
       "      <th>EIF1AX</th>\n",
       "      <th>TGFB1</th>\n",
       "    </tr>\n",
       "  </thead>\n",
       "  <tbody>\n",
       "    <tr>\n",
       "      <th>S001</th>\n",
       "      <td>0.0</td>\n",
       "      <td>-0.58</td>\n",
       "    </tr>\n",
       "    <tr>\n",
       "      <th>S002</th>\n",
       "      <td>0.0</td>\n",
       "      <td>-1.14</td>\n",
       "    </tr>\n",
       "    <tr>\n",
       "      <th>S003</th>\n",
       "      <td>0.0</td>\n",
       "      <td>-0.41</td>\n",
       "    </tr>\n",
       "    <tr>\n",
       "      <th>S004</th>\n",
       "      <td>0.0</td>\n",
       "      <td>-0.76</td>\n",
       "    </tr>\n",
       "    <tr>\n",
       "      <th>S005</th>\n",
       "      <td>0.0</td>\n",
       "      <td>-0.32</td>\n",
       "    </tr>\n",
       "  </tbody>\n",
       "</table>\n",
       "</div>"
      ],
      "text/plain": [
       "      EIF1AX  TGFB1\n",
       "S001     0.0  -0.58\n",
       "S002     0.0  -1.14\n",
       "S003     0.0  -0.41\n",
       "S004     0.0  -0.76\n",
       "S005     0.0  -0.32"
      ]
     },
     "execution_count": 215,
     "metadata": {},
     "output_type": "execute_result"
    }
   ],
   "source": [
    "cross = genedf.add(proteindf, fill_value=0).dropna(axis=0)\n",
    "cross.head()"
   ]
  },
  {
   "cell_type": "markdown",
   "metadata": {},
   "source": [
    "<b>Finally, compare the mutated genes with the non-mutated genes. Plot a boxplot of  protein abundance in mutated against non-mutated.</b>"
   ]
  },
  {
   "cell_type": "code",
   "execution_count": 216,
   "metadata": {},
   "outputs": [
    {
     "data": {
      "text/plain": [
       "[Text(0,0.5,'Proteomics'), Text(0.5,0,'Somatic Gene Mutation')]"
      ]
     },
     "execution_count": 216,
     "metadata": {},
     "output_type": "execute_result"
    },
    {
     "data": {
      "image/png": "[encoded data removed]",
      "text/plain": [
       "<Figure size 432x288 with 1 Axes>"
      ]
     },
     "metadata": {
      "needs_background": "light"
     },
     "output_type": "display_data"
    }
   ],
   "source": [
    "somatic_boxplot = sns.boxplot(data=cross, x=gene,y=protein)\n",
    "somatic_boxplot.set_title(\"CTTNB1 gene mutation protein abundance\")\n",
    "somatic_boxplot = sns.stripplot(data=cross, x=gene, y=protein,jitter=True, color=\".3\")\n",
    "somatic_boxplot.set(xlabel=\"Somatic Gene Mutation\",ylabel=\"Proteomics\")"
   ]
  },
  {
   "cell_type": "markdown",
   "metadata": {},
   "source": [
    "#### Now do a t-test"
   ]
  },
  {
   "cell_type": "code",
   "execution_count": 209,
   "metadata": {},
   "outputs": [],
   "source": [
    "mutated = cross.loc[cross[gene] == 1.0]\n",
    "wt = cross.loc[cross[gene] == 0.0]"
   ]
  },
  {
   "cell_type": "code",
   "execution_count": 210,
   "metadata": {},
   "outputs": [
    {
     "data": {
      "text/plain": [
       "Ttest_indResult(statistic=-1.1689082296871933, pvalue=0.2452760562482325)"
      ]
     },
     "execution_count": 210,
     "metadata": {},
     "output_type": "execute_result"
    }
   ],
   "source": [
    "ttest = scipy.stats.ttest_ind(mutated[protein], wt[protein])\n",
    "ttest"
   ]
  },
  {
   "cell_type": "markdown",
   "metadata": {},
   "source": [
    "### Cyclins"
   ]
  },
  {
   "cell_type": "code",
   "execution_count": 144,
   "metadata": {},
   "outputs": [],
   "source": [
    "protList = ['CCNB1', 'CCNB2', 'CCNB3', 'CCNC', 'CCND1', 'CCND2', 'CCND3', 'CCNE1', 'CCNE2', 'CCNF', 'CCNG1', 'CCNG2',\n",
    "           'CCNH', 'CCNI', 'CCNI2', 'CCNK', 'CCNL1', 'CCNL2', 'CCNO', 'CCNT1', 'CCNT2', 'CCNY', 'CCNYL1', 'CCNYL2',\n",
    "           'CCNYL3']"
   ]
  },
  {
   "cell_type": "code",
   "execution_count": 222,
   "metadata": {
    "scrolled": false
   },
   "outputs": [
    {
     "name": "stderr",
     "output_type": "stream",
     "text": [
      "/anaconda3/envs/ptmresearch/lib/python3.7/site-packages/numpy/core/fromnumeric.py:3157: RuntimeWarning: Degrees of freedom <= 0 for slice\n",
      "  **kwargs)\n",
      "/anaconda3/envs/ptmresearch/lib/python3.7/site-packages/numpy/core/_methods.py:132: RuntimeWarning: invalid value encountered in double_scalars\n",
      "  ret = ret.dtype.type(ret / rcount)\n"
     ]
    },
    {
     "name": "stdout",
     "output_type": "stream",
     "text": [
      "Test for C19orf33: \n",
      "Ttest_indResult(statistic=-3.7011847048145907, pvalue=0.0003545645436391225)\n",
      "Test for CCDC8: \n",
      "Ttest_indResult(statistic=-3.7973186434767325, pvalue=0.0002536593961365782)\n",
      "Test for EPPK1: \n",
      "Ttest_indResult(statistic=-3.90044607028294, pvalue=0.00017603166955412923)\n",
      "Test for OBSL1: \n",
      "Ttest_indResult(statistic=-4.030460304339136, pvalue=0.00011009550964821268)\n",
      "Test for PPP1R14A: \n",
      "Ttest_indResult(statistic=-3.5540374299055757, pvalue=0.0005856224427540791)\n",
      "Test for ZNF672: \n",
      "Ttest_indResult(statistic=3.794668744315788, pvalue=0.0003600951564155787)\n"
     ]
    }
   ],
   "source": [
    "genedf = somatic_mutations[gene].to_frame()\n",
    "for protein in proteomics.columns:\n",
    "    if protein in proteomics.columns:\n",
    "        proteindf = proteomics[protein].to_frame()\n",
    "        cross = genedf.add(proteindf, fill_value=0).dropna(axis=0)\n",
    "        mutated = cross.loc[cross[gene] == 1.0]\n",
    "        wt = cross.loc[cross[gene] == 0.0]\n",
    "        ttest = scipy.stats.ttest_ind(mutated[protein], wt[protein])\n",
    "        if ttest[1] <= 0.001:\n",
    "            print(\"Test for \" + protein + \": \")\n",
    "            print(ttest)"
   ]
  },
  {
   "cell_type": "code",
   "execution_count": 239,
   "metadata": {},
   "outputs": [
    {
     "name": "stdout",
     "output_type": "stream",
     "text": [
      "Test for SET: \n",
      "Ttest_indResult(statistic=-5.262367555121419, pvalue=9.084536738376796e-07)\n",
      "Test for SETD1B: \n",
      "Ttest_indResult(statistic=-5.262367555121419, pvalue=9.084536738376796e-07)\n"
     ]
    }
   ],
   "source": [
    "genedf = somatic_mutations[gene].to_frame()\n",
    "for protein in proteomics.columns:\n",
    "        phosinfo = phos.filter(regex = protein)\n",
    "        if phosinfo.empty==False:\n",
    "            for site in phosinfo.columns:\n",
    "                sitedf = phosinfo[[site]]\n",
    "                cross = genedf.add(sitedf, fill_value=0).dropna(axis=0)\n",
    "                mutated = cross.loc[cross[gene] == 1.0]\n",
    "                wt = cross.loc[cross[gene] == 0.0]\n",
    "                ttest = scipy.stats.ttest_ind(mutated[site], wt[site])\n",
    "                if ttest[1] <= pcutoff:\n",
    "                    print(\"Test for \" + protein + \": \")\n",
    "                    print(ttest)"
   ]
  },
  {
   "cell_type": "code",
   "execution_count": null,
   "metadata": {},
   "outputs": [],
   "source": []
  }
 ],
 "metadata": {
  "kernelspec": {
   "display_name": "Python 3",
   "language": "python",
   "name": "python3"
  },
  "language_info": {
   "codemirror_mode": {
    "name": "ipython",
    "version": 3
   },
   "file_extension": ".py",
   "mimetype": "text/x-python",
   "name": "python",
   "nbconvert_exporter": "python",
   "pygments_lexer": "ipython3",
   "version": "3.7.0"
  }
 },
 "nbformat": 4,
 "nbformat_minor": 2
}
