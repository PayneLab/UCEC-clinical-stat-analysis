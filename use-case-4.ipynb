{
 "cells": [
  {
   "cell_type": "markdown",
   "metadata": {},
   "source": [
    "# Use Case 4: Comparing Mutation Protein Abundance"
   ]
  },
  {
   "cell_type": "markdown",
   "metadata": {},
   "source": [
    "<b>Standard imports for playing with and plotting data frames.</b>"
   ]
  },
  {
   "cell_type": "code",
   "execution_count": 104,
   "metadata": {},
   "outputs": [],
   "source": [
    "import pandas as pd\n",
    "import numpy as np\n",
    "import scipy.stats\n",
    "import matplotlib.pyplot as plt\n",
    "import seaborn as sns"
   ]
  },
  {
   "cell_type": "markdown",
   "metadata": {},
   "source": [
    "<b>Import CPTAC data</b>"
   ]
  },
  {
   "cell_type": "code",
   "execution_count": 2,
   "metadata": {
    "scrolled": true
   },
   "outputs": [
    {
     "name": "stdout",
     "output_type": "stream",
     "text": [
      "Loading Clinical Data...\n",
      "Loading Proteomics Data...\n",
      "Loading Transcriptomics Data...\n",
      "Loading CNA Data...\n",
      "Loading Phosphoproteomics Data...\n",
      "Loading Somatic Data...\n",
      "\n",
      " ******PLEASE READ******\n",
      "WARNING: This data is under a publication embargo until July 1, 2019. CPTAC is a community resource project and data are made available rapidly after generation for community research use. The embargo allows exploring and utilizing the data, but the data may not be in a publication until July 1, 2019. Please see https://proteomics.cancer.gov/data-portal/about/data-use-agreement or enter CPTAC.embargo() to open the webpage for more details.\n"
     ]
    }
   ],
   "source": [
    "import CPTAC"
   ]
  },
  {
   "cell_type": "markdown",
   "metadata": {},
   "source": [
    "<b>To begin, retrieve protein abudance and somatic gene mutations. The somatic data is represented in binary format: 0 if no mutation is present in the gene, 1 if the mutation is present.</b>"
   ]
  },
  {
   "cell_type": "code",
   "execution_count": 224,
   "metadata": {},
   "outputs": [
    {
     "data": {
      "text/html": [
       "<div>\n",
       "<style scoped>\n",
       "    .dataframe tbody tr th:only-of-type {\n",
       "        vertical-align: middle;\n",
       "    }\n",
       "\n",
       "    .dataframe tbody tr th {\n",
       "        vertical-align: top;\n",
       "    }\n",
       "\n",
       "    .dataframe thead th {\n",
       "        text-align: right;\n",
       "    }\n",
       "</style>\n",
       "<table border=\"1\" class=\"dataframe\">\n",
       "  <thead>\n",
       "    <tr style=\"text-align: right;\">\n",
       "      <th>idx</th>\n",
       "      <th>AAAS-S495</th>\n",
       "      <th>AAK1-S18</th>\n",
       "      <th>AAK1-S20</th>\n",
       "      <th>AAK1-S21</th>\n",
       "      <th>AAK1-S624</th>\n",
       "      <th>AAK1-S637</th>\n",
       "      <th>AAK1-S670</th>\n",
       "      <th>AAK1-S678</th>\n",
       "      <th>AAK1-S682</th>\n",
       "      <th>AAK1-S731</th>\n",
       "      <th>...</th>\n",
       "      <th>ZZEF1-S1464</th>\n",
       "      <th>ZZEF1-S1488</th>\n",
       "      <th>ZZEF1-S1501</th>\n",
       "      <th>ZZEF1-S1518</th>\n",
       "      <th>ZZEF1-S2444</th>\n",
       "      <th>ZZEF1-T1477</th>\n",
       "      <th>ZZEF1-T1512</th>\n",
       "      <th>ZZEF1-T1521</th>\n",
       "      <th>ZZZ3-S397</th>\n",
       "      <th>ZZZ3-S426</th>\n",
       "    </tr>\n",
       "  </thead>\n",
       "  <tbody>\n",
       "    <tr>\n",
       "      <th>S001</th>\n",
       "      <td>NaN</td>\n",
       "      <td>-0.28</td>\n",
       "      <td>0.44</td>\n",
       "      <td>0.52</td>\n",
       "      <td>-0.70</td>\n",
       "      <td>-0.68</td>\n",
       "      <td>-0.49</td>\n",
       "      <td>-0.43</td>\n",
       "      <td>-0.93</td>\n",
       "      <td>NaN</td>\n",
       "      <td>...</td>\n",
       "      <td>-0.28</td>\n",
       "      <td>-0.20</td>\n",
       "      <td>-0.11</td>\n",
       "      <td>-0.11</td>\n",
       "      <td>-0.08</td>\n",
       "      <td>-0.27</td>\n",
       "      <td>NaN</td>\n",
       "      <td>0.24</td>\n",
       "      <td>0.42</td>\n",
       "      <td>-0.26</td>\n",
       "    </tr>\n",
       "    <tr>\n",
       "      <th>S002</th>\n",
       "      <td>NaN</td>\n",
       "      <td>-0.53</td>\n",
       "      <td>-1.14</td>\n",
       "      <td>0.10</td>\n",
       "      <td>-0.66</td>\n",
       "      <td>-0.42</td>\n",
       "      <td>-0.43</td>\n",
       "      <td>-0.29</td>\n",
       "      <td>-0.39</td>\n",
       "      <td>-0.25</td>\n",
       "      <td>...</td>\n",
       "      <td>0.44</td>\n",
       "      <td>0.37</td>\n",
       "      <td>0.60</td>\n",
       "      <td>0.33</td>\n",
       "      <td>NaN</td>\n",
       "      <td>1.13</td>\n",
       "      <td>1.00</td>\n",
       "      <td>0.34</td>\n",
       "      <td>-0.19</td>\n",
       "      <td>-0.55</td>\n",
       "    </tr>\n",
       "    <tr>\n",
       "      <th>S003</th>\n",
       "      <td>-0.29</td>\n",
       "      <td>0.42</td>\n",
       "      <td>-0.05</td>\n",
       "      <td>-0.06</td>\n",
       "      <td>-0.03</td>\n",
       "      <td>0.80</td>\n",
       "      <td>NaN</td>\n",
       "      <td>-1.41</td>\n",
       "      <td>0.16</td>\n",
       "      <td>-0.09</td>\n",
       "      <td>...</td>\n",
       "      <td>1.05</td>\n",
       "      <td>0.61</td>\n",
       "      <td>NaN</td>\n",
       "      <td>0.36</td>\n",
       "      <td>0.53</td>\n",
       "      <td>0.52</td>\n",
       "      <td>0.28</td>\n",
       "      <td>-0.27</td>\n",
       "      <td>NaN</td>\n",
       "      <td>NaN</td>\n",
       "    </tr>\n",
       "    <tr>\n",
       "      <th>S004</th>\n",
       "      <td>0.15</td>\n",
       "      <td>NaN</td>\n",
       "      <td>-0.54</td>\n",
       "      <td>-0.17</td>\n",
       "      <td>0.21</td>\n",
       "      <td>-0.17</td>\n",
       "      <td>0.58</td>\n",
       "      <td>0.50</td>\n",
       "      <td>NaN</td>\n",
       "      <td>-0.52</td>\n",
       "      <td>...</td>\n",
       "      <td>0.03</td>\n",
       "      <td>-0.18</td>\n",
       "      <td>NaN</td>\n",
       "      <td>0.68</td>\n",
       "      <td>0.28</td>\n",
       "      <td>NaN</td>\n",
       "      <td>0.85</td>\n",
       "      <td>-0.32</td>\n",
       "      <td>0.03</td>\n",
       "      <td>-0.75</td>\n",
       "    </tr>\n",
       "    <tr>\n",
       "      <th>S005</th>\n",
       "      <td>0.60</td>\n",
       "      <td>0.64</td>\n",
       "      <td>-0.05</td>\n",
       "      <td>-0.08</td>\n",
       "      <td>0.14</td>\n",
       "      <td>0.63</td>\n",
       "      <td>0.52</td>\n",
       "      <td>-0.76</td>\n",
       "      <td>-0.30</td>\n",
       "      <td>-0.01</td>\n",
       "      <td>...</td>\n",
       "      <td>-0.54</td>\n",
       "      <td>0.48</td>\n",
       "      <td>-0.70</td>\n",
       "      <td>0.26</td>\n",
       "      <td>-0.59</td>\n",
       "      <td>-0.66</td>\n",
       "      <td>-0.13</td>\n",
       "      <td>-0.21</td>\n",
       "      <td>-0.10</td>\n",
       "      <td>0.15</td>\n",
       "    </tr>\n",
       "  </tbody>\n",
       "</table>\n",
       "<p>5 rows × 20534 columns</p>\n",
       "</div>"
      ],
      "text/plain": [
       "idx   AAAS-S495  AAK1-S18  AAK1-S20  AAK1-S21  AAK1-S624  AAK1-S637  \\\n",
       "S001        NaN     -0.28      0.44      0.52      -0.70      -0.68   \n",
       "S002        NaN     -0.53     -1.14      0.10      -0.66      -0.42   \n",
       "S003      -0.29      0.42     -0.05     -0.06      -0.03       0.80   \n",
       "S004       0.15       NaN     -0.54     -0.17       0.21      -0.17   \n",
       "S005       0.60      0.64     -0.05     -0.08       0.14       0.63   \n",
       "\n",
       "idx   AAK1-S670  AAK1-S678  AAK1-S682  AAK1-S731    ...      ZZEF1-S1464  \\\n",
       "S001      -0.49      -0.43      -0.93        NaN    ...            -0.28   \n",
       "S002      -0.43      -0.29      -0.39      -0.25    ...             0.44   \n",
       "S003        NaN      -1.41       0.16      -0.09    ...             1.05   \n",
       "S004       0.58       0.50        NaN      -0.52    ...             0.03   \n",
       "S005       0.52      -0.76      -0.30      -0.01    ...            -0.54   \n",
       "\n",
       "idx   ZZEF1-S1488  ZZEF1-S1501  ZZEF1-S1518  ZZEF1-S2444  ZZEF1-T1477  \\\n",
       "S001        -0.20        -0.11        -0.11        -0.08        -0.27   \n",
       "S002         0.37         0.60         0.33          NaN         1.13   \n",
       "S003         0.61          NaN         0.36         0.53         0.52   \n",
       "S004        -0.18          NaN         0.68         0.28          NaN   \n",
       "S005         0.48        -0.70         0.26        -0.59        -0.66   \n",
       "\n",
       "idx   ZZEF1-T1512  ZZEF1-T1521  ZZZ3-S397  ZZZ3-S426  \n",
       "S001          NaN         0.24       0.42      -0.26  \n",
       "S002         1.00         0.34      -0.19      -0.55  \n",
       "S003         0.28        -0.27        NaN        NaN  \n",
       "S004         0.85        -0.32       0.03      -0.75  \n",
       "S005        -0.13        -0.21      -0.10       0.15  \n",
       "\n",
       "[5 rows x 20534 columns]"
      ]
     },
     "execution_count": 224,
     "metadata": {},
     "output_type": "execute_result"
    }
   ],
   "source": [
    "somatic_mutations = CPTAC.get_somatic()\n",
    "proteomics = CPTAC.get_proteomics()\n",
    "phos = CPTAC.get_phosphoproteomics()\n",
    "phos.head()"
   ]
  },
  {
   "cell_type": "code",
   "execution_count": 254,
   "metadata": {},
   "outputs": [
    {
     "data": {
      "text/plain": [
       "5.216484089723526e-06"
      ]
     },
     "execution_count": 254,
     "metadata": {},
     "output_type": "execute_result"
    }
   ],
   "source": [
    "pcutoff = 0.05 / len(proteomics.columns)\n",
    "pcutoff"
   ]
  },
  {
   "cell_type": "code",
   "execution_count": 293,
   "metadata": {},
   "outputs": [],
   "source": [
    "gene = 'FBXW7'\n",
    "protein = 'MYC'"
   ]
  },
  {
   "cell_type": "markdown",
   "metadata": {},
   "source": [
    "<b>Once you have found your gene of interest, use the gene to compare somatic and protein abundance utilizing the <code>CPTAC.compare_gene()</code> function. (An array of genes can also be passed to this function). If you want to be reminded of what gene you are comparing, enter <code>cross.name</code> (Also, note the binary nature of the somatic data, 0 if no mutation is present for that sample in that gene, 1 if the mutation is present).</b> "
   ]
  },
  {
   "cell_type": "markdown",
   "metadata": {},
   "source": [
    "### Cyclins"
   ]
  },
  {
   "cell_type": "code",
   "execution_count": 240,
   "metadata": {},
   "outputs": [],
   "source": [
    "protList = ['CCNB1', 'CCNB2', 'CCNB3', 'CCNC', 'CCND1', 'CCND2', 'CCND3', 'CCNE1', 'CCNE2', 'CCNF', 'CCNG1', 'CCNG2',\n",
    "           'CCNH', 'CCNI', 'CCNI2', 'CCNK', 'CCNL1', 'CCNL2', 'CCNO', 'CCNT1', 'CCNT2', 'CCNY', 'CCNYL1', 'CCNYL2',\n",
    "           'CCNYL3']"
   ]
  },
  {
   "cell_type": "code",
   "execution_count": 247,
   "metadata": {},
   "outputs": [
    {
     "data": {
      "text/plain": [
       "0.002"
      ]
     },
     "execution_count": 247,
     "metadata": {},
     "output_type": "execute_result"
    }
   ],
   "source": [
    "pcutoff = 0.05/len(protList)\n",
    "pcutoff"
   ]
  },
  {
   "cell_type": "code",
   "execution_count": 283,
   "metadata": {
    "scrolled": false
   },
   "outputs": [
    {
     "name": "stdout",
     "output_type": "stream",
     "text": [
      "Test for CCNB1: \n",
      "RanksumsResult(statistic=1.9424267848175283, pvalue=0.052085455357175334)\n",
      "Test for CCNB2: \n",
      "RanksumsResult(statistic=1.5343332895066513, pvalue=0.12494768006193521)\n",
      "Test for CCNC: \n",
      "RanksumsResult(statistic=1.225593326548004, pvalue=0.22035175040738875)\n",
      "Test for CCND1: \n",
      "RanksumsResult(statistic=0.40198570354528895, pvalue=0.6876945477781223)\n",
      "Test for CCNE1: \n",
      "RanksumsResult(statistic=0.8119691072749204, pvalue=0.4168093581566388)\n",
      "Test for CCNH: \n",
      "RanksumsResult(statistic=0.9285966384693495, pvalue=0.3530981646150336)\n",
      "Test for CCNK: \n",
      "RanksumsResult(statistic=1.3592501519623812, pvalue=0.17406733400309915)\n",
      "Test for CCNL1: \n",
      "RanksumsResult(statistic=-0.11788003147861141, pvalue=0.9061627154914963)\n",
      "Test for CCNL2: \n",
      "RanksumsResult(statistic=-1.0856057319303507, pvalue=0.2776534627631473)\n",
      "Test for CCNT1: \n",
      "RanksumsResult(statistic=0.9644844312604355, pvalue=0.3348031101852522)\n",
      "Test for CCNT2: \n",
      "RanksumsResult(statistic=0.06280363738440045, pvalue=0.9499228693755033)\n",
      "Test for CCNY: \n",
      "RanksumsResult(statistic=0.6863540371295191, pvalue=0.4924898810033619)\n"
     ]
    }
   ],
   "source": [
    "genedf = somatic_mutations[gene].to_frame()\n",
    "for protein in protList:\n",
    "    if protein in proteomics.columns:\n",
    "        proteindf = proteomics[protein].to_frame()\n",
    "        cross = genedf.add(proteindf, fill_value=0).dropna(axis=0)\n",
    "        mutated = cross.loc[cross[gene] == 1.0]\n",
    "        wt = cross.loc[cross[gene] == 0.0]\n",
    "        ttest = scipy.stats.ranksums(mutated[protein], wt[protein])\n",
    "        if ttest[1] <= 1:\n",
    "            print(\"Test for \" + protein + \": \")\n",
    "            print(ttest)"
   ]
  },
  {
   "cell_type": "code",
   "execution_count": null,
   "metadata": {},
   "outputs": [],
   "source": []
  }
 ],
 "metadata": {
  "kernelspec": {
   "display_name": "Python 3",
   "language": "python",
   "name": "python3"
  },
  "language_info": {
   "codemirror_mode": {
    "name": "ipython",
    "version": 3
   },
   "file_extension": ".py",
   "mimetype": "text/x-python",
   "name": "python",
   "nbconvert_exporter": "python",
   "pygments_lexer": "ipython3",
   "version": "3.7.0"
  }
 },
 "nbformat": 4,
 "nbformat_minor": 2
}
