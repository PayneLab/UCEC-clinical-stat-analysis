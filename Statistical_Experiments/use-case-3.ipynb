{
 "cells": [
  {
   "cell_type": "markdown",
   "metadata": {},
   "source": [
    "## Use Case 3: Comparing BMI above and below 25 across the proteomics data"
   ]
  },
  {
   "cell_type": "markdown",
   "metadata": {},
   "source": [
    "These are the tools we will use to play with the data"
   ]
  },
  {
   "cell_type": "code",
   "execution_count": 1,
   "metadata": {},
   "outputs": [],
   "source": [
    "import pandas as pd\n",
    "import numpy as np\n",
    "import matplotlib.pyplot as plt\n",
    "import seaborn as sns\n",
    "from scipy import stats"
   ]
  },
  {
   "cell_type": "markdown",
   "metadata": {},
   "source": [
    "This is the data we will be playing with"
   ]
  },
  {
   "cell_type": "code",
   "execution_count": 2,
   "metadata": {},
   "outputs": [
    {
     "name": "stdout",
     "output_type": "stream",
     "text": [
      "Loading Clinical Data...\n",
      "Loading Proteomics Data...\n",
      "Loading Transcriptomics Data...\n",
      "Loading CNA Data...\n",
      "Loading Phosphoproteomics Data...\n",
      "Loading Somatic Data...\n",
      "\n",
      " ******PLEASE READ******\n",
      "WARNING: This data is under a publication embargo until July 1, 2019. CPTAC is a community resource project and data are made available rapidly after generation for community research use. The embargo allows exploring and utilizing the data, but the data may not be in a publication until July 1, 2019. Please see https://proteomics.cancer.gov/data-portal/about/data-use-agreement, or enter CPTAC.embargo() to open the webpage for more details.\n"
     ]
    }
   ],
   "source": [
    "import CPTAC"
   ]
  },
  {
   "cell_type": "markdown",
   "metadata": {},
   "source": [
    "Use case 3: BMI above and below 25\n",
    "The first step is to load the clinical dataframe and the dataframe to compare it with"
   ]
  },
  {
   "cell_type": "code",
   "execution_count": 3,
   "metadata": {},
   "outputs": [],
   "source": [
    "clinical = CPTAC.get_clinical()\n",
    "proteomics = CPTAC.get_proteomics()"
   ]
  },
  {
   "cell_type": "markdown",
   "metadata": {},
   "source": [
    "Next we will use the compare_clinical() function to create a dataframe that appends a column from the clinical dataframe to our chosen dataframe"
   ]
  },
  {
   "cell_type": "code",
   "execution_count": 9,
   "metadata": {},
   "outputs": [
    {
     "name": "stdout",
     "output_type": "stream",
     "text": [
      "Index(['Proteomics_Aliquot_ID', 'Proteomics_Participant_ID',\n",
      "       'Proteomics_TMT_batch', 'Proteomics_TMT_plex', 'Proteomics_TMT_channel',\n",
      "       'Proteomics_Parent_Sample_IDs', 'Proteomics_Tumor_normal',\n",
      "       'Proteomics_OCT', 'WXS_patient_id', 'WXS_Tumor_sample_id',\n",
      "       'WXS_Tumor_file', 'WXS_Tumor_UUID', 'WXS_Tumor_type',\n",
      "       'WXS_Normal_sample_id', 'WXS_Normal_file', 'WXS_Normal_UUID',\n",
      "       'WXS_Normal_type', 'RNAseq_sample_id', 'RNAseq_patient_id',\n",
      "       'RNAseq_sample_type', 'RNAseq_UUID_R1', 'RNAseq_filename_R1',\n",
      "       'RNAseq_UUID_R2', 'RNAseq_filename_R2', 'methylation_sample_id',\n",
      "       'Histologic_Grade_(FIGO)', 'Histologic_Type',\n",
      "       'Num_full_term_pregnancies', 'Tumor_Size_(cm)', 'FIGO_stage',\n",
      "       'Myometrial_invasion_Specify', 'tumor_Stage_Pathological', 'Diabetes',\n",
      "       'BMI', 'LVSI', 'Endo_S1G1G2_LVSI', 'Age',\n",
      "       'CIBERSORT-T_cells_CD4_memory_resting',\n",
      "       'CIBERSORT-Dendritic_cells_resting',\n",
      "       'CIBERSORT-T_cells_regulatory_(Tregs)', 'CIBERSORT-Neutrophils',\n",
      "       'CIBERSORT-Macrophages_M1', 'CIBERSORT-Macrophages_M2',\n",
      "       'CIBERSORT-Dendritic_cells_activated', 'CIBERSORT-Monocytes',\n",
      "       'CIBERSORT-Macrophages_M0', 'CIBERSORT-B_cells_naive',\n",
      "       'CIBERSORT-NK_cells_activated',\n",
      "       'CIBERSORT-T_cells_CD4_memory_activated', 'CIBERSORT-B_cells_memory',\n",
      "       'CIBERSORT-Plasma_cells', 'CIBERSORT-T_cells_follicular_helper',\n",
      "       'CIBERSORT-T_cells_CD8', 'CIBERSORT-T_cells_CD4_naive',\n",
      "       'CIBERSORT-Absolute_score', 'CIBERSORT-Eosinophils',\n",
      "       'CIBERSORT-T_cells_gamma_delta', 'CIBERSORT-NK_cells_resting',\n",
      "       'CIBERSORT-Mast_cells_resting', 'CIBERSORT-Mast_cells_activated',\n",
      "       'EPIC-Bcells', 'EPIC-Endothelial', 'EPIC-CAFs', 'EPIC-otherCells',\n",
      "       'EPIC-CD8_Tcells', 'EPIC-NKcells', 'EPIC-Macrophages',\n",
      "       'EPIC-CD4_Tcells', 'ESTIMATE-ImmuneScore', 'ESTIMATE-StromalScore',\n",
      "       'ESTIMATE-ESTIMATEScore', 'PR_PGR', 'ER_ESR1', 'PI3K_RICTOR',\n",
      "       'PI3K_PIK3R1', 'PI3K_AKT3', 'PI3K_MTOR', 'PI3K_PIK3CB', 'PI3K_PPP2R1A',\n",
      "       'PI3K_TSC2', 'PI3K_PIK3R2', 'PI3K_PTEN', 'PI3K_PI3K_pathway',\n",
      "       'PI3K_TSC1', 'PI3K_PIK3CA', 'TP53_ATM', 'TP53_RPS6KA3', 'TP53_TP53',\n",
      "       'TP53_TP53_pathway', 'HRD_BRCA1_or_BRCA2', 'HRD_BRCA2', 'HRD_BRCA1',\n",
      "       'MSI', 'POLE_EDM_status', 'Histologic_Type_corrected', 'Tumor_purity'],\n",
      "      dtype='object')\n"
     ]
    }
   ],
   "source": [
    "print(clinical.columns)"
   ]
  },
  {
   "cell_type": "code",
   "execution_count": 85,
   "metadata": {},
   "outputs": [],
   "source": [
    "trait = 'CIBERSORT-T_cells_CD4_memory_activated';"
   ]
  },
  {
   "cell_type": "code",
   "execution_count": 86,
   "metadata": {},
   "outputs": [
    {
     "name": "stdout",
     "output_type": "stream",
     "text": [
      "      CIBERSORT-T_cells_CD4_memory_activated  A1BG   A2M  A2ML1  A4GALT  AAAS  \\\n",
      "idx                                                                             \n",
      "S001                                0.000000 -1.01 -0.81  -0.28    0.24  0.29   \n",
      "S002                                0.000000 -0.51 -1.00  -0.99    1.50  0.18   \n",
      "S003                                0.000000 -0.56 -1.33   0.64     NaN -0.26   \n",
      "S004                                0.000000 -1.53 -1.19  -0.49    0.26 -0.03   \n",
      "S005                                0.026120 -0.16  0.09   0.01    0.34  0.51   \n",
      "S006                                0.000000 -1.03 -0.63  -0.04   -0.25 -0.09   \n",
      "S007                                0.000000 -1.09 -0.60  -1.11    0.02  0.16   \n",
      "S008                                0.000000 -0.29  0.51  -0.51     NaN  0.46   \n",
      "S009                                0.002505 -0.93 -1.28   0.67    0.43 -0.05   \n",
      "S010                                0.000000 -0.44 -0.87   2.83   -0.32  0.18   \n",
      "S011                                0.000000 -0.13  0.03   0.61    2.03 -0.10   \n",
      "S012                                0.000000  1.55  1.67   0.43    0.70 -0.56   \n",
      "S013                                0.000000 -0.03  0.14   2.11    0.03  0.21   \n",
      "S014                                0.000000 -0.15  0.65  -0.80     NaN  0.06   \n",
      "S015                                0.000000 -0.70 -0.60  -1.55   -1.11  0.48   \n",
      "S016                                0.000000 -1.52 -1.90  -0.24     NaN  0.35   \n",
      "S017                                0.000000 -0.72 -0.34   1.68   -0.66  0.18   \n",
      "S018                                0.000000  0.33  1.14   5.40    0.34 -0.17   \n",
      "S019                                0.000000  0.43 -0.21   0.80    0.14 -0.15   \n",
      "S020                                0.009782 -0.40  0.55   1.82     NaN -0.09   \n",
      "S021                                0.007533 -0.83 -0.29    NaN     NaN  0.07   \n",
      "S022                                0.035281 -0.23 -0.18    NaN     NaN  0.43   \n",
      "S023                                0.000000 -0.02  0.68   3.40    0.17  0.17   \n",
      "S024                                0.000000 -0.62 -0.80  -0.39    0.23  0.03   \n",
      "S025                                0.007105 -0.18 -0.92   0.44   -0.19 -0.21   \n",
      "S026                                0.000000  0.39  0.06  -0.19    0.51 -0.06   \n",
      "S027                                0.000000  1.06  0.68  -0.78     NaN  0.21   \n",
      "S028                                0.000000  0.76  0.24    NaN     NaN -0.49   \n",
      "S029                                0.017896 -0.05  0.39   1.10    0.40  0.53   \n",
      "S030                                0.000000 -0.56 -0.17    NaN     NaN  0.34   \n",
      "...                                      ...   ...   ...    ...     ...   ...   \n",
      "S111                                     NaN  1.34  0.19  -0.22     NaN -0.01   \n",
      "S112                                     NaN  2.08  0.49   0.29    0.15  0.00   \n",
      "S113                                     NaN  1.33  0.70  -0.86   -0.34  0.08   \n",
      "S114                                     NaN  0.52 -0.75    NaN     NaN -0.07   \n",
      "S115                                     NaN  0.74  0.00  -0.01   -0.22 -0.07   \n",
      "S116                                     NaN  1.40 -0.14   0.32    0.48 -0.06   \n",
      "S117                                     NaN  1.34  0.11   0.19   -0.18  0.02   \n",
      "S118                                     NaN  1.03  0.38  -1.01   -0.44  0.01   \n",
      "S119                                     NaN  1.55  0.78  -1.22    0.01 -0.19   \n",
      "S120                                     NaN  1.90  1.16   0.55    0.21  0.20   \n",
      "S121                                     NaN  0.81  0.06   0.62     NaN -0.11   \n",
      "S122                                     NaN  2.03  1.53    NaN     NaN  0.07   \n",
      "S123                                     NaN  2.50  1.31   0.14   -0.03 -0.04   \n",
      "S124                                     NaN  1.87  2.04  -0.14     NaN  0.10   \n",
      "S125                                     NaN  1.82  0.39   0.07   -0.43 -0.08   \n",
      "S126                                     NaN  1.25  1.09  -1.37   -0.15 -0.03   \n",
      "S127                                     NaN  1.22  0.23  -1.27   -0.79 -0.39   \n",
      "S128                                     NaN  0.70 -0.46  -0.17   -0.29 -0.17   \n",
      "S129                                     NaN  0.12  0.58  -0.19   -0.03  0.04   \n",
      "S130                                     NaN  1.04  0.84  -0.45    0.11 -0.14   \n",
      "S131                                     NaN  0.60  0.49  -1.77   -0.40 -0.27   \n",
      "S132                                     NaN  0.26  0.77  -0.83   -0.45  0.01   \n",
      "S133                                     NaN  0.43  0.34  -0.92   -0.58 -0.02   \n",
      "S134                                     NaN  0.98  0.74   0.11   -0.20 -0.04   \n",
      "S135                                     NaN  1.76  1.21  -0.37     NaN  0.03   \n",
      "S136                                     NaN  0.93  1.71  -0.06   -0.92  0.00   \n",
      "S137                                     NaN  1.17  0.37  -0.49   -0.30 -0.13   \n",
      "S138                                     NaN  1.36  0.92  -1.01     NaN  0.14   \n",
      "S139                                     NaN  1.67 -0.06  -0.20   -0.44 -0.17   \n",
      "S140                                     NaN  2.43  2.39    NaN     NaN -0.53   \n",
      "\n",
      "      AACS  AADAT  AAED1  AAGAB  ...   ZSCAN31  ZSWIM8  ZW10  ZWILCH  ZWINT  \\\n",
      "idx                              ...                                          \n",
      "S001  0.68   1.27  -0.33   0.27  ...     -0.20   -0.01  0.00    1.14    NaN   \n",
      "S002  0.37   1.26   0.15   1.34  ...     -0.70   -0.04  0.35    1.10   1.06   \n",
      "S003  1.05  -0.10  -0.14   0.46  ...      0.19    0.12  0.08   -0.09    NaN   \n",
      "S004  0.77   1.10  -0.93   0.26  ...     -0.20    0.11  0.00    0.15   0.11   \n",
      "S005 -0.05  -1.18    NaN   0.66  ...     -0.61   -0.16 -1.53   -0.54   0.92   \n",
      "S006 -0.11   0.85   1.27   0.17  ...     -0.78    0.48  0.41   -1.01  -0.59   \n",
      "S007  0.67  -0.37  -0.12   0.33  ...     -0.28    0.06  0.15    0.52   0.51   \n",
      "S008  0.05  -0.22   0.18   0.11  ...      0.05   -0.89  0.12    1.08   0.73   \n",
      "S009  0.86  -0.22    NaN  -0.21  ...     -0.45    0.00 -1.45   -1.08  -1.39   \n",
      "S010  0.47  -0.15  -0.83  -0.01  ...       NaN    0.06  0.17   -0.12  -0.36   \n",
      "S011  1.34    NaN  -0.87   0.26  ...      0.65    0.09  0.48    0.37   0.06   \n",
      "S012  1.14    NaN    NaN   0.31  ...     -1.62    0.21  0.04    1.34   0.68   \n",
      "S013  0.22    NaN    NaN   0.30  ...     -1.08    0.16  0.44    0.63   0.00   \n",
      "S014 -0.10   0.67  -0.35   0.01  ...     -0.11   -0.24  0.07    0.51   0.19   \n",
      "S015 -0.83  -1.12  -0.52   0.16  ...      0.10   -0.02  0.24    0.67   0.83   \n",
      "S016  2.65   0.93  -0.38  -0.14  ...     -0.28    0.16  0.43    0.22    NaN   \n",
      "S017  0.44   0.17   0.00   0.42  ...     -0.75    0.01  0.07    0.88    NaN   \n",
      "S018  0.41    NaN    NaN   0.32  ...     -0.50    0.40  0.07    0.25  -0.23   \n",
      "S019 -0.13  -0.43  -0.06   0.15  ...     -0.21    0.23 -0.16   -0.30    NaN   \n",
      "S020  1.34  -0.02  -0.11  -0.10  ...      0.54   -0.40  0.30   -0.42  -0.97   \n",
      "S021  0.38   0.48  -0.08   0.35  ...     -0.39   -0.01  0.33    0.37   0.01   \n",
      "S022  0.26  -0.15  -1.32   0.16  ...     -0.13   -0.23  0.65    1.31   0.44   \n",
      "S023  0.14  -0.03  -0.60   0.40  ...     -0.18   -0.08  0.15    0.56   0.39   \n",
      "S024  0.14   0.54  -0.74   0.22  ...     -0.16    0.05  0.09   -0.05  -0.17   \n",
      "S025  0.49   0.22   0.13   0.14  ...      0.10    0.21  0.27    0.32    NaN   \n",
      "S026  0.87  -0.18  -0.83   0.30  ...       NaN    0.07  0.19    0.43  -0.02   \n",
      "S027 -0.60  -0.39   0.49  -0.31  ...      0.21    0.03 -0.19   -0.19  -0.27   \n",
      "S028  0.26   0.99  -0.25   0.26  ...       NaN    0.33  0.05   -1.27    NaN   \n",
      "S029  0.93   0.77   0.71   0.65  ...     -0.61    0.23  0.21    0.88   0.73   \n",
      "S030  0.14   1.12  -0.46  -0.10  ...      0.21    0.17  0.41    0.27   0.16   \n",
      "...    ...    ...    ...    ...  ...       ...     ...   ...     ...    ...   \n",
      "S111 -0.18  -0.31   0.53  -0.79  ...      0.14   -0.23 -0.42   -1.17    NaN   \n",
      "S112 -0.36   0.22   1.18  -0.24  ...      0.62   -0.27 -0.63   -1.11    NaN   \n",
      "S113 -1.47  -0.65   0.07  -1.13  ...      0.89    0.07 -0.46   -0.87  -1.02   \n",
      "S114 -0.79  -0.88   0.46  -0.61  ...       NaN    0.01 -0.32   -1.28    NaN   \n",
      "S115 -0.86   0.20   0.31  -0.48  ...      0.34    0.01 -0.34   -1.15  -0.73   \n",
      "S116 -0.72   0.05   0.11  -0.34  ...      0.43    0.17 -0.31   -1.19  -0.65   \n",
      "S117 -0.82  -0.24   0.35  -0.80  ...      0.46   -0.04 -0.52   -1.26  -0.93   \n",
      "S118 -0.82  -0.48   0.00  -1.06  ...      0.36   -0.01 -0.44   -0.21  -0.96   \n",
      "S119 -1.44  -0.23   0.53  -1.02  ...      0.58    0.11 -0.59   -0.45  -1.11   \n",
      "S120 -0.91  -0.25   0.36  -0.48  ...     -0.30   -0.08 -0.34   -1.33    NaN   \n",
      "S121  0.08   0.03   0.22   0.01  ...      0.31   -0.10 -0.41   -1.36    NaN   \n",
      "S122 -0.19   0.51   1.89  -0.83  ...      0.34   -0.30 -0.25   -0.07   1.05   \n",
      "S123 -0.82   0.14   0.24  -0.52  ...      0.53   -0.12 -0.21   -2.40    NaN   \n",
      "S124 -0.90  -0.85  -0.76  -0.57  ...      0.43   -0.26 -0.37   -1.29  -0.08   \n",
      "S125 -0.80    NaN    NaN  -0.50  ...      0.82    0.00 -0.54   -0.99  -0.81   \n",
      "S126 -0.73  -0.48   0.10  -0.18  ...     -0.13   -0.17  0.08   -0.14  -0.12   \n",
      "S127 -1.43  -0.87  -0.23  -0.43  ...      0.09   -0.08 -0.40   -0.54  -1.36   \n",
      "S128 -1.08   0.07    NaN  -0.80  ...      1.34   -0.19 -1.65   -1.19  -1.52   \n",
      "S129 -0.22    NaN    NaN  -0.46  ...     -0.75    0.37  0.00   -0.66  -0.83   \n",
      "S130 -0.22    NaN    NaN  -0.28  ...     -0.35   -0.09  0.02   -0.16  -0.16   \n",
      "S131 -0.64  -0.68   0.42  -0.45  ...     -0.58   -0.04 -0.07   -0.80  -0.35   \n",
      "S132 -1.48  -0.49  -0.55  -0.26  ...     -0.24   -0.07 -0.26   -1.36  -1.14   \n",
      "S133 -1.48  -0.35   0.13  -0.55  ...     -0.24   -0.22 -0.43   -1.63  -1.51   \n",
      "S134 -0.90  -0.08    NaN  -0.50  ...      0.75   -0.07 -1.86   -0.91  -1.25   \n",
      "S135 -0.68  -0.01   1.13  -0.52  ...      0.32   -0.47 -0.28   -0.71  -0.83   \n",
      "S136 -0.95  -0.10  -0.03  -0.51  ...      0.52   -0.26 -0.59   -1.25  -0.59   \n",
      "S137 -0.57   0.01   0.94  -0.77  ...       NaN    0.06 -0.66    0.19    NaN   \n",
      "S138 -0.89  -0.24   0.33  -0.71  ...      0.28   -0.04 -0.33   -0.53  -0.76   \n",
      "S139 -0.80   0.61   0.96  -0.03  ...       NaN    0.10 -0.33   -0.47   0.19   \n",
      "S140 -0.45  -0.06   0.60   0.44  ...      0.22    0.42 -0.19    0.01  -0.86   \n",
      "\n",
      "      ZXDC  ZYG11B   ZYX  ZZEF1  ZZZ3  \n",
      "idx                                    \n",
      "S001  0.05   -0.61 -1.10  -0.17 -0.16  \n",
      "S002 -0.48   -0.09 -1.19  -0.05 -0.53  \n",
      "S003  0.20   -0.08 -0.66   0.33 -0.73  \n",
      "S004 -0.38   -0.13 -0.86  -0.04 -0.35  \n",
      "S005 -0.60    0.31 -1.93  -0.20  0.00  \n",
      "S006  0.06   -0.39 -1.17  -0.13 -0.05  \n",
      "S007 -0.45   -0.07 -0.63  -0.10  0.07  \n",
      "S008  0.52    0.07 -0.68  -0.22  0.09  \n",
      "S009 -0.19   -0.36 -0.66   0.39 -0.53  \n",
      "S010 -0.31   -0.25  0.37   0.01  0.08  \n",
      "S011 -0.60   -0.03 -1.32   0.30 -1.14  \n",
      "S012  0.42    0.15 -0.87  -0.04  2.41  \n",
      "S013 -0.15   -0.11 -0.87   0.03 -0.32  \n",
      "S014  0.81   -0.06 -1.01  -0.30 -0.49  \n",
      "S015  1.28   -0.32 -0.88  -0.48  0.13  \n",
      "S016  0.67   -0.53 -1.52   0.22 -0.15  \n",
      "S017  0.58   -0.39 -0.86  -0.08 -0.03  \n",
      "S018  0.14   -0.16 -0.95   0.02  0.02  \n",
      "S019   NaN   -0.13  0.63   0.33 -0.19  \n",
      "S020 -0.08   -0.48 -1.74  -0.25  0.02  \n",
      "S021  0.01   -0.21 -0.70   0.30 -0.08  \n",
      "S022  0.17   -0.09 -1.08  -0.12  0.14  \n",
      "S023 -0.17   -0.36 -0.95   0.07 -0.23  \n",
      "S024 -0.40   -0.39 -0.82  -0.30 -0.21  \n",
      "S025 -0.31    0.17  0.65   0.01  0.10  \n",
      "S026 -1.08   -0.33 -0.83   0.03 -0.10  \n",
      "S027  0.29    0.14  1.11  -0.04  0.29  \n",
      "S028 -0.46    0.11 -0.06   0.16 -0.23  \n",
      "S029 -0.34   -0.11 -0.21  -0.05  1.52  \n",
      "S030  0.16    0.25 -0.77   0.05 -0.06  \n",
      "...    ...     ...   ...    ...   ...  \n",
      "S111  0.83    0.32  1.55  -0.07  0.35  \n",
      "S112   NaN   -0.11  1.33  -0.36  0.10  \n",
      "S113  0.78    0.28  1.36  -0.10  0.47  \n",
      "S114  0.33    0.26  1.19  -0.02  0.02  \n",
      "S115  0.81    0.27  1.38  -0.12  0.28  \n",
      "S116  0.77    0.67  1.50  -0.04  0.18  \n",
      "S117  0.66    0.55  1.72   0.02  0.22  \n",
      "S118 -0.10    0.25  1.30  -0.11  0.21  \n",
      "S119  0.37    0.24  1.81   0.04 -0.01  \n",
      "S120   NaN    0.45  1.54  -0.10  0.16  \n",
      "S121 -0.22    0.03  1.72  -0.35  0.25  \n",
      "S122 -0.01    0.16  0.47   0.16  0.23  \n",
      "S123   NaN    0.11  0.62  -0.12  0.11  \n",
      "S124  1.09    0.14  0.91  -0.07  0.30  \n",
      "S125  0.50    0.45  1.76  -0.19  0.23  \n",
      "S126  0.09   -0.08  0.85   0.08 -0.04  \n",
      "S127 -0.05   -0.07  1.74   0.16 -0.09  \n",
      "S128  0.47   -0.03  0.87  -0.08  0.09  \n",
      "S129 -0.08   -0.29  0.66   0.22 -0.25  \n",
      "S130  0.28   -0.09  0.37   0.00  0.00  \n",
      "S131  0.03    0.11  0.88   0.14  0.02  \n",
      "S132 -0.39    0.00  0.70   0.11  0.07  \n",
      "S133  0.08    0.03  0.36  -0.17  0.33  \n",
      "S134  0.19    0.02  0.38   0.01  0.21  \n",
      "S135  0.48    0.12  0.62  -0.21  0.60  \n",
      "S136  0.35    0.17  1.32  -0.06  0.04  \n",
      "S137  0.40    0.20  1.63  -0.02  0.58  \n",
      "S138  0.06    0.11  1.03  -0.03  0.18  \n",
      "S139  0.55    0.48  2.15   0.15  0.15  \n",
      "S140 -0.30    0.48  1.84   0.17 -0.51  \n",
      "\n",
      "[140 rows x 9586 columns]\n"
     ]
    }
   ],
   "source": [
    "traitProt = CPTAC.compare_clinical(clinical, proteomics, trait)\n",
    "print(traitProt)"
   ]
  },
  {
   "cell_type": "markdown",
   "metadata": {},
   "source": [
    "We can now check for genes that have a significantly different protein abundance between the high and low BMI. First we need to set a more accurate threshold since we have so many samples."
   ]
  },
  {
   "cell_type": "code",
   "execution_count": 88,
   "metadata": {},
   "outputs": [
    {
     "name": "stdout",
     "output_type": "stream",
     "text": [
      "Threshold: 5.215939912372209e-06\n",
      "(0.5954546898804134, 6.390277473094786e-11)\n",
      "(0.5055666609728869, 8.094061613475806e-08)\n",
      "(0.5142474682962077, 2.3664236984920564e-06)\n",
      "(0.5159220615804712, 3.939078656596895e-08)\n",
      "(0.5554446708410383, 2.311988835846832e-07)\n",
      "(0.5092116571137849, 6.29878026289408e-08)\n",
      "(0.5671292890110862, 2.8231954170521566e-06)\n",
      "(0.5353594597849946, 9.536420555785089e-09)\n",
      "(-0.5040190921349618, 2.185750226258991e-06)\n",
      "(0.5365065934768141, 3.540381061315309e-08)\n",
      "(0.5101685867856048, 5.894576927593014e-08)\n",
      "(0.5506710752065497, 2.9239765756052913e-09)\n",
      "(0.5316265311109988, 1.2609996803395728e-08)\n",
      "(0.5510230261411645, 2.3797619768690187e-06)\n",
      "(0.5318836550411455, 1.2371001992901337e-08)\n",
      "(0.605514861986393, 2.506866932169879e-06)\n",
      "16\n",
      "['ABI3', 'AIF1', 'AOAH', 'APOBEC3G', 'ASB6', 'BTK', 'CALHM6', 'CRLF3', 'DOP1A', 'ETS1', 'GBP1', 'GBP4', 'GBP5', 'IRF4', 'LCP2', 'POU2F2']\n"
     ]
    }
   ],
   "source": [
    "threshold = .05 / len(highTrait.columns) #TODO: this doesn't yield anything significant yet\n",
    "tscutoff = 0.5\n",
    "print(\"Threshold:\", threshold)\n",
    "significantTests = []\n",
    "significantGenes = []\n",
    "for num in range(1,len(traitProt.columns)):\n",
    "    gene = traitProt.columns[num]\n",
    "    oneGene = traitProt[[trait, gene]]\n",
    "    oneGene = oneGene.dropna(axis=0)\n",
    "    pearsonrTest = stats.pearsonr(oneGene[trait], oneGene[gene])\n",
    "    if (abs(pearsonrTest[0]) >= tscutoff) and (pearsonrTest[1] <= threshold):\n",
    "        print(pearsonrTest)\n",
    "        significantTests.append(pearsonrTest)\n",
    "        significantGenes.append(gene)\n",
    "print(len(significantGenes))\n",
    "print(significantGenes)"
   ]
  },
  {
   "cell_type": "code",
   "execution_count": null,
   "metadata": {},
   "outputs": [],
   "source": []
  }
 ],
 "metadata": {
  "kernelspec": {
   "display_name": "Python 3",
   "language": "python",
   "name": "python3"
  },
  "language_info": {
   "codemirror_mode": {
    "name": "ipython",
    "version": 3
   },
   "file_extension": ".py",
   "mimetype": "text/x-python",
   "name": "python",
   "nbconvert_exporter": "python",
   "pygments_lexer": "ipython3",
   "version": "3.7.0"
  }
 },
 "nbformat": 4,
 "nbformat_minor": 2
}
