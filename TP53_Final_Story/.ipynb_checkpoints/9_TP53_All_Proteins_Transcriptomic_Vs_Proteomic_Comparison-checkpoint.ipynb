{
 "cells": [
  {
   "cell_type": "code",
   "execution_count": 2,
   "metadata": {},
   "outputs": [
    {
     "name": "stdout",
     "output_type": "stream",
     "text": [
      "Welcome to the CPTAC data service package. This import contains\n",
      "information about the package. In order to access a specific data set,\n",
      "import a CPTAC subfolder by either 'import CPTAC.DataName' or 'from\n",
      "CPTAC import DataName'.\n",
      "Loading Endometrial CPTAC data:\n",
      "Loading Dictionary...\n",
      "Loading Clinical Data...\n",
      "Loading Acetylation Proteomics Data...\n",
      "Loading Proteomics Data...\n",
      "Loading Transcriptomics Data...\n",
      "Loading CNA Data...\n",
      "Loading Phosphoproteomics Data...\n",
      "Loading Somatic Mutation Data...\n",
      "\n",
      " ******PLEASE READ******\n",
      "WARNING: This data is under a publication embargo until July 1, 2019.\n",
      "CPTAC is a community resource project and data are made available\n",
      "rapidly after generation for community research use. The embargo\n",
      "allows exploring and utilizing the data, but the data may not be in a\n",
      "publication until July 1, 2019. Please see\n",
      "https://proteomics.cancer.gov/data-portal/about/data-use-agreement or\n",
      "enter embargo() to open the webpage for more details.\n"
     ]
    }
   ],
   "source": [
    "import pandas as pd\n",
    "import numpy as np\n",
    "import re\n",
    "import scipy.stats\n",
    "import statsmodels.stats.multitest\n",
    "import matplotlib.pyplot as plt\n",
    "import seaborn as sns\n",
    "import CPTAC.Endometrial as CPTAC"
   ]
  },
  {
   "cell_type": "code",
   "execution_count": 3,
   "metadata": {},
   "outputs": [
    {
     "data": {
      "text/plain": [
       "586      S001\n",
       "1249     S006\n",
       "1335     S008\n",
       "3962     S016\n",
       "4609     S020\n",
       "44776    S071\n",
       "44808    S072\n",
       "46588    S082\n",
       "49326    S096\n",
       "49407    S097\n",
       "Name: Clinical_Patient_Key, dtype: object"
      ]
     },
     "execution_count": 3,
     "metadata": {},
     "output_type": "execute_result"
    }
   ],
   "source": [
    "gene='TP53'\n",
    "somatic = CPTAC.get_somatic()\n",
    "proteomics = CPTAC.get_proteomics()\n",
    "transcriptomics = CPTAC.get_transcriptomics()\n",
    "\n",
    "# A list of mutations present in the hotspot according to our Hotspot3D output\n",
    "hotspot_mutations = ['p.P250L', 'p.R248W', 'p.S241C', 'p.241del','p.K164E', 'p.R249S', 'p.R273H', 'p.R282W',\n",
    "                    'p.S127Y', 'p.G244D', 'p.A159P']\n",
    "mutated_hotspot = somatic.loc[(somatic['Location'].isin(hotspot_mutations)) & (somatic['Gene'] == gene)]\n",
    "\n",
    "# Get a list of patient identifiers for those who have mutations in the hotspot\n",
    "hotspot_patients_both_keys = mutated_hotspot[['Clinical_Patient_Key', 'Patient_Id']]\n",
    "hotspot_patients = hotspot_patients_both_keys['Clinical_Patient_Key']\n",
    "hotspot_patients"
   ]
  },
  {
   "cell_type": "markdown",
   "metadata": {},
   "source": [
    "# All TP53 Mutants vs. Wildtype TP53"
   ]
  },
  {
   "cell_type": "code",
   "execution_count": 4,
   "metadata": {},
   "outputs": [],
   "source": [
    "#bonferroni correction\n",
    "pcutoff = 0.05 / len(proteomics.columns)\n",
    "\n",
    "proteomics_all_mut_wt_tstat = {}\n",
    "\n",
    "# Go through every protein in our proteomics dataframe\n",
    "for protein in proteomics.columns:\n",
    "    if (protein != 'idx') and (protein != gene):\n",
    "        # Create dataframe with mutation status of TP53 with proteomics of the given protein\n",
    "        p53_mutations_protein = CPTAC.compare_mutations(proteomics, protein, gene)\n",
    "        # Create a column showing the location of TP53 mutation\n",
    "        p53_mutations_protein['Within_Hotspot'] = False\n",
    "        p53_mutations_protein.loc[hotspot_patients, 'Within_Hotspot'] = True\n",
    "        p53_mutations_protein.loc[p53_mutations_protein['Mutation'] == 'Wildtype', 'Within_Hotspot'] = 'Wildtype'\n",
    "        p53_mutations_protein = p53_mutations_protein.loc[p53_mutations_protein['Sample_Status'] == 'Tumor'].dropna(axis=0)\n",
    "        # Perform the ttest if there is enough data for that protein\n",
    "        mutated_tp53 = p53_mutations_protein.loc[p53_mutations_protein['Within_Hotspot'] != 'Wildtype']\n",
    "        wt_tp53 = p53_mutations_protein.loc[p53_mutations_protein['Within_Hotspot'] == 'Wildtype']\n",
    "        if len(mutated_tp53) < 2: continue\n",
    "        ttest = scipy.stats.ttest_ind(mutated_tp53[protein], wt_tp53[protein])\n",
    "        # Print significant values\n",
    "        if ttest[1] <= pcutoff:\n",
    "            proteomics_all_mut_wt_tstat[protein] = ttest[0]"
   ]
  },
  {
   "cell_type": "code",
   "execution_count": 5,
   "metadata": {},
   "outputs": [],
   "source": [
    "transcriptomics_all_mut_wt_tstat = {}\n",
    "pcutoff = 0.05 / len(transcriptomics.columns)\n",
    "\n",
    "# Go through every protein in our proteomics dataframe\n",
    "for protein in transcriptomics.columns:\n",
    "    if (protein != 'idx') and (protein != gene):\n",
    "        # Create dataframe with mutation status of TP53 with proteomics of the given protein\n",
    "        p53_mutations_protein = CPTAC.compare_mutations(transcriptomics, protein, gene)\n",
    "        # Create a column showing the location of TP53 mutation\n",
    "        p53_mutations_protein['Within_Hotspot'] = False\n",
    "        p53_mutations_protein.loc[hotspot_patients, 'Within_Hotspot'] = True\n",
    "        p53_mutations_protein.loc[p53_mutations_protein['Mutation'] == 'Wildtype', 'Within_Hotspot'] = 'Wildtype'\n",
    "        p53_mutations_protein = p53_mutations_protein.loc[p53_mutations_protein['Sample_Status'] == 'Tumor'].dropna(axis=0)\n",
    "        # Perform the ttest if there is enough data for that protein\n",
    "        mutated_tp53 = p53_mutations_protein.loc[p53_mutations_protein['Within_Hotspot'] != 'Wildtype']\n",
    "        wt_tp53 = p53_mutations_protein.loc[p53_mutations_protein['Within_Hotspot'] == 'Wildtype']\n",
    "        if len(mutated_tp53) < 2: continue\n",
    "        ttest = scipy.stats.ttest_ind(mutated_tp53[protein], wt_tp53[protein])\n",
    "        # Print significant values\n",
    "        if ttest[1] <= pcutoff:\n",
    "            transcriptomics_all_mut_wt_tstat[protein] = ttest[0]"
   ]
  },
  {
   "cell_type": "code",
   "execution_count": 12,
   "metadata": {},
   "outputs": [
    {
     "name": "stdout",
     "output_type": "stream",
     "text": [
      "There are 62 shared correlations in the same direction\n",
      "['ABCF1', 'ABT1', 'ALG2', 'ARFIP1', 'ARFIP2', 'ATAD2', 'CA8', 'CAD', 'CDKAL1', 'CIP2A', 'CMPK2', 'CMSS1', 'CMTR1', 'CSE1L', 'DDX27', 'DOCK5', 'EIF2AK2', 'EPS8', 'FBXO4', 'GRB7', 'HELZ2', 'HERC5', 'IDNK', 'IFIT1', 'IRF2BPL', 'ISG15', 'KIF13B', 'KLHDC7A', 'KLRG2', 'KRI1', 'LSG1', 'LSM14B', 'MRGBP', 'MTHFD2', 'MX1', 'MX2', 'MYO5C', 'NGDN', 'NOL10', 'NPDC1', 'NUP153', 'OGFR', 'PRKCI', 'PRPF6', 'PTPN3', 'RAE1', 'RIOK1', 'SENP2', 'SIAE', 'SLC4A1AP', 'SNX7', 'SP110', 'STAT1', 'STAT2', 'TESC', 'TOPBP1', 'TPD52L2', 'UBE2C', 'USP39', 'XPO5', 'YTHDF1', 'ZGPAT']\n",
      "There are 0 shared correlations in the opposite direction\n",
      "[]\n",
      "There are 94 unique proteomic correlations not found in the transcriptome\n",
      "There are 273 unique transcriptomic correlations not found in the proteome\n"
     ]
    }
   ],
   "source": [
    "proteomics_shared_tstat = {}\n",
    "proteomics_unique_tstat = {}\n",
    "\n",
    "transcriptomics_shared_tstat = {}\n",
    "transcriptomics_unique_tstat = {}\n",
    "\n",
    "shared_identical_direction = list()\n",
    "shared_opposite_direction = list()\n",
    "\n",
    "\n",
    "for protein in proteomics_all_mut_wt_tstat:\n",
    "    if protein in transcriptomics_all_mut_wt_tstat:\n",
    "        proteomics_shared_tstat[protein] = proteomics_all_mut_wt_tstat[protein]\n",
    "        transcriptomics_shared_tstat[protein] = transcriptomics_all_mut_wt_tstat[protein]\n",
    "\n",
    "for protein in proteomics_all_mut_wt_tstat:\n",
    "    if protein not in transcriptomics_all_mut_wt_tstat:\n",
    "        proteomics_unique_tstat[protein] = proteomics_all_mut_wt_tstat[protein]\n",
    "        \n",
    "for protein in transcriptomics_all_mut_wt_tstat:\n",
    "    if protein not in proteomics_all_mut_wt_tstat:\n",
    "        transcriptomics_unique_tstat[protein] = transcriptomics_all_mut_wt_tstat[protein]\n",
    "\n",
    "for protein in proteomics_shared_tstat:\n",
    "    if proteomics_shared_tstat[protein] > 0 and transcriptomics_shared_tstat[protein] > 0:\n",
    "        shared_identical_direction.append(protein)\n",
    "    if proteomics_shared_tstat[protein] < 0 and transcriptomics_shared_tstat[protein] < 0:\n",
    "        shared_identical_direction.append(protein)\n",
    "    if proteomics_shared_tstat[protein] < 0 and transcriptomics_shared_tstat[protein] > 0:\n",
    "        shared_opposite_direction.append(protein)\n",
    "    if proteomics_shared_tstat[protein] > 0 and transcriptomics_shared_tstat[protein] < 0:\n",
    "        shared_opposite_direction.append(protein)\n",
    "        \n",
    "print('There are ' + str(len(shared_identical_direction)) + ' shared correlations in the same direction')\n",
    "print(shared_identical_direction)\n",
    "\n",
    "print('There are ' + str(len(shared_opposite_direction)) + ' shared correlations in the opposite direction')\n",
    "print(shared_opposite_direction)\n",
    "\n",
    "print('There are ' + str(len(proteomics_unique_tstat)) + ' unique proteomic correlations not found in the transcriptome')\n",
    "print('There are ' + str(len(transcriptomics_unique_tstat)) + ' unique transcriptomic correlations not found in the proteome')"
   ]
  },
  {
   "cell_type": "code",
   "execution_count": null,
   "metadata": {},
   "outputs": [],
   "source": []
  },
  {
   "cell_type": "markdown",
   "metadata": {},
   "source": [
    "# TP53 Hotspot Mutants vs. Wildtype TP53"
   ]
  },
  {
   "cell_type": "code",
   "execution_count": 7,
   "metadata": {},
   "outputs": [],
   "source": [
    "proteomics_htspt_wt_tstat = {}\n",
    "pcutoff = 0.05 / len(proteomics.columns)\n",
    "\n",
    "for protein in proteomics.columns:\n",
    "    if (protein != 'idx') and (protein != gene):\n",
    "        # Create dataframe with mutation status of TP53 with proteomics of the given protein\n",
    "        p53_mutations_protein = CPTAC.compare_mutations(proteomics, protein, gene)\n",
    "        # Create a column showing the location of TP53 mutation\n",
    "        p53_mutations_protein['Within_Hotspot'] = False\n",
    "        p53_mutations_protein.loc[hotspot_patients, 'Within_Hotspot'] = True\n",
    "        p53_mutations_protein.loc[p53_mutations_protein['Mutation'] == 'Wildtype', 'Within_Hotspot'] = 'Wildtype'\n",
    "        p53_mutations_protein = p53_mutations_protein.loc[p53_mutations_protein['Sample_Status'] == 'Tumor'].dropna(axis=0)\n",
    "        # Perform the ttest\n",
    "        hotspot_tp53 = p53_mutations_protein.loc[p53_mutations_protein['Within_Hotspot'] == True]\n",
    "        wt_tp53 = p53_mutations_protein.loc[p53_mutations_protein['Within_Hotspot'] == 'Wildtype']\n",
    "        if len(hotspot_tp53) < 2: continue\n",
    "        ttest = scipy.stats.ttest_ind(hotspot_tp53[protein], wt_tp53[protein])\n",
    "        # Print significant values\n",
    "        if ttest[1] <= pcutoff:\n",
    "            proteomics_htspt_wt_tstat[protein] = ttest[0]"
   ]
  },
  {
   "cell_type": "code",
   "execution_count": 8,
   "metadata": {},
   "outputs": [],
   "source": [
    "transcriptomics_htspt_wt_tstat = {}\n",
    "pcutoff = 0.05 / len(transcriptomics.columns)\n",
    "\n",
    "for protein in transcriptomics.columns:\n",
    "    if (protein != 'idx') and (protein != gene):\n",
    "        # Create dataframe with mutation status of TP53 with proteomics of the given protein\n",
    "        p53_mutations_protein = CPTAC.compare_mutations(transcriptomics, protein, gene)\n",
    "        # Create a column showing the location of TP53 mutation\n",
    "        p53_mutations_protein['Within_Hotspot'] = False\n",
    "        p53_mutations_protein.loc[hotspot_patients, 'Within_Hotspot'] = True\n",
    "        p53_mutations_protein.loc[p53_mutations_protein['Mutation'] == 'Wildtype', 'Within_Hotspot'] = 'Wildtype'\n",
    "        p53_mutations_protein = p53_mutations_protein.loc[p53_mutations_protein['Sample_Status'] == 'Tumor'].dropna(axis=0)\n",
    "        # Perform the ttest\n",
    "        hotspot_tp53 = p53_mutations_protein.loc[p53_mutations_protein['Within_Hotspot'] == True]\n",
    "        wt_tp53 = p53_mutations_protein.loc[p53_mutations_protein['Within_Hotspot'] == 'Wildtype']\n",
    "        if len(hotspot_tp53) < 2: continue\n",
    "        ttest = scipy.stats.ttest_ind(hotspot_tp53[protein], wt_tp53[protein])\n",
    "        # Print significant values\n",
    "        if ttest[1] <= pcutoff:\n",
    "            transcriptomics_htspt_wt_tstat[protein] = ttest[0]"
   ]
  },
  {
   "cell_type": "code",
   "execution_count": 13,
   "metadata": {},
   "outputs": [
    {
     "name": "stdout",
     "output_type": "stream",
     "text": [
      "There are 22 shared correlations in the same direction\n",
      "['CMSS1', 'CMTR1', 'EIF2AK2', 'GALNT10', 'HELZ2', 'IFIT2', 'LSG1', 'LSM14B', 'OGFR', 'OSBPL2', 'PKN1', 'PTPN3', 'RAE1', 'RTF2', 'SENP2', 'SLC4A1AP', 'STAT1', 'TPD52L2', 'TRIM2', 'XPO5', 'YTHDF1', 'ZGPAT']\n",
      "\n",
      "There are 0 shared correlations in the opposite direction\n",
      "[]\n",
      "\n",
      "There are 38 unique proteomic correlations not found in the transcriptome\n",
      "There are 111 unique transcriptomic correlations not found in the proteome\n"
     ]
    }
   ],
   "source": [
    "proteomics_shared_tstat_2 = {}\n",
    "proteomics_unique_tstat_2 = {}\n",
    "\n",
    "transcriptomics_shared_tstat_2 = {}\n",
    "transcriptomics_unique_tstat_2 = {}\n",
    "\n",
    "shared_identical_direction_2 = list()\n",
    "shared_opposite_direction_2 = list()\n",
    "\n",
    "\n",
    "for protein in proteomics_htspt_wt_tstat:\n",
    "    if protein in transcriptomics_htspt_wt_tstat:\n",
    "        proteomics_shared_tstat_2[protein] = proteomics_htspt_wt_tstat[protein]\n",
    "        transcriptomics_shared_tstat_2[protein] = transcriptomics_htspt_wt_tstat[protein]\n",
    "\n",
    "for protein in proteomics_htspt_wt_tstat:\n",
    "    if protein not in transcriptomics_htspt_wt_tstat:\n",
    "        proteomics_unique_tstat_2[protein] = proteomics_htspt_wt_tstat[protein]\n",
    "        \n",
    "for protein in transcriptomics_htspt_wt_tstat:\n",
    "    if protein not in proteomics_htspt_wt_tstat:\n",
    "        transcriptomics_unique_tstat_2[protein] = transcriptomics_htspt_wt_tstat[protein]\n",
    "\n",
    "for protein in proteomics_shared_tstat_2:\n",
    "    if proteomics_shared_tstat_2[protein] > 0 and transcriptomics_shared_tstat_2[protein] > 0:\n",
    "        shared_identical_direction_2.append(protein)\n",
    "    if proteomics_shared_tstat_2[protein] < 0 and transcriptomics_shared_tstat_2[protein] < 0:\n",
    "        shared_identical_direction_2.append(protein)\n",
    "    if proteomics_shared_tstat_2[protein] < 0 and transcriptomics_shared_tstat_2[protein] > 0:\n",
    "        shared_opposite_direction.append(protein)\n",
    "    if proteomics_shared_tstat_2[protein] > 0 and transcriptomics_shared_tstat_2[protein] < 0:\n",
    "        shared_opposite_direction.append(protein)\n",
    "        \n",
    "print('There are ' + str(len(shared_identical_direction_2)) + ' shared correlations in the same direction')\n",
    "print(str(shared_identical_direction_2) + '\\n')\n",
    " \n",
    "print('There are ' + str(len(shared_opposite_direction_2)) + ' shared correlations in the opposite direction')\n",
    "print(str(shared_opposite_direction_2) + '\\n')\n",
    "\n",
    "print('There are ' + str(len(proteomics_unique_tstat_2)) + ' unique proteomic correlations not found in the transcriptome')\n",
    "print('There are ' + str(len(transcriptomics_unique_tstat_2)) + ' unique transcriptomic correlations not found in the proteome')"
   ]
  },
  {
   "cell_type": "markdown",
   "metadata": {},
   "source": [
    "# TP53 Non-Hotspot Mutants Vs. Wildtype TP53"
   ]
  },
  {
   "cell_type": "code",
   "execution_count": 10,
   "metadata": {},
   "outputs": [],
   "source": [
    "proteomics_nonhs_wt_tstat = {}\n",
    "pcutoff = 0.05 / len(proteomics.columns)\n",
    "\n",
    "for protein in proteomics.columns:\n",
    "    if (protein != 'idx') and (protein != gene):\n",
    "        p53_mutations_protein = CPTAC.compare_mutations(proteomics, protein, gene)\n",
    "        p53_mutations_protein['Within_Hotspot'] = False\n",
    "        p53_mutations_protein.loc[hotspot_patients, 'Within_Hotspot'] = True\n",
    "        p53_mutations_protein.loc[p53_mutations_protein['Mutation'] == 'Wildtype', 'Within_Hotspot'] = 'Wildtype'\n",
    "        p53_mutations_protein = p53_mutations_protein.loc[p53_mutations_protein['Sample_Status'] == 'Tumor'].dropna(axis=0)\n",
    "        mutated = p53_mutations_protein.loc[p53_mutations_protein['Within_Hotspot'] == False]\n",
    "        wt_tp53 = p53_mutations_protein.loc[p53_mutations_protein['Within_Hotspot'] == 'Wildtype']\n",
    "        if len(mutated) < 2: continue\n",
    "        ttest = scipy.stats.ttest_ind(mutated[protein], wt_tp53[protein])\n",
    "        if ttest[1] <= pcutoff:\n",
    "            proteomics_nonhs_wt_tstat[protein] = ttest[0]"
   ]
  },
  {
   "cell_type": "code",
   "execution_count": 15,
   "metadata": {},
   "outputs": [
    {
     "data": {
      "text/plain": [
       "{'BIRC2': -5.246642698969521,\n",
       " 'CDKAL1': 5.073561587992175,\n",
       " 'COPS4': -5.182253474823894,\n",
       " 'FASTKD5': 5.021292527284483,\n",
       " 'FXR1': 5.410944141346502,\n",
       " 'GEMIN2': 5.621649008940475,\n",
       " 'GFM1': 5.937513375767382,\n",
       " 'GRB7': 5.197138098238463,\n",
       " 'GXYLT1': 5.228054349883012,\n",
       " 'HELZ2': 5.212443535065483,\n",
       " 'KIF13B': -4.936111361137409,\n",
       " 'LSG1': 6.347678613303716,\n",
       " 'MTHFD2': 6.831536515882008,\n",
       " 'NGDN': 5.314119814933874,\n",
       " 'NOL10': 5.738473429640044,\n",
       " 'PRRC2A': 5.308844858530986,\n",
       " 'RBBP6': 5.1323086033009835,\n",
       " 'SLC4A1AP': 6.2033122373847345,\n",
       " 'SNX7': -5.21217068576149,\n",
       " 'STAT2': 5.508557729225526,\n",
       " 'TRMT6': 6.467584704217579,\n",
       " 'VAV2': -5.061897144286698,\n",
       " 'VPS13C': -4.974404267614053,\n",
       " 'WDR75': 4.99475008656867}"
      ]
     },
     "execution_count": 15,
     "metadata": {},
     "output_type": "execute_result"
    }
   ],
   "source": [
    "proteomics_nonhs_wt_tstat"
   ]
  },
  {
   "cell_type": "code",
   "execution_count": 16,
   "metadata": {},
   "outputs": [],
   "source": [
    "transcriptomics_nonhs_wt_tstat = {}\n",
    "pcutoff = 0.05 / len(transcriptomics.columns)\n",
    "\n",
    "for protein in transcriptomics.columns:\n",
    "    if (protein != 'idx') and (protein != gene):\n",
    "        p53_mutations_protein = CPTAC.compare_mutations(transcriptomics, protein, gene)\n",
    "        p53_mutations_protein['Within_Hotspot'] = False\n",
    "        p53_mutations_protein.loc[hotspot_patients, 'Within_Hotspot'] = True\n",
    "        p53_mutations_protein.loc[p53_mutations_protein['Mutation'] == 'Wildtype', 'Within_Hotspot'] = 'Wildtype'\n",
    "        p53_mutations_protein = p53_mutations_protein.loc[p53_mutations_protein['Sample_Status'] == 'Tumor'].dropna(axis=0)\n",
    "        mutated = p53_mutations_protein.loc[p53_mutations_protein['Within_Hotspot'] == False]\n",
    "        wt_tp53 = p53_mutations_protein.loc[p53_mutations_protein['Within_Hotspot'] == 'Wildtype']\n",
    "        if len(mutated) < 2: continue\n",
    "        ttest = scipy.stats.ttest_ind(mutated[protein], wt_tp53[protein])\n",
    "        if ttest[1] <= pcutoff:\n",
    "            transcriptomics_nonhs_wt_tstat[protein] = ttest[0]"
   ]
  },
  {
   "cell_type": "code",
   "execution_count": 17,
   "metadata": {},
   "outputs": [
    {
     "name": "stdout",
     "output_type": "stream",
     "text": [
      "There are 6 shared correlations in the same direction\n",
      "['CDKAL1', 'KIF13B', 'LSG1', 'SNX7', 'STAT2', 'VPS13C']\n",
      "\n",
      "There are 0 shared correlations in the opposite direction\n",
      "[]\n",
      "\n",
      "There are 18 unique proteomic correlations not found in the transcriptome\n",
      "There are 83 unique transcriptomic correlations not found in the proteome\n"
     ]
    }
   ],
   "source": [
    "proteomics_shared_tstat_3 = {}\n",
    "proteomics_unique_tstat_3 = {}\n",
    "\n",
    "transcriptomics_shared_tstat_3 = {}\n",
    "transcriptomics_unique_tstat_3 = {}\n",
    "\n",
    "shared_identical_direction_3 = list()\n",
    "shared_opposite_direction_3 = list()\n",
    "\n",
    "\n",
    "for protein in proteomics_nonhs_wt_tstat:\n",
    "    if protein in transcriptomics_nonhs_wt_tstat:\n",
    "        proteomics_shared_tstat_3[protein] = proteomics_nonhs_wt_tstat[protein]\n",
    "        transcriptomics_shared_tstat_3[protein] = transcriptomics_nonhs_wt_tstat[protein]\n",
    "\n",
    "for protein in proteomics_nonhs_wt_tstat:\n",
    "    if protein not in transcriptomics_nonhs_wt_tstat:\n",
    "        proteomics_unique_tstat_3[protein] = proteomics_nonhs_wt_tstat[protein]\n",
    "        \n",
    "for protein in transcriptomics_nonhs_wt_tstat:\n",
    "    if protein not in proteomics_nonhs_wt_tstat:\n",
    "        transcriptomics_unique_tstat_3[protein] = transcriptomics_nonhs_wt_tstat[protein]\n",
    "\n",
    "for protein in proteomics_shared_tstat_3:\n",
    "    if proteomics_shared_tstat_3[protein] > 0 and transcriptomics_shared_tstat_3[protein] > 0:\n",
    "        shared_identical_direction_3.append(protein)\n",
    "    if proteomics_shared_tstat_3[protein] < 0 and transcriptomics_shared_tstat_3[protein] < 0:\n",
    "        shared_identical_direction_3.append(protein)\n",
    "    if proteomics_shared_tstat_3[protein] < 0 and transcriptomics_shared_tstat_3[protein] > 0:\n",
    "        shared_opposite_direction.append(protein)\n",
    "    if proteomics_shared_tstat_3[protein] > 0 and transcriptomics_shared_tstat_3[protein] < 0:\n",
    "        shared_opposite_direction.append(protein)\n",
    "        \n",
    "print('There are ' + str(len(shared_identical_direction_3)) + ' shared correlations in the same direction')\n",
    "print(str(shared_identical_direction_3) + '\\n')\n",
    " \n",
    "print('There are ' + str(len(shared_opposite_direction_3)) + ' shared correlations in the opposite direction')\n",
    "print(str(shared_opposite_direction_3) + '\\n')\n",
    "\n",
    "print('There are ' + str(len(proteomics_unique_tstat_3)) + ' unique proteomic correlations not found in the transcriptome')\n",
    "print('There are ' + str(len(transcriptomics_unique_tstat_3)) + ' unique transcriptomic correlations not found in the proteome')"
   ]
  },
  {
   "cell_type": "code",
   "execution_count": 18,
   "metadata": {},
   "outputs": [
    {
     "data": {
      "text/plain": [
       "['ABCF1',\n",
       " 'ABT1',\n",
       " 'ALG2',\n",
       " 'ARFIP1',\n",
       " 'ARFIP2',\n",
       " 'ATAD2',\n",
       " 'CA8',\n",
       " 'CAD',\n",
       " 'CDKAL1',\n",
       " 'CIP2A',\n",
       " 'CMPK2',\n",
       " 'CMSS1',\n",
       " 'CMTR1',\n",
       " 'CSE1L',\n",
       " 'DDX27',\n",
       " 'DOCK5',\n",
       " 'EIF2AK2',\n",
       " 'EPS8',\n",
       " 'FBXO4',\n",
       " 'GRB7',\n",
       " 'HELZ2',\n",
       " 'HERC5',\n",
       " 'IDNK',\n",
       " 'IFIT1',\n",
       " 'IRF2BPL',\n",
       " 'ISG15',\n",
       " 'KIF13B',\n",
       " 'KLHDC7A',\n",
       " 'KLRG2',\n",
       " 'KRI1',\n",
       " 'LSG1',\n",
       " 'LSM14B',\n",
       " 'MRGBP',\n",
       " 'MTHFD2',\n",
       " 'MX1',\n",
       " 'MX2',\n",
       " 'MYO5C',\n",
       " 'NGDN',\n",
       " 'NOL10',\n",
       " 'NPDC1',\n",
       " 'NUP153',\n",
       " 'OGFR',\n",
       " 'PRKCI',\n",
       " 'PRPF6',\n",
       " 'PTPN3',\n",
       " 'RAE1',\n",
       " 'RIOK1',\n",
       " 'SENP2',\n",
       " 'SIAE',\n",
       " 'SLC4A1AP',\n",
       " 'SNX7',\n",
       " 'SP110',\n",
       " 'STAT1',\n",
       " 'STAT2',\n",
       " 'TESC',\n",
       " 'TOPBP1',\n",
       " 'TPD52L2',\n",
       " 'UBE2C',\n",
       " 'USP39',\n",
       " 'XPO5',\n",
       " 'YTHDF1',\n",
       " 'ZGPAT']"
      ]
     },
     "execution_count": 18,
     "metadata": {},
     "output_type": "execute_result"
    }
   ],
   "source": [
    "shared_identical_direction"
   ]
  },
  {
   "cell_type": "code",
   "execution_count": null,
   "metadata": {},
   "outputs": [],
   "source": []
  }
 ],
 "metadata": {
  "kernelspec": {
   "display_name": "Python 3",
   "language": "python",
   "name": "python3"
  },
  "language_info": {
   "codemirror_mode": {
    "name": "ipython",
    "version": 3
   },
   "file_extension": ".py",
   "mimetype": "text/x-python",
   "name": "python",
   "nbconvert_exporter": "python",
   "pygments_lexer": "ipython3",
   "version": "3.7.1"
  }
 },
 "nbformat": 4,
 "nbformat_minor": 2
}
