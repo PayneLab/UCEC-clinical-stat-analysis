{
 "cells": [
  {
   "cell_type": "markdown",
   "metadata": {},
   "source": [
    "# TP53 Methods - Sweep of All Proteins\n",
    "After completing our first analysis, we decided to examine all of the proteins in our dataset to search for any potential changes in reponse to TP53 mutation. We were specifically looking for any changes only seen in the presence of a hotspot mutation"
   ]
  },
  {
   "cell_type": "markdown",
   "metadata": {},
   "source": [
    "### Standard imports, including CPTAC package"
   ]
  },
  {
   "cell_type": "code",
   "execution_count": 1,
   "metadata": {},
   "outputs": [
    {
     "name": "stdout",
     "output_type": "stream",
     "text": [
      "Welcome to the CPTAC data service package. This import contains\n",
      "information about the package. In order to access a specific data set,\n",
      "import a CPTAC subfolder by either 'import CPTAC.DataName' or 'from\n",
      "CPTAC import DataName'.\n",
      "Loading Endometrial CPTAC data:\n",
      "Loading Dictionary...\n",
      "Loading Clinical Data...\n",
      "Loading Acetylation Proteomics Data...\n",
      "Loading Proteomics Data...\n",
      "Loading Transcriptomics Data...\n",
      "Loading CNA Data...\n",
      "Loading Phosphoproteomics Data...\n",
      "Loading Somatic Mutation Data...\n",
      "\n",
      " ******PLEASE READ******\n",
      "WARNING: This data is under a publication embargo until July 1, 2019.\n",
      "CPTAC is a community resource project and data are made available\n",
      "rapidly after generation for community research use. The embargo\n",
      "allows exploring and utilizing the data, but the data may not be in a\n",
      "publication until July 1, 2019. Please see\n",
      "https://proteomics.cancer.gov/data-portal/about/data-use-agreement or\n",
      "enter embargo() to open the webpage for more details.\n"
     ]
    }
   ],
   "source": [
    "import pandas as pd\n",
    "import numpy as np\n",
    "import re\n",
    "import scipy.stats\n",
    "import statsmodels.stats.multitest\n",
    "import matplotlib.pyplot as plt\n",
    "import seaborn as sns\n",
    "import CPTAC.Endometrial as CPTAC"
   ]
  },
  {
   "cell_type": "markdown",
   "metadata": {},
   "source": [
    "### Set up initial dataframes and variables"
   ]
  },
  {
   "cell_type": "code",
   "execution_count": 2,
   "metadata": {},
   "outputs": [
    {
     "data": {
      "text/plain": [
       "586      S001\n",
       "1249     S006\n",
       "1335     S008\n",
       "3962     S016\n",
       "4609     S020\n",
       "44776    S071\n",
       "44808    S072\n",
       "46588    S082\n",
       "49326    S096\n",
       "49407    S097\n",
       "Name: Clinical_Patient_Key, dtype: object"
      ]
     },
     "execution_count": 2,
     "metadata": {},
     "output_type": "execute_result"
    }
   ],
   "source": [
    "gene='TP53'\n",
    "somatic = CPTAC.get_somatic()\n",
    "proteomics = CPTAC.get_proteomics()\n",
    "phos = CPTAC.get_phosphoproteomics()\n",
    "transcriptomics = CPTAC.get_transcriptomics()\n",
    "\n",
    "# A list of mutations present in the hotspot according to our Hotspot3D output\n",
    "hotspot_mutations = ['p.P250L', 'p.R248W', 'p.S241C', 'p.241del','p.K164E', 'p.R249S', 'p.R273H', 'p.R282W',\n",
    "                    'p.S127Y', 'p.G244D', 'p.A159P']\n",
    "mutated_hotspot = somatic.loc[(somatic['Location'].isin(hotspot_mutations)) & (somatic['Gene'] == gene)]\n",
    "\n",
    "# Get a list of patient identifiers for those who have mutations in the hotspot\n",
    "hotspot_patients_both_keys = mutated_hotspot[['Clinical_Patient_Key', 'Patient_Id']]\n",
    "hotspot_patients = hotspot_patients_both_keys['Clinical_Patient_Key']\n",
    "hotspot_patients"
   ]
  },
  {
   "cell_type": "markdown",
   "metadata": {},
   "source": [
    "### Find number of patients with TP53 mutations in/outside of hotspot"
   ]
  },
  {
   "cell_type": "code",
   "execution_count": 3,
   "metadata": {},
   "outputs": [
    {
     "name": "stdout",
     "output_type": "stream",
     "text": [
      "Mutations inside hotspot: 10\n",
      "Total number of patients with mutations: 20\n"
     ]
    }
   ],
   "source": [
    "print(\"Mutations inside hotspot: \" + str(len(hotspot_patients)))\n",
    "p53_mutated = somatic.loc[somatic['Gene'] == 'TP53']\n",
    "\n",
    "# This naturally includes a value that is 'NA' so we subtract 1\n",
    "# Some people have more than one mutation so we need to grab the unique values\n",
    "num_mutated = len(set(p53_mutated['Clinical_Patient_Key'])) - 1\n",
    "print(\"Total number of patients with mutations: \" + str(num_mutated))"
   ]
  },
  {
   "cell_type": "markdown",
   "metadata": {},
   "source": [
    "### Adjust significance cutoff using a Bonferroni correction"
   ]
  },
  {
   "cell_type": "code",
   "execution_count": 7,
   "metadata": {},
   "outputs": [],
   "source": [
    "pcutoff = 0.05 / len(proteomics.columns)"
   ]
  },
  {
   "cell_type": "markdown",
   "metadata": {},
   "source": [
    "## TP53 trans effects on all proteins (proteomic analysis)"
   ]
  },
  {
   "cell_type": "markdown",
   "metadata": {},
   "source": [
    "### All mutations vs. cancer wildtype"
   ]
  },
  {
   "cell_type": "code",
   "execution_count": 5,
   "metadata": {},
   "outputs": [
    {
     "name": "stdout",
     "output_type": "stream",
     "text": [
      "Proteins with significant changes in abundance in the presence of any TP53 mutation (n=156):\n",
      "\n"
     ]
    },
    {
     "data": {
      "text/plain": [
       "{'ABCF1': 1.8573708117589963e-06,\n",
       " 'ABT1': 3.5171344108306085e-07,\n",
       " 'AES': 1.9308430600012436e-06,\n",
       " 'AKAP8L': 1.7456475608179158e-07,\n",
       " 'ALG2': 2.086007970746945e-06,\n",
       " 'ARFIP1': 1.1303242578934345e-06,\n",
       " 'ARFIP2': 2.2772610708851248e-07,\n",
       " 'ATAD2': 2.338445497230547e-07,\n",
       " 'BIN3': 3.525984347712312e-06,\n",
       " 'BIRC2': 6.889908460513658e-07,\n",
       " 'BUB1B': 4.35664743913152e-06,\n",
       " 'CA8': 1.1012913869348436e-06,\n",
       " 'CAD': 1.7144110807622495e-07,\n",
       " 'CBS': 3.801977363948052e-06,\n",
       " 'CDK11B': 3.0141939988774142e-06,\n",
       " 'CDKAL1': 5.27591042218303e-08,\n",
       " 'CDYL': 2.3640407246542403e-06,\n",
       " 'CEBPZ': 1.998449270891365e-07,\n",
       " 'CHD4': 2.1872952483557406e-06,\n",
       " 'CIP2A': 2.7089648165185354e-07,\n",
       " 'CMPK2': 1.7839469548217545e-07,\n",
       " 'CMSS1': 1.17276877752347e-07,\n",
       " 'CMTR1': 7.804011750212554e-09,\n",
       " 'COPS4': 4.3083335987084236e-07,\n",
       " 'CRADD': 1.8603349367743644e-06,\n",
       " 'CSE1L': 5.340696064900112e-07,\n",
       " 'DDX18': 1.7393399324586305e-06,\n",
       " 'DDX27': 1.5049556166838086e-07,\n",
       " 'DDX39A': 3.34548743850025e-06,\n",
       " 'DDX52': 1.5770610642258496e-07,\n",
       " 'DLG5': 2.89726280316232e-06,\n",
       " 'DLGAP5': 2.809065771320781e-09,\n",
       " 'DOCK5': 1.01018537973346e-06,\n",
       " 'ECT2': 1.5326172863989676e-08,\n",
       " 'EIF2AK2': 7.099506564409178e-09,\n",
       " 'EIF4G1': 1.5033887483170708e-07,\n",
       " 'EPS8': 8.778399079274944e-07,\n",
       " 'ESF1': 4.0796926422590754e-08,\n",
       " 'FBXO22': 1.4659773762173746e-07,\n",
       " 'FBXO4': 2.2561906867347887e-07,\n",
       " 'FMN1': 9.310086874303111e-07,\n",
       " 'FXR1': 7.223066951458714e-09,\n",
       " 'GEMIN2': 1.3024772968320983e-07,\n",
       " 'GFM1': 5.4540339002722784e-08,\n",
       " 'GMPR2': 4.007489482939105e-07,\n",
       " 'GMPS': 4.042255556519039e-07,\n",
       " 'GRB7': 6.857152954715864e-08,\n",
       " 'HEATR1': 3.277687776011473e-08,\n",
       " 'HELZ2': 2.9882268242172774e-10,\n",
       " 'HERC5': 4.907741588508845e-07,\n",
       " 'HMCES': 3.9894301477673564e-07,\n",
       " 'IDNK': 1.9611527798623324e-06,\n",
       " 'IFIT1': 8.052976930733168e-07,\n",
       " 'IFIT2': 6.908867495055574e-08,\n",
       " 'IRF2BPL': 9.309702124118847e-07,\n",
       " 'ISG15': 5.3716606617126954e-08,\n",
       " 'KDM2A': 3.5655345832071637e-06,\n",
       " 'KIF13B': 4.539288734695253e-08,\n",
       " 'KIF2C': 1.102880216277521e-06,\n",
       " 'KIFC1': 1.7767193730653814e-06,\n",
       " 'KLHDC7A': 1.71098935966862e-06,\n",
       " 'KLRG2': 2.6931727917015525e-06,\n",
       " 'KRI1': 3.6962279220292617e-06,\n",
       " 'LSG1': 1.4876403009577816e-09,\n",
       " 'LSM14B': 5.05427048001975e-07,\n",
       " 'MDC1': 3.158441766716051e-06,\n",
       " 'MRGBP': 2.18910091272355e-06,\n",
       " 'MTHFD2': 1.8552071001583996e-11,\n",
       " 'MTUS1': 1.2230451619410807e-06,\n",
       " 'MX1': 8.156695256883931e-08,\n",
       " 'MX2': 1.0917740240053945e-08,\n",
       " 'MYO5C': 5.634392945869471e-07,\n",
       " 'NAA25': 2.542708938588831e-06,\n",
       " 'NCL': 2.4990702190754994e-06,\n",
       " 'NGDN': 7.361891688124524e-08,\n",
       " 'NOL10': 4.783266646474914e-09,\n",
       " 'NOL11': 1.903072990748773e-07,\n",
       " 'NOL7': 2.118261704523916e-06,\n",
       " 'NOM1': 3.6398125537415722e-06,\n",
       " 'NPDC1': 1.3922295758694244e-08,\n",
       " 'NUP153': 4.91063080195832e-08,\n",
       " 'OAS3': 1.7018309667501655e-06,\n",
       " 'OGFR': 3.171682911256702e-07,\n",
       " 'PA2G4': 2.6670826743697137e-06,\n",
       " 'PAK2': 1.0577161278999524e-06,\n",
       " 'PAXX': 1.1503088559821335e-06,\n",
       " 'PBLD': 2.096780876682355e-06,\n",
       " 'PDCD11': 1.112040887732526e-06,\n",
       " 'PICK1': 1.6434470536834606e-06,\n",
       " 'PLCE1': 3.7131380336425133e-06,\n",
       " 'PRKCI': 3.514007345481275e-07,\n",
       " 'PRPF6': 2.995973467109573e-07,\n",
       " 'PRRC2A': 5.203536661040163e-09,\n",
       " 'PSMD5': 1.674005232562603e-06,\n",
       " 'PTAR1': 8.90885675617384e-07,\n",
       " 'PTPN2': 2.422322360825875e-08,\n",
       " 'PTPN3': 3.8973154599556824e-08,\n",
       " 'PUF60': 3.2894476993458454e-06,\n",
       " 'RAB5IF': 6.805579008622163e-07,\n",
       " 'RABL6': 3.2710300421951076e-07,\n",
       " 'RAE1': 4.45283383843418e-06,\n",
       " 'RBBP6': 1.2139026736358155e-06,\n",
       " 'RCC2': 1.925738740223491e-06,\n",
       " 'RIF1': 1.4319224628587161e-08,\n",
       " 'RIOK1': 1.6416816544398948e-07,\n",
       " 'RRP1B': 3.923363191010541e-08,\n",
       " 'RRP36': 1.6786473573310855e-06,\n",
       " 'SCRN3': 1.4501531335739286e-06,\n",
       " 'SDF2': 1.6804259409665278e-06,\n",
       " 'SEC16A': 3.330108681429522e-06,\n",
       " 'SENP2': 1.2336880854096687e-07,\n",
       " 'SEPSECS': 4.495479683682811e-06,\n",
       " 'SGSM3': 6.231803327836726e-08,\n",
       " 'SIAE': 1.8051590593797684e-07,\n",
       " 'SLC4A1AP': 1.3295103526018553e-10,\n",
       " 'SMG1': 2.9415122777090467e-06,\n",
       " 'SMPD1': 9.768685489006162e-07,\n",
       " 'SNX7': 2.3698729660576328e-08,\n",
       " 'SP110': 2.8498404100275504e-08,\n",
       " 'STAT1': 3.630314964312329e-09,\n",
       " 'STAT2': 3.069204382723201e-10,\n",
       " 'TAF2': 1.3072210969309636e-06,\n",
       " 'TESC': 1.694306392454135e-06,\n",
       " 'TOLLIP': 1.0110032275063797e-06,\n",
       " 'TOP1': 4.0749160606685885e-06,\n",
       " 'TOP2A': 1.5974639975399186e-07,\n",
       " 'TOPBP1': 2.6638157116011034e-06,\n",
       " 'TPD52L2': 4.486438166226494e-07,\n",
       " 'TPX2': 2.6287830706816796e-08,\n",
       " 'TRAF3IP2': 2.3083003525021614e-06,\n",
       " 'TRIM2': 2.0332878701619916e-06,\n",
       " 'TRIP13': 5.762044356405217e-07,\n",
       " 'TRMT10C': 3.7922424990188312e-06,\n",
       " 'TRMT6': 5.171681961741095e-10,\n",
       " 'TTC4': 3.958261729801889e-06,\n",
       " 'UBE2C': 2.6796702261677482e-06,\n",
       " 'UBR5': 3.766308838290188e-06,\n",
       " 'USP39': 1.8741613203585324e-08,\n",
       " 'USP47': 2.8414176523000984e-06,\n",
       " 'UTP3': 2.5881910210542097e-06,\n",
       " 'UTP4': 1.5760532299497582e-07,\n",
       " 'VPS13C': 3.985064451481763e-06,\n",
       " 'VPS25': 4.111255466978757e-07,\n",
       " 'VPS36': 4.116046996318285e-06,\n",
       " 'VRK1': 9.505584531443314e-07,\n",
       " 'WDR43': 7.17955818953501e-07,\n",
       " 'WDR75': 5.469984132724373e-09,\n",
       " 'XPO1': 1.7230826826453043e-07,\n",
       " 'XPO5': 5.986621767215428e-10,\n",
       " 'XRN1': 4.457237349556978e-06,\n",
       " 'YTHDF1': 1.9723795701051545e-07,\n",
       " 'ZC3H8': 3.2546688847007242e-06,\n",
       " 'ZCCHC17': 3.128242910872307e-07,\n",
       " 'ZGPAT': 1.138595863283656e-07,\n",
       " 'ZNF217': 3.2468333145143437e-06,\n",
       " 'ZNF622': 2.27444535940644e-07}"
      ]
     },
     "execution_count": 5,
     "metadata": {},
     "output_type": "execute_result"
    }
   ],
   "source": [
    "significant_all_mut_wt = {}\n",
    "\n",
    "# Go through every protein in our proteomics dataframe\n",
    "for protein in proteomics.columns:\n",
    "    if (protein != 'idx') and (protein != gene):\n",
    "        # Create dataframe with mutation status of TP53 with proteomics of the given protein\n",
    "        p53_mutations_protein = CPTAC.compare_mutations(proteomics, protein, gene)\n",
    "        # Create a column showing the location of TP53 mutation\n",
    "        p53_mutations_protein['Within_Hotspot'] = False\n",
    "        p53_mutations_protein.loc[hotspot_patients, 'Within_Hotspot'] = True\n",
    "        p53_mutations_protein.loc[p53_mutations_protein['Mutation'] == 'Wildtype', 'Within_Hotspot'] = 'Wildtype'\n",
    "        p53_mutations_protein = p53_mutations_protein.loc[p53_mutations_protein['Sample_Status'] == 'Tumor'].dropna(axis=0)\n",
    "        # Perform the ttest if there is enough data for that protein\n",
    "        mutated_tp53 = p53_mutations_protein.loc[p53_mutations_protein['Within_Hotspot'] != 'Wildtype']\n",
    "        wt_tp53 = p53_mutations_protein.loc[p53_mutations_protein['Within_Hotspot'] == 'Wildtype']\n",
    "        if len(mutated_tp53) < 2: continue\n",
    "        ttest = scipy.stats.ttest_ind(mutated_tp53[protein], wt_tp53[protein])\n",
    "        # Print significant values\n",
    "        if ttest[1] <= pcutoff:\n",
    "            significant_all_mut_wt[protein] = ttest[1]\n",
    "\n",
    "print('Proteins with significant changes in abundance in the presence of any TP53 mutation (n=' + str(len(significant_all_mut_wt)) + '):\\n')\n",
    "significant_all_mut_wt"
   ]
  },
  {
   "cell_type": "markdown",
   "metadata": {},
   "source": [
    "### Mutations outside of the hotspot vs. cancer wildtype"
   ]
  },
  {
   "cell_type": "code",
   "execution_count": 6,
   "metadata": {
    "scrolled": true
   },
   "outputs": [
    {
     "name": "stdout",
     "output_type": "stream",
     "text": [
      "Proteins with significant changes in abundance in the presence of non-hotspot TP53 mutation (n=24):\n",
      "\n"
     ]
    },
    {
     "data": {
      "text/plain": [
       "{'BIRC2': 1.2402959880961902e-06,\n",
       " 'CDKAL1': 2.480522955876094e-06,\n",
       " 'COPS4': 1.6070306189634628e-06,\n",
       " 'FASTKD5': 3.051850789236811e-06,\n",
       " 'FXR1': 6.365321163144797e-07,\n",
       " 'GEMIN2': 2.6733952055675324e-07,\n",
       " 'GFM1': 7.11723234049833e-08,\n",
       " 'GRB7': 1.5138105844806957e-06,\n",
       " 'GXYLT1': 1.3367915036257628e-06,\n",
       " 'HELZ2': 1.4234807751041673e-06,\n",
       " 'KIF13B': 4.269243865919999e-06,\n",
       " 'LSG1': 1.2318765765178466e-08,\n",
       " 'MTHFD2': 1.4923211059935762e-09,\n",
       " 'NGDN': 9.440553256413802e-07,\n",
       " 'NOL10': 1.643659634370204e-07,\n",
       " 'PRRC2A': 9.6446446278229e-07,\n",
       " 'RBBP6': 1.962769989362497e-06,\n",
       " 'SLC4A1AP': 2.2933787398940865e-08,\n",
       " 'SNX7': 1.4250438824613118e-06,\n",
       " 'STAT2': 4.2656321342186506e-07,\n",
       " 'TRMT6': 7.328948976150925e-09,\n",
       " 'VAV2': 2.598176758372159e-06,\n",
       " 'VPS13C': 3.6724397751076377e-06,\n",
       " 'WDR75': 3.389327690594331e-06}"
      ]
     },
     "execution_count": 6,
     "metadata": {},
     "output_type": "execute_result"
    }
   ],
   "source": [
    "significant_nonhspt_wt = {}\n",
    "\n",
    "# Go through every protein in our proteomics dataframe\n",
    "for protein in proteomics.columns:\n",
    "    if (protein != 'idx') and (protein != gene):\n",
    "        # Create dataframe with mutation status of TP53 with proteomics of the given protein\n",
    "        p53_mutations_protein = CPTAC.compare_mutations(proteomics, protein, gene)\n",
    "        # Create a column showing the location of TP53 mutation\n",
    "        p53_mutations_protein['Within_Hotspot'] = False\n",
    "        p53_mutations_protein.loc[hotspot_patients, 'Within_Hotspot'] = True\n",
    "        p53_mutations_protein.loc[p53_mutations_protein['Mutation'] == 'Wildtype', 'Within_Hotspot'] = 'Wildtype'\n",
    "        p53_mutations_protein = p53_mutations_protein.loc[p53_mutations_protein['Sample_Status'] == 'Tumor'].dropna(axis=0)\n",
    "        # Perform the ttest if there is enough data for that protein\n",
    "        mutated = p53_mutations_protein.loc[p53_mutations_protein['Within_Hotspot'] == False]\n",
    "        wt = p53_mutations_protein.loc[p53_mutations_protein['Within_Hotspot'] == 'Wildtype']\n",
    "        if len(mutated) < 2: continue\n",
    "        ttest = scipy.stats.ttest_ind(mutated[protein], wt[protein])\n",
    "        # Print significant values\n",
    "        if ttest[1] <= pcutoff:\n",
    "            significant_nonhspt_wt[protein] = ttest[1]\n",
    "\n",
    "print('Proteins with significant changes in abundance in the presence of non-hotspot TP53 mutation (n=' + str(len(significant_nonhspt_wt)) + '):\\n')\n",
    "significant_nonhspt_wt"
   ]
  },
  {
   "cell_type": "markdown",
   "metadata": {},
   "source": [
    "### Hotspot mutations vs. cancer wildtype"
   ]
  },
  {
   "cell_type": "code",
   "execution_count": 9,
   "metadata": {},
   "outputs": [
    {
     "name": "stdout",
     "output_type": "stream",
     "text": [
      "Proteins with significant changes in abundance in the presence of hotspot TP53 mutation (n=60):\n",
      "\n"
     ]
    },
    {
     "data": {
      "text/plain": [
       "{'ABT1': 4.498876981304671e-06,\n",
       " 'AP1M2': 5.011231785069603e-07,\n",
       " 'ARFIP2': 2.196231970915747e-06,\n",
       " 'AURKA': 4.2195577094842487e-07,\n",
       " 'CAD': 1.4242503917291054e-06,\n",
       " 'CIP2A': 7.239547761803293e-07,\n",
       " 'CMSS1': 5.902758007471886e-07,\n",
       " 'CMTR1': 2.1603329082705716e-07,\n",
       " 'DLGAP5': 6.064299470006698e-07,\n",
       " 'ECT2': 1.4524321852251911e-06,\n",
       " 'EIF2AK2': 7.118078104567006e-07,\n",
       " 'ESF1': 7.0582229056475e-07,\n",
       " 'FBXO22': 1.2275554464968474e-06,\n",
       " 'FBXO3': 7.160403471268148e-07,\n",
       " 'GALNT10': 3.649528055701452e-07,\n",
       " 'GPATCH1': 2.9550258735939215e-06,\n",
       " 'GRB7': 3.711077385074916e-07,\n",
       " 'HELZ2': 9.558281697696534e-08,\n",
       " 'HMCES': 4.097007649531414e-06,\n",
       " 'IFIT2': 6.76726351339549e-08,\n",
       " 'LSG1': 2.728601564153055e-06,\n",
       " 'LSM14B': 1.194365662923036e-06,\n",
       " 'MTHFD2': 1.2183806361662418e-07,\n",
       " 'NOL11': 2.093154897039904e-06,\n",
       " 'NOL7': 1.6321023721838165e-06,\n",
       " 'NUP153': 1.4698948187815943e-06,\n",
       " 'OGFR': 2.343094726139717e-08,\n",
       " 'OSBPL2': 7.471833660580279e-07,\n",
       " 'PAK2': 3.219519951291807e-06,\n",
       " 'PKN1': 6.872245120120061e-08,\n",
       " 'PRRC2A': 2.0944477796305466e-06,\n",
       " 'PSMD5': 1.497623657892203e-06,\n",
       " 'PTPN2': 7.265819284243183e-07,\n",
       " 'PTPN3': 2.518013970308023e-06,\n",
       " 'RAD54L2': 3.758814294335283e-06,\n",
       " 'RAE1': 2.601252825647879e-06,\n",
       " 'RCC2': 2.9794018787083203e-06,\n",
       " 'RIF1': 1.3001603322483697e-06,\n",
       " 'RRP1B': 1.9197549232475178e-07,\n",
       " 'RTF2': 4.205367797672624e-06,\n",
       " 'SENP2': 2.2660727269252735e-07,\n",
       " 'SLC4A1AP': 1.5110993893372637e-07,\n",
       " 'SMG1': 1.1250644092786658e-06,\n",
       " 'SNX7': 3.6151633321261597e-06,\n",
       " 'SP110': 4.514655188122681e-06,\n",
       " 'STAT1': 1.876726651278991e-07,\n",
       " 'STAT2': 1.1033150829810178e-06,\n",
       " 'SUPT6H': 8.370001394556031e-07,\n",
       " 'TOPBP1': 6.206490008407392e-07,\n",
       " 'TPD52L2': 7.007900438804686e-07,\n",
       " 'TPX2': 4.2228198176767616e-07,\n",
       " 'TRIM2': 1.9880554338837705e-06,\n",
       " 'TRMT6': 2.5128613387406543e-06,\n",
       " 'USP39': 3.7154342917899527e-06,\n",
       " 'UTP4': 4.508595365053922e-06,\n",
       " 'VPS25': 3.4759141938989863e-06,\n",
       " 'XPO5': 5.283443782902216e-08,\n",
       " 'YTHDF1': 2.596816200352764e-07,\n",
       " 'ZCCHC17': 5.620672698815027e-07,\n",
       " 'ZGPAT': 3.179201845270969e-07}"
      ]
     },
     "execution_count": 9,
     "metadata": {},
     "output_type": "execute_result"
    }
   ],
   "source": [
    "significant_htspt_wt = {}\n",
    "\n",
    "# Go through every protein in our proteomics dataframe\n",
    "for protein in proteomics.columns:\n",
    "    if (protein != 'idx') and (protein != gene):\n",
    "        # Create dataframe with mutation status of TP53 with proteomics of the given protein\n",
    "        p53_mutations_protein = CPTAC.compare_mutations(proteomics, protein, gene)\n",
    "        # Create a column showing the location of TP53 mutation\n",
    "        p53_mutations_protein['Within_Hotspot'] = False\n",
    "        p53_mutations_protein.loc[hotspot_patients, 'Within_Hotspot'] = True\n",
    "        p53_mutations_protein.loc[p53_mutations_protein['Mutation'] == 'Wildtype', 'Within_Hotspot'] = 'Wildtype'\n",
    "        p53_mutations_protein = p53_mutations_protein.loc[p53_mutations_protein['Sample_Status'] == 'Tumor'].dropna(axis=0)\n",
    "        # Perform the ttest\n",
    "        mutated_tp53 = p53_mutations_protein.loc[p53_mutations_protein['Within_Hotspot'] == True]\n",
    "        wt_tp53 = p53_mutations_protein.loc[p53_mutations_protein['Within_Hotspot'] == 'Wildtype']\n",
    "        if len(mutated_tp53) < 2: continue\n",
    "        ttest = scipy.stats.ttest_ind(mutated_tp53[protein], wt_tp53[protein])\n",
    "        # Print significant values\n",
    "        if ttest[1] <= pcutoff:\n",
    "            significant_htspt_wt[protein] = ttest[1]\n",
    "            \n",
    "print('Proteins with significant changes in abundance in the presence of hotspot TP53 mutation (n=' + str(len(significant_htspt_wt)) + '):\\n')\n",
    "significant_htspt_wt"
   ]
  },
  {
   "cell_type": "markdown",
   "metadata": {},
   "source": [
    "## Identify the proteins for which hotspot mutations make a difference but other mutations do not"
   ]
  },
  {
   "cell_type": "code",
   "execution_count": 17,
   "metadata": {},
   "outputs": [
    {
     "data": {
      "text/plain": [
       "{'AURKA': 0.01139622898036456,\n",
       " 'FBXO3': 0.03515010600346557,\n",
       " 'GALNT10': 0.02293080022619303,\n",
       " 'OSBPL2': 0.034208575287998484,\n",
       " 'PKN1': 0.012275023846947085}"
      ]
     },
     "execution_count": 17,
     "metadata": {},
     "output_type": "execute_result"
    }
   ],
   "source": [
    "# Find proteins that are in the significant_htspt list but NOT in the significant_nonhotspot list\n",
    "only_htspt = {k:v for k,v in significant_htspt_wt.items() if k not in significant_nonhspt_wt and k not in significant_all_mut_wt}\n",
    "\n",
    "# Of these proteins, test for ones where there is a significant difference betwenn hotspot and non-hotspot mutations\n",
    "hotspot_difference = {}\n",
    "hotspot_cutoff = 0.05 \n",
    "for protein, pval in only_htspt.items():\n",
    "    # Create dataframe with mutation status of TP53 with proteomics of the given protein\n",
    "    p53_mutations_protein = CPTAC.compare_mutations(proteomics, protein, gene)\n",
    "    # Create a column showing the location of TP53 mutation\n",
    "    p53_mutations_protein['Within_Hotspot'] = False\n",
    "    p53_mutations_protein.loc[hotspot_patients, 'Within_Hotspot'] = True\n",
    "    p53_mutations_protein.loc[p53_mutations_protein['Mutation'] == 'Wildtype', 'Within_Hotspot'] = 'Wildtype'\n",
    "    p53_mutations_protein = p53_mutations_protein.loc[p53_mutations_protein['Sample_Status'] == 'Tumor'].dropna(axis=0)\n",
    "    # Perform the ttest\n",
    "    hotspot_tp53 = p53_mutations_protein.loc[p53_mutations_protein['Within_Hotspot'] == True]\n",
    "    other_mut_tp53 = p53_mutations_protein.loc[p53_mutations_protein['Within_Hotspot'] == False]\n",
    "    if len(hotspot_tp53) < 2 or len(other_mut_tp53) < 2: continue\n",
    "    ttest = scipy.stats.ttest_ind(hotspot_tp53[protein], other_mut_tp53[protein])\n",
    "    # Print significant values\n",
    "    if ttest[1] <= hotspot_cutoff:\n",
    "        hotspot_difference[protein] = ttest[1]\n",
    "\n",
    "hotspot_difference"
   ]
  },
  {
   "cell_type": "markdown",
   "metadata": {},
   "source": [
    "## Plot these proteins"
   ]
  },
  {
   "cell_type": "code",
   "execution_count": 18,
   "metadata": {},
   "outputs": [
    {
     "data": {
      "image/png": "[encoded data removed]",
      "text/plain": [
       "<Figure size 1684.8x1190.88 with 1 Axes>"
      ]
     },
     "metadata": {
      "needs_background": "light"
     },
     "output_type": "display_data"
    }
   ],
   "source": [
    "proteins_to_plot = []\n",
    "for k, v in hotspot_difference.items():\n",
    "    proteins_to_plot.append(k)\n",
    "\n",
    "plotdf = CPTAC.compare_mutations(proteomics, gene)\n",
    "plotdf = plotdf.loc[plotdf['Sample_Status'] == 'Tumor'][[gene, 'Mutation']]\n",
    "for protein in proteins_to_plot:\n",
    "    proteindf = CPTAC.compare_mutations(proteomics, protein, gene)[[protein]]\n",
    "    plotdf = plotdf.join(proteindf)\n",
    "\n",
    "plotdf['Within_Hotspot'] = 'Outside Hotspot'\n",
    "plotdf.loc[hotspot_patients, 'Within_Hotspot'] = 'Within Hotspot'\n",
    "plotdf.loc[plotdf['Mutation'] == 'Wildtype', 'Within_Hotspot'] = 'Wildtype'\n",
    "plotdf = pd.melt(plotdf, id_vars = ['Mutation', 'Within_Hotspot'], var_name = 'Protein', value_name = 'Proteomics')\n",
    "plotdf = plotdf.dropna(axis = 0)\n",
    "\n",
    "a4_dims = (23.4, 16.54)\n",
    "fig, ax = plt.subplots(figsize=a4_dims)\n",
    "\n",
    "#Create the plot\n",
    "boxplt = sns.boxplot(x='Protein', y='Proteomics', hue='Within_Hotspot', hue_order = ['Wildtype', 'Within Hotspot', 'Outside Hotspot'], data=plotdf)\n",
    "boxplt = sns.stripplot(data=plotdf, x='Protein', y='Proteomics', hue='Within_Hotspot', hue_order = ['Wildtype', 'Within Hotspot', 'Outside Hotspot'], dodge=True, jitter=True, color='.3')\n",
    "\n",
    "#Add styling\n",
    "boxplt.set_xlabel('')\n",
    "boxplt.set_ylabel('Protein Expression', fontsize='40')\n",
    "boxplt.tick_params(labelsize='20')\n",
    "\n",
    "#Adjust legend\n",
    "handles, labels = ax.get_legend_handles_labels()\n",
    "plt.legend(handles[0:3], ['Wildtype', 'Within Hotspot', 'Outside Hotspot'], title='Mutation Within Hotspot', fontsize='20', frameon=False)\n",
    "boxplt.get_legend().get_title().set_fontsize('20')\n",
    "boxplt.get_legend().set_bbox_to_anchor((1, 1, 0, 0))\n",
    "\n",
    "fig = boxplt.get_figure()\n",
    "fig.savefig('hotspot_proteins.png', dpi=600)\n",
    "plt.show()"
   ]
  },
  {
   "cell_type": "code",
   "execution_count": null,
   "metadata": {},
   "outputs": [],
   "source": []
  }
 ],
 "metadata": {
  "kernelspec": {
   "display_name": "Python 3",
   "language": "python",
   "name": "python3"
  },
  "language_info": {
   "codemirror_mode": {
    "name": "ipython",
    "version": 3
   },
   "file_extension": ".py",
   "mimetype": "text/x-python",
   "name": "python",
   "nbconvert_exporter": "python",
   "pygments_lexer": "ipython3",
   "version": "3.7.0"
  }
 },
 "nbformat": 4,
 "nbformat_minor": 2
}
