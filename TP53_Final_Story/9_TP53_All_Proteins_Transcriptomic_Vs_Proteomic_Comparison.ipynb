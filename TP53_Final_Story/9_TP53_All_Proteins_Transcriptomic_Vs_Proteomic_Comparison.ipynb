{
 "cells": [
  {
   "cell_type": "code",
   "execution_count": 1,
   "metadata": {},
   "outputs": [
    {
     "name": "stdout",
     "output_type": "stream",
     "text": [
      "Welcome to the CPTAC data service package. This import contains\n",
      "information about the package. In order to access a specific data set,\n",
      "import a CPTAC subfolder by either 'import CPTAC.DataName' or 'from\n",
      "CPTAC import DataName'.\n",
      "Loading Endometrial CPTAC data:\n",
      "Loading Dictionary...\n",
      "Loading Clinical Data...\n",
      "Loading Acetylation Proteomics Data...\n",
      "Loading Proteomics Data...\n",
      "Loading Transcriptomics Data...\n",
      "Loading CNA Data...\n",
      "Loading Phosphoproteomics Data...\n",
      "Loading Somatic Mutation Data...\n",
      "\n",
      " ******PLEASE READ******\n",
      "WARNING: This data is under a publication embargo until July 1, 2019.\n",
      "CPTAC is a community resource project and data are made available\n",
      "rapidly after generation for community research use. The embargo\n",
      "allows exploring and utilizing the data, but the data may not be in a\n",
      "publication until July 1, 2019. Please see\n",
      "https://proteomics.cancer.gov/data-portal/about/data-use-agreement or\n",
      "enter embargo() to open the webpage for more details.\n"
     ]
    }
   ],
   "source": [
    "import pandas as pd\n",
    "import numpy as np\n",
    "import re\n",
    "import scipy.stats\n",
    "import statsmodels.stats.multitest\n",
    "import matplotlib.pyplot as plt\n",
    "import seaborn as sns\n",
    "import CPTAC.Endometrial as CPTAC"
   ]
  },
  {
   "cell_type": "code",
   "execution_count": 3,
   "metadata": {},
   "outputs": [
    {
     "data": {
      "text/plain": [
       "586      S001\n",
       "1249     S006\n",
       "1335     S008\n",
       "3962     S016\n",
       "4609     S020\n",
       "44776    S071\n",
       "44808    S072\n",
       "46588    S082\n",
       "49326    S096\n",
       "49407    S097\n",
       "Name: Clinical_Patient_Key, dtype: object"
      ]
     },
     "execution_count": 3,
     "metadata": {},
     "output_type": "execute_result"
    }
   ],
   "source": [
    "gene='TP53'\n",
    "somatic = CPTAC.get_somatic()\n",
    "proteomics = CPTAC.get_proteomics()\n",
    "transcriptomics = CPTAC.get_transcriptomics()\n",
    "\n",
    "# A list of mutations present in the hotspot according to our Hotspot3D output\n",
    "hotspot_mutations = ['p.P250L', 'p.R248W', 'p.S241C', 'p.241del','p.K164E', 'p.R249S', 'p.R273H', 'p.R282W',\n",
    "                    'p.S127Y', 'p.G244D', 'p.A159P']\n",
    "mutated_hotspot = somatic.loc[(somatic['Location'].isin(hotspot_mutations)) & (somatic['Gene'] == gene)]\n",
    "\n",
    "# Get a list of patient identifiers for those who have mutations in the hotspot\n",
    "hotspot_patients_both_keys = mutated_hotspot[['Clinical_Patient_Key', 'Patient_Id']]\n",
    "hotspot_patients = hotspot_patients_both_keys['Clinical_Patient_Key']\n",
    "hotspot_patients"
   ]
  },
  {
   "cell_type": "markdown",
   "metadata": {},
   "source": [
    "# All TP53 Mutants vs. Wildtype TP53"
   ]
  },
  {
   "cell_type": "code",
   "execution_count": 10,
   "metadata": {},
   "outputs": [],
   "source": [
    "#bonferroni correction\n",
    "pcutoff = 0.05 / len(proteomics.columns)\n",
    "\n",
    "proteomics_all_mut_wt_tstat = {}\n",
    "\n",
    "# Go through every protein in our proteomics dataframe\n",
    "for protein in proteomics.columns:\n",
    "    if (protein != 'idx') and (protein != gene):\n",
    "        # Create dataframe with mutation status of TP53 with proteomics of the given protein\n",
    "        p53_mutations_protein = CPTAC.compare_mutations(proteomics, protein, gene)\n",
    "        # Create a column showing the location of TP53 mutation\n",
    "        p53_mutations_protein['Within_Hotspot'] = False\n",
    "        p53_mutations_protein.loc[hotspot_patients, 'Within_Hotspot'] = True\n",
    "        p53_mutations_protein.loc[p53_mutations_protein['Mutation'] == 'Wildtype', 'Within_Hotspot'] = 'Wildtype'\n",
    "        p53_mutations_protein = p53_mutations_protein.loc[p53_mutations_protein['Sample_Status'] == 'Tumor'].dropna(axis=0)\n",
    "        # Perform the ttest if there is enough data for that protein\n",
    "        mutated_tp53 = p53_mutations_protein.loc[p53_mutations_protein['Within_Hotspot'] != 'Wildtype']\n",
    "        wt_tp53 = p53_mutations_protein.loc[p53_mutations_protein['Within_Hotspot'] == 'Wildtype']\n",
    "        if len(mutated_tp53) < 2: continue\n",
    "        ttest = scipy.stats.ttest_ind(mutated_tp53[protein], wt_tp53[protein])\n",
    "        # Print significant values\n",
    "        if ttest[1] <= pcutoff:\n",
    "            proteomics_all_mut_wt_tstat[protein] = ttest[0]"
   ]
  },
  {
   "cell_type": "code",
   "execution_count": 11,
   "metadata": {},
   "outputs": [],
   "source": [
    "transcriptomics_all_mut_wt_tstat = {}\n",
    "pcutoff = 0.05 / len(transcriptomics.columns)\n",
    "\n",
    "# Go through every protein in our proteomics dataframe\n",
    "for protein in transcriptomics.columns:\n",
    "    if (protein != 'idx') and (protein != gene):\n",
    "        # Create dataframe with mutation status of TP53 with proteomics of the given protein\n",
    "        p53_mutations_protein = CPTAC.compare_mutations(transcriptomics, protein, gene)\n",
    "        # Create a column showing the location of TP53 mutation\n",
    "        p53_mutations_protein['Within_Hotspot'] = False\n",
    "        p53_mutations_protein.loc[hotspot_patients, 'Within_Hotspot'] = True\n",
    "        p53_mutations_protein.loc[p53_mutations_protein['Mutation'] == 'Wildtype', 'Within_Hotspot'] = 'Wildtype'\n",
    "        p53_mutations_protein = p53_mutations_protein.loc[p53_mutations_protein['Sample_Status'] == 'Tumor'].dropna(axis=0)\n",
    "        # Perform the ttest if there is enough data for that protein\n",
    "        mutated_tp53 = p53_mutations_protein.loc[p53_mutations_protein['Within_Hotspot'] != 'Wildtype']\n",
    "        wt_tp53 = p53_mutations_protein.loc[p53_mutations_protein['Within_Hotspot'] == 'Wildtype']\n",
    "        if len(mutated_tp53) < 2: continue\n",
    "        ttest = scipy.stats.ttest_ind(mutated_tp53[protein], wt_tp53[protein])\n",
    "        # Print significant values\n",
    "        if ttest[1] <= pcutoff:\n",
    "            transcriptomics_all_mut_wt_tstat[protein] = ttest[0]"
   ]
  },
  {
   "cell_type": "code",
   "execution_count": 13,
   "metadata": {},
   "outputs": [
    {
     "name": "stdout",
     "output_type": "stream",
     "text": [
      "There are 75 shared correlations in the same direction\n",
      "['ABCF1', 'ABT1', 'ALG2', 'ARFIP1', 'ARFIP2', 'ATAD2', 'CA8', 'CAD', 'CBS', 'CDKAL1', 'CIP2A', 'CMPK2', 'CMSS1', 'CMTR1', 'CSE1L', 'DDX27', 'DOCK5', 'EIF2AK2', 'EIF4G1', 'EPS8', 'FBXO4', 'FMN1', 'FXR1', 'GFM1', 'GMPS', 'GRB7', 'HELZ2', 'HERC5', 'IDNK', 'IFIT1', 'IFIT2', 'IRF2BPL', 'ISG15', 'KIF13B', 'KIF2C', 'KIFC1', 'KLHDC7A', 'KLRG2', 'KRI1', 'LSG1', 'LSM14B', 'MRGBP', 'MTHFD2', 'MX1', 'MX2', 'MYO5C', 'NGDN', 'NOL10', 'NPDC1', 'NUP153', 'OAS3', 'OGFR', 'PRKCI', 'PRPF6', 'PTPN3', 'RAE1', 'RIOK1', 'SENP2', 'SIAE', 'SLC4A1AP', 'SNX7', 'SP110', 'STAT1', 'STAT2', 'TESC', 'TOPBP1', 'TPD52L2', 'TPX2', 'TRIP13', 'UBE2C', 'USP39', 'VPS36', 'XPO5', 'YTHDF1', 'ZGPAT']\n",
      "There are 57 shared correlations in the opposite direction\n",
      "['ABCF1', 'ABT1', 'ATAD2', 'CAD', 'CBS', 'CDKAL1', 'CIP2A', 'CMPK2', 'CMSS1', 'CMTR1', 'CSE1L', 'DDX27', 'EIF2AK2', 'EIF4G1', 'FXR1', 'GFM1', 'GMPS', 'GRB7', 'HELZ2', 'HERC5', 'IFIT1', 'IFIT2', 'IRF2BPL', 'ISG15', 'KIF2C', 'KIFC1', 'KLRG2', 'KRI1', 'LSG1', 'LSM14B', 'MRGBP', 'MTHFD2', 'MX1', 'MX2', 'NGDN', 'NOL10', 'NUP153', 'OAS3', 'OGFR', 'PRKCI', 'PRPF6', 'RAE1', 'RIOK1', 'SENP2', 'SLC4A1AP', 'SP110', 'STAT1', 'STAT2', 'TOPBP1', 'TPD52L2', 'TPX2', 'TRIP13', 'UBE2C', 'USP39', 'XPO5', 'YTHDF1', 'ZGPAT']\n",
      "There are 81 unique proteomic correlations not found in the transcriptome\n",
      "There are 369 unique transcriptomic correlations not found in the proteome\n"
     ]
    }
   ],
   "source": [
    "proteomics_shared_tstat = {}\n",
    "proteomics_unique_tstat = {}\n",
    "\n",
    "transcriptomics_shared_tstat = {}\n",
    "transcriptomics_unique_tstat = {}\n",
    "\n",
    "shared_identical_direction = list()\n",
    "shared_opposite_direction = list()\n",
    "\n",
    "\n",
    "for protein in proteomics_all_mut_wt_tstat:\n",
    "    if protein in transcriptomics_all_mut_wt_tstat:\n",
    "        proteomics_shared_tstat[protein] = proteomics_all_mut_wt_tstat[protein]\n",
    "        transcriptomics_shared_tstat[protein] = transcriptomics_all_mut_wt_tstat[protein]\n",
    "\n",
    "for protein in proteomics_all_mut_wt_tstat:\n",
    "    if protein not in transcriptomics_all_mut_wt_tstat:\n",
    "        proteomics_unique_tstat[protein] = proteomics_all_mut_wt_tstat[protein]\n",
    "        \n",
    "for protein in transcriptomics_all_mut_wt_tstat:\n",
    "    if protein not in proteomics_all_mut_wt_tstat:\n",
    "        transcriptomics_unique_tstat[protein] = transcriptomics_all_mut_wt_tstat[protein]\n",
    "\n",
    "for protein in proteomics_shared_tstat:\n",
    "    if proteomics_shared_tstat[protein] > 0 and transcriptomics_shared_tstat[protein] > 0:\n",
    "        shared_identical_direction.append(protein)\n",
    "    if proteomics_shared_tstat[protein] < 0 and transcriptomics_shared_tstat[protein] < 0:\n",
    "        shared_identical_direction.append(protein)\n",
    "    else:\n",
    "        shared_opposite_direction.append(protein)\n",
    "        \n",
    "print('There are ' + str(len(shared_identical_direction)) + ' shared correlations in the same direction')\n",
    "print(shared_identical_direction)\n",
    "\n",
    "print('There are ' + str(len(shared_opposite_direction)) + ' shared correlations in the opposite direction')\n",
    "print(shared_opposite_direction)\n",
    "\n",
    "print('There are ' + str(len(proteomics_unique_tstat)) + ' unique proteomic correlations not found in the transcriptome')\n",
    "print('There are ' + str(len(transcriptomics_unique_tstat)) + ' unique transcriptomic correlations not found in the proteome')"
   ]
  },
  {
   "cell_type": "markdown",
   "metadata": {},
   "source": [
    "# TP53 Hotspot Mutants vs. Wildtype TP53"
   ]
  },
  {
   "cell_type": "code",
   "execution_count": null,
   "metadata": {},
   "outputs": [],
   "source": [
    "proteomics_htspt_wt_tstat = {}\n",
    "pcutoff = 0.05 / len(proteomics.columns)\n",
    "\n",
    "for protein in proteomics.columns:\n",
    "    if (protein != 'idx') and (protein != gene):\n",
    "        # Create dataframe with mutation status of TP53 with proteomics of the given protein\n",
    "        p53_mutations_protein = CPTAC.compare_mutations(proteomics, protein, gene)\n",
    "        # Create a column showing the location of TP53 mutation\n",
    "        p53_mutations_protein['Within_Hotspot'] = False\n",
    "        p53_mutations_protein.loc[hotspot_patients, 'Within_Hotspot'] = True\n",
    "        p53_mutations_protein.loc[p53_mutations_protein['Mutation'] == 'Wildtype', 'Within_Hotspot'] = 'Wildtype'\n",
    "        p53_mutations_protein = p53_mutations_protein.loc[p53_mutations_protein['Sample_Status'] == 'Tumor'].dropna(axis=0)\n",
    "        # Perform the ttest\n",
    "        hotspot_tp53 = p53_mutations_protein.loc[p53_mutations_protein['Within_Hotspot'] == True]\n",
    "        other_mut_tp53 = p53_mutations_protein.loc[p53_mutations_protein['Within_Hotspot'] == 'Wildtype']\n",
    "        if len(hotspot_tp53) < 2 or len(other_mut_tp53) < 2: continue\n",
    "        ttest = scipy.stats.ttest_ind(hotspot_tp53[protein], other_mut_tp53[protein])\n",
    "        # Print significant values\n",
    "        if ttest[1] <= pcutoff:\n",
    "            proteomics_htspt_wt_tstat[protein] = ttest[0]"
   ]
  },
  {
   "cell_type": "code",
   "execution_count": null,
   "metadata": {},
   "outputs": [],
   "source": [
    "transcriptomics_htspt_wt_tstat = {}\n",
    "pcutoff = 0.05 / len(transcriptomics.columns)\n",
    "\n",
    "for protein in transcriptomics.columns:\n",
    "    if (protein != 'idx') and (protein != gene):\n",
    "        # Create dataframe with mutation status of TP53 with proteomics of the given protein\n",
    "        p53_mutations_protein = CPTAC.compare_mutations(transcriptomics, protein, gene)\n",
    "        # Create a column showing the location of TP53 mutation\n",
    "        p53_mutations_protein['Within_Hotspot'] = False\n",
    "        p53_mutations_protein.loc[hotspot_patients, 'Within_Hotspot'] = True\n",
    "        p53_mutations_protein.loc[p53_mutations_protein['Mutation'] == 'Wildtype', 'Within_Hotspot'] = 'Wildtype'\n",
    "        p53_mutations_protein = p53_mutations_protein.loc[p53_mutations_protein['Sample_Status'] == 'Tumor'].dropna(axis=0)\n",
    "        # Perform the ttest\n",
    "        hotspot_tp53 = p53_mutations_protein.loc[p53_mutations_protein['Within_Hotspot'] == True]\n",
    "        other_mut_tp53 = p53_mutations_protein.loc[p53_mutations_protein['Within_Hotspot'] == 'Wildtype']\n",
    "        if len(hotspot_tp53) < 2 or len(other_mut_tp53) < 2: continue\n",
    "        ttest = scipy.stats.ttest_ind(hotspot_tp53[protein], other_mut_tp53[protein])\n",
    "        # Print significant values\n",
    "        if ttest[1] <= pcutoff:\n",
    "            transcriptomics_htspt_wt_tstat[protein] = ttest[0]"
   ]
  },
  {
   "cell_type": "code",
   "execution_count": null,
   "metadata": {},
   "outputs": [],
   "source": [
    "proteomics_shared_tstat_2 = {}\n",
    "proteomics_unique_tstat_2 = {}\n",
    "\n",
    "transcriptomics_shared_tstat_2 = {}\n",
    "transcriptomics_unique_tstat_2 = {}\n",
    "\n",
    "shared_identical_direction_2 = list()\n",
    "shared_opposite_direction_2 = list()\n",
    "\n",
    "\n",
    "for protein in proteomics_htspt_wt_tstat:\n",
    "    if protein in transcriptomics_all_mut_wt_tstat:\n",
    "        proteomics_shared_tstat_2[protein] = proteomics_htspt_wt_tstat[protein]\n",
    "        transcriptomics_shared_tstat_2[protein] = transcriptomics_htspt_wt_tstat[protein]\n",
    "\n",
    "for protein in proteomics_htspt_wt_tstat:\n",
    "    if protein not in transcriptomics_htspt_wt_tstat:\n",
    "        proteomics_unique_tstat_2[protein] = proteomics_htspt_wt_tstat[protein]\n",
    "        \n",
    "for protein in transcriptomics_htspt_wt_tstat:\n",
    "    if protein not in proteomics_htspt_tstat:\n",
    "        transcriptomics_unique_tstat_2[protein] = transcriptomics_htspt_wt_tstat[protein]\n",
    "\n",
    "for protein in proteomics_shared_tstat_2:\n",
    "    if proteomics_shared_tstat_2[protein] > 0 and transcriptomics_shared_tstat_2[protein] > 0:\n",
    "        shared_identical_direction_2.append(protein)\n",
    "    if proteomics_shared_tstat_2[protein] < 0 and transcriptomics_shared_tstat_2[protein] < 0:\n",
    "        shared_identical_direction_2.append(protein)\n",
    "    else:\n",
    "        shared_opposite_direction_2.append(protein)\n",
    "        \n",
    "print('There are ' + str(len(shared_identical_direction_2)) + ' shared correlations in the same direction')\n",
    "print(str(shared_identical_direction_2) + '\\n')\n",
    "print\n",
    "print('There are ' + str(len(shared_opposite_direction_2)) + ' shared correlations in the opposite direction')\n",
    "print(str(shared_opposite_direction_2) + '\\n')\n",
    "\n",
    "print('There are ' + str(len(proteomics_unique_tstat_2)) + ' unique proteomic correlations not found in the transcriptome')\n",
    "print('There are ' + str(len(transcriptomics_unique_tstat_2)) + ' unique transcriptomic correlations not found in the proteome')"
   ]
  },
  {
   "cell_type": "code",
   "execution_count": null,
   "metadata": {},
   "outputs": [],
   "source": []
  }
 ],
 "metadata": {
  "kernelspec": {
   "display_name": "Python 3",
   "language": "python",
   "name": "python3"
  },
  "language_info": {
   "codemirror_mode": {
    "name": "ipython",
    "version": 3
   },
   "file_extension": ".py",
   "mimetype": "text/x-python",
   "name": "python",
   "nbconvert_exporter": "python",
   "pygments_lexer": "ipython3",
   "version": "3.7.1"
  }
 },
 "nbformat": 4,
 "nbformat_minor": 2
}
