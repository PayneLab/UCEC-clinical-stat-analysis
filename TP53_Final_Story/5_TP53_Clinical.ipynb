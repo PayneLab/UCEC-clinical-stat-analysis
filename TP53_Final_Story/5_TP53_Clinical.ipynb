{
 "cells": [
  {
   "cell_type": "markdown",
   "metadata": {},
   "source": [
    "# TP53 Methods - Sweep of Clinical Data"
   ]
  },
  {
   "cell_type": "markdown",
   "metadata": {},
   "source": [
    "### Following our protein analysis, we looked for any correlations within our clinical data that were worth exploring."
   ]
  },
  {
   "cell_type": "markdown",
   "metadata": {},
   "source": [
    "### Standard imports, including CTPAC package"
   ]
  },
  {
   "cell_type": "code",
   "execution_count": 5,
   "metadata": {},
   "outputs": [],
   "source": [
    "import pandas as pd\n",
    "import numpy as np\n",
    "import re\n",
    "import scipy.stats\n",
    "import statsmodels.stats.multitest\n",
    "import matplotlib.pyplot as plt\n",
    "import math\n",
    "import seaborn as sns\n",
    "import CPTAC.Endometrial as CPTAC"
   ]
  },
  {
   "cell_type": "markdown",
   "metadata": {},
   "source": [
    "## Set-up of Initial Dataframes and Variables"
   ]
  },
  {
   "cell_type": "code",
   "execution_count": 14,
   "metadata": {
    "scrolled": false
   },
   "outputs": [],
   "source": [
    "gene = 'TP53'\n",
    "protein = 'TP53'\n",
    "somatic = CPTAC.get_somatic()\n",
    "proteomics = CPTAC.get_proteomics()\n",
    "clinical_full = CPTAC.get_clinical() "
   ]
  },
  {
   "cell_type": "markdown",
   "metadata": {},
   "source": [
    "### Creating a dataframe of patient ID's for patients that have mutation(s) in the TP53 hotspot"
   ]
  },
  {
   "cell_type": "code",
   "execution_count": 19,
   "metadata": {},
   "outputs": [],
   "source": [
    "# A list of mutations present in the hotspot according to our Hotspot3D output\n",
    "hotspot_mutations = ['p.P250L', 'p.R248W', 'p.S241C', 'p.S241del', 'p.K164E', 'p.R249S', 'p.R273H', 'p.R282W',\n",
    "                    'p.S127Y', 'p.G244D', 'p.A159P']\n",
    "mutated_hotspot = somatic.loc[(somatic['Location'].isin(hotspot_mutations)) & (somatic['Gene'] == gene)]\n",
    "hotspot_patients = mutated_hotspot['Patient_Id']"
   ]
  },
  {
   "cell_type": "markdown",
   "metadata": {},
   "source": [
    "### Creating a modified clinical dataframe that designates mutation type"
   ]
  },
  {
   "cell_type": "code",
   "execution_count": 32,
   "metadata": {},
   "outputs": [
    {
     "name": "stdout",
     "output_type": "stream",
     "text": [
      "586      C3L-00006\n",
      "1318     C3L-00098\n",
      "1404     C3L-00137\n",
      "4019     C3L-00356\n",
      "4089     C3L-00358\n",
      "4736     C3L-00449\n",
      "21307    C3L-00905\n",
      "44973    C3N-00339\n",
      "45005    C3N-00340\n",
      "46785    C3N-00836\n",
      "49867    C3N-01346\n",
      "49948    C3N-01349\n",
      "Name: Patient_Id, dtype: object\n",
      "idx\n",
      "S001    C3L-00006\n",
      "S002    C3L-00008\n",
      "S003    C3L-00032\n",
      "S005    C3L-00090\n",
      "S006    C3L-00098\n",
      "S007    C3L-00136\n",
      "S008    C3L-00137\n",
      "S009    C3L-00139\n",
      "S010    C3L-00143\n",
      "S011    C3L-00145\n",
      "S012    C3L-00156\n",
      "S014    C3L-00161\n",
      "S016    C3L-00358\n",
      "S017    C3L-00361\n",
      "S018    C3L-00362\n",
      "S019    C3L-00413\n",
      "S020    C3L-00449\n",
      "S021    C3L-00563\n",
      "S022    C3L-00586\n",
      "S023    C3L-00601\n",
      "S024    C3L-00605\n",
      "S025    C3L-00767\n",
      "S026    C3L-00769\n",
      "S027    C3L-00770\n",
      "S028    C3L-00771\n",
      "S029    C3L-00780\n",
      "S030    C3L-00781\n",
      "S031    C3L-00905\n",
      "S032    C3L-00918\n",
      "S033    C3L-00921\n",
      "          ...    \n",
      "S124    C3N-00333\n",
      "S125    C3N-00383\n",
      "S126    C3N-00729\n",
      "S127    C3N-00858\n",
      "S128    C3N-00866\n",
      "S129    C3N-01346\n",
      "S130    C3L-00563\n",
      "S131    C3L-00605\n",
      "S132    C3L-00770\n",
      "S133    C3L-00771\n",
      "S134    C3N-00200\n",
      "S135    C3N-01211\n",
      "S136          NX1\n",
      "S137          NX2\n",
      "S138          NX3\n",
      "S139          NX4\n",
      "S140          NX5\n",
      "S141          NX6\n",
      "S142          NX7\n",
      "S143          NX8\n",
      "S144          NX9\n",
      "S145         NX10\n",
      "S146         NX11\n",
      "S147         NX12\n",
      "S148         NX13\n",
      "S149         NX14\n",
      "S150         NX15\n",
      "S151         NX16\n",
      "S152         NX17\n",
      "S153         NX18\n",
      "Name: Proteomics_Participant_ID, Length: 144, dtype: object\n"
     ]
    },
    {
     "ename": "KeyError",
     "evalue": "\"['C3L-00356'] not in index\"",
     "output_type": "error",
     "traceback": [
      "\u001b[0;31m---------------------------------------------------------------------------\u001b[0m",
      "\u001b[0;31mKeyError\u001b[0m                                  Traceback (most recent call last)",
      "\u001b[0;32m<ipython-input-32-d47ac86ee2a8>\u001b[0m in \u001b[0;36m<module>\u001b[0;34m\u001b[0m\n\u001b[1;32m     13\u001b[0m \u001b[0;31m# Designating the type of TP53 mutation. True = TP53 Hotspot Mutation. False = TP53 Non-Hotspot Mutation. WT = No TP53 Mutation\u001b[0m\u001b[0;34m\u001b[0m\u001b[0;34m\u001b[0m\u001b[0;34m\u001b[0m\u001b[0m\n\u001b[1;32m     14\u001b[0m \u001b[0mclinical_full\u001b[0m\u001b[0;34m[\u001b[0m\u001b[0;34m'Within_Hotspot'\u001b[0m\u001b[0;34m]\u001b[0m \u001b[0;34m=\u001b[0m \u001b[0;32mFalse\u001b[0m\u001b[0;34m\u001b[0m\u001b[0;34m\u001b[0m\u001b[0m\n\u001b[0;32m---> 15\u001b[0;31m \u001b[0mclinical_full\u001b[0m\u001b[0;34m.\u001b[0m\u001b[0mloc\u001b[0m\u001b[0;34m[\u001b[0m\u001b[0mhotspot_patients\u001b[0m\u001b[0;34m,\u001b[0m \u001b[0;34m'Within_Hotspot'\u001b[0m\u001b[0;34m]\u001b[0m \u001b[0;34m=\u001b[0m \u001b[0;32mTrue\u001b[0m\u001b[0;34m\u001b[0m\u001b[0;34m\u001b[0m\u001b[0m\n\u001b[0m\u001b[1;32m     16\u001b[0m \u001b[0mclinical_full\u001b[0m\u001b[0;34m.\u001b[0m\u001b[0mloc\u001b[0m\u001b[0;34m[\u001b[0m\u001b[0mclinical_full\u001b[0m\u001b[0;34m[\u001b[0m\u001b[0;34m'Mutation'\u001b[0m\u001b[0;34m]\u001b[0m \u001b[0;34m==\u001b[0m \u001b[0;34m'Wildtype'\u001b[0m\u001b[0;34m,\u001b[0m \u001b[0;34m'Within_Hotspot'\u001b[0m\u001b[0;34m]\u001b[0m \u001b[0;34m=\u001b[0m \u001b[0;34m'WT'\u001b[0m\u001b[0;34m\u001b[0m\u001b[0;34m\u001b[0m\u001b[0m\n",
      "\u001b[0;32m~/anaconda3/lib/python3.7/site-packages/pandas/core/indexing.py\u001b[0m in \u001b[0;36m__setitem__\u001b[0;34m(self, key, value)\u001b[0m\n\u001b[1;32m    186\u001b[0m         \u001b[0;32melse\u001b[0m\u001b[0;34m:\u001b[0m\u001b[0;34m\u001b[0m\u001b[0;34m\u001b[0m\u001b[0m\n\u001b[1;32m    187\u001b[0m             \u001b[0mkey\u001b[0m \u001b[0;34m=\u001b[0m \u001b[0mcom\u001b[0m\u001b[0;34m.\u001b[0m\u001b[0m_apply_if_callable\u001b[0m\u001b[0;34m(\u001b[0m\u001b[0mkey\u001b[0m\u001b[0;34m,\u001b[0m \u001b[0mself\u001b[0m\u001b[0;34m.\u001b[0m\u001b[0mobj\u001b[0m\u001b[0;34m)\u001b[0m\u001b[0;34m\u001b[0m\u001b[0;34m\u001b[0m\u001b[0m\n\u001b[0;32m--> 188\u001b[0;31m         \u001b[0mindexer\u001b[0m \u001b[0;34m=\u001b[0m \u001b[0mself\u001b[0m\u001b[0;34m.\u001b[0m\u001b[0m_get_setitem_indexer\u001b[0m\u001b[0;34m(\u001b[0m\u001b[0mkey\u001b[0m\u001b[0;34m)\u001b[0m\u001b[0;34m\u001b[0m\u001b[0;34m\u001b[0m\u001b[0m\n\u001b[0m\u001b[1;32m    189\u001b[0m         \u001b[0mself\u001b[0m\u001b[0;34m.\u001b[0m\u001b[0m_setitem_with_indexer\u001b[0m\u001b[0;34m(\u001b[0m\u001b[0mindexer\u001b[0m\u001b[0;34m,\u001b[0m \u001b[0mvalue\u001b[0m\u001b[0;34m)\u001b[0m\u001b[0;34m\u001b[0m\u001b[0;34m\u001b[0m\u001b[0m\n\u001b[1;32m    190\u001b[0m \u001b[0;34m\u001b[0m\u001b[0m\n",
      "\u001b[0;32m~/anaconda3/lib/python3.7/site-packages/pandas/core/indexing.py\u001b[0m in \u001b[0;36m_get_setitem_indexer\u001b[0;34m(self, key)\u001b[0m\n\u001b[1;32m    164\u001b[0m         \u001b[0;32mif\u001b[0m \u001b[0misinstance\u001b[0m\u001b[0;34m(\u001b[0m\u001b[0mkey\u001b[0m\u001b[0;34m,\u001b[0m \u001b[0mtuple\u001b[0m\u001b[0;34m)\u001b[0m\u001b[0;34m:\u001b[0m\u001b[0;34m\u001b[0m\u001b[0;34m\u001b[0m\u001b[0m\n\u001b[1;32m    165\u001b[0m             \u001b[0;32mtry\u001b[0m\u001b[0;34m:\u001b[0m\u001b[0;34m\u001b[0m\u001b[0;34m\u001b[0m\u001b[0m\n\u001b[0;32m--> 166\u001b[0;31m                 \u001b[0;32mreturn\u001b[0m \u001b[0mself\u001b[0m\u001b[0;34m.\u001b[0m\u001b[0m_convert_tuple\u001b[0m\u001b[0;34m(\u001b[0m\u001b[0mkey\u001b[0m\u001b[0;34m,\u001b[0m \u001b[0mis_setter\u001b[0m\u001b[0;34m=\u001b[0m\u001b[0;32mTrue\u001b[0m\u001b[0;34m)\u001b[0m\u001b[0;34m\u001b[0m\u001b[0;34m\u001b[0m\u001b[0m\n\u001b[0m\u001b[1;32m    167\u001b[0m             \u001b[0;32mexcept\u001b[0m \u001b[0mIndexingError\u001b[0m\u001b[0;34m:\u001b[0m\u001b[0;34m\u001b[0m\u001b[0;34m\u001b[0m\u001b[0m\n\u001b[1;32m    168\u001b[0m                 \u001b[0;32mpass\u001b[0m\u001b[0;34m\u001b[0m\u001b[0;34m\u001b[0m\u001b[0m\n",
      "\u001b[0;32m~/anaconda3/lib/python3.7/site-packages/pandas/core/indexing.py\u001b[0m in \u001b[0;36m_convert_tuple\u001b[0;34m(self, key, is_setter)\u001b[0m\n\u001b[1;32m    245\u001b[0m                 \u001b[0;32mif\u001b[0m \u001b[0mi\u001b[0m \u001b[0;34m>=\u001b[0m \u001b[0mself\u001b[0m\u001b[0;34m.\u001b[0m\u001b[0mobj\u001b[0m\u001b[0;34m.\u001b[0m\u001b[0mndim\u001b[0m\u001b[0;34m:\u001b[0m\u001b[0;34m\u001b[0m\u001b[0;34m\u001b[0m\u001b[0m\n\u001b[1;32m    246\u001b[0m                     \u001b[0;32mraise\u001b[0m \u001b[0mIndexingError\u001b[0m\u001b[0;34m(\u001b[0m\u001b[0;34m'Too many indexers'\u001b[0m\u001b[0;34m)\u001b[0m\u001b[0;34m\u001b[0m\u001b[0;34m\u001b[0m\u001b[0m\n\u001b[0;32m--> 247\u001b[0;31m                 \u001b[0midx\u001b[0m \u001b[0;34m=\u001b[0m \u001b[0mself\u001b[0m\u001b[0;34m.\u001b[0m\u001b[0m_convert_to_indexer\u001b[0m\u001b[0;34m(\u001b[0m\u001b[0mk\u001b[0m\u001b[0;34m,\u001b[0m \u001b[0maxis\u001b[0m\u001b[0;34m=\u001b[0m\u001b[0mi\u001b[0m\u001b[0;34m,\u001b[0m \u001b[0mis_setter\u001b[0m\u001b[0;34m=\u001b[0m\u001b[0mis_setter\u001b[0m\u001b[0;34m)\u001b[0m\u001b[0;34m\u001b[0m\u001b[0;34m\u001b[0m\u001b[0m\n\u001b[0m\u001b[1;32m    248\u001b[0m                 \u001b[0mkeyidx\u001b[0m\u001b[0;34m.\u001b[0m\u001b[0mappend\u001b[0m\u001b[0;34m(\u001b[0m\u001b[0midx\u001b[0m\u001b[0;34m)\u001b[0m\u001b[0;34m\u001b[0m\u001b[0;34m\u001b[0m\u001b[0m\n\u001b[1;32m    249\u001b[0m         \u001b[0;32mreturn\u001b[0m \u001b[0mtuple\u001b[0m\u001b[0;34m(\u001b[0m\u001b[0mkeyidx\u001b[0m\u001b[0;34m)\u001b[0m\u001b[0;34m\u001b[0m\u001b[0;34m\u001b[0m\u001b[0m\n",
      "\u001b[0;32m~/anaconda3/lib/python3.7/site-packages/pandas/core/indexing.py\u001b[0m in \u001b[0;36m_convert_to_indexer\u001b[0;34m(self, obj, axis, is_setter)\u001b[0m\n\u001b[1;32m   1325\u001b[0m                 \u001b[0;32mif\u001b[0m \u001b[0mmask\u001b[0m\u001b[0;34m.\u001b[0m\u001b[0many\u001b[0m\u001b[0;34m(\u001b[0m\u001b[0;34m)\u001b[0m\u001b[0;34m:\u001b[0m\u001b[0;34m\u001b[0m\u001b[0;34m\u001b[0m\u001b[0m\n\u001b[1;32m   1326\u001b[0m                     raise KeyError('{mask} not in index'\n\u001b[0;32m-> 1327\u001b[0;31m                                    .format(mask=objarr[mask]))\n\u001b[0m\u001b[1;32m   1328\u001b[0m \u001b[0;34m\u001b[0m\u001b[0m\n\u001b[1;32m   1329\u001b[0m                 \u001b[0;32mreturn\u001b[0m \u001b[0mcom\u001b[0m\u001b[0;34m.\u001b[0m\u001b[0m_values_from_object\u001b[0m\u001b[0;34m(\u001b[0m\u001b[0mindexer\u001b[0m\u001b[0;34m)\u001b[0m\u001b[0;34m\u001b[0m\u001b[0;34m\u001b[0m\u001b[0m\n",
      "\u001b[0;31mKeyError\u001b[0m: \"['C3L-00356'] not in index\""
     ]
    }
   ],
   "source": [
    "# Creating this dataframe to join with the clinical data to include mutation type\n",
    "loc_compare = CPTAC.compare_mutations(proteomics, protein, gene)\n",
    "\n",
    "# Joining the two dataframes and selecting only for patients with tumors\n",
    "clinical_full = clinical_full.join(loc_compare)\n",
    "clinical_full = clinical_full.loc[clinical_full['Sample_Status'] == 'Tumor']\n",
    "\n",
    "# Changing the index to be the patient's universal CPTAC ID\n",
    "clinical_full = clinical_full.set_index('Proteomics_Participant_ID')\n",
    "\n",
    "# Designating the type of TP53 mutation. True = TP53 Hotspot Mutation. False = TP53 Non-Hotspot Mutation. WT = No TP53 Mutation\n",
    "clinical_full['Within_Hotspot'] = False\n",
    "clinical_full.loc[hotspot_patients, 'Within_Hotspot'] = True\n",
    "clinical_full.loc[clinical_full['Mutation'] == 'Wildtype', 'Within_Hotspot'] = 'WT'"
   ]
  },
  {
   "cell_type": "markdown",
   "metadata": {},
   "source": [
    "## Clinical Data Chi-Square Analysis\n",
    "\n",
    "### Bonferroni correction of p-value significance cuttoff for chi-square analysis"
   ]
  },
  {
   "cell_type": "code",
   "execution_count": null,
   "metadata": {},
   "outputs": [],
   "source": [
    "# Calculating the number of chi-square analyses to be run based on data type\n",
    "Chi_Tests = 0\n",
    "for feature in clinical_full:\n",
    "    if str(clinical_full[feature].dtypes) == 'object':\n",
    "        Chi_Tests += 1\n",
    "pcutoff = 0.05/Chi_Tests\n",
    "print ('p-value cutoff is ' + str(pcutoff))           "
   ]
  },
  {
   "cell_type": "markdown",
   "metadata": {},
   "source": [
    "### Running the chi-square analysis"
   ]
  },
  {
   "cell_type": "code",
   "execution_count": null,
   "metadata": {},
   "outputs": [],
   "source": [
    "# Going through every column of our clinical dataframe\n",
    "for feature in clinical_full:\n",
    "    # Only performing the chi-square analysis on columns with the data type of 'object'\n",
    "    if str(clinical_full[feature].dtypes) == 'object':\n",
    "        # Creating the table to be used in the chi-square analysis\n",
    "        chi_clinical = pd.crosstab(clinical_full[feature], clinical_full['Within_Hotspot'])\n",
    "        chi_test = scipy.stats.chi2_contingency(observed = chi_clinical)\n",
    "        if str(feature) != 'Within_Hotspot':\n",
    "            # Printing significant values and the table used in the chi-square analysis\n",
    "            if chi_test[1] <= pcutoff:\n",
    "                print(feature)\n",
    "                print ('p-value = ' + str(chi_test[1]))\n",
    "                chi_test = pd.crosstab(clinical_full[feature], clinical_full['Within_Hotspot'])\n",
    "                print (str(chi_test) + '\\n')"
   ]
  },
  {
   "cell_type": "markdown",
   "metadata": {},
   "source": [
    "# Clinical Data t-test Analysis\n",
    "\n",
    "### Bonferroni correction of p-value significance cuttoff for t-test analysis"
   ]
  },
  {
   "cell_type": "code",
   "execution_count": null,
   "metadata": {
    "scrolled": true
   },
   "outputs": [],
   "source": [
    "# Calculating the number of t-test analyses to be run based on data type\n",
    "t_tests = 0\n",
    "for feature in clinical_full:\n",
    "    if str(clinical_full[feature].dtypes) == 'float64' or str(clinical_full[feature].dtypes) == 'int64':\n",
    "        t_tests += 1\n",
    "pcutoff = 0.05/t_tests\n",
    "print ('p-value cutoff is ' + str(pcutoff))"
   ]
  },
  {
   "cell_type": "markdown",
   "metadata": {},
   "source": [
    "### Running the t-test analysis"
   ]
  },
  {
   "cell_type": "code",
   "execution_count": null,
   "metadata": {},
   "outputs": [],
   "source": [
    "# Creating dataframes for the Tp53 hotspot mutations vs. wildtype TP53 comparison\n",
    "TP53_Hotspot_Mutation = clinical_full.loc[clinical_full['Within_Hotspot'] == True]\n",
    "Wildtype_TP53 = clinical_full.loc[clinical_full['Within_Hotspot'] != 'WT']\n",
    "\n",
    "# TP53 Hotspot Mutations vs. Wildtype TP53 t-test\n",
    "significant_results = 0\n",
    "for feature in clinical_full:\n",
    "    if str(clinical_full[feature].dtypes) == 'float64' or str(clinical_full[feature].dtypes) == 'int64':\n",
    "        ttest = scipy.stats.ttest_ind(TP53_Hotspot_Mutation[feature].dropna(axis=0), Wildtype_TP53[feature].dropna(axis = 0))\n",
    "        # Printing significant values\n",
    "        if ttest[1] <= pcutoff:\n",
    "            significant_results += 1\n",
    "            print(feature)\n",
    "            print('p-value = ' + str(ttest[1]))\n",
    "            print('t-test statistic = ' + str(ttest[0]) + '\\n')\n",
    "            \n",
    "# Printing the number of significant results\n",
    "if significant_results == 0:\n",
    "    print('**There are no significant results based on this comparison**')\n",
    "else:\n",
    "    print('**There are ' + str(significant_results) + ' significant results based on this comparison**')"
   ]
  },
  {
   "cell_type": "code",
   "execution_count": null,
   "metadata": {},
   "outputs": [],
   "source": [
    "# Creating dataframes for the Mutated TP53 vs Wildtype TP53 comparison        \n",
    "Wildtype_TP53 = clinical_full.loc[clinical_full['Within_Hotspot'] == 'WT']\n",
    "Mutated_TP53 = clinical_full.loc[clinical_full['Within_Hotspot'] != 'WT']\n",
    "\n",
    "# Mutated TP53 vs. Wildtype TP53 t-test\n",
    "significant_results = 0\n",
    "for feature in clinical_full:\n",
    "    if str(clinical_full[feature].dtypes) == 'float64' or str(clinical_full[feature].dtypes) == 'int64':\n",
    "        ttest = scipy.stats.ttest_ind(Mutated_TP53[feature].dropna(axis=0), Wildtype_TP53[feature].dropna(axis = 0))\n",
    "        # Printing significant values\n",
    "        if ttest[1] <= pcutoff:\n",
    "            significant_results += 1\n",
    "            print(feature)\n",
    "            print('p-value = ' + str(ttest[1]))\n",
    "            print('t-test statistic = ' + str(ttest[0]) + '\\n')\n",
    "\n",
    "# Printing the number of significant results\n",
    "if significant_results == 0:\n",
    "    print('**There are no significant results based on this comparison**')\n",
    "else:\n",
    "    print('**There are ' + str(significant_results) + ' significant results based on this comparison**') "
   ]
  },
  {
   "cell_type": "markdown",
   "metadata": {},
   "source": [
    "## Plotting columns from the clinical data found to be significant after t-test results"
   ]
  },
  {
   "cell_type": "code",
   "execution_count": null,
   "metadata": {},
   "outputs": [],
   "source": [
    "# We compiled this list of 5 clinical data columns based on which data was able to be plotted\n",
    "sig_list = ['Pathway_activity_JAK.STAT', 'Pathway_activity_p53', 'Mutation_signature_C>G', 'Estrogen_Receptor_%', 'Mutation_signature_C>T']\n",
    "\n",
    "# Plotting each of the clinical data columns from our list\n",
    "for feature in sig_list:\n",
    "    Y_var = feature\n",
    "    a4_dims = (11.7, 8.27)\n",
    "    fig, ax = plt.subplots(figsize = a4_dims)\n",
    "    boxplt = sns.boxplot(data = clinical_full, x = 'Within_Hotspot', y = Y_var, ax = ax)\n",
    "    boxplt = sns.stripplot(data = clinical_full, x = 'Within_Hotspot', y = Y_var, jitter = True, color = '.3')\n",
    "    boxplt.set_xlabel('Mutation Within Hotspot', fontsize='20')\n",
    "    boxplt.set_ylabel(Y_var, fontsize='20')\n",
    "    plt.show()"
   ]
  },
  {
   "cell_type": "code",
   "execution_count": null,
   "metadata": {},
   "outputs": [],
   "source": []
  }
 ],
 "metadata": {
  "kernelspec": {
   "display_name": "Python 3",
   "language": "python",
   "name": "python3"
  },
  "language_info": {
   "codemirror_mode": {
    "name": "ipython",
    "version": 3
   },
   "file_extension": ".py",
   "mimetype": "text/x-python",
   "name": "python",
   "nbconvert_exporter": "python",
   "pygments_lexer": "ipython3",
   "version": "3.7.1"
  }
 },
 "nbformat": 4,
 "nbformat_minor": 2
}
