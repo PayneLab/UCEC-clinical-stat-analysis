{
 "cells": [
  {
   "cell_type": "markdown",
   "metadata": {},
   "source": [
    "# TP53 trans effects on known interacting proteins (proteomic analysis)\n",
    "## This was our first analysis, used to detect significant changes in known interactions"
   ]
  },
  {
   "cell_type": "markdown",
   "metadata": {},
   "source": [
    "### Standard imports, including CPTAC package"
   ]
  },
  {
   "cell_type": "code",
   "execution_count": 16,
   "metadata": {},
   "outputs": [],
   "source": [
    "import pandas as pd\n",
    "import numpy as np\n",
    "import re\n",
    "import scipy.stats\n",
    "import statsmodels.stats.multitest\n",
    "import matplotlib.pyplot as plt\n",
    "import seaborn as sns\n",
    "import CPTAC.Endometrial as CPTAC"
   ]
  },
  {
   "cell_type": "markdown",
   "metadata": {},
   "source": [
    "### Set up initial dataframes and variables"
   ]
  },
  {
   "cell_type": "code",
   "execution_count": 17,
   "metadata": {},
   "outputs": [
    {
     "data": {
      "text/plain": [
       "586      S001\n",
       "1318     S006\n",
       "1404     S008\n",
       "4019     S015\n",
       "4089     S016\n",
       "4736     S020\n",
       "44973    S071\n",
       "45005    S072\n",
       "46785    S082\n",
       "49867    S096\n",
       "49948    S097\n",
       "Name: Clinical_Patient_Key, dtype: object"
      ]
     },
     "execution_count": 17,
     "metadata": {},
     "output_type": "execute_result"
    }
   ],
   "source": [
    "gene='TP53'\n",
    "somatic = CPTAC.get_somatic()\n",
    "proteomics = CPTAC.get_proteomics()\n",
    "phos = CPTAC.get_phosphoproteomics()\n",
    "transcriptomics = CPTAC.get_transcriptomics()\n",
    "\n",
    "# A list of mutations present in the hotspot according to our Hotspot3D output\n",
    "hotspot_mutations = ['p.P250L', 'p.R248W', 'p.S241C', 'p.241del','p.K164E', 'p.R249S', 'p.R273H', 'p.R282W',\n",
    "                    'p.S127Y', 'p.G244D', 'p.A159P']\n",
    "mutated_hotspot = somatic.loc[(somatic['Location'].isin(hotspot_mutations)) & (somatic['Gene'] == gene)]\n",
    "\n",
    "# Get a list of patient identifiers for those who have mutations in the hotspot\n",
    "hotspot_patients_both_keys = mutated_hotspot[['Clinical_Patient_Key', 'Patient_Id']]\n",
    "hotspot_patients = hotspot_patients_both_keys['Clinical_Patient_Key']\n",
    "hotspot_patients"
   ]
  },
  {
   "cell_type": "markdown",
   "metadata": {},
   "source": [
    "### Find number of patients with TP53 mutations in/outside of hotspot"
   ]
  },
  {
   "cell_type": "code",
   "execution_count": 18,
   "metadata": {},
   "outputs": [
    {
     "name": "stdout",
     "output_type": "stream",
     "text": [
      "Mutations inside hotspot: 11\n",
      "Total number of patients with mutations: 23\n"
     ]
    }
   ],
   "source": [
    "print(\"Mutations inside hotspot: \" + str(len(hotspot_patients)))\n",
    "p53_mutated = somatic.loc[somatic['Gene'] == 'TP53']\n",
    "\n",
    "# num_mutated naturally includes a value that is 'NA' so we subtract 1\n",
    "# Some people have more than one mutation so we need to grab the unique values\n",
    "num_mutated = len(set(p53_mutated['Clinical_Patient_Key'])) - 1\n",
    "print(\"Total number of patients with mutations: \" + str(num_mutated))"
   ]
  },
  {
   "cell_type": "markdown",
   "metadata": {},
   "source": [
    "### List of proteins that interact with TP53 (according to Uniprot and String)"
   ]
  },
  {
   "cell_type": "code",
   "execution_count": 19,
   "metadata": {},
   "outputs": [],
   "source": [
    "interProtList = ['AIMP2', 'ARIH2', 'ARRB1', 'ASH2L', 'ATG7', 'AXIN1', 'BANP', 'BCL2', 'BCL2L1', 'BCR', 'BHLHE40', 'BRCA2',\n",
    "           'BRD7', 'BTBD2', 'BTRC', 'CABLES1', 'CARM1', 'CCDC106', 'CDKN1A', 'CEBPB', 'CHD8', 'CREBBP', 'CSE1L', 'CSNK2A1', 'CUL7',\n",
    "           'CUL9', 'CXXC1', 'DAXX', 'DDX17', 'DDX5', 'DROSHA', 'DUSP26', 'DVL2', 'E6', 'EP300', 'ETS2', 'FBXO11',\n",
    "           'FOXO3', 'GSK3B', 'GTF2H1', 'HDAC1', 'HIPK1', 'HIPK2', 'HMGB1', 'HNRNPK', 'HRMT1L2', 'HSP82', 'HSPA1L', 'HSPA9', 'HSPB1',\n",
    "           'HTT', 'HUWE1', 'IFI16', 'IFI205B', 'ING4', 'IKBKB', 'IP6K2', 'JMJD6', 'KAT5', 'KAT8', 'KDM1A', 'KMT2E', 'LAMA4',\n",
    "           'MAGEA2B', 'MAGEC2', 'MAP1B', 'MAPK11', 'MAPKAPK5', 'MDM2', 'MDM4', 'MKRN1', 'MPDZ', 'MT1A', 'NCL', 'NCOR2',\n",
    "           'NFYA', 'NFYB', 'NOC2L', 'NOL3', 'NPM1', 'NR0B2', 'NR4A1', 'NRDC', 'NSP1', 'NUAK1', 'NUMB', 'OTUB1', \n",
    "           'PARD3', 'PARP1', 'PBK', 'PHB', 'PIAS1', 'PIAS2', 'PIAS4', 'PIN1', 'PLK1', 'PML', 'PPIF', 'PPP1CC',\n",
    "           'PPP1R13L', 'PPP2R1A', 'PPP2R5C', 'PRKCD', 'PSME3', 'PTK2', 'RAD51', 'RBPJ', 'RCHY1', 'RFWD3', 'RING1',\n",
    "           'RPS3', 'RYBP', 'S100A1', 'S100A2', 'S100A4', 'S100B', 'SAFB', 'SETD7', 'SFN', 'SIN3A', 'SIRT1', 'SMAD2',\n",
    "           'SMYD2', 'SNAT1', 'SOX4', 'SP1', 'SREBF2', 'SRPK1', 'SUMO1', 'SYVN1', 'TAF1', 'TBP', 'TCF4', 'TOE1', 'TP53BP1',\n",
    "           'TP53BP2', 'TP53INP1', 'TP63', 'TPT1', 'TRIM24', 'TWIST1', 'UBC', 'UBE3A', 'UHRF2', 'USP42', 'USP7', 'VDR', 'VRK1',\n",
    "           'WRN', 'WWOX', 'XPO1', 'XRCC6', 'YWHAG', 'YWHAZ', 'ZNF420', 'ATM', 'BAX', 'BCL2L11', 'CCNA1', 'CCNA2', 'CCNB1', \n",
    "           'CCNB2', 'CCND1', 'CCND3', 'CCNE1', 'CCNE2', 'CDC25A', 'CDC6', 'CDK2', 'CDKN1B', 'CDKN2A', 'CHEK1', \n",
    "           'CHEK2', 'CITED2', 'CKS1B', 'MCM5', 'MRE11A', 'PCNA', 'RB1', 'ARMC10', 'BANP', 'CDKN2AIP', 'NUAK1', 'STK11',\n",
    "           'LKB1', 'UHRF2', 'E4F1', 'MAML1', 'MKRN1', 'PML', 'FBXO42', 'ATM', 'PP2A', 'PPP2R5C', 'PPP2R2A', 'AURKA', 'DAXX',\n",
    "           'BRD7', 'TRIM24', 'L3MBTL1', 'GRK5', 'CAK', 'CDK7', 'MAT1', 'CDK5', 'AURKB', 'SETD2', 'UHRF2', 'NOC2L', 'PTK2',\n",
    "           'FAK1', 'PTK2B', 'PYK2', 'PRKCG', 'PPIF', 'SNAI1', 'KAT6A', 'ANKRD2', 'RFFL', 'RNF34', 'MTA1', 'COP1', 'CCAR2',\n",
    "           'MORC3', 'POU4F2', 'NOP53', 'AFG1L', 'UBD', 'TAF6', 'FATS', 'C10ORF90']"
   ]
  },
  {
   "cell_type": "markdown",
   "metadata": {},
   "source": [
    "### All mutations vs. cancer wildtype"
   ]
  },
  {
   "cell_type": "code",
   "execution_count": 20,
   "metadata": {},
   "outputs": [
    {
     "data": {
      "text/plain": [
       "{'CABLES1': 1.1764566319746612e-05,\n",
       " 'CHD8': 8.522109920366445e-06,\n",
       " 'CSE1L': 1.8890339652969574e-08,\n",
       " 'CSNK2A1': 0.00019247686362858961,\n",
       " 'DAXX': 3.3740745498878604e-05,\n",
       " 'NCL': 1.3409000807290296e-06,\n",
       " 'NOC2L': 5.307164497194313e-06,\n",
       " 'PLK1': 7.295527266933368e-06,\n",
       " 'VRK1': 7.883453284246696e-07,\n",
       " 'XPO1': 1.6459193780890785e-08,\n",
       " 'CCNA2': 3.5702295719252706e-05,\n",
       " 'CCNB1': 1.8079893257179908e-05,\n",
       " 'CDKN2A': 0.00011961545983524085,\n",
       " 'MCM5': 3.3439849346989614e-05,\n",
       " 'STK11': 2.953191637473529e-05,\n",
       " 'AURKA': 1.6061961577564404e-05,\n",
       " 'AURKB': 0.0001507316136540888}"
      ]
     },
     "execution_count": 20,
     "metadata": {},
     "output_type": "execute_result"
    }
   ],
   "source": [
    "significant_all_mut_wt = {}\n",
    "# Bonferroni correction of p-value significance cutoff to account for multiple hypothesis testing\n",
    "pcutoff = 0.05 / len(interProtList)\n",
    "\n",
    "for protein in interProtList:\n",
    "    if (protein != 'idx') and (protein != gene) and protein in proteomics.columns:\n",
    "        # Create dataframe with mutation status of TP53 with proteomics of the given protein\n",
    "        p53_mutations_protein = CPTAC.compare_mutations(proteomics, protein, gene)\n",
    "        # Create a column showing the location of TP53 mutation\n",
    "        p53_mutations_protein['Within_Hotspot'] = False\n",
    "        p53_mutations_protein.loc[hotspot_patients, 'Within_Hotspot'] = True\n",
    "        p53_mutations_protein.loc[p53_mutations_protein['Mutation'] == 'Wildtype', 'Within_Hotspot'] = 'Wildtype'\n",
    "        p53_mutations_protein = p53_mutations_protein.loc[p53_mutations_protein['Patient_Type'] == 'Tumor'].dropna(axis=0)\n",
    "        # Perform the ttest\n",
    "        mutated_tp53 = p53_mutations_protein.loc[p53_mutations_protein['Within_Hotspot'] != 'Wildtype']\n",
    "        wt_tp53 = p53_mutations_protein.loc[p53_mutations_protein['Within_Hotspot'] == 'Wildtype']\n",
    "        if len(mutated_tp53) < 2: continue\n",
    "        ttest = scipy.stats.ttest_ind(mutated_tp53[protein], wt_tp53[protein])\n",
    "        if ttest[1] <= pcutoff:\n",
    "            significant_all_mut_wt[protein] = ttest[1]\n",
    "            \n",
    "significant_all_mut_wt"
   ]
  },
  {
   "cell_type": "markdown",
   "metadata": {},
   "source": [
    "### Mutations outside of the hotspot vs. cancer wildtype"
   ]
  },
  {
   "cell_type": "code",
   "execution_count": 21,
   "metadata": {},
   "outputs": [
    {
     "data": {
      "text/plain": [
       "{'CABLES1': 7.106237044120236e-05,\n",
       " 'CHD8': 3.0756599349456866e-05,\n",
       " 'CSE1L': 1.853238564488548e-06,\n",
       " 'NCL': 9.564339899364772e-05,\n",
       " 'XPO1': 5.556336118188905e-05}"
      ]
     },
     "execution_count": 21,
     "metadata": {},
     "output_type": "execute_result"
    }
   ],
   "source": [
    "significant_nonhtspt_wt = {}\n",
    "pcutoff = 0.05 / len(interProtList)\n",
    "\n",
    "for protein in interProtList:\n",
    "    if (protein != 'idx') and (protein != gene) and protein in proteomics.columns:\n",
    "        p53_mutations_protein = CPTAC.compare_mutations(proteomics, protein, gene)\n",
    "        p53_mutations_protein['Within_Hotspot'] = False\n",
    "        p53_mutations_protein.loc[hotspot_patients, 'Within_Hotspot'] = True\n",
    "        p53_mutations_protein.loc[p53_mutations_protein['Mutation'] == 'Wildtype', 'Within_Hotspot'] = 'Wildtype'\n",
    "        p53_mutations_protein = p53_mutations_protein.loc[p53_mutations_protein['Patient_Type'] == 'Tumor'].dropna(axis=0)\n",
    "        mutated = p53_mutations_protein.loc[p53_mutations_protein['Within_Hotspot'] == False]\n",
    "        wt = p53_mutations_protein.loc[p53_mutations_protein['Within_Hotspot'] == 'Wildtype']\n",
    "        if len(mutated) < 2: continue\n",
    "        ttest = scipy.stats.ttest_ind(mutated[protein], wt[protein])\n",
    "        if ttest[1] <= pcutoff:\n",
    "            significant_nonhtspt_wt[protein] = ttest[1]\n",
    "            \n",
    "significant_nonhtspt_wt"
   ]
  },
  {
   "cell_type": "markdown",
   "metadata": {},
   "source": [
    "### Hotspot mutation vs. cancer wildtype"
   ]
  },
  {
   "cell_type": "code",
   "execution_count": 24,
   "metadata": {},
   "outputs": [
    {
     "data": {
      "text/plain": [
       "{'CSE1L': 1.239778454281685e-05,\n",
       " 'DAXX': 7.456989559161801e-05,\n",
       " 'NCL': 7.334809994456111e-05,\n",
       " 'PIAS2': 7.714617077228407e-05,\n",
       " 'VRK1': 1.567520315667473e-05,\n",
       " 'XPO1': 1.876559260610166e-06,\n",
       " 'AURKA': 2.218884225024604e-06}"
      ]
     },
     "execution_count": 24,
     "metadata": {},
     "output_type": "execute_result"
    }
   ],
   "source": [
    "significant_htspt_wt = {}\n",
    "# Bonferroni correction of p-value significance cutoff to account for multiple hypothesis testing\n",
    "pcutoff = 0.05 / len(interProtList)\n",
    "\n",
    "for protein in interProtList:\n",
    "    if (protein != 'idx') and (protein != gene) and protein in proteomics.columns:\n",
    "        # Create dataframe with mutation status of TP53 with proteomics of the given protein\n",
    "        p53_mutations_protein = CPTAC.compare_mutations(proteomics, protein, gene)\n",
    "        # Create a column showing the location of TP53 mutation\n",
    "        p53_mutations_protein['Within_Hotspot'] = False\n",
    "        p53_mutations_protein.loc[hotspot_patients, 'Within_Hotspot'] = True\n",
    "        p53_mutations_protein.loc[p53_mutations_protein['Mutation'] == 'Wildtype', 'Within_Hotspot'] = 'Wildtype'\n",
    "        p53_mutations_protein = p53_mutations_protein.loc[p53_mutations_protein['Patient_Type'] == 'Tumor'].dropna(axis=0)\n",
    "        # Perform the ttest\n",
    "        hotspot_tp53 = p53_mutations_protein.loc[p53_mutations_protein['Within_Hotspot'] == True]\n",
    "        other_mut_tp53 = p53_mutations_protein.loc[p53_mutations_protein['Within_Hotspot'] == 'Wildtype']\n",
    "        if len(hotspot_tp53) < 2 or len(other_mut_tp53) < 2: continue\n",
    "        ttest = scipy.stats.ttest_ind(hotspot_tp53[protein], other_mut_tp53[protein])\n",
    "        # Print significant values\n",
    "        if ttest[1] <= pcutoff:\n",
    "            significant_htspt_wt[protein] = ttest[1]\n",
    "            \n",
    "significant_htspt_wt"
   ]
  },
  {
   "cell_type": "markdown",
   "metadata": {},
   "source": [
    "### Hotspot mutations vs other mutations"
   ]
  },
  {
   "cell_type": "code",
   "execution_count": 23,
   "metadata": {},
   "outputs": [
    {
     "data": {
      "text/plain": [
       "{}"
      ]
     },
     "execution_count": 23,
     "metadata": {},
     "output_type": "execute_result"
    }
   ],
   "source": [
    "significant_htspt_nonhtspt = {}\n",
    "# Bonferroni correction of p-value significance cutoff to account for multiple hypothesis testing\n",
    "pcutoff = 0.05 / len(proteomics.columns)\n",
    "\n",
    "for protein in interProtList:\n",
    "    if (protein != 'idx') and (protein != gene) and protein in proteomics.columns:\n",
    "        # Create dataframe with mutation status of TP53 with proteomics of the given protein\n",
    "        p53_mutations_protein = CPTAC.compare_mutations(proteomics, protein, gene)\n",
    "        # Create a column showing the location of TP53 mutation\n",
    "        p53_mutations_protein['Within_Hotspot'] = False\n",
    "        p53_mutations_protein.loc[hotspot_patients, 'Within_Hotspot'] = True\n",
    "        p53_mutations_protein.loc[p53_mutations_protein['Mutation'] == 'Wildtype', 'Within_Hotspot'] = 'Wildtype'\n",
    "        p53_mutations_protein = p53_mutations_protein.loc[p53_mutations_protein['Patient_Type'] == 'Tumor'].dropna(axis=0)\n",
    "        # Perform the ttest\n",
    "        hotspot_tp53 = p53_mutations_protein.loc[p53_mutations_protein['Within_Hotspot'] == True]\n",
    "        other_mut_tp53 = p53_mutations_protein.loc[p53_mutations_protein['Within_Hotspot'] == False]\n",
    "        if len(hotspot_tp53) < 2 or len(other_mut_tp53) < 2: continue\n",
    "        ttest = scipy.stats.ttest_ind(hotspot_tp53[protein], other_mut_tp53[protein])\n",
    "        # Print significant values\n",
    "        if ttest[1] <= pcutoff:\n",
    "            significant_htspt_nonhtspt[protein] = ttest[1]\n",
    "            \n",
    "significant_htspt_nonhtspt"
   ]
  },
  {
   "cell_type": "markdown",
   "metadata": {},
   "source": [
    "### Proteins only affected when the mutation is within the hotspot"
   ]
  },
  {
   "cell_type": "code",
   "execution_count": 15,
   "metadata": {},
   "outputs": [
    {
     "data": {
      "text/plain": [
       "{}"
      ]
     },
     "execution_count": 15,
     "metadata": {},
     "output_type": "execute_result"
    }
   ],
   "source": [
    "only_htspt_known = {k:v for k,v in significant_htspt_wt.items() if k not in significant_nonhtspt_wt and k not in significant_all_mut_wt}\n",
    "only_htspt_known"
   ]
  },
  {
   "cell_type": "code",
   "execution_count": null,
   "metadata": {},
   "outputs": [],
   "source": []
  }
 ],
 "metadata": {
  "kernelspec": {
   "display_name": "Python 3",
   "language": "python",
   "name": "python3"
  },
  "language_info": {
   "codemirror_mode": {
    "name": "ipython",
    "version": 3
   },
   "file_extension": ".py",
   "mimetype": "text/x-python",
   "name": "python",
   "nbconvert_exporter": "python",
   "pygments_lexer": "ipython3",
   "version": "3.7.0"
  }
 },
 "nbformat": 4,
 "nbformat_minor": 2
}
