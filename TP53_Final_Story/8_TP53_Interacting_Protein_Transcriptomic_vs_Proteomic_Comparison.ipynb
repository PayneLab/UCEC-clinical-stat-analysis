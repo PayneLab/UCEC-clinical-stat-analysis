{
 "cells": [
  {
   "cell_type": "code",
   "execution_count": 1,
   "metadata": {},
   "outputs": [
    {
     "name": "stdout",
     "output_type": "stream",
     "text": [
      "Welcome to the CPTAC data service package. This import contains\n",
      "information about the package. In order to access a specific data set,\n",
      "import a CPTAC subfolder by either 'import CPTAC.DataName' or 'from\n",
      "CPTAC import DataName'.\n",
      "Loading Endometrial CPTAC data:\n",
      "Loading Dictionary...\n",
      "Loading Clinical Data...\n",
      "Loading Acetylation Proteomics Data...\n",
      "Loading Proteomics Data...\n",
      "Loading Transcriptomics Data...\n",
      "Loading CNA Data...\n",
      "Loading Phosphoproteomics Data...\n",
      "Loading Somatic Mutation Data...\n",
      "\n",
      " ******PLEASE READ******\n",
      "WARNING: This data is under a publication embargo until July 1, 2019.\n",
      "CPTAC is a community resource project and data are made available\n",
      "rapidly after generation for community research use. The embargo\n",
      "allows exploring and utilizing the data, but the data may not be in a\n",
      "publication until July 1, 2019. Please see\n",
      "https://proteomics.cancer.gov/data-portal/about/data-use-agreement or\n",
      "enter embargo() to open the webpage for more details.\n"
     ]
    }
   ],
   "source": [
    "import pandas as pd\n",
    "import numpy as np\n",
    "import re\n",
    "import scipy.stats\n",
    "import statsmodels.stats.multitest\n",
    "import matplotlib.pyplot as plt\n",
    "import seaborn as sns\n",
    "import CPTAC.Endometrial as CPTAC"
   ]
  },
  {
   "cell_type": "code",
   "execution_count": 2,
   "metadata": {},
   "outputs": [],
   "source": [
    "gene = 'TP53'\n",
    "somatic = CPTAC.get_somatic()\n",
    "proteomics = CPTAC.get_proteomics()\n",
    "transcriptomics = CPTAC.get_transcriptomics()\n",
    "\n",
    "hotspot_mutations = ['p.P250L', 'p.R248W', 'p.S241C', 'p.241del','p.K164E', 'p.R249S', 'p.R273H', 'p.R282W',\n",
    "                    'p.S127Y', 'p.G244D', 'p.A159P']\n",
    "\n",
    "mutated_hotspot = somatic.loc[(somatic['Location'].isin(hotspot_mutations)) & (somatic['Gene'] == gene)]\n",
    "\n",
    "# Get a list of patient identifiers for those who have mutations in the hotspot\n",
    "hotspot_patients_both_keys = mutated_hotspot[['Clinical_Patient_Key', 'Patient_Id']]\n",
    "hotspot_patients = hotspot_patients_both_keys['Clinical_Patient_Key']"
   ]
  },
  {
   "cell_type": "code",
   "execution_count": 3,
   "metadata": {},
   "outputs": [
    {
     "name": "stdout",
     "output_type": "stream",
     "text": [
      "231\n",
      "217\n"
     ]
    }
   ],
   "source": [
    "interProtList = ['AIMP2', 'ARIH2', 'ARRB1', 'ASH2L', 'ATG7', 'AXIN1', 'BANP', 'BCL2', 'BCL2L1', 'BCR', 'BHLHE40', 'BRCA2',\n",
    "           'BRD7', 'BTBD2', 'BTRC', 'CABLES1', 'CARM1', 'CCDC106', 'CDKN1A', 'CEBPB', 'CHD8', 'CREBBP', 'CSE1L', 'CSNK2A1', 'CUL7',\n",
    "           'CUL9', 'CXXC1', 'DAXX', 'DDX17', 'DDX5', 'DROSHA', 'DUSP26', 'DVL2', 'E6', 'EP300', 'ETS2', 'FBXO11',\n",
    "           'FOXO3', 'GSK3B', 'GTF2H1', 'HDAC1', 'HIPK1', 'HIPK2', 'HMGB1', 'HNRNPK', 'HRMT1L2', 'HSP82', 'HSPA1L', 'HSPA9', 'HSPB1',\n",
    "           'HTT', 'HUWE1', 'IFI16', 'IFI205B', 'ING4', 'IKBKB', 'IP6K2', 'JMJD6', 'KAT5', 'KAT8', 'KDM1A', 'KMT2E', 'LAMA4',\n",
    "           'MAGEA2B', 'MAGEC2', 'MAP1B', 'MAPK11', 'MAPKAPK5', 'MDM2', 'MDM4', 'MKRN1', 'MPDZ', 'MT1A', 'NCL', 'NCOR2',\n",
    "           'NFYA', 'NFYB', 'NOC2L', 'NOL3', 'NPM1', 'NR0B2', 'NR4A1', 'NRDC', 'NSP1', 'NUAK1', 'NUMB', 'OTUB1', \n",
    "           'PARD3', 'PARP1', 'PBK', 'PHB', 'PIAS1', 'PIAS2', 'PIAS4', 'PIN1', 'PLK1', 'PML', 'PPIF', 'PPP1CC',\n",
    "           'PPP1R13L', 'PPP2R1A', 'PPP2R5C', 'PRKCD', 'PSME3', 'PTK2', 'RAD51', 'RBPJ', 'RCHY1', 'RFWD3', 'RING1',\n",
    "           'RPS3', 'RYBP', 'S100A1', 'S100A2', 'S100A4', 'S100B', 'SAFB', 'SETD7', 'SFN', 'SIN3A', 'SIRT1', 'SMAD2',\n",
    "           'SMYD2', 'SNAT1', 'SOX4', 'SP1', 'SREBF2', 'SRPK1', 'SUMO1', 'SYVN1', 'TAF1', 'TBP', 'TCF4', 'TOE1', 'TP53BP1',\n",
    "           'TP53BP2', 'TP53INP1', 'TP63', 'TPT1', 'TRIM24', 'TWIST1', 'UBC', 'UBE3A', 'UHRF2', 'USP42', 'USP7', 'VDR', 'VRK1',\n",
    "           'WRN', 'WWOX', 'XPO1', 'XRCC6', 'YWHAG', 'YWHAZ', 'ZNF420', 'ATM', 'BAX', 'BCL2L11', 'CCNA1', 'CCNA2', 'CCNB1', \n",
    "           'CCNB2', 'CCND1', 'CCND3', 'CCNE1', 'CCNE2', 'CDC25A', 'CDC6', 'CDK2', 'CDKN1B', 'CDKN2A', 'CHEK1', \n",
    "           'CHEK2', 'CITED2', 'CKS1B', 'MCM5', 'MRE11A', 'PCNA', 'RB1', 'ARMC10', 'BANP', 'CDKN2AIP', 'NUAK1', 'STK11',\n",
    "           'LKB1', 'UHRF2', 'E4F1', 'MAML1', 'MKRN1', 'PML', 'FBXO42', 'ATM', 'PP2A', 'PPP2R5C', 'PPP2R2A', 'AURKA', 'DAXX',\n",
    "           'BRD7', 'TRIM24', 'L3MBTL1', 'GRK5', 'CAK', 'CDK7', 'MAT1', 'CDK5', 'AURKB', 'SETD2', 'UHRF2', 'NOC2L', 'PTK2',\n",
    "           'FAK1', 'PTK2B', 'PYK2', 'PRKCG', 'PPIF', 'SNAI1', 'KAT6A', 'ANKRD2', 'RFFL', 'RNF34', 'MTA1', 'COP1', 'CCAR2',\n",
    "           'MORC3', 'POU4F2', 'NOP53', 'AFG1L', 'UBD', 'TAF6', 'FATS', 'C10ORF90']\n",
    "duplicate_len = len(interProtList)\n",
    "interProtList = np.array(interProtList)\n",
    "interProtList = np.unique(interProtList)\n",
    "unique_len = len(interProtList)\n",
    "interProtList = interProtList.tolist()\n",
    "print(duplicate_len)\n",
    "print(unique_len)"
   ]
  },
  {
   "cell_type": "markdown",
   "metadata": {},
   "source": [
    "# Comparison of Transcriptomic data and Proteomic data"
   ]
  },
  {
   "cell_type": "markdown",
   "metadata": {},
   "source": [
    "### All Mutations vs. Wildtype"
   ]
  },
  {
   "cell_type": "code",
   "execution_count": 4,
   "metadata": {},
   "outputs": [
    {
     "name": "stdout",
     "output_type": "stream",
     "text": [
      "{'AURKA': 5.866110979625483, 'AURKB': 3.8424162811566838, 'CHD8': 4.44161596807808, 'CSE1L': 5.402486879286059, 'DAXX': 5.551628896552229, 'PLK1': 4.40463916067155, 'XPO1': 4.3694509994659985}\n",
      "{'AURKA': 4.516151943810517, 'AURKB': 4.025603454556902, 'CHD8': 4.365633574908367, 'CSE1L': 5.401747167638314, 'DAXX': 4.197609155092577, 'PLK1': 4.207271113809839, 'XPO1': 5.667695104485602}\n"
     ]
    }
   ],
   "source": [
    "proteomics_all_mut_wt_tstat = {}\n",
    "transcriptomics_all_mut_wt_tstat = {}\n",
    "pcutoff = 0.05 / len(interProtList)\n",
    "\n",
    "for protein in interProtList:\n",
    "    if (protein != 'idx') and (protein != gene) and protein in proteomics.columns:\n",
    "        # Create dataframe with mutation status of TP53 with proteomics of the given protein\n",
    "        p53_mutations_protein = CPTAC.compare_mutations(proteomics, protein, gene)\n",
    "        # Create a column showing the location of TP53 mutation\n",
    "        p53_mutations_protein['Within_Hotspot'] = False\n",
    "        p53_mutations_protein.loc[hotspot_patients, 'Within_Hotspot'] = True\n",
    "        p53_mutations_protein.loc[p53_mutations_protein['Mutation'] == 'Wildtype', 'Within_Hotspot'] = 'Wildtype'\n",
    "        p53_mutations_protein = p53_mutations_protein.loc[p53_mutations_protein['Sample_Status'] == 'Tumor'].dropna(axis=0)\n",
    "        # Perform the ttest\n",
    "        mutated_tp53 = p53_mutations_protein.loc[p53_mutations_protein['Within_Hotspot'] != 'Wildtype']\n",
    "        wt_tp53 = p53_mutations_protein.loc[p53_mutations_protein['Within_Hotspot'] == 'Wildtype']\n",
    "        if len(mutated_tp53) < 2: continue\n",
    "        ttest = scipy.stats.ttest_ind(mutated_tp53[protein], wt_tp53[protein])\n",
    "        if ttest[1] <= pcutoff:\n",
    "            proteomics_all_mut_wt_tstat[protein] = ttest[0]\n",
    "            \n",
    "for protein in interProtList:\n",
    "    if (protein != 'idx') and (protein != gene) and protein in transcriptomics.columns:\n",
    "        # Create dataframe with mutation status of TP53 with proteomics of the given protein\n",
    "        p53_mutations_protein = CPTAC.compare_mutations(transcriptomics, protein, gene)\n",
    "        # Create a column showing the location of TP53 mutation\n",
    "        p53_mutations_protein['Within_Hotspot'] = False\n",
    "        p53_mutations_protein.loc[hotspot_patients, 'Within_Hotspot'] = True\n",
    "        p53_mutations_protein.loc[p53_mutations_protein['Mutation'] == 'Wildtype', 'Within_Hotspot'] = 'Wildtype'\n",
    "        p53_mutations_protein = p53_mutations_protein.loc[p53_mutations_protein['Sample_Status'] == 'Tumor'].dropna(axis=0)\n",
    "        # Perform the ttest\n",
    "        mutated_tp53 = p53_mutations_protein.loc[p53_mutations_protein['Within_Hotspot'] != 'Wildtype']\n",
    "        wt_tp53 = p53_mutations_protein.loc[p53_mutations_protein['Within_Hotspot'] == 'Wildtype']\n",
    "        if len(mutated_tp53) < 2: continue\n",
    "        ttest = scipy.stats.ttest_ind(mutated_tp53[protein], wt_tp53[protein])\n",
    "        if ttest[1] <= pcutoff:\n",
    "            transcriptomics_all_mut_wt_tstat[protein] = ttest[0]\n",
    "        \n",
    "proteomics_shared_tstat = {}\n",
    "transcriptomics_shared_tstat = {}\n",
    "\n",
    "for protein in proteomics_all_mut_wt_tstat:\n",
    "    if protein in transcriptomics_all_mut_wt_tstat:\n",
    "        proteomics_shared_tstat[protein] = proteomics_all_mut_wt_tstat[protein]\n",
    "        transcriptomics_shared_tstat[protein] = transcriptomics_all_mut_wt_tstat[protein]\n",
    "    \n",
    "print(transcriptomics_shared_tstat)\n",
    "print(proteomics_shared_tstat)"
   ]
  },
  {
   "cell_type": "markdown",
   "metadata": {},
   "source": [
    "### Non-Hotspot vs. Wildtype"
   ]
  },
  {
   "cell_type": "code",
   "execution_count": 5,
   "metadata": {},
   "outputs": [
    {
     "name": "stdout",
     "output_type": "stream",
     "text": [
      "{'CHD8': 5.158630450453913}\n",
      "{'CHD8': 4.4435806856212015}\n"
     ]
    }
   ],
   "source": [
    "proteomics_nonhs_wt_tstat = {}\n",
    "transcriptomics_nonhs_wt_tstat = {}\n",
    "pcutoff = 0.05 / len(interProtList)\n",
    "\n",
    "for protein in interProtList:\n",
    "    if (protein != 'idx') and (protein != gene) and protein in proteomics.columns:\n",
    "        p53_mutations_protein = CPTAC.compare_mutations(proteomics, protein, gene)\n",
    "        p53_mutations_protein['Within_Hotspot'] = False\n",
    "        p53_mutations_protein.loc[hotspot_patients, 'Within_Hotspot'] = True\n",
    "        p53_mutations_protein.loc[p53_mutations_protein['Mutation'] == 'Wildtype', 'Within_Hotspot'] = 'Wildtype'\n",
    "        p53_mutations_protein = p53_mutations_protein.loc[p53_mutations_protein['Sample_Status'] == 'Tumor'].dropna(axis=0)\n",
    "        mutated = p53_mutations_protein.loc[p53_mutations_protein['Within_Hotspot'] == False]\n",
    "        wt = p53_mutations_protein.loc[p53_mutations_protein['Within_Hotspot'] == 'Wildtype']\n",
    "        if len(mutated) < 2: continue\n",
    "        ttest = scipy.stats.ttest_ind(mutated[protein], wt[protein])\n",
    "        if ttest[1] <= pcutoff:\n",
    "            proteomics_nonhs_wt_tstat[protein] = ttest[0]\n",
    "            \n",
    "for protein in interProtList:\n",
    "    if (protein != 'idx') and (protein != gene) and protein in transcriptomics.columns:\n",
    "        p53_mutations_protein = CPTAC.compare_mutations(transcriptomics, protein, gene)\n",
    "        p53_mutations_protein['Within_Hotspot'] = False\n",
    "        p53_mutations_protein.loc[hotspot_patients, 'Within_Hotspot'] = True\n",
    "        p53_mutations_protein.loc[p53_mutations_protein['Mutation'] == 'Wildtype', 'Within_Hotspot'] = 'Wildtype'\n",
    "        p53_mutations_protein = p53_mutations_protein.loc[p53_mutations_protein['Sample_Status'] == 'Tumor'].dropna(axis=0)\n",
    "        mutated = p53_mutations_protein.loc[p53_mutations_protein['Within_Hotspot'] == False]\n",
    "        wt = p53_mutations_protein.loc[p53_mutations_protein['Within_Hotspot'] == 'Wildtype']\n",
    "        if len(mutated) < 2: continue\n",
    "        ttest = scipy.stats.ttest_ind(mutated[protein], wt[protein])\n",
    "        if ttest[1] <= pcutoff:\n",
    "            transcriptomics_nonhs_wt_tstat[protein] = ttest[0]\n",
    "        \n",
    "proteomics_shared_tstat = {}\n",
    "transcriptomics_shared_tstat = {}\n",
    "\n",
    "for protein in proteomics_nonhs_wt_tstat:\n",
    "    if protein in transcriptomics_nonhs_wt_tstat:\n",
    "        proteomics_shared_tstat[protein] = proteomics_nonhs_wt_tstat[protein]\n",
    "        transcriptomics_shared_tstat[protein] = transcriptomics_nonhs_wt_tstat[protein]\n",
    "\n",
    "print(transcriptomics_shared_tstat)\n",
    "print(proteomics_shared_tstat)"
   ]
  },
  {
   "cell_type": "markdown",
   "metadata": {},
   "source": [
    "### Hotspot vs. Wildtype"
   ]
  },
  {
   "cell_type": "code",
   "execution_count": 7,
   "metadata": {},
   "outputs": [
    {
     "name": "stdout",
     "output_type": "stream",
     "text": [
      "{'AURKA': 5.04423509098076, 'CSE1L': 4.626510048981035, 'XPO1': 4.2469470217267675}\n",
      "{'AURKA': 5.726277340642757, 'CSE1L': 4.200504464536369, 'XPO1': 4.567858513862131}\n"
     ]
    }
   ],
   "source": [
    "proteomics_htspt_wt_tstat = {}\n",
    "transcriptomics_htspt_wt_tstat = {}\n",
    "pcutoff = 0.05 / len(interProtList)\n",
    "\n",
    "for protein in interProtList:\n",
    "    if (protein != 'idx') and (protein != gene) and protein in proteomics.columns:\n",
    "        # Create dataframe with mutation status of TP53 with proteomics of the given protein\n",
    "        p53_mutations_protein = CPTAC.compare_mutations(proteomics, protein, gene)\n",
    "        # Create a column showing the location of TP53 mutation\n",
    "        p53_mutations_protein['Within_Hotspot'] = False\n",
    "        p53_mutations_protein.loc[hotspot_patients, 'Within_Hotspot'] = True\n",
    "        p53_mutations_protein.loc[p53_mutations_protein['Mutation'] == 'Wildtype', 'Within_Hotspot'] = 'Wildtype'\n",
    "        p53_mutations_protein = p53_mutations_protein.loc[p53_mutations_protein['Sample_Status'] == 'Tumor'].dropna(axis=0)\n",
    "        # Perform the ttest\n",
    "        hotspot_tp53 = p53_mutations_protein.loc[p53_mutations_protein['Within_Hotspot'] == True]\n",
    "        other_mut_tp53 = p53_mutations_protein.loc[p53_mutations_protein['Within_Hotspot'] == 'Wildtype']\n",
    "        if len(hotspot_tp53) < 2 or len(other_mut_tp53) < 2: continue\n",
    "        ttest = scipy.stats.ttest_ind(hotspot_tp53[protein], other_mut_tp53[protein])\n",
    "        # Print significant values\n",
    "        if ttest[1] <= pcutoff:\n",
    "            proteomics_htspt_wt_tstat[protein] = ttest[0]\n",
    "            \n",
    "for protein in interProtList:\n",
    "    if (protein != 'idx') and (protein != gene) and protein in transcriptomics.columns:\n",
    "        # Create dataframe with mutation status of TP53 with proteomics of the given protein\n",
    "        p53_mutations_protein = CPTAC.compare_mutations(transcriptomics, protein, gene)\n",
    "        # Create a column showing the location of TP53 mutation\n",
    "        p53_mutations_protein['Within_Hotspot'] = False\n",
    "        p53_mutations_protein.loc[hotspot_patients, 'Within_Hotspot'] = True\n",
    "        p53_mutations_protein.loc[p53_mutations_protein['Mutation'] == 'Wildtype', 'Within_Hotspot'] = 'Wildtype'\n",
    "        p53_mutations_protein = p53_mutations_protein.loc[p53_mutations_protein['Sample_Status'] == 'Tumor'].dropna(axis=0)\n",
    "        # Perform the ttest\n",
    "        hotspot_tp53 = p53_mutations_protein.loc[p53_mutations_protein['Within_Hotspot'] == True]\n",
    "        other_mut_tp53 = p53_mutations_protein.loc[p53_mutations_protein['Within_Hotspot'] == 'Wildtype']\n",
    "        if len(hotspot_tp53) < 2 or len(other_mut_tp53) < 2: continue\n",
    "        ttest = scipy.stats.ttest_ind(hotspot_tp53[protein], other_mut_tp53[protein])\n",
    "        # Print significant values\n",
    "        if ttest[1] <= pcutoff:\n",
    "            transcriptomics_htspt_wt_tstat[protein] = ttest[0]\n",
    "        \n",
    "proteomics_shared_tstat = {}\n",
    "transcriptomics_shared_tstat = {}\n",
    "\n",
    "for protein in proteomics_htspt_wt_tstat:\n",
    "    if protein in transcriptomics_htspt_wt_tstat:\n",
    "        proteomics_shared_tstat[protein] = proteomics_htspt_wt_tstat[protein]\n",
    "        transcriptomics_shared_tstat[protein] = transcriptomics_htspt_wt_tstat[protein]\n",
    "\n",
    "print(transcriptomics_shared_tstat)\n",
    "print(proteomics_shared_tstat)"
   ]
  },
  {
   "cell_type": "code",
   "execution_count": null,
   "metadata": {},
   "outputs": [],
   "source": []
  }
 ],
 "metadata": {
  "kernelspec": {
   "display_name": "Python 3",
   "language": "python",
   "name": "python3"
  },
  "language_info": {
   "codemirror_mode": {
    "name": "ipython",
    "version": 3
   },
   "file_extension": ".py",
   "mimetype": "text/x-python",
   "name": "python",
   "nbconvert_exporter": "python",
   "pygments_lexer": "ipython3",
   "version": "3.7.1"
  }
 },
 "nbformat": 4,
 "nbformat_minor": 2
}
