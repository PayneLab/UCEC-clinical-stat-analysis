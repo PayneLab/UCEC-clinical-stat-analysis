{
 "cells": [
  {
   "cell_type": "markdown",
   "metadata": {},
   "source": [
    "<b> Standard imports for playing with and plotting data frames. </b>"
   ]
  },
  {
   "cell_type": "code",
   "execution_count": 1,
   "metadata": {},
   "outputs": [],
   "source": [
    "import pandas as pd\n",
    "import numpy as np\n",
    "import scipy.stats\n",
    "import matplotlib.pyplot as plt\n",
    "import seaborn as sns\n",
    "import re\n",
    "import statsmodels.stats.multitest\n",
    "import random"
   ]
  },
  {
   "cell_type": "markdown",
   "metadata": {},
   "source": [
    "<b> Import CPTAC data </b>"
   ]
  },
  {
   "cell_type": "code",
   "execution_count": 3,
   "metadata": {},
   "outputs": [
    {
     "name": "stdout",
     "output_type": "stream",
     "text": [
      "Loading Endometrial CPTAC data:\n",
      "Loading Dictionary...\n",
      "Loading Clinical Data...\n",
      "Loading Proteomics Data...\n",
      "Loading Transcriptomics Data...\n",
      "Loading CNA Data...\n",
      "Loading Phosphoproteomics Data...\n",
      "Loading Somatic Mutation Data...\n",
      "\n",
      " ******PLEASE READ******\n",
      "WARNING: This data is under a publication embargo until July 1, 2019.\n",
      "CPTAC is a community resource project and data are made available\n",
      "rapidly after generation for community research use. The embargo\n",
      "allows exploring and utilizing the data, but the data may not be in a\n",
      "publication until July 1, 2019. Please see\n",
      "https://proteomics.cancer.gov/data-portal/about/data-use-agreement or\n",
      "enter embargo() to open the webpage for more details.\n"
     ]
    }
   ],
   "source": [
    "import CPTAC.Endometrial as CPTAC"
   ]
  },
  {
   "cell_type": "code",
   "execution_count": 4,
   "metadata": {},
   "outputs": [],
   "source": [
    "somatic_mutations = CPTAC.get_somatic()\n",
    "proteomics = CPTAC.get_proteomics()\n",
    "phos = CPTAC.get_phosphoproteomics()\n",
    "\n",
    "random.seed(0)"
   ]
  },
  {
   "cell_type": "markdown",
   "metadata": {},
   "source": [
    "## Get the patients who have mutations in both PTEN and PIK3CA "
   ]
  },
  {
   "cell_type": "code",
   "execution_count": 5,
   "metadata": {},
   "outputs": [
    {
     "name": "stdout",
     "output_type": "stream",
     "text": [
      "23\n"
     ]
    }
   ],
   "source": [
    "#create a dataframe with both mutations included \n",
    "\n",
    "mutation_1 = 'ARID1A'\n",
    "mutation_2 = 'PIK3CA'\n",
    "common_mutated = somatic_mutations.loc[(somatic_mutations['Gene'] == mutation_1) | (somatic_mutations['Gene'] == mutation_2)]\n",
    "\n",
    "mutations_first = somatic_mutations.loc[(somatic_mutations['Gene'] == mutation_1)]\n",
    "#print(mutations_first[1:100])\n",
    "#print(mutations_first['Clinical_Patient_Key'])\n",
    "\n",
    "patients_first = mutations_first['Clinical_Patient_Key']\n",
    "first_list = patients_first.tolist()\n",
    "mutations_second = somatic_mutations.loc[somatic_mutations['Gene'] == mutation_2]\n",
    "#print(mutations_second)\n",
    "patients_second = mutations_second['Clinical_Patient_Key']\n",
    "second_list = patients_second.tolist()\n",
    "\n",
    "#get the number of unique patients in the pik3ca mutation list\n",
    "unique_1 = list()\n",
    "for person in first_list:\n",
    "    if person not in unique_1:\n",
    "        unique_1.append(person)\n",
    "\n",
    "#check for the overlaps \n",
    "common_list = list()\n",
    "for person in second_list:\n",
    "    if person in unique_1:\n",
    "        if person not in common_list:\n",
    "            common_list.append(person)\n",
    "\n",
    "print(len(common_list))\n",
    "#print(common_list)"
   ]
  },
  {
   "cell_type": "markdown",
   "metadata": {},
   "source": [
    "# Compare AKT1 Phosphoproteomics "
   ]
  },
  {
   "cell_type": "markdown",
   "metadata": {},
   "source": [
    "### Create a dataframe showing PTEN and PIK3CA mutations "
   ]
  },
  {
   "cell_type": "code",
   "execution_count": 9,
   "metadata": {},
   "outputs": [],
   "source": [
    "def combine_dataframes(gene_1, gene_2, site, dataframe):\n",
    "\n",
    "    #create a dataframe for PIK3CA mutations\n",
    "    phosdf_pik = CPTAC.compare_mutations(dataframe, site, gene_1)\n",
    "    phosdf_pik = phosdf_pik.rename(index=str, columns={'Mutation' : 'Gene_1_Mutation'})\n",
    "\n",
    "    #create a dataframe for PTEN mutations\n",
    "    phosdf_pten = CPTAC.compare_mutations(dataframe, site, gene_2)\n",
    "    phosdf_pten = phosdf_pten.rename(index=str, columns={'Mutation' : 'Gene_2_Mutation'})\n",
    "\n",
    "    #extract the mutation column in PTEN that will be added to a combined dataframe\n",
    "    pten_col = phosdf_pten['Gene_2_Mutation']\n",
    "\n",
    "    #add the PTEN column to create a combined dataframe \n",
    "    phos_combined = phosdf_pik\n",
    "    phos_combined['Gene_2_Mutation'] = pten_col\n",
    "\n",
    "    #create new column to indicate if patient has mutations in both PIK3CA and PTEN\n",
    "    phos_combined['Both_Mutations'] = False\n",
    "    phos_combined.loc[common_list, 'Both_Mutations'] = True\n",
    "    phos_combined.loc[(phos_combined['Gene_1_Mutation'] == 'Wildtype') & (phos_combined['Gene_2_Mutation'] == 'Wildtype'), 'Both_Mutations'] = 'Wildtype'\n",
    "    #phos_combined.loc[(phos_combined['Gene_1_Mutation'] == 'Wildtype') | (phos_combined['Gene_2_Mutation'] == 'Wildtype') ]\n",
    "    phos_combined.loc[(phos_combined['Gene_1_Mutation'] == 'Wildtype') & (phos_combined['Gene_2_Mutation'] != 'Wildtype'), 'Both_Mutations'] = (gene_2 + '_Only')\n",
    "    #print(phos_combined)\n",
    "    phos_combined.loc[(phos_combined['Gene_1_Mutation'] != 'Wildtype') & (phos_combined['Gene_2_Mutation'] == 'Wildtype'), 'Both_Mutations'] =  (gene_1 + '_Only')\n",
    "    #print(phos_combined)\n",
    "    #take out the control\n",
    "    phos_combined.loc[phos_combined['Patient_Type'] == 'Normal', 'Both_Mutations'] = 'Normal'\n",
    "    \n",
    "    return phos_combined\n"
   ]
  },
  {
   "cell_type": "markdown",
   "metadata": {},
   "source": [
    "### Both Mutations vs. Non-tumor"
   ]
  },
  {
   "cell_type": "code",
   "execution_count": 10,
   "metadata": {},
   "outputs": [
    {
     "name": "stdout",
     "output_type": "stream",
     "text": [
      "AKT1-S124   5.774193250282809e-06\n",
      "AKT1-S126   3.129525343684431e-06\n",
      "AKT1-S129   1.2219753954756862e-06\n",
      "AKT1S1-S108   0.0007039053545846629\n",
      "AKT1S1-S203   0.00020559898741095528\n"
     ]
    }
   ],
   "source": [
    "gene_1 = 'ARID1A'\n",
    "gene_2 = 'PIK3CA'\n",
    "protein = 'AKT1'\n",
    "\n",
    "phos_df = CPTAC.compare_mutations(phos, protein, gene_1)\n",
    "#print(phos_df)\n",
    "\n",
    "cutoff = 0.05/len(phos_df.columns)\n",
    "\n",
    "\n",
    "#phos_df = phos_df['Patient_Type'].dropna(axis=0)\n",
    "for site in phos_df.columns:\n",
    "    if (site is not 'Mutation' and site is not 'Patient_Type'):\n",
    "        \n",
    "        sitedf = combine_dataframes(gene_1, gene_2,  site, phos)\n",
    "        #print(sitedf)\n",
    "        #print(sitedf)\n",
    "        #mutateddf = sitedf.loc[(sitedf['Gene_1_Mutation'] != 'Wildtype') | (sitedf['Gene_2_Mutation'] != 'Wildtype') ].dropna(axis=1)\n",
    "        #print(mutateddf)\n",
    "        mutateddf = sitedf.loc[sitedf['Both_Mutations'] == True].dropna(axis = 0)\n",
    "        #print(mutateddf)\n",
    "        #print(mutateddf)\n",
    "        #print(mutateddf)\n",
    "        wtdf = sitedf.loc[(sitedf['Both_Mutations'] == 'Normal')].dropna(axis = 0)\n",
    "        \n",
    "        #print(wtdf)\n",
    "        #wtdf = sitedf.loc[sitedf['Both_Mutations'] == False].dropna(axis=0)\n",
    "        #wtdf = wtdf.loc[wtdf['Gene_1_Mutation'] == 'Wildtype']\n",
    "        #wtdf = wtdf.loc[wtdf['Gene_2_Mutation'] == 'Wildtype']\n",
    "        \n",
    "        #print(wtdf[site])\n",
    "        if site in wtdf.columns and site in mutateddf.columns:\n",
    "            ttest = scipy.stats.ttest_ind(mutateddf[site], wtdf[site])\n",
    "            #print(ttest)\n",
    "            if ttest[1] < cutoff:\n",
    "                print(site, \" \", ttest[1])\n",
    "        #else: print(\"Unsignificant Results\" , site, \" \", ttest[1])\n",
    "\n"
   ]
  },
  {
   "cell_type": "code",
   "execution_count": 18,
   "metadata": {},
   "outputs": [
    {
     "data": {
      "image/png": "[encoded data removed]",
      "text/plain": [
       "<Figure size 842.4x595.44 with 1 Axes>"
      ]
     },
     "metadata": {
      "needs_background": "light"
     },
     "output_type": "display_data"
    }
   ],
   "source": [
    "site = 'AKT1-S124'\n",
    "sitedf = combine_dataframes(gene_1, gene_2, site, phos)\n",
    "\n",
    "a4_dims = (11.7, 8.27)\n",
    "fig, ax = plt.subplots(figsize=a4_dims)\n",
    "\n",
    "boxplt = sns.boxplot(data = sitedf, x = 'Both_Mutations', y = site)\n",
    "boxplt = sns.stripplot(data = sitedf, x = 'Both_Mutations', y = site, jitter = True, color = '.3')\n",
    "plt.show()"
   ]
  },
  {
   "cell_type": "markdown",
   "metadata": {},
   "source": [
    "### Both Mutations vs. Wildtype_1 (PTEN Mutations Only)"
   ]
  },
  {
   "cell_type": "code",
   "execution_count": 13,
   "metadata": {},
   "outputs": [
    {
     "name": "stderr",
     "output_type": "stream",
     "text": [
      "/Users/emilyhosk/anaconda3/envs/research/lib/python3.7/site-packages/numpy/core/fromnumeric.py:3157: RuntimeWarning: Degrees of freedom <= 0 for slice\n",
      "  **kwargs)\n",
      "/Users/emilyhosk/anaconda3/envs/research/lib/python3.7/site-packages/numpy/core/_methods.py:132: RuntimeWarning: invalid value encountered in double_scalars\n",
      "  ret = ret.dtype.type(ret / rcount)\n"
     ]
    }
   ],
   "source": [
    "\n",
    "\n",
    "phos_df = CPTAC.compare_mutations(phos, protein, gene_1)\n",
    "#print(phos_df)\n",
    "\n",
    "cutoff = 0.05/len(phos_df.columns)\n",
    "\n",
    "for site in phos_df.columns:\n",
    "    #print(\"site: \", site)\n",
    "    if (site is not 'Mutation' and site is not 'Patient_Type'):\n",
    "        #print(site)\n",
    "        sitedf = combine_dataframes(gene_1, gene_2,  site, phos)\n",
    "        #print(sitedf)\n",
    "        #mutateddf = sitedf.loc[(sitedf['Gene_1_Mutation'] != 'Wildtype') | (sitedf['Gene_2_Mutation'] != 'Wildtype') ].dropna(axis=1)\n",
    "        #print(mutateddf)\n",
    "        mutateddf = sitedf.loc[sitedf['Both_Mutations'] == True].dropna(axis = 0)\n",
    "        #print(mutateddf)\n",
    "        #print(mutateddf)\n",
    "        wtdf = sitedf.loc[(sitedf['Both_Mutations'] == (gene_2 + '_Only'))].dropna(axis = 0)\n",
    "        #print(wtdf)\n",
    "        #print(wtdf)\n",
    "        #wtdf = sitedf.loc[sitedf['Both_Mutations'] == False].dropna(axis=0)\n",
    "        #wtdf = wtdf.loc[wtdf['Gene_1_Mutation'] == 'Wildtype']\n",
    "        #wtdf = wtdf.loc[wtdf['Gene_2_Mutation'] == 'Wildtype']\n",
    "        \n",
    "        #print(wtdf[site])\n",
    "        if site in wtdf.columns and site in mutateddf.columns:\n",
    "            ttest = scipy.stats.ttest_ind(mutateddf[site], wtdf[site])\n",
    "            #print(ttest)\n",
    "            if ttest[1] < cutoff:\n",
    "                print(site, \" \", ttest[1])\n",
    "            #else: print(\"Unsignificant Results\" , site, \" \", ttest)\n",
    "\n"
   ]
  },
  {
   "cell_type": "markdown",
   "metadata": {},
   "source": [
    "### Both Mutations vs. Wildtype_2 (PIK3CA Mutations Only)"
   ]
  },
  {
   "cell_type": "code",
   "execution_count": 14,
   "metadata": {},
   "outputs": [],
   "source": [
    "\n",
    "\n",
    "phos_df = CPTAC.compare_mutations(phos, protein, gene_1)\n",
    "#print(phos_df)\n",
    "\n",
    "cutoff = 0.05/len(phos_df.columns)\n",
    "#print(cutoff)\n",
    "\n",
    "for site in phos_df.columns:\n",
    "    if (site is not 'Mutation'and site is not 'Patient_Type'):\n",
    "        \n",
    "        sitedf = combine_dataframes(gene_1, gene_2, site, phos)\n",
    "        #print(sitedf)\n",
    "        #mutateddf = sitedf.loc[(sitedf['Gene_1_Mutation'] != 'Wildtype') | (sitedf['Gene_2_Mutation'] != 'Wildtype') ].dropna(axis=1)\n",
    "        #print(mutateddf)\n",
    "        mutateddf = sitedf.loc[sitedf['Both_Mutations'] == True].dropna(axis=0)\n",
    "        #print(mutateddf)\n",
    "        #print(mutateddf)\n",
    "        wtdf = sitedf.loc[(sitedf['Both_Mutations'] == (gene_1 + '_Only'))].dropna(axis=0)\n",
    "        \n",
    "        #print(wtdf)\n",
    "        #wtdf = sitedf.loc[sitedf['Both_Mutations'] == False].dropna(axis=0)\n",
    "        #wtdf = wtdf.loc[wtdf['Gene_1_Mutation'] == 'Wildtype']\n",
    "        #wtdf = wtdf.loc[wtdf['Gene_2_Mutation'] == 'Wildtype']\n",
    "        \n",
    "        #print(wtdf[site])\n",
    "        \n",
    "        if site in wtdf.columns and site in mutateddf.columns:\n",
    "            ttest = scipy.stats.ttest_ind(mutateddf[site], wtdf[site])\n",
    "            #print(ttest)\n",
    "            if ttest[1] < cutoff:\n",
    "                print(site, \" \", ttest[1])\n",
    "        else: print(\"Unsignificant Results\" , site, \" \", ttest[1])\n",
    "\n",
    "\n"
   ]
  },
  {
   "cell_type": "markdown",
   "metadata": {},
   "source": [
    "### Wildtype_1 vs. Wildtype_2 (PTEN Mutations Only v PIK3CA Mutations Only)"
   ]
  },
  {
   "cell_type": "code",
   "execution_count": 15,
   "metadata": {},
   "outputs": [],
   "source": [
    "\n",
    "phos_df = CPTAC.compare_mutations(phos, protein, gene_1)\n",
    "#print(phos_df)\n",
    "\n",
    "cutoff = 0.05/len(phos_df.columns)\n",
    "\n",
    "for site in phos_df.columns:\n",
    "    if (site is not 'Mutation'and site is not 'Patient_Type'):\n",
    "        \n",
    "        sitedf = combine_dataframes(gene_1, gene_2,  site, phos)\n",
    "        #print(sitedf)\n",
    "        #mutateddf = sitedf.loc[(sitedf['Gene_1_Mutation'] != 'Wildtype') | (sitedf['Gene_2_Mutation'] != 'Wildtype') ].dropna(axis=1)\n",
    "        #print(mutateddf)\n",
    "        mutateddf = sitedf.loc[sitedf['Both_Mutations'] == (gene_1 + '_Only')].dropna(axis=0)\n",
    "        #print(mutateddf)\n",
    "        #print(mutateddf)\n",
    "        wtdf = sitedf.loc[(sitedf['Both_Mutations'] == (gene_2 + '_Only'))].dropna(axis=0)\n",
    "        #print(wtdf)\n",
    "        #print(wtdf)\n",
    "        #wtdf = sitedf.loc[sitedf['Both_Mutations'] == False].dropna(axis=0)\n",
    "        #wtdf = wtdf.loc[wtdf['Gene_1_Mutation'] == 'Wildtype']\n",
    "        #wtdf = wtdf.loc[wtdf['Gene_2_Mutation'] == 'Wildtype']\n",
    "        \n",
    "        #print(wtdf[site])\n",
    "        if site in wtdf.columns and site in mutateddf.columns:\n",
    "            ttest = scipy.stats.ttest_ind(mutateddf[site], wtdf[site])\n",
    "            #print(ttest)\n",
    "            if ttest[1] < cutoff:\n",
    "                print(site, \" \", ttest[1])\n",
    "        else: print(\"Unsignificant Results\" , site, \" \", ttest[1])\n",
    "\n",
    "\n"
   ]
  },
  {
   "cell_type": "markdown",
   "metadata": {},
   "source": [
    "### Both Mutations vs. Wildtype (No PTEN or PIK3CA mutations)"
   ]
  },
  {
   "cell_type": "code",
   "execution_count": 16,
   "metadata": {},
   "outputs": [],
   "source": [
    "\n",
    "phos_df = CPTAC.compare_mutations(phos, protein, gene_1)\n",
    "#print(phos_df)\n",
    "\n",
    "cutoff = 0.05/len(phos_df.columns)\n",
    "\n",
    "for site in phos_df.columns:\n",
    "    if (site is not 'Mutation'and site is not 'Patient_Type'):\n",
    "        \n",
    "        sitedf = combine_dataframes(gene_1, gene_2,  site, phos)\n",
    "        #print(sitedf)\n",
    "        #mutateddf = sitedf.loc[(sitedf['Gene_1_Mutation'] != 'Wildtype') | (sitedf['Gene_2_Mutation'] != 'Wildtype') ].dropna(axis=1)\n",
    "        #print(mutateddf)\n",
    "        mutateddf = sitedf.loc[sitedf['Both_Mutations'] == True].dropna(axis=0)\n",
    "        #print(mutateddf)\n",
    "        #print(mutateddf)\n",
    "        wtdf = sitedf.loc[(sitedf['Both_Mutations'] == 'Wildtype')].dropna(axis=0)\n",
    "        \n",
    "        #print(wtdf)\n",
    "        #wtdf = sitedf.loc[sitedf['Both_Mutations'] == False].dropna(axis=0)\n",
    "        #wtdf = wtdf.loc[wtdf['Gene_1_Mutation'] == 'Wildtype']\n",
    "        #wtdf = wtdf.loc[wtdf['Gene_2_Mutation'] == 'Wildtype']\n",
    "        \n",
    "        #print(wtdf[site])\n",
    "        if site in wtdf.columns and site in mutateddf.columns:\n",
    "            ttest = scipy.stats.ttest_ind(mutateddf[site], wtdf[site])\n",
    "            #print(ttest)\n",
    "            if ttest[1] < cutoff:\n",
    "                print(site, \" \", ttest[1])\n",
    "        else: print(\"Unsignificant Results\" , site, \" \", ttest[1])\n",
    "\n",
    "\n"
   ]
  },
  {
   "cell_type": "markdown",
   "metadata": {},
   "source": [
    "## PIK3CA Only vs Wildtype"
   ]
  },
  {
   "cell_type": "code",
   "execution_count": 17,
   "metadata": {},
   "outputs": [],
   "source": [
    "\n",
    "phos_df = CPTAC.compare_mutations(phos, protein, gene_1)\n",
    "#print(phos_df)\n",
    "\n",
    "cutoff = 0.05/len(phos_df.columns)\n",
    "\n",
    "for site in phos_df.columns:\n",
    "    if (site is not 'Mutation'and site is not 'Patient_Type'):\n",
    "        \n",
    "        sitedf = combine_dataframes(gene_1, gene_2,  site, phos)\n",
    "        #print(sitedf)\n",
    "        #mutateddf = sitedf.loc[(sitedf['Gene_1_Mutation'] != 'Wildtype') | (sitedf['Gene_2_Mutation'] != 'Wildtype') ].dropna(axis=1)\n",
    "        #print(mutateddf)\n",
    "        mutateddf = sitedf.loc[sitedf['Both_Mutations'] == (gene_1 + '_Only')].dropna(axis=0)\n",
    "        #print(mutateddf)\n",
    "        #print(mutateddf)\n",
    "        wtdf = sitedf.loc[(sitedf['Both_Mutations'] == 'Wildtype')].dropna(axis=0)\n",
    "        #print(wtdf)\n",
    "        #wtdf = sitedf.loc[sitedf['Both_Mutations'] == False].dropna(axis=0)\n",
    "        #wtdf = wtdf.loc[wtdf['Gene_1_Mutation'] == 'Wildtype']\n",
    "        #wtdf = wtdf.loc[wtdf['Gene_2_Mutation'] == 'Wildtype']\n",
    "        \n",
    "        #print(wtdf[site])\n",
    "        if site in wtdf.columns and site in mutateddf.columns:\n",
    "            ttest = scipy.stats.ttest_ind(mutateddf[site], wtdf[site])\n",
    "            #print(\"Unsig\", site, \" \",ttest)\n",
    "            if ttest[1] < cutoff:\n",
    "                print(site, \" \", ttest[1])\n",
    "            #else: print(\"Unsignificant Results\" , site, \" \", ttest[1])\n",
    "\n"
   ]
  },
  {
   "cell_type": "markdown",
   "metadata": {},
   "source": [
    "# Protein Abundance Comparison"
   ]
  },
  {
   "cell_type": "code",
   "execution_count": 29,
   "metadata": {},
   "outputs": [
    {
     "name": "stdout",
     "output_type": "stream",
     "text": [
      "PTEN   0.000487927229898445\n"
     ]
    }
   ],
   "source": [
    "gene_1 = 'ARID1A'\n",
    "gene_2 = 'PIK3CA'\n",
    "protein = 'PTEN'\n",
    "\n",
    "prot_df = CPTAC.compare_mutations(proteomics, protein, gene_1)\n",
    "#print(phos_df)\n",
    "\n",
    "cutoff = 0.05/len(prot_df.columns)\n",
    "\n",
    "\n",
    "        \n",
    "sitedf = combine_dataframes(gene_1, gene_2, protein, proteomics)\n",
    "\n",
    "\n",
    "sitedf = sitedf.dropna(axis = 0)\n",
    "\n",
    "        \n",
    "mutateddf = sitedf.loc[sitedf['Both_Mutations'] == 'Wildtype']\n",
    "#print(mutateddf)\n",
    "        \n",
    "wtdf = sitedf.loc[(sitedf['Both_Mutations'] == True)]\n",
    "#print(wtdf)\n",
    "\n",
    "\n",
    "\n",
    "ttest = scipy.stats.ttest_ind(mutateddf[protein], wtdf[protein])\n",
    "        #print(ttest)\n",
    "if ttest[1] < cutoff:\n",
    "    print(protein, \" \", ttest[1])\n",
    "else: print(\"Unsignificant Results\" , protein, \" \", ttest[1])\n"
   ]
  },
  {
   "cell_type": "code",
   "execution_count": 30,
   "metadata": {},
   "outputs": [
    {
     "data": {
      "image/png": "[encoded data removed]",
      "text/plain": [
       "<Figure size 842.4x595.44 with 1 Axes>"
      ]
     },
     "metadata": {
      "needs_background": "light"
     },
     "output_type": "display_data"
    }
   ],
   "source": [
    "protein = 'PIK3CA'\n",
    "sitedf = combine_dataframes(gene_1, gene_2, protein, proteomics)\n",
    "#print(sitedf)\n",
    "\n",
    "a4_dims = (11.7, 8.27)\n",
    "fig, ax = plt.subplots(figsize=a4_dims)\n",
    "\n",
    "boxplt = sns.boxplot(data = sitedf, x = 'Both_Mutations', y = protein)\n",
    "boxplt = sns.stripplot(data = sitedf, x = 'Both_Mutations', y = protein, jitter = True, color = '.3')\n",
    "plt.show()"
   ]
  },
  {
   "cell_type": "code",
   "execution_count": 31,
   "metadata": {},
   "outputs": [
    {
     "data": {
      "image/png": "[encoded data removed]",
      "text/plain": [
       "<Figure size 842.4x595.44 with 1 Axes>"
      ]
     },
     "metadata": {
      "needs_background": "light"
     },
     "output_type": "display_data"
    }
   ],
   "source": [
    "protein = 'PTEN'\n",
    "sitedf = combine_dataframes(gene_1, gene_2, protein, proteomics)\n",
    "#print(sitedf)\n",
    "\n",
    "a4_dims = (11.7, 8.27)\n",
    "fig, ax = plt.subplots(figsize=a4_dims)\n",
    "\n",
    "boxplt = sns.boxplot(data = sitedf, x = 'Both_Mutations', y = protein)\n",
    "boxplt = sns.stripplot(data = sitedf, x = 'Both_Mutations', y = protein, jitter = True, color = '.3')\n",
    "plt.show()"
   ]
  },
  {
   "cell_type": "code",
   "execution_count": null,
   "metadata": {},
   "outputs": [],
   "source": []
  }
 ],
 "metadata": {
  "kernelspec": {
   "display_name": "Python 3",
   "language": "python",
   "name": "python3"
  },
  "language_info": {
   "codemirror_mode": {
    "name": "ipython",
    "version": 3
   },
   "file_extension": ".py",
   "mimetype": "text/x-python",
   "name": "python",
   "nbconvert_exporter": "python",
   "pygments_lexer": "ipython3",
   "version": "3.7.1"
  }
 },
 "nbformat": 4,
 "nbformat_minor": 2
}
