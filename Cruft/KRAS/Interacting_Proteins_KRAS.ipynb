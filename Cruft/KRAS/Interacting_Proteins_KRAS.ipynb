{
 "cells": [
  {
   "cell_type": "markdown",
   "metadata": {},
   "source": [
    "# Statistical Testing Templates for CPTAC Data"
   ]
  },
  {
   "cell_type": "markdown",
   "metadata": {},
   "source": [
    "<b>Standard imports for playing with and plotting data frames.</b>"
   ]
  },
  {
   "cell_type": "code",
   "execution_count": 1,
   "metadata": {},
   "outputs": [],
   "source": [
    "import pandas as pd\n",
    "import numpy as np\n",
    "import scipy.stats\n",
    "from scipy.stats import pearsonr\n",
    "import matplotlib.pyplot as plt\n",
    "import re\n",
    "import seaborn as sns\n",
    "import statsmodels.stats.multitest\n",
    "#import altair as alt\n",
    "#alt.renderers.enable('notebook') #Necessary for Altair to work"
   ]
  },
  {
   "cell_type": "code",
   "execution_count": 2,
   "metadata": {
    "scrolled": true
   },
   "outputs": [
    {
     "name": "stdout",
     "output_type": "stream",
     "text": [
      "Loading CPTAC data:\n",
      "Loading Dictionary...\n",
      "Loading Clinical Data...\n",
      "Loading Proteomics Data...\n",
      "Loading Transcriptomics Data...\n",
      "Loading CNA Data...\n",
      "Loading Phosphoproteomics Data...\n",
      "Loading Somatic Mutation Data...\n",
      "\n",
      " ******PLEASE READ******\n",
      "WARNING: This data is under a publication embargo until July 1, 2019.\n",
      "CPTAC is a community resource project and data are made available\n",
      "rapidly after generation for community research use. The embargo\n",
      "allows exploring and utilizing the data, but the data may not be in a\n",
      "publication until July 1, 2019. Please see\n",
      "https://proteomics.cancer.gov/data-portal/about/data-use-agreement or\n",
      "enter CPTAC.embargo() to open the webpage for more details.\n"
     ]
    }
   ],
   "source": [
    "import CPTAC"
   ]
  },
  {
   "cell_type": "code",
   "execution_count": 3,
   "metadata": {},
   "outputs": [],
   "source": [
    "somatic_mutations = CPTAC.get_somatic()\n",
    "proteomics = CPTAC.get_proteomics()\n",
    "phos = CPTAC.get_phosphoproteomics()"
   ]
  },
  {
   "cell_type": "markdown",
   "metadata": {},
   "source": [
    "## t-test for effects of all mutations combined\n",
    "<b>Note:</b> You can put any number of proteins in the list and it will compare that gene with the protein levels of all of them"
   ]
  },
  {
   "cell_type": "markdown",
   "metadata": {},
   "source": [
    "### List of interacting proteins (according to STRING and Uniprot)"
   ]
  },
  {
   "cell_type": "code",
   "execution_count": 6,
   "metadata": {},
   "outputs": [],
   "source": [
    "#Build the protein list; this may have only a single protein if desired\n",
    "phosProtList = ['EGRF', 'PIK3CA', 'ERBB', 'ARAF', 'BRAF', 'MAPK', 'MAPK', 'MAP2K', 'SOS', 'RAF']\n",
    "protList = phosProtList"
   ]
  },
  {
   "cell_type": "code",
   "execution_count": 7,
   "metadata": {
    "scrolled": false
   },
   "outputs": [],
   "source": [
    "gene = 'KRAS'\n",
    "tested = [];\n",
    "p_vals = [];\n",
    "for protein in protList: \n",
    "    if protein in proteomics.columns:\n",
    "        tested.append(protein)\n",
    "        cross = CPTAC.compare_mutations(proteomics, protein, gene)\n",
    "        cross = cross[:100]\n",
    "        cross = cross[[\"Mutation\", protein]].dropna(axis=0)\n",
    "        mutated = cross.loc[cross[\"Mutation\"] != \"Wildtype\"]\n",
    "        wt = cross.loc[cross[\"Mutation\"] == \"Wildtype\"]\n",
    "        ttest = scipy.stats.ttest_ind(mutated[protein], wt[protein])\n",
    "        p_vals.append(ttest[1])"
   ]
  },
  {
   "cell_type": "code",
   "execution_count": 8,
   "metadata": {},
   "outputs": [],
   "source": [
    "areSignificant = statsmodels.stats.multitest.fdrcorrection(p_vals)[0]\n",
    "pvals = statsmodels.stats.multitest.fdrcorrection(p_vals)[1]\n",
    "significant_proteins = np.array(tested)[np.array(areSignificant)]\n",
    "significant_pvals = np.array(pvals)[np.array(areSignificant)]"
   ]
  },
  {
   "cell_type": "code",
   "execution_count": 9,
   "metadata": {},
   "outputs": [
    {
     "name": "stdout",
     "output_type": "stream",
     "text": [
      "[]\n",
      "[]\n"
     ]
    }
   ],
   "source": [
    "print(significant_proteins)\n",
    "print(significant_pvals)"
   ]
  },
  {
   "cell_type": "markdown",
   "metadata": {},
   "source": [
    "### Test for phosphorylation levels (mutation in any gene with phosphorylation of any protein)"
   ]
  },
  {
   "cell_type": "code",
   "execution_count": 10,
   "metadata": {},
   "outputs": [],
   "source": [
    "#List of proteins (will test all phosphorylation sites on these proteins)\n",
    "phosProtList = protList"
   ]
  },
  {
   "cell_type": "code",
   "execution_count": 11,
   "metadata": {},
   "outputs": [
    {
     "name": "stderr",
     "output_type": "stream",
     "text": [
      "/Users/emilyhosk/anaconda3/envs/research/lib/python3.7/site-packages/numpy/core/fromnumeric.py:3157: RuntimeWarning: Degrees of freedom <= 0 for slice\n",
      "  **kwargs)\n",
      "/Users/emilyhosk/anaconda3/envs/research/lib/python3.7/site-packages/numpy/core/_methods.py:132: RuntimeWarning: invalid value encountered in double_scalars\n",
      "  ret = ret.dtype.type(ret / rcount)\n"
     ]
    },
    {
     "name": "stdout",
     "output_type": "stream",
     "text": [
      "[0.08418014149344173, 0.15766565706458044, 0.8699310036355845, 0.3671439535770479, 0.31032844484551997, 0.3797724601317145, 0.5412621609014536, 0.0032391459882818215, 0.1885978373635903, 0.2711484335738889, 0.16977385075591447, 0.2988462712396803, 0.010855269940259211, 0.48088583415899455, 0.012105393957029609, 0.19423252868573124, 0.8131048149613889, 0.6766972467149668, 0.02956101599608783, 0.4082524949277977, 0.17118776010268413, 0.4677777373861338, 0.7716031612886007, 0.7891146415998118, 0.8053994327244112, 0.36828738243441683, 0.6928158103164535, 0.7914198537981446, 0.31824422327285656, 0.11389540933607366, 0.766586033363242, 0.004109536541969403, 0.0472376780750305, 0.07563066354713749, 0.02580803486163414, 0.11843405735858241, 5.1606324992600135e-08, 0.05044526534267938, 0.5392023843490247, 0.4882389108434272, 0.9922750498128345, 0.1457223279603687, 0.039627461926883246, 0.4240864006718007, 0.14274995486785236, 0.19963212571600109, 0.0005979191188044909, 0.22730798788861462, 0.7225050216811035, 0.3711143622699077, 2.450311086044157e-06, 0.06592996142523634, 0.09239832833648069, 0.10888576029534534, 0.5193062178578511, 0.052749264042530664, 0.11427744327657256, 0.6482978390610707, 0.12906800093409496, 0.792263107576082, 0.8271637431481904, 0.8998512904328491, 0.0016146295675178216, 0.12578355831991075, 0.13658922090401676, 0.5289208132633725, 0.5727503700704226, 0.014929577314958935, 0.8664051631614946, 0.13856000799875512, 0.14339783793428224, 0.9365141523770387, 0.8143093323695105, 0.09068977850677148, 0.030400738565972578, 0.39529104926625447, 0.06013424074957754, 0.40191844369860297, 0.3604503149741811, 0.5866986822829869, 0.522811426116788, 0.28187281563618444, 0.0365672671744166, 0.03870068962870698, 0.909170503437972, 0.02992414667024463, 0.10250344230421785, 0.5768046504447655, 0.19377908764326512, 0.39266119017807755, 0.02275281099617495, 0.10661254130236118, 0.9307147908801139, 0.710431714119161, 0.22707511839391423, 0.1704700375696341, 0.9689102390601372, 0.06902078965871893, 0.010926156933227195, 0.9744198693809314, 0.5835368534775733, 0.5133921012890483, 0.08385412179310532, 0.07541494466125571, 0.2426642568892485, 0.8650610558979879, 0.023281341157013528, 0.019352829362610045, 0.4358744550996452, 0.24435469197093349, 0.5328580533448638, 0.48606150329134, 0.18544475171503347, 0.20694547989276293, 0.40205292431646494, 0.1450603322333135, 0.07570308469112601, 0.002994947840472035, 0.06613639712749912, 0.8972931539651001, 0.002041181136086802, 0.5445110211400207, 0.8496000335870377, 0.5943504300212552, 0.851269597655147, 0.06957904481043165, 0.6214017516242901, 0.840379705676322, 0.005672919807483225, 0.04673487505512078, 0.034431500470141395, 0.16818159782227243, 0.17916228036494375, 0.0006650115658209317, 0.36192825983377497, 0.5694137004308986, 0.1720788051345186, 0.24622641174799895, 0.8296742973945811, 0.3982446873625157, 0.4100490582913031, 0.07397768752754726, 0.006145952682401025, 0.2376891935947526, 0.3308302082077139, 0.8087850636665722, 0.6928891885630255, 0.10511427066914823, 0.5625868124302045, 0.31891770393625213, 0.24527702909712445, 0.5901857266522939, 0.4376629787475086, 0.13658922090401676, 0.5289208132633725, 0.5727503700704226, 0.014929577314958935, 0.8664051631614946, 0.13856000799875512, 0.14339783793428224, 0.9365141523770387, 0.8143093323695105, 0.09068977850677148, 0.030400738565972578, 0.39529104926625447, 0.06013424074957754, 0.40191844369860297, 0.3604503149741811, 0.5866986822829869, 0.522811426116788, 0.28187281563618444, 0.0365672671744166, 0.03870068962870698, 0.909170503437972, 0.02992414667024463, 0.10250344230421785, 0.5768046504447655, 0.19377908764326512, 0.39266119017807755, 0.02275281099617495, 0.10661254130236118, 0.9307147908801139, 0.710431714119161, 0.22707511839391423, 0.1704700375696341, 0.9689102390601372, 0.06902078965871893, 0.010926156933227195, 0.9744198693809314, 0.5835368534775733, 0.5133921012890483, 0.08385412179310532, 0.07541494466125571, 0.2426642568892485, 0.8650610558979879, 0.023281341157013528, 0.019352829362610045, 0.4358744550996452, 0.24435469197093349, 0.5328580533448638, 0.48606150329134, 0.18544475171503347, 0.20694547989276293, 0.40205292431646494, 0.1450603322333135, 0.07570308469112601, 0.002994947840472035, 0.06613639712749912, 0.8972931539651001, 0.002041181136086802, 0.5445110211400207, 0.8496000335870377, 0.5943504300212552, 0.851269597655147, 0.06957904481043165, 0.6214017516242901, 0.840379705676322, 0.005672919807483225, 0.04673487505512078, 0.034431500470141395, 0.16818159782227243, 0.17916228036494375, 0.0006650115658209317, 0.36192825983377497, 0.5694137004308986, 0.1720788051345186, 0.24622641174799895, 0.8296742973945811, 0.3982446873625157, 0.4100490582913031, 0.07397768752754726, 0.006145952682401025, 0.2376891935947526, 0.3308302082077139, 0.8087850636665722, 0.6928891885630255, 0.10511427066914823, 0.5625868124302045, 0.31891770393625213, 0.24527702909712445, 0.5901857266522939, 0.4376629787475086, 0.8494750126332893, 0.2950411524355637, 0.1649038666739965, 0.0939738361226041, 0.14548840914304165, 0.28786225716649766, 0.7914504099806761, 0.644659721262455, 0.42421883379441316, 0.3760300932561551, 0.9295162696474157, 0.22617284379482402, 0.44407956140730453, 0.4999065559425133, 0.6931501423845527, 0.09527394305023554, 0.3931404438899836, 0.3113379279407942, 0.7639918705304214, 0.09010332180732325, 0.2033269814757619, 0.4640595384442504, 0.4640595384442504, 0.1727519511655043, 0.6778844464460173, 0.8971451407861757, 0.0024735821230855203, 0.31398855393997227, 0.5046789765112549, 0.8037798157251157, 0.48430544844048695, 0.5899925591327158, 0.43405303319864297, 0.003928715236025275, 0.013854076243928565, 0.8834680697651862, 0.2818336940769173, 0.7299441442128962, 0.7299441442128962, 0.027908821471790843, 0.05287117190595108, 0.0008315928574867475, 0.7420963248679331, 0.331190809684062, 0.3454531621280874, 0.5423994911538399, 0.056765403181482925, 0.3247345129302698, 0.35496598493935083, 0.3283145432956805, 0.19165647829581992, 0.9650471660415738, 0.45658575922860845, 0.04911469869445586, 0.004109536541969403, 0.0472376780750305, 0.07563066354713749, 0.02580803486163414, 0.11843405735858241, 5.1606324992600135e-08, 0.05044526534267938, 0.5392023843490247, 0.4882389108434272, 0.9922750498128345, 0.1457223279603687, 0.039627461926883246, 0.4240864006718007, 0.14274995486785236, 0.19963212571600109, 0.0005979191188044909, 0.22730798788861462, 0.7225050216811035, 2.450311086044157e-06, 0.06592996142523634, 0.09239832833648069, 0.10888576029534534, 0.5193062178578511, 0.052749264042530664, 0.11427744327657256, 0.6482978390610707, 0.12906800093409496, 0.792263107576082, 0.8271637431481904, 0.8998512904328491, 0.0016146295675178216, 0.12578355831991075, 0.7086541992519139, 0.9289047447043888, 0.011160840428337905, 0.09013935901348893, 0.01697670358106995, 0.07466471377648701, 0.3722078709358452, 0.8506796856057808, 0.7374595784629936, 0.4598884401452794, 0.8696372239385234, 0.11586755225338129, 0.9114238278805693, 0.8599068252234465, 0.20420435160367625, 0.552758982355578, 0.17795179924305204, 0.2118107890858863, 0.33009944496696764, 0.09578614233114635, 0.44308448443850657, 1.1970836517480264e-07, 0.9194578427977893, 0.7128841720265531, 0.8297888544806482, 0.3711143622699077, 1.5638391997568463e-07, 0.34895775981042565, 0.9206124685909827, 0.06696003700625446, 0.005381556814123625, 0.0075062444790289845, 0.6786397352769753, 0.07911706958983418, 0.013390321898049583, 0.10723986527774042, 0.5161501529162761, 0.573489402620512, 0.8272163470263592, 0.25105955206559727, 0.7882220459378286, 0.0003261329816038573, 0.3680454200870489, 0.5751777468973486, 0.2240464985073896, 0.1689881834558901, 0.9101032322300434, 0.6805117783330438, 0.23108359645446191, 0.14582251484446795, 0.12696890155070206, 0.09072190068857842, 0.0012675320986664845, 0.001583783478303588, 0.1788999799688224, 0.05576038324078123, 0.1649507348601499, 0.005380350703749855, 0.1523490746783053, 0.45299470926298135, 0.03164878048601825, 0.44003937537353344, 0.3268870530893786, 0.3802823074543936, 0.10722129195234709, 0.05772214642606598, 0.743701082866635, 0.08244071137642042, 0.04283360173573409, 0.399800424374837, 0.04960871167275601, 0.35499348094874406, 0.19125879365596068, 0.9684159452888093, 0.0009731308438457558, 0.07939934550864083, 8.233475897780792e-08, 0.2023370977220449, 0.24903768070688675, 0.058536111762313034]\n"
     ]
    },
    {
     "ename": "IndexError",
     "evalue": "boolean index did not match indexed array along dimension 0; dimension is 448 but corresponding boolean dimension is 408",
     "output_type": "error",
     "traceback": [
      "\u001b[0;31m---------------------------------------------------------------------------\u001b[0m",
      "\u001b[0;31mIndexError\u001b[0m                                Traceback (most recent call last)",
      "\u001b[0;32m<ipython-input-11-4b70ada61cf2>\u001b[0m in \u001b[0;36m<module>\u001b[0;34m\u001b[0m\n\u001b[1;32m     28\u001b[0m \u001b[0mpvalues\u001b[0m \u001b[0;34m=\u001b[0m \u001b[0mstatsmodels\u001b[0m\u001b[0;34m.\u001b[0m\u001b[0mstats\u001b[0m\u001b[0;34m.\u001b[0m\u001b[0mmultitest\u001b[0m\u001b[0;34m.\u001b[0m\u001b[0mfdrcorrection\u001b[0m\u001b[0;34m(\u001b[0m\u001b[0mp_values\u001b[0m\u001b[0;34m)\u001b[0m\u001b[0;34m[\u001b[0m\u001b[0;36m1\u001b[0m\u001b[0;34m]\u001b[0m\u001b[0;34m\u001b[0m\u001b[0;34m\u001b[0m\u001b[0m\n\u001b[1;32m     29\u001b[0m \u001b[0;31m#print(pvalues)\u001b[0m\u001b[0;34m\u001b[0m\u001b[0;34m\u001b[0m\u001b[0;34m\u001b[0m\u001b[0m\n\u001b[0;32m---> 30\u001b[0;31m \u001b[0msignificant_sites\u001b[0m \u001b[0;34m=\u001b[0m \u001b[0mnp\u001b[0m\u001b[0;34m.\u001b[0m\u001b[0marray\u001b[0m\u001b[0;34m(\u001b[0m\u001b[0msite_names\u001b[0m\u001b[0;34m)\u001b[0m\u001b[0;34m[\u001b[0m\u001b[0mnp\u001b[0m\u001b[0;34m.\u001b[0m\u001b[0marray\u001b[0m\u001b[0;34m(\u001b[0m\u001b[0mareSignificant\u001b[0m\u001b[0;34m)\u001b[0m\u001b[0;34m]\u001b[0m\u001b[0;34m\u001b[0m\u001b[0;34m\u001b[0m\u001b[0m\n\u001b[0m\u001b[1;32m     31\u001b[0m \u001b[0msignificant_pvalues\u001b[0m \u001b[0;34m=\u001b[0m \u001b[0mnp\u001b[0m\u001b[0;34m.\u001b[0m\u001b[0marray\u001b[0m\u001b[0;34m(\u001b[0m\u001b[0mpvalues\u001b[0m\u001b[0;34m)\u001b[0m\u001b[0;34m[\u001b[0m\u001b[0mnp\u001b[0m\u001b[0;34m.\u001b[0m\u001b[0marray\u001b[0m\u001b[0;34m(\u001b[0m\u001b[0mareSignificant\u001b[0m\u001b[0;34m)\u001b[0m\u001b[0;34m]\u001b[0m\u001b[0;34m\u001b[0m\u001b[0;34m\u001b[0m\u001b[0m\n\u001b[1;32m     32\u001b[0m \u001b[0;34m\u001b[0m\u001b[0m\n",
      "\u001b[0;31mIndexError\u001b[0m: boolean index did not match indexed array along dimension 0; dimension is 448 but corresponding boolean dimension is 408"
     ]
    }
   ],
   "source": [
    "sites = phos.columns\n",
    "p_values = []\n",
    "site_names = []\n",
    "\n",
    "for protein in phosProtList:\n",
    "    pattern = re.compile(protein)\n",
    "    isInList = filter(pattern.search, sites)\n",
    "    if next(isInList, None) is not None:\n",
    "        phosphositesdf = CPTAC.compare_mutations(phos, protein, gene)\n",
    "        phosphositesdf = phosphositesdf.loc[phosphositesdf['Patient_Type'] == 'Tumor'].drop('Patient_Type', axis = 1)\n",
    "        for site in phosphositesdf.columns:\n",
    "            if (site is not 'Mutation'):\n",
    "                sitedf = CPTAC.compare_mutations(phos, site, gene)\n",
    "                mutateddf = sitedf.loc[sitedf['Mutation'] != 'Wildtype'].dropna(axis=0)\n",
    "                wtdf = sitedf.loc[sitedf['Mutation'] == 'Wildtype'].dropna(axis=0)\n",
    "                #print(mutateddf)\n",
    "                ttest = scipy.stats.ttest_ind(mutateddf[site], wtdf[site])\n",
    "                p_values.append(ttest[1])\n",
    "                site_names.append(site)     \n",
    "\n",
    "#print(p_values)\n",
    "p_values = [x for x in p_values if str(x) != 'nan']\n",
    "print(p_values)\n",
    "\n",
    "\n",
    "areSignificant = statsmodels.stats.multitest.fdrcorrection(p_values)[0]\n",
    "\n",
    "pvalues = statsmodels.stats.multitest.fdrcorrection(p_values)[1]\n",
    "#print(pvalues)\n",
    "significant_sites = np.array(site_names)[np.array(areSignificant)]\n",
    "significant_pvalues = np.array(pvalues)[np.array(areSignificant)]\n",
    "\n",
    "significant_vals = dict(zip(significant_sites, significant_pvalues))\n",
    "\n",
    "print(significant_sites)\n",
    "print(significant_pvalues)\n",
    "print(significant_vals)"
   ]
  },
  {
   "cell_type": "code",
   "execution_count": null,
   "metadata": {},
   "outputs": [],
   "source": [
    "print(p_values[2])"
   ]
  },
  {
   "cell_type": "markdown",
   "metadata": {},
   "source": [
    "### Plot phosphorylation levels and gene mutation\n",
    "<b>Note:</b> There may be fewer data points due to NA values"
   ]
  },
  {
   "cell_type": "code",
   "execution_count": null,
   "metadata": {},
   "outputs": [],
   "source": [
    "#Specify the gene and the site; you may use a string to specify the site or reference the significant results above\n",
    "gene = 'PIK3CA'\n",
    "site = significant_sites[0]\n",
    "\n",
    "#Build the dataframe for plotting\n",
    "#print(somatic_mutations)\n",
    "genedf = CPTAC.compare_mutations(phos, site, gene)\n",
    "#print(genedf)\n",
    "sites = phos.filter(regex=site)\n",
    "#genedf = genedf.add(sites, fill_value=0)\n",
    "\n",
    "phos_boxplot = sns.boxplot(data=genedf, x='Mutation' ,y=site)\n",
    "phos_boxplot.set_title(gene + \" gene mutation and \" + site + \" phosphorylation levels\")\n",
    "phos_boxplot = sns.stripplot(data=genedf, x='Mutation', y=site,jitter=True, color=\".3\")\n",
    "phos_boxplot.set(xlabel=\"Somatic Gene Mutation\",ylabel=\"Phosphoproteomics\")"
   ]
  },
  {
   "cell_type": "markdown",
   "metadata": {},
   "source": [
    "### Test for phosphorylation levels and protein abundance"
   ]
  },
  {
   "cell_type": "code",
   "execution_count": null,
   "metadata": {},
   "outputs": [],
   "source": [
    "#Specify the pattern for all phosphorylation sites as well as the protein of interest\n",
    "phosProt = phos.filter(regex='PIK3CA') \n",
    "protein = 'PIK3CA'\n",
    "sigPhosProtResults = []\n",
    "\n",
    "#Build dataframe with protein levels and phosphorylation levels\n",
    "proteindf = proteomics[protein].to_frame()\n",
    "phosProtCross = proteindf.add(phosProt, fill_value=0)\n",
    "\n",
    "#Bonferroni correction\n",
    "pcutoff = 0.05/len(cross.columns)\n",
    "\n",
    "#Test each site for significance and print the results\n",
    "for loc in phosProtCross.columns:\n",
    "    if not loc == protein:\n",
    "        oneSitedf = phosProtCross[[loc, protein]].dropna(axis=0)\n",
    "        pearsonresult = pearsonr(oneSitedf[loc], oneSitedf[protein])\n",
    "        if(pearsonresult[1] < pcutoff):\n",
    "            sigPhosProtResults.append(loc)\n",
    "            print(\"Results for \" + loc)\n",
    "            print(pearsonresult)"
   ]
  },
  {
   "cell_type": "markdown",
   "metadata": {},
   "source": [
    "### Scatterplot of phosphorylation levels vs. protein abundance (mutation included)"
   ]
  },
  {
   "cell_type": "code",
   "execution_count": null,
   "metadata": {},
   "outputs": [],
   "source": [
    "#Specify a protein, a gene and a site; you may use a string to specify the site or reference sigPhosProtResults above\n",
    "protein = 'CTNNB1'\n",
    "gene = 'CTNNB1'\n",
    "site = sigPhosProtResults[1]\n",
    "\n",
    "#Build the dataframe for plotting\n",
    "protdf = proteomics[protein].to_frame()\n",
    "protdfName = protein + \" protein levels\" #Technically only necessary when the gene and the protein have the same name\n",
    "protdf.columns = [protdfName]\n",
    "sites = phos.filter(regex=site)\n",
    "protdf = protdf.add(sites, fill_value=0)\n",
    "\n",
    "genedf = somatic_mutations[gene].to_frame()\n",
    "genedfName = gene + \" mutation\"\n",
    "genedf.columns = [genedfName]\n",
    "finaldf = protdf.add(genedf, fill_value=0)\n",
    "\n",
    "alt.Chart(finaldf).mark_point().encode(\n",
    "    alt.X(protdfName),\n",
    "    alt.Y(site),\n",
    "    alt.Color(genedfName, type='nominal')\n",
    ").interactive()"
   ]
  },
  {
   "cell_type": "code",
   "execution_count": null,
   "metadata": {},
   "outputs": [],
   "source": []
  }
 ],
 "metadata": {
  "kernelspec": {
   "display_name": "Python 3",
   "language": "python",
   "name": "python3"
  },
  "language_info": {
   "codemirror_mode": {
    "name": "ipython",
    "version": 3
   },
   "file_extension": ".py",
   "mimetype": "text/x-python",
   "name": "python",
   "nbconvert_exporter": "python",
   "pygments_lexer": "ipython3",
   "version": "3.7.1"
  }
 },
 "nbformat": 4,
 "nbformat_minor": 2
}
