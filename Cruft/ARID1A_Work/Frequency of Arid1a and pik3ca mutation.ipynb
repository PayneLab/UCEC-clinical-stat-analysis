{
 "cells": [
  {
   "cell_type": "code",
   "execution_count": 1,
   "metadata": {},
   "outputs": [
    {
     "name": "stdout",
     "output_type": "stream",
     "text": [
      "Loading CPTAC data:\n",
      "Loading Dictionary...\n",
      "Loading Clinical Data...\n",
      "Loading Proteomics Data...\n",
      "Loading Transcriptomics Data...\n",
      "Loading CNA Data...\n",
      "Loading Phosphoproteomics Data...\n",
      "Loading Somatic Mutation Data...\n",
      "\n",
      " ******PLEASE READ******\n",
      "WARNING: This data is under a publication embargo until July 1, 2019.\n",
      "CPTAC is a community resource project and data are made available\n",
      "rapidly after generation for community research use. The embargo\n",
      "allows exploring and utilizing the data, but the data may not be in a\n",
      "publication until July 1, 2019. Please see\n",
      "https://proteomics.cancer.gov/data-portal/about/data-use-agreement or\n",
      "enter CPTAC.embargo() to open the webpage for more details.\n"
     ]
    }
   ],
   "source": [
    "import pandas as pd\n",
    "import numpy as np\n",
    "import scipy.stats\n",
    "from scipy.stats import pearsonr\n",
    "import matplotlib.pyplot as plt\n",
    "import re\n",
    "import seaborn as sns\n",
    "import statsmodels.stats.multitest\n",
    "import copy\n",
    "import operator\n",
    "import CPTAC"
   ]
  },
  {
   "cell_type": "code",
   "execution_count": 2,
   "metadata": {},
   "outputs": [],
   "source": [
    "somatic_mutations = CPTAC.get_somatic()\n",
    "proteomics = CPTAC.get_proteomics()"
   ]
  },
  {
   "cell_type": "code",
   "execution_count": 3,
   "metadata": {},
   "outputs": [
    {
     "name": "stdout",
     "output_type": "stream",
     "text": [
      "MISSENSE:  5\n",
      "TRUNCATION:  39\n",
      "wildtype:  56\n",
      "     Mutation  Number\n",
      "0    Missense       5\n",
      "1  Truncation      39\n",
      "2    Wildtype      56\n"
     ]
    },
    {
     "name": "stderr",
     "output_type": "stream",
     "text": [
      "/anaconda3/lib/python3.6/site-packages/ipykernel_launcher.py:16: FutureWarning: set_value is deprecated and will be removed in a future release. Please use .at[] or .iat[] accessors instead\n",
      "  app.launch_new_instance()\n",
      "/anaconda3/lib/python3.6/site-packages/ipykernel_launcher.py:19: FutureWarning: set_value is deprecated and will be removed in a future release. Please use .at[] or .iat[] accessors instead\n"
     ]
    }
   ],
   "source": [
    "protein = \"ARID1A\"\n",
    "gene = \"ARID1A\"\n",
    "\n",
    "genedf = CPTAC.compare_mutations(proteomics, protein, gene)\n",
    "\n",
    "'''get only cancer patients'''\n",
    "genedf = genedf.loc[genedf['Patient_Type'] == 'Tumor']\n",
    "#print(genedf)\n",
    "\n",
    "missense = 0\n",
    "truncation = 0\n",
    "wildtype = 0\n",
    "\n",
    "for ind, row in genedf.iterrows():\n",
    "    if row['Mutation'] == \"Missense_Mutation\":\n",
    "        genedf.set_value(ind, 'Mutation', 'Missense Mutation')\n",
    "        missense += 1\n",
    "    elif row['Mutation'] == \"Nonsense_Mutation\" or row['Mutation'] == 'Frame_Shift_Ins' or row['Mutation'] == 'Frame_Shift_Del':\n",
    "        genedf.set_value(ind, 'Mutation', 'Truncation Mutation')\n",
    "        truncation += 1\n",
    "    else:\n",
    "        wildtype += 1\n",
    "        \n",
    "print(\"MISSENSE: \", missense)\n",
    "print(\"TRUNCATION: \", truncation)\n",
    "print(\"wildtype: \", wildtype)\n",
    "\n",
    "#print(genedf)\n",
    "\n",
    "\n",
    "mutation_dict = {}\n",
    "mutation_dict['Missense'] = missense\n",
    "mutation_dict['Truncation'] = truncation\n",
    "mutation_dict['Wildtype'] = wildtype\n",
    "\n",
    "#print(mutation_dict)\n",
    "\n",
    "my_dict = {'Mutation': ['Missense','Truncation','Wildtype'],'Number':[missense,truncation,wildtype]}\n",
    "\n",
    "mutationdf = pd.DataFrame.from_dict(my_dict)\n",
    "print(mutationdf)\n"
   ]
  },
  {
   "cell_type": "markdown",
   "metadata": {},
   "source": [
    "#### Plot the number of missense, truncation, and wildtype"
   ]
  },
  {
   "cell_type": "code",
   "execution_count": 4,
   "metadata": {},
   "outputs": [
    {
     "data": {
      "text/plain": [
       "[Text(0, 0.5, 'Number of Patients in Cohort'),\n",
       " Text(0.5, 0, 'Somatic Mutation')]"
      ]
     },
     "execution_count": 4,
     "metadata": {},
     "output_type": "execute_result"
    },
    {
     "data": {
      "image/png": "[encoded data removed]",
      "text/plain": [
       "<Figure size 432x288 with 1 Axes>"
      ]
     },
     "metadata": {
      "needs_background": "light"
     },
     "output_type": "display_data"
    }
   ],
   "source": [
    "ax = sns.barplot(x=\"Mutation\", y=\"Number\", data=mutationdf)\n",
    "ax.set_title(\"Frequency of \" + gene +\" Mutation Among 100 Cancer Patients in our Cohort \\n\" + str(missense) + \" Missense, \" + str(truncation) + \" Truncation, and \" + str(wildtype) + \" Wildtype\")\n",
    "#ax.set_axis_labels(\"Type of Mutation\", \"Number of Patients\")\n",
    "ax.set(xlabel='Somatic Mutation', ylabel='Number of Patients in Cohort')"
   ]
  },
  {
   "cell_type": "code",
   "execution_count": null,
   "metadata": {},
   "outputs": [],
   "source": []
  }
 ],
 "metadata": {
  "kernelspec": {
   "display_name": "Python 3",
   "language": "python",
   "name": "python3"
  },
  "language_info": {
   "codemirror_mode": {
    "name": "ipython",
    "version": 3
   },
   "file_extension": ".py",
   "mimetype": "text/x-python",
   "name": "python",
   "nbconvert_exporter": "python",
   "pygments_lexer": "ipython3",
   "version": "3.6.8"
  }
 },
 "nbformat": 4,
 "nbformat_minor": 2
}
