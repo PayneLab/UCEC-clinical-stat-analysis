{
 "cells": [
  {
   "cell_type": "markdown",
   "metadata": {},
   "source": [
    "   # TP53: Effects of Mutation on TP53"
   ]
  },
  {
   "cell_type": "markdown",
   "metadata": {},
   "source": [
    "<b>Standard imports for playing with and plotting data frames.</b>"
   ]
  },
  {
   "cell_type": "code",
   "execution_count": 1,
   "metadata": {},
   "outputs": [],
   "source": [
    "import pandas as pd\n",
    "import numpy as np\n",
    "import scipy.stats\n",
    "import matplotlib.pyplot as plt\n",
    "import seaborn as sns"
   ]
  },
  {
   "cell_type": "markdown",
   "metadata": {},
   "source": [
    "<b>Import CPTAC data</b>"
   ]
  },
  {
   "cell_type": "code",
   "execution_count": 2,
   "metadata": {
    "scrolled": true
   },
   "outputs": [
    {
     "name": "stdout",
     "output_type": "stream",
     "text": [
      "Loading CPTAC data:\n",
      "Loading Dictionary...\n",
      "Loading Clinical Data...\n",
      "Loading Proteomics Data...\n",
      "Loading Transcriptomics Data...\n",
      "Loading CNA Data...\n",
      "Loading Phosphoproteomics Data...\n",
      "Loading Somatic Mutation Data...\n",
      "\n",
      " ******PLEASE READ******\n",
      "WARNING: This data is under a publication embargo until July 1, 2019.\n",
      "CPTAC is a community resource project and data are made available\n",
      "rapidly after generation for community research use. The embargo\n",
      "allows exploring and utilizing the data, but the data may not be in a\n",
      "publication until July 1, 2019. Please see\n",
      "https://proteomics.cancer.gov/data-portal/about/data-use-agreement or\n",
      "enter CPTAC.embargo() to open the webpage for more details.\n"
     ]
    }
   ],
   "source": [
    "import CPTAC"
   ]
  },
  {
   "cell_type": "code",
   "execution_count": 3,
   "metadata": {},
   "outputs": [],
   "source": [
    "somatic_mutations = CPTAC.get_somatic()\n",
    "proteomics = CPTAC.get_proteomics()\n",
    "phos = CPTAC.get_phosphoproteomics()"
   ]
  },
  {
   "cell_type": "markdown",
   "metadata": {},
   "source": [
    "## TP53 mutation effect on p53 protein abundance"
   ]
  },
  {
   "cell_type": "markdown",
   "metadata": {},
   "source": [
    "### Set gene and protein(s) of interest--in this case we are only looking at TP53--and then create the \"cross\" dataframe, which contains all the information we need for plotting this gene"
   ]
  },
  {
   "cell_type": "code",
   "execution_count": 6,
   "metadata": {},
   "outputs": [
    {
     "name": "stdout",
     "output_type": "stream",
     "text": [
      "               Mutation      TP53\n",
      "S001  Missense_Mutation  0.295000\n",
      "S002           Wildtype  0.277000\n",
      "S003           Wildtype -0.871000\n",
      "S004  Missense_Mutation  1.430000\n",
      "S005           Wildtype -0.343000\n",
      "S006  Missense_Mutation  3.010000\n",
      "S007           Wildtype -0.148000\n",
      "S008  Missense_Mutation  0.441000\n",
      "S009  Nonsense_Mutation -1.220000\n",
      "S010           Wildtype -0.082500\n",
      "S011           Wildtype -0.181000\n",
      "S012           Wildtype -0.000425\n",
      "S013    Frame_Shift_Del  0.489000\n",
      "S014           Wildtype -0.203000\n",
      "S015  Missense_Mutation  3.310000\n",
      "S016  Missense_Mutation  2.120000\n",
      "S017           Wildtype -0.243000\n",
      "S018           Wildtype -0.000950\n",
      "S019           Wildtype  0.021300\n",
      "S020  Missense_Mutation  0.353000\n",
      "S021           Wildtype -0.403000\n",
      "S022  Nonsense_Mutation -0.154000\n",
      "S023           Wildtype -0.056600\n",
      "S024           Wildtype -0.280000\n",
      "S025           Wildtype -0.519000\n",
      "S026           Wildtype -0.455000\n",
      "S027           Wildtype  0.098000\n",
      "S028           Wildtype -0.209000\n",
      "S029           Wildtype -0.081900\n",
      "S030           Wildtype  0.709000\n",
      "...                 ...       ...\n",
      "S066           Wildtype -0.831000\n",
      "S067           Wildtype  0.258000\n",
      "S068           Wildtype  0.123000\n",
      "S070           Wildtype  0.628000\n",
      "S071  Missense_Mutation  3.030000\n",
      "S072  Missense_Mutation  1.210000\n",
      "S073           Wildtype  0.142000\n",
      "S074           Wildtype -0.197000\n",
      "S075           Wildtype -0.213000\n",
      "S076           Wildtype -0.779000\n",
      "S077           Wildtype  0.174000\n",
      "S078           Wildtype  0.125000\n",
      "S079           Wildtype  0.409000\n",
      "S081           Wildtype -0.308000\n",
      "S082  Missense_Mutation  1.450000\n",
      "S083           Wildtype  0.124000\n",
      "S084           Wildtype  0.087700\n",
      "S088           Wildtype -0.700000\n",
      "S089           Wildtype -0.146000\n",
      "S090           Wildtype  0.252000\n",
      "S091           Wildtype  0.072500\n",
      "S092           Wildtype  0.039000\n",
      "S093           Wildtype -0.054100\n",
      "S094           Wildtype -0.274000\n",
      "S095           Wildtype -0.233000\n",
      "S096  Missense_Mutation  4.000000\n",
      "S097        Splice_Site  2.040000\n",
      "S098           Wildtype  1.120000\n",
      "S099           Wildtype -0.257000\n",
      "S100  Missense_Mutation  1.200000\n",
      "\n",
      "[88 rows x 2 columns]\n"
     ]
    }
   ],
   "source": [
    "gene = \"TP53\"\n",
    "protList = [\"TP53\"]\n",
    "cross = CPTAC.compare_mutations(proteomics, gene)\n",
    "cross = cross[:100]\n",
    "cross = cross[[\"Mutation\", protList[0]]].dropna(axis=0)\n",
    "\n",
    "print (cross)"
   ]
  },
  {
   "cell_type": "markdown",
   "metadata": {},
   "source": [
    "### Perform a t-test with mutated and non-mutated protein levels"
   ]
  },
  {
   "cell_type": "code",
   "execution_count": 5,
   "metadata": {
    "scrolled": false
   },
   "outputs": [
    {
     "name": "stdout",
     "output_type": "stream",
     "text": [
      "Test for TP53: \n",
      "Ttest_indResult(statistic=5.87288377126809, pvalue=7.869064487646565e-08)\n"
     ]
    }
   ],
   "source": [
    "for protein in protList:\n",
    "    mutated = cross.loc[cross[\"Mutation\"] != \"Wildtype\"]\n",
    "    wt = cross.loc[cross[\"Mutation\"] == \"Wildtype\"]\n",
    "    ttest = scipy.stats.ttest_ind(mutated[protein], wt[protein])\n",
    "    print(\"Test for \" + protein + \": \")\n",
    "    print(ttest)"
   ]
  },
  {
   "cell_type": "markdown",
   "metadata": {},
   "source": [
    "### We can now plot the data and see that TP53 has a significantly higher abundance when it is mutated (missense mutations specifically)"
   ]
  },
  {
   "cell_type": "code",
   "execution_count": 7,
   "metadata": {},
   "outputs": [
    {
     "data": {
      "image/png": "[encoded data removed]",
      "text/plain": [
       "<Figure size 842.4x595.44 with 1 Axes>"
      ]
     },
     "metadata": {
      "needs_background": "light"
     },
     "output_type": "display_data"
    }
   ],
   "source": [
    "a4_dims = (11.7, 8.27)\n",
    "fig, ax = plt.subplots(figsize=a4_dims)\n",
    "somatic_boxplot = sns.boxplot(data=cross, x=\"Mutation\",y=gene, ax = ax)\n",
    "somatic_boxplot.set_title(\"TP53 gene mutation protein abundance\")\n",
    "somatic_boxplot = sns.stripplot(data=cross, x=\"Mutation\", y=gene,jitter=True, color=\".3\")\n",
    "somatic_boxplot.set(xlabel=\"Somatic Gene Mutation\",ylabel=\"Proteomics\")\n",
    "plt.show()"
   ]
  },
  {
   "cell_type": "markdown",
   "metadata": {},
   "source": [
    "### Let's look at the p-value and plot for missense mutations specifically"
   ]
  },
  {
   "cell_type": "code",
   "execution_count": 8,
   "metadata": {},
   "outputs": [
    {
     "name": "stdout",
     "output_type": "stream",
     "text": [
      "Test for TP53: \n",
      "Ttest_indResult(statistic=9.23012818363253, pvalue=1.8452962183494925e-15)\n"
     ]
    }
   ],
   "source": [
    "mutated = cross.loc[cross[\"Mutation\"] == \"Missense_Mutation\"]\n",
    "wt = cross.loc[cross[\"Mutation\"] == \"Wildtype\"]\n",
    "ttest = scipy.stats.ttest_ind(mutated[protein], wt[protein])\n",
    "print(\"Test for \" + protein + \": \")\n",
    "print(ttest)"
   ]
  },
  {
   "cell_type": "code",
   "execution_count": 9,
   "metadata": {
    "scrolled": true
   },
   "outputs": [],
   "source": [
    "missense_only = cross.loc[(cross[\"Mutation\"] == \"Wildtype\") | (cross[\"Mutation\"] == \"Missense_Mutation\")]"
   ]
  },
  {
   "cell_type": "code",
   "execution_count": 10,
   "metadata": {},
   "outputs": [
    {
     "data": {
      "image/png": "[encoded data removed]",
      "text/plain": [
       "<Figure size 842.4x595.44 with 1 Axes>"
      ]
     },
     "metadata": {
      "needs_background": "light"
     },
     "output_type": "display_data"
    }
   ],
   "source": [
    "a4_dims = (11.7, 8.27)\n",
    "fig, ax = plt.subplots(figsize=a4_dims)\n",
    "somatic_boxplot = sns.boxplot(data=missense_only, x=\"Mutation\",y=gene, ax = ax)\n",
    "somatic_boxplot.set_title(\"TP53 gene mutation protein abundance\")\n",
    "somatic_boxplot = sns.stripplot(data=missense_only, x=\"Mutation\", y=gene,jitter=True, color=\".3\")\n",
    "somatic_boxplot.set(xlabel=\"Somatic Gene Mutation\",ylabel=\"Proteomics\")\n",
    "plt.show()"
   ]
  },
  {
   "cell_type": "markdown",
   "metadata": {},
   "source": [
    "## TP53 mutation effect on p53 phosphorylation levels"
   ]
  },
  {
   "cell_type": "markdown",
   "metadata": {},
   "source": [
    "### Create a new \"phos_cross\" dataframe, which contains all phosphorylation sites on p53. We do this using the same CPTAC function as before, except we pass in the phosphoproteomics data"
   ]
  },
  {
   "cell_type": "code",
   "execution_count": 11,
   "metadata": {},
   "outputs": [
    {
     "data": {
      "text/html": [
       "<div>\n",
       "<style scoped>\n",
       "    .dataframe tbody tr th:only-of-type {\n",
       "        vertical-align: middle;\n",
       "    }\n",
       "\n",
       "    .dataframe tbody tr th {\n",
       "        vertical-align: top;\n",
       "    }\n",
       "\n",
       "    .dataframe thead th {\n",
       "        text-align: right;\n",
       "    }\n",
       "</style>\n",
       "<table border=\"1\" class=\"dataframe\">\n",
       "  <thead>\n",
       "    <tr style=\"text-align: right;\">\n",
       "      <th></th>\n",
       "      <th>TP53-S315</th>\n",
       "      <th>TP53BP1-S1004</th>\n",
       "      <th>TP53BP1-S1033</th>\n",
       "      <th>TP53BP1-S1072</th>\n",
       "      <th>TP53BP1-S1073</th>\n",
       "      <th>TP53BP1-S1099</th>\n",
       "      <th>TP53BP1-S1106</th>\n",
       "      <th>TP53BP1-S1109</th>\n",
       "      <th>TP53BP1-S1119</th>\n",
       "      <th>TP53BP1-S1221</th>\n",
       "      <th>...</th>\n",
       "      <th>TP53BP2-S704</th>\n",
       "      <th>TP53BP2-S720</th>\n",
       "      <th>TP53BP2-S743</th>\n",
       "      <th>TP53BP2-S789</th>\n",
       "      <th>TP53BP2-T745</th>\n",
       "      <th>TP53I11-S14</th>\n",
       "      <th>TP53RK-T8</th>\n",
       "      <th>Patient_Id</th>\n",
       "      <th>Mutation</th>\n",
       "      <th>Location</th>\n",
       "    </tr>\n",
       "  </thead>\n",
       "  <tbody>\n",
       "    <tr>\n",
       "      <th>S001</th>\n",
       "      <td>NaN</td>\n",
       "      <td>-0.25</td>\n",
       "      <td>NaN</td>\n",
       "      <td>-1.62</td>\n",
       "      <td>-0.34</td>\n",
       "      <td>0.86</td>\n",
       "      <td>0.61</td>\n",
       "      <td>0.50</td>\n",
       "      <td>0.33</td>\n",
       "      <td>0.12</td>\n",
       "      <td>...</td>\n",
       "      <td>0.32</td>\n",
       "      <td>-0.01</td>\n",
       "      <td>-0.65</td>\n",
       "      <td>-0.48</td>\n",
       "      <td>NaN</td>\n",
       "      <td>1.16</td>\n",
       "      <td>NaN</td>\n",
       "      <td>C3L-00006</td>\n",
       "      <td>Missense_Mutation</td>\n",
       "      <td>p.R248W</td>\n",
       "    </tr>\n",
       "    <tr>\n",
       "      <th>S002</th>\n",
       "      <td>0.61</td>\n",
       "      <td>-0.11</td>\n",
       "      <td>0.30</td>\n",
       "      <td>0.10</td>\n",
       "      <td>0.21</td>\n",
       "      <td>0.19</td>\n",
       "      <td>0.20</td>\n",
       "      <td>-0.24</td>\n",
       "      <td>-0.14</td>\n",
       "      <td>-0.34</td>\n",
       "      <td>...</td>\n",
       "      <td>NaN</td>\n",
       "      <td>-0.31</td>\n",
       "      <td>0.02</td>\n",
       "      <td>-0.30</td>\n",
       "      <td>0.20</td>\n",
       "      <td>0.84</td>\n",
       "      <td>0.02</td>\n",
       "      <td>NaN</td>\n",
       "      <td>Wildtype</td>\n",
       "      <td>NaN</td>\n",
       "    </tr>\n",
       "    <tr>\n",
       "      <th>S003</th>\n",
       "      <td>-0.79</td>\n",
       "      <td>-0.26</td>\n",
       "      <td>0.62</td>\n",
       "      <td>-0.32</td>\n",
       "      <td>-1.48</td>\n",
       "      <td>-0.02</td>\n",
       "      <td>0.15</td>\n",
       "      <td>-0.26</td>\n",
       "      <td>0.26</td>\n",
       "      <td>NaN</td>\n",
       "      <td>...</td>\n",
       "      <td>0.60</td>\n",
       "      <td>NaN</td>\n",
       "      <td>0.19</td>\n",
       "      <td>NaN</td>\n",
       "      <td>-0.06</td>\n",
       "      <td>1.02</td>\n",
       "      <td>-0.31</td>\n",
       "      <td>NaN</td>\n",
       "      <td>Wildtype</td>\n",
       "      <td>NaN</td>\n",
       "    </tr>\n",
       "    <tr>\n",
       "      <th>S004</th>\n",
       "      <td>NaN</td>\n",
       "      <td>0.42</td>\n",
       "      <td>-0.34</td>\n",
       "      <td>0.10</td>\n",
       "      <td>0.94</td>\n",
       "      <td>-0.03</td>\n",
       "      <td>-0.06</td>\n",
       "      <td>0.91</td>\n",
       "      <td>0.02</td>\n",
       "      <td>-0.17</td>\n",
       "      <td>...</td>\n",
       "      <td>-2.54</td>\n",
       "      <td>-0.65</td>\n",
       "      <td>-0.14</td>\n",
       "      <td>-1.19</td>\n",
       "      <td>-1.80</td>\n",
       "      <td>0.36</td>\n",
       "      <td>NaN</td>\n",
       "      <td>NaN</td>\n",
       "      <td>Wildtype</td>\n",
       "      <td>NaN</td>\n",
       "    </tr>\n",
       "    <tr>\n",
       "      <th>S005</th>\n",
       "      <td>3.78</td>\n",
       "      <td>0.38</td>\n",
       "      <td>0.32</td>\n",
       "      <td>0.26</td>\n",
       "      <td>0.31</td>\n",
       "      <td>0.47</td>\n",
       "      <td>-0.07</td>\n",
       "      <td>0.80</td>\n",
       "      <td>-0.73</td>\n",
       "      <td>-0.50</td>\n",
       "      <td>...</td>\n",
       "      <td>NaN</td>\n",
       "      <td>0.51</td>\n",
       "      <td>0.79</td>\n",
       "      <td>-0.14</td>\n",
       "      <td>NaN</td>\n",
       "      <td>-0.92</td>\n",
       "      <td>0.02</td>\n",
       "      <td>C3L-00098</td>\n",
       "      <td>Missense_Mutation</td>\n",
       "      <td>p.S241C</td>\n",
       "    </tr>\n",
       "  </tbody>\n",
       "</table>\n",
       "<p>5 rows × 95 columns</p>\n",
       "</div>"
      ],
      "text/plain": [
       "      TP53-S315  TP53BP1-S1004  TP53BP1-S1033  TP53BP1-S1072  TP53BP1-S1073  \\\n",
       "S001        NaN          -0.25            NaN          -1.62          -0.34   \n",
       "S002       0.61          -0.11           0.30           0.10           0.21   \n",
       "S003      -0.79          -0.26           0.62          -0.32          -1.48   \n",
       "S004        NaN           0.42          -0.34           0.10           0.94   \n",
       "S005       3.78           0.38           0.32           0.26           0.31   \n",
       "\n",
       "      TP53BP1-S1099  TP53BP1-S1106  TP53BP1-S1109  TP53BP1-S1119  \\\n",
       "S001           0.86           0.61           0.50           0.33   \n",
       "S002           0.19           0.20          -0.24          -0.14   \n",
       "S003          -0.02           0.15          -0.26           0.26   \n",
       "S004          -0.03          -0.06           0.91           0.02   \n",
       "S005           0.47          -0.07           0.80          -0.73   \n",
       "\n",
       "      TP53BP1-S1221    ...     TP53BP2-S704  TP53BP2-S720  TP53BP2-S743  \\\n",
       "S001           0.12    ...             0.32         -0.01         -0.65   \n",
       "S002          -0.34    ...              NaN         -0.31          0.02   \n",
       "S003            NaN    ...             0.60           NaN          0.19   \n",
       "S004          -0.17    ...            -2.54         -0.65         -0.14   \n",
       "S005          -0.50    ...              NaN          0.51          0.79   \n",
       "\n",
       "      TP53BP2-S789  TP53BP2-T745  TP53I11-S14  TP53RK-T8  Patient_Id  \\\n",
       "S001         -0.48           NaN         1.16        NaN   C3L-00006   \n",
       "S002         -0.30          0.20         0.84       0.02         NaN   \n",
       "S003           NaN         -0.06         1.02      -0.31         NaN   \n",
       "S004         -1.19         -1.80         0.36        NaN         NaN   \n",
       "S005         -0.14           NaN        -0.92       0.02   C3L-00098   \n",
       "\n",
       "               Mutation  Location  \n",
       "S001  Missense_Mutation   p.R248W  \n",
       "S002           Wildtype       NaN  \n",
       "S003           Wildtype       NaN  \n",
       "S004           Wildtype       NaN  \n",
       "S005  Missense_Mutation   p.S241C  \n",
       "\n",
       "[5 rows x 95 columns]"
      ]
     },
     "execution_count": 11,
     "metadata": {},
     "output_type": "execute_result"
    }
   ],
   "source": [
    "phos_cross = CPTAC.compare_mutations(phos, gene)\n",
    "phos_cross.head()"
   ]
  },
  {
   "cell_type": "markdown",
   "metadata": {},
   "source": [
    "### We see that *all* sites that contain \"TP53\" are included, but we're not interested in TP53BP1/2 at this point, so we filter them out"
   ]
  },
  {
   "cell_type": "code",
   "execution_count": 12,
   "metadata": {},
   "outputs": [
    {
     "data": {
      "text/html": [
       "<div>\n",
       "<style scoped>\n",
       "    .dataframe tbody tr th:only-of-type {\n",
       "        vertical-align: middle;\n",
       "    }\n",
       "\n",
       "    .dataframe tbody tr th {\n",
       "        vertical-align: top;\n",
       "    }\n",
       "\n",
       "    .dataframe thead th {\n",
       "        text-align: right;\n",
       "    }\n",
       "</style>\n",
       "<table border=\"1\" class=\"dataframe\">\n",
       "  <thead>\n",
       "    <tr style=\"text-align: right;\">\n",
       "      <th></th>\n",
       "      <th>TP53-S315</th>\n",
       "      <th>Mutation</th>\n",
       "    </tr>\n",
       "  </thead>\n",
       "  <tbody>\n",
       "    <tr>\n",
       "      <th>S002</th>\n",
       "      <td>0.61</td>\n",
       "      <td>Wildtype</td>\n",
       "    </tr>\n",
       "    <tr>\n",
       "      <th>S003</th>\n",
       "      <td>-0.79</td>\n",
       "      <td>Wildtype</td>\n",
       "    </tr>\n",
       "    <tr>\n",
       "      <th>S005</th>\n",
       "      <td>3.78</td>\n",
       "      <td>Missense_Mutation</td>\n",
       "    </tr>\n",
       "    <tr>\n",
       "      <th>S006</th>\n",
       "      <td>-0.63</td>\n",
       "      <td>Wildtype</td>\n",
       "    </tr>\n",
       "    <tr>\n",
       "      <th>S008</th>\n",
       "      <td>-0.27</td>\n",
       "      <td>Nonsense_Mutation</td>\n",
       "    </tr>\n",
       "  </tbody>\n",
       "</table>\n",
       "</div>"
      ],
      "text/plain": [
       "      TP53-S315           Mutation\n",
       "S002       0.61           Wildtype\n",
       "S003      -0.79           Wildtype\n",
       "S005       3.78  Missense_Mutation\n",
       "S006      -0.63           Wildtype\n",
       "S008      -0.27  Nonsense_Mutation"
      ]
     },
     "execution_count": 12,
     "metadata": {},
     "output_type": "execute_result"
    }
   ],
   "source": [
    "sites = phos_cross.filter(regex='TP53-|Mutation').dropna(axis = 0)\n",
    "sites.head()"
   ]
  },
  {
   "cell_type": "markdown",
   "metadata": {},
   "source": [
    "### t-test and plot for this site\n",
    "<b>Note: The wildtype plot comes first in this one because that is what comes first in the dataframe (S001 measurement for phoshporylation was NaN and so it was dropped)</b>"
   ]
  },
  {
   "cell_type": "code",
   "execution_count": 13,
   "metadata": {},
   "outputs": [
    {
     "name": "stdout",
     "output_type": "stream",
     "text": [
      "Test for TP53: \n",
      "Ttest_indResult(statistic=7.2747734830732105, pvalue=1.8714703733944433e-10)\n"
     ]
    }
   ],
   "source": [
    "phosphosite = sites.columns[0]\n",
    "mutated = sites.loc[sites[\"Mutation\"] == \"Missense_Mutation\"]\n",
    "wt = sites.loc[sites[\"Mutation\"] == \"Wildtype\"]\n",
    "ttest = scipy.stats.ttest_ind(mutated[phosphosite], wt[phosphosite])\n",
    "print(\"Test for \" + protein + \": \")\n",
    "print(ttest)"
   ]
  },
  {
   "cell_type": "code",
   "execution_count": 14,
   "metadata": {},
   "outputs": [
    {
     "data": {
      "image/png": "[encoded data removed]",
      "text/plain": [
       "<Figure size 842.4x595.44 with 1 Axes>"
      ]
     },
     "metadata": {
      "needs_background": "light"
     },
     "output_type": "display_data"
    }
   ],
   "source": [
    "site_missense_only = sites.loc[(sites[\"Mutation\"] == \"Wildtype\") | (sites[\"Mutation\"] == \"Missense_Mutation\")]\n",
    "\n",
    "a4_dims = (11.7, 8.27)\n",
    "fig, ax = plt.subplots(figsize=a4_dims)\n",
    "somatic_boxplot = sns.boxplot(data=site_missense_only, x=\"Mutation\",y=phosphosite, ax = ax)\n",
    "somatic_boxplot.set_title(\"TP53 gene mutation protein abundance\")\n",
    "somatic_boxplot = sns.stripplot(data=site_missense_only, x=\"Mutation\", y=phosphosite,jitter=True, color=\".3\")\n",
    "somatic_boxplot.set(xlabel=\"Somatic Gene Mutation\",ylabel=\"Proteomics\")\n",
    "plt.show()"
   ]
  },
  {
   "cell_type": "markdown",
   "metadata": {},
   "source": [
    "### We see that this site is generally phosphorylated at higher levels when TP53 is mutated"
   ]
  }
 ],
 "metadata": {
  "kernelspec": {
   "display_name": "Python 3",
   "language": "python",
   "name": "python3"
  },
  "language_info": {
   "codemirror_mode": {
    "name": "ipython",
    "version": 3
   },
   "file_extension": ".py",
   "mimetype": "text/x-python",
   "name": "python",
   "nbconvert_exporter": "python",
   "pygments_lexer": "ipython3",
   "version": "3.7.1"
  }
 },
 "nbformat": 4,
 "nbformat_minor": 2
}
