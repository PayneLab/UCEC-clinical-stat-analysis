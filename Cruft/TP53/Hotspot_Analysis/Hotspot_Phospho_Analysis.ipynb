{
 "cells": [
  {
   "cell_type": "markdown",
   "metadata": {},
   "source": [
    "# TP53 Hotspot Phosphoproteomic Analysis"
   ]
  },
  {
   "cell_type": "code",
   "execution_count": 1,
   "metadata": {},
   "outputs": [
    {
     "name": "stdout",
     "output_type": "stream",
     "text": [
      "Loading CPTAC data:\n",
      "Loading Dictionary...\n",
      "Loading Clinical Data...\n",
      "Loading Proteomics Data...\n",
      "Loading Transcriptomics Data...\n",
      "Loading CNA Data...\n",
      "Loading Phosphoproteomics Data...\n",
      "Loading Somatic Mutation Data...\n",
      "\n",
      " ******PLEASE READ******\n",
      "WARNING: This data is under a publication embargo until July 1, 2019.\n",
      "CPTAC is a community resource project and data are made available\n",
      "rapidly after generation for community research use. The embargo\n",
      "allows exploring and utilizing the data, but the data may not be in a\n",
      "publication until July 1, 2019. Please see\n",
      "https://proteomics.cancer.gov/data-portal/about/data-use-agreement or\n",
      "enter CPTAC.embargo() to open the webpage for more details.\n"
     ]
    }
   ],
   "source": [
    "import pandas as pd\n",
    "import numpy as np\n",
    "import re\n",
    "import scipy.stats\n",
    "import statsmodels.stats.multitest\n",
    "import matplotlib.pyplot as plt\n",
    "import seaborn as sns\n",
    "import CPTAC"
   ]
  },
  {
   "cell_type": "code",
   "execution_count": 2,
   "metadata": {},
   "outputs": [
    {
     "data": {
      "text/plain": [
       "'0.1.3'"
      ]
     },
     "execution_count": 2,
     "metadata": {},
     "output_type": "execute_result"
    }
   ],
   "source": [
    "CPTAC.version()"
   ]
  },
  {
   "cell_type": "code",
   "execution_count": 2,
   "metadata": {},
   "outputs": [],
   "source": [
    "somatic = CPTAC.get_somatic()\n",
    "proteomics = CPTAC.get_proteomics()\n",
    "phos = CPTAC.get_phosphoproteomics()\n",
    "gene = 'TP53'\n",
    "protein = 'TP53'"
   ]
  },
  {
   "cell_type": "code",
   "execution_count": 3,
   "metadata": {},
   "outputs": [],
   "source": [
    "#A list of mutations present in the hotspot according to our Hotspot3D output\n",
    "hotspot_mutations = ['p.P250L', 'p.R248W', 'p.S241C', 'p.S241del', 'p.K164E', 'p.R249S', 'p.R273H', 'p.R282W',\n",
    "                    'p.S127Y', 'p.G244D', 'p.A159P']\n",
    "mutated_hotspot = somatic.loc[(somatic['Location'].isin(hotspot_mutations)) & (somatic['Gene'] == gene)]\n",
    "hotspot_patients = mutated_hotspot['Clinical_Patient_Key']"
   ]
  },
  {
   "cell_type": "markdown",
   "metadata": {},
   "source": [
    "### List of proteins that interact with TP53 (according to Uniprot and String)"
   ]
  },
  {
   "cell_type": "code",
   "execution_count": 4,
   "metadata": {},
   "outputs": [],
   "source": [
    "protList = ['AIMP2', 'ARIH2', 'ARRB1', 'ASH2L', 'ATG7', 'AXIN1', 'BANP', 'BCL2', 'BCL2L1', 'BCR', 'BHLHE40', 'BRCA2',\n",
    "           'BRD7', 'BTBD2', 'BTRC', 'CABLES1', 'CARM1', 'CCDC106', 'CDKN1A', 'CEBPB', 'CHD8', 'CREBBP', 'CSE1L', 'CSNK2A1', 'CUL7',\n",
    "           'CUL9', 'CXXC1', 'DAXX', 'DDX17', 'DDX5', 'DROSHA', 'DUSP26', 'DVL2', 'E6', 'EP300', 'ETS2', 'FBXO11',\n",
    "           'FOXO3', 'GSK3B', 'GTF2H1', 'HDAC1', 'HIPK1', 'HIPK2', 'HMGB1', 'HNRNPK', 'HRMT1L2', 'HSP82', 'HSPA1L', 'HSPA9', 'HSPB1',\n",
    "           'HTT', 'HUWE1', 'IFI16', 'IFI205B', 'ING4', 'IKBKB', 'IP6K2', 'JMJD6', 'KAT5', 'KAT8', 'KDM1A', 'KMT2E', 'LAMA4',\n",
    "           'MAGEA2B', 'MAGEC2', 'MAP1B', 'MAPK11', 'MAPKAPK5', 'MDM2', 'MDM4', 'MKRN1', 'MPDZ', 'MT1A', 'NCL', 'NCOR2',\n",
    "           'NFYA', 'NFYB', 'NOC2L', 'NOL3', 'NPM1', 'NR0B2', 'NR4A1', 'NRDC', 'NSP1', 'NUAK1', 'NUMB', 'OTUB1', \n",
    "           'PARD3', 'PARP1', 'PBK', 'PHB', 'PIAS1', 'PIAS2', 'PIAS4', 'PIN1', 'PLK1', 'PML', 'PPIF', 'PPP1CC',\n",
    "           'PPP1R13L', 'PPP2R1A', 'PPP2R5C', 'PRKCD', 'PSME3', 'PTK2', 'RAD51', 'RBPJ', 'RCHY1', 'RFWD3', 'RING1',\n",
    "           'RPS3', 'RYBP', 'S100A1', 'S100A2', 'S100A4', 'S100B', 'SAFB', 'SETD7', 'SFN', 'SIN3A', 'SIRT1', 'SMAD2',\n",
    "           'SMYD2', 'SNAT1', 'SOX4', 'SP1', 'SREBF2', 'SRPK1', 'SUMO1', 'SYVN1', 'TAF1', 'TBP', 'TCF4', 'TOE1', 'TP53BP1',\n",
    "           'TP53BP2', 'TP53INP1', 'TP63', 'TPT1', 'TRIM24', 'TWIST1', 'UBC', 'UBE3A', 'UHRF2', 'USP42', 'USP7', 'VDR', 'VRK1',\n",
    "           'WRN', 'WWOX', 'XPO1', 'XRCC6', 'YWHAG', 'YWHAZ', 'ZNF420', 'ATM', 'BAX', 'BCL2L11', 'CCNA1', 'CCNA2', 'CCNB1', \n",
    "           'CCNB2', 'CCND1', 'CCND3', 'CCNE1', 'CCNE2', 'CDC25A', 'CDC6', 'CDK2', 'CDKN1B', 'CDKN2A', 'CHEK1', \n",
    "           'CHEK2', 'CITED2', 'CKS1B', 'MCM5', 'MRE11A', 'PCNA', 'RB1', 'ARMC10', 'BANP', 'CDKN2AIP', 'NUAK1', 'STK11',\n",
    "           'LKB1', 'UHRF2', 'E4F1', 'MAML1', 'MKRN1', 'PML', 'FBXO42', 'ATM', 'PP2A', 'PPP2R5C', 'PPP2R2A', 'AURKA', 'DAXX',\n",
    "           'BRD7', 'TRIM24', 'L3MBTL1', 'GRK5', 'CAK', 'CDK7', 'MAT1', 'CDK5', 'AURKB', 'SETD2', 'UHRF2', 'NOC2L', 'PTK2',\n",
    "           'FAK1', 'PTK2B', 'PYK2', 'PRKCG', 'PPIF', 'SNAI1', 'KAT6A', 'ANKRD2', 'RFFL', 'RNF34', 'MTA1', 'COP1', 'CCAR2',\n",
    "           'MORC3', 'POU4F2', 'NOP53', 'AFG1L', 'UBD', 'TAF6', 'FATS', 'C10ORF90']\n",
    "\n",
    "#Remove possible duplicates\n",
    "protList = list(set(protList))"
   ]
  },
  {
   "cell_type": "markdown",
   "metadata": {},
   "source": [
    "## All mutations vs wildtype"
   ]
  },
  {
   "cell_type": "code",
   "execution_count": 6,
   "metadata": {},
   "outputs": [
    {
     "data": {
      "text/plain": [
       "{'NPM1-S70': 0.038878505182900966,\n",
       " 'CREBBP-T974': 0.009217027484735641,\n",
       " 'TP53BP1-S1004': 0.032625891703090396,\n",
       " 'TP53BP1-S1431': 0.0008643140003929224,\n",
       " 'TP53BP1-S1435': 0.0008643140003929224,\n",
       " 'TP53BP1-S1683': 0.0009882801246996684,\n",
       " 'TP53BP1-S1706': 7.899210519341453e-05,\n",
       " 'TP53BP1-S1763': 6.901183518862966e-07,\n",
       " 'TP53BP1-S1764': 0.0026881513503528814,\n",
       " 'TP53BP1-S403': 0.032625891703090396,\n",
       " 'TP53BP1-S640': 0.04139829057587989,\n",
       " 'TP53BP1-S867': 0.0030048347848826654,\n",
       " 'FOXO3-S43': 0.0016182401268920261,\n",
       " 'CLASP1-S572': 0.012982087946777021,\n",
       " 'CTDSP1-T74': 0.032625891703090396,\n",
       " 'LASP1-T104': 0.032933589316956446,\n",
       " 'SP100-S157': 0.00010674105443492965,\n",
       " 'SP100-S223': 0.004112207588010277,\n",
       " 'SP100-S228': 0.0026881513503528814,\n",
       " 'SP100-S231': 4.679164997306459e-05,\n",
       " 'SP110-S244': 0.0026881513503528814,\n",
       " 'SP110-S380': 0.004112207588010277,\n",
       " 'USP11-S648': 0.009217027484735641,\n",
       " 'CHD8-S549': 0.030286647174017287,\n",
       " 'PARP1-S782': 0.014140455703340167,\n",
       " 'BCL2L12-S273': 0.01595262598239566,\n",
       " 'RYBP-S193': 0.020067029266601363,\n",
       " 'NCL-S619': 0.00012500884984881675,\n",
       " 'NCL-S67': 9.942767345260665e-06,\n",
       " 'NOC2L-S49': 0.0009882801246996684,\n",
       " 'NOC2L-S56': 0.006364124261150357,\n",
       " 'PLK1-T210': 0.0026881513503528814}"
      ]
     },
     "execution_count": 6,
     "metadata": {},
     "output_type": "execute_result"
    }
   ],
   "source": [
    "sites = phos.columns\n",
    "p_values = []\n",
    "site_names = []\n",
    "\n",
    "for protein in protList:\n",
    "    pattern = re.compile(protein)\n",
    "    isInList = filter(pattern.search, sites)\n",
    "    if next(isInList, None) is not None:\n",
    "        phosphositesdf = CPTAC.compare_mutations(phos, protein, gene)\n",
    "        phosphositesdf = phosphositesdf.loc[phosphositesdf['Patient_Type'] == 'Tumor'].drop('Patient_Type', axis=1)\n",
    "        phosphositesdf['Within_Hotspot'] = False\n",
    "        phosphositesdf.loc[hotspot_patients, 'Within_Hotspot'] = True\n",
    "        phosphositesdf.loc[phosphositesdf['Mutation'] == 'Wildtype', 'Within_Hotspot'] = 'Wildtype'\n",
    "        phosphositesdf.drop('Mutation', axis=1)\n",
    "        for site in phosphositesdf.columns:\n",
    "            if (site != 'Within_Hotspot' and site != 'Mutation'):\n",
    "                sitedf = phosphositesdf[[site, 'Within_Hotspot']].dropna(axis=0)\n",
    "                mutated = sitedf.loc[sitedf['Within_Hotspot'] != 'Wildtype']\n",
    "                wt = sitedf.loc[sitedf['Within_Hotspot'] == 'Wildtype']\n",
    "                ttest = scipy.stats.ttest_ind(mutated[site], wt[site])\n",
    "                p_values.append(ttest[1])\n",
    "                site_names.append(site)\n",
    "                \n",
    "areSignificant = statsmodels.stats.multitest.fdrcorrection(p_values)[0]\n",
    "pvals = statsmodels.stats.multitest.fdrcorrection(p_values)[1]\n",
    "significant_proteins = np.array(site_names)[np.array(areSignificant)]\n",
    "significant_pvals = np.array(pvals)[np.array(areSignificant)]\n",
    "significant_vals = dict(zip(significant_proteins, significant_pvals))\n",
    "significant_vals"
   ]
  },
  {
   "cell_type": "markdown",
   "metadata": {},
   "source": [
    "## Mutations within hotspot vs wildtype"
   ]
  },
  {
   "cell_type": "code",
   "execution_count": 7,
   "metadata": {
    "scrolled": true
   },
   "outputs": [
    {
     "data": {
      "text/plain": [
       "{'HUWE1-S3808': 0.023035547134485423,\n",
       " 'HUWE1-S3818': 0.022558704623591275,\n",
       " 'PIAS2-S499': 0.04594812104477181,\n",
       " 'CREBBP-T974': 0.040748452536135515,\n",
       " 'TP53BP1-S1431': 0.0011162671079661052,\n",
       " 'TP53BP1-S1435': 0.001501726880253013,\n",
       " 'TP53BP1-S1683': 0.021475996183742276,\n",
       " 'TP53BP1-S1706': 0.0002414574679697111,\n",
       " 'TP53BP1-S1763': 0.0005262666326208138,\n",
       " 'TP53BP1-S227': 0.01490006977908907,\n",
       " 'TP53BP1-S867': 0.005189706313447883,\n",
       " 'FOXO3-S43': 0.019025958067335855,\n",
       " 'CLASP1-S572': 0.005185397859035873,\n",
       " 'SP100-S157': 0.009311601609255192,\n",
       " 'SP100-S223': 0.001681146675364001,\n",
       " 'SP100-S228': 0.01084611970435412,\n",
       " 'SP100-S231': 0.0002414574679697111,\n",
       " 'SP110-S244': 0.00022715594852941022,\n",
       " 'SP110-S380': 0.013026843951616126,\n",
       " 'USP11-S648': 0.0219367226210614,\n",
       " 'RYBP-S190': 0.003466463721526021,\n",
       " 'RYBP-S193': 0.007259414870953549,\n",
       " 'NCL-S619': 2.8857022530986562e-05,\n",
       " 'NCL-S67': 0.0002414574679697111,\n",
       " 'NOC2L-S49': 0.03537019612696443}"
      ]
     },
     "execution_count": 7,
     "metadata": {},
     "output_type": "execute_result"
    }
   ],
   "source": [
    "sites = phos.columns\n",
    "p_values = []\n",
    "site_names = []\n",
    "\n",
    "for protein in protList:\n",
    "    pattern = re.compile(protein)\n",
    "    isInList = filter(pattern.search, sites)\n",
    "    if next(isInList, None) is not None:\n",
    "        phosphositesdf = CPTAC.compare_mutations(phos, protein, gene)\n",
    "        phosphositesdf = phosphositesdf.loc[phosphositesdf['Patient_Type'] == 'Tumor'].drop('Patient_Type', axis=1)\n",
    "        phosphositesdf['Within_Hotspot'] = False\n",
    "        phosphositesdf.loc[hotspot_patients, 'Within_Hotspot'] = True\n",
    "        phosphositesdf.loc[phosphositesdf['Mutation'] == 'Wildtype', 'Within_Hotspot'] = 'Wildtype'\n",
    "        phosphositesdf.drop('Mutation', axis=1)\n",
    "        for site in phosphositesdf.columns:\n",
    "            if (site != 'Within_Hotspot' and site != 'Mutation'):\n",
    "                sitedf = phosphositesdf[[site, 'Within_Hotspot']].dropna(axis=0)\n",
    "                mutated = sitedf.loc[sitedf['Within_Hotspot'] == True]\n",
    "                wt = sitedf.loc[sitedf['Within_Hotspot'] == 'Wildtype']\n",
    "                ttest = scipy.stats.ttest_ind(mutated[site], wt[site])\n",
    "                p_values.append(ttest[1])\n",
    "                site_names.append(site)\n",
    "                \n",
    "areSignificant = statsmodels.stats.multitest.fdrcorrection(p_values)[0]\n",
    "pvals = statsmodels.stats.multitest.fdrcorrection(p_values)[1]\n",
    "significant_proteins = np.array(site_names)[np.array(areSignificant)]\n",
    "significant_pvals = np.array(pvals)[np.array(areSignificant)]\n",
    "significant_vals = dict(zip(significant_proteins, significant_pvals))\n",
    "significant_vals"
   ]
  },
  {
   "cell_type": "markdown",
   "metadata": {},
   "source": [
    "## Mutations outside of hotspot vs wildtype"
   ]
  },
  {
   "cell_type": "code",
   "execution_count": 8,
   "metadata": {},
   "outputs": [
    {
     "data": {
      "text/plain": [
       "{'TP53BP1-S1763': 3.730212327832176e-05,\n",
       " 'SP100-S157': 0.01926525300150349,\n",
       " 'NCL-S67': 0.01926525300150349}"
      ]
     },
     "execution_count": 8,
     "metadata": {},
     "output_type": "execute_result"
    }
   ],
   "source": [
    "sites = phos.columns\n",
    "p_values = []\n",
    "site_names = []\n",
    "\n",
    "for protein in protList:\n",
    "    pattern = re.compile(protein)\n",
    "    isInList = filter(pattern.search, sites)\n",
    "    if next(isInList, None) is not None:\n",
    "        phosphositesdf = CPTAC.compare_mutations(phos, protein, gene)\n",
    "        phosphositesdf = phosphositesdf.loc[phosphositesdf['Patient_Type'] == 'Tumor'].drop('Patient_Type', axis=1)\n",
    "        phosphositesdf['Within_Hotspot'] = False\n",
    "        phosphositesdf.loc[hotspot_patients, 'Within_Hotspot'] = True\n",
    "        phosphositesdf.loc[phosphositesdf['Mutation'] == 'Wildtype', 'Within_Hotspot'] = 'Wildtype'\n",
    "        phosphositesdf.drop('Mutation', axis=1)\n",
    "        for site in phosphositesdf.columns:\n",
    "            if (site != 'Within_Hotspot' and site != 'Mutation'):\n",
    "                sitedf = phosphositesdf[[site, 'Within_Hotspot']].dropna(axis=0)\n",
    "                mutated = sitedf.loc[sitedf['Within_Hotspot'] == False]\n",
    "                wt = sitedf.loc[sitedf['Within_Hotspot'] == 'Wildtype']\n",
    "                ttest = scipy.stats.ttest_ind(mutated[site], wt[site])\n",
    "                p_values.append(ttest[1])\n",
    "                site_names.append(site)\n",
    "                \n",
    "areSignificant = statsmodels.stats.multitest.fdrcorrection(p_values)[0]\n",
    "pvals = statsmodels.stats.multitest.fdrcorrection(p_values)[1]\n",
    "significant_proteins = np.array(site_names)[np.array(areSignificant)]\n",
    "significant_pvals = np.array(pvals)[np.array(areSignificant)]\n",
    "significant_vals = dict(zip(significant_proteins, significant_pvals))\n",
    "significant_vals"
   ]
  },
  {
   "cell_type": "markdown",
   "metadata": {},
   "source": [
    "## Mutations outside of hotspot vs mutations within hotspot"
   ]
  },
  {
   "cell_type": "code",
   "execution_count": 9,
   "metadata": {},
   "outputs": [
    {
     "data": {
      "text/plain": [
       "{}"
      ]
     },
     "execution_count": 9,
     "metadata": {},
     "output_type": "execute_result"
    }
   ],
   "source": [
    "sites = phos.columns\n",
    "p_values = []\n",
    "site_names = []\n",
    "\n",
    "for protein in protList:\n",
    "    pattern = re.compile(protein)\n",
    "    isInList = filter(pattern.search, sites)\n",
    "    if next(isInList, None) is not None:\n",
    "        phosphositesdf = CPTAC.compare_mutations(phos, protein, gene)\n",
    "        phosphositesdf = phosphositesdf.loc[phosphositesdf['Patient_Type'] == 'Tumor'].drop('Patient_Type', axis=1)\n",
    "        phosphositesdf['Within_Hotspot'] = False\n",
    "        phosphositesdf.loc[hotspot_patients, 'Within_Hotspot'] = True\n",
    "        phosphositesdf.loc[phosphositesdf['Mutation'] == 'Wildtype', 'Within_Hotspot'] = 'Wildtype'\n",
    "        phosphositesdf.drop('Mutation', axis=1)\n",
    "        for site in phosphositesdf.columns:\n",
    "            if (site != 'Within_Hotspot' and site != 'Mutation'):\n",
    "                sitedf = phosphositesdf[[site, 'Within_Hotspot']].dropna(axis=0)\n",
    "                mutated = sitedf.loc[sitedf['Within_Hotspot'] == False]\n",
    "                wt = sitedf.loc[sitedf['Within_Hotspot'] == True]\n",
    "                ttest = scipy.stats.ttest_ind(mutated[site], wt[site])\n",
    "                p_values.append(ttest[1])\n",
    "                site_names.append(site)\n",
    "                \n",
    "areSignificant = statsmodels.stats.multitest.fdrcorrection(p_values)[0]\n",
    "pvals = statsmodels.stats.multitest.fdrcorrection(p_values)[1]\n",
    "significant_proteins = np.array(site_names)[np.array(areSignificant)]\n",
    "significant_pvals = np.array(pvals)[np.array(areSignificant)]\n",
    "significant_vals = dict(zip(significant_proteins, significant_pvals))\n",
    "significant_vals"
   ]
  },
  {
   "cell_type": "code",
   "execution_count": null,
   "metadata": {},
   "outputs": [],
   "source": []
  }
 ],
 "metadata": {
  "kernelspec": {
   "display_name": "Python 3",
   "language": "python",
   "name": "python3"
  },
  "language_info": {
   "codemirror_mode": {
    "name": "ipython",
    "version": 3
   },
   "file_extension": ".py",
   "mimetype": "text/x-python",
   "name": "python",
   "nbconvert_exporter": "python",
   "pygments_lexer": "ipython3",
   "version": "3.7.0"
  }
 },
 "nbformat": 4,
 "nbformat_minor": 2
}
