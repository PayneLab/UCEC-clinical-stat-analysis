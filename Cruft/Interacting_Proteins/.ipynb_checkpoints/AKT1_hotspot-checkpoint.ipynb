{
 "cells": [
  {
   "cell_type": "markdown",
   "metadata": {},
   "source": [
    "# PIK3CA: Effects of Hotspot Mutation on AKT1"
   ]
  },
  {
   "cell_type": "code",
   "execution_count": 2,
   "metadata": {},
   "outputs": [
    {
     "ename": "ModuleNotFoundError",
     "evalue": "No module named 'pandas'",
     "output_type": "error",
     "traceback": [
      "\u001b[0;31m---------------------------------------------------------------------------\u001b[0m",
      "\u001b[0;31mModuleNotFoundError\u001b[0m                       Traceback (most recent call last)",
      "\u001b[0;32m<ipython-input-2-7eb8eb12e2c5>\u001b[0m in \u001b[0;36m<module>\u001b[0;34m\u001b[0m\n\u001b[0;32m----> 1\u001b[0;31m \u001b[0;32mimport\u001b[0m \u001b[0mpandas\u001b[0m \u001b[0;32mas\u001b[0m \u001b[0mpd\u001b[0m\u001b[0;34m\u001b[0m\u001b[0m\n\u001b[0m\u001b[1;32m      2\u001b[0m \u001b[0;32mimport\u001b[0m \u001b[0mnumpy\u001b[0m \u001b[0;32mas\u001b[0m \u001b[0mnp\u001b[0m\u001b[0;34m\u001b[0m\u001b[0m\n\u001b[1;32m      3\u001b[0m \u001b[0;32mimport\u001b[0m \u001b[0mscipy\u001b[0m\u001b[0;34m.\u001b[0m\u001b[0mstats\u001b[0m\u001b[0;34m\u001b[0m\u001b[0m\n\u001b[1;32m      4\u001b[0m \u001b[0;32mimport\u001b[0m \u001b[0mmatplotlib\u001b[0m\u001b[0;34m.\u001b[0m\u001b[0mpyplot\u001b[0m \u001b[0;32mas\u001b[0m \u001b[0mplt\u001b[0m\u001b[0;34m\u001b[0m\u001b[0m\n\u001b[1;32m      5\u001b[0m \u001b[0;32mimport\u001b[0m \u001b[0mseaborn\u001b[0m \u001b[0;32mas\u001b[0m \u001b[0msns\u001b[0m\u001b[0;34m\u001b[0m\u001b[0m\n",
      "\u001b[0;31mModuleNotFoundError\u001b[0m: No module named 'pandas'"
     ]
    }
   ],
   "source": [
    "import pandas as pd\n",
    "import numpy as np\n",
    "import scipy.stats\n",
    "import matplotlib.pyplot as plt\n",
    "import seaborn as sns\n",
    "import re\n",
    "import statsmodels.stats.multitest"
   ]
  },
  {
   "cell_type": "markdown",
   "metadata": {},
   "source": [
    "### Import CPTAC"
   ]
  },
  {
   "cell_type": "code",
   "execution_count": 2,
   "metadata": {},
   "outputs": [
    {
     "name": "stdout",
     "output_type": "stream",
     "text": [
      "Loading CPTAC data:\n",
      "Loading Dictionary...\n",
      "Loading Clinical Data...\n",
      "Loading Proteomics Data...\n",
      "Loading Transcriptomics Data...\n",
      "Loading CNA Data...\n",
      "Loading Phosphoproteomics Data...\n",
      "Loading Somatic Mutation Data...\n",
      "\n",
      " ******PLEASE READ******\n",
      "WARNING: This data is under a publication embargo until July 1, 2019.\n",
      "CPTAC is a community resource project and data are made available\n",
      "rapidly after generation for community research use. The embargo\n",
      "allows exploring and utilizing the data, but the data may not be in a\n",
      "publication until July 1, 2019. Please see\n",
      "https://proteomics.cancer.gov/data-portal/about/data-use-agreement or\n",
      "enter CPTAC.embargo() to open the webpage for more details.\n"
     ]
    }
   ],
   "source": [
    "import CPTAC"
   ]
  },
  {
   "cell_type": "code",
   "execution_count": 3,
   "metadata": {},
   "outputs": [],
   "source": [
    "somatic = CPTAC.get_somatic()\n",
    "proteomics = CPTAC.get_proteomics()\n",
    "phos = CPTAC.get_phosphoproteomics()"
   ]
  },
  {
   "cell_type": "code",
   "execution_count": 4,
   "metadata": {},
   "outputs": [],
   "source": [
    "protein = 'AKT1'\n",
    "gene = 'PIK3CA'"
   ]
  },
  {
   "cell_type": "markdown",
   "metadata": {},
   "source": [
    "## Extract the data for hotspot mutations only "
   ]
  },
  {
   "cell_type": "code",
   "execution_count": 5,
   "metadata": {},
   "outputs": [],
   "source": [
    "#A list of mutations present in the hotspot according to our Hotspot3D output\n",
    "hotspot_mutations = ['p.E545A', 'p.E545K', 'p.E545V', 'p.Q546P', 'p.Q546R', 'p.E542K']\n",
    "mutated_hotspot = somatic.loc[(somatic['Location'].isin(hotspot_mutations)) & (somatic['Gene'] == gene)]\n",
    "hotspot_patients = mutated_hotspot['Clinical_Patient_Key']"
   ]
  },
  {
   "cell_type": "code",
   "execution_count": 6,
   "metadata": {},
   "outputs": [
    {
     "name": "stdout",
     "output_type": "stream",
     "text": [
      "19\n"
     ]
    }
   ],
   "source": [
    "p10_mutations = CPTAC.compare_mutations(proteomics, protein, gene)\n",
    "#print(p10_mutations)\n",
    "p10_mutations['Within_Hotspot'] = False\n",
    "p10_mutations.loc[hotspot_patients, 'Within_Hotspot'] = True\n",
    "p10_mutations.loc[p10_mutations['Mutation'] == 'Wildtype', 'Within_Hotspot'] = 'Wildtype'\n",
    "p10_mutations = p10_mutations.loc[p10_mutations['Patient_Type'] == 'Tumor'].dropna(axis=0)\n",
    "print(len(p10_mutations.loc[(p10_mutations['Within_Hotspot'] == True)]))"
   ]
  },
  {
   "cell_type": "markdown",
   "metadata": {},
   "source": [
    "## Hotspot mutation vs non-hotspot mutation"
   ]
  },
  {
   "cell_type": "code",
   "execution_count": 7,
   "metadata": {},
   "outputs": [
    {
     "name": "stdout",
     "output_type": "stream",
     "text": [
      "Ttest_indResult(statistic=-0.8537826756974813, pvalue=0.39764976429801524)\n"
     ]
    }
   ],
   "source": [
    "in_hotspot = p10_mutations.loc[p10_mutations['Within_Hotspot'] == True]\n",
    "out_hotspot = p10_mutations.loc[p10_mutations['Within_Hotspot'] == False]\n",
    "ttest = scipy.stats.ttest_ind(in_hotspot[protein], out_hotspot[protein])\n",
    "print(ttest)"
   ]
  },
  {
   "cell_type": "markdown",
   "metadata": {},
   "source": [
    "## Hotspot mutation vs other mutations and wildtype"
   ]
  },
  {
   "cell_type": "code",
   "execution_count": 8,
   "metadata": {},
   "outputs": [
    {
     "name": "stdout",
     "output_type": "stream",
     "text": [
      "Ttest_indResult(statistic=-0.7070458734351901, pvalue=0.481215853185884)\n"
     ]
    }
   ],
   "source": [
    "mutated = p10_mutations.loc[p10_mutations['Within_Hotspot'] == True]\n",
    "wt = p10_mutations.loc[p10_mutations['Within_Hotspot'] != True]\n",
    "ttest = scipy.stats.ttest_ind(mutated[protein], wt[protein])\n",
    "print(ttest)"
   ]
  },
  {
   "cell_type": "markdown",
   "metadata": {},
   "source": [
    "## All mutations vs wildtype"
   ]
  },
  {
   "cell_type": "code",
   "execution_count": 9,
   "metadata": {},
   "outputs": [
    {
     "name": "stdout",
     "output_type": "stream",
     "text": [
      "Ttest_indResult(statistic=-0.2511526174289215, pvalue=0.8022219785434666)\n"
     ]
    }
   ],
   "source": [
    "mutated = p10_mutations.loc[p10_mutations['Within_Hotspot'] != 'Wildtype']\n",
    "wt = p10_mutations.loc[p10_mutations['Within_Hotspot'] == 'Wildtype']\n",
    "ttest = scipy.stats.ttest_ind(mutated[protein], wt[protein])\n",
    "print(ttest)"
   ]
  },
  {
   "cell_type": "markdown",
   "metadata": {},
   "source": [
    "## Hotspot mutation v wildtype"
   ]
  },
  {
   "cell_type": "code",
   "execution_count": 10,
   "metadata": {},
   "outputs": [
    {
     "name": "stdout",
     "output_type": "stream",
     "text": [
      "Ttest_indResult(statistic=-0.5786084446758856, pvalue=0.5647373471984232)\n"
     ]
    }
   ],
   "source": [
    "mutated = p10_mutations.loc[p10_mutations['Within_Hotspot'] == True]\n",
    "wt = p10_mutations.loc[p10_mutations['Within_Hotspot'] == 'Wildtype']\n",
    "ttest = scipy.stats.ttest_ind(mutated[protein], wt[protein])\n",
    "print(ttest)"
   ]
  },
  {
   "cell_type": "code",
   "execution_count": 11,
   "metadata": {},
   "outputs": [
    {
     "data": {
      "image/png": "[encoded data removed]",
      "text/plain": [
       "<Figure size 842.4x595.44 with 1 Axes>"
      ]
     },
     "metadata": {
      "needs_background": "light"
     },
     "output_type": "display_data"
    }
   ],
   "source": [
    "a4_dims = (11.7, 8.27)\n",
    "fig, ax = plt.subplots(figsize = a4_dims)\n",
    "boxplt = sns.boxplot(data = p10_mutations, x = 'Within_Hotspot', y = protein, ax = ax)\n",
    "boxplt = sns.stripplot(data = p10_mutations, x = 'Within_Hotspot', y = protein, jitter = True, color = '.3')\n",
    "boxplt.set_title('Mutation location effect on AKT1 abundance', fontsize='25')\n",
    "boxplt.set_xlabel('Mutation Within Hotspot', fontsize='20')\n",
    "boxplt.set_ylabel('Protein Level', fontsize='20')\n",
    "plt.show()"
   ]
  },
  {
   "cell_type": "markdown",
   "metadata": {},
   "source": [
    "# Phosphoproteomic Abundance"
   ]
  },
  {
   "cell_type": "code",
   "execution_count": 12,
   "metadata": {},
   "outputs": [
    {
     "name": "stdout",
     "output_type": "stream",
     "text": [
      "      AKT1-S122  AKT1-S124  AKT1-S126  AKT1-S129  AKT1-T450  AKT1S1-S108  \\\n",
      "S001        NaN   -0.04605   0.148100   -0.04605        NaN      0.08790   \n",
      "S002   -0.25000   -0.26300  -0.121000   -0.18550   -0.00876      0.45250   \n",
      "S003        NaN    0.21400   0.050500    0.03195        NaN          NaN   \n",
      "S004        NaN   -0.36800   0.320000   -0.36800        NaN      0.34800   \n",
      "S005        NaN   -0.00300  -0.028200    0.04540        NaN      0.78900   \n",
      "S006        NaN   -0.18965  -0.039300   -0.07715   -0.30100      0.05250   \n",
      "S007    0.21700    0.16500   0.228000    0.06200   -0.33000     -0.25150   \n",
      "S008        NaN    0.08425  -0.020100    0.08425    0.35100      0.01410   \n",
      "S009        NaN   -0.04670   0.575000   -0.05300        NaN      0.17800   \n",
      "S010        NaN    0.09905   0.245000    0.22750   -0.28800     -0.39620   \n",
      "S011        NaN   -0.16100  -0.298000    0.17900        NaN      0.15370   \n",
      "S012        NaN   -0.08310  -0.134100   -0.17400    0.25800     -0.21500   \n",
      "S013    0.03000   -0.40100  -0.397000   -0.40100        NaN      0.08420   \n",
      "S014    0.10800    0.10800  -0.115500   -0.10700        NaN     -0.11000   \n",
      "S015        NaN   -0.20500   0.242000   -0.20500        NaN     -0.06010   \n",
      "S016        NaN   -0.39000  -0.063300   -0.43665        NaN     -0.15500   \n",
      "S017        NaN   -0.80400  -0.016000    0.60200        NaN          NaN   \n",
      "S018        NaN    0.08430   0.069650   -0.05770        NaN     -0.24500   \n",
      "S019    0.13000   -0.13000  -0.127000   -0.13000        NaN      0.04850   \n",
      "S020        NaN   -0.04770  -0.072985   -0.18850        NaN     -0.05700   \n",
      "S021        NaN   -0.22400   0.054800    0.05480        NaN      0.08700   \n",
      "S022        NaN   -0.14100  -0.141000   -0.14100        NaN      0.53900   \n",
      "S023        NaN    0.02710  -0.253000    0.02710        NaN     -0.04200   \n",
      "S024        NaN   -0.31000  -0.420000   -0.26300        NaN      0.26300   \n",
      "S025        NaN   -0.37050  -0.507000   -0.20850        NaN      0.41800   \n",
      "S026        NaN    0.16750   0.170500    0.05440        NaN     -0.04280   \n",
      "S027        NaN   -0.96400  -0.594000   -0.78600        NaN      0.02950   \n",
      "S028        NaN    0.05530   0.344000   -0.06020        NaN     -0.01050   \n",
      "S029    0.05100   -0.17450  -0.001090   -0.32700        NaN     -0.53800   \n",
      "S030    0.02260   -0.05170  -0.006780   -0.06639   -0.06480      0.72450   \n",
      "...         ...        ...        ...        ...        ...          ...   \n",
      "S124        NaN    0.30850   0.289000    0.30950        NaN     -0.13200   \n",
      "S125        NaN    0.42900   0.388000    0.09000        NaN          NaN   \n",
      "S126        NaN   -0.27000   0.114000   -0.22400        NaN      0.13310   \n",
      "S127        NaN    0.54000   0.591000    0.38900        NaN      0.03950   \n",
      "S128   -0.10900    0.04290   0.063000    0.21000        NaN     -0.04300   \n",
      "S129    0.16400    0.17900   0.220000    0.27600        NaN     -0.38200   \n",
      "S130        NaN   -0.07790  -0.077900   -0.07790        NaN      0.14800   \n",
      "S131        NaN    0.05800  -0.223000   -0.08315        NaN     -0.01400   \n",
      "S132        NaN    0.50400  -0.880000    0.10000        NaN     -0.66100   \n",
      "S133        NaN    0.08790   0.160000   -0.12400        NaN     -0.05280   \n",
      "S134        NaN    0.69800   0.698000    0.60100        NaN      0.39550   \n",
      "S135    0.15100    0.39800   0.188000    0.31150        NaN     -0.27700   \n",
      "S136    0.15000    0.15000   0.087300    0.25000        NaN     -0.38100   \n",
      "S137   -0.18600   -0.18600  -0.149500   -0.25800        NaN     -0.71200   \n",
      "S138        NaN    0.15340   0.109000    0.17800   -0.20600     -0.18850   \n",
      "S139        NaN    0.22350   0.041700    0.12750   -0.26000     -0.06270   \n",
      "S140        NaN    0.19350   0.231500    0.28950    0.37200     -0.12800   \n",
      "S141        NaN    0.43150   0.310000    0.38500    0.44600     -0.18000   \n",
      "S142        NaN    0.25250   0.035500    0.29900    0.39000     -0.49800   \n",
      "S143   -0.16200    0.34450   0.142000    0.23550    0.17800      0.25900   \n",
      "S144    0.00423    0.37100   0.292000    0.36150    0.11300      0.23075   \n",
      "S145    0.22500    0.36500   0.225000    0.47800        NaN      0.09630   \n",
      "S146   -0.10800    0.18100   0.008600    0.14800        NaN      0.17900   \n",
      "S147    0.03750    0.09225   0.037500    0.14700        NaN     -0.10500   \n",
      "S148    0.07710    0.13700   0.292000    0.29200        NaN     -0.01510   \n",
      "S149   -0.08870    0.31350   0.020000    0.34700        NaN      0.23500   \n",
      "S150   -0.03430    0.21850   0.234000    0.23400        NaN     -0.08410   \n",
      "S151   -0.07610    0.34700   0.310000    0.36500        NaN     -0.02500   \n",
      "S152   -0.23700    0.24500  -0.127000    0.21900        NaN     -0.43800   \n",
      "S153   -0.13000    0.42450   0.292000    0.43300        NaN     -0.02980   \n",
      "\n",
      "      AKT1S1-S112  AKT1S1-S203  AKT1S1-S222  AKT1S1-S223      ...        \\\n",
      "S001      0.08790      -0.8580      0.56200     0.260000      ...         \n",
      "S002      0.40700       3.4400     -0.16950    -0.169500      ...         \n",
      "S003          NaN          NaN      0.68100     0.128000      ...         \n",
      "S004     -0.13150      -0.4470      0.57100     0.234000      ...         \n",
      "S005      0.63500       1.2400      0.28500     0.365000      ...         \n",
      "S006      0.21600      -1.8400      0.26700    -0.016840      ...         \n",
      "S007     -0.19400      -0.0384     -0.09460    -0.088450      ...         \n",
      "S008     -0.21700       1.1300      0.20300     0.243000      ...         \n",
      "S009     -0.03300       1.2100      0.26500     0.265000      ...         \n",
      "S010     -0.57500       0.3600     -0.17584    -0.333000      ...         \n",
      "S011      0.01130       0.2060     -0.03150     0.018150      ...         \n",
      "S012      0.00393      -1.8300      0.11200     0.042100      ...         \n",
      "S013      0.15410      -5.3600     -0.55700     0.015600      ...         \n",
      "S014      0.23500      -1.3700     -0.87000    -0.246000      ...         \n",
      "S015     -0.57450       0.3570     -0.08320    -0.073900      ...         \n",
      "S016      0.03750      -1.2000      0.60200     0.314000      ...         \n",
      "S017          NaN          NaN     -0.81500    -0.440000      ...         \n",
      "S018     -0.24500      -0.1600     -0.13060    -0.253000      ...         \n",
      "S019      0.11025      -0.2850     -0.04240     0.033000      ...         \n",
      "S020     -0.32500      -1.1400     -0.26000    -0.250000      ...         \n",
      "S021     -0.01615       0.7130     -0.51000    -0.303000      ...         \n",
      "S022      0.28400      -0.2310     -0.13900    -0.043150      ...         \n",
      "S023     -0.24900       1.8200     -0.27500    -0.124250      ...         \n",
      "S024      0.19400       0.4570     -0.44100    -0.067650      ...         \n",
      "S025      0.35600      -0.0904     -0.59200    -0.274500      ...         \n",
      "S026     -0.20200       0.1610      0.07200     0.040500      ...         \n",
      "S027     -0.08550      -2.3100     -0.32900    -0.110000      ...         \n",
      "S028     -0.20675       1.1100      0.17200     0.059700      ...         \n",
      "S029      0.17700      -1.3900     -0.23650     0.072100      ...         \n",
      "S030      0.56000       0.5560     -0.08090     0.092050      ...         \n",
      "...           ...          ...          ...          ...      ...         \n",
      "S124     -0.29000       1.8500      0.33900    -0.237000      ...         \n",
      "S125          NaN          NaN      0.25900    -0.066500      ...         \n",
      "S126     -0.04100       1.9000     -0.01310    -0.390050      ...         \n",
      "S127     -0.35575       2.4200     -1.13000    -1.033500      ...         \n",
      "S128      0.45900       0.4730     -0.07400    -0.262000      ...         \n",
      "S129     -0.28000       2.5400      0.54300     0.125000      ...         \n",
      "S130      0.00800       1.8700     -0.17900    -0.179000      ...         \n",
      "S131      0.32300       1.0100     -0.25900    -0.225500      ...         \n",
      "S132     -1.24150       1.4500     -0.27300    -0.200500      ...         \n",
      "S133     -0.28690       1.2300     -0.07110    -0.118000      ...         \n",
      "S134      0.33100       0.9370     -0.27900    -0.297500      ...         \n",
      "S135     -0.09290       1.5300      0.08385     0.024350      ...         \n",
      "S136     -0.37350      -0.3730      0.11400     0.117000      ...         \n",
      "S137     -1.19600      -0.1830     -0.36900    -0.246000      ...         \n",
      "S138     -0.03400       0.3390      0.28300    -0.011000      ...         \n",
      "S139     -0.07700       0.6800      0.12115    -0.062350      ...         \n",
      "S140     -0.33500       0.3530     -0.04190    -0.067800      ...         \n",
      "S141     -0.18000       0.1550     -0.15200     0.102200      ...         \n",
      "S142     -0.49800       0.0185      0.23100     0.079350      ...         \n",
      "S143     -0.25500       0.4800      0.20150     0.182000      ...         \n",
      "S144     -0.14300      -1.3200      0.08220     0.123700      ...         \n",
      "S145     -0.18100       2.5000      0.24100     0.213500      ...         \n",
      "S146      0.00833       1.1700      0.40400     0.250500      ...         \n",
      "S147     -0.10500      -1.1200      0.09040     0.202500      ...         \n",
      "S148      0.24900       1.3800      0.47800     0.347500      ...         \n",
      "S149     -0.03140      -1.2600      0.25400     0.255000      ...         \n",
      "S150      0.12500       0.4450      0.37900     0.236000      ...         \n",
      "S151     -0.22600       1.2500      0.12600     0.061415      ...         \n",
      "S152     -0.28200       0.7950      0.24700     0.151350      ...         \n",
      "S153     -0.02980      -2.1600      0.33800     0.285000      ...         \n",
      "\n",
      "      AKT1S1-S241  AKT1S1-S267  AKT1S1-T110  AKT1S1-T117  AKT1S1-T218  \\\n",
      "S001          NaN    -0.000555     -0.22700          NaN          NaN   \n",
      "S002          NaN          NaN      0.10250          NaN      -0.1520   \n",
      "S003          NaN          NaN      0.11000          NaN          NaN   \n",
      "S004          NaN          NaN     -0.29900      0.01650          NaN   \n",
      "S005          NaN          NaN      0.25300     -0.66200          NaN   \n",
      "S006          NaN     0.107000      0.21600          NaN          NaN   \n",
      "S007          NaN          NaN      0.34450          NaN       0.1080   \n",
      "S008          NaN          NaN     -0.16600      0.01410          NaN   \n",
      "S009          NaN          NaN     -0.56200     -0.11400          NaN   \n",
      "S010          NaN    -0.415000     -0.62900          NaN          NaN   \n",
      "S011          NaN     0.396000      0.00942      0.07615          NaN   \n",
      "S012          NaN          NaN     -0.22500     -0.51600          NaN   \n",
      "S013     0.480000          NaN          NaN      0.40300          NaN   \n",
      "S014     0.000067          NaN          NaN      0.56000          NaN   \n",
      "S015          NaN          NaN     -0.72300     -0.04650          NaN   \n",
      "S016          NaN          NaN      0.23000          NaN          NaN   \n",
      "S017          NaN          NaN     -0.18800          NaN          NaN   \n",
      "S018          NaN    -0.341000     -0.34300          NaN          NaN   \n",
      "S019    -0.212000          NaN          NaN     -0.18100          NaN   \n",
      "S020          NaN     0.493000     -0.22700          NaN          NaN   \n",
      "S021          NaN          NaN      0.09770     -0.08300          NaN   \n",
      "S022          NaN          NaN     -0.46700      0.06450          NaN   \n",
      "S023          NaN          NaN     -0.55100      0.24600          NaN   \n",
      "S024          NaN          NaN     -0.04500     -0.06805          NaN   \n",
      "S025          NaN          NaN      0.06070      0.19350          NaN   \n",
      "S026          NaN     0.410000      0.00656          NaN          NaN   \n",
      "S027          NaN     0.406000      0.51500     -0.18215          NaN   \n",
      "S028          NaN          NaN     -0.06610     -0.01580          NaN   \n",
      "S029          NaN     0.169000          NaN          NaN          NaN   \n",
      "S030          NaN          NaN      0.55540          NaN       0.5610   \n",
      "...           ...          ...          ...          ...          ...   \n",
      "S124          NaN     0.650000     -0.39700          NaN          NaN   \n",
      "S125          NaN          NaN      0.46000          NaN          NaN   \n",
      "S126          NaN          NaN     -0.04100     -0.23600          NaN   \n",
      "S127          NaN          NaN          NaN      0.04050      -0.2840   \n",
      "S128          NaN          NaN      0.45900      1.07000      -0.0908   \n",
      "S129    -0.302000          NaN          NaN     -0.58900          NaN   \n",
      "S130          NaN          NaN      0.30000     -0.13500          NaN   \n",
      "S131          NaN          NaN     -0.34100     -0.17495          NaN   \n",
      "S132          NaN     0.003430     -0.90300     -0.45285          NaN   \n",
      "S133          NaN          NaN     -0.11500     -0.05665          NaN   \n",
      "S134          NaN    -0.037400      0.11000      0.18450          NaN   \n",
      "S135          NaN     0.655000      0.52300      0.09600          NaN   \n",
      "S136     0.201000          NaN          NaN     -0.70000          NaN   \n",
      "S137     0.233000          NaN          NaN     -0.83800          NaN   \n",
      "S138          NaN     0.570000      0.87800          NaN          NaN   \n",
      "S139          NaN     0.138000      0.04850          NaN          NaN   \n",
      "S140          NaN          NaN     -0.72500     -0.35800          NaN   \n",
      "S141          NaN          NaN     -0.36000     -0.48500          NaN   \n",
      "S142          NaN          NaN     -0.51800     -1.27000          NaN   \n",
      "S143          NaN          NaN     -0.06650          NaN      -0.0218   \n",
      "S144          NaN          NaN     -0.07621          NaN      -0.0757   \n",
      "S145          NaN          NaN     -0.16920     -0.27500          NaN   \n",
      "S146          NaN          NaN     -0.37150     -0.26100          NaN   \n",
      "S147          NaN          NaN     -0.11750     -0.38600          NaN   \n",
      "S148          NaN          NaN     -0.09650     -0.24200          NaN   \n",
      "S149          NaN          NaN     -0.05800     -0.44000          NaN   \n",
      "S150          NaN          NaN     -0.06050     -0.45900          NaN   \n",
      "S151          NaN          NaN     -0.19685     -0.02500          NaN   \n",
      "S152          NaN          NaN     -0.30550     -0.43800          NaN   \n",
      "S153          NaN          NaN     -0.00950     -0.38200          NaN   \n",
      "\n",
      "      AKT1S1-T266  AKT1S1-T93           Mutation  Patient_Type Within_Hotspot  \n",
      "S001          NaN         NaN  Missense_Mutation         Tumor           True  \n",
      "S002       2.1700         NaN           Wildtype         Tumor       Wildtype  \n",
      "S003       1.7700         NaN  Missense_Mutation         Tumor           True  \n",
      "S004      -0.7540   -0.394000           Wildtype         Tumor       Wildtype  \n",
      "S005       1.0900   -0.353000           Wildtype         Tumor       Wildtype  \n",
      "S006      -1.9100         NaN           Wildtype         Tumor       Wildtype  \n",
      "S007      -0.5740         NaN           Wildtype         Tumor       Wildtype  \n",
      "S008       0.8920         NaN           Wildtype         Tumor       Wildtype  \n",
      "S009      -0.2550   -0.545000  Missense_Mutation         Tumor           True  \n",
      "S010      -0.5960         NaN  Missense_Mutation         Tumor          False  \n",
      "S011          NaN         NaN           Wildtype         Tumor       Wildtype  \n",
      "S012      -1.7100         NaN  Missense_Mutation         Tumor          False  \n",
      "S013       1.2500         NaN           Wildtype         Tumor       Wildtype  \n",
      "S014      -1.8300         NaN  Missense_Mutation         Tumor          False  \n",
      "S015      -1.1100   -0.388000           Wildtype         Tumor       Wildtype  \n",
      "S016      -2.3500         NaN           Wildtype         Tumor       Wildtype  \n",
      "S017      -0.9720         NaN           Wildtype         Tumor       Wildtype  \n",
      "S018          NaN         NaN  Missense_Mutation         Tumor          False  \n",
      "S019       1.3500         NaN           Wildtype         Tumor       Wildtype  \n",
      "S020          NaN         NaN           Wildtype         Tumor       Wildtype  \n",
      "S021      -0.1990   -0.290000  Missense_Mutation         Tumor           True  \n",
      "S022      -0.7800    0.064500  Missense_Mutation         Tumor          False  \n",
      "S023       1.6000    0.246000  Missense_Mutation         Tumor           True  \n",
      "S024       0.1710   -0.115000  Missense_Mutation         Tumor           True  \n",
      "S025      -0.3370   -0.000053           Wildtype         Tumor       Wildtype  \n",
      "S026          NaN         NaN  Missense_Mutation         Tumor          False  \n",
      "S027          NaN         NaN  Missense_Mutation         Tumor          False  \n",
      "S028       0.2270   -0.062900  Missense_Mutation         Tumor          False  \n",
      "S029       0.8350   -0.065400           Wildtype         Tumor       Wildtype  \n",
      "S030       0.6470         NaN  Missense_Mutation         Tumor          False  \n",
      "...           ...         ...                ...           ...            ...  \n",
      "S124          NaN         NaN           Wildtype        Normal       Wildtype  \n",
      "S125       0.2750         NaN           Wildtype        Normal       Wildtype  \n",
      "S126       0.3710   -0.236000           Wildtype        Normal       Wildtype  \n",
      "S127       0.6770         NaN           Wildtype        Normal       Wildtype  \n",
      "S128       0.2170    0.411000           Wildtype        Normal       Wildtype  \n",
      "S129       0.9290         NaN           Wildtype        Normal       Wildtype  \n",
      "S130       0.2050   -0.418000           Wildtype        Normal       Wildtype  \n",
      "S131      -0.3070    0.012800           Wildtype        Normal       Wildtype  \n",
      "S132          NaN         NaN           Wildtype        Normal       Wildtype  \n",
      "S133       0.3900   -0.070300           Wildtype        Normal       Wildtype  \n",
      "S134          NaN         NaN           Wildtype        Normal       Wildtype  \n",
      "S135       0.8330         NaN           Wildtype        Normal       Wildtype  \n",
      "S136      -0.6230         NaN           Wildtype        Normal       Wildtype  \n",
      "S137      -0.9170         NaN           Wildtype        Normal       Wildtype  \n",
      "S138      -0.9370         NaN           Wildtype        Normal       Wildtype  \n",
      "S139      -0.7150         NaN           Wildtype        Normal       Wildtype  \n",
      "S140      -0.9770         NaN           Wildtype        Normal       Wildtype  \n",
      "S141      -0.2640         NaN           Wildtype        Normal       Wildtype  \n",
      "S142      -1.3700         NaN           Wildtype        Normal       Wildtype  \n",
      "S143       0.0416         NaN           Wildtype        Normal       Wildtype  \n",
      "S144       0.0397         NaN           Wildtype        Normal       Wildtype  \n",
      "S145       0.1160         NaN           Wildtype        Normal       Wildtype  \n",
      "S146       0.4700         NaN           Wildtype        Normal       Wildtype  \n",
      "S147      -0.4010         NaN           Wildtype        Normal       Wildtype  \n",
      "S148       0.4210         NaN           Wildtype        Normal       Wildtype  \n",
      "S149      -0.2710         NaN           Wildtype        Normal       Wildtype  \n",
      "S150       0.0387         NaN           Wildtype        Normal       Wildtype  \n",
      "S151       0.0000         NaN           Wildtype        Normal       Wildtype  \n",
      "S152      -0.4970         NaN           Wildtype        Normal       Wildtype  \n",
      "S153      -0.6210         NaN           Wildtype        Normal       Wildtype  \n",
      "\n",
      "[153 rows x 22 columns]\n"
     ]
    }
   ],
   "source": [
    "phos_mutations = CPTAC.compare_mutations(phos, protein, gene)\n",
    "phos_mutations['Within_Hotspot'] = False\n",
    "phos_mutations.loc[hotspot_patients, 'Within_Hotspot'] = True\n",
    "\n",
    "phos_mutations.loc[phos_mutations['Mutation'] == 'Wildtype', 'Within_Hotspot'] = 'Wildtype'\n",
    "print(phos_mutations)\n",
    "\n",
    "\n",
    "phos_mutations = phos_mutations.loc[phos_mutations['Patient_Type'] == 'Tumor']\n",
    "#phos_mutations = phos_mutations.dropna(axis = 0)\n",
    "#print(phos_mutations)\n",
    "phos_sites = list(phos_mutations)\n",
    "phos_sites = phos_sites[:(len(phos_sites) - 3)]"
   ]
  },
  {
   "cell_type": "markdown",
   "metadata": {},
   "source": [
    "## Hotspot mutation vs non-hotspot mutation"
   ]
  },
  {
   "cell_type": "code",
   "execution_count": 1,
   "metadata": {},
   "outputs": [
    {
     "ename": "NameError",
     "evalue": "name 'phos_mutations' is not defined",
     "output_type": "error",
     "traceback": [
      "\u001b[0;31m---------------------------------------------------------------------------\u001b[0m",
      "\u001b[0;31mNameError\u001b[0m                                 Traceback (most recent call last)",
      "\u001b[0;32m<ipython-input-1-b25fedf54a31>\u001b[0m in \u001b[0;36m<module>\u001b[0;34m\u001b[0m\n\u001b[1;32m      2\u001b[0m \u001b[0msite_names\u001b[0m \u001b[0;34m=\u001b[0m \u001b[0;34m[\u001b[0m\u001b[0;34m]\u001b[0m\u001b[0;34m\u001b[0m\u001b[0m\n\u001b[1;32m      3\u001b[0m \u001b[0;34m\u001b[0m\u001b[0m\n\u001b[0;32m----> 4\u001b[0;31m \u001b[0mpcutoff\u001b[0m \u001b[0;34m=\u001b[0m \u001b[0;36m0.05\u001b[0m\u001b[0;34m/\u001b[0m\u001b[0mlen\u001b[0m\u001b[0;34m(\u001b[0m\u001b[0mphos_mutations\u001b[0m\u001b[0;34m.\u001b[0m\u001b[0mcolumns\u001b[0m\u001b[0;34m)\u001b[0m\u001b[0;34m\u001b[0m\u001b[0m\n\u001b[0m\u001b[1;32m      5\u001b[0m \u001b[0;34m\u001b[0m\u001b[0m\n\u001b[1;32m      6\u001b[0m \u001b[0;32mfor\u001b[0m \u001b[0msite\u001b[0m \u001b[0;32min\u001b[0m \u001b[0mphos_sites\u001b[0m\u001b[0;34m:\u001b[0m\u001b[0;34m\u001b[0m\u001b[0m\n",
      "\u001b[0;31mNameError\u001b[0m: name 'phos_mutations' is not defined"
     ]
    }
   ],
   "source": [
    "p_values = []\n",
    "site_names = []\n",
    "\n",
    "pcutoff = 0.05/len(phos_mutations.columns)\n",
    "\n",
    "for site in phos_sites:\n",
    "    mutated = phos_mutations.loc[phos_mutations['Within_Hotspot'] == True]\n",
    "    mutated_list = mutated[site].tolist()\n",
    "    mutated_list = [x for x in mutated_list if str(x) != 'nan']\n",
    "    #print(mutated_list)\n",
    "    wt = phos_mutations.loc[phos_mutations['Within_Hotspot'] == False]\n",
    "    wt_list = wt[site].tolist()\n",
    "    wt_list = [x for x in wt_list if str(x) != 'nan']\n",
    "    \n",
    "    ttest = scipy.stats.ttest_ind(mutated_list, wt_list)\n",
    "    if ttest[1] < pcutoff:\n",
    "        print('Test for ', site, ' ', ttest[1] )\n",
    "    else:\n",
    "        print('Unsignificant results for ', site, ' ', ttest[1])\n",
    "    \n",
    "    p_values.append(ttest[1])\n",
    "    site_names.append(site)     \n",
    "                \n",
    "#We need to remove all 'nan' p-values and their corresponding site names before passing it in for the fdr correction\n",
    "indexesToRemove=[]\n",
    "\n",
    "for index in range(0, len(p_values)):\n",
    "    if np.isnan(p_values[index]):\n",
    "        indexesToRemove.append(index)\n",
    "\n",
    "for rem in range( len(indexesToRemove)-1, -1, -1):\n",
    "    p_values.pop(indexesToRemove[rem])\n",
    "    site_names.pop(indexesToRemove[rem])\n",
    "#p_values and site names have now had all entries removed where the corresponding p-value is 'nan'\n",
    "        \n",
    "\n",
    "pvalues = statsmodels.stats.multitest.fdrcorrection(p_values,alpha=0.05, method='indep')[1]         \n",
    "areSignificant = statsmodels.stats.multitest.fdrcorrection(p_values,alpha=0.05, method='indep')[0]\n",
    "\n",
    "significant_sites = np.array(site_names)[np.array(areSignificant)]\n",
    "significant_pvalues = np.array(pvalues)[np.array(areSignificant)]\n",
    "\n",
    "significant_vals = dict(zip(significant_sites, significant_pvalues))\n",
    "\n",
    "print(significant_sites)\n",
    "print(significant_pvalues)\n",
    "print(significant_vals)"
   ]
  },
  {
   "cell_type": "markdown",
   "metadata": {},
   "source": [
    "## Hotspot mutation vs other mutations and wildtype"
   ]
  },
  {
   "cell_type": "code",
   "execution_count": 14,
   "metadata": {},
   "outputs": [
    {
     "name": "stdout",
     "output_type": "stream",
     "text": [
      "[]\n",
      "[]\n",
      "{}\n"
     ]
    }
   ],
   "source": [
    "p_values = []\n",
    "site_names = []\n",
    "\n",
    "for site in phos_sites:\n",
    "    mutated = phos_mutations.loc[phos_mutations['Within_Hotspot'] == True]\n",
    "    mutated_list = mutated[site].tolist()\n",
    "    mutated_list = [x for x in mutated_list if str(x) != 'nan']\n",
    "    #print(mutated_list)\n",
    "    wt = phos_mutations.loc[phos_mutations['Within_Hotspot'] != True]\n",
    "    wt_list = wt[site].tolist()\n",
    "    wt_list = [x for x in wt_list if str(x) != 'nan']\n",
    "    \n",
    "    ttest = scipy.stats.ttest_ind(mutated_list, wt_list)\n",
    "    p_values.append(ttest[1])\n",
    "    site_names.append(site)     \n",
    "                \n",
    "#We need to remove all 'nan' p-values and their corresponding site names before passing it in for the fdr correction\n",
    "indexesToRemove=[]\n",
    "\n",
    "for index in range(0, len(p_values)):\n",
    "    if np.isnan(p_values[index]):\n",
    "        indexesToRemove.append(index)\n",
    "\n",
    "for rem in range( len(indexesToRemove)-1, -1, -1):\n",
    "    p_values.pop(indexesToRemove[rem])\n",
    "    site_names.pop(indexesToRemove[rem])\n",
    "#p_values and site names have now had all entries removed where the corresponding p-value is 'nan'\n",
    "        \n",
    "\n",
    "pvalues = statsmodels.stats.multitest.fdrcorrection(p_values,alpha=0.05, method='indep')[1]         \n",
    "areSignificant = statsmodels.stats.multitest.fdrcorrection(p_values,alpha=0.05, method='indep')[0]\n",
    "\n",
    "significant_sites = np.array(site_names)[np.array(areSignificant)]\n",
    "significant_pvalues = np.array(pvalues)[np.array(areSignificant)]\n",
    "\n",
    "significant_vals = dict(zip(significant_sites, significant_pvalues))\n",
    "\n",
    "print(significant_sites)\n",
    "print(significant_pvalues)\n",
    "print(significant_vals)"
   ]
  },
  {
   "cell_type": "markdown",
   "metadata": {},
   "source": [
    "## All mutations vs wildtype"
   ]
  },
  {
   "cell_type": "code",
   "execution_count": 15,
   "metadata": {},
   "outputs": [
    {
     "name": "stdout",
     "output_type": "stream",
     "text": [
      "[]\n",
      "[]\n",
      "{}\n"
     ]
    }
   ],
   "source": [
    "p_values = []\n",
    "site_names = []\n",
    "\n",
    "for site in phos_sites:\n",
    "    mutated = phos_mutations.loc[phos_mutations['Within_Hotspot'] != 'Wildtype']\n",
    "    mutated_list = mutated[site].tolist()\n",
    "    mutated_list = [x for x in mutated_list if str(x) != 'nan']\n",
    "    #print(mutated_list)\n",
    "    wt = phos_mutations.loc[phos_mutations['Within_Hotspot'] == 'Wildtype']\n",
    "    wt_list = wt[site].tolist()\n",
    "    wt_list = [x for x in wt_list if str(x) != 'nan']\n",
    "    \n",
    "    ttest = scipy.stats.ttest_ind(mutated_list, wt_list)\n",
    "    p_values.append(ttest[1])\n",
    "    site_names.append(site)     \n",
    "                \n",
    "#We need to remove all 'nan' p-values and their corresponding site names before passing it in for the fdr correction\n",
    "indexesToRemove=[]\n",
    "\n",
    "for index in range(0, len(p_values)):\n",
    "    if np.isnan(p_values[index]):\n",
    "        indexesToRemove.append(index)\n",
    "\n",
    "for rem in range( len(indexesToRemove)-1, -1, -1):\n",
    "    p_values.pop(indexesToRemove[rem])\n",
    "    site_names.pop(indexesToRemove[rem])\n",
    "#p_values and site names have now had all entries removed where the corresponding p-value is 'nan'\n",
    "        \n",
    "\n",
    "pvalues = statsmodels.stats.multitest.fdrcorrection(p_values,alpha=0.05, method='indep')[1]         \n",
    "areSignificant = statsmodels.stats.multitest.fdrcorrection(p_values,alpha=0.05, method='indep')[0]\n",
    "\n",
    "significant_sites = np.array(site_names)[np.array(areSignificant)]\n",
    "significant_pvalues = np.array(pvalues)[np.array(areSignificant)]\n",
    "\n",
    "significant_vals = dict(zip(significant_sites, significant_pvalues))\n",
    "\n",
    "print(significant_sites)\n",
    "print(significant_pvalues)\n",
    "print(significant_vals)"
   ]
  },
  {
   "cell_type": "markdown",
   "metadata": {},
   "source": [
    "## Hotspot mutation v wildtype"
   ]
  },
  {
   "cell_type": "code",
   "execution_count": 16,
   "metadata": {},
   "outputs": [
    {
     "name": "stdout",
     "output_type": "stream",
     "text": [
      "[]\n",
      "[]\n",
      "{}\n"
     ]
    }
   ],
   "source": [
    "p_values = []\n",
    "site_names = []\n",
    "\n",
    "for site in phos_sites:\n",
    "    mutated = phos_mutations.loc[phos_mutations['Within_Hotspot'] == True]\n",
    "    mutated_list = mutated[site].tolist()\n",
    "    mutated_list = [x for x in mutated_list if str(x) != 'nan']\n",
    "    #print(mutated_list)\n",
    "    wt = phos_mutations.loc[phos_mutations['Within_Hotspot'] == False]\n",
    "    wt_list = wt[site].tolist()\n",
    "    wt_list = [x for x in wt_list if str(x) != 'nan']\n",
    "    \n",
    "    ttest = scipy.stats.ttest_ind(mutated_list, wt_list)\n",
    "    p_values.append(ttest[1])\n",
    "    site_names.append(site)     \n",
    "                \n",
    "#We need to remove all 'nan' p-values and their corresponding site names before passing it in for the fdr correction\n",
    "indexesToRemove=[]\n",
    "\n",
    "for index in range(0, len(p_values)):\n",
    "    if np.isnan(p_values[index]):\n",
    "        indexesToRemove.append(index)\n",
    "\n",
    "for rem in range( len(indexesToRemove)-1, -1, -1):\n",
    "    p_values.pop(indexesToRemove[rem])\n",
    "    site_names.pop(indexesToRemove[rem])\n",
    "#p_values and site names have now had all entries removed where the corresponding p-value is 'nan'\n",
    "        \n",
    "\n",
    "pvalues = statsmodels.stats.multitest.fdrcorrection(p_values,alpha=0.05, method='indep')[1]         \n",
    "areSignificant = statsmodels.stats.multitest.fdrcorrection(p_values,alpha=0.05, method='indep')[0]\n",
    "\n",
    "significant_sites = np.array(site_names)[np.array(areSignificant)]\n",
    "significant_pvalues = np.array(pvalues)[np.array(areSignificant)]\n",
    "\n",
    "significant_vals = dict(zip(significant_sites, significant_pvalues))\n",
    "\n",
    "print(significant_sites)\n",
    "print(significant_pvalues)\n",
    "print(significant_vals)"
   ]
  },
  {
   "cell_type": "code",
   "execution_count": 17,
   "metadata": {},
   "outputs": [
    {
     "data": {
      "image/png": "[encoded data removed]",
      "text/plain": [
       "<Figure size 842.4x595.44 with 1 Axes>"
      ]
     },
     "metadata": {
      "needs_background": "light"
     },
     "output_type": "display_data"
    }
   ],
   "source": [
    "a4_dims = (11.7, 8.27)\n",
    "fig, ax = plt.subplots(figsize = a4_dims)\n",
    "boxplt = sns.boxplot(data = phos_mutations, x = 'Within_Hotspot', y = 'AKT1S1-S267', ax = ax)\n",
    "boxplt = sns.stripplot(data = phos_mutations, x = 'Within_Hotspot', y = 'AKT1S1-S267', jitter = True, color = '.3')\n",
    "boxplt.set_title('Mutation location effect on AKT1 phosphoproteomic abundance', fontsize='25')\n",
    "boxplt.set_xlabel('Mutation Within Hotspot', fontsize='20')\n",
    "boxplt.set_ylabel('Protein Level', fontsize='20')\n",
    "plt.show()"
   ]
  },
  {
   "cell_type": "code",
   "execution_count": 24,
   "metadata": {},
   "outputs": [
    {
     "ename": "ValueError",
     "evalue": "Could not interpret input 'AKT1S1-S247'",
     "output_type": "error",
     "traceback": [
      "\u001b[0;31m---------------------------------------------------------------------------\u001b[0m",
      "\u001b[0;31mValueError\u001b[0m                                Traceback (most recent call last)",
      "\u001b[0;32m<ipython-input-24-e5db1e30655f>\u001b[0m in \u001b[0;36m<module>\u001b[0;34m\u001b[0m\n\u001b[1;32m      1\u001b[0m \u001b[0ma4_dims\u001b[0m \u001b[0;34m=\u001b[0m \u001b[0;34m(\u001b[0m\u001b[0;36m11.7\u001b[0m\u001b[0;34m,\u001b[0m \u001b[0;36m8.27\u001b[0m\u001b[0;34m)\u001b[0m\u001b[0;34m\u001b[0m\u001b[0;34m\u001b[0m\u001b[0m\n\u001b[1;32m      2\u001b[0m \u001b[0mfig\u001b[0m\u001b[0;34m,\u001b[0m \u001b[0max\u001b[0m \u001b[0;34m=\u001b[0m \u001b[0mplt\u001b[0m\u001b[0;34m.\u001b[0m\u001b[0msubplots\u001b[0m\u001b[0;34m(\u001b[0m\u001b[0mfigsize\u001b[0m \u001b[0;34m=\u001b[0m \u001b[0ma4_dims\u001b[0m\u001b[0;34m)\u001b[0m\u001b[0;34m\u001b[0m\u001b[0;34m\u001b[0m\u001b[0m\n\u001b[0;32m----> 3\u001b[0;31m \u001b[0mboxplt\u001b[0m \u001b[0;34m=\u001b[0m \u001b[0msns\u001b[0m\u001b[0;34m.\u001b[0m\u001b[0mboxplot\u001b[0m\u001b[0;34m(\u001b[0m\u001b[0mdata\u001b[0m \u001b[0;34m=\u001b[0m \u001b[0mphos_mutations\u001b[0m\u001b[0;34m,\u001b[0m \u001b[0mx\u001b[0m \u001b[0;34m=\u001b[0m \u001b[0;34m'Within_Hotspot'\u001b[0m\u001b[0;34m,\u001b[0m \u001b[0my\u001b[0m \u001b[0;34m=\u001b[0m \u001b[0;34m'AKT1S1-S247'\u001b[0m\u001b[0;34m,\u001b[0m \u001b[0max\u001b[0m \u001b[0;34m=\u001b[0m \u001b[0max\u001b[0m\u001b[0;34m)\u001b[0m\u001b[0;34m\u001b[0m\u001b[0;34m\u001b[0m\u001b[0m\n\u001b[0m\u001b[1;32m      4\u001b[0m \u001b[0mboxplt\u001b[0m \u001b[0;34m=\u001b[0m \u001b[0msns\u001b[0m\u001b[0;34m.\u001b[0m\u001b[0mstripplot\u001b[0m\u001b[0;34m(\u001b[0m\u001b[0mdata\u001b[0m \u001b[0;34m=\u001b[0m \u001b[0mphos_mutations\u001b[0m\u001b[0;34m,\u001b[0m \u001b[0mx\u001b[0m \u001b[0;34m=\u001b[0m \u001b[0;34m'Within_Hotspot'\u001b[0m\u001b[0;34m,\u001b[0m \u001b[0my\u001b[0m \u001b[0;34m=\u001b[0m \u001b[0;34m'AKT1S1-S247'\u001b[0m\u001b[0;34m,\u001b[0m \u001b[0mjitter\u001b[0m \u001b[0;34m=\u001b[0m \u001b[0;32mTrue\u001b[0m\u001b[0;34m,\u001b[0m \u001b[0mcolor\u001b[0m \u001b[0;34m=\u001b[0m \u001b[0;34m'.3'\u001b[0m\u001b[0;34m)\u001b[0m\u001b[0;34m\u001b[0m\u001b[0;34m\u001b[0m\u001b[0m\n\u001b[1;32m      5\u001b[0m \u001b[0mboxplt\u001b[0m\u001b[0;34m.\u001b[0m\u001b[0mset_title\u001b[0m\u001b[0;34m(\u001b[0m\u001b[0;34m'Mutation location effect on AKT1 phosphoproteomic abundance'\u001b[0m\u001b[0;34m,\u001b[0m \u001b[0mfontsize\u001b[0m\u001b[0;34m=\u001b[0m\u001b[0;34m'25'\u001b[0m\u001b[0;34m)\u001b[0m\u001b[0;34m\u001b[0m\u001b[0;34m\u001b[0m\u001b[0m\n",
      "\u001b[0;32m~/anaconda3/envs/research/lib/python3.7/site-packages/seaborn/categorical.py\u001b[0m in \u001b[0;36mboxplot\u001b[0;34m(x, y, hue, data, order, hue_order, orient, color, palette, saturation, width, dodge, fliersize, linewidth, whis, notch, ax, **kwargs)\u001b[0m\n\u001b[1;32m   2229\u001b[0m     plotter = _BoxPlotter(x, y, hue, data, order, hue_order,\n\u001b[1;32m   2230\u001b[0m                           \u001b[0morient\u001b[0m\u001b[0;34m,\u001b[0m \u001b[0mcolor\u001b[0m\u001b[0;34m,\u001b[0m \u001b[0mpalette\u001b[0m\u001b[0;34m,\u001b[0m \u001b[0msaturation\u001b[0m\u001b[0;34m,\u001b[0m\u001b[0;34m\u001b[0m\u001b[0;34m\u001b[0m\u001b[0m\n\u001b[0;32m-> 2231\u001b[0;31m                           width, dodge, fliersize, linewidth)\n\u001b[0m\u001b[1;32m   2232\u001b[0m \u001b[0;34m\u001b[0m\u001b[0m\n\u001b[1;32m   2233\u001b[0m     \u001b[0;32mif\u001b[0m \u001b[0max\u001b[0m \u001b[0;32mis\u001b[0m \u001b[0;32mNone\u001b[0m\u001b[0;34m:\u001b[0m\u001b[0;34m\u001b[0m\u001b[0;34m\u001b[0m\u001b[0m\n",
      "\u001b[0;32m~/anaconda3/envs/research/lib/python3.7/site-packages/seaborn/categorical.py\u001b[0m in \u001b[0;36m__init__\u001b[0;34m(self, x, y, hue, data, order, hue_order, orient, color, palette, saturation, width, dodge, fliersize, linewidth)\u001b[0m\n\u001b[1;32m    444\u001b[0m                  width, dodge, fliersize, linewidth):\n\u001b[1;32m    445\u001b[0m \u001b[0;34m\u001b[0m\u001b[0m\n\u001b[0;32m--> 446\u001b[0;31m         \u001b[0mself\u001b[0m\u001b[0;34m.\u001b[0m\u001b[0mestablish_variables\u001b[0m\u001b[0;34m(\u001b[0m\u001b[0mx\u001b[0m\u001b[0;34m,\u001b[0m \u001b[0my\u001b[0m\u001b[0;34m,\u001b[0m \u001b[0mhue\u001b[0m\u001b[0;34m,\u001b[0m \u001b[0mdata\u001b[0m\u001b[0;34m,\u001b[0m \u001b[0morient\u001b[0m\u001b[0;34m,\u001b[0m \u001b[0morder\u001b[0m\u001b[0;34m,\u001b[0m \u001b[0mhue_order\u001b[0m\u001b[0;34m)\u001b[0m\u001b[0;34m\u001b[0m\u001b[0;34m\u001b[0m\u001b[0m\n\u001b[0m\u001b[1;32m    447\u001b[0m         \u001b[0mself\u001b[0m\u001b[0;34m.\u001b[0m\u001b[0mestablish_colors\u001b[0m\u001b[0;34m(\u001b[0m\u001b[0mcolor\u001b[0m\u001b[0;34m,\u001b[0m \u001b[0mpalette\u001b[0m\u001b[0;34m,\u001b[0m \u001b[0msaturation\u001b[0m\u001b[0;34m)\u001b[0m\u001b[0;34m\u001b[0m\u001b[0;34m\u001b[0m\u001b[0m\n\u001b[1;32m    448\u001b[0m \u001b[0;34m\u001b[0m\u001b[0m\n",
      "\u001b[0;32m~/anaconda3/envs/research/lib/python3.7/site-packages/seaborn/categorical.py\u001b[0m in \u001b[0;36mestablish_variables\u001b[0;34m(self, x, y, hue, data, orient, order, hue_order, units)\u001b[0m\n\u001b[1;32m    153\u001b[0m                 \u001b[0;32mif\u001b[0m \u001b[0misinstance\u001b[0m\u001b[0;34m(\u001b[0m\u001b[0minput\u001b[0m\u001b[0;34m,\u001b[0m \u001b[0mstring_types\u001b[0m\u001b[0;34m)\u001b[0m\u001b[0;34m:\u001b[0m\u001b[0;34m\u001b[0m\u001b[0;34m\u001b[0m\u001b[0m\n\u001b[1;32m    154\u001b[0m                     \u001b[0merr\u001b[0m \u001b[0;34m=\u001b[0m \u001b[0;34m\"Could not interpret input '{}'\"\u001b[0m\u001b[0;34m.\u001b[0m\u001b[0mformat\u001b[0m\u001b[0;34m(\u001b[0m\u001b[0minput\u001b[0m\u001b[0;34m)\u001b[0m\u001b[0;34m\u001b[0m\u001b[0;34m\u001b[0m\u001b[0m\n\u001b[0;32m--> 155\u001b[0;31m                     \u001b[0;32mraise\u001b[0m \u001b[0mValueError\u001b[0m\u001b[0;34m(\u001b[0m\u001b[0merr\u001b[0m\u001b[0;34m)\u001b[0m\u001b[0;34m\u001b[0m\u001b[0;34m\u001b[0m\u001b[0m\n\u001b[0m\u001b[1;32m    156\u001b[0m \u001b[0;34m\u001b[0m\u001b[0m\n\u001b[1;32m    157\u001b[0m             \u001b[0;31m# Figure out the plotting orientation\u001b[0m\u001b[0;34m\u001b[0m\u001b[0;34m\u001b[0m\u001b[0;34m\u001b[0m\u001b[0m\n",
      "\u001b[0;31mValueError\u001b[0m: Could not interpret input 'AKT1S1-S247'"
     ]
    },
    {
     "data": {
      "image/png": "[encoded data removed]",
      "text/plain": [
       "<Figure size 842.4x595.44 with 1 Axes>"
      ]
     },
     "metadata": {
      "needs_background": "light"
     },
     "output_type": "display_data"
    }
   ],
   "source": [
    "a4_dims = (11.7, 8.27)\n",
    "fig, ax = plt.subplots(figsize = a4_dims)\n",
    "boxplt = sns.boxplot(data = phos_mutations, x = 'Within_Hotspot', y = 'AKT1S1-S247', ax = ax)\n",
    "boxplt = sns.stripplot(data = phos_mutations, x = 'Within_Hotspot', y = 'AKT1S1-S247', jitter = True, color = '.3')\n",
    "boxplt.set_title('Mutation location effect on AKT1 phosphoproteomic abundance', fontsize='25')\n",
    "boxplt.set_xlabel('Mutation Within Hotspot', fontsize='20')\n",
    "boxplt.set_ylabel('Protein Level', fontsize='20')\n",
    "plt.show()"
   ]
  },
  {
   "cell_type": "code",
   "execution_count": null,
   "metadata": {},
   "outputs": [],
   "source": []
  }
 ],
 "metadata": {
  "kernelspec": {
   "display_name": "Python 3",
   "language": "python",
   "name": "python3"
  },
  "language_info": {
   "codemirror_mode": {
    "name": "ipython",
    "version": 3
   },
   "file_extension": ".py",
   "mimetype": "text/x-python",
   "name": "python",
   "nbconvert_exporter": "python",
   "pygments_lexer": "ipython3",
   "version": "3.6.6"
  }
 },
 "nbformat": 4,
 "nbformat_minor": 2
}
