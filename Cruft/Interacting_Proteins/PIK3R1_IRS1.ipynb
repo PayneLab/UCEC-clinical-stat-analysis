{
 "cells": [
  {
   "cell_type": "markdown",
   "metadata": {},
   "source": [
    "# PIK3CA: Effects of Mutation on IRS1"
   ]
  },
  {
   "cell_type": "code",
   "execution_count": 2,
   "metadata": {},
   "outputs": [],
   "source": [
    "import pandas as pd\n",
    "import numpy as np\n",
    "import scipy.stats\n",
    "import matplotlib.pyplot as plt\n",
    "import seaborn as sns\n",
    "import re\n",
    "import statsmodels.stats.multitest"
   ]
  },
  {
   "cell_type": "code",
   "execution_count": 3,
   "metadata": {},
   "outputs": [
    {
     "name": "stdout",
     "output_type": "stream",
     "text": [
      "Loading CPTAC data:\n",
      "Loading Dictionary...\n",
      "Loading Clinical Data...\n",
      "Loading Proteomics Data...\n",
      "Loading Transcriptomics Data...\n",
      "Loading CNA Data...\n",
      "Loading Phosphoproteomics Data...\n",
      "Loading Somatic Mutation Data...\n",
      "\n",
      " ******PLEASE READ******\n",
      "WARNING: This data is under a publication embargo until July 1, 2019.\n",
      "CPTAC is a community resource project and data are made available\n",
      "rapidly after generation for community research use. The embargo\n",
      "allows exploring and utilizing the data, but the data may not be in a\n",
      "publication until July 1, 2019. Please see\n",
      "https://proteomics.cancer.gov/data-portal/about/data-use-agreement or\n",
      "enter CPTAC.embargo() to open the webpage for more details.\n"
     ]
    }
   ],
   "source": [
    "import CPTAC"
   ]
  },
  {
   "cell_type": "code",
   "execution_count": 4,
   "metadata": {},
   "outputs": [],
   "source": [
    "somatic_mutations = CPTAC.get_somatic()\n",
    "proteomics = CPTAC.get_proteomics()\n",
    "phos = CPTAC.get_phosphoproteomics()\n",
    "\n",
    "#somatic_mutations.loc[(somatic_mutations['Gene'] == \"PIK3R1\")]"
   ]
  },
  {
   "cell_type": "markdown",
   "metadata": {},
   "source": [
    "# PIK3R1 mutation and IRS1 proteome abundance "
   ]
  },
  {
   "cell_type": "markdown",
   "metadata": {},
   "source": [
    "#### Take out the control"
   ]
  },
  {
   "cell_type": "code",
   "execution_count": 5,
   "metadata": {},
   "outputs": [],
   "source": [
    "proteomics = proteomics[:100]"
   ]
  },
  {
   "cell_type": "markdown",
   "metadata": {},
   "source": [
    "### Perform t-test wiht mutated and non-mutated protein levels"
   ]
  },
  {
   "cell_type": "code",
   "execution_count": 6,
   "metadata": {},
   "outputs": [
    {
     "name": "stdout",
     "output_type": "stream",
     "text": [
      "Unsignificant result for IRS1: \n",
      "Ttest_indResult(statistic=-1.0601355321350932, pvalue=0.29177084447657115)\n"
     ]
    }
   ],
   "source": [
    "protList = ['IRS1']\n",
    "pcutoff = 0.05 / len(protList)\n",
    "gene = 'PIK3CA'\n",
    "\n",
    "sigResults = [];\n",
    "for protein in protList: \n",
    "    if protein in proteomics.columns:\n",
    "        cross = CPTAC.compare_mutations(proteomics, protein, gene)\n",
    "        cross = cross[[\"Mutation\", protein]].dropna(axis=0)\n",
    "        mutated = cross.loc[cross[\"Mutation\"] == \"Missense_Mutation\"]\n",
    "        wt = cross.loc[cross[\"Mutation\"] == \"Wildtype\"]\n",
    "        ttest = scipy.stats.ttest_ind(mutated[protein], wt[protein])\n",
    "        if(ttest[1] <= pcutoff):\n",
    "            sigResults.append(protein)\n",
    "            print(\"Test for \" + protein + \": \")\n",
    "            print(ttest)\n",
    "         \n",
    "        else:\n",
    "            print(\"Unsignificant result for \" + protein + \": \")\n",
    "            print(ttest)"
   ]
  },
  {
   "cell_type": "markdown",
   "metadata": {},
   "source": [
    "## PIK3R1 mutation and IRS1 phosphoproteom abundance"
   ]
  },
  {
   "cell_type": "code",
   "execution_count": 7,
   "metadata": {},
   "outputs": [
    {
     "name": "stderr",
     "output_type": "stream",
     "text": [
      "/Users/emilyhosk/anaconda3/envs/research/lib/python3.7/site-packages/numpy/core/fromnumeric.py:3157: RuntimeWarning: Degrees of freedom <= 0 for slice\n",
      "  **kwargs)\n",
      "/Users/emilyhosk/anaconda3/envs/research/lib/python3.7/site-packages/numpy/core/_methods.py:132: RuntimeWarning: invalid value encountered in double_scalars\n",
      "  ret = ret.dtype.type(ret / rcount)\n"
     ]
    },
    {
     "name": "stdout",
     "output_type": "stream",
     "text": [
      "['IRS1-S1005' 'IRS1-S1100' 'IRS1-S1101' 'IRS1-S1133' 'IRS1-S1134'\n",
      " 'IRS1-S270' 'IRS1-S307' 'IRS1-S323' 'IRS1-S330' 'IRS1-S337' 'IRS1-S341'\n",
      " 'IRS1-S374' 'IRS1-S415' 'IRS1-S527' 'IRS1-S531' 'IRS1-S629' 'IRS1-S636'\n",
      " 'IRS1-S672' 'IRS1-S766' 'IRS1-T305' 'IRS1-T309' 'IRS1-T530']\n",
      "[nan nan nan nan nan nan nan nan nan nan nan nan nan nan nan nan nan nan\n",
      " nan nan nan nan]\n",
      "{'IRS1-S1005': nan, 'IRS1-S1100': nan, 'IRS1-S1101': nan, 'IRS1-S1133': nan, 'IRS1-S1134': nan, 'IRS1-S270': nan, 'IRS1-S307': nan, 'IRS1-S323': nan, 'IRS1-S330': nan, 'IRS1-S337': nan, 'IRS1-S341': nan, 'IRS1-S374': nan, 'IRS1-S415': nan, 'IRS1-S527': nan, 'IRS1-S531': nan, 'IRS1-S629': nan, 'IRS1-S636': nan, 'IRS1-S672': nan, 'IRS1-S766': nan, 'IRS1-T305': nan, 'IRS1-T309': nan, 'IRS1-T530': nan}\n"
     ]
    },
    {
     "name": "stderr",
     "output_type": "stream",
     "text": [
      "/Users/emilyhosk/anaconda3/envs/research/lib/python3.7/site-packages/statsmodels/stats/multitest.py:320: RuntimeWarning: invalid value encountered in less_equal\n",
      "  reject = pvals_sorted <= ecdffactor*alpha\n"
     ]
    }
   ],
   "source": [
    "sites = phos.columns\n",
    "p_values = []\n",
    "site_names = []\n",
    "\n",
    "\n",
    "phosProtList = ['IRS1']\n",
    "\n",
    "alpha = 0.05\n",
    "p_value = alpha/len(phosProtList)\n",
    "\n",
    "\n",
    "\n",
    "for protein in phosProtList:\n",
    "    pattern = re.compile(protein)\n",
    "    isInList = filter(pattern.search, sites)\n",
    "    if next(isInList, None) is not None:\n",
    "        phosphositesdf = CPTAC.compare_mutations(phos, protein, gene)\n",
    "        phosphositesdf = phosphositesdf.loc[phosphositesdf['Patient_Type'] == 'Tumor'].drop('Patient_Type', axis = 1)\n",
    "        for site in phosphositesdf.columns:\n",
    "            if (site is not 'Mutation'):\n",
    "                sitedf = CPTAC.compare_mutations(phos, site, gene)\n",
    "                mutateddf = sitedf.loc[sitedf['Mutation'] != 'Wildtype'].dropna(axis=0)\n",
    "                wtdf = sitedf.loc[sitedf['Mutation'] == 'Wildtype'].dropna(axis=0)\n",
    "                ttest = scipy.stats.ttest_ind(mutateddf[site], wtdf[site])\n",
    "                p_values.append(ttest[1])\n",
    "                site_names.append(site)     \n",
    "                \n",
    "areSignificant = statsmodels.stats.multitest.fdrcorrection(p_values)[0]\n",
    "pvalues = statsmodels.stats.multitest.fdrcorrection(p_values)[1]\n",
    "significant_sites = np.array(site_names)[np.array(areSignificant)]\n",
    "significant_pvalues = np.array(pvalues)[np.array(areSignificant)]\n",
    "\n",
    "significant_vals = dict(zip(significant_sites, significant_pvalues))\n",
    "\n",
    "print(significant_sites)\n",
    "print(significant_pvalues)\n",
    "print(significant_vals)"
   ]
  },
  {
   "cell_type": "code",
   "execution_count": 8,
   "metadata": {},
   "outputs": [
    {
     "data": {
      "image/png": "[encoded data removed]",
      "text/plain": [
       "<Figure size 842.4x595.44 with 1 Axes>"
      ]
     },
     "metadata": {
      "needs_background": "light"
     },
     "output_type": "display_data"
    }
   ],
   "source": [
    "phosdf = CPTAC.compare_mutations(phos, protein, gene)\n",
    "\n",
    "phosdf = phosdf.loc[phosdf['Patient_Type'] == 'Tumor']\n",
    "\n",
    "a4_dims = (11.7, 8.27)\n",
    "fig, ax = plt.subplots(figsize=a4_dims)\n",
    "\n",
    "boxplt = sns.boxplot(data = phosdf, x = 'Mutation', y = 'IRS1-S1100')\n",
    "boxplt = sns.stripplot(data = phosdf, x = 'Mutation', y = 'IRS1-S1100', jitter = True, color = '.3')\n",
    "plt.show()"
   ]
  },
  {
   "cell_type": "code",
   "execution_count": null,
   "metadata": {},
   "outputs": [],
   "source": []
  },
  {
   "cell_type": "code",
   "execution_count": null,
   "metadata": {},
   "outputs": [],
   "source": []
  }
 ],
 "metadata": {
  "kernelspec": {
   "display_name": "Python 3",
   "language": "python",
   "name": "python3"
  },
  "language_info": {
   "codemirror_mode": {
    "name": "ipython",
    "version": 3
   },
   "file_extension": ".py",
   "mimetype": "text/x-python",
   "name": "python",
   "nbconvert_exporter": "python",
   "pygments_lexer": "ipython3",
   "version": "3.7.1"
  }
 },
 "nbformat": 4,
 "nbformat_minor": 2
}
