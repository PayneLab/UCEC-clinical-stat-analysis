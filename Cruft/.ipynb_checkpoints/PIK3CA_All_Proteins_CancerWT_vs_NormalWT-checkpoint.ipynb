{
 "cells": [
  {
   "cell_type": "markdown",
   "metadata": {},
   "source": [
    "# Statistical Testing Templates for CPTAC Data"
   ]
  },
  {
   "cell_type": "markdown",
   "metadata": {},
   "source": [
    "<b>Standard imports for playing with and plotting data frames.</b>"
   ]
  },
  {
   "cell_type": "code",
   "execution_count": 1,
   "metadata": {},
   "outputs": [],
   "source": [
    "import pandas as pd\n",
    "import numpy as np\n",
    "import scipy.stats\n",
    "from scipy.stats import pearsonr\n",
    "import matplotlib.pyplot as plt\n",
    "import re\n",
    "import seaborn as sns\n",
    "import statsmodels.stats.multitest\n",
    "#import altair as alt\n",
    "#alt.renderers.enable('notebook') #Necessary for Altair to work"
   ]
  },
  {
   "cell_type": "code",
   "execution_count": 2,
   "metadata": {
    "scrolled": true
   },
   "outputs": [
    {
     "name": "stdout",
     "output_type": "stream",
     "text": [
      "Loading CPTAC data:\n",
      "Loading Dictionary...\n",
      "Loading Clinical Data...\n",
      "Loading Proteomics Data...\n",
      "Loading Transcriptomics Data...\n",
      "Loading CNA Data...\n",
      "Loading Phosphoproteomics Data...\n",
      "Loading Somatic Mutation Data...\n",
      "\n",
      " ******PLEASE READ******\n",
      "WARNING: This data is under a publication embargo until July 1, 2019.\n",
      "CPTAC is a community resource project and data are made available\n",
      "rapidly after generation for community research use. The embargo\n",
      "allows exploring and utilizing the data, but the data may not be in a\n",
      "publication until July 1, 2019. Please see\n",
      "https://proteomics.cancer.gov/data-portal/about/data-use-agreement or\n",
      "enter CPTAC.embargo() to open the webpage for more details.\n"
     ]
    }
   ],
   "source": [
    "import CPTAC"
   ]
  },
  {
   "cell_type": "code",
   "execution_count": 3,
   "metadata": {},
   "outputs": [],
   "source": [
    "somatic_mutations = CPTAC.get_somatic()\n",
    "proteomics = CPTAC.get_proteomics()\n",
    "phos = CPTAC.get_phosphoproteomics()\n",
    "\n",
    "#print(phos)\n",
    "\n",
    "#Try Looking at all proteins, not just interacting proteins\n",
    "all_proteins = list(proteomics.columns.values)"
   ]
  },
  {
   "cell_type": "markdown",
   "metadata": {},
   "source": [
    "### List of interacting proteins (according to STRING and Uniprot)"
   ]
  },
  {
   "cell_type": "code",
   "execution_count": 25,
   "metadata": {},
   "outputs": [],
   "source": [
    "#Build the protein list; this may have only a single protein if desired\n",
    "#protList = ['IRS1', 'IRS2', 'RRAS', 'AKT2', 'NRAS', 'PTEN', 'AKT1', 'MRAS', 'HRAS', 'RPS6KB1', 'PIK3R1', 'PKC', 'MTOR', 'S6K', 'MAPK', 'ERBB3', 'P85A', 'P55G', 'CDK5']\n",
    "protList = all_proteins\n",
    "protList = ['IRS1', 'IRS2', 'RRAS', 'AKT2', 'NRAS', 'PTEN', 'AKT1', 'MRAS', 'HRAS', 'RPS6KB1', 'PIK3R1', 'PKC', 'MTOR', 'S6K', 'MAPK', 'ERBB3', 'P85A', 'P55G', 'CDK5']\n"
   ]
  },
  {
   "cell_type": "markdown",
   "metadata": {},
   "source": [
    "### Test for phosphorylation levels (difference between cancer wildtype and normal wildtype"
   ]
  },
  {
   "cell_type": "code",
   "execution_count": 30,
   "metadata": {},
   "outputs": [],
   "source": [
    "#List of proteins (will test all phosphorylation sites on these proteins)\n",
    "phosProtList = protList"
   ]
  },
  {
   "cell_type": "code",
   "execution_count": 27,
   "metadata": {},
   "outputs": [
    {
     "name": "stdout",
     "output_type": "stream",
     "text": [
      "[0.09217979042949236, 0.07291899676389776, 0.014427850136215746, 0.20609210592315913, 0.7728252046676894, 0.005557524113902952, 0.027218452948280437, 0.24364783679289373, 0.25781175514026355]\n",
      "['PTEN-S467', 'PTEN-S475', 'PTEN-S478', 'PTEN-S537', 'PTEN-S543', 'PTEN-S558', 'PTEN-T539', 'PTEN-T555', 'PTEN-T556']\n"
     ]
    }
   ],
   "source": [
    "sites = phos.columns\n",
    "p_values = []\n",
    "site_names = []\n",
    "gene = 'PIK3CA'\n",
    "\n",
    "for protein in phosProtList:\n",
    "    pattern = re.compile(protein)\n",
    "    isInList = filter(pattern.search, sites)\n",
    "    if next(isInList, None) is not None:\n",
    "        phosphositesdf = CPTAC.compare_mutations(phos, protein, gene)\n",
    "        #phosphositesdf = phosphositesdf.loc[phosphositesdf['Patient_Type'] == 'Tumor'].drop('Patient_Type', axis = 1)\n",
    "        for site in phosphositesdf.columns:\n",
    "            '''just making sure not to do comparison on mutation column or patient_type column'''\n",
    "            if (site is not 'Mutation' and site is not 'Patient_Type'):\n",
    "                sitedf = CPTAC.compare_mutations(phos, site, gene)\n",
    "                #sitedf = sitedf.loc[sitedf['Patient_Type'] == 'Tumor'].drop('Patient_Type', axis = 1)\n",
    "                mutateddf = sitedf.loc[sitedf['Mutation'] != 'Wildtype'].dropna(axis=0)\n",
    "                wtdf = sitedf.loc[sitedf['Mutation'] == 'Wildtype'].dropna(axis=0)\n",
    "                #print(\"WTDF: \\n\" , wtdf)\n",
    "                cancer_wtdf = wtdf.loc[wtdf['Patient_Type'] == \"Tumor\"].dropna(axis=0)\n",
    "                normal_wtdf = wtdf.loc[wtdf['Patient_Type'] == \"Normal\"].dropna(axis=0)\n",
    "                #if len(mutateddf) > 20:\n",
    "                ttest = scipy.stats.ttest_ind(cancer_wtdf[site], normal_wtdf[site])\n",
    "                p_values.append(ttest[1])\n",
    "                site_names.append(site)\n",
    "\n",
    "\n",
    "\n",
    "#We need to remove all 'nan' p-values and their corresponding site names before passing it in for the fdr correction\n",
    "indexesToRemove=[]\n",
    "\n",
    "for index in range(0, len(p_values)):\n",
    "    if np.isnan(p_values[index]):\n",
    "        indexesToRemove.append(index)\n",
    "\n",
    "for rem in range( len(indexesToRemove)-1, -1, -1):\n",
    "    p_values.pop(indexesToRemove[rem])\n",
    "    site_names.pop(indexesToRemove[rem])\n",
    "#p_values and site names have now had all entries removed where the corresponding p-value is 'nan'\n",
    "\n",
    "print(p_values)\n",
    "print(site_names)\n",
    "        \n"
   ]
  },
  {
   "cell_type": "markdown",
   "metadata": {},
   "source": [
    "### Seeing significance of P values using bonferroni correction"
   ]
  },
  {
   "cell_type": "code",
   "execution_count": 28,
   "metadata": {},
   "outputs": [
    {
     "name": "stdout",
     "output_type": "stream",
     "text": [
      "threshold_pval:  0.005555555555555556\n"
     ]
    }
   ],
   "source": [
    "threshold_pval = .05/len(site_names)\n",
    "print(\"threshold_pval: \", threshold_pval)\n",
    "bonferonni_corrected_pvals = list()\n",
    "bonferonni_sig_sites = list()\n",
    "for ind in range(0, len(p_values)):\n",
    "    if p_values[ind] <= threshold_pval:\n",
    "        bonferonni_corrected_pvals.append(p_values[ind])\n",
    "        bonferonni_sig_sites.append(site_names[ind])\n",
    "        \n",
    "        \n",
    "bf_significant_vals = dict(zip(bonferonni_sig_sites, bonferonni_corrected_pvals))"
   ]
  },
  {
   "cell_type": "markdown",
   "metadata": {},
   "source": [
    "### Print signifcant p-values"
   ]
  },
  {
   "cell_type": "code",
   "execution_count": 29,
   "metadata": {},
   "outputs": [
    {
     "name": "stdout",
     "output_type": "stream",
     "text": [
      "0\n",
      "0\n",
      "9\n"
     ]
    }
   ],
   "source": [
    "#print(\"\\nSignificant P-values from Bonferroni: \", bonferonni_corrected_pvals)\n",
    "#print(\"\\nSignificant Sites from Bonferroni: \", bonferonni_sig_sites)\n",
    "#sortedkeys = sort(bf_significant_vals.keys())\n",
    "#for key in sortedkeys:\n",
    "#    print (key, bf_significant_vals[key])\n",
    "#print(\"\\nSignificant values: \", bf_significant_vals)\n",
    "\n",
    "for key in sorted(bf_significant_vals):\n",
    "    #print(%s: %s % (key, bf_significant_vals[key]))\n",
    "    print(key, bf_significant_vals[key])\n",
    "\n",
    "print(len(bonferonni_sig_sites))\n",
    "print(len(bonferonni_corrected_pvals))\n",
    "print(len(site_names))\n",
    "\n",
    "\n",
    "#indexMin = bonferonni_corrected_pvals.index(min(bonferonni_corrected_pvals))\n",
    "\n",
    "#print(\"Min P-val: \", bonferonni_corrected_pvals[index_min])\n",
    "#print(\"Site name at min: \", bonferonni_sig_sites[index_min])"
   ]
  },
  {
   "cell_type": "markdown",
   "metadata": {},
   "source": [
    "### Use FDR Correction"
   ]
  },
  {
   "cell_type": "code",
   "execution_count": null,
   "metadata": {},
   "outputs": [],
   "source": [
    "pvalues = statsmodels.stats.multitest.fdrcorrection(p_values,alpha=0.05, method='indep')[1]         \n",
    "areSignificant = statsmodels.stats.multitest.fdrcorrection(p_values,alpha=0.05, method='indep')[0]\n",
    "\n",
    "significant_sites = np.array(site_names)[np.array(areSignificant)]\n",
    "significant_pvalues = np.array(pvalues)[np.array(areSignificant)]\n",
    "significant_vals = dict(zip(significant_sites, significant_pvalues))\n",
    "\n",
    "\n",
    "print(\"\\nSignificant P-vals (FDR): \", significant_pvalues)\n",
    "print(\"\\nSignificant sites (FDR): \", significant_sites)\n",
    "print(\"\\nSignificant values (FDR): \", significant_vals)\n",
    "\n",
    "print(len(significant_sites))"
   ]
  },
  {
   "cell_type": "markdown",
   "metadata": {},
   "source": [
    "### Plot phosphorylation levels and gene mutation\n",
    "<b>Note:</b> There may be fewer data points due to NA values"
   ]
  },
  {
   "cell_type": "code",
   "execution_count": null,
   "metadata": {},
   "outputs": [],
   "source": [
    "#Specify the gene and the site; you may use a string to specify the site or reference the significant results above\n",
    "\n",
    "gene = 'PIK3CA'\n",
    "\n",
    "site=\"AKAP12-S629\"\n",
    "\n",
    "#Build the dataframe for plotting\n",
    "genedf = CPTAC.compare_mutations(phos, site, gene)\n",
    "genedf = genedf.loc[genedf['Patient_Type'] == 'Tumor'].drop('Patient_Type', axis = 1)\n",
    "\n",
    "#print(genedf)\n",
    "#sites = phos.filter(regex=site)\n",
    "#genedf = genedf.add(sites, fill_value=0)\n",
    "\n",
    "phos_boxplot = sns.boxplot(data=genedf, x=\"Mutation\" ,y=site)\n",
    "phos_boxplot.set_title(gene + \" gene mutation and \" + site + \" phosphorylation levels\")\n",
    "phos_boxplot = sns.stripplot(data=genedf, x=\"Mutation\", y=site,jitter=True, color=\".3\")\n",
    "phos_boxplot.set(xlabel=\"Somatic Gene Mutation\",ylabel=\"Phosphoproteomics\")\n",
    "\n",
    "print(\"\\n\")\n",
    "\n",
    "phos_boxplot = sns.boxplot(data=genedf, x=\"Mutation\" ,y=site)\n",
    "phos_boxplot.set_title(gene + \" gene mutation and \" + site + \" phosphorylation levels\")\n",
    "phos_boxplot = sns.stripplot(data=genedf, x=\"Mutation\", y=site,jitter=True, color=\".3\")\n",
    "phos_boxplot.set(xlabel=\"Somatic Gene Mutation\",ylabel=\"Phosphoproteomics\")"
   ]
  },
  {
   "cell_type": "code",
   "execution_count": null,
   "metadata": {},
   "outputs": [],
   "source": []
  }
 ],
 "metadata": {
  "kernelspec": {
   "display_name": "Python 3",
   "language": "python",
   "name": "python3"
  },
  "language_info": {
   "codemirror_mode": {
    "name": "ipython",
    "version": 3
   },
   "file_extension": ".py",
   "mimetype": "text/x-python",
   "name": "python",
   "nbconvert_exporter": "python",
   "pygments_lexer": "ipython3",
   "version": "3.6.8"
  }
 },
 "nbformat": 4,
 "nbformat_minor": 2
}
