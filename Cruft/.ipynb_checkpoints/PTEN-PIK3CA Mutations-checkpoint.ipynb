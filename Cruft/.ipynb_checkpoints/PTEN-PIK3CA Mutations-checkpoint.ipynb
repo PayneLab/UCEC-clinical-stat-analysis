{
 "cells": [
  {
   "cell_type": "markdown",
   "metadata": {},
   "source": [
    "<b> Standard imports for playing with and plotting data frames. </b>"
   ]
  },
  {
   "cell_type": "code",
   "execution_count": 42,
   "metadata": {},
   "outputs": [],
   "source": [
    "import pandas as pd\n",
    "import numpy as np\n",
    "import scipy.stats\n",
    "import matplotlib.pyplot as plt\n",
    "import seaborn as sns\n",
    "import re\n",
    "import statsmodels.stats.multitest"
   ]
  },
  {
   "cell_type": "markdown",
   "metadata": {},
   "source": [
    "<b> Import CPTAC data </b>"
   ]
  },
  {
   "cell_type": "code",
   "execution_count": 43,
   "metadata": {},
   "outputs": [],
   "source": [
    "import CPTAC"
   ]
  },
  {
   "cell_type": "code",
   "execution_count": 44,
   "metadata": {},
   "outputs": [],
   "source": [
    "somatic_mutations = CPTAC.get_somatic()\n",
    "proteomics = CPTAC.get_proteomics()\n",
    "phos = CPTAC.get_phosphoproteomics()"
   ]
  },
  {
   "cell_type": "markdown",
   "metadata": {},
   "source": [
    "## Get the patients who have mutations in both PTEN and PIK3CA "
   ]
  },
  {
   "cell_type": "code",
   "execution_count": 45,
   "metadata": {},
   "outputs": [
    {
     "name": "stdout",
     "output_type": "stream",
     "text": [
      "160      S001\n",
      "1147     S003\n",
      "1426     S009\n",
      "1574     S010\n",
      "2260     S012\n",
      "2261     S012\n",
      "3417     S014\n",
      "3418     S014\n",
      "4648     S018\n",
      "4756     S021\n",
      "4757     S021\n",
      "7216     S022\n",
      "7217     S022\n",
      "7218     S022\n",
      "7219     S022\n",
      "16613    S023\n",
      "16614    S023\n",
      "19188    S024\n",
      "19290    S026\n",
      "19525    S027\n",
      "19526    S027\n",
      "20178    S028\n",
      "20505    S030\n",
      "21286    S031\n",
      "21386    S032\n",
      "21643    S033\n",
      "21849    S036\n",
      "22656    S038\n",
      "22746    S040\n",
      "22747    S040\n",
      "         ... \n",
      "37617    S061\n",
      "37618    S061\n",
      "38352    S063\n",
      "38401    S064\n",
      "38445    S065\n",
      "39718    S066\n",
      "39719    S066\n",
      "43587    S067\n",
      "43588    S067\n",
      "43687    S068\n",
      "44911    S070\n",
      "44912    S070\n",
      "45433    S074\n",
      "45469    S075\n",
      "45590    S077\n",
      "46555    S081\n",
      "46858    S084\n",
      "46859    S084\n",
      "47303    S086\n",
      "47557    S088\n",
      "48112    S089\n",
      "48398    S090\n",
      "48845    S092\n",
      "49828    S095\n",
      "49849    S096\n",
      "49902    S097\n",
      "49903    S097\n",
      "50016    S098\n",
      "50841    S099\n",
      "53076      NA\n",
      "Name: Clinical_Patient_Key, Length: 64, dtype: object\n",
      "41\n",
      "['S001', 'S003', 'S010', 'S012', 'S014', 'S021', 'S022', 'S023', 'S024', 'S026', 'S027', 'S028', 'S030', 'S032', 'S033', 'S036', 'S040', 'S053', 'S055', 'S060', 'S061', 'S063', 'S064', 'S065', 'S066', 'S067', 'S068', 'S070', 'S074', 'S075', 'S077', 'S081', 'S084', 'S086', 'S088', 'S089', 'S092', 'S095', 'S097', 'S098', 'S099']\n"
     ]
    }
   ],
   "source": [
    "#create a dataframe with both mutations included \n",
    "\n",
    "mutation_1 = 'PIK3CA'\n",
    "mutation_2 = 'PTEN'\n",
    "common_mutated = somatic_mutations.loc[(somatic_mutations['Gene'] == mutation_1) | (somatic_mutations['Gene'] == mutation_2)]\n",
    "\n",
    "mutations_first = somatic_mutations.loc[(somatic_mutations['Gene'] == mutation_1)]\n",
    "print(mutations_first['Clinical_Patient_Key'])\n",
    "\n",
    "patients_first = mutations_first['Clinical_Patient_Key']\n",
    "first_list = patients_first.tolist()\n",
    "mutations_second = somatic_mutations.loc[somatic_mutations['Gene'] == mutation_2]\n",
    "#print(mutations_second)\n",
    "patients_second = mutations_second['Clinical_Patient_Key']\n",
    "second_list = patients_second.tolist()\n",
    "\n",
    "#get the number of unique patients in the pik3ca mutation list\n",
    "unique_1 = list()\n",
    "for person in first_list:\n",
    "    if person not in unique_1:\n",
    "        unique_1.append(person)\n",
    "\n",
    "#check for the overlaps \n",
    "common_list = list()\n",
    "for person in second_list:\n",
    "    if person in unique_1:\n",
    "        if person not in common_list:\n",
    "            common_list.append(person)\n",
    "\n",
    "print(len(common_list))\n",
    "print(common_list)"
   ]
  },
  {
   "cell_type": "markdown",
   "metadata": {},
   "source": [
    "# Compare AKT1 Phosphoproteomics "
   ]
  },
  {
   "cell_type": "markdown",
   "metadata": {},
   "source": [
    "### Create a dataframe showing PTEN and PIK3CA mutations "
   ]
  },
  {
   "cell_type": "code",
   "execution_count": 75,
   "metadata": {},
   "outputs": [],
   "source": [
    "def combine_dataframes(gene_1, gene_2, protein, site):\n",
    "\n",
    "   \n",
    "\n",
    "    #create a dataframe for PIK3CA mutations\n",
    "    phosdf_pik = CPTAC.compare_mutations(phos, protein, gene_1)\n",
    "    phosdf_pik = phosdf_pik.rename(index=str, columns={'Mutation' : 'Gene_1_Mutation'})\n",
    "\n",
    "    #create a dataframe for PTEN mutations\n",
    "    phosdf_pten = CPTAC.compare_mutations(phos, protein, gene_2)\n",
    "    phosdf_pten = phosdf_pten.rename(index=str, columns={'Mutation' : 'Gene_2_Mutation'})\n",
    "\n",
    "    #extract the mutation column in PTEN that will be added to a combined dataframe\n",
    "    pten_col = phosdf_pten['Gene_2_Mutation']\n",
    "\n",
    "    #add the PTEN column to create a combined dataframe \n",
    "    phos_combined = phosdf_pik\n",
    "    phos_combined['Gene_2_Mutation'] = pten_col\n",
    "\n",
    "    #create new column to indicate if patient has mutations in both PIK3CA and PTEN\n",
    "    phos_combined['Both_Mutations'] = False\n",
    "    phos_combined.loc[common_list, 'Both_Mutations'] = True\n",
    "    phos_combined.loc[(phos_combined['Gene_1_Mutation'] == 'Wildtype') | (phos_combined['Gene_2_Mutation'] == 'Wildtype') ]\n",
    "\n",
    "    #take out the control\n",
    "    phos_combined = phos_combined.loc[phos_combined['Patient_Type'] == 'Tumor']\n",
    "    \n",
    "    return phos_combined\n"
   ]
  },
  {
   "cell_type": "markdown",
   "metadata": {},
   "source": [
    "### Both Mutations vs. Wildtype"
   ]
  },
  {
   "cell_type": "code",
   "execution_count": 76,
   "metadata": {},
   "outputs": [
    {
     "ename": "TypeError",
     "evalue": "unsupported operand type(s) for /: 'str' and 'int'",
     "output_type": "error",
     "traceback": [
      "\u001b[0;31m---------------------------------------------------------------------------\u001b[0m",
      "\u001b[0;31mTypeError\u001b[0m                                 Traceback (most recent call last)",
      "\u001b[0;32m<ipython-input-76-80f0c2064d58>\u001b[0m in \u001b[0;36m<module>\u001b[0;34m\u001b[0m\n\u001b[1;32m     26\u001b[0m         \u001b[0;31m#print(wtdf[site])\u001b[0m\u001b[0;34m\u001b[0m\u001b[0;34m\u001b[0m\u001b[0;34m\u001b[0m\u001b[0m\n\u001b[1;32m     27\u001b[0m         \u001b[0;32mif\u001b[0m \u001b[0msite\u001b[0m \u001b[0;32min\u001b[0m \u001b[0mwtdf\u001b[0m\u001b[0;34m.\u001b[0m\u001b[0mcolumns\u001b[0m\u001b[0;34m:\u001b[0m\u001b[0;34m\u001b[0m\u001b[0;34m\u001b[0m\u001b[0m\n\u001b[0;32m---> 28\u001b[0;31m             \u001b[0mttest\u001b[0m \u001b[0;34m=\u001b[0m \u001b[0mscipy\u001b[0m\u001b[0;34m.\u001b[0m\u001b[0mstats\u001b[0m\u001b[0;34m.\u001b[0m\u001b[0mttest_ind\u001b[0m\u001b[0;34m(\u001b[0m\u001b[0mmutateddf\u001b[0m\u001b[0;34m[\u001b[0m\u001b[0msite\u001b[0m\u001b[0;34m]\u001b[0m\u001b[0;34m,\u001b[0m \u001b[0mwtdf\u001b[0m\u001b[0;34m[\u001b[0m\u001b[0msite\u001b[0m\u001b[0;34m]\u001b[0m\u001b[0;34m)\u001b[0m\u001b[0;34m\u001b[0m\u001b[0;34m\u001b[0m\u001b[0m\n\u001b[0m\u001b[1;32m     29\u001b[0m             \u001b[0;31m#print(ttest)\u001b[0m\u001b[0;34m\u001b[0m\u001b[0;34m\u001b[0m\u001b[0;34m\u001b[0m\u001b[0m\n\u001b[1;32m     30\u001b[0m             \u001b[0;32mif\u001b[0m \u001b[0mttest\u001b[0m\u001b[0;34m[\u001b[0m\u001b[0;36m1\u001b[0m\u001b[0;34m]\u001b[0m \u001b[0;34m<\u001b[0m \u001b[0mcutoff\u001b[0m\u001b[0;34m:\u001b[0m\u001b[0;34m\u001b[0m\u001b[0;34m\u001b[0m\u001b[0m\n",
      "\u001b[0;32m~/anaconda3/envs/research/lib/python3.7/site-packages/scipy/stats/stats.py\u001b[0m in \u001b[0;36mttest_ind\u001b[0;34m(a, b, axis, equal_var, nan_policy)\u001b[0m\n\u001b[1;32m   4078\u001b[0m         \u001b[0;32mreturn\u001b[0m \u001b[0mTtest_indResult\u001b[0m\u001b[0;34m(\u001b[0m\u001b[0mnp\u001b[0m\u001b[0;34m.\u001b[0m\u001b[0mnan\u001b[0m\u001b[0;34m,\u001b[0m \u001b[0mnp\u001b[0m\u001b[0;34m.\u001b[0m\u001b[0mnan\u001b[0m\u001b[0;34m)\u001b[0m\u001b[0;34m\u001b[0m\u001b[0;34m\u001b[0m\u001b[0m\n\u001b[1;32m   4079\u001b[0m \u001b[0;34m\u001b[0m\u001b[0m\n\u001b[0;32m-> 4080\u001b[0;31m     \u001b[0mv1\u001b[0m \u001b[0;34m=\u001b[0m \u001b[0mnp\u001b[0m\u001b[0;34m.\u001b[0m\u001b[0mvar\u001b[0m\u001b[0;34m(\u001b[0m\u001b[0ma\u001b[0m\u001b[0;34m,\u001b[0m \u001b[0maxis\u001b[0m\u001b[0;34m,\u001b[0m \u001b[0mddof\u001b[0m\u001b[0;34m=\u001b[0m\u001b[0;36m1\u001b[0m\u001b[0;34m)\u001b[0m\u001b[0;34m\u001b[0m\u001b[0;34m\u001b[0m\u001b[0m\n\u001b[0m\u001b[1;32m   4081\u001b[0m     \u001b[0mv2\u001b[0m \u001b[0;34m=\u001b[0m \u001b[0mnp\u001b[0m\u001b[0;34m.\u001b[0m\u001b[0mvar\u001b[0m\u001b[0;34m(\u001b[0m\u001b[0mb\u001b[0m\u001b[0;34m,\u001b[0m \u001b[0maxis\u001b[0m\u001b[0;34m,\u001b[0m \u001b[0mddof\u001b[0m\u001b[0;34m=\u001b[0m\u001b[0;36m1\u001b[0m\u001b[0;34m)\u001b[0m\u001b[0;34m\u001b[0m\u001b[0;34m\u001b[0m\u001b[0m\n\u001b[1;32m   4082\u001b[0m     \u001b[0mn1\u001b[0m \u001b[0;34m=\u001b[0m \u001b[0ma\u001b[0m\u001b[0;34m.\u001b[0m\u001b[0mshape\u001b[0m\u001b[0;34m[\u001b[0m\u001b[0maxis\u001b[0m\u001b[0;34m]\u001b[0m\u001b[0;34m\u001b[0m\u001b[0;34m\u001b[0m\u001b[0m\n",
      "\u001b[0;32m~/anaconda3/envs/research/lib/python3.7/site-packages/numpy/core/fromnumeric.py\u001b[0m in \u001b[0;36mvar\u001b[0;34m(a, axis, dtype, out, ddof, keepdims)\u001b[0m\n\u001b[1;32m   3155\u001b[0m \u001b[0;34m\u001b[0m\u001b[0m\n\u001b[1;32m   3156\u001b[0m     return _methods._var(a, axis=axis, dtype=dtype, out=out, ddof=ddof,\n\u001b[0;32m-> 3157\u001b[0;31m                          **kwargs)\n\u001b[0m\u001b[1;32m   3158\u001b[0m \u001b[0;34m\u001b[0m\u001b[0m\n\u001b[1;32m   3159\u001b[0m \u001b[0;34m\u001b[0m\u001b[0m\n",
      "\u001b[0;32m~/anaconda3/envs/research/lib/python3.7/site-packages/numpy/core/_methods.py\u001b[0m in \u001b[0;36m_var\u001b[0;34m(a, axis, dtype, out, ddof, keepdims)\u001b[0m\n\u001b[1;32m    108\u001b[0m     \u001b[0;32mif\u001b[0m \u001b[0misinstance\u001b[0m\u001b[0;34m(\u001b[0m\u001b[0marrmean\u001b[0m\u001b[0;34m,\u001b[0m \u001b[0mmu\u001b[0m\u001b[0;34m.\u001b[0m\u001b[0mndarray\u001b[0m\u001b[0;34m)\u001b[0m\u001b[0;34m:\u001b[0m\u001b[0;34m\u001b[0m\u001b[0;34m\u001b[0m\u001b[0m\n\u001b[1;32m    109\u001b[0m         arrmean = um.true_divide(\n\u001b[0;32m--> 110\u001b[0;31m                 arrmean, rcount, out=arrmean, casting='unsafe', subok=False)\n\u001b[0m\u001b[1;32m    111\u001b[0m     \u001b[0;32melse\u001b[0m\u001b[0;34m:\u001b[0m\u001b[0;34m\u001b[0m\u001b[0;34m\u001b[0m\u001b[0m\n\u001b[1;32m    112\u001b[0m         \u001b[0marrmean\u001b[0m \u001b[0;34m=\u001b[0m \u001b[0marrmean\u001b[0m\u001b[0;34m.\u001b[0m\u001b[0mdtype\u001b[0m\u001b[0;34m.\u001b[0m\u001b[0mtype\u001b[0m\u001b[0;34m(\u001b[0m\u001b[0marrmean\u001b[0m \u001b[0;34m/\u001b[0m \u001b[0mrcount\u001b[0m\u001b[0;34m)\u001b[0m\u001b[0;34m\u001b[0m\u001b[0;34m\u001b[0m\u001b[0m\n",
      "\u001b[0;31mTypeError\u001b[0m: unsupported operand type(s) for /: 'str' and 'int'"
     ]
    }
   ],
   "source": [
    "gene_1 = 'PIK3CA'\n",
    "gene_2 = 'PTEN'\n",
    "protein = 'AKT1'\n",
    "\n",
    "phos_df = CPTAC.compare_mutations(phos, protein, gene_1)\n",
    "#print(phos_df)\n",
    "\n",
    "cutoff = 0.05/len(phos_df.columns)\n",
    "\n",
    "for site in phos_df.columns:\n",
    "    if (site is not 'Mutation'):\n",
    "        \n",
    "        sitedf = combine_dataframes(gene_1, gene_2, protein, site)\n",
    "        #print(sitedf)\n",
    "        mutateddf = sitedf.loc[(sitedf['Gene_1_Mutation'] != 'Wildtype') | (sitedf['Gene_2_Mutation'] != 'Wildtype') ].dropna(axis=1)\n",
    "        #print(mutateddf)\n",
    "        mutateddf = mutateddf.loc[mutateddf['Both_Mutations'] == True]\n",
    "        #print(mutateddf)\n",
    "        #print(mutateddf)\n",
    "        wtdf = sitedf.loc[(sitedf['Gene_1_Mutation'] == 'Wildtype') | (sitedf['Gene_2_Mutation'] == 'Wildtype') ].dropna(axis=1)\n",
    "        #print(wtdf)\n",
    "        #wtdf = sitedf.loc[sitedf['Both_Mutations'] == False].dropna(axis=0)\n",
    "        #wtdf = wtdf.loc[wtdf['Gene_1_Mutation'] == 'Wildtype']\n",
    "        #wtdf = wtdf.loc[wtdf['Gene_2_Mutation'] == 'Wildtype']\n",
    "        \n",
    "        #print(wtdf[site])\n",
    "        if site in wtdf.columns:\n",
    "            ttest = scipy.stats.ttest_ind(mutateddf[site], wtdf[site])\n",
    "            #print(ttest)\n",
    "            if ttest[1] < cutoff:\n",
    "                print(site, \" \", ttest[1])\n",
    "        #else: print(\"Unsignificant Results\" , site, \" \", ttest[1])\n",
    "\n"
   ]
  },
  {
   "cell_type": "code",
   "execution_count": 77,
   "metadata": {},
   "outputs": [
    {
     "data": {
      "image/png": "[encoded data removed]",
      "text/plain": [
       "<Figure size 842.4x595.44 with 1 Axes>"
      ]
     },
     "metadata": {
      "needs_background": "light"
     },
     "output_type": "display_data"
    }
   ],
   "source": [
    "a4_dims = (11.7, 8.27)\n",
    "fig, ax = plt.subplots(figsize=a4_dims)\n",
    "\n",
    "boxplt = sns.boxplot(data = sitedf, x = 'Both_Mutations', y = 'AKT1-S129')\n",
    "boxplt = sns.stripplot(data = sitedf, x = 'Both_Mutations', y = 'AKT1-S129', jitter = True, color = '.3')\n",
    "plt.show()"
   ]
  },
  {
   "cell_type": "code",
   "execution_count": null,
   "metadata": {},
   "outputs": [],
   "source": []
  }
 ],
 "metadata": {
  "kernelspec": {
   "display_name": "Python 3",
   "language": "python",
   "name": "python3"
  },
  "language_info": {
   "codemirror_mode": {
    "name": "ipython",
    "version": 3
   },
   "file_extension": ".py",
   "mimetype": "text/x-python",
   "name": "python",
   "nbconvert_exporter": "python",
   "pygments_lexer": "ipython3",
   "version": "3.7.1"
  }
 },
 "nbformat": 4,
 "nbformat_minor": 2
}
