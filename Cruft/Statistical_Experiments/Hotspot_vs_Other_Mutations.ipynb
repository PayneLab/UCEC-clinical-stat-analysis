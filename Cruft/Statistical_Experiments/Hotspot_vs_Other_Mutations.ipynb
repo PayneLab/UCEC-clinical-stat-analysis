{
 "cells": [
  {
   "cell_type": "markdown",
   "metadata": {},
   "source": [
    "# PIK3CA: Effects of mutation in the hotspot compared to other mutations"
   ]
  },
  {
   "cell_type": "code",
   "execution_count": 12,
   "metadata": {},
   "outputs": [],
   "source": [
    "import pandas as pd\n",
    "import numpy as np\n",
    "import re\n",
    "import scipy.stats\n",
    "import statsmodels.stats.multitest\n",
    "import matplotlib.pyplot as plt\n",
    "import seaborn as sns\n",
    "import CPTAC"
   ]
  },
  {
   "cell_type": "code",
   "execution_count": 13,
   "metadata": {},
   "outputs": [
    {
     "name": "stdout",
     "output_type": "stream",
     "text": [
      "idx   A1BG   A2M  A2ML1  A4GALT  AAAS  AACS  AADAT  AAED1  AAGAB  AAK1  ...   \\\n",
      "S001 -1.01 -0.81  -0.28    0.24  0.29  0.68   1.27  -0.33   0.27 -0.79  ...    \n",
      "S002 -0.51 -1.00  -0.99    1.50  0.18  0.37   1.26   0.15   1.34 -0.54  ...    \n",
      "S003 -0.56 -1.33   0.64     NaN -0.26  1.05  -0.10  -0.14   0.46 -0.62  ...    \n",
      "S004 -1.53 -1.19  -0.49    0.26 -0.03  0.77   1.10  -0.93   0.26 -0.23  ...    \n",
      "S005 -0.16  0.09   0.01    0.34  0.51 -0.05  -1.18    NaN   0.66 -0.28  ...    \n",
      "S006 -1.03 -0.63  -0.04   -0.25 -0.09 -0.11   0.85   1.27   0.17  0.77  ...    \n",
      "S007 -1.09 -0.60  -1.11    0.02  0.16  0.67  -0.37  -0.12   0.33 -0.15  ...    \n",
      "S008 -0.29  0.51  -0.51     NaN  0.46  0.05  -0.22   0.18   0.11 -0.14  ...    \n",
      "S009 -0.93 -1.28   0.67    0.43 -0.05  0.86  -0.22    NaN  -0.21  0.13  ...    \n",
      "S010 -0.44 -0.87   2.83   -0.32  0.18  0.47  -0.15  -0.83  -0.01  0.11  ...    \n",
      "S011 -0.13  0.03   0.61    2.03 -0.10  1.34    NaN  -0.87   0.26 -0.46  ...    \n",
      "S012  1.55  1.67   0.43    0.70 -0.56  1.14    NaN    NaN   0.31 -0.53  ...    \n",
      "S013 -0.03  0.14   2.11    0.03  0.21  0.22    NaN    NaN   0.30 -0.02  ...    \n",
      "S014 -0.15  0.65  -0.80     NaN  0.06 -0.10   0.67  -0.35   0.01  0.39  ...    \n",
      "S015 -0.70 -0.60  -1.55   -1.11  0.48 -0.83  -1.12  -0.52   0.16 -0.15  ...    \n",
      "S016 -1.52 -1.90  -0.24     NaN  0.35  2.65   0.93  -0.38  -0.14 -0.51  ...    \n",
      "S017 -0.72 -0.34   1.68   -0.66  0.18  0.44   0.17   0.00   0.42 -0.33  ...    \n",
      "S018  0.33  1.14   5.40    0.34 -0.17  0.41    NaN    NaN   0.32  0.11  ...    \n",
      "S019  0.43 -0.21   0.80    0.14 -0.15 -0.13  -0.43  -0.06   0.15  0.05  ...    \n",
      "S020 -0.40  0.55   1.82     NaN -0.09  1.34  -0.02  -0.11  -0.10 -0.67  ...    \n",
      "S021 -0.83 -0.29    NaN     NaN  0.07  0.38   0.48  -0.08   0.35  0.09  ...    \n",
      "S022 -0.23 -0.18    NaN     NaN  0.43  0.26  -0.15  -1.32   0.16 -0.08  ...    \n",
      "S023 -0.02  0.68   3.40    0.17  0.17  0.14  -0.03  -0.60   0.40 -0.53  ...    \n",
      "S024 -0.62 -0.80  -0.39    0.23  0.03  0.14   0.54  -0.74   0.22  0.00  ...    \n",
      "S025 -0.18 -0.92   0.44   -0.19 -0.21  0.49   0.22   0.13   0.14  0.14  ...    \n",
      "S026  0.39  0.06  -0.19    0.51 -0.06  0.87  -0.18  -0.83   0.30 -0.59  ...    \n",
      "S027  1.06  0.68  -0.78     NaN  0.21 -0.60  -0.39   0.49  -0.31  0.39  ...    \n",
      "S028  0.76  0.24    NaN     NaN -0.49  0.26   0.99  -0.25   0.26  0.07  ...    \n",
      "S029 -0.05  0.39   1.10    0.40  0.53  0.93   0.77   0.71   0.65  0.05  ...    \n",
      "S030 -0.56 -0.17    NaN     NaN  0.34  0.14   1.12  -0.46  -0.10  0.06  ...    \n",
      "...    ...   ...    ...     ...   ...   ...    ...    ...    ...   ...  ...    \n",
      "S111  1.34  0.19  -0.22     NaN -0.01 -0.18  -0.31   0.53  -0.79  0.42  ...    \n",
      "S112  2.08  0.49   0.29    0.15  0.00 -0.36   0.22   1.18  -0.24 -0.14  ...    \n",
      "S113  1.33  0.70  -0.86   -0.34  0.08 -1.47  -0.65   0.07  -1.13  0.27  ...    \n",
      "S114  0.52 -0.75    NaN     NaN -0.07 -0.79  -0.88   0.46  -0.61  0.10  ...    \n",
      "S115  0.74  0.00  -0.01   -0.22 -0.07 -0.86   0.20   0.31  -0.48  0.10  ...    \n",
      "S116  1.40 -0.14   0.32    0.48 -0.06 -0.72   0.05   0.11  -0.34  0.33  ...    \n",
      "S117  1.34  0.11   0.19   -0.18  0.02 -0.82  -0.24   0.35  -0.80  0.31  ...    \n",
      "S118  1.03  0.38  -1.01   -0.44  0.01 -0.82  -0.48   0.00  -1.06  0.29  ...    \n",
      "S119  1.55  0.78  -1.22    0.01 -0.19 -1.44  -0.23   0.53  -1.02  0.37  ...    \n",
      "S120  1.90  1.16   0.55    0.21  0.20 -0.91  -0.25   0.36  -0.48  0.25  ...    \n",
      "S121  0.81  0.06   0.62     NaN -0.11  0.08   0.03   0.22   0.01  0.20  ...    \n",
      "S122  2.03  1.53    NaN     NaN  0.07 -0.19   0.51   1.89  -0.83  0.04  ...    \n",
      "S123  2.50  1.31   0.14   -0.03 -0.04 -0.82   0.14   0.24  -0.52  0.27  ...    \n",
      "S124  1.87  2.04  -0.14     NaN  0.10 -0.90  -0.85  -0.76  -0.57  0.10  ...    \n",
      "S125  1.82  0.39   0.07   -0.43 -0.08 -0.80    NaN    NaN  -0.50  0.36  ...    \n",
      "S126  1.25  1.09  -1.37   -0.15 -0.03 -0.73  -0.48   0.10  -0.18 -0.02  ...    \n",
      "S127  1.22  0.23  -1.27   -0.79 -0.39 -1.43  -0.87  -0.23  -0.43  0.21  ...    \n",
      "S128  0.70 -0.46  -0.17   -0.29 -0.17 -1.08   0.07    NaN  -0.80  0.09  ...    \n",
      "S129  0.12  0.58  -0.19   -0.03  0.04 -0.22    NaN    NaN  -0.46 -0.08  ...    \n",
      "S130  1.04  0.84  -0.45    0.11 -0.14 -0.22    NaN    NaN  -0.28 -0.30  ...    \n",
      "S131  0.60  0.49  -1.77   -0.40 -0.27 -0.64  -0.68   0.42  -0.45  0.08  ...    \n",
      "S132  0.26  0.77  -0.83   -0.45  0.01 -1.48  -0.49  -0.55  -0.26  0.08  ...    \n",
      "S133  0.43  0.34  -0.92   -0.58 -0.02 -1.48  -0.35   0.13  -0.55 -0.07  ...    \n",
      "S134  0.98  0.74   0.11   -0.20 -0.04 -0.90  -0.08    NaN  -0.50 -0.26  ...    \n",
      "S135  1.76  1.21  -0.37     NaN  0.03 -0.68  -0.01   1.13  -0.52  0.20  ...    \n",
      "S136  0.93  1.71  -0.06   -0.92  0.00 -0.95  -0.10  -0.03  -0.51  0.02  ...    \n",
      "S137  1.17  0.37  -0.49   -0.30 -0.13 -0.57   0.01   0.94  -0.77  0.01  ...    \n",
      "S138  1.36  0.92  -1.01     NaN  0.14 -0.89  -0.24   0.33  -0.71  0.33  ...    \n",
      "S139  1.67 -0.06  -0.20   -0.44 -0.17 -0.80   0.61   0.96  -0.03  0.57  ...    \n",
      "S140  2.43  2.39    NaN     NaN -0.53 -0.45  -0.06   0.60   0.44  0.26  ...    \n",
      "\n",
      "idx   ZSCAN31  ZSWIM8  ZW10  ZWILCH  ZWINT  ZXDC  ZYG11B   ZYX  ZZEF1  ZZZ3  \n",
      "S001    -0.20   -0.01  0.00    1.14    NaN  0.05   -0.61 -1.10  -0.17 -0.16  \n",
      "S002    -0.70   -0.04  0.35    1.10   1.06 -0.48   -0.09 -1.19  -0.05 -0.53  \n",
      "S003     0.19    0.12  0.08   -0.09    NaN  0.20   -0.08 -0.66   0.33 -0.73  \n",
      "S004    -0.20    0.11  0.00    0.15   0.11 -0.38   -0.13 -0.86  -0.04 -0.35  \n",
      "S005    -0.61   -0.16 -1.53   -0.54   0.92 -0.60    0.31 -1.93  -0.20  0.00  \n",
      "S006    -0.78    0.48  0.41   -1.01  -0.59  0.06   -0.39 -1.17  -0.13 -0.05  \n",
      "S007    -0.28    0.06  0.15    0.52   0.51 -0.45   -0.07 -0.63  -0.10  0.07  \n",
      "S008     0.05   -0.89  0.12    1.08   0.73  0.52    0.07 -0.68  -0.22  0.09  \n",
      "S009    -0.45    0.00 -1.45   -1.08  -1.39 -0.19   -0.36 -0.66   0.39 -0.53  \n",
      "S010      NaN    0.06  0.17   -0.12  -0.36 -0.31   -0.25  0.37   0.01  0.08  \n",
      "S011     0.65    0.09  0.48    0.37   0.06 -0.60   -0.03 -1.32   0.30 -1.14  \n",
      "S012    -1.62    0.21  0.04    1.34   0.68  0.42    0.15 -0.87  -0.04  2.41  \n",
      "S013    -1.08    0.16  0.44    0.63   0.00 -0.15   -0.11 -0.87   0.03 -0.32  \n",
      "S014    -0.11   -0.24  0.07    0.51   0.19  0.81   -0.06 -1.01  -0.30 -0.49  \n",
      "S015     0.10   -0.02  0.24    0.67   0.83  1.28   -0.32 -0.88  -0.48  0.13  \n",
      "S016    -0.28    0.16  0.43    0.22    NaN  0.67   -0.53 -1.52   0.22 -0.15  \n",
      "S017    -0.75    0.01  0.07    0.88    NaN  0.58   -0.39 -0.86  -0.08 -0.03  \n",
      "S018    -0.50    0.40  0.07    0.25  -0.23  0.14   -0.16 -0.95   0.02  0.02  \n",
      "S019    -0.21    0.23 -0.16   -0.30    NaN   NaN   -0.13  0.63   0.33 -0.19  \n",
      "S020     0.54   -0.40  0.30   -0.42  -0.97 -0.08   -0.48 -1.74  -0.25  0.02  \n",
      "S021    -0.39   -0.01  0.33    0.37   0.01  0.01   -0.21 -0.70   0.30 -0.08  \n",
      "S022    -0.13   -0.23  0.65    1.31   0.44  0.17   -0.09 -1.08  -0.12  0.14  \n",
      "S023    -0.18   -0.08  0.15    0.56   0.39 -0.17   -0.36 -0.95   0.07 -0.23  \n",
      "S024    -0.16    0.05  0.09   -0.05  -0.17 -0.40   -0.39 -0.82  -0.30 -0.21  \n",
      "S025     0.10    0.21  0.27    0.32    NaN -0.31    0.17  0.65   0.01  0.10  \n",
      "S026      NaN    0.07  0.19    0.43  -0.02 -1.08   -0.33 -0.83   0.03 -0.10  \n",
      "S027     0.21    0.03 -0.19   -0.19  -0.27  0.29    0.14  1.11  -0.04  0.29  \n",
      "S028      NaN    0.33  0.05   -1.27    NaN -0.46    0.11 -0.06   0.16 -0.23  \n",
      "S029    -0.61    0.23  0.21    0.88   0.73 -0.34   -0.11 -0.21  -0.05  1.52  \n",
      "S030     0.21    0.17  0.41    0.27   0.16  0.16    0.25 -0.77   0.05 -0.06  \n",
      "...       ...     ...   ...     ...    ...   ...     ...   ...    ...   ...  \n",
      "S111     0.14   -0.23 -0.42   -1.17    NaN  0.83    0.32  1.55  -0.07  0.35  \n",
      "S112     0.62   -0.27 -0.63   -1.11    NaN   NaN   -0.11  1.33  -0.36  0.10  \n",
      "S113     0.89    0.07 -0.46   -0.87  -1.02  0.78    0.28  1.36  -0.10  0.47  \n",
      "S114      NaN    0.01 -0.32   -1.28    NaN  0.33    0.26  1.19  -0.02  0.02  \n",
      "S115     0.34    0.01 -0.34   -1.15  -0.73  0.81    0.27  1.38  -0.12  0.28  \n",
      "S116     0.43    0.17 -0.31   -1.19  -0.65  0.77    0.67  1.50  -0.04  0.18  \n",
      "S117     0.46   -0.04 -0.52   -1.26  -0.93  0.66    0.55  1.72   0.02  0.22  \n",
      "S118     0.36   -0.01 -0.44   -0.21  -0.96 -0.10    0.25  1.30  -0.11  0.21  \n",
      "S119     0.58    0.11 -0.59   -0.45  -1.11  0.37    0.24  1.81   0.04 -0.01  \n",
      "S120    -0.30   -0.08 -0.34   -1.33    NaN   NaN    0.45  1.54  -0.10  0.16  \n",
      "S121     0.31   -0.10 -0.41   -1.36    NaN -0.22    0.03  1.72  -0.35  0.25  \n",
      "S122     0.34   -0.30 -0.25   -0.07   1.05 -0.01    0.16  0.47   0.16  0.23  \n",
      "S123     0.53   -0.12 -0.21   -2.40    NaN   NaN    0.11  0.62  -0.12  0.11  \n",
      "S124     0.43   -0.26 -0.37   -1.29  -0.08  1.09    0.14  0.91  -0.07  0.30  \n",
      "S125     0.82    0.00 -0.54   -0.99  -0.81  0.50    0.45  1.76  -0.19  0.23  \n",
      "S126    -0.13   -0.17  0.08   -0.14  -0.12  0.09   -0.08  0.85   0.08 -0.04  \n",
      "S127     0.09   -0.08 -0.40   -0.54  -1.36 -0.05   -0.07  1.74   0.16 -0.09  \n",
      "S128     1.34   -0.19 -1.65   -1.19  -1.52  0.47   -0.03  0.87  -0.08  0.09  \n",
      "S129    -0.75    0.37  0.00   -0.66  -0.83 -0.08   -0.29  0.66   0.22 -0.25  \n",
      "S130    -0.35   -0.09  0.02   -0.16  -0.16  0.28   -0.09  0.37   0.00  0.00  \n",
      "S131    -0.58   -0.04 -0.07   -0.80  -0.35  0.03    0.11  0.88   0.14  0.02  \n",
      "S132    -0.24   -0.07 -0.26   -1.36  -1.14 -0.39    0.00  0.70   0.11  0.07  \n",
      "S133    -0.24   -0.22 -0.43   -1.63  -1.51  0.08    0.03  0.36  -0.17  0.33  \n",
      "S134     0.75   -0.07 -1.86   -0.91  -1.25  0.19    0.02  0.38   0.01  0.21  \n",
      "S135     0.32   -0.47 -0.28   -0.71  -0.83  0.48    0.12  0.62  -0.21  0.60  \n",
      "S136     0.52   -0.26 -0.59   -1.25  -0.59  0.35    0.17  1.32  -0.06  0.04  \n",
      "S137      NaN    0.06 -0.66    0.19    NaN  0.40    0.20  1.63  -0.02  0.58  \n",
      "S138     0.28   -0.04 -0.33   -0.53  -0.76  0.06    0.11  1.03  -0.03  0.18  \n",
      "S139      NaN    0.10 -0.33   -0.47   0.19  0.55    0.48  2.15   0.15  0.15  \n",
      "S140     0.22    0.42 -0.19    0.01  -0.86 -0.30    0.48  1.84   0.17 -0.51  \n",
      "\n",
      "[140 rows x 9585 columns] --------\n"
     ]
    }
   ],
   "source": [
    "somatic = CPTAC.get_somatic()\n",
    "proteomics = CPTAC.get_proteomics()\n",
    "phos = CPTAC.get_phosphoproteomics()\n",
    "gene = 'PIK3CA'\n",
    "protein = 'PIK3CA'\n",
    "\n",
    "#print(somatic)\n",
    "print proteomics, \"--------\"\n",
    "\n",
    "#print phos"
   ]
  },
  {
   "cell_type": "code",
   "execution_count": 75,
   "metadata": {},
   "outputs": [
    {
     "name": "stdout",
     "output_type": "stream",
     "text": [
      "      Patient_Id    Gene           Mutation        Location  \\\n",
      "4      C3L-00032  PIK3CA  Missense_Mutation         p.E545K   \n",
      "1615   C3L-00947  PIK3CA  Missense_Mutation         p.E545K   \n",
      "3114   C3L-01304  PIK3CA    Frame_Shift_Ins    p.N1068Kfs*5   \n",
      "3689   C3L-01311  PIK3CA  Missense_Mutation          p.R88Q   \n",
      "5564   C3N-00337  PIK3CA  Missense_Mutation          p.R38S   \n",
      "5565   C3N-00337  PIK3CA       In_Frame_Del  p.E103_V105del   \n",
      "5624   C3N-00383  PIK3CA  Missense_Mutation        p.H1047R   \n",
      "6698   C3N-00858  PIK3CA  Missense_Mutation        p.M1043V   \n",
      "6839   C3N-01001  PIK3CA  Missense_Mutation         p.E453K   \n",
      "7327   C3L-00006  PIK3CA  Missense_Mutation         p.E545K   \n",
      "8120   C3L-00362  PIK3CA  Missense_Mutation        p.H1047R   \n",
      "10526  C3L-00586  PIK3CA  Missense_Mutation          p.F83S   \n",
      "10527  C3L-00586  PIK3CA  Missense_Mutation          p.R88Q   \n",
      "19465  C3L-00601  PIK3CA  Missense_Mutation         p.E545K   \n",
      "22212  C3L-00918  PIK3CA  Missense_Mutation         p.E545A   \n",
      "22636  C3L-00961  PIK3CA  Missense_Mutation          p.R88Q   \n",
      "22637  C3L-00961  PIK3CA  Missense_Mutation        p.Y1021H   \n",
      "23282  C3N-00323  PIK3CA  Missense_Mutation         p.E545K   \n",
      "23330  C3N-00326  PIK3CA       In_Frame_Del  p.P449_L452del   \n",
      "23356  C3N-00333  PIK3CA  Missense_Mutation         p.E545K   \n",
      "25369  C3L-00139  PIK3CA  Missense_Mutation         p.Q546P   \n",
      "25510  C3L-00563  PIK3CA  Missense_Mutation         p.E545V   \n",
      "25567  C3L-00605  PIK3CA  Missense_Mutation         p.E545K   \n",
      "25891  C3L-00770  PIK3CA  Missense_Mutation          p.R93W   \n",
      "25892  C3L-00770  PIK3CA  Missense_Mutation        p.N1044K   \n",
      "26567  C3L-00771  PIK3CA  Missense_Mutation        p.M1043L   \n",
      "26644  C3L-00905  PIK3CA  Missense_Mutation         p.K111E   \n",
      "26695  C3L-01247  PIK3CA  Missense_Mutation          p.F83S   \n",
      "28828  C3N-00200  PIK3CA  Missense_Mutation         p.N467K   \n",
      "29068  C3N-00321  PIK3CA  Missense_Mutation         p.E542K   \n",
      "29811  C3N-00324  PIK3CA  Missense_Mutation        p.H1047R   \n",
      "31071  C3N-00328  PIK3CA  Missense_Mutation          p.E81K   \n",
      "31072  C3N-00328  PIK3CA  Missense_Mutation         p.E542K   \n",
      "34883  C3N-00379  PIK3CA       In_Frame_Del       p.E110del   \n",
      "35377  C3N-00880  PIK3CA  Missense_Mutation         p.Q546R   \n",
      "35930  C3N-01003  PIK3CA  Missense_Mutation         p.E542K   \n",
      "36868  C3N-01267  PIK3CA  Missense_Mutation         p.E453K   \n",
      "37558  C3N-01520  PIK3CA  Missense_Mutation         p.E726K   \n",
      "39759  C3N-01825  PIK3CA  Missense_Mutation         p.K111E   \n",
      "41123  C3L-00156  PIK3CA  Missense_Mutation         p.L628R   \n",
      "41124  C3L-00156  PIK3CA  Missense_Mutation        p.T1025A   \n",
      "42354  C3L-00161  PIK3CA  Missense_Mutation          p.R38C   \n",
      "44158  C3L-00921  PIK3CA  Missense_Mutation         p.E542K   \n",
      "52323  C3N-00334  PIK3CA  Missense_Mutation         p.Q546R   \n",
      "53122  C3N-00388  PIK3CA  Missense_Mutation          p.R88Q   \n",
      "53508  C3N-00848  PIK3CA  Missense_Mutation         p.Q546P   \n",
      "53637  C3N-01510  PIK3CA  Missense_Mutation         p.E545K   \n",
      "54051  C3N-01346  PIK3CA  Missense_Mutation         p.V344G   \n",
      "54102  C3N-01349  PIK3CA  Missense_Mutation          p.R93Q   \n",
      "54103  C3N-01349  PIK3CA  Missense_Mutation         p.E545K   \n",
      "\n",
      "      Clinical_Patient_Key  \n",
      "4                     S003  \n",
      "1615                  S037  \n",
      "3114                  S051  \n",
      "3689                  S053  \n",
      "5564                  S068  \n",
      "5565                  S068  \n",
      "5624                  S073  \n",
      "6698                  S084  \n",
      "6839                    NA  \n",
      "7327                  S001  \n",
      "8120                  S017  \n",
      "10526                 S021  \n",
      "10527                 S021  \n",
      "19465                 S022  \n",
      "22212                 S031  \n",
      "22636                 S039  \n",
      "22637                 S039  \n",
      "23282                 S061  \n",
      "23330                 S063  \n",
      "23356                 S065  \n",
      "25369                 S008  \n",
      "25510                 S020  \n",
      "25567                 S023  \n",
      "25891                 S026  \n",
      "25892                 S026  \n",
      "26567                 S027  \n",
      "26644                 S030  \n",
      "26695                 S042  \n",
      "28828                 S058  \n",
      "29068                 S059  \n",
      "29811                 S062  \n",
      "31071                 S064  \n",
      "31072                 S064  \n",
      "34883                 S072  \n",
      "35377                 S086  \n",
      "35930                 S087  \n",
      "36868                 S092  \n",
      "37558                 S096  \n",
      "39759                 S100  \n",
      "41123                 S011  \n",
      "41124                 S011  \n",
      "42354                 S013  \n",
      "44158                 S032  \n",
      "52323                 S066  \n",
      "53122                 S075  \n",
      "53508                 S082  \n",
      "53637                 S095  \n",
      "54051                 S093  \n",
      "54102                 S094  \n",
      "54103                 S094  \n"
     ]
    }
   ],
   "source": [
    "print(somatic.loc[(somatic['Gene'] == gene)])"
   ]
  },
  {
   "cell_type": "code",
   "execution_count": 76,
   "metadata": {},
   "outputs": [],
   "source": [
    "#A list of mutations present in the hotspot according to our Hotspot3D output\n",
    "hotspot_mutations = ['p.E545A', 'p.E545K', 'p.E545V', 'p.Q546P', 'p.Q546R', 'p.E542K']\n",
    "mutated_hotspot = somatic.loc[(somatic['Location'].isin(hotspot_mutations)) & (somatic['Gene'] == gene)]\n",
    "hotspot_patients = mutated_hotspot['Clinical_Patient_Key']"
   ]
  },
  {
   "cell_type": "code",
   "execution_count": 77,
   "metadata": {},
   "outputs": [
    {
     "name": "stdout",
     "output_type": "stream",
     "text": [
      "19\n"
     ]
    }
   ],
   "source": [
    "print(len(mutated_hotspot))"
   ]
  },
  {
   "cell_type": "markdown",
   "metadata": {},
   "source": [
    "# Phosphoproteomic Abundance"
   ]
  },
  {
   "cell_type": "code",
   "execution_count": 78,
   "metadata": {},
   "outputs": [],
   "source": [
    "p10_mutations = CPTAC.compare_mutations(proteomics, protein, gene)\n",
    "p10_mutations['Within_Hotspot'] = False\n",
    "p10_mutations.loc[hotspot_patients, 'Within_Hotspot'] = True\n",
    "p10_mutations.loc[p10_mutations['Mutation'] == 'Wildtype', 'Within_Hotspot'] = 'Wildtype'\n",
    "p10_mutations = p10_mutations.loc[p10_mutations['Patient_Type'] == 'Tumor'].dropna(axis=0)"
   ]
  },
  {
   "cell_type": "markdown",
   "metadata": {},
   "source": [
    "## Patients with mutation and patients with mutation in the hotspot"
   ]
  },
  {
   "cell_type": "code",
   "execution_count": 79,
   "metadata": {},
   "outputs": [
    {
     "name": "stdout",
     "output_type": "stream",
     "text": [
      "42\n",
      "19\n"
     ]
    }
   ],
   "source": [
    "print(len(p10_mutations.loc[p10_mutations['Within_Hotspot'] != 'Wildtype']))\n",
    "print(len(p10_mutations.loc[p10_mutations['Within_Hotspot'] == True]))"
   ]
  },
  {
   "cell_type": "markdown",
   "metadata": {},
   "source": [
    "## Hotspot mutation vs non-hotspot mutation"
   ]
  },
  {
   "cell_type": "code",
   "execution_count": 80,
   "metadata": {},
   "outputs": [
    {
     "name": "stdout",
     "output_type": "stream",
     "text": [
      "Ttest_indResult(statistic=-1.0551228306729392, pvalue=0.2977007205479019)\n"
     ]
    }
   ],
   "source": [
    "in_hotspot = p10_mutations.loc[p10_mutations['Within_Hotspot'] == True]\n",
    "out_hotspot = p10_mutations.loc[p10_mutations['Within_Hotspot'] == False]\n",
    "ttest = scipy.stats.ttest_ind(in_hotspot[protein], out_hotspot[protein])\n",
    "print(ttest)"
   ]
  },
  {
   "cell_type": "markdown",
   "metadata": {},
   "source": [
    "## Hotspot mutation vs other mutations and wildtype"
   ]
  },
  {
   "cell_type": "code",
   "execution_count": 81,
   "metadata": {},
   "outputs": [
    {
     "name": "stdout",
     "output_type": "stream",
     "text": [
      "Ttest_indResult(statistic=-2.276385531124315, pvalue=0.02499852654976874)\n"
     ]
    }
   ],
   "source": [
    "mutated = p10_mutations.loc[p10_mutations['Within_Hotspot'] == True]\n",
    "wt = p10_mutations.loc[p10_mutations['Within_Hotspot'] != True]\n",
    "ttest = scipy.stats.ttest_ind(mutated[protein], wt[protein])\n",
    "print(ttest)"
   ]
  },
  {
   "cell_type": "markdown",
   "metadata": {},
   "source": [
    "## All mutations vs wildtype"
   ]
  },
  {
   "cell_type": "code",
   "execution_count": 82,
   "metadata": {},
   "outputs": [
    {
     "name": "stdout",
     "output_type": "stream",
     "text": [
      "Ttest_indResult(statistic=-2.3709474235794348, pvalue=0.019698800138688424)\n"
     ]
    }
   ],
   "source": [
    "mutated = p10_mutations.loc[p10_mutations['Within_Hotspot'] != 'Wildtype']\n",
    "wt = p10_mutations.loc[p10_mutations['Within_Hotspot'] == 'Wildtype']\n",
    "ttest = scipy.stats.ttest_ind(mutated[protein], wt[protein])\n",
    "print(ttest)"
   ]
  },
  {
   "cell_type": "markdown",
   "metadata": {},
   "source": [
    "## Hotspot mutation v wildtype"
   ]
  },
  {
   "cell_type": "code",
   "execution_count": 83,
   "metadata": {},
   "outputs": [
    {
     "name": "stdout",
     "output_type": "stream",
     "text": [
      "Ttest_indResult(statistic=-2.7528037604409175, pvalue=0.0074071044313519544)\n"
     ]
    }
   ],
   "source": [
    "mutated = p10_mutations.loc[p10_mutations['Within_Hotspot'] == True]\n",
    "wt = p10_mutations.loc[p10_mutations['Within_Hotspot'] == 'Wildtype']\n",
    "ttest = scipy.stats.ttest_ind(mutated[protein], wt[protein])\n",
    "print(ttest)"
   ]
  },
  {
   "cell_type": "code",
   "execution_count": 84,
   "metadata": {},
   "outputs": [
    {
     "data": {
      "image/png": "[encoded data removed]",
      "text/plain": [
       "<Figure size 842.4x595.44 with 1 Axes>"
      ]
     },
     "metadata": {
      "needs_background": "light"
     },
     "output_type": "display_data"
    }
   ],
   "source": [
    "a4_dims = (11.7, 8.27)\n",
    "fig, ax = plt.subplots(figsize = a4_dims)\n",
    "boxplt = sns.boxplot(data = p10_mutations, x = 'Within_Hotspot', y = protein, ax = ax)\n",
    "boxplt = sns.stripplot(data = p10_mutations, x = 'Within_Hotspot', y = protein, jitter = True, color = '.3')\n",
    "boxplt.set_title('Mutation location effect on PIK3CA abundance', fontsize='25')\n",
    "boxplt.set_xlabel('Mutation Within Hotspot', fontsize='20')\n",
    "boxplt.set_ylabel('Protein Level', fontsize='20')\n",
    "plt.show()"
   ]
  },
  {
   "cell_type": "markdown",
   "metadata": {},
   "source": [
    "# Phosphoproteomic Abundance"
   ]
  },
  {
   "cell_type": "code",
   "execution_count": 85,
   "metadata": {},
   "outputs": [],
   "source": [
    "p10_mutations = CPTAC.compare_mutations(phos, protein, gene)\n",
    "p10_mutations['Within_Hotspot'] = False\n",
    "p10_mutations.loc[hotspot_patients, 'Within_Hotspot'] = True\n",
    "p10_mutations.loc[p10_mutations['Mutation'] == 'Wildtype', 'Within_Hotspot'] = 'Wildtype'\n",
    "p10_mutations = p10_mutations.loc[p10_mutations['Patient_Type'] == 'Tumor'].dropna(axis=0)"
   ]
  },
  {
   "cell_type": "markdown",
   "metadata": {},
   "source": [
    "## Hotspot mutation vs non-hotspot mutation"
   ]
  },
  {
   "cell_type": "code",
   "execution_count": 86,
   "metadata": {},
   "outputs": [
    {
     "name": "stdout",
     "output_type": "stream",
     "text": [
      "Ttest_indResult(statistic=0.6011288158583877, pvalue=0.569751875874764)\n",
      "Ttest_indResult(statistic=-1.2062701350767784, pvalue=0.2731145388571341)\n"
     ]
    }
   ],
   "source": [
    "mutated = p10_mutations.loc[p10_mutations['Within_Hotspot'] == True]\n",
    "wt = p10_mutations.loc[p10_mutations['Within_Hotspot'] == False]\n",
    "phos_sites = ['PIK3CA-S312', 'PIK3CA-T313']\n",
    "for site in phos_sites:\n",
    "    ttest = scipy.stats.ttest_ind(mutated[site], wt[site])\n",
    "    print(ttest)"
   ]
  },
  {
   "cell_type": "markdown",
   "metadata": {},
   "source": [
    "## Hotspot mutation vs other mutations and wildtype"
   ]
  },
  {
   "cell_type": "code",
   "execution_count": 87,
   "metadata": {},
   "outputs": [
    {
     "name": "stdout",
     "output_type": "stream",
     "text": [
      "Ttest_indResult(statistic=-0.4465345522018853, pvalue=0.6611956862166855)\n",
      "Ttest_indResult(statistic=-2.682534083189739, pvalue=0.016346013548157515)\n"
     ]
    }
   ],
   "source": [
    "mutated = p10_mutations.loc[p10_mutations['Within_Hotspot'] == True]\n",
    "wt = p10_mutations.loc[p10_mutations['Within_Hotspot'] != True]\n",
    "phos_sites = ['PIK3CA-S312', 'PIK3CA-T313']\n",
    "for site in phos_sites:\n",
    "    ttest = scipy.stats.ttest_ind(mutated[site], wt[site])\n",
    "    print(ttest)"
   ]
  },
  {
   "cell_type": "markdown",
   "metadata": {},
   "source": [
    "## All mutations vs wildtype"
   ]
  },
  {
   "cell_type": "code",
   "execution_count": 88,
   "metadata": {},
   "outputs": [
    {
     "name": "stdout",
     "output_type": "stream",
     "text": [
      "Ttest_indResult(statistic=-2.097248963588519, pvalue=0.05221413286458461)\n",
      "Ttest_indResult(statistic=-2.6363611609994835, pvalue=0.0179617573755326)\n"
     ]
    }
   ],
   "source": [
    "mutated = p10_mutations.loc[p10_mutations['Within_Hotspot'] != 'Wildtype']\n",
    "wt = p10_mutations.loc[p10_mutations['Within_Hotspot'] == 'Wildtype']\n",
    "for site in phos_sites:\n",
    "    ttest = scipy.stats.ttest_ind(mutated[site], wt[site])\n",
    "    print(ttest)"
   ]
  },
  {
   "cell_type": "markdown",
   "metadata": {},
   "source": [
    "## Hotspot mutation v wildtype"
   ]
  },
  {
   "cell_type": "code",
   "execution_count": 89,
   "metadata": {},
   "outputs": [
    {
     "name": "stdout",
     "output_type": "stream",
     "text": [
      "Ttest_indResult(statistic=-1.106541217879592, pvalue=0.29210432413126164)\n",
      "Ttest_indResult(statistic=-3.7830268553444455, pvalue=0.0030311283738734484)\n"
     ]
    }
   ],
   "source": [
    "mutated = p10_mutations.loc[p10_mutations['Within_Hotspot'] == True]\n",
    "wt = p10_mutations.loc[p10_mutations['Within_Hotspot'] == 'Wildtype']\n",
    "for site in phos_sites:\n",
    "    ttest = scipy.stats.ttest_ind(mutated[site], wt[site])\n",
    "    print(ttest)"
   ]
  },
  {
   "cell_type": "code",
   "execution_count": 90,
   "metadata": {},
   "outputs": [
    {
     "data": {
      "image/png": "[encoded data removed]",
      "text/plain": [
       "<Figure size 842.4x595.44 with 1 Axes>"
      ]
     },
     "metadata": {
      "needs_background": "light"
     },
     "output_type": "display_data"
    }
   ],
   "source": [
    "a4_dims = (11.7, 8.27)\n",
    "fig, ax = plt.subplots(figsize = a4_dims)\n",
    "boxplt = sns.boxplot(data = p10_mutations, x = 'Within_Hotspot', y = 'PIK3CA-T313', ax = ax)\n",
    "boxplt = sns.stripplot(data = p10_mutations, x = 'Within_Hotspot', y = 'PIK3CA-T313', jitter = True, color = '.3')\n",
    "boxplt.set_title('Mutation location effect on PIK3CA phosphoproteomic abundance', fontsize='25')\n",
    "boxplt.set_xlabel('Mutation Within Hotspot', fontsize='20')\n",
    "boxplt.set_ylabel('Protein Level', fontsize='20')\n",
    "plt.show()"
   ]
  },
  {
   "cell_type": "code",
   "execution_count": null,
   "metadata": {},
   "outputs": [],
   "source": []
  }
 ],
 "metadata": {
  "kernelspec": {
   "display_name": "Python 2",
   "language": "python",
   "name": "python2"
  },
  "language_info": {
   "codemirror_mode": {
    "name": "ipython",
    "version": 2
   },
   "file_extension": ".py",
   "mimetype": "text/x-python",
   "name": "python",
   "nbconvert_exporter": "python",
   "pygments_lexer": "ipython2",
   "version": "2.7.15"
  }
 },
 "nbformat": 4,
 "nbformat_minor": 2
}
